{
 "cells": [
  {
   "cell_type": "code",
   "execution_count": 7,
   "metadata": {
    "slideshow": {
     "slide_type": "skip"
    }
   },
   "outputs": [
    {
     "data": {
      "text/plain": [
       "{'width': 1500, 'height': 700, 'scroll': True}"
      ]
     },
     "execution_count": 7,
     "metadata": {},
     "output_type": "execute_result"
    }
   ],
   "source": [
    "from datascience import *\n",
    "import numpy as np\n",
    "import matplotlib.pyplot as plt\n",
    "%matplotlib inline\n",
    "\n",
    "from notebook.services.config import ConfigManager\n",
    "\n",
    "cm = ConfigManager()\n",
    "cm.update(\n",
    "   \"livereveal\", {\n",
    "       'width': 1500,\n",
    "       'height': 700,\n",
    "       \"scroll\": True,\n",
    "})"
   ]
  },
  {
   "cell_type": "markdown",
   "metadata": {
    "slideshow": {
     "slide_type": "slide"
    }
   },
   "source": [
    "# DSC 10 Discussion: Week 6\n",
    "---\n",
    "Kyle Vigil"
   ]
  },
  {
   "cell_type": "markdown",
   "metadata": {
    "slideshow": {
     "slide_type": "slide"
    }
   },
   "source": [
    "# Probability\n",
    "---"
   ]
  },
  {
   "cell_type": "markdown",
   "metadata": {
    "slideshow": {
     "slide_type": "subslide"
    }
   },
   "source": [
    "## Q: What is a measure of probability?\n",
    "---"
   ]
  },
  {
   "cell_type": "markdown",
   "metadata": {
    "slideshow": {
     "slide_type": "fragment"
    }
   },
   "source": [
    "A: Measure of the likelihood an event is going to occur out of the number of possible events."
   ]
  },
  {
   "cell_type": "markdown",
   "metadata": {
    "slideshow": {
     "slide_type": "fragment"
    }
   },
   "source": [
    "## Q: In general, how do we find a probability for equally likely events?\n",
    "---"
   ]
  },
  {
   "cell_type": "markdown",
   "metadata": {
    "slideshow": {
     "slide_type": "fragment"
    }
   },
   "source": [
    "A: If there can only be one event that can occur (mutually exclusive) out of the possible outcomes at a given time and all outcomes are equally likely, you can divide the number of outcomes that represent your event by the total number of possible outcomes"
   ]
  },
  {
   "cell_type": "markdown",
   "metadata": {
    "slideshow": {
     "slide_type": "subslide"
    }
   },
   "source": [
    "## Q: How do we calculate probability via experimentation or simulation?\n",
    "---"
   ]
  },
  {
   "cell_type": "markdown",
   "metadata": {
    "slideshow": {
     "slide_type": "fragment"
    }
   },
   "source": [
    "A: Number of outcomes that represent your event that occurred in your sample divided by total outcomes of the sample"
   ]
  },
  {
   "cell_type": "markdown",
   "metadata": {
    "slideshow": {
     "slide_type": "slide"
    }
   },
   "source": [
    "# Time for some math :)\n",
    "---\n",
    "\n",
    "Let's look, just a bit, into the math behind probabilities."
   ]
  },
  {
   "cell_type": "code",
   "execution_count": 216,
   "metadata": {
    "slideshow": {
     "slide_type": "subslide"
    }
   },
   "outputs": [
    {
     "data": {
      "text/plain": [
       "0.16000000000000003"
      ]
     },
     "execution_count": 216,
     "metadata": {},
     "output_type": "execute_result"
    }
   ],
   "source": [
    "# If P(Rain) = 0.4 probability that it is raining for the day, \n",
    "# what is P(Rain For Two Days)?\n",
    "# are these independent\n",
    "\n",
    "p_rain = 0.4\n",
    "p_rain_twice = 0.4*0.4\n",
    "\n",
    "p_rain_twice"
   ]
  },
  {
   "cell_type": "code",
   "execution_count": 217,
   "metadata": {
    "slideshow": {
     "slide_type": "subslide"
    }
   },
   "outputs": [
    {
     "data": {
      "text/plain": [
       "0.08000000000000002"
      ]
     },
     "execution_count": 217,
     "metadata": {},
     "output_type": "execute_result"
    }
   ],
   "source": [
    "# If P(Rain) = 0.4, P(Win the Lottery) = 0.2\n",
    "# is this independent?\n",
    "# what is P(Rain and then Win the Lottery)?\n",
    "\n",
    "p_lottery = 0.2\n",
    "p_rain_lottery = 0.4*0.2\n",
    "p_rain_lottery"
   ]
  },
  {
   "cell_type": "code",
   "execution_count": 218,
   "metadata": {
    "slideshow": {
     "slide_type": "fragment"
    }
   },
   "outputs": [
    {
     "data": {
      "text/plain": [
       "0.08000000000000002"
      ]
     },
     "execution_count": 218,
     "metadata": {},
     "output_type": "execute_result"
    }
   ],
   "source": [
    "# What about P(Win the Lottery and then Rain)?\n",
    "\n",
    "p_lottery_rain = 0.2*0.4\n",
    "p_lottery_rain"
   ]
  },
  {
   "cell_type": "code",
   "execution_count": 219,
   "metadata": {
    "slideshow": {
     "slide_type": "subslide"
    }
   },
   "outputs": [
    {
     "data": {
      "text/plain": [
       "0.5"
      ]
     },
     "execution_count": 219,
     "metadata": {},
     "output_type": "execute_result"
    }
   ],
   "source": [
    "# Finally, if our outcome can either be Rain, Sun, or Snow and P(Sun) = 0.1\n",
    "# then what must P(Snow) equal?\n",
    "\n",
    "p_snow = 1-0.4-0.1\n",
    "\n",
    "p_snow"
   ]
  },
  {
   "cell_type": "markdown",
   "metadata": {
    "slideshow": {
     "slide_type": "subslide"
    }
   },
   "source": [
    "# Let's *make* a dataset!\n",
    "---\n",
    "\n",
    "In tonight's discussion we'll be creating our datasets instead of downloading them!\n",
    "\n",
    "We'll be coming up with games and creating the rules, and then simulating matches to generate a dataset."
   ]
  },
  {
   "cell_type": "markdown",
   "metadata": {
    "slideshow": {
     "slide_type": "fragment"
    }
   },
   "source": [
    "### We'll cover more later, but first let's create a game and a dataset to go with it.\n",
    "\n",
    " GAME: You roll a die and flip a coin. Score equals: roll * 1 if heads or roll * 2 if tails."
   ]
  },
  {
   "cell_type": "markdown",
   "metadata": {
    "slideshow": {
     "slide_type": "subslide"
    }
   },
   "source": [
    "## Let's create a dataset that contains every possible outcome\n",
    "### Q: Why is this helpful?"
   ]
  },
  {
   "cell_type": "markdown",
   "metadata": {
    "slideshow": {
     "slide_type": "fragment"
    }
   },
   "source": [
    "```\n",
    "A: We can use this to calculate the probability of each outcome!\n",
    "```"
   ]
  },
  {
   "cell_type": "code",
   "execution_count": 220,
   "metadata": {
    "slideshow": {
     "slide_type": "subslide"
    }
   },
   "outputs": [
    {
     "data": {
      "text/html": [
       "<table border=\"1\" class=\"dataframe\">\n",
       "    <thead>\n",
       "        <tr>\n",
       "            <th>Roll</th> <th>Flip</th> <th>Score</th>\n",
       "        </tr>\n",
       "    </thead>\n",
       "    <tbody>\n",
       "    </tbody>\n",
       "</table>"
      ],
      "text/plain": [
       "Roll | Flip | Score"
      ]
     },
     "execution_count": 220,
     "metadata": {},
     "output_type": "execute_result"
    }
   ],
   "source": [
    "Table().with_columns(\n",
    "    \"Roll\", [],\n",
    "    \"Flip\", [],\n",
    "    \"Score\", []\n",
    ")"
   ]
  },
  {
   "cell_type": "markdown",
   "metadata": {
    "slideshow": {
     "slide_type": "subslide"
    }
   },
   "source": [
    "## Q: How many different rows will we have in our final table? (AKA how many different outcomes are there?)"
   ]
  },
  {
   "cell_type": "markdown",
   "metadata": {
    "slideshow": {
     "slide_type": "fragment"
    }
   },
   "source": [
    "A: 6 (different dice rolls) * 2 (different coin flips) = 12 possible outcomes"
   ]
  },
  {
   "cell_type": "markdown",
   "metadata": {
    "slideshow": {
     "slide_type": "subslide"
    }
   },
   "source": [
    "## What logic should we use to populate our columns?\n",
    "\n",
    "- Use loops to create the roll and flip columns\n",
    "- calculate the score column afterwards"
   ]
  },
  {
   "cell_type": "code",
   "execution_count": 222,
   "metadata": {
    "slideshow": {
     "slide_type": "fragment"
    }
   },
   "outputs": [],
   "source": [
    "rolls = make_array()\n",
    "flips = make_array()\n",
    "\n",
    "# Every possible roll of a die\n",
    "for roll in np.arange(1, 7):\n",
    "    # Every possible flip of a coin\n",
    "    for flip in np.arange(2):\n",
    "        rolls = np.append(rolls, roll)\n",
    "        flips = np.append(flips, flip)"
   ]
  },
  {
   "cell_type": "code",
   "execution_count": 9,
   "metadata": {
    "slideshow": {
     "slide_type": "fragment"
    }
   },
   "outputs": [
    {
     "data": {
      "text/plain": [
       "array([1., 1., 2., 2., 3., 3., 4., 4., 5., 5., 6., 6.])"
      ]
     },
     "execution_count": 9,
     "metadata": {},
     "output_type": "execute_result"
    }
   ],
   "source": [
    "rolls"
   ]
  },
  {
   "cell_type": "code",
   "execution_count": 10,
   "metadata": {
    "slideshow": {
     "slide_type": "fragment"
    }
   },
   "outputs": [
    {
     "data": {
      "text/plain": [
       "array([0., 1., 0., 1., 0., 1., 0., 1., 0., 1., 0., 1.])"
      ]
     },
     "execution_count": 10,
     "metadata": {},
     "output_type": "execute_result"
    }
   ],
   "source": [
    "flips"
   ]
  },
  {
   "cell_type": "code",
   "execution_count": 223,
   "metadata": {
    "slideshow": {
     "slide_type": "subslide"
    }
   },
   "outputs": [
    {
     "data": {
      "text/html": [
       "<table border=\"1\" class=\"dataframe\">\n",
       "    <thead>\n",
       "        <tr>\n",
       "            <th>Roll</th> <th>Flip</th>\n",
       "        </tr>\n",
       "    </thead>\n",
       "    <tbody>\n",
       "        <tr>\n",
       "            <td>1   </td> <td>0   </td>\n",
       "        </tr>\n",
       "        <tr>\n",
       "            <td>1   </td> <td>1   </td>\n",
       "        </tr>\n",
       "        <tr>\n",
       "            <td>2   </td> <td>0   </td>\n",
       "        </tr>\n",
       "        <tr>\n",
       "            <td>2   </td> <td>1   </td>\n",
       "        </tr>\n",
       "        <tr>\n",
       "            <td>3   </td> <td>0   </td>\n",
       "        </tr>\n",
       "        <tr>\n",
       "            <td>3   </td> <td>1   </td>\n",
       "        </tr>\n",
       "        <tr>\n",
       "            <td>4   </td> <td>0   </td>\n",
       "        </tr>\n",
       "        <tr>\n",
       "            <td>4   </td> <td>1   </td>\n",
       "        </tr>\n",
       "        <tr>\n",
       "            <td>5   </td> <td>0   </td>\n",
       "        </tr>\n",
       "        <tr>\n",
       "            <td>5   </td> <td>1   </td>\n",
       "        </tr>\n",
       "    </tbody>\n",
       "</table>\n",
       "<p>... (2 rows omitted)</p>"
      ],
      "text/plain": [
       "Roll | Flip\n",
       "1    | 0\n",
       "1    | 1\n",
       "2    | 0\n",
       "2    | 1\n",
       "3    | 0\n",
       "3    | 1\n",
       "4    | 0\n",
       "4    | 1\n",
       "5    | 0\n",
       "5    | 1\n",
       "... (2 rows omitted)"
      ]
     },
     "execution_count": 223,
     "metadata": {},
     "output_type": "execute_result"
    }
   ],
   "source": [
    "possibilities = Table().with_columns(\n",
    "    \"Roll\", rolls,\n",
    "    \"Flip\", flips\n",
    ")\n",
    "possibilities"
   ]
  },
  {
   "cell_type": "markdown",
   "metadata": {
    "slideshow": {
     "slide_type": "subslide"
    }
   },
   "source": [
    "## Now we should add the \"Score\" column,\n",
    "### Q: How do we do this?\n",
    "Rules reminder: You roll a die and flip a coin. Score equals: roll * 1 if heads or roll * 2 if tails."
   ]
  },
  {
   "cell_type": "code",
   "execution_count": 225,
   "metadata": {
    "slideshow": {
     "slide_type": "fragment"
    }
   },
   "outputs": [],
   "source": [
    "def score(roll, flip):\n",
    "    if flip == 1:\n",
    "        return roll*2\n",
    "    else:\n",
    "        return roll\n",
    "    \n",
    "#     return roll * (flip + 1)"
   ]
  },
  {
   "cell_type": "code",
   "execution_count": 227,
   "metadata": {
    "slideshow": {
     "slide_type": "subslide"
    }
   },
   "outputs": [
    {
     "data": {
      "text/html": [
       "<table border=\"1\" class=\"dataframe\">\n",
       "    <thead>\n",
       "        <tr>\n",
       "            <th>Roll</th> <th>Flip</th> <th>Score</th>\n",
       "        </tr>\n",
       "    </thead>\n",
       "    <tbody>\n",
       "        <tr>\n",
       "            <td>1   </td> <td>0   </td> <td>1    </td>\n",
       "        </tr>\n",
       "        <tr>\n",
       "            <td>1   </td> <td>1   </td> <td>2    </td>\n",
       "        </tr>\n",
       "        <tr>\n",
       "            <td>2   </td> <td>0   </td> <td>2    </td>\n",
       "        </tr>\n",
       "        <tr>\n",
       "            <td>2   </td> <td>1   </td> <td>4    </td>\n",
       "        </tr>\n",
       "        <tr>\n",
       "            <td>3   </td> <td>0   </td> <td>3    </td>\n",
       "        </tr>\n",
       "        <tr>\n",
       "            <td>3   </td> <td>1   </td> <td>6    </td>\n",
       "        </tr>\n",
       "        <tr>\n",
       "            <td>4   </td> <td>0   </td> <td>4    </td>\n",
       "        </tr>\n",
       "        <tr>\n",
       "            <td>4   </td> <td>1   </td> <td>8    </td>\n",
       "        </tr>\n",
       "        <tr>\n",
       "            <td>5   </td> <td>0   </td> <td>5    </td>\n",
       "        </tr>\n",
       "        <tr>\n",
       "            <td>5   </td> <td>1   </td> <td>10   </td>\n",
       "        </tr>\n",
       "    </tbody>\n",
       "</table>\n",
       "<p>... (2 rows omitted)</p>"
      ],
      "text/plain": [
       "Roll | Flip | Score\n",
       "1    | 0    | 1\n",
       "1    | 1    | 2\n",
       "2    | 0    | 2\n",
       "2    | 1    | 4\n",
       "3    | 0    | 3\n",
       "3    | 1    | 6\n",
       "4    | 0    | 4\n",
       "4    | 1    | 8\n",
       "5    | 0    | 5\n",
       "5    | 1    | 10\n",
       "... (2 rows omitted)"
      ]
     },
     "execution_count": 227,
     "metadata": {},
     "output_type": "execute_result"
    }
   ],
   "source": [
    "possibilities = possibilities.with_column(\n",
    "    \"Score\", possibilities.apply(score, \"Roll\",\"Flip\")\n",
    ")\n",
    "possibilities"
   ]
  },
  {
   "cell_type": "markdown",
   "metadata": {
    "slideshow": {
     "slide_type": "slide"
    }
   },
   "source": [
    "# Let's look at the distribution of scores\n",
    "---\n",
    "\n",
    "We want to figure out the exact probability of all possible sums of the game are, based on all possible rolls and flips."
   ]
  },
  {
   "cell_type": "code",
   "execution_count": 205,
   "metadata": {
    "slideshow": {
     "slide_type": "fragment"
    }
   },
   "outputs": [
    {
     "data": {
      "image/png": "[encoded data removed]",
      "text/plain": [
       "<Figure size 432x288 with 1 Axes>"
      ]
     },
     "metadata": {
      "needs_background": "light"
     },
     "output_type": "display_data"
    }
   ],
   "source": [
    "# Let's make the bins of this histogram go from min to max ;) \n",
    "possibilities.hist(\n",
    "    \"Score\",\n",
    "    bins = np.arange(\n",
    "        min(possibilities.column(\"Score\")), max(possibilities.column(\"Score\")) + 2, 1\n",
    "    )\n",
    ")"
   ]
  },
  {
   "cell_type": "code",
   "execution_count": 387,
   "metadata": {
    "slideshow": {
     "slide_type": "subslide"
    }
   },
   "outputs": [],
   "source": [
    "# Let's save those bins for the future\n",
    "bins = np.arange(min(possibilities.column(\"Score\")), max(possibilities.column(\"Score\")) + 2, 1)"
   ]
  },
  {
   "cell_type": "code",
   "execution_count": 229,
   "metadata": {
    "slideshow": {
     "slide_type": "fragment"
    }
   },
   "outputs": [
    {
     "name": "stdout",
     "output_type": "stream",
     "text": [
      "1.0 \t 0.08333333333333333\n",
      "2.0 \t 0.16666666666666666\n",
      "3.0 \t 0.08333333333333333\n",
      "4.0 \t 0.16666666666666666\n",
      "5.0 \t 0.08333333333333333\n",
      "6.0 \t 0.16666666666666666\n",
      "8.0 \t 0.08333333333333333\n",
      "10.0 \t 0.08333333333333333\n",
      "12.0 \t 0.08333333333333333\n"
     ]
    }
   ],
   "source": [
    "# I also want to print out all of the probabilities for reference\n",
    "\n",
    "for value in np.unique(possibilities.column(\"Score\")):\n",
    "    print(value, '\\t', possibilities.where(\"Score\", value).num_rows / possibilities.num_rows)"
   ]
  },
  {
   "cell_type": "markdown",
   "metadata": {
    "slideshow": {
     "slide_type": "slide"
    }
   },
   "source": [
    "# Distributions: a quick aside\n",
    "---"
   ]
  },
  {
   "cell_type": "markdown",
   "metadata": {
    "slideshow": {
     "slide_type": "subslide"
    }
   },
   "source": [
    "## Probability Distribution of a Statistic\n",
    "\n",
    "* “Sampling distribution” or “probability distribution” of the statistic\n",
    "    - All possible values of the statistic and all the corresponding probabilities.\n",
    "* Can be hard to calculate: \n",
    "    - either have to do the math or have to generate all possible samples and calculate the statistic based on each sample\n"
   ]
  },
  {
   "cell_type": "markdown",
   "metadata": {
    "slideshow": {
     "slide_type": "subslide"
    }
   },
   "source": [
    "## Empirical Distribution of a Statistic\n",
    "* Empirical distribution of the statistic\n",
    "    - Based on simulated values of the statistic\n",
    "    - Consists of all the observed values of the statistic,\n",
    "    - and the proportion of times each value appeared\n",
    "\n",
    "* Good approximation to the probability distribution of the statistic \n",
    "    - if the number of repetitions in the simulation is large\n"
   ]
  },
  {
   "cell_type": "markdown",
   "metadata": {
    "slideshow": {
     "slide_type": "subslide"
    }
   },
   "source": [
    "## Q: Can we design a game that has a uniform score distribution with the one die and coin? What would such a game be?"
   ]
  },
  {
   "cell_type": "markdown",
   "metadata": {
    "slideshow": {
     "slide_type": "fragment"
    }
   },
   "source": [
    "```\n",
    "Yes. Simplest game would be just use the score of the die roll. Another way is a flip of heads adds 6 to the dice roll, tails adds 0.\n",
    "```"
   ]
  },
  {
   "cell_type": "markdown",
   "metadata": {
    "slideshow": {
     "slide_type": "subslide"
    }
   },
   "source": [
    "# Let's simulate our game\n",
    "---\n",
    "\n",
    "Say I wanted to simulate matches of the game we defined above."
   ]
  },
  {
   "cell_type": "code",
   "execution_count": 231,
   "metadata": {
    "slideshow": {
     "slide_type": "fragment"
    }
   },
   "outputs": [
    {
     "data": {
      "text/plain": [
       "array([ 2., 12., 12., ...,  1.,  6., 10.])"
      ]
     },
     "execution_count": 231,
     "metadata": {},
     "output_type": "execute_result"
    }
   ],
   "source": [
    "# We could write a function\n",
    "def simulate():\n",
    "    roll = np.random.choice(np.arange(1, 7))\n",
    "    flip = np.random.choice(np.arange(2))\n",
    "    return score(roll, flip)\n",
    "\n",
    "# And use it a bunch of times\n",
    "trials = 10000\n",
    "results = make_array()\n",
    "\n",
    "for i in np.arange(trials):\n",
    "    results = np.append(results, simulate())\n",
    "    \n",
    "results"
   ]
  },
  {
   "cell_type": "markdown",
   "metadata": {
    "slideshow": {
     "slide_type": "subslide"
    }
   },
   "source": [
    "# But... this seems familiar.  Have we seen these \"simulations\" before?"
   ]
  },
  {
   "cell_type": "markdown",
   "metadata": {
    "slideshow": {
     "slide_type": "fragment"
    }
   },
   "source": [
    "```\n",
    "Every match is already in our table of possibilities.\n",
    "```"
   ]
  },
  {
   "cell_type": "markdown",
   "metadata": {
    "slideshow": {
     "slide_type": "subslide"
    }
   },
   "source": [
    "# So, what does that mean we can do instead of simulating?"
   ]
  },
  {
   "cell_type": "markdown",
   "metadata": {
    "slideshow": {
     "slide_type": "fragment"
    }
   },
   "source": [
    "```\n",
    "We can just sample from our `possibilities` table!\n",
    "```"
   ]
  },
  {
   "cell_type": "markdown",
   "metadata": {
    "slideshow": {
     "slide_type": "slide"
    }
   },
   "source": [
    "# Sampling\n",
    "---\n",
    "\n",
    "Sampling is a way of getting a subset of population."
   ]
  },
  {
   "cell_type": "markdown",
   "metadata": {
    "slideshow": {
     "slide_type": "fragment"
    }
   },
   "source": [
    "## What do we use sampling for?"
   ]
  },
  {
   "cell_type": "markdown",
   "metadata": {
    "slideshow": {
     "slide_type": "fragment"
    }
   },
   "source": [
    "```\n",
    "We can use sampling to estimate a population statistic when we don't have \n",
    "our hands on the full population!\n",
    "```"
   ]
  },
  {
   "cell_type": "markdown",
   "metadata": {
    "slideshow": {
     "slide_type": "subslide"
    }
   },
   "source": [
    "### Deterministic sample:\n",
    "* Sampling scheme doesn’t involve chance\n",
    "\n",
    "### Probability (random) sample:\n",
    "* Before the sample is drawn, you have to know the probability of selecting each group of people in the population\n",
    "* Not all individuals need to have an equal chance of being selected"
   ]
  },
  {
   "cell_type": "code",
   "execution_count": 232,
   "metadata": {
    "slideshow": {
     "slide_type": "subslide"
    }
   },
   "outputs": [
    {
     "data": {
      "text/html": [
       "<table border=\"1\" class=\"dataframe\">\n",
       "    <thead>\n",
       "        <tr>\n",
       "            <th>Roll</th> <th>Flip</th> <th>Score</th>\n",
       "        </tr>\n",
       "    </thead>\n",
       "    <tbody>\n",
       "        <tr>\n",
       "            <td>3   </td> <td>1   </td> <td>6    </td>\n",
       "        </tr>\n",
       "        <tr>\n",
       "            <td>6   </td> <td>0   </td> <td>6    </td>\n",
       "        </tr>\n",
       "    </tbody>\n",
       "</table>"
      ],
      "text/plain": [
       "Roll | Flip | Score\n",
       "3    | 1    | 6\n",
       "6    | 0    | 6"
      ]
     },
     "execution_count": 232,
     "metadata": {},
     "output_type": "execute_result"
    }
   ],
   "source": [
    "# If we take every row with a score of 6\n",
    "# what type of sampling is this?\n",
    "\n",
    "possibilities.where(\"Score\", 6)"
   ]
  },
  {
   "cell_type": "markdown",
   "metadata": {
    "slideshow": {
     "slide_type": "fragment"
    }
   },
   "source": [
    "```\n",
    "Deterministic\n",
    "```"
   ]
  },
  {
   "cell_type": "code",
   "execution_count": 237,
   "metadata": {
    "slideshow": {
     "slide_type": "subslide"
    }
   },
   "outputs": [
    {
     "data": {
      "text/html": [
       "<table border=\"1\" class=\"dataframe\">\n",
       "    <thead>\n",
       "        <tr>\n",
       "            <th>Roll</th> <th>Flip</th> <th>Score</th>\n",
       "        </tr>\n",
       "    </thead>\n",
       "    <tbody>\n",
       "        <tr>\n",
       "            <td>1   </td> <td>1   </td> <td>2    </td>\n",
       "        </tr>\n",
       "        <tr>\n",
       "            <td>1   </td> <td>1   </td> <td>2    </td>\n",
       "        </tr>\n",
       "        <tr>\n",
       "            <td>4   </td> <td>1   </td> <td>8    </td>\n",
       "        </tr>\n",
       "        <tr>\n",
       "            <td>5   </td> <td>0   </td> <td>5    </td>\n",
       "        </tr>\n",
       "        <tr>\n",
       "            <td>6   </td> <td>1   </td> <td>12   </td>\n",
       "        </tr>\n",
       "    </tbody>\n",
       "</table>"
      ],
      "text/plain": [
       "Roll | Flip | Score\n",
       "1    | 1    | 2\n",
       "1    | 1    | 2\n",
       "4    | 1    | 8\n",
       "5    | 0    | 5\n",
       "6    | 1    | 12"
      ]
     },
     "execution_count": 237,
     "metadata": {},
     "output_type": "execute_result"
    }
   ],
   "source": [
    "# If we sample a random selection of 5 rows\n",
    "# what type of sampling is this?\n",
    "\n",
    "possibilities.sample(5)"
   ]
  },
  {
   "cell_type": "markdown",
   "metadata": {
    "slideshow": {
     "slide_type": "fragment"
    }
   },
   "source": [
    "```\n",
    "Random\n",
    "```"
   ]
  },
  {
   "cell_type": "code",
   "execution_count": 265,
   "metadata": {
    "slideshow": {
     "slide_type": "subslide"
    }
   },
   "outputs": [
    {
     "data": {
      "text/html": [
       "<table border=\"1\" class=\"dataframe\">\n",
       "    <thead>\n",
       "        <tr>\n",
       "            <th>Roll</th> <th>Flip</th> <th>Score</th>\n",
       "        </tr>\n",
       "    </thead>\n",
       "    <tbody>\n",
       "        <tr>\n",
       "            <td>6   </td> <td>1   </td> <td>12   </td>\n",
       "        </tr>\n",
       "        <tr>\n",
       "            <td>1   </td> <td>1   </td> <td>2    </td>\n",
       "        </tr>\n",
       "        <tr>\n",
       "            <td>4   </td> <td>1   </td> <td>8    </td>\n",
       "        </tr>\n",
       "        <tr>\n",
       "            <td>3   </td> <td>1   </td> <td>6    </td>\n",
       "        </tr>\n",
       "        <tr>\n",
       "            <td>5   </td> <td>1   </td> <td>10   </td>\n",
       "        </tr>\n",
       "    </tbody>\n",
       "</table>"
      ],
      "text/plain": [
       "Roll | Flip | Score\n",
       "6    | 1    | 12\n",
       "1    | 1    | 2\n",
       "4    | 1    | 8\n",
       "3    | 1    | 6\n",
       "5    | 1    | 10"
      ]
     },
     "execution_count": 265,
     "metadata": {},
     "output_type": "execute_result"
    }
   ],
   "source": [
    "# But we still need to be careful, because what about this?\n",
    "\n",
    "possibilities.sample(5, with_replacement=False)"
   ]
  },
  {
   "cell_type": "code",
   "execution_count": 268,
   "metadata": {
    "slideshow": {
     "slide_type": "subslide"
    }
   },
   "outputs": [
    {
     "data": {
      "text/html": [
       "<table border=\"1\" class=\"dataframe\">\n",
       "    <thead>\n",
       "        <tr>\n",
       "            <th>Roll</th> <th>Flip</th> <th>Score</th>\n",
       "        </tr>\n",
       "    </thead>\n",
       "    <tbody>\n",
       "        <tr>\n",
       "            <td>6   </td> <td>0   </td> <td>6    </td>\n",
       "        </tr>\n",
       "        <tr>\n",
       "            <td>2   </td> <td>1   </td> <td>4    </td>\n",
       "        </tr>\n",
       "        <tr>\n",
       "            <td>4   </td> <td>0   </td> <td>4    </td>\n",
       "        </tr>\n",
       "        <tr>\n",
       "            <td>5   </td> <td>1   </td> <td>10   </td>\n",
       "        </tr>\n",
       "        <tr>\n",
       "            <td>6   </td> <td>0   </td> <td>6    </td>\n",
       "        </tr>\n",
       "        <tr>\n",
       "            <td>3   </td> <td>0   </td> <td>3    </td>\n",
       "        </tr>\n",
       "        <tr>\n",
       "            <td>2   </td> <td>1   </td> <td>4    </td>\n",
       "        </tr>\n",
       "        <tr>\n",
       "            <td>4   </td> <td>1   </td> <td>8    </td>\n",
       "        </tr>\n",
       "        <tr>\n",
       "            <td>1   </td> <td>1   </td> <td>2    </td>\n",
       "        </tr>\n",
       "        <tr>\n",
       "            <td>1   </td> <td>0   </td> <td>1    </td>\n",
       "        </tr>\n",
       "    </tbody>\n",
       "</table>\n",
       "<p>... (990 rows omitted)</p>"
      ],
      "text/plain": [
       "Roll | Flip | Score\n",
       "6    | 0    | 6\n",
       "2    | 1    | 4\n",
       "4    | 0    | 4\n",
       "5    | 1    | 10\n",
       "6    | 0    | 6\n",
       "3    | 0    | 3\n",
       "2    | 1    | 4\n",
       "4    | 1    | 8\n",
       "1    | 1    | 2\n",
       "1    | 0    | 1\n",
       "... (990 rows omitted)"
      ]
     },
     "execution_count": 268,
     "metadata": {},
     "output_type": "execute_result"
    }
   ],
   "source": [
    "\n",
    "# What happens if we want to sample 100 matches?\n",
    "\n",
    "possibilities.sample(1000)"
   ]
  },
  {
   "cell_type": "code",
   "execution_count": 31,
   "metadata": {
    "slideshow": {
     "slide_type": "subslide"
    }
   },
   "outputs": [
    {
     "data": {
      "text/html": [
       "<table border=\"1\" class=\"dataframe\">\n",
       "    <thead>\n",
       "        <tr>\n",
       "            <th>Roll</th> <th>Flip</th> <th>Score</th>\n",
       "        </tr>\n",
       "    </thead>\n",
       "    <tbody>\n",
       "        <tr>\n",
       "            <td>1   </td> <td>0   </td> <td>1    </td>\n",
       "        </tr>\n",
       "        <tr>\n",
       "            <td>1   </td> <td>1   </td> <td>2    </td>\n",
       "        </tr>\n",
       "        <tr>\n",
       "            <td>2   </td> <td>0   </td> <td>2    </td>\n",
       "        </tr>\n",
       "        <tr>\n",
       "            <td>2   </td> <td>1   </td> <td>4    </td>\n",
       "        </tr>\n",
       "        <tr>\n",
       "            <td>3   </td> <td>0   </td> <td>3    </td>\n",
       "        </tr>\n",
       "    </tbody>\n",
       "</table>"
      ],
      "text/plain": [
       "Roll | Flip | Score\n",
       "1    | 0    | 1\n",
       "1    | 1    | 2\n",
       "2    | 0    | 2\n",
       "2    | 1    | 4\n",
       "3    | 0    | 3"
      ]
     },
     "execution_count": 31,
     "metadata": {},
     "output_type": "execute_result"
    }
   ],
   "source": [
    "# What if we sample the first 5 rows that we see?\n",
    "# Is this not the same as simulating 5 times?\n",
    "# What kind of sampling is this?\n",
    "\n",
    "possibilities.take(np.arange(5))"
   ]
  },
  {
   "cell_type": "markdown",
   "metadata": {
    "slideshow": {
     "slide_type": "fragment"
    }
   },
   "source": [
    "```\n",
    "Deterministic\n",
    "```"
   ]
  },
  {
   "cell_type": "code",
   "execution_count": 275,
   "metadata": {
    "slideshow": {
     "slide_type": "subslide"
    }
   },
   "outputs": [
    {
     "data": {
      "text/html": [
       "<table border=\"1\" class=\"dataframe\">\n",
       "    <thead>\n",
       "        <tr>\n",
       "            <th>Roll</th> <th>Flip</th> <th>Score</th>\n",
       "        </tr>\n",
       "    </thead>\n",
       "    <tbody>\n",
       "        <tr>\n",
       "            <td>1   </td> <td>1   </td> <td>2    </td>\n",
       "        </tr>\n",
       "        <tr>\n",
       "            <td>6   </td> <td>1   </td> <td>12   </td>\n",
       "        </tr>\n",
       "        <tr>\n",
       "            <td>5   </td> <td>1   </td> <td>10   </td>\n",
       "        </tr>\n",
       "        <tr>\n",
       "            <td>4   </td> <td>0   </td> <td>4    </td>\n",
       "        </tr>\n",
       "        <tr>\n",
       "            <td>4   </td> <td>1   </td> <td>8    </td>\n",
       "        </tr>\n",
       "        <tr>\n",
       "            <td>1   </td> <td>0   </td> <td>1    </td>\n",
       "        </tr>\n",
       "        <tr>\n",
       "            <td>3   </td> <td>0   </td> <td>3    </td>\n",
       "        </tr>\n",
       "        <tr>\n",
       "            <td>2   </td> <td>1   </td> <td>4    </td>\n",
       "        </tr>\n",
       "        <tr>\n",
       "            <td>2   </td> <td>0   </td> <td>2    </td>\n",
       "        </tr>\n",
       "        <tr>\n",
       "            <td>3   </td> <td>1   </td> <td>6    </td>\n",
       "        </tr>\n",
       "    </tbody>\n",
       "</table>\n",
       "<p>... (2 rows omitted)</p>"
      ],
      "text/plain": [
       "Roll | Flip | Score\n",
       "1    | 1    | 2\n",
       "6    | 1    | 12\n",
       "5    | 1    | 10\n",
       "4    | 0    | 4\n",
       "4    | 1    | 8\n",
       "1    | 0    | 1\n",
       "3    | 0    | 3\n",
       "2    | 1    | 4\n",
       "2    | 0    | 2\n",
       "3    | 1    | 6\n",
       "... (2 rows omitted)"
      ]
     },
     "execution_count": 275,
     "metadata": {},
     "output_type": "execute_result"
    }
   ],
   "source": [
    "# Okay, what if we shuffle the possibilities, and then pick the first 5?\n",
    "# Should be fine, right?\n",
    "\n",
    "rows = [possibilities.row(i) for i in np.arange(possibilities.num_rows)]\n",
    "\n",
    "np.random.shuffle(rows)\n",
    "\n",
    "shuffled = Table([\"Roll\", \"Flip\", \"Score\"]).with_rows(\n",
    "    rows\n",
    ")\n",
    "shuffled.take(np.arange(12))"
   ]
  },
  {
   "cell_type": "markdown",
   "metadata": {
    "slideshow": {
     "slide_type": "fragment"
    }
   },
   "source": [
    "```\n",
    "This is the same as the sample without replacement\n",
    "```"
   ]
  },
  {
   "cell_type": "markdown",
   "metadata": {
    "slideshow": {
     "slide_type": "subslide"
    }
   },
   "source": [
    "# What conditions must be satisfied for accurate sampling?\n",
    "# What do we mean by \"accurate\" sampling?\n",
    "---\n",
    "\n",
    "I'm glad you asked!"
   ]
  },
  {
   "cell_type": "markdown",
   "metadata": {
    "slideshow": {
     "slide_type": "subslide"
    }
   },
   "source": [
    "# Accuracy vs. Precision"
   ]
  },
  {
   "cell_type": "markdown",
   "metadata": {
    "slideshow": {
     "slide_type": "fragment"
    }
   },
   "source": [
    "Accuracy: close to the true value\n",
    "    \n",
    "Precision: individual guesses are all close together"
   ]
  },
  {
   "cell_type": "code",
   "execution_count": 27,
   "metadata": {
    "slideshow": {
     "slide_type": "subslide"
    }
   },
   "outputs": [],
   "source": [
    "# Recall that sampling is a way for us to discover things about\n",
    "# a population when we don't have access to that population.\n",
    "#\n",
    "# So by that logic, an \"accurate\" sample would mean..."
   ]
  },
  {
   "cell_type": "markdown",
   "metadata": {
    "slideshow": {
     "slide_type": "fragment"
    }
   },
   "source": [
    "```\n",
    "That we can accurately predict things about the population using the sample.\n",
    "```"
   ]
  },
  {
   "cell_type": "markdown",
   "metadata": {
    "slideshow": {
     "slide_type": "subslide"
    }
   },
   "source": [
    "# Law of Large Numbers\n",
    "---\n",
    "As long as we satisfy the conditions for an accurate sample then we know that:\n",
    "- As the number of samples increases, the distribution of sample results will approach the true distribution of the population\n",
    "\n",
    "In other words, the empirical distribution will get closer to the probability distribution"
   ]
  },
  {
   "cell_type": "code",
   "execution_count": 28,
   "metadata": {
    "slideshow": {
     "slide_type": "subslide"
    }
   },
   "outputs": [],
   "source": [
    "# Let's verify this ourselves"
   ]
  },
  {
   "cell_type": "code",
   "execution_count": 278,
   "metadata": {
    "slideshow": {
     "slide_type": "fragment"
    }
   },
   "outputs": [],
   "source": [
    "# We can define a simulate function\n",
    "def simulate(num):\n",
    "    return possibilities.sample(num).column(\"Score\")"
   ]
  },
  {
   "cell_type": "code",
   "execution_count": 280,
   "metadata": {
    "slideshow": {
     "slide_type": "subslide"
    }
   },
   "outputs": [
    {
     "data": {
      "image/png": "[encoded data removed]",
      "text/plain": [
       "<Figure size 1080x720 with 4 Axes>"
      ]
     },
     "metadata": {
      "needs_background": "light"
     },
     "output_type": "display_data"
    }
   ],
   "source": [
    "plt.figure(figsize=(15,10))\n",
    "plt.subplot(2, 2, 1)\n",
    "x = 0\n",
    "for trials in [10, 100, 1000, 10000]:\n",
    "    x += 1\n",
    "    plt.subplot(2,2,x)\n",
    "    plt.hist(simulate(trials), bins = bins)\n",
    "    plt.title(\"simulate {} times\".format(trials))"
   ]
  },
  {
   "cell_type": "code",
   "execution_count": 214,
   "metadata": {
    "slideshow": {
     "slide_type": "subslide"
    }
   },
   "outputs": [
    {
     "data": {
      "image/png": "[encoded data removed]",
      "text/plain": [
       "<Figure size 432x288 with 1 Axes>"
      ]
     },
     "metadata": {
      "needs_background": "light"
     },
     "output_type": "display_data"
    }
   ],
   "source": [
    "possibilities.hist(\"Score\", bins = bins)"
   ]
  },
  {
   "cell_type": "markdown",
   "metadata": {
    "slideshow": {
     "slide_type": "slide"
    }
   },
   "source": [
    "# Sample statistics\n",
    "---\n",
    "\n",
    "In addition to the distribution of sample results approaching the true distribution, the average of sample statistics will approach the true population statistic."
   ]
  },
  {
   "cell_type": "markdown",
   "metadata": {
    "slideshow": {
     "slide_type": "subslide"
    }
   },
   "source": [
    "## What's a sample statistic?"
   ]
  },
  {
   "cell_type": "markdown",
   "metadata": {
    "slideshow": {
     "slide_type": "fragment"
    }
   },
   "source": [
    "```\n",
    "A measurement of the sample, like the mean, median, or min+max/2\n",
    "```"
   ]
  },
  {
   "cell_type": "markdown",
   "metadata": {
    "slideshow": {
     "slide_type": "subslide"
    }
   },
   "source": [
    "## Let's try and calculate a sample statistic\n",
    "---\n",
    "In addition to choosing a statistic (we'll be using mean of scores in the game), there's another thing we must decide.\n",
    "\n",
    "\n",
    "What is it?"
   ]
  },
  {
   "cell_type": "markdown",
   "metadata": {
    "slideshow": {
     "slide_type": "fragment"
    }
   },
   "source": [
    "```\n",
    "Sample size\n",
    "```"
   ]
  },
  {
   "cell_type": "markdown",
   "metadata": {
    "slideshow": {
     "slide_type": "subslide"
    }
   },
   "source": [
    "# What does our sample statistic translate to in words?"
   ]
  },
  {
   "cell_type": "markdown",
   "metadata": {
    "slideshow": {
     "slide_type": "fragment"
    }
   },
   "source": [
    "```\n",
    "For sample size of 100:\n",
    "Our sample mean is the average score of 100 simulated games\n",
    "```"
   ]
  },
  {
   "cell_type": "code",
   "execution_count": 350,
   "metadata": {
    "slideshow": {
     "slide_type": "fragment"
    }
   },
   "outputs": [
    {
     "data": {
      "text/plain": [
       "7.2"
      ]
     },
     "execution_count": 350,
     "metadata": {},
     "output_type": "execute_result"
    }
   ],
   "source": [
    "# Alright, now let's compute a sample statistic.  Try with multiple sizes.\n",
    "sample_size = 10\n",
    "np.mean(simulate(sample_size))"
   ]
  },
  {
   "cell_type": "code",
   "execution_count": 283,
   "metadata": {
    "slideshow": {
     "slide_type": "subslide"
    }
   },
   "outputs": [
    {
     "data": {
      "text/plain": [
       "6.5"
      ]
     },
     "execution_count": 283,
     "metadata": {},
     "output_type": "execute_result"
    }
   ],
   "source": [
    "# Let's find another sample statistic\n",
    "sample_size = 100\n",
    "sample= simulate(sample_size)\n",
    "( min(sample) + max(sample) ) / 2 "
   ]
  },
  {
   "cell_type": "markdown",
   "metadata": {
    "slideshow": {
     "slide_type": "slide"
    }
   },
   "source": [
    "# Distribution of Sample Statistics\n",
    "---\n",
    "\n",
    "Recall, we said that:\n",
    ">As the number of trials grows large, the average of the distribution of sample statistics approaches the population average for that statistic."
   ]
  },
  {
   "cell_type": "markdown",
   "metadata": {
    "slideshow": {
     "slide_type": "fragment"
    }
   },
   "source": [
    "# But... how does \"number of trials\" differ from \"sample size\"?"
   ]
  },
  {
   "cell_type": "markdown",
   "metadata": {
    "slideshow": {
     "slide_type": "fragment"
    }
   },
   "source": [
    "```\n",
    "Number of trials is the number of unique samples we take to calculate our final guess of sample statistic.\n",
    "\n",
    "Sample size is the size of each of the unique samples.\n",
    "```"
   ]
  },
  {
   "cell_type": "code",
   "execution_count": 377,
   "metadata": {
    "slideshow": {
     "slide_type": "subslide"
    }
   },
   "outputs": [
    {
     "data": {
      "text/plain": [
       "5.3199"
      ]
     },
     "execution_count": 377,
     "metadata": {},
     "output_type": "execute_result"
    }
   ],
   "source": [
    "# Alright, let's find a bunch of sample statistics and find their average.\n",
    "trials = 1000\n",
    "sample_size = 10\n",
    "\n",
    "sample_stats = make_array()\n",
    "\n",
    "for trial in np.arange(trials):\n",
    "    stat = np.mean(simulate(sample_size))\n",
    "    sample_stats = np.append(sample_stats, stat)\n",
    "    \n",
    "np.mean(sample_stats)"
   ]
  },
  {
   "cell_type": "markdown",
   "metadata": {
    "slideshow": {
     "slide_type": "fragment"
    }
   },
   "source": [
    "## We should probably know what the true population statistic is! How can we calculate it?"
   ]
  },
  {
   "cell_type": "code",
   "execution_count": 378,
   "metadata": {
    "slideshow": {
     "slide_type": "fragment"
    }
   },
   "outputs": [
    {
     "data": {
      "text/plain": [
       "5.25"
      ]
     },
     "execution_count": 378,
     "metadata": {},
     "output_type": "execute_result"
    }
   ],
   "source": [
    "np.mean(possibilities.column(\"Score\"))"
   ]
  },
  {
   "cell_type": "markdown",
   "metadata": {
    "slideshow": {
     "slide_type": "subslide"
    }
   },
   "source": [
    "# Let's change around the statistic we calculate"
   ]
  },
  {
   "cell_type": "code",
   "execution_count": 380,
   "metadata": {
    "slideshow": {
     "slide_type": "fragment"
    }
   },
   "outputs": [
    {
     "data": {
      "text/plain": [
       "(10.752, 12.0)"
      ]
     },
     "execution_count": 380,
     "metadata": {},
     "output_type": "execute_result"
    }
   ],
   "source": [
    "# Alright, let's find a bunch of sample statistics and find their average.\n",
    "trials = 1000\n",
    "sample_size = 10\n",
    "\n",
    "sample_stats = make_array()\n",
    "\n",
    "for trial in np.arange(trials):\n",
    "    stat = np.max(simulate(sample_size))\n",
    "    sample_stats = np.append(sample_stats, stat)\n",
    "    \n",
    "np.mean(sample_stats), np.max(possibilities.column(\"Score\"))"
   ]
  },
  {
   "cell_type": "code",
   "execution_count": 382,
   "metadata": {
    "slideshow": {
     "slide_type": "subslide"
    }
   },
   "outputs": [
    {
     "data": {
      "image/png": "[encoded data removed]",
      "text/plain": [
       "<Figure size 432x288 with 1 Axes>"
      ]
     },
     "metadata": {
      "needs_background": "light"
     },
     "output_type": "display_data"
    }
   ],
   "source": [
    "# Let's plot the distribution of sample means and see what's going on as trials\n",
    "# and sample size change.\n",
    "trials = 10000\n",
    "sample_size = 10\n",
    "\n",
    "sample_stats = make_array()\n",
    "\n",
    "for trial in np.arange(trials):\n",
    "    stat = np.mean(simulate(sample_size))\n",
    "    sample_stats = np.append(sample_stats, stat)\n",
    "    \n",
    "plt.hist(sample_stats)\n",
    "plt.axvline(np.mean(possibilities.column(\"Score\")), c='r')\n",
    "plt.axvline(np.mean(np.mean(sample_stats)), c='navy')\n",
    "plt.legend([\"Population\", \"Sample\"]);"
   ]
  },
  {
   "cell_type": "markdown",
   "metadata": {
    "slideshow": {
     "slide_type": "subslide"
    }
   },
   "source": [
    "# What is the relationship between accuracy and trials?"
   ]
  },
  {
   "cell_type": "markdown",
   "metadata": {
    "slideshow": {
     "slide_type": "fragment"
    }
   },
   "source": [
    "```\n",
    "As the number of trials increases, the accuracy increases\n",
    "```"
   ]
  },
  {
   "cell_type": "markdown",
   "metadata": {
    "slideshow": {
     "slide_type": "subslide"
    }
   },
   "source": [
    "# What is the relationship between accuracy and sample size?"
   ]
  },
  {
   "cell_type": "markdown",
   "metadata": {
    "slideshow": {
     "slide_type": "fragment"
    }
   },
   "source": [
    "```\n",
    "As the sample size increases, the accuracy increases\n",
    "```"
   ]
  }
 ],
 "metadata": {
  "celltoolbar": "Slideshow",
  "kernelspec": {
   "display_name": "Python 3",
   "language": "python",
   "name": "python3"
  },
  "language_info": {
   "codemirror_mode": {
    "name": "ipython",
    "version": 3
   },
   "file_extension": ".py",
   "mimetype": "text/x-python",
   "name": "python",
   "nbconvert_exporter": "python",
   "pygments_lexer": "ipython3",
   "version": "3.6.7"
  }
 },
 "nbformat": 4,
 "nbformat_minor": 2
}
