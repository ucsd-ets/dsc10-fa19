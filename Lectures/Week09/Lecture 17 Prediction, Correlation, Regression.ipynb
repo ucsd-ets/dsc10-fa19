{
 "cells": [
  {
   "cell_type": "code",
   "execution_count": null,
   "metadata": {},
   "outputs": [],
   "source": [
    "#: the usual imports\n",
    "from datascience import *\n",
    "import numpy as np\n",
    "\n",
    "%matplotlib inline\n",
    "import matplotlib.pyplot as plt\n",
    "import warnings; warnings.simplefilter('ignore')\n",
    "\n",
    "plt.style.use('fivethirtyeight')\n",
    "\n",
    "from notebook.services.config import ConfigManager\n",
    "\n",
    "cm = ConfigManager()\n",
    "cm.update(\n",
    "   \"livereveal\", {\n",
    "       'width': 1200,\n",
    "       'height': 700,\n",
    "       \"scroll\": True,\n",
    "})"
   ]
  },
  {
   "cell_type": "markdown",
   "metadata": {
    "slideshow": {
     "slide_type": "slide"
    }
   },
   "source": [
    "# Lecture 17\n",
    "\n",
    "### Prediction, Correlation, Regression"
   ]
  },
  {
   "cell_type": "markdown",
   "metadata": {
    "slideshow": {
     "slide_type": "slide"
    }
   },
   "source": [
    "## Announcements\n",
    "\n",
    "* Project is due Monday night.\n",
    "* Thursday is a holiday, so no class or Programming Basics.\n",
    "* I will still hold office hours on Sunday from 2 to 4pm.\n",
    "* Lab 8 is due next Thursday, December 5. This will be the last assignment."
   ]
  },
  {
   "cell_type": "markdown",
   "metadata": {
    "slideshow": {
     "slide_type": "slide"
    }
   },
   "source": [
    "# Prediction"
   ]
  },
  {
   "cell_type": "markdown",
   "metadata": {
    "slideshow": {
     "slide_type": "slide"
    }
   },
   "source": [
    "## Prediction Problems\n",
    "\n",
    "* Predicting one characteristic based on another:\n",
    "    - Given my height, how tall will my kid be as an adult?\n",
    "    - Given my education level, what is my income?\n",
    "    - Given my income, how much does my car cost?\n",
    "    \n",
    "* Two characteristics: one is known; one is unknown\n",
    "* Have data for which we know both characteristics\n",
    "* To predict, need an association"
   ]
  },
  {
   "cell_type": "markdown",
   "metadata": {
    "slideshow": {
     "slide_type": "slide"
    }
   },
   "source": [
    "### Predict child height from height of parents\n",
    "\n",
    "* Use mid-parent height as before.\n",
    "* Observation: children of short parents tend to be short"
   ]
  },
  {
   "cell_type": "code",
   "execution_count": null,
   "metadata": {},
   "outputs": [],
   "source": [
    "galton = Table.read_table('galton.csv')\n",
    "\n",
    "heights = Table().with_columns(\n",
    "    'MidParent', galton.column('midparentHeight'),\n",
    "    'Child', galton.column('childHeight')\n",
    "    )\n",
    "\n",
    "heights.scatter(0)"
   ]
  },
  {
   "cell_type": "markdown",
   "metadata": {
    "slideshow": {
     "slide_type": "slide"
    }
   },
   "source": [
    "### Predict child height from height of parents\n",
    "* For a given child, predict their height by:\n",
    "    - restricting ourselves to all midparents within $\\pm 0.5$ inches of the child's midparent height;\n",
    "    - averaging the height of all children of those midparents."
   ]
  },
  {
   "cell_type": "code",
   "execution_count": null,
   "metadata": {},
   "outputs": [],
   "source": [
    "def predict_child(parent):\n",
    "    \"\"\"Return a prediction of the height of a child \n",
    "    whose parents have a midparent height of parent.\n",
    "    \"\"\"\n",
    "    close_points = heights.where('MidParent', are.between(parent - 0.5, parent + 0.5))\n",
    "    return close_points.column('Child').mean()\n",
    "\n",
    "heights_and_predict = heights.with_column(\n",
    "    'Prediction', heights.apply(predict_child, 'MidParent')\n",
    ")\n",
    "\n",
    "heights_and_predict.scatter(0)"
   ]
  },
  {
   "cell_type": "markdown",
   "metadata": {
    "slideshow": {
     "slide_type": "slide"
    }
   },
   "source": [
    "## Graph of Averages\n",
    "A visualization of x and y pairs\n",
    "* Group each x value with other nearby x values\n",
    "* Average the corresponding y values for each group\n",
    "* For each x value, produce one predicted y value"
   ]
  },
  {
   "cell_type": "markdown",
   "metadata": {
    "slideshow": {
     "slide_type": "slide"
    }
   },
   "source": [
    "## Relations between two variables\n",
    "* Association\n",
    "* Trend\n",
    "    - Positive association\n",
    "    - Negative association\n",
    "* Pattern\n",
    "    - Any discernible \"shape\"\n",
    "    - Linear\n",
    "    - Non-Linear"
   ]
  },
  {
   "cell_type": "markdown",
   "metadata": {
    "slideshow": {
     "slide_type": "slide"
    }
   },
   "source": [
    "## Variable relationships: hybrid cars"
   ]
  },
  {
   "cell_type": "code",
   "execution_count": null,
   "metadata": {},
   "outputs": [],
   "source": [
    "hybrid = Table.read_table('hybrid.csv')\n",
    "hybrid"
   ]
  },
  {
   "cell_type": "markdown",
   "metadata": {
    "slideshow": {
     "slide_type": "slide"
    }
   },
   "source": [
    "### Acceleration and price\n",
    "* Is there an association?\n",
    "* What kind of association?"
   ]
  },
  {
   "cell_type": "code",
   "execution_count": null,
   "metadata": {},
   "outputs": [],
   "source": [
    "hybrid.scatter('acceleration', 'msrp')"
   ]
  },
  {
   "cell_type": "markdown",
   "metadata": {
    "slideshow": {
     "slide_type": "slide"
    }
   },
   "source": [
    "### Discussion Question\n",
    "\n",
    "This scatter plot shows that:\n",
    "\n",
    "|Option|Answer|\n",
    "|---|---|\n",
    "|A.|People pay more for cars that accelerate faster|\n",
    "|B.|People pay more for certain cars because they accelerate faster|\n",
    "|C.|People do not pay more for cars that accelerate faster|\n",
    "|D.|More than one of the above|"
   ]
  },
  {
   "cell_type": "code",
   "execution_count": null,
   "metadata": {},
   "outputs": [],
   "source": [
    "hybrid.scatter('acceleration', 'msrp')"
   ]
  },
  {
   "cell_type": "markdown",
   "metadata": {
    "slideshow": {
     "slide_type": "slide"
    }
   },
   "source": [
    "### Fuel economy and price\n",
    "\n",
    "* Is there an association?\n",
    "* What kind of association?"
   ]
  },
  {
   "cell_type": "code",
   "execution_count": null,
   "metadata": {},
   "outputs": [],
   "source": [
    "hybrid.scatter('mpg', 'msrp')"
   ]
  },
  {
   "cell_type": "markdown",
   "metadata": {
    "slideshow": {
     "slide_type": "fragment"
    }
   },
   "source": [
    "### Observations\n",
    "* There is an association:\n",
    "    - Are people paying more for certain cars because they want poor fuel economy?\n",
    "* The association looks more curved than linear, like $~\\frac{1}{x}$"
   ]
  },
  {
   "cell_type": "markdown",
   "metadata": {
    "slideshow": {
     "slide_type": "slide"
    }
   },
   "source": [
    "### Understanding units \n",
    "* A linear change in units doesn't change the shape of the plot.\n",
    "* The scale *does* change with the units."
   ]
  },
  {
   "cell_type": "code",
   "execution_count": null,
   "metadata": {},
   "outputs": [],
   "source": [
    "hybrid.scatter('mpg', 'msrp')"
   ]
  },
  {
   "cell_type": "code",
   "execution_count": null,
   "metadata": {},
   "outputs": [],
   "source": [
    "hybrid.with_columns(\n",
    "        'km_per_liter', hybrid.column('mpg') * 0.425144,\n",
    "        'eur', hybrid.column('msrp') * 0.88 \n",
    ").scatter('km_per_liter', 'eur')"
   ]
  },
  {
   "cell_type": "markdown",
   "metadata": {
    "slideshow": {
     "slide_type": "slide"
    }
   },
   "source": [
    "### Converting columns to standard units\n",
    "* makes different scatterplots comparable\n",
    "* allows x and y axis to be \"similarly scaled\"\n",
    "    - both axes measure standard deviations from their means\n",
    "* doesn't change shape of the scatterplot (conversion is linear)"
   ]
  },
  {
   "cell_type": "code",
   "execution_count": null,
   "metadata": {},
   "outputs": [],
   "source": [
    "def standard_units(any_numbers):\n",
    "    \"Convert any array of numbers to standard units.\"\n",
    "    return (any_numbers - np.mean(any_numbers))/np.std(any_numbers)"
   ]
  },
  {
   "cell_type": "code",
   "execution_count": null,
   "metadata": {},
   "outputs": [],
   "source": [
    "def standardize(t):\n",
    "    \"\"\"Return a table in which all columns of t are converted to standard units.\"\"\"\n",
    "    t_su = Table()\n",
    "    for label in t.labels:\n",
    "        t_su = t_su.with_column(label + ' (su)', standard_units(t.column(label)))\n",
    "    return t_su"
   ]
  },
  {
   "cell_type": "markdown",
   "metadata": {
    "slideshow": {
     "slide_type": "slide"
    }
   },
   "source": [
    "### Standard units: hybrid cars\n",
    "* For a given pair of variables:\n",
    "    - which cars are average from both perspectives?\n",
    "    - which cars are both well above/below average?"
   ]
  },
  {
   "cell_type": "code",
   "execution_count": null,
   "metadata": {},
   "outputs": [],
   "source": [
    "hybrid_su = standardize(hybrid.select('msrp', 'acceleration','mpg'))\n",
    "hybrid_su"
   ]
  },
  {
   "cell_type": "code",
   "execution_count": null,
   "metadata": {},
   "outputs": [],
   "source": [
    "hybrid_su.scatter('mpg (su)', 'msrp (su)')"
   ]
  },
  {
   "cell_type": "code",
   "execution_count": null,
   "metadata": {},
   "outputs": [],
   "source": [
    "(\n",
    "    hybrid_su\n",
    "    .with_column('vehicle', hybrid.column('vehicle'))\n",
    "    .where('mpg (su)', are.between(-0.2, 0.2))\n",
    "    .where('msrp (su)', are.between(-0.2, 0.2))\n",
    ")"
   ]
  },
  {
   "cell_type": "code",
   "execution_count": null,
   "metadata": {
    "slideshow": {
     "slide_type": "slide"
    }
   },
   "outputs": [],
   "source": [
    "hybrid_su.scatter('acceleration (su)', 'msrp (su)')"
   ]
  },
  {
   "cell_type": "code",
   "execution_count": null,
   "metadata": {},
   "outputs": [],
   "source": [
    "product_table = hybrid_su.select(1, 0).with_column('product',hybrid_su.column(0)*hybrid_su.column(1))\n",
    "product_table"
   ]
  },
  {
   "cell_type": "code",
   "execution_count": null,
   "metadata": {
    "scrolled": true
   },
   "outputs": [],
   "source": [
    "products = (product_table).column('product')\n",
    "np.mean(products)"
   ]
  },
  {
   "cell_type": "code",
   "execution_count": null,
   "metadata": {},
   "outputs": [],
   "source": [
    "(\n",
    "    hybrid_su\n",
    "    .with_column('vehicle', hybrid.column('vehicle'))\n",
    "    .where('acceleration (su)', are.above(2))\n",
    "    .where('msrp (su)', are.above(2))\n",
    ")"
   ]
  },
  {
   "cell_type": "markdown",
   "metadata": {
    "slideshow": {
     "slide_type": "slide"
    }
   },
   "source": [
    "### Associations in standard units\n",
    "* If two attributes are positively associated,\n",
    "    - their high, positive values in standard units are typically seen together,\n",
    "    - their low, negative values are seen together as well.\n",
    "* If two attributes are negatively associated,\n",
    "    - high, positive values of one are typically coupled with low, negative values of the other.\n",
    "* If two attributes aren't associated, there shouldn't be pattern in their relative sizes."
   ]
  },
  {
   "cell_type": "markdown",
   "metadata": {
    "slideshow": {
     "slide_type": "slide"
    }
   },
   "source": [
    "## Definition: Correlation Coefficient\n",
    "\n",
    "**Definition**: The correlation coefficient $r$ of two attributes $x$ and $y$ is the average value of the product of $x$ and $y$ when measured in standard units.\n",
    "\n",
    "* If `x` and `y` are arrays (i.e. columns in a table): \n",
    "```\n",
    "r = np.mean(x_su * y_su)\n",
    "```\n",
    "where `x_su` and `y_su` are `x` and `y` converted to standard units.\n"
   ]
  },
  {
   "cell_type": "markdown",
   "metadata": {
    "slideshow": {
     "slide_type": "slide"
    }
   },
   "source": [
    "### Calculate the correlation coefficient $r$ for `acceleration` and `msrp`"
   ]
  },
  {
   "cell_type": "code",
   "execution_count": null,
   "metadata": {},
   "outputs": [],
   "source": [
    "hybrid_su.scatter('acceleration (su)', 'msrp (su)')\n",
    "plt.axhline(color='C2', zorder=0)\n",
    "plt.axvline(color='C2', zorder=0)"
   ]
  },
  {
   "cell_type": "code",
   "execution_count": null,
   "metadata": {},
   "outputs": [],
   "source": [
    "(\n",
    "    hybrid_su\n",
    "    .select('acceleration (su)', 'msrp (su)')\n",
    "    .with_column('product of su', hybrid_su.column('acceleration (su)') * hybrid_su.column('msrp (su)'))\n",
    ")"
   ]
  },
  {
   "cell_type": "code",
   "execution_count": null,
   "metadata": {},
   "outputs": [],
   "source": [
    "r = np.mean(hybrid_su.column('acceleration (su)') * hybrid_su.column('msrp (su)'))\n",
    "r"
   ]
  },
  {
   "cell_type": "markdown",
   "metadata": {
    "slideshow": {
     "slide_type": "slide"
    }
   },
   "source": [
    "## The Correlation Coefficient $r$\n",
    "\n",
    "* Measures how clustered points are around a straight line (linear association)\n",
    "* Based on standard units\n",
    "* $-1 \\leq r \\leq 1$\n",
    "    - $r = 1$: scatterplot is a line of slope 1.\n",
    "    - $r = -1$: scatterplot is a line of slope -1.\n",
    "* $r = 0$: no linear association; *uncorrelated*."
   ]
  },
  {
   "cell_type": "markdown",
   "metadata": {
    "slideshow": {
     "slide_type": "slide"
    }
   },
   "source": [
    "### Calculate the correlation coefficient $r$ for `mpg` and `msrp`"
   ]
  },
  {
   "cell_type": "code",
   "execution_count": null,
   "metadata": {},
   "outputs": [],
   "source": [
    "hybrid_su.scatter('mpg (su)', 'msrp (su)')\n",
    "plt.axhline(color='C2', zorder=0)\n",
    "plt.axvline(color='C2', zorder=0)"
   ]
  },
  {
   "cell_type": "code",
   "execution_count": null,
   "metadata": {},
   "outputs": [],
   "source": [
    "(\n",
    "    hybrid_su\n",
    "    .select('mpg (su)', 'msrp (su)')\n",
    "    .with_column('product of su', hybrid_su.column('mpg (su)') * hybrid_su.column('msrp (su)'))\n",
    ")"
   ]
  },
  {
   "cell_type": "code",
   "execution_count": null,
   "metadata": {},
   "outputs": [],
   "source": [
    "r = np.mean(hybrid_su.column('mpg (su)') * hybrid_su.column('msrp (su)'))\n",
    "r"
   ]
  },
  {
   "cell_type": "markdown",
   "metadata": {
    "slideshow": {
     "slide_type": "slide"
    }
   },
   "source": [
    "## Scatterplots with given correlation coefficients"
   ]
  },
  {
   "cell_type": "code",
   "execution_count": null,
   "metadata": {},
   "outputs": [],
   "source": [
    "def r_scatter(r):\n",
    "    plt.figure(figsize=(5,5))\n",
    "    \"Generate a scatter plot with a correlation approximately r\"\n",
    "    x = np.random.normal(0, 1, 1000)\n",
    "    z = np.random.normal(0, 1, 1000)\n",
    "    y = r*x + (np.sqrt(1-r**2))*z\n",
    "    plt.scatter(x, y)\n",
    "    plt.xlim(-4, 4)\n",
    "    plt.ylim(-4, 4)\n",
    "    plt.suptitle('r = %f' %r, fontsize=14)"
   ]
  },
  {
   "cell_type": "code",
   "execution_count": null,
   "metadata": {
    "scrolled": false
   },
   "outputs": [],
   "source": [
    "for r in np.linspace(1, -1, 7):\n",
    "    r_scatter(r)"
   ]
  },
  {
   "cell_type": "markdown",
   "metadata": {
    "slideshow": {
     "slide_type": "slide"
    }
   },
   "source": [
    "### Discussion Question\n",
    "Does the following scatter plot show:\n",
    "\n",
    "- A. Association and correlation\n",
    "- B. Association but not correlation\n",
    "- C. Correlation but not association\n",
    "- D. Neither association nor correlation"
   ]
  },
  {
   "cell_type": "code",
   "execution_count": null,
   "metadata": {},
   "outputs": [],
   "source": [
    "x2 = Table().with_columns(\n",
    "    'x', np.arange(-6, 6.1, 0.5), \n",
    "    'y', np.arange(-6, 6.1, 0.5)**2)\n",
    "x2.scatter('x', 'y')"
   ]
  },
  {
   "cell_type": "markdown",
   "metadata": {
    "slideshow": {
     "slide_type": "slide"
    }
   },
   "source": [
    "### Answer"
   ]
  },
  {
   "cell_type": "code",
   "execution_count": null,
   "metadata": {},
   "outputs": [],
   "source": [
    "standardize(x2).with_column('product', standardize(x2).column('x (su)')*standardize(x2).column('y (su)')).show()"
   ]
  },
  {
   "cell_type": "code",
   "execution_count": null,
   "metadata": {},
   "outputs": [],
   "source": [
    "products = standard_units(x2.column('x')) * standard_units(x2.column('y'))\n",
    "products"
   ]
  },
  {
   "cell_type": "code",
   "execution_count": null,
   "metadata": {},
   "outputs": [],
   "source": [
    "r = np.mean(products)\n",
    "r"
   ]
  },
  {
   "cell_type": "code",
   "execution_count": null,
   "metadata": {},
   "outputs": [],
   "source": [
    "plt.hist(products);"
   ]
  },
  {
   "cell_type": "markdown",
   "metadata": {
    "slideshow": {
     "slide_type": "slide"
    }
   },
   "source": [
    "## Child height prediction, revisited\n",
    "* Calculate the correlation between `midparentHeight` and `childHeight`"
   ]
  },
  {
   "cell_type": "code",
   "execution_count": null,
   "metadata": {},
   "outputs": [],
   "source": [
    "heights_su = standardize(heights)\n",
    "heights_su"
   ]
  },
  {
   "cell_type": "code",
   "execution_count": null,
   "metadata": {},
   "outputs": [],
   "source": [
    "r = np.mean(heights_su.column('MidParent (su)') * heights_su.column('Child (su)'))\n",
    "r"
   ]
  },
  {
   "cell_type": "code",
   "execution_count": null,
   "metadata": {},
   "outputs": [],
   "source": [
    "heights_and_predict.scatter(0)"
   ]
  },
  {
   "cell_type": "code",
   "execution_count": null,
   "metadata": {},
   "outputs": [],
   "source": [
    "heights_su.scatter(0)\n",
    "plt.plot(np.arange(-3, 3, 0.1), np.arange(-3, 3, 0.1) * r);"
   ]
  },
  {
   "cell_type": "markdown",
   "metadata": {
    "slideshow": {
     "slide_type": "slide"
    }
   },
   "source": [
    "## Using the correlation coefficient for prediction\n",
    "In standard units:\n",
    "* The line through $(0,0)$ with slope $r$ is called the **regression line**.\n",
    "* If the association between attributes is linear, the graph of averages is approximately the regression line.\n",
    "* If the line is given by $f(x) = mx + b$, then the prediction for $x$ is given by $f(x)$."
   ]
  },
  {
   "cell_type": "code",
   "execution_count": null,
   "metadata": {},
   "outputs": [],
   "source": [
    "heights_su.scatter(0)\n",
    "plt.plot(np.arange(-3, 3, 0.1), np.arange(-3, 3, 0.1) * r);"
   ]
  },
  {
   "attachments": {
    "image.png": {
     "image/png": "[encoded data removed]"
    }
   },
   "cell_type": "markdown",
   "metadata": {
    "slideshow": {
     "slide_type": "slide"
    }
   },
   "source": [
    "## Regression to the Mean\n",
    "![image.png](attachment:image.png)\n",
    "\n",
    "* If $r = 0.33$, and the given $x$ is 2 standard units, then:\n",
    "    - The given $x$ is 2 SDs above average\n",
    "    - The prediction for $y$ is 0.66 SDs above average\n",
    "* This is a consequence of $r$ having magnitude less than 1.\n",
    "* On average (though not for each individual), regression predicts $y$ to be closer to the mean than $x$."
   ]
  },
  {
   "cell_type": "markdown",
   "metadata": {
    "slideshow": {
     "slide_type": "slide"
    }
   },
   "source": [
    "### Child height prediction, original units\n",
    "Approach:\n",
    "1. Scale mid-parent height to standard units\n",
    "2. Use the correlation coefficient to predict child height\n",
    "3. Scale predicted child height from standard units back to inches"
   ]
  },
  {
   "cell_type": "code",
   "execution_count": null,
   "metadata": {},
   "outputs": [],
   "source": [
    "parent_mean = np.mean(heights.column('MidParent'))\n",
    "parent_sd = np.std(heights.column('MidParent'))\n",
    "child_mean = np.mean(heights.column('Child'))\n",
    "child_sd = np.std(heights.column('Child'))"
   ]
  },
  {
   "cell_type": "code",
   "execution_count": null,
   "metadata": {},
   "outputs": [],
   "source": [
    "def predict_with_r(parent):\n",
    "    \"\"\"Return a prediction of the height of a child \n",
    "    whose parents have a midparent height of parent, \n",
    "    using linear regression.\n",
    "    \"\"\"\n",
    "    parent_su = (parent - parent_mean) / parent_sd\n",
    "    child_su = r * parent_su\n",
    "    return child_su * child_sd + child_mean"
   ]
  },
  {
   "cell_type": "code",
   "execution_count": null,
   "metadata": {},
   "outputs": [],
   "source": [
    "predict_with_r(72)"
   ]
  },
  {
   "cell_type": "code",
   "execution_count": null,
   "metadata": {},
   "outputs": [],
   "source": [
    "preds = heights_and_predict.with_column('Prediction_r', heights.apply(predict_with_r, 'MidParent'))\n",
    "preds.scatter(0)"
   ]
  },
  {
   "cell_type": "markdown",
   "metadata": {
    "slideshow": {
     "slide_type": "slide"
    }
   },
   "source": [
    "### Discussion Question\n",
    "\n",
    "A course has a midterm (average 70; standard deviation 10) and a really hard final (average 50; standard deviation 12)\n",
    "\n",
    "If the scatter diagram comparing midterm & final scores for students looks linearly associated with correlation 0.75, then what is the predicted final exam score for a student who received a 90 on the midterm?\n",
    "\n",
    "- A.76\n",
    "- B.90\n",
    "- C.68\n",
    "- D.82\n",
    "- E.67.5"
   ]
  },
  {
   "cell_type": "markdown",
   "metadata": {
    "slideshow": {
     "slide_type": "slide"
    }
   },
   "source": [
    "### Answer\n",
    "\n",
    "1. (90 - 70)/10 = 2 standard units on midterm, \n",
    "2. estimate 0.75 * 2 = 1.5 standard units on final \n",
    "3. estimated final score = 1.5 * 12 + 50 = 68 points"
   ]
  },
  {
   "cell_type": "markdown",
   "metadata": {
    "slideshow": {
     "slide_type": "slide"
    }
   },
   "source": [
    "## Slope and Intercept\n",
    "\n",
    "* What does the regression line look like in original units?"
   ]
  },
  {
   "attachments": {
    "image.png": {
     "image/png": "[encoded data removed]"
    }
   },
   "cell_type": "markdown",
   "metadata": {
    "slideshow": {
     "slide_type": "slide"
    }
   },
   "source": [
    "## Regression line equation\n",
    "\n",
    "In original units, the regression line has this equation:\n",
    "\n",
    "![image.png](attachment:image.png)\n"
   ]
  },
  {
   "cell_type": "markdown",
   "metadata": {
    "slideshow": {
     "slide_type": "slide"
    }
   },
   "source": [
    "## Regression line equation:\n",
    "\n",
    "* In standard units:\n",
    "$$ y = r \\times x $$\n",
    "* In original units, \n",
    "    - where $m_x$, $m_y$ are the averages of $x$ and $y$\n",
    "    - where $s_x$, $s_y$ are the standard deviations of $x$ and $y$,\n",
    "$$\\frac{(y - m_y)}{s_y} = r \\times \\frac{(x - m_x)}{s_x}$$\n",
    "* This equation reworked into the point-slope form of a line:\n",
    "$$(y - m_y) = \\left(\\frac{r\\cdot s_y}{s_x}\\right)(x - m_x)$$\n",
    "\n",
    "* Or in the slope-intercept form:\n",
    "\n",
    "$$y = \\left(\\frac{r\\cdot s_y}{s_x}\\right)x + \\left(m_y - \\frac{r\\cdot s_y\\cdot m_x}{s_x}\\right)$$"
   ]
  },
  {
   "cell_type": "markdown",
   "metadata": {
    "slideshow": {
     "slide_type": "slide"
    }
   },
   "source": [
    "## Slope and intercept\n",
    "\n",
    "* The regression line is given by $y = mx + b$, where:\n",
    "    - the slope $m$ is: $$m = r\\cdot\\frac{SD\\ of\\ y}{SD\\ of\\ x}$$\n",
    "    - the y-intercept $b$ is: $$b = (avg\\ of\\ y) - m\\cdot(avg\\ of\\ x)$$\n"
   ]
  },
  {
   "attachments": {
    "image.png": {
     "image/png": "[encoded data removed]"
    }
   },
   "cell_type": "markdown",
   "metadata": {
    "slideshow": {
     "slide_type": "slide"
    }
   },
   "source": [
    "## The regression line\n",
    "![image.png](attachment:image.png)"
   ]
  },
  {
   "cell_type": "markdown",
   "metadata": {
    "slideshow": {
     "slide_type": "slide"
    }
   },
   "source": [
    "### Predict the retail price of a hybrid with acceleration of 12.5\n",
    "* For each additional unit of acceleration (kph/s), how does the price change?"
   ]
  },
  {
   "cell_type": "code",
   "execution_count": null,
   "metadata": {},
   "outputs": [],
   "source": [
    "def correlation(t, x, y):\n",
    "    return np.mean(standard_units(t.column(x))*standard_units(t.column(y)))\n",
    "\n",
    "def slope(t, x, y):\n",
    "    \"\"\"The slope of the regression line (original units)\"\"\"\n",
    "    r = correlation(t, x, y)\n",
    "    return r * np.std(t.column(y)) / np.std(t.column(x))\n",
    "\n",
    "def intercept(t, x, y):\n",
    "    \"\"\"The intercept of the regression line (original units)\"\"\"\n",
    "    return np.mean(t.column(y)) - slope(t, x, y) * np.mean(t.column(x))\n"
   ]
  },
  {
   "cell_type": "code",
   "execution_count": null,
   "metadata": {},
   "outputs": [],
   "source": [
    "m = slope(hybrid, 'acceleration', 'msrp')\n",
    "b = intercept(hybrid, 'acceleration', 'msrp')\n",
    "\n",
    "y = m * 18.5 + b\n",
    "y"
   ]
  },
  {
   "cell_type": "code",
   "execution_count": null,
   "metadata": {},
   "outputs": [],
   "source": [
    "hybrid.scatter('acceleration', 'msrp')\n",
    "x = np.arange(7,22)\n",
    "plt.plot(x, m * x + b);"
   ]
  },
  {
   "cell_type": "code",
   "execution_count": null,
   "metadata": {},
   "outputs": [],
   "source": [
    "m"
   ]
  },
  {
   "cell_type": "markdown",
   "metadata": {
    "slideshow": {
     "slide_type": "slide"
    }
   },
   "source": [
    "### Do people choose people of similar heights as mates?\n",
    " - \"Are the heights of mothers/fathers linearly associated?\"\n",
    " - Compute the correlation and regression line"
   ]
  },
  {
   "cell_type": "code",
   "execution_count": null,
   "metadata": {},
   "outputs": [],
   "source": [
    "galton = Table.read_table('galton.csv')\n",
    "\n",
    "m = slope(galton, 'father', 'mother')\n",
    "b = intercept(galton, 'father', 'mother')\n",
    "\n",
    "galton.scatter('father', 'mother')\n",
    "x = np.arange(60, 80)\n",
    "plt.plot(x, m*x+b);\n",
    "\n",
    "correlation(galton, 'mother', 'father')"
   ]
  },
  {
   "cell_type": "code",
   "execution_count": null,
   "metadata": {},
   "outputs": [],
   "source": [
    "# use `fit_line=True` instead\n",
    "galton.scatter('father', 'mother', fit_line=True)"
   ]
  },
  {
   "cell_type": "markdown",
   "metadata": {
    "slideshow": {
     "slide_type": "slide"
    }
   },
   "source": [
    "## The effect of outliers on correlation\n",
    "What is the correlation coefficient of $x$ and $y$ below? Note the outlier in the lower right corner.\n",
    "* A) $r>0$\n",
    "* B) $r=0$\n",
    "* C) $r<0$"
   ]
  },
  {
   "cell_type": "code",
   "execution_count": null,
   "metadata": {},
   "outputs": [],
   "source": [
    "outlier = Table.read_table('outlier.csv')\n",
    "outlier.scatter(0)"
   ]
  },
  {
   "cell_type": "code",
   "execution_count": null,
   "metadata": {},
   "outputs": [],
   "source": [
    "outlier.scatter(0, fit_line=True)\n",
    "correlation(outlier, 'x', 'y')"
   ]
  },
  {
   "cell_type": "code",
   "execution_count": null,
   "metadata": {},
   "outputs": [],
   "source": [
    "without_outlier = outlier.where('y', are.above(40))\n",
    "without_outlier.scatter(0, fit_line=True)\n",
    "correlation(without_outlier, 'x', 'y')"
   ]
  },
  {
   "cell_type": "markdown",
   "metadata": {
    "slideshow": {
     "slide_type": "slide"
    }
   },
   "source": [
    "## Measuring the error in prediction\n",
    "\n",
    "How well does an arbitrary line describe the data?"
   ]
  },
  {
   "cell_type": "code",
   "execution_count": null,
   "metadata": {},
   "outputs": [],
   "source": [
    "def plot_errors(m, b, t):\n",
    "    x = t.column('x')\n",
    "    y = m*x + b\n",
    "    t.scatter(0)\n",
    "    plt.plot(x, y)\n",
    "    for k in np.arange(t.num_rows):\n",
    "        xk = t.column('x').item(k)\n",
    "        yk = y.item(k)\n",
    "        plt.plot([xk, xk], [yk, t.column('y').item(k)], c='r', linewidth=2)\n",
    "    \n",
    "    plt.suptitle('y = %.2f * x + %.2f' %(m, b), fontsize=18)"
   ]
  },
  {
   "cell_type": "code",
   "execution_count": null,
   "metadata": {},
   "outputs": [],
   "source": [
    "m=0.62\n",
    "b=30\n",
    "plot_errors(m, b, without_outlier)"
   ]
  },
  {
   "cell_type": "markdown",
   "metadata": {
    "slideshow": {
     "slide_type": "slide"
    }
   },
   "source": [
    "## Measuring the error in estimation\n",
    "\n",
    "* error = actual value - prediction\n",
    "* Typically, some errors are positive and some negative\n",
    "    - What does a positive error mean? negative?\n",
    "\n",
    "* To measure the rough size of the errors\n",
    "    - square the errors to eliminate cancellation\n",
    "    - take the mean of the squared errors\n",
    "    - take the square root to fix the units\n",
    "    - root mean square error (RMSE)"
   ]
  },
  {
   "cell_type": "markdown",
   "metadata": {
    "slideshow": {
     "slide_type": "slide"
    }
   },
   "source": [
    "## Calculate the root mean square error (RMSE)"
   ]
  },
  {
   "cell_type": "code",
   "execution_count": null,
   "metadata": {
    "slideshow": {
     "slide_type": "-"
    }
   },
   "outputs": [],
   "source": [
    "preds = without_outlier.with_column('pred', m * without_outlier.column('x') + b)\n",
    "preds = preds.with_column('diffs', preds.column('pred') - preds.column('y'))\n",
    "preds = preds.with_column('sq_diffs', preds.column('diffs')**2)\n",
    "preds"
   ]
  },
  {
   "cell_type": "code",
   "execution_count": null,
   "metadata": {},
   "outputs": [],
   "source": [
    "np.sqrt(np.mean(preds.column('sq_diffs')))"
   ]
  },
  {
   "cell_type": "markdown",
   "metadata": {
    "slideshow": {
     "slide_type": "slide"
    }
   },
   "source": [
    "## Calculate the root mean square error (RMSE)"
   ]
  },
  {
   "cell_type": "code",
   "execution_count": null,
   "metadata": {},
   "outputs": [],
   "source": [
    "def rmse(pred, true):\n",
    "    '''calculate the RSME of two arrays:\n",
    "    pred: the array of predicted values\n",
    "    true: the array of true values of the predicted attribute\n",
    "    '''\n",
    "    return np.sqrt(np.mean((pred - true)**2))"
   ]
  },
  {
   "cell_type": "markdown",
   "metadata": {
    "slideshow": {
     "slide_type": "slide"
    }
   },
   "source": [
    "## The error of linear predictors\n",
    "\n",
    "* What is the best linear prediction function among all possible lines?\n",
    "* Minimize the RMSE"
   ]
  },
  {
   "cell_type": "code",
   "execution_count": null,
   "metadata": {},
   "outputs": [],
   "source": [
    "def plot_errors_multi(m, b, t, ax):\n",
    "    x = t.column('x')\n",
    "    y = m*x + b\n",
    "    ax.scatter(t.column('x'), t.column('y'))\n",
    "    #t.scatter(0)\n",
    "    ax.plot(x, y)\n",
    "    for k in np.arange(t.num_rows):\n",
    "        xk = t.column('x').item(k)\n",
    "        yk = y.item(k)\n",
    "        ax.plot([xk, xk], [yk, t.column('y').item(k)], c='r', linewidth=2)\n",
    "    \n",
    "    error = rmse(y, t.column('y'))\n",
    "    ax.set_title('y = %.2f * x + %.2f; rmse %f' %(m, b, error))\n",
    "    "
   ]
  },
  {
   "cell_type": "code",
   "execution_count": null,
   "metadata": {},
   "outputs": [],
   "source": [
    "fig, axes = plt.subplots(4,2, figsize=(12,16))\n",
    "k = 0\n",
    "for m in np.arange(.2, .6, 0.1):\n",
    "    for b in np.arange(30, 40, 5):\n",
    "        plot_errors_multi(m, b, without_outlier, ax=axes[k//2, k % 2])\n",
    "        k = k + 1"
   ]
  },
  {
   "cell_type": "markdown",
   "metadata": {
    "slideshow": {
     "slide_type": "slide"
    }
   },
   "source": [
    "## Finding the best linear prediction function\n",
    "\n",
    "Approach\n",
    "\n",
    "1. Enumerate a large number of reasonable lines (i.e. pairs of slopes/intercepts)\n",
    "2. Calculate the RMSE of each linear predictor\n",
    "3. Take the slope/intercept pair with the smallest RMSE."
   ]
  },
  {
   "cell_type": "code",
   "execution_count": null,
   "metadata": {},
   "outputs": [],
   "source": [
    "errors = make_array()\n",
    "slopes = make_array()\n",
    "intercepts = make_array()\n",
    "\n",
    "for m in np.arange(-1, 1, 0.01):\n",
    "    for b in np.arange(-50, 50, 0.5):\n",
    "        pred = m * without_outlier.column('x') + b\n",
    "        error = rmse(pred, without_outlier.column('y'))\n",
    "\n",
    "        errors = np.append(errors, error)\n",
    "        slopes = np.append(slopes, m)\n",
    "        intercepts = np.append(intercepts, b)"
   ]
  },
  {
   "cell_type": "code",
   "execution_count": null,
   "metadata": {},
   "outputs": [],
   "source": [
    "# smallest\n",
    "errors.min()"
   ]
  },
  {
   "cell_type": "code",
   "execution_count": null,
   "metadata": {},
   "outputs": [],
   "source": [
    "#slope corresponding to smallest error\n",
    "m = slopes.item(errors.argmin())\n",
    "m"
   ]
  },
  {
   "cell_type": "code",
   "execution_count": null,
   "metadata": {},
   "outputs": [],
   "source": [
    "#intercept corresponding to smallest error\n",
    "b = intercepts.item(errors.argmin())\n",
    "b"
   ]
  },
  {
   "cell_type": "code",
   "execution_count": null,
   "metadata": {},
   "outputs": [],
   "source": [
    "# slope/intercept of the regression line\n",
    "slope(without_outlier, 'x', 'y'), intercept(without_outlier, 'x', 'y')"
   ]
  },
  {
   "cell_type": "code",
   "execution_count": null,
   "metadata": {},
   "outputs": [],
   "source": [
    "x = without_outlier.column('x')\n",
    "without_outlier.scatter(0, fit_line=True)\n",
    "plt.plot(x, m*x + b, linewidth=2)\n",
    "plt.legend(['regression line', 'best fit']);"
   ]
  },
  {
   "cell_type": "code",
   "execution_count": null,
   "metadata": {},
   "outputs": [],
   "source": [
    "plt.scatter(slopes, intercepts, c=(errors - errors.min())/errors.max())\n",
    "plt.xlabel('slopes')\n",
    "plt.ylabel('intercepts')\n",
    "plt.suptitle('Scatterplot of lines, colored by errors');"
   ]
  },
  {
   "cell_type": "markdown",
   "metadata": {
    "slideshow": {
     "slide_type": "slide"
    }
   },
   "source": [
    "## Least squares line\n",
    "\n",
    "* Minimizes the root mean squared error (rmse) among all lines\n",
    "* Coincides with the regression line!\n",
    "    - Regression line defined using statistical quantities\n",
    "    - Line of \"best fit\" defined using algebra/calculus\n",
    "* All equivalent names:\n",
    "    - Line of “best fit”\n",
    "    - Least squares line\n",
    "    - Regression line"
   ]
  },
  {
   "cell_type": "markdown",
   "metadata": {},
   "source": [
    "## Regression line\n",
    "\n",
    "* Describes the \"best linear fit\" of a given dataset.\n",
    "* Describes the linear association of two attributes, given that the data are well described by a linear relationship!\n",
    "* How do we know a linear fit is a good fit?"
   ]
  },
  {
   "cell_type": "code",
   "execution_count": null,
   "metadata": {},
   "outputs": [],
   "source": []
  },
  {
   "cell_type": "code",
   "execution_count": null,
   "metadata": {},
   "outputs": [],
   "source": []
  },
  {
   "cell_type": "code",
   "execution_count": null,
   "metadata": {},
   "outputs": [],
   "source": []
  }
 ],
 "metadata": {
  "celltoolbar": "Slideshow",
  "kernelspec": {
   "display_name": "Python 3",
   "language": "python",
   "name": "python3"
  },
  "language_info": {
   "codemirror_mode": {
    "name": "ipython",
    "version": 3
   },
   "file_extension": ".py",
   "mimetype": "text/x-python",
   "name": "python",
   "nbconvert_exporter": "python",
   "pygments_lexer": "ipython3",
   "version": "3.6.8"
  },
  "livereveal": {
   "scroll": true,
   "transition": "none"
  }
 },
 "nbformat": 4,
 "nbformat_minor": 2
}
