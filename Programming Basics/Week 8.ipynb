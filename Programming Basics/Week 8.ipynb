{
 "cells": [
  {
   "cell_type": "code",
   "execution_count": null,
   "metadata": {
    "colab": {},
    "colab_type": "code",
    "id": "NxJHiS69pIro"
   },
   "outputs": [],
   "source": [
    "import numpy as np\n",
    "import math\n",
    "from datascience import *"
   ]
  },
  {
   "cell_type": "markdown",
   "metadata": {
    "colab_type": "text",
    "id": "QN-vtsOjoufa"
   },
   "source": [
    "1. What does this function do?\n",
    "\n"
   ]
  },
  {
   "cell_type": "code",
   "execution_count": null,
   "metadata": {
    "colab": {},
    "colab_type": "code",
    "id": "awVlgzvHo09M"
   },
   "outputs": [],
   "source": [
    "def mystery(n):\n",
    "    if n == 0:\n",
    "        return False\n",
    "    while (n != 1): # while loops iterate until the condition specified is false\n",
    "        if (n % 2 != 0):\n",
    "            return False\n",
    "        n = n // 2\n",
    "    return True"
   ]
  },
  {
   "cell_type": "markdown",
   "metadata": {
    "colab_type": "text",
    "id": "Zd8J04EIqetG"
   },
   "source": [
    "2. **Linear search** is a searching method that checks every element in a sequence until the desired element is found. Define a function called *linear_search* that takes in an array of numbers and a number to search for in the array. If the number is found, return the index of the number in the array. Otherwise return -1."
   ]
  },
  {
   "cell_type": "code",
   "execution_count": null,
   "metadata": {
    "colab": {},
    "colab_type": "code",
    "id": "g5gjXWGcrtz2"
   },
   "outputs": [],
   "source": [
    "def linear_search(num_arr, num):\n",
    "    # your code here\n",
    "    return -1"
   ]
  },
  {
   "cell_type": "markdown",
   "metadata": {
    "colab_type": "text",
    "id": "m0O8YfS6r8zy"
   },
   "source": [
    "3. What if we want a more efficient searching method that doesn't have to check every element in a sequence to find a desired element? **Binary search** is a searching method that takes much less time. It takes a sorted sequence and  checks the middle element. If the middle element is equal to the desired element then the desired element is found. If the desired element is smaller than the middle element then the elements to the left of the middle element are searched again in the same way. If the desired element is greater than the middle element then the elements to the right of the middle element are searched again. It might be a little challenging but try to define a function called *binary_search* that takes a sorted array of numbers and number to find. If the number is found, return the index of the number in the array. Otherwise return -1. Feel free to look up binary search for a more visual explanation of how the searching method works."
   ]
  },
  {
   "cell_type": "code",
   "execution_count": null,
   "metadata": {
    "colab": {},
    "colab_type": "code",
    "id": "YZKg3aKxr8CV"
   },
   "outputs": [],
   "source": [
    "def binary_search(sorted_arr, num):\n",
    "    # your code here\n",
    "    return -1"
   ]
  },
  {
   "cell_type": "markdown",
   "metadata": {
    "colab_type": "text",
    "id": "OPX26BxTwvGf"
   },
   "source": [
    "4. Define a function called *pascal* that takes an integer *n* and prints out the first n rows of Pascal's triangle."
   ]
  },
  {
   "cell_type": "markdown",
   "metadata": {
    "colab_type": "text",
    "id": "9TrmbKK608qY"
   },
   "source": [
    "![alt text](https://www.w3resource.com/w3r_images/pascal-traingle.png)"
   ]
  },
  {
   "cell_type": "code",
   "execution_count": null,
   "metadata": {
    "colab": {},
    "colab_type": "code",
    "id": "mrRgT9UQ00kV"
   },
   "outputs": [],
   "source": [
    "def pascal(n):\n",
    "    # your code here\n",
    "    print(1)"
   ]
  },
  {
   "cell_type": "markdown",
   "metadata": {
    "colab_type": "text",
    "id": "SzflGuBB7aMy"
   },
   "source": [
    "5. Define a function called *reverse_num* that takes an integer and returns the integer with the digits in reverse order. Ex.) reverse_num(1765) -> 5671"
   ]
  },
  {
   "cell_type": "code",
   "execution_count": null,
   "metadata": {
    "colab": {},
    "colab_type": "code",
    "id": "t0adJhvd7w2j"
   },
   "outputs": [],
   "source": [
    "def reverse_num(n):\n",
    "    num_reversed = ...\n",
    "    # your code here\n",
    "    return num_reversed"
   ]
  },
  {
   "cell_type": "markdown",
   "metadata": {
    "colab_type": "text",
    "id": "7eMsnV8d_IUM"
   },
   "source": [
    "6. Define a function called *geo_progression* that takes an array of numbers and returns True if the sequence of numbers is a geometric progression. A number sequence is a geometric progression if every number after the first is the result of multiplying the previous number and a fixed number called the common ratio. \n",
    "Ex.) \n",
    "\n",
    "> geo_progression(make_array(3,15,75,375,1875)) -> True #geometric progression with common ratio 5\n",
    "> geo_progression(make_array(1,2,3,4)) -> False\n",
    "\n"
   ]
  },
  {
   "cell_type": "code",
   "execution_count": null,
   "metadata": {
    "colab": {},
    "colab_type": "code",
    "id": "rW3IK0JVBQEa"
   },
   "outputs": [],
   "source": [
    "def geo_progression(num_arr):\n",
    "    # your code here\n",
    "    return True"
   ]
  },
  {
   "cell_type": "markdown",
   "metadata": {
    "colab_type": "text",
    "id": "Kuv8aDCWCbJO"
   },
   "source": [
    "7. Define a functon called *anagram* that takes a two strings and returns True if the two strings are an anagram of each other. An anagram is a word formed by rearranging the letters of another word."
   ]
  },
  {
   "cell_type": "code",
   "execution_count": null,
   "metadata": {
    "colab": {},
    "colab_type": "code",
    "id": "yN7FBUwpEgPR"
   },
   "outputs": [],
   "source": [
    "def anagram(str1, str2):\n",
    "    # your code here\n",
    "    return True"
   ]
  }
 ],
 "metadata": {
  "colab": {
   "collapsed_sections": [],
   "name": "Week 8.ipynb",
   "provenance": []
  },
  "kernelspec": {
   "display_name": "Python 3",
   "language": "python",
   "name": "python3"
  },
  "language_info": {
   "codemirror_mode": {
    "name": "ipython",
    "version": 3
   },
   "file_extension": ".py",
   "mimetype": "text/x-python",
   "name": "python",
   "nbconvert_exporter": "python",
   "pygments_lexer": "ipython3",
   "version": "3.6.7"
  }
 },
 "nbformat": 4,
 "nbformat_minor": 1
}
