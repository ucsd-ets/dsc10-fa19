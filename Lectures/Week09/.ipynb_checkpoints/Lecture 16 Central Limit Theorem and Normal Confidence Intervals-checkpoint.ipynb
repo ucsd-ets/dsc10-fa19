{
 "cells": [
  {
   "cell_type": "code",
   "execution_count": null,
   "metadata": {},
   "outputs": [],
   "source": [
    "#: the usual imports\n",
    "from datascience import *\n",
    "import numpy as np\n",
    "\n",
    "%matplotlib inline\n",
    "import matplotlib.pyplot as plt\n",
    "import warnings; warnings.simplefilter('ignore')\n",
    "\n",
    "def normal_curve(x, mu=0, sigma=1):\n",
    "    return 1 / np.sqrt(2*np.pi) * np.exp(-(x - mu)**2/(2 * sigma**2))\n",
    "\n",
    "def plot_sample_mean(sample_size):\n",
    "    sample = flights.sample(sample_size).column('Delay')\n",
    "\n",
    "    fig, ax1 = plt.subplots()\n",
    "    plt.xlim([-10, 80])\n",
    "    plt.grid('off')\n",
    "    ax1.hist(sample, density=True, bins=np.arange(0, 200, 5), label='Sample')\n",
    "    ax2 = ax1.twinx()\n",
    "    plot_clt_curve(sample_size)\n",
    "    ax1.set_ylim([-.0, .055])\n",
    "    ax2.set_ylim([-.01, .5])\n",
    "\n",
    "    plt.scatter(sample.mean(), 0, marker='^', color='C1', s=200, label='Sample Mean')\n",
    "    plt.legend(loc='upper right')\n",
    "\n",
    "plt.style.use('fivethirtyeight')\n",
    "\n",
    "from notebook.services.config import ConfigManager\n",
    "\n",
    "cm = ConfigManager()\n",
    "cm.update(\n",
    "   \"livereveal\", {\n",
    "       'width': 1200,\n",
    "       'height': 700,\n",
    "       \"scroll\": True,\n",
    "})"
   ]
  },
  {
   "cell_type": "markdown",
   "metadata": {
    "slideshow": {
     "slide_type": "slide"
    }
   },
   "source": [
    "# Lecture 16\n",
    "\n",
    "### Central Limit Theorem and Normal Confidence Intervals"
   ]
  },
  {
   "cell_type": "markdown",
   "metadata": {
    "slideshow": {
     "slide_type": "slide"
    }
   },
   "source": [
    "## The Central Limit Theorem\n",
    "\n",
    "> The distribution of sums (and averages) of large random samples (w/ replacement) are roughly normal, regardless of the distribution of the population from which the sample was drawn"
   ]
  },
  {
   "cell_type": "markdown",
   "metadata": {
    "slideshow": {
     "slide_type": "slide"
    }
   },
   "source": [
    "## The shape of the distribution\n",
    "\n",
    "- CLT: Sums and averages of random samples are roughly normal.\n",
    "- Centered at population mean.\n",
    "- What is the spread of the distribution?"
   ]
  },
  {
   "cell_type": "markdown",
   "metadata": {
    "slideshow": {
     "slide_type": "slide"
    }
   },
   "source": [
    "## The spread of the distribution\n",
    "\n",
    "Suppose we take a sample of flights from our flight delay dataset and compute the mean flight delay. The distribution of the sample mean will be bell-shaped and centered at the population mean, by the CLT.\n",
    "\n",
    "If we increase the sample size (take larger samples), the distribution of the sample mean will have  \n",
    "    A. higher SD  \n",
    "    B. lower SD  \n",
    "    C. the same SD"
   ]
  },
  {
   "cell_type": "code",
   "execution_count": null,
   "metadata": {
    "slideshow": {
     "slide_type": "slide"
    }
   },
   "outputs": [],
   "source": [
    "#: draw `sample_size` flights, compute mean, `repetitions` many times\n",
    "def sample_mean_delays(sample_size, repetitions=2000):\n",
    "    sample_means = make_array()\n",
    "    for i in np.arange(repetitions):\n",
    "        sample = flights.sample(sample_size)\n",
    "        sample_mean = sample.column('Delay').mean()\n",
    "        sample_means = np.append(sample_means, sample_mean)\n",
    "    return sample_means"
   ]
  },
  {
   "cell_type": "code",
   "execution_count": null,
   "metadata": {
    "slideshow": {
     "slide_type": "slide"
    }
   },
   "outputs": [],
   "source": [
    "#: repeat the experiment for various sample sizes\n",
    "sample_means = {}\n",
    "sample_sizes = [1, 4, 16, 64, 100, 900, 1600]\n",
    "\n",
    "for size in sample_sizes:\n",
    "    sample_means[size] = sample_mean_delays(size)"
   ]
  },
  {
   "cell_type": "code",
   "execution_count": null,
   "metadata": {
    "slideshow": {
     "slide_type": "slide"
    }
   },
   "outputs": [],
   "source": [
    "#: plot the distributions\n",
    "print(\"SD of The Population:\", np.std(flights.column('Delay')))\n",
    "bins = np.arange(5, 30)\n",
    "for size in sample_sizes:\n",
    "    Table().with_column(\n",
    "        f'Sample Mean, size = {size}',\n",
    "        sample_means[size]\n",
    "    ).hist(bins=bins)\n",
    "    print(\"Sample Size:\", size)\n",
    "    print(\"SD of This Distribution (Sample Mean):\", np.std(sample_means[size]))"
   ]
  },
  {
   "cell_type": "markdown",
   "metadata": {
    "slideshow": {
     "slide_type": "slide"
    }
   },
   "source": [
    "## CLT for the sample mean\n",
    "\n",
    "- Sample mean of random samples is distributed normally.\n",
    "- Centered at population mean.\n",
    "- Standard deviation is:\n",
    "$$\n",
    "    \\frac{\n",
    "        \\text{population standard dev.}\n",
    "    }{\n",
    "        \\sqrt{\\text{sample size}}\n",
    "    }\n",
    "$$"
   ]
  },
  {
   "cell_type": "code",
   "execution_count": null,
   "metadata": {
    "slideshow": {
     "slide_type": "slide"
    }
   },
   "outputs": [],
   "source": [
    "#: clt's prediction\n",
    "def clt_standard_deviation(n):\n",
    "    sigma = flights.column('Delay').std()\n",
    "    return sigma / np.sqrt(n)"
   ]
  },
  {
   "cell_type": "code",
   "execution_count": null,
   "metadata": {
    "slideshow": {
     "slide_type": "slide"
    }
   },
   "outputs": [],
   "source": [
    "#: plot prediction and observed\n",
    "observed.scatter('Sample Size', s=70, zorder=2)\n",
    "x = np.linspace(1, 1600)\n",
    "y = clt_standard_deviation(x)\n",
    "plt.plot(x, y, zorder=1)"
   ]
  },
  {
   "cell_type": "markdown",
   "metadata": {
    "slideshow": {
     "slide_type": "slide"
    }
   },
   "source": [
    "## Recap\n",
    "\n",
    "- We want to find population mean.\n",
    "- But we only have one sample.\n",
    "- Hope that sample mean is close to population mean.\n",
    "- But it could have been different."
   ]
  },
  {
   "cell_type": "markdown",
   "metadata": {
    "slideshow": {
     "slide_type": "slide"
    }
   },
   "source": [
    "## Recap\n",
    "\n",
    "- We can run bootstrap, or (sometimes) draw more samples to approximate sampling distribution.\n",
    "- But CLT says that it is normal.\n",
    "- Centered at population mean.\n",
    "- Standard deviation is:\n",
    "$$\n",
    "    \\frac{\n",
    "        \\text{population standard dev.}\n",
    "    }{\n",
    "        \\sqrt{\\text{sample size}}\n",
    "    }\n",
    "$$"
   ]
  },
  {
   "cell_type": "markdown",
   "metadata": {
    "slideshow": {
     "slide_type": "slide"
    }
   },
   "source": [
    "## Three Distributions\n",
    "\n",
    "Suppose we draw a sample of flights and find the mean flight delay.\n",
    "\n",
    "Three distributions are involved:\n",
    "\n",
    "- The population (we don't see this)\n",
    "- The sample (we see this)\n",
    "- Distribution of the sample mean (we don't see this directly)\n",
    "    - a.k.a, sampling distribution of mean\n",
    "    - a.k.a, empirical distribution of sample mean"
   ]
  },
  {
   "cell_type": "markdown",
   "metadata": {
    "slideshow": {
     "slide_type": "slide"
    }
   },
   "source": [
    "## The population (we don't see this)"
   ]
  },
  {
   "cell_type": "code",
   "execution_count": null,
   "metadata": {},
   "outputs": [],
   "source": [
    "flights = Table.read_table('./united_summer2015.csv')\n",
    "flights.hist('Delay', bins=30)"
   ]
  },
  {
   "cell_type": "markdown",
   "metadata": {
    "slideshow": {
     "slide_type": "slide"
    }
   },
   "source": [
    "## The population\n",
    "\n",
    "- We don't see:\n",
    "    - the population distribution,\n",
    "    - the population mean (fixed!),\n",
    "    - the population standard deviation (fixed!)."
   ]
  },
  {
   "cell_type": "markdown",
   "metadata": {
    "slideshow": {
     "slide_type": "slide"
    }
   },
   "source": [
    "## The sample (we see this)"
   ]
  },
  {
   "cell_type": "code",
   "execution_count": null,
   "metadata": {},
   "outputs": [],
   "source": [
    "flights.sample(400).hist('Delay', bins=30)"
   ]
  },
  {
   "cell_type": "markdown",
   "metadata": {
    "slideshow": {
     "slide_type": "slide"
    }
   },
   "source": [
    "## The sample\n",
    "\n",
    "- We *do* see (or can calculate):\n",
    "    - the sample itself (random!),\n",
    "    - the sample's mean (random!),\n",
    "    - the sample's standard deviation (random!)."
   ]
  },
  {
   "cell_type": "markdown",
   "metadata": {
    "slideshow": {
     "slide_type": "slide"
    }
   },
   "source": [
    "## Distribution of the sample mean (we don't see this directly)\n",
    "\n",
    "- We don't see it, but the **Central Limit Theorem** tells us what it should look like:\n",
    "    - Normally distributed\n",
    "    - Centered at population mean (fixed, unobserved).\n",
    "    - Standard deviation (fixed, unobserved):\n",
    "$$\\frac{\\text{population standard dev.}}{\\sqrt{\\text{sample size}}}$$"
   ]
  },
  {
   "cell_type": "markdown",
   "metadata": {
    "slideshow": {
     "slide_type": "slide"
    }
   },
   "source": [
    "##  Distribution of the sample mean (we don't see this directly)"
   ]
  },
  {
   "cell_type": "code",
   "execution_count": null,
   "metadata": {},
   "outputs": [],
   "source": [
    "#:\n",
    "population_mean = flights.column('Delay').mean()\n",
    "population_sd = flights.column('Delay').std()\n",
    "\n",
    "def plot_clt_curve(sample_size):\n",
    "    x = np.linspace(-10, 100, 1000)\n",
    "    y = normal_curve(x, population_mean, population_sd / np.sqrt(sample_size))\n",
    "    plt.plot(x, y, color='black')\n",
    "    \n",
    "plot_clt_curve(400)"
   ]
  },
  {
   "cell_type": "markdown",
   "metadata": {
    "slideshow": {
     "slide_type": "slide"
    }
   },
   "source": [
    "## The Central Limit Theorem"
   ]
  },
  {
   "cell_type": "code",
   "execution_count": null,
   "metadata": {
    "scrolled": false
   },
   "outputs": [],
   "source": [
    "sample_size = 400\n",
    "\n",
    "for i in range(10):\n",
    "    plot_sample_mean(sample_size)"
   ]
  },
  {
   "cell_type": "markdown",
   "metadata": {
    "slideshow": {
     "slide_type": "slide"
    }
   },
   "source": [
    "# Normal Confidence Intervals"
   ]
  },
  {
   "attachments": {
    "normal.PNG": {
     "image/png": "[encoded data removed]"
    }
   },
   "cell_type": "markdown",
   "metadata": {
    "slideshow": {
     "slide_type": "slide"
    }
   },
   "source": [
    "## Normal confidence intervals\n",
    "\n",
    "- We used bootstrapping to construct confidence intervals.\n",
    "- But we can often use the CLT.\n",
    "    - Computationally cheaper!\n",
    "    \n",
    "![normal.PNG](attachment:normal.PNG)"
   ]
  },
  {
   "cell_type": "markdown",
   "metadata": {
    "slideshow": {
     "slide_type": "slide"
    }
   },
   "source": [
    "## Run the bootstrap"
   ]
  },
  {
   "cell_type": "code",
   "execution_count": null,
   "metadata": {
    "slideshow": {
     "slide_type": "-"
    }
   },
   "outputs": [],
   "source": [
    "#: run the bootstrap for sample mean of flight delays\n",
    "n_boot = 5000\n",
    "np.random.seed(42)\n",
    "sample = flights.sample(400)\n",
    "boot_means = make_array()\n",
    "\n",
    "for i in np.arange(n_boot):\n",
    "    resample = sample.sample()\n",
    "    boot_mean = resample.column('Delay').mean()\n",
    "    boot_means = np.append(boot_means, boot_mean)"
   ]
  },
  {
   "cell_type": "markdown",
   "metadata": {
    "slideshow": {
     "slide_type": "slide"
    }
   },
   "source": [
    "## Visualize the bootstrap"
   ]
  },
  {
   "cell_type": "code",
   "execution_count": null,
   "metadata": {},
   "outputs": [],
   "source": [
    "#: visualize\n",
    "Table().with_column('Bootstrap Means', boot_means).hist()"
   ]
  },
  {
   "cell_type": "markdown",
   "metadata": {
    "slideshow": {
     "slide_type": "slide"
    }
   },
   "source": [
    "## Construct 95% bootstrapped confidence interval"
   ]
  },
  {
   "cell_type": "code",
   "execution_count": null,
   "metadata": {},
   "outputs": [],
   "source": [
    "#: construct confidence interval\n",
    "left_boot = percentile(2.5, boot_means)\n",
    "right_boot = percentile(97.5, boot_means)\n",
    "[left_boot, right_boot]"
   ]
  },
  {
   "cell_type": "code",
   "execution_count": null,
   "metadata": {},
   "outputs": [],
   "source": [
    "Table().with_column('Bootstrap Means', boot_means).hist()\n",
    "plt.plot([left_boot, right_boot], [0, 0], color='lime', linewidth=10);"
   ]
  },
  {
   "cell_type": "markdown",
   "metadata": {
    "slideshow": {
     "slide_type": "slide"
    }
   },
   "source": [
    "## What did the bootstrap give us?\n",
    "\n",
    "- We use bootstrap to approximate distribution of sample mean.\n",
    "- But CLT tells us it is approximately normal!\n",
    "- We can use the CLT directly to construct CIs."
   ]
  },
  {
   "cell_type": "markdown",
   "metadata": {
    "slideshow": {
     "slide_type": "slide"
    }
   },
   "source": [
    "## Normal confidence intervals\n",
    "\n",
    "- Draw a normal curve centered at the sample mean\n",
    "- CLT tells us SD is\n",
    "$$\n",
    "    \\frac{\n",
    "        \\text{population standard dev.}\n",
    "    }{\n",
    "        \\sqrt{\\text{sample size}}\n",
    "    }\n",
    "$$\n",
    "- Don't know population SD. Instead, use sample SD:\n",
    "$$\n",
    "    \\frac{\n",
    "        \\text{sample standard dev.}\n",
    "    }{\n",
    "        \\sqrt{\\text{sample size}}\n",
    "    }\n",
    "$$"
   ]
  },
  {
   "cell_type": "markdown",
   "metadata": {
    "slideshow": {
     "slide_type": "slide"
    }
   },
   "source": [
    "## The normal curve"
   ]
  },
  {
   "cell_type": "code",
   "execution_count": null,
   "metadata": {
    "slideshow": {
     "slide_type": ""
    }
   },
   "outputs": [],
   "source": [
    "#: draw the normal curve\n",
    "from scipy import stats\n",
    "np.random.seed(42)\n",
    "sample = flights.sample(400).column('Delay')\n",
    "x = np.linspace(sample.mean() - 3*sample.std()/20, sample.mean() + 3*sample.std()/20, 1000)\n",
    "y = stats.norm.pdf(x, sample.mean(), sample.std()/20)\n",
    "plt.plot(x, y, color='black', linestyle='--')\n",
    "plt.scatter(sample.mean(), 0, marker='^', color='C1', s=80, label='Sample mean')\n",
    "plt.legend(loc='upper right')"
   ]
  },
  {
   "cell_type": "markdown",
   "metadata": {
    "slideshow": {
     "slide_type": "slide"
    }
   },
   "source": [
    "## Computing the confidence interval\n",
    "\n",
    "- Recall: $\\approx$ 95% of normal curve's area falls within $\\pm$ 2 SDs of mean\n",
    "- Don't confuse sample SD with SD of sample mean! (divide by $\\sqrt{\\text{sample size}}$)"
   ]
  },
  {
   "cell_type": "code",
   "execution_count": null,
   "metadata": {},
   "outputs": [],
   "source": [
    "#: compute confidence interval\n",
    "left_normal = sample.mean() - 2*sample.std() / np.sqrt(400)\n",
    "right_normal = sample.mean() + 2*sample.std() / np.sqrt(400)\n",
    "[left_normal, right_normal]"
   ]
  },
  {
   "cell_type": "markdown",
   "metadata": {
    "slideshow": {
     "slide_type": "slide"
    }
   },
   "source": [
    "## Visualize the confidence interval"
   ]
  },
  {
   "cell_type": "code",
   "execution_count": null,
   "metadata": {},
   "outputs": [],
   "source": [
    "#:\n",
    "plt.plot(x, y, color='black', linestyle='--')\n",
    "plt.plot([left_normal, right_normal], [0, 0], zorder=1)\n",
    "plt.scatter(sample.mean(), 0, marker='^', color='C1', zorder=2, s=80)"
   ]
  },
  {
   "cell_type": "markdown",
   "metadata": {
    "slideshow": {
     "slide_type": "slide"
    }
   },
   "source": [
    "## Comparison with bootstrap CI"
   ]
  },
  {
   "cell_type": "code",
   "execution_count": null,
   "metadata": {},
   "outputs": [],
   "source": [
    "#:\n",
    "plt.plot(x, y, color='black', linestyle='--')\n",
    "plt.plot([left_normal, right_normal], [0, 0], zorder=1, label='Normal')\n",
    "plt.plot([left_boot, right_boot], [-.01, -.01], color='lime', label='Boot')\n",
    "plt.scatter(sample.mean(), 0, marker='^', color='C1', zorder=2, s=80)\n",
    "plt.legend()"
   ]
  },
  {
   "cell_type": "markdown",
   "metadata": {
    "slideshow": {
     "slide_type": "slide"
    }
   },
   "source": [
    "## Recap\n",
    "\n",
    "To compute approximate 95% confidence interval for population mean:\n",
    "\n",
    "$$\n",
    "\\left[\n",
    "\\text{sample mean} - 2\\cdot \\frac{\\text{sample SD}}{\\sqrt{\\text{sample size}},\n",
    "\\text{sample mean} + 2\\cdot \\frac{\\text{sample SD}}{\\sqrt{\\text{sample size}}}\n",
    "\\right]\n",
    "$$"
   ]
  },
  {
   "cell_type": "markdown",
   "metadata": {
    "slideshow": {
     "slide_type": "slide"
    }
   },
   "source": [
    "## So why use the bootstrap?\n",
    "\n",
    "- We can use CLT to make CIs for:\n",
    "    - sample mean\n",
    "    - proportions (special case of mean)\n",
    "- But CLT doesn't apply to, for example, median.\n",
    "- Have to use bootstrap there."
   ]
  },
  {
   "cell_type": "markdown",
   "metadata": {
    "slideshow": {
     "slide_type": "slide"
    }
   },
   "source": [
    "# Hypothesis testing"
   ]
  },
  {
   "cell_type": "markdown",
   "metadata": {
    "slideshow": {
     "slide_type": "slide"
    }
   },
   "source": [
    "## Hypothesis testing for the mean\n",
    "\n",
    "- We can use the CLT to run hypothesis tests, too."
   ]
  },
  {
   "cell_type": "markdown",
   "metadata": {
    "slideshow": {
     "slide_type": "slide"
    }
   },
   "source": [
    "## Example: Body temperature\n",
    "\n",
    "- Everyone knows that the average body temperature is 98.6 F (or 37 C).\n",
    "- We have a data set of body temperatures."
   ]
  },
  {
   "cell_type": "code",
   "execution_count": null,
   "metadata": {},
   "outputs": [],
   "source": [
    "#: temperatures\n",
    "temperatures = Table.read_table('temp.csv')\n",
    "temperatures.column(0).mean()"
   ]
  },
  {
   "cell_type": "markdown",
   "metadata": {
    "slideshow": {
     "slide_type": "slide"
    }
   },
   "source": [
    "## Hypothesis test\n",
    "\n",
    "- **Null hypothesis**: The population mean is 98.6 F.\n",
    "- **Alternative hypothesis**: It is significantly less than 98.6 F."
   ]
  },
  {
   "cell_type": "markdown",
   "metadata": {
    "slideshow": {
     "slide_type": "slide"
    }
   },
   "source": [
    "## The null model\n",
    "\n",
    "- Under null hypothesis, sample mean is distributed normally around 98.6, with SD: \n",
    "$$\n",
    "    \\frac{\n",
    "        \\text{population standard dev.}\n",
    "    }{\n",
    "        \\sqrt{\\text{sample size}}\n",
    "    }\n",
    "$$\n",
    "- Null hypothesis does not say that temperatures are distributed normally!\n",
    "- We don't know population SD, use sample SD instead:\n",
    "$$\n",
    "    \\frac{\n",
    "        \\text{sample standard dev.}\n",
    "    }{\n",
    "        \\sqrt{\\text{sample size}}\n",
    "    }\n",
    "$$"
   ]
  },
  {
   "cell_type": "code",
   "execution_count": null,
   "metadata": {},
   "outputs": [],
   "source": [
    "sample_mean_sd = temperatures.column('temperature').std() / np.sqrt(temperatures.num_rows)\n",
    "sample_mean_sd"
   ]
  },
  {
   "cell_type": "markdown",
   "metadata": {
    "slideshow": {
     "slide_type": "slide"
    }
   },
   "source": [
    "## The distribution of the sample mean"
   ]
  },
  {
   "cell_type": "code",
   "execution_count": null,
   "metadata": {},
   "outputs": [],
   "source": [
    "#: \n",
    "x = np.linspace(98, 99, 1000)\n",
    "y = normal_curve(x, 98.6, sample_mean_sd)\n",
    "plt.plot(x, y, color='black')\n",
    "\n",
    "sample_mean = temperatures.column('temperature').mean()\n",
    "plt.scatter(sample_mean, 0, color='C1', marker='o', s=180, zorder=3)"
   ]
  },
  {
   "cell_type": "markdown",
   "metadata": {
    "slideshow": {
     "slide_type": "slide"
    }
   },
   "source": [
    "## The p-value\n",
    "\n",
    "- How often would we see something so small under the null hypothesis?"
   ]
  },
  {
   "cell_type": "code",
   "execution_count": null,
   "metadata": {},
   "outputs": [],
   "source": [
    "#: standardize\n",
    "z = (sample_mean - 98.6) / sample_mean_sd\n",
    "z"
   ]
  },
  {
   "cell_type": "code",
   "execution_count": null,
   "metadata": {},
   "outputs": [],
   "source": [
    "stats.norm.cdf(z)"
   ]
  },
  {
   "cell_type": "markdown",
   "metadata": {
    "slideshow": {
     "slide_type": "slide"
    }
   },
   "source": [
    "## Hypothesis testing\n",
    "\n",
    "- We reject the null hypothesis, as the probability of seeing something this small is very low.\n",
    "- What gives?\n",
    "- 98.6 F is due to Carl Reinhold August Wunderlich, 19th century physician.\n",
    "- His thermometer was miscalibrated.\n",
    "- Later experiment: (36.88 C $\\approx$ 98.38 F), but rounded up to (37 C $\\approx$ 98.6 F)"
   ]
  },
  {
   "cell_type": "markdown",
   "metadata": {
    "slideshow": {
     "slide_type": "slide"
    }
   },
   "source": [
    "## A confidence interval\n",
    "\n",
    "- A 95% confidence interval for the mean body temperature is:"
   ]
  },
  {
   "cell_type": "code",
   "execution_count": null,
   "metadata": {},
   "outputs": [],
   "source": [
    "[sample_mean - 2*sample_mean_sd, sample_mean + 2*sample_mean_sd]"
   ]
  },
  {
   "cell_type": "markdown",
   "metadata": {},
   "source": [
    "- Careful! This doesn't mean that 95% of temperatures fall in this range!"
   ]
  },
  {
   "cell_type": "code",
   "execution_count": null,
   "metadata": {},
   "outputs": [],
   "source": [
    "plt.hist(temperatures.column('temperature'));\n",
    "ax2 = plt.gca().twinx()\n",
    "ax2.plot(x, y, color='black')\n",
    "ax2.set_ylim([-.01, .5])\n",
    "ax2.grid('off')"
   ]
  },
  {
   "cell_type": "markdown",
   "metadata": {
    "slideshow": {
     "slide_type": "slide"
    }
   },
   "source": [
    "# Experiment Design"
   ]
  },
  {
   "cell_type": "markdown",
   "metadata": {
    "slideshow": {
     "slide_type": "slide"
    }
   },
   "source": [
    "## Example: Polling\n",
    "\n",
    "- You are conducting a campus poll:\n",
    "    - Yes/No: Does Eleanor Roosevelt College exist?\n",
    "- You want to estimate the proportion in population who believe \"Yes\".\n",
    "- Need to be accurate to within $\\pm$ 0.03, 95% of the time.\n",
    "- i.e., your 95% confidence interval should be 0.06 wide.\n",
    "- How big of a sample do you need?"
   ]
  },
  {
   "cell_type": "markdown",
   "metadata": {
    "slideshow": {
     "slide_type": "slide"
    }
   },
   "source": [
    "## Proportions are just means\n",
    "\n",
    "- When polling, we'll write 1 if a person answers \"Yes\", 0 otherwise.\n",
    "- The sample proportion in favor of A = mean of 0's and 1's\n",
    "- I.e., it is the mean of random sample.\n",
    "- Hence the CLT applies."
   ]
  },
  {
   "cell_type": "code",
   "execution_count": null,
   "metadata": {},
   "outputs": [],
   "source": [
    "a = make_array(0, 1, 1, 1, 0)\n",
    "a.mean()"
   ]
  },
  {
   "cell_type": "markdown",
   "metadata": {
    "slideshow": {
     "slide_type": "slide"
    }
   },
   "source": [
    "## Our strategy\n",
    "\n",
    "1. We will poll a random sample of $n$ people\n",
    "2. Compute sample mean (i.e., proportion in favor of A)\n",
    "3. Compute sample standard deviation\n",
    "4. Construct 95% confidence interval:\n",
    "$$\n",
    "\\left[\n",
    "\\text{sample mean} - 2\\cdot \\frac{\\text{sample SD}}{\\sqrt{\\text{n}}},\n",
    "\\text{sample mean} + 2\\cdot \\frac{\\text{sample SD}}{\\sqrt{\\text{n}}}\n",
    "\\right]\n",
    "$$"
   ]
  },
  {
   "cell_type": "markdown",
   "metadata": {
    "slideshow": {
     "slide_type": "slide"
    }
   },
   "source": [
    "## Our strategy\n",
    "\n",
    "- We want a CI whose width is 0.06 or less.\n",
    "- The width of our confidence interval depends on two things:\n",
    "    - sample SD\n",
    "    - sample size, $n$\n",
    "- If we know SD, we can pick $n$ to make CI the right size.\n",
    "- But before polling, we don't know the sample SD (we don't have a sample!)"
   ]
  },
  {
   "cell_type": "markdown",
   "metadata": {
    "slideshow": {
     "slide_type": "slide"
    }
   },
   "source": [
    "## Bounding the sample SD\n",
    "\n",
    "- How big could the sample SD be?\n",
    "- This is a simple calculation, but...\n",
    "- Let's try to get the answer from a plot."
   ]
  },
  {
   "cell_type": "markdown",
   "metadata": {
    "slideshow": {
     "slide_type": "slide"
    }
   },
   "source": [
    "## Create a sample of zeros and ones"
   ]
  },
  {
   "cell_type": "code",
   "execution_count": null,
   "metadata": {},
   "outputs": [],
   "source": [
    "#: construct an array of zeros/ones\n",
    "def polling_sample(size, number_of_ones):\n",
    "    count = np.arange(size)\n",
    "    return np.where(count < number_of_ones, 1, 0)"
   ]
  },
  {
   "cell_type": "code",
   "execution_count": null,
   "metadata": {},
   "outputs": [],
   "source": [
    "polling_sample(10, 3)"
   ]
  },
  {
   "cell_type": "markdown",
   "metadata": {
    "slideshow": {
     "slide_type": "slide"
    }
   },
   "source": [
    "## Compute standard deviations"
   ]
  },
  {
   "cell_type": "code",
   "execution_count": null,
   "metadata": {},
   "outputs": [],
   "source": [
    "#: compute SD for each proportion\n",
    "size = 100\n",
    "proportions = np.arange(0, size+1, 10)\n",
    "sds = make_array()\n",
    "\n",
    "for proportion in proportions:\n",
    "    population = polling_sample(size, proportion)\n",
    "    sd = np.std(population)\n",
    "    sds = np.append(sds, sd)"
   ]
  },
  {
   "cell_type": "code",
   "execution_count": null,
   "metadata": {},
   "outputs": [],
   "source": [
    "Table().with_columns(\n",
    "    'Proportion', proportions,\n",
    "    'SD', sds\n",
    ").scatter('Proportion')"
   ]
  },
  {
   "cell_type": "markdown",
   "metadata": {
    "slideshow": {
     "slide_type": "slide"
    }
   },
   "source": [
    "## Bounding the sample SD\n",
    "\n",
    "- The most the sample SD can be is 0.5.\n",
    "- Doesn't depend on size of sample.\n",
    "- True for the population, too!\n",
    "- Using 0.5 in place of sample SD results in a conservative confidence interval."
   ]
  },
  {
   "cell_type": "markdown",
   "metadata": {
    "slideshow": {
     "slide_type": "slide"
    }
   },
   "source": [
    "## Constructing the 95% confidence interval\n",
    "\n",
    "- The interval is:\n",
    "\n",
    "$$\n",
    "\\left[\n",
    "\\text{sample mean} - 2\\cdot \\frac{\\text{sample SD}}{\\sqrt{n}},\n",
    "\\text{sample mean} + 2\\cdot \\frac{\\text{sample SD}}{\\sqrt{n}}\n",
    "\\right]\n",
    "$$\n",
    "\n",
    "- The width is:\n",
    "\n",
    "$$\n",
    "4 \\cdot \\frac{\\text{sample SD}}{\\sqrt{n}}\n",
    "$$\n",
    "\n",
    "- Use 0.5 instead of sample SD:\n",
    "\n",
    "$$\n",
    "4 \\cdot \\frac{0.5}{\\sqrt{n}} = \\frac{2}{\\sqrt{n}}\n",
    "$$"
   ]
  },
  {
   "cell_type": "markdown",
   "metadata": {
    "slideshow": {
     "slide_type": "slide"
    }
   },
   "source": [
    "## Constructing the 95% confidence interval\n",
    "\n",
    "- Upper bound on CI width: $$\\text{width} = \\frac{2}{\\sqrt{n}}$$\n",
    "- Want our sample mean to be within $\\pm$ 0.03.\n",
    "- I.e., want our CI width to be smaller than 0.06.\n",
    "- Solve for $n$:\n",
    "\n",
    "$$\n",
    "\\sqrt{n} = \\frac{2}{\\text{width}} = \\frac{2}{0.06}\n",
    "$$"
   ]
  },
  {
   "cell_type": "code",
   "execution_count": null,
   "metadata": {},
   "outputs": [],
   "source": [
    "(2/.06)**2"
   ]
  },
  {
   "cell_type": "markdown",
   "metadata": {
    "slideshow": {
     "slide_type": "slide"
    }
   },
   "source": [
    "## Answer\n",
    "\n",
    "- We must poll $\\approx$ 1111 people to get a 95% CI which is 0.06 wide."
   ]
  },
  {
   "cell_type": "markdown",
   "metadata": {
    "slideshow": {
     "slide_type": "slide"
    }
   },
   "source": [
    "## Discussion question\n",
    "\n",
    "We must poll 1111 people to get a 95% CI which is 0.06 wide.\n",
    "Suppose we instead want a CI that is 0.03 wide. How many people do we need to poll?\n",
    "\n",
    "- A) 555\n",
    "- B) 2222\n",
    "- C) 4444\n",
    "- D) 8888"
   ]
  },
  {
   "cell_type": "markdown",
   "metadata": {
    "slideshow": {
     "slide_type": "slide"
    }
   },
   "source": [
    "## Answer: the $\\sqrt{\\quad}$ rule\n",
    "\n",
    "- We need 4444 samples.\n",
    "- To double our accuracy, we must *quadruple* our sample size."
   ]
  },
  {
   "cell_type": "markdown",
   "metadata": {
    "slideshow": {
     "slide_type": "slide"
    }
   },
   "source": [
    "## Experiment\n",
    "\n",
    "- Let's see how accurate this is.\n",
    "- Code below chooses some true proportion in favor of A. Don't peek!"
   ]
  },
  {
   "cell_type": "code",
   "execution_count": null,
   "metadata": {},
   "outputs": [],
   "source": [
    "#: don't peek\n",
    "population_proportion = np.random.choice(np.arange(.3, .7, .01))"
   ]
  },
  {
   "cell_type": "markdown",
   "metadata": {
    "slideshow": {
     "slide_type": "slide"
    }
   },
   "source": [
    "## Conduct a poll"
   ]
  },
  {
   "cell_type": "code",
   "execution_count": null,
   "metadata": {},
   "outputs": [],
   "source": [
    "poll_results = sample_proportions(1111, make_array(population_proportion, 1-population_proportion))\n",
    "poll_results"
   ]
  },
  {
   "cell_type": "markdown",
   "metadata": {
    "slideshow": {
     "slide_type": "slide"
    }
   },
   "source": [
    "## Repeat the poll"
   ]
  },
  {
   "cell_type": "code",
   "execution_count": null,
   "metadata": {},
   "outputs": [],
   "source": [
    "#: simulate 5000 polls\n",
    "distribution = make_array()\n",
    "\n",
    "for i in np.arange(5000):\n",
    "    poll_results = sample_proportions(1111, make_array(population_proportion, 1-population_proportion))\n",
    "    distribution = np.append(distribution, poll_results.item(0))"
   ]
  },
  {
   "cell_type": "markdown",
   "metadata": {
    "slideshow": {
     "slide_type": "slide"
    }
   },
   "source": [
    "## Visualize"
   ]
  },
  {
   "cell_type": "code",
   "execution_count": null,
   "metadata": {},
   "outputs": [],
   "source": [
    "#: draw histogram\n",
    "Table().with_column('Sampled Proportions', distribution).hist(bins=20)\n",
    "\n",
    "plt.scatter(population_proportion, 0, marker='^', zorder=3, s=100)\n",
    "plt.plot([population_proportion - .03, population_proportion + .03], [0, 0], color='C1', linewidth=5)"
   ]
  },
  {
   "cell_type": "code",
   "execution_count": null,
   "metadata": {},
   "outputs": [],
   "source": [
    "np.count_nonzero((population_proportion - .03 <= distribution) & (distribution <= population_proportion + .03)) / 5000"
   ]
  }
 ],
 "metadata": {
  "celltoolbar": "Slideshow",
  "kernelspec": {
   "display_name": "Python 3",
   "language": "python",
   "name": "python3"
  },
  "language_info": {
   "codemirror_mode": {
    "name": "ipython",
    "version": 3
   },
   "file_extension": ".py",
   "mimetype": "text/x-python",
   "name": "python",
   "nbconvert_exporter": "python",
   "pygments_lexer": "ipython3",
   "version": "3.6.8"
  },
  "livereveal": {
   "scroll": true,
   "transition": "none"
  }
 },
 "nbformat": 4,
 "nbformat_minor": 2
}
