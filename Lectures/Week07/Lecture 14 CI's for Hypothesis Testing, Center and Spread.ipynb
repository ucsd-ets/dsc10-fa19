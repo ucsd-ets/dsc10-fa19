{
 "cells": [
  {
   "cell_type": "code",
   "execution_count": null,
   "metadata": {},
   "outputs": [],
   "source": [
    "#: the usual imports\n",
    "from datascience import *\n",
    "import numpy as np\n",
    "\n",
    "%matplotlib inline\n",
    "import matplotlib.pyplot as plt\n",
    "import warnings; warnings.simplefilter('ignore')\n",
    "\n",
    "plt.style.use('fivethirtyeight')\n",
    "\n",
    "from notebook.services.config import ConfigManager\n",
    "\n",
    "cm = ConfigManager()\n",
    "cm.update(\n",
    "   \"livereveal\", {\n",
    "       'width': 1200,\n",
    "       'height': 900,\n",
    "       \"scroll\": True,\n",
    "})"
   ]
  },
  {
   "cell_type": "markdown",
   "metadata": {
    "slideshow": {
     "slide_type": "slide"
    }
   },
   "source": [
    "# Lecture 14\n",
    "\n",
    "### CI's for Hypothesis Testing, Center and Spread"
   ]
  },
  {
   "cell_type": "markdown",
   "metadata": {
    "slideshow": {
     "slide_type": "slide"
    }
   },
   "source": [
    "## Assignments\n",
    "\n",
    "1. Lab due tomorrow\n",
    "2. HW due Monday\n",
    "3. Project 2 is out - get started!"
   ]
  },
  {
   "cell_type": "markdown",
   "metadata": {
    "slideshow": {
     "slide_type": "slide"
    }
   },
   "source": [
    "## 95% CI's from 200 different bootstrap medians"
   ]
  },
  {
   "attachments": {
    "Bootstrap200.png": {
     "image/png": "[encoded data removed]"
    }
   },
   "cell_type": "markdown",
   "metadata": {
    "slideshow": {
     "slide_type": "-"
    }
   },
   "source": [
    "![Bootstrap200.png](attachment:Bootstrap200.png)"
   ]
  },
  {
   "cell_type": "markdown",
   "metadata": {
    "slideshow": {
     "slide_type": "slide"
    }
   },
   "source": [
    "## Discussion Question"
   ]
  },
  {
   "cell_type": "markdown",
   "metadata": {
    "slideshow": {
     "slide_type": "-"
    }
   },
   "source": [
    "About how many of these 200 confidence intervals do not contain the population median?    \n",
    "\n",
    "A. 5  \n",
    "B. 10  \n",
    "C. 95  \n",
    "D. 190  "
   ]
  },
  {
   "cell_type": "markdown",
   "metadata": {
    "slideshow": {
     "slide_type": "slide"
    }
   },
   "source": [
    "# Confidence Intervals for Hypothesis Testing"
   ]
  },
  {
   "cell_type": "markdown",
   "metadata": {
    "slideshow": {
     "slide_type": "slide"
    }
   },
   "source": [
    "## Using a CI for testing\n",
    "\n",
    "* Null hypothesis: Population average = x\n",
    "* Alternative hypothesis: Population average ≠ x\n",
    "* Cutoff for P-value: p%\n",
    "* Method:\n",
    "    - Construct a (100-p)% confidence interval for the population average\n",
    "    - If x is not in the interval, reject the null\n",
    "    - If x is in the interval, can’t reject the null"
   ]
  },
  {
   "cell_type": "markdown",
   "metadata": {
    "slideshow": {
     "slide_type": "slide"
    }
   },
   "source": [
    "### Average Total Pay of City of San Diego Employees"
   ]
  },
  {
   "cell_type": "markdown",
   "metadata": {},
   "source": [
    "* Null hypothesis: Average total pay of all SD city employees is $\\$73,000$  \n",
    "* Alternative hypothesis: Average total pay of all SD city employees is not $\\$73,000$\n",
    "* Cutoff for P-value: 5%\n",
    "* Method:\n",
    "    - Construct a 95% confidence interval for the population average\n",
    "    - If $\\$73,000$ is not in the interval, reject the null\n",
    "    - If $\\$73,000$ is in the interval, can’t reject the null"
   ]
  },
  {
   "cell_type": "code",
   "execution_count": null,
   "metadata": {},
   "outputs": [],
   "source": [
    "#: read in the data\n",
    "population = Table.read_table('salaries.csv')\n",
    "population"
   ]
  },
  {
   "cell_type": "code",
   "execution_count": null,
   "metadata": {
    "scrolled": true,
    "slideshow": {
     "slide_type": "slide"
    }
   },
   "outputs": [],
   "source": [
    "#: take a sample of size 500\n",
    "sample = population.sample(500, with_replacement=False)\n",
    "sample_mean = np.mean(sample.column('Total Pay'))\n",
    "\n",
    "n_resamples = 5000\n",
    "\n",
    "boot_means = make_array()\n",
    "for i in range(n_resamples):\n",
    "    # perform bootstrap resampling\n",
    "    resample = sample.sample(500, with_replacement=True)\n",
    "    \n",
    "    # compute the mean\n",
    "    mean = np.mean(resample.column('Total Pay'))\n",
    "    \n",
    "    # tack it on to our list of means\n",
    "    boot_means = np.append(boot_means, mean)\n",
    "\n",
    "left = percentile(2.5, boot_means)\n",
    "right = percentile(97.5, boot_means)\n",
    "[left, right]"
   ]
  },
  {
   "cell_type": "code",
   "execution_count": null,
   "metadata": {},
   "outputs": [],
   "source": [
    "#: visualize\n",
    "Table().with_column('Bootstrap Means', boot_means).hist(unit='$')\n",
    "plt.plot([left, right], [0, 0], color='lime', linewidth=15, alpha=0.9, zorder=2)"
   ]
  },
  {
   "cell_type": "markdown",
   "metadata": {
    "slideshow": {
     "slide_type": "slide"
    }
   },
   "source": [
    "### Among City of SD employees, do men and women make similar total pay?"
   ]
  },
  {
   "cell_type": "markdown",
   "metadata": {},
   "source": [
    "* Null hypothesis: Median total pay of all employees is the same as the median total pay of male employees\n",
    "* Alternative hypothesis: Median total pay of all employees is not the same as the median total pay of male employees\n",
    "* Cutoff for P-value: 5%\n",
    "* Method:\n",
    "    - Construct a 95% confidence interval for the median total pay of all employees\n",
    "    - If median total pay of males is not in the interval, reject the null\n",
    "    - If median total pay of males is in the interval, can’t reject the null\n",
    "    \n",
    "Analogous hypothesis test for female employees"
   ]
  },
  {
   "cell_type": "code",
   "execution_count": null,
   "metadata": {
    "slideshow": {
     "slide_type": "slide"
    }
   },
   "outputs": [],
   "source": [
    "population"
   ]
  },
  {
   "cell_type": "markdown",
   "metadata": {
    "slideshow": {
     "slide_type": "slide"
    }
   },
   "source": [
    "### How do we create a column labeling sex?\n",
    "* Download a list of baby names from the internet!\n",
    "* Join to the SD employee data\n",
    "    - Caution: this join isn't perfect!"
   ]
  },
  {
   "cell_type": "code",
   "execution_count": null,
   "metadata": {},
   "outputs": [],
   "source": [
    "names = Table.read_table('baby-names.csv')\n",
    "names"
   ]
  },
  {
   "cell_type": "markdown",
   "metadata": {
    "slideshow": {
     "slide_type": "slide"
    }
   },
   "source": [
    "## Making a list of names and associated sex\n",
    "* Careful of unisex names!\n",
    "* Use the sex that is most often associated to the name"
   ]
  },
  {
   "cell_type": "markdown",
   "metadata": {
    "slideshow": {
     "slide_type": "slide"
    }
   },
   "source": [
    "## Approach:\n",
    "* Count number of times each name is used for male/female; take most common.\n",
    "* Trick: calculate # of times name was used as a male name minus # of times names was used as a female name\n",
    "    - If positive, predominantly male\n",
    "    - If negative, predominantly female"
   ]
  },
  {
   "cell_type": "code",
   "execution_count": null,
   "metadata": {
    "slideshow": {
     "slide_type": "slide"
    }
   },
   "outputs": [],
   "source": [
    "signs = np.where(names.column('sex')=='boy', 1, -1)\n",
    "signs"
   ]
  },
  {
   "cell_type": "code",
   "execution_count": null,
   "metadata": {
    "scrolled": true
   },
   "outputs": [],
   "source": [
    "names = names.with_column('sign', signs)\n",
    "names"
   ]
  },
  {
   "cell_type": "code",
   "execution_count": null,
   "metadata": {},
   "outputs": [],
   "source": [
    "names = names.with_column('signed number', names.column('number')*names.column('sign'))\n",
    "names"
   ]
  },
  {
   "cell_type": "code",
   "execution_count": null,
   "metadata": {
    "scrolled": true,
    "slideshow": {
     "slide_type": "slide"
    }
   },
   "outputs": [],
   "source": [
    "name_map = names.select('name', 'signed number')\n",
    "name_map"
   ]
  },
  {
   "cell_type": "code",
   "execution_count": null,
   "metadata": {},
   "outputs": [],
   "source": [
    "name_map = name_map.group('name', np.sum)\n",
    "name_map "
   ]
  },
  {
   "cell_type": "code",
   "execution_count": null,
   "metadata": {},
   "outputs": [],
   "source": [
    "sexes = np.where(name_map.column('signed number sum') > 0, 'M', 'F')\n",
    "sexes"
   ]
  },
  {
   "cell_type": "code",
   "execution_count": null,
   "metadata": {},
   "outputs": [],
   "source": [
    "# Table with one row per name, and predominant sex associated to that name.\n",
    "\n",
    "name_map = name_map.with_column('sex', sexes).select('name', 'sex')\n",
    "name_map"
   ]
  },
  {
   "cell_type": "code",
   "execution_count": null,
   "metadata": {
    "slideshow": {
     "slide_type": "slide"
    }
   },
   "outputs": [],
   "source": [
    "# Need to extract first names from SD data\n",
    "\n",
    "def get_firstname(s):\n",
    "    return s.split()[0]\n",
    "\n",
    "get_firstname(\"David P Gerboth\")"
   ]
  },
  {
   "cell_type": "code",
   "execution_count": null,
   "metadata": {},
   "outputs": [],
   "source": [
    "# Add a First Name column to join SD data to names\n",
    "population = population.with_column('First Name', population.apply(get_firstname, 'Employee Name'))\n",
    "population"
   ]
  },
  {
   "cell_type": "code",
   "execution_count": null,
   "metadata": {
    "slideshow": {
     "slide_type": "slide"
    }
   },
   "outputs": [],
   "source": [
    "# Join tables\n",
    "pop_with_sex = population.join('First Name', name_map, 'name' ).drop('First Name')\n",
    "pop_with_sex"
   ]
  },
  {
   "cell_type": "code",
   "execution_count": null,
   "metadata": {
    "slideshow": {
     "slide_type": "slide"
    }
   },
   "outputs": [],
   "source": [
    "median_pay_breakdown = pop_with_sex.select('Total Pay', 'sex').group('sex', np.median)\n",
    "median_pay_breakdown"
   ]
  },
  {
   "cell_type": "code",
   "execution_count": null,
   "metadata": {},
   "outputs": [],
   "source": [
    "women = median_pay_breakdown.column(1).item(0)\n",
    "men = median_pay_breakdown.column(1).item(1)"
   ]
  },
  {
   "cell_type": "markdown",
   "metadata": {
    "slideshow": {
     "slide_type": "slide"
    }
   },
   "source": [
    "###  Testing the Hypothesis\n",
    "\n",
    "* Null hypothesis: Median total pay of all employees is the same as the median total pay of male employees\n",
    "* Alternative hypothesis: Median total pay of all employees is not the same as the median total pay of male employees\n",
    "* Cutoff for P-value: 5%\n",
    "* Method:\n",
    "    - Construct a 95% confidence interval for the median total pay of all employees\n",
    "    - If median total pay of males is not in the interval, reject the null\n",
    "    - If median total pay of males is in the interval, can’t reject the null\n",
    "    \n",
    "Analogous hypothesis test for female employees"
   ]
  },
  {
   "cell_type": "code",
   "execution_count": null,
   "metadata": {
    "slideshow": {
     "slide_type": "slide"
    }
   },
   "outputs": [],
   "source": [
    "#: take a sample of size 500\n",
    "sample = population.sample(500, with_replacement=False)\n",
    "sample_median = np.median(sample.column('Total Pay'))\n",
    "\n",
    "n_resamples = 5000\n",
    "\n",
    "boot_medians = make_array()\n",
    "for i in range(n_resamples):\n",
    "    # perform bootstrap resampling\n",
    "    resample = sample.sample(500, with_replacement=True)\n",
    "    \n",
    "    # compute the median\n",
    "    median = np.median(resample.column('Total Pay'))\n",
    "    \n",
    "    # tack it on to our list of medians\n",
    "    boot_medians = np.append(boot_medians, median)"
   ]
  },
  {
   "cell_type": "code",
   "execution_count": null,
   "metadata": {},
   "outputs": [],
   "source": [
    "left = percentile(2.5, boot_medians)\n",
    "right = percentile(97.5, boot_medians)\n",
    "[left, right]"
   ]
  },
  {
   "cell_type": "code",
   "execution_count": null,
   "metadata": {
    "slideshow": {
     "slide_type": "slide"
    }
   },
   "outputs": [],
   "source": [
    "#: visualize\n",
    "Table().with_column('Bootstrap Medians', boot_medians).hist(unit='$')\n",
    "plt.scatter(women, 0, color='blue', s=80, zorder=2)\n",
    "plt.scatter(men, 0, color='red', s=80, zorder=2)\n",
    "plt.plot([left, right], [0, 0], color='lime', linewidth=5, zorder=1)\n",
    "plt.legend(['95% CI', 'Women (Median)', 'Men (Median)'])"
   ]
  },
  {
   "cell_type": "markdown",
   "metadata": {
    "slideshow": {
     "slide_type": "slide"
    }
   },
   "source": [
    "### The median salaries of men/women are:\n",
    "* significantly higher/lower than the population median.\n",
    "* The test doesn't state *why* they're different.\n",
    "* City employee salaries are fixed for any given job title, amount of experience.\n",
    "    - Disparity is due to gender imbalance of job-types.\n",
    "    - Question: FT/PT analysis?"
   ]
  },
  {
   "cell_type": "markdown",
   "metadata": {
    "slideshow": {
     "slide_type": "slide"
    }
   },
   "source": [
    "### Job title: fire related"
   ]
  },
  {
   "cell_type": "code",
   "execution_count": null,
   "metadata": {},
   "outputs": [],
   "source": [
    "population"
   ]
  },
  {
   "cell_type": "code",
   "execution_count": null,
   "metadata": {},
   "outputs": [],
   "source": [
    "# gender breakdown\n",
    "pop_with_sex.where('Job Title', are.containing('Fire')).group('sex')"
   ]
  },
  {
   "cell_type": "code",
   "execution_count": null,
   "metadata": {},
   "outputs": [],
   "source": [
    "# median pay\n",
    "np.median(pop_with_sex.where('Job Title', are.containing('Fire')).column('Total Pay'))"
   ]
  },
  {
   "cell_type": "markdown",
   "metadata": {
    "slideshow": {
     "slide_type": "slide"
    }
   },
   "source": [
    "### Job title: library related"
   ]
  },
  {
   "cell_type": "code",
   "execution_count": null,
   "metadata": {},
   "outputs": [],
   "source": [
    "# gender breakdown\n",
    "pop_with_sex.where('Job Title', are.containing('Lib')).group('sex')"
   ]
  },
  {
   "cell_type": "code",
   "execution_count": null,
   "metadata": {},
   "outputs": [],
   "source": [
    "# median pay\n",
    "np.median(pop_with_sex.where('Job Title', are.containing('Lib')).column('Total Pay'))"
   ]
  },
  {
   "cell_type": "markdown",
   "metadata": {
    "slideshow": {
     "slide_type": "slide"
    }
   },
   "source": [
    "# Center and Spread"
   ]
  },
  {
   "cell_type": "markdown",
   "metadata": {
    "slideshow": {
     "slide_type": "slide"
    }
   },
   "source": [
    "## Questions \n",
    "* How can we quantify natural concepts like “center” and “variability”?\n",
    "* Why do many of the empirical distributions that we generate come out bell shaped?\n",
    "* How is sample size related to the accuracy of an estimate?"
   ]
  },
  {
   "cell_type": "markdown",
   "metadata": {
    "slideshow": {
     "slide_type": "slide"
    }
   },
   "source": [
    "## The Average (or Mean)\n",
    "\n",
    "Given Data: $2, 3, 3, 9$, the average (or mean) is:\n",
    "$$\\rm{Average } = \\frac{2 + 3 + 3 + 9}{4} = 4.25$$"
   ]
  },
  {
   "cell_type": "markdown",
   "metadata": {
    "slideshow": {
     "slide_type": "slide"
    }
   },
   "source": [
    "## The Average (or Mean)\n",
    "\n",
    "* Need not be a value in the collection\n",
    "* Need not be an integer even if the data are integers\n",
    "* Somewhere between min and max, but not necessarily halfway in between\n",
    "* Same units as the data.\n",
    "* Smoothing operator: collect all the contributions in one big pot, then split evenly"
   ]
  },
  {
   "attachments": {
    "image.png": {
     "image/png": "[encoded data removed]"
    }
   },
   "cell_type": "markdown",
   "metadata": {
    "slideshow": {
     "slide_type": "slide"
    }
   },
   "source": [
    "### Discussion Question\n",
    "\n",
    "Create a data set that has this histogram. (You can do it with a short list of whole numbers.) \n",
    "\n",
    "![image.png](attachment:image.png)\n",
    "\n",
    "What are its median and mean?"
   ]
  },
  {
   "attachments": {
    "image.png": {
     "image/png": "[encoded data removed]"
    }
   },
   "cell_type": "markdown",
   "metadata": {
    "slideshow": {
     "slide_type": "slide"
    }
   },
   "source": [
    "### Discussion Question\n",
    "\n",
    "Are the medians of these two distributions the same or different? Are the means the same or different? If you say “different,” then say which one is bigger.\n",
    "\n",
    "![image.png](attachment:image.png)\n",
    "\n",
    "A. same means and medians  \n",
    "B. same means, different medians  \n",
    "C. different means, same medians  \n",
    "D. different means and medians  "
   ]
  },
  {
   "cell_type": "markdown",
   "metadata": {
    "slideshow": {
     "slide_type": "slide"
    }
   },
   "source": [
    "### Answer"
   ]
  },
  {
   "cell_type": "code",
   "execution_count": null,
   "metadata": {
    "slideshow": {
     "slide_type": "-"
    }
   },
   "outputs": [],
   "source": [
    "tbl1 = Table().with_column('value', \n",
    "                           [1] + [2]*2 + [3]*3 + [4]*2 + [5]\n",
    "                          )\n",
    "\n",
    "tbl2 = Table().with_column('value', \n",
    "                           [1] + [2]*2 + [3]*3 + [4]*2 + [10]\n",
    "                          )"
   ]
  },
  {
   "cell_type": "code",
   "execution_count": null,
   "metadata": {},
   "outputs": [],
   "source": [
    "#:\n",
    "print(\n",
    "    'median #1:\\t%f' % np.median(tbl1.column('value')),\n",
    "    'median #2:\\t%f' % np.median(tbl2.column('value')),\n",
    "    'mean #1:\\t%f' % np.mean(tbl1.column('value')),\n",
    "    'mean #2:\\t%f' % np.mean(tbl2.column('value')),\n",
    "    sep='\\n'\n",
    ")"
   ]
  },
  {
   "cell_type": "markdown",
   "metadata": {
    "slideshow": {
     "slide_type": "slide"
    }
   },
   "source": [
    "## Comparing Mean and Median\n",
    "* Mean: Balance point of the histogram\n",
    "* Median: Half-way point of data; half the area of histogram is on either side of median\n",
    "* If the distribution is symmetric about a value, then that value is both the average and the median.\n",
    "* If the histogram is skewed, then the mean is pulled away from the median in the direction of the tail."
   ]
  },
  {
   "attachments": {
    "image.png": {
     "image/png": "[encoded data removed]"
    }
   },
   "cell_type": "markdown",
   "metadata": {
    "slideshow": {
     "slide_type": "slide"
    }
   },
   "source": [
    "### Discussion Question\n",
    "![image.png](attachment:image.png)"
   ]
  },
  {
   "cell_type": "code",
   "execution_count": null,
   "metadata": {
    "slideshow": {
     "slide_type": "slide"
    }
   },
   "outputs": [],
   "source": [
    "nba = Table.read_table('nba2013.csv')\n",
    "print('mean:\\t%f' % nba.column('Height').mean())\n",
    "print('median:\\t%f' % np.median(nba.column('Height')))\n",
    "nba.hist('Height')"
   ]
  },
  {
   "cell_type": "markdown",
   "metadata": {
    "slideshow": {
     "slide_type": "slide"
    }
   },
   "source": [
    "# Standard Deviation: Measuring Spread"
   ]
  },
  {
   "cell_type": "markdown",
   "metadata": {
    "slideshow": {
     "slide_type": "slide"
    }
   },
   "source": [
    "### How can we quantify how spread out a distribution is?\n",
    "\n",
    "**Plan A:** “biggest value - smallest value”\n",
    "* Doesn’t tell us much about the shape of the distribution\n",
    "* Are extreme values rare or common?\n",
    "\n",
    "**Plan B:**\n",
    "* Measure variability around the mean\n",
    "* Need to figure out a way to quantify this"
   ]
  },
  {
   "cell_type": "markdown",
   "metadata": {
    "slideshow": {
     "slide_type": "slide"
    }
   },
   "source": [
    "### Deviations from the mean"
   ]
  },
  {
   "cell_type": "code",
   "execution_count": null,
   "metadata": {},
   "outputs": [],
   "source": [
    "values = make_array(2, 3, 3, 15)\n",
    "sd_table = Table().with_columns('Value', values)\n",
    "sd_table"
   ]
  },
  {
   "cell_type": "code",
   "execution_count": null,
   "metadata": {},
   "outputs": [],
   "source": [
    "# average value\n",
    "average_value = np.mean(sd_table.column(0))\n",
    "average_value"
   ]
  },
  {
   "cell_type": "code",
   "execution_count": null,
   "metadata": {},
   "outputs": [],
   "source": [
    "# Deviations from average: signed \n",
    "# (negative indicates left of mean, positive indicates right of mean)\n",
    "deviations = values - average_value\n",
    "sd_table = sd_table.with_column('Mean', average_value).with_column('Deviation', deviations)\n",
    "sd_table"
   ]
  },
  {
   "cell_type": "code",
   "execution_count": null,
   "metadata": {},
   "outputs": [],
   "source": [
    "# Sum of the deviations?\n",
    "sum(deviations)"
   ]
  },
  {
   "cell_type": "code",
   "execution_count": null,
   "metadata": {},
   "outputs": [],
   "source": [
    "# squared difference\n",
    "sd_table = sd_table.with_columns('Squared Deviation', deviations ** 2)\n",
    "sd_table"
   ]
  },
  {
   "cell_type": "code",
   "execution_count": null,
   "metadata": {},
   "outputs": [],
   "source": [
    "# Variance of the data\n",
    "variance = np.mean(sd_table.column('Squared Deviation'))\n",
    "variance"
   ]
  },
  {
   "cell_type": "code",
   "execution_count": null,
   "metadata": {},
   "outputs": [],
   "source": [
    "# Standard Deviation (SD) is the square root of the variance\n",
    "sd = variance ** 0.5\n",
    "sd"
   ]
  },
  {
   "cell_type": "markdown",
   "metadata": {
    "slideshow": {
     "slide_type": "slide"
    }
   },
   "source": [
    "## Standard Deviation\n",
    "* numpy function: `np.std`\n",
    "* Standard deviation (SD) measures roughly how far the data are from their average\n",
    "* SD has the same units as the data"
   ]
  },
  {
   "cell_type": "code",
   "execution_count": null,
   "metadata": {},
   "outputs": [],
   "source": [
    "np.std(values)"
   ]
  },
  {
   "cell_type": "markdown",
   "metadata": {
    "slideshow": {
     "slide_type": "slide"
    }
   },
   "source": [
    "## Why use the SD?\n",
    "\n",
    "No matter what the shape of the distribution, the bulk of the data are in the range “average ± a few SDs”"
   ]
  },
  {
   "cell_type": "markdown",
   "metadata": {
    "slideshow": {
     "slide_type": "slide"
    }
   },
   "source": [
    "## How many standard deviations away from average is each person's salary?"
   ]
  },
  {
   "cell_type": "code",
   "execution_count": null,
   "metadata": {},
   "outputs": [],
   "source": [
    "pay = population.select('Total Pay')\n",
    "pay"
   ]
  },
  {
   "cell_type": "code",
   "execution_count": null,
   "metadata": {},
   "outputs": [],
   "source": [
    "avg = pay.column(0).mean()\n",
    "avg"
   ]
  },
  {
   "cell_type": "code",
   "execution_count": null,
   "metadata": {},
   "outputs": [],
   "source": [
    "pay = pay.with_column(\"Dollars Above Average\", pay.column(0) - avg)\n",
    "pay"
   ]
  },
  {
   "cell_type": "code",
   "execution_count": null,
   "metadata": {},
   "outputs": [],
   "source": [
    "sd = np.std(pay.column(0))\n",
    "sd"
   ]
  },
  {
   "cell_type": "code",
   "execution_count": null,
   "metadata": {},
   "outputs": [],
   "source": [
    "pay = pay.with_column(\"SDs Above Average\", pay.column(1)/sd)\n",
    "pay"
   ]
  },
  {
   "cell_type": "code",
   "execution_count": null,
   "metadata": {},
   "outputs": [],
   "source": [
    "pay.bin('SDs Above Average', bins = np.arange(-3, 8, 1)).show()"
   ]
  },
  {
   "cell_type": "markdown",
   "metadata": {
    "slideshow": {
     "slide_type": "slide"
    }
   },
   "source": [
    "## Chebyshev’s Inequality\n",
    "\n",
    "No matter what the shape of the distribution, the proportion of values in the range “average ± z SDs” is at least \n",
    "\n",
    "$$1 - \\frac{1}{z^2}$$"
   ]
  },
  {
   "cell_type": "markdown",
   "metadata": {
    "slideshow": {
     "slide_type": "slide"
    }
   },
   "source": [
    "## Chebyshev's Bounds\n",
    "\n",
    "|Range|Proportion|\n",
    "|---|---|\n",
    "|average ± 2 SDs|\tat least 1 - 1/4   (75%)|\n",
    "|average ± 3 SDs|\tat least 1 - 1/9   (88.888…%)|\n",
    "|average ± 4 SDs|\tat least 1 - 1/16 (93.75%)|\n",
    "|average ± 5 SDs|\tat least 1 - 1/25  (96%)|\n",
    "\n",
    "No matter what the distribution is!"
   ]
  },
  {
   "cell_type": "code",
   "execution_count": null,
   "metadata": {},
   "outputs": [],
   "source": []
  }
 ],
 "metadata": {
  "celltoolbar": "Slideshow",
  "kernelspec": {
   "display_name": "Python 3",
   "language": "python",
   "name": "python3"
  },
  "language_info": {
   "codemirror_mode": {
    "name": "ipython",
    "version": 3
   },
   "file_extension": ".py",
   "mimetype": "text/x-python",
   "name": "python",
   "nbconvert_exporter": "python",
   "pygments_lexer": "ipython3",
   "version": "3.6.8"
  },
  "livereveal": {
   "scroll": true,
   "transition": "none"
  }
 },
 "nbformat": 4,
 "nbformat_minor": 2
}
