{
 "cells": [
  {
   "cell_type": "markdown",
   "metadata": {},
   "source": [
    "# Programming basis week 4"
   ]
  },
  {
   "cell_type": "markdown",
   "metadata": {},
   "source": [
    "## Python Visualizer\n",
    "[http://pythontutor.com/visualize.html#mode=edit](http://pythontutor.com/visualize.html#mode=edit)\n",
    "\n",
    "Check out this tool if you want to visualize how Python executes your code line by line."
   ]
  },
  {
   "cell_type": "code",
   "execution_count": 22,
   "metadata": {},
   "outputs": [],
   "source": [
    "# run this cell!\n",
    "from datascience import *\n",
    "import numpy as np"
   ]
  },
  {
   "cell_type": "markdown",
   "metadata": {},
   "source": [
    "# Introduction to For Loop"
   ]
  },
  {
   "cell_type": "markdown",
   "metadata": {},
   "source": [
    "# https://docs.google.com/document/d/1lAuKa5MKgcuc_pnLGLWkwAJ6auaSGq5F5SWuMziGkws"
   ]
  },
  {
   "cell_type": "markdown",
   "metadata": {},
   "source": [
    "    A for loop is used to repeat the same code, once for each value in a given sequence\n",
    "    \n",
    "        The loop variable takes on each of the values in the sequence, one at a time\n",
    "       \n",
    "        The code in the body of the loop, which should be indented, is executed once for each different value of the loop variable\n",
    "        "
   ]
  },
  {
   "cell_type": "code",
   "execution_count": 25,
   "metadata": {},
   "outputs": [
    {
     "name": "stdout",
     "output_type": "stream",
     "text": [
      "cake\n",
      "ice cream\n",
      "pie\n"
     ]
    }
   ],
   "source": [
    "desserts = ['cake', 'ice cream', 'pie']\n",
    "for x in desserts:\n",
    "    print(x)"
   ]
  },
  {
   "cell_type": "markdown",
   "metadata": {},
   "source": [
    "    To loop a certain number of times, use np.arange(). \n",
    "\n",
    "    Remember that np.arange(start, end, jump) will include start but not end.\n"
   ]
  },
  {
   "cell_type": "code",
   "execution_count": 26,
   "metadata": {},
   "outputs": [
    {
     "name": "stdout",
     "output_type": "stream",
     "text": [
      "0\n",
      "1\n",
      "2\n",
      "3\n"
     ]
    }
   ],
   "source": [
    "for i in np.arange(4):\n",
    "    print(i)"
   ]
  },
  {
   "cell_type": "markdown",
   "metadata": {},
   "source": [
    "    You can also loop through a string. In other words, the sequence of values to iterate through is the individual characters that make up the string."
   ]
  },
  {
   "cell_type": "code",
   "execution_count": 27,
   "metadata": {},
   "outputs": [
    {
     "name": "stdout",
     "output_type": "stream",
     "text": [
      "w\n",
      "h\n",
      "a\n",
      "t\n"
     ]
    }
   ],
   "source": [
    "for x in 'what':\n",
    "    print(x)"
   ]
  },
  {
   "cell_type": "markdown",
   "metadata": {},
   "source": [
    "    A common strategy when working with loops is to create an empty array outside the loop, then append some result to the array inside the loop. This allows you to keep track of your results and gradually build them up. For example, the function below returns an array of all the even numbers in the given input array."
   ]
  },
  {
   "cell_type": "code",
   "execution_count": 33,
   "metadata": {},
   "outputs": [],
   "source": [
    "def find_evens(input_array):\n",
    "    evens = make_array()\n",
    "    for i in input_array:\n",
    "        if i%2 == 0:\n",
    "            evens = np.append(evens, i)\n",
    "    return evens"
   ]
  },
  {
   "cell_type": "markdown",
   "metadata": {},
   "source": [
    "    Python allow you to put for loops inside another for loops. These are called nested loops. See an example below:\n"
   ]
  },
  {
   "cell_type": "code",
   "execution_count": 34,
   "metadata": {},
   "outputs": [
    {
     "name": "stdout",
     "output_type": "stream",
     "text": [
      "1 1\n",
      "1 2\n",
      "1 3\n",
      "1 4\n",
      "1 5\n",
      "2 1\n",
      "2 2\n",
      "2 3\n",
      "2 4\n",
      "2 5\n",
      "3 1\n",
      "3 2\n",
      "3 3\n",
      "3 4\n",
      "3 5\n"
     ]
    }
   ],
   "source": [
    "for i in [1, 2, 3]:\n",
    "    for j in [1, 2, 3, 4, 5]:\n",
    "        print (i, j)"
   ]
  },
  {
   "cell_type": "markdown",
   "metadata": {},
   "source": [
    "# Practice problems"
   ]
  },
  {
   "cell_type": "markdown",
   "metadata": {},
   "source": [
    "1. The following function is supposed to take an array as input and return the length of the array (the same exact thing that the len function does). \n",
    "\n",
    "    But the function does not work as intended. Correct the code so that it correctly finds the length of an array. You can use the Python visualization tool to help you: http://pythontutor.com/visualize.html#mode=edit\n",
    "\n",
    "\n"
   ]
  },
  {
   "cell_type": "code",
   "execution_count": 35,
   "metadata": {},
   "outputs": [],
   "source": [
    "def find_length(input_array):\n",
    "    for i in input_array:\n",
    "        count = 0\n",
    "        count = count + 1\n",
    "    return count"
   ]
  },
  {
   "cell_type": "markdown",
   "metadata": {},
   "source": [
    "2. Use a for loop to create an array of all numbers which are divisible by 7, a multiple of 5, and between 150 and 600 (both endpoints included)."
   ]
  },
  {
   "cell_type": "code",
   "execution_count": null,
   "metadata": {},
   "outputs": [],
   "source": []
  },
  {
   "cell_type": "markdown",
   "metadata": {},
   "source": [
    "3. Write a function that takes as input a string with no spaces or special characters, and returns an array that only contains the letters in that string that are consonants.\n",
    "\n",
    "    Hint: you can use  a statement like  “if i in sequence” to check if item ‘i’ is in the given ‘sequence’.\n",
    "    \n",
    "    For example, on input ‘datascienceten’ the function should return an array ('d', 't', 's', 'c', 'n', 'c', 't', 'n').\n",
    " \n"
   ]
  },
  {
   "cell_type": "code",
   "execution_count": null,
   "metadata": {},
   "outputs": [],
   "source": []
  },
  {
   "cell_type": "markdown",
   "metadata": {},
   "source": [
    "4. What does this function do? Try answering without running it. The input  ‘a’ is a string."
   ]
  },
  {
   "cell_type": "code",
   "execution_count": 36,
   "metadata": {},
   "outputs": [],
   "source": [
    "def mystery(a):\n",
    "    result = ''\n",
    "    for i in np.arange(len(a) - 1, -1, -1):\n",
    "        result = result + a[i]\n",
    "    return result"
   ]
  },
  {
   "cell_type": "markdown",
   "metadata": {},
   "source": [
    "5. Write a Python function called ‘factorial’ that takes as input a positive integer n and calculates the factorial of n, written n!.  \n",
    "\n",
    "    The factorial of n is the product of all the integers from 1 to n (including both 1 and n). That is, n! = n* (n-1)* (n-2)*...*3 * 2* 1.\n",
    "\n"
   ]
  },
  {
   "cell_type": "code",
   "execution_count": null,
   "metadata": {},
   "outputs": [],
   "source": []
  },
  {
   "cell_type": "markdown",
   "metadata": {},
   "source": [
    "6. Find the error in this code. It counts the number of elements in the array that are less than 9.\n",
    "\n"
   ]
  },
  {
   "cell_type": "code",
   "execution_count": 37,
   "metadata": {},
   "outputs": [],
   "source": [
    "nums = make_array( 4, 6, 10, 0, 18, 23, 7, 13, 2, 5, 19)\n",
    "for i in nums:\n",
    "    count = 0\n",
    "    if i < 9:\n",
    "        count  = count + 1"
   ]
  },
  {
   "cell_type": "markdown",
   "metadata": {},
   "source": [
    "7. Write a Python function called ‘divisors’ that takes a positive integer and returns an array of the integer’s divisors. For example, divisors(6) should return an array (1, 2, 3, 6).\n",
    "\n",
    "    Hint: Remember the modulus operator (%).\n"
   ]
  },
  {
   "cell_type": "code",
   "execution_count": null,
   "metadata": {},
   "outputs": [],
   "source": []
  },
  {
   "cell_type": "markdown",
   "metadata": {},
   "source": [
    "8. Use a nested for loop to print the following pattern: \n",
    "\n"
   ]
  },
  {
   "cell_type": "markdown",
   "metadata": {},
   "source": [
    "A\n",
    "\n",
    "AA\n",
    "\n",
    "AAA\n",
    "\n",
    "AAAA\n",
    "\n",
    "AAAAA\n"
   ]
  },
  {
   "cell_type": "markdown",
   "metadata": {},
   "source": [
    "Hint: You can print a single asterisk without going to the next line using:\n",
    "\n",
    "print ('* ', end=\"\");\n",
    "\n",
    "And you can go to the next line without printing anything using:\n",
    "\n",
    "print('')\n"
   ]
  },
  {
   "cell_type": "code",
   "execution_count": null,
   "metadata": {},
   "outputs": [],
   "source": []
  }
 ],
 "metadata": {
  "kernelspec": {
   "display_name": "Python 3",
   "language": "python",
   "name": "python3"
  },
  "language_info": {
   "codemirror_mode": {
    "name": "ipython",
    "version": 3
   },
   "file_extension": ".py",
   "mimetype": "text/x-python",
   "name": "python",
   "nbconvert_exporter": "python",
   "pygments_lexer": "ipython3",
   "version": "3.6.7"
  }
 },
 "nbformat": 4,
 "nbformat_minor": 2
}
