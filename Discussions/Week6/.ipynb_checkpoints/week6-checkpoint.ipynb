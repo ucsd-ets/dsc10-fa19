{
 "cells": [
  {
   "cell_type": "code",
   "execution_count": 6,
   "metadata": {
    "slideshow": {
     "slide_type": "skip"
    }
   },
   "outputs": [
    {
     "data": {
      "text/plain": [
       "{'width': 1500, 'height': 700, 'scroll': True}"
      ]
     },
     "execution_count": 6,
     "metadata": {},
     "output_type": "execute_result"
    }
   ],
   "source": [
    "from datascience import *\n",
    "import numpy as np\n",
    "import matplotlib.pyplot as plt\n",
    "%matplotlib inline\n",
    "\n",
    "from notebook.services.config import ConfigManager\n",
    "\n",
    "cm = ConfigManager()\n",
    "cm.update(\n",
    "   \"livereveal\", {\n",
    "       'width': 1500,\n",
    "       'height': 700,\n",
    "       \"scroll\": True,\n",
    "})"
   ]
  },
  {
   "cell_type": "markdown",
   "metadata": {
    "slideshow": {
     "slide_type": "slide"
    }
   },
   "source": [
    "# DSC 10 Discussion: Week 6\n",
    "---\n",
    "Kyle Vigil"
   ]
  },
  {
   "cell_type": "markdown",
   "metadata": {
    "slideshow": {
     "slide_type": "slide"
    }
   },
   "source": [
    "# Probability\n",
    "---"
   ]
  },
  {
   "cell_type": "markdown",
   "metadata": {
    "slideshow": {
     "slide_type": "subslide"
    }
   },
   "source": [
    "## Q: What is a measure of probability?\n",
    "---"
   ]
  },
  {
   "cell_type": "markdown",
   "metadata": {
    "slideshow": {
     "slide_type": "fragment"
    }
   },
   "source": [
    "## Q: In general, how do we find a probability?\n",
    "---"
   ]
  },
  {
   "cell_type": "markdown",
   "metadata": {
    "slideshow": {
     "slide_type": "subslide"
    }
   },
   "source": [
    "## Q: How do we calculate probability via experimentation or simulation?\n",
    "---"
   ]
  },
  {
   "cell_type": "markdown",
   "metadata": {
    "slideshow": {
     "slide_type": "slide"
    }
   },
   "source": [
    "# Time for some math :)\n",
    "---\n",
    "\n",
    "Let's look, just a bit, into the math behind probabilities."
   ]
  },
  {
   "cell_type": "code",
   "execution_count": 1,
   "metadata": {
    "slideshow": {
     "slide_type": "subslide"
    }
   },
   "outputs": [
    {
     "data": {
      "text/plain": [
       "Ellipsis"
      ]
     },
     "execution_count": 1,
     "metadata": {},
     "output_type": "execute_result"
    }
   ],
   "source": [
    "# If P(Rain) = 0.4 probability that it is raining for the day, \n",
    "# and the events are independent then\n",
    "# what is P(Rain For Two Days)?\n",
    "\n",
    "p_rain = 0.4\n",
    "p_rain_twice = ...\n",
    "\n",
    "p_rain_twice"
   ]
  },
  {
   "cell_type": "code",
   "execution_count": 2,
   "metadata": {
    "slideshow": {
     "slide_type": "subslide"
    }
   },
   "outputs": [],
   "source": [
    "# If P(Rain) = 0.4, P(Win the Lottery) = 0.2, and the events are independent then\n",
    "# what is P(Rain and then Win the Lottery)?\n",
    "\n",
    "p_lottery = 0.2\n",
    "p_rain_lottery = ..."
   ]
  },
  {
   "cell_type": "code",
   "execution_count": 3,
   "metadata": {
    "slideshow": {
     "slide_type": "fragment"
    }
   },
   "outputs": [],
   "source": [
    "# What about P(Win the Lottery and then Rain)?\n",
    "\n",
    "p_lottery_rain = ..."
   ]
  },
  {
   "cell_type": "code",
   "execution_count": 4,
   "metadata": {
    "slideshow": {
     "slide_type": "subslide"
    }
   },
   "outputs": [
    {
     "data": {
      "text/plain": [
       "Ellipsis"
      ]
     },
     "execution_count": 4,
     "metadata": {},
     "output_type": "execute_result"
    }
   ],
   "source": [
    "# Finally, if our outcome can either be Rain, Sun, or Snow and P(Sun) = 0.1\n",
    "# then what must P(Snow) equal?\n",
    "\n",
    "p_snow = ...\n",
    "\n",
    "p_snow"
   ]
  },
  {
   "cell_type": "markdown",
   "metadata": {
    "slideshow": {
     "slide_type": "subslide"
    }
   },
   "source": [
    "# Let's *make* a dataset!\n",
    "---\n",
    "\n",
    "In tonight's discussion we'll be creating our datasets instead of downloading them!\n",
    "\n",
    "We'll be coming up with games and creating the rules, and then simulating matches to generate a dataset."
   ]
  },
  {
   "cell_type": "markdown",
   "metadata": {
    "slideshow": {
     "slide_type": "fragment"
    }
   },
   "source": [
    "### We'll cover more later, but first let's create a game and a dataset to go with it.\n",
    "\n",
    " GAME: You roll a die and flip a coin. Score equals: roll * 1 if heads or roll * 2 if tails."
   ]
  },
  {
   "cell_type": "markdown",
   "metadata": {
    "slideshow": {
     "slide_type": "subslide"
    }
   },
   "source": [
    "## Let's create a dataset that contains every possible outcome\n",
    "### Q: Why is this helpful?"
   ]
  },
  {
   "cell_type": "code",
   "execution_count": 7,
   "metadata": {
    "slideshow": {
     "slide_type": "subslide"
    }
   },
   "outputs": [
    {
     "data": {
      "text/html": [
       "<table border=\"1\" class=\"dataframe\">\n",
       "    <thead>\n",
       "        <tr>\n",
       "            <th>Roll</th> <th>Flip</th> <th>Score</th>\n",
       "        </tr>\n",
       "    </thead>\n",
       "    <tbody>\n",
       "    </tbody>\n",
       "</table>"
      ],
      "text/plain": [
       "Roll | Flip | Score"
      ]
     },
     "execution_count": 7,
     "metadata": {},
     "output_type": "execute_result"
    }
   ],
   "source": [
    "Table().with_columns(\n",
    "    \"Roll\", [],\n",
    "    \"Flip\", [],\n",
    "    \"Score\", []\n",
    ")"
   ]
  },
  {
   "cell_type": "markdown",
   "metadata": {
    "slideshow": {
     "slide_type": "subslide"
    }
   },
   "source": [
    "## Q: How many different rows will we have in our final table? (AKA how many different outcomes are there?)"
   ]
  },
  {
   "cell_type": "markdown",
   "metadata": {
    "slideshow": {
     "slide_type": "subslide"
    }
   },
   "source": [
    "## What logic should we use to populate our columns?\n",
    "\n",
    "- Use loops to create the roll and flip columns\n",
    "- calculate the score column afterwards"
   ]
  },
  {
   "cell_type": "code",
   "execution_count": 8,
   "metadata": {
    "slideshow": {
     "slide_type": "fragment"
    }
   },
   "outputs": [],
   "source": [
    "rolls = make_array()\n",
    "flips = make_array()\n",
    "\n",
    "# Every possible roll of a die\n",
    "for roll in np.arange(1, 7):\n",
    "    # Every possible flip of a coin\n",
    "    for flip in np.arange(2):\n",
    "        rolls = np.append(rolls, roll)\n",
    "        flips = np.append(flips, flip)"
   ]
  },
  {
   "cell_type": "code",
   "execution_count": 9,
   "metadata": {
    "slideshow": {
     "slide_type": "fragment"
    }
   },
   "outputs": [
    {
     "data": {
      "text/plain": [
       "array([1., 1., 2., 2., 3., 3., 4., 4., 5., 5., 6., 6.])"
      ]
     },
     "execution_count": 9,
     "metadata": {},
     "output_type": "execute_result"
    }
   ],
   "source": [
    "rolls"
   ]
  },
  {
   "cell_type": "code",
   "execution_count": 10,
   "metadata": {
    "slideshow": {
     "slide_type": "fragment"
    }
   },
   "outputs": [
    {
     "data": {
      "text/plain": [
       "array([0., 1., 0., 1., 0., 1., 0., 1., 0., 1., 0., 1.])"
      ]
     },
     "execution_count": 10,
     "metadata": {},
     "output_type": "execute_result"
    }
   ],
   "source": [
    "flips"
   ]
  },
  {
   "cell_type": "code",
   "execution_count": 11,
   "metadata": {
    "slideshow": {
     "slide_type": "subslide"
    }
   },
   "outputs": [
    {
     "data": {
      "text/html": [
       "<table border=\"1\" class=\"dataframe\">\n",
       "    <thead>\n",
       "        <tr>\n",
       "            <th>Roll</th> <th>Flip</th>\n",
       "        </tr>\n",
       "    </thead>\n",
       "    <tbody>\n",
       "        <tr>\n",
       "            <td>1   </td> <td>0   </td>\n",
       "        </tr>\n",
       "        <tr>\n",
       "            <td>1   </td> <td>1   </td>\n",
       "        </tr>\n",
       "        <tr>\n",
       "            <td>2   </td> <td>0   </td>\n",
       "        </tr>\n",
       "        <tr>\n",
       "            <td>2   </td> <td>1   </td>\n",
       "        </tr>\n",
       "        <tr>\n",
       "            <td>3   </td> <td>0   </td>\n",
       "        </tr>\n",
       "        <tr>\n",
       "            <td>3   </td> <td>1   </td>\n",
       "        </tr>\n",
       "        <tr>\n",
       "            <td>4   </td> <td>0   </td>\n",
       "        </tr>\n",
       "        <tr>\n",
       "            <td>4   </td> <td>1   </td>\n",
       "        </tr>\n",
       "        <tr>\n",
       "            <td>5   </td> <td>0   </td>\n",
       "        </tr>\n",
       "        <tr>\n",
       "            <td>5   </td> <td>1   </td>\n",
       "        </tr>\n",
       "    </tbody>\n",
       "</table>\n",
       "<p>... (2 rows omitted)</p>"
      ],
      "text/plain": [
       "Roll | Flip\n",
       "1    | 0\n",
       "1    | 1\n",
       "2    | 0\n",
       "2    | 1\n",
       "3    | 0\n",
       "3    | 1\n",
       "4    | 0\n",
       "4    | 1\n",
       "5    | 0\n",
       "5    | 1\n",
       "... (2 rows omitted)"
      ]
     },
     "execution_count": 11,
     "metadata": {},
     "output_type": "execute_result"
    }
   ],
   "source": [
    "possibilities = Table().with_columns(\n",
    "    \"Roll\", rolls,\n",
    "    \"Flip\", flips\n",
    ")\n",
    "possibilities"
   ]
  },
  {
   "cell_type": "markdown",
   "metadata": {
    "slideshow": {
     "slide_type": "subslide"
    }
   },
   "source": [
    "## Now we should add the \"Score\" column,\n",
    "### Q: How do we do this?\n",
    "Rules reminder: You roll a die and flip a coin. Score equals: roll * 1 if heads or roll * 2 if tails."
   ]
  },
  {
   "cell_type": "code",
   "execution_count": 12,
   "metadata": {
    "slideshow": {
     "slide_type": "fragment"
    }
   },
   "outputs": [],
   "source": [
    "def score(roll, flip):\n",
    "    return roll * (flip + 1)"
   ]
  },
  {
   "cell_type": "code",
   "execution_count": 13,
   "metadata": {
    "slideshow": {
     "slide_type": "subslide"
    }
   },
   "outputs": [
    {
     "data": {
      "text/html": [
       "<table border=\"1\" class=\"dataframe\">\n",
       "    <thead>\n",
       "        <tr>\n",
       "            <th>Roll</th> <th>Flip</th> <th>Score</th>\n",
       "        </tr>\n",
       "    </thead>\n",
       "    <tbody>\n",
       "        <tr>\n",
       "            <td>1   </td> <td>0   </td> <td>1    </td>\n",
       "        </tr>\n",
       "        <tr>\n",
       "            <td>1   </td> <td>1   </td> <td>2    </td>\n",
       "        </tr>\n",
       "        <tr>\n",
       "            <td>2   </td> <td>0   </td> <td>2    </td>\n",
       "        </tr>\n",
       "        <tr>\n",
       "            <td>2   </td> <td>1   </td> <td>4    </td>\n",
       "        </tr>\n",
       "        <tr>\n",
       "            <td>3   </td> <td>0   </td> <td>3    </td>\n",
       "        </tr>\n",
       "        <tr>\n",
       "            <td>3   </td> <td>1   </td> <td>6    </td>\n",
       "        </tr>\n",
       "        <tr>\n",
       "            <td>4   </td> <td>0   </td> <td>4    </td>\n",
       "        </tr>\n",
       "        <tr>\n",
       "            <td>4   </td> <td>1   </td> <td>8    </td>\n",
       "        </tr>\n",
       "        <tr>\n",
       "            <td>5   </td> <td>0   </td> <td>5    </td>\n",
       "        </tr>\n",
       "        <tr>\n",
       "            <td>5   </td> <td>1   </td> <td>10   </td>\n",
       "        </tr>\n",
       "    </tbody>\n",
       "</table>\n",
       "<p>... (2 rows omitted)</p>"
      ],
      "text/plain": [
       "Roll | Flip | Score\n",
       "1    | 0    | 1\n",
       "1    | 1    | 2\n",
       "2    | 0    | 2\n",
       "2    | 1    | 4\n",
       "3    | 0    | 3\n",
       "3    | 1    | 6\n",
       "4    | 0    | 4\n",
       "4    | 1    | 8\n",
       "5    | 0    | 5\n",
       "5    | 1    | 10\n",
       "... (2 rows omitted)"
      ]
     },
     "execution_count": 13,
     "metadata": {},
     "output_type": "execute_result"
    }
   ],
   "source": [
    "possibilities = possibilities.with_column(\n",
    "    \"Score\", possibilities.apply(score, \"Roll\", \"Flip\")\n",
    ")\n",
    "possibilities"
   ]
  },
  {
   "cell_type": "markdown",
   "metadata": {
    "slideshow": {
     "slide_type": "slide"
    }
   },
   "source": [
    "# Let's look at the distribution of sums\n",
    "---\n",
    "\n",
    "We want to figure out the exact probability of all possible sums of the game are, based on all possible rolls and flips."
   ]
  },
  {
   "cell_type": "code",
   "execution_count": 14,
   "metadata": {
    "slideshow": {
     "slide_type": "fragment"
    }
   },
   "outputs": [
    {
     "data": {
      "image/png": "[encoded data removed]",
      "text/plain": [
       "<Figure size 432x288 with 1 Axes>"
      ]
     },
     "metadata": {
      "needs_background": "light"
     },
     "output_type": "display_data"
    }
   ],
   "source": [
    "# Let's make the bins of this histogram go from min to max ;) \n",
    "possibilities.hist(\n",
    "    \"Score\",\n",
    "    bins = np.arange(\n",
    "        min(possibilities.column(\"Score\")), max(possibilities.column(\"Score\")) + 2, 1\n",
    "    )\n",
    ")"
   ]
  },
  {
   "cell_type": "code",
   "execution_count": 15,
   "metadata": {
    "slideshow": {
     "slide_type": "subslide"
    }
   },
   "outputs": [],
   "source": [
    "# Let's save those bins for the future\n",
    "bins = np.arange(min(possibilities.column(\"Score\")), max(possibilities.column(\"Score\")) + 2, 1)"
   ]
  },
  {
   "cell_type": "code",
   "execution_count": 16,
   "metadata": {
    "slideshow": {
     "slide_type": "fragment"
    }
   },
   "outputs": [
    {
     "name": "stdout",
     "output_type": "stream",
     "text": [
      "1.0 \t 0.08333333333333333\n",
      "2.0 \t 0.16666666666666666\n",
      "3.0 \t 0.08333333333333333\n",
      "4.0 \t 0.16666666666666666\n",
      "5.0 \t 0.08333333333333333\n",
      "6.0 \t 0.16666666666666666\n",
      "8.0 \t 0.08333333333333333\n",
      "10.0 \t 0.08333333333333333\n",
      "12.0 \t 0.08333333333333333\n"
     ]
    }
   ],
   "source": [
    "# I also want to print out all of the probabilities for reference\n",
    "\n",
    "for value in np.unique(possibilities.column(\"Score\")):\n",
    "    print(value, '\\t', possibilities.where(\"Score\", value).num_rows / possibilities.num_rows)"
   ]
  },
  {
   "cell_type": "markdown",
   "metadata": {
    "slideshow": {
     "slide_type": "slide"
    }
   },
   "source": [
    "# Distributions: a quick aside\n",
    "---"
   ]
  },
  {
   "cell_type": "markdown",
   "metadata": {
    "slideshow": {
     "slide_type": "subslide"
    }
   },
   "source": [
    "## Probability Distribution of a Statistic\n",
    "\n",
    "* Values of a statistic vary because random samples vary\n",
    "* “Sampling distribution” or “probability distribution” of the statistic\n",
    "    - All possible values of the statistic and all the corresponding probabilities.\n",
    "* Can be hard to calculate: \n",
    "    - either have to do the math or have to generate all possible samples and calculate the statistic based on each sample\n"
   ]
  },
  {
   "cell_type": "markdown",
   "metadata": {
    "slideshow": {
     "slide_type": "subslide"
    }
   },
   "source": [
    "## Empirical Distribution of a Statistic\n",
    "* Empirical distribution of the statistic\n",
    "    - Based on simulated values of the statistic\n",
    "    - Consists of all the observed values of the statistic,\n",
    "    - and the proportion of times each value appeared\n",
    "\n",
    "* Good approximation to the probability distribution of the statistic \n",
    "    - if the number of repetitions in the simulation is large\n"
   ]
  },
  {
   "cell_type": "markdown",
   "metadata": {
    "slideshow": {
     "slide_type": "subslide"
    }
   },
   "source": [
    "## Q: Can we design a game that has a uniform score distribution with the one die and coin? What would such a game be?"
   ]
  },
  {
   "cell_type": "markdown",
   "metadata": {
    "slideshow": {
     "slide_type": "subslide"
    }
   },
   "source": [
    "# Let's simulate our game\n",
    "---\n",
    "\n",
    "Say I wanted to simulate matches of the game we defined above."
   ]
  },
  {
   "cell_type": "code",
   "execution_count": 17,
   "metadata": {
    "slideshow": {
     "slide_type": "fragment"
    }
   },
   "outputs": [
    {
     "data": {
      "text/plain": [
       "array([8., 5., 4., ..., 8., 1., 6.])"
      ]
     },
     "execution_count": 17,
     "metadata": {},
     "output_type": "execute_result"
    }
   ],
   "source": [
    "# We could write a function\n",
    "def simulate():\n",
    "    roll = np.random.choice(np.arange(1, 7))\n",
    "    flip = np.random.choice(np.arange(2))\n",
    "    return score(roll, flip)\n",
    "\n",
    "# And use it a bunch of times\n",
    "trials = 10000\n",
    "results = make_array()\n",
    "\n",
    "for i in np.arange(trials):\n",
    "    results = np.append(results, simulate())\n",
    "    \n",
    "results"
   ]
  },
  {
   "cell_type": "markdown",
   "metadata": {
    "slideshow": {
     "slide_type": "subslide"
    }
   },
   "source": [
    "# But... this seems familiar.  Have we seen these \"simulations\" before?"
   ]
  },
  {
   "cell_type": "markdown",
   "metadata": {
    "slideshow": {
     "slide_type": "subslide"
    }
   },
   "source": [
    "# So, what does that mean we can do instead of simulating?"
   ]
  },
  {
   "cell_type": "markdown",
   "metadata": {
    "slideshow": {
     "slide_type": "slide"
    }
   },
   "source": [
    "# Sampling\n",
    "---\n",
    "\n",
    "Sampling is a way of getting a subset of population."
   ]
  },
  {
   "cell_type": "markdown",
   "metadata": {
    "slideshow": {
     "slide_type": "fragment"
    }
   },
   "source": [
    "## What do we use sampling for?"
   ]
  },
  {
   "cell_type": "markdown",
   "metadata": {
    "slideshow": {
     "slide_type": "subslide"
    }
   },
   "source": [
    "### Deterministic sample:\n",
    "* Sampling scheme doesn’t involve chance\n",
    "\n",
    "### Probability (random) sample:\n",
    "* Before the sample is drawn, you have to know the probability of selecting each group of people in the population\n",
    "* Not all individuals need to have an equal chance of being selected"
   ]
  },
  {
   "cell_type": "code",
   "execution_count": 18,
   "metadata": {
    "slideshow": {
     "slide_type": "subslide"
    }
   },
   "outputs": [
    {
     "data": {
      "text/html": [
       "<table border=\"1\" class=\"dataframe\">\n",
       "    <thead>\n",
       "        <tr>\n",
       "            <th>Roll</th> <th>Flip</th> <th>Score</th>\n",
       "        </tr>\n",
       "    </thead>\n",
       "    <tbody>\n",
       "        <tr>\n",
       "            <td>3   </td> <td>1   </td> <td>6    </td>\n",
       "        </tr>\n",
       "        <tr>\n",
       "            <td>6   </td> <td>0   </td> <td>6    </td>\n",
       "        </tr>\n",
       "    </tbody>\n",
       "</table>"
      ],
      "text/plain": [
       "Roll | Flip | Score\n",
       "3    | 1    | 6\n",
       "6    | 0    | 6"
      ]
     },
     "execution_count": 18,
     "metadata": {},
     "output_type": "execute_result"
    }
   ],
   "source": [
    "# If we take every row with a score of 6\n",
    "# what type of sampling is this?\n",
    "\n",
    "possibilities.where(\"Score\", 6)"
   ]
  },
  {
   "cell_type": "code",
   "execution_count": 19,
   "metadata": {
    "slideshow": {
     "slide_type": "subslide"
    }
   },
   "outputs": [
    {
     "data": {
      "text/html": [
       "<table border=\"1\" class=\"dataframe\">\n",
       "    <thead>\n",
       "        <tr>\n",
       "            <th>Roll</th> <th>Flip</th> <th>Score</th>\n",
       "        </tr>\n",
       "    </thead>\n",
       "    <tbody>\n",
       "        <tr>\n",
       "            <td>4   </td> <td>0   </td> <td>4    </td>\n",
       "        </tr>\n",
       "        <tr>\n",
       "            <td>2   </td> <td>0   </td> <td>2    </td>\n",
       "        </tr>\n",
       "        <tr>\n",
       "            <td>6   </td> <td>0   </td> <td>6    </td>\n",
       "        </tr>\n",
       "        <tr>\n",
       "            <td>3   </td> <td>0   </td> <td>3    </td>\n",
       "        </tr>\n",
       "        <tr>\n",
       "            <td>2   </td> <td>0   </td> <td>2    </td>\n",
       "        </tr>\n",
       "    </tbody>\n",
       "</table>"
      ],
      "text/plain": [
       "Roll | Flip | Score\n",
       "4    | 0    | 4\n",
       "2    | 0    | 2\n",
       "6    | 0    | 6\n",
       "3    | 0    | 3\n",
       "2    | 0    | 2"
      ]
     },
     "execution_count": 19,
     "metadata": {},
     "output_type": "execute_result"
    }
   ],
   "source": [
    "# If we sample a random selection of 5 rows\n",
    "# what type of sampling is this?\n",
    "\n",
    "possibilities.sample(5)"
   ]
  },
  {
   "cell_type": "code",
   "execution_count": 23,
   "metadata": {
    "slideshow": {
     "slide_type": "subslide"
    }
   },
   "outputs": [
    {
     "data": {
      "text/html": [
       "<table border=\"1\" class=\"dataframe\">\n",
       "    <thead>\n",
       "        <tr>\n",
       "            <th>Roll</th> <th>Flip</th> <th>Score</th>\n",
       "        </tr>\n",
       "    </thead>\n",
       "    <tbody>\n",
       "        <tr>\n",
       "            <td>3   </td> <td>0   </td> <td>3    </td>\n",
       "        </tr>\n",
       "        <tr>\n",
       "            <td>3   </td> <td>1   </td> <td>6    </td>\n",
       "        </tr>\n",
       "        <tr>\n",
       "            <td>5   </td> <td>0   </td> <td>5    </td>\n",
       "        </tr>\n",
       "        <tr>\n",
       "            <td>4   </td> <td>1   </td> <td>8    </td>\n",
       "        </tr>\n",
       "    </tbody>\n",
       "</table>"
      ],
      "text/plain": [
       "Roll | Flip | Score\n",
       "3    | 0    | 3\n",
       "3    | 1    | 6\n",
       "5    | 0    | 5\n",
       "4    | 1    | 8"
      ]
     },
     "execution_count": 23,
     "metadata": {},
     "output_type": "execute_result"
    }
   ],
   "source": [
    "# But we still need to be careful, because what about this?\n",
    "\n",
    "possibilities.sample(4, with_replacement=False)"
   ]
  },
  {
   "cell_type": "code",
   "execution_count": 24,
   "metadata": {
    "slideshow": {
     "slide_type": "subslide"
    }
   },
   "outputs": [
    {
     "data": {
      "text/html": [
       "<table border=\"1\" class=\"dataframe\">\n",
       "    <thead>\n",
       "        <tr>\n",
       "            <th>Roll</th> <th>Flip</th> <th>Score</th>\n",
       "        </tr>\n",
       "    </thead>\n",
       "    <tbody>\n",
       "        <tr>\n",
       "            <td>2   </td> <td>1   </td> <td>4    </td>\n",
       "        </tr>\n",
       "        <tr>\n",
       "            <td>1   </td> <td>1   </td> <td>2    </td>\n",
       "        </tr>\n",
       "        <tr>\n",
       "            <td>2   </td> <td>0   </td> <td>2    </td>\n",
       "        </tr>\n",
       "        <tr>\n",
       "            <td>1   </td> <td>0   </td> <td>1    </td>\n",
       "        </tr>\n",
       "        <tr>\n",
       "            <td>2   </td> <td>0   </td> <td>2    </td>\n",
       "        </tr>\n",
       "        <tr>\n",
       "            <td>2   </td> <td>0   </td> <td>2    </td>\n",
       "        </tr>\n",
       "        <tr>\n",
       "            <td>4   </td> <td>0   </td> <td>4    </td>\n",
       "        </tr>\n",
       "        <tr>\n",
       "            <td>1   </td> <td>0   </td> <td>1    </td>\n",
       "        </tr>\n",
       "        <tr>\n",
       "            <td>5   </td> <td>1   </td> <td>10   </td>\n",
       "        </tr>\n",
       "        <tr>\n",
       "            <td>3   </td> <td>0   </td> <td>3    </td>\n",
       "        </tr>\n",
       "    </tbody>\n",
       "</table>\n",
       "<p>... (990 rows omitted)</p>"
      ],
      "text/plain": [
       "Roll | Flip | Score\n",
       "2    | 1    | 4\n",
       "1    | 1    | 2\n",
       "2    | 0    | 2\n",
       "1    | 0    | 1\n",
       "2    | 0    | 2\n",
       "2    | 0    | 2\n",
       "4    | 0    | 4\n",
       "1    | 0    | 1\n",
       "5    | 1    | 10\n",
       "3    | 0    | 3\n",
       "... (990 rows omitted)"
      ]
     },
     "execution_count": 24,
     "metadata": {},
     "output_type": "execute_result"
    }
   ],
   "source": [
    "# What happens if we want to sample 100 matches?\n",
    "\n",
    "possibilities.sample(1000)"
   ]
  },
  {
   "cell_type": "code",
   "execution_count": 25,
   "metadata": {
    "slideshow": {
     "slide_type": "subslide"
    }
   },
   "outputs": [
    {
     "data": {
      "text/html": [
       "<table border=\"1\" class=\"dataframe\">\n",
       "    <thead>\n",
       "        <tr>\n",
       "            <th>Roll</th> <th>Flip</th> <th>Score</th>\n",
       "        </tr>\n",
       "    </thead>\n",
       "    <tbody>\n",
       "        <tr>\n",
       "            <td>1   </td> <td>0   </td> <td>1    </td>\n",
       "        </tr>\n",
       "        <tr>\n",
       "            <td>1   </td> <td>1   </td> <td>2    </td>\n",
       "        </tr>\n",
       "        <tr>\n",
       "            <td>2   </td> <td>0   </td> <td>2    </td>\n",
       "        </tr>\n",
       "        <tr>\n",
       "            <td>2   </td> <td>1   </td> <td>4    </td>\n",
       "        </tr>\n",
       "        <tr>\n",
       "            <td>3   </td> <td>0   </td> <td>3    </td>\n",
       "        </tr>\n",
       "    </tbody>\n",
       "</table>"
      ],
      "text/plain": [
       "Roll | Flip | Score\n",
       "1    | 0    | 1\n",
       "1    | 1    | 2\n",
       "2    | 0    | 2\n",
       "2    | 1    | 4\n",
       "3    | 0    | 3"
      ]
     },
     "execution_count": 25,
     "metadata": {},
     "output_type": "execute_result"
    }
   ],
   "source": [
    "# What if we sample the first 5 rows that we see?\n",
    "# Is this not the same as simulating 5 times?\n",
    "# What kind of sampling is this?\n",
    "\n",
    "possibilities.take(np.arange(5))"
   ]
  },
  {
   "cell_type": "code",
   "execution_count": 26,
   "metadata": {
    "slideshow": {
     "slide_type": "subslide"
    }
   },
   "outputs": [
    {
     "data": {
      "text/html": [
       "<table border=\"1\" class=\"dataframe\">\n",
       "    <thead>\n",
       "        <tr>\n",
       "            <th>Roll</th> <th>Flip</th> <th>Score</th>\n",
       "        </tr>\n",
       "    </thead>\n",
       "    <tbody>\n",
       "        <tr>\n",
       "            <td>1   </td> <td>0   </td> <td>1    </td>\n",
       "        </tr>\n",
       "        <tr>\n",
       "            <td>6   </td> <td>0   </td> <td>6    </td>\n",
       "        </tr>\n",
       "        <tr>\n",
       "            <td>2   </td> <td>0   </td> <td>2    </td>\n",
       "        </tr>\n",
       "        <tr>\n",
       "            <td>5   </td> <td>0   </td> <td>5    </td>\n",
       "        </tr>\n",
       "        <tr>\n",
       "            <td>1   </td> <td>1   </td> <td>2    </td>\n",
       "        </tr>\n",
       "    </tbody>\n",
       "</table>"
      ],
      "text/plain": [
       "Roll | Flip | Score\n",
       "1    | 0    | 1\n",
       "6    | 0    | 6\n",
       "2    | 0    | 2\n",
       "5    | 0    | 5\n",
       "1    | 1    | 2"
      ]
     },
     "execution_count": 26,
     "metadata": {},
     "output_type": "execute_result"
    }
   ],
   "source": [
    "# Okay, what if we shuffle the possibilities, and then pick the first 5?\n",
    "# Should be fine, right?\n",
    "\n",
    "rows = [possibilities.row(i) for i in np.arange(possibilities.num_rows)]\n",
    "\n",
    "np.random.shuffle(rows)\n",
    "\n",
    "shuffled = Table([\"Roll\", \"Flip\", \"Score\"]).with_rows(\n",
    "    rows\n",
    ")\n",
    "shuffled.take(np.arange(5))"
   ]
  },
  {
   "cell_type": "markdown",
   "metadata": {
    "slideshow": {
     "slide_type": "subslide"
    }
   },
   "source": [
    "# What conditions must be satisfied for accurate sampling?\n",
    "# What do we mean by \"accurate\" sampling?\n",
    "---\n",
    "\n",
    "I'm glad you asked!"
   ]
  },
  {
   "cell_type": "markdown",
   "metadata": {
    "slideshow": {
     "slide_type": "subslide"
    }
   },
   "source": [
    "# Accuracy vs. Precision"
   ]
  },
  {
   "cell_type": "markdown",
   "metadata": {
    "slideshow": {
     "slide_type": "fragment"
    }
   },
   "source": [
    "Accuracy: close to the true value\n",
    "    \n",
    "Precision: individual guesses are all close together"
   ]
  },
  {
   "cell_type": "code",
   "execution_count": 27,
   "metadata": {
    "slideshow": {
     "slide_type": "subslide"
    }
   },
   "outputs": [],
   "source": [
    "# Recall that sampling is a way for us to discover things about\n",
    "# a population when we don't have access to that population.\n",
    "#\n",
    "# So by that logic, an \"accurate\" sample would mean..."
   ]
  },
  {
   "cell_type": "markdown",
   "metadata": {
    "slideshow": {
     "slide_type": "subslide"
    }
   },
   "source": [
    "# Law of Large Numbers\n",
    "---\n",
    "As long as we satisfy the conditions for an accurate sample then we know that:\n",
    "- As the number of samples increases, the distribution of sample results will approach the true distribution of the population\n",
    "\n",
    "In other words, the empirical distribution will get closer to the probability distribution"
   ]
  },
  {
   "cell_type": "code",
   "execution_count": 28,
   "metadata": {
    "slideshow": {
     "slide_type": "subslide"
    }
   },
   "outputs": [],
   "source": [
    "# Let's verify this ourselves"
   ]
  },
  {
   "cell_type": "code",
   "execution_count": 29,
   "metadata": {
    "slideshow": {
     "slide_type": "fragment"
    }
   },
   "outputs": [],
   "source": [
    "# We can define a simulate function\n",
    "def simulate(num):\n",
    "    return possibilities.sample(num).column(\"Score\")"
   ]
  },
  {
   "cell_type": "code",
   "execution_count": 30,
   "metadata": {
    "slideshow": {
     "slide_type": "subslide"
    }
   },
   "outputs": [
    {
     "name": "stderr",
     "output_type": "stream",
     "text": [
      "C:\\ProgramData\\Anaconda3\\lib\\site-packages\\matplotlib\\figure.py:98: MatplotlibDeprecationWarning: \n",
      "Adding an axes using the same arguments as a previous axes currently reuses the earlier instance.  In a future version, a new instance will always be created and returned.  Meanwhile, this warning can be suppressed, and the future behavior ensured, by passing a unique label to each axes instance.\n",
      "  \"Adding an axes using the same arguments as a previous axes \"\n"
     ]
    },
    {
     "data": {
      "image/png": "[encoded data removed]",
      "text/plain": [
       "<Figure size 1080x720 with 4 Axes>"
      ]
     },
     "metadata": {
      "needs_background": "light"
     },
     "output_type": "display_data"
    }
   ],
   "source": [
    "plt.figure(figsize=(15,10))\n",
    "plt.subplot(2, 2, 1)\n",
    "x = 0\n",
    "for trials in [10, 100, 1000, 10000]:\n",
    "    x += 1\n",
    "    plt.subplot(2,2,x)\n",
    "    plt.hist(simulate(trials))\n",
    "    plt.title(\"simulate {} times\".format(trials))\n"
   ]
  },
  {
   "cell_type": "code",
   "execution_count": 31,
   "metadata": {
    "slideshow": {
     "slide_type": "subslide"
    }
   },
   "outputs": [
    {
     "data": {
      "image/png": "[encoded data removed]",
      "text/plain": [
       "<Figure size 432x288 with 1 Axes>"
      ]
     },
     "metadata": {
      "needs_background": "light"
     },
     "output_type": "display_data"
    }
   ],
   "source": [
    "possibilities.hist(\"Score\")"
   ]
  },
  {
   "cell_type": "markdown",
   "metadata": {
    "slideshow": {
     "slide_type": "slide"
    }
   },
   "source": [
    "# Sample statistics\n",
    "---\n",
    "\n",
    "In addition to the distribution of sample results approaching the true distribution, the average of sample statistics will approach the true population statistic."
   ]
  },
  {
   "cell_type": "markdown",
   "metadata": {
    "slideshow": {
     "slide_type": "subslide"
    }
   },
   "source": [
    "## What's a sample statistic?"
   ]
  },
  {
   "cell_type": "markdown",
   "metadata": {
    "slideshow": {
     "slide_type": "subslide"
    }
   },
   "source": [
    "## Let's try and calculate a sample statistic\n",
    "---\n",
    "In addition to choosing a statistic (we'll be using mean of scores in the game), there's another thing we must decide.\n",
    "\n",
    "\n",
    "What is it?"
   ]
  },
  {
   "cell_type": "markdown",
   "metadata": {
    "slideshow": {
     "slide_type": "subslide"
    }
   },
   "source": [
    "# What does our sample statistic translate to in words?"
   ]
  },
  {
   "cell_type": "code",
   "execution_count": 33,
   "metadata": {
    "slideshow": {
     "slide_type": "fragment"
    }
   },
   "outputs": [
    {
     "data": {
      "text/plain": [
       "5.31"
      ]
     },
     "execution_count": 33,
     "metadata": {},
     "output_type": "execute_result"
    }
   ],
   "source": [
    "# Alright, now let's compute a sample statistic.  Try with multiple sizes.\n",
    "sample_size = 100\n",
    "np.mean(simulate(sample_size))"
   ]
  },
  {
   "cell_type": "code",
   "execution_count": 34,
   "metadata": {
    "slideshow": {
     "slide_type": "subslide"
    }
   },
   "outputs": [
    {
     "data": {
      "text/plain": [
       "4.5"
      ]
     },
     "execution_count": 34,
     "metadata": {},
     "output_type": "execute_result"
    }
   ],
   "source": [
    "# Let's find another sample statistic\n",
    "sample_size = 10\n",
    "( min(simulate(sample_size)) + max(simulate(sample_size)) ) / 2 # <-- What's wrong here? "
   ]
  },
  {
   "cell_type": "markdown",
   "metadata": {
    "slideshow": {
     "slide_type": "slide"
    }
   },
   "source": [
    "# Distribution of Sample Statistics\n",
    "---\n",
    "\n",
    "Recall, we said that:\n",
    ">As the number of trials grows large, the average of the distribution of sample statistics approaches the population average for that statistic."
   ]
  },
  {
   "cell_type": "markdown",
   "metadata": {
    "slideshow": {
     "slide_type": "fragment"
    }
   },
   "source": [
    "# But... how does \"number of trials\" differ from \"sample size\"?"
   ]
  },
  {
   "cell_type": "code",
   "execution_count": 35,
   "metadata": {
    "slideshow": {
     "slide_type": "subslide"
    }
   },
   "outputs": [
    {
     "data": {
      "text/plain": [
       "5.2551440000000005"
      ]
     },
     "execution_count": 35,
     "metadata": {},
     "output_type": "execute_result"
    }
   ],
   "source": [
    "# Alright, let's find a bunch of sample statistics and find their average.\n",
    "trials = 500\n",
    "sample_size = 500\n",
    "\n",
    "sample_stats = make_array()\n",
    "\n",
    "for trial in np.arange(trials):\n",
    "    stat = np.mean(simulate(sample_size))\n",
    "    sample_stats = np.append(sample_stats, stat)\n",
    "    \n",
    "np.mean(sample_stats)"
   ]
  },
  {
   "cell_type": "markdown",
   "metadata": {
    "slideshow": {
     "slide_type": "fragment"
    }
   },
   "source": [
    "## We should probably know what the true population statistic is! How can we calculate it?"
   ]
  },
  {
   "cell_type": "markdown",
   "metadata": {
    "slideshow": {
     "slide_type": "subslide"
    }
   },
   "source": [
    "# Let's change around the statistic we calculate"
   ]
  },
  {
   "cell_type": "code",
   "execution_count": 49,
   "metadata": {
    "slideshow": {
     "slide_type": "fragment"
    }
   },
   "outputs": [
    {
     "data": {
      "text/plain": [
       "(4.498, 4.5)"
      ]
     },
     "execution_count": 49,
     "metadata": {},
     "output_type": "execute_result"
    }
   ],
   "source": [
    "# Alright, let's find a bunch of sample statistics and find their average.\n",
    "trials = 1000\n",
    "sample_size = 1000\n",
    "\n",
    "sample_stats = make_array()\n",
    "\n",
    "for trial in np.arange(trials):\n",
    "    stat = np.median(simulate(sample_size))\n",
    "    sample_stats = np.append(sample_stats, stat)\n",
    "    \n",
    "np.mean(sample_stats), np.median(possibilities.column(\"Score\"))"
   ]
  },
  {
   "cell_type": "code",
   "execution_count": 45,
   "metadata": {
    "slideshow": {
     "slide_type": "subslide"
    }
   },
   "outputs": [
    {
     "data": {
      "image/png": "[encoded data removed]",
      "text/plain": [
       "<Figure size 432x288 with 1 Axes>"
      ]
     },
     "metadata": {
      "needs_background": "light"
     },
     "output_type": "display_data"
    }
   ],
   "source": [
    "# Let's plot the distribution of sample means and see what's going on as trials\n",
    "# and sample size change.\n",
    "trials = 10\n",
    "sample_size = 10\n",
    "\n",
    "sample_stats = make_array()\n",
    "\n",
    "for trial in np.arange(trials):\n",
    "    stat = np.mean(simulate(sample_size))\n",
    "    sample_stats = np.append(sample_stats, stat)\n",
    "    \n",
    "plt.hist(sample_stats)\n",
    "plt.axvline(np.mean(possibilities.column(\"Score\")), c='r')\n",
    "plt.axvline(np.mean(np.mean(sample_stats)), c='navy')\n",
    "plt.legend([\"Population\", \"Sample\"]);"
   ]
  },
  {
   "cell_type": "markdown",
   "metadata": {
    "slideshow": {
     "slide_type": "subslide"
    }
   },
   "source": [
    "# What is the relationship between accuracy and trials?"
   ]
  },
  {
   "cell_type": "markdown",
   "metadata": {
    "slideshow": {
     "slide_type": "subslide"
    }
   },
   "source": [
    "# What is the relationship between accuracy and sample size?"
   ]
  }
 ],
 "metadata": {
  "celltoolbar": "Slideshow",
  "kernelspec": {
   "display_name": "Python 3",
   "language": "python",
   "name": "python3"
  },
  "language_info": {
   "codemirror_mode": {
    "name": "ipython",
    "version": 3
   },
   "file_extension": ".py",
   "mimetype": "text/x-python",
   "name": "python",
   "nbconvert_exporter": "python",
   "pygments_lexer": "ipython3",
   "version": "3.6.7"
  }
 },
 "nbformat": 4,
 "nbformat_minor": 2
}
