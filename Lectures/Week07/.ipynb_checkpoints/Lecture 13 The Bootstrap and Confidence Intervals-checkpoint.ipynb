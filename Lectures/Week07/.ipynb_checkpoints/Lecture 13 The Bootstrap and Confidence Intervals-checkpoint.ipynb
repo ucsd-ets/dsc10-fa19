{
 "cells": [
  {
   "cell_type": "code",
   "execution_count": null,
   "metadata": {},
   "outputs": [],
   "source": [
    "#: the usual imports\n",
    "from datascience import *\n",
    "import numpy as np\n",
    "\n",
    "%matplotlib inline\n",
    "import matplotlib.pyplot as plt\n",
    "import warnings; warnings.simplefilter('ignore')\n",
    "\n",
    "plt.style.use('fivethirtyeight')"
   ]
  },
  {
   "cell_type": "markdown",
   "metadata": {
    "slideshow": {
     "slide_type": "slide"
    }
   },
   "source": [
    "# Lecture 13\n",
    "\n",
    "### The Bootstrap and Confidence Intervals"
   ]
  },
  {
   "cell_type": "markdown",
   "metadata": {
    "slideshow": {
     "slide_type": "slide"
    }
   },
   "source": [
    "## Question\n",
    "\n",
    "- What is the median salary of San Diego city employees?\n",
    "- All city employee salary data is public."
   ]
  },
  {
   "cell_type": "code",
   "execution_count": null,
   "metadata": {},
   "outputs": [],
   "source": [
    "#: read in the data\n",
    "population = Table.read_table('salaries.csv')\n",
    "population"
   ]
  },
  {
   "cell_type": "markdown",
   "metadata": {
    "slideshow": {
     "slide_type": "slide"
    }
   },
   "source": [
    "## The median salary\n",
    "\n",
    "- We can use `np.median()`:"
   ]
  },
  {
   "cell_type": "code",
   "execution_count": null,
   "metadata": {},
   "outputs": [],
   "source": [
    "#...population_median\n",
    "# the median of the \"Total Pay\" column\n",
    "population_median = np.median(population.column('Total Pay'))\n",
    "population_median"
   ]
  },
  {
   "cell_type": "markdown",
   "metadata": {
    "slideshow": {
     "slide_type": "slide"
    }
   },
   "source": [
    "## But now...\n",
    "\n",
    "- ...suppose we don't have access to this data.\n",
    "- It is costly and time-consuming to survey *all* 11,000+ employees.\n",
    "- So we gather salaries for a random sample of, say, 500 people.\n",
    "- Hope the median of the sample $\\approx$ median of the population."
   ]
  },
  {
   "cell_type": "markdown",
   "metadata": {
    "slideshow": {
     "slide_type": "slide"
    }
   },
   "source": [
    "## In the language of statistics...\n",
    "\n",
    "- The full table of salaries is the **population**.\n",
    "- The median salary of all employees is a **parameter** of this population.\n",
    "- We observe a **sample** of 500 salaries from the population.\n",
    "- We really want the population median, but we don't have the whole population.\n",
    "- So we compute sample median, a **statistic** as an **estimate** of the population median.\n",
    "- Hopefully the sample median is close to the population median."
   ]
  },
  {
   "cell_type": "markdown",
   "metadata": {
    "slideshow": {
     "slide_type": "slide"
    }
   },
   "source": [
    "## The sample median\n",
    "\n",
    "- Let's survey 500 employees at random.\n",
    "- We can use `.sample()`:"
   ]
  },
  {
   "cell_type": "code",
   "execution_count": null,
   "metadata": {},
   "outputs": [],
   "source": [
    "#: take a sample of size 500\n",
    "sample_500 = population.sample(500, with_replacement=False)\n",
    "sample_500"
   ]
  },
  {
   "cell_type": "code",
   "execution_count": null,
   "metadata": {},
   "outputs": [],
   "source": [
    "#: compute the sample median\n",
    "sample_median = np.median(sample_500.column('Total Pay'))\n",
    "sample_median"
   ]
  },
  {
   "cell_type": "markdown",
   "metadata": {
    "slideshow": {
     "slide_type": "slide"
    }
   },
   "source": [
    "## How confident are we?\n",
    "\n",
    "- Our estimate depended on a random sample.\n",
    "- If our sample was different, our estimate would've been different, too.\n",
    "- **How different could the estimate have been?**\n",
    "- Our confidence in the estimate depends on the answer."
   ]
  },
  {
   "cell_type": "markdown",
   "metadata": {
    "slideshow": {
     "slide_type": "slide"
    }
   },
   "source": [
    "## The sample median is random\n",
    "\n",
    "- The sample median is a random number.\n",
    "- It comes from some distribution of how the sample median could have turned out, based on *which* 500 people were in our sample.\n",
    "    - This is called the sampling distribution.\n",
    "    - It's not known to us, because we only have one sample.\n",
    "- How different could the estimate have been?\n",
    "    - \"Narrow\" sampling distribution $\\Rightarrow$ not too different\n",
    "    - \"Wide\" sampling distribution $\\Rightarrow$ quite different\n",
    "- **What is the distribution of the sample median?**"
   ]
  },
  {
   "cell_type": "markdown",
   "metadata": {
    "slideshow": {
     "slide_type": "slide"
    }
   },
   "source": [
    "## A (costly) approach\n",
    "\n",
    "- Every sample of 500 people gives me one observation of the sample median.\n",
    "- So draw a bunch of samples, compute medians."
   ]
  },
  {
   "cell_type": "code",
   "execution_count": null,
   "metadata": {},
   "outputs": [],
   "source": [
    "#: imports for animation\n",
    "from lecture import sampling_animation\n",
    "from IPython.display import HTML"
   ]
  },
  {
   "cell_type": "code",
   "execution_count": null,
   "metadata": {},
   "outputs": [],
   "source": [
    "%%capture\n",
    "anim, sample_medians = sampling_animation(population)"
   ]
  },
  {
   "cell_type": "code",
   "execution_count": null,
   "metadata": {},
   "outputs": [],
   "source": [
    "#: display animation\n",
    "HTML(anim.to_jshtml())"
   ]
  },
  {
   "cell_type": "markdown",
   "metadata": {
    "slideshow": {
     "slide_type": "slide"
    }
   },
   "source": [
    "## Visualize the distribution\n",
    "\n",
    "- We can plot the distribution of the sample median with a histogram.\n",
    "- This is an approximation using 128 samples.\n",
    "- Sample median is usually in the range [62,000, 70,000]."
   ]
  },
  {
   "cell_type": "code",
   "execution_count": null,
   "metadata": {},
   "outputs": [],
   "source": [
    "#: plot a histogram\n",
    "Table().with_column('Sample Medians', sample_medians).hist(bins=15, unit='$')\n",
    "\n",
    "# show each sample median as an 'x'\n",
    "plt.scatter(sample_medians, np.zeros_like(sample_medians), marker='x', s=80, alpha=.5).set_zorder(2)"
   ]
  },
  {
   "cell_type": "markdown",
   "metadata": {
    "slideshow": {
     "slide_type": "slide"
    }
   },
   "source": [
    "## The problem\n",
    "\n",
    "- Drawing new samples like this is costly (why not just do a census?)\n",
    "- Often, we can't ask for new samples from the population.\n",
    "- The bootstrap:\n",
    "    - the sample itself looks like the distribution.\n",
    "    - so re-sampling from the sample is like drawing from the distribution."
   ]
  },
  {
   "cell_type": "code",
   "execution_count": null,
   "metadata": {},
   "outputs": [],
   "source": [
    "#: a trick to plot the sample and the distribution side-by-side\n",
    "bins=np.arange(10_000, 300_000, 10_000)\n",
    "labels = ['Population']*population.num_rows + ['Sample']*sample_500.num_rows\n",
    "together = population.append(sample_500).with_column('Label', labels)"
   ]
  },
  {
   "cell_type": "code",
   "execution_count": null,
   "metadata": {
    "scrolled": true
   },
   "outputs": [],
   "source": [
    "#: plot\n",
    "together.hist('Total Pay', group='Label', bins=bins)"
   ]
  },
  {
   "cell_type": "markdown",
   "metadata": {
    "slideshow": {
     "slide_type": "slide"
    }
   },
   "source": [
    "## The bootstrap\n",
    "\n",
    "- We have a sample of 500 salaries, we want another.\n",
    "- Can't draw from the population.\n",
    "- But the original sample looks like the population.\n",
    "- So we re-sample the sample."
   ]
  },
  {
   "cell_type": "markdown",
   "metadata": {
    "slideshow": {
     "slide_type": "slide"
    }
   },
   "source": [
    "## Discussion question\n",
    "\n",
    "Which of these effectively resamples the sample, simulating the drawing of a new sample of 500 people?\n",
    "\n",
    "- A) `np.random.choice(sample_500, 500, replace=True)`\n",
    "- B) `np.random.choice(sample_500, 500, replace=False)`\n",
    "- C) `sample_500.sample(with_replacement=True)`\n",
    "- D) `sample_500.sample(with_replacement=False)`"
   ]
  },
  {
   "cell_type": "markdown",
   "metadata": {
    "slideshow": {
     "slide_type": "slide"
    }
   },
   "source": [
    "## Answer\n",
    "\n",
    "- If we sample without replacement, we're just shuffling.\n",
    "- So we sample *with* replacement to get something new."
   ]
  },
  {
   "cell_type": "markdown",
   "metadata": {
    "slideshow": {
     "slide_type": "slide"
    }
   },
   "source": [
    "## Running the bootstrap\n",
    "\n",
    "- Now we can simulate new samples by bootstrapping\n",
    "- I.e., we sample with replacement from our original sample"
   ]
  },
  {
   "cell_type": "code",
   "execution_count": null,
   "metadata": {},
   "outputs": [],
   "source": [
    "n_resamples = 5000\n",
    "\n",
    "boot_medians = make_array()\n",
    "for i in range(n_resamples):\n",
    "    # perform bootstrap resampling\n",
    "    resample = sample_500.sample(500, with_replacement=True)\n",
    "    \n",
    "    # compute the median\n",
    "    median = np.median(resample.column('Total Pay'))\n",
    "    \n",
    "    # tack it on to our list of medians\n",
    "    boot_medians = np.append(boot_medians, median)"
   ]
  },
  {
   "cell_type": "markdown",
   "metadata": {
    "slideshow": {
     "slide_type": "slide"
    }
   },
   "source": [
    "## Bootstrap distribution of the sample median\n",
    "\n",
    "- Most of the time, the sample median is in the range [60,000, 70,000].\n",
    "- Similar to what we found before.\n",
    "- The population median (red dot) is near the middle."
   ]
  },
  {
   "cell_type": "code",
   "execution_count": null,
   "metadata": {
    "scrolled": true
   },
   "outputs": [],
   "source": [
    "#: visualize\n",
    "Table().with_column('Bootstrap Medians', boot_medians).hist(unit='$')\n",
    "plt.scatter(population_median, 0, color='red', s=80).set_zorder(2)"
   ]
  },
  {
   "cell_type": "markdown",
   "metadata": {
    "slideshow": {
     "slide_type": "slide"
    }
   },
   "source": [
    "## Bootstrap rules of thumb\n",
    "\n",
    "- The bootstrap is an awesome tool:\n",
    "    - We used just one sample to get the (approximate) distribution of the sample median.\n",
    "- But it has limitations:\n",
    "    - Requires sample to be good approximation of population.\n",
    "            - A large random sample will look like the population, by the Law of Averages/Large Numbers.\n",
    "    - Not good for sensitive parameters, like maximum.\n",
    "            - Don't want the parameter to be influenced by rare values in the population.\n",
    "    - Works best when probability distribution of the statistic is roughly bell-shaped.\n",
    "    - Can be slow (recommend 10,000+ bootstrap samples)"
   ]
  },
  {
   "cell_type": "markdown",
   "metadata": {
    "slideshow": {
     "slide_type": "slide"
    }
   },
   "source": [
    "## Example: bootstrapping in the German plane problem, version 1\n",
    "\n",
    "- Suppose the population consists of 400 planes $\\leftarrow$ **parameter**\n",
    "- We observe a random sample of 30 planes\n",
    "- Our estimator will be the *twice the sample mean* $\\leftarrow$ **statistic**"
   ]
  },
  {
   "cell_type": "code",
   "execution_count": null,
   "metadata": {},
   "outputs": [],
   "source": [
    "#: 400 planes\n",
    "tank_population = Table().with_column('Serial Number', np.arange(400)+1)"
   ]
  },
  {
   "cell_type": "code",
   "execution_count": null,
   "metadata": {},
   "outputs": [],
   "source": [
    "#: sample 30 planes\n",
    "np.random.seed(48)\n",
    "tank_sample = tank_population.sample(30, with_replacement=False)"
   ]
  },
  {
   "cell_type": "code",
   "execution_count": null,
   "metadata": {
    "scrolled": true
   },
   "outputs": [],
   "source": [
    "2*tank_sample.column('Serial Number').mean()"
   ]
  },
  {
   "cell_type": "markdown",
   "metadata": {
    "slideshow": {
     "slide_type": "slide"
    }
   },
   "source": [
    "## Running the bootstrap"
   ]
  },
  {
   "cell_type": "code",
   "execution_count": null,
   "metadata": {},
   "outputs": [],
   "source": [
    "n_resamples = 5000\n",
    "\n",
    "boot_doubled_means = make_array()\n",
    "for i in range(n_resamples):\n",
    "    # resample\n",
    "    resample = tank_sample.sample(with_replacement=True)\n",
    "    \n",
    "    # compute doubled mean\n",
    "    boot_doubled_mean = 2*resample.column('Serial Number').mean()\n",
    "    \n",
    "    boot_doubled_means = np.append(boot_doubled_means, boot_doubled_mean)"
   ]
  },
  {
   "cell_type": "markdown",
   "metadata": {
    "slideshow": {
     "slide_type": "slide"
    }
   },
   "source": [
    "## Visualize\n",
    "\n",
    "- The bootstrap distribution surrounds the true parameter, 400."
   ]
  },
  {
   "cell_type": "code",
   "execution_count": null,
   "metadata": {},
   "outputs": [],
   "source": [
    "Table().with_column('Bootstrap Max', boot_doubled_means).hist(bins=np.arange(250, 550, 10))\n",
    "plt.scatter(400, 0, color='red')"
   ]
  },
  {
   "cell_type": "markdown",
   "metadata": {
    "slideshow": {
     "slide_type": "slide"
    }
   },
   "source": [
    "## Example: bootstrapping in the German plane problem, version 2\n",
    "\n",
    "- Suppose the population consists of 400 planes $\\leftarrow$ **parameter**\n",
    "- We observe a random sample of 30 planes\n",
    "- Our estimator will be the *maximum in the sample* $\\leftarrow$ **statistic**"
   ]
  },
  {
   "cell_type": "code",
   "execution_count": null,
   "metadata": {},
   "outputs": [],
   "source": [
    "#: 400 planes\n",
    "tank_population = Table().with_column('Serial Number', np.arange(400)+1)"
   ]
  },
  {
   "cell_type": "code",
   "execution_count": null,
   "metadata": {},
   "outputs": [],
   "source": [
    "#: sample 30 planes\n",
    "np.random.seed(48)\n",
    "tank_sample = tank_population.sample(30, with_replacement=False)"
   ]
  },
  {
   "cell_type": "code",
   "execution_count": null,
   "metadata": {
    "scrolled": true
   },
   "outputs": [],
   "source": [
    "tank_sample.column('Serial Number').max()"
   ]
  },
  {
   "cell_type": "markdown",
   "metadata": {
    "slideshow": {
     "slide_type": "slide"
    }
   },
   "source": [
    "## Running the bootstrap"
   ]
  },
  {
   "cell_type": "code",
   "execution_count": null,
   "metadata": {},
   "outputs": [],
   "source": [
    "n_resamples = 5000\n",
    "\n",
    "boot_maxes = make_array()\n",
    "for i in range(n_resamples):\n",
    "    # resample\n",
    "    resample = tank_sample.sample(with_replacement=True)\n",
    "    \n",
    "    # compute max\n",
    "    boot_max = resample.column('Serial Number').max()\n",
    "    \n",
    "    boot_maxes = np.append(boot_maxes, boot_max)"
   ]
  },
  {
   "cell_type": "markdown",
   "metadata": {
    "slideshow": {
     "slide_type": "slide"
    }
   },
   "source": [
    "## Visualize\n",
    "\n",
    "- The bootstrap distribution doesn't surround the true parameter, 400. Why?"
   ]
  },
  {
   "cell_type": "code",
   "execution_count": null,
   "metadata": {},
   "outputs": [],
   "source": [
    "Table().with_column('Bootstrap Max', boot_maxes).hist(bins=np.arange(300, 405, 5))\n",
    "plt.scatter(400, 0, color='red')"
   ]
  },
  {
   "cell_type": "markdown",
   "metadata": {
    "slideshow": {
     "slide_type": "slide"
    }
   },
   "source": [
    "# Confidence Intervals"
   ]
  },
  {
   "cell_type": "markdown",
   "metadata": {},
   "source": [
    "## Confidence intervals\n",
    "\n",
    "- Bootstrapping approximates the distribution of an estimate\n",
    "- The true parameter typically lies in the bulk of the distribution\n",
    "- We can give an interval that we are confident that the correct value lies within"
   ]
  },
  {
   "cell_type": "markdown",
   "metadata": {
    "slideshow": {
     "slide_type": "slide"
    }
   },
   "source": [
    "## A 95% confidence interval for median salary\n",
    "\n",
    "- Recall our bootstrap distribution of the sample median\n",
    "- Suppose by \"bulk\", we mean containing the middle 95% of the area."
   ]
  },
  {
   "cell_type": "code",
   "execution_count": null,
   "metadata": {},
   "outputs": [],
   "source": [
    "#: visualize\n",
    "Table().with_column('Bootstrap Medians', boot_medians).hist()"
   ]
  },
  {
   "cell_type": "markdown",
   "metadata": {
    "slideshow": {
     "slide_type": "slide"
    }
   },
   "source": [
    "## Finding the endpoints\n",
    "\n",
    "- We want to find two points, $x$ and $y$, such that the area:\n",
    "    - to the left of $x$ is about 2.5%\n",
    "    - to the right of $y$ is about 2.5%\n",
    "- Then the interval $[x,y]$ will have about 95% of the total area\n",
    "- I.e., we want the 2.5th percentile and 97.5th percentile."
   ]
  },
  {
   "cell_type": "markdown",
   "metadata": {
    "slideshow": {
     "slide_type": "slide"
    }
   },
   "source": [
    "## Computing percentiles\n",
    "\n",
    "- Use `percentile()` function:\n",
    "    - First argument: percentile to find, a number in [0, 100]\n",
    "    - Second argument: array of values"
   ]
  },
  {
   "cell_type": "code",
   "execution_count": null,
   "metadata": {},
   "outputs": [],
   "source": [
    "left = percentile(2.5, boot_medians)\n",
    "left"
   ]
  },
  {
   "cell_type": "code",
   "execution_count": null,
   "metadata": {},
   "outputs": [],
   "source": [
    "right = percentile(97.5, boot_medians)\n",
    "right"
   ]
  },
  {
   "cell_type": "code",
   "execution_count": null,
   "metadata": {},
   "outputs": [],
   "source": [
    "#: our interval is\n",
    "[left, right]"
   ]
  },
  {
   "cell_type": "markdown",
   "metadata": {
    "slideshow": {
     "slide_type": "slide"
    }
   },
   "source": [
    "## Visualizing our 95% confidence interval\n",
    "\n",
    "- Let's draw the interval on the histogram.\n",
    "- 95% of the bootstrap medians fell into this interval."
   ]
  },
  {
   "cell_type": "code",
   "execution_count": null,
   "metadata": {},
   "outputs": [],
   "source": [
    "#: visualize\n",
    "Table().with_column('Bootstrap Medians', boot_medians).hist()\n",
    "plt.plot([left, right], [0, 0], color='lime', linewidth=10)"
   ]
  },
  {
   "cell_type": "markdown",
   "metadata": {
    "slideshow": {
     "slide_type": "slide"
    }
   },
   "source": [
    "## Discussion question\n",
    "\n",
    "Would an 80% confidence interval be bigger, smaller, or the same size?\n",
    "\n",
    "- A) Bigger\n",
    "- B) Smaller\n",
    "- C) The same size"
   ]
  },
  {
   "cell_type": "markdown",
   "metadata": {
    "slideshow": {
     "slide_type": "slide"
    }
   },
   "source": [
    "## Discussion Question\n",
    "\n",
    "Suppose you had the true probability distribution of the sample median and used it to compute a 100% confidence interval. And suppose you compute a 100% confidence interval using the bootstrap. Which is bigger?\n",
    "\n",
    "- A) The first confidence interval (from the true probability distribution).\n",
    "- B) The second confidence interval (from the boostrap).\n",
    "- C) They're the same size."
   ]
  },
  {
   "cell_type": "markdown",
   "metadata": {
    "slideshow": {
     "slide_type": "slide"
    }
   },
   "source": [
    "## Interpreting confidence intervals\n",
    "\n",
    "- 95% of our bootstrap medians fell within this interval\n",
    "- We're pretty confident that the true median does, too.\n",
    "- How confident should we be about this?"
   ]
  },
  {
   "cell_type": "markdown",
   "metadata": {
    "slideshow": {
     "slide_type": "slide"
    }
   },
   "source": [
    "## Capturing the correct value\n",
    "\n",
    "- If we run the bootstrap again, we get a different distribution.\n",
    "- And so we get a different 95% confidence interval.\n",
    "- 95% of the time, the interval will capture the correct median."
   ]
  },
  {
   "cell_type": "markdown",
   "metadata": {
    "slideshow": {
     "slide_type": "slide"
    }
   },
   "source": [
    "## Interpreting confidence intervals\n",
    "\n",
    "- Doesn't have to be for the same experiment!\n",
    "- Suppose you only ever make 95% confidence intervals.\n",
    "- Then roughly 95% of the CIs you make in your life will contain the true value of the thing being estimated."
   ]
  },
  {
   "cell_type": "markdown",
   "metadata": {
    "slideshow": {
     "slide_type": "slide"
    }
   },
   "source": [
    "## Misinterpreting confidence intervals\n",
    "\n",
    "- A 95% confidence interval has a 95% chance of containing the true value of the thing being estimated.\n",
    "- The interval is random, not the thing being estimated!"
   ]
  },
  {
   "cell_type": "markdown",
   "metadata": {
    "slideshow": {
     "slide_type": "slide"
    }
   },
   "source": [
    "## Misinterpreting confidence intervals\n",
    "\n",
    "- Our 95% confidence interval for the median salary was:"
   ]
  },
  {
   "cell_type": "code",
   "execution_count": null,
   "metadata": {},
   "outputs": [],
   "source": [
    "#: remember...\n",
    "[left, right]"
   ]
  },
  {
   "cell_type": "markdown",
   "metadata": {},
   "source": [
    "- This does not mean that 95% of salaries are in this range!"
   ]
  },
  {
   "cell_type": "markdown",
   "metadata": {
    "slideshow": {
     "slide_type": "slide"
    }
   },
   "source": [
    "## The Big Simulation"
   ]
  },
  {
   "cell_type": "code",
   "execution_count": null,
   "metadata": {},
   "outputs": [],
   "source": [
    "def bootstrap_median(sample_from_population, label, repetitions):\n",
    "    resampled_medians = []\n",
    "    for i in np.arange(repetitions):\n",
    "        resample = sample_from_population.sample()\n",
    "        median = np.median(resample.column(label))\n",
    "        resampled_medians.append(median)\n",
    "    return resampled_medians\n",
    "\n",
    "left_ends = make_array()\n",
    "right_ends = make_array()\n",
    "\n",
    "all_salaries = population.select('Total Pay')\n",
    "for i in np.arange(100):\n",
    "    sample_from_pop = all_salaries.sample(200, with_replacement=False)\n",
    "    medians = bootstrap_median(sample_from_pop, 'Total Pay', 5000)\n",
    "    left_ends = np.append(left_ends, percentile(2.5, medians))\n",
    "    right_ends = np.append(right_ends, percentile(97.5, medians))\n",
    "    print('Iteration:', i)\n",
    "\n",
    "intervals = Table().with_columns(\n",
    "    'Left', left_ends,\n",
    "    'Right', right_ends\n",
    ")"
   ]
  },
  {
   "cell_type": "code",
   "execution_count": null,
   "metadata": {},
   "outputs": [],
   "source": [
    "intervals.show(3)"
   ]
  },
  {
   "cell_type": "code",
   "execution_count": null,
   "metadata": {},
   "outputs": [],
   "source": [
    "(intervals\n",
    " .where('Left', are.below(population_median))\n",
    " .where('Right', are.above(population_median))\n",
    " .num_rows)\n",
    "#How many intervals contained the median? "
   ]
  },
  {
   "cell_type": "code",
   "execution_count": null,
   "metadata": {},
   "outputs": [],
   "source": [
    "replication_number = np.ndarray.astype(np.arange(1, 101), str)\n",
    "\n",
    "intervals2 = Table(replication_number).with_rows(make_array(left_ends, right_ends))\n",
    "\n",
    "plt.figure(figsize=(8,8))\n",
    "n=100\n",
    "for i in np.arange(n):\n",
    "    ends = intervals2.column(i)\n",
    "    plt.plot(ends, make_array(i+1, i+1), color='gold')\n",
    "plt.plot(make_array(population_median, population_median), make_array(0, n), color='red', lw=2)\n",
    "plt.xlabel('Median (dollars)')\n",
    "plt.ylabel('Replication')\n",
    "plt.title('Population Median and Intervals of Estimates');"
   ]
  },
  {
   "cell_type": "markdown",
   "metadata": {
    "slideshow": {
     "slide_type": "slide"
    }
   },
   "source": [
    "## Average Age of Moms"
   ]
  },
  {
   "cell_type": "code",
   "execution_count": null,
   "metadata": {
    "slideshow": {
     "slide_type": "-"
    }
   },
   "outputs": [],
   "source": [
    "births = Table.read_table('baby.csv')\n",
    "births"
   ]
  },
  {
   "cell_type": "code",
   "execution_count": null,
   "metadata": {},
   "outputs": [],
   "source": [
    "ages = births.select('Maternal Age')\n",
    "ages"
   ]
  },
  {
   "cell_type": "markdown",
   "metadata": {
    "slideshow": {
     "slide_type": "slide"
    }
   },
   "source": [
    "## Bootstrapping the Mean"
   ]
  },
  {
   "cell_type": "code",
   "execution_count": null,
   "metadata": {},
   "outputs": [],
   "source": [
    "sample_size = ages.num_rows\n",
    "n_resamples = 5000\n",
    "\n",
    "boot_means = make_array()\n",
    "for i in np.arange(n_resamples):\n",
    "    # perform bootstrap resampling\n",
    "    resample = ages.sample(sample_size, with_replacement=True)\n",
    "    \n",
    "    # compute the mean\n",
    "    mean = np.mean(resample.column('Maternal Age'))\n",
    "    \n",
    "    # append to our array of means\n",
    "    boot_means = np.append(boot_means, mean)"
   ]
  },
  {
   "cell_type": "code",
   "execution_count": null,
   "metadata": {},
   "outputs": [],
   "source": [
    "left = percentile(2.5, boot_means)\n",
    "right = percentile(97.5, boot_means)\n",
    "np.round(left, 1), np.round(right, 1)"
   ]
  },
  {
   "cell_type": "markdown",
   "metadata": {
    "slideshow": {
     "slide_type": "slide"
    }
   },
   "source": [
    "## Visualization"
   ]
  },
  {
   "cell_type": "code",
   "execution_count": null,
   "metadata": {},
   "outputs": [],
   "source": [
    "Table().with_column('Bootstrap Mean', boot_means).hist()\n",
    "plt.plot([left, right], [0, 0], color='lime', linewidth=10)"
   ]
  },
  {
   "cell_type": "markdown",
   "metadata": {
    "slideshow": {
     "slide_type": "slide"
    }
   },
   "source": [
    "## Discussion Question\n",
    "\n",
    "Our confidence interval is (26.9, 27.6)\n",
    "\n",
    "**True or False?**  \n",
    "About 95 percent of the mothers in the population were between 26.9 and 27.6 years old.\n",
    "\n",
    "A. True  \n",
    "B. False"
   ]
  },
  {
   "cell_type": "code",
   "execution_count": null,
   "metadata": {},
   "outputs": [],
   "source": []
  }
 ],
 "metadata": {
  "celltoolbar": "Slideshow",
  "kernelspec": {
   "display_name": "Python 3",
   "language": "python",
   "name": "python3"
  },
  "language_info": {
   "codemirror_mode": {
    "name": "ipython",
    "version": 3
   },
   "file_extension": ".py",
   "mimetype": "text/x-python",
   "name": "python",
   "nbconvert_exporter": "python",
   "pygments_lexer": "ipython3",
   "version": "3.6.8"
  },
  "livereveal": {
   "scroll": true,
   "transition": "none"
  }
 },
 "nbformat": 4,
 "nbformat_minor": 2
}
