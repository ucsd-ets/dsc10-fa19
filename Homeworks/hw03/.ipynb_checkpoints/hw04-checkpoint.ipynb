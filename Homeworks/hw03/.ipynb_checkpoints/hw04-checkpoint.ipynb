{
 "cells": [
  {
   "cell_type": "markdown",
   "metadata": {},
   "source": [
    "# Homework 4: Functions, Apply, Group, Conditionals, and Iteration\n",
    "### Due Friday, August 23rd, at 11:59 pm\n",
    "Directly sharing answers is not okay, but discussing problems with the course staff or with other students is encouraged. \n",
    "\n",
    "You should start early so that you have time to get help if you're stuck.\n",
    "\n",
    "Please complete this notebook by filling in the cells provided. Before you begin, execute the following cell to load the provided tests. Each time you start your server, you will need to execute this cell again to load the tests."
   ]
  },
  {
   "cell_type": "code",
   "execution_count": null,
   "metadata": {},
   "outputs": [],
   "source": [
    "# Don't change this cell; just run it\n",
    "\n",
    "import numpy as np\n",
    "from datascience import *\n",
    "\n",
    "import matplotlib.pyplot as plt\n",
    "%matplotlib inline\n",
    "plt.style.use('fivethirtyeight')\n",
    "\n",
    "from client.api.notebook import Notebook\n",
    "ok = Notebook('hw04.ok')\n",
    "_ = ok.auth(inline=True)"
   ]
  },
  {
   "cell_type": "markdown",
   "metadata": {},
   "source": [
    "**Important**: The `ok` tests don't always tell you that your answer is correct. More often, they help catch careless mistakes. It's up to you to ensure that your answer is correct. If you're not sure, ask someone (not for the answer, but for some guidance about your approach).\n",
    "\n",
    "Once you're finished, you must do two things:\n",
    "\n",
    "### a. Turn into OK\n",
    "Select \"Save and Checkpoint\" in the File menu and then execute the `submit` cell below. The result will contain a link that you can use to check that your assignment has been submitted successfully. If you submit more than once before the deadline, we will only grade your final submission."
   ]
  },
  {
   "cell_type": "code",
   "execution_count": null,
   "metadata": {},
   "outputs": [],
   "source": [
    "_ = ok.submit()"
   ]
  },
  {
   "cell_type": "markdown",
   "metadata": {},
   "source": [
    "## 1. Olympic Medals"
   ]
  },
  {
   "cell_type": "markdown",
   "metadata": {},
   "source": [
    "In this question, we will analyze data on Olympic athletes who won medals in the Winter Olympic Games from 1896-2014. You can find the data [here](https://www.kaggle.com/the-guardian/olympic-games#dictionary.csv)"
   ]
  },
  {
   "cell_type": "markdown",
   "metadata": {},
   "source": [
    "**Question 1.** The data is in a CSV file called `winter.csv`. Read this file into a table named `winter`."
   ]
  },
  {
   "cell_type": "code",
   "execution_count": null,
   "metadata": {},
   "outputs": [],
   "source": [
    "winter = ...\n",
    "winter"
   ]
  },
  {
   "cell_type": "code",
   "execution_count": null,
   "metadata": {},
   "outputs": [],
   "source": [
    "_ = ok.grade('q1_1')"
   ]
  },
  {
   "cell_type": "markdown",
   "metadata": {},
   "source": [
    "The `Country` column contains International Olympic Committee (IOC) [country codes](https://olympics.fandom.com/wiki/List_of_IOC_country_codes). We want to convert these country codes into actual country names that everyone can understand.\n",
    "\n",
    "We'll use a Python [dictionary](https://www.tutorialspoint.com/python/python_dictionary.htm) to help us with this conversion. A dictionary is a simple way to map a unique key to a value. For example, the below dictionary maps course codes to course names."
   ]
  },
  {
   "cell_type": "code",
   "execution_count": null,
   "metadata": {},
   "outputs": [],
   "source": [
    "dsc_courses = {\n",
    "    'DSC 10': 'Principles of Data Science',\n",
    "    'DSC 20': 'Programming and Basic Data Structures for Data Science',\n",
    "    'DSC 30': 'Data Structures and Algorithms for Data Science',\n",
    "    'DSC 40A': 'Theoretical Foundations of Data Science I',\n",
    "    'DSC 40B': 'Theoretical Foundations of Data Science II',\n",
    "    'DSC 80': 'The Practice and Application of Data Science'\n",
    "}"
   ]
  },
  {
   "cell_type": "markdown",
   "metadata": {},
   "source": [
    "We can access the value corresponding to each key using bracket notation."
   ]
  },
  {
   "cell_type": "code",
   "execution_count": null,
   "metadata": {},
   "outputs": [],
   "source": [
    "dsc10_name = dsc_courses['DSC 10']\n",
    "dsc10_name"
   ]
  },
  {
   "cell_type": "markdown",
   "metadata": {},
   "source": [
    "Here, `DSC 10` is the key and `Principles of Data Science` is the value.\n",
    "\n",
    "Let's use a dictionary to help us with our country code to country name conversion. Below is a dictionary containing country codes as keys and country names as values for each of the countries in our dataset of Winter Olympic medal winners."
   ]
  },
  {
   "cell_type": "code",
   "execution_count": null,
   "metadata": {},
   "outputs": [],
   "source": [
    "country_codes = {\n",
    " 'USA': 'United States',\n",
    " 'CAN': 'Canada',\n",
    " 'NOR': 'Norway',\n",
    " 'URS': 'Soviet Union',\n",
    " 'FIN': 'Finland',\n",
    " 'SWE': 'Sweden',\n",
    " 'GER': 'Germany',\n",
    " 'SUI': 'Switzerland',\n",
    " 'AUT': 'Austria',\n",
    " 'RUS': 'Russia',\n",
    " 'ITA': 'Italy',\n",
    " 'GDR': 'East Germany',\n",
    " 'TCH': 'Czechoslovakia',\n",
    " 'FRA': 'France',\n",
    " 'NED': 'Netherlands',\n",
    " 'FRG': 'West Germany',\n",
    " 'KOR': 'Korea, South',\n",
    " 'CHN': 'China',\n",
    " 'GBR': 'United Kingdom',\n",
    " 'CZE': 'Czech Republic',\n",
    " 'JPN': 'Japan',\n",
    " 'EUN': 'Unified Team',\n",
    " 'POL': 'Poland',\n",
    " 'EUA': 'United Team of Germany',\n",
    " 'SLO': 'Slovenia',\n",
    " 'AUS': 'Australia',\n",
    " 'BLR': 'Belarus',\n",
    " 'LAT': 'Latvia',\n",
    " 'BEL': 'Belgium',\n",
    " 'HUN': 'Hungary',\n",
    " 'UKR': 'Ukraine',\n",
    " 'CRO': 'Croatia',\n",
    " 'LIE': 'Liechtenstein',\n",
    " 'YUG': 'Yugoslavia',\n",
    " 'EST': 'Estonia',\n",
    " 'KAZ': 'Kazakhstan',\n",
    " 'BUL': 'Bulgaria',\n",
    " 'DEN': 'Denmark',\n",
    " 'SVK': 'Slovakia',\n",
    " 'ROU': 'Romania',\n",
    " 'ESP': 'Spain',\n",
    " 'PRK': 'Korea, North',\n",
    " 'LUX': 'Luxembourg',\n",
    " 'NZL': 'New Zealand',\n",
    " 'UZB': 'Uzbekistan'}"
   ]
  },
  {
   "cell_type": "markdown",
   "metadata": {},
   "source": [
    "**Question 2.** Using `country_codes`, define a function named `code_to_country` that takes as input a country code and returns the corresponding country name. (Should be only one line)"
   ]
  },
  {
   "cell_type": "code",
   "execution_count": null,
   "metadata": {},
   "outputs": [],
   "source": [
    "def code_to_country(code):\n",
    "    return ..."
   ]
  },
  {
   "cell_type": "code",
   "execution_count": null,
   "metadata": {},
   "outputs": [],
   "source": [
    "_ = ok.grade('q1_2')"
   ]
  },
  {
   "cell_type": "markdown",
   "metadata": {},
   "source": [
    "**Question 3.** Using your `code_to_country` function, use `.apply()` to convert all of the country codes into country names in the `Country` column. Do this without creating an additional column. Check the `.with_columns()` [documentation](http://data8.org/datascience/_autosummary/datascience.tables.Table.with_columns.html) to see how to *replace* values in these two columns without creating additional columns."
   ]
  },
  {
   "cell_type": "code",
   "execution_count": null,
   "metadata": {},
   "outputs": [],
   "source": [
    "winter = ...\n",
    "winter"
   ]
  },
  {
   "cell_type": "code",
   "execution_count": null,
   "metadata": {},
   "outputs": [],
   "source": [
    "_ = ok.grade('q1_3')"
   ]
  },
  {
   "cell_type": "markdown",
   "metadata": {},
   "source": [
    "**Question 4.** Silver medalists are often more devastated than bronze medalists since they are so close to getting gold. Using `.group()`, assign `saddest_country` to the country has the most number of silver medalists. \n",
    "\n",
    "*Hint:* `.group()` takes in a function as an optional argument."
   ]
  },
  {
   "cell_type": "code",
   "execution_count": null,
   "metadata": {},
   "outputs": [],
   "source": [
    "saddest_country = ...\n",
    "saddest_country"
   ]
  },
  {
   "cell_type": "code",
   "execution_count": null,
   "metadata": {},
   "outputs": [],
   "source": [
    "_ = ok.grade('q1_4')"
   ]
  },
  {
   "cell_type": "markdown",
   "metadata": {},
   "source": [
    "**Question 5.** \n",
    "Define a function named `lastname_length` that returns a string describing how long a lastname is. It should take as an input the name of the athlete. Notice that the name consists of the 'lastname, firstname' of the athlete.\n",
    "\n",
    "The function should return the following strings based on the length of the lastname:\n",
    "\n",
    "* Lastname length greater than 10: \"very long\"\n",
    "* Lastname length less than or equal to 10, and greater than 5: \"normal\"\n",
    "* Lastname length less than or equal to 5: \"very short\"\n",
    "\n",
    "*Hint:* Use the string function [`.split()`](https://docs.python.org/3/library/stdtypes.html#str.split). This is useful in splitting the name into a lastname and a firstname."
   ]
  },
  {
   "cell_type": "code",
   "execution_count": null,
   "metadata": {},
   "outputs": [],
   "source": [
    "def lastname_length(name):\n",
    "    return ...\n",
    " \n",
    "# Test cases for your own reference.\n",
    "print(lastname_length('Quer, Giorgio'))  # Should print \"very short\"\n",
    "print(lastname_length('Twomey, Robert')) # Should print 'normal'\n",
    "print(lastname_length('Tiefenbruck, Janine'))  #Should print 'very long'"
   ]
  },
  {
   "cell_type": "code",
   "execution_count": null,
   "metadata": {},
   "outputs": [],
   "source": [
    "_ = ok.grade('q1_5')"
   ]
  },
  {
   "cell_type": "markdown",
   "metadata": {},
   "source": [
    "**Question 6.** Create a new table with only the `Athlete`, `Country`, `Gender`, `Medal` columns of `winter`. Then, using your `lastname_length` function, add a new column named `Long Last Name?` that describes whether the athlete's last name is very short, normal, or very long. Assign this new table to `last_names`."
   ]
  },
  {
   "cell_type": "code",
   "execution_count": null,
   "metadata": {},
   "outputs": [],
   "source": [
    "last_names = ...\n",
    "last_names"
   ]
  },
  {
   "cell_type": "code",
   "execution_count": null,
   "metadata": {},
   "outputs": [],
   "source": [
    "_ = ok.grade('q1_6')"
   ]
  },
  {
   "cell_type": "markdown",
   "metadata": {},
   "source": [
    "**Question 7.** Now we want to look at which countries have some of the shortest last names. Find the top 3 countries with the most number of athletes with last names that are considered \"very short\". Assign these countries as an array to `shortest_names`.\n",
    "\n",
    "*Hint*: A possible solution involves grouping by 2 columns."
   ]
  },
  {
   "cell_type": "code",
   "execution_count": null,
   "metadata": {},
   "outputs": [],
   "source": [
    "shortest_names = ...\n",
    "shortest_names"
   ]
  },
  {
   "cell_type": "code",
   "execution_count": null,
   "metadata": {},
   "outputs": [],
   "source": [
    "_ = ok.grade('q1_7')"
   ]
  },
  {
   "cell_type": "markdown",
   "metadata": {},
   "source": [
    "## 2. Past World Cups\n",
    "Let's now turn to historical World Cup data, from 1930 to 2018. The `Country` column describes the location of the World Cup for that year"
   ]
  },
  {
   "cell_type": "markdown",
   "metadata": {},
   "source": [
    "**Question 1.** The data is in a CSV file called `world_cups.csv`. Read this file into a table named `world_cups`."
   ]
  },
  {
   "cell_type": "code",
   "execution_count": null,
   "metadata": {},
   "outputs": [],
   "source": [
    "world_cups = ...\n",
    "world_cups"
   ]
  },
  {
   "cell_type": "code",
   "execution_count": null,
   "metadata": {},
   "outputs": [],
   "source": [
    "_ = ok.grade('q2_1')"
   ]
  },
  {
   "cell_type": "markdown",
   "metadata": {},
   "source": [
    "**Question 2.** Using `.group()`, identify which country won the most number of World Cups from 1930 to 2018. Assign your answer to `most_wins`."
   ]
  },
  {
   "cell_type": "code",
   "execution_count": null,
   "metadata": {},
   "outputs": [],
   "source": [
    "most_wins = ...\n",
    "most_wins"
   ]
  },
  {
   "cell_type": "code",
   "execution_count": null,
   "metadata": {},
   "outputs": [],
   "source": [
    "_ = ok.grade('q2_2')"
   ]
  },
  {
   "cell_type": "markdown",
   "metadata": {},
   "source": [
    "The World Cup champions' curse is a historical phenomenon in which the defending champion of one World Cup tends to perform poorly on the next World Cup. For example, after winning the 2014 World Cup, Germany failed to even advance to the knockout stage (top 16 teams) of the 2018 World Cup, losing to Mexico and South Korea in the group stage.\n",
    "\n",
    "We'll explore a simplified version of the World Cup champions' curse in which we'll see whether the defending champion of one World Cup was able to advance to the semifinals (top 4 teams) of the next World Cup."
   ]
  },
  {
   "cell_type": "markdown",
   "metadata": {},
   "source": [
    "**Question 3.** Add a column named `Defending Champion` to `world_cups`, containing the names of the defending champions for each year. We define the defending champion to be the country who won the previous World Cup. For example, since Germany won the 2014 World Cup, Germany was the defending champion for the 2018 World Cup. Since France won the 2018 World Cup, France is the defending champion for the 2022 World Cup (excluded from our data set).\n",
    "\n",
    "Note that the 1930 row will not have a defending champion, since our data set doesn't include the winner of the 1926 World Cup. Simply remove this row after extracting the defending champion for the 1934 World Cup. `world_cups` will contain one less row after this process.\n",
    "\n",
    "*Hint*: `.take` with `np.arange` might be helpful here in order to select a range of rows."
   ]
  },
  {
   "cell_type": "code",
   "execution_count": null,
   "metadata": {},
   "outputs": [],
   "source": [
    "world_cups = ...\n",
    "world_cups"
   ]
  },
  {
   "cell_type": "code",
   "execution_count": null,
   "metadata": {},
   "outputs": [],
   "source": [
    "_ = ok.grade('q2_3')"
   ]
  },
  {
   "cell_type": "markdown",
   "metadata": {},
   "source": [
    "**Question 4.** The next step is to check whether the defending champion was able to advance to the semifinals. \n",
    "\n",
    "We offer you a function named `final_four` that takes as input four countries (as strings) and returns a single *list* containing the four countries as elements.\n",
    "\n",
    "Test this function and see how it works."
   ]
  },
  {
   "cell_type": "code",
   "execution_count": null,
   "metadata": {},
   "outputs": [],
   "source": [
    "def final_four(first, second, third, fourth):\n",
    "    return [first, second, third, fourth]"
   ]
  },
  {
   "cell_type": "code",
   "execution_count": null,
   "metadata": {},
   "outputs": [],
   "source": [
    "# test the final_four function here\n",
    "test1 = \"United State\"\n",
    "test2 = \"China\"\n",
    "test3 = \"Canada\"\n",
    "test4 = ...\n",
    "# create a list contain"
   ]
  },
  {
   "cell_type": "markdown",
   "metadata": {},
   "source": [
    "**Question 5.** Using the `final_four` function, add a column named `Final Four` to `world_cups`, containing lists of the semifinalists for each World Cup."
   ]
  },
  {
   "cell_type": "code",
   "execution_count": null,
   "metadata": {},
   "outputs": [],
   "source": [
    "world_cups = ...\n",
    "world_cups"
   ]
  },
  {
   "cell_type": "code",
   "execution_count": null,
   "metadata": {},
   "outputs": [],
   "source": [
    "_ = ok.grade('q2_5')"
   ]
  },
  {
   "cell_type": "markdown",
   "metadata": {},
   "source": [
    "**Question 6.** Now, define a function named `in_final_four` that takes as input the defending champion and a list of the four semifinalists and returns `True` if the defending champion is included in the set of semifinalists and `False` otherwise.\n",
    "\n",
    "*Hint:* You can use the Python `in` keyword to check if something is in a list. For example, `3 in [1, 2, 3]` evaluates to `True`. The body of your function should be one line of code."
   ]
  },
  {
   "cell_type": "code",
   "execution_count": null,
   "metadata": {},
   "outputs": [],
   "source": [
    "def in_final_four(defending_champion, final_four):\n",
    "    return ..."
   ]
  },
  {
   "cell_type": "code",
   "execution_count": null,
   "metadata": {},
   "outputs": [],
   "source": [
    "_ = ok.grade('q2_6')"
   ]
  },
  {
   "cell_type": "markdown",
   "metadata": {},
   "source": [
    "**Question 7.** Using your `in_final_four` function, add a column named `Defending Champion in Final Four` to `world_cups`, indicating whether a defending champion advanced to the semifinals."
   ]
  },
  {
   "cell_type": "code",
   "execution_count": null,
   "metadata": {},
   "outputs": [],
   "source": [
    "world_cups = ...\n",
    "world_cups"
   ]
  },
  {
   "cell_type": "code",
   "execution_count": null,
   "metadata": {},
   "outputs": [],
   "source": [
    "_ = ok.grade('q2_7')"
   ]
  },
  {
   "cell_type": "markdown",
   "metadata": {},
   "source": [
    "**Question 8.** How often did the defending champion advance to the semifinals in the World Cups from 1934 to 2018? Assign a proportion, ranging from 0 to 1, to `semifinalist_frequency`"
   ]
  },
  {
   "cell_type": "code",
   "execution_count": null,
   "metadata": {},
   "outputs": [],
   "source": [
    "semfinalist_frequency = ...\n",
    "semfinalist_frequency"
   ]
  },
  {
   "cell_type": "code",
   "execution_count": null,
   "metadata": {},
   "outputs": [],
   "source": [
    "_ = ok.grade('q2_8')"
   ]
  },
  {
   "cell_type": "markdown",
   "metadata": {},
   "source": [
    "## 3. DSC 10 Midterm"
   ]
  },
  {
   "cell_type": "markdown",
   "metadata": {},
   "source": [
    "Level of preparedness can be a decent predictor for how well you perform on an exam, like the midterm you have."
   ]
  },
  {
   "cell_type": "markdown",
   "metadata": {},
   "source": [
    "**Question 1.** Write a function named `pass_midterm` that takes in boolean variables as input and returns `True` if you will pass the midterm and `False` if you will fail. The function should obey the following logic:\n",
    "\n",
    "* Didn't attend class → Fail\n",
    "* Didn't do homeworks and didn't attend tutor hours → Fail\n",
    "* Didn't do labs and didn't attend discussion sessions → Fail\n",
    "* Has questions and didn't go to tutor hours nor review session → Fail\n",
    "* All-nighter before final AND didn't attend review session → Fail\n",
    "* All other situations → Pass"
   ]
  },
  {
   "cell_type": "code",
   "execution_count": null,
   "metadata": {},
   "outputs": [],
   "source": [
    "def pass_midterm(attend_class, do_well_on_hw, practice_exam, review_session, has_questions, office_hours, all_nighter):\n",
    "    # example\n",
    "    if not attend_class: \n",
    "        return False\n",
    "    if ...\n",
    "    return ...\n",
    "\n",
    "# Test your function. If you'd like, you can write more of your own tests to test your function\n",
    "pass_midterm(True, True, True, False, False, False, True, False) # should return True"
   ]
  },
  {
   "cell_type": "code",
   "execution_count": null,
   "metadata": {},
   "outputs": [],
   "source": [
    "_ = ok.grade('q3_1')"
   ]
  },
  {
   "cell_type": "markdown",
   "metadata": {},
   "source": [
    "Assume the midterms have been graded. Let's assign a letter grade to each midterm score. The below code generates 300 random midterm scores ranging from 45 to 100."
   ]
  },
  {
   "cell_type": "code",
   "execution_count": null,
   "metadata": {},
   "outputs": [],
   "source": [
    "# Don't change this cell; just run it\n",
    "np.random.seed(0)\n",
    "midterm_scores = np.random.choice(range(45,101), 300)\n",
    "print(midterm_scores)"
   ]
  },
  {
   "cell_type": "markdown",
   "metadata": {},
   "source": [
    "**Question 2.** Use a [for loop](https://ucsd-ets.github.io/dsc10-fa18-textbook/chapters/09/2/Iteration) to iterate through `midterm_scores` from beginning to end. For each score, append a letter grade (as a string) to an array, `grades`, according to the below grading scheme: (Modeled after grade schools in British Columbia)\n",
    "* Greater than or equal to 86, less than or equal to 100: 'A'\n",
    "* Greater than or equal to 73, less than 86: 'B'\n",
    "* Greater than or equal to 67, less than 73: 'C+'\n",
    "* Greater than or equal to 60, less than 67: 'C'\n",
    "* Greater than or equal to 50, less than 60: 'C-'\n",
    "* Less than 50: 'F'"
   ]
  },
  {
   "cell_type": "code",
   "execution_count": null,
   "metadata": {},
   "outputs": [],
   "source": [
    "grades = make_array()\n",
    "\n",
    "# Write your for loop here\n",
    "for ...:\n",
    "    if ...:\n",
    "        ...\n",
    "    elif ...:\n",
    "        ...\n",
    "        \n",
    "print(grades)  # Print the result"
   ]
  },
  {
   "cell_type": "code",
   "execution_count": null,
   "metadata": {},
   "outputs": [],
   "source": [
    "_ = ok.grade('q3_2')"
   ]
  },
  {
   "cell_type": "markdown",
   "metadata": {},
   "source": [
    "## Submit\n",
    "\n",
    "To submit:\n",
    "\n",
    "1. Select `Run All` from the `Cell` menu to ensure that you have executed all cells, including the test cells.\n",
    "3. Read through the notebook to make sure everything is fine.\n",
    "4. Submit using the cell below."
   ]
  },
  {
   "cell_type": "code",
   "execution_count": null,
   "metadata": {},
   "outputs": [],
   "source": [
    "# For your convenience, you can run this cell to run all the tests at once!\n",
    "import os\n",
    "_ = [ok.grade(q[:-3]) for q in os.listdir('tests') if q.startswith('q')]"
   ]
  },
  {
   "cell_type": "code",
   "execution_count": null,
   "metadata": {},
   "outputs": [],
   "source": [
    "_ = ok.submit()"
   ]
  }
 ],
 "metadata": {
  "kernelspec": {
   "display_name": "Python 3",
   "language": "python",
   "name": "python3"
  },
  "language_info": {
   "codemirror_mode": {
    "name": "ipython",
    "version": 3
   },
   "file_extension": ".py",
   "mimetype": "text/x-python",
   "name": "python",
   "nbconvert_exporter": "python",
   "pygments_lexer": "ipython3",
   "version": "3.6.2"
  }
 },
 "nbformat": 4,
 "nbformat_minor": 2
}
