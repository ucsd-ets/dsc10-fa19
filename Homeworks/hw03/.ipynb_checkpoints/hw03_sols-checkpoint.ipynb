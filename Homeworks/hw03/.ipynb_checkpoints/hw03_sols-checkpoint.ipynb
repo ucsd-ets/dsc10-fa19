{
 "cells": [
  {
   "cell_type": "markdown",
   "metadata": {},
   "source": [
    "# Homework 3: Custom Functions!!\n",
    "### Due Monday, October 14th, at 11:59 pm\n",
    "Directly sharing answers is not okay, but discussing problems with the course staff or with other students is encouraged. \n",
    "\n",
    "You should start early so that you have time to get help if you're stuck.\n",
    "\n",
    "Please complete this notebook by filling in the cells provided. Before you begin, execute the following cell to load the provided tests. Each time you start your server, you will need to execute this cell again to load the tests."
   ]
  },
  {
   "cell_type": "code",
   "execution_count": 1,
   "metadata": {},
   "outputs": [
    {
     "name": "stdout",
     "output_type": "stream",
     "text": [
      "=====================================================================\n",
      "Assignment: Homework 3: Custom Functions!!\n",
      "OK, version v1.13.11\n",
      "=====================================================================\n",
      "\n"
     ]
    }
   ],
   "source": [
    "# Don't change this cell; just run it\n",
    "\n",
    "import numpy as np\n",
    "from datascience import *\n",
    "\n",
    "import matplotlib.pyplot as plt\n",
    "%matplotlib inline\n",
    "plt.style.use('fivethirtyeight')\n",
    "\n",
    "from client.api.notebook import Notebook \n",
    "ok = Notebook('hw03.ok')\n",
    "#_ = ok.auth(inline=True)"
   ]
  },
  {
   "cell_type": "markdown",
   "metadata": {},
   "source": [
    "**Important**: The `ok` tests don't always tell you that your answer is correct. More often, they help catch careless mistakes. It's up to you to ensure that your answer is correct. If you're not sure, ask someone (not for the answer, but for some guidance about your approach).\n",
    "\n",
    "Once you're finished, you must do two things:\n",
    "\n",
    "### a. Turn into OK\n",
    "Select \"Save and Checkpoint\" in the File menu and then execute the `submit` cell below. The result will contain a link that you can use to check that your assignment has been submitted successfully. If you submit more than once before the deadline, we will only grade your final submission."
   ]
  },
  {
   "cell_type": "code",
   "execution_count": 2,
   "metadata": {},
   "outputs": [],
   "source": [
    "#_ = ok.submit()"
   ]
  },
  {
   "cell_type": "markdown",
   "metadata": {},
   "source": [
    "## 1. Defining Functions"
   ]
  },
  {
   "cell_type": "markdown",
   "metadata": {},
   "source": [
    "**Question 1.** Define a function named `square_and_square_root` that takes in x and returns an array containing two items: x squared and the square root of x."
   ]
  },
  {
   "cell_type": "code",
   "execution_count": 3,
   "metadata": {},
   "outputs": [],
   "source": [
    "def square_and_square_root(x):\n",
    "    return make_array(x**2, x**0.5)"
   ]
  },
  {
   "cell_type": "code",
   "execution_count": 4,
   "metadata": {},
   "outputs": [
    {
     "name": "stdout",
     "output_type": "stream",
     "text": [
      "~~~~~~~~~~~~~~~~~~~~~~~~~~~~~~~~~~~~~~~~~~~~~~~~~~~~~~~~~~~~~~~~~~~~~\n",
      "Running tests\n",
      "\n",
      "---------------------------------------------------------------------\n",
      "Test summary\n",
      "    Passed: 1\n",
      "    Failed: 0\n",
      "[ooooooooook] 100.0% passed\n",
      "\n"
     ]
    }
   ],
   "source": [
    "_ = ok.grade('q1_1')"
   ]
  },
  {
   "cell_type": "markdown",
   "metadata": {},
   "source": [
    "**Question 2.** Define a function named `distance` that takes in four parameters x1, y1, x2, y2 and returns the Euclidean distance (the \"ordinary\" straight-line distance) between point (x1, y1) and point (x2, y2)."
   ]
  },
  {
   "cell_type": "code",
   "execution_count": 5,
   "metadata": {},
   "outputs": [],
   "source": [
    "def distance(x1, y1, x2, y2):\n",
    "    return ((y2 - y1) ** 2 + (x2 - x1) ** 2) ** 0.5"
   ]
  },
  {
   "cell_type": "code",
   "execution_count": 6,
   "metadata": {},
   "outputs": [
    {
     "name": "stdout",
     "output_type": "stream",
     "text": [
      "~~~~~~~~~~~~~~~~~~~~~~~~~~~~~~~~~~~~~~~~~~~~~~~~~~~~~~~~~~~~~~~~~~~~~\n",
      "Running tests\n",
      "\n",
      "---------------------------------------------------------------------\n",
      "Test summary\n",
      "    Passed: 1\n",
      "    Failed: 0\n",
      "[ooooooooook] 100.0% passed\n",
      "\n"
     ]
    }
   ],
   "source": [
    "_ = ok.grade('q1_2')"
   ]
  },
  {
   "cell_type": "markdown",
   "metadata": {},
   "source": [
    "**Question 3.** Define a function named `array_distance` that takes in two arrays array([x1, y1]) and array([x2, y2]) and returns the Euclidean distance between point (x1, y1) and point (x2, y2). Feel free to use the `distance` function you defined."
   ]
  },
  {
   "cell_type": "code",
   "execution_count": 7,
   "metadata": {},
   "outputs": [],
   "source": [
    "def array_distance(array1, array2):\n",
    "    x1 = array1[0]\n",
    "    y1 = array1[1]\n",
    "    x2 = array2[0]\n",
    "    y2 = array2[1]\n",
    "    return distance(x1, y1, x2, y2)"
   ]
  },
  {
   "cell_type": "code",
   "execution_count": 8,
   "metadata": {},
   "outputs": [
    {
     "name": "stdout",
     "output_type": "stream",
     "text": [
      "~~~~~~~~~~~~~~~~~~~~~~~~~~~~~~~~~~~~~~~~~~~~~~~~~~~~~~~~~~~~~~~~~~~~~\n",
      "Running tests\n",
      "\n",
      "---------------------------------------------------------------------\n",
      "Test summary\n",
      "    Passed: 1\n",
      "    Failed: 0\n",
      "[ooooooooook] 100.0% passed\n",
      "\n"
     ]
    }
   ],
   "source": [
    "_ = ok.grade('q1_3')"
   ]
  },
  {
   "cell_type": "markdown",
   "metadata": {},
   "source": [
    "**Question 4.** Define a function named `closer_to_origin` that takes in two arrays array([x1, y1]) and array([x2, y2]), compares which point in (x1, y1) and (x2, y2) is closer to the origin, and returns that point's distance from the origin. Feel free to use the previous functions you defined."
   ]
  },
  {
   "cell_type": "code",
   "execution_count": 9,
   "metadata": {},
   "outputs": [],
   "source": [
    "def closer_to_origin(array1, array2):\n",
    "    dist1 = array_distance(array1, make_array(0,0))\n",
    "    dist2 = array_distance(array2, make_array(0,0))\n",
    "    return min(dist1, dist2)"
   ]
  },
  {
   "cell_type": "code",
   "execution_count": 10,
   "metadata": {},
   "outputs": [
    {
     "name": "stdout",
     "output_type": "stream",
     "text": [
      "~~~~~~~~~~~~~~~~~~~~~~~~~~~~~~~~~~~~~~~~~~~~~~~~~~~~~~~~~~~~~~~~~~~~~\n",
      "Running tests\n",
      "\n",
      "---------------------------------------------------------------------\n",
      "Test summary\n",
      "    Passed: 1\n",
      "    Failed: 0\n",
      "[ooooooooook] 100.0% passed\n",
      "\n"
     ]
    }
   ],
   "source": [
    "_ = ok.grade('q1_4')"
   ]
  },
  {
   "cell_type": "markdown",
   "metadata": {},
   "source": [
    "## 2. Olympic Medals"
   ]
  },
  {
   "cell_type": "markdown",
   "metadata": {},
   "source": [
    "In this question, we will analyze data on Olympic athletes who won medals in the Winter Olympic Games from 1896-2014. You can find the data [here](https://www.kaggle.com/the-guardian/olympic-games#dictionary.csv)"
   ]
  },
  {
   "cell_type": "markdown",
   "metadata": {},
   "source": [
    "**Question 1.** The data is in a CSV file called `winter.csv`. Read this file into a table named `winter`."
   ]
  },
  {
   "cell_type": "code",
   "execution_count": 11,
   "metadata": {},
   "outputs": [
    {
     "name": "stderr",
     "output_type": "stream",
     "text": [
      "C:\\Users\\Yang Li\\Anaconda3\\lib\\site-packages\\datascience\\tables.py:132: FutureWarning: read_table is deprecated, use read_csv instead.\n",
      "  df = pandas.read_table(filepath_or_buffer, *args, **vargs)\n"
     ]
    },
    {
     "data": {
      "text/html": [
       "<table border=\"1\" class=\"dataframe\">\n",
       "    <thead>\n",
       "        <tr>\n",
       "            <th>Year</th> <th>City</th> <th>Sport</th> <th>Discipline</th> <th>Athlete</th> <th>Country</th> <th>Gender</th> <th>Event</th> <th>Medal</th>\n",
       "        </tr>\n",
       "    </thead>\n",
       "    <tbody>\n",
       "        <tr>\n",
       "            <td>1924</td> <td>Chamonix</td> <td>Biathlon</td> <td>Biathlon  </td> <td>BERTHET, G.         </td> <td>FRA    </td> <td>Men   </td> <td>Military Patrol</td> <td>Bronze</td>\n",
       "        </tr>\n",
       "        <tr>\n",
       "            <td>1924</td> <td>Chamonix</td> <td>Biathlon</td> <td>Biathlon  </td> <td>MANDRILLON, C.      </td> <td>FRA    </td> <td>Men   </td> <td>Military Patrol</td> <td>Bronze</td>\n",
       "        </tr>\n",
       "        <tr>\n",
       "            <td>1924</td> <td>Chamonix</td> <td>Biathlon</td> <td>Biathlon  </td> <td>MANDRILLON, Maurice </td> <td>FRA    </td> <td>Men   </td> <td>Military Patrol</td> <td>Bronze</td>\n",
       "        </tr>\n",
       "        <tr>\n",
       "            <td>1924</td> <td>Chamonix</td> <td>Biathlon</td> <td>Biathlon  </td> <td>VANDELLE, André     </td> <td>FRA    </td> <td>Men   </td> <td>Military Patrol</td> <td>Bronze</td>\n",
       "        </tr>\n",
       "        <tr>\n",
       "            <td>1924</td> <td>Chamonix</td> <td>Biathlon</td> <td>Biathlon  </td> <td>AUFDENBLATTEN, Adolf</td> <td>SUI    </td> <td>Men   </td> <td>Military Patrol</td> <td>Gold  </td>\n",
       "        </tr>\n",
       "        <tr>\n",
       "            <td>1924</td> <td>Chamonix</td> <td>Biathlon</td> <td>Biathlon  </td> <td>JULEN, Alphonse     </td> <td>SUI    </td> <td>Men   </td> <td>Military Patrol</td> <td>Gold  </td>\n",
       "        </tr>\n",
       "        <tr>\n",
       "            <td>1924</td> <td>Chamonix</td> <td>Biathlon</td> <td>Biathlon  </td> <td>JULEN, Ant.         </td> <td>SUI    </td> <td>Men   </td> <td>Military Patrol</td> <td>Gold  </td>\n",
       "        </tr>\n",
       "        <tr>\n",
       "            <td>1924</td> <td>Chamonix</td> <td>Biathlon</td> <td>Biathlon  </td> <td>VAUCHER, D.         </td> <td>SUI    </td> <td>Men   </td> <td>Military Patrol</td> <td>Gold  </td>\n",
       "        </tr>\n",
       "        <tr>\n",
       "            <td>1924</td> <td>Chamonix</td> <td>Biathlon</td> <td>Biathlon  </td> <td>BREMER, V.E.        </td> <td>FIN    </td> <td>Men   </td> <td>Military Patrol</td> <td>Silver</td>\n",
       "        </tr>\n",
       "        <tr>\n",
       "            <td>1924</td> <td>Chamonix</td> <td>Biathlon</td> <td>Biathlon  </td> <td>ESKELINEN, A.       </td> <td>FIN    </td> <td>Men   </td> <td>Military Patrol</td> <td>Silver</td>\n",
       "        </tr>\n",
       "    </tbody>\n",
       "</table>\n",
       "<p>... (5760 rows omitted)</p>"
      ],
      "text/plain": [
       "Year | City     | Sport    | Discipline | Athlete              | Country | Gender | Event           | Medal\n",
       "1924 | Chamonix | Biathlon | Biathlon   | BERTHET, G.          | FRA     | Men    | Military Patrol | Bronze\n",
       "1924 | Chamonix | Biathlon | Biathlon   | MANDRILLON, C.       | FRA     | Men    | Military Patrol | Bronze\n",
       "1924 | Chamonix | Biathlon | Biathlon   | MANDRILLON, Maurice  | FRA     | Men    | Military Patrol | Bronze\n",
       "1924 | Chamonix | Biathlon | Biathlon   | VANDELLE, André      | FRA     | Men    | Military Patrol | Bronze\n",
       "1924 | Chamonix | Biathlon | Biathlon   | AUFDENBLATTEN, Adolf | SUI     | Men    | Military Patrol | Gold\n",
       "1924 | Chamonix | Biathlon | Biathlon   | JULEN, Alphonse      | SUI     | Men    | Military Patrol | Gold\n",
       "1924 | Chamonix | Biathlon | Biathlon   | JULEN, Ant.          | SUI     | Men    | Military Patrol | Gold\n",
       "1924 | Chamonix | Biathlon | Biathlon   | VAUCHER, D.          | SUI     | Men    | Military Patrol | Gold\n",
       "1924 | Chamonix | Biathlon | Biathlon   | BREMER, V.E.         | FIN     | Men    | Military Patrol | Silver\n",
       "1924 | Chamonix | Biathlon | Biathlon   | ESKELINEN, A.        | FIN     | Men    | Military Patrol | Silver\n",
       "... (5760 rows omitted)"
      ]
     },
     "execution_count": 11,
     "metadata": {},
     "output_type": "execute_result"
    }
   ],
   "source": [
    "winter = Table.read_table('winter.csv')\n",
    "winter"
   ]
  },
  {
   "cell_type": "code",
   "execution_count": 12,
   "metadata": {},
   "outputs": [
    {
     "name": "stdout",
     "output_type": "stream",
     "text": [
      "~~~~~~~~~~~~~~~~~~~~~~~~~~~~~~~~~~~~~~~~~~~~~~~~~~~~~~~~~~~~~~~~~~~~~\n",
      "Running tests\n",
      "\n",
      "---------------------------------------------------------------------\n",
      "Test summary\n",
      "    Passed: 1\n",
      "    Failed: 0\n",
      "[ooooooooook] 100.0% passed\n",
      "\n"
     ]
    },
    {
     "name": "stderr",
     "output_type": "stream",
     "text": [
      "C:\\Users\\Yang Li\\Anaconda3\\lib\\site-packages\\datascience\\tables.py:192: FutureWarning: Implicit column method lookup is deprecated.\n",
      "  warnings.warn(\"Implicit column method lookup is deprecated.\", FutureWarning)\n"
     ]
    }
   ],
   "source": [
    "_ = ok.grade('q2_1')"
   ]
  },
  {
   "cell_type": "markdown",
   "metadata": {},
   "source": [
    "The `Country` column contains International Olympic Committee (IOC) [country codes](https://olympics.fandom.com/wiki/List_of_IOC_country_codes). We want to convert these country codes into actual country names that everyone can understand.\n",
    "\n",
    "We'll use a Python [dictionary](https://www.tutorialspoint.com/python/python_dictionary.htm) to help us with this conversion. A dictionary is a simple way to map a unique key to a value. For example, the below dictionary maps course codes to course names."
   ]
  },
  {
   "cell_type": "code",
   "execution_count": 13,
   "metadata": {},
   "outputs": [],
   "source": [
    "dsc_courses = {\n",
    "    'DSC 10': 'Principles of Data Science',\n",
    "    'DSC 20': 'Programming and Basic Data Structures for Data Science',\n",
    "    'DSC 30': 'Data Structures and Algorithms for Data Science',\n",
    "    'DSC 40A': 'Theoretical Foundations of Data Science I',\n",
    "    'DSC 40B': 'Theoretical Foundations of Data Science II',\n",
    "    'DSC 80': 'The Practice and Application of Data Science'\n",
    "}"
   ]
  },
  {
   "cell_type": "markdown",
   "metadata": {},
   "source": [
    "We can access the value corresponding to each key using bracket notation."
   ]
  },
  {
   "cell_type": "code",
   "execution_count": 14,
   "metadata": {},
   "outputs": [
    {
     "data": {
      "text/plain": [
       "'Principles of Data Science'"
      ]
     },
     "execution_count": 14,
     "metadata": {},
     "output_type": "execute_result"
    }
   ],
   "source": [
    "dsc10_name = dsc_courses['DSC 10']\n",
    "dsc10_name"
   ]
  },
  {
   "cell_type": "markdown",
   "metadata": {},
   "source": [
    "Here, `DSC 10` is the key and `Principles of Data Science` is the value.\n",
    "\n",
    "Let's use a dictionary to help us with our country code to country name conversion. Below is a dictionary containing country codes as keys and country names as values for each of the countries in our dataset of Winter Olympic medal winners."
   ]
  },
  {
   "cell_type": "code",
   "execution_count": 15,
   "metadata": {},
   "outputs": [],
   "source": [
    "country_codes = {\n",
    " 'USA': 'United States',\n",
    " 'CAN': 'Canada',\n",
    " 'NOR': 'Norway',\n",
    " 'URS': 'Soviet Union',\n",
    " 'FIN': 'Finland',\n",
    " 'SWE': 'Sweden',\n",
    " 'GER': 'Germany',\n",
    " 'SUI': 'Switzerland',\n",
    " 'AUT': 'Austria',\n",
    " 'RUS': 'Russia',\n",
    " 'ITA': 'Italy',\n",
    " 'GDR': 'East Germany',\n",
    " 'TCH': 'Czechoslovakia',\n",
    " 'FRA': 'France',\n",
    " 'NED': 'Netherlands',\n",
    " 'FRG': 'West Germany',\n",
    " 'KOR': 'Korea, South',\n",
    " 'CHN': 'China',\n",
    " 'GBR': 'United Kingdom',\n",
    " 'CZE': 'Czech Republic',\n",
    " 'JPN': 'Japan',\n",
    " 'EUN': 'Unified Team',\n",
    " 'POL': 'Poland',\n",
    " 'EUA': 'United Team of Germany',\n",
    " 'SLO': 'Slovenia',\n",
    " 'AUS': 'Australia',\n",
    " 'BLR': 'Belarus',\n",
    " 'LAT': 'Latvia',\n",
    " 'BEL': 'Belgium',\n",
    " 'HUN': 'Hungary',\n",
    " 'UKR': 'Ukraine',\n",
    " 'CRO': 'Croatia',\n",
    " 'LIE': 'Liechtenstein',\n",
    " 'YUG': 'Yugoslavia',\n",
    " 'EST': 'Estonia',\n",
    " 'KAZ': 'Kazakhstan',\n",
    " 'BUL': 'Bulgaria',\n",
    " 'DEN': 'Denmark',\n",
    " 'SVK': 'Slovakia',\n",
    " 'ROU': 'Romania',\n",
    " 'ESP': 'Spain',\n",
    " 'PRK': 'Korea, North',\n",
    " 'LUX': 'Luxembourg',\n",
    " 'NZL': 'New Zealand',\n",
    " 'UZB': 'Uzbekistan'}"
   ]
  },
  {
   "cell_type": "markdown",
   "metadata": {},
   "source": [
    "**Question 2.** Using `country_codes`, define a function named `code_to_country` that takes as input a country code and returns the corresponding country name."
   ]
  },
  {
   "cell_type": "code",
   "execution_count": 16,
   "metadata": {},
   "outputs": [],
   "source": [
    "def code_to_country(code):\n",
    "    return country_codes[code]"
   ]
  },
  {
   "cell_type": "code",
   "execution_count": 17,
   "metadata": {
    "scrolled": true
   },
   "outputs": [
    {
     "name": "stdout",
     "output_type": "stream",
     "text": [
      "~~~~~~~~~~~~~~~~~~~~~~~~~~~~~~~~~~~~~~~~~~~~~~~~~~~~~~~~~~~~~~~~~~~~~\n",
      "Running tests\n",
      "\n",
      "---------------------------------------------------------------------\n",
      "Test summary\n",
      "    Passed: 1\n",
      "    Failed: 0\n",
      "[ooooooooook] 100.0% passed\n",
      "\n"
     ]
    }
   ],
   "source": [
    "_ = ok.grade('q2_2')"
   ]
  },
  {
   "cell_type": "markdown",
   "metadata": {},
   "source": [
    "**Question 3.** Using your `code_to_country` function, use `.apply()` to convert all of the country codes into country names in the `Country` column. Do this without creating an additional column. Check the `.with_columns()` [documentation](http://data8.org/datascience/_autosummary/datascience.tables.Table.with_columns.html) to see how to *replace* values in these two columns without creating additional columns."
   ]
  },
  {
   "cell_type": "code",
   "execution_count": 18,
   "metadata": {},
   "outputs": [
    {
     "data": {
      "text/html": [
       "<table border=\"1\" class=\"dataframe\">\n",
       "    <thead>\n",
       "        <tr>\n",
       "            <th>Year</th> <th>City</th> <th>Sport</th> <th>Discipline</th> <th>Athlete</th> <th>Country</th> <th>Gender</th> <th>Event</th> <th>Medal</th>\n",
       "        </tr>\n",
       "    </thead>\n",
       "    <tbody>\n",
       "        <tr>\n",
       "            <td>1924</td> <td>Chamonix</td> <td>Biathlon</td> <td>Biathlon  </td> <td>BERTHET, G.         </td> <td>France     </td> <td>Men   </td> <td>Military Patrol</td> <td>Bronze</td>\n",
       "        </tr>\n",
       "        <tr>\n",
       "            <td>1924</td> <td>Chamonix</td> <td>Biathlon</td> <td>Biathlon  </td> <td>MANDRILLON, C.      </td> <td>France     </td> <td>Men   </td> <td>Military Patrol</td> <td>Bronze</td>\n",
       "        </tr>\n",
       "        <tr>\n",
       "            <td>1924</td> <td>Chamonix</td> <td>Biathlon</td> <td>Biathlon  </td> <td>MANDRILLON, Maurice </td> <td>France     </td> <td>Men   </td> <td>Military Patrol</td> <td>Bronze</td>\n",
       "        </tr>\n",
       "        <tr>\n",
       "            <td>1924</td> <td>Chamonix</td> <td>Biathlon</td> <td>Biathlon  </td> <td>VANDELLE, André     </td> <td>France     </td> <td>Men   </td> <td>Military Patrol</td> <td>Bronze</td>\n",
       "        </tr>\n",
       "        <tr>\n",
       "            <td>1924</td> <td>Chamonix</td> <td>Biathlon</td> <td>Biathlon  </td> <td>AUFDENBLATTEN, Adolf</td> <td>Switzerland</td> <td>Men   </td> <td>Military Patrol</td> <td>Gold  </td>\n",
       "        </tr>\n",
       "        <tr>\n",
       "            <td>1924</td> <td>Chamonix</td> <td>Biathlon</td> <td>Biathlon  </td> <td>JULEN, Alphonse     </td> <td>Switzerland</td> <td>Men   </td> <td>Military Patrol</td> <td>Gold  </td>\n",
       "        </tr>\n",
       "        <tr>\n",
       "            <td>1924</td> <td>Chamonix</td> <td>Biathlon</td> <td>Biathlon  </td> <td>JULEN, Ant.         </td> <td>Switzerland</td> <td>Men   </td> <td>Military Patrol</td> <td>Gold  </td>\n",
       "        </tr>\n",
       "        <tr>\n",
       "            <td>1924</td> <td>Chamonix</td> <td>Biathlon</td> <td>Biathlon  </td> <td>VAUCHER, D.         </td> <td>Switzerland</td> <td>Men   </td> <td>Military Patrol</td> <td>Gold  </td>\n",
       "        </tr>\n",
       "        <tr>\n",
       "            <td>1924</td> <td>Chamonix</td> <td>Biathlon</td> <td>Biathlon  </td> <td>BREMER, V.E.        </td> <td>Finland    </td> <td>Men   </td> <td>Military Patrol</td> <td>Silver</td>\n",
       "        </tr>\n",
       "        <tr>\n",
       "            <td>1924</td> <td>Chamonix</td> <td>Biathlon</td> <td>Biathlon  </td> <td>ESKELINEN, A.       </td> <td>Finland    </td> <td>Men   </td> <td>Military Patrol</td> <td>Silver</td>\n",
       "        </tr>\n",
       "    </tbody>\n",
       "</table>\n",
       "<p>... (5760 rows omitted)</p>"
      ],
      "text/plain": [
       "Year | City     | Sport    | Discipline | Athlete              | Country     | Gender | Event           | Medal\n",
       "1924 | Chamonix | Biathlon | Biathlon   | BERTHET, G.          | France      | Men    | Military Patrol | Bronze\n",
       "1924 | Chamonix | Biathlon | Biathlon   | MANDRILLON, C.       | France      | Men    | Military Patrol | Bronze\n",
       "1924 | Chamonix | Biathlon | Biathlon   | MANDRILLON, Maurice  | France      | Men    | Military Patrol | Bronze\n",
       "1924 | Chamonix | Biathlon | Biathlon   | VANDELLE, André      | France      | Men    | Military Patrol | Bronze\n",
       "1924 | Chamonix | Biathlon | Biathlon   | AUFDENBLATTEN, Adolf | Switzerland | Men    | Military Patrol | Gold\n",
       "1924 | Chamonix | Biathlon | Biathlon   | JULEN, Alphonse      | Switzerland | Men    | Military Patrol | Gold\n",
       "1924 | Chamonix | Biathlon | Biathlon   | JULEN, Ant.          | Switzerland | Men    | Military Patrol | Gold\n",
       "1924 | Chamonix | Biathlon | Biathlon   | VAUCHER, D.          | Switzerland | Men    | Military Patrol | Gold\n",
       "1924 | Chamonix | Biathlon | Biathlon   | BREMER, V.E.         | Finland     | Men    | Military Patrol | Silver\n",
       "1924 | Chamonix | Biathlon | Biathlon   | ESKELINEN, A.        | Finland     | Men    | Military Patrol | Silver\n",
       "... (5760 rows omitted)"
      ]
     },
     "execution_count": 18,
     "metadata": {},
     "output_type": "execute_result"
    }
   ],
   "source": [
    "winter = winter.with_columns(\n",
    "    'Country' ,\n",
    "    winter.apply(code_to_country, 'Country'))\n",
    "winter"
   ]
  },
  {
   "cell_type": "code",
   "execution_count": 19,
   "metadata": {},
   "outputs": [
    {
     "name": "stdout",
     "output_type": "stream",
     "text": [
      "~~~~~~~~~~~~~~~~~~~~~~~~~~~~~~~~~~~~~~~~~~~~~~~~~~~~~~~~~~~~~~~~~~~~~\n",
      "Running tests\n",
      "\n",
      "---------------------------------------------------------------------\n",
      "Test summary\n",
      "    Passed: 1\n",
      "    Failed: 0\n",
      "[ooooooooook] 100.0% passed\n",
      "\n"
     ]
    }
   ],
   "source": [
    "_ = ok.grade('q2_3')"
   ]
  },
  {
   "cell_type": "markdown",
   "metadata": {},
   "source": [
    "**Question 4.** \n",
    "Define a function named `lastname_length` that returns the length of a lastname. It should take as an input the name of the athlete. Notice that the name consists of the 'lastname, firstname' of the athlete.\n",
    "\n",
    "*Hint:* Use the string function [`.split()`](https://docs.python.org/3/library/stdtypes.html#str.split). This is useful in splitting the name into a lastname and a firstname."
   ]
  },
  {
   "cell_type": "code",
   "execution_count": 20,
   "metadata": {},
   "outputs": [
    {
     "name": "stdout",
     "output_type": "stream",
     "text": [
      "4\n",
      "6\n",
      "11\n"
     ]
    }
   ],
   "source": [
    "def lastname_length(name):\n",
    "    last_name = name.split(', ')[0]\n",
    "    return len(last_name)\n",
    "\n",
    "# Test cases for your own reference.\n",
    "print(lastname_length('Quer, Giorgio'))  # Should print 4\n",
    "print(lastname_length('Twomey, Robert')) # Should print 6\n",
    "print(lastname_length('Tiefenbruck, Janine'))  #Should print 11"
   ]
  },
  {
   "cell_type": "code",
   "execution_count": 21,
   "metadata": {},
   "outputs": [
    {
     "name": "stdout",
     "output_type": "stream",
     "text": [
      "~~~~~~~~~~~~~~~~~~~~~~~~~~~~~~~~~~~~~~~~~~~~~~~~~~~~~~~~~~~~~~~~~~~~~\n",
      "Running tests\n",
      "\n",
      "---------------------------------------------------------------------\n",
      "Test summary\n",
      "    Passed: 1\n",
      "    Failed: 0\n",
      "[ooooooooook] 100.0% passed\n",
      "\n"
     ]
    }
   ],
   "source": [
    "_ = ok.grade('q2_4')"
   ]
  },
  {
   "cell_type": "markdown",
   "metadata": {},
   "source": [
    "**Question 5.** Create a function named `median_values` that takes as an input the name of a country and returns the median last name length of the athletes from that country. \n",
    "\n",
    "*Hint:* use the previously defined function!"
   ]
  },
  {
   "cell_type": "code",
   "execution_count": 22,
   "metadata": {},
   "outputs": [],
   "source": [
    "def median_values(country):\n",
    "    country_of_interest = winter.where(\"Country\", are.containing(country))\n",
    "    name_lengths = country_of_interest.apply(lastname_length, \"Athlete\")\n",
    "    return np.median(name_lengths)"
   ]
  },
  {
   "cell_type": "code",
   "execution_count": 23,
   "metadata": {},
   "outputs": [
    {
     "name": "stdout",
     "output_type": "stream",
     "text": [
      "~~~~~~~~~~~~~~~~~~~~~~~~~~~~~~~~~~~~~~~~~~~~~~~~~~~~~~~~~~~~~~~~~~~~~\n",
      "Running tests\n",
      "\n",
      "---------------------------------------------------------------------\n",
      "Test summary\n",
      "    Passed: 1\n",
      "    Failed: 0\n",
      "[ooooooooook] 100.0% passed\n",
      "\n"
     ]
    }
   ],
   "source": [
    "_ = ok.grade('q2_5')"
   ]
  },
  {
   "cell_type": "markdown",
   "metadata": {},
   "source": [
    "**Question 6.** \n",
    "Create a table called `last_names` with original columns `Year, Sport, Athlete and Country` and new column `Last Name Length` that has the length of the last name, with the longest name at the top and shortest at bottom. "
   ]
  },
  {
   "cell_type": "code",
   "execution_count": 24,
   "metadata": {},
   "outputs": [
    {
     "data": {
      "text/html": [
       "<table border=\"1\" class=\"dataframe\">\n",
       "    <thead>\n",
       "        <tr>\n",
       "            <th>Year</th> <th>Sport</th> <th>Athlete</th> <th>Country</th> <th>Last Name Length</th>\n",
       "        </tr>\n",
       "    </thead>\n",
       "    <tbody>\n",
       "        <tr>\n",
       "            <td>2006</td> <td>Bobsleigh</td> <td>HOLLINGSWORTH-RICHARDS, Mellisa</td> <td>Canada      </td> <td>22              </td>\n",
       "        </tr>\n",
       "        <tr>\n",
       "            <td>2010</td> <td>Skiing   </td> <td>SACHENBACHER-STEHLE, Evi       </td> <td>Germany     </td> <td>19              </td>\n",
       "        </tr>\n",
       "        <tr>\n",
       "            <td>2010</td> <td>Skiing   </td> <td>SACHENBACHER-STEHLE, Evi       </td> <td>Germany     </td> <td>19              </td>\n",
       "        </tr>\n",
       "        <tr>\n",
       "            <td>2006</td> <td>Skiing   </td> <td>SACHENBACHER STEHLE, Evi       </td> <td>Germany     </td> <td>19              </td>\n",
       "        </tr>\n",
       "        <tr>\n",
       "            <td>1994</td> <td>Biathlon </td> <td>GREINER-PETTER-MEMM, Simone    </td> <td>Germany     </td> <td>19              </td>\n",
       "        </tr>\n",
       "        <tr>\n",
       "            <td>1988</td> <td>Skiing   </td> <td>KINSHOFER GUETHLEIN, Christa   </td> <td>West Germany</td> <td>19              </td>\n",
       "        </tr>\n",
       "        <tr>\n",
       "            <td>1988</td> <td>Skiing   </td> <td>KINSHOFER GUETHLEIN, Christa   </td> <td>West Germany</td> <td>19              </td>\n",
       "        </tr>\n",
       "        <tr>\n",
       "            <td>1980</td> <td>Skiing   </td> <td>KINSHOFER GUETHLEIN, Christa   </td> <td>West Germany</td> <td>19              </td>\n",
       "        </tr>\n",
       "        <tr>\n",
       "            <td>2006</td> <td>Skiing   </td> <td>MEDVEDEVA-ABRUZOVA, Evgenia    </td> <td>Russia      </td> <td>18              </td>\n",
       "        </tr>\n",
       "        <tr>\n",
       "            <td>2006</td> <td>Skiing   </td> <td>MEDVEDEVA-ABRUZOVA, Evgenia    </td> <td>Russia      </td> <td>18              </td>\n",
       "        </tr>\n",
       "    </tbody>\n",
       "</table>\n",
       "<p>... (5760 rows omitted)</p>"
      ],
      "text/plain": [
       "Year | Sport     | Athlete                         | Country      | Last Name Length\n",
       "2006 | Bobsleigh | HOLLINGSWORTH-RICHARDS, Mellisa | Canada       | 22\n",
       "2010 | Skiing    | SACHENBACHER-STEHLE, Evi        | Germany      | 19\n",
       "2010 | Skiing    | SACHENBACHER-STEHLE, Evi        | Germany      | 19\n",
       "2006 | Skiing    | SACHENBACHER STEHLE, Evi        | Germany      | 19\n",
       "1994 | Biathlon  | GREINER-PETTER-MEMM, Simone     | Germany      | 19\n",
       "1988 | Skiing    | KINSHOFER GUETHLEIN, Christa    | West Germany | 19\n",
       "1988 | Skiing    | KINSHOFER GUETHLEIN, Christa    | West Germany | 19\n",
       "1980 | Skiing    | KINSHOFER GUETHLEIN, Christa    | West Germany | 19\n",
       "2006 | Skiing    | MEDVEDEVA-ABRUZOVA, Evgenia     | Russia       | 18\n",
       "2006 | Skiing    | MEDVEDEVA-ABRUZOVA, Evgenia     | Russia       | 18\n",
       "... (5760 rows omitted)"
      ]
     },
     "execution_count": 24,
     "metadata": {},
     "output_type": "execute_result"
    }
   ],
   "source": [
    "winter_cut = winter.select(\"Year\", \"Sport\", \"Athlete\", \"Country\")\n",
    "last_names = winter_cut.with_column('Last Name Length', winter.apply(lastname_length,'Athlete'))\n",
    "last_names = last_names.sort('Last Name Length', descending = True)\n",
    "last_names"
   ]
  },
  {
   "cell_type": "code",
   "execution_count": 25,
   "metadata": {},
   "outputs": [
    {
     "data": {
      "text/plain": [
       "True"
      ]
     },
     "execution_count": 25,
     "metadata": {},
     "output_type": "execute_result"
    }
   ],
   "source": [
    "set(last_names.labels) == {\"Year\", \"Sport\", \"Athlete\", \"Country\", \"Last Name Length\"}"
   ]
  },
  {
   "cell_type": "code",
   "execution_count": 26,
   "metadata": {},
   "outputs": [
    {
     "name": "stdout",
     "output_type": "stream",
     "text": [
      "~~~~~~~~~~~~~~~~~~~~~~~~~~~~~~~~~~~~~~~~~~~~~~~~~~~~~~~~~~~~~~~~~~~~~\n",
      "Running tests\n",
      "\n",
      "---------------------------------------------------------------------\n",
      "Test summary\n",
      "    Passed: 1\n",
      "    Failed: 0\n",
      "[ooooooooook] 100.0% passed\n",
      "\n"
     ]
    }
   ],
   "source": [
    "_ = ok.grade('q2_6')"
   ]
  },
  {
   "cell_type": "markdown",
   "metadata": {},
   "source": [
    "**Question 7.** What is the length of the longest name, return this number as `longest_name_length`? What is the length of the shortest name, return this number as `shortest_name_length`?"
   ]
  },
  {
   "cell_type": "code",
   "execution_count": 27,
   "metadata": {},
   "outputs": [
    {
     "data": {
      "text/plain": [
       "(22, 2)"
      ]
     },
     "execution_count": 27,
     "metadata": {},
     "output_type": "execute_result"
    }
   ],
   "source": [
    "longest_name_length = last_names.sort('Last Name Length', descending = True).column('Last Name Length').item(0)\n",
    "shortest_name_length = last_names.sort('Last Name Length', descending = False).column('Last Name Length').item(0)\n",
    "longest_name_length, shortest_name_length"
   ]
  },
  {
   "cell_type": "code",
   "execution_count": 28,
   "metadata": {},
   "outputs": [
    {
     "name": "stdout",
     "output_type": "stream",
     "text": [
      "~~~~~~~~~~~~~~~~~~~~~~~~~~~~~~~~~~~~~~~~~~~~~~~~~~~~~~~~~~~~~~~~~~~~~\n",
      "Running tests\n",
      "\n",
      "---------------------------------------------------------------------\n",
      "Test summary\n",
      "    Passed: 1\n",
      "    Failed: 0\n",
      "[ooooooooook] 100.0% passed\n",
      "\n"
     ]
    }
   ],
   "source": [
    "_ = ok.grade('q2_7')"
   ]
  },
  {
   "cell_type": "markdown",
   "metadata": {},
   "source": [
    "**Question 8.** Make a function called `point_total` that takes in a country name (string) and awards points based on olympic medals. The country gets 1 point for every bronze medal, 2 points for every silver and 3 for every gold."
   ]
  },
  {
   "cell_type": "code",
   "execution_count": 29,
   "metadata": {},
   "outputs": [],
   "source": [
    "#make the function here \n",
    "\n",
    "def point_total(country):\n",
    "    gold = winter.where(\"Country\", country).where(\"Medal\", \"Gold\").num_rows * 3\n",
    "    silver = winter.where(\"Country\", country).where(\"Medal\", \"Silver\").num_rows * 2\n",
    "    bronze = winter.where(\"Country\", country).where(\"Medal\", \"Bronze\").num_rows\n",
    "    return gold + silver + bronze"
   ]
  },
  {
   "cell_type": "code",
   "execution_count": 30,
   "metadata": {},
   "outputs": [
    {
     "name": "stdout",
     "output_type": "stream",
     "text": [
      "~~~~~~~~~~~~~~~~~~~~~~~~~~~~~~~~~~~~~~~~~~~~~~~~~~~~~~~~~~~~~~~~~~~~~\n",
      "Running tests\n",
      "\n",
      "---------------------------------------------------------------------\n",
      "Test summary\n",
      "    Passed: 1\n",
      "    Failed: 0\n",
      "[ooooooooook] 100.0% passed\n",
      "\n"
     ]
    }
   ],
   "source": [
    "_ = ok.grade('q2_8')"
   ]
  },
  {
   "cell_type": "markdown",
   "metadata": {},
   "source": [
    "**Question 9.** Of the five countries listed, which has the highest point count overall?:\n",
    "\n",
    "1. Germany \n",
    "2. Russia \n",
    "3. Japan\n",
    "4. Canada\n",
    "5. France\n",
    "\n",
    "Return the name of the country as a `country_name` variable and the points in `points`."
   ]
  },
  {
   "cell_type": "code",
   "execution_count": 31,
   "metadata": {},
   "outputs": [
    {
     "data": {
      "text/plain": [
       "(760, 541, 119, 144, 259)"
      ]
     },
     "execution_count": 31,
     "metadata": {},
     "output_type": "execute_result"
    }
   ],
   "source": [
    "#helps you compare\n",
    "point_total(\"Germany\"), point_total(\"Russia\"), point_total(\"Japan\"), point_total(\"China\"), point_total(\"France\")"
   ]
  },
  {
   "cell_type": "code",
   "execution_count": 32,
   "metadata": {},
   "outputs": [],
   "source": [
    "country = 'Germany'\n",
    "points = 760"
   ]
  },
  {
   "cell_type": "code",
   "execution_count": 33,
   "metadata": {},
   "outputs": [
    {
     "name": "stdout",
     "output_type": "stream",
     "text": [
      "~~~~~~~~~~~~~~~~~~~~~~~~~~~~~~~~~~~~~~~~~~~~~~~~~~~~~~~~~~~~~~~~~~~~~\n",
      "Running tests\n",
      "\n",
      "---------------------------------------------------------------------\n",
      "Test summary\n",
      "    Passed: 1\n",
      "    Failed: 0\n",
      "[ooooooooook] 100.0% passed\n",
      "\n"
     ]
    }
   ],
   "source": [
    "_ = ok.grade('q2_9')"
   ]
  },
  {
   "cell_type": "markdown",
   "metadata": {},
   "source": [
    "## 3. Past World Cups\n",
    "Let's now turn to historical World Cup data, from 1930 to 2018. The `Country` column describes the location of the World Cup for that year"
   ]
  },
  {
   "cell_type": "markdown",
   "metadata": {},
   "source": [
    "**Question 1.** The data is in a CSV file called `world_cups.csv`. Read this file into a table named `world_cups`."
   ]
  },
  {
   "cell_type": "code",
   "execution_count": 34,
   "metadata": {},
   "outputs": [
    {
     "data": {
      "text/plain": [
       "'Italy'"
      ]
     },
     "execution_count": 34,
     "metadata": {},
     "output_type": "execute_result"
    }
   ],
   "source": [
    "world_cups = Table.read_table('world_cups.csv')\n",
    "world_cups.where('Year', are.equal_to(1938)).column('First')[0]"
   ]
  },
  {
   "cell_type": "code",
   "execution_count": 35,
   "metadata": {},
   "outputs": [
    {
     "name": "stdout",
     "output_type": "stream",
     "text": [
      "~~~~~~~~~~~~~~~~~~~~~~~~~~~~~~~~~~~~~~~~~~~~~~~~~~~~~~~~~~~~~~~~~~~~~\n",
      "Running tests\n",
      "\n",
      "---------------------------------------------------------------------\n",
      "Test summary\n",
      "    Passed: 1\n",
      "    Failed: 0\n",
      "[ooooooooook] 100.0% passed\n",
      "\n"
     ]
    }
   ],
   "source": [
    "_ = ok.grade('q3_1')"
   ]
  },
  {
   "cell_type": "markdown",
   "metadata": {},
   "source": [
    "**Question 2.** Using `.group()`, identify which country won the most number of World Cups from 1930 to 2018. Assign your answer to `most_wins`."
   ]
  },
  {
   "cell_type": "code",
   "execution_count": 36,
   "metadata": {},
   "outputs": [
    {
     "data": {
      "text/plain": [
       "'Brazil'"
      ]
     },
     "execution_count": 36,
     "metadata": {},
     "output_type": "execute_result"
    }
   ],
   "source": [
    "most_wins = world_cups.group('First').sort('count', descending=True).column('First')[0]\n",
    "most_wins"
   ]
  },
  {
   "cell_type": "code",
   "execution_count": 37,
   "metadata": {},
   "outputs": [
    {
     "name": "stdout",
     "output_type": "stream",
     "text": [
      "~~~~~~~~~~~~~~~~~~~~~~~~~~~~~~~~~~~~~~~~~~~~~~~~~~~~~~~~~~~~~~~~~~~~~\n",
      "Running tests\n",
      "\n",
      "---------------------------------------------------------------------\n",
      "Test summary\n",
      "    Passed: 1\n",
      "    Failed: 0\n",
      "[ooooooooook] 100.0% passed\n",
      "\n"
     ]
    }
   ],
   "source": [
    "_ = ok.grade('q3_2')"
   ]
  },
  {
   "cell_type": "markdown",
   "metadata": {},
   "source": [
    "The World Cup champions' curse is a historical phenomenon in which the defending champion of one World Cup tends to perform poorly on the next World Cup. For example, after winning the 2014 World Cup, Germany failed to even advance to the knockout stage (top 16 teams) of the 2018 World Cup, losing to Mexico and South Korea in the group stage.\n",
    "\n",
    "We'll explore a simplified version of the World Cup champions' curse in which we'll see whether the defending champion of one World Cup was able to advance to the semifinals (top 4 teams) of the next World Cup."
   ]
  },
  {
   "cell_type": "markdown",
   "metadata": {},
   "source": [
    "**Question 3.** Add a column named `Defending Champion` to `world_cups`, containing the names of the defending champions for each year. We define the defending champion to be the country who won the previous World Cup. For example, since Germany won the 2014 World Cup, Germany was the defending champion for the 2018 World Cup. Since France won the 2018 World Cup, France is the defending champion for the 2022 World Cup (excluded from our data set).\n",
    "\n",
    "Note that the 1930 row will not have a defending champion, since our data set doesn't include the winner of the 1926 World Cup. Simply remove this row after extracting the defending champion for the 1934 World Cup. `world_cups` will contain one less row after this process."
   ]
  },
  {
   "cell_type": "code",
   "execution_count": 38,
   "metadata": {
    "scrolled": true
   },
   "outputs": [
    {
     "data": {
      "text/html": [
       "<table border=\"1\" class=\"dataframe\">\n",
       "    <thead>\n",
       "        <tr>\n",
       "            <th>Year</th> <th>Country</th> <th>First</th> <th>Second</th> <th>Third</th> <th>Fourth</th> <th>Defending Champion</th>\n",
       "        </tr>\n",
       "    </thead>\n",
       "    <tbody>\n",
       "        <tr>\n",
       "            <td>1934</td> <td>Italy      </td> <td>Italy     </td> <td>Czechoslovakia</td> <td>Germany   </td> <td>Austria     </td> <td>Uruguay           </td>\n",
       "        </tr>\n",
       "        <tr>\n",
       "            <td>1938</td> <td>France     </td> <td>Italy     </td> <td>Hungary       </td> <td>Brazil    </td> <td>Sweden      </td> <td>Italy             </td>\n",
       "        </tr>\n",
       "        <tr>\n",
       "            <td>1950</td> <td>Brazil     </td> <td>Uruguay   </td> <td>Brazil        </td> <td>Sweden    </td> <td>Spain       </td> <td>Italy             </td>\n",
       "        </tr>\n",
       "        <tr>\n",
       "            <td>1954</td> <td>Switzerland</td> <td>Germany FR</td> <td>Hungary       </td> <td>Austria   </td> <td>Uruguay     </td> <td>Uruguay           </td>\n",
       "        </tr>\n",
       "        <tr>\n",
       "            <td>1958</td> <td>Sweden     </td> <td>Brazil    </td> <td>Sweden        </td> <td>France    </td> <td>Germany FR  </td> <td>Germany FR        </td>\n",
       "        </tr>\n",
       "        <tr>\n",
       "            <td>1962</td> <td>Chile      </td> <td>Brazil    </td> <td>Czechoslovakia</td> <td>Chile     </td> <td>Yugoslavia  </td> <td>Brazil            </td>\n",
       "        </tr>\n",
       "        <tr>\n",
       "            <td>1966</td> <td>England    </td> <td>England   </td> <td>Germany FR    </td> <td>Portugal  </td> <td>Soviet Union</td> <td>Brazil            </td>\n",
       "        </tr>\n",
       "        <tr>\n",
       "            <td>1970</td> <td>Mexico     </td> <td>Brazil    </td> <td>Italy         </td> <td>Germany FR</td> <td>Uruguay     </td> <td>England           </td>\n",
       "        </tr>\n",
       "        <tr>\n",
       "            <td>1974</td> <td>Germany    </td> <td>Germany FR</td> <td>Netherlands   </td> <td>Poland    </td> <td>Brazil      </td> <td>Brazil            </td>\n",
       "        </tr>\n",
       "        <tr>\n",
       "            <td>1978</td> <td>Argentina  </td> <td>Argentina </td> <td>Netherlands   </td> <td>Brazil    </td> <td>Italy       </td> <td>Germany FR        </td>\n",
       "        </tr>\n",
       "    </tbody>\n",
       "</table>\n",
       "<p>... (10 rows omitted)</p>"
      ],
      "text/plain": [
       "Year | Country     | First      | Second         | Third      | Fourth       | Defending Champion\n",
       "1934 | Italy       | Italy      | Czechoslovakia | Germany    | Austria      | Uruguay\n",
       "1938 | France      | Italy      | Hungary        | Brazil     | Sweden       | Italy\n",
       "1950 | Brazil      | Uruguay    | Brazil         | Sweden     | Spain        | Italy\n",
       "1954 | Switzerland | Germany FR | Hungary        | Austria    | Uruguay      | Uruguay\n",
       "1958 | Sweden      | Brazil     | Sweden         | France     | Germany FR   | Germany FR\n",
       "1962 | Chile       | Brazil     | Czechoslovakia | Chile      | Yugoslavia   | Brazil\n",
       "1966 | England     | England    | Germany FR     | Portugal   | Soviet Union | Brazil\n",
       "1970 | Mexico      | Brazil     | Italy          | Germany FR | Uruguay      | England\n",
       "1974 | Germany     | Germany FR | Netherlands    | Poland     | Brazil       | Brazil\n",
       "1978 | Argentina   | Argentina  | Netherlands    | Brazil     | Italy        | Germany FR\n",
       "... (10 rows omitted)"
      ]
     },
     "execution_count": 38,
     "metadata": {},
     "output_type": "execute_result"
    }
   ],
   "source": [
    "all_but_last = world_cups.take(np.arange(0, world_cups.num_rows - 1))\n",
    "all_but_first = world_cups.take(np.arange(1, world_cups.num_rows))\n",
    "\n",
    "world_cups = all_but_first.with_column(\n",
    "    'Defending Champion',\n",
    "    all_but_last.column('First')\n",
    ")\n",
    "world_cups"
   ]
  },
  {
   "cell_type": "code",
   "execution_count": 39,
   "metadata": {},
   "outputs": [
    {
     "name": "stdout",
     "output_type": "stream",
     "text": [
      "~~~~~~~~~~~~~~~~~~~~~~~~~~~~~~~~~~~~~~~~~~~~~~~~~~~~~~~~~~~~~~~~~~~~~\n",
      "Running tests\n",
      "\n",
      "---------------------------------------------------------------------\n",
      "Test summary\n",
      "    Passed: 1\n",
      "    Failed: 0\n",
      "[ooooooooook] 100.0% passed\n",
      "\n"
     ]
    }
   ],
   "source": [
    "_ = ok.grade('q3_3')"
   ]
  },
  {
   "cell_type": "markdown",
   "metadata": {},
   "source": [
    "**Question 4.** The next step is to check whether the defending champion was able to advance to the semifinals. First, define a function named `final_four` that takes as input four countries (as strings) and returns a single *list* containing the four countries as elements.\n",
    "\n",
    "*Hint:* You can create a list using [ ]. For example, list = ['one', 'two', 'three']. The body of the function should be one line of code."
   ]
  },
  {
   "cell_type": "code",
   "execution_count": 40,
   "metadata": {},
   "outputs": [],
   "source": [
    "def final_four(first, second, third, fourth):\n",
    "    return [first, second, third, fourth]"
   ]
  },
  {
   "cell_type": "code",
   "execution_count": 41,
   "metadata": {},
   "outputs": [
    {
     "name": "stdout",
     "output_type": "stream",
     "text": [
      "~~~~~~~~~~~~~~~~~~~~~~~~~~~~~~~~~~~~~~~~~~~~~~~~~~~~~~~~~~~~~~~~~~~~~\n",
      "Running tests\n",
      "\n",
      "---------------------------------------------------------------------\n",
      "Test summary\n",
      "    Passed: 1\n",
      "    Failed: 0\n",
      "[ooooooooook] 100.0% passed\n",
      "\n"
     ]
    }
   ],
   "source": [
    "_ = ok.grade('q3_4')"
   ]
  },
  {
   "cell_type": "markdown",
   "metadata": {},
   "source": [
    "**Question 5.** Using your `final_four` function, add a column named `Final Four` to `world_cups`, containing lists of the semifinalists for each World Cup."
   ]
  },
  {
   "cell_type": "code",
   "execution_count": 42,
   "metadata": {},
   "outputs": [
    {
     "data": {
      "text/html": [
       "<table border=\"1\" class=\"dataframe\">\n",
       "    <thead>\n",
       "        <tr>\n",
       "            <th>Year</th> <th>Country</th> <th>First</th> <th>Second</th> <th>Third</th> <th>Fourth</th> <th>Defending Champion</th> <th>Final Four</th>\n",
       "        </tr>\n",
       "    </thead>\n",
       "    <tbody>\n",
       "        <tr>\n",
       "            <td>1934</td> <td>Italy      </td> <td>Italy     </td> <td>Czechoslovakia</td> <td>Germany   </td> <td>Austria     </td> <td>Uruguay           </td> <td>['Italy' 'Czechoslovakia' 'Germany' 'Austria']    </td>\n",
       "        </tr>\n",
       "        <tr>\n",
       "            <td>1938</td> <td>France     </td> <td>Italy     </td> <td>Hungary       </td> <td>Brazil    </td> <td>Sweden      </td> <td>Italy             </td> <td>['Italy' 'Hungary' 'Brazil' 'Sweden']             </td>\n",
       "        </tr>\n",
       "        <tr>\n",
       "            <td>1950</td> <td>Brazil     </td> <td>Uruguay   </td> <td>Brazil        </td> <td>Sweden    </td> <td>Spain       </td> <td>Italy             </td> <td>['Uruguay' 'Brazil' 'Sweden' 'Spain']             </td>\n",
       "        </tr>\n",
       "        <tr>\n",
       "            <td>1954</td> <td>Switzerland</td> <td>Germany FR</td> <td>Hungary       </td> <td>Austria   </td> <td>Uruguay     </td> <td>Uruguay           </td> <td>['Germany FR' 'Hungary' 'Austria' 'Uruguay']      </td>\n",
       "        </tr>\n",
       "        <tr>\n",
       "            <td>1958</td> <td>Sweden     </td> <td>Brazil    </td> <td>Sweden        </td> <td>France    </td> <td>Germany FR  </td> <td>Germany FR        </td> <td>['Brazil' 'Sweden' 'France' 'Germany FR']         </td>\n",
       "        </tr>\n",
       "        <tr>\n",
       "            <td>1962</td> <td>Chile      </td> <td>Brazil    </td> <td>Czechoslovakia</td> <td>Chile     </td> <td>Yugoslavia  </td> <td>Brazil            </td> <td>['Brazil' 'Czechoslovakia' 'Chile' 'Yugoslavia']  </td>\n",
       "        </tr>\n",
       "        <tr>\n",
       "            <td>1966</td> <td>England    </td> <td>England   </td> <td>Germany FR    </td> <td>Portugal  </td> <td>Soviet Union</td> <td>Brazil            </td> <td>['England' 'Germany FR' 'Portugal' 'Soviet Union']</td>\n",
       "        </tr>\n",
       "        <tr>\n",
       "            <td>1970</td> <td>Mexico     </td> <td>Brazil    </td> <td>Italy         </td> <td>Germany FR</td> <td>Uruguay     </td> <td>England           </td> <td>['Brazil' 'Italy' 'Germany FR' 'Uruguay']         </td>\n",
       "        </tr>\n",
       "        <tr>\n",
       "            <td>1974</td> <td>Germany    </td> <td>Germany FR</td> <td>Netherlands   </td> <td>Poland    </td> <td>Brazil      </td> <td>Brazil            </td> <td>['Germany FR' 'Netherlands' 'Poland' 'Brazil']    </td>\n",
       "        </tr>\n",
       "        <tr>\n",
       "            <td>1978</td> <td>Argentina  </td> <td>Argentina </td> <td>Netherlands   </td> <td>Brazil    </td> <td>Italy       </td> <td>Germany FR        </td> <td>['Argentina' 'Netherlands' 'Brazil' 'Italy']      </td>\n",
       "        </tr>\n",
       "    </tbody>\n",
       "</table>\n",
       "<p>... (10 rows omitted)</p>"
      ],
      "text/plain": [
       "Year | Country     | First      | Second         | Third      | Fourth       | Defending Champion | Final Four\n",
       "1934 | Italy       | Italy      | Czechoslovakia | Germany    | Austria      | Uruguay            | ['Italy' 'Czechoslovakia' 'Germany' 'Austria']\n",
       "1938 | France      | Italy      | Hungary        | Brazil     | Sweden       | Italy              | ['Italy' 'Hungary' 'Brazil' 'Sweden']\n",
       "1950 | Brazil      | Uruguay    | Brazil         | Sweden     | Spain        | Italy              | ['Uruguay' 'Brazil' 'Sweden' 'Spain']\n",
       "1954 | Switzerland | Germany FR | Hungary        | Austria    | Uruguay      | Uruguay            | ['Germany FR' 'Hungary' 'Austria' 'Uruguay']\n",
       "1958 | Sweden      | Brazil     | Sweden         | France     | Germany FR   | Germany FR         | ['Brazil' 'Sweden' 'France' 'Germany FR']\n",
       "1962 | Chile       | Brazil     | Czechoslovakia | Chile      | Yugoslavia   | Brazil             | ['Brazil' 'Czechoslovakia' 'Chile' 'Yugoslavia']\n",
       "1966 | England     | England    | Germany FR     | Portugal   | Soviet Union | Brazil             | ['England' 'Germany FR' 'Portugal' 'Soviet Union']\n",
       "1970 | Mexico      | Brazil     | Italy          | Germany FR | Uruguay      | England            | ['Brazil' 'Italy' 'Germany FR' 'Uruguay']\n",
       "1974 | Germany     | Germany FR | Netherlands    | Poland     | Brazil       | Brazil             | ['Germany FR' 'Netherlands' 'Poland' 'Brazil']\n",
       "1978 | Argentina   | Argentina  | Netherlands    | Brazil     | Italy        | Germany FR         | ['Argentina' 'Netherlands' 'Brazil' 'Italy']\n",
       "... (10 rows omitted)"
      ]
     },
     "execution_count": 42,
     "metadata": {},
     "output_type": "execute_result"
    }
   ],
   "source": [
    "world_cups = world_cups.with_column('Final Four', world_cups.apply(final_four, 'First', 'Second', 'Third', 'Fourth'))\n",
    "world_cups"
   ]
  },
  {
   "cell_type": "code",
   "execution_count": 43,
   "metadata": {},
   "outputs": [
    {
     "name": "stdout",
     "output_type": "stream",
     "text": [
      "~~~~~~~~~~~~~~~~~~~~~~~~~~~~~~~~~~~~~~~~~~~~~~~~~~~~~~~~~~~~~~~~~~~~~\n",
      "Running tests\n",
      "\n",
      "---------------------------------------------------------------------\n",
      "Test summary\n",
      "    Passed: 1\n",
      "    Failed: 0\n",
      "[ooooooooook] 100.0% passed\n",
      "\n"
     ]
    }
   ],
   "source": [
    "_ = ok.grade('q3_5')"
   ]
  },
  {
   "cell_type": "markdown",
   "metadata": {},
   "source": [
    "**Question 6.** Now, define a function named `in_final_four` that takes as input the defending champion and a list of the four semifinalists and returns `True` if the defending champion is included in the set of semifinalists and `False` otherwise.\n",
    "\n",
    "*Hint:* You can use the Python `in` keyword to check if something is in a list. For example, `3 in [1, 2, 3]` evaluates to `True`. The body of your function should be one line of code."
   ]
  },
  {
   "cell_type": "code",
   "execution_count": 44,
   "metadata": {},
   "outputs": [],
   "source": [
    "def in_final_four(defending_champion, final_four):\n",
    "    return defending_champion in final_four"
   ]
  },
  {
   "cell_type": "code",
   "execution_count": 45,
   "metadata": {},
   "outputs": [
    {
     "name": "stdout",
     "output_type": "stream",
     "text": [
      "~~~~~~~~~~~~~~~~~~~~~~~~~~~~~~~~~~~~~~~~~~~~~~~~~~~~~~~~~~~~~~~~~~~~~\n",
      "Running tests\n",
      "\n",
      "---------------------------------------------------------------------\n",
      "Test summary\n",
      "    Passed: 1\n",
      "    Failed: 0\n",
      "[ooooooooook] 100.0% passed\n",
      "\n"
     ]
    }
   ],
   "source": [
    "_ = ok.grade('q3_6')"
   ]
  },
  {
   "cell_type": "markdown",
   "metadata": {},
   "source": [
    "**Question 7.** Using your `in_final_four` function, add a column named `Defending Champion in Final Four` to `world_cups`, indicating whether a defending champion advanced to the semifinals."
   ]
  },
  {
   "cell_type": "code",
   "execution_count": 46,
   "metadata": {},
   "outputs": [
    {
     "data": {
      "text/html": [
       "<table border=\"1\" class=\"dataframe\">\n",
       "    <thead>\n",
       "        <tr>\n",
       "            <th>Year</th> <th>Country</th> <th>First</th> <th>Second</th> <th>Third</th> <th>Fourth</th> <th>Defending Champion</th> <th>Final Four</th> <th>Defending Champion in Final Four</th>\n",
       "        </tr>\n",
       "    </thead>\n",
       "    <tbody>\n",
       "        <tr>\n",
       "            <td>1934</td> <td>Italy       </td> <td>Italy     </td> <td>Czechoslovakia</td> <td>Germany    </td> <td>Austria       </td> <td>Uruguay           </td> <td>['Italy' 'Czechoslovakia' 'Germany' 'Austria']    </td> <td>False                           </td>\n",
       "        </tr>\n",
       "        <tr>\n",
       "            <td>1938</td> <td>France      </td> <td>Italy     </td> <td>Hungary       </td> <td>Brazil     </td> <td>Sweden        </td> <td>Italy             </td> <td>['Italy' 'Hungary' 'Brazil' 'Sweden']             </td> <td>True                            </td>\n",
       "        </tr>\n",
       "        <tr>\n",
       "            <td>1950</td> <td>Brazil      </td> <td>Uruguay   </td> <td>Brazil        </td> <td>Sweden     </td> <td>Spain         </td> <td>Italy             </td> <td>['Uruguay' 'Brazil' 'Sweden' 'Spain']             </td> <td>False                           </td>\n",
       "        </tr>\n",
       "        <tr>\n",
       "            <td>1954</td> <td>Switzerland </td> <td>Germany FR</td> <td>Hungary       </td> <td>Austria    </td> <td>Uruguay       </td> <td>Uruguay           </td> <td>['Germany FR' 'Hungary' 'Austria' 'Uruguay']      </td> <td>True                            </td>\n",
       "        </tr>\n",
       "        <tr>\n",
       "            <td>1958</td> <td>Sweden      </td> <td>Brazil    </td> <td>Sweden        </td> <td>France     </td> <td>Germany FR    </td> <td>Germany FR        </td> <td>['Brazil' 'Sweden' 'France' 'Germany FR']         </td> <td>True                            </td>\n",
       "        </tr>\n",
       "        <tr>\n",
       "            <td>1962</td> <td>Chile       </td> <td>Brazil    </td> <td>Czechoslovakia</td> <td>Chile      </td> <td>Yugoslavia    </td> <td>Brazil            </td> <td>['Brazil' 'Czechoslovakia' 'Chile' 'Yugoslavia']  </td> <td>True                            </td>\n",
       "        </tr>\n",
       "        <tr>\n",
       "            <td>1966</td> <td>England     </td> <td>England   </td> <td>Germany FR    </td> <td>Portugal   </td> <td>Soviet Union  </td> <td>Brazil            </td> <td>['England' 'Germany FR' 'Portugal' 'Soviet Union']</td> <td>False                           </td>\n",
       "        </tr>\n",
       "        <tr>\n",
       "            <td>1970</td> <td>Mexico      </td> <td>Brazil    </td> <td>Italy         </td> <td>Germany FR </td> <td>Uruguay       </td> <td>England           </td> <td>['Brazil' 'Italy' 'Germany FR' 'Uruguay']         </td> <td>False                           </td>\n",
       "        </tr>\n",
       "        <tr>\n",
       "            <td>1974</td> <td>Germany     </td> <td>Germany FR</td> <td>Netherlands   </td> <td>Poland     </td> <td>Brazil        </td> <td>Brazil            </td> <td>['Germany FR' 'Netherlands' 'Poland' 'Brazil']    </td> <td>True                            </td>\n",
       "        </tr>\n",
       "        <tr>\n",
       "            <td>1978</td> <td>Argentina   </td> <td>Argentina </td> <td>Netherlands   </td> <td>Brazil     </td> <td>Italy         </td> <td>Germany FR        </td> <td>['Argentina' 'Netherlands' 'Brazil' 'Italy']      </td> <td>False                           </td>\n",
       "        </tr>\n",
       "        <tr>\n",
       "            <td>1982</td> <td>Spain       </td> <td>Italy     </td> <td>Germany FR    </td> <td>Poland     </td> <td>France        </td> <td>Argentina         </td> <td>['Italy' 'Germany FR' 'Poland' 'France']          </td> <td>False                           </td>\n",
       "        </tr>\n",
       "        <tr>\n",
       "            <td>1986</td> <td>Mexico      </td> <td>Argentina </td> <td>Germany FR    </td> <td>France     </td> <td>Belgium       </td> <td>Italy             </td> <td>['Argentina' 'Germany FR' 'France' 'Belgium']     </td> <td>False                           </td>\n",
       "        </tr>\n",
       "        <tr>\n",
       "            <td>1990</td> <td>Italy       </td> <td>Germany FR</td> <td>Argentina     </td> <td>Italy      </td> <td>England       </td> <td>Argentina         </td> <td>['Germany FR' 'Argentina' 'Italy' 'England']      </td> <td>True                            </td>\n",
       "        </tr>\n",
       "        <tr>\n",
       "            <td>1994</td> <td>USA         </td> <td>Brazil    </td> <td>Italy         </td> <td>Sweden     </td> <td>Bulgaria      </td> <td>Germany FR        </td> <td>['Brazil' 'Italy' 'Sweden' 'Bulgaria']            </td> <td>False                           </td>\n",
       "        </tr>\n",
       "        <tr>\n",
       "            <td>1998</td> <td>France      </td> <td>France    </td> <td>Brazil        </td> <td>Croatia    </td> <td>Netherlands   </td> <td>Brazil            </td> <td>['France' 'Brazil' 'Croatia' 'Netherlands']       </td> <td>True                            </td>\n",
       "        </tr>\n",
       "        <tr>\n",
       "            <td>2002</td> <td>Korea/Japan </td> <td>Brazil    </td> <td>Germany       </td> <td>Turkey     </td> <td>Korea Republic</td> <td>France            </td> <td>['Brazil' 'Germany' 'Turkey' 'Korea Republic']    </td> <td>False                           </td>\n",
       "        </tr>\n",
       "        <tr>\n",
       "            <td>2006</td> <td>Germany     </td> <td>Italy     </td> <td>France        </td> <td>Germany    </td> <td>Portugal      </td> <td>Brazil            </td> <td>['Italy' 'France' 'Germany' 'Portugal']           </td> <td>False                           </td>\n",
       "        </tr>\n",
       "        <tr>\n",
       "            <td>2010</td> <td>South Africa</td> <td>Spain     </td> <td>Netherlands   </td> <td>Germany    </td> <td>Uruguay       </td> <td>Italy             </td> <td>['Spain' 'Netherlands' 'Germany' 'Uruguay']       </td> <td>False                           </td>\n",
       "        </tr>\n",
       "        <tr>\n",
       "            <td>2014</td> <td>Brazil      </td> <td>Germany   </td> <td>Argentina     </td> <td>Netherlands</td> <td>Brazil        </td> <td>Spain             </td> <td>['Germany' 'Argentina' 'Netherlands' 'Brazil']    </td> <td>False                           </td>\n",
       "        </tr>\n",
       "        <tr>\n",
       "            <td>2018</td> <td>Russia      </td> <td>France    </td> <td>Croatia       </td> <td>Belgium    </td> <td>England       </td> <td>Germany           </td> <td>['France' 'Croatia' 'Belgium' 'England']          </td> <td>False                           </td>\n",
       "        </tr>\n",
       "    </tbody>\n",
       "</table>"
      ],
      "text/plain": [
       "<IPython.core.display.HTML object>"
      ]
     },
     "metadata": {},
     "output_type": "display_data"
    }
   ],
   "source": [
    "world_cups = world_cups.with_column('Defending Champion in Final Four', world_cups.apply(in_final_four, 'Defending Champion', 'Final Four'))\n",
    "world_cups.show(20)"
   ]
  },
  {
   "cell_type": "code",
   "execution_count": 47,
   "metadata": {},
   "outputs": [
    {
     "name": "stdout",
     "output_type": "stream",
     "text": [
      "~~~~~~~~~~~~~~~~~~~~~~~~~~~~~~~~~~~~~~~~~~~~~~~~~~~~~~~~~~~~~~~~~~~~~\n",
      "Running tests\n",
      "\n",
      "---------------------------------------------------------------------\n",
      "Test summary\n",
      "    Passed: 1\n",
      "    Failed: 0\n",
      "[ooooooooook] 100.0% passed\n",
      "\n"
     ]
    }
   ],
   "source": [
    "_ = ok.grade('q3_7')"
   ]
  },
  {
   "cell_type": "markdown",
   "metadata": {},
   "source": [
    "**Question 8.** How often did the defending champion advance to the semifinals in the World Cups from 1934 to 2018? Assign a proportion, ranging from 0 to 1, to `semifinalist_frequency`"
   ]
  },
  {
   "cell_type": "code",
   "execution_count": 48,
   "metadata": {},
   "outputs": [
    {
     "data": {
      "text/plain": [
       "0.35"
      ]
     },
     "execution_count": 48,
     "metadata": {},
     "output_type": "execute_result"
    }
   ],
   "source": [
    "semfinalist_frequency = world_cups.where('Defending Champion in Final Four', True).num_rows / world_cups.num_rows\n",
    "semfinalist_frequency"
   ]
  },
  {
   "cell_type": "code",
   "execution_count": 49,
   "metadata": {},
   "outputs": [
    {
     "name": "stdout",
     "output_type": "stream",
     "text": [
      "~~~~~~~~~~~~~~~~~~~~~~~~~~~~~~~~~~~~~~~~~~~~~~~~~~~~~~~~~~~~~~~~~~~~~\n",
      "Running tests\n",
      "\n",
      "---------------------------------------------------------------------\n",
      "Test summary\n",
      "    Passed: 1\n",
      "    Failed: 0\n",
      "[ooooooooook] 100.0% passed\n",
      "\n"
     ]
    }
   ],
   "source": [
    "_ = ok.grade('q3_8')"
   ]
  },
  {
   "cell_type": "markdown",
   "metadata": {},
   "source": [
    "## 4. Histograms"
   ]
  },
  {
   "cell_type": "markdown",
   "metadata": {},
   "source": [
    "Suppose we have a table called `data` with two numerical columns, \"x\" and \"y\". Consider the following scatter plot, which was generated by calling `data.scatter('x', 'y')`:\n",
    "\n",
    "![](scattered.png)\n",
    "\n",
    "Now consider these two histograms:\n",
    "\n",
    "**Histogram A**:\n",
    "\n",
    "![](hist_a.png)\n",
    "\n",
    "**Histogram B**:\n",
    "\n",
    "![](hist_b.png)"
   ]
  },
  {
   "cell_type": "markdown",
   "metadata": {},
   "source": [
    "**Question 1.** One of these two lines of code generated Histogram A, and the other generated Histogram B:\n",
    " - `data.hist('x')`\n",
    " - `data.hist('y')`  \n",
    " \n",
    " Which line generated Histogram A? Which generated Histogram B? Explain."
   ]
  },
  {
   "cell_type": "markdown",
   "metadata": {},
   "source": [
    "<hr style=\"color:Maroon;background-color:Maroon;border:0 none; height: 3px;\">\n",
    "\n",
    "*Write your answer here.*\n",
    "\n",
    "<hr style=\"color:Maroon;background-color:Maroon;border:0 none; height: 3px;\">"
   ]
  },
  {
   "cell_type": "markdown",
   "metadata": {},
   "source": [
    "**Question 2.** Suppose we run this line of code:\n",
    "\n",
    "    new_data = Table().with_columns(\n",
    "        'x',\n",
    "        data.column('x') + 5,\n",
    "        'y',\n",
    "        data.column('y')\n",
    "    )\n",
    "    \n",
    " We then run `new_data.hist('x')`. What does the new histogram look like?"
   ]
  },
  {
   "cell_type": "markdown",
   "metadata": {},
   "source": [
    "<hr style=\"color:Maroon;background-color:Maroon;border:0 none; height: 3px;\">\n",
    "\n",
    "*Write your answer here.*\n",
    "\n",
    "<hr style=\"color:Maroon;background-color:Maroon;border:0 none; height: 3px;\">"
   ]
  },
  {
   "cell_type": "markdown",
   "metadata": {},
   "source": [
    "**Question 3.** According to the histograms above, approximately what percent of points in the scatterplot have an `x` value between 1 and 1.5 (inclusive)? Return the number (1 - 4) of the correct percentage listed below in the variable `x_between`.\n",
    "\n",
    "1. 15\n",
    "2. 30\n",
    "3. 45\n",
    "4. 60"
   ]
  },
  {
   "cell_type": "code",
   "execution_count": null,
   "metadata": {},
   "outputs": [],
   "source": [
    "x_between = ...\n",
    "x_between"
   ]
  },
  {
   "cell_type": "code",
   "execution_count": null,
   "metadata": {},
   "outputs": [],
   "source": [
    "_ = ok.grade('q4')"
   ]
  },
  {
   "cell_type": "markdown",
   "metadata": {},
   "source": [
    "## Submit\n",
    "\n",
    "To submit:\n",
    "\n",
    "1. Select `Run All` from the `Cell` menu to ensure that you have executed all cells, including the test cells.\n",
    "3. Read through the notebook to make sure everything is fine.\n",
    "4. Submit using the cell below."
   ]
  },
  {
   "cell_type": "code",
   "execution_count": 50,
   "metadata": {},
   "outputs": [
    {
     "name": "stdout",
     "output_type": "stream",
     "text": [
      "~~~~~~~~~~~~~~~~~~~~~~~~~~~~~~~~~~~~~~~~~~~~~~~~~~~~~~~~~~~~~~~~~~~~~\n",
      "Running tests\n",
      "\n",
      "---------------------------------------------------------------------\n",
      "Test summary\n",
      "    Passed: 1\n",
      "    Failed: 0\n",
      "[ooooooooook] 100.0% passed\n",
      "\n",
      "~~~~~~~~~~~~~~~~~~~~~~~~~~~~~~~~~~~~~~~~~~~~~~~~~~~~~~~~~~~~~~~~~~~~~\n",
      "Running tests\n",
      "\n",
      "---------------------------------------------------------------------\n",
      "Test summary\n",
      "    Passed: 1\n",
      "    Failed: 0\n",
      "[ooooooooook] 100.0% passed\n",
      "\n",
      "~~~~~~~~~~~~~~~~~~~~~~~~~~~~~~~~~~~~~~~~~~~~~~~~~~~~~~~~~~~~~~~~~~~~~\n",
      "Running tests\n",
      "\n",
      "---------------------------------------------------------------------\n",
      "Test summary\n",
      "    Passed: 1\n",
      "    Failed: 0\n",
      "[ooooooooook] 100.0% passed\n",
      "\n",
      "~~~~~~~~~~~~~~~~~~~~~~~~~~~~~~~~~~~~~~~~~~~~~~~~~~~~~~~~~~~~~~~~~~~~~\n",
      "Running tests\n",
      "\n",
      "---------------------------------------------------------------------\n",
      "Test summary\n",
      "    Passed: 1\n",
      "    Failed: 0\n",
      "[ooooooooook] 100.0% passed\n",
      "\n",
      "~~~~~~~~~~~~~~~~~~~~~~~~~~~~~~~~~~~~~~~~~~~~~~~~~~~~~~~~~~~~~~~~~~~~~\n",
      "Running tests\n",
      "\n",
      "---------------------------------------------------------------------\n",
      "Test summary\n",
      "    Passed: 1\n",
      "    Failed: 0\n",
      "[ooooooooook] 100.0% passed\n",
      "\n",
      "~~~~~~~~~~~~~~~~~~~~~~~~~~~~~~~~~~~~~~~~~~~~~~~~~~~~~~~~~~~~~~~~~~~~~\n",
      "Running tests\n",
      "\n",
      "---------------------------------------------------------------------\n",
      "Test summary\n",
      "    Passed: 1\n",
      "    Failed: 0\n",
      "[ooooooooook] 100.0% passed\n",
      "\n",
      "~~~~~~~~~~~~~~~~~~~~~~~~~~~~~~~~~~~~~~~~~~~~~~~~~~~~~~~~~~~~~~~~~~~~~\n",
      "Running tests\n",
      "\n",
      "---------------------------------------------------------------------\n",
      "Test summary\n",
      "    Passed: 1\n",
      "    Failed: 0\n",
      "[ooooooooook] 100.0% passed\n",
      "\n",
      "~~~~~~~~~~~~~~~~~~~~~~~~~~~~~~~~~~~~~~~~~~~~~~~~~~~~~~~~~~~~~~~~~~~~~\n",
      "Running tests\n",
      "\n",
      "---------------------------------------------------------------------\n",
      "Test summary\n",
      "    Passed: 1\n",
      "    Failed: 0\n",
      "[ooooooooook] 100.0% passed\n",
      "\n",
      "~~~~~~~~~~~~~~~~~~~~~~~~~~~~~~~~~~~~~~~~~~~~~~~~~~~~~~~~~~~~~~~~~~~~~\n",
      "Running tests\n",
      "\n",
      "---------------------------------------------------------------------\n",
      "Test summary\n",
      "    Passed: 1\n",
      "    Failed: 0\n",
      "[ooooooooook] 100.0% passed\n",
      "\n",
      "~~~~~~~~~~~~~~~~~~~~~~~~~~~~~~~~~~~~~~~~~~~~~~~~~~~~~~~~~~~~~~~~~~~~~\n",
      "Running tests\n",
      "\n",
      "---------------------------------------------------------------------\n",
      "Test summary\n",
      "    Passed: 1\n",
      "    Failed: 0\n",
      "[ooooooooook] 100.0% passed\n",
      "\n",
      "~~~~~~~~~~~~~~~~~~~~~~~~~~~~~~~~~~~~~~~~~~~~~~~~~~~~~~~~~~~~~~~~~~~~~\n",
      "Running tests\n",
      "\n",
      "---------------------------------------------------------------------\n",
      "Test summary\n",
      "    Passed: 1\n",
      "    Failed: 0\n",
      "[ooooooooook] 100.0% passed\n",
      "\n",
      "~~~~~~~~~~~~~~~~~~~~~~~~~~~~~~~~~~~~~~~~~~~~~~~~~~~~~~~~~~~~~~~~~~~~~\n",
      "Running tests\n",
      "\n",
      "---------------------------------------------------------------------\n",
      "Test summary\n",
      "    Passed: 1\n",
      "    Failed: 0\n",
      "[ooooooooook] 100.0% passed\n",
      "\n",
      "~~~~~~~~~~~~~~~~~~~~~~~~~~~~~~~~~~~~~~~~~~~~~~~~~~~~~~~~~~~~~~~~~~~~~\n",
      "Running tests\n",
      "\n",
      "---------------------------------------------------------------------\n",
      "Test summary\n",
      "    Passed: 1\n",
      "    Failed: 0\n",
      "[ooooooooook] 100.0% passed\n",
      "\n",
      "~~~~~~~~~~~~~~~~~~~~~~~~~~~~~~~~~~~~~~~~~~~~~~~~~~~~~~~~~~~~~~~~~~~~~\n",
      "Running tests\n",
      "\n",
      "---------------------------------------------------------------------\n",
      "Test summary\n",
      "    Passed: 1\n",
      "    Failed: 0\n",
      "[ooooooooook] 100.0% passed\n",
      "\n",
      "~~~~~~~~~~~~~~~~~~~~~~~~~~~~~~~~~~~~~~~~~~~~~~~~~~~~~~~~~~~~~~~~~~~~~\n",
      "Running tests\n",
      "\n",
      "---------------------------------------------------------------------\n",
      "Test summary\n",
      "    Passed: 1\n",
      "    Failed: 0\n",
      "[ooooooooook] 100.0% passed\n",
      "\n",
      "~~~~~~~~~~~~~~~~~~~~~~~~~~~~~~~~~~~~~~~~~~~~~~~~~~~~~~~~~~~~~~~~~~~~~\n",
      "Running tests\n",
      "\n",
      "---------------------------------------------------------------------\n",
      "Test summary\n",
      "    Passed: 1\n",
      "    Failed: 0\n",
      "[ooooooooook] 100.0% passed\n",
      "\n",
      "~~~~~~~~~~~~~~~~~~~~~~~~~~~~~~~~~~~~~~~~~~~~~~~~~~~~~~~~~~~~~~~~~~~~~\n",
      "Running tests\n",
      "\n",
      "---------------------------------------------------------------------\n",
      "Test summary\n",
      "    Passed: 1\n",
      "    Failed: 0\n",
      "[ooooooooook] 100.0% passed\n",
      "\n",
      "~~~~~~~~~~~~~~~~~~~~~~~~~~~~~~~~~~~~~~~~~~~~~~~~~~~~~~~~~~~~~~~~~~~~~\n",
      "Running tests\n",
      "\n",
      "---------------------------------------------------------------------\n",
      "Test summary\n",
      "    Passed: 1\n",
      "    Failed: 0\n",
      "[ooooooooook] 100.0% passed\n",
      "\n",
      "~~~~~~~~~~~~~~~~~~~~~~~~~~~~~~~~~~~~~~~~~~~~~~~~~~~~~~~~~~~~~~~~~~~~~\n",
      "Running tests\n",
      "\n",
      "---------------------------------------------------------------------\n",
      "Test summary\n",
      "    Passed: 1\n",
      "    Failed: 0\n",
      "[ooooooooook] 100.0% passed\n",
      "\n",
      "~~~~~~~~~~~~~~~~~~~~~~~~~~~~~~~~~~~~~~~~~~~~~~~~~~~~~~~~~~~~~~~~~~~~~\n",
      "Running tests\n",
      "\n",
      "---------------------------------------------------------------------\n",
      "Test summary\n",
      "    Passed: 1\n",
      "    Failed: 0\n",
      "[ooooooooook] 100.0% passed\n",
      "\n",
      "~~~~~~~~~~~~~~~~~~~~~~~~~~~~~~~~~~~~~~~~~~~~~~~~~~~~~~~~~~~~~~~~~~~~~\n",
      "Running tests\n",
      "\n",
      "---------------------------------------------------------------------\n",
      "Test summary\n",
      "    Passed: 1\n",
      "    Failed: 0\n",
      "[ooooooooook] 100.0% passed\n",
      "\n"
     ]
    }
   ],
   "source": [
    "# For your convenience, you can run this cell to run all the tests at once!\n",
    "import os\n",
    "_ = [ok.grade(q[:-3]) for q in os.listdir('tests') if q.startswith('q')]"
   ]
  },
  {
   "cell_type": "code",
   "execution_count": 51,
   "metadata": {},
   "outputs": [],
   "source": [
    "#_ = ok.submit()"
   ]
  }
 ],
 "metadata": {
  "kernelspec": {
   "display_name": "Python 3",
   "language": "python",
   "name": "python3"
  },
  "language_info": {
   "codemirror_mode": {
    "name": "ipython",
    "version": 3
   },
   "file_extension": ".py",
   "mimetype": "text/x-python",
   "name": "python",
   "nbconvert_exporter": "python",
   "pygments_lexer": "ipython3",
   "version": "3.7.3"
  }
 },
 "nbformat": 4,
 "nbformat_minor": 2
}
