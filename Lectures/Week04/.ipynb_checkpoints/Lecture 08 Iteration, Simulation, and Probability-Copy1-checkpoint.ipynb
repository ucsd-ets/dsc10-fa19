{
 "cells": [
  {
   "cell_type": "markdown",
   "metadata": {
    "slideshow": {
     "slide_type": "slide"
    }
   },
   "source": [
    "# Lecture 8\n",
    "\n",
    "## Iteration, Simulation, and Probability"
   ]
  },
  {
   "cell_type": "markdown",
   "metadata": {
    "slideshow": {
     "slide_type": "slide"
    }
   },
   "source": [
    "# Announcements\n",
    "\n",
    "* OKPY: let us know if you don't have any assignments graded yet\n",
    "* Midterm: practice exams posted, 1 week away\n",
    "* HW: due Sunday instead of Monday\n",
    "* Project: released, due in two weeks\n"
   ]
  },
  {
   "cell_type": "code",
   "execution_count": null,
   "metadata": {
    "slideshow": {
     "slide_type": "-"
    }
   },
   "outputs": [],
   "source": [
    "# imports!\n",
    "%matplotlib inline\n",
    "import matplotlib.pyplot as plt\n",
    "plt.style.use('fivethirtyeight')\n",
    "import warnings; warnings.simplefilter('ignore') # just for the slides!\n",
    "import numpy as np\n",
    "from datascience import *"
   ]
  },
  {
   "cell_type": "markdown",
   "metadata": {
    "slideshow": {
     "slide_type": "slide"
    }
   },
   "source": [
    "# Iteration\n",
    "\n",
    "We can use Python to help automate our job at NASA:"
   ]
  },
  {
   "cell_type": "code",
   "execution_count": null,
   "metadata": {},
   "outputs": [],
   "source": [
    "#: counting down...\n",
    "import time\n",
    "\n",
    "print(\"Launching in...\")\n",
    "print(\"t-minus\", 10)\n",
    "time.sleep(1)\n",
    "print(\"t-minus\", 9)\n",
    "time.sleep(1)\n",
    "print(\"t-minus\", 8)\n",
    "time.sleep(1)\n",
    "print(\"t-minus\", 7)\n",
    "time.sleep(1)\n",
    "print(\"t-minus\", 6)\n",
    "time.sleep(1)\n",
    "print(\"t-minus\", 5)\n",
    "time.sleep(1)\n",
    "print(\"t-minus\", 4)\n",
    "time.sleep(1)\n",
    "print(\"t-minus\", 3)\n",
    "time.sleep(1)\n",
    "print(\"t-minus\", 2)\n",
    "time.sleep(1)\n",
    "print(\"t-minus\", 1)\n",
    "time.sleep(1)\n",
    "print(\"Blast off!\")"
   ]
  },
  {
   "cell_type": "markdown",
   "metadata": {
    "slideshow": {
     "slide_type": "slide"
    }
   },
   "source": [
    "## Better approach: use a `for`-loop."
   ]
  },
  {
   "cell_type": "code",
   "execution_count": null,
   "metadata": {},
   "outputs": [],
   "source": [
    "print(\"Launching in...\")\n",
    "\n",
    "for t in [10, 9, 8, 7, 6, 5, 4, 3, 2, 1]:\n",
    "    print(\"t-minus\", t)\n",
    "    time.sleep(1)\n",
    "    \n",
    "print(\"Blast off!\")"
   ]
  },
  {
   "cell_type": "markdown",
   "metadata": {
    "slideshow": {
     "slide_type": "slide"
    }
   },
   "source": [
    "## `for`-loops\n",
    "\n",
    "- Do something for every value in a sequence\n",
    "- Syntax (don't forget the colon):\n",
    "\n",
    "```\n",
    "for <loop variable> in <sequence>:\n",
    "    <body>\n",
    "```\n",
    "\n",
    "- Indentation matters!\n"
   ]
  },
  {
   "cell_type": "code",
   "execution_count": null,
   "metadata": {},
   "outputs": [],
   "source": [
    "#: loop variable can be anything\n",
    "for x in [1, 2, 3, 4]:\n",
    "    print(x ** 2)"
   ]
  },
  {
   "cell_type": "markdown",
   "metadata": {
    "slideshow": {
     "slide_type": "slide"
    }
   },
   "source": [
    "## Ranges\n",
    "\n",
    "- We can use `np.arange` to create sequences to iterate over:"
   ]
  },
  {
   "cell_type": "code",
   "execution_count": null,
   "metadata": {},
   "outputs": [],
   "source": [
    "print(\"Launching in...\")\n",
    "\n",
    "for t in np.arange(10, 0, -1):\n",
    "    print(\"t-minus\", t)\n",
    "    time.sleep(1)\n",
    "    \n",
    "print(\"Blast off!\")"
   ]
  },
  {
   "cell_type": "code",
   "execution_count": null,
   "metadata": {},
   "outputs": [],
   "source": [
    "for x in np.arange(1, 5)#: loop variable can be anything\n",
    "for x in [1, 2, 3, 4]:\n",
    "    print(x ** 2):\n",
    "    print(x ** 2)"
   ]
  },
  {
   "cell_type": "markdown",
   "metadata": {
    "slideshow": {
     "slide_type": "slide"
    }
   },
   "source": [
    "## Iterating through an array of strings"
   ]
  },
  {
   "cell_type": "code",
   "execution_count": null,
   "metadata": {},
   "outputs": [],
   "source": [
    "flavors = make_array('Chocolate', 'Vanilla', 'Strawberry')\n",
    "\n",
    "for flavor in flavors:\n",
    "    print(flavor +\" is delicious!\")"
   ]
  },
  {
   "cell_type": "markdown",
   "metadata": {
    "slideshow": {
     "slide_type": "slide"
    }
   },
   "source": [
    "## Iterating through an array by indexing"
   ]
  },
  {
   "cell_type": "code",
   "execution_count": null,
   "metadata": {},
   "outputs": [],
   "source": [
    "#: use np.arange(size)\n",
    "\n",
    "flavors = make_array('Chocolate', 'Vanilla', 'Strawberry')\n",
    "\n",
    "for index in np.arange(flavors.size):\n",
    "    print(flavors.item(index)+\" is delicious!\")"
   ]
  },
  {
   "cell_type": "markdown",
   "metadata": {
    "slideshow": {
     "slide_type": "slide"
    }
   },
   "source": [
    "## Building an array by iterating\n",
    "\n",
    "- How many letters are in each name?\n",
    "- We want to save our results!\n",
    "- Create an empty array outside the loop.\n",
    "- Use `np.append` inside the loop: appends an element to the end of array."
   ]
  },
  {
   "cell_type": "code",
   "execution_count": null,
   "metadata": {},
   "outputs": [],
   "source": [
    "flavors = make_array('Chocolate', 'Vanilla', 'Strawberry')\n",
    "\n",
    "flavor_lengths = make_array()\n",
    "\n",
    "for flavor in flavors:\n",
    "    flavor_lengths = np.append(flavor_lengths, len(flavor))\n",
    "    \n",
    "flavor_lengths"
   ]
  },
  {
   "cell_type": "markdown",
   "metadata": {
    "slideshow": {
     "slide_type": "slide"
    }
   },
   "source": [
    "## The \"Monty Hall\" Problem\n",
    "\n",
    "<img src=\"./monty.svg\" width=75% />"
   ]
  },
  {
   "cell_type": "markdown",
   "metadata": {
    "slideshow": {
     "slide_type": "slide"
    }
   },
   "source": [
    "## Discussion question\n",
    "\n",
    "- You originally selected door #1.\n",
    "- The host reveals door #3 to have a goat behind it.\n",
    "- You should:\n",
    "\n",
    "    - A) keep with door number #1; it has just as high a chance of winning as door #2.\n",
    "    - B) switch to door number #2; it has a higher chance of winning than door #1."
   ]
  },
  {
   "cell_type": "markdown",
   "metadata": {
    "slideshow": {
     "slide_type": "slide"
    }
   },
   "source": [
    "## Marilyn vos Savant's column\n",
    "\n",
    "\n",
    "<div style=\"display: flex; margin-top: .5in\">\n",
    "<div style=\"width: 45%;\">\n",
    "    <ul>\n",
    "        <li>vos Savant asked the question in <i>Parade</i> magazine.</li>\n",
    "        <li>She stated the correct answer: <i>switch</i>.</li>\n",
    "        <li>Received over 10,000 letters in disagreement.</li>\n",
    "        <li>Over 1,000 letters from people with Ph.D.s</li>\n",
    "    </ul>\n",
    "</div>\n",
    "<div style=\"width: 50%;\">\n",
    "    <img src=\"vos_savant.jpg\" width=75%>\n",
    "</div>\n",
    "</div>\n"
   ]
  },
  {
   "cell_type": "markdown",
   "metadata": {
    "slideshow": {
     "slide_type": "slide"
    }
   },
   "source": [
    "## In this lecture...\n",
    "\n",
    "- Simulate the Monty Hall problem many times.\n",
    "- Convince ourselves that switching is the best option."
   ]
  },
  {
   "cell_type": "markdown",
   "metadata": {
    "slideshow": {
     "slide_type": "slide"
    }
   },
   "source": [
    "# Random Selection"
   ]
  },
  {
   "cell_type": "markdown",
   "metadata": {
    "slideshow": {
     "slide_type": "slide"
    }
   },
   "source": [
    "## Making a random choice\n",
    "\n",
    "- `np.random.choice(options)`\n",
    "- `options` is a list or array of values to choose from\n",
    "- Return a random element from `options`"
   ]
  },
  {
   "cell_type": "code",
   "execution_count": null,
   "metadata": {},
   "outputs": [],
   "source": [
    "# simulate a coin flip\n",
    "np.random.choice(['Heads', 'Tails'])"
   ]
  },
  {
   "cell_type": "markdown",
   "metadata": {
    "slideshow": {
     "slide_type": "slide"
    }
   },
   "source": [
    "## Making multiple random choices\n",
    "\n",
    "- `np.random.choice(options, n)`"
   ]
  },
  {
   "cell_type": "code",
   "execution_count": null,
   "metadata": {},
   "outputs": [],
   "source": [
    "#: simulate 10 coin flips\n",
    "np.random.choice(['Heads', 'Tails'], 10)"
   ]
  },
  {
   "cell_type": "markdown",
   "metadata": {
    "slideshow": {
     "slide_type": "slide"
    }
   },
   "source": [
    "## Summarizing the results\n",
    "\n",
    "- `np.count_nonzero(sequence)`\n",
    "- `sequence` can be a list or array\n",
    "    - Given `sequence` of numbers, counts the number of nonzero entries.\n",
    "    - Given `sequence` of Booleans, counts the number of `True` entries."
   ]
  },
  {
   "cell_type": "code",
   "execution_count": null,
   "metadata": {},
   "outputs": [],
   "source": [
    "np.count_nonzero([2, 0, 5, 8])"
   ]
  },
  {
   "cell_type": "code",
   "execution_count": null,
   "metadata": {},
   "outputs": [],
   "source": [
    "np.count_nonzero(make_array(True, False, True))"
   ]
  },
  {
   "cell_type": "markdown",
   "metadata": {
    "slideshow": {
     "slide_type": "slide"
    }
   },
   "source": [
    "## Counting the number of times a certain outcome occurs"
   ]
  },
  {
   "cell_type": "code",
   "execution_count": null,
   "metadata": {},
   "outputs": [],
   "source": [
    "coin_flips = np.random.choice(['Heads', 'Tails'], 10)\n",
    "coin_flips"
   ]
  },
  {
   "cell_type": "code",
   "execution_count": null,
   "metadata": {},
   "outputs": [],
   "source": [
    "coin_flips=='Heads'"
   ]
  },
  {
   "cell_type": "code",
   "execution_count": null,
   "metadata": {},
   "outputs": [],
   "source": [
    "np.count_nonzero(coin_flips=='Heads')"
   ]
  },
  {
   "cell_type": "markdown",
   "metadata": {
    "slideshow": {
     "slide_type": "slide"
    }
   },
   "source": [
    "## Replacement vs. without replacement\n",
    "\n",
    "- By default, `np.random.choice` selects *with* replacement.\n",
    "- That is, after making selection, that option is still available.\n",
    "- If an option can only be selected once, select *without* replacement."
   ]
  },
  {
   "cell_type": "code",
   "execution_count": null,
   "metadata": {},
   "outputs": [],
   "source": [
    "#: select a team of three people\n",
    "people = ['Sherlock Holmes', 'Dr. John Watson', 'D.I. Greg Lestrade', \\\n",
    "          'Mrs. Hudson', 'Mycroft Holmes', 'Molly Hooper', 'Jim Moriarty', 'Mary (Morstan) Watson']\n",
    "np.random.choice(people, 3, replace=False)"
   ]
  },
  {
   "cell_type": "markdown",
   "metadata": {
    "slideshow": {
     "slide_type": "slide"
    }
   },
   "source": [
    "# Simulation"
   ]
  },
  {
   "cell_type": "markdown",
   "metadata": {
    "slideshow": {
     "slide_type": "slide"
    }
   },
   "source": [
    "## Flipping coins\n",
    "\n",
    "- What is the probability of getting 60 or more heads if I flip 100 coins?\n",
    "    - Calculate the exact answer using math.\n",
    "    - Approximate the answer through simulation:\n",
    "        1. Figure out how to do one experiment (i.e., flip 100 coins).\n",
    "        2. Run the experiment a bunch of times.\n",
    "        3. Find the fraction of times where number of heads >= 60."
   ]
  },
  {
   "cell_type": "markdown",
   "metadata": {
    "slideshow": {
     "slide_type": "slide"
    }
   },
   "source": [
    "## Running the experiment once...\n",
    "\n",
    "- Use `np.random.choice` to flip 100 coins\n",
    "- Use `np.count_nonzero` to count number of heads.\n",
    "- Maybe put it in a function."
   ]
  },
  {
   "cell_type": "code",
   "execution_count": null,
   "metadata": {},
   "outputs": [],
   "source": [
    "coins = np.random.choice(['Heads', 'Tails'], 100)\n",
    "coins"
   ]
  },
  {
   "cell_type": "code",
   "execution_count": null,
   "metadata": {},
   "outputs": [],
   "source": [
    "np.count_nonzero(coins == 'Heads')"
   ]
  },
  {
   "cell_type": "code",
   "execution_count": null,
   "metadata": {},
   "outputs": [],
   "source": [
    "def coin_experiment():\n",
    "    coins = np.random.choice(['Heads', 'Tails'], 100)\n",
    "    return np.count_nonzero(coins == 'Heads')"
   ]
  },
  {
   "cell_type": "code",
   "execution_count": null,
   "metadata": {},
   "outputs": [],
   "source": [
    "coin_experiment()"
   ]
  },
  {
   "cell_type": "markdown",
   "metadata": {
    "slideshow": {
     "slide_type": "slide"
    }
   },
   "source": [
    "## Repeating the experiment\n",
    "\n",
    "- We can repeat this process many times by using a `for`-loop\n",
    "- Need to store the results in an array... use `np.append`!"
   ]
  },
  {
   "cell_type": "code",
   "execution_count": null,
   "metadata": {},
   "outputs": [],
   "source": [
    "n_repetitions = 10000\n",
    "\n",
    "# make head_counts array to store results\n",
    "head_counts = make_array()\n",
    "\n",
    "for i in np.arange(n_repetitions):\n",
    "    head_count = coin_experiment()\n",
    "    head_counts = np.append(head_counts, head_count)\n",
    "    \n",
    "head_counts"
   ]
  },
  {
   "cell_type": "code",
   "execution_count": null,
   "metadata": {},
   "outputs": [],
   "source": [
    "# in how many trials was the number of heads >= 60?\n",
    "at_least_60 = np.count_nonzero(head_counts >= 60)\n",
    "at_least_60"
   ]
  },
  {
   "cell_type": "code",
   "execution_count": null,
   "metadata": {},
   "outputs": [],
   "source": [
    "# what is this as a proportion?\n",
    "at_least_60 / n_repetitions"
   ]
  },
  {
   "cell_type": "markdown",
   "metadata": {
    "slideshow": {
     "slide_type": "slide"
    }
   },
   "source": [
    "## Visualizing the distribution"
   ]
  },
  {
   "cell_type": "code",
   "execution_count": null,
   "metadata": {},
   "outputs": [],
   "source": [
    "#: visualize distribution of trial results\n",
    "Table().with_columns(\n",
    "    'Number of Heads', head_counts\n",
    ").hist(bins=np.arange(30, 71))"
   ]
  },
  {
   "cell_type": "markdown",
   "metadata": {
    "slideshow": {
     "slide_type": "slide"
    }
   },
   "source": [
    "# Simulating Monty Hall"
   ]
  },
  {
   "cell_type": "markdown",
   "metadata": {
    "slideshow": {
     "slide_type": "slide"
    }
   },
   "source": [
    "## Simulation strategy\n",
    "\n",
    "1. Figure out how to simulate one game of Monty Hall.\n",
    "2. Play a bunch of games.\n",
    "3. Count the proportion of wins for each strategy (stay or switch)."
   ]
  },
  {
   "cell_type": "markdown",
   "metadata": {
    "slideshow": {
     "slide_type": "slide"
    }
   },
   "source": [
    "## Simulating a single game\n",
    "\n",
    "- We will make a function, `monty_hall()`, which simulates one play.\n",
    "- Returns a 3-element array describing situation after host reveals first door, before choosing to \"stay\" or \"switch\":\n",
    "\n",
    "```\n",
    "[\n",
    "    <prize behind original door>,\n",
    "    <prize revealed by Monty>,\n",
    "    <prize behind other door>\n",
    "]\n",
    "```\n",
    "\n",
    "- If the prize behind the original door is the car, staying wins.\n",
    "- If the prize behind the other door is the car, switching wins."
   ]
  },
  {
   "cell_type": "markdown",
   "metadata": {
    "slideshow": {
     "slide_type": "slide"
    }
   },
   "source": [
    "## Randomly pick an original door\n",
    "\n",
    "- Randomly assign a prize to the original choice of door.\n",
    "- You don't know what it is, yet, but Monty does."
   ]
  },
  {
   "cell_type": "code",
   "execution_count": null,
   "metadata": {},
   "outputs": [],
   "source": [
    "#: randomly assign original_door_prize to a prize\n",
    "prizes = ['Goat 1', 'Goat 2', 'Car']\n",
    "original_door_prize = np.random.choice(prizes)"
   ]
  },
  {
   "cell_type": "markdown",
   "metadata": {
    "slideshow": {
     "slide_type": "slide"
    }
   },
   "source": [
    "## What does Monty reveal?\n",
    "\n",
    "- If your original door contains the car, Monty reveals a goat at random.\n",
    "- If your original door contains a goat, Monty reveals the other goat."
   ]
  },
  {
   "cell_type": "code",
   "execution_count": null,
   "metadata": {},
   "outputs": [],
   "source": [
    "def other_one(arr, which_is_not):\n",
    "    if which_is_not == arr.item(0):\n",
    "        return arr.item(1)\n",
    "    elif which_is_not == arr.item(1):\n",
    "        return arr.item(0)\n",
    "    else:\n",
    "        print('Invalid input!')\n",
    "\n",
    "goats = make_array('Goat 1', 'Goat 2')\n",
    "other_one(goats, which_is_not='Goat 1')"
   ]
  },
  {
   "cell_type": "markdown",
   "metadata": {
    "slideshow": {
     "slide_type": "slide"
    }
   },
   "source": [
    "## What does Monty reveal?\n",
    "\n",
    "- If your original door contains the car, Monty reveals a goat at random.\n",
    "- If your original door contains a goat, Monty reveals the other goat."
   ]
  },
  {
   "cell_type": "code",
   "execution_count": null,
   "metadata": {},
   "outputs": [],
   "source": [
    "goats = make_array('Goat 1', 'Goat 2')\n",
    "\n",
    "if original_door_prize == 'Car':\n",
    "    revealed = np.random.choice(['Goat 1', 'Goat 2'])\n",
    "    other_door_prize = other_one(goats, which_is_not=revealed)\n",
    "else: # it is a goat\n",
    "    revealed = other_one(goats, which_is_not=original_door_prize)\n",
    "    other_door_prize = 'Car'"
   ]
  },
  {
   "cell_type": "markdown",
   "metadata": {
    "slideshow": {
     "slide_type": "slide"
    }
   },
   "source": [
    "## Putting it together..."
   ]
  },
  {
   "cell_type": "code",
   "execution_count": null,
   "metadata": {},
   "outputs": [],
   "source": [
    "def monty_hall():\n",
    "    # randomly assign original_door_prize to a prize\n",
    "    prizes = ['Goat 1', 'Goat 2', 'Car']\n",
    "    original_door_prize = np.random.choice(prizes)\n",
    "    \n",
    "    goats = make_array('Goat 1', 'Goat 2')\n",
    "\n",
    "    if original_door_prize == 'Car':\n",
    "        revealed = np.random.choice(['Goat 1', 'Goat 2'])\n",
    "        other_door_prize = other_one(goats, which_is_not=revealed)\n",
    "    else: # it is a goat\n",
    "        revealed = other_one(goats, which_is_not=original_door_prize)\n",
    "        other_door_prize = 'Car'\n",
    "\n",
    "    return make_array(original_door_prize, revealed, other_door_prize)"
   ]
  },
  {
   "cell_type": "code",
   "execution_count": null,
   "metadata": {},
   "outputs": [],
   "source": [
    "monty_hall()"
   ]
  },
  {
   "cell_type": "markdown",
   "metadata": {
    "slideshow": {
     "slide_type": "slide"
    }
   },
   "source": [
    "## Play a bunch of times"
   ]
  },
  {
   "cell_type": "code",
   "execution_count": null,
   "metadata": {},
   "outputs": [],
   "source": [
    "#: many simulations\n",
    "n_repetitions = 100\n",
    "\n",
    "behind_original = make_array()\n",
    "behind_revealed = make_array()\n",
    "behind_other = make_array()\n",
    "\n",
    "for i in np.arange(n_repetitions):\n",
    "    result = monty_hall()\n",
    "    behind_original = np.append(behind_original, result.item(0))\n",
    "    behind_revealed = np.append(behind_revealed, result.item(1))\n",
    "    behind_other = np.append(behind_other, result.item(2))"
   ]
  },
  {
   "cell_type": "markdown",
   "metadata": {
    "slideshow": {
     "slide_type": "slide"
    }
   },
   "source": [
    "## Counting successes..."
   ]
  },
  {
   "cell_type": "code",
   "execution_count": null,
   "metadata": {},
   "outputs": [],
   "source": [
    "#: make a table of results\n",
    "simulations = Table().with_columns(\n",
    "    'original', behind_original,\n",
    "    'revealed', behind_revealed,\n",
    "    'other', behind_other\n",
    ")\n",
    "simulations"
   ]
  },
  {
   "cell_type": "code",
   "execution_count": null,
   "metadata": {},
   "outputs": [],
   "source": [
    "simulations.group('original')"
   ]
  },
  {
   "cell_type": "code",
   "execution_count": null,
   "metadata": {},
   "outputs": [],
   "source": [
    "simulations.group('other')"
   ]
  },
  {
   "cell_type": "code",
   "execution_count": null,
   "metadata": {},
   "outputs": [],
   "source": [
    "results = Table().with_columns(\n",
    "    'prize', make_array('Car', 'Goat 1', 'Goat 2'),\n",
    "    'stay', simulations.group('original').column('count'),\n",
    "    'other', simulations.group('other').column('count')\n",
    ")\n",
    "results.barh('prize')"
   ]
  },
  {
   "cell_type": "markdown",
   "metadata": {
    "slideshow": {
     "slide_type": "slide"
    }
   },
   "source": [
    "## A simpler simulation...\n",
    "\n",
    "- A function `simpler_monty_hall()`.\n",
    "- Returns \"switch\" if switching was the winning strategy.\n",
    "- Returns \"stay\" if staying was the winning strategy."
   ]
  },
  {
   "cell_type": "markdown",
   "metadata": {
    "slideshow": {
     "slide_type": "slide"
    }
   },
   "source": [
    "## Case-by-case"
   ]
  },
  {
   "cell_type": "code",
   "execution_count": null,
   "metadata": {},
   "outputs": [],
   "source": [
    "#: a simpler simulation of a single game\n",
    "\n",
    "def simpler_monty_hall():\n",
    "    original_prize = np.random.choice(['Car', 'Goat 1', 'Goat 2'])\n",
    "    \n",
    "    if original_prize == 'Car':\n",
    "        # We want to stay!\n",
    "        return 'stay'\n",
    "    else:\n",
    "        # The original prize is a goat.\n",
    "        # Monty will reveal the other goat.\n",
    "        # Switching wins!\n",
    "        return 'switch'"
   ]
  },
  {
   "cell_type": "markdown",
   "metadata": {
    "slideshow": {
     "slide_type": "slide"
    }
   },
   "source": [
    "## Play a bunch of times"
   ]
  },
  {
   "cell_type": "code",
   "execution_count": null,
   "metadata": {},
   "outputs": [],
   "source": [
    "#: many simulations\n",
    "\n",
    "n_repetitions = 100\n",
    "\n",
    "winning_strategies = make_array()\n",
    "for i in np.arange(n_repetitions):\n",
    "    winning_strategy = simpler_monty_hall()\n",
    "    winning_strategies = np.append(winning_strategies, winning_strategy)\n",
    "    \n",
    "np.count_nonzero(winning_strategies == 'switch') / n_repetitions"
   ]
  },
  {
   "cell_type": "markdown",
   "metadata": {
    "slideshow": {
     "slide_type": "slide"
    }
   },
   "source": [
    "# Probability"
   ]
  },
  {
   "cell_type": "markdown",
   "metadata": {
    "slideshow": {
     "slide_type": "slide"
    }
   },
   "source": [
    "## Probability Theory\n",
    "\n",
    "- So far, we have approximated some probabilities via simulation.\n",
    "- But we can calculate them directly using *math*."
   ]
  },
  {
   "cell_type": "markdown",
   "metadata": {
    "slideshow": {
     "slide_type": "slide"
    }
   },
   "source": [
    "## Terminology\n",
    "\n",
    "- **Outcome**: The result of an experiment.\n",
    "    - e.g., the possible outcomes of rolling a 6-sided die are 1, 2, 3, 4, 5, 6\n",
    "    - e.g., the possible outcomes of flipping a coin twice are HH, HT, TH, TT\n",
    "- **Event**: A set of outcomes.\n",
    "    - e.g., the event that the die lands on a even number is the collection of outcomes {2, 4, 6}.\n",
    "    - e.g., the event that there was at least one head in two flips: {HH, HT, TH}\n",
    "- **Probability**: A number between 0 and 1 which describes likelihood of event.\n",
    "    - 1 if that event always happens\n",
    "    - 0 if that event never happens\n",
    "    - Notation: if $X$ is an event, $P(X)$ is the probability of the event."
   ]
  },
  {
   "cell_type": "code",
   "execution_count": null,
   "metadata": {},
   "outputs": [],
   "source": []
  },
  {
   "cell_type": "code",
   "execution_count": null,
   "metadata": {},
   "outputs": [],
   "source": []
  }
 ],
 "metadata": {
  "celltoolbar": "Slideshow",
  "kernelspec": {
   "display_name": "Python 3",
   "language": "python",
   "name": "python3"
  },
  "language_info": {
   "codemirror_mode": {
    "name": "ipython",
    "version": 3
   },
   "file_extension": ".py",
   "mimetype": "text/x-python",
   "name": "python",
   "nbconvert_exporter": "python",
   "pygments_lexer": "ipython3",
   "version": "3.6.8"
  },
  "livereveal": {
   "scroll": true,
   "transition": "none"
  }
 },
 "nbformat": 4,
 "nbformat_minor": 2
}
