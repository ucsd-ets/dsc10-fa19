{
 "cells": [
  {
   "cell_type": "code",
   "execution_count": 200,
   "metadata": {
    "slideshow": {
     "slide_type": "skip"
    }
   },
   "outputs": [
    {
     "data": {
      "text/plain": [
       "{'width': 1500, 'height': 700, 'scroll': True}"
      ]
     },
     "execution_count": 200,
     "metadata": {},
     "output_type": "execute_result"
    }
   ],
   "source": [
    "from datascience import *\n",
    "import numpy as np\n",
    "import seaborn as sns\n",
    "import matplotlib.pyplot as plt\n",
    "%matplotlib inline\n",
    "\n",
    "from notebook.services.config import ConfigManager\n",
    "\n",
    "cm = ConfigManager()\n",
    "cm.update(\n",
    "    \"livereveal\", {\n",
    "        'width': 1500,\n",
    "        'height': 700,\n",
    "        \"scroll\": True,\n",
    "})"
   ]
  },
  {
   "cell_type": "markdown",
   "metadata": {
    "slideshow": {
     "slide_type": "slide"
    }
   },
   "source": [
    "# DSC 10 Discussion Week 4\n",
    "---\n",
    "Kyle Vigil"
   ]
  },
  {
   "cell_type": "markdown",
   "metadata": {
    "slideshow": {
     "slide_type": "subslide"
    }
   },
   "source": [
    "# Practice With Join"
   ]
  },
  {
   "cell_type": "code",
   "execution_count": 201,
   "metadata": {
    "slideshow": {
     "slide_type": "fragment"
    }
   },
   "outputs": [
    {
     "data": {
      "text/html": [
       "<table border=\"1\" class=\"dataframe\">\n",
       "    <thead>\n",
       "        <tr>\n",
       "            <th>name</th> <th>age</th> <th>city</th>\n",
       "        </tr>\n",
       "    </thead>\n",
       "    <tbody>\n",
       "        <tr>\n",
       "            <td>kyle</td> <td>24  </td> <td>San Diego    </td>\n",
       "        </tr>\n",
       "        <tr>\n",
       "            <td>jill</td> <td>22  </td> <td>LA           </td>\n",
       "        </tr>\n",
       "        <tr>\n",
       "            <td>cole</td> <td>21  </td> <td>San Francisco</td>\n",
       "        </tr>\n",
       "        <tr>\n",
       "            <td>alex</td> <td>24  </td> <td>Irvine       </td>\n",
       "        </tr>\n",
       "    </tbody>\n",
       "</table>"
      ],
      "text/plain": [
       "name | age  | city\n",
       "kyle | 24   | San Diego\n",
       "jill | 22   | LA\n",
       "cole | 21   | San Francisco\n",
       "alex | 24   | Irvine"
      ]
     },
     "execution_count": 201,
     "metadata": {},
     "output_type": "execute_result"
    }
   ],
   "source": [
    "people = Table().with_columns(\"name\",[\"kyle\",\"jill\",\"cole\",\"alex\"],\"age\",[24,22,21,24], \"city\", [\"San Diego\",\"LA\",\"San Francisco\",\"Irvine\"])\n",
    "people"
   ]
  },
  {
   "cell_type": "code",
   "execution_count": 202,
   "metadata": {
    "slideshow": {
     "slide_type": "fragment"
    }
   },
   "outputs": [
    {
     "data": {
      "text/html": [
       "<table border=\"1\" class=\"dataframe\">\n",
       "    <thead>\n",
       "        <tr>\n",
       "            <th>name</th> <th>Popular Food</th>\n",
       "        </tr>\n",
       "    </thead>\n",
       "    <tbody>\n",
       "        <tr>\n",
       "            <td>San Diego    </td> <td>California Burrito</td>\n",
       "        </tr>\n",
       "        <tr>\n",
       "            <td>LA           </td> <td>Tacos             </td>\n",
       "        </tr>\n",
       "        <tr>\n",
       "            <td>San Francisco</td> <td>Sourdough         </td>\n",
       "        </tr>\n",
       "        <tr>\n",
       "            <td>Denver       </td> <td>Denver Omelete    </td>\n",
       "        </tr>\n",
       "        <tr>\n",
       "            <td>New York     </td> <td>Cheesecake        </td>\n",
       "        </tr>\n",
       "    </tbody>\n",
       "</table>"
      ],
      "text/plain": [
       "name          | Popular Food\n",
       "San Diego     | California Burrito\n",
       "LA            | Tacos\n",
       "San Francisco | Sourdough\n",
       "Denver        | Denver Omelete\n",
       "New York      | Cheesecake"
      ]
     },
     "execution_count": 202,
     "metadata": {},
     "output_type": "execute_result"
    }
   ],
   "source": [
    "cities = Table().with_columns(\"name\", [\"San Diego\", \"LA\", \"San Francisco\",\"Denver\",\"New York\"], \"Popular Food\", [\"California Burrito\", \"Tacos\", \"Sourdough\", \"Denver Omelete\", \"Cheesecake\"])\n",
    "cities "
   ]
  },
  {
   "cell_type": "code",
   "execution_count": 203,
   "metadata": {
    "slideshow": {
     "slide_type": "fragment"
    }
   },
   "outputs": [
    {
     "data": {
      "text/html": [
       "<table border=\"1\" class=\"dataframe\">\n",
       "    <thead>\n",
       "        <tr>\n",
       "            <th>age</th> <th>importance</th>\n",
       "        </tr>\n",
       "    </thead>\n",
       "    <tbody>\n",
       "        <tr>\n",
       "            <td>21  </td> <td>Legal Drinking Age </td>\n",
       "        </tr>\n",
       "        <tr>\n",
       "            <td>21  </td> <td>Officially an Adult</td>\n",
       "        </tr>\n",
       "        <tr>\n",
       "            <td>22  </td> <td>Taylor Swift Song  </td>\n",
       "        </tr>\n",
       "        <tr>\n",
       "            <td>24  </td> <td>Kyle's Age         </td>\n",
       "        </tr>\n",
       "    </tbody>\n",
       "</table>"
      ],
      "text/plain": [
       "age  | importance\n",
       "21   | Legal Drinking Age\n",
       "21   | Officially an Adult\n",
       "22   | Taylor Swift Song\n",
       "24   | Kyle's Age"
      ]
     },
     "execution_count": 203,
     "metadata": {},
     "output_type": "execute_result"
    }
   ],
   "source": [
    "important_birthdays = Table().with_columns(\"age\", [21,21,22,24], \"importance\", [\"Legal Drinking Age\", \"Officially an Adult\", \"Taylor Swift Song\", \"Kyle's Age\"])\n",
    "important_birthdays"
   ]
  },
  {
   "cell_type": "markdown",
   "metadata": {
    "slideshow": {
     "slide_type": "subslide"
    }
   },
   "source": [
    "## How to join people with cities? How many rows will there be?"
   ]
  },
  {
   "cell_type": "code",
   "execution_count": 205,
   "metadata": {
    "slideshow": {
     "slide_type": "fragment"
    }
   },
   "outputs": [
    {
     "data": {
      "text/html": [
       "<table border=\"1\" class=\"dataframe\">\n",
       "    <thead>\n",
       "        <tr>\n",
       "            <th>city</th> <th>name</th> <th>age</th> <th>Popular Food</th>\n",
       "        </tr>\n",
       "    </thead>\n",
       "    <tbody>\n",
       "        <tr>\n",
       "            <td>LA           </td> <td>jill</td> <td>22  </td> <td>Tacos             </td>\n",
       "        </tr>\n",
       "        <tr>\n",
       "            <td>San Diego    </td> <td>kyle</td> <td>24  </td> <td>California Burrito</td>\n",
       "        </tr>\n",
       "        <tr>\n",
       "            <td>San Francisco</td> <td>cole</td> <td>21  </td> <td>Sourdough         </td>\n",
       "        </tr>\n",
       "    </tbody>\n",
       "</table>"
      ],
      "text/plain": [
       "city          | name | age  | Popular Food\n",
       "LA            | jill | 22   | Tacos\n",
       "San Diego     | kyle | 24   | California Burrito\n",
       "San Francisco | cole | 21   | Sourdough"
      ]
     },
     "execution_count": 205,
     "metadata": {},
     "output_type": "execute_result"
    }
   ],
   "source": [
    "people.join(\"city\", cities, \"name\")"
   ]
  },
  {
   "cell_type": "markdown",
   "metadata": {
    "slideshow": {
     "slide_type": "fragment"
    }
   },
   "source": [
    "## How to join people with important_birthdays? How many rows will there be?"
   ]
  },
  {
   "cell_type": "code",
   "execution_count": 208,
   "metadata": {
    "slideshow": {
     "slide_type": "fragment"
    }
   },
   "outputs": [
    {
     "data": {
      "text/html": [
       "<table border=\"1\" class=\"dataframe\">\n",
       "    <thead>\n",
       "        <tr>\n",
       "            <th>age</th> <th>importance</th> <th>name</th> <th>city</th>\n",
       "        </tr>\n",
       "    </thead>\n",
       "    <tbody>\n",
       "        <tr>\n",
       "            <td>21  </td> <td>Legal Drinking Age </td> <td>cole</td> <td>San Francisco</td>\n",
       "        </tr>\n",
       "        <tr>\n",
       "            <td>21  </td> <td>Officially an Adult</td> <td>cole</td> <td>San Francisco</td>\n",
       "        </tr>\n",
       "        <tr>\n",
       "            <td>22  </td> <td>Taylor Swift Song  </td> <td>jill</td> <td>LA           </td>\n",
       "        </tr>\n",
       "        <tr>\n",
       "            <td>24  </td> <td>Kyle's Age         </td> <td>kyle</td> <td>San Diego    </td>\n",
       "        </tr>\n",
       "        <tr>\n",
       "            <td>24  </td> <td>Kyle's Age         </td> <td>alex</td> <td>Irvine       </td>\n",
       "        </tr>\n",
       "    </tbody>\n",
       "</table>"
      ],
      "text/plain": [
       "age  | importance          | name | city\n",
       "21   | Legal Drinking Age  | cole | San Francisco\n",
       "21   | Officially an Adult | cole | San Francisco\n",
       "22   | Taylor Swift Song   | jill | LA\n",
       "24   | Kyle's Age          | kyle | San Diego\n",
       "24   | Kyle's Age          | alex | Irvine"
      ]
     },
     "execution_count": 208,
     "metadata": {},
     "output_type": "execute_result"
    }
   ],
   "source": [
    "important_birthdays.join(\"age\", people)"
   ]
  },
  {
   "cell_type": "markdown",
   "metadata": {
    "slideshow": {
     "slide_type": "subslide"
    }
   },
   "source": [
    "# How to join all three? How many rows? Does order matter?"
   ]
  },
  {
   "cell_type": "code",
   "execution_count": 209,
   "metadata": {
    "slideshow": {
     "slide_type": "fragment"
    }
   },
   "outputs": [
    {
     "data": {
      "text/html": [
       "<table border=\"1\" class=\"dataframe\">\n",
       "    <thead>\n",
       "        <tr>\n",
       "            <th>city</th> <th>age</th> <th>name</th> <th>importance</th> <th>Popular Food</th>\n",
       "        </tr>\n",
       "    </thead>\n",
       "    <tbody>\n",
       "        <tr>\n",
       "            <td>LA           </td> <td>22  </td> <td>jill</td> <td>Taylor Swift Song  </td> <td>Tacos             </td>\n",
       "        </tr>\n",
       "        <tr>\n",
       "            <td>San Diego    </td> <td>24  </td> <td>kyle</td> <td>Kyle's Age         </td> <td>California Burrito</td>\n",
       "        </tr>\n",
       "        <tr>\n",
       "            <td>San Francisco</td> <td>21  </td> <td>cole</td> <td>Legal Drinking Age </td> <td>Sourdough         </td>\n",
       "        </tr>\n",
       "        <tr>\n",
       "            <td>San Francisco</td> <td>21  </td> <td>cole</td> <td>Officially an Adult</td> <td>Sourdough         </td>\n",
       "        </tr>\n",
       "    </tbody>\n",
       "</table>"
      ],
      "text/plain": [
       "city          | age  | name | importance          | Popular Food\n",
       "LA            | 22   | jill | Taylor Swift Song   | Tacos\n",
       "San Diego     | 24   | kyle | Kyle's Age          | California Burrito\n",
       "San Francisco | 21   | cole | Legal Drinking Age  | Sourdough\n",
       "San Francisco | 21   | cole | Officially an Adult | Sourdough"
      ]
     },
     "execution_count": 209,
     "metadata": {},
     "output_type": "execute_result"
    }
   ],
   "source": [
    "people.join(\"age\", important_birthdays).join(\"city\", cities, \"name\")"
   ]
  },
  {
   "cell_type": "markdown",
   "metadata": {
    "slideshow": {
     "slide_type": "slide"
    }
   },
   "source": [
    "# Olympic Athletes\n",
    "---\n",
    "\n",
    "From kaggle user Randi H Griffin:\n",
    ">This is a historical dataset on the modern Olympic Games, including all the Games from Athens 1896 to Rio 2016. I scraped this data from www.sports-reference.com in May 2018. The R code I used to scrape and wrangle the data is on GitHub. I recommend checking my kernel before starting your own analysis.\n",
    ">\n",
    ">Note that the Winter and Summer Games were held in the same year up until 1992. After that, they staggered them such that Winter Games occur on a four year cycle starting with 1994, then Summer in 1996, then Winter in 1998, and so on. A common mistake people make when analyzing this data is to assume that the Summer and Winter Games have always been staggered.\n",
    "Content\n",
    ">\n",
    ">The file athlete_events.csv contains 271116 rows and 15 columns. Each row corresponds to an individual athlete competing in an individual Olympic event (athlete-events). The columns are:\n",
    ">\n",
    ">1. ID - Unique number for each athlete  \n",
    ">2. Name - Athlete's name  \n",
    ">3. Sex - M or F  \n",
    ">4. Age - Integer  \n",
    ">5. Height - In centimeters  \n",
    ">6. Weight - In kilograms  \n",
    ">7. Team - Team name  \n",
    ">8. NOC - National Olympic Committee 3-letter code  \n",
    ">9. Games - Year and season  \n",
    ">10. Year - Integer  \n",
    ">11. Season - Summer or Winter  \n",
    ">12. City - Host city  \n",
    ">13. Sport - Sport  \n",
    ">14. Event - Event  \n",
    ">15. Medal - Gold, Silver, Bronze, or NA  \n"
   ]
  },
  {
   "cell_type": "code",
   "execution_count": 210,
   "metadata": {
    "slideshow": {
     "slide_type": "subslide"
    }
   },
   "outputs": [
    {
     "data": {
      "text/html": [
       "<table border=\"1\" class=\"dataframe\">\n",
       "    <thead>\n",
       "        <tr>\n",
       "            <th>ID</th> <th>Name</th> <th>Sex</th> <th>Age</th> <th>Height</th> <th>Weight</th> <th>Team</th> <th>NOC</th> <th>Games</th> <th>Year</th> <th>Season</th> <th>City</th> <th>Sport</th> <th>Event</th> <th>Medal</th>\n",
       "        </tr>\n",
       "    </thead>\n",
       "    <tbody>\n",
       "        <tr>\n",
       "            <td>1   </td> <td>A Dijiang               </td> <td>M   </td> <td>24  </td> <td>180   </td> <td>80    </td> <td>China         </td> <td>CHN </td> <td>1992 Summer</td> <td>1992</td> <td>Summer</td> <td>Barcelona  </td> <td>Basketball   </td> <td>Basketball Men's Basketball       </td> <td>nan  </td>\n",
       "        </tr>\n",
       "        <tr>\n",
       "            <td>2   </td> <td>A Lamusi                </td> <td>M   </td> <td>23  </td> <td>170   </td> <td>60    </td> <td>China         </td> <td>CHN </td> <td>2012 Summer</td> <td>2012</td> <td>Summer</td> <td>London     </td> <td>Judo         </td> <td>Judo Men's Extra-Lightweight      </td> <td>nan  </td>\n",
       "        </tr>\n",
       "        <tr>\n",
       "            <td>3   </td> <td>Gunnar Nielsen Aaby     </td> <td>M   </td> <td>24  </td> <td>nan   </td> <td>nan   </td> <td>Denmark       </td> <td>DEN </td> <td>1920 Summer</td> <td>1920</td> <td>Summer</td> <td>Antwerpen  </td> <td>Football     </td> <td>Football Men's Football           </td> <td>nan  </td>\n",
       "        </tr>\n",
       "        <tr>\n",
       "            <td>4   </td> <td>Edgar Lindenau Aabye    </td> <td>M   </td> <td>34  </td> <td>nan   </td> <td>nan   </td> <td>Denmark/Sweden</td> <td>DEN </td> <td>1900 Summer</td> <td>1900</td> <td>Summer</td> <td>Paris      </td> <td>Tug-Of-War   </td> <td>Tug-Of-War Men's Tug-Of-War       </td> <td>Gold </td>\n",
       "        </tr>\n",
       "        <tr>\n",
       "            <td>5   </td> <td>Christine Jacoba Aaftink</td> <td>F   </td> <td>21  </td> <td>185   </td> <td>82    </td> <td>Netherlands   </td> <td>NED </td> <td>1988 Winter</td> <td>1988</td> <td>Winter</td> <td>Calgary    </td> <td>Speed Skating</td> <td>Speed Skating Women's 500 metres  </td> <td>nan  </td>\n",
       "        </tr>\n",
       "        <tr>\n",
       "            <td>5   </td> <td>Christine Jacoba Aaftink</td> <td>F   </td> <td>21  </td> <td>185   </td> <td>82    </td> <td>Netherlands   </td> <td>NED </td> <td>1988 Winter</td> <td>1988</td> <td>Winter</td> <td>Calgary    </td> <td>Speed Skating</td> <td>Speed Skating Women's 1,000 metres</td> <td>nan  </td>\n",
       "        </tr>\n",
       "        <tr>\n",
       "            <td>5   </td> <td>Christine Jacoba Aaftink</td> <td>F   </td> <td>25  </td> <td>185   </td> <td>82    </td> <td>Netherlands   </td> <td>NED </td> <td>1992 Winter</td> <td>1992</td> <td>Winter</td> <td>Albertville</td> <td>Speed Skating</td> <td>Speed Skating Women's 500 metres  </td> <td>nan  </td>\n",
       "        </tr>\n",
       "        <tr>\n",
       "            <td>5   </td> <td>Christine Jacoba Aaftink</td> <td>F   </td> <td>25  </td> <td>185   </td> <td>82    </td> <td>Netherlands   </td> <td>NED </td> <td>1992 Winter</td> <td>1992</td> <td>Winter</td> <td>Albertville</td> <td>Speed Skating</td> <td>Speed Skating Women's 1,000 metres</td> <td>nan  </td>\n",
       "        </tr>\n",
       "        <tr>\n",
       "            <td>5   </td> <td>Christine Jacoba Aaftink</td> <td>F   </td> <td>27  </td> <td>185   </td> <td>82    </td> <td>Netherlands   </td> <td>NED </td> <td>1994 Winter</td> <td>1994</td> <td>Winter</td> <td>Lillehammer</td> <td>Speed Skating</td> <td>Speed Skating Women's 500 metres  </td> <td>nan  </td>\n",
       "        </tr>\n",
       "        <tr>\n",
       "            <td>5   </td> <td>Christine Jacoba Aaftink</td> <td>F   </td> <td>27  </td> <td>185   </td> <td>82    </td> <td>Netherlands   </td> <td>NED </td> <td>1994 Winter</td> <td>1994</td> <td>Winter</td> <td>Lillehammer</td> <td>Speed Skating</td> <td>Speed Skating Women's 1,000 metres</td> <td>nan  </td>\n",
       "        </tr>\n",
       "    </tbody>\n",
       "</table>\n",
       "<p>... (271106 rows omitted)</p>"
      ],
      "text/plain": [
       "ID   | Name                     | Sex  | Age  | Height | Weight | Team           | NOC  | Games       | Year | Season | City        | Sport         | Event                              | Medal\n",
       "1    | A Dijiang                | M    | 24   | 180    | 80     | China          | CHN  | 1992 Summer | 1992 | Summer | Barcelona   | Basketball    | Basketball Men's Basketball        | nan\n",
       "2    | A Lamusi                 | M    | 23   | 170    | 60     | China          | CHN  | 2012 Summer | 2012 | Summer | London      | Judo          | Judo Men's Extra-Lightweight       | nan\n",
       "3    | Gunnar Nielsen Aaby      | M    | 24   | nan    | nan    | Denmark        | DEN  | 1920 Summer | 1920 | Summer | Antwerpen   | Football      | Football Men's Football            | nan\n",
       "4    | Edgar Lindenau Aabye     | M    | 34   | nan    | nan    | Denmark/Sweden | DEN  | 1900 Summer | 1900 | Summer | Paris       | Tug-Of-War    | Tug-Of-War Men's Tug-Of-War        | Gold\n",
       "5    | Christine Jacoba Aaftink | F    | 21   | 185    | 82     | Netherlands    | NED  | 1988 Winter | 1988 | Winter | Calgary     | Speed Skating | Speed Skating Women's 500 metres   | nan\n",
       "5    | Christine Jacoba Aaftink | F    | 21   | 185    | 82     | Netherlands    | NED  | 1988 Winter | 1988 | Winter | Calgary     | Speed Skating | Speed Skating Women's 1,000 metres | nan\n",
       "5    | Christine Jacoba Aaftink | F    | 25   | 185    | 82     | Netherlands    | NED  | 1992 Winter | 1992 | Winter | Albertville | Speed Skating | Speed Skating Women's 500 metres   | nan\n",
       "5    | Christine Jacoba Aaftink | F    | 25   | 185    | 82     | Netherlands    | NED  | 1992 Winter | 1992 | Winter | Albertville | Speed Skating | Speed Skating Women's 1,000 metres | nan\n",
       "5    | Christine Jacoba Aaftink | F    | 27   | 185    | 82     | Netherlands    | NED  | 1994 Winter | 1994 | Winter | Lillehammer | Speed Skating | Speed Skating Women's 500 metres   | nan\n",
       "5    | Christine Jacoba Aaftink | F    | 27   | 185    | 82     | Netherlands    | NED  | 1994 Winter | 1994 | Winter | Lillehammer | Speed Skating | Speed Skating Women's 1,000 metres | nan\n",
       "... (271106 rows omitted)"
      ]
     },
     "execution_count": 210,
     "metadata": {},
     "output_type": "execute_result"
    }
   ],
   "source": [
    "data = Table.read_table(\"data/athlete_events.csv\")\n",
    "data"
   ]
  },
  {
   "cell_type": "markdown",
   "metadata": {
    "slideshow": {
     "slide_type": "subslide"
    }
   },
   "source": [
    "# Let's assign points to each country\n",
    "---\n",
    "\n",
    "Let's say we're assigning points to each country based on the number of Golds, Silvers, and Bronzes they've won.\n",
    "\n",
    "Medals are with the following amount of points:\n",
    "\n",
    "<pre>\n",
    "  Gold    +5 pts\n",
    "  Silver  +3 pts\n",
    "  Bronze  +2 pts\n",
    "  nan     0 pts\n",
    "</pre>"
   ]
  },
  {
   "cell_type": "code",
   "execution_count": null,
   "metadata": {
    "slideshow": {
     "slide_type": "fragment"
    }
   },
   "outputs": [],
   "source": [
    "# How are we going to do this?"
   ]
  },
  {
   "cell_type": "code",
   "execution_count": 211,
   "metadata": {
    "slideshow": {
     "slide_type": "subslide"
    }
   },
   "outputs": [],
   "source": [
    "def medal_to_points(medal):\n",
    "    if medal == \"Gold\":\n",
    "        return 5\n",
    "    elif medal == \"Silver\":\n",
    "        return 3\n",
    "    elif medal == \"Bronze\":\n",
    "        return 2\n",
    "    else:\n",
    "        return 0"
   ]
  },
  {
   "cell_type": "markdown",
   "metadata": {
    "slideshow": {
     "slide_type": "subslide"
    }
   },
   "source": [
    "Okay, now we need to apply that function to our table.\n",
    "\n",
    "What does `apply` return again?  And how will we use what it returns?"
   ]
  },
  {
   "cell_type": "code",
   "execution_count": 214,
   "metadata": {
    "slideshow": {
     "slide_type": "fragment"
    }
   },
   "outputs": [
    {
     "data": {
      "text/html": [
       "<table border=\"1\" class=\"dataframe\">\n",
       "    <thead>\n",
       "        <tr>\n",
       "            <th>ID</th> <th>Name</th> <th>Sex</th> <th>Age</th> <th>Height</th> <th>Weight</th> <th>Team</th> <th>NOC</th> <th>Games</th> <th>Year</th> <th>Season</th> <th>City</th> <th>Sport</th> <th>Event</th> <th>Medal</th> <th>Points</th>\n",
       "        </tr>\n",
       "    </thead>\n",
       "    <tbody>\n",
       "        <tr>\n",
       "            <td>1   </td> <td>A Dijiang               </td> <td>M   </td> <td>24  </td> <td>180   </td> <td>80    </td> <td>China         </td> <td>CHN </td> <td>1992 Summer</td> <td>1992</td> <td>Summer</td> <td>Barcelona  </td> <td>Basketball   </td> <td>Basketball Men's Basketball       </td> <td>nan  </td> <td>0     </td>\n",
       "        </tr>\n",
       "        <tr>\n",
       "            <td>2   </td> <td>A Lamusi                </td> <td>M   </td> <td>23  </td> <td>170   </td> <td>60    </td> <td>China         </td> <td>CHN </td> <td>2012 Summer</td> <td>2012</td> <td>Summer</td> <td>London     </td> <td>Judo         </td> <td>Judo Men's Extra-Lightweight      </td> <td>nan  </td> <td>0     </td>\n",
       "        </tr>\n",
       "        <tr>\n",
       "            <td>3   </td> <td>Gunnar Nielsen Aaby     </td> <td>M   </td> <td>24  </td> <td>nan   </td> <td>nan   </td> <td>Denmark       </td> <td>DEN </td> <td>1920 Summer</td> <td>1920</td> <td>Summer</td> <td>Antwerpen  </td> <td>Football     </td> <td>Football Men's Football           </td> <td>nan  </td> <td>0     </td>\n",
       "        </tr>\n",
       "        <tr>\n",
       "            <td>4   </td> <td>Edgar Lindenau Aabye    </td> <td>M   </td> <td>34  </td> <td>nan   </td> <td>nan   </td> <td>Denmark/Sweden</td> <td>DEN </td> <td>1900 Summer</td> <td>1900</td> <td>Summer</td> <td>Paris      </td> <td>Tug-Of-War   </td> <td>Tug-Of-War Men's Tug-Of-War       </td> <td>Gold </td> <td>5     </td>\n",
       "        </tr>\n",
       "        <tr>\n",
       "            <td>5   </td> <td>Christine Jacoba Aaftink</td> <td>F   </td> <td>21  </td> <td>185   </td> <td>82    </td> <td>Netherlands   </td> <td>NED </td> <td>1988 Winter</td> <td>1988</td> <td>Winter</td> <td>Calgary    </td> <td>Speed Skating</td> <td>Speed Skating Women's 500 metres  </td> <td>nan  </td> <td>0     </td>\n",
       "        </tr>\n",
       "        <tr>\n",
       "            <td>5   </td> <td>Christine Jacoba Aaftink</td> <td>F   </td> <td>21  </td> <td>185   </td> <td>82    </td> <td>Netherlands   </td> <td>NED </td> <td>1988 Winter</td> <td>1988</td> <td>Winter</td> <td>Calgary    </td> <td>Speed Skating</td> <td>Speed Skating Women's 1,000 metres</td> <td>nan  </td> <td>0     </td>\n",
       "        </tr>\n",
       "        <tr>\n",
       "            <td>5   </td> <td>Christine Jacoba Aaftink</td> <td>F   </td> <td>25  </td> <td>185   </td> <td>82    </td> <td>Netherlands   </td> <td>NED </td> <td>1992 Winter</td> <td>1992</td> <td>Winter</td> <td>Albertville</td> <td>Speed Skating</td> <td>Speed Skating Women's 500 metres  </td> <td>nan  </td> <td>0     </td>\n",
       "        </tr>\n",
       "        <tr>\n",
       "            <td>5   </td> <td>Christine Jacoba Aaftink</td> <td>F   </td> <td>25  </td> <td>185   </td> <td>82    </td> <td>Netherlands   </td> <td>NED </td> <td>1992 Winter</td> <td>1992</td> <td>Winter</td> <td>Albertville</td> <td>Speed Skating</td> <td>Speed Skating Women's 1,000 metres</td> <td>nan  </td> <td>0     </td>\n",
       "        </tr>\n",
       "        <tr>\n",
       "            <td>5   </td> <td>Christine Jacoba Aaftink</td> <td>F   </td> <td>27  </td> <td>185   </td> <td>82    </td> <td>Netherlands   </td> <td>NED </td> <td>1994 Winter</td> <td>1994</td> <td>Winter</td> <td>Lillehammer</td> <td>Speed Skating</td> <td>Speed Skating Women's 500 metres  </td> <td>nan  </td> <td>0     </td>\n",
       "        </tr>\n",
       "        <tr>\n",
       "            <td>5   </td> <td>Christine Jacoba Aaftink</td> <td>F   </td> <td>27  </td> <td>185   </td> <td>82    </td> <td>Netherlands   </td> <td>NED </td> <td>1994 Winter</td> <td>1994</td> <td>Winter</td> <td>Lillehammer</td> <td>Speed Skating</td> <td>Speed Skating Women's 1,000 metres</td> <td>nan  </td> <td>0     </td>\n",
       "        </tr>\n",
       "    </tbody>\n",
       "</table>\n",
       "<p>... (271106 rows omitted)</p>"
      ],
      "text/plain": [
       "ID   | Name                     | Sex  | Age  | Height | Weight | Team           | NOC  | Games       | Year | Season | City        | Sport         | Event                              | Medal | Points\n",
       "1    | A Dijiang                | M    | 24   | 180    | 80     | China          | CHN  | 1992 Summer | 1992 | Summer | Barcelona   | Basketball    | Basketball Men's Basketball        | nan   | 0\n",
       "2    | A Lamusi                 | M    | 23   | 170    | 60     | China          | CHN  | 2012 Summer | 2012 | Summer | London      | Judo          | Judo Men's Extra-Lightweight       | nan   | 0\n",
       "3    | Gunnar Nielsen Aaby      | M    | 24   | nan    | nan    | Denmark        | DEN  | 1920 Summer | 1920 | Summer | Antwerpen   | Football      | Football Men's Football            | nan   | 0\n",
       "4    | Edgar Lindenau Aabye     | M    | 34   | nan    | nan    | Denmark/Sweden | DEN  | 1900 Summer | 1900 | Summer | Paris       | Tug-Of-War    | Tug-Of-War Men's Tug-Of-War        | Gold  | 5\n",
       "5    | Christine Jacoba Aaftink | F    | 21   | 185    | 82     | Netherlands    | NED  | 1988 Winter | 1988 | Winter | Calgary     | Speed Skating | Speed Skating Women's 500 metres   | nan   | 0\n",
       "5    | Christine Jacoba Aaftink | F    | 21   | 185    | 82     | Netherlands    | NED  | 1988 Winter | 1988 | Winter | Calgary     | Speed Skating | Speed Skating Women's 1,000 metres | nan   | 0\n",
       "5    | Christine Jacoba Aaftink | F    | 25   | 185    | 82     | Netherlands    | NED  | 1992 Winter | 1992 | Winter | Albertville | Speed Skating | Speed Skating Women's 500 metres   | nan   | 0\n",
       "5    | Christine Jacoba Aaftink | F    | 25   | 185    | 82     | Netherlands    | NED  | 1992 Winter | 1992 | Winter | Albertville | Speed Skating | Speed Skating Women's 1,000 metres | nan   | 0\n",
       "5    | Christine Jacoba Aaftink | F    | 27   | 185    | 82     | Netherlands    | NED  | 1994 Winter | 1994 | Winter | Lillehammer | Speed Skating | Speed Skating Women's 500 metres   | nan   | 0\n",
       "5    | Christine Jacoba Aaftink | F    | 27   | 185    | 82     | Netherlands    | NED  | 1994 Winter | 1994 | Winter | Lillehammer | Speed Skating | Speed Skating Women's 1,000 metres | nan   | 0\n",
       "... (271106 rows omitted)"
      ]
     },
     "execution_count": 214,
     "metadata": {},
     "output_type": "execute_result"
    }
   ],
   "source": [
    "data_with_points = data.with_column(\"Points\", data.apply(medal_to_points, \"Medal\"))\n",
    "data_with_points"
   ]
  },
  {
   "cell_type": "markdown",
   "metadata": {
    "slideshow": {
     "slide_type": "subslide"
    }
   },
   "source": [
    "If we only care about the country and the points, do we need to work with this entire table?"
   ]
  },
  {
   "cell_type": "code",
   "execution_count": 216,
   "metadata": {
    "slideshow": {
     "slide_type": "fragment"
    }
   },
   "outputs": [
    {
     "data": {
      "text/html": [
       "<table border=\"1\" class=\"dataframe\">\n",
       "    <thead>\n",
       "        <tr>\n",
       "            <th>NOC</th> <th>Points</th>\n",
       "        </tr>\n",
       "    </thead>\n",
       "    <tbody>\n",
       "        <tr>\n",
       "            <td>CHN </td> <td>0     </td>\n",
       "        </tr>\n",
       "        <tr>\n",
       "            <td>CHN </td> <td>0     </td>\n",
       "        </tr>\n",
       "        <tr>\n",
       "            <td>DEN </td> <td>0     </td>\n",
       "        </tr>\n",
       "        <tr>\n",
       "            <td>DEN </td> <td>5     </td>\n",
       "        </tr>\n",
       "        <tr>\n",
       "            <td>NED </td> <td>0     </td>\n",
       "        </tr>\n",
       "        <tr>\n",
       "            <td>NED </td> <td>0     </td>\n",
       "        </tr>\n",
       "        <tr>\n",
       "            <td>NED </td> <td>0     </td>\n",
       "        </tr>\n",
       "        <tr>\n",
       "            <td>NED </td> <td>0     </td>\n",
       "        </tr>\n",
       "        <tr>\n",
       "            <td>NED </td> <td>0     </td>\n",
       "        </tr>\n",
       "        <tr>\n",
       "            <td>NED </td> <td>0     </td>\n",
       "        </tr>\n",
       "    </tbody>\n",
       "</table>\n",
       "<p>... (271106 rows omitted)</p>"
      ],
      "text/plain": [
       "NOC  | Points\n",
       "CHN  | 0\n",
       "CHN  | 0\n",
       "DEN  | 0\n",
       "DEN  | 5\n",
       "NED  | 0\n",
       "NED  | 0\n",
       "NED  | 0\n",
       "NED  | 0\n",
       "NED  | 0\n",
       "NED  | 0\n",
       "... (271106 rows omitted)"
      ]
     },
     "execution_count": 216,
     "metadata": {},
     "output_type": "execute_result"
    }
   ],
   "source": [
    "# Select relevant columns\n",
    "country_points = data_with_points.select(\"NOC\", \"Points\")\n",
    "country_points"
   ]
  },
  {
   "cell_type": "markdown",
   "metadata": {
    "slideshow": {
     "slide_type": "subslide"
    }
   },
   "source": [
    "Now, how do we find the total amount of points scored by each country?"
   ]
  },
  {
   "cell_type": "code",
   "execution_count": 219,
   "metadata": {
    "slideshow": {
     "slide_type": "fragment"
    }
   },
   "outputs": [
    {
     "data": {
      "text/html": [
       "<table border=\"1\" class=\"dataframe\">\n",
       "    <thead>\n",
       "        <tr>\n",
       "            <th>NOC</th> <th>Points</th>\n",
       "        </tr>\n",
       "    </thead>\n",
       "    <tbody>\n",
       "        <tr>\n",
       "            <td>USA </td> <td>20829 </td>\n",
       "        </tr>\n",
       "        <tr>\n",
       "            <td>URS </td> <td>8984  </td>\n",
       "        </tr>\n",
       "        <tr>\n",
       "            <td>GER </td> <td>7239  </td>\n",
       "        </tr>\n",
       "        <tr>\n",
       "            <td>GBR </td> <td>6909  </td>\n",
       "        </tr>\n",
       "        <tr>\n",
       "            <td>FRA </td> <td>5667  </td>\n",
       "        </tr>\n",
       "        <tr>\n",
       "            <td>ITA </td> <td>5530  </td>\n",
       "        </tr>\n",
       "        <tr>\n",
       "            <td>SWE </td> <td>5031  </td>\n",
       "        </tr>\n",
       "        <tr>\n",
       "            <td>CAN </td> <td>4531  </td>\n",
       "        </tr>\n",
       "        <tr>\n",
       "            <td>AUS </td> <td>4139  </td>\n",
       "        </tr>\n",
       "        <tr>\n",
       "            <td>HUN </td> <td>3898  </td>\n",
       "        </tr>\n",
       "    </tbody>\n",
       "</table>\n",
       "<p>... (220 rows omitted)</p>"
      ],
      "text/plain": [
       "NOC  | Points\n",
       "USA  | 20829\n",
       "URS  | 8984\n",
       "GER  | 7239\n",
       "GBR  | 6909\n",
       "FRA  | 5667\n",
       "ITA  | 5530\n",
       "SWE  | 5031\n",
       "CAN  | 4531\n",
       "AUS  | 4139\n",
       "HUN  | 3898\n",
       "... (220 rows omitted)"
      ]
     },
     "execution_count": 219,
     "metadata": {},
     "output_type": "execute_result"
    }
   ],
   "source": [
    "# Group by country\n",
    "scores = country_points.group(\"NOC\", sum)\n",
    "scores = scores.relabeled(\"Points sum\", \"Points\")\n",
    "scores.sort(\"Points\", descending=True)"
   ]
  },
  {
   "cell_type": "markdown",
   "metadata": {
    "slideshow": {
     "slide_type": "subslide"
    }
   },
   "source": [
    "Cool!  Look's like we're at the top :)\n",
    "\n",
    "What happens if we change our function to weight the medals differently?"
   ]
  },
  {
   "cell_type": "markdown",
   "metadata": {
    "slideshow": {
     "slide_type": "subslide"
    }
   },
   "source": [
    "# What are the points of the top 5 countries over time?\n",
    "---\n",
    "\n",
    "This one might be a doozy, so let's work through it together.\n",
    "\n",
    "First, let's start by choosing 5 countries and only working with their data.  This will make things a bit more manageable.  Just as we found out before, we should use NOC."
   ]
  },
  {
   "cell_type": "code",
   "execution_count": 220,
   "metadata": {
    "slideshow": {
     "slide_type": "fragment"
    }
   },
   "outputs": [],
   "source": [
    "included_countries = [\"USA\", \"CHN\", \"RUS\", \"GBR\", \"GER\"]"
   ]
  },
  {
   "cell_type": "markdown",
   "metadata": {
    "slideshow": {
     "slide_type": "subslide"
    }
   },
   "source": [
    "We have already added points to the entire dataset based on the Medal placement, so let's just get our countries from that `data_with_points` table."
   ]
  },
  {
   "cell_type": "code",
   "execution_count": 221,
   "metadata": {
    "slideshow": {
     "slide_type": "fragment"
    }
   },
   "outputs": [
    {
     "data": {
      "text/html": [
       "<table border=\"1\" class=\"dataframe\">\n",
       "    <thead>\n",
       "        <tr>\n",
       "            <th>ID</th> <th>Name</th> <th>Sex</th> <th>Age</th> <th>Height</th> <th>Weight</th> <th>Team</th> <th>NOC</th> <th>Games</th> <th>Year</th> <th>Season</th> <th>City</th> <th>Sport</th> <th>Event</th> <th>Medal</th> <th>Points</th>\n",
       "        </tr>\n",
       "    </thead>\n",
       "    <tbody>\n",
       "        <tr>\n",
       "            <td>1   </td> <td>A Dijiang      </td> <td>M   </td> <td>24  </td> <td>180   </td> <td>80    </td> <td>China        </td> <td>CHN </td> <td>1992 Summer</td> <td>1992</td> <td>Summer</td> <td>Barcelona  </td> <td>Basketball          </td> <td>Basketball Men's Basketball                        </td> <td>nan  </td> <td>0     </td>\n",
       "        </tr>\n",
       "        <tr>\n",
       "            <td>2   </td> <td>A Lamusi       </td> <td>M   </td> <td>23  </td> <td>170   </td> <td>60    </td> <td>China        </td> <td>CHN </td> <td>2012 Summer</td> <td>2012</td> <td>Summer</td> <td>London     </td> <td>Judo                </td> <td>Judo Men's Extra-Lightweight                       </td> <td>nan  </td> <td>0     </td>\n",
       "        </tr>\n",
       "        <tr>\n",
       "            <td>6   </td> <td>Per Knut Aaland</td> <td>M   </td> <td>31  </td> <td>188   </td> <td>75    </td> <td>United States</td> <td>USA </td> <td>1992 Winter</td> <td>1992</td> <td>Winter</td> <td>Albertville</td> <td>Cross Country Skiing</td> <td>Cross Country Skiing Men's 10 kilometres           </td> <td>nan  </td> <td>0     </td>\n",
       "        </tr>\n",
       "        <tr>\n",
       "            <td>6   </td> <td>Per Knut Aaland</td> <td>M   </td> <td>31  </td> <td>188   </td> <td>75    </td> <td>United States</td> <td>USA </td> <td>1992 Winter</td> <td>1992</td> <td>Winter</td> <td>Albertville</td> <td>Cross Country Skiing</td> <td>Cross Country Skiing Men's 50 kilometres           </td> <td>nan  </td> <td>0     </td>\n",
       "        </tr>\n",
       "        <tr>\n",
       "            <td>6   </td> <td>Per Knut Aaland</td> <td>M   </td> <td>31  </td> <td>188   </td> <td>75    </td> <td>United States</td> <td>USA </td> <td>1992 Winter</td> <td>1992</td> <td>Winter</td> <td>Albertville</td> <td>Cross Country Skiing</td> <td>Cross Country Skiing Men's 10/15 kilometres Pursuit</td> <td>nan  </td> <td>0     </td>\n",
       "        </tr>\n",
       "        <tr>\n",
       "            <td>6   </td> <td>Per Knut Aaland</td> <td>M   </td> <td>31  </td> <td>188   </td> <td>75    </td> <td>United States</td> <td>USA </td> <td>1992 Winter</td> <td>1992</td> <td>Winter</td> <td>Albertville</td> <td>Cross Country Skiing</td> <td>Cross Country Skiing Men's 4 x 10 kilometres Relay </td> <td>nan  </td> <td>0     </td>\n",
       "        </tr>\n",
       "        <tr>\n",
       "            <td>6   </td> <td>Per Knut Aaland</td> <td>M   </td> <td>33  </td> <td>188   </td> <td>75    </td> <td>United States</td> <td>USA </td> <td>1994 Winter</td> <td>1994</td> <td>Winter</td> <td>Lillehammer</td> <td>Cross Country Skiing</td> <td>Cross Country Skiing Men's 10 kilometres           </td> <td>nan  </td> <td>0     </td>\n",
       "        </tr>\n",
       "        <tr>\n",
       "            <td>6   </td> <td>Per Knut Aaland</td> <td>M   </td> <td>33  </td> <td>188   </td> <td>75    </td> <td>United States</td> <td>USA </td> <td>1994 Winter</td> <td>1994</td> <td>Winter</td> <td>Lillehammer</td> <td>Cross Country Skiing</td> <td>Cross Country Skiing Men's 30 kilometres           </td> <td>nan  </td> <td>0     </td>\n",
       "        </tr>\n",
       "        <tr>\n",
       "            <td>6   </td> <td>Per Knut Aaland</td> <td>M   </td> <td>33  </td> <td>188   </td> <td>75    </td> <td>United States</td> <td>USA </td> <td>1994 Winter</td> <td>1994</td> <td>Winter</td> <td>Lillehammer</td> <td>Cross Country Skiing</td> <td>Cross Country Skiing Men's 10/15 kilometres Pursuit</td> <td>nan  </td> <td>0     </td>\n",
       "        </tr>\n",
       "        <tr>\n",
       "            <td>6   </td> <td>Per Knut Aaland</td> <td>M   </td> <td>33  </td> <td>188   </td> <td>75    </td> <td>United States</td> <td>USA </td> <td>1994 Winter</td> <td>1994</td> <td>Winter</td> <td>Lillehammer</td> <td>Cross Country Skiing</td> <td>Cross Country Skiing Men's 4 x 10 kilometres Relay </td> <td>nan  </td> <td>0     </td>\n",
       "        </tr>\n",
       "    </tbody>\n",
       "</table>\n",
       "<p>... (51213 rows omitted)</p>"
      ],
      "text/plain": [
       "ID   | Name            | Sex  | Age  | Height | Weight | Team          | NOC  | Games       | Year | Season | City        | Sport                | Event                                               | Medal | Points\n",
       "1    | A Dijiang       | M    | 24   | 180    | 80     | China         | CHN  | 1992 Summer | 1992 | Summer | Barcelona   | Basketball           | Basketball Men's Basketball                         | nan   | 0\n",
       "2    | A Lamusi        | M    | 23   | 170    | 60     | China         | CHN  | 2012 Summer | 2012 | Summer | London      | Judo                 | Judo Men's Extra-Lightweight                        | nan   | 0\n",
       "6    | Per Knut Aaland | M    | 31   | 188    | 75     | United States | USA  | 1992 Winter | 1992 | Winter | Albertville | Cross Country Skiing | Cross Country Skiing Men's 10 kilometres            | nan   | 0\n",
       "6    | Per Knut Aaland | M    | 31   | 188    | 75     | United States | USA  | 1992 Winter | 1992 | Winter | Albertville | Cross Country Skiing | Cross Country Skiing Men's 50 kilometres            | nan   | 0\n",
       "6    | Per Knut Aaland | M    | 31   | 188    | 75     | United States | USA  | 1992 Winter | 1992 | Winter | Albertville | Cross Country Skiing | Cross Country Skiing Men's 10/15 kilometres Pursuit | nan   | 0\n",
       "6    | Per Knut Aaland | M    | 31   | 188    | 75     | United States | USA  | 1992 Winter | 1992 | Winter | Albertville | Cross Country Skiing | Cross Country Skiing Men's 4 x 10 kilometres Relay  | nan   | 0\n",
       "6    | Per Knut Aaland | M    | 33   | 188    | 75     | United States | USA  | 1994 Winter | 1994 | Winter | Lillehammer | Cross Country Skiing | Cross Country Skiing Men's 10 kilometres            | nan   | 0\n",
       "6    | Per Knut Aaland | M    | 33   | 188    | 75     | United States | USA  | 1994 Winter | 1994 | Winter | Lillehammer | Cross Country Skiing | Cross Country Skiing Men's 30 kilometres            | nan   | 0\n",
       "6    | Per Knut Aaland | M    | 33   | 188    | 75     | United States | USA  | 1994 Winter | 1994 | Winter | Lillehammer | Cross Country Skiing | Cross Country Skiing Men's 10/15 kilometres Pursuit | nan   | 0\n",
       "6    | Per Knut Aaland | M    | 33   | 188    | 75     | United States | USA  | 1994 Winter | 1994 | Winter | Lillehammer | Cross Country Skiing | Cross Country Skiing Men's 4 x 10 kilometres Relay  | nan   | 0\n",
       "... (51213 rows omitted)"
      ]
     },
     "execution_count": 221,
     "metadata": {},
     "output_type": "execute_result"
    }
   ],
   "source": [
    "# Solution #1\n",
    "countries = data_with_points.where(\"NOC\", are.contained_in(included_countries))\n",
    "countries"
   ]
  },
  {
   "cell_type": "code",
   "execution_count": 222,
   "metadata": {
    "slideshow": {
     "slide_type": "fragment"
    }
   },
   "outputs": [
    {
     "data": {
      "text/html": [
       "<table border=\"1\" class=\"dataframe\">\n",
       "    <thead>\n",
       "        <tr>\n",
       "            <th>NOC</th>\n",
       "        </tr>\n",
       "    </thead>\n",
       "    <tbody>\n",
       "        <tr>\n",
       "            <td>USA </td>\n",
       "        </tr>\n",
       "        <tr>\n",
       "            <td>CHN </td>\n",
       "        </tr>\n",
       "        <tr>\n",
       "            <td>RUS </td>\n",
       "        </tr>\n",
       "        <tr>\n",
       "            <td>GBR </td>\n",
       "        </tr>\n",
       "        <tr>\n",
       "            <td>GER </td>\n",
       "        </tr>\n",
       "    </tbody>\n",
       "</table>"
      ],
      "text/plain": [
       "NOC\n",
       "USA\n",
       "CHN\n",
       "RUS\n",
       "GBR\n",
       "GER"
      ]
     },
     "execution_count": 222,
     "metadata": {},
     "output_type": "execute_result"
    }
   ],
   "source": [
    "# Solution #2 with join\n",
    "inc_countries = Table().with_column(\"NOC\", included_countries)\n",
    "inc_countries"
   ]
  },
  {
   "cell_type": "code",
   "execution_count": 223,
   "metadata": {
    "slideshow": {
     "slide_type": "fragment"
    }
   },
   "outputs": [
    {
     "data": {
      "text/html": [
       "<table border=\"1\" class=\"dataframe\">\n",
       "    <thead>\n",
       "        <tr>\n",
       "            <th>NOC</th> <th>ID</th> <th>Name</th> <th>Sex</th> <th>Age</th> <th>Height</th> <th>Weight</th> <th>Team</th> <th>Games</th> <th>Year</th> <th>Season</th> <th>City</th> <th>Sport</th> <th>Event</th> <th>Medal</th> <th>Points</th>\n",
       "        </tr>\n",
       "    </thead>\n",
       "    <tbody>\n",
       "        <tr>\n",
       "            <td>CHN </td> <td>1   </td> <td>A Dijiang    </td> <td>M   </td> <td>24  </td> <td>180   </td> <td>80    </td> <td>China</td> <td>1992 Summer</td> <td>1992</td> <td>Summer</td> <td>Barcelona     </td> <td>Basketball               </td> <td>Basketball Men's Basketball                    </td> <td>nan   </td> <td>0     </td>\n",
       "        </tr>\n",
       "        <tr>\n",
       "            <td>CHN </td> <td>2   </td> <td>A Lamusi     </td> <td>M   </td> <td>23  </td> <td>170   </td> <td>60    </td> <td>China</td> <td>2012 Summer</td> <td>2012</td> <td>Summer</td> <td>London        </td> <td>Judo                     </td> <td>Judo Men's Extra-Lightweight                   </td> <td>nan   </td> <td>0     </td>\n",
       "        </tr>\n",
       "        <tr>\n",
       "            <td>CHN </td> <td>602 </td> <td>Abudoureheman</td> <td>M   </td> <td>22  </td> <td>182   </td> <td>75    </td> <td>China</td> <td>2000 Summer</td> <td>2000</td> <td>Summer</td> <td>Sydney        </td> <td>Boxing                   </td> <td>Boxing Men's Middleweight                      </td> <td>nan   </td> <td>0     </td>\n",
       "        </tr>\n",
       "        <tr>\n",
       "            <td>CHN </td> <td>1463</td> <td>Ai Linuer    </td> <td>M   </td> <td>25  </td> <td>160   </td> <td>62    </td> <td>China</td> <td>2004 Summer</td> <td>2004</td> <td>Summer</td> <td>Athina        </td> <td>Wrestling                </td> <td>Wrestling Men's Lightweight, Greco-Roman       </td> <td>nan   </td> <td>0     </td>\n",
       "        </tr>\n",
       "        <tr>\n",
       "            <td>CHN </td> <td>1464</td> <td>Ai Yanhan    </td> <td>F   </td> <td>14  </td> <td>168   </td> <td>54    </td> <td>China</td> <td>2016 Summer</td> <td>2016</td> <td>Summer</td> <td>Rio de Janeiro</td> <td>Swimming                 </td> <td>Swimming Women's 200 metres Freestyle          </td> <td>nan   </td> <td>0     </td>\n",
       "        </tr>\n",
       "        <tr>\n",
       "            <td>CHN </td> <td>1464</td> <td>Ai Yanhan    </td> <td>F   </td> <td>14  </td> <td>168   </td> <td>54    </td> <td>China</td> <td>2016 Summer</td> <td>2016</td> <td>Summer</td> <td>Rio de Janeiro</td> <td>Swimming                 </td> <td>Swimming Women's 4 x 200 metres Freestyle Relay</td> <td>nan   </td> <td>0     </td>\n",
       "        </tr>\n",
       "        <tr>\n",
       "            <td>CHN </td> <td>3605</td> <td>An Weijiang  </td> <td>M   </td> <td>22  </td> <td>178   </td> <td>72    </td> <td>China</td> <td>2006 Winter</td> <td>2006</td> <td>Winter</td> <td>Torino        </td> <td>Speed Skating            </td> <td>Speed Skating Men's 500 metres                 </td> <td>nan   </td> <td>0     </td>\n",
       "        </tr>\n",
       "        <tr>\n",
       "            <td>CHN </td> <td>3605</td> <td>An Weijiang  </td> <td>M   </td> <td>22  </td> <td>178   </td> <td>72    </td> <td>China</td> <td>2006 Winter</td> <td>2006</td> <td>Winter</td> <td>Torino        </td> <td>Speed Skating            </td> <td>Speed Skating Men's 1,000 metres               </td> <td>nan   </td> <td>0     </td>\n",
       "        </tr>\n",
       "        <tr>\n",
       "            <td>CHN </td> <td>3610</td> <td>An Yulong    </td> <td>M   </td> <td>19  </td> <td>173   </td> <td>70    </td> <td>China</td> <td>1998 Winter</td> <td>1998</td> <td>Winter</td> <td>Nagano        </td> <td>Short Track Speed Skating</td> <td>Short Track Speed Skating Men's 500 metres     </td> <td>Silver</td> <td>3     </td>\n",
       "        </tr>\n",
       "        <tr>\n",
       "            <td>CHN </td> <td>3610</td> <td>An Yulong    </td> <td>M   </td> <td>19  </td> <td>173   </td> <td>70    </td> <td>China</td> <td>1998 Winter</td> <td>1998</td> <td>Winter</td> <td>Nagano        </td> <td>Short Track Speed Skating</td> <td>Short Track Speed Skating Men's 1,000 metres   </td> <td>nan   </td> <td>0     </td>\n",
       "        </tr>\n",
       "    </tbody>\n",
       "</table>\n",
       "<p>... (51213 rows omitted)</p>"
      ],
      "text/plain": [
       "NOC  | ID   | Name          | Sex  | Age  | Height | Weight | Team  | Games       | Year | Season | City           | Sport                     | Event                                           | Medal  | Points\n",
       "CHN  | 1    | A Dijiang     | M    | 24   | 180    | 80     | China | 1992 Summer | 1992 | Summer | Barcelona      | Basketball                | Basketball Men's Basketball                     | nan    | 0\n",
       "CHN  | 2    | A Lamusi      | M    | 23   | 170    | 60     | China | 2012 Summer | 2012 | Summer | London         | Judo                      | Judo Men's Extra-Lightweight                    | nan    | 0\n",
       "CHN  | 602  | Abudoureheman | M    | 22   | 182    | 75     | China | 2000 Summer | 2000 | Summer | Sydney         | Boxing                    | Boxing Men's Middleweight                       | nan    | 0\n",
       "CHN  | 1463 | Ai Linuer     | M    | 25   | 160    | 62     | China | 2004 Summer | 2004 | Summer | Athina         | Wrestling                 | Wrestling Men's Lightweight, Greco-Roman        | nan    | 0\n",
       "CHN  | 1464 | Ai Yanhan     | F    | 14   | 168    | 54     | China | 2016 Summer | 2016 | Summer | Rio de Janeiro | Swimming                  | Swimming Women's 200 metres Freestyle           | nan    | 0\n",
       "CHN  | 1464 | Ai Yanhan     | F    | 14   | 168    | 54     | China | 2016 Summer | 2016 | Summer | Rio de Janeiro | Swimming                  | Swimming Women's 4 x 200 metres Freestyle Relay | nan    | 0\n",
       "CHN  | 3605 | An Weijiang   | M    | 22   | 178    | 72     | China | 2006 Winter | 2006 | Winter | Torino         | Speed Skating             | Speed Skating Men's 500 metres                  | nan    | 0\n",
       "CHN  | 3605 | An Weijiang   | M    | 22   | 178    | 72     | China | 2006 Winter | 2006 | Winter | Torino         | Speed Skating             | Speed Skating Men's 1,000 metres                | nan    | 0\n",
       "CHN  | 3610 | An Yulong     | M    | 19   | 173    | 70     | China | 1998 Winter | 1998 | Winter | Nagano         | Short Track Speed Skating | Short Track Speed Skating Men's 500 metres      | Silver | 3\n",
       "CHN  | 3610 | An Yulong     | M    | 19   | 173    | 70     | China | 1998 Winter | 1998 | Winter | Nagano         | Short Track Speed Skating | Short Track Speed Skating Men's 1,000 metres    | nan    | 0\n",
       "... (51213 rows omitted)"
      ]
     },
     "execution_count": 223,
     "metadata": {},
     "output_type": "execute_result"
    }
   ],
   "source": [
    "countries = data_with_points.join(\"NOC\", inc_countries)\n",
    "countries"
   ]
  },
  {
   "cell_type": "markdown",
   "metadata": {
    "slideshow": {
     "slide_type": "subslide"
    }
   },
   "source": [
    "Since our data is time-specific, we should make sure that we're keeping it sorted by date."
   ]
  },
  {
   "cell_type": "code",
   "execution_count": 224,
   "metadata": {
    "slideshow": {
     "slide_type": "fragment"
    }
   },
   "outputs": [
    {
     "data": {
      "text/html": [
       "<table border=\"1\" class=\"dataframe\">\n",
       "    <thead>\n",
       "        <tr>\n",
       "            <th>NOC</th> <th>ID</th> <th>Name</th> <th>Sex</th> <th>Age</th> <th>Height</th> <th>Weight</th> <th>Team</th> <th>Games</th> <th>Year</th> <th>Season</th> <th>City</th> <th>Sport</th> <th>Event</th> <th>Medal</th> <th>Points</th>\n",
       "        </tr>\n",
       "    </thead>\n",
       "    <tbody>\n",
       "        <tr>\n",
       "            <td>GBR </td> <td>8620 </td> <td>Edward Battel        </td> <td>M   </td> <td>nan </td> <td>nan   </td> <td>nan   </td> <td>Great Britain        </td> <td>1896 Summer</td> <td>1896</td> <td>Summer</td> <td>Athina</td> <td>Cycling      </td> <td>Cycling Men's Road Race, Individual         </td> <td>Bronze</td> <td>2     </td>\n",
       "        </tr>\n",
       "        <tr>\n",
       "            <td>GBR </td> <td>8620 </td> <td>Edward Battel        </td> <td>M   </td> <td>nan </td> <td>nan   </td> <td>nan   </td> <td>Great Britain        </td> <td>1896 Summer</td> <td>1896</td> <td>Summer</td> <td>Athina</td> <td>Cycling      </td> <td>Cycling Men's 333 metres Time Trial         </td> <td>nan   </td> <td>0     </td>\n",
       "        </tr>\n",
       "        <tr>\n",
       "            <td>GBR </td> <td>8620 </td> <td>Edward Battel        </td> <td>M   </td> <td>nan </td> <td>nan   </td> <td>nan   </td> <td>Great Britain        </td> <td>1896 Summer</td> <td>1896</td> <td>Summer</td> <td>Athina</td> <td>Cycling      </td> <td>Cycling Men's 100 kilometres                </td> <td>nan   </td> <td>0     </td>\n",
       "        </tr>\n",
       "        <tr>\n",
       "            <td>GBR </td> <td>12929</td> <td>John Mary Pius Boland</td> <td>M   </td> <td>25  </td> <td>nan   </td> <td>nan   </td> <td>Great Britain        </td> <td>1896 Summer</td> <td>1896</td> <td>Summer</td> <td>Athina</td> <td>Tennis       </td> <td>Tennis Men's Singles                        </td> <td>Gold  </td> <td>5     </td>\n",
       "        </tr>\n",
       "        <tr>\n",
       "            <td>GBR </td> <td>12929</td> <td>John Mary Pius Boland</td> <td>M   </td> <td>25  </td> <td>nan   </td> <td>nan   </td> <td>Great Britain/Germany</td> <td>1896 Summer</td> <td>1896</td> <td>Summer</td> <td>Athina</td> <td>Tennis       </td> <td>Tennis Men's Doubles                        </td> <td>Gold  </td> <td>5     </td>\n",
       "        </tr>\n",
       "        <tr>\n",
       "            <td>GBR </td> <td>32330</td> <td>Launceston Elliot    </td> <td>M   </td> <td>21  </td> <td>188   </td> <td>102   </td> <td>Great Britain        </td> <td>1896 Summer</td> <td>1896</td> <td>Summer</td> <td>Athina</td> <td>Athletics    </td> <td>Athletics Men's 100 metres                  </td> <td>nan   </td> <td>0     </td>\n",
       "        </tr>\n",
       "        <tr>\n",
       "            <td>GBR </td> <td>32330</td> <td>Launceston Elliot    </td> <td>M   </td> <td>21  </td> <td>188   </td> <td>102   </td> <td>Great Britain        </td> <td>1896 Summer</td> <td>1896</td> <td>Summer</td> <td>Athina</td> <td>Weightlifting</td> <td>Weightlifting Men's Unlimited, One Hand     </td> <td>Gold  </td> <td>5     </td>\n",
       "        </tr>\n",
       "        <tr>\n",
       "            <td>GBR </td> <td>32330</td> <td>Launceston Elliot    </td> <td>M   </td> <td>21  </td> <td>188   </td> <td>102   </td> <td>Great Britain        </td> <td>1896 Summer</td> <td>1896</td> <td>Summer</td> <td>Athina</td> <td>Weightlifting</td> <td>Weightlifting Men's Unlimited, Two Hands    </td> <td>Silver</td> <td>3     </td>\n",
       "        </tr>\n",
       "        <tr>\n",
       "            <td>GBR </td> <td>32330</td> <td>Launceston Elliot    </td> <td>M   </td> <td>21  </td> <td>188   </td> <td>102   </td> <td>Great Britain        </td> <td>1896 Summer</td> <td>1896</td> <td>Summer</td> <td>Athina</td> <td>Wrestling    </td> <td>Wrestling Men's Unlimited Class, Greco-Roman</td> <td>nan   </td> <td>0     </td>\n",
       "        </tr>\n",
       "        <tr>\n",
       "            <td>GBR </td> <td>32330</td> <td>Launceston Elliot    </td> <td>M   </td> <td>21  </td> <td>188   </td> <td>102   </td> <td>Great Britain        </td> <td>1896 Summer</td> <td>1896</td> <td>Summer</td> <td>Athina</td> <td>Gymnastics   </td> <td>Gymnastics Men's Rope Climbing              </td> <td>nan   </td> <td>0     </td>\n",
       "        </tr>\n",
       "    </tbody>\n",
       "</table>\n",
       "<p>... (51213 rows omitted)</p>"
      ],
      "text/plain": [
       "NOC  | ID    | Name                  | Sex  | Age  | Height | Weight | Team                  | Games       | Year | Season | City   | Sport         | Event                                        | Medal  | Points\n",
       "GBR  | 8620  | Edward Battel         | M    | nan  | nan    | nan    | Great Britain         | 1896 Summer | 1896 | Summer | Athina | Cycling       | Cycling Men's Road Race, Individual          | Bronze | 2\n",
       "GBR  | 8620  | Edward Battel         | M    | nan  | nan    | nan    | Great Britain         | 1896 Summer | 1896 | Summer | Athina | Cycling       | Cycling Men's 333 metres Time Trial          | nan    | 0\n",
       "GBR  | 8620  | Edward Battel         | M    | nan  | nan    | nan    | Great Britain         | 1896 Summer | 1896 | Summer | Athina | Cycling       | Cycling Men's 100 kilometres                 | nan    | 0\n",
       "GBR  | 12929 | John Mary Pius Boland | M    | 25   | nan    | nan    | Great Britain         | 1896 Summer | 1896 | Summer | Athina | Tennis        | Tennis Men's Singles                         | Gold   | 5\n",
       "GBR  | 12929 | John Mary Pius Boland | M    | 25   | nan    | nan    | Great Britain/Germany | 1896 Summer | 1896 | Summer | Athina | Tennis        | Tennis Men's Doubles                         | Gold   | 5\n",
       "GBR  | 32330 | Launceston Elliot     | M    | 21   | 188    | 102    | Great Britain         | 1896 Summer | 1896 | Summer | Athina | Athletics     | Athletics Men's 100 metres                   | nan    | 0\n",
       "GBR  | 32330 | Launceston Elliot     | M    | 21   | 188    | 102    | Great Britain         | 1896 Summer | 1896 | Summer | Athina | Weightlifting | Weightlifting Men's Unlimited, One Hand      | Gold   | 5\n",
       "GBR  | 32330 | Launceston Elliot     | M    | 21   | 188    | 102    | Great Britain         | 1896 Summer | 1896 | Summer | Athina | Weightlifting | Weightlifting Men's Unlimited, Two Hands     | Silver | 3\n",
       "GBR  | 32330 | Launceston Elliot     | M    | 21   | 188    | 102    | Great Britain         | 1896 Summer | 1896 | Summer | Athina | Wrestling     | Wrestling Men's Unlimited Class, Greco-Roman | nan    | 0\n",
       "GBR  | 32330 | Launceston Elliot     | M    | 21   | 188    | 102    | Great Britain         | 1896 Summer | 1896 | Summer | Athina | Gymnastics    | Gymnastics Men's Rope Climbing               | nan    | 0\n",
       "... (51213 rows omitted)"
      ]
     },
     "execution_count": 224,
     "metadata": {},
     "output_type": "execute_result"
    }
   ],
   "source": [
    "countries = countries.sort(\"Year\")\n",
    "countries"
   ]
  },
  {
   "cell_type": "markdown",
   "metadata": {
    "slideshow": {
     "slide_type": "subslide"
    }
   },
   "source": [
    "We should also limit our data to just what we want."
   ]
  },
  {
   "cell_type": "code",
   "execution_count": 225,
   "metadata": {
    "slideshow": {
     "slide_type": "fragment"
    }
   },
   "outputs": [
    {
     "data": {
      "text/html": [
       "<table border=\"1\" class=\"dataframe\">\n",
       "    <thead>\n",
       "        <tr>\n",
       "            <th>Year</th> <th>NOC</th> <th>Points</th>\n",
       "        </tr>\n",
       "    </thead>\n",
       "    <tbody>\n",
       "        <tr>\n",
       "            <td>1896</td> <td>GBR </td> <td>2     </td>\n",
       "        </tr>\n",
       "        <tr>\n",
       "            <td>1896</td> <td>GBR </td> <td>0     </td>\n",
       "        </tr>\n",
       "        <tr>\n",
       "            <td>1896</td> <td>GBR </td> <td>0     </td>\n",
       "        </tr>\n",
       "        <tr>\n",
       "            <td>1896</td> <td>GBR </td> <td>5     </td>\n",
       "        </tr>\n",
       "        <tr>\n",
       "            <td>1896</td> <td>GBR </td> <td>5     </td>\n",
       "        </tr>\n",
       "        <tr>\n",
       "            <td>1896</td> <td>GBR </td> <td>0     </td>\n",
       "        </tr>\n",
       "        <tr>\n",
       "            <td>1896</td> <td>GBR </td> <td>5     </td>\n",
       "        </tr>\n",
       "        <tr>\n",
       "            <td>1896</td> <td>GBR </td> <td>3     </td>\n",
       "        </tr>\n",
       "        <tr>\n",
       "            <td>1896</td> <td>GBR </td> <td>0     </td>\n",
       "        </tr>\n",
       "        <tr>\n",
       "            <td>1896</td> <td>GBR </td> <td>0     </td>\n",
       "        </tr>\n",
       "    </tbody>\n",
       "</table>\n",
       "<p>... (51213 rows omitted)</p>"
      ],
      "text/plain": [
       "Year | NOC  | Points\n",
       "1896 | GBR  | 2\n",
       "1896 | GBR  | 0\n",
       "1896 | GBR  | 0\n",
       "1896 | GBR  | 5\n",
       "1896 | GBR  | 5\n",
       "1896 | GBR  | 0\n",
       "1896 | GBR  | 5\n",
       "1896 | GBR  | 3\n",
       "1896 | GBR  | 0\n",
       "1896 | GBR  | 0\n",
       "... (51213 rows omitted)"
      ]
     },
     "execution_count": 225,
     "metadata": {},
     "output_type": "execute_result"
    }
   ],
   "source": [
    "countries = countries.select(\"Year\", \"NOC\", \"Points\")\n",
    "countries"
   ]
  },
  {
   "cell_type": "markdown",
   "metadata": {
    "slideshow": {
     "slide_type": "subslide"
    }
   },
   "source": [
    "Now we get to try out a handy-dandy new method that we learned recently: `.groups`.\n",
    "\n",
    "This takes multiple column names and gives us every unique row of Col_1 and Col_2.\n",
    "\n",
    "For example, let's try out `.groups` on a simple table first."
   ]
  },
  {
   "cell_type": "code",
   "execution_count": 226,
   "metadata": {
    "slideshow": {
     "slide_type": "fragment"
    }
   },
   "outputs": [
    {
     "data": {
      "text/html": [
       "<table border=\"1\" class=\"dataframe\">\n",
       "    <thead>\n",
       "        <tr>\n",
       "            <th>Alph</th> <th>Numb</th> <th>Data</th>\n",
       "        </tr>\n",
       "    </thead>\n",
       "    <tbody>\n",
       "        <tr>\n",
       "            <td>A   </td> <td>1   </td> <td>5.8 </td>\n",
       "        </tr>\n",
       "        <tr>\n",
       "            <td>A   </td> <td>2   </td> <td>2.6 </td>\n",
       "        </tr>\n",
       "        <tr>\n",
       "            <td>A   </td> <td>3   </td> <td>4.4 </td>\n",
       "        </tr>\n",
       "        <tr>\n",
       "            <td>B   </td> <td>4   </td> <td>9.8 </td>\n",
       "        </tr>\n",
       "        <tr>\n",
       "            <td>B   </td> <td>4   </td> <td>10.2</td>\n",
       "        </tr>\n",
       "        <tr>\n",
       "            <td>C   </td> <td>1   </td> <td>4.3 </td>\n",
       "        </tr>\n",
       "    </tbody>\n",
       "</table>"
      ],
      "text/plain": [
       "Alph | Numb | Data\n",
       "A    | 1    | 5.8\n",
       "A    | 2    | 2.6\n",
       "A    | 3    | 4.4\n",
       "B    | 4    | 9.8\n",
       "B    | 4    | 10.2\n",
       "C    | 1    | 4.3"
      ]
     },
     "execution_count": 226,
     "metadata": {},
     "output_type": "execute_result"
    }
   ],
   "source": [
    "tbl = Table().with_columns(\n",
    "    \"Alph\", [\"A\", \"A\", \"A\", \"B\", \"B\", \"C\"],\n",
    "    \"Numb\", [1, 2, 3, 4, 4, 1],\n",
    "    \"Data\", [5.8, 2.6, 4.4, 9.8, 10.2, 4.3]\n",
    ")\n",
    "\n",
    "tbl"
   ]
  },
  {
   "cell_type": "code",
   "execution_count": 231,
   "metadata": {
    "slideshow": {
     "slide_type": "fragment"
    }
   },
   "outputs": [
    {
     "data": {
      "text/html": [
       "<table border=\"1\" class=\"dataframe\">\n",
       "    <thead>\n",
       "        <tr>\n",
       "            <th>Alph</th> <th>Data</th> <th>count</th>\n",
       "        </tr>\n",
       "    </thead>\n",
       "    <tbody>\n",
       "        <tr>\n",
       "            <td>A   </td> <td>2.6 </td> <td>1    </td>\n",
       "        </tr>\n",
       "        <tr>\n",
       "            <td>A   </td> <td>4.4 </td> <td>1    </td>\n",
       "        </tr>\n",
       "        <tr>\n",
       "            <td>A   </td> <td>5.8 </td> <td>1    </td>\n",
       "        </tr>\n",
       "        <tr>\n",
       "            <td>B   </td> <td>9.8 </td> <td>1    </td>\n",
       "        </tr>\n",
       "        <tr>\n",
       "            <td>B   </td> <td>10.2</td> <td>1    </td>\n",
       "        </tr>\n",
       "        <tr>\n",
       "            <td>C   </td> <td>4.3 </td> <td>1    </td>\n",
       "        </tr>\n",
       "    </tbody>\n",
       "</table>"
      ],
      "text/plain": [
       "Alph | Data | count\n",
       "A    | 2.6  | 1\n",
       "A    | 4.4  | 1\n",
       "A    | 5.8  | 1\n",
       "B    | 9.8  | 1\n",
       "B    | 10.2 | 1\n",
       "C    | 4.3  | 1"
      ]
     },
     "execution_count": 231,
     "metadata": {},
     "output_type": "execute_result"
    }
   ],
   "source": [
    "tbl.groups([\"Alph\", \"Data\"])"
   ]
  },
  {
   "cell_type": "markdown",
   "metadata": {
    "slideshow": {
     "slide_type": "subslide"
    }
   },
   "source": [
    "Alrighty, back to our Olympics data!\n",
    "\n",
    "For every year we want every NOC.  So, the columns that we pass into `.groups` should probably be those.\n",
    "\n",
    "For every year and NOC we probably want the total amount of points that country got that year.  What collection function should we use?"
   ]
  },
  {
   "cell_type": "code",
   "execution_count": 232,
   "metadata": {
    "slideshow": {
     "slide_type": "fragment"
    }
   },
   "outputs": [
    {
     "data": {
      "text/html": [
       "<table border=\"1\" class=\"dataframe\">\n",
       "    <thead>\n",
       "        <tr>\n",
       "            <th>NOC</th> <th>Year</th> <th>Points sum</th>\n",
       "        </tr>\n",
       "    </thead>\n",
       "    <tbody>\n",
       "        <tr>\n",
       "            <td>CHN </td> <td>1932</td> <td>0         </td>\n",
       "        </tr>\n",
       "        <tr>\n",
       "            <td>CHN </td> <td>1936</td> <td>0         </td>\n",
       "        </tr>\n",
       "        <tr>\n",
       "            <td>CHN </td> <td>1948</td> <td>0         </td>\n",
       "        </tr>\n",
       "        <tr>\n",
       "            <td>CHN </td> <td>1952</td> <td>0         </td>\n",
       "        </tr>\n",
       "        <tr>\n",
       "            <td>CHN </td> <td>1980</td> <td>0         </td>\n",
       "        </tr>\n",
       "        <tr>\n",
       "            <td>CHN </td> <td>1984</td> <td>233       </td>\n",
       "        </tr>\n",
       "        <tr>\n",
       "            <td>CHN </td> <td>1988</td> <td>138       </td>\n",
       "        </tr>\n",
       "        <tr>\n",
       "            <td>CHN </td> <td>1992</td> <td>272       </td>\n",
       "        </tr>\n",
       "        <tr>\n",
       "            <td>CHN </td> <td>1994</td> <td>7         </td>\n",
       "        </tr>\n",
       "        <tr>\n",
       "            <td>CHN </td> <td>1996</td> <td>339       </td>\n",
       "        </tr>\n",
       "    </tbody>\n",
       "</table>\n",
       "<p>... (122 rows omitted)</p>"
      ],
      "text/plain": [
       "NOC  | Year | Points sum\n",
       "CHN  | 1932 | 0\n",
       "CHN  | 1936 | 0\n",
       "CHN  | 1948 | 0\n",
       "CHN  | 1952 | 0\n",
       "CHN  | 1980 | 0\n",
       "CHN  | 1984 | 233\n",
       "CHN  | 1988 | 138\n",
       "CHN  | 1992 | 272\n",
       "CHN  | 1994 | 7\n",
       "CHN  | 1996 | 339\n",
       "... (122 rows omitted)"
      ]
     },
     "execution_count": 232,
     "metadata": {},
     "output_type": "execute_result"
    }
   ],
   "source": [
    "points = countries.groups([\"NOC\", \"Year\"], sum)\n",
    "points"
   ]
  },
  {
   "cell_type": "markdown",
   "metadata": {
    "slideshow": {
     "slide_type": "subslide"
    }
   },
   "source": [
    "Is there a different/better way to view this table?"
   ]
  },
  {
   "cell_type": "code",
   "execution_count": 233,
   "metadata": {
    "slideshow": {
     "slide_type": "fragment"
    }
   },
   "outputs": [
    {
     "data": {
      "text/html": [
       "<table border=\"1\" class=\"dataframe\">\n",
       "    <thead>\n",
       "        <tr>\n",
       "            <th>Year</th> <th>CHN</th> <th>GBR</th> <th>GER</th> <th>RUS</th> <th>USA</th>\n",
       "        </tr>\n",
       "    </thead>\n",
       "    <tbody>\n",
       "        <tr>\n",
       "            <td>1896</td> <td>0   </td> <td>30  </td> <td>144 </td> <td>0   </td> <td>80  </td>\n",
       "        </tr>\n",
       "        <tr>\n",
       "            <td>1900</td> <td>0   </td> <td>427 </td> <td>152 </td> <td>0   </td> <td>232 </td>\n",
       "        </tr>\n",
       "        <tr>\n",
       "            <td>1904</td> <td>0   </td> <td>8   </td> <td>49  </td> <td>0   </td> <td>1313</td>\n",
       "        </tr>\n",
       "        <tr>\n",
       "            <td>1906</td> <td>0   </td> <td>127 </td> <td>112 </td> <td>0   </td> <td>90  </td>\n",
       "        </tr>\n",
       "        <tr>\n",
       "            <td>1908</td> <td>0   </td> <td>1308</td> <td>65  </td> <td>11  </td> <td>248 </td>\n",
       "        </tr>\n",
       "        <tr>\n",
       "            <td>1912</td> <td>0   </td> <td>545 </td> <td>158 </td> <td>33  </td> <td>377 </td>\n",
       "        </tr>\n",
       "        <tr>\n",
       "            <td>1920</td> <td>0   </td> <td>420 </td> <td>0   </td> <td>0   </td> <td>766 </td>\n",
       "        </tr>\n",
       "        <tr>\n",
       "            <td>1924</td> <td>0   </td> <td>317 </td> <td>0   </td> <td>0   </td> <td>728 </td>\n",
       "        </tr>\n",
       "        <tr>\n",
       "            <td>1928</td> <td>0   </td> <td>166 </td> <td>242 </td> <td>0   </td> <td>393 </td>\n",
       "        </tr>\n",
       "        <tr>\n",
       "            <td>1932</td> <td>0   </td> <td>109 </td> <td>170 </td> <td>0   </td> <td>787 </td>\n",
       "        </tr>\n",
       "    </tbody>\n",
       "</table>\n",
       "<p>... (25 rows omitted)</p>"
      ],
      "text/plain": [
       "Year | CHN  | GBR  | GER  | RUS  | USA\n",
       "1896 | 0    | 30   | 144  | 0    | 80\n",
       "1900 | 0    | 427  | 152  | 0    | 232\n",
       "1904 | 0    | 8    | 49   | 0    | 1313\n",
       "1906 | 0    | 127  | 112  | 0    | 90\n",
       "1908 | 0    | 1308 | 65   | 11   | 248\n",
       "1912 | 0    | 545  | 158  | 33   | 377\n",
       "1920 | 0    | 420  | 0    | 0    | 766\n",
       "1924 | 0    | 317  | 0    | 0    | 728\n",
       "1928 | 0    | 166  | 242  | 0    | 393\n",
       "1932 | 0    | 109  | 170  | 0    | 787\n",
       "... (25 rows omitted)"
      ]
     },
     "execution_count": 233,
     "metadata": {},
     "output_type": "execute_result"
    }
   ],
   "source": [
    "# What if we want a \"Year\" column, and then a column for every NOC?\n",
    "\n",
    "# Then, we want the values to be the total points for that year for that NOC.\n",
    "points = countries.pivot(\"NOC\",\"Year\", \"Points\", sum)\n",
    "points"
   ]
  },
  {
   "cell_type": "markdown",
   "metadata": {
    "slideshow": {
     "slide_type": "subslide"
    }
   },
   "source": [
    "Right, now lets plot this data! We want to plot score for each country over time.\n",
    "\n",
    "What type of plot would work best here—for time-based data?"
   ]
  },
  {
   "cell_type": "code",
   "execution_count": 234,
   "metadata": {
    "slideshow": {
     "slide_type": "fragment"
    }
   },
   "outputs": [
    {
     "data": {
      "image/png": "[encoded data removed]",
      "text/plain": [
       "<Figure size 720x576 with 1 Axes>"
      ]
     },
     "metadata": {
      "needs_background": "light"
     },
     "output_type": "display_data"
    }
   ],
   "source": [
    "points.plot(\"Year\", width=10, height=8)\n",
    "plt.title(\"Olympic Medal Points Over Time by Country\")\n",
    "plt.ylabel(\"Points\");"
   ]
  },
  {
   "cell_type": "markdown",
   "metadata": {
    "slideshow": {
     "slide_type": "subslide"
    }
   },
   "source": [
    "This graph is awfully confusing. A more intuitive way to visualize this is through the cumulative number of points each country has. Now, how do we get the total points *so far* of each country?  Let's move outside of the table for now, and work with numpy a bit."
   ]
  },
  {
   "cell_type": "code",
   "execution_count": 237,
   "metadata": {
    "slideshow": {
     "slide_type": "subslide"
    }
   },
   "outputs": [
    {
     "data": {
      "text/plain": [
       "array([   0,    0,    0,    0,    0,    0,    0,    0,    0,    0,    0,\n",
       "          0,    0,    0,    0,    0,    0,    0,    0,    0,  233,  371,\n",
       "        643,  650,  989, 1026, 1324, 1367, 1738, 1775, 2418, 2486, 2944,\n",
       "       2981, 3375], dtype=int32)"
      ]
     },
     "execution_count": 237,
     "metadata": {},
     "output_type": "execute_result"
    }
   ],
   "source": [
    "# Let's get the total points so far for each year for China.\n",
    "np.cumsum(points.column(\"CHN\"))"
   ]
  },
  {
   "cell_type": "markdown",
   "metadata": {
    "slideshow": {
     "slide_type": "fragment"
    }
   },
   "source": [
    "So, let's replace each column in our table with the cumulative sum data like we just calculated!"
   ]
  },
  {
   "cell_type": "code",
   "execution_count": 238,
   "metadata": {
    "slideshow": {
     "slide_type": "subslide"
    }
   },
   "outputs": [],
   "source": [
    "chn = np.cumsum(points.column(\"CHN\"))\n",
    "usa = np.cumsum(points.column(\"USA\"))\n",
    "rus = np.cumsum(points.column(\"RUS\"))\n",
    "gbr = np.cumsum(points.column(\"GBR\"))\n",
    "ger = np.cumsum(points.column(\"GER\"))"
   ]
  },
  {
   "cell_type": "code",
   "execution_count": 239,
   "metadata": {
    "slideshow": {
     "slide_type": "fragment"
    }
   },
   "outputs": [
    {
     "data": {
      "text/html": [
       "<table border=\"1\" class=\"dataframe\">\n",
       "    <thead>\n",
       "        <tr>\n",
       "            <th>Year</th> <th>CHN</th> <th>GBR</th> <th>GER</th> <th>RUS</th> <th>USA</th>\n",
       "        </tr>\n",
       "    </thead>\n",
       "    <tbody>\n",
       "        <tr>\n",
       "            <td>1896</td> <td>0   </td> <td>30  </td> <td>144 </td> <td>0   </td> <td>80  </td>\n",
       "        </tr>\n",
       "        <tr>\n",
       "            <td>1900</td> <td>0   </td> <td>457 </td> <td>296 </td> <td>0   </td> <td>312 </td>\n",
       "        </tr>\n",
       "        <tr>\n",
       "            <td>1904</td> <td>0   </td> <td>465 </td> <td>345 </td> <td>0   </td> <td>1625</td>\n",
       "        </tr>\n",
       "        <tr>\n",
       "            <td>1906</td> <td>0   </td> <td>592 </td> <td>457 </td> <td>0   </td> <td>1715</td>\n",
       "        </tr>\n",
       "        <tr>\n",
       "            <td>1908</td> <td>0   </td> <td>1900</td> <td>522 </td> <td>11  </td> <td>1963</td>\n",
       "        </tr>\n",
       "        <tr>\n",
       "            <td>1912</td> <td>0   </td> <td>2445</td> <td>680 </td> <td>44  </td> <td>2340</td>\n",
       "        </tr>\n",
       "        <tr>\n",
       "            <td>1920</td> <td>0   </td> <td>2865</td> <td>680 </td> <td>44  </td> <td>3106</td>\n",
       "        </tr>\n",
       "        <tr>\n",
       "            <td>1924</td> <td>0   </td> <td>3182</td> <td>680 </td> <td>44  </td> <td>3834</td>\n",
       "        </tr>\n",
       "        <tr>\n",
       "            <td>1928</td> <td>0   </td> <td>3348</td> <td>922 </td> <td>44  </td> <td>4227</td>\n",
       "        </tr>\n",
       "        <tr>\n",
       "            <td>1932</td> <td>0   </td> <td>3457</td> <td>1092</td> <td>44  </td> <td>5014</td>\n",
       "        </tr>\n",
       "    </tbody>\n",
       "</table>\n",
       "<p>... (25 rows omitted)</p>"
      ],
      "text/plain": [
       "Year | CHN  | GBR  | GER  | RUS  | USA\n",
       "1896 | 0    | 30   | 144  | 0    | 80\n",
       "1900 | 0    | 457  | 296  | 0    | 312\n",
       "1904 | 0    | 465  | 345  | 0    | 1625\n",
       "1906 | 0    | 592  | 457  | 0    | 1715\n",
       "1908 | 0    | 1900 | 522  | 11   | 1963\n",
       "1912 | 0    | 2445 | 680  | 44   | 2340\n",
       "1920 | 0    | 2865 | 680  | 44   | 3106\n",
       "1924 | 0    | 3182 | 680  | 44   | 3834\n",
       "1928 | 0    | 3348 | 922  | 44   | 4227\n",
       "1932 | 0    | 3457 | 1092 | 44   | 5014\n",
       "... (25 rows omitted)"
      ]
     },
     "execution_count": 239,
     "metadata": {},
     "output_type": "execute_result"
    }
   ],
   "source": [
    "cumulative_points = points.with_columns([\n",
    "    \"CHN\", chn,\n",
    "    \"USA\", usa,\n",
    "    \"RUS\", rus,\n",
    "    \"GBR\", gbr,\n",
    "    \"GER\", ger\n",
    "])\n",
    "\n",
    "cumulative_points"
   ]
  },
  {
   "cell_type": "markdown",
   "metadata": {
    "slideshow": {
     "slide_type": "subslide"
    }
   },
   "source": [
    "## Can we rewrite this with a for loop (hint: yes)"
   ]
  },
  {
   "cell_type": "code",
   "execution_count": 247,
   "metadata": {
    "slideshow": {
     "slide_type": "fragment"
    }
   },
   "outputs": [
    {
     "data": {
      "text/html": [
       "<table border=\"1\" class=\"dataframe\">\n",
       "    <thead>\n",
       "        <tr>\n",
       "            <th>Year</th> <th>USA</th> <th>CHN</th> <th>RUS</th> <th>GBR</th> <th>GER</th>\n",
       "        </tr>\n",
       "    </thead>\n",
       "    <tbody>\n",
       "        <tr>\n",
       "            <td>1896</td> <td>80  </td> <td>0   </td> <td>0   </td> <td>30  </td> <td>144 </td>\n",
       "        </tr>\n",
       "        <tr>\n",
       "            <td>1900</td> <td>312 </td> <td>0   </td> <td>0   </td> <td>457 </td> <td>296 </td>\n",
       "        </tr>\n",
       "        <tr>\n",
       "            <td>1904</td> <td>1625</td> <td>0   </td> <td>0   </td> <td>465 </td> <td>345 </td>\n",
       "        </tr>\n",
       "        <tr>\n",
       "            <td>1906</td> <td>1715</td> <td>0   </td> <td>0   </td> <td>592 </td> <td>457 </td>\n",
       "        </tr>\n",
       "        <tr>\n",
       "            <td>1908</td> <td>1963</td> <td>0   </td> <td>11  </td> <td>1900</td> <td>522 </td>\n",
       "        </tr>\n",
       "        <tr>\n",
       "            <td>1912</td> <td>2340</td> <td>0   </td> <td>44  </td> <td>2445</td> <td>680 </td>\n",
       "        </tr>\n",
       "        <tr>\n",
       "            <td>1920</td> <td>3106</td> <td>0   </td> <td>44  </td> <td>2865</td> <td>680 </td>\n",
       "        </tr>\n",
       "        <tr>\n",
       "            <td>1924</td> <td>3834</td> <td>0   </td> <td>44  </td> <td>3182</td> <td>680 </td>\n",
       "        </tr>\n",
       "        <tr>\n",
       "            <td>1928</td> <td>4227</td> <td>0   </td> <td>44  </td> <td>3348</td> <td>922 </td>\n",
       "        </tr>\n",
       "        <tr>\n",
       "            <td>1932</td> <td>5014</td> <td>0   </td> <td>44  </td> <td>3457</td> <td>1092</td>\n",
       "        </tr>\n",
       "    </tbody>\n",
       "</table>\n",
       "<p>... (25 rows omitted)</p>"
      ],
      "text/plain": [
       "Year | USA  | CHN  | RUS  | GBR  | GER\n",
       "1896 | 80   | 0    | 0    | 30   | 144\n",
       "1900 | 312  | 0    | 0    | 457  | 296\n",
       "1904 | 1625 | 0    | 0    | 465  | 345\n",
       "1906 | 1715 | 0    | 0    | 592  | 457\n",
       "1908 | 1963 | 0    | 11   | 1900 | 522\n",
       "1912 | 2340 | 0    | 44   | 2445 | 680\n",
       "1920 | 3106 | 0    | 44   | 2865 | 680\n",
       "1924 | 3834 | 0    | 44   | 3182 | 680\n",
       "1928 | 4227 | 0    | 44   | 3348 | 922\n",
       "1932 | 5014 | 0    | 44   | 3457 | 1092\n",
       "... (25 rows omitted)"
      ]
     },
     "execution_count": 247,
     "metadata": {},
     "output_type": "execute_result"
    }
   ],
   "source": [
    "cumulative_points = Table().with_column(\"Year\", points.column(\"Year\"))\n",
    "for country in included_countries:\n",
    "#     print(country)\n",
    "    cumulative_points = cumulative_points.with_column(country, np.cumsum(points.column(country)))\n",
    "#     print(cumulative_points)\n",
    "#     print(\"-----------------------\")\n",
    "cumulative_points"
   ]
  },
  {
   "cell_type": "markdown",
   "metadata": {
    "slideshow": {
     "slide_type": "subslide"
    }
   },
   "source": [
    "This brings us to the final plot of the notebook:"
   ]
  },
  {
   "cell_type": "code",
   "execution_count": 246,
   "metadata": {
    "slideshow": {
     "slide_type": "fragment"
    }
   },
   "outputs": [
    {
     "data": {
      "image/png": "[encoded data removed]",
      "text/plain": [
       "<Figure size 720x576 with 1 Axes>"
      ]
     },
     "metadata": {
      "needs_background": "light"
     },
     "output_type": "display_data"
    }
   ],
   "source": [
    "cumulative_points.plot(\"Year\", width=10, height=8)\n",
    "plt.title(\"Cumulative Olympic Medal Points Over Time by Country\")\n",
    "plt.ylabel(\"Points\");"
   ]
  }
 ],
 "metadata": {
  "celltoolbar": "Slideshow",
  "kernelspec": {
   "display_name": "Python 3",
   "language": "python",
   "name": "python3"
  },
  "language_info": {
   "codemirror_mode": {
    "name": "ipython",
    "version": 3
   },
   "file_extension": ".py",
   "mimetype": "text/x-python",
   "name": "python",
   "nbconvert_exporter": "python",
   "pygments_lexer": "ipython3",
   "version": "3.6.7"
  }
 },
 "nbformat": 4,
 "nbformat_minor": 2
}
