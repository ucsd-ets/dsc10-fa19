{
 "cells": [
  {
   "cell_type": "markdown",
   "metadata": {
    "slideshow": {
     "slide_type": "slide"
    }
   },
   "source": [
    "# Hypothesis Testing, A/B Testing\n",
    "---\n",
    "\n",
    "Tonight we'll be conducting our own A/B test and extracting useful business insights!"
   ]
  },
  {
   "cell_type": "code",
   "execution_count": 2,
   "metadata": {
    "slideshow": {
     "slide_type": "skip"
    }
   },
   "outputs": [
    {
     "data": {
      "text/plain": [
       "{'width': 1500, 'height': 500, 'scroll': True}"
      ]
     },
     "execution_count": 2,
     "metadata": {},
     "output_type": "execute_result"
    }
   ],
   "source": [
    "from datascience import *\n",
    "import numpy as np\n",
    "import matplotlib.pyplot as plt\n",
    "%matplotlib inline\n",
    "\n",
    "from notebook.services.config import ConfigManager\n",
    "\n",
    "cm = ConfigManager()\n",
    "cm.update(\n",
    "   \"livereveal\", {\n",
    "       'width': 1500,\n",
    "       'height': 500,\n",
    "       \"scroll\": True,\n",
    "})"
   ]
  },
  {
   "cell_type": "markdown",
   "metadata": {
    "slideshow": {
     "slide_type": "subslide"
    }
   },
   "source": [
    "You've just been hired as the Chief Data Scientist for CALPIRG.  You're being tasked with helping the UX (user experience) team tweak your website to try to get more people to pledge to Save the Bees™.  Here are the two strategies the team has come up with:\n",
    "1. Have a pledge button and call-to-action on just the main page of the site\n",
    "2. Have a popup with the pledge button and call-to-action whenever you visit the site\n",
    "\n",
    "As a data scientist, it is your job to see which method is more effective at driving pledges (we'll simply call them \"clicks\").  It is also your job to create a compelling argument to convince CALPIRG to act in accordance to your findings.\n",
    "\n",
    "Ready?  Let's begin."
   ]
  },
  {
   "cell_type": "markdown",
   "metadata": {
    "slideshow": {
     "slide_type": "slide"
    }
   },
   "source": [
    "# Step 0: Why do we do hypothesis testing?\n",
    "---\n",
    "\n",
    "Simply comparing the average of the two groups has a lot of room for error.\n",
    "\n",
    "Have you ever heard of a difference being \"*statistically significant*\"?  We don't just want to see if there's a difference—we want to know if that difference is caused by something, or if it's even a significant difference in the first place!\n",
    "\n",
    "We're able to determine if something is significant or not by hypothesis testing.\n",
    "\n",
    "Hypothesis testing helps with the following:\n",
    "* Figuring out the differences between two measurements when we're looking at a **sample** instead of the population\n",
    "* Figuring out if a difference could have happened by random chance\n",
    "* Establishing **causation** if we conducted an experiment"
   ]
  },
  {
   "cell_type": "markdown",
   "metadata": {
    "slideshow": {
     "slide_type": "slide"
    }
   },
   "source": [
    "# Step 1: Choosing our hypotheses\n",
    "---\n",
    "Recall, when conducting a hypothesis test we generate two hypotheses:\n",
    "\n",
    "### The Null Hypothesis (H<sub>0</sub>):\n",
    "States that nothing really changed.  Technically, it states that both of the samples came from the same population.\n",
    "\n",
    "### The Alternative Hypothesis (H<sub>A</sub>):\n",
    "States that there is a difference between the two distributions from which the samples were taken."
   ]
  },
  {
   "cell_type": "markdown",
   "metadata": {
    "slideshow": {
     "slide_type": "subslide"
    }
   },
   "source": [
    "### Alright, let's create our two hypotheses together\n",
    "\n",
    "Reminder: Our proposed change is to add a pop up window any time a user visits a page with a pledge button and a call for action. These things are currently only on the main page in a non popup format."
   ]
  },
  {
   "cell_type": "raw",
   "metadata": {
    "slideshow": {
     "slide_type": "fragment"
    }
   },
   "source": [
    "Null Hypothesis:\n",
    "\n",
    "Alternative Hypothesis:"
   ]
  },
  {
   "cell_type": "markdown",
   "metadata": {
    "slideshow": {
     "slide_type": "subslide"
    }
   },
   "source": [
    "# It's important to be specific when working with statistics."
   ]
  },
  {
   "cell_type": "markdown",
   "metadata": {
    "slideshow": {
     "slide_type": "fragment"
    }
   },
   "source": [
    "# Similar (more mathmatical) hypotheses:"
   ]
  },
  {
   "cell_type": "markdown",
   "metadata": {
    "slideshow": {
     "slide_type": "slide"
    }
   },
   "source": [
    "# Step 2: Setting up the experiment\n",
    "---\n",
    "\n",
    "Now we need to figure out how to test this (and how to measure the results).\n",
    "\n",
    "Since we are scientists, after all, it is important that we follow some rules when conducting experiements:\n",
    "- The experiment must be controlled\n",
    "- The experiment must have a treatment and control group\n",
    "- The experiment must not be harmful\n",
    "- The experiment must produce results that can evaluate a hypothesis\n",
    "- The results must be reproducible (the experiment must be able to be repeated)\n",
    "\n",
    "Well, I hope we're not harming anyone by showing them a few popups.  As for fulfilling the rest of the requirements, what do you think is a good way to create our experiment?"
   ]
  },
  {
   "cell_type": "markdown",
   "metadata": {
    "slideshow": {
     "slide_type": "subslide"
    }
   },
   "source": [
    "Our experiment is a Random Controlled Trial (RCT), as opposed to an Observational Study.  What does this mean we can conclude from the results of the experiment?"
   ]
  },
  {
   "cell_type": "markdown",
   "metadata": {
    "slideshow": {
     "slide_type": "slide"
    }
   },
   "source": [
    "# Step 3: Execute the experiment\n",
    "---\n",
    "\n",
    "Now we implement this experiment in the code for the website.  We need to make sure to record the results!\n",
    "\n",
    "We received 1000 visitors over the last week, and kept track of which group they were in and whether they pledged.\n",
    "\n",
    "`0 = Did not pledge; 1 = Pledged`"
   ]
  },
  {
   "cell_type": "code",
   "execution_count": 75,
   "metadata": {
    "slideshow": {
     "slide_type": "subslide"
    }
   },
   "outputs": [],
   "source": [
    "data = Table.read_table(\"popup-test.csv\")"
   ]
  },
  {
   "cell_type": "code",
   "execution_count": 76,
   "metadata": {
    "slideshow": {
     "slide_type": "fragment"
    }
   },
   "outputs": [
    {
     "data": {
      "text/html": [
       "<table border=\"1\" class=\"dataframe\">\n",
       "    <thead>\n",
       "        <tr>\n",
       "            <th>Group</th> <th>Click</th>\n",
       "        </tr>\n",
       "    </thead>\n",
       "    <tbody>\n",
       "        <tr>\n",
       "            <td>Control  </td> <td>1    </td>\n",
       "        </tr>\n",
       "        <tr>\n",
       "            <td>Treatment</td> <td>0    </td>\n",
       "        </tr>\n",
       "        <tr>\n",
       "            <td>Control  </td> <td>0    </td>\n",
       "        </tr>\n",
       "        <tr>\n",
       "            <td>Control  </td> <td>1    </td>\n",
       "        </tr>\n",
       "        <tr>\n",
       "            <td>Treatment</td> <td>0    </td>\n",
       "        </tr>\n",
       "        <tr>\n",
       "            <td>Control  </td> <td>0    </td>\n",
       "        </tr>\n",
       "        <tr>\n",
       "            <td>Control  </td> <td>0    </td>\n",
       "        </tr>\n",
       "        <tr>\n",
       "            <td>Treatment</td> <td>1    </td>\n",
       "        </tr>\n",
       "        <tr>\n",
       "            <td>Control  </td> <td>1    </td>\n",
       "        </tr>\n",
       "        <tr>\n",
       "            <td>Control  </td> <td>1    </td>\n",
       "        </tr>\n",
       "    </tbody>\n",
       "</table>\n",
       "<p>... (990 rows omitted)</p>"
      ],
      "text/plain": [
       "Group     | Click\n",
       "Control   | 1\n",
       "Treatment | 0\n",
       "Control   | 0\n",
       "Control   | 1\n",
       "Treatment | 0\n",
       "Control   | 0\n",
       "Control   | 0\n",
       "Treatment | 1\n",
       "Control   | 1\n",
       "Control   | 1\n",
       "... (990 rows omitted)"
      ]
     },
     "execution_count": 76,
     "metadata": {},
     "output_type": "execute_result"
    }
   ],
   "source": [
    "data"
   ]
  },
  {
   "cell_type": "markdown",
   "metadata": {
    "slideshow": {
     "slide_type": "subslide"
    }
   },
   "source": [
    "# Is this the population?"
   ]
  },
  {
   "cell_type": "markdown",
   "metadata": {
    "slideshow": {
     "slide_type": "slide"
    }
   },
   "source": [
    "# Step 4: Test the null hypothesis\n",
    "---\n",
    "\n",
    "Let's establish something thing before we go any further:\n",
    "- What is the statistic we are trying to test for?"
   ]
  },
  {
   "cell_type": "markdown",
   "metadata": {
    "slideshow": {
     "slide_type": "fragment"
    }
   },
   "source": [
    "Looking for the difference in click rate (proportion pledged). Can be calculated with mean due to 0 and 1 encoding.\n",
    "Let's be specific: difference = {treatment click rate} - {control click rate}"
   ]
  },
  {
   "cell_type": "code",
   "execution_count": 77,
   "metadata": {
    "slideshow": {
     "slide_type": "subslide"
    }
   },
   "outputs": [
    {
     "data": {
      "text/html": [
       "<table border=\"1\" class=\"dataframe\">\n",
       "    <thead>\n",
       "        <tr>\n",
       "            <th>Group</th> <th>Click sum</th>\n",
       "        </tr>\n",
       "    </thead>\n",
       "    <tbody>\n",
       "        <tr>\n",
       "            <td>Control  </td> <td>160      </td>\n",
       "        </tr>\n",
       "        <tr>\n",
       "            <td>Treatment</td> <td>197      </td>\n",
       "        </tr>\n",
       "    </tbody>\n",
       "</table>"
      ],
      "text/plain": [
       "Group     | Click sum\n",
       "Control   | 160\n",
       "Treatment | 197"
      ]
     },
     "execution_count": 77,
     "metadata": {},
     "output_type": "execute_result"
    }
   ],
   "source": [
    "# Let's find that difference from our sample above\n",
    "clicks = data.group(\"Group\", sum)\n",
    "clicks"
   ]
  },
  {
   "cell_type": "code",
   "execution_count": 78,
   "metadata": {
    "slideshow": {
     "slide_type": "fragment"
    }
   },
   "outputs": [
    {
     "data": {
      "text/html": [
       "<table border=\"1\" class=\"dataframe\">\n",
       "    <thead>\n",
       "        <tr>\n",
       "            <th>Group</th> <th>count</th>\n",
       "        </tr>\n",
       "    </thead>\n",
       "    <tbody>\n",
       "        <tr>\n",
       "            <td>Control  </td> <td>476  </td>\n",
       "        </tr>\n",
       "        <tr>\n",
       "            <td>Treatment</td> <td>524  </td>\n",
       "        </tr>\n",
       "    </tbody>\n",
       "</table>"
      ],
      "text/plain": [
       "Group     | count\n",
       "Control   | 476\n",
       "Treatment | 524"
      ]
     },
     "execution_count": 78,
     "metadata": {},
     "output_type": "execute_result"
    }
   ],
   "source": [
    "groups = data.group(\"Group\")\n",
    "groups"
   ]
  },
  {
   "cell_type": "code",
   "execution_count": 79,
   "metadata": {
    "slideshow": {
     "slide_type": "subslide"
    }
   },
   "outputs": [
    {
     "data": {
      "text/html": [
       "<table border=\"1\" class=\"dataframe\">\n",
       "    <thead>\n",
       "        <tr>\n",
       "            <th>Group</th> <th>Rate</th>\n",
       "        </tr>\n",
       "    </thead>\n",
       "    <tbody>\n",
       "        <tr>\n",
       "            <td>Control  </td> <td>0.336134</td>\n",
       "        </tr>\n",
       "        <tr>\n",
       "            <td>Treatment</td> <td>0.375954</td>\n",
       "        </tr>\n",
       "    </tbody>\n",
       "</table>"
      ],
      "text/plain": [
       "Group     | Rate\n",
       "Control   | 0.336134\n",
       "Treatment | 0.375954"
      ]
     },
     "execution_count": 79,
     "metadata": {},
     "output_type": "execute_result"
    }
   ],
   "source": [
    "click_rates = Table().with_columns(\n",
    "    \"Group\", [\"Control\", \"Treatment\"],\n",
    "    \"Rate\", clicks.column(\"Click sum\") / groups.column(\"count\")\n",
    ")\n",
    "click_rates"
   ]
  },
  {
   "cell_type": "code",
   "execution_count": 80,
   "metadata": {
    "slideshow": {
     "slide_type": "fragment"
    }
   },
   "outputs": [
    {
     "data": {
      "text/html": [
       "<table border=\"1\" class=\"dataframe\">\n",
       "    <thead>\n",
       "        <tr>\n",
       "            <th>Group</th> <th>Click mean</th>\n",
       "        </tr>\n",
       "    </thead>\n",
       "    <tbody>\n",
       "        <tr>\n",
       "            <td>Control  </td> <td>0.336134  </td>\n",
       "        </tr>\n",
       "        <tr>\n",
       "            <td>Treatment</td> <td>0.375954  </td>\n",
       "        </tr>\n",
       "    </tbody>\n",
       "</table>"
      ],
      "text/plain": [
       "Group     | Click mean\n",
       "Control   | 0.336134\n",
       "Treatment | 0.375954"
      ]
     },
     "execution_count": 80,
     "metadata": {},
     "output_type": "execute_result"
    }
   ],
   "source": [
    "data.group(\"Group\", np.mean)"
   ]
  },
  {
   "cell_type": "code",
   "execution_count": 81,
   "metadata": {
    "slideshow": {
     "slide_type": "subslide"
    }
   },
   "outputs": [
    {
     "data": {
      "text/plain": [
       "0.0398197446917698"
      ]
     },
     "execution_count": 81,
     "metadata": {},
     "output_type": "execute_result"
    }
   ],
   "source": [
    "rates = click_rates.column(\"Rate\")\n",
    "observed_diff = rates.item(1) - rates.item(0)\n",
    "observed_diff"
   ]
  },
  {
   "cell_type": "markdown",
   "metadata": {
    "slideshow": {
     "slide_type": "fragment"
    }
   },
   "source": [
    "## Is this a big difference? What does it suggest about our null and alternative hypothesis?"
   ]
  },
  {
   "cell_type": "markdown",
   "metadata": {
    "slideshow": {
     "slide_type": "subslide"
    }
   },
   "source": [
    "## Our next step is figure out how likely it is to observe that distance or greater.\n",
    "---\n",
    "### Why \"that distance or greater\"?  Why not \"that distance\"?"
   ]
  },
  {
   "cell_type": "markdown",
   "metadata": {
    "slideshow": {
     "slide_type": "subslide"
    }
   },
   "source": [
    "### A bit more detail into testing the null hypothesis\n",
    "\n",
    "What is the null hypothesis?\n",
    "\n",
    "> The popup has no effect.  The click rate for visitors who get the popup and for visitors who don't come **from the same population**.\n",
    "\n",
    "Recall, when we run a hypothesis test we are **trying to reject the null hypothesis**.  How would we do that?"
   ]
  },
  {
   "cell_type": "markdown",
   "metadata": {
    "slideshow": {
     "slide_type": "subslide"
    }
   },
   "source": [
    "# How should we design our hypothesis test?"
   ]
  },
  {
   "cell_type": "code",
   "execution_count": 86,
   "metadata": {
    "slideshow": {
     "slide_type": "subslide"
    }
   },
   "outputs": [],
   "source": [
    "# Let's conduct the permutation test\n",
    "trials = 10000\n",
    "differences = make_array()\n",
    "\n",
    "for i in range(trials):\n",
    "    # We choose one of the columns, either the Group or the Click, to shuffle\n",
    "    shuffled_groups = data.sample(with_replacement=False).column(\"Group\")\n",
    "    \n",
    "    # Then we match it back up with our other column\n",
    "    shuffled_data = Table().with_columns(\n",
    "        \"Group\", shuffled_groups,\n",
    "        \"Click\", data.column(\"Click\")\n",
    "    )\n",
    "    \n",
    "    # Now, we see what differences we get after shuffling\n",
    "    click_rates = shuffled_data.group(\"Group\", np.mean).column(\"Click mean\")\n",
    "    \n",
    "    difference = click_rates.item(1) - click_rates.item(0)\n",
    "    \n",
    "    differences = np.append(differences, difference)"
   ]
  },
  {
   "cell_type": "code",
   "execution_count": 87,
   "metadata": {
    "scrolled": true,
    "slideshow": {
     "slide_type": "subslide"
    }
   },
   "outputs": [
    {
     "data": {
      "text/plain": [
       "(array([ 0.01977356,  0.02779203,  0.0237828 ,  0.03180127, -0.06041119,\n",
       "         0.0237828 , -0.00428187,  0.04783822, -0.03635576,  0.01175508]),\n",
       " 10000)"
      ]
     },
     "execution_count": 87,
     "metadata": {},
     "output_type": "execute_result"
    }
   ],
   "source": [
    "differences[:10], len(differences)"
   ]
  },
  {
   "cell_type": "code",
   "execution_count": 106,
   "metadata": {
    "slideshow": {
     "slide_type": "subslide"
    }
   },
   "outputs": [
    {
     "data": {
      "image/png": "[encoded data removed]",
      "text/plain": [
       "<Figure size 432x288 with 1 Axes>"
      ]
     },
     "metadata": {
      "needs_background": "light"
     },
     "output_type": "display_data"
    }
   ],
   "source": [
    "# Let's visualize the distribution of differences\n",
    "Table().with_column(\"Difference\", differences).hist()\n",
    "\n",
    "# Where does our observed difference land?\n",
    "plt.axvline(observed_diff, c='r');"
   ]
  },
  {
   "cell_type": "code",
   "execution_count": 92,
   "metadata": {
    "slideshow": {
     "slide_type": "subslide"
    }
   },
   "outputs": [
    {
     "data": {
      "text/plain": [
       "0.1062"
      ]
     },
     "execution_count": 92,
     "metadata": {},
     "output_type": "execute_result"
    }
   ],
   "source": [
    "# What's the p value chance of a difference geq the observed difference occurring?\n",
    "p = np.count_nonzero(differences >= observed_diff) / len(differences)\n",
    "p"
   ]
  },
  {
   "cell_type": "markdown",
   "metadata": {
    "slideshow": {
     "slide_type": "fragment"
    }
   },
   "source": [
    "# It seems like the 4% difference is a not enough to declare that the popups will increase click rate!"
   ]
  },
  {
   "cell_type": "markdown",
   "metadata": {
    "slideshow": {
     "slide_type": "fragment"
    }
   },
   "source": [
    "## The above is testing if there is an increase in clicks due to the change, how would we change the line of code above to be testing for any change in clicks (either increase or decrease)?"
   ]
  },
  {
   "cell_type": "markdown",
   "metadata": {
    "slideshow": {
     "slide_type": "slide"
    }
   },
   "source": [
    "### Another type of test\n",
    "Let's say that we know the average click rate for visitors is 0.4.  Then, we can test the null hypothesis by simulation as opposed to permutation."
   ]
  },
  {
   "cell_type": "code",
   "execution_count": 95,
   "metadata": {
    "slideshow": {
     "slide_type": "subslide"
    }
   },
   "outputs": [],
   "source": [
    "trials = 1000\n",
    "visitors = 1000\n",
    "differences = []\n",
    "\n",
    "for i in range(trials):\n",
    "    d = {\"Control\": {\"visitors\": 0, \"clicks\": 0}, \"Treatment\": {\"visitors\": 0, \"clicks\": 0}}\n",
    "    \n",
    "    for visitor in range(visitors):\n",
    "        # 50% chance of being in treatment\n",
    "        group = np.random.choice([\"Treatment\", \"Control\"])\n",
    "\n",
    "        # 40% chance of clicking\n",
    "        click = np.random.choice([1, 0], p=[0.4, 0.6])\n",
    "        \n",
    "        d[group][\"visitors\"] += 1\n",
    "        d[group][\"clicks\"] += click\n",
    "        \n",
    "    rate_control = d[\"Control\"][\"clicks\"] / d[\"Control\"][\"visitors\"]\n",
    "    rate_treatment = d[\"Treatment\"][\"clicks\"] / d[\"Treatment\"][\"visitors\"]\n",
    "    difference = rate_treatment - rate_control\n",
    "    \n",
    "    differences.append(difference)"
   ]
  },
  {
   "cell_type": "code",
   "execution_count": 105,
   "metadata": {
    "slideshow": {
     "slide_type": "subslide"
    }
   },
   "outputs": [
    {
     "data": {
      "image/png": "[encoded data removed]",
      "text/plain": [
       "<Figure size 432x288 with 1 Axes>"
      ]
     },
     "metadata": {
      "needs_background": "light"
     },
     "output_type": "display_data"
    }
   ],
   "source": [
    "# Visualize again\n",
    "Table().with_column(\"Difference\", differences).hist()\n",
    "plt.axvline(observed_diff, c='r');"
   ]
  },
  {
   "cell_type": "code",
   "execution_count": 99,
   "metadata": {
    "slideshow": {
     "slide_type": "fragment"
    }
   },
   "outputs": [
    {
     "data": {
      "text/plain": [
       "0.108"
      ]
     },
     "execution_count": 99,
     "metadata": {},
     "output_type": "execute_result"
    }
   ],
   "source": [
    "# p-value\n",
    "p = np.count_nonzero(np.array(differences) >= observed_diff) / len(differences)\n",
    "p"
   ]
  },
  {
   "cell_type": "markdown",
   "metadata": {
    "slideshow": {
     "slide_type": "slide"
    }
   },
   "source": [
    "# Step 5: Interpret the results\n",
    "---\n",
    "\n",
    "In order to interpret the results, and figure out whether or not the observed difference was statistically significant, we need to set a significance level, **<code>&alpha;</code>**.\n",
    "\n",
    "The significance level is defined as the probability of making a \"Type I Error\" in which we reject the null hypothesis when it is actually true.  Meaning, if we set $\\alpha = 0.05$ then we have 5% chance of mistakenly rejecting the null hypothesis.\n",
    "\n",
    "\n",
    "From our experiment, we calculate a **<code>p-value</code>**.\n",
    "\n",
    "The p-value is the defined as the probability of observing a difference greater than or equal to the observed difference if the null hypothesis were to be true."
   ]
  },
  {
   "cell_type": "markdown",
   "metadata": {
    "slideshow": {
     "slide_type": "subslide"
    }
   },
   "source": [
    "If the p-value is less than or equal to the significance level, then we reject the null hypothesis and support the alternative hypothesis."
   ]
  },
  {
   "cell_type": "markdown",
   "metadata": {
    "slideshow": {
     "slide_type": "fragment"
    }
   },
   "source": [
    "## Since this is an experiment, what does supporting the alternative hypothesis imply?"
   ]
  },
  {
   "cell_type": "markdown",
   "metadata": {
    "slideshow": {
     "slide_type": "subslide"
    }
   },
   "source": [
    "## If the p-value is greater than the null hypothesis, then we..."
   ]
  },
  {
   "cell_type": "markdown",
   "metadata": {
    "slideshow": {
     "slide_type": "subslide"
    }
   },
   "source": [
    "So, now it's time to prepare our presentation to CALPIRG:\n",
    "\n",
    "---"
   ]
  },
  {
   "cell_type": "raw",
   "metadata": {
    "slideshow": {
     "slide_type": "fragment"
    }
   },
   "source": [
    "In order to get more people to pledge while visiting the website, we should: _________\n",
    "\n",
    "We concluded this from _________ in which we assigned _______. We collected __________ and saw ____________\n",
    "\n",
    "We proposed our hypotheses of: _____________________________\n",
    "After running a ________________________ we discovered an observed difference of ______ \n",
    "So, we ___________________ because our p-value ___________________ and, therefore _________________\n",
    "\n",
    "In conclusion, _____________________________________"
   ]
  }
 ],
 "metadata": {
  "celltoolbar": "Slideshow",
  "kernelspec": {
   "display_name": "Python 3",
   "language": "python",
   "name": "python3"
  },
  "language_info": {
   "codemirror_mode": {
    "name": "ipython",
    "version": 3
   },
   "file_extension": ".py",
   "mimetype": "text/x-python",
   "name": "python",
   "nbconvert_exporter": "python",
   "pygments_lexer": "ipython3",
   "version": "3.6.7"
  }
 },
 "nbformat": 4,
 "nbformat_minor": 2
}
