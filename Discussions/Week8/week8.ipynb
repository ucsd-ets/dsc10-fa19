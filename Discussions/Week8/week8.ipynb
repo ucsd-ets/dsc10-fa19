{
 "cells": [
  {
   "cell_type": "code",
   "execution_count": null,
   "metadata": {
    "slideshow": {
     "slide_type": "skip"
    }
   },
   "outputs": [],
   "source": [
    "from datascience import *\n",
    "from scipy.stats import norm\n",
    "from IPython.display import clear_output\n",
    "import numpy as np\n",
    "import matplotlib.pyplot as plt\n",
    "%matplotlib inline\n",
    "plt.style.use(\"fivethirtyeight\")"
   ]
  },
  {
   "cell_type": "markdown",
   "metadata": {
    "slideshow": {
     "slide_type": "slide"
    }
   },
   "source": [
    "# DSC 10 Discussion Week 8\n",
    "---"
   ]
  },
  {
   "cell_type": "markdown",
   "metadata": {
    "slideshow": {
     "slide_type": "slide"
    }
   },
   "source": [
    "# Confidence Intervals\n",
    "---\n",
    "\n",
    "Tonight, we'll be collecting data from across the world and calculating confidence intervals—fun!"
   ]
  },
  {
   "cell_type": "code",
   "execution_count": 59,
   "metadata": {
    "slideshow": {
     "slide_type": "subslide"
    }
   },
   "outputs": [],
   "source": [
    "full_data = Table.read_table(\"Life Expectancy Data.csv\")"
   ]
  },
  {
   "cell_type": "code",
   "execution_count": 60,
   "metadata": {
    "slideshow": {
     "slide_type": "fragment"
    }
   },
   "outputs": [
    {
     "data": {
      "text/html": [
       "<table border=\"1\" class=\"dataframe\">\n",
       "    <thead>\n",
       "        <tr>\n",
       "            <th>Country</th> <th>Year</th> <th>Status</th> <th>Life expectancy </th> <th>Adult Mortality</th> <th>infant deaths</th> <th>Alcohol</th> <th>percentage expenditure</th> <th>Hepatitis B</th> <th>Measles </th> <th> BMI </th> <th>under-five deaths </th> <th>Polio</th> <th>Total expenditure</th> <th>Diphtheria </th> <th> HIV/AIDS</th> <th>GDP</th> <th>Population</th> <th> thinness  1-19 years</th> <th> thinness 5-9 years</th> <th>Income composition of resources</th> <th>Schooling</th>\n",
       "        </tr>\n",
       "    </thead>\n",
       "    <tbody>\n",
       "        <tr>\n",
       "            <td>Afghanistan</td> <td>2015</td> <td>Developing</td> <td>65              </td> <td>263            </td> <td>62           </td> <td>0.01   </td> <td>71.2796               </td> <td>65         </td> <td>1154    </td> <td>19.1 </td> <td>83                </td> <td>6    </td> <td>8.16             </td> <td>65         </td> <td>0.1      </td> <td>584.259</td> <td>3.37365e+07</td> <td>17.2                 </td> <td>17.3               </td> <td>0.479                          </td> <td>10.1     </td>\n",
       "        </tr>\n",
       "        <tr>\n",
       "            <td>Afghanistan</td> <td>2014</td> <td>Developing</td> <td>59.9            </td> <td>271            </td> <td>64           </td> <td>0.01   </td> <td>73.5236               </td> <td>62         </td> <td>492     </td> <td>18.6 </td> <td>86                </td> <td>58   </td> <td>8.18             </td> <td>62         </td> <td>0.1      </td> <td>612.697</td> <td>327582     </td> <td>17.5                 </td> <td>17.5               </td> <td>0.476                          </td> <td>10       </td>\n",
       "        </tr>\n",
       "        <tr>\n",
       "            <td>Afghanistan</td> <td>2013</td> <td>Developing</td> <td>59.9            </td> <td>268            </td> <td>66           </td> <td>0.01   </td> <td>73.2192               </td> <td>64         </td> <td>430     </td> <td>18.1 </td> <td>89                </td> <td>62   </td> <td>8.13             </td> <td>64         </td> <td>0.1      </td> <td>631.745</td> <td>3.17317e+07</td> <td>17.7                 </td> <td>17.7               </td> <td>0.47                           </td> <td>9.9      </td>\n",
       "        </tr>\n",
       "        <tr>\n",
       "            <td>Afghanistan</td> <td>2012</td> <td>Developing</td> <td>59.5            </td> <td>272            </td> <td>69           </td> <td>0.01   </td> <td>78.1842               </td> <td>67         </td> <td>2787    </td> <td>17.6 </td> <td>93                </td> <td>67   </td> <td>8.52             </td> <td>67         </td> <td>0.1      </td> <td>669.959</td> <td>3.69696e+06</td> <td>17.9                 </td> <td>18                 </td> <td>0.463                          </td> <td>9.8      </td>\n",
       "        </tr>\n",
       "        <tr>\n",
       "            <td>Afghanistan</td> <td>2011</td> <td>Developing</td> <td>59.2            </td> <td>275            </td> <td>71           </td> <td>0.01   </td> <td>7.09711               </td> <td>68         </td> <td>3013    </td> <td>17.2 </td> <td>97                </td> <td>68   </td> <td>7.87             </td> <td>68         </td> <td>0.1      </td> <td>63.5372</td> <td>2.9786e+06 </td> <td>18.2                 </td> <td>18.2               </td> <td>0.454                          </td> <td>9.5      </td>\n",
       "        </tr>\n",
       "        <tr>\n",
       "            <td>Afghanistan</td> <td>2010</td> <td>Developing</td> <td>58.8            </td> <td>279            </td> <td>74           </td> <td>0.01   </td> <td>79.6794               </td> <td>66         </td> <td>1989    </td> <td>16.7 </td> <td>102               </td> <td>66   </td> <td>9.2              </td> <td>66         </td> <td>0.1      </td> <td>553.329</td> <td>2.88317e+06</td> <td>18.4                 </td> <td>18.4               </td> <td>0.448                          </td> <td>9.2      </td>\n",
       "        </tr>\n",
       "        <tr>\n",
       "            <td>Afghanistan</td> <td>2009</td> <td>Developing</td> <td>58.6            </td> <td>281            </td> <td>77           </td> <td>0.01   </td> <td>56.7622               </td> <td>63         </td> <td>2861    </td> <td>16.2 </td> <td>106               </td> <td>63   </td> <td>9.42             </td> <td>63         </td> <td>0.1      </td> <td>445.893</td> <td>284331     </td> <td>18.6                 </td> <td>18.7               </td> <td>0.434                          </td> <td>8.9      </td>\n",
       "        </tr>\n",
       "        <tr>\n",
       "            <td>Afghanistan</td> <td>2008</td> <td>Developing</td> <td>58.1            </td> <td>287            </td> <td>80           </td> <td>0.03   </td> <td>25.8739               </td> <td>64         </td> <td>1599    </td> <td>15.7 </td> <td>110               </td> <td>64   </td> <td>8.33             </td> <td>64         </td> <td>0.1      </td> <td>373.361</td> <td>2.72943e+06</td> <td>18.8                 </td> <td>18.9               </td> <td>0.433                          </td> <td>8.7      </td>\n",
       "        </tr>\n",
       "        <tr>\n",
       "            <td>Afghanistan</td> <td>2007</td> <td>Developing</td> <td>57.5            </td> <td>295            </td> <td>82           </td> <td>0.02   </td> <td>10.9102               </td> <td>63         </td> <td>1141    </td> <td>15.2 </td> <td>113               </td> <td>63   </td> <td>6.73             </td> <td>63         </td> <td>0.1      </td> <td>369.836</td> <td>2.66168e+07</td> <td>19                   </td> <td>19.1               </td> <td>0.415                          </td> <td>8.4      </td>\n",
       "        </tr>\n",
       "        <tr>\n",
       "            <td>Afghanistan</td> <td>2006</td> <td>Developing</td> <td>57.3            </td> <td>295            </td> <td>84           </td> <td>0.03   </td> <td>17.1715               </td> <td>64         </td> <td>1990    </td> <td>14.7 </td> <td>116               </td> <td>58   </td> <td>7.43             </td> <td>58         </td> <td>0.1      </td> <td>272.564</td> <td>2.58934e+06</td> <td>19.2                 </td> <td>19.3               </td> <td>0.405                          </td> <td>8.1      </td>\n",
       "        </tr>\n",
       "    </tbody>\n",
       "</table>\n",
       "<p>... (2928 rows omitted)</p>"
      ],
      "text/plain": [
       "Country     | Year | Status     | Life expectancy  | Adult Mortality | infant deaths | Alcohol | percentage expenditure | Hepatitis B | Measles  |  BMI  | under-five deaths  | Polio | Total expenditure | Diphtheria  |  HIV/AIDS | GDP     | Population  |  thinness  1-19 years |  thinness 5-9 years | Income composition of resources | Schooling\n",
       "Afghanistan | 2015 | Developing | 65               | 263             | 62            | 0.01    | 71.2796                | 65          | 1154     | 19.1  | 83                 | 6     | 8.16              | 65          | 0.1       | 584.259 | 3.37365e+07 | 17.2                  | 17.3                | 0.479                           | 10.1\n",
       "Afghanistan | 2014 | Developing | 59.9             | 271             | 64            | 0.01    | 73.5236                | 62          | 492      | 18.6  | 86                 | 58    | 8.18              | 62          | 0.1       | 612.697 | 327582      | 17.5                  | 17.5                | 0.476                           | 10\n",
       "Afghanistan | 2013 | Developing | 59.9             | 268             | 66            | 0.01    | 73.2192                | 64          | 430      | 18.1  | 89                 | 62    | 8.13              | 64          | 0.1       | 631.745 | 3.17317e+07 | 17.7                  | 17.7                | 0.47                            | 9.9\n",
       "Afghanistan | 2012 | Developing | 59.5             | 272             | 69            | 0.01    | 78.1842                | 67          | 2787     | 17.6  | 93                 | 67    | 8.52              | 67          | 0.1       | 669.959 | 3.69696e+06 | 17.9                  | 18                  | 0.463                           | 9.8\n",
       "Afghanistan | 2011 | Developing | 59.2             | 275             | 71            | 0.01    | 7.09711                | 68          | 3013     | 17.2  | 97                 | 68    | 7.87              | 68          | 0.1       | 63.5372 | 2.9786e+06  | 18.2                  | 18.2                | 0.454                           | 9.5\n",
       "Afghanistan | 2010 | Developing | 58.8             | 279             | 74            | 0.01    | 79.6794                | 66          | 1989     | 16.7  | 102                | 66    | 9.2               | 66          | 0.1       | 553.329 | 2.88317e+06 | 18.4                  | 18.4                | 0.448                           | 9.2\n",
       "Afghanistan | 2009 | Developing | 58.6             | 281             | 77            | 0.01    | 56.7622                | 63          | 2861     | 16.2  | 106                | 63    | 9.42              | 63          | 0.1       | 445.893 | 284331      | 18.6                  | 18.7                | 0.434                           | 8.9\n",
       "Afghanistan | 2008 | Developing | 58.1             | 287             | 80            | 0.03    | 25.8739                | 64          | 1599     | 15.7  | 110                | 64    | 8.33              | 64          | 0.1       | 373.361 | 2.72943e+06 | 18.8                  | 18.9                | 0.433                           | 8.7\n",
       "Afghanistan | 2007 | Developing | 57.5             | 295             | 82            | 0.02    | 10.9102                | 63          | 1141     | 15.2  | 113                | 63    | 6.73              | 63          | 0.1       | 369.836 | 2.66168e+07 | 19                    | 19.1                | 0.415                           | 8.4\n",
       "Afghanistan | 2006 | Developing | 57.3             | 295             | 84            | 0.03    | 17.1715                | 64          | 1990     | 14.7  | 116                | 58    | 7.43              | 58          | 0.1       | 272.564 | 2.58934e+06 | 19.2                  | 19.3                | 0.405                           | 8.1\n",
       "... (2928 rows omitted)"
      ]
     },
     "execution_count": 60,
     "metadata": {},
     "output_type": "execute_result"
    }
   ],
   "source": [
    "full_data"
   ]
  },
  {
   "cell_type": "markdown",
   "metadata": {
    "slideshow": {
     "slide_type": "subslide"
    }
   },
   "source": [
    "This data comes from the World Health Organization.  We can learn more about the meanings of the columns by looking here: https://www.kaggle.com/kumarajarshi/life-expectancy-who\n",
    "\n",
    "Let's travel back in time to the year 2015 and collect some data!  For the duration of this discussion, we're going to consider the following data to be our *\"population\"*.\n",
    "\n",
    "Let's take a look at it."
   ]
  },
  {
   "cell_type": "code",
   "execution_count": 61,
   "metadata": {
    "slideshow": {
     "slide_type": "fragment"
    }
   },
   "outputs": [],
   "source": [
    "recent_data = full_data.where(\"Year\", 2015)"
   ]
  },
  {
   "cell_type": "code",
   "execution_count": 62,
   "metadata": {
    "slideshow": {
     "slide_type": "fragment"
    }
   },
   "outputs": [
    {
     "data": {
      "text/html": [
       "<table border=\"1\" class=\"dataframe\">\n",
       "    <thead>\n",
       "        <tr>\n",
       "            <th>Country</th> <th>Year</th> <th>Status</th> <th>Life expectancy </th> <th>Adult Mortality</th> <th>infant deaths</th> <th>Alcohol</th> <th>percentage expenditure</th> <th>Hepatitis B</th> <th>Measles </th> <th> BMI </th> <th>under-five deaths </th> <th>Polio</th> <th>Total expenditure</th> <th>Diphtheria </th> <th> HIV/AIDS</th> <th>GDP</th> <th>Population</th> <th> thinness  1-19 years</th> <th> thinness 5-9 years</th> <th>Income composition of resources</th> <th>Schooling</th>\n",
       "        </tr>\n",
       "    </thead>\n",
       "    <tbody>\n",
       "        <tr>\n",
       "            <td>Afghanistan        </td> <td>2015</td> <td>Developing</td> <td>65              </td> <td>263            </td> <td>62           </td> <td>0.01   </td> <td>71.2796               </td> <td>65         </td> <td>1154    </td> <td>19.1 </td> <td>83                </td> <td>6    </td> <td>8.16             </td> <td>65         </td> <td>0.1      </td> <td>584.259</td> <td>3.37365e+07</td> <td>17.2                 </td> <td>17.3               </td> <td>0.479                          </td> <td>10.1     </td>\n",
       "        </tr>\n",
       "        <tr>\n",
       "            <td>Albania            </td> <td>2015</td> <td>Developing</td> <td>77.8            </td> <td>74             </td> <td>0            </td> <td>4.6    </td> <td>364.975               </td> <td>99         </td> <td>0       </td> <td>58   </td> <td>0                 </td> <td>99   </td> <td>6                </td> <td>99         </td> <td>0.1      </td> <td>3954.23</td> <td>28873      </td> <td>1.2                  </td> <td>1.3                </td> <td>0.762                          </td> <td>14.2     </td>\n",
       "        </tr>\n",
       "        <tr>\n",
       "            <td>Algeria            </td> <td>2015</td> <td>Developing</td> <td>75.6            </td> <td>19             </td> <td>21           </td> <td>nan    </td> <td>0                     </td> <td>95         </td> <td>63      </td> <td>59.5 </td> <td>24                </td> <td>95   </td> <td>nan              </td> <td>95         </td> <td>0.1      </td> <td>4132.76</td> <td>3.98715e+07</td> <td>6                    </td> <td>5.8                </td> <td>0.743                          </td> <td>14.4     </td>\n",
       "        </tr>\n",
       "        <tr>\n",
       "            <td>Angola             </td> <td>2015</td> <td>Developing</td> <td>52.4            </td> <td>335            </td> <td>66           </td> <td>nan    </td> <td>0                     </td> <td>64         </td> <td>118     </td> <td>23.3 </td> <td>98                </td> <td>7    </td> <td>nan              </td> <td>64         </td> <td>1.9      </td> <td>3695.79</td> <td>2.78594e+06</td> <td>8.3                  </td> <td>8.2                </td> <td>0.531                          </td> <td>11.4     </td>\n",
       "        </tr>\n",
       "        <tr>\n",
       "            <td>Antigua and Barbuda</td> <td>2015</td> <td>Developing</td> <td>76.4            </td> <td>13             </td> <td>0            </td> <td>nan    </td> <td>0                     </td> <td>99         </td> <td>0       </td> <td>47.7 </td> <td>0                 </td> <td>86   </td> <td>nan              </td> <td>99         </td> <td>0.2      </td> <td>13567  </td> <td>nan        </td> <td>3.3                  </td> <td>3.3                </td> <td>0.784                          </td> <td>13.9     </td>\n",
       "        </tr>\n",
       "        <tr>\n",
       "            <td>Argentina          </td> <td>2015</td> <td>Developing</td> <td>76.3            </td> <td>116            </td> <td>8            </td> <td>nan    </td> <td>0                     </td> <td>94         </td> <td>0       </td> <td>62.8 </td> <td>9                 </td> <td>93   </td> <td>nan              </td> <td>94         </td> <td>0.1      </td> <td>13467.1</td> <td>4.34178e+07</td> <td>1                    </td> <td>0.9                </td> <td>0.826                          </td> <td>17.3     </td>\n",
       "        </tr>\n",
       "        <tr>\n",
       "            <td>Armenia            </td> <td>2015</td> <td>Developing</td> <td>74.8            </td> <td>118            </td> <td>1            </td> <td>nan    </td> <td>0                     </td> <td>94         </td> <td>33      </td> <td>54.9 </td> <td>1                 </td> <td>96   </td> <td>nan              </td> <td>94         </td> <td>0.1      </td> <td>369.655</td> <td>291695     </td> <td>2.1                  </td> <td>2.2                </td> <td>0.741                          </td> <td>12.7     </td>\n",
       "        </tr>\n",
       "        <tr>\n",
       "            <td>Australia          </td> <td>2015</td> <td>Developed </td> <td>82.8            </td> <td>59             </td> <td>1            </td> <td>nan    </td> <td>0                     </td> <td>93         </td> <td>74      </td> <td>66.6 </td> <td>1                 </td> <td>93   </td> <td>nan              </td> <td>93         </td> <td>0.1      </td> <td>56554.4</td> <td>2.37893e+07</td> <td>0.6                  </td> <td>0.6                </td> <td>0.937                          </td> <td>20.4     </td>\n",
       "        </tr>\n",
       "        <tr>\n",
       "            <td>Austria            </td> <td>2015</td> <td>Developed </td> <td>81.5            </td> <td>65             </td> <td>0            </td> <td>nan    </td> <td>0                     </td> <td>93         </td> <td>309     </td> <td>57.6 </td> <td>0                 </td> <td>93   </td> <td>nan              </td> <td>93         </td> <td>0.1      </td> <td>43665.9</td> <td>8.63317e+06</td> <td>1.9                  </td> <td>2.1                </td> <td>0.892                          </td> <td>15.9     </td>\n",
       "        </tr>\n",
       "        <tr>\n",
       "            <td>Azerbaijan         </td> <td>2015</td> <td>Developing</td> <td>72.7            </td> <td>118            </td> <td>5            </td> <td>nan    </td> <td>0                     </td> <td>96         </td> <td>0       </td> <td>52.5 </td> <td>6                 </td> <td>98   </td> <td>nan              </td> <td>96         </td> <td>0.1      </td> <td>55.3138</td> <td>9.64934e+06</td> <td>2.8                  </td> <td>2.9                </td> <td>0.758                          </td> <td>12.7     </td>\n",
       "        </tr>\n",
       "    </tbody>\n",
       "</table>\n",
       "<p>... (173 rows omitted)</p>"
      ],
      "text/plain": [
       "Country             | Year | Status     | Life expectancy  | Adult Mortality | infant deaths | Alcohol | percentage expenditure | Hepatitis B | Measles  |  BMI  | under-five deaths  | Polio | Total expenditure | Diphtheria  |  HIV/AIDS | GDP     | Population  |  thinness  1-19 years |  thinness 5-9 years | Income composition of resources | Schooling\n",
       "Afghanistan         | 2015 | Developing | 65               | 263             | 62            | 0.01    | 71.2796                | 65          | 1154     | 19.1  | 83                 | 6     | 8.16              | 65          | 0.1       | 584.259 | 3.37365e+07 | 17.2                  | 17.3                | 0.479                           | 10.1\n",
       "Albania             | 2015 | Developing | 77.8             | 74              | 0             | 4.6     | 364.975                | 99          | 0        | 58    | 0                  | 99    | 6                 | 99          | 0.1       | 3954.23 | 28873       | 1.2                   | 1.3                 | 0.762                           | 14.2\n",
       "Algeria             | 2015 | Developing | 75.6             | 19              | 21            | nan     | 0                      | 95          | 63       | 59.5  | 24                 | 95    | nan               | 95          | 0.1       | 4132.76 | 3.98715e+07 | 6                     | 5.8                 | 0.743                           | 14.4\n",
       "Angola              | 2015 | Developing | 52.4             | 335             | 66            | nan     | 0                      | 64          | 118      | 23.3  | 98                 | 7     | nan               | 64          | 1.9       | 3695.79 | 2.78594e+06 | 8.3                   | 8.2                 | 0.531                           | 11.4\n",
       "Antigua and Barbuda | 2015 | Developing | 76.4             | 13              | 0             | nan     | 0                      | 99          | 0        | 47.7  | 0                  | 86    | nan               | 99          | 0.2       | 13567   | nan         | 3.3                   | 3.3                 | 0.784                           | 13.9\n",
       "Argentina           | 2015 | Developing | 76.3             | 116             | 8             | nan     | 0                      | 94          | 0        | 62.8  | 9                  | 93    | nan               | 94          | 0.1       | 13467.1 | 4.34178e+07 | 1                     | 0.9                 | 0.826                           | 17.3\n",
       "Armenia             | 2015 | Developing | 74.8             | 118             | 1             | nan     | 0                      | 94          | 33       | 54.9  | 1                  | 96    | nan               | 94          | 0.1       | 369.655 | 291695      | 2.1                   | 2.2                 | 0.741                           | 12.7\n",
       "Australia           | 2015 | Developed  | 82.8             | 59              | 1             | nan     | 0                      | 93          | 74       | 66.6  | 1                  | 93    | nan               | 93          | 0.1       | 56554.4 | 2.37893e+07 | 0.6                   | 0.6                 | 0.937                           | 20.4\n",
       "Austria             | 2015 | Developed  | 81.5             | 65              | 0             | nan     | 0                      | 93          | 309      | 57.6  | 0                  | 93    | nan               | 93          | 0.1       | 43665.9 | 8.63317e+06 | 1.9                   | 2.1                 | 0.892                           | 15.9\n",
       "Azerbaijan          | 2015 | Developing | 72.7             | 118             | 5             | nan     | 0                      | 96          | 0        | 52.5  | 6                  | 98    | nan               | 96          | 0.1       | 55.3138 | 9.64934e+06 | 2.8                   | 2.9                 | 0.758                           | 12.7\n",
       "... (173 rows omitted)"
      ]
     },
     "execution_count": 62,
     "metadata": {},
     "output_type": "execute_result"
    }
   ],
   "source": [
    "recent_data"
   ]
  },
  {
   "cell_type": "code",
   "execution_count": 63,
   "metadata": {
    "slideshow": {
     "slide_type": "subslide"
    }
   },
   "outputs": [],
   "source": [
    "# Let's visualize our population distribution.\n",
    "\n",
    "# Defining a function to create bins easily\n",
    "def get_bins(array, bin_size=1):\n",
    "    return np.arange(\n",
    "        int(min(array)), int(max(array)) + 1 + bin_size, bin_size\n",
    "    ) "
   ]
  },
  {
   "cell_type": "code",
   "execution_count": 64,
   "metadata": {
    "slideshow": {
     "slide_type": "fragment"
    }
   },
   "outputs": [
    {
     "data": {
      "image/png": "[encoded data removed]",
      "text/plain": [
       "<Figure size 432x288 with 1 Axes>"
      ]
     },
     "metadata": {},
     "output_type": "display_data"
    }
   ],
   "source": [
    "MEASURE = \"Life expectancy \"\n",
    "data = recent_data.where(MEASURE, are.above_or_equal_to(0)) # This is just to remove nans\n",
    "measured = data.column(MEASURE)\n",
    "bins = get_bins(measured, 5) # <-- Try playing around with the bin size\n",
    "\n",
    "data.hist(MEASURE, bins=bins)"
   ]
  },
  {
   "cell_type": "code",
   "execution_count": 66,
   "metadata": {
    "slideshow": {
     "slide_type": "subslide"
    }
   },
   "outputs": [
    {
     "data": {
      "text/html": [
       "<table border=\"1\" class=\"dataframe\">\n",
       "    <thead>\n",
       "        <tr>\n",
       "            <th>Country</th> <th>Year</th> <th>Status</th> <th>Life expectancy </th> <th>Adult Mortality</th> <th>infant deaths</th> <th>Alcohol</th> <th>percentage expenditure</th> <th>Hepatitis B</th> <th>Measles </th> <th> BMI </th> <th>under-five deaths </th> <th>Polio</th> <th>Total expenditure</th> <th>Diphtheria </th> <th> HIV/AIDS</th> <th>GDP</th> <th>Population</th> <th> thinness  1-19 years</th> <th> thinness 5-9 years</th> <th>Income composition of resources</th> <th>Schooling</th>\n",
       "        </tr>\n",
       "    </thead>\n",
       "    <tbody>\n",
       "        <tr>\n",
       "            <td>Slovenia   </td> <td>2015</td> <td>Developed </td> <td>88              </td> <td>74             </td> <td>0            </td> <td>nan    </td> <td>0                     </td> <td>nan        </td> <td>18      </td> <td>6.1  </td> <td>0                 </td> <td>95   </td> <td>nan              </td> <td>95         </td> <td>0.1      </td> <td>2729.86</td> <td>263531     </td> <td>1.4                  </td> <td>1.3                </td> <td>0.888                          </td> <td>17.3     </td>\n",
       "        </tr>\n",
       "        <tr>\n",
       "            <td>Denmark    </td> <td>2015</td> <td>Developed </td> <td>86              </td> <td>71             </td> <td>0            </td> <td>nan    </td> <td>0                     </td> <td>nan        </td> <td>9       </td> <td>58.8 </td> <td>0                 </td> <td>93   </td> <td>nan              </td> <td>93         </td> <td>0.1      </td> <td>5314.64</td> <td>5.68348e+06</td> <td>1.1                  </td> <td>0.9                </td> <td>0.923                          </td> <td>19.2     </td>\n",
       "        </tr>\n",
       "        <tr>\n",
       "            <td>Cyprus     </td> <td>2015</td> <td>Developed </td> <td>85              </td> <td>52             </td> <td>0            </td> <td>nan    </td> <td>0                     </td> <td>97         </td> <td>0       </td> <td>6.3  </td> <td>0                 </td> <td>97   </td> <td>nan              </td> <td>97         </td> <td>0.1      </td> <td>2375.11</td> <td>116985     </td> <td>1                    </td> <td>1                  </td> <td>0.854                          </td> <td>14.3     </td>\n",
       "        </tr>\n",
       "        <tr>\n",
       "            <td>Chile      </td> <td>2015</td> <td>Developing</td> <td>85              </td> <td>82             </td> <td>2            </td> <td>nan    </td> <td>0                     </td> <td>97         </td> <td>9       </td> <td>63.8 </td> <td>2                 </td> <td>96   </td> <td>nan              </td> <td>96         </td> <td>0.1      </td> <td>13653.2</td> <td>1.77627e+07</td> <td>0.8                  </td> <td>0.8                </td> <td>0.845                          </td> <td>16.3     </td>\n",
       "        </tr>\n",
       "        <tr>\n",
       "            <td>Japan      </td> <td>2015</td> <td>Developed </td> <td>83.7            </td> <td>55             </td> <td>2            </td> <td>nan    </td> <td>0                     </td> <td>nan        </td> <td>35      </td> <td>29   </td> <td>3                 </td> <td>99   </td> <td>nan              </td> <td>96         </td> <td>0.1      </td> <td>34474.1</td> <td>127141     </td> <td>2.1                  </td> <td>1.8                </td> <td>0.902                          </td> <td>15.3     </td>\n",
       "        </tr>\n",
       "        <tr>\n",
       "            <td>Switzerland</td> <td>2015</td> <td>Developed </td> <td>83.4            </td> <td>49             </td> <td>0            </td> <td>nan    </td> <td>0                     </td> <td>nan        </td> <td>35      </td> <td>57.4 </td> <td>0                 </td> <td>97   </td> <td>nan              </td> <td>97         </td> <td>0.1      </td> <td>8989.84</td> <td>8.2824e+06 </td> <td>0.4                  </td> <td>0.3                </td> <td>0.938                          </td> <td>16       </td>\n",
       "        </tr>\n",
       "        <tr>\n",
       "            <td>Singapore  </td> <td>2015</td> <td>Developed </td> <td>83.1            </td> <td>55             </td> <td>0            </td> <td>1.79   </td> <td>0                     </td> <td>96         </td> <td>0       </td> <td>33.2 </td> <td>0                 </td> <td>96   </td> <td>nan              </td> <td>96         </td> <td>0.1      </td> <td>53629.7</td> <td>nan        </td> <td>2.2                  </td> <td>2.2                </td> <td>0.924                          </td> <td>15.4     </td>\n",
       "        </tr>\n",
       "        <tr>\n",
       "            <td>Spain      </td> <td>2015</td> <td>Developed </td> <td>82.8            </td> <td>56             </td> <td>1            </td> <td>nan    </td> <td>0                     </td> <td>97         </td> <td>115     </td> <td>66.6 </td> <td>1                 </td> <td>97   </td> <td>nan              </td> <td>97         </td> <td>0.1      </td> <td>25683.8</td> <td>4.64477e+07</td> <td>0.6                  </td> <td>0.5                </td> <td>0.882                          </td> <td>17.7     </td>\n",
       "        </tr>\n",
       "        <tr>\n",
       "            <td>Australia  </td> <td>2015</td> <td>Developed </td> <td>82.8            </td> <td>59             </td> <td>1            </td> <td>nan    </td> <td>0                     </td> <td>93         </td> <td>74      </td> <td>66.6 </td> <td>1                 </td> <td>93   </td> <td>nan              </td> <td>93         </td> <td>0.1      </td> <td>56554.4</td> <td>2.37893e+07</td> <td>0.6                  </td> <td>0.6                </td> <td>0.937                          </td> <td>20.4     </td>\n",
       "        </tr>\n",
       "        <tr>\n",
       "            <td>Italy      </td> <td>2015</td> <td>Developed </td> <td>82.7            </td> <td>56             </td> <td>1            </td> <td>nan    </td> <td>0                     </td> <td>93         </td> <td>159     </td> <td>63.6 </td> <td>2                 </td> <td>93   </td> <td>nan              </td> <td>93         </td> <td>0.1      </td> <td>349.148</td> <td>673582     </td> <td>0.6                  </td> <td>0.6                </td> <td>0.881                          </td> <td>16.3     </td>\n",
       "        </tr>\n",
       "    </tbody>\n",
       "</table>\n",
       "<p>... (173 rows omitted)</p>"
      ],
      "text/plain": [
       "Country     | Year | Status     | Life expectancy  | Adult Mortality | infant deaths | Alcohol | percentage expenditure | Hepatitis B | Measles  |  BMI  | under-five deaths  | Polio | Total expenditure | Diphtheria  |  HIV/AIDS | GDP     | Population  |  thinness  1-19 years |  thinness 5-9 years | Income composition of resources | Schooling\n",
       "Slovenia    | 2015 | Developed  | 88               | 74              | 0             | nan     | 0                      | nan         | 18       | 6.1   | 0                  | 95    | nan               | 95          | 0.1       | 2729.86 | 263531      | 1.4                   | 1.3                 | 0.888                           | 17.3\n",
       "Denmark     | 2015 | Developed  | 86               | 71              | 0             | nan     | 0                      | nan         | 9        | 58.8  | 0                  | 93    | nan               | 93          | 0.1       | 5314.64 | 5.68348e+06 | 1.1                   | 0.9                 | 0.923                           | 19.2\n",
       "Cyprus      | 2015 | Developed  | 85               | 52              | 0             | nan     | 0                      | 97          | 0        | 6.3   | 0                  | 97    | nan               | 97          | 0.1       | 2375.11 | 116985      | 1                     | 1                   | 0.854                           | 14.3\n",
       "Chile       | 2015 | Developing | 85               | 82              | 2             | nan     | 0                      | 97          | 9        | 63.8  | 2                  | 96    | nan               | 96          | 0.1       | 13653.2 | 1.77627e+07 | 0.8                   | 0.8                 | 0.845                           | 16.3\n",
       "Japan       | 2015 | Developed  | 83.7             | 55              | 2             | nan     | 0                      | nan         | 35       | 29    | 3                  | 99    | nan               | 96          | 0.1       | 34474.1 | 127141      | 2.1                   | 1.8                 | 0.902                           | 15.3\n",
       "Switzerland | 2015 | Developed  | 83.4             | 49              | 0             | nan     | 0                      | nan         | 35       | 57.4  | 0                  | 97    | nan               | 97          | 0.1       | 8989.84 | 8.2824e+06  | 0.4                   | 0.3                 | 0.938                           | 16\n",
       "Singapore   | 2015 | Developed  | 83.1             | 55              | 0             | 1.79    | 0                      | 96          | 0        | 33.2  | 0                  | 96    | nan               | 96          | 0.1       | 53629.7 | nan         | 2.2                   | 2.2                 | 0.924                           | 15.4\n",
       "Spain       | 2015 | Developed  | 82.8             | 56              | 1             | nan     | 0                      | 97          | 115      | 66.6  | 1                  | 97    | nan               | 97          | 0.1       | 25683.8 | 4.64477e+07 | 0.6                   | 0.5                 | 0.882                           | 17.7\n",
       "Australia   | 2015 | Developed  | 82.8             | 59              | 1             | nan     | 0                      | 93          | 74       | 66.6  | 1                  | 93    | nan               | 93          | 0.1       | 56554.4 | 2.37893e+07 | 0.6                   | 0.6                 | 0.937                           | 20.4\n",
       "Italy       | 2015 | Developed  | 82.7             | 56              | 1             | nan     | 0                      | 93          | 159      | 63.6  | 2                  | 93    | nan               | 93          | 0.1       | 349.148 | 673582      | 0.6                   | 0.6                 | 0.881                           | 16.3\n",
       "... (173 rows omitted)"
      ]
     },
     "execution_count": 66,
     "metadata": {},
     "output_type": "execute_result"
    }
   ],
   "source": [
    "data.sort(\"Life expectancy \", descending=True)"
   ]
  },
  {
   "cell_type": "markdown",
   "metadata": {
    "slideshow": {
     "slide_type": "subslide"
    }
   },
   "source": [
    "# This is our ... ? (Population or Sample Distribution)"
   ]
  },
  {
   "cell_type": "markdown",
   "metadata": {
    "slideshow": {
     "slide_type": "fragment"
    }
   },
   "source": [
    "```\n",
    "POPULATION DISTRIBUTION\n",
    "```"
   ]
  },
  {
   "cell_type": "markdown",
   "metadata": {
    "slideshow": {
     "slide_type": "subslide"
    }
   },
   "source": [
    "So, what is our aim?  We want to estimate the average life expectancy for the globe!  Let's say we don't have access to the entire population.  Flying around the world is pretty expensive, so we can only collect data from 15 countries\n",
    "\n",
    "As are standard procedures, we'll be creating a confidence interval around this estimate.  We can sample and use bootstrapping to find this."
   ]
  },
  {
   "cell_type": "code",
   "execution_count": 67,
   "metadata": {
    "slideshow": {
     "slide_type": "fragment"
    }
   },
   "outputs": [],
   "source": [
    "# How do we create a representative sample?\n",
    "collected = data.sample(15, with_replacement=False)"
   ]
  },
  {
   "cell_type": "code",
   "execution_count": 68,
   "metadata": {
    "slideshow": {
     "slide_type": "fragment"
    }
   },
   "outputs": [
    {
     "data": {
      "text/html": [
       "<table border=\"1\" class=\"dataframe\">\n",
       "    <thead>\n",
       "        <tr>\n",
       "            <th>Country</th> <th>Year</th> <th>Status</th> <th>Life expectancy </th> <th>Adult Mortality</th> <th>infant deaths</th> <th>Alcohol</th> <th>percentage expenditure</th> <th>Hepatitis B</th> <th>Measles </th> <th> BMI </th> <th>under-five deaths </th> <th>Polio</th> <th>Total expenditure</th> <th>Diphtheria </th> <th> HIV/AIDS</th> <th>GDP</th> <th>Population</th> <th> thinness  1-19 years</th> <th> thinness 5-9 years</th> <th>Income composition of resources</th> <th>Schooling</th>\n",
       "        </tr>\n",
       "    </thead>\n",
       "    <tbody>\n",
       "        <tr>\n",
       "            <td>Nepal                             </td> <td>2015</td> <td>Developing</td> <td>69.2            </td> <td>165            </td> <td>17           </td> <td>nan    </td> <td>0                     </td> <td>91         </td> <td>1599    </td> <td>19.1 </td> <td>21                </td> <td>9    </td> <td>nan              </td> <td>91         </td> <td>0.1      </td> <td>743.765</td> <td>2.86563e+07</td> <td>15.7                 </td> <td>16.1               </td> <td>0.555                          </td> <td>12.2     </td>\n",
       "        </tr>\n",
       "        <tr>\n",
       "            <td>Turkmenistan                      </td> <td>2015</td> <td>Developing</td> <td>66.3            </td> <td>215            </td> <td>6            </td> <td>nan    </td> <td>0                     </td> <td>99         </td> <td>0       </td> <td>48.6 </td> <td>7                 </td> <td>99   </td> <td>nan              </td> <td>99         </td> <td>0.1      </td> <td>6432.67</td> <td>5.56528e+06</td> <td>3.3                  </td> <td>3.3                </td> <td>0.688                          </td> <td>10.8     </td>\n",
       "        </tr>\n",
       "        <tr>\n",
       "            <td>Finland                           </td> <td>2015</td> <td>Developing</td> <td>81.1            </td> <td>76             </td> <td>0            </td> <td>nan    </td> <td>0                     </td> <td>nan        </td> <td>2       </td> <td>62.1 </td> <td>0                 </td> <td>97   </td> <td>nan              </td> <td>97         </td> <td>0.1      </td> <td>4245.4 </td> <td>5.47953e+06</td> <td>0.9                  </td> <td>0.8                </td> <td>0.893                          </td> <td>17       </td>\n",
       "        </tr>\n",
       "        <tr>\n",
       "            <td>Switzerland                       </td> <td>2015</td> <td>Developed </td> <td>83.4            </td> <td>49             </td> <td>0            </td> <td>nan    </td> <td>0                     </td> <td>nan        </td> <td>35      </td> <td>57.4 </td> <td>0                 </td> <td>97   </td> <td>nan              </td> <td>97         </td> <td>0.1      </td> <td>8989.84</td> <td>8.2824e+06 </td> <td>0.4                  </td> <td>0.3                </td> <td>0.938                          </td> <td>16       </td>\n",
       "        </tr>\n",
       "        <tr>\n",
       "            <td>Guatemala                         </td> <td>2015</td> <td>Developing</td> <td>71.9            </td> <td>186            </td> <td>10           </td> <td>nan    </td> <td>0                     </td> <td>74         </td> <td>0       </td> <td>5.6  </td> <td>12                </td> <td>9    </td> <td>nan              </td> <td>74         </td> <td>0.4      </td> <td>3923.57</td> <td>1.62524e+07</td> <td>1.2                  </td> <td>1.2                </td> <td>0.637                          </td> <td>10.7     </td>\n",
       "        </tr>\n",
       "        <tr>\n",
       "            <td>Cyprus                            </td> <td>2015</td> <td>Developed </td> <td>85              </td> <td>52             </td> <td>0            </td> <td>nan    </td> <td>0                     </td> <td>97         </td> <td>0       </td> <td>6.3  </td> <td>0                 </td> <td>97   </td> <td>nan              </td> <td>97         </td> <td>0.1      </td> <td>2375.11</td> <td>116985     </td> <td>1                    </td> <td>1                  </td> <td>0.854                          </td> <td>14.3     </td>\n",
       "        </tr>\n",
       "        <tr>\n",
       "            <td>Venezuela (Bolivarian Republic of)</td> <td>2015</td> <td>Developing</td> <td>74.1            </td> <td>157            </td> <td>9            </td> <td>nan    </td> <td>0                     </td> <td>87         </td> <td>0       </td> <td>62.1 </td> <td>10                </td> <td>87   </td> <td>nan              </td> <td>87         </td> <td>0.1      </td> <td>nan    </td> <td>nan        </td> <td>1.6                  </td> <td>1.5                </td> <td>0.769                          </td> <td>14.3     </td>\n",
       "        </tr>\n",
       "        <tr>\n",
       "            <td>Malta                             </td> <td>2015</td> <td>Developed </td> <td>81.7            </td> <td>54             </td> <td>0            </td> <td>nan    </td> <td>0                     </td> <td>95         </td> <td>2       </td> <td>69.6 </td> <td>0                 </td> <td>97   </td> <td>nan              </td> <td>97         </td> <td>0.1      </td> <td>23819.5</td> <td>431874     </td> <td>0.8                  </td> <td>0.8                </td> <td>0.853                          </td> <td>14.6     </td>\n",
       "        </tr>\n",
       "        <tr>\n",
       "            <td>Slovenia                          </td> <td>2015</td> <td>Developed </td> <td>88              </td> <td>74             </td> <td>0            </td> <td>nan    </td> <td>0                     </td> <td>nan        </td> <td>18      </td> <td>6.1  </td> <td>0                 </td> <td>95   </td> <td>nan              </td> <td>95         </td> <td>0.1      </td> <td>2729.86</td> <td>263531     </td> <td>1.4                  </td> <td>1.3                </td> <td>0.888                          </td> <td>17.3     </td>\n",
       "        </tr>\n",
       "        <tr>\n",
       "            <td>Tunisia                           </td> <td>2015</td> <td>Developing</td> <td>75.3            </td> <td>1              </td> <td>3            </td> <td>nan    </td> <td>0                     </td> <td>98         </td> <td>16      </td> <td>61.2 </td> <td>3                 </td> <td>98   </td> <td>nan              </td> <td>98         </td> <td>0.1      </td> <td>3828.92</td> <td>1.12737e+07</td> <td>6.5                  </td> <td>6.4                </td> <td>0.723                          </td> <td>14.6     </td>\n",
       "        </tr>\n",
       "    </tbody>\n",
       "</table>\n",
       "<p>... (5 rows omitted)</p>"
      ],
      "text/plain": [
       "Country                            | Year | Status     | Life expectancy  | Adult Mortality | infant deaths | Alcohol | percentage expenditure | Hepatitis B | Measles  |  BMI  | under-five deaths  | Polio | Total expenditure | Diphtheria  |  HIV/AIDS | GDP     | Population  |  thinness  1-19 years |  thinness 5-9 years | Income composition of resources | Schooling\n",
       "Nepal                              | 2015 | Developing | 69.2             | 165             | 17            | nan     | 0                      | 91          | 1599     | 19.1  | 21                 | 9     | nan               | 91          | 0.1       | 743.765 | 2.86563e+07 | 15.7                  | 16.1                | 0.555                           | 12.2\n",
       "Turkmenistan                       | 2015 | Developing | 66.3             | 215             | 6             | nan     | 0                      | 99          | 0        | 48.6  | 7                  | 99    | nan               | 99          | 0.1       | 6432.67 | 5.56528e+06 | 3.3                   | 3.3                 | 0.688                           | 10.8\n",
       "Finland                            | 2015 | Developing | 81.1             | 76              | 0             | nan     | 0                      | nan         | 2        | 62.1  | 0                  | 97    | nan               | 97          | 0.1       | 4245.4  | 5.47953e+06 | 0.9                   | 0.8                 | 0.893                           | 17\n",
       "Switzerland                        | 2015 | Developed  | 83.4             | 49              | 0             | nan     | 0                      | nan         | 35       | 57.4  | 0                  | 97    | nan               | 97          | 0.1       | 8989.84 | 8.2824e+06  | 0.4                   | 0.3                 | 0.938                           | 16\n",
       "Guatemala                          | 2015 | Developing | 71.9             | 186             | 10            | nan     | 0                      | 74          | 0        | 5.6   | 12                 | 9     | nan               | 74          | 0.4       | 3923.57 | 1.62524e+07 | 1.2                   | 1.2                 | 0.637                           | 10.7\n",
       "Cyprus                             | 2015 | Developed  | 85               | 52              | 0             | nan     | 0                      | 97          | 0        | 6.3   | 0                  | 97    | nan               | 97          | 0.1       | 2375.11 | 116985      | 1                     | 1                   | 0.854                           | 14.3\n",
       "Venezuela (Bolivarian Republic of) | 2015 | Developing | 74.1             | 157             | 9             | nan     | 0                      | 87          | 0        | 62.1  | 10                 | 87    | nan               | 87          | 0.1       | nan     | nan         | 1.6                   | 1.5                 | 0.769                           | 14.3\n",
       "Malta                              | 2015 | Developed  | 81.7             | 54              | 0             | nan     | 0                      | 95          | 2        | 69.6  | 0                  | 97    | nan               | 97          | 0.1       | 23819.5 | 431874      | 0.8                   | 0.8                 | 0.853                           | 14.6\n",
       "Slovenia                           | 2015 | Developed  | 88               | 74              | 0             | nan     | 0                      | nan         | 18       | 6.1   | 0                  | 95    | nan               | 95          | 0.1       | 2729.86 | 263531      | 1.4                   | 1.3                 | 0.888                           | 17.3\n",
       "Tunisia                            | 2015 | Developing | 75.3             | 1               | 3             | nan     | 0                      | 98          | 16       | 61.2  | 3                  | 98    | nan               | 98          | 0.1       | 3828.92 | 1.12737e+07 | 6.5                   | 6.4                 | 0.723                           | 14.6\n",
       "... (5 rows omitted)"
      ]
     },
     "execution_count": 68,
     "metadata": {},
     "output_type": "execute_result"
    }
   ],
   "source": [
    "collected"
   ]
  },
  {
   "cell_type": "code",
   "execution_count": 69,
   "metadata": {
    "slideshow": {
     "slide_type": "subslide"
    }
   },
   "outputs": [
    {
     "data": {
      "image/png": "[encoded data removed]",
      "text/plain": [
       "<Figure size 432x288 with 1 Axes>"
      ]
     },
     "metadata": {},
     "output_type": "display_data"
    }
   ],
   "source": [
    "data.hist(MEASURE, bins=bins)"
   ]
  },
  {
   "cell_type": "code",
   "execution_count": 70,
   "metadata": {
    "slideshow": {
     "slide_type": "fragment"
    }
   },
   "outputs": [
    {
     "data": {
      "image/png": "[encoded data removed]",
      "text/plain": [
       "<Figure size 432x288 with 1 Axes>"
      ]
     },
     "metadata": {},
     "output_type": "display_data"
    }
   ],
   "source": [
    "collected.hist(MEASURE, bins=get_bins(collected.column(MEASURE), 5))"
   ]
  },
  {
   "cell_type": "markdown",
   "metadata": {
    "slideshow": {
     "slide_type": "subslide"
    }
   },
   "source": [
    "# This is our ...? (Sample or Population Distribution)"
   ]
  },
  {
   "cell_type": "markdown",
   "metadata": {
    "slideshow": {
     "slide_type": "fragment"
    }
   },
   "source": [
    "```\n",
    "SAMPLE DISTRIBUTION\n",
    "```"
   ]
  },
  {
   "cell_type": "markdown",
   "metadata": {
    "slideshow": {
     "slide_type": "subslide"
    }
   },
   "source": [
    "We're interested in estimating the mean life expectancy.  So, let's find the mean of our sample."
   ]
  },
  {
   "cell_type": "code",
   "execution_count": 71,
   "metadata": {
    "slideshow": {
     "slide_type": "fragment"
    }
   },
   "outputs": [
    {
     "data": {
      "text/plain": [
       "75.22666666666666"
      ]
     },
     "execution_count": 71,
     "metadata": {},
     "output_type": "execute_result"
    }
   ],
   "source": [
    "sample_mean = np.mean(collected.column(MEASURE))\n",
    "sample_mean"
   ]
  },
  {
   "cell_type": "code",
   "execution_count": 72,
   "metadata": {
    "slideshow": {
     "slide_type": "fragment"
    }
   },
   "outputs": [
    {
     "data": {
      "image/png": "[encoded data removed]",
      "text/plain": [
       "<Figure size 432x288 with 1 Axes>"
      ]
     },
     "metadata": {},
     "output_type": "display_data"
    }
   ],
   "source": [
    "# We can show our mean in relation to the sample.\n",
    "\n",
    "collected.hist(MEASURE, bins=get_bins(collected.column(MEASURE), 5))\n",
    "plt.axvline(sample_mean, c='r');"
   ]
  },
  {
   "cell_type": "markdown",
   "metadata": {
    "slideshow": {
     "slide_type": "subslide"
    }
   },
   "source": [
    "What happens when we resample?"
   ]
  },
  {
   "cell_type": "code",
   "execution_count": 84,
   "metadata": {
    "slideshow": {
     "slide_type": "subslide"
    }
   },
   "outputs": [
    {
     "name": "stdout",
     "output_type": "stream",
     "text": [
      "The resampled mean is:\t\t 76.3 \n",
      "Compared to the original:\t 75.22666666666666\n"
     ]
    },
    {
     "data": {
      "image/png": "[encoded data removed]",
      "text/plain": [
       "<Figure size 432x288 with 1 Axes>"
      ]
     },
     "metadata": {},
     "output_type": "display_data"
    }
   ],
   "source": [
    "# Run this multiple time to see what changes.\n",
    "\n",
    "resampled = collected.sample()\n",
    "resampled_mean = np.mean(resampled.column(MEASURE))\n",
    "\n",
    "print(\"The resampled mean is:\\t\\t\", resampled_mean, \"\\nCompared to the original:\\t\", sample_mean)\n",
    "\n",
    "resampled.hist(MEASURE, bins=get_bins(collected.column(MEASURE),5))\n",
    "plt.axvline(resampled_mean, c='r')\n",
    "plt.axvline(sample_mean, c='b')\n",
    "plt.legend([\"Resampled Mean\",\"Sample Mean\"]);"
   ]
  },
  {
   "cell_type": "markdown",
   "metadata": {
    "slideshow": {
     "slide_type": "fragment"
    }
   },
   "source": [
    "# What do the red and blue lines represent again?"
   ]
  },
  {
   "cell_type": "markdown",
   "metadata": {
    "slideshow": {
     "slide_type": "fragment"
    }
   },
   "source": [
    "```\n",
    "RED: RESAMPLED MEAN\n",
    "BLUE: SAMPLE MEAN\n",
    "```"
   ]
  },
  {
   "cell_type": "markdown",
   "metadata": {
    "slideshow": {
     "slide_type": "subslide"
    }
   },
   "source": [
    "Now, let's run the bootstrap so we can create our confidence interval!"
   ]
  },
  {
   "cell_type": "code",
   "execution_count": 85,
   "metadata": {
    "slideshow": {
     "slide_type": "fragment"
    }
   },
   "outputs": [
    {
     "data": {
      "image/png": "[encoded data removed]",
      "text/plain": [
       "<Figure size 432x288 with 1 Axes>"
      ]
     },
     "metadata": {},
     "output_type": "display_data"
    }
   ],
   "source": [
    "sample_means = []\n",
    "\n",
    "for i in range(10000):\n",
    "    bootstrapped = collected.sample()\n",
    "    boot_mean = np.mean(bootstrapped.column(MEASURE))\n",
    "    sample_means.append(boot_mean)\n",
    "\n",
    "plt.hist(sample_means, bins=get_bins(sample_means, 0.5));"
   ]
  },
  {
   "cell_type": "code",
   "execution_count": 88,
   "metadata": {
    "slideshow": {
     "slide_type": "subslide"
    }
   },
   "outputs": [
    {
     "data": {
      "image/png": "[encoded data removed]",
      "text/plain": [
       "<Figure size 432x288 with 1 Axes>"
      ]
     },
     "metadata": {},
     "output_type": "display_data"
    }
   ],
   "source": [
    "# super fast version ~woah~\n",
    "n = collected.num_rows\n",
    "life_exp = collected.column(MEASURE)\n",
    "sample_means = np.array([life_exp[np.random.choice(n, n)].mean() for i in range(100000)])\n",
    "\n",
    "plt.hist(sample_means, bins=get_bins(sample_means, 0.5));"
   ]
  },
  {
   "cell_type": "markdown",
   "metadata": {
    "slideshow": {
     "slide_type": "fragment"
    }
   },
   "source": [
    "# What does this graph represent?"
   ]
  },
  {
   "cell_type": "markdown",
   "metadata": {
    "slideshow": {
     "slide_type": "fragment"
    }
   },
   "source": [
    "```\n",
    "DISTRIBUTION OF RESAMPLED MEANS\n",
    "```"
   ]
  },
  {
   "cell_type": "markdown",
   "metadata": {
    "slideshow": {
     "slide_type": "subslide"
    }
   },
   "source": [
    "Recall, the confidence interval uses percentiles as the bounds."
   ]
  },
  {
   "cell_type": "code",
   "execution_count": 96,
   "metadata": {
    "slideshow": {
     "slide_type": "fragment"
    }
   },
   "outputs": [
    {
     "name": "stdout",
     "output_type": "stream",
     "text": [
      "\n",
      "Mean:\t75.2207274\n",
      "\n",
      "Lower:\t71.46666666666667\n",
      "Upper:\t78.97999999999999\n",
      "\n",
      "Level:\t95%\n",
      "\n"
     ]
    }
   ],
   "source": [
    "# First, we choose a confidence level.\n",
    "confidence_level = 95\n",
    " \n",
    "# What is the mean we're estimating?\n",
    "mean = np.mean(sample_means)\n",
    "\n",
    "# And then our lower and upper bounds?\n",
    "# Let's try to find a way to calculate them regardless of our confidence level.\n",
    "lower_bound = percentile((100 - confidence_level) / 2, sample_means)\n",
    "upper_bound = percentile(confidence_level + (100 - confidence_level) / 2, sample_means)\n",
    "\n",
    "# Printing it out so we can easily see our results.\n",
    "print(\"\"\"\n",
    "Mean:\\t{}\n",
    "\n",
    "Lower:\\t{}\n",
    "Upper:\\t{}\n",
    "\n",
    "Level:\\t{}%\n",
    "\"\"\".format(mean, lower_bound, upper_bound, confidence_level))"
   ]
  },
  {
   "cell_type": "markdown",
   "metadata": {
    "slideshow": {
     "slide_type": "subslide"
    }
   },
   "source": [
    "Out of curiosity... what's the difference between our bounds and the mean?"
   ]
  },
  {
   "cell_type": "code",
   "execution_count": 98,
   "metadata": {
    "slideshow": {
     "slide_type": "fragment"
    }
   },
   "outputs": [
    {
     "data": {
      "text/plain": [
       "3.7540607333333327"
      ]
     },
     "execution_count": 98,
     "metadata": {},
     "output_type": "execute_result"
    }
   ],
   "source": [
    "abs(mean-lower_bound)"
   ]
  },
  {
   "cell_type": "code",
   "execution_count": 99,
   "metadata": {
    "slideshow": {
     "slide_type": "fragment"
    }
   },
   "outputs": [
    {
     "data": {
      "text/plain": [
       "3.7592725999999885"
      ]
     },
     "execution_count": 99,
     "metadata": {},
     "output_type": "execute_result"
    }
   ],
   "source": [
    "abs(mean-upper_bound)"
   ]
  },
  {
   "cell_type": "markdown",
   "metadata": {
    "slideshow": {
     "slide_type": "subslide"
    }
   },
   "source": [
    "# How do we interpret this confidence interval?\n",
    "---"
   ]
  },
  {
   "cell_type": "raw",
   "metadata": {
    "slideshow": {
     "slide_type": "fragment"
    }
   },
   "source": [
    "If we repeat this sample and interval constructing process, 95% of the intervals will contain the mean life expectancy for 2015"
   ]
  },
  {
   "cell_type": "markdown",
   "metadata": {
    "slideshow": {
     "slide_type": "slide"
    }
   },
   "source": [
    "# Let's get a feel for how the distribution of sample means arises\n",
    "---\n",
    "\n",
    "We'll take a bunch of resamples and visualize the distribution as the number of resamples increases."
   ]
  },
  {
   "cell_type": "code",
   "execution_count": 101,
   "metadata": {
    "slideshow": {
     "slide_type": "subslide"
    }
   },
   "outputs": [
    {
     "data": {
      "image/png": "[encoded data removed]",
      "text/plain": [
       "<Figure size 432x288 with 1 Axes>"
      ]
     },
     "metadata": {},
     "output_type": "display_data"
    },
    {
     "name": "stdout",
     "output_type": "stream",
     "text": [
      "Resamples:\t 10000\n"
     ]
    }
   ],
   "source": [
    "trials = 10000\n",
    "\n",
    "sample_means = []\n",
    "\n",
    "update_var = 1\n",
    "\n",
    "for i in range(trials):\n",
    "    boots = collected.sample()\n",
    "    boot_mean = np.mean(boots.column(MEASURE))\n",
    "    sample_means.append(boot_mean)\n",
    "    \n",
    "    # Update the plot every once in a while (more frequently at lower values)\n",
    "    if i >= update_var - 1 or i==trials - 1:\n",
    "        update_var *= 1.25\n",
    "        clear_output(wait=True)\n",
    "        \n",
    "        plt.hist(sample_means, density=True, bins=get_bins(sample_means, 0.5))\n",
    "        plt.axvline(np.mean(sample_means), c='r')\n",
    "        \n",
    "        plt.pause(0.01)\n",
    "        print(\"Resamples:\\t\",i + 1)"
   ]
  },
  {
   "cell_type": "markdown",
   "metadata": {
    "slideshow": {
     "slide_type": "subslide"
    }
   },
   "source": [
    "# A bit of recap\n",
    "---\n",
    "\n",
    "Let's draw some things on the chalkboard.\n",
    "\n",
    "- Our **POPULATION DISTRIBUTION** is unknown, and can be any shape.\n",
    "\n",
    "\n",
    "- A **SAMPLE DISTRIBUTION** should have a shape roughly similar to the population distribution.  \n",
    "(provided that the sample was large enough and was properly randomized)\n",
    "\n",
    "\n",
    "- A **SAMPLE MEAN** is just the mean of that sample distribution.\n",
    "\n",
    "\n",
    "- We can collect a handful of sample means (or fake it by bootstrapping)\n",
    "\n",
    "\n",
    "- The **DISTRIBUTION OF SAMPLE MEANS** will resemble a normal distribution as the number of sample means increases. (Law of Large Numbers)\n",
    "\n",
    "\n",
    "- The **CENTER/MEAN** of the distribution of sample means should be similar to the true population mean.  \n",
    "(provided that our original sample was proper)"
   ]
  },
  {
   "cell_type": "code",
   "execution_count": null,
   "metadata": {
    "slideshow": {
     "slide_type": "fragment"
    }
   },
   "outputs": [],
   "source": [
    "# Let's try this out on another column to see if the above claims hold!"
   ]
  },
  {
   "cell_type": "markdown",
   "metadata": {
    "slideshow": {
     "slide_type": "subslide"
    }
   },
   "source": [
    "# What if I told you there's another way?\n",
    "---\n",
    "\n",
    "Since we know that a normal distribution will arise as the number of resamples increases, then do we really need to go through all the effort of running a bootstrap?\n",
    "\n",
    "Instead, we can rely on what we know about normal distributions!  The two defining features of a normal distribution are its center/mean and it's spread/standard deviation.\n",
    "\n",
    "So, what's the standard deviation of the normal distribution that arises?"
   ]
  },
  {
   "cell_type": "code",
   "execution_count": 102,
   "metadata": {
    "slideshow": {
     "slide_type": "subslide"
    }
   },
   "outputs": [
    {
     "data": {
      "image/png": "[encoded data removed]",
      "text/plain": [
       "<Figure size 432x288 with 1 Axes>"
      ]
     },
     "metadata": {},
     "output_type": "display_data"
    }
   ],
   "source": [
    "# # Running a bootstrap again to get the distribution\n",
    "m = collected.column(MEASURE)\n",
    "resampled_means = [m[np.random.choice(n,n)].mean() for i in range(10000)]\n",
    "plt.hist(resampled_means, bins=get_bins(resampled_means, 0.5), density=True)\n",
    "\n",
    "# Plotting a normal curve over the top of it.\n",
    "mean = np.mean(collected.column(MEASURE)) # The mean should be ..?\n",
    "\n",
    "# Let's figure out what the standard deviation of the sample means should be!\n",
    "std = np.std(collected.column(MEASURE)) / np.sqrt(collected.num_rows)\n",
    "# Well, it SHOULD be the population SD / sqrt(Sample Size)\n",
    "# but we can't access the population sd!  So, we use the sample sd instead.\n",
    "\n",
    "x = np.linspace(*plt.xlim(), 100)\n",
    "plt.plot(x, norm.pdf(x, mean, std), c='r');"
   ]
  },
  {
   "cell_type": "markdown",
   "metadata": {
    "slideshow": {
     "slide_type": "subslide"
    }
   },
   "source": [
    "So, we can create our CI mathemagically instead of running the bootstrap!"
   ]
  },
  {
   "cell_type": "markdown",
   "metadata": {
    "slideshow": {
     "slide_type": "fragment"
    }
   },
   "source": [
    "For our normal curve, we'll have:\n",
    "$$Mean = Sample\\ Mean$$\n",
    "\n",
    "$$Standard\\ Deviation\\ of\\ Sample\\ Means = \\frac{Sample\\ SD}{\\sqrt{Sample\\ Size}}$$"
   ]
  },
  {
   "cell_type": "markdown",
   "metadata": {
    "slideshow": {
     "slide_type": "fragment"
    }
   },
   "source": [
    "Now that we have a normal curve with a mean and standard deviation, how do we find the confidence interval from before?"
   ]
  },
  {
   "cell_type": "code",
   "execution_count": 103,
   "metadata": {
    "slideshow": {
     "slide_type": "subslide"
    }
   },
   "outputs": [
    {
     "name": "stdout",
     "output_type": "stream",
     "text": [
      "\n",
      "Mean:\t75.22666666666666\n",
      "\n",
      "Lower:\t71.47348568282355\n",
      "Upper:\t78.97984765050977\n",
      "\n",
      "Level:\t95%\n",
      "\n"
     ]
    }
   ],
   "source": [
    "# We know that 95% of data is within 1.96 standard deviations of\n",
    "# the mean of a normal distribution.\n",
    "\n",
    "mean = np.mean(collected.column(MEASURE))\n",
    "\n",
    "# What's the SD of the distrib. of sample means again?\n",
    "std = np.std(collected.column(MEASURE)) / np.sqrt(collected.num_rows)\n",
    "\n",
    "lower_bound = mean - 1.96 * std\n",
    "upper_bound = mean + 1.96 * std\n",
    "\n",
    "print(\"\"\"\n",
    "Mean:\\t{}\n",
    "\n",
    "Lower:\\t{}\n",
    "Upper:\\t{}\n",
    "\n",
    "Level:\\t95%\n",
    "\"\"\".format(mean, lower_bound, upper_bound))"
   ]
  },
  {
   "cell_type": "markdown",
   "metadata": {
    "slideshow": {
     "slide_type": "subslide"
    }
   },
   "source": [
    "Just like before, I'm curious to see the difference between our bounds and mean."
   ]
  },
  {
   "cell_type": "code",
   "execution_count": 104,
   "metadata": {
    "slideshow": {
     "slide_type": "fragment"
    }
   },
   "outputs": [
    {
     "data": {
      "text/plain": [
       "3.7531809838431087"
      ]
     },
     "execution_count": 104,
     "metadata": {},
     "output_type": "execute_result"
    }
   ],
   "source": [
    "mean-lower_bound"
   ]
  },
  {
   "cell_type": "code",
   "execution_count": 105,
   "metadata": {
    "slideshow": {
     "slide_type": "fragment"
    }
   },
   "outputs": [
    {
     "data": {
      "text/plain": [
       "3.7531809838431087"
      ]
     },
     "execution_count": 105,
     "metadata": {},
     "output_type": "execute_result"
    }
   ],
   "source": [
    "upper_bound-mean"
   ]
  },
  {
   "cell_type": "code",
   "execution_count": 106,
   "metadata": {
    "slideshow": {
     "slide_type": "subslide"
    }
   },
   "outputs": [],
   "source": [
    "# How close were we to our bootstrap confidence interval?"
   ]
  },
  {
   "cell_type": "markdown",
   "metadata": {
    "slideshow": {
     "slide_type": "fragment"
    }
   },
   "source": [
    "```\n",
    "very close\n",
    "```"
   ]
  },
  {
   "cell_type": "code",
   "execution_count": 107,
   "metadata": {
    "slideshow": {
     "slide_type": "fragment"
    }
   },
   "outputs": [],
   "source": [
    "# What happens if we decrease/increase the number of resamples?"
   ]
  },
  {
   "cell_type": "markdown",
   "metadata": {
    "slideshow": {
     "slide_type": "fragment"
    }
   },
   "source": [
    "```\n",
    "decrease: less like mathmatically calculated lower and upper bounds\n",
    "increase: more like mathmatically calculated lower and upper bounds\n",
    "```"
   ]
  },
  {
   "cell_type": "markdown",
   "metadata": {
    "slideshow": {
     "slide_type": "subslide"
    }
   },
   "source": [
    "Cool!  Now, since we do have the *\"population\"* that we're estimating, let's check the validity of our confidence interval."
   ]
  },
  {
   "cell_type": "code",
   "execution_count": 108,
   "metadata": {
    "slideshow": {
     "slide_type": "fragment"
    }
   },
   "outputs": [
    {
     "data": {
      "text/plain": [
       "71.61693989071038"
      ]
     },
     "execution_count": 108,
     "metadata": {},
     "output_type": "execute_result"
    }
   ],
   "source": [
    "# What was the population mean?\n",
    "pop_mean = np.mean(data.column(MEASURE))\n",
    "pop_mean"
   ]
  },
  {
   "cell_type": "code",
   "execution_count": 109,
   "metadata": {
    "slideshow": {
     "slide_type": "fragment"
    }
   },
   "outputs": [
    {
     "data": {
      "text/plain": [
       "True"
      ]
     },
     "execution_count": 109,
     "metadata": {},
     "output_type": "execute_result"
    }
   ],
   "source": [
    "# Is the population mean inside of our interval?\n",
    "lower_bound <= pop_mean <= upper_bound"
   ]
  },
  {
   "cell_type": "markdown",
   "metadata": {
    "slideshow": {
     "slide_type": "slide"
    }
   },
   "source": [
    "# Interval widths\n",
    "---\n",
    "\n",
    "What if we think our interval size is too big?  How does our interval size change as other parameters change?"
   ]
  },
  {
   "cell_type": "markdown",
   "metadata": {
    "slideshow": {
     "slide_type": "subslide"
    }
   },
   "source": [
    "# Provided that we want to keep 95% level of confidence, how will we narrow our interval width?"
   ]
  },
  {
   "cell_type": "code",
   "execution_count": null,
   "metadata": {
    "slideshow": {
     "slide_type": "fragment"
    }
   },
   "outputs": [],
   "source": [
    "# BEFORE we answer that, let's think about one more thing:\n",
    "#\n",
    "# What is the width of our interval, in terms of our mean and standard deviation?"
   ]
  },
  {
   "cell_type": "markdown",
   "metadata": {
    "slideshow": {
     "slide_type": "fragment"
    }
   },
   "source": [
    "\n",
    "$$Interval\\ Width = 4\\cdot Sample\\ Mean\\ Standard\\ Deviation$$\n",
    "$$= 4\\cdot \\frac{Sample\\ SD}{\\sqrt{Sample\\ Size}}$$"
   ]
  },
  {
   "cell_type": "markdown",
   "metadata": {
    "slideshow": {
     "slide_type": "fragment"
    }
   },
   "source": [
    "```\n",
    "Sample more countries!\n",
    "```"
   ]
  },
  {
   "cell_type": "markdown",
   "metadata": {
    "slideshow": {
     "slide_type": "subslide"
    }
   },
   "source": [
    "# Whats potentially wrong with what we've done above?"
   ]
  },
  {
   "cell_type": "markdown",
   "metadata": {
    "slideshow": {
     "slide_type": "fragment"
    }
   },
   "source": [
    "```\n",
    "Our sample probably isn't big enough to be very reliable.\n",
    "```"
   ]
  },
  {
   "cell_type": "code",
   "execution_count": null,
   "metadata": {
    "slideshow": {
     "slide_type": "subslide"
    }
   },
   "outputs": [],
   "source": [
    "# What happens if we can't tolerate a 5% chance of being wrong?\n",
    "#\n",
    "# If this is really important, we may want 99.7% confidence!\n",
    "#\n",
    "# What will happen to the width of our interval?"
   ]
  },
  {
   "cell_type": "markdown",
   "metadata": {
    "slideshow": {
     "slide_type": "fragment"
    }
   },
   "source": [
    "```\n",
    "Width increases as confidence increases.\n",
    "```"
   ]
  },
  {
   "cell_type": "markdown",
   "metadata": {
    "slideshow": {
     "slide_type": "subslide"
    }
   },
   "source": [
    "# What will our interval width be in term of mean and standard deviation?"
   ]
  },
  {
   "cell_type": "markdown",
   "metadata": {
    "slideshow": {
     "slide_type": "fragment"
    }
   },
   "source": [
    "To answer this, we need to know the \"Empirical Rule\".\n",
    "\n",
    "It goes a little something like this:"
   ]
  },
  {
   "cell_type": "markdown",
   "metadata": {
    "slideshow": {
     "slide_type": "fragment"
    }
   },
   "source": [
    "|# of SD away from mean|% of data contained in ± #SD|\n",
    "|---|---|\n",
    "|1|68%|\n",
    "|2|95%|\n",
    "|3|99.7%|"
   ]
  },
  {
   "cell_type": "code",
   "execution_count": 111,
   "metadata": {
    "slideshow": {
     "slide_type": "subslide"
    }
   },
   "outputs": [
    {
     "name": "stdout",
     "output_type": "stream",
     "text": [
      "\n",
      " Mean:\t75.22666666666666\n",
      "\n",
      "Lower:\t69.48200189547823\n",
      "Upper:\t80.97133143785508\n",
      "\n",
      "Level:\t99.7%\n",
      "\n"
     ]
    }
   ],
   "source": [
    "# So, we can calculate the CI if we need 99.7% confidence\n",
    "\n",
    "mean = np.mean(collected.column(MEASURE))\n",
    "\n",
    "std = np.std(collected.column(MEASURE)) / np.sqrt(collected.num_rows)\n",
    "\n",
    "lower_bound_997 = mean - 3 * std\n",
    "upper_bound_997 = mean + 3 * std\n",
    "\n",
    "print(\"\"\"\n",
    " Mean:\\t{}\n",
    "\n",
    "Lower:\\t{}\n",
    "Upper:\\t{}\n",
    "\n",
    "Level:\\t99.7%\n",
    "\"\"\".format(mean, lower_bound_997, upper_bound_997))"
   ]
  },
  {
   "cell_type": "code",
   "execution_count": 112,
   "metadata": {
    "slideshow": {
     "slide_type": "subslide"
    }
   },
   "outputs": [
    {
     "name": "stdout",
     "output_type": "stream",
     "text": [
      "\n",
      "95% Lower:\t71.47348568282355\t99.7% Lower:\t69.48200189547823\n",
      "95% Upper:\t78.97984765050977\t99.7% Upper:\t80.97133143785508\n",
      "\n"
     ]
    }
   ],
   "source": [
    "# Let's look at the bounds for 95% versus 99.7% confidence\n",
    "print(\"\"\"\n",
    "95% Lower:\\t{0}\\t99.7% Lower:\\t{2}\n",
    "95% Upper:\\t{1}\\t99.7% Upper:\\t{3}\n",
    "\"\"\".format(lower_bound, upper_bound, lower_bound_997, upper_bound_997))"
   ]
  }
 ],
 "metadata": {
  "celltoolbar": "Slideshow",
  "kernelspec": {
   "display_name": "Python 3",
   "language": "python",
   "name": "python3"
  },
  "language_info": {
   "codemirror_mode": {
    "name": "ipython",
    "version": 3
   },
   "file_extension": ".py",
   "mimetype": "text/x-python",
   "name": "python",
   "nbconvert_exporter": "python",
   "pygments_lexer": "ipython3",
   "version": "3.6.7"
  }
 },
 "nbformat": 4,
 "nbformat_minor": 2
}
