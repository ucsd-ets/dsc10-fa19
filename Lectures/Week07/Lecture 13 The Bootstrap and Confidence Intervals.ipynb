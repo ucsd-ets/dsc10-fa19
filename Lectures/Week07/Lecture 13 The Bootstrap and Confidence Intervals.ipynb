{
 "cells": [
  {
   "cell_type": "code",
   "execution_count": 52,
   "metadata": {},
   "outputs": [],
   "source": [
    "#: the usual imports\n",
    "from datascience import *\n",
    "import numpy as np\n",
    "\n",
    "%matplotlib inline\n",
    "import matplotlib.pyplot as plt\n",
    "import warnings; warnings.simplefilter('ignore')\n",
    "\n",
    "plt.style.use('fivethirtyeight')"
   ]
  },
  {
   "cell_type": "markdown",
   "metadata": {
    "slideshow": {
     "slide_type": "slide"
    }
   },
   "source": [
    "# Lecture 13\n",
    "\n",
    "### The Bootstrap and Confidence Intervals"
   ]
  },
  {
   "cell_type": "markdown",
   "metadata": {
    "slideshow": {
     "slide_type": "slide"
    }
   },
   "source": [
    "## Question\n",
    "\n",
    "- What is the median salary of San Diego city employees?\n",
    "- All city employee salary data is public."
   ]
  },
  {
   "cell_type": "code",
   "execution_count": 55,
   "metadata": {},
   "outputs": [
    {
     "data": {
      "text/plain": [
       "66665.5"
      ]
     },
     "execution_count": 55,
     "metadata": {},
     "output_type": "execute_result"
    }
   ],
   "source": [
    "#: read in the data\n",
    "population = Table.read_table('salaries.csv')\n",
    "np.median(population.column('Total Pay'))"
   ]
  },
  {
   "cell_type": "markdown",
   "metadata": {
    "slideshow": {
     "slide_type": "slide"
    }
   },
   "source": [
    "## The median salary\n",
    "\n",
    "- We can use `np.median()`:"
   ]
  },
  {
   "cell_type": "code",
   "execution_count": 56,
   "metadata": {},
   "outputs": [
    {
     "data": {
      "text/plain": [
       "66665.5"
      ]
     },
     "execution_count": 56,
     "metadata": {},
     "output_type": "execute_result"
    }
   ],
   "source": [
    "#...population_median\n",
    "# the median of the \"Total Pay\" column\n",
    "population_median = np.median(population.column('Total Pay'))\n",
    "population_median"
   ]
  },
  {
   "cell_type": "markdown",
   "metadata": {
    "slideshow": {
     "slide_type": "slide"
    }
   },
   "source": [
    "## But now...\n",
    "\n",
    "- ...suppose we don't have access to this data.\n",
    "- It is costly and time-consuming to survey *all* 11,000+ employees.\n",
    "- So we gather salaries for a random sample of, say, 500 people.\n",
    "- Hope the median of the sample $\\approx$ median of the population."
   ]
  },
  {
   "cell_type": "markdown",
   "metadata": {
    "slideshow": {
     "slide_type": "slide"
    }
   },
   "source": [
    "## In the language of statistics...\n",
    "\n",
    "- The full table of salaries is the **population**.\n",
    "- The median salary of all employees is a **parameter** of this population.\n",
    "- We observe a **sample** of 500 salaries from the population.\n",
    "- We really want the population median, but we don't have the whole population.\n",
    "- So we compute sample median, a **statistic** as an **estimate** of the population median.\n",
    "- Hopefully the sample median is close to the population median."
   ]
  },
  {
   "cell_type": "markdown",
   "metadata": {
    "slideshow": {
     "slide_type": "slide"
    }
   },
   "source": [
    "## The sample median\n",
    "\n",
    "- Let's survey 500 employees at random.\n",
    "- We can use `.sample()`:"
   ]
  },
  {
   "cell_type": "code",
   "execution_count": 57,
   "metadata": {},
   "outputs": [
    {
     "data": {
      "text/html": [
       "<table border=\"1\" class=\"dataframe\">\n",
       "    <thead>\n",
       "        <tr>\n",
       "            <th>Employee Name</th> <th>Job Title</th> <th>Base Pay</th> <th>Overtime Pay</th> <th>Other Pay</th> <th>Benefits</th> <th>Total Pay</th> <th>Total Pay & Benefits</th> <th>Year</th> <th>Notes</th> <th>Agency</th> <th>Status</th>\n",
       "        </tr>\n",
       "    </thead>\n",
       "    <tbody>\n",
       "        <tr>\n",
       "            <td>Darlene  Walker-Langford</td> <td>Payroll Spec 2          </td> <td>41050   </td> <td>0           </td> <td>10761    </td> <td>2502    </td> <td>51811    </td> <td>54313               </td> <td>2017</td> <td>nan  </td> <td>San Diego</td> <td>FT    </td>\n",
       "        </tr>\n",
       "        <tr>\n",
       "            <td>Brittany M Mitchell     </td> <td>Rec Aide                </td> <td>13456   </td> <td>9           </td> <td>25       </td> <td>808     </td> <td>13490    </td> <td>14298               </td> <td>2017</td> <td>nan  </td> <td>San Diego</td> <td>PT    </td>\n",
       "        </tr>\n",
       "        <tr>\n",
       "            <td>Dominic J Orban         </td> <td>Police Officer          </td> <td>58887   </td> <td>22692       </td> <td>11707    </td> <td>5391    </td> <td>93286    </td> <td>98677               </td> <td>2017</td> <td>nan  </td> <td>San Diego</td> <td>FT    </td>\n",
       "        </tr>\n",
       "        <tr>\n",
       "            <td>D'andre  Knight         </td> <td>Motor Sweeper Oper      </td> <td>44029   </td> <td>13939       </td> <td>4907     </td> <td>16372   </td> <td>62875    </td> <td>79247               </td> <td>2017</td> <td>nan  </td> <td>San Diego</td> <td>FT    </td>\n",
       "        </tr>\n",
       "        <tr>\n",
       "            <td>Brian S Taylor          </td> <td>Wstwtr Pretrmt Inspctr 2</td> <td>66216   </td> <td>0           </td> <td>10786    </td> <td>4024    </td> <td>77002    </td> <td>81026               </td> <td>2017</td> <td>nan  </td> <td>San Diego</td> <td>FT    </td>\n",
       "        </tr>\n",
       "        <tr>\n",
       "            <td>William J Carter        </td> <td>Police Officer          </td> <td>116813  </td> <td>0           </td> <td>38348    </td> <td>95      </td> <td>155161   </td> <td>155256              </td> <td>2017</td> <td>nan  </td> <td>San Diego</td> <td>FT    </td>\n",
       "        </tr>\n",
       "        <tr>\n",
       "            <td>Allison M Palmer        </td> <td>Park Ranger             </td> <td>49639   </td> <td>192         </td> <td>6685     </td> <td>6449    </td> <td>56516    </td> <td>62965               </td> <td>2017</td> <td>nan  </td> <td>San Diego</td> <td>FT    </td>\n",
       "        </tr>\n",
       "        <tr>\n",
       "            <td>Hong Khanh T Le         </td> <td>Asst Eng-Civil          </td> <td>56768   </td> <td>0           </td> <td>2729     </td> <td>10055   </td> <td>59497    </td> <td>69552               </td> <td>2017</td> <td>nan  </td> <td>San Diego</td> <td>FT    </td>\n",
       "        </tr>\n",
       "        <tr>\n",
       "            <td>Remedios A Villacruz    </td> <td>Library Assistant       </td> <td>24378   </td> <td>472         </td> <td>10547    </td> <td>2096    </td> <td>35397    </td> <td>37493               </td> <td>2017</td> <td>nan  </td> <td>San Diego</td> <td>PT    </td>\n",
       "        </tr>\n",
       "        <tr>\n",
       "            <td>Riter J Flores          </td> <td>Police Officer          </td> <td>75941   </td> <td>15992       </td> <td>31470    </td> <td>1637    </td> <td>123403   </td> <td>125040              </td> <td>2017</td> <td>nan  </td> <td>San Diego</td> <td>FT    </td>\n",
       "        </tr>\n",
       "    </tbody>\n",
       "</table>\n",
       "<p>... (490 rows omitted)</p>"
      ],
      "text/plain": [
       "Employee Name            | Job Title                | Base Pay | Overtime Pay | Other Pay | Benefits | Total Pay | Total Pay & Benefits | Year | Notes | Agency    | Status\n",
       "Darlene  Walker-Langford | Payroll Spec 2           | 41050    | 0            | 10761     | 2502     | 51811     | 54313                | 2017 | nan   | San Diego | FT\n",
       "Brittany M Mitchell      | Rec Aide                 | 13456    | 9            | 25        | 808      | 13490     | 14298                | 2017 | nan   | San Diego | PT\n",
       "Dominic J Orban          | Police Officer           | 58887    | 22692        | 11707     | 5391     | 93286     | 98677                | 2017 | nan   | San Diego | FT\n",
       "D'andre  Knight          | Motor Sweeper Oper       | 44029    | 13939        | 4907      | 16372    | 62875     | 79247                | 2017 | nan   | San Diego | FT\n",
       "Brian S Taylor           | Wstwtr Pretrmt Inspctr 2 | 66216    | 0            | 10786     | 4024     | 77002     | 81026                | 2017 | nan   | San Diego | FT\n",
       "William J Carter         | Police Officer           | 116813   | 0            | 38348     | 95       | 155161    | 155256               | 2017 | nan   | San Diego | FT\n",
       "Allison M Palmer         | Park Ranger              | 49639    | 192          | 6685      | 6449     | 56516     | 62965                | 2017 | nan   | San Diego | FT\n",
       "Hong Khanh T Le          | Asst Eng-Civil           | 56768    | 0            | 2729      | 10055    | 59497     | 69552                | 2017 | nan   | San Diego | FT\n",
       "Remedios A Villacruz     | Library Assistant        | 24378    | 472          | 10547     | 2096     | 35397     | 37493                | 2017 | nan   | San Diego | PT\n",
       "Riter J Flores           | Police Officer           | 75941    | 15992        | 31470     | 1637     | 123403    | 125040               | 2017 | nan   | San Diego | FT\n",
       "... (490 rows omitted)"
      ]
     },
     "execution_count": 57,
     "metadata": {},
     "output_type": "execute_result"
    }
   ],
   "source": [
    "#: take a sample of size 500\n",
    "sample_500 = population.sample(500, with_replacement=False)\n",
    "sample_500"
   ]
  },
  {
   "cell_type": "code",
   "execution_count": 60,
   "metadata": {},
   "outputs": [
    {
     "data": {
      "text/plain": [
       "2872.5"
      ]
     },
     "execution_count": 60,
     "metadata": {},
     "output_type": "execute_result"
    }
   ],
   "source": [
    "population_median-sample_median"
   ]
  },
  {
   "cell_type": "code",
   "execution_count": 58,
   "metadata": {},
   "outputs": [
    {
     "data": {
      "text/plain": [
       "63793.0"
      ]
     },
     "execution_count": 58,
     "metadata": {},
     "output_type": "execute_result"
    }
   ],
   "source": [
    "#: compute the sample median\n",
    "sample_median = np.median(sample_500.column('Total Pay'))\n",
    "sample_median"
   ]
  },
  {
   "cell_type": "markdown",
   "metadata": {
    "slideshow": {
     "slide_type": "slide"
    }
   },
   "source": [
    "## How confident are we?\n",
    "\n",
    "- Our estimate depended on a random sample.\n",
    "- If our sample was different, our estimate would've been different, too.\n",
    "- **How different could the estimate have been?**\n",
    "- Our confidence in the estimate depends on the answer."
   ]
  },
  {
   "cell_type": "markdown",
   "metadata": {
    "slideshow": {
     "slide_type": "slide"
    }
   },
   "source": [
    "## The sample median is random\n",
    "\n",
    "- The sample median is a random number.\n",
    "- It comes from some distribution of how the sample median could have turned out, based on *which* 500 people were in our sample.\n",
    "    - This is called the **sampling distribution**.\n",
    "    - It's not known to us, because we only have one sample.\n",
    "- How different could the estimate have been?\n",
    "    - \"Narrow\" sampling distribution $\\Rightarrow$ not too different\n",
    "    - \"Wide\" sampling distribution $\\Rightarrow$ quite different\n",
    "- **What is the distribution of the sample median?**"
   ]
  },
  {
   "cell_type": "markdown",
   "metadata": {
    "slideshow": {
     "slide_type": "slide"
    }
   },
   "source": [
    "## A (costly) approach\n",
    "\n",
    "- Every sample of 500 people gives me one observation of the sample median.\n",
    "- So draw a bunch of samples, compute medians."
   ]
  },
  {
   "cell_type": "code",
   "execution_count": 61,
   "metadata": {},
   "outputs": [],
   "source": [
    "#: imports for animation\n",
    "from lecture import sampling_animation\n",
    "from IPython.display import HTML"
   ]
  },
  {
   "cell_type": "code",
   "execution_count": 62,
   "metadata": {},
   "outputs": [],
   "source": [
    "%%capture\n",
    "anim, sample_medians = sampling_animation(population)"
   ]
  },
  {
   "cell_type": "code",
   "execution_count": 63,
   "metadata": {},
   "outputs": [
    {
     "data": {
      "text/html": [
       "\n",
       "<link rel=\"stylesheet\"\n",
       "href=\"https://maxcdn.bootstrapcdn.com/font-awesome/4.4.0/\n",
       "css/font-awesome.min.css\">\n",
       "<script language=\"javascript\">\n",
       "  /* Define the Animation class */\n",
       "  function Animation(frames, img_id, slider_id, interval, loop_select_id){\n",
       "    this.img_id = img_id;\n",
       "    this.slider_id = slider_id;\n",
       "    this.loop_select_id = loop_select_id;\n",
       "    this.interval = interval;\n",
       "    this.current_frame = 0;\n",
       "    this.direction = 0;\n",
       "    this.timer = null;\n",
       "    this.frames = new Array(frames.length);\n",
       "\n",
       "    for (var i=0; i<frames.length; i++)\n",
       "    {\n",
       "     this.frames[i] = new Image();\n",
       "     this.frames[i].src = frames[i];\n",
       "    }\n",
       "    document.getElementById(this.slider_id).max = this.frames.length - 1;\n",
       "    this.set_frame(this.current_frame);\n",
       "  }\n",
       "\n",
       "  Animation.prototype.get_loop_state = function(){\n",
       "    var button_group = document[this.loop_select_id].state;\n",
       "    for (var i = 0; i < button_group.length; i++) {\n",
       "        var button = button_group[i];\n",
       "        if (button.checked) {\n",
       "            return button.value;\n",
       "        }\n",
       "    }\n",
       "    return undefined;\n",
       "  }\n",
       "\n",
       "  Animation.prototype.set_frame = function(frame){\n",
       "    this.current_frame = frame;\n",
       "    document.getElementById(this.img_id).src =\n",
       "            this.frames[this.current_frame].src;\n",
       "    document.getElementById(this.slider_id).value = this.current_frame;\n",
       "  }\n",
       "\n",
       "  Animation.prototype.next_frame = function()\n",
       "  {\n",
       "    this.set_frame(Math.min(this.frames.length - 1, this.current_frame + 1));\n",
       "  }\n",
       "\n",
       "  Animation.prototype.previous_frame = function()\n",
       "  {\n",
       "    this.set_frame(Math.max(0, this.current_frame - 1));\n",
       "  }\n",
       "\n",
       "  Animation.prototype.first_frame = function()\n",
       "  {\n",
       "    this.set_frame(0);\n",
       "  }\n",
       "\n",
       "  Animation.prototype.last_frame = function()\n",
       "  {\n",
       "    this.set_frame(this.frames.length - 1);\n",
       "  }\n",
       "\n",
       "  Animation.prototype.slower = function()\n",
       "  {\n",
       "    this.interval /= 0.7;\n",
       "    if(this.direction > 0){this.play_animation();}\n",
       "    else if(this.direction < 0){this.reverse_animation();}\n",
       "  }\n",
       "\n",
       "  Animation.prototype.faster = function()\n",
       "  {\n",
       "    this.interval *= 0.7;\n",
       "    if(this.direction > 0){this.play_animation();}\n",
       "    else if(this.direction < 0){this.reverse_animation();}\n",
       "  }\n",
       "\n",
       "  Animation.prototype.anim_step_forward = function()\n",
       "  {\n",
       "    this.current_frame += 1;\n",
       "    if(this.current_frame < this.frames.length){\n",
       "      this.set_frame(this.current_frame);\n",
       "    }else{\n",
       "      var loop_state = this.get_loop_state();\n",
       "      if(loop_state == \"loop\"){\n",
       "        this.first_frame();\n",
       "      }else if(loop_state == \"reflect\"){\n",
       "        this.last_frame();\n",
       "        this.reverse_animation();\n",
       "      }else{\n",
       "        this.pause_animation();\n",
       "        this.last_frame();\n",
       "      }\n",
       "    }\n",
       "  }\n",
       "\n",
       "  Animation.prototype.anim_step_reverse = function()\n",
       "  {\n",
       "    this.current_frame -= 1;\n",
       "    if(this.current_frame >= 0){\n",
       "      this.set_frame(this.current_frame);\n",
       "    }else{\n",
       "      var loop_state = this.get_loop_state();\n",
       "      if(loop_state == \"loop\"){\n",
       "        this.last_frame();\n",
       "      }else if(loop_state == \"reflect\"){\n",
       "        this.first_frame();\n",
       "        this.play_animation();\n",
       "      }else{\n",
       "        this.pause_animation();\n",
       "        this.first_frame();\n",
       "      }\n",
       "    }\n",
       "  }\n",
       "\n",
       "  Animation.prototype.pause_animation = function()\n",
       "  {\n",
       "    this.direction = 0;\n",
       "    if (this.timer){\n",
       "      clearInterval(this.timer);\n",
       "      this.timer = null;\n",
       "    }\n",
       "  }\n",
       "\n",
       "  Animation.prototype.play_animation = function()\n",
       "  {\n",
       "    this.pause_animation();\n",
       "    this.direction = 1;\n",
       "    var t = this;\n",
       "    if (!this.timer) this.timer = setInterval(function() {\n",
       "        t.anim_step_forward();\n",
       "    }, this.interval);\n",
       "  }\n",
       "\n",
       "  Animation.prototype.reverse_animation = function()\n",
       "  {\n",
       "    this.pause_animation();\n",
       "    this.direction = -1;\n",
       "    var t = this;\n",
       "    if (!this.timer) this.timer = setInterval(function() {\n",
       "        t.anim_step_reverse();\n",
       "    }, this.interval);\n",
       "  }\n",
       "</script>\n",
       "\n",
       "<div class=\"animation\" align=\"center\">\n",
       "    <img id=\"_anim_imgbcb80efa16ec473680fe484578536fbe\">\n",
       "    <br>\n",
       "    <input id=\"_anim_sliderbcb80efa16ec473680fe484578536fbe\" type=\"range\" style=\"width:350px\"\n",
       "           name=\"points\" min=\"0\" max=\"1\" step=\"1\" value=\"0\"\n",
       "           onchange=\"animbcb80efa16ec473680fe484578536fbe.set_frame(parseInt(this.value));\"></input>\n",
       "    <br>\n",
       "    <button onclick=\"animbcb80efa16ec473680fe484578536fbe.slower()\"><i class=\"fa fa-minus\"></i></button>\n",
       "    <button onclick=\"animbcb80efa16ec473680fe484578536fbe.first_frame()\"><i class=\"fa fa-fast-backward\">\n",
       "        </i></button>\n",
       "    <button onclick=\"animbcb80efa16ec473680fe484578536fbe.previous_frame()\">\n",
       "        <i class=\"fa fa-step-backward\"></i></button>\n",
       "    <button onclick=\"animbcb80efa16ec473680fe484578536fbe.reverse_animation()\">\n",
       "        <i class=\"fa fa-play fa-flip-horizontal\"></i></button>\n",
       "    <button onclick=\"animbcb80efa16ec473680fe484578536fbe.pause_animation()\"><i class=\"fa fa-pause\">\n",
       "        </i></button>\n",
       "    <button onclick=\"animbcb80efa16ec473680fe484578536fbe.play_animation()\"><i class=\"fa fa-play\"></i>\n",
       "        </button>\n",
       "    <button onclick=\"animbcb80efa16ec473680fe484578536fbe.next_frame()\"><i class=\"fa fa-step-forward\">\n",
       "        </i></button>\n",
       "    <button onclick=\"animbcb80efa16ec473680fe484578536fbe.last_frame()\"><i class=\"fa fa-fast-forward\">\n",
       "        </i></button>\n",
       "    <button onclick=\"animbcb80efa16ec473680fe484578536fbe.faster()\"><i class=\"fa fa-plus\"></i></button>\n",
       "  <form action=\"#n\" name=\"_anim_loop_selectbcb80efa16ec473680fe484578536fbe\" class=\"anim_control\">\n",
       "    <input type=\"radio\" name=\"state\"\n",
       "           value=\"once\" > Once </input>\n",
       "    <input type=\"radio\" name=\"state\"\n",
       "           value=\"loop\" checked> Loop </input>\n",
       "    <input type=\"radio\" name=\"state\"\n",
       "           value=\"reflect\" > Reflect </input>\n",
       "  </form>\n",
       "</div>\n",
       "\n",
       "\n",
       "<script language=\"javascript\">\n",
       "  /* Instantiate the Animation class. */\n",
       "  /* The IDs given should match those used in the template above. */\n",
       "  (function() {\n",
       "    var img_id = \"_anim_imgbcb80efa16ec473680fe484578536fbe\";\n",
       "    var slider_id = \"_anim_sliderbcb80efa16ec473680fe484578536fbe\";\n",
       "    var loop_select_id = \"_anim_loop_selectbcb80efa16ec473680fe484578536fbe\";\n",
       "    var frames = new Array(9);\n",
       "    \n",
       "  frames[0] = \"data:image/png;base64,iVBORw0KGgoAAAANSUhEUgAAAbAAAAEgCAYAAADVKCZpAAAABHNCSVQICAgIfAhkiAAAAAlwSFlz\\\n",
       "AAALEgAACxIB0t1+/AAAADl0RVh0U29mdHdhcmUAbWF0cGxvdGxpYiB2ZXJzaW9uIDMuMC4zLCBo\\\n",
       "dHRwOi8vbWF0cGxvdGxpYi5vcmcvnQurowAAHENJREFUeJzt3X1clfX9x/H34U5RQRIRkRRUjjdY\\\n",
       "iakh4gNNU1OTVkm12KytZY90c5ar4WPdbj3S1mO1bM3WzbpZZa2cldWmLQOplTeoqEOUUo8hlgoc\\\n",
       "Rczk5vr9we9c43CjBwXhC6/n43EennNd3+t7fT8XcL051/U96HC73ZYAADCMX2sPAACAs0GAAQCM\\\n",
       "RIABAIxEgAEAjESAAQCMRIABAIxEgAEAjESAAQCMRIABAIxEgAEAjESAAQCMRIABAIxEgAEAjESA\\\n",
       "AW3IHXfcobCwMIWFheniiy9u7eEAbVpAaw8AADx27dqlt99+W7m5ucrNzdW3335rr/vhD3+oZcuW\\\n",
       "teLo0NYQYADajI8//liPPfZYaw8DhuASIoA2JTQ0VMnJyZo7d25rDwVtHAGGs5KdnW3fqwkLC1N2\\\n",
       "drZWrlypyZMnq0+fPurXr59uuOEG7d69+6z3UVhYqLvvvluJiYnq06ePIiIi5HQ6NW7cOM2bN0/v\\\n",
       "vvuuV/tVq1Zpzpw5SkpKUlxcnHr16qXevXvr4osv1uzZs/XJJ5+csY5169bpr3/9q5KSkhQZGamL\\\n",
       "L75YixcvVmVlpSTpxRdf1NixYxUZGakhQ4bo7rvvVllZmVefLpfLq8/XXntNWVlZmjlzpvr166fo\\\n",
       "6GjNmDFDWVlZTT4mlZWVevXVV3XNNdfI6XQqIiJCsbGxuuqqq/Taa6+purq63jb5+fmaO3euRowY\\\n",
       "od69e6tXr14aPHiwLr/8ct11111nNY6W8pOf/EQul0sffPCBHnnkkdYeDto4h9vttlp7EDBPdna2\\\n",
       "Zs6cab9OSkrS559/Xq9dz549tX79eoWHhzep/yNHjmjs2LE6dOhQo22Sk5P1wQcf2K9nz56t9957\\\n",
       "77T9PvDAA7rzzjvt13XruPTSS7V58+Z62/3oRz9ScHCwnnvuuXrrxo8f7xWmLpdLw4cP91q/bt06\\\n",
       "WZb3j5qfn5+effZZzZo1y152xx13aPny5ZKkvn37avv27fY6t9uttLQ0bdy4sdH6Jk6cqNdff12d\\\n",
       "O3eWVHNPaeLEiSovL290m6bcW1q8eLEeffRRn9p65ObmKiYmpknbeISFhdnPuQeGurgHhmbx+eef\\\n",
       "a8SIEZo0aZI+/fRTffHFF5Jqguhvf/ubFixY0KT+3n33XTu8OnfurPT0dEVHR6ukpESFhYX69NNP\\\n",
       "623TvXt3TZgwQYMGDVJYWJi6dOmio0ePat26dcrJyZFUcwK+8cYbFRUV1eB+N2/erPHjxysxMVFv\\\n",
       "vfWW9u7dK0l69dVXJUmjRo3SxIkT9f777ysvL0+SlJWVpZycHI0cObLBPrOyshQfH6/p06erqKhI\\\n",
       "b775pqqqqlRdXa0FCxZo/PjxioiIOOMxuf322+3wCgwM1DXXXKNBgwZp7969+vvf/66KigqtXbtW\\\n",
       "9913n30f6fXXX7fDq3v37kpPT1fPnj11+PBhuVyuBo8jYAoCDM1ixIgRWr16tYKCgnTq1CnFx8fr\\\n",
       "yJEjkmSHR1N8//339vPk5GT94Q9/8FpvWZZcLpfXsqeeekpVVVXasmWLdu/erWPHjsnf31/Tpk2z\\\n",
       "x3Dq1CmtW7dON9xwQ4P7TUlJ0TvvvCOHw6HRo0crLS3NXjdkyBB9+OGHCgoK0g9+8AONHTvWXrdp\\\n",
       "06ZGA2zgwIFau3at/a5o+PDh+vWvfy1JOn78uN544w394he/OO3xyMvL0+rVq+3XTz75pG666Sb7\\\n",
       "9eDBg3X//fdLkl566SX95je/UVhYmNdxvPbaa+tdlqusrNTBgwdPu+/aJk6cqG7duvncXpIuuOCC\\\n",
       "JrUHfEWAoVncfPPNCgoKkiQFBQUpNjbWDjC3293k/saOHSs/Pz9VV1fr448/1mWXXab4+HgNGDBA\\\n",
       "8fHxSklJUWxsrNc2K1euVEZGhtfU64YUFRU1uu7666+Xw+GQpHqXva6++mq7RqfT6bXudDWmpaXZ\\\n",
       "4SVJ6enpdoBJvgW85x2tx9y5cxud5FBRUaFNmzbpiiuu0Lhx4/TMM89Iqrl/t2nTJg0ZMkT9+/fX\\\n",
       "RRddpJSUFPXt2/eM+/dITExUYmKiz+2BlkSAoVn069fP67XnRC+pwYkFZ5KQkKDHH39cDz30kEpL\\\n",
       "S7V7926vCSH+/v6aP3++HnjgAUnStm3bdOutt/q0r5MnTza6Ljo62n7eqVMnr3V9+vSxnwcGBnqt\\\n",
       "O91+IyMjvV5369ZN3bp10/HjxyX5FvAlJSVnbFOb55eHq666ShkZGXrqqadUXl6u7du3e91X69y5\\\n",
       "s373u9/ptttu86nf9evXa8OGDU0ay80336zQ0NAmbQP4ggBDs6h7Qve8izkXt9xyi9LT07V582bl\\\n",
       "5eVp79692rBhg7744gtVVVXpiSee0KRJkzRu3Di98847dog4HA4tW7ZM06dPV2hoqE6cOOEVPqcT\\\n",
       "END4j8Tp1p1O3XeE5eXldnhJ3hMVGlP3MtzPf/7zesFYW+1JJBkZGfrlL3+pjRs3Kj8/X3v37lV2\\\n",
       "drZ27NihkydPKiMjQ5MnT673jrYha9eubfIkjtTUVAIMLYIAQ5v0zTffSJJ69+7tddnKsizFxMTo\\\n",
       "2LFjkqQtW7Zo3LhxKi4utrcNCQlRWlqa/P39JUlvvvnmeR69t7ffflt33nmn/Y7OMyHEo7F7Z7WN\\\n",
       "GTPG63VgYGCD980OHTqk9evXa+jQoZKkffv22dP5U1JSlJKSIkkqLS1V//79JUlVVVXKzc31KcCA\\\n",
       "toQAQ5u0fv163XLLLRo9erSGDh2qyMhIBQYG6j//+Y8dXtL/3pnUvid17NgxXXfddUpOTlZ+fr5W\\\n",
       "rlx53sdf25dffqmJEydq+vTpOnDggFegdu3atdEJJbUNGzZMkydP1kcffSRJeuKJJ7Rp0yYlJiYq\\\n",
       "ODhY33zzjbZu3aqcnBwlJSXZHw1YtWqVHnroISUlJcnpdCoyMlKWZdn9ePg60WLRokVatGiRr6U3\\\n",
       "2ZYtW7RixYoG123dulX33nuvpJrxLly4sMXGATMQYGizLMvShg0bGr3nMnDgQF199dWSaj6n9cwz\\\n",
       "z6iwsFCSlJmZqczMTEk1kyZee+218zLmhkydOlUfffSR/vvf/3ot9/Pz0+OPP65evXr51M9f/vIX\\\n",
       "zZo1y/6cWnZ2trKzs8+4XWVl5WnbjhkzRsnJyT6NoaXl5eXpT3/6U4Prdu7cqZ07d0qq+YwcAQYC\\\n",
       "DG3SZZddpgcffFAbNmzQ7t27dfjwYR0/flxdu3bVgAEDNHnyZM2bN08hISGSau4j/etf/9KDDz6o\\\n",
       "jz/+WCdOnFBsbKx+/OMfa+7cua0aYKmpqZo/f74ee+wx5eTkqKqqSgkJCbrnnns0YcIEn/vp0aOH\\\n",
       "1qxZozfeeEMrV67U9u3bVVpaqq5duyoqKkqDBg3SlClTNHXqVHubadOm6cSJE9q4caO++uorFRcX\\\n",
       "q7y8XKGhoRo0aJBmzJih2267zb7cCpiEv8QBNLO6f4nj6aefVnp6eiuOCGif+FuIAAAjEWAAACNx\\\n",
       "DwznzUMPPaT333//jO1uu+02zZkz5zyMCIDJCDCcN998840KCgrO2K72Z7pMFBMTc1Z/PgtA0zCJ\\\n",
       "AwBgJO6BAQCMRIABAIxEgP0/X+7NtFcdtfaOWrfUcWvvqHVL7bN2AgwAYCQCDABgJAIMAGAkAgwA\\\n",
       "YCQCDABgJAIMAGAkAgwAYCQCDABgJAIMAGAkAgwAYCQCDABgJAIMAGAkAgwAYCQCDABgJAIMAGAk\\\n",
       "AgwAYCQCDABgJAIMAGAkAgwAYCQCDABgJAIMAGAkAgwAYCQCDABgJAIMAGAkAgwAYCQCDABgJAIM\\\n",
       "AGAkAgwAYCSH2+22WnsQdRUUFLT2EAAAzcDpdLZY320ywFpDQUFBix7otqyj1t5R65Y6bu0dtW6p\\\n",
       "fdbOJUQAgJEIMACAkQgwAICRCDAAgJEIMACAkQgwAICRCDAAgJEIMACAkQgwAICRCDAAgJEIMACA\\\n",
       "kQgwAICRCDAAgJEIMACAkQgwAICRCDAAgJEIMACAkQgwAICRCDAAgJEIMACAkQgwAICRCDAAgJEI\\\n",
       "MACAkQgwAICRCDAAgJEIMACAkQgwAICRCDAAgJEIMACAkQgwAICRCDAAgJEIMACAkQgwAICRCDAA\\\n",
       "gJEIMACAkQgwAICRCDAAgJEIMACAkQgwAICRCDAAgJEIMACAkRxut9tq7UHUVVBQ0NpDAAA0A6fT\\\n",
       "2WJ9t8kAaw0FBQUteqDbso5ae0etW+q4tXfUuqX2WTuXEAEARiLAAABGIsAAAEYiwAAARiLAAABG\\\n",
       "IsAAAEYiwAAARiLAAABGIsAAAEYiwAAARiLAAABGIsAAAEYiwAAARiLAAABGIsAAAEYiwAAARiLA\\\n",
       "AABGIsAAAEYiwAAARiLAAABGIsAAAEYiwAAARiLAAABGIsAAAEYiwAAARiLAAABGIsAAAEYiwAAA\\\n",
       "RiLAAABGIsAAAEYiwAAARiLAAABGIsAAAEYiwAAARiLAgBZSfLKqScsBNA0BBrSA9d9+r+fzy5VX\\\n",
       "WuG1PK+0Qs/nl2v9t9+30siA9iOgtQcAtDfrv/1ea4tqAuq9fd9JkuIvCFReaYXe2/edLMlenxjZ\\\n",
       "qbWGCRiPAAOaUfHJKmUe/N+7K0s1IbaztEIFRytl1WqbefB7xXUPUHhn//M+TqA94BIi0IzCO/tr\\\n",
       "ZkywHLWWWZJ21wkvh6SZMcGEF3AOCDCgmcVfEKjUWO8Qq80hKTU2WPEXBJ7PYQHtjsPtdltnbnZ+\\\n",
       "FRQUtPYQgHO25rC/9p2o/ztibJdqTYlgJiI6BqfT2WJ9t8l7YC1ZcGMKCgpaZb9tQUetvSXrziut\\\n",
       "UNnx79QjuP66MkkVPVv3HRhf846nPdbOJUSgmdWebdgQz8SOulPsATQNAQY0o+KTVVrl+q7ehI1B\\\n",
       "3QPqTexY5fqODzUD54AAA5pReGd/TYj632e7PBM2rhvQpd7EjglRnZiFCJyDNnkPDDCZ58PJmQe/\\\n",
       "18yY/93r8vy7yvWdJkR14kPMwDkiwIAWkBjZqcEPKcdfEKjIYD/eeQHNgEuIQAtpLKQIL6B5EGAA\\\n",
       "ACMRYAAAIxFgAAAjEWAAACMRYAAAIxFgAAAjEWAAACMRYAAAIxFgAAAjEWAAACMRYAAAIxFgAAAj\\\n",
       "EWAAACMRYAAAIxFgAAAjEWAAACMRYAAAIxFgAAAjEWAAACMRYAAAIxFgAAAjEWAAACMRYAAAIxFg\\\n",
       "AAAjEWAAACMRYAAAIxFgAAAjEWAAACMRYAAAIxFgAAAjEWAAACMRYAAAIxFgAAAjEWAAACMRYAAA\\\n",
       "IzncbrfV2oOoq6CgoLWHAABoBk6ns8X6bpMB1hoKCgpa9EC3ZR219o5at9Rxa++odUvts3YuIQIA\\\n",
       "jESAAQCMRIABAIxEgAEAjESAAQCMRIABAIxEgAEAjESAAQCMRIABAIxEgAEAjESAAQCMRIABAIxE\\\n",
       "gAEAjESAAQCMRIABAIxEgAEAjESAAQCMRIABAIxEgAEAjESAAQCMRIABAIxEgAEAjESAAQCMRIAB\\\n",
       "AIxEgAEAjESAAQCMRIABAIxEgAEAjESAAQCMRIABAIxEgAEAjESAAQCMRIABAIxEgAEAjESAAQCM\\\n",
       "RIABAIxEgAEAjESAAQCMRIABAIxEgAEAjORwu91Waw+iroKCgtYeAgCgGTidzhbru00GWGsoKCho\\\n",
       "0QPdlnXU2jtq3VLHrb2j1i21z9q5hAgAMBIBBgAwEgEGADASAQYAMBIBBgAwEgEGADASAQYAMBIB\\\n",
       "BgAwEgEGADASAQYAMBIBBgAwEgEGADASAQYAMBIBBgAwEgEGADASAQYAMBIBBgAwEgEGADASAQYA\\\n",
       "MBIBBgAwEgEGADASAQYAMBIBBgAwEgEGADASAQYAMBIBBgAwEgEGADASAQYAMBIBBgAwksPtdlut\\\n",
       "PQgAAJqKd2AAACMRYAAAIxFgAAAjEWAAACMZGWAlJSXKyMjQJZdcooiICPXv31/Tpk1Tbm6uysrK\\\n",
       "tGjRIk2YMEEDBw5U7969NWLECC1atEhHjhzx6ufQoUOaN2+e4uLi1KtXLyUmJuqZZ56pt7/MzExd\\\n",
       "eeWVioqKUt++fXXttddq69atXm0qKiq0ZMkSDR8+XBEREYqPj1dGRobKysrOS921lZWVKSEhQWFh\\\n",
       "YQoLC9Ozzz5rdN2+1p6Xl6dbbrlFcXFxioiI0ODBg3XjjTeqvLzc2NrPVPeePXs0Z84cDRs2TL16\\\n",
       "9dKAAQN05ZVXauXKlV79mFS3y+Wyv3cbetxxxx1NGseePXs0e/ZsxcbGKjIyUikpKXr77bfr7XfF\\\n",
       "ihVKSUlR7969FRsbq9mzZ2vPnj1ebTznl/j4eEVERGj48OFavHixKioqzlvt7fkc12Rut9sy6bFn\\\n",
       "zx6rf//+liTL39/fcjqdVnx8vNWtWzfr5ZdftnJzc73WRUZGWpIsSdawYcOskpISy+12WwcOHLCc\\\n",
       "TqclyQoODrYGDhxot7v77rvt/a1YscLy9/e3JFl9+vSxwsPDLUlWly5drM8++8xud/3111uSLD8/\\\n",
       "P8vpdFqBgYGWJCs5OdneZ0vWXbvtjTfeaNciyfr9739vrzOtbl9rX716tdWlSxd7jMOGDbOcTqcV\\\n",
       "EBBgffXVV0bWfqa6S0pKrL59+1qSrKCgIOuSSy6xwsLC7JpWr15tZN35+fnWqFGjvB5Dhw61x3zn\\\n",
       "nXf6PI78/HwrIiLCkmSFhoZaMTExdj9Lly6197l06VJ7eUxMjBUaGmpJsiIiIqxdu3ZZbrfbKikp\\\n",
       "sZKTky1JVmBgoOV0Oi0/Pz9LknXDDTc0y/e6L7W313Pc2TyMC7Cf/vSn9oHOycmxlxcXF1tFRUXW\\\n",
       "rl27rN/+9reWy+Wy3G63deTIEeuqq66yv3BZWVmW2+22Hn74YUuS5XA4rE8//dRyu93WvHnz7G/O\\\n",
       "3bt3W26324qPj7ckWaNHj7aOHDliff3111a/fv0sSdaVV15pud1uKzMzs15YLF++3F72yiuvtHjd\\\n",
       "ntcvvviiJcm65pprGgww0+r2pfbS0lJryJAhliRrwoQJ9tfe7XZbRUVF9g+XabWfqW7PiUySdf/9\\\n",
       "91tut9tas2aNveyFF14wsu6GHvfcc4893h07dvg8jjlz5liSrJCQEGvnzp2W2+22UlNTLUlWeHi4\\\n",
       "dejQIevQoUP2STs1NdVyu93Wzp07rZCQEEuSNWfOHMvtdluvvPKK3f8bb7xhud1u69FHH7WXZWZm\\\n",
       "npfa2+s57mweRl1CtCzLvjQSExOjn/3sZ4qOjlZiYqJeeuklBQcHKzIyUvPnz1f37t0lSQEBAUpM\\\n",
       "TLT76NSpkyTp3//+tyRp4MCBuuiiiyRJqampkmreKq9bt05FRUXKy8uTJE2bNk0BAQEKCQnR5Zdf\\\n",
       "LknKyspSVVWV3VftPqZOnarOnTtLktauXdvidUtSYWGhFixYoISEBN17770N9mVS3b7WvmPHDuXn\\\n",
       "50uSQkNDNX78eF144YWaMmWKcnJy5OfnZ1ztvtTdp08fxcTESJKWLFmilJQUXX/99fL391daWppm\\\n",
       "zpxpXN0NOXHihJ5//nlJ0qxZs3ThhRf6PA5Pu9GjRysqKkqS7ONSXFysrVu3avPmzSouLvbqKyoq\\\n",
       "SqNGjWqwr+DgYE2ZMsWrfe12zamh2tvjOe5sGRVgR44cUWlpqSTp888/19dff63w8HDt2rVLCxcu\\\n",
       "1HPPPVdvm7KyMi1fvlySNHbsWA0ZMkSSdODAAUlSRESE3bZXr17288LCQruNJPXs2dN+7tnmu+++\\\n",
       "U3FxsVc7zzo/Pz+Fh4fbfZ0LX+qurq7W7bffrsrKSj3//PMKCAhosC+T6pZ8q/3LL7+027/33nuS\\\n",
       "pMDAQG3YsEHXXnutfb/IpNp9qTswMFAffPCBhg8frlOnTmnbtm1yu93q3r27LrnkEgUFBRlXd0Ne\\\n",
       "eeUVlZSUyOFwaP78+ZLk8zg87WrXdLraax8jz/O6ffXo0cP+pahuX82todrrag/nuLNlVIBVVlba\\\n",
       "z3v06KEtW7Zoy5YtuuyyyySpXoAVFRVpxowZysvL05AhQ/Tiiy/a6yzLqtd/3WUNtWlIY+183f5M\\\n",
       "fKl72bJl+uyzz7R48WLFxcU1aaxttW7Jt9prt5k4caK2bNmijRs3qmvXrqqoqNBLL73U6Ljaau2+\\\n",
       "1F1dXa277rpLubm5uvXWW3XgwAG9/vrrKikp0X333ac333yz0TG11brrqqqq0p///GdJNb/xDx06\\\n",
       "9JzH0Zy1t1TdUuO119ZeznFny6gA69mzp/1bZVxcnEJCQuTv76/hw4dLkvbv32+33bp1qyZNmqRt\\\n",
       "27ZpzJgx+vDDDxUZGWmvv/DCCyVJhw8ftpfVfh4dHW23keQ1u8fTLjg4WOHh4V7tPOuqq6tVUlJi\\\n",
       "99XSde/YsUOStGjRIkVHRyspKcne/t5777UveZhUt+Rb7Z5LQ5KUkJAgh8Ohnj172pfXPN8XJtXu\\\n",
       "S91ZWVlas2aNJCk9PV1du3bV9OnT7d+QMzMzjau7rn/84x/212/BggX2cl/H4fm3oZo86xvqq/Zz\\\n",
       "Tx+edsXFxaqurm6wr+bUWO0e7ekcd7aMCrDAwECNGzdOkvTll1/q+PHjqq6u1vbt2yXVXOuVpFWr\\\n",
       "Vmn69Ok6ePCg0tLS9O6776pHjx5efU2aNEmS9NVXX9knf8/lp4CAAI0fP159+vRRfHy8JOmf//yn\\\n",
       "KisrVVZWpk8++USSNH78ePn7++uKK66w+/X0sXr1ap08edJrXy1dtySVl5ervLxcJ06csJedOnXK\\\n",
       "fm1S3b7WPnLkSIWGhkqStm3bJqlm+rnnh99zfEyq3Ze6jx07ZrfPycmRJO3bt8++9Ni1a1fj6q5r\\\n",
       "6dKlkqQxY8ZozJgx9nJfx+H5d+PGjTp48KCkmvODVPPOdsSIEbr00kvt84Onr4MHD2rTpk0N9nXy\\\n",
       "5En7FwdP+9rrm0tjtXtqaE/nuLPWGjNHzuWxdu1aq1OnTvYUV89sGUnWyy+/bO3cudNyOBz2NNO6\\\n",
       "U1I9M4UKCwvtaaXBwcFWXFyc3c/ChQvt/b311lv2VNnaU0yDg4Ot7Oxsu92sWbPsKaaDBg2yp5gm\\\n",
       "JSU1yxTTM9Vdt33tGWq1ZyGaVrevtdeeDda/f3+rR48ellQzdXrr1q1G1n6muvfs2WNPm3c4HFZ8\\\n",
       "fLw9c87f39+eRm9a3Z7HihUr7HEuX7683npfxpGXl2fXUXca/ZNPPmn39cc//tFeXnsafXh4uD17\\\n",
       "sbi42EpKSrJn8Q0aNMg+Xmlpac16njtd7e31HHc2D/+MjIwHzyH/zruoqChNmDBB+/fvl8vlUmVl\\\n",
       "pUaOHKmnn35aU6dOVUlJiZYtWyap5vpsUVGR1+O6665TTEyMgoKCdPXVV6u4uFj79+/XoUOHNHDg\\\n",
       "QP3qV7/SwoUL5XA4JNX8pjtq1Ci5XC7t27dPlmVp7NixevbZZ5WQkGCPa9q0aXI4HNq/f799w/2m\\\n",
       "m27SU089Zc/Uacm66zp69Kj9gcXJkydr5MiRkmRc3b7WPmrUKMXExMjlcsnlcikkJERXXHGFXn75\\\n",
       "ZcXGxhpZ+5nqDg4O1rRp03Ts2DEdPXpUhYWFCgkJ0ZgxY7R06VL7MrJpdXssWLBALpdLgwcP1pIl\\\n",
       "S+xxNmUcISEhmjFjhg4ePCiXy6WjR48qPj5eDz/8sNLT0+2+EhISNGDAAO3bt08ul0sBAQGaPHmy\\\n",
       "XnjhBftStJ+fn1JTU3XixAl9/fXXKioqUnR0tObMmaNHHnlE/v7+56X29nqOOxv8dyoAACMZdQ8M\\\n",
       "AAAPAgwAYCQCDABgJAIMAGAkAgwAYKT/A6tNRPYTd5KEAAAAAElFTkSuQmCC\\\n",
       "\"\n",
       "  frames[1] = \"data:image/png;base64,iVBORw0KGgoAAAANSUhEUgAAAbAAAAEgCAYAAADVKCZpAAAABHNCSVQICAgIfAhkiAAAAAlwSFlz\\\n",
       "AAALEgAACxIB0t1+/AAAADl0RVh0U29mdHdhcmUAbWF0cGxvdGxpYiB2ZXJzaW9uIDMuMC4zLCBo\\\n",
       "dHRwOi8vbWF0cGxvdGxpYi5vcmcvnQurowAAHVtJREFUeJzt3Xl0VOX9x/HPZIMACZEQQoiQsAxL\\\n",
       "UAmyhAANm4iAoChRayx6asUDVIp7OOLWegRrqxVqoagVrIhWEQW1ohUTolUgYW8EgsBgSBBIGAhB\\\n",
       "JMv9/cFvrpmQwATJ8pD365w5zNz7zHOf701yPzP3PjM43G63JQAADONX3wMAAOB8EGAAACMRYAAA\\\n",
       "IxFgAAAjEWAAACMRYAAAIxFgAAAjEWAAACMRYAAAIxFgAAAjEWAAACMRYAAAIxFgAAAjEWBAAzJl\\\n",
       "yhSFhYUpLCxMl19+eX0PB2jQAup7AAAgSWVlZfr444/15ZdfKjMzU/n5+Tp06JAcDoeio6M1ePBg\\\n",
       "TZkyRd26davvoaKBIMAANAhut1spKSlVrtu1a5d27dqlJUuW6KWXXtL1119fx6NDQ0SAAWhQAgIC\\\n",
       "lJSUpCuvvFKStGrVKm3dulWSVFJSonvuuUfDhg1Ty5Yt63OYaAC4BobzkpGRYV+rCQsLU0ZGhpYv\\\n",
       "X66RI0eqXbt26tChg26++Wbt3LnzvLeRm5urBx98UAkJCWrXrp0iIiLkdDo1ePBgTZs2Te+//75X\\\n",
       "+5UrV2ry5MlKTExUly5d1KZNG7Vt21aXX365Jk2apM8///ycdaxZs0b/+Mc/lJiYqMjISF1++eWa\\\n",
       "PXu2SktLJUmvvvqqBg4cqMjISHXv3l0PPvigioqKvPp0uVxefS5ZskTp6ekaN26cOnTooOjoaI0d\\\n",
       "O1bp6ek13ielpaV6/fXXNWHCBDmdTkVERCg2NlbXXnutlixZovLy8jOes337dk2dOlW9e/dW27Zt\\\n",
       "1aZNG3Xr1k3Dhg3Tfffdd17jqA3+/v66++67tW3bNr377ruaNWuWZs2apfT0dP3iF7+w2xUVFemr\\\n",
       "r76qx5GioXC43W6rvgcB82RkZGjcuHH248TExCoPKq1bt9batWsVHh5eo/4PHz6sgQMH6uDBg9W2\\\n",
       "GTRokD788EP78aRJk7RixYqz9vv444/r3nvvtR9XruPKK6/Uhg0bznjebbfdpuDgYL300ktnrBsy\\\n",
       "ZIhXmLpcLvXq1ctr/Zo1a2RZ3n9qfn5+WrhwoSZOnGgvmzJlipYuXSpJat++vf3OQzp9ii05OVnr\\\n",
       "16+vtr7hw4frjTfeUNOmTSVJO3bs0PDhw1VcXFztc375y19q/vz51a6vaPbs2XrmmWd8auuxefNm\\\n",
       "xcTE1Og5lS1cuFAPPfSQ/Xjx4sW67rrrflafMB+nEHFBfPXVV+rdu7dGjBihL774Ql9//bWk00H0\\\n",
       "z3/+UzNmzKhRf++//74dXk2bNlVKSoqio6NVWFio3NxcffHFF2c8p2XLlho6dKi6du2qsLAwNWvW\\\n",
       "TEePHtWaNWuUlZUl6fQB+JZbblFUVFSV292wYYOGDBmihIQEvf3229qzZ48k6fXXX5ck9e3bV8OH\\\n",
       "D9cHH3yg7OxsSVJ6erqysrLUp0+fKvtMT09XXFycxowZo7y8PL311lsqKytTeXm5ZsyYoSFDhigi\\\n",
       "IuKc++Tuu++2wyswMFATJkxQ165dtWfPHv3rX/9SSUmJVq9erUcffVTPPvusJOmNN96ww6tly5ZK\\\n",
       "SUlR69atdejQIblcrir3Y0OUk5Nj3/fz81Pv3r3rcTRoKAgwXBC9e/fWqlWrFBQUpFOnTikuLk6H\\\n",
       "Dx+WJDs8auLHH3+07w8aNEh//vOfvdZbliWXy+W1bN68eSorK9PGjRu1c+dOHTt2TP7+/ho9erQ9\\\n",
       "hlOnTmnNmjW6+eabq9xuUlKS3nvvPTkcDvXr10/Jycn2uu7du+ujjz5SUFCQrr/+eg0cONBel5mZ\\\n",
       "WW2Ade7cWatXr7bfFfXq1UsPP/ywJOn48eN68803dc8995x1f2RnZ2vVqlX24xdeeEG33nqr/bhb\\\n",
       "t2567LHHJEmLFi3SI488orCwMK/9eMMNN+jpp5/26re0tFT5+fln3XZFw4cPV4sWLXxuL0mXXHJJ\\\n",
       "jdpXtmbNGi1atMh+nJKSog4dOvysPnFxIMBwQdx+++0KCgqSJAUFBSk2NtYOMLfbXeP+Bg4cKD8/\\\n",
       "P5WXl+uzzz5T//79FRcXp06dOikuLk5JSUmKjY31es7y5cuVmpqq77///qx95+XlVbvupptuksPh\\\n",
       "kKQzTntdd911do1Op9Nr3dlqTE5OtsNLOn0A9gSY5FvAe97RekydOlVTp06tsm1JSYkyMzN11VVX\\\n",
       "afDgwVqwYIGk09fvMjMz1b17d3Xs2FGXXXaZkpKS1L59+3Nu3yMhIUEJCQk+t/+5li9frqlTp6qk\\\n",
       "pESSNGzYMP3pT3+qs+2jYSPAcEFUfkXsOdBLqnJiwbnEx8frueee05NPPqkjR45o586dXhNC/P39\\\n",
       "NX36dD3++OOSpC1btujOO+/0aVsnT56sdl10dLR9v0mTJl7r2rVrZ98PDAz0Wne27UZGRno9btGi\\\n",
       "hVq0aKHjx49L8i3gCwsLz9mmIs+Lh2uvvVapqamaN2+eiouLtXXrVq/rak2bNtUf/vAH3XXXXT71\\\n",
       "u3btWq1bt65GY7n99tsVGhpao+dI0jPPPKM5c+bY1w4nTJigBQsWnPFzQeNFgOGCqHxA97yL+Tnu\\\n",
       "uOMOpaSkaMOGDcrOztaePXu0bt06ff311yorK9Pzzz+vESNGaPDgwXrvvffsEHE4HJo/f77GjBmj\\\n",
       "0NBQnThxwit8ziYgoPo/ibOtO5vK7wiLi4vt8JKksLCwc/ZR+TTcb3/72zOCsaKKk0hSU1P1u9/9\\\n",
       "TuvXr9f27du1Z88eZWRkaNu2bTp58qRSU1M1cuTIM97RVmX16tU1nsQxfvz4GgXYyZMnNW3aNC1b\\\n",
       "tsxe9sADD+iRRx65IL9XuHgQYGiQDhw4IElq27at12kry7IUExOjY8eOSZI2btyowYMHq6CgwH5u\\\n",
       "SEiIkpOT5e/vL0l666236nj03t555x3de++99jsHz4QQj+qunVU0YMAAr8eBgYFVXjc7ePCg1q5d\\\n",
       "qx49ekiS9u7da0/nT0pKUlJSkiTpyJEj6tixo6TT34CxefNmnwKstn3//fdKSUlRZmampNPvgv/6\\\n",
       "1796XYsEPAgwNEhr167VHXfcoX79+qlHjx6KjIxUYGCg/vvf/9rhJf30zqTiNaljx47pxhtv1KBB\\\n",
       "g7R9+3YtX768zsdf0a5duzR8+HCNGTNG+/fv9wrU5s2bVzuhpKKePXtq5MiR+vTTTyVJzz//vDIz\\\n",
       "M5WQkKDg4GAdOHBAmzZtUlZWlhITE+2PBqxcuVJPPvmkEhMT5XQ6FRkZKcuy7H48fJ1oMXPmTM2c\\\n",
       "OdPX0mvE7XZrxIgRys3NtZeNGjVKBw4c0Lx587za9u/fv06vxaFhIsDQYFmWpXXr1lV7zaVz5872\\\n",
       "Z4Fuu+02LViwwD74paWlKS0tTdLpSRNLliypkzFXZdSoUfr000/1v//9z2u5n5+fnnvuObVp08an\\\n",
       "fv7+979r4sSJ9ufUMjIylJGRcc7nlZaWnrXtgAEDNGjQIJ/GUJuOHj3qFV6StGLFiio/2/fwww8T\\\n",
       "YCDA0DD1799fTzzxhNatW6edO3fq0KFDOn78uJo3b65OnTpp5MiRmjZtmkJCQiSdvo708ccf64kn\\\n",
       "ntBnn32mEydOKDY2Vr/61a80derUeg2w8ePHa/r06Xr22WeVlZWlsrIyxcfH66GHHtLQoUN97qdV\\\n",
       "q1b65JNP9Oabb2r58uXaunWrjhw5oubNmysqKkpdu3bV1VdfrVGjRtnPGT16tE6cOKH169fr22+/\\\n",
       "VUFBgYqLixUaGqquXbtq7Nixuuuuu+zTrYBJ+CYO4AKr/E0cL774YrVfUgvg/PFdiAAAIxFgAAAj\\\n",
       "cQ0MdebJJ5/UBx98cM52d911lyZPnlwHIwJgMgIMdebAgQNeX8panYqf6TJRTEzMeX19FoCaYRIH\\\n",
       "AMBIXAMDABiJAAMAGIkA+3++XJu5WDXW2htr3VLjrb2x1i1dnLUTYAAAIxFgAAAjEWAAACMRYAAA\\\n",
       "IxFgAAAjEWAAACMRYAAAIxFgAAAjEWAAACMRYAAAIxFgAAAjEWAAACMRYAAAIxFgAAAjEWAAACMR\\\n",
       "YAAAIxFgAAAjEWAAACMRYAAAIxFgAAAjEWAAACMRYAAAIxFgAAAjEWAAACMRYAAAIxFgAAAjEWAA\\\n",
       "ACMRYAAAIzncbrdV34OoLCcnp76HAAC4AJxOZ6313SADrD7k5OTU6o5uyBpr7Y21bqnx1t5Y65Yu\\\n",
       "zto5hQgAMBIBBgAwEgEGADASAQYAMBIBBgAwEgEGADASAQYAMBIBBgAwEgEGADASAQYAMBIBBgAw\\\n",
       "EgEGADASAQYAMBIBBgAwEgEGADASAQYAMBIBBgAwEgEGADASAQYAMBIBBgAwEgEGADASAQYAMBIB\\\n",
       "BgAwEgEGADASAQYAMBIBBgAwEgEGADASAQYAMBIBBgAwEgEGADASAQYAMBIBBgAwEgEGADASAQYA\\\n",
       "MBIBBgAwEgEGADASAQYAMBIBBgAwEgEGADASAQYAMBIBBgAwksPtdlv1PYjKcnJy6nsIAIALwOl0\\\n",
       "1lrfDTLA6kNOTk6t7uiGrLHW3ljrlhpv7Y21bunirJ1TiAAAIxFgAAAjEWAAACMRYAAAIxFgAAAj\\\n",
       "EWAAACMRYAAAIxFgAAAjEWAAACMRYAAAIxFgAAAjEWAAACMRYAAAIxFgAAAjEWAAACMRYAAAIxFg\\\n",
       "AAAjEWAAACMRYAAAIxFgAAAjEWAAACMRYAAAIxFgAAAjEWAAACMRYAAAIxFgAAAjEWAAACMRYAAA\\\n",
       "IxFgAAAjEWAAACMRYAAAIxFgAAAjEWAAACMRYAAAIxFgqLGCk2U1Wt5YsZ+A2kWAoUbWfv+jXt5e\\\n",
       "rOwjJV7Ls4+U6OXtxVr7/Y/1NLKGhf0E1L6A+h4AzLH2+x+1Ou/0gXfF3h8kSXGXBCr7SIlW7P1B\\\n",
       "lmSvT4hsUl/DrHfsJ6BuEGDwScHJMqXl//SuwdLpg/M3R0qUc7RUVoW2afk/qkvLAIU39a/zcdY3\\\n",
       "9hNQdziFCJ+EN/XXuJhgOSossyTtrHRQdkgaFxPcaA/K7Ceg7hBg8FncJYEaH+t9cK7IIWl8bLDi\\\n",
       "Lgmsy2E1OOwnoG443G63de5mdSsnJ6e+h4Cz+OSQv/aeOPO1T2yzcl0dwQw7D/YTIDmdzlrru0Fe\\\n",
       "A6vNgquTk5NTL9ttCGpSe/aREhUd/0Gtgs9cVySppLU57yxq82fe0PdTY/19b6x1Sxdn7ZxChM8q\\\n",
       "zqKrimfCQuWp440N+wmoGwQYfFJwskwrXT+cMRGha8uAMyYsrHT90Gg/rMt+AuoOAQafhDf119Co\\\n",
       "nz6z5JmIcGOnZmdMWBga1aTRzq5jPwF1p0FeA0PD5PnQbVr+jxoX89M1HM+/K10/aGhUk0b/4Vz2\\\n",
       "E1A3CDDUSEJkkyo/fBt3SaAig/14R/H/2E9A7eMUImqsuoMvB2Vv7CegdhFgAAAjEWAAACMRYAAA\\\n",
       "IxFgAAAjEWAAACMRYAAAIxFgAAAjEWAAACMRYAAAIxFgAAAjEWAAACMRYAAAIxFgAAAjEWAAACMR\\\n",
       "YAAAIxFgAAAjEWAAACMRYAAAIxFgAAAjEWAAACMRYAAAIxFgAAAjEWAAACMRYAAAIxFgAAAjEWAA\\\n",
       "ACMRYAAAIxFgAAAjEWAAACMRYAAAIxFgAAAjEWAAACMRYAAAIxFgAAAjEWAAACM53G63Vd+DqCwn\\\n",
       "J6e+hwAAuACcTmet9d0gA6w+5OTk1OqObsgaa+2NtW6p8dbeWOuWLs7aOYUIADASAQYAMBIBBgAw\\\n",
       "EgEGADASAQYAMBIBBgAwEgEGADASAQYAMBIBBgAwEgEGADASAQYAMBIBBgAwEgEGADASAQYAMBIB\\\n",
       "BgAwEgEGADASAQYAMBIBBgAwEgEGADASAQYAMBIBBgAwEgEGADASAQYAMBIBBgAwEgEGADASAQYA\\\n",
       "MBIBBgAwEgEGADASAQYAMBIBBgAwEgEGADASAQYAMBIBBgAwEgEGADASAQYAMBIBBgAwEgEGADAS\\\n",
       "AQYAMBIBBgAwEgEGADCSw+12W/U9iMpycnLqewgAgAvA6XTWWt8NMsDqQ05OTq3u6IassdbeWOuW\\\n",
       "Gm/tjbVu6eKsnVOIAAAjEWAAACMRYAAAIxFgAAAjEWAAACMRYAAAIxFgAAAjEWAAACMRYAAAIxFg\\\n",
       "AAAjEWAAACMRYAAAIxFgAAAjEWAAACMRYAAAIxFgAAAjEWAAACMRYAAAIxFgAAAjEWAAACMRYAAA\\\n",
       "IxFgAAAjEWAAACMRYAAAIxFgAAAjEWAAACMRYAAAIxFgAAAjEWAAACM53G63Vd+DAACgpngHBgAw\\\n",
       "EgEGADASAQYAMBIBBgAwkpEBVlhYqNTUVF1xxRWKiIhQx44dNXr0aG3evFlFRUWaOXOmhg4dqs6d\\\n",
       "O6tt27bq3bu3Zs6cqcOHD3v1c/DgQU2bNk1dunRRmzZtlJCQoAULFpyxvbS0NF1zzTWKiopS+/bt\\\n",
       "dcMNN2jTpk1ebUpKSjRnzhz16tVLERERiouLU2pqqoqKiuqk7oqKiooUHx+vsLAwhYWFaeHChUbX\\\n",
       "7Wvt2dnZuuOOO9SlSxdFRESoW7duuuWWW1RcXGxs7eeqe/fu3Zo8ebJ69uypNm3aqFOnTrrmmmu0\\\n",
       "fPlyr35Mqtvlctm/u1XdpkyZUqNx7N69W5MmTVJsbKwiIyOVlJSkd95554ztLlu2TElJSWrbtq1i\\\n",
       "Y2M1adIk7d6926uN5/gSFxeniIgI9erVS7Nnz1ZJSUmd1X4xH+NqzO12Wybddu/ebXXs2NGSZPn7\\\n",
       "+1tOp9OKi4uzWrRoYS1evNjavHmz17rIyEhLkiXJ6tmzp1VYWGi53W5r//79ltPptCRZwcHBVufO\\\n",
       "ne12Dz74oL29ZcuWWf7+/pYkq127dlZ4eLglyWrWrJn15Zdf2u1uuukmS5Ll5+dnOZ1OKzAw0JJk\\\n",
       "DRo0yN5mbdZdse0tt9xi1yLJ+uMf/2ivM61uX2tftWqV1axZM3uMPXv2tJxOpxUQEGB9++23RtZ+\\\n",
       "rroLCwut9u3bW5KsoKAg64orrrDCwsLsmlatWmVk3du3b7f69u3rdevRo4c95nvvvdfncWzfvt2K\\\n",
       "iIiwJFmhoaFWTEyM3c/cuXPtbc6dO9deHhMTY4WGhlqSrIiICGvHjh2W2+22CgsLrUGDBlmSrMDA\\\n",
       "QMvpdFp+fn6WJOvmm2++IL/rvtR+sR7jzudmXID9+te/tnd0VlaWvbygoMDKy8uzduzYYf3+97+3\\\n",
       "XC6X5Xa7rcOHD1vXXnut/YNLT0+33G639dRTT1mSLIfDYX3xxReW2+22pk2bZv9y7ty503K73VZc\\\n",
       "XJwlyerXr591+PBh67vvvrM6dOhgSbKuueYay+12W2lpaWeExdKlS+1lr732Wq3X7Xn86quvWpKs\\\n",
       "CRMmVBlgptXtS+1Hjhyxunfvbkmyhg4dav/s3W63lZeXZ/9xmVb7uer2HMgkWY899pjldrutTz75\\\n",
       "xF72yiuvGFl3VbeHHnrIHu+2bdt8HsfkyZMtSVZISIj1zTffWG632xo/frwlyQoPD7cOHjxoHTx4\\\n",
       "0D5ojx8/3nK73dY333xjhYSEWJKsyZMnW26323rttdfs/t98803L7XZbzzzzjL0sLS2tTmq/WI9x\\\n",
       "53Mz6hSiZVn2qZGYmBj95je/UXR0tBISErRo0SIFBwcrMjJS06dPV8uWLSVJAQEBSkhIsPto0qSJ\\\n",
       "JOk///mPJKlz58667LLLJEnjx4+XdPqt8po1a5SXl6fs7GxJ0ujRoxUQEKCQkBANGzZMkpSenq6y\\\n",
       "sjK7r4p9jBo1Sk2bNpUkrV69utbrlqTc3FzNmDFD8fHxmjVrVpV9mVS3r7Vv27ZN27dvlySFhoZq\\\n",
       "yJAhuvTSS3X11VcrKytLfn5+xtXuS93t2rVTTEyMJGnOnDlKSkrSTTfdJH9/fyUnJ2vcuHHG1V2V\\\n",
       "EydO6OWXX5YkTZw4UZdeeqnP4/C069evn6KioiTJ3i8FBQXatGmTNmzYoIKCAq++oqKi1Ldv3yr7\\\n",
       "Cg4O1tVXX+3VvmK7C6mq2i/GY9z5MirADh8+rCNHjkiSvvrqK3333XcKDw/Xjh07dP/99+ull146\\\n",
       "4zlFRUVaunSpJGngwIHq3r27JGn//v2SpIiICLttmzZt7Pu5ubl2G0lq3bq1fd/znB9++EEFBQVe\\\n",
       "7Tzr/Pz8FB4ebvf1c/hSd3l5ue6++26Vlpbq5ZdfVkBAQJV9mVS35Fvtu3btstuvWLFCkhQYGKh1\\\n",
       "69bphhtusK8XmVS7L3UHBgbqww8/VK9evXTq1Clt2bJFbrdbLVu21BVXXKGgoCDj6q7Ka6+9psLC\\\n",
       "QjkcDk2fPl2SfB6Hp13Fms5We8V95Llfua9WrVrZL4oq93WhVVV7ZRfDMe58GRVgpaWl9v1WrVpp\\\n",
       "48aN2rhxo/r37y9JZwRYXl6exo4dq+zsbHXv3l2vvvqqvc6yrDP6r7ysqjZVqa6dr88/F1/qnj9/\\\n",
       "vr788kvNnj1bXbp0qdFYG2rdkm+1V2wzfPhwbdy4UevXr1fz5s1VUlKiRYsWVTuuhlq7L3WXl5fr\\\n",
       "vvvu0+bNm3XnnXdq//79euONN1RYWKhHH31Ub731VrVjaqh1V1ZWVqa//e1vkk6/4u/Ro8fPHseF\\\n",
       "rL226paqr72ii+UYd76MCrDWrVvbryq7dOmikJAQ+fv7q1evXpKkffv22W03bdqkESNGaMuWLRow\\\n",
       "YIA++ugjRUZG2usvvfRSSdKhQ4fsZRXvR0dH220kec3u8bQLDg5WeHi4VzvPuvLychUWFtp91Xbd\\\n",
       "27ZtkyTNnDlT0dHRSkxMtJ8/a9Ys+5SHSXVLvtXuOTUkSfHx8XI4HGrdurV9es3ze2FS7b7UnZ6e\\\n",
       "rk8++USSlJKSoubNm2vMmDH2K+S0tDTj6q7s3XfftX9+M2bMsJf7Og7Pv1XV5FlfVV8V73v68LQr\\\n",
       "KChQeXl5lX1dSNXV7nExHePOl1EBFhgYqMGDB0uSdu3apePHj6u8vFxbt26VdPpcryStXLlSY8aM\\\n",
       "UX5+vpKTk/X++++rVatWXn2NGDFCkvTtt9/aB3/P6aeAgAANGTJE7dq1U1xcnCTp3//+t0pLS1VU\\\n",
       "VKTPP/9ckjRkyBD5+/vrqquusvv19LFq1SqdPHnSa1u1XbckFRcXq7i4WCdOnLCXnTp1yn5sUt2+\\\n",
       "1t6nTx+FhoZKkrZs2SLp9PRzzx+/Z/+YVLsvdR87dsxun5WVJUnau3evfeqxefPmxtVd2dy5cyVJ\\\n",
       "AwYM0IABA+zlvo7D8+/69euVn58v6fTxQTr9zrZ379668sor7eODp6/8/HxlZmZW2dfJkyftFw6e\\\n",
       "9hXXXyjV1e6p4WI6xp23+pg58nNuq1evtpo0aWJPcfXMlpFkLV682Prmm28sh8NhTzOtPCXVM1Mo\\\n",
       "NzfXnlYaHBxsdenSxe7n/vvvt7f39ttv21NlK04xDQ4OtjIyMux2EydOtKeYdu3a1Z5impiYeEGm\\\n",
       "mJ6r7srtK85QqzgL0bS6fa294mywjh07Wq1atbKk01OnN23aZGTt56p79+7d9rR5h8NhxcXF2TPn\\\n",
       "/P397Wn0ptXtuS1btswe59KlS89Y78s4srOz7ToqT6N/4YUX7L7+8pe/2MsrTqMPDw+3Zy8WFBRY\\\n",
       "iYmJ9iy+rl272vsrOTn5gh7nzlb7xXqMO5+bf2pq6hM/I//qXFRUlIYOHap9+/bJ5XKptLRUffr0\\\n",
       "0YsvvqhRo0apsLBQ8+fPl3T6/GxeXp7X7cYbb1RMTIyCgoJ03XXXqaCgQPv27dPBgwfVuXNnPfDA\\\n",
       "A7r//vvlcDgknX6l27dvX7lcLu3du1eWZWngwIFauHCh4uPj7XGNHj1aDodD+/btsy+433rrrZo3\\\n",
       "b549U6c2667s6NGj9gcWR44cqT59+kiScXX7Wnvfvn0VExMjl8sll8ulkJAQXXXVVVq8eLFiY2ON\\\n",
       "rP1cdQcHB2v06NE6duyYjh49qtzcXIWEhGjAgAGaO3eufRrZtLo9ZsyYIZfLpW7dumnOnDn2OGsy\\\n",
       "jpCQEI0dO1b5+flyuVw6evSo4uLi9NRTTyklJcXuKz4+Xp06ddLevXvlcrkUEBCgkSNH6pVXXrFP\\\n",
       "Rfv5+Wn8+PE6ceKEvvvuO+Xl5Sk6OlqTJ0/W008/LX9//zqp/WI9xp0P/jsVAICRjLoGBgCABwEG\\\n",
       "ADASAQYAMBIBBgAwEgEGADDS/wHZZgqaEV92EwAAAABJRU5ErkJggg==\\\n",
       "\"\n",
       "  frames[2] = \"data:image/png;base64,iVBORw0KGgoAAAANSUhEUgAAAbAAAAEgCAYAAADVKCZpAAAABHNCSVQICAgIfAhkiAAAAAlwSFlz\\\n",
       "AAALEgAACxIB0t1+/AAAADl0RVh0U29mdHdhcmUAbWF0cGxvdGxpYiB2ZXJzaW9uIDMuMC4zLCBo\\\n",
       "dHRwOi8vbWF0cGxvdGxpYi5vcmcvnQurowAAHcBJREFUeJzt3XtUVWX+x/HP4aaIIIpIeAm8gIpO\\\n",
       "QGqIOmBeQ1Onkm50myltVZNj02Ww6V6rbJqpyVbZZC2zZtKmzNIuo02GWmNeUFHDC95QhFLAIwqZ\\\n",
       "XPbvD39nDyDqOYwID7xfa53lOXs/5znP9wH2h7P3c9DhdDotAQBgGK/GHgAAAPVBgAEAjESAAQCM\\\n",
       "RIABAIxEgAEAjESAAQCMRIABAIxEgAEAjESAAQCMRIABAIxEgAEAjESAAQCMRIABAIxEgAFNyF13\\\n",
       "3aXg4GAFBwfrF7/4RWMPB2jSfBp7AADgMm/ePH399dfKzs5WYWGhSkpK5Ofnp7CwMMXHxystLU0j\\\n",
       "R45s7GGiiSDAADQZc+bM0datW2tsq6io0N69e7V371599NFHeuCBB/TII4800gjRlBBgAJqMwMBA\\\n",
       "JScnq3fv3urYsaMqKyu1efNmffHFF3abF198UVOmTFFYWFgjjhRNAQGGelm1apUmTJhgP16yZIkK\\\n",
       "Cwv12muv6fvvv5ePj48SExP19NNPKzo6ul6vkZeXp5dfflkrV67UgQMHVF5eruDgYIWFhSk2NlZj\\\n",
       "xozRpEmTaoxhyZIl2rJliw4fPqySkhJ5eXkpNDRU8fHx+vWvf63LL7/8rHUsXrxYu3bt0pw5c7Rn\\\n",
       "zx516tRJN954ox588EH5+Pho7ty5mjNnjnbv3q327dtrwoQJeuyxxxQYGGj3kZubq9jYWPvxq6++\\\n",
       "qq5du+rPf/6zsrKyVFlZqbi4OD300ENKTk72aE4qKiq0YMECLVy4UFu3bpXT6VRAQID69++vG264\\\n",
       "QTfccIO8vGpe2t6+fbtmzZql1atXq6CgQFVVVWrfvr06d+6s+Ph4TZo0yeNxNJTqQVXdvffeq3ff\\\n",
       "fVeSVFVVpby8PAIMcjidTquxBwHz1D7wJyYmavXq1ae169ixo9asWaOQkBCP+i8sLNSQIUN06NCh\\\n",
       "M7YZOnSoPvvsM/vxLbfcosWLF5+138cff1z33Xef/bh2HZdeeqk2bNhw2vNuuukm+fv7a86cOaft\\\n",
       "S05O1ieffGI/rh1gycnJWrlypSyr5o+al5eX3njjDU2ePNnedtddd2n+/PmSpG7dumnLli32PqfT\\\n",
       "qdTUVK1bt+6M9Y0YMULvvfeeWrduLUnasWOHRowYodLS0jM+54YbbtDs2bPPuL+65557Ts8//7xb\\\n",
       "bV2ysrIUERHh0XNcjh07ps2bN+vee+/Vnj17JEmtW7fWtm3b1L59+3r1ieaDd2A4L1avXq34+HiN\\\n",
       "HDlS33zzjb777jtJp4Lo3Xff1fTp0z3q75NPPrHDq3Xr1kpLS1OXLl1UXFysvLw8ffPNN6c9p127\\\n",
       "dho+fLiio6MVHBysNm3a6OjRo1q5cqUyMzMlnToAX3/99QoPD6/zdTds2KDk5GQlJCTogw8+0N69\\\n",
       "eyVJf//73yVJAwcO1IgRI/Tpp58qOztbkrRixQplZmZqwIABdfa5YsUKxcTEaNy4ccrPz9f777+v\\\n",
       "yspKVVVVafr06UpOTlZoaOg55+TOO++0w8vX11dXXXWVoqOjtXfvXv3zn/9UeXm5li9frkcffVQv\\\n",
       "vPCCJOm9996zw6tdu3ZKS0tTx44ddfjwYeXm5tY5j01Bjx49VFxcfNp2Hx8fzZw5k/CCJAIM50l8\\\n",
       "fLyWLl0qPz8/nTx5UjExMSosLJQkOzw88fPPP9v3hw4dqr/85S819luWpdzc3BrbXnnlFVVWVmrj\\\n",
       "xo3auXOnSkpK5O3trZSUFHsMJ0+e1MqVK3XdddfV+bpJSUn6+OOP5XA4NGjQIKWmptr7+vTpo88/\\\n",
       "/1x+fn761a9+pSFDhtj71q9ff8YA69mzp5YvX26/K4qNjdUf/vAHSdLx48e1YMEC3XvvvWedj+zs\\\n",
       "bC1dutR+/PLLL+vGG2+0H/fu3VuPPfaYJOntt9/WH//4RwUHB9eYx6uvvlrPPvtsjX4rKipUUFBw\\\n",
       "1teubsSIEWrbtq3b7SWdt7AJDg7Wq6++qvHjx5+X/mA+Agznxa233io/Pz9Jkp+fnyIjI+0Aczqd\\\n",
       "Hvc3ZMgQeXl5qaqqSl999ZUuu+wyxcTEqEePHoqJiVFSUpIiIyNrPGfRokVKT0/Xjz/+eNa+8/Pz\\\n",
       "z7jv2muvlcPhkKTTTntNmjTJrjEqKqrGvrPVmJqaaoeXJKWlpdkBJrkX8K53tC5333237r777jrb\\\n",
       "lpeXa/369Ro1apSGDRum119/XZI0d+5crV+/Xn369FH37t3Vv39/JSUlqVu3bud8fZeEhAQlJCS4\\\n",
       "3b6+Hn74YZWVlamoqEhr167V6tWr5XQ6lZaWpmnTpumpp55q8DGg6SPAcF5cfPHFNR67DvTSqYvu\\\n",
       "noqLi9OLL76oJ598UkeOHNHOnTu1c+dOe7+3t7emTZumxx9/XJK0efNm3X777W691okTJ864r0uX\\\n",
       "Lvb9Vq1a1djXuXNn+76vr2+NfWd73dqLDdq2bau2bdvq+PHjktwL+LpOp52N65eHK6+8Uunp6Xrl\\\n",
       "lVdUWlqqLVu21Liu1rp1az399NOaMmWKW/2uWbNGa9eu9Wgst956q4KCgjx6zh133FHj8cyZMzVz\\\n",
       "5kxJ0qxZszRs2DCNGTPGoz7R/BBgOC9qH9Bd72L+F7fddpvS0tK0YcMGZWdna+/evVq7dq2+++47\\\n",
       "VVZW6qWXXtLIkSM1bNgwffzxx3aIOBwOzZ49W+PGjVNQUJDKyspqhM/Z+Pic+UfibPvOpvY7wtLS\\\n",
       "Uju8pFOnxs6l9mm43/72t2ddhVd9EUl6erp+97vfad26ddq+fbv27t2rVatWaevWrTpx4oTS09M1\\\n",
       "evTo097R1mX58uUeL+KYOHGixwFW2/jx4+0Ak6SMjAwCDAQYmqYffvhBknTRRRfVOG1lWZYiIiJU\\\n",
       "UlIiSdq4caOGDRumoqIi+7mBgYFKTU2Vt7e3JOn999+/wKOv6cMPP9R9991nv6NzLQhxOdO1s+oG\\\n",
       "Dx5c47Gvr2+d180OHTqkNWvWqG/fvpKkffv22X+aKikpSUlJSZKkI0eOqHv37pKkyspKZWVluRVg\\\n",
       "DSkrK0t+fn722Ks70/J6tGwEGJqkNWvW6LbbbtOgQYPUt29fhYWFydfXV//5z3/s8JL++86k+jWp\\\n",
       "kpISXXPNNRo6dKi2b9+uRYsWXfDxV7dr1y6NGDFC48aN08GDB2sEakBAwBkXlFTXr18/jR49Wl9+\\\n",
       "+aUk6aWXXtL69euVkJAgf39//fDDD9q0aZMyMzOVmJhofzRgyZIlevLJJ5WYmKioqCiFhYXJsiy7\\\n",
       "Hxd3F1rMmDFDM2bMcLd0j3z77bd6+OGHFR8fr4SEBHXq1EnHjx/XunXrtGrVqhptU1JSGmQMMAsB\\\n",
       "hibLsiytXbv2jNdcevbsaX+Q+aabbtLrr7+uvLw8SadOMWVkZEg6tWjiH//4xwUZc13Gjh2rL7/8\\\n",
       "Ut9//32N7V5eXnrxxRfVqVMnt/r529/+psmTJ9ufU1u1atVpB/a6VFRUnLXt4MGDNXToULfGcCFs\\\n",
       "3LhRGzdurHOfw+HQjBkz9Mtf/vICjwpNEQGGJumyyy7TE088obVr12rnzp06fPiwjh8/roCAAPXo\\\n",
       "0UOjR4/WPffcY/8FjODgYP3rX//SE088oa+++kplZWWKjIzUzTffrLvvvrtRA2zixImaNm2aXnjh\\\n",
       "BWVmZtb4SxzDhw93u58OHTpo2bJlWrBggRYtWqQtW7boyJEjCggIUHh4uKKjozVmzBiNHTvWfk5K\\\n",
       "SorKysq0bt067d69W0VFRSotLVVQUJCio6M1fvx4TZkyxT7d2phGjRqlw4cPa82aNdq/f7+Ki4t1\\\n",
       "8uRJtW3bVpGRkUpISNDNN9+s/v37N/ZQ0UTwlziA86yuPyWVlpbWiCMCmif+PzAAgJEIMACAkbgG\\\n",
       "hgvmySef1KeffnrOdlOmTNHUqVMvwIgAmIwAwwXzww8/KCcn55ztqn+my0QRERH1+vNZADzDIg4A\\\n",
       "gJG4BgYAMBIBBgAwEgH2/9y5NtNctdTaW2rdUsutvaXWLTXP2gkwAICRCDAAgJEIMACAkQgwAICR\\\n",
       "CDAAgJEIMACAkQgwAICRCDAAgJEIMACAkQgwAICRCDAAgJEIMACAkQgwAICRCDAAgJEIMACAkQgw\\\n",
       "AICRCDAAgJEIMACAkQgwAICRCDAAgJEIMACAkQgwAICRCDAAgJEIMACAkQgwAICRCDAAgJEIMACA\\\n",
       "kQgwAICRHE6n02rsQdSWk5PT2EMAAJwHUVFRDdZ3kwywxpCTk9OgE92UtdTaW2rdUsutvaXWLTXP\\\n",
       "2jmFCAAwEgEGADASAQYAMBIBBgAwEgEGADASAQYAMBIBBgAwEgEGADASAQYAMBIBBgAwEgEGADAS\\\n",
       "AQYAMBIBBgAwEgEGADASAQYAMBIBBgAwEgEGADASAQYAMBIBBgAwEgEGADASAQYAMBIBBgAwEgEG\\\n",
       "ADASAQYAMBIBBgAwEgEGADASAQYAMBIBBgAwEgEGADASAQYAMBIBBgAwEgEGADASAQYAMBIBBgAw\\\n",
       "EgEGADASAQYAMBIBBgAwEgEGADASAQYAMBIBBgAwEgEGADCSw+l0Wo09iNpycnIaewgAgPMgKiqq\\\n",
       "wfpukgHWGHJychp0opuyllp7S61barm1t9S6peZZO6cQAQBGIsAAAEYiwAAARiLAAABGIsAAAEYi\\\n",
       "wAAARiLAAABGIsAAAEYiwAAARiLAAABGIsAAAEYiwAAARiLAAABGIsAAAEYiwAAARiLAAABGIsAA\\\n",
       "AEYiwAAARiLAAABGIsAAAEYiwAAARiLAAABGIsAAAEYiwAAARiLAAABGIsAAAEYiwAAARiLAAABG\\\n",
       "IsAAAEYiwAAARiLAAABGIsAAAEYiwAAARiLAAABGIsDgsaITlR5tb6k8nSfmFfAMAQaPrPnxZ725\\\n",
       "vVTZR8prbM8+Uq43t5dqzY8/N9LImhZP54l5BTzn09gDgDnW/PizluefOpAu3veTJCmmva+yj5Rr\\\n",
       "8b6fZEn2/oSwVo01zEbn6Twxr0D9EGBwS9GJSmUU/PddgKVTB9ttR8qVc7RCVrW2GQU/q1c7H4W0\\\n",
       "9r7g42xsns5Th9ZezCtQT5xChFtCWntrQoS/HNW2WZJ21jrIOiRNiPBvsQdZT+cpqp0v8wrUEwEG\\\n",
       "t8W099XEyJoH2+ockiZG+iumve+FHFaT4+k8Ma9A/TicTqd17mYXVk5OTmMPAWex7LC39pWd/rtP\\\n",
       "ZJsqjQllxZyLp/PEvKI5ioqKarC+m+Q1sIYs+ExycnIa5XWbAk9qzz5SrmPHf1IH/9P3HZNU3tGc\\\n",
       "dwoN+TX3dJ4u9Ly21O/3llq31Dxr5xQi3FZ9VVxdXAsQai8Fb2k8nSfmFagfAgxuKTpRqSW5P522\\\n",
       "sCC6nc9pCxCW5P7UYj986+k85RwtZ16BeiLA4JaQ1t4aHv7fzyC5FhZc06PNaQsQhoe3arGr5Tyd\\\n",
       "p6h2vswrUE9N8hoYmibXh2gzCn7WhIiaq+ikU+8Qhoe3avEftvV0nphXoH4IMHgkIaxVnR+mjWnv\\\n",
       "qzB/L94h/D9P54l5BTzHKUR47EwHUw6yNXk6T8wr4BkCDABgJAIMAGAkAgwAYCQCDABgJAIMAGAk\\\n",
       "AgwAYCQCDABgJAIMAGAkAgwAYCQCDABgJAIMAGAkAgwAYCQCDABgJAIMAGAkAgwAYCQCDABgJAIM\\\n",
       "AGAkAgwAYCQCDABgJAIMAGAkAgwAYCQCDABgJAIMAGAkAgwAYCQCDABgJAIMAGAkAgwAYCQCDABg\\\n",
       "JAIMAGAkAgwAYCQCDABgJAIMAGAkAgwAYCQCDABgJAIMAGAkh9PptBp7ELXl5OQ09hAAAOdBVFRU\\\n",
       "g/XdJAOsMeTk5DToRDdlLbX2llq31HJrb6l1S82zdk4hAgCMRIABAIxEgAEAjESAAQCMRIABAIxE\\\n",
       "gAEAjESAAQCMRIABAIxEgAEAjESAAQCMRIABAIxEgAEAjESAAQCMRIABAIxEgAEAjESAAQCMRIAB\\\n",
       "AIxEgAEAjESAAQCMRIABAIxEgAEAjESAAQCMRIABAIxEgAEAjESAAQCMRIABAIxEgAEAjESAAQCM\\\n",
       "RIABAIxEgAEAjESAAQCMRIABAIxEgAEAjESAAQCMRIABAIxEgAEAjESAAQCMRIABAIxEgAEAjESA\\\n",
       "AQCM5HA6nVZjD6K2nJycxh4CAOA8iIqKarC+m2SANYacnJwGneimrKXW3lLrllpu7S21bql51s4p\\\n",
       "RACAkQgwAICRCDAAgJEIMACAkQgwAICRCDAAgJEIMACAkQgwAICRCDAAgJEIMACAkQgwAICRCDAA\\\n",
       "gJEIMACAkQgwAICRCDAAgJEIMACAkQgwAICRCDAAgJEIMACAkQgwAICRCDAAgJEIMACAkQgwAICR\\\n",
       "CDAAgJEIMACAkQgwAICRCDAAgJEIMACAkQgwAICRHE6n02rsQQAA4CnegQEAjESAAQCMRIABAIxE\\\n",
       "gAEAjGRkgBUXFys9PV2XXHKJQkND1b17d6WkpCgrK0vHjh3TjBkzNHz4cPXs2VMXXXSR4uPjNWPG\\\n",
       "DBUWFtbo59ChQ7rnnnvUq1cvderUSQkJCXr99ddPe72MjAxdccUVCg8PV7du3XT11Vdr06ZNNdqU\\\n",
       "l5dr5syZio2NVWhoqGJiYpSenq5jx45dkLqrO3bsmOLi4hQcHKzg4GC98cYbRtftbu3Z2dm67bbb\\\n",
       "1KtXL4WGhqp37966/vrrVVpaamzt56p7z549mjp1qvr166dOnTqpR48euuKKK7Ro0aIa/ZhUd25u\\\n",
       "rv29W9ftrrvu8mgce/bs0S233KLIyEiFhYUpKSlJH3744Wmvu3DhQiUlJemiiy5SZGSkbrnlFu3Z\\\n",
       "s6dGG9fxJSYmRqGhoYqNjdVzzz2n8vLyC1Z7cz7GeczpdFom3fbs2WN1797dkmR5e3tbUVFRVkxM\\\n",
       "jNW2bVtr3rx5VlZWVo19YWFhliRLktWvXz+ruLjYcjqd1sGDB62oqChLkuXv72/17NnTbvfggw/a\\\n",
       "r7dw4ULL29vbkmR17tzZCgkJsSRZbdq0sb799lu73bXXXmtJsry8vKyoqCjL19fXkmQNHTrUfs2G\\\n",
       "rLt62+uvv96uRZL1pz/9yd5nWt3u1r506VKrTZs29hj79etnRUVFWT4+Ptbu3buNrP1cdRcXF1vd\\\n",
       "unWzJFl+fn7WJZdcYgUHB9s1LV261Mi6t2/fbg0cOLDGrW/fvvaY77vvPrfHsX37dis0NNSSZAUF\\\n",
       "BVkRERF2P7NmzbJfc9asWfb2iIgIKygoyJJkhYaGWjt27LCcTqdVXFxsDR061JJk+fr6WlFRUZaX\\\n",
       "l5clybruuuvOy/e6O7U312NcfW7GBdhvfvMbe6IzMzPt7UVFRVZ+fr61Y8cO66mnnrJyc3Mtp9Np\\\n",
       "FRYWWldeeaX9hVuxYoXldDqtZ555xpJkORwO65tvvrGcTqd1zz332N+cO3futJxOpxUTE2NJsgYN\\\n",
       "GmQVFhZaBw4csC6++GJLknXFFVdYTqfTysjIOC0s5s+fb2975513Grxu1+O5c+dakqyrrrqqzgAz\\\n",
       "rW53aj9y5IjVp08fS5I1fPhw+2vvdDqt/Px8+4fLtNrPVbfrQCbJeuyxxyyn02ktW7bM3vbWW28Z\\\n",
       "WXddt4ceesge79atW90ex9SpUy1JVmBgoLVt2zbL6XRaEydOtCRZISEh1qFDh6xDhw7ZB+2JEyda\\\n",
       "TqfT2rZtmxUYGGhJsqZOnWo5nU7rnXfesftfsGCB5XQ6reeff97elpGRcUFqb67HuPrcjDqFaFmW\\\n",
       "fWokIiJCd9xxh7p06aKEhAS9/fbb8vf3V1hYmKZNm6Z27dpJknx8fJSQkGD30apVK0nSv//9b0lS\\\n",
       "z5491b9/f0nSxIkTJZ16q7xy5Url5+crOztbkpSSkiIfHx8FBgbq8ssvlyStWLFClZWVdl/V+xg7\\\n",
       "dqxat24tSVq+fHmD1y1JeXl5mj59uuLi4vTII4/U2ZdJdbtb+9atW7V9+3ZJUlBQkJKTk9W1a1eN\\\n",
       "GTNGmZmZ8vLyMq52d+ru3LmzIiIiJEkzZ85UUlKSrr32Wnl7eys1NVUTJkwwru66lJWV6c0335Qk\\\n",
       "TZ48WV27dnV7HK52gwYNUnh4uCTZ81JUVKRNmzZpw4YNKioqqtFXeHi4Bg4cWGdf/v7+GjNmTI32\\\n",
       "1dudT3XV3hyPcfVlVIAVFhbqyJEjkqTVq1frwIEDCgkJ0Y4dO3T//fdrzpw5pz3n2LFjmj9/viRp\\\n",
       "yJAh6tOnjyTp4MGDkqTQ0FC7badOnez7eXl5dhtJ6tixo33f9ZyffvpJRUVFNdq59nl5eSkkJMTu\\\n",
       "63/hTt1VVVW68847VVFRoTfffFM+Pj519mVS3ZJ7te/atctuv3jxYkmSr6+v1q5dq6uvvtq+XmRS\\\n",
       "7e7U7evrq88++0yxsbE6efKkNm/eLKfTqXbt2umSSy6Rn5+fcXXX5Z133lFxcbEcDoemTZsmSW6P\\\n",
       "w9Wuek1nq736HLnu1+6rQ4cO9i9Ftfs63+qqvbbmcIyrL6MCrKKiwr7foUMHbdy4URs3btRll10m\\\n",
       "SacFWH5+vsaPH6/s7Gz16dNHc+fOtfdZlnVa/7W31dWmLmdq5+7zz8WdumfPnq1vv/1Wzz33nHr1\\\n",
       "6uXRWJtq3ZJ7tVdvM2LECG3cuFHr1q1TQECAysvL9fbbb59xXE21dnfqrqqq0u9//3tlZWXp9ttv\\\n",
       "18GDB/Xee++puLhYjz76qN5///0zjqmp1l1bZWWlXnvtNUmnfuPv27fv/zyO81l7Q9Utnbn26prL\\\n",
       "Ma6+jAqwjh072r9V9urVS4GBgfL29lZsbKwkaf/+/XbbTZs2aeTIkdq8ebMGDx6szz//XGFhYfb+\\\n",
       "rl27SpIOHz5sb6t+v0uXLnYbSTVW97ja+fv7KyQkpEY7176qqioVFxfbfTV03Vu3bpUkzZgxQ126\\\n",
       "dFFiYqL9/EceecQ+5WFS3ZJ7tbtODUlSXFycHA6HOnbsaJ9ec31fmFS7O3WvWLFCy5YtkySlpaUp\\\n",
       "ICBA48aNs39DzsjIMK7u2j766CP76zd9+nR7u7vjcP1bV02u/XX1Vf2+qw9Xu6KiIlVVVdXZ1/l0\\\n",
       "ptpdmtMxrr6MCjBfX18NGzZMkrRr1y4dP35cVVVV2rJli6RT53olacmSJRo3bpwKCgqUmpqqTz75\\\n",
       "RB06dKjR18iRIyVJu3fvtg/+rtNPPj4+Sk5OVufOnRUTEyNJ+uKLL1RRUaFjx47p66+/liQlJyfL\\\n",
       "29tbo0aNsvt19bF06VKdOHGixms1dN2SVFpaqtLSUpWVldnbTp48aT82qW53ax8wYICCgoIkSZs3\\\n",
       "b5Z0avm564ffNT8m1e5O3SUlJXb7zMxMSdK+ffvsU48BAQHG1V3brFmzJEmDBw/W4MGD7e3ujsP1\\\n",
       "77p161RQUCDp1PFBOvXONj4+Xpdeeql9fHD1VVBQoPXr19fZ14kTJ+xfHFztq+8/X85Uu6uG5nSM\\\n",
       "q7fGWDnyv9yWL19utWrVyl7i6lotI8maN2+etW3bNsvhcNjLTGsvSXWtFMrLy7OXlfr7+1u9evWy\\\n",
       "+7n//vvt1/vggw/spbLVl5j6+/tbq1atsttNnjzZXmIaHR1tLzFNTEw8L0tMz1V37fbVV6hVX4Vo\\\n",
       "Wt3u1l59NVj37t2tDh06WNKppdObNm0ysvZz1b1nzx572bzD4bBiYmLslXPe3t72MnrT6nbdFi5c\\\n",
       "aI9z/vz5p+13ZxzZ2dl2HbWX0b/88st2X3/961/t7dWX0YeEhNirF4uKiqzExER7FV90dLQ9X6mp\\\n",
       "qef1OHe22pvrMa4+N+/09PQn/of8u+DCw8M1fPhw7d+/X7m5uaqoqNCAAQP06quvauzYsSouLtbs\\\n",
       "2bMlnTo/m5+fX+N2zTXXKCIiQn5+fpo0aZKKioq0f/9+HTp0SD179tQDDzyg+++/Xw6HQ9Kp33QH\\\n",
       "Dhyo3Nxc7du3T5ZlaciQIXrjjTcUFxdnjyslJUUOh0P79++3L7jfeOONeuWVV+yVOg1Zd21Hjx61\\\n",
       "P7A4evRoDRgwQJKMq9vd2gcOHKiIiAjl5uYqNzdXgYGBGjVqlObNm6fIyEgjaz9X3f7+/kpJSVFJ\\\n",
       "SYmOHj2qvLw8BQYGavDgwZo1a5Z9Gtm0ul2mT5+u3Nxc9e7dWzNnzrTH6ck4AgMDNX78eBUUFCg3\\\n",
       "N1dHjx5VTEyMnnnmGaWlpdl9xcXFqUePHtq3b59yc3Pl4+Oj0aNH66233rJPRXt5eWnixIkqKyvT\\\n",
       "gQMHlJ+fry5dumjq1Kl69tln5e3tfUFqb67HuPrgv1MBABjJqGtgAAC4EGAAACMRYAAAIxFgAAAj\\\n",
       "EWAAACP9H+PCo4njq8BgAAAAAElFTkSuQmCC\\\n",
       "\"\n",
       "  frames[3] = \"data:image/png;base64,iVBORw0KGgoAAAANSUhEUgAAAbAAAAEgCAYAAADVKCZpAAAABHNCSVQICAgIfAhkiAAAAAlwSFlz\\\n",
       "AAALEgAACxIB0t1+/AAAADl0RVh0U29mdHdhcmUAbWF0cGxvdGxpYiB2ZXJzaW9uIDMuMC4zLCBo\\\n",
       "dHRwOi8vbWF0cGxvdGxpYi5vcmcvnQurowAAHWdJREFUeJzt3Xl0VOX9x/HPZIMACZEQQoiQsAxL\\\n",
       "EAmyhAQMCAKyxapErWnRUytWsIhSbTh1ba24nGrFY3HBulREqxQVtQUrJqBVlrA3LJFlICQKJAxL\\\n",
       "IpLl/v7gN7eZJMAMJiRP8n6dM8eZuc889/k+k9xP5t5n0OF2uy0BAGCYgIYeAAAA54MAAwAYiQAD\\\n",
       "ABiJAAMAGIkAAwAYiQADABiJAAMAGIkAAwAYiQADABiJAAMAGIkAAwAYiQADABiJAAMAGIkAAxqR\\\n",
       "O+64QxEREYqIiFC/fv0aejhAo0aAAWi0Fi9ebAe657Zq1aqGHhYaCQIMQKNUWFio2bNnN/Qw0IgR\\\n",
       "YAAapTvvvFNut7uhh4FGjADDeVm1alWN0zpLlizRmDFj1KlTJ3Xp0kU33HCDdu7ced77yM/P1733\\\n",
       "3qukpCR16tRJUVFRcjqdGj58uGbMmKEPPvjAq/3SpUs1bdo0JScnq0ePHurQoYM6duyofv36aerU\\\n",
       "qfr888/PWcfKlSv117/+VcnJyYqOjla/fv00d+5clZeXS5JeffVVpaSkKDo6Wr1799a9996r48eP\\\n",
       "e/Xpcrm8+ly4cKGys7M1efJkdenSRbGxsZo4caKys7P9npPy8nK9+eabuuaaa+R0OhUVFaX4+HhN\\\n",
       "mjRJCxcuVGVlZY3XbN++XdOnT9eAAQPUsWNHdejQQb169dIVV1yhe+6557zGUd8WLFigzz77TJI0\\\n",
       "efLkBh4NGiuH2+22GnoQMM+qVau8DizJycn66quvarRr3769Vq9ercjISL/6P3z4sFJSUnTw4MEz\\\n",
       "thk2bJg+/vhj+/HUqVP14YcfnrXfhx56SHfffbf9uHodl112mdavX1/jdT/72c8UGhqql19+uca2\\\n",
       "ESNGeIWpy+VS//79vbavXLlSluX9qxYQEKCXXnpJU6ZMsZ+74447tGjRIklS586dtWXLFnub2+1W\\\n",
       "enq61q5de8b6Ro0apbfeekstW7aUJO3YsUOjRo1SSUnJGV/z05/+VPPnzz/j9qrmzp2rJ554wqe2\\\n",
       "Hps2bVJcXJzP7Xft2qXLL79cpaWluvnmmzVkyBDNmDHD3r506VJdfvnlfo0BTVNQQw8ATcNXX32l\\\n",
       "AQMGaPTo0friiy/09ddfSzodRH/72980a9Ysv/r74IMP7PBq2bKlMjIyFBsbq+LiYuXn5+uLL76o\\\n",
       "8Zq2bdtq5MiR6tmzpyIiItSqVSsdPXpUK1euVE5OjqTTB+Abb7xRMTExte53/fr1GjFihJKSkvTu\\\n",
       "u+9qz549kqQ333xTkjRo0CCNGjVKH330kXJzcyVJ2dnZysnJ0cCBA2vtMzs7WwkJCZowYYIKCgr0\\\n",
       "zjvvqKKiQpWVlZo1a5ZGjBihqKioc87J7bffbodXcHCwrrnmGvXs2VN79uzR3//+d5WVlWnFihV6\\\n",
       "4IEH9NRTT0mS3nrrLTu82rZtq4yMDLVv316HDh2Sy+WqdR4bUkVFhX71q1+ptLRU8fHx+uMf/1jj\\\n",
       "kzbgQYChTgwYMEDLli1TSEiITp06pYSEBB0+fFiS7PDwxw8//GDfHzZsmP70pz95bbcsSy6Xy+u5\\\n",
       "5557ThUVFdqwYYN27typY8eOKTAwUOPHj7fHcOrUKa1cuVI33HBDrftNTU3V+++/L4fDocGDBys9\\\n",
       "Pd3e1rt3b33yyScKCQnRT37yE6WkpNjb1q1bd8YA6969u1asWGF/Kurfv79++9vfSpJOnDiht99+\\\n",
       "W7/+9a/POh+5ublatmyZ/fjZZ5/VTTfdZD/u1auXHnzwQUnSa6+9pt/97neKiIjwmsdrr71Wjz32\\\n",
       "mFe/5eXlKiwsPOu+qxo1apTatGnjc3tJuuiii3xu+/TTT2vt2rUKDAzUiy++6Pe+0LwQYKgTN998\\\n",
       "s0JCQiRJISEhio+PtwPsfC7Ep6SkKCAgQJWVlfrss880ZMgQJSQkqFu3bkpISFBqaqri4+O9XrNk\\\n",
       "yRJlZmbqu+++O2vfBQUFZ9x2/fXXy+FwSFKN015XX321XaPT6fTadrYa09PT7fCSpIyMDDvAJN8C\\\n",
       "3vOJ1mP69OmaPn16rW3Lysq0bt06XXnllRo+fLheeOEFSaev361bt069e/dW165ddckllyg1NVWd\\\n",
       "O3c+5/49kpKSlJSU5HN7f2zatElPPvmkJOmuu+6qt/2g6SDAUCe6dOni9dhzoJdU68KCc0lMTNTT\\\n",
       "Tz+tRx55REeOHNHOnTu9FoQEBgZq5syZeuihhyRJmzdv1q233urTvk6ePHnGbbGxsfb9Fi1aeG3r\\\n",
       "1KmTfT84ONhr29n2Gx0d7fW4TZs2atOmjU6cOCHJt4AvLi4+Z5uqPH88TJo0SZmZmXruuedUUlKi\\\n",
       "LVu2eF1Xa9mypf7whz/otttu86nf1atXa82aNX6N5eabb1Z4ePg5282ePVtlZWXq16+f5syZ49c+\\\n",
       "0DwRYKgT1Q/onk8xP8Ytt9yijIwMrV+/Xrm5udqzZ4/WrFmjr7/+WhUVFXrmmWc0evRoDR8+XO+/\\\n",
       "/74dIg6HQ/Pnz9eECRMUHh6u0tJSr/A5m6CgM/9KnG3b2VT/RFhSUmKHlyRFREScs4/qp+HuvPPO\\\n",
       "GsFYVdVFJJmZmbrrrru0du1abd++XXv27NGqVau0detWnTx5UpmZmRozZkyNT7S1WbFihd+LONLS\\\n",
       "0nwKMM88bdmy5azXBD2Lbt58801NmjTJr7GgaSHA0Ch9++23kqSOHTt6nbayLEtxcXE6duyYJGnD\\\n",
       "hg0aPny4ioqK7NeGhYUpPT1dgYGBkqR33nnnAo/e23vvvae7777b/kTnWRDicaZrZ1UNHTrU63Fw\\\n",
       "cHCt180OHjyo1atXq0+fPpKkvXv32sv5U1NTlZqaKkk6cuSIunbtKun0wolNmzb5FGBAY0KAoVFa\\\n",
       "vXq1brnlFg0ePFh9+vRRdHS0goOD9Z///McOL+l/n0yqXpM6duyYrrvuOg0bNkzbt2/XkiVLLvj4\\\n",
       "q/rmm280atQoTZgwQQcOHPAK1NatW59xQUlVffv21ZgxY/Tpp59Kkp555hmtW7dOSUlJCg0N1bff\\\n",
       "fquNGzcqJydHycnJ9qeUpUuX6pFHHlFycrKcTqeio6NlWZbdj4evCy3mzJlTb6f3xo4dq0OHDtV4\\\n",
       "fv/+/dqwYYP9OCUlRe3bt/f5UzWaLgIMjZZlWVqzZs0Zr7l0795dV199taTT39N64YUXlJ+fL0nK\\\n",
       "yspSVlaWpNOLJhYuXHhBxlybcePG6dNPP9V///tfr+cDAgL09NNPq0OHDj718+KLL2rKlCn299RW\\\n",
       "rVrl078LWF5efta2Q4cO1bBhw3waQ32qvtLUY+HChV7fA5szZw7fA4MkAgyN1JAhQ/Twww9rzZo1\\\n",
       "2rlzpw4dOqQTJ06odevW6tatm8aMGaMZM2YoLCxM0unrSP/617/08MMP67PPPrO/R/Tzn/9c06dP\\\n",
       "b9AAS0tL08yZM/XUU08pJydHFRUVSkxM1H333aeRI0f63E+7du20fPlyvf3221qyZIm2bNmiI0eO\\\n",
       "qHXr1oqJiVHPnj01duxYjRs3zn7N+PHjVVpaqrVr12rXrl0qKipSSUmJwsPD1bNnT02cOFG33Xab\\\n",
       "fboVMAn/EgdQx6r/SxzPP/+8MjIyGnBEQNPEv4UIADASAQYAMBLXwHDBPPLII/roo4/O2e62227T\\\n",
       "tGnTLsCIAJiMAMMF8+233yovL++c7ap+p8tEcXFx/H+sgAuARRwAACNxDQwAYCQCDABgJALs//ly\\\n",
       "baapaq61N9e6peZbe3OtW2qatRNgAAAjEWAAACMRYAAAIxFgAAAjEWAAACMRYAAAIxFgAAAjEWAA\\\n",
       "ACMRYAAAIxFgAAAjEWAAACMRYAAAIxFgAAAjEWAAACMRYAAAIxFgAAAjEWAAACMRYAAAIxFgAAAj\\\n",
       "EWAAACMRYAAAIxFgAAAjEWAAACMRYAAAIxFgAAAjEWAAACMRYAAAIxFgAAAjOdxut9XQg6guLy+v\\\n",
       "oYcAAKgDTqez3vpulAHWEPLy8up1ohuz5lp7c61bar61N9e6paZZO6cQAQBGIsAAAEYiwAAARiLA\\\n",
       "AABGIsAAAEYiwAAARiLAAABGIsAAAEYiwAAARiLAAABGIsAAAEYiwAAARiLAAABGIsAAAEYiwAAA\\\n",
       "RiLAAABGIsAAAEYiwAAARiLAAABGIsAAAEYiwAAARiLAAABGIsAAAEYiwAAARiLAAABGIsAAAEYi\\\n",
       "wAAARiLAAABGIsAAAEYiwAAARiLAAABGIsAAAEYiwAAARiLAAABGIsAAAEYiwAAARiLAAABGIsAA\\\n",
       "AEYiwAAARiLAAABGIsAAAEZyuN1uq6EHUV1eXl5DDwEAUAecTme99d0oA6wh5OXl1etEN2bNtfbm\\\n",
       "WrfUfGtvrnVLTbN2TiECAIxEgAEAjESAAQCMRIABAIxEgAEAjESAAQCMRIABAIxEgAEAjESAAQCM\\\n",
       "RIABAIxEgAEAjESAAQCMRIABAIxEgAEAjESAAQCMRIABAIxEgAEAjESAAQCMRIABAIxEgAEAjESA\\\n",
       "AQCMRIABAIxEgAEAjESAAQCMRIABAIxEgAEAjESAAQCMRIABAIxEgAEAjESAAQCMRIABAIxEgAEA\\\n",
       "jESAAQCMRIABAIxEgMFvRScr/Hq+ufJ3nupyXnmP0BwQYPDL6u9+0ILtJco9Uub1fO6RMi3YXqLV\\\n",
       "3/3QQCNrXPydp7qcV94jNBdBDT0AmGP1dz9oRcHpg9+He7+XJCVcFKzcI2X6cO/3siR7e1J0i4Ya\\\n",
       "ZoPzd57qcl597ctZGSBnXRYNNAACDD4pOlmhrML//eVu6fQBctuRMuUdLZdVpW1W4Q/q0TZIkS0D\\\n",
       "L/g4G5q/89SuZUCdzas/+17jDtAVJyua5XuEpoNTiPBJZMtATY4LlaPKc5akndUOjA5Jk+NCm+2B\\\n",
       "0d95crYNrrN59WffV0QSXjAfn8Dgs4SLgiXJPhVVnUNSWnyo3a658nee6nJefe0r+HBtWwGzONxu\\\n",
       "d6P7Sc7Ly2voIeAslh8K1N7Smh/e41tVamwUq9w8/J2nupxX3iM0Fk5n/V1tbZSfwOqz4DPJy8tr\\\n",
       "kP02Bv7UnnukTMdPfK92oTW3HZdU1t6cT2D1+Z77O091Oa++9BV8eG+z/Hnn97xp1c41MPis6kq2\\\n",
       "2ngWDVRfvt3c+DtPdTmvvvb1TYnjDC0AcxBg8EnRyQotdX1fYzFAz7ZBNRYNLHV932y/MOvvPOUd\\\n",
       "LauzefVn358XBTbb9whNBwEGn0S2DNTImP99B8mzGOC6bq2UFu+98m1kTItmu8LN33lytg2us3n1\\\n",
       "Z99DIiqb7XuEpqNRXgND4+T5Em1W4Q+aHFdzFd1S1/caGdOiWX+JWfJ/nupyXn3tq92xyjqpFWhI\\\n",
       "BBj8khTdotYv0yZcFKzo0AD+qv9//s5TXc6rL33lHfOzIKAR4hQi/Hamgynh5c3fearLeeU9QnNA\\\n",
       "gAEAjESAAQCMRIABAIxEgAEAjESAAQCMRIABAIxEgAEAjESAAQCMRIABAIxEgAEAjESAAQCMRIAB\\\n",
       "AIxEgAEAjESAAQCMRIABAIxEgAEAjESAAQCMRIABAIxEgAEAjESAAQCMRIABAIxEgAEAjESAAQCM\\\n",
       "RIABAIxEgAEAjESAAQCMRIABAIxEgAEAjESAAQCMRIABAIxEgAEAjESAAQCMRIABAIxEgAEAjESA\\\n",
       "AQCM5HC73VZDD6K6vLy8hh4CAKAOOJ3Oeuu7UQZYQ8jLy6vXiW7MmmvtzbVuqfnW3lzrlppm7ZxC\\\n",
       "BAAYiQADABiJAAMAGIkAAwAYiQADABiJAAMAGIkAAwAYiQADABiJAAMAGIkAAwAYiQADABiJAAMA\\\n",
       "GIkAAwAYiQADABiJAAMAGIkAAwAYiQADABiJAAMAGIkAAwAYiQADABiJAAMAGIkAAwAYiQADABiJ\\\n",
       "AAMAGIkAAwAYiQADABiJAAMAGIkAAwAYiQADABiJAAMAGIkAAwAYiQADABiJAAMAGIkAAwAYiQAD\\\n",
       "ABiJAAMAGIkAAwAYiQADABiJAAMAGIkAAwAYyeF2u62GHkR1eXl5DT0EAEAdcDqd9dZ3owywhpCX\\\n",
       "l1evE92YNdfam2vdUvOtvbnWLTXN2jmFCAAwEgEGADASAQYAMBIBBgAwEgEGADASAQYAMBIBBgAw\\\n",
       "EgEGADASAQYAMBIBBgAwEgEGADASAQYAMBIBBgAwEgEGADASAQYAMBIBBgAwEgEGADASAQYAMBIB\\\n",
       "BgAwEgEGADASAQYAMBIBBgAwEgEGADASAQYAMBIBBgAwEgEGADASAQYAMBIBBgAwEgEGADCSw+12\\\n",
       "Ww09CAAA/MUnMACAkQgwAICRCDAAgJEIMACAkYwMsOLiYmVmZurSSy9VVFSUunbtqvHjx2vTpk06\\\n",
       "fvy45syZo5EjR6p79+7q2LGjBgwYoDlz5ujw4cNe/Rw8eFAzZsxQjx491KFDByUlJemFF16osb+s\\\n",
       "rCxdddVViomJUefOnXXttddq48aNXm3Kysr0+OOPq3///oqKilJCQoIyMzN1/PjxC1J3VcePH1di\\\n",
       "YqIiIiIUERGhl156yei6fa09NzdXt9xyi3r06KGoqCj16tVLN954o0pKSoyt/Vx17969W9OmTVPf\\\n",
       "vn3VoUMHdevWTVdddZWWLFni1Y9JdbtcLvtnt7bbHXfc4dc4du/eralTpyo+Pl7R0dFKTU3Ve++9\\\n",
       "V2O/ixcvVmpqqjp27Kj4+HhNnTpVu3fv9mrjOb4kJCQoKipK/fv319y5c1VWVnbBam/Kxzi/ud1u\\\n",
       "y6Tb7t27ra5du1qSrMDAQMvpdFoJCQlWmzZtrNdff93atGmT17bo6GhLkiXJ6tu3r1VcXGy53W7r\\\n",
       "wIEDltPptCRZoaGhVvfu3e129957r72/xYsXW4GBgZYkq1OnTlZkZKQlyWrVqpX15Zdf2u2uv/56\\\n",
       "S5IVEBBgOZ1OKzg42JJkDRs2zN5nfdZdte2NN95o1yLJevLJJ+1tptXta+3Lli2zWrVqZY+xb9++\\\n",
       "ltPptIKCgqxdu3YZWfu56i4uLrY6d+5sSbJCQkKsSy+91IqIiLBrWrZsmZF1b9++3Ro0aJDXrU+f\\\n",
       "PvaY7777bp/HsX37disqKsqSZIWHh1txcXF2P/PmzbP3OW/ePPv5uLg4Kzw83JJkRUVFWTt27LDc\\\n",
       "brdVXFxsDRs2zJJkBQcHW06n0woICLAkWTfccEOd/Kz7UntTPcadz824APvFL35hT3ROTo79fFFR\\\n",
       "kVVQUGDt2LHD+v3vf2+5XC7L7XZbhw8ftiZNmmS/cdnZ2Zbb7bYeffRRS5LlcDisL774wnK73daM\\\n",
       "GTPsH86dO3dabrfbSkhIsCRZgwcPtg4fPmzt37/f6tKliyXJuuqqqyy3221lZWXVCItFixbZz73x\\\n",
       "xhv1Xrfn8auvvmpJsq655ppaA8y0un2p/ciRI1bv3r0tSdbIkSPt997tdlsFBQX2L5dptZ+rbs+B\\\n",
       "TJL14IMPWm6321q+fLn93CuvvGJk3bXd7rvvPnu8W7du9Xkc06ZNsyRZYWFh1rZt2yy3222lpaVZ\\\n",
       "kqzIyEjr4MGD1sGDB+2DdlpamuV2u61t27ZZYWFhliRr2rRpltvttt544w27/7fffttyu93WE088\\\n",
       "YT+XlZV1QWpvqse487kZdQrRsiz71EhcXJx++ctfKjY2VklJSXrttdcUGhqq6OhozZw5U23btpUk\\\n",
       "BQUFKSkpye6jRYsWkqR///vfkqTu3bvrkksukSSlpaVJOv1ReeXKlSooKFBubq4kafz48QoKClJY\\\n",
       "WJiuuOIKSVJ2drYqKirsvqr2MW7cOLVs2VKStGLFinqvW5Ly8/M1a9YsJSYm6v7776+1L5Pq9rX2\\\n",
       "rVu3avv27ZKk8PBwjRgxQhdffLHGjh2rnJwcBQQEGFe7L3V36tRJcXFxkqTHH39cqampuv766xUY\\\n",
       "GKj09HRNnjzZuLprU1paqgULFkiSpkyZoosvvtjncXjaDR48WDExMZJkz0tRUZE2btyo9evXq6io\\\n",
       "yKuvmJgYDRo0qNa+QkNDNXbsWK/2VdvVpdpqb4rHuPNlVIAdPnxYR44ckSR99dVX2r9/vyIjI7Vj\\\n",
       "xw7Nnj1bL7/8co3XHD9+XIsWLZIkpaSkqHfv3pKkAwcOSJKioqLsth06dLDv5+fn220kqX379vZ9\\\n",
       "z2u+//57FRUVebXzbAsICFBkZKTd14/hS92VlZW6/fbbVV5ergULFigoKKjWvkyqW/Kt9m+++cZu\\\n",
       "/+GHH0qSgoODtWbNGl177bX29SKTavel7uDgYH388cfq37+/Tp06pc2bN8vtdqtt27a69NJLFRIS\\\n",
       "YlzdtXnjjTdUXFwsh8OhmTNnSpLP4/C0q1rT2WqvOkee+9X7ateunf1HUfW+6lpttVfXFI5x58uo\\\n",
       "ACsvL7fvt2vXThs2bNCGDRs0ZMgQSaoRYAUFBZo4caJyc3PVu3dvvfrqq/Y2y7Jq9F/9udra1OZM\\\n",
       "7Xx9/bn4Uvf8+fP15Zdfau7cuerRo4dfY22sdUu+1V61zahRo7RhwwatXbtWrVu3VllZmV577bUz\\\n",
       "jqux1u5L3ZWVlbrnnnu0adMm3XrrrTpw4IDeeustFRcX64EHHtA777xzxjE11rqrq6io0F/+8hdJ\\\n",
       "p//i79Onz48eR13WXl91S2euvaqmcow7X0YFWPv27e2/Knv06KGwsDAFBgaqf//+kqR9+/bZbTdu\\\n",
       "3KjRo0dr8+bNGjp0qD755BNFR0fb2y+++GJJ0qFDh+znqt6PjY2120jyWt3jaRcaGqrIyEivdp5t\\\n",
       "lZWVKi4utvuq77q3bt0qSZozZ45iY2OVnJxsv/7++++3T3mYVLfkW+2eU0OSlJiYKIfDofbt29un\\\n",
       "1zw/FybV7kvd2dnZWr58uSQpIyNDrVu31oQJE+y/kLOysoyru7p//OMf9vs3a9Ys+3lfx+H5b201\\\n",
       "ebbX1lfV+54+PO2KiopUWVlZa1916Uy1ezSlY9z5MirAgoODNXz4cEnSN998oxMnTqiyslJbtmyR\\\n",
       "dPpcryQtXbpUEyZMUGFhodLT0/XBBx+oXbt2Xn2NHj1akrRr1y774O85/RQUFKQRI0aoU6dOSkhI\\\n",
       "kCT985//VHl5uY4fP67PP/9ckjRixAgFBgbqyiuvtPv19LFs2TKdPHnSa1/1XbcklZSUqKSkRKWl\\\n",
       "pfZzp06dsh+bVLevtQ8cOFDh4eGSpM2bN0s6vfzc88vvmR+Tavel7mPHjtntc3JyJEl79+61Tz22\\\n",
       "bt3auLqrmzdvniRp6NChGjp0qP28r+Pw/Hft2rUqLCyUdPr4IJ3+ZDtgwABddtll9vHB01dhYaHW\\\n",
       "rVtXa18nT560/3DwtK+6va6cqXZPDU3pGHfeGmLlyI+5rVixwmrRooW9xNWzWkaS9frrr1vbtm2z\\\n",
       "HA6Hvcy0+pJUz0qh/Px8e1lpaGio1aNHD7uf2bNn2/t799137aWyVZeYhoaGWqtWrbLbTZkyxV5i\\\n",
       "2rNnT3uJaXJycp0sMT1X3dXbV12hVnUVoml1+1p71dVgXbt2tdq1a2dJp5dOb9y40cjaz1X37t27\\\n",
       "7WXzDofDSkhIsFfOBQYG2svoTavbc1u8eLE9zkWLFtXY7ss4cnNz7TqqL6N/9tln7b7+/Oc/289X\\\n",
       "XUYfGRlpr14sKiqykpOT7VV8PXv2tOcrPT29To9zZ6u9qR7jzucWmJmZ+fCPyL8LLiYmRiNHjtS+\\\n",
       "ffvkcrlUXl6ugQMH6vnnn9e4ceNUXFys+fPnSzp9fragoMDrdt111ykuLk4hISG6+uqrVVRUpH37\\\n",
       "9ungwYPq3r27fvOb32j27NlyOBySTv+lO2jQILlcLu3du1eWZSklJUUvvfSSEhMT7XGNHz9eDodD\\\n",
       "+/btsy+433TTTXruuefslTr1WXd1R48etb+wOGbMGA0cOFCSjKvb19oHDRqkuLg4uVwuuVwuhYWF\\\n",
       "6corr9Trr7+u+Ph4I2s/V92hoaEaP368jh07pqNHjyo/P19hYWEaOnSo5s2bZ59GNq1uj1mzZsnl\\\n",
       "cqlXr156/PHH7XH6M46wsDBNnDhRhYWFcrlcOnr0qBISEvToo48qIyPD7isxMVHdunXT3r175XK5\\\n",
       "FBQUpDFjxuiVV16xT0UHBAQoLS1NpaWl2r9/vwoKChQbG6tp06bpscceU2Bg4AWpvake484H/zsV\\\n",
       "AICRjLoGBgCABwEGADASAQYAMBIBBgAwEgEGADDS/wHn9cxFKHxV+wAAAABJRU5ErkJggg==\\\n",
       "\"\n",
       "  frames[4] = \"data:image/png;base64,iVBORw0KGgoAAAANSUhEUgAAAbAAAAEgCAYAAADVKCZpAAAABHNCSVQICAgIfAhkiAAAAAlwSFlz\\\n",
       "AAALEgAACxIB0t1+/AAAADl0RVh0U29mdHdhcmUAbWF0cGxvdGxpYiB2ZXJzaW9uIDMuMC4zLCBo\\\n",
       "dHRwOi8vbWF0cGxvdGxpYi5vcmcvnQurowAAIABJREFUeJzt3XlU1XX+x/HXZVNEkEREsQSXi4rl\\\n",
       "MmqIenDPXBtNs5PTcqbSSWccy7HwtP/qpE1narLT1LSMtmflWNY0aZOK2OKCuA2p5IILboDXBURZ\\\n",
       "vr8/6H6HC1e9kAgfeD7O4XT5Lp/v+32B7+ve7/dzzeFyuSwBAGAYv9ouAACA6iDAAABGIsAAAEYi\\\n",
       "wAAARiLAAABGIsAAAEYiwAAARiLAAABGIsAAAEYiwAAARiLAAABGIsAAAEYiwAAARiLAgDrkvvvu\\\n",
       "U3h4uMLDw3XdddfVdjlAnRZQ2wUAQHmrVq3SO++8o02bNuno0aM6f/68mjZtqvbt22vw4MGaNm2a\\\n",
       "oqKiartM1AEEGIA6Y/78+Zo/f36l5SdPnlR6errS09O1aNEiffXVV4qLi6uFClGXcAkRQJ1w7Ngx\\\n",
       "Pffcc/b3YWFh+t3vfqeHH35Y/fv3t5fn5eXpxRdfrI0SUccQYKiW1NRU+15NeHi4UlNTtXTpUg0f\\\n",
       "PlzR0dFq27atJk+erF27dlX7GAcPHtScOXOUkJCg6OhoRUZGyul0asCAAZoxY4Y+++wzj+0///xz\\\n",
       "TZ06VYmJierYsaNatmypVq1a6brrrtMdd9yhVatWXbKPNWvW6B//+IcSExMVFRWl6667TvPmzVNx\\\n",
       "cbEkaeHCherXr5+ioqLUuXNnzZkzR6dPn/YYMysry2PM9957TykpKRo7dqzatm2rNm3aaPTo0UpJ\\\n",
       "Sanyc1JcXKx3331X48ePl9PpVGRkpGJjYzVmzBi99957Ki0trbTPjh07NH36dPXs2VOtWrVSy5Yt\\\n",
       "1alTJw0ePFgPPPBAteqoCfv371dJSYn9/Zw5czR//nzNmTNHy5YtU1hYmL0uJyenNkpEHcMlRFwW\\\n",
       "zzzzjL7//nuPZcuXL1daWprWrVuniIiIKo2Xk5OjIUOG6NixYx7Ljx8/ruPHj2v79u3at2+fbrrp\\\n",
       "Jnvdxx9/rGXLllUa68CBAzpw4ICWLVumxx9/XPfff/8Fj/vEE09o06ZNHvs+++yzOnTokIKDg/X6\\\n",
       "66/b644cOaLXX39du3btqhSm5X300Udas2aNLMuyl3377bcaP368XnvtNU2cOPHiT8bPXC6XJk2a\\\n",
       "pA0bNlRavnbtWq1du1ZLlizR+++/r8aNG0uSdu7cqaFDhyo/P99jn6NHj+ro0aNKT0/X2bNnNXDg\\\n",
       "QJ9qmDdvnp599lmftnXbsmWLYmJiLrld+/btFRQUpPPnz0uSVq9erQkTJqhFixb6+uuvdebMGXvb\\\n",
       "YcOGVakG1E8EGC6L77//Xj179tTQoUO1du1a/fDDD5LKguidd97RrFmzqjTeZ599ZodX48aNNWXK\\\n",
       "FLVp00Z5eXk6ePCg1q5dW2mfZs2aadCgQYqLi1N4eLiaNGmikydPas2aNUpLS5NUdgK+9dZb1bp1\\\n",
       "a6/H3bRpkwYOHKiEhAR9/PHH2rt3ryTp3XfflST17t1bQ4YM0RdffKGMjAxJUkpKitLS0tSrVy+v\\\n",
       "Y6akpCg+Pl6jRo1Sdna2Fi9erJKSEpWWlmrWrFkaOHCgIiMjL/mcTJs2zQ6vwMBAjR8/XnFxcdq7\\\n",
       "d68++ugjFRUVaeXKlXr00UftS3Hvv/++HV7NmjXTlClT1KJFCx0/flxZWVlen8fa0rx5cz311FOa\\\n",
       "O3euSktL9c0336hr164e24SGhuq+++7T3XffXUtVoi4hwHBZ9OzZU8uXL7dfQcfHx9uXedzhURXn\\\n",
       "zp2zH/fv319/+ctfPNZblqWsrCyPZS+99JJKSkqUnp6uXbt26dSpU/L399fIkSPtGs6fP681a9Zo\\\n",
       "8uTJXo+blJSkTz/9VA6HQ3369NGkSZPsdZ07d9aXX36poKAg/frXv1a/fv3sdRs3brxggHXo0EEr\\\n",
       "V6603xV1795dDz30kCTpzJkz+vDDD/WHP/zhos9HRkaGli9fbn//4osv6rbbbrO/79Spkx577DFJ\\\n",
       "0qJFi/Twww8rPDzc43mcMGGCnnnmGY9xi4uLdfjw4Yseu7whQ4aoadOmPm8vSVdddZXP206bNk1x\\\n",
       "cXG65557lJubW2l9YmKiRowYIT8/7n6AAMNlcueddyooKEiSFBQUpNjYWDvAXC5Xlcfr16+f/Pz8\\\n",
       "7Ffi119/veLj49W+fXvFx8crKSlJsbGxHvssXbpUycnJOnr06EXHzs7OvuC6W265RQ6HQ5IqXfa6\\\n",
       "6aab7B6dTqfHuov1OGnSJDu8JGnKlCl2gEm+Bbz7Ha3b9OnTNX36dK/bFhUVaePGjRo2bJgGDBig\\\n",
       "V199VVLZ/buNGzeqc+fOateuna699lolJSXpmmuuueTx3RISEpSQkODz9lX15ptvKjk5WUVFRWrc\\\n",
       "uLEmT56s6OhorV27VqmpqVqxYoVWrVqlhQsXasyYMTVWB8xAgOGyaNu2rcf37hO9JK8TCy6lR48e\\\n",
       "ev755/Xkk0/qxIkT2rVrl8eEEH9/f82cOVOPP/64JGnr1q26++67fTpWYWHhBde1adPGftyoUSOP\\\n",
       "ddHR0fbjwMBAj3UXO27Fzyw1bdpUTZs2te/p+BLweXl5l9ymPPeLhzFjxig5OVkvvfSS8vPztW3b\\\n",
       "Nm3bts3ernHjxnrqqad07733+jTuunXrtH79+irVcuedd3pMwLiQjIwMzZkzx34un3vuOd1+++2S\\\n",
       "pIceekijRo3Sd999p6KiIiUnJxNgIMBweVQ8obvfxfwSd911l6ZMmaJNmzYpIyNDe/fu1fr16/XD\\\n",
       "Dz+opKREL7zwgoYOHaoBAwbo008/tU98DodDr7zyikaNGqWwsDAVFBR4hM/FBARc+E/iYusupuI7\\\n",
       "wvz8fI8JCeHh4Zcco+JluN///vcX/TBv9+7d7cfJycn64x//qA0bNmjHjh3au3evUlNTtX37dhUW\\\n",
       "Fio5OVnDhw+v9I7Wm5UrV1Z5Ese4ceN8CrCUlBSPFwJ9+vTxWN+7d2999913kspmqObm5lZ5chDq\\\n",
       "FwIMddKRI0ckSa1atfK4bGVZlmJiYnTq1ClJUnp6ugYMGOBxvyQ0NFSTJk2Sv7+/JGnx4sVXuHpP\\\n",
       "n3zyie6//377HZ17Qojbhe6dlde3b1+P7wMDA73eNzt27JjWrVunLl26SJL27dtnT+dPSkpSUlKS\\\n",
       "JOnEiRNq166dJKmkpERbtmzxKcBqUvkp9JK0YcMGde7c2f5+48aN9mOHw1HpHTIaHgIMddK6det0\\\n",
       "1113qU+fPurSpYuioqIUGBio7777zg4v6X/vTMrfkzp16pRuvvlm9e/fXzt27NDSpUuveP3l/fTT\\\n",
       "TxoyZIhGjRqlQ4cOeQRqSEjIBSeUlNe1a1cNHz5cX3/9tSTphRde0MaNG5WQkKDg4GAdOXJEmzdv\\\n",
       "VlpamhITEzV27FhJZZ+Ne/LJJ5WYmCin06moqChZlmWP4+brRIu5c+dq7ty5vrZeJe5wdZszZ47S\\\n",
       "0tIUHR2t1NRU+92XVHaPtKqTSVD/EGCosyzL0vr16y94z6VDhw7258B+85vf6NVXX9XBgwcllX2G\\\n",
       "aPXq1ZLKJk289957V6Rmb0aMGKGvv/5a//3vfz2W+/n56fnnn1fLli19Gufvf/+7Jk6caH9OLTU1\\\n",
       "VampqZfcr7i4+KLb9u3b1+Nfuqgt3bp10+zZs+0Zp4WFhVq0aFGl7SIjIyvNSkXDRIChTrr++uv1\\\n",
       "xBNPaP369dq1a5eOHz+uM2fOKCQkRO3bt9fw4cM1Y8YMhYaGSiq7j/TVV1/piSee0DfffKOCggLF\\\n",
       "xsbq9ttv1/Tp02s1wMaNG6eZM2fqueeeU1pamkpKStSjRw89+OCDGjRokM/jNG/eXCtWrNCHH36o\\\n",
       "pUuXatu2bTpx4oRCQkLUunVrxcXF6YYbbtCIESPsfUaOHKmCggJt2LBBu3fvVm5urvLz8xUWFqa4\\\n",
       "uDiNHj1a9957r325tbY9+uijSkpK0rvvvquNGzfq8OHDKioqUtOmTdWhQwcNGzZM06ZN494XJEkO\\\n",
       "l8tlXXozAL7KysrymETx8ssva8qUKbVYEVA/8WlAAICRCDAAgJG4B4Yr5sknn9QXX3xxye3uvfde\\\n",
       "TZ069QpUBMBkBBiumCNHjigzM/OS23n7N/BMEhMTU61/PgtA1TCJAwBgJO6BAQCMRIABAIxEgP3M\\\n",
       "l3sz9VVD7b2h9i013N4bat9S/eydAAMAGIkAAwAYiQADABiJAAMAGIkAAwAYiQADABiJAAMAGIkA\\\n",
       "AwAYiQADABiJAAMAGIkAAwAYiQADABiJAAMAGIkAAwAYiQADABiJAAMAGIkAAwAYiQADABiJAAMA\\\n",
       "GIkAAwAYiQADABiJAAMAGIkAAwAYiQADABiJAAMAGIkAAwAYiQADABiJAAMAGMnhcrms2i6ioszM\\\n",
       "zNouAQBwGTidzhobu04GWG3IzMys0Se6LmuovTfUvqWG23tD7Vuqn71zCREAYCQCDABgJAIMAGAk\\\n",
       "AgwAYCQCDABgJAIMAGAkAgwAYCQCDABgJAIMAGAkAgwAYCQCDABgJAIMAGAkAgwAYCQCDABgJAIM\\\n",
       "AGAkAgwAYCQCDABgJAIMAGAkAgwAYCQCDABgJAIMAGAkAgwAYCQCDABgJAIMAGAkAgwAYCQCDABg\\\n",
       "JAIMAGAkAgwAYCQCDABgJAIMAGAkAgwAYCQCDABgJAIMAGAkAgwAYCQCDABgJAIMAGAkAgwAYCQC\\\n",
       "DABgJAIMAGAkAgwAYCQCDABgJIfL5bJqu4iKMjMza7sEAMBl4HQ6a2zsOhlgtSEzM7NGn+i6rKH2\\\n",
       "3lD7lhpu7w21b6l+9s4lRACAkQgwAICRCDAAgJEIMACAkQgwAICRCDAAgJEIMACAkQgwAICRCDAA\\\n",
       "gJEIMACAkQgwAICRCDAAgJEIMACAkQgwAICRCDAAgJEIMACAkQgwAICRCDAAgJEIMACAkQgwAICR\\\n",
       "CDAAgJEIMACAkQgwAICRCDAAgJEIMACAkQgwAICRCDAAgJEIMACAkQgwAICRCDAAgJEIMACAkQgw\\\n",
       "AICRCDAAgJEIMACAkQgwg+QWllRpeX2v42LHrOlafDluVWurbi/e1ucWllxwOVBfEGCGWHf0nN7Y\\\n",
       "ka+ME0UeyzNOFOmNHflad/Rcg6qjNmvx5bhVra26vXjbb93Rc5qXfkrz0k977FcbPyOgJgXUdgG4\\\n",
       "tHVHz2lldtlJZ9m+s5Kk+KsClXGiSMv2nZUl2esTohrV+zpqsxZfjvvOrnxZDoeuDvH3qbbq9uJt\\\n",
       "v9PnS7V4d4F2niyWLGnxbkuSFBrk5zGWs9RPzsv2rAC1gwCr43ILS7T68P9eMVsqO1n9eKJImSeL\\\n",
       "ZZXbdvXhc+rYLEARjf3rbR21WYsvxz1bXKp9Z8ou0zVv5FCTAL+L1ta8sV+1evFWy+KfCrTvTLFy\\\n",
       "Ckvl3nGnq1h/++8ZxYT6Kzjgfxdc1rv8NLiwpMZ+RsCVwCXEOi6isb/GxgTLUW6ZJWlXhZObQ9LY\\\n",
       "mOAaOyHVlTpqsxZfjhsc4KdO4YHq1CxATX4OjIvV5mwWWK1evNXSOMChiEZ+qrhjRGM/j/BySBoc\\\n",
       "QXjBfLwDM0D8VYGSZF8CqsghaVxssL1dfa+jNmvx5bh3dw6pUm3V7cXbfpHBZaG001UsOaROzQLs\\\n",
       "ZeXHCszxdiTALHUywDIzMxvUcX0RKCn0rL/2FVR+0xzbpFSBOSXKzKn++L72XtN1VMXlqKU6P3Nf\\\n",
       "jqsq1lbdXrzt5y+pUXHZezP/Akt5Bd7rq8u/7zWpofYt1U7vTmfN3W2tkwFWkw1fSGZmZq0c11cZ\\\n",
       "J4p0+sxZNQ+uvO60pKIW1X+3UZXea7KOqvqltVT3Z+7LcSVVqbbq9uJtv+NnS3TufNk7sJImnu/A\\\n",
       "3GMF5uyr07/vNaWu/53XpPrYe50MMHgqPxvNG/eNf0k1Gh51pY7arMWX4765I1+yLLUI9n6PqWJt\\\n",
       "1e3F237Hz5aUXT78ecedJ8seu0PMPVZ3h4NZiDAekzjquNzCEn2edbbSDf24ZgGVbvx/nnW2xj6o\\\n",
       "WlfqqM1afDnu2eJS7XQVaefJYhUUl16ytsyTRdXqxVsthcWWcs+VquKOuYWlOvtzLe6xVuX686Fm\\\n",
       "GI8Aq+MiGvtrUOv/ffbHfRP+5vZNNC7WcxbaoNaNanQWYl2oozZr8eW4wQF+im3qr5jQslmIl6rN\\\n",
       "2SywWr14q2VyxyaaHt9UnZoF2CHWKTxA07s21a0dQzzGuj68lFmIMB6XEA3g/vDq6sPnNDam8uy1\\\n",
       "z7POalDrRjX+4eG6Ukdt1uLLcW+PC6lSbdXt5UL7SdLHewokOTSpfbDHfu6xmp8qFWA6AswQCVGN\\\n",
       "vH4gN/6qQEUF+12xV9N1pY7arMXX41altur24m0/9zJJHsvLj5V5qopNA3UQAWaQC53ErvSloLpS\\\n",
       "x8WOWdO1+HLcqtZW3V68ra9LPyOgpnAPDABgJAIMAGAkAgwAYCQCDABgJAIMAGAkAgwAYCQCDABg\\\n",
       "JAIMAGAkAgwAYCQCDABgJAIMAGAkAgwAYCQCDABgJAIMAGAkAgwAYCQCDABgJAIMAGAkAgwAYCQC\\\n",
       "DABgJAIMAGAkAgwAYCQCDABgJAIMAGAkAgwAYCQCDABgJAIMAGAkAgwAYCQCDABgJAIMAGAkAgwA\\\n",
       "YCQCDABgJAIMAGAkAgwAYCQCDABgJAIMAGAkh8vlsmq7iIoyMzNruwQAwGXgdDprbOw6GWC1ITMz\\\n",
       "s0af6LqsofbeUPuWGm7vDbVvqX72ziVEAICRCDAAgJEIMACAkQgwAICRCDAAgJEIMACAkQgwAICR\\\n",
       "CDAAgJEIMACAkQgwAICRCDAAgJEIMACAkQgwAICRCDAAgJEIMACAkQgwAICRCDAAgJEIMACAkQgw\\\n",
       "AICRCDAAgJEIMACAkQgwAICRCDAAgJEIMACAkQgwAICRCDAAgJEIMACAkQgwAICRCDAAgJEIMACA\\\n",
       "kQgwAICRCDAAgJEIMACAkQgwAICRCDAAgJEIMACAkQgwAICRCDAAgJEIMACAkQgwAICRHC6Xy6rt\\\n",
       "IirKzMys7RIAAJeB0+mssbHrZIDVhszMzBp9ouuyhtp7Q+1bari9N9S+pfrZO5cQAQBGIsAAAEYi\\\n",
       "wAAARiLAAABGIsAAAEYiwAAARiLAAABGIsAAAEYiwAAARiLAAABGIsAAAEYiwAAARiLAAABGIsAA\\\n",
       "AEYiwAAARiLAAABGIsAAAEYiwAAARiLAAABGIsAAAEYiwAAARiLAAABGIsAAAEYiwAAARiLAAABG\\\n",
       "IsAAAEYiwAAARiLAAABGIsAAAEZyuFwuq7aLAACgqngHBgAwEgEGADASAQYAMBIBBgAwkpEBlpeX\\\n",
       "p+TkZHXr1k2RkZFq166dRo4cqS1btuj06dOaO3euBg0apA4dOqhVq1bq2bOn5s6dq5ycHI9xjh07\\\n",
       "phkzZqhjx45q2bKlEhIS9Oqrr1Y63urVq3XjjTeqdevWuuaaazRhwgRt3rzZY5uioiLNnz9f3bt3\\\n",
       "V2RkpOLj45WcnKzTp09fkb7LO336tHr06KHw8HCFh4frtddeM7pvX3vPyMjQXXfdpY4dOyoyMlKd\\\n",
       "OnXSrbfeqvz8fGN7v1Tfe/bs0dSpU9W1a1e1bNlS7du314033qilS5d6jGNS31lZWfbvrrev++67\\\n",
       "r0p17NmzR3fccYdiY2MVFRWlpKQkffLJJ5WOu2TJEiUlJalVq1aKjY3VHXfcoT179nhs4z6/xMfH\\\n",
       "KzIyUt27d9e8efNUVFR0xXqvz+e4KnO5XJZJX3v27LHatWtnSbL8/f0tp9NpxcfHW02bNrXeeust\\\n",
       "a8uWLR7roqKiLEmWJKtr165WXl6e5XK5rEOHDllOp9OSZAUHB1sdOnSwt5szZ459vCVLllj+/v6W\\\n",
       "JCs6OtqKiIiwJFlNmjSxvv32W3u7W265xZJk+fn5WU6n0woMDLQkWf3797ePWZN9l9/21ltvtXuR\\\n",
       "ZP35z3+215nWt6+9L1++3GrSpIldY9euXS2n02kFBARYu3fvNrL3S/Wdl5dnXXPNNZYkKygoyOrW\\\n",
       "rZsVHh5u97R8+XIj+96xY4fVu3dvj68uXbrYNd9///0+17Fjxw4rMjLSkmSFhYVZMTEx9jgLFiyw\\\n",
       "j7lgwQJ7eUxMjBUWFmZJsiIjI62dO3daLpfLysvLs/r3729JsgIDAy2n02n5+flZkqzJkydflt91\\\n",
       "X3qvr+e46nwZF2C//e1v7Sc6LS3NXp6bm2tlZ2dbO3futP7v//7PysrKslwul5WTk2ONGTPG/sGl\\\n",
       "pKRYLpfLevrppy1JlsPhsNauXWu5XC5rxowZ9i/nrl27LJfLZcXHx1uSrD59+lg5OTnWgQMHrLZt\\\n",
       "21qSrBtvvNFyuVzW6tWrK4XFBx98YC97++23a7xv9/cLFy60JFnjx4/3GmCm9e1L7ydOnLA6d+5s\\\n",
       "SbIGDRpk/+xdLpeVnZ1t/3GZ1vul+nafyCRZjz32mOVyuawVK1bYy958800j+/b29eCDD9r1bt++\\\n",
       "3ec6pk6dakmyQkNDrR9//NFyuVzWuHHjLElWRESEdezYMevYsWP2SXvcuHGWy+WyfvzxRys0NNSS\\\n",
       "ZE2dOtVyuVzW22+/bY//4YcfWi6Xy3r22WftZatXr74ivdfXc1x1voy6hGhZln1pJCYmRvfcc4/a\\\n",
       "tGmjhIQELVq0SMHBwYqKitLMmTPVrFkzSVJAQIASEhLsMRo1aiRJ+s9//iNJ6tChg6699lpJ0rhx\\\n",
       "4ySVvVVes2aNsrOzlZGRIUkaOXKkAgICFBoaqsGDB0uSUlJSVFJSYo9VfowRI0aocePGkqSVK1fW\\\n",
       "eN+SdPDgQc2aNUs9evTQI4884nUsk/r2tfft27drx44dkqSwsDANHDhQV199tW644QalpaXJz8/P\\\n",
       "uN596Ts6OloxMTGSpPnz5yspKUm33HKL/P39NWnSJI0dO9a4vr0pKCjQG2+8IUmaOHGirr76ap/r\\\n",
       "cG/Xp08ftW7dWpLs5yU3N1ebN2/Wpk2blJub6zFW69at1bt3b69jBQcH64YbbvDYvvx2l5O33uvj\\\n",
       "Oa66jAqwnJwcnThxQpL0/fff68CBA4qIiNDOnTs1e/Zsvf7665X2OX36tD744ANJUr9+/dS5c2dJ\\\n",
       "0qFDhyRJkZGR9rYtW7a0Hx88eNDeRpJatGhhP3bvc/bsWeXm5nps517n5+eniIgIe6xfwpe+S0tL\\\n",
       "NW3aNBUXF+uNN95QQECA17FM6lvyrfeffvrJ3n7ZsmWSpMDAQK1fv14TJkyw7xeZ1LsvfQcGBupf\\\n",
       "//qXunfvrvPnz2vr1q1yuVxq1qyZunXrpqCgIOP69ubtt99WXl6eHA6HZs6cKUk+1+HernxPF+u9\\\n",
       "/HPkflxxrObNm9sviiqOdbl5672i+nCOqy6jAqy4uNh+3Lx5c6Wnpys9PV3XX3+9JFUKsOzsbI0e\\\n",
       "PVoZGRnq3LmzFi5caK+zLKvS+BWXedvGmwtt5+v+l+JL36+88oq+/fZbzZs3Tx07dqxSrXW1b8m3\\\n",
       "3stvM2TIEKWnp2vDhg0KCQlRUVGRFi1adMG66mrvvvRdWlqqBx54QFu2bNHdd9+tQ4cO6f3331de\\\n",
       "Xp4effRRLV68+II11dW+KyopKdHf/vY3SWWv+Lt06fKL67icvddU39KFey+vvpzjqsuoAGvRooX9\\\n",
       "qrJjx44KDQ2Vv7+/unfvLknav3+/ve3mzZs1dOhQbd26VX379tWXX36pqKgoe/3VV18tSTp+/Li9\\\n",
       "rPzjNm3a2NtI8pjd494uODhYERERHtu515WWliovL88eq6b73r59uyRp7ty5atOmjRITE+39H3nk\\\n",
       "EfuSh0l9S7717r40JEk9evSQw+FQixYt7Mtr7t8Lk3r3pe+UlBStWLFCkjRlyhSFhIRo1KhR9ivk\\\n",
       "1atXG9d3Rf/85z/tn9+sWbPs5b7W4f6vt57c672NVf6xewz3drm5uSotLfU61uV0od7d6tM5rrqM\\\n",
       "CrDAwEANGDBAkvTTTz/pzJkzKi0t1bZt2ySVXeuVpM8//1yjRo3S4cOHNWnSJH322Wdq3ry5x1hD\\\n",
       "hw6VJO3evds++bsvPwUEBGjgwIGKjo5WfHy8JOnf//63iouLdfr0aa1atUqSNHDgQPn7+2vYsGH2\\\n",
       "uO4xli9frsLCQo9j1XTfkpSfn6/8/HwVFBTYy86fP29/b1Lfvvbeq1cvhYWFSZK2bt0qqWz6ufuP\\\n",
       "3/38mNS7L32fOnXK3j4tLU2StG/fPvvSY0hIiHF9V7RgwQJJUt++fdW3b197ua91uP+7YcMGHT58\\\n",
       "WFLZ+UEqe2fbs2dP/epXv7LPD+6xDh8+rI0bN3odq7Cw0H7h4N6+/PrL5UK9u3uoT+e4aquNmSO/\\\n",
       "5GvlypVWo0aN7Cmu7tkykqy33nrL+vHHHy2Hw2FPM604JdU9U+jgwYP2tNLg4GCrY8eO9jizZ8+2\\\n",
       "j/fxxx/bU2XLTzENDg62UlNT7e0mTpxoTzGNi4uzp5gmJiZelimml+q74vblZ6iVn4VoWt++9l5+\\\n",
       "Nli7du2s5s2bW1LZ1OnNmzcb2ful+t6zZ489bd7hcFjx8fH2zDl/f397Gr1pfbu/lixZYtf5wQcf\\\n",
       "VFrvSx0ZGRl2HxWn0b/44ov2WH/961/t5eWn0UdERNizF3Nzc63ExER7Fl9cXJz9fE2aNOmynucu\\\n",
       "1nt9PcdV58s/OTn5iV+Qf1dc69atNWjQIO3fv19ZWVkqLi5Wr1699PLLL2vEiBHKy8vTK6+8Iqns\\\n",
       "+mx2drbH180336yYmBgFBQXppptuUm5urvbv369jx46pQ4cO+tOf/qTZs2fL4XBIKnul27t3b2Vl\\\n",
       "ZWnfvn2yLEv9+vXTa6+9ph49eth1jRw5Ug6HQ/v377dvuN9222166aWX7Jk6Ndl3RSdPnrQ/sDh8\\\n",
       "+HD16tVLkozr29fee/furZiYGGVlZSkrK0uhoaEaNmyY3nrrLcXGxhrZ+6X6Dg4O1siRI3Xq1Cmd\\\n",
       "PHlSBw8eVGhoqPr27asFCxbYl5FN69tt1qxZysrKUqdOnTR//ny7zqrUERoaqtGjR+vw4cPKysrS\\\n",
       "yZMnFR8fr6efflpTpkyxx+rRo4fat2+vffv2KSsrSwEBARo+fLjefPNN+1K0n5+fxo0bp4KCAh04\\\n",
       "cEDZ2dlq06aNpk6dqmeeeUaWUoSOAAAAMklEQVT+/v5XpPf6eo6rDv53KgAAIxl1DwwAADcCDABg\\\n",
       "JAIMAGAkAgwAYCQCDABgpP8HFk3u4CUKLUcAAAAASUVORK5CYII=\\\n",
       "\"\n",
       "  frames[5] = \"data:image/png;base64,iVBORw0KGgoAAAANSUhEUgAAAbAAAAEgCAYAAADVKCZpAAAABHNCSVQICAgIfAhkiAAAAAlwSFlz\\\n",
       "AAALEgAACxIB0t1+/AAAADl0RVh0U29mdHdhcmUAbWF0cGxvdGxpYiB2ZXJzaW9uIDMuMC4zLCBo\\\n",
       "dHRwOi8vbWF0cGxvdGxpYi5vcmcvnQurowAAIABJREFUeJzt3XtYVHX+B/D3mQsw3EQGJEQDLyCi\\\n",
       "BSamqIFpampqF7WLbda22WO1rubW4rPV2tavy7bbRbdstR6tdtO2XEurXW1zvaV5QUUNEbyhiMZl\\\n",
       "OIBc5/L9/YFzYobbYCB84f16Hh45l/me7+ecmfOeOec7qKiqKkBERCQZXXt3gIiI6EowwIiISEoM\\\n",
       "MCIikhIDjIiIpMQAIyIiKTHAiIhISgwwIiKSEgOMiIikxAAjIiIpMcCIiEhKDDAiIpISA4yIiKTE\\\n",
       "ACMiIikxwIiusnnz5iEoKAhBQUG47rrr2rs7RNIytHcHiKhrOX78OD777DOkp6cjPT0dP/74o7bs\\\n",
       "3nvvxfLly5t8vKqqWLFiBTZv3owTJ06gvLwc3bt3R+/evZGUlISFCxfCbDa3dRnUATDAiOiq+vbb\\\n",
       "b/Haa69d0WN37NiBOXPmwGKxuMzPz89Hfn4+0tLScNdddzHAuggGGBFddYGBgbjuuusQHx+Pd955\\\n",
       "x6PHHDt2DHfffTcqKioAAGazGVOmTEGvXr1gtVqRn5+P9PR0GAw8rXUVPNLUqB07dmDq1Kna9MaN\\\n",
       "G1FYWIh33nkHP/zwAwwGA5KSkvDCCy8gJibmiraRm5uLt956C9u3b8e5c+dgtVoRFBSEsLAwxMfH\\\n",
       "Y8KECZg+fbpLHzZu3IgjR46goKAApaWl0Ol0CA0NxZAhQ/DQQw/h5ptvbrKODRs24MSJE1i5ciVO\\\n",
       "nTqFHj164L777sNTTz0Fg8GAVatWYeXKlTh58iS6d++OqVOn4rnnnkNAQIDWRk5ODuLj47Xpt99+\\\n",
       "G7169cKf//xnpKenw263IyEhAU8//TRSUlJatE9sNhvWrl2LdevW4ejRo1BVFX5+fhg8eDDuvfde\\\n",
       "3HvvvdDpXG9fZ2ZmYunSpdi9ezcuXLgAh8OB7t27o2fPnhgyZAimT5/e4n60lYceegjz5s2DoigA\\\n",
       "4HGALV68WAuv0aNH49NPP4XJZGqzflLHp6iqKtq7E9QxuZ/4k5KSsHv37nrrhYSEYM+ePS2+bFNY\\\n",
       "WIiRI0ciPz+/0XVGjRqFr776Spt+4IEHsGHDhibb/cMf/oCFCxdq0+513HDDDThw4EC9x91///0w\\\n",
       "mUxYuXJlvWUpKSn44osvtGn3AEtJScH27dshhOvLSafTYcWKFZgxY4Y2b968eVizZg0AoHfv3jhy\\\n",
       "5Ii2TFVVzJw5E/v27Wu0vrFjx+Ljjz+Gj48PgNp7SmPHjkV5eXmjj/Hk3pLTyy+/jFdffdWjdZ3S\\\n",
       "09MRGRnZosc4BQUFab831s9z5865DHhZsmQJvvvuOxw+fBglJSWIiorCtGnTMH/+fPj7+19RP0g+\\\n",
       "/ARGHtu9ezeGDBmCcePGYefOnfj+++8B1AbRRx99hAULFrSovS+++EILLx8fH8yePRsRERGwWCzI\\\n",
       "zc3Fzp076z2mW7duGDNmDGJiYhAUFARfX1+UlJRg+/btSEtLA1B7Ar7nnnsQHh7e4HYPHDiAlJQU\\\n",
       "DB8+HJ9++ilOnz4NAPj73/8OAEhMTMTYsWPx5ZdfIiMjAwCwbds2pKWlYejQoQ22uW3bNsTFxWHy\\\n",
       "5MnIy8vDJ598ArvdDofDgQULFiAlJQWhoaHN7pNHH31UCy+j0Yg77rgDMTExOH36NP75z3/CarVi\\\n",
       "y5YtePbZZ7X7SB9//LEWXt26dcPs2bMREhKCgoIC5OTkNLgfZeN8rjktWbLEZTozMxOZmZnYuHEj\\\n",
       "vv76a3Tv3v0q9o7aCwOMPDZkyBBs2rQJXl5eqKmpQVxcHAoLCwFAC4+WqK6u1n4fNWoU/vKXv7gs\\\n",
       "F0IgJyfHZd6yZctgt9tx8OBBZGVlobS0FHq9HpMmTdL6UFNTg+3bt+Puu+9ucLvJycn4/PPPoSgK\\\n",
       "hg0bhpkzZ2rLYmNj8fXXX8PLywu33347Ro4cqS3bv39/owHWr18/bNmyRftUFB8fj9/97ncAgEuX\\\n",
       "LmHt2rX49a9/3eT+yMjIwKZNm7Tpt956C/fdd582PWDAADz33HMAgNWrV+P3v/89goKCXPbjnXfe\\\n",
       "iZdeesmlXZvNhgsXLjS57brGjh3b4k8xbR0YFy9erDfvpptuwsiRI7Fr1y7s2LEDQO19ssWLF+Pd\\\n",
       "d99t0/5Qx8AAI4/NmTMHXl5eAAAvLy9ERUVpAaaqaovbGzlyJHQ6HRwOB7799lvceOONiIuLQ9++\\\n",
       "fREXF4fk5GRERUW5PGb9+vVITU11GXrdkLy8vEaXzZo1S7v/4n7Za/r06VqN0dHRLsuaqnHmzJla\\\n",
       "eAHA7NmztQADPAt4908Zjz32GB577LEG17Vardi/fz9uueUWjB49Wjthr1q1Cvv370dsbCz69OmD\\\n",
       "wYMHIzk5Gb179252+07Dhw/H8OHDPV7/aqipqXGZvu6667BhwwYoigIhBJKTk7VLsZ9//jnefPNN\\\n",
       "l+NBnRMDjDx27bXXukw7T/QA4HA4WtxeQkICXn/9dTz//PMoLi5GVlYWsrKytOV6vR7z58/HH/7w\\\n",
       "BwDA4cOH8fDDD3u0raqqqkaXRUREaL97e3u7LOvZs6f2u9FodFnW1HbDwsJcpv39/eHv749Lly4B\\\n",
       "8Czg3YeGN8f55uG2225Damoqli1bhvLychw5csTlvpqPjw9eeOEFPPLIIx61u2fPHuzdu7dFfZkz\\\n",
       "Zw4CAwNb9JiWqHufDKj99OV8E6IoCm666Sat5qqqKuTl5aFv375t1h/qGBhg5DH3E7rzBPJzPPjg\\\n",
       "g5g9ezYOHDiAjIwMnD59Gnv37sX3338Pu92ON954A+PGjcPo0aPx+eefayGiKAqWL1+OyZMnIzAw\\\n",
       "EBUVFS7h05Smhllf6RBs90+E5eXlWngB9U/ADXG/DPfEE0/UC8a66g4iSU1NxW9+8xvs27cPmZmZ\\\n",
       "OH36NHbs2IGjR4+iqqoKqampGD9+fL1PtA3ZsmVLiwdxTJs2rU0DLC4uzmXa/bnnPniGn766BgYY\\\n",
       "tRvnfY1rrrnG5bKVEAKRkZEoLS0FABw8eBCjR49GUVGR9tiAgADMnDkTer0eAPDJJ59c5d67+uyz\\\n",
       "z7Bw4ULtE51zQIhTY/fO6hoxYoTLtNFobPC+WX5+Pvbs2YOBAwcCAM6cOaP9aark5GQkJycDAIqL\\\n",
       "i9GnTx8AgN1uR3p6ukcB1hElJiaiR48e2qCfnTt3QgihXULctWuXtm54eLjHb2ZIbgwwajd79uzB\\\n",
       "gw8+iGHDhmHgwIEICwuD0WjErl27tPACfvpkUveeVGlpKe666y6MGjUKmZmZWL9+/VXvf10nTpzA\\\n",
       "2LFjMXnyZJw/f94lUP38/BodUFLXoEGDMH78eHzzzTcAgDfeeAP79+/H8OHDYTKZcPHiRRw6dAhp\\\n",
       "aWlISkrSvhqwceNGPP/880hKSkJ0dDTCwsIghNDacfJ0oMXixYuxePFiT0tvsYMHD2LdunUNLjt0\\\n",
       "6BCeeeYZALX9XbRoEYDaMH/yySeRmpoKoHbY/u23346kpCTs2rUL6enpWhvz5s1rs75Tx8IAo3Yl\\\n",
       "hMDevXsbvefSr18/7YvM999/P959913k5uYCALZu3YqtW7cCqB008Y9//OOq9LkhEydOxDfffIMf\\\n",
       "fvjBZb5Op8Prr7+OHj16eNTO3/72N8yYMUP7ntqOHTu0EXZNsdlsTa47YsQIjBo1yqM+tLWMjAz8\\\n",
       "9a9/bXDZsWPHcOzYMQC135FzBhhQ+xWDH374AR999BGA2q8ubNu2zeXxs2bNwhNPPNFGPaeOhgFG\\\n",
       "7ebGG2/EkiVLsHfvXmRlZaGgoACXLl2Cn58f+vbti/Hjx+Pxxx/X/gJGUFAQ/vOf/2DJkiX49ttv\\\n",
       "UVFRgaioKPziF7/AY4891q4B5vwS7WuvvYa0tDSXv8QxZswYj9sJDg7G5s2bsXbtWqxfvx5HjhxB\\\n",
       "cXEx/Pz8EB4ejpiYGEyYMAETJ07UHjNp0iRUVFRg3759OHnyJIqKilBeXo7AwEDExMRgypQpeOSR\\\n",
       "R7TLrbJSFAXLli3DpEmTsHr1ahw4cACqqiIwMBAJCQmYM2eOy19toc6Pf4mD6Ao09KekZs+e3Y49\\\n",
       "Iup6+P+BERGRlBhgREQkJd4Do1b1/PPP48svv2x2vUceeQRz5869Cj0ios6KAUat6uLFi8jOzm52\\\n",
       "vbrf6ZJRZGTkFf35LCJqPRzEQUREUuI9MCIikhIDjIiIpMQAu8yT+zadVVetvavWDXTd2rtq3UDn\\\n",
       "rJ0BRkREUmKAERGRlBhgREQkJQYYERFJiQFGRERSYoAREZGUGGBERCQlBhgREUmJAUZERFJigBER\\\n",
       "kZQYYEREJCUGGBERSYkBRkREUmKAERGRlBhgREQkJQYYERFJiQFGRERSYoAREZGUGGBERCQlBhgR\\\n",
       "EUmJAUZERFJigBERkZQYYEREJCUGGBERSYkBRkREUmKAERGRlBhgREQkJQYYERFJSVFVVbR3J9xl\\\n",
       "Z2e3dxeIiKgVREdHt1nbHTLA2kN2dnab7uiOrKvW3lXrBrpu7V21bqBz1s5LiEREJCUGGBERSYkB\\\n",
       "RkREUmKAERGRlBhgREQkJQYYERFJiQFGRERSYoAREZGUGGBERCQlBhgREUmJAUZERFJigBERkZQY\\\n",
       "YEREJCUGGBERSYkBRkREUmKAERGRlBhgREQkJQYYERFJiQFGRERSYoAREZGUGGBERCQlBhgREUmJ\\\n",
       "AUZERFJigBERkZQYYEREJCUGGBERSYkBRkREUmKAERGRlBhgREQkJQYYERFJiQFGRERSYoAREZGU\\\n",
       "GGBERCQlBhgREUmJAUZERFJigBERkZQYYEREJCUGGBERSYkBRkREUmKAERGRlBhgREQkJUVVVdHe\\\n",
       "nXCXnZ3d3l0gIqJWEB0d3WZtd8gAaw/Z2dltuqM7sq5ae1etG+i6tXfVuoHOWTsvIRIRkZQYYERE\\\n",
       "JCUGGBERSYkBRkREUmKAERGRlBhgREQkJQYYERFJiQFGRERSYoAREZGUGGBERCQlBhgREUmJAUZE\\\n",
       "RFJigBERkZQYYEREJCUGGBERSYkBRkREUmKAERGRlBhgREQkJQYYERFJiQFGRERSYoAREZGUGGBE\\\n",
       "RCQlBhgREUmJAUZERFJigBERkZQYYEREJCUGGBERSYkBRkREUmKAERGRlBhgREQkJQYYERFJiQFG\\\n",
       "RERSYoAREZGUGGBERCQlBphEiqrsLZrfVtt1Tjc2/2pqbJvZJdYG12vs3+bac1+nofXc57f0eDU3\\\n",
       "v7Hl+/KrG3yM+z6o24Zaf1GT2yDqiPSpqalL2rsTHYHFYoHZbG7vbjRqz4/V+NeZSgR76xBq0mvz\\\n",
       "M4qtWHuyAkYF6OVvuKK2m6rdfbvO6eJqBzblVmnbbY1+tFRj++STExV4Lb0MegUYHOxVr89ZqhU7\\\n",
       "L9bgYmkldpUYW1TDnh+rsfToJez+sRq9/A3adjOKrVh29BK+PV8Ns7cO58vtLTpezR1fZ5/dl//f\\\n",
       "gRK8dLAMFXYHRoZ5a229fKgUf8+ugF0IDAnxqtfW9rwqRHT3b/XnUkfX0V/nbakz1s4Au6wjH9w9\\\n",
       "P1ZjS141BIAs1YZgn9qTWEaxFRvOVEIAOF1mh5fuyk48jdXuvt3z5TYcKLIiv9KOzblV8NEryK9y\\\n",
       "IK/cjj35NT+7Hy3R2D755EQFPswqhwCQbrEip8yGM5fsWp9LagQOFlpRWu3A90V2+Ht7eVzDnh+r\\\n",
       "8VFWOU6X2VFY7cC5Mht6+xtQUOXA+5nlyCy2orjagbSCamSX2RFg1Hl0vJo7vufK7dh9sQY6ABcq\\\n",
       "HNry/ztQgrUnKgEIHCq0otIuoAfwbsYl7C+0osLqQHaJDQ4BeOsVl7bsNhuK7YZWfy51dB35dd7W\\\n",
       "OmPtiqqqor070RFkZ2cjOjq6vbtRT1GVHe9llsNR5ygpAKK7GZBdYkPdg6dTgF/F+sHso3dvpkkN\\\n",
       "1e6+3UqbAwcKrejurYOl2gHnhs0+tdNDQozwNeh+Vj881dg+ucZXh89OVUJcnm91CFysdGBgkAGX\\\n",
       "rEKb9tEDVXYgSKlBgK/JoxqKquxYdvQS9hfUaO1DAczeusvLHS7bDPfV4cYeXvA16Jo8Xnf2MeFf\\\n",
       "pysbPb7lNgcOFlohBKAowA2X+xhgVPC3Y+UQ4qcHOqAgxFuBpUYAdeb7GXS4KdwLPgZFa6uyshKj\\\n",
       "rw2Er0HXqs+ljq6jvs6vhs5YO++BdXBmHz2mRpqg1JknAGS5nXAUAFMjTa12wnHfrsmgQ0w3AyxV\\\n",
       "P4UXABRVOxDTzaCd+Fu7H570Dajt0oWK2r44Fxh1CoaGGHHJJrTpYG8FlTaBYG8FBsXzGsw+eszq\\\n",
       "54sBQUaXjRZVObTwAgCjXsHQUC8M7v5TGDZ1vKK7GZs8vr6X97uiADHdDDAZdBAASq0CQ0OMLi2G\\\n",
       "+ihQFLiEFxQFA7sbEOyjd2mrj69Da6utn0tEbYUBJoG47kZMi3I9ydWlAJgWZUJcd2Mja7TOdkNN\\\n",
       "egwIqnNZSQEGdPvpPlBb9cOTvjmFmvQYcPkkPSDIgJggIwbUCTU/gw6JoV7wuxwuLakhrrsRD8f6\\\n",
       "Ibax+hQgtpsBT8UH4OGB/h4fr+aObw+THo/G+aOHyTVQYoKMSAz1gqIoMPso8DPo4GfQwezjrE1B\\\n",
       "YogRMXVC19mW2avhCy9X8xgS/Vwd8iJ3dnZ2l9quJ4wAAir1OFNR/z1HlK8DxkI7sguvvP3Ganff\\\n",
       "rh6At02BalUQZBTQVwhYKlqvHy3R2D7RA4hQAH0FYKm43GfrT30OsQuU2BRUQoG3taJFNRgB9BV6\\\n",
       "nLbpoVpdIyfIKNAXdhgLax/ckuPV3PGNrbHjbAPLQwBEGBRUWxVUXh5ZqAOgdyjw0wuE2KtgKWqg\\\n",
       "LZMeZ4osHvWts+nIr/O21h61t+Vlyw4ZYO1xnbajXx/OKLai7FIlgk31l5UBsIZc+bvmpmp3325B\\\n",
       "pR3VNTaYDEC1Ath9f/r08nP70VKN7ZOCSjvOl9jgd7lvBZV2VFsv9xlAoV6HaoMDsFai2ujbohoy\\\n",
       "iq04VViOaoMVJrdXT7UCnIIB1hD/2rZacLyaO76ZXkaUmaz1lmepVpy3WRHsrWifKsttDtjtDpRC\\\n",
       "QaHe9ROYs62cyosINgd71LfOpKO/zttSZ6y9QwYYuao7QqwhAsCGM5UA0KonHvftFlTacVy1uWz4\\\n",
       "eEntdKhJ32b98KRvTgWV9to+CeC4akNxtQP5de7bldsc2F9gg9lHV3v9vAU1ZBRbtdGGDRJAZokN\\\n",
       "r6WXIdhLQYip4XtI7tto7vjmV9qxM6MaMXUudQK14bW/oAYAUFQFwMdx+ffL9+SEwP7C2r46Q8zZ\\\n",
       "VhgUdPegb0QdGe+BdXBFVXZszKmsd5M9ppuh3o3/jTmVrfZFVPftVtocyCqpHeJdd8Nmbx2ySmyo\\\n",
       "sDnapB+e9A2o7VK4b21fnAusDoG0Qiv8L4/WsDoELNUCJoMCS7WAzTmS0oMaiqrs+OfJChyv+w1g\\\n",
       "pXYUpnbPCYDVLpBWUIOjxVatvaaOV3aJtcnjW3F5vwtRO9ii0uaAAiDQqCCt0OrSYkGVqB2/odTZ\\\n",
       "khA4VmyDpcru0tbpCp3WVls/l4jaCr8HdllH/Y6Er0EHo1L73Rzgp5vsKT19EOxT+z0jp5t7eiM6\\\n",
       "qOXvmhuq3X27XjoFKeHeMOgUmPQKLNUODAgyIDLAgDHhPii3/XQKvtJ+eKqxfTK+lwl6RUF6Ue2J\\\n",
       "Xa9TMLm3D8L9DDAZFKg1Atf6G6BXFET561FRU4NBISaPavA16GDSKzhbZoNaI7QBG/OvC8DocG+c\\\n",
       "K7ejsMoBvaIgwleHXgFGmH30zR6v681eTR7f06V2KIoCtdqBPgF6mH30mBZlwpRIEyzVdhy1/NTe\\\n",
       "Q7F+eDjWH3nlduRV1oan2UeHX8b6YWqUr0tbYQYrIrr5tvpzqaPrqK/zq6Ez1s4Au6wjH9xe/gZ4\\\n",
       "6YCcS3aXEWKhJj2CfXTILrHh5p7eGH75LzG0VGO1u2/35ggfeOmAwmoHJl1rQqVd4Oae3ph4ralV\\\n",
       "+tESje2TwcFGGBQFRyxW/CLaF/MGBbj0WacAiaFe8PfSIdHnEvS+/h7X0MvfALOPDufK7bjGV4eH\\\n",
       "B/ojrrsRoSY9evvrkVtuR6CXDo/G+SPebPT4eDV3fH+stCMx1AsGveKyPDncB8XVdvxQbMODsX5Y\\\n",
       "dH0gevkbEO6rx4UKO6wO4BcxfvhlrH+9tqory3H3QHOrP5c6uo78Om9rnbF2fpH5MhlucBZV2Rv8\\\n",
       "bk5j8z3VXO3u7TunG5t/NTW2zewSK6K7GeutV/dfy7lTCO7dt8U1OC+tua/nPr+lx6u5+Y0t35df\\\n",
       "jWE9vOs9xlLtcNkHddval5GNYXH1j3l7HMOrSYbXeVvpjLVzEIdEGjuxtPUJx71953Rj86+mxrbp\\\n",
       "fuJ277PZRw9LA4/3pAZPj0NLj1dz8xtb7h5eznUbWt85r7Grg505vKjz4SAOIiKSEgOMiIikxAAj\\\n",
       "IiIpMcCIiEhKDDAiIpISA4yIiKTEACMiIikxwIiISEoMMCIikhIDjIiIpMQAIyIiKTHAiIhISgww\\\n",
       "IiKSEgOMiIikxAAjIiIpMcCIiEhKDDAiIpISA4yIiKTEACMiIikxwIiISEoMMCIikhIDjIiIpMQA\\\n",
       "IyIiKTHAiIhISgwwIiKSEgOMiIikxAAjIiIpMcCIiEhKDDAiIpISA4yIiKTEACMiIikxwIiISEoM\\\n",
       "MCIikhIDjIiIpMQAIyIiKSmqqor27oS77Ozs9u4CERG1gujo6DZru0MGWHvIzs5u0x3dkXXV2rtq\\\n",
       "3UDXrb2r1g10ztp5CZGIiKTEACMiIikxwIiISEoMMCIikhIDjIiIpMQAIyIiKTHAiIhISgwwIiKS\\\n",
       "EgOMiIikxAAjIiIpMcCIiEhKDDAiIpISA4yIiKTEACMiIikxwIiISEoMMCIikhIDjIiIpMQAIyIi\\\n",
       "KTHAiIhISgwwIiKSEgOMiIikxAAjIiIpMcCIiEhKDDAiIpISA4yIiKTEACMiIikxwIiISEoMMCIi\\\n",
       "khIDjIiIpMQAIyIiKTHAiIhISgwwIiKSEgOMiIikxAAjIiIpMcCIiEhKDDAiIpISA4yIiKTEACMi\\\n",
       "IikxwIiISEoMMCIikpKiqqpo7064y87Obu8uEBFRK4iOjm6ztjtkgLWH7OzsNt3RHVlXrb2r1g10\\\n",
       "3dq7at1A56ydlxCJiEhKDDAiIpISA4yIiKTEACMiIikxwIiISEoMMCIikhIDjIiIpMQAIyIiKTHA\\\n",
       "iIhISgwwIiKSEgOMiIikxAAjIiIpMcCIiEhKDDAiIpISA4yIiKTEACMiIikxwIiISEoMMCIikhID\\\n",
       "jIiIpMQAIyIiKTHAiIhISgwwIiKSEgOMiIikxAAjIiIpMcCIiEhKDDAiIpISA4yIiKTEACMiIikx\\\n",
       "wIiISEqKqqqivTtBRETUUvwERkREUmKAERGRlBhgREQkJQYYERFJScoAs1gsSE1NxfXXX4/Q0FD0\\\n",
       "6dMHkyZNQnp6OsrKyrB48WKMGTMG/fr1wzXXXIMhQ4Zg8eLFKCwsdGknPz8fjz/+OPr3748ePXpg\\\n",
       "+PDhePfdd+ttb+vWrbj11lsRHh6O3r17484778ShQ4dc1rFarXjllVcQHx+P0NBQxMXFITU1FWVl\\\n",
       "ZVel7rrKysqQkJCAoKAgBAUFYcWKFVLX7WntGRkZePDBB9G/f3+EhoZiwIABuOeee1BeXi5t7c3V\\\n",
       "ferUKcydOxeDBg1Cjx490LdvX9x6661Yv369Szsy1Z2Tk6M9dxv6mTdvXov6cerUKTzwwAOIiopC\\\n",
       "WFgYkpOT8dlnn9Xb7rp165CcnIxrrrkGUVFReOCBB3Dq1CmXdZznl7i4OISGhiI+Ph4vv/wyrFbr\\\n",
       "Vau9M5/jWkxVVSHTz6lTp0SfPn0EAKHX60V0dLSIi4sT/v7+4oMPPhDp6ekuy8LCwgQAAUAMGjRI\\\n",
       "WCwWoaqqOH/+vIiOjhYAhMlkEv369dPWe+qpp7TtrVu3Tuj1egFA9OzZU5jNZgFA+Pr6iu+++05b\\\n",
       "b9asWQKA0Ol0Ijo6WhiNRgFAjBo1SttmW9Zdd9177rlHqwWA+NOf/qQtk61uT2vftGmT8PX11fo4\\\n",
       "aNAgER0dLQwGgzh58qSUtTdXt8ViEb179xYAhJeXl7j++utFUFCQVtOmTZukrDszM1MkJia6/Awc\\\n",
       "OFDr88KFCz3uR2ZmpggNDRUARGBgoIiMjNTaWbp0qbbNpUuXavMjIyNFYGCgACBCQ0PF8ePHhaqq\\\n",
       "wmKxiFGjRgkAwmg0iujoaKHT6QQAcffdd7fKc92T2jvrOe5KfqQLsF/+8pfajk5LS9PmFxUViby8\\\n",
       "PHH8+HHxxz/+UeTk5AhVVUVhYaG47bbbtAO3bds2oaqqePHFFwUAoSiK2Llzp1BVVTz++OPakzMr\\\n",
       "K0uoqiri4uIEADFs2DBRWFgozp07J6699loBQNx6661CVVWxdevWemGxZs0abd6HH37Y5nU7p1et\\\n",
       "WiUAiDvuuKPBAJOtbk9qLy4uFrGxsQKAGDNmjHbsVVUVeXl52otLttqbq9t5IgMgnnvuOaGqqti8\\\n",
       "ebM27/3335ey7oZ+nn76aa2/R48e9bgfc+fOFQBEQECAOHbsmFBVVUybNk0AEGazWeTn54v8/Hzt\\\n",
       "pD1t2jShqqo4duyYCAgIEADE3Llzhaqq4sMPP9TaX7t2rVBVVbz66qvavK1bt16V2jvrOe5KfqS6\\\n",
       "hCiE0C6NREZG4le/+hUiIiIwfPhwrF69GiaTCWFhYZg/fz66desGADAYDBg+fLjWhre3NwDgv//9\\\n",
       "LwCgX79+GDx4MABg2rRpAGo/Km/fvh15eXnIyMgAAEyaNAkGgwEBAQG4+eabAQDbtm2D3W7X2qrb\\\n",
       "xsSJE+Hj4wMA2LJlS5vXDQC5ublYsGABEhIS8MwzzzTYlkx1e1r70aNHkZmZCQAIDAxESkoKevXq\\\n",
       "hQkTJiAtLQ06nU662j2pu2fPnoiMjAQAvPLKK0hOTsasWbOg1+sxc+ZMTJ06Vbq6G1JRUYH33nsP\\\n",
       "ADBjxgz06tXL43441xs2bBjCw8MBQNsvRUVFOHToEA4cOICioiKXtsLDw5GYmNhgWyaTCRMmTHBZ\\\n",
       "v+56ramh2jvjOe5KSRVghYWZw4LXAAAGIElEQVSFKC4uBgDs3r0b586dg9lsxvHjx7Fo0SKsXLmy\\\n",
       "3mPKysqwZs0aAMDIkSMRGxsLADh//jwAIDQ0VFu3R48e2u+5ubnaOgAQEhKi/e58TGVlJYqKilzW\\\n",
       "cy7T6XQwm81aWz+HJ3U7HA48+uijsNlseO+992AwGBpsS6a6Ac9qP3HihLb+hg0bAABGoxF79+7F\\\n",
       "nXfeqd0vkql2T+o2Go346quvEB8fj5qaGhw+fBiqqqJbt264/vrr4eXlJV3dDfnwww9hsVigKArm\\\n",
       "z58PAB73w7le3Zqaqr3uPnL+7t5WcHCw9qbIva3W1lDt7jrDOe5KSRVgNptN+z04OBgHDx7EwYMH\\\n",
       "ceONNwJAvQDLy8vDlClTkJGRgdjYWKxatUpbJoSo1777vIbWaUhj63n6+OZ4Uvfy5cvx3Xff4eWX\\\n",
       "X0b//v1b1NeOWjfgWe111xk7diwOHjyIffv2wc/PD1arFatXr260Xx21dk/qdjgcePLJJ5Geno6H\\\n",
       "H34Y58+fx8cffwyLxYJnn30Wn3zySaN96qh1u7Pb7XjnnXcA1L7jHzhw4M/uR2vW3lZ1A43XXldn\\\n",
       "OcddKakCLCQkRHtX2b9/fwQEBECv1yM+Ph4AcPbsWW3dQ4cOYdy4cTh8+DBGjBiBr7/+GmFhYdry\\\n",
       "Xr16AQAKCgq0eXV/j4iI0NYB4DK6x7meyWSC2Wx2Wc+5zOFwwGKxaG21dd1Hjx4FACxevBgRERFI\\\n",
       "SkrSHv/MM89olzxkqhvwrHbnpSEASEhIgKIoCAkJ0S6vOZ8XMtXuSd3btm3D5s2bAQCzZ8+Gn58f\\\n",
       "Jk+erL1D3rp1q3R1u/vXv/6lHb8FCxZo8z3th/PfhmpyLm+orbq/O9twrldUVASHw9FgW62psdqd\\\n",
       "OtM57kpJFWBGoxGjR48GAJw4cQKXLl2Cw+HAkSNHANRe6wWAjRs3YvLkybhw4QJmzpyJL774AsHB\\\n",
       "wS5tjRs3DgBw8uRJ7eTvvPxkMBiQkpKCnj17Ii4uDgDw73//GzabDWVlZfjf//4HAEhJSYFer8ct\\\n",
       "t9yitetsY9OmTaiqqnLZVlvXDQDl5eUoLy9HRUWFNq+mpkablqluT2sfOnQoAgMDAQCHDx8GUDv8\\\n",
       "3Pnid+4fmWr3pO7S0lJt/bS0NADAmTNntEuPfn5+0tXtbunSpQCAESNGYMSIEdp8T/vh/Hffvn24\\\n",
       "cOECgNrzA1D7yXbIkCG44YYbtPODs60LFy5g//79DbZVVVWlvXFwrl93eWtprHZnDZ3pHHfF2mPk\\\n",
       "yM/52bJli/D29taGuDpHywAQH3zwgTh27JhQFEUbZuo+JNU5Uig3N1cbVmoymUT//v21dhYtWqRt\\\n",
       "79NPP9WGytYdYmoymcSOHTu09WbMmKENMY2JidGGmCYlJbXKENPm6nZfv+4ItbqjEGWr29Pa644G\\\n",
       "69OnjwgODhZA7dDpQ4cOSVl7c3WfOnVKGzavKIqIi4vTRs7p9XptGL1sdTt/1q1bp/VzzZo19ZZ7\\\n",
       "0o+MjAytDvdh9G+99ZbW1ptvvqnNrzuM3mw2a6MXi4qKRFJSkjaKLyYmRttfM2fObNXzXFO1d9Zz\\\n",
       "3JX86FNTU5f8jPy76sLDwzFmzBicPXsWOTk5sNlsGDp0KN5++21MnDgRFosFy5cvB1B7fTYvL8/l\\\n",
       "56677kJkZCS8vLwwffp0FBUV4ezZs8jPz0e/fv3w29/+FosWLYKiKABq3+kmJiYiJycHZ86cgRAC\\\n",
       "I0eOxIoVK5CQkKD1a9KkSVAUBWfPntVuuN93331YtmyZNlKnLet2V1JSon1hcfz48Rg6dCgASFe3\\\n",
       "p7UnJiYiMjISOTk5yMnJQUBAAG655RZ88MEHiIqKkrL25uo2mUyYNGkSSktLUVJSgtzcXAQEBGDE\\\n",
       "iBFYunSpdhlZtrqdFixYgJycHAwYMACvvPKK1s+W9CMgIABTpkzBhQsXkJOTg5KSEsTFxeHFF1/E\\\n",
       "7NmztbYSEhLQt29fnDlzBjk5OTAYDBg/fjzef/997VK0TqfDtGnTUFFRgXPnziEvLw8RERGYO3cu\\\n",
       "XnrpJej1+qtSe2c9x10J/ncqREQkJanugRERETkxwIiISEoMMCIikhIDjIiIpMQAIyIiKf0/p45d\\\n",
       "Dscsq60AAAAASUVORK5CYII=\\\n",
       "\"\n",
       "  frames[6] = \"data:image/png;base64,iVBORw0KGgoAAAANSUhEUgAAAbAAAAEgCAYAAADVKCZpAAAABHNCSVQICAgIfAhkiAAAAAlwSFlz\\\n",
       "AAALEgAACxIB0t1+/AAAADl0RVh0U29mdHdhcmUAbWF0cGxvdGxpYiB2ZXJzaW9uIDMuMC4zLCBo\\\n",
       "dHRwOi8vbWF0cGxvdGxpYi5vcmcvnQurowAAIABJREFUeJzt3Xl8VPW9//HXmS2ZbIQsRPbNsEQq\\\n",
       "oCggXFZR0YrVilVprfda9aFWq1drwVqrbX8Vb3vtFa/Vq+3Dpfe6tLVW7YZtLYIW2WQ1IGELhIBk\\\n",
       "m2yTZZbz+2OYYyYLBAkJX3g/H488yJxzvt/z/cwcznvmnO+AFQgEbERERAzj6ukBiIiIfB4KMBER\\\n",
       "MZICTEREjKQAExERIynARETESAowERExkgJMRESMpAATEREjKcBERMRICjARETGSAkxERIykABMR\\\n",
       "ESMpwERExEgKMJFudtttt5GZmUlmZiZf+MIXeno4Isby9PQAROT08uKLL/KPf/yDwsJCysvLqamp\\\n",
       "wefzkZeXx/jx41mwYAGzZ89OaBOJRPjLX/7CBx98wNq1azlw4ABlZWVYlkX//v2ZOnUqt912GyNH\\\n",
       "juyhqqQnWPr/wES612233cYrr7wCwMCBA9m8eXMPj6h7TZ06lS1bthxxm/vuu48HH3zQeVxRUcHw\\\n",
       "4cOP2Mbr9fLcc8/xpS99qUvGKSc/fQITkW6Vnp7O9OnTGTlyJDk5OUQiETZt2sSf//xnZ5vHH3+c\\\n",
       "m2++mby8vIS2Ho+HadOmcc455wCwdOlS5w1AKBTizjvvZObMmfTq1av7CpIeowCTDq1YsYLLL7/c\\\n",
       "efz2229TXl7Oz3/+cz7++GM8Hg+TJ0/mhz/8ISNGjPhc+ygpKeGJJ55g+fLl7Nu3j1AoRGZmJnl5\\\n",
       "eYwdO5aLLrqIK664ImEMb7/9Nps3b6asrIyamhpcLhe5ubmMHz+ef/3Xf2XmzJlHrOOtt95ix44d\\\n",
       "PPfcc+zatYs+ffpw/fXX8+1vfxuPx8Pzzz/Pc889x86dO+nduzeXX345Dz30EOnp6U4fxcXFjB07\\\n",
       "1nn81FNPMWDAAH7605+yceNGIpEI48aN4/7772f69OnH9JyEw2FeffVVXn/9dbZs2UIgECA1NZUx\\\n",
       "Y8Zw3XXXcd111+FyJd6+3rZtG0uWLGHlypUcOHCAaDRK79696devH+PHj+eKK6445nGcKC2DqqU7\\\n",
       "77yTX/3qVwBEo1FKSkqcAHO73dx6663cc889nHHGGU6bBx54gCuuuIIVK1YAUFtby8qVK7nkkktO\\\n",
       "cBVyMtAlROlQ6xP/5MmTWblyZZvtcnJyWLVqFdnZ2cfUf3l5ORdccAGHDh3qcJspU6bwxz/+0Xl8\\\n",
       "ww038NZbbx2x3+9///vcc889zuPWdZxzzjl89NFHbdp99atfxe/389xzz7VZN336dN58803ncesA\\\n",
       "mz59OsuXL8e2E/86uVwunn32Wa6++mpn2ZEuIQYCAebPn8+aNWs6rG/WrFm8/PLLJCcnA/DJJ58w\\\n",
       "a9Ys6uvrO2xz3XXX8fTTT3e4vqVHH32Uxx57rFPbxm3cuJHBgwcfU5u42tpaNm3axJ133smuXbsA\\\n",
       "SE5OZuvWrfTu3fuo7Z999lnuv/9+5/GLL76Y8KZHTl36BCadtnLlSsaPH8/s2bN5//33+fDDD4FY\\\n",
       "EP3qV7/i7rvvPqb+3nzzTSe8kpOTWbBgAf3796eyspKSkhLef//9Nm169erFjBkzGDFiBJmZmaSk\\\n",
       "pFBdXc3y5ctZt24dEDsBX3vttfTt27fd/X700UdMnz6diRMn8pvf/Ibdu3cD8L//+78ATJgwgVmz\\\n",
       "ZvGHP/yBwsJCAN577z3WrVvHueee226f7733HgUFBVx66aWUlpby2muvEYlEiEaj3H333UyfPp3c\\\n",
       "3NyjPie33nqrE15er5crr7ySESNGsHv3bn79618TCoV49913+d73vsdPfvITAF5++WUnvHr16sWC\\\n",
       "BQvIycmhrKyM4uLidp/Hk8GwYcOorKxss9zj8bB48eJOhRdAUVGR87vL5WL8+PFdNkY5uSnApNPG\\\n",
       "jx/P0qVL8fl8NDc3U1BQQHl5OYATHseiqanJ+X3KlCn853/+Z8J627YpLi5OWPbkk08SiURYv349\\\n",
       "27dvp6amBrfbzdy5c50xNDc3s3z5cr7yla+0u99p06bx+9//HsuyOO+885g/f76zbtSoUfzpT3/C\\\n",
       "5/PxpS99iQsuuMBZt3bt2g4DbPjw4bz77rvOp6KxY8fyne98B4C6ujpeffVV7rzzziM+H4WFhSxd\\\n",
       "utR5/MQTT3D99dc7j0eOHMlDDz0EwAsvvMB3v/tdMjMzE57Hq666ih//+McJ/YbDYQ4cOHDEfbc0\\\n",
       "a9Ys0tLSOr090OmwOZrMzEyeeuopLrvssk5tv3z5cl544QXn8YIFCxg0aFCXjEVOfgow6bSvf/3r\\\n",
       "+Hw+AHw+H0OGDHECLBAIHHN/F1xwAS6Xi2g0yt///nfOP/98CgoKGDZsGAUFBUybNo0hQ4YktHnj\\\n",
       "jTdYuHAhn3766RH7Li0t7XDdNddcg2VZAG0ue11xxRVOjfn5+QnrjlTj/PnznfCC2Ik0HmDQuYCP\\\n",
       "f6KNu/3227n99tvb3TYUCrF27VouvPBCpk6dyjPPPAPA888/z9q1axk1ahRDhw5lzJgxTJs2jYED\\\n",
       "Bx51/3ETJ05k4sSJnd7+83rggQcIBoNUVFSwevVqVq5cSSAQYMGCBdx111384Ac/OGL7N954g9tv\\\n",
       "v51QKATAzJkz+elPf3rCxy0nDwWYdFrrd7bxEz3Ebrofq3HjxvH444/zyCOPUFVVxfbt29m+fbuz\\\n",
       "3u12c9ddd/H9738fgE2bNnHTTTd1al+NjY0druvfv7/ze1JSUsK6fv36Ob97vd6EdUfab+vZcmlp\\\n",
       "aaSlpVFXVwd0LuDbu5x2JPE3D1/84hdZuHAhTz75JPX19WzevDnhvlpycjI//OEPufnmmzvV76pV\\\n",
       "q1i9evUxjeXrX/86GRkZx9TmG9/4RsLjxYsXs3jxYgCWLFnC1KlTueiii9pt+9hjj7F48WLnnuOV\\\n",
       "V17JM8880+b1lFObAkw6rfUJPf4p5njceOONLFiwgI8++ojCwkJ2797N6tWr+fDDD4lEIvzsZz9j\\\n",
       "9uzZTJ06ld///vdOiFiWxdNPP82ll15KRkYGwWAwIXyOxOPp+LA/0rojaf2JsL6+3gkviF0aO5rW\\\n",
       "l+G++c1vtgnGllpOIlm4cCHf+ta3WLNmDdu2bWP37t2sWLGCLVu20NjYyMKFC5kzZ06bT7Tteffd\\\n",
       "d495Ese8efOOOcBau+yyy5wAA1i2bFmbAGtsbOSOO+7g9ddfd5bdd999fPe73+2S41HMogCTHnPw\\\n",
       "4EEAzjjjjITLVrZtM3jwYGpqagBYv349U6dOpaKiwmmbnp7O/PnzcbvdALz22mvdPPpEv/3tb7nn\\\n",
       "nnucTwDxCSFxHd07a2nSpEkJj71eb7v3zQ4dOsSqVasYPXo0AHv27HH+aapp06Yxbdo0AKqqqhg6\\\n",
       "dCgQ+5csNm7c2KkAO5E2btyIz+dzxt5SR9Pr4z799FMWLFjA2rVrgdin5//+7/9OuIcppxcFmPSY\\\n",
       "VatWceONN3LeeecxevRo8vLy8Hq9/POf/3TCCz77ZNLynlRNTQ1f/vKXmTJlCtu2beONN97o9vG3\\\n",
       "tGPHDmbNmsWll17K/v37EwI1NTW1wwklLZ111lnMmTOHv/71rwD87Gc/Y+3atUycOBG/38/BgwfZ\\\n",
       "sGED69atY/Lkyc5XA95++20eeeQRJk+eTH5+Pnl5edi27fQT19mJFosWLWLRokWdLf2YfPDBBzzw\\\n",
       "wAOMHz+eiRMn0qdPH+rq6lizZo3zXa64uXPnOr8HAgFmz55NSUmJs+ziiy/m4MGDPPnkkwntzj//\\\n",
       "/G65hyc9TwEmPcq2bVavXt3hPZfhw4c73+n56le/yjPPPOOcxJYtW8ayZcuA2KSJ//u//+uWMbfn\\\n",
       "4osv5q9//Ssff/xxwnKXy8Xjjz9Onz59OtXP//zP/3D11Vc731NbsWJFmxN7e8Lh8BG3nTRpElOm\\\n",
       "TOnUGLrD+vXrWb9+fbvrLMti0aJF/Mu//IuzrLq6OiG8IPaF9Pa+E/id73xHAXaaUIBJjzn//PN5\\\n",
       "+OGHWb16Ndu3b6esrIy6ujpSU1MZNmwYc+bM4Y477nD+BYzMzEz+8pe/8PDDD/P3v/+dYDDIkCFD\\\n",
       "+NrXvsbtt9/eowE2b9487rrrLn7yk5+wbt26hH+JY8aMGZ3uJysri3feeYdXX32VN954g82bN1NV\\\n",
       "VUVqaip9+/ZlxIgRXHTRRVx88cVOm7lz5xIMBlmzZg07d+6koqKC+vp6MjIyGDFiBJdddhk333yz\\\n",
       "c7m1J1144YWUlZWxatUq9u7dS2VlJc3NzaSlpTFkyBAmTpzI1772NcaMGdPTQxUD6F/iEPkc2vun\\\n",
       "pBYsWNCDIxI5/ej/AxMRESMpwERExEi6ByZd6pFHHuEPf/jDUbe7+eabueWWW7phRCJyqlKASZc6\\\n",
       "ePBgwj+u2pGW3+ky0eDBgz/XP58lIl1HkzhERMRIugcmIiJGUoCJiIiRFGCHdea+zanqdK39dK0b\\\n",
       "Tt/aT9e64dSsXQEmIiJGUoCJiIiRFGAiImIkBZiIiBhJASYiIkZSgImIiJEUYCIiYiQFmIiIGEkB\\\n",
       "JiIiRlKAiYiIkRRgIiJiJAWYiIgYSQEmIiJGUoCJiIiRFGAiImIkBZiIiBhJASYiIkZSgImIiJEU\\\n",
       "YCIiYiQFmIiIGEkBJiIiRlKAiYiIkRRgIiJiJAWYiIgYSQEmIiJGUoCJiIiRFGAiImIkBZiIiBjJ\\\n",
       "CgQCdk8PorWioqKeHoKIiHSB/Pz8E9b3SRlgPaGoqOiEPtEns9O19tO1bjh9az9d64ZTs3ZdQhQR\\\n",
       "ESMpwERExEgKMBERMZICTEREjKQAExERIynARETESAowERExkgJMRESMpAATEREjKcBERMRICjAR\\\n",
       "ETGSAkxERIykABMRESMpwERExEgKMBERMZICTEREjKQAExERIynARETESAowERExkgJMRESMpAAT\\\n",
       "EREjKcBERMRICjARETGSAkxERIykABMRESMpwERExEgKMBERMZICTEREjKQAExERIynARETESAow\\\n",
       "ERExkgJMRESMpAATEREjKcBERMRICjARETGSAkxERIykABMRESMpwERExEgKMBERMZICTEREjKQA\\\n",
       "ExERI1mBQMDu6UG0VlRU1NNDEBGRLpCfn3/C+j4pA6wnFBUVndAn+mR2utZ+utYNp2/tp2vdcGrW\\\n",
       "rkuIIiJiJAWYiIgYSQEmIiJGUoCJiIiRFGAiImIkBZiIiBhJASYiIkZSgImIiJEUYCIiYiQFmIiI\\\n",
       "GEkBJiIiRlKAiYiIkRRgIiJiJAWYiIgYSQEmIiJGUoCJiIiRFGAiImIkBZiIiBhJASYiIkZSgImI\\\n",
       "iJEUYCIiYiQFmIiIGEkBJiIiRlKAiYiIkRRgIiJiJAWYiIgYSQEmIiJGUoCJiIiRFGAiImIkBZiI\\\n",
       "iBhJASYiIkZSgImIiJEUYCIiYiQFmIiIGEkBdhwqGiPHtLyn99fRdoHQsbWLPy6qDiU87mh5Z8fZ\\\n",
       "sp+W23a0/Eh9xsfQXh/t/dnZMXY0jvaWF1WH2t2uo+VH67ej9WsONbX7nLX3OsR/7+g172gfLdt2\\\n",
       "93F/MtNz0bPcCxcufLinB3EyqKysJDs7u9Pbr/q0id/taSAryUWu3+0sL6wK8erOIF4LBqR5umx8\\\n",
       "x7u/I7V/uaiOjNSUdtu3bhd/vOpQE/9TWM+e2jAbKkJUNUVZWtLI8tJGfrmtnoPBCGvLQ864jjbO\\\n",
       "eL/76yK8tD3Iyk+bGJDmoawxyqs7g+yvC/Pazgb+vr+J7CQXA9I8Hdb02o4gP9lYi9uCMVk+Z7v4\\\n",
       "GLcHQrx/sJmDNQ38s9rb6THGx7lkS50zvvh+C6tCPLmlzhnfOyWN/HBdLWvLQ+T3+my7t4sb+O7q\\\n",
       "apaVNjEoze3s57N+mxmQ5m7Vby2v7Ajyx72NbKoMJ6z/fx9V8/DaGv60t5GtVWGGpHvYVRPm0Q01\\\n",
       "/G9RkJL62OvjtaAmZPPqziDbAyGWlzbSv3dam2PhpxtrWVbaxJB0T7vHWfy5667jvqsd69/zI+nu\\\n",
       "c8Dx6sraTxYKsMOO5cVd9WkT75Y2YQPbA2GykmMHcGFViLf2NGADu2sj+FxdcwAf7/6O1j4YbORg\\\n",
       "xNemfet2++vDfFQRYnNlM0v3NdIYsdlQEaK22WZtWTMldRFWHGyiMWKztjyEZdvUR6C0PsyqQ80d\\\n",
       "jjO+n331Ed4ubqCsMUJ1yGZjRYhtVSHqQjZ/KG6kpD5MMGxTXB/h02CELVXhNjW9tiPIS9vrsYGN\\\n",
       "lSGKa8PsqYtwqCHCOyWNVDfbrC8PUdMU5cOKCGlJPg41RimtjxxxjPFx/mp7PbtrI5Q3RdlXG2bg\\\n",
       "4ZD95bZ6tlXFgvxvJQ0sO9BMfThKaX2UPXURRvTy8OGhZh7fWEt5Y4Syxig7qkMMSvOwvz7CS0VB\\\n",
       "dteEKW+Msq8+wsA0d6zfrXWsLguxozrEwWCEQHOUQw1RBqa5eXZrHS9tD1IXivJpQ5SKpggfV4ZY\\\n",
       "caCJzVVhAk0RNlWEidqwry7Ch4eaqW62WXmwmUg4TFXEk3As/PzjOnbXhKlqirKzJuyEWPw42Vcf\\\n",
       "YeXBZlzAgWD0hB/3J0JXncS7+xzQFU7FALMCgYDd04M4GRQVFZGfn3/U7SoaI/xiWz3RFs+aBeT3\\\n",
       "8lBUHTuhxrks+MaoVLKT3a276bTj3V9n2ldWVJKVnZXQvnW7hnCUj8pDpHgstgbCRKJR6kLgcUE4\\\n",
       "Clk+i8qQjceKPU7zWnhcFgWZHurCNufkePF7XG3GGd9PXSjK6kPNlNbHLr34PRYNYfB7YiNuCEcB\\\n",
       "6JvixrJiNZzXx0fK4T4t4IwUF7/d1YB9eMyhqM3BhiijMz3UhWzncbIbGiOQaTWTnuInO9lFZVOU\\\n",
       "8Tlep7/Wz2VFY4Qnt9SxtqzZ6R8LspNch9fHxhcMR9lREwFs0r0u3FZswz5+F3Uhm+DhOgAsy2JG\\\n",
       "3ySSPVBYFf6sXyA7OdbvwYYIJXVh6kI4ffZPdZPmdbGxopnmqE1Ti6tVXhdYFiS5LELRWBuvy2Jw\\\n",
       "mhtvbDB4LIuGhgamDsogxeMiv5eHjRXNfFQecsZgWXBujo+zs70UVYepD0dZf3i9ZcE5h5+rE3Xc\\\n",
       "nyid/Xt+JN19DugqXVH7yUafwA7r7LuTFI+LrCQX2wPhhOUVTdGExxYwb4ifwenH9+7rePfXmfYN\\\n",
       "DQ2kpPgT2rdu53VZ+N0WB4JRPC5ojFi4LJvmSCxkXJaFy8J57HVZZCe7sLEYmemhV5K73XHG97O7\\\n",
       "JkKqx6Km2SYYtomf58NRCB8+U2Qnu0j2uCjI9HLNmakEmhLfe9WFbPxuy6nNbVnk9/JQ1Ww7jz0u\\\n",
       "qGm2yU524Y5G8Hq9NERsRvbykNnBGOPj7ON3s7cuQnlji+cubNMQ/mwcXrd1uJ3ljBugPhwL0Jav\\\n",
       "2IQ+Pr71hXTG5fjYWxumvKltv27Lwue2aIzY+Fwu8lJcJLtdROzYOOtCNpYFUTsWXslusG1anFwt\\\n",
       "zvC7yEhyMzrTSx+/m8qmKAO8zeRlpDjHQvz1jT93sdfM5TyOr69sijKi12ev54k67k+UrvgU0t3n\\\n",
       "gK5yKn4CU4Addiwvbq7fTVZy2wM4Ln7gFvT2dsnYjnd/R2vf2BjkK6Oz27Rv3S7V68J/OGQ8LmiO\\\n",
       "WmQlWUTt2Dt7t2WRleQiasfCK9XjYmTmZ/dSOhpnfD8l9REyfJ+FWEvZyS5SvS5G9fJw0+g0pp6R\\\n",
       "1G5NqV6Xc6IdmelhULon4cTsc8VCLRSFcDiM1+dlZK+jjzE+zoFpbvbVJ4aYw4JRvTzcOzaDMVle\\\n",
       "NlaE2tQR33BCHx/fHptOQW/v4X497GsVYnE+l8Wo3j4GproJteguxePCY0F9OPaJNdnjItkdeyMR\\\n",
       "ewNg0S/FRbbf7dSY5nUxd5Cfsuo6/P6UNs9ditsix+9OuKcTF2/bfk1df9yfCF11Eu/uc0BXOBUD\\\n",
       "7OR4a9BKUVHRSb9fL5De4GZPsO1EziEpUbzlEYrKu25sx7u/I7e38Zbvabd963ZuICls0RCyyACS\\\n",
       "bGiKWjRGYu/+U+3YZURXCJKwcQdtKoNHH2d8PxVBF72xqIq6iE/kSnaDK2SThM0wInjLyykq77gm\\\n",
       "N9DfAncQKoOHxxyyCIQsMr02ORGb6rBFAxZJoWCnxxgf5zDbze6wm0DISliX6f1sfKOAET4vVUE3\\\n",
       "rSekZftsJviCeMsrnP14gWG42R1qv98Jvlgnf69NXJ8CZLhinywBGkOxk6dlW/isKCl2mKTQZ6/D\\\n",
       "kJQoo5oj7PW72VNR2aa+YSlRsGFPRfvH2ajmCHu78bg/Ebrq/NLd54Cu0BPn1hN52fKkDLCeuE57\\\n",
       "rNeHC6tC1NY1kOVvu64WCOV07buv493fkdoXV1YQyhnSbvvW7coaIjQ1h4kSpabJJsWCiAu8LpsI\\\n",
       "UG9ZBG3I9lo0eVxEUj77dHOkccb3EyFCVTBExBXBe/i8EAGiXhdNXhe78BDKSaOgt7fDmsoaIuyv\\\n",
       "DpN6eN9lDRGaQmH8HmgCyt0umjxRCDXQ5E3p9Bjj49xVXk+TJ3T4/txnmiyc8e2sCbO9uTahjrga\\\n",
       "22Jtcxozc9Kd/RRWhdhVVkeTN9y2X2Btc+zaYJM3mrC+ojFCTTSKF/C4LHxeaI7a2LZNEy6Clgu/\\\n",
       "1+3UWAts83kpbjhIVnZWm/p2NUTAssjJbntSjret9Ye67bjval15H6i7zwHHS/fATmHH8vG65Uyj\\\n",
       "jrScmXS8jnd/R2vfEGxkX7O3TfvW7coaInwSiN3Qr2i0aY5GqWqycVmxezXNUdt53BzBud/k91ik\\\n",
       "Hj6LtzfO+H4ONURYXx6ivJ3v0DSEY5cta0I2+2rDNEfh/QNNbWoqa4jwSXUY7NjEisaIzd76CPEN\\\n",
       "68OxGXYeF1jRCF6Pl4qmKH73kccYH2d8tmFHypuirDjQxB/3NlLd3M5lxsNazk6MzzbcdnjcrdWH\\\n",
       "o2ytClFSHyXJHbukCLHwKg1GiNjQEIGIbWOTOKmjNgQeC4IR8Lst6sM275Q04oqEyEpLPPPGn7vy\\\n",
       "hmjCa9Zy/TsljSS7266L68rj/kToqsto3X0O6Aqn4iVEfZH5GFU0xqZ6J96OhxG9PLS88GMT+87P\\\n",
       "8X6h8Xj393nbt27XEI6yvTpMqteioskmYkdpCMdCqiEcu0zXEPnsccSGyiabdK/F9uqwM4uwo/3U\\\n",
       "h6N8XPVZePk9FmDh91jO7MWKxiihiM2WqhBPbamlvuWMPqBviovtLUIgFLVZVx4izWM5jyubYoFa\\\n",
       "2WQTv5WTnRRrF+xgjPFx/npnkE9afgPYit2bi88YBAgenk25vz5MpMVEij5+tzPDMf6Mrytr5pmP\\\n",
       "63jhkzondOPi/YZsm0MNERrCsRmOZQ1RQlGbJLdFWWMUGw7PNoz92RiBKLFJF7FnxaasMUpDKPb8\\\n",
       "flwVm0m4O+iiIRx1joX46xsfw/bqMI1h2zlOgofX2zbO63kij/uTWXefA6Rj+gR22LHMQvRase94\\\n",
       "wGc3a6f3S25zU3dmvyTyM4/vEsLx7q8z7RsaGvCn+BPat27nc1lM75tEsseFhU1ZQ5RMnwuXBaMz\\\n",
       "vaQnuejrd1Mftsn0uYhiMba3hy/k+JjRN4n6Fve629tPSX0Uj8uiujlKqtciM8lNfqaXUb08DEpz\\\n",
       "U9McO2n7PS6G9fIyZ0Ay8Q848ZrmDPDjtiw2VsRCxu2yuHRgMn1TPfg9FoFmm0FpHtyWxZA0N8Hm\\\n",
       "Zs7Kic0Sm9E3mfoWkxNaP5cpntjkkL21YQLNtjNh464vpDO1b5IzscPrssjyWViWdfgEF5uw8aPz\\\n",
       "e/GF7MSJHQWZHm4tiF0OLa6LEDg8gWNUb6/T7/66CFXN0BSJPT+5fjfn5CZx39h0/B6LwqowEdsm\\\n",
       "ase+RnBujo9+KW5qwuCyYjMXx+f4GJHpJTPJTVaym0BTlDxPiP69UpxjIS/FTVF12BnDsAwPN45K\\\n",
       "dY6T3TURLMsi0BRlaLqb7GT3CT3uT5SumoXYneeArnIqfgJTgB12LC/ugDQPPhcU10USZhrFZyYV\\\n",
       "VYeZ2S+JiXlJXTK2493f0dpvPFjDZcN7t2nfut3M/sn4XLFPWufk+ihvjDJ3UDKDMzzMHeTH77E4\\\n",
       "q7eXQLPNlUP85KS4mdkviYsH+Y84zvh+qpqjXDTAT1MkdjL+5ph0zsn1sT8Y4cL+SViWRYbPxdfy\\\n",
       "U7h8SEq7NY3J8uKxLDZXhvhafgq3nZWOzxW7tDd3kB+XBRNyfaT5XExIrsOdktapMcbHmZ3sYl99\\\n",
       "hDNSXNw0Oq3FLEL34VmULu4+O52hGR62ByKMyfY6sw1HZnrJTnaxqTLEkHQP/z42g4l5SQxI85CT\\\n",
       "FO/XzU2jUhNmJ5Y1REjxuOib4qagt89ZP61vMjXNUbYFwgzN8HB+nyTuG5fBebk+DgQjRG2LLw31\\\n",
       "MyDNwxcH+ZnaN4lPGyJMyPXR1FCfMPM01+9mSLqHnTVheie5uO2stDbHSbytx211y3F/InTVSby7\\\n",
       "zwFd4VQMMH2R+bDPc4OzojHS7hcUO1p+vI53fx1tt6awiPMKOq69dbv446LqEPm9vM7jjpZ3dpwt\\\n",
       "+wESvkTc3vIj9RkfQ3t9x/+s3LeLrIHDjmmM8W1aj6O95UXVIbKSXG2262j50fqNa71+zaEmhmV4\\\n",
       "EtZVNEaobIq2eR3iv3f0mnc0hpZtu/u470pdPZHBpOfiVJzEoQA77FR8cTvrdK39dK0bTt/aT9e6\\\n",
       "4dSsXZM4RETESAowERExkgJMRESMpAATEREjKcBERMRICjARETGSAkxERIykABMRESMpwERExEgK\\\n",
       "MBERMZICTEREjKQAExERIynARETESAowERExkgJMRESMpAATEREjKcBERMRICjARETGSAkxERIyk\\\n",
       "ABMRESMpwERExEgKMBERMZICTEREjKQAExERIynARETESAowERExkgJMRESMpAATEREjKcBERMRI\\\n",
       "CjARETGSAkxERIykABMRESMpwERExEgKMBERMZICTEREjGQFAgG7pwfRWlFRUU8PQUREukB+fv4J\\\n",
       "6/ukDLCeUFRUdEKf6JPZ6Vr76Vo3nL61n651w6lZuy4hioiIkRRgIiJiJAWYiIgYSQEmIiJGUoCJ\\\n",
       "iIiRFGAiImIkBZiIiBhJASau/0ctAAAMwklEQVQiIkZSgImIiJEUYCIiYiQFmIiIGEkBJiIiRlKA\\\n",
       "iYiIkRRgIiJiJAWYiIgYSQEmIiJGUoCJiIiRFGAiImIkBZiIiBhJASYiIkZSgImIiJEUYCIiYiQF\\\n",
       "mIiIGEkBJiIiRlKAiYiIkRRgIiJiJAWYiIgYSQEmIiJGUoCJiIiRFGAiImIkBZiIiBhJASYiIkZS\\\n",
       "gImIiJEUYCIiYiQFmIiIGEkBJiIiRlKAiYiIkRRgIiJiJAWYiIgYSQEmIiJGsgKBgN3Tg2itqKio\\\n",
       "p4cgIiJdID8//4T1fVIGWE8oKio6oU/0yex0rf10rRtO39pP17rh1KxdlxBFRMRICjARETGSAkxE\\\n",
       "RIykABMRESMpwERExEgKMBERMZICTEREjKQAExERIynARETESAowERExkgJMRESMpAATEREjKcBE\\\n",
       "RMRICjARETGSAkxERIykABMRESMpwERExEgKMBERMZICTEREjKQAExERIynARETESAowERExkgJM\\\n",
       "RESMpAATEREjKcBERMRICjARETGSAkxERIykABMRESMpwERExEhWIBCwe3oQIiIix0qfwERExEgK\\\n",
       "MBERMZICTEREjKQAExERIxkZYJWVlSxcuJCzzz6b3Nxchg4dyty5c9m4cSO1tbUsWrSIGTNmMHz4\\\n",
       "cM444wzGjx/PokWLKC8vT+jn0KFD3HHHHZx55pn06dOHiRMn8swzz7TZ37Jly7jkkkvo27cvAwcO\\\n",
       "5KqrrmLDhg0J24RCIRYvXszYsWPJzc2loKCAhQsXUltb2y11t1RbW8u4cePIzMwkMzOTZ5991ui6\\\n",
       "O1t7YWEhN954I2eeeSa5ubmMHDmSa6+9lvr6emNrP1rdu3bt4pZbbuGss86iT58+DBs2jEsuuYQ3\\\n",
       "3ngjoR+T6i4uLnaO3fZ+brvttmMax65du7jhhhsYMmQIeXl5TJs2jd/+9rdt9vv6668zbdo0zjjj\\\n",
       "DIYMGcINN9zArl27EraJn18KCgrIzc1l7NixPProo4RCoW6r/VQ+xx2zQCBgm/Sza9cue+jQoTZg\\\n",
       "u91uOz8/3y4oKLDT0tLsF1980d64cWPCury8PBuwAfuss86yKysr7UAgYO/fv9/Oz8+3Advv99vD\\\n",
       "hw93tvv2t7/t7O/111+33W63Ddj9+vWzs7OzbcBOSUmxP/jgA2e7a665xgZsl8tl5+fn216v1wbs\\\n",
       "KVOmOPs8kXW33Pbaa691agHs//iP/3DWmVZ3Z2tfunSpnZKS4ozxrLPOsvPz822Px2Pv3LnTyNqP\\\n",
       "VndlZaU9cOBAG7B9Pp999tln25mZmU5NS5cuNbLubdu22RMmTEj4GT16tDPme+65p9Pj2LZtm52b\\\n",
       "m2sDdkZGhj148GCnnyVLljj7XLJkibN88ODBdkZGhg3Yubm59ieffGIHAgG7srLSnjJlig3YXq/X\\\n",
       "zs/Pt10ulw3YX/nKV7rkWO9M7afqOe7z/BgXYP/2b//mPNHr1q1zlldUVNilpaX2J598Yv/gBz+w\\\n",
       "i4uL7UAgYJeXl9tf/OIXnRfuvffeswOBgP2jH/3IBmzLsuz333/fDgQC9h133OEcnNu3b7cDgYBd\\\n",
       "UFBgA/Z5551nl5eX2/v27bMHDRpkA/Yll1xiBwIBe9myZW3C4pVXXnGWvfTSSye87vjj559/3gbs\\\n",
       "K6+8st0AM63uztReVVVljxo1ygbsGTNmOK99IBCwS0tLnb9cptV+tLrjJzLAfuihh+xAIGC/8847\\\n",
       "zrJf/vKXRtbd3s/999/vjHfLli2dHsctt9xiA3Z6erq9detWOxAI2PPmzbMBOzs72z506JB96NAh\\\n",
       "56Q9b948OxAI2Fu3brXT09NtwL7lllvsQCBgv/TSS07/r776qh0IBOzHHnvMWbZs2bJuqf1UPcd9\\\n",
       "nh+jLiHatu1cGhk8eDDf+MY36N+/PxMnTuSFF17A7/eTl5fHXXfdRa9evQDweDxMnDjR6SMpKQmA\\\n",
       "v/3tbwAMHz6cMWPGADBv3jwg9lF5+fLllJaWUlhYCMDcuXPxeDykp6czc+ZMAN577z0ikYjTV8s+\\\n",
       "Lr74YpKTkwF49913T3jdACUlJdx9992MGzeOBx98sN2+TKq7s7Vv2bKFbdu2AZCRkcH06dMZMGAA\\\n",
       "F110EevWrcPlchlXe2fq7tevH4MHDwZg8eLFTJs2jWuuuQa32838+fO5/PLLjau7PcFgkF/84hcA\\\n",
       "XH311QwYMKDT44hvd95559G3b18A53mpqKhgw4YNfPTRR1RUVCT01bdvXyZMmNBuX36/n4suuihh\\\n",
       "+5bbdaX2aj8Vz3Gfl1EBVl5eTlVVFQArV65k3759ZGdn88knn3Dvvffy3HPPtWlTW1vLK6+8AsAF\\\n",
       "F1zAqFGjANi/fz8Aubm5zrZ9+vRxfi8pKXG2AcjJyXF+j7dpaGigoqIiYbv4OpfLRXZ2ttPX8ehM\\\n",
       "3dFolFtvvZVwOMwvfvELPB5Pu32ZVDd0rvYdO3Y427/11lsAeL1eVq9ezVVXXeXcLzKp9s7U7fV6\\\n",
       "+eMf/8jYsWNpbm5m06ZNBAIBevXqxdlnn43P5zOu7va89NJLVFZWYlkWd911F0CnxxHfrmVNR6q9\\\n",
       "5XMU/711X1lZWc6botZ9dbX2am/tVDjHfV5GBVg4HHZ+z8rKYv369axfv57zzz8foE2AlZaWctll\\\n",
       "l1FYWMioUaN4/vnnnXW2bbfpv/Wy9rZpT0fbdbb90XSm7qeffpoPPviARx99lDPPPPOYxnqy1g2d\\\n",
       "q73lNrNmzWL9+vWsWbOG1NRUQqEQL7zwQofjOllr70zd0WiUf//3f2fjxo3cdNNN7N+/n5dffpnK\\\n",
       "ykq+973v8dprr3U4ppO17tYikQg///nPgdg7/tGjRx/3OLqy9hNVN3Rce0unyjnu8zIqwHJycpx3\\\n",
       "lWeeeSbp6em43W7Gjh0LwN69e51tN2zYwOzZs9m0aROTJk3iT3/6E3l5ec76AQMGAFBWVuYsa/l7\\\n",
       "//79nW2AhNk98e38fj/Z2dkJ28XXRaNRKisrnb5OdN1btmwBYNGiRfTv35/Jkyc77R988EHnkodJ\\\n",
       "dUPnao9fGgIYN24clmWRk5PjXF6LHxcm1d6Zut977z3eeecdABYsWEBqaiqXXnqp8w552bJlxtXd\\\n",
       "2u9+9zvn9bv77rud5Z0dR/zP9mqKr2+vr5a/x/uIb1dRUUE0Gm23r67UUe1xp9I57vMyKsC8Xi9T\\\n",
       "p04FYMeOHdTV1RGNRtm8eTMQu9YL8Pbbb3PppZdy4MAB5s+fz5tvvklWVlZCX7NnzwZg586dzsk/\\\n",
       "fvnJ4/Ewffp0+vXrR0FBAQB//vOfCYfD1NbW8o9//AOA6dOn43a7ufDCC51+430sXbqUxsbGhH2d\\\n",
       "6LoB6uvrqa+vJxgMOsuam5udxybV3dnazz33XDIyMgDYtGkTEJt+Hv/LH39+TKq9M3XX1NQ4269b\\\n",
       "tw6APXv2OJceU1NTjau7tSVLlgAwadIkJk2a5Czv7Djif65Zs4YDBw4AsfMDxD7Zjh8/nnPOOcc5\\\n",
       "P8T7OnDgAGvXrm23r8bGRueNQ3z7luu7Ske1x2s4lc5xn1tPzBw5np93333XTkpKcqa4xmfLAPaL\\\n",
       "L75ob9261bYsy5lm2npKanymUElJiTOt1O/322eeeabTz7333uvs7ze/+Y0zVbblFFO/32+vWLHC\\\n",
       "2e7qq692ppiOGDHCmWI6efLkLplierS6W2/fcoZay1mIptXd2dpbzgYbOnSonZWVZUNs6vSGDRuM\\\n",
       "rP1ode/atcuZNm9Zll1QUODMnHO73c40etPqjv+8/vrrzjhfeeWVNus7M47CwkKnjtbT6J944gmn\\\n",
       "r//6r/9ylrecRp+dne3MXqyoqLAnT57szOIbMWKE83zNnz+/S89zR6r9VD3HfZ4f98KFCx8+jvzr\\\n",
       "dn379mXGjBns3buX4uJiwuEw5557Lk899RQXX3wxlZWVPP3000Ds+mxpaWnCz5e//GUGDx6Mz+fj\\\n",
       "iiuuoKKigr1793Lo0CGGDx/Offfdx7333otlWUDsne6ECRMoLi5mz5492LbNBRdcwLPPPsu4ceOc\\\n",
       "cc2dOxfLsti7d69zw/3666/nySefdGbqnMi6W6uurna+sDhnzhzOPfdcAOPq7mztEyZMYPDgwRQX\\\n",
       "F1NcXEx6ejoXXnghL774IkOGDDGy9qPV7ff7mTt3LjU1NVRXV1NSUkJ6ejqTJk1iyZIlzmVk0+qO\\\n",
       "u/vuuykuLmbkyJEsXrzYGeexjCM9PZ3LLruMAwcOUFxcTHV1NQUFBfzoRz9iwYIFTl/jxo1j2LBh\\\n",
       "7Nmzh+LiYjweD3PmzOGXv/ylcyna5XIxb948gsEg+/bto7S0lP79+3PLLbfw4x//GLfb3S21n6rn\\\n",
       "uM9D/52KiIgYyah7YCIiInEKMBERMZICTEREjKQAExERIynARETESP8fq4r89uj7vB4AAAAASUVO\\\n",
       "RK5CYII=\\\n",
       "\"\n",
       "  frames[7] = \"data:image/png;base64,iVBORw0KGgoAAAANSUhEUgAAAbAAAAEgCAYAAADVKCZpAAAABHNCSVQICAgIfAhkiAAAAAlwSFlz\\\n",
       "AAALEgAACxIB0t1+/AAAADl0RVh0U29mdHdhcmUAbWF0cGxvdGxpYiB2ZXJzaW9uIDMuMC4zLCBo\\\n",
       "dHRwOi8vbWF0cGxvdGxpYi5vcmcvnQurowAAIABJREFUeJzt3XmcFOWB//FPVXX3TM/NHIzDIecg\\\n",
       "jAegKIcIiicemKh4kWg22egaXaNxk4XfmsRssjl3c+gv0UTz88ihrnFNJMmuycaAeEQREUGuEWTk\\\n",
       "FOboYe4+6vn9UdM108MMDHIWfN+v17yY7qp66nmqq55vV9VTgxWLxQwiIiIBYx/pCoiIiHwUCjAR\\\n",
       "EQkkBZiIiASSAkxERAJJASYiIoGkABMRkUBSgImISCApwEREJJAUYCIiEkgKMBERCSQFmIiIBJIC\\\n",
       "TEREAkkBJiIigaQAEznMbrvtNoqKiigqKuLUU0890tURCSwFmIgcEbFYjO9+97tccMEFDB8+nLKy\\\n",
       "MsaMGcP555/PvffeS11d3V6Xf/bZZ/0vAumfJUuWHKbay9EgdKQrICLHnyVLlnDzzTdTX1+f8f7O\\\n",
       "nTvZuXMny5Yt4+qrr6akpKTX5bdv384999xzOKoqRzEFmIgcVmvWrOG6666jtbUVgJKSEi677DKG\\\n",
       "DBlCIpFg586drFixglCo7+7pjjvuIBaLHa4qy1FKASZ9WrJkCVdccYX/euHChdTW1vKTn/yEd999\\\n",
       "l1AoxNSpU/n617/OmDFjPtI6tmzZwo9+9CNeeuklNm/eTCKRoKioiPLycsaPH89FF13ElVdemVGH\\\n",
       "hQsXsnLlSnbt2sXu3buxbZuysjImTpzI3/3d33HeeefttR3PP/887733Hg8//DAbN25k4MCB3Hjj\\\n",
       "jXzxi18kFArx6KOP8vDDD7NhwwYGDBjAFVdcwVe+8hXy8/P9Mmpqahg/frz/+sc//jFDhgzh3//9\\\n",
       "31mxYgWpVIoJEybwpS99iZkzZ+7XNkkmkzz11FM8++yzrFq1ilgsRm5uLqeccgo33HADN9xwA7ad\\\n",
       "efV/7dq13H///bz22mts374d13UZMGAAgwYNYuLEiVx55ZX7XY9DZcGCBX54TZ8+nWeeeYZoNNrv\\\n",
       "5R955BH+8pe/AHDFFVewcOHCQ1JPOfpZsVjMHOlKyNGpZ8c/depUXnvttT3mKy0t5fXXX+/zck9f\\\n",
       "amtrmTZtGjt37uxznrPPPps//OEP/uubbrqJ559/fq/lfvWrX+Xuu+/2X/dsx+mnn85bb721x3Kf\\\n",
       "+MQniEajPPzww3tMmzlzJr/73e/81z0DbObMmbz00ksYk3k42bbNz372M6655hr/vdtuu40nn3wS\\\n",
       "gKFDh7Jy5Up/WiwWY+7cuSxdurTP9s2aNYtf//rXZGdnA7Bu3TpmzZpFS0tLn8vccMMNPPjgg31O\\\n",
       "7+5b3/oW3/nOd/o1b9qKFSsYNmzYPufbvHlzxsCV++67j1deeYV33nmHxsZGhg8fzpw5c7jzzjvJ\\\n",
       "y8vbY/kNGzZwzjnn0Nrays0338xZZ53F7bff7k9fuHAh55xzzn7VXYJLZ2DSb6+99hoTJ07k/PPP\\\n",
       "5+WXX+Zvf/sb4AXRL37xC+666679Ku93v/udH17Z2dnMmzePwYMHU19fz5YtW3j55Zf3WKawsJBz\\\n",
       "zz2XMWPGUFRURE5ODo2Njbz00kssW7YM8Drg66+/noqKil7X+9ZbbzFz5kwmT57MM888w/vvvw/A\\\n",
       "L3/5SwAmTZrErFmz+P3vf8/q1asBWLx4McuWLeOMM87otczFixdTVVXFpZdeyrZt23j66adJpVK4\\\n",
       "rstdd93FzJkzKSsr2+c2ufXWW/3wCofDfPzjH2fMmDG8//77/Od//ieJRIIXX3yRL3/5y3zve98D\\\n",
       "4Ne//rUfXoWFhcybN4/S0lJ27dpFTU1Nr9vxSEnvM2n33Xdfxuu1a9eydu1aFi5cyB//+EcGDBjg\\\n",
       "T0ulUvzDP/wDra2tDB8+nH/7t3/L+FIhxx8FmPTbxIkTeeGFF4hEIsTjcaqqqqitrQXww2N/dHR0\\\n",
       "+L+fffbZ/Md//EfGdGMMNTU1Ge898MADpFIpli9fzvr169m9ezeO4zB79my/DvF4nJdeeonrrruu\\\n",
       "1/XOmDGD3/72t1iWxZlnnsncuXP9aWPHjuWPf/wjkUiEj33sY0ybNs2f9uabb/YZYKNGjeLFF1/0\\\n",
       "z4rGjx/PP//zPwPQ3NzMU089xT/+4z/udXusXr2aF154wX/9ox/9iBtvvNF/fdJJJ/GVr3wFgMce\\\n",
       "e4x/+Zd/oaioKGM7XnXVVXzzm9/MKDeZTLJ9+/a9rru7WbNm9Xr2szfdg2ZvduzYscd755xzDtOm\\\n",
       "TePVV1/1RxGuWbOGBQsW8NBDD/nzff/732fp0qU4jsNPf/rT/a6jHHsUYNJvN998M5FIBIBIJMLw\\\n",
       "4cP9APsoN9SnTZuGbdu4rstf/vIXzjrrLKqqqhg5ciRVVVXMmDGD4cOHZyzz3HPPMX/+fD788MO9\\\n",
       "lr1t27Y+p1177bVYlgWwx2WvK6+80m9jZWVlxrS9tXHu3Ll+eAHMmzfPDzDoX8D3PDv53Oc+x+c+\\\n",
       "97le500kErz55ptccMEFTJ8+3e/oH330Ud58803Gjh3LiBEjOOWUU5gxYwZDhw7d5/rTJk+ezOTJ\\\n",
       "k/s9//6Ix+MZr0899VSef/55LMvCGMOMGTP8S6q//e1v+eEPf0h2djYrVqzgu9/9LgCf//znD1n9\\\n",
       "JFgUYNJvJ554YsbrdEcP4Lrufpc3YcIEvv/97/O1r32NhoYG1q9fz/r16/3pjuNw55138tWvfhWA\\\n",
       "d955h8985jP9Wld7e3uf0wYPHuz/npWVlTFt0KBB/u/hcDhj2t7WW15envE6Ly+PvLw8mpubgf4F\\\n",
       "fM8h5fuS/vJw+eWXM3/+fB544AFaWlpYuXJlxn217Oxsvv71r/PZz362X+W+/vrrvPHGG/tVl5tv\\\n",
       "vpmCgoJ9zldUVJTx+pxzzvG/TFiWxTnnnOPXvb29nW3btjFy5EjuueceEokEp556KgsWLNivusmx\\\n",
       "SwEm/dazQ093PAfiU5/6FPPmzeOtt95i9erVvP/++7zxxhv87W9/I5VK8YMf/IDzzz+f6dOn89vf\\\n",
       "/tYPEcuyePDBB7n00kspKCigtbU1I3z2Zm/Ds/c2bW96nhG2tLT44QV7dty96XkZ7o477tgjGLvr\\\n",
       "Pohk/vz5fP7zn2fp0qWsXbuW999/nyVLlrBq1Sra29uZP38+F1544R5ntL158cUX93sQx5w5c/oV\\\n",
       "YFVVVRmve+5DPQfBpM9q09t35cqVe72XmB6s88tf/pLLL7983xWXQFOAyRGTvh9ywgknZFy2MsYw\\\n",
       "bNgwdu/eDcDy5cuZPn16xl9myM/PZ+7cuTiOA8DTTz99mGuf6Te/+Q133323f0aXHhCS1te9s+6m\\\n",
       "TJmS8TocDvd632znzp28/vrrjBs3DoBNmzb5f4lixowZzJgxA4CGhgZGjBgBeAMgVqxY0a8AO5Qm\\\n",
       "TZrEwIED/cE7L7/8MsYY/xLiq6++6s9bUVHR7y8lcnxSgMkR8/rrr/OpT32KM888k3HjxlFeXk44\\\n",
       "HObVV1/1wwu6zky635PavXs3V199NWeffTZr167lueeeO+z17+69995j1qxZXHrppWzdujUjUHNz\\\n",
       "c/scUNLdySefzIUXXsif//xnAH7wgx/w5ptvMnnyZKLRKDt27ODtt99m2bJlTJ061T/bWLhwIV/7\\\n",
       "2teYOnUqlZWVlJeXY4zxy0nr70CLBQsWHLLLdOFwmC984QvMnz8f8Ibff+xjH2Pq1Km8+uqrrFix\\\n",
       "wp/3tttu83+/6KKL2LVr1x7lbd68meXLl/uvp02bRmlpqYLvOKEAkyPKGMMbb7zR5z2XUaNG+Q8y\\\n",
       "f+ITn+Chhx5iy5YtACxatIhFixYB3qCJX/3qV4elzr25+OKL+fOf/8y7776b8b5t23z/+99n4MCB\\\n",
       "/Srnpz/9Kddcc43/nNqSJUv69ff9ksnkXuedMmUKZ599dr/qcKjdeuutvPvuu/ziF78AvEcQFi9e\\\n",
       "nDHPtddeyx133OG/7jlCNe1Xv/pVxnNgCxYs0HNgxxEFmBwxZ511Fvfddx9vvPEG69evZ9euXTQ3\\\n",
       "N5Obm8vIkSO58MILuf322/2/gFFUVMT//M//cN999/GXv/zFfx7ok5/8JJ/73OeOaIClH7793ve+\\\n",
       "x7JlyzL+Ese5557b73KKi4v505/+xFNPPcVzzz3HypUraWhoIDc3l4qKCsaMGcNFF13ExRdf7C8z\\\n",
       "e/ZsWltbWbp0KRs2bKCuro6WlhYKCgoYM2YMl112GZ/97Gf9y61HmmVZPPDAA8yePZvHHnuMt956\\\n",
       "i1gsRkFBARMmTODmm2/O+OsrIn3RX+IQ+Qh6+1NS8+bNO4I1Ejn+6L9TERGRQFKAiYhIIOkemBxU\\\n",
       "X/va1/j973+/z/k++9nPcssttxyGGonIsUoBJgfVjh07qK6u3ud8+/rfdo92w4YN0/9HJXKEaRCH\\\n",
       "iIgEku6BiYhIICnAREQkkBRgnfpz3+ZYdby2/XhtNxy/bT9e2w3HZtsVYCIiEkgKMBERCSQFmIiI\\\n",
       "BJICTEREAkkBJiIigaQAExGRQFKAiYhIICnAREQkkBRgIiISSAowEREJJAWYiIgEkgJMREQCSQEm\\\n",
       "IiKBpAATEZFAUoCJiEggKcBERCSQFGAiIhJICjAREQkkBZiIiASSAkxERAJJASYiIoGkABMRkUBS\\\n",
       "gImISCApwEREJJAUYCIiEkgKMBERCSQFmIiIBJICTEREAsmKxWLmSFeip+rq6iNdBREROQgqKysP\\\n",
       "WdlHZYAdCdXV1Yd0Qx/Njte2H6/thuO37cdru+HYbLsuIYqISCApwEREJJAUYCIiEkgKMBERCSQF\\\n",
       "mIiIBJICTEREAkkBJiIigaQAExGRQFKAiYhIICnAREQkkBRgIiISSAowEREJJAWYiIgEkgJMREQC\\\n",
       "SQEmIiKBpAATEZFAUoCJiEggKcBERCSQFGAiIhJICjAREQkkBZiIiASSAkxERAJJASYiIoGkABMR\\\n",
       "kUBSgImISCApwEREJJAUYCIiEkgKMBERCSQFmIiIBJICTEREAkkBJiIigaQAExGRQFKAiYhIICnA\\\n",
       "REQkkBRgIiISSAowEREJJAWYiIgEkgJMREQCSQEmIiKBpAATEZFAUoCJiEggWbFYzBzpSvRUXV19\\\n",
       "pKsgIiIHQWVl5SEr+6gMsCOhurr6kG7oo9nx2vbjtd1w/Lb9eG03HJtt1yVEEREJJAWYiIgEkgJM\\\n",
       "REQCSQEmIiKBpAATEZFAUoCJiEggKcBERCSQFGAiIhJICjAREQkkBZiIiASSAkxERAJJASYiIoGk\\\n",
       "ABMRkUBSgImISCApwEREJJAUYCIiEkgKMBERCSQFmIiIBJICTEREAkkBJiIigaQAExGRQFKAiYhI\\\n",
       "ICnAREQkkBRgIiISSAowEREJJAWYiIgEkgJMREQCSQEmIiKBpAATEZFAUoCJiEggKcBERCSQFGAi\\\n",
       "IhJICjAREQkkBZiIiASSAuwA1LWn9uv9Q7W+6sZEr9Pq2lMZ7/c1Tyyx93X1XC79uroxkfG6+/s9\\\n",
       "191bfXqblv7pXnb399Lv97Zc99c969a9Tt3n777teitnb3Xtqefn0H2d3eu9dGfHHtuwr+3Ws/29\\\n",
       "bft0eb1tq77atHJ3V/nd19VXHXr7t7ftciDbq6/y9/d4OpzH5eHuAyRT6EhXIKhe/7CDRds7uGJY\\\n",
       "lKoBYf/91Q0JFta0cW5FFpPLsw75+p5+r5WfvNvM0DyH/3N6gT9tdUOC/7e2hY6U4ROVOQB7LP/6\\\n",
       "hx08s7GNWCyMW9Lh17d7G3oul65HyIZFWzuYWh7BsS2qBoRZ3ZAg5Rpe2NxOUZZNZWGIuSNzmFye\\\n",
       "1VmfZjpS8InKnIxt8/qHHfyyupWGDhcLqOtI0Z6Ca0ZG2bg7xYetSeo7DFtaUmTZFv9wci6fHpvX\\\n",
       "Wf9WPmx1KcqymX5ChJd3xPmgKUlTwuXyYVESBlKu4X+3dpAftsh2LACG5jlEWh1eWd3A0DyH60bn\\\n",
       "sHhbBx0pw/QTIizdlfC3XW91zXLg02Pz/G359Hut/HRNM4NyHP7xlDzebUjw+LpWSqM27UlDc8Lw\\\n",
       "TxPyWd+Y4JE1LYzId7hgcDZ/3dbBx0dEyQ1Z/OTdFvLCFuMGhPn02Fya4i7PbGyjviPFjtYUH7a5\\\n",
       "VBWFmVAWZtHWDqaUR3h1R5y1sQRD80IMyXWwgPoOl22tKZKu4cS8EOMGhDizrKtNKWP46+YslrQ3\\\n",
       "cEKuwxXDojTFXX66poVV9QlKs22qBoSZOzJKfsRmYU0bw/NCbGpOUpZts6vd7fd+37W9LD49Nrfb\\\n",
       "9mrhp6ubGZwb4o5T8vz9LL0fpcvZ3+NpX8flqJRN5T5L6Z/D3QfInqxYLGaOdCWOBtXV1VRW9m/X\\\n",
       "fv3DDl7c1gGABcwZHvUPvOc3tZHeoLMGHZwduK/1Pf1eK//33SZiHS5gMb4kzP85vQCAn69tYW2D\\\n",
       "9y09LwSlOV0d3JzhXof19IZW1sWStLW1MaEin+tG5ZAfsf02bG1OYizLX25EvsPGphSr6uO8U5cg\\\n",
       "27FoTxlG5Idw8U7n18YSJF1IGjghajO9IovJAyO8sTPO2sYkGK+cT47JZXJ5Fq9/2MEv1rewoj7B\\\n",
       "h20ubQkXF8h2wLJs8kPQGDc0Jw3GQMSBQTkOl5yYTUvCsHRXnFiHS7Zj4RpIuIZY3BC2IWxbnBC1\\\n",
       "2dHmEk8Z2lMGx4JoyCLLttgdT5IddrCwyHIsirMsDNCSNEQdi/ywzfCCEDd1hli6ru83pcCCsYUh\\\n",
       "PjMuj5V1CR5a3UxtewqwKAxDawpaki6NcYMFFEQswKIjaXAxJFwIWzAsP0R7ytCaNCRcr47lUYeT\\\n",
       "isKEbdjUlKSmOUVb0ivHsbx2lWTbfNjm0p4yGMB1ITsEtgXxFCRdsCwIWVAatckL2YQdaGh3aYi7\\\n",
       "OMaAbTOhJMyw/BDbWpKsbEjSknABOCHqcFpJmNywTcSGdbEkuWGLloRhRL7DkLzQPvf71z/s4Inq\\\n",
       "VjbtTgIwdkCYz4zNZWVdnAdXN1PXbgDD0LwQIwpCZNmwvjHJmMIQZVGHkfkO7zel+n089ee4rK+r\\\n",
       "55pTKw74uDzcfcDBsD99XFAowDr198Ota0/xyNoW3G5bzQIqC0NUNybpvjFtC/5+bC4l2c5Hrldf\\\n",
       "6zshx+bJ91rZ1tJ1qcKyLKqKQkQci7p2ryNKuIYdbS4VOTZnDYyQE7JpS7rUNKWo7Zynra2NaE6U\\\n",
       "0myb4XkhskMWbUmXt2q9AJxYGsYC3qpNkBOyWBNLknJdmhMQsr3OsjhiURt3SbmQMhCxwbYsBkZt\\\n",
       "HAuKsmxCltVZT5hUFmFeZQ6/qm7ltQ872NKcIhZ3SV95sTrbZAx43ZwnbHtlRxwvWBs6vDOKprhL\\\n",
       "woBrvE7eNV4ZSeN14m5nWW76teW9EbK9NbkGckIWtgUJF/LDFoNzHSKOxRllYT5Rmcuvqlt5c1cc\\\n",
       "k66MBXkhi01NKVqTXdu7vsNgW16gd7jeem28OkBX/bAgN+T9Hk954Wxb3vwh26uLa7xATXUubADH\\\n",
       "BstAwnS9Z3XbRnR7beGVGXW89bZ1bl/jGrJCFpZlkeMYWlMWSdeQMl11LIxYFEYcCiPeNtrR5nJC\\\n",
       "1CbiWJxeGiYnZPe53181Isovq1tYtivRtb2A/IjF+7uTtCa9mqcMNCcMZVGbkiybsG2BBcVZNg0d\\\n",
       "LqeXhomGbL/cvo6n/h6X9XX1lJYWH9Bxebj7gIPlWAwwZ/78+fcd6UocDerr6ykpKdnnfDkhm+Is\\\n",
       "m/WxZMb7dR1uxuv0t7Jh+Qd2lbav9TUnDLkhi91x79s7QEm2jcGiLdl1CDm2RWVhmGF5DoVZ3kEU\\\n",
       "tr0zjXSdk8kk4VCYoXkOhVm2P09OyKY0y6YwyyFsW0Qdi+2tLiEb2lMWtmWIpyAa8sLK6ez8HQv/\\\n",
       "TAegIGKT7XTdbh07IMwnx+QytijMwKjD1haX3XGXuAtJ15B0M0MrvT1DltfJ54dtTi0O41hWZ128\\\n",
       "djqWt0yyW8cesr1/w7bX8duW929uCFzXkMLypwO4xiIagvIch+yQzdjCEJ8ck+fX9YPmruAHiLtg\\\n",
       "MLR1fjyOZVGUZfudtkVXcNmdb6Q7viwH8sIWWY5NcZaFZUHStcgJWzg2dKS8sq10IHe2P9TZFrcz\\\n",
       "3G26wir90/11Vucy0ZDlf/bZtgHLJicEWF54ee33lskNQ7bjUBCxyHZsbz8qCNHhwpjCkL8v9bXf\\\n",
       "jy0KUx51+KApSW23eeIpr27pfdS2oCTbITdkZewjbUnDSUVd69nX8dTf47K9vZXrxpUc0HF5uPuA\\\n",
       "g6W/fVyQKMA67c+HWxZ1KM7ecwdO635J4WDoa325YZuCiBdiOSGb3FCPMTmdl7nuOCWf08siGcvn\\\n",
       "hm2ijkVdh0sykeSUsihlUaf7otwwOidjudywTbQzNEM2xF3vsptrvKByLO/SlotFxPZ+SrIz65W+\\\n",
       "jJTeNmVRh6F5DjvaXJoTLgkXkqbrTMCyvE4u3XHnh22mlkc4rSSSUZf8zm2RXt41XiiFbC+QDBa5\\\n",
       "YZvyqO13irgupjN4vVtj3rwVOQ65Ydu/RNizrptbMkMsYntB2paC0mybqeVZlEcdPmxzcY136c90\\\n",
       "tiO9cbMc77JixLaYPDDCuAFhWhLepVPXeHWyOwPNtryzw2zHIhqyiDgWKWORE/LCKGW6vjTYdldw\\\n",
       "2XjbLdwZXhHboiLHYXRhiFh7gtJoqPOM1VtHyuCvKyfkUJJteZ+dBScVhhiWH2L2iVH/C1NPPfd7\\\n",
       "b3uF2NwjxPztlTSUZjucNTBCRY6TEQAnFYX8/bG/x1N/jsspOc1MG1G213L643D3AQfDsRhgR8dX\\\n",
       "gx6qq6uP+vWGgfw2h02tew7kHJ7jEq5NUV178OrW1/ocYEwEdsUtYm1WxrSisGEkKcK1XkV6Lu8A\\\n",
       "WQmLrDA4rY3Ut+7Zhp7LOUBW0qItYVEAZBnocC3aU17nm2sMIQdaUt51OzthaEt0q49JEa7dlbFt\\\n",
       "wsBI4/A+Dg3YtFkWCTrPXDo75wiGsAUlTorSVAf1dV11Sd9hiCUssrFo6zyrwgXLcgl7V6WIAoND\\\n",
       "Xie5scMmbINlXBLGIpmCkG2IYrATSbLo2na91jXpEEt0bW8bKAAGYHBa2ygFShybtoRNBO9UKWks\\\n",
       "/5JexAIr5VLgGEpTHdDa+TlisTFu057qDKLOLwf5tkuuY2hJeds6AoQMRCyLlNV1yTV92prCu9Qa\\\n",
       "xoCxsFIuDjAAl1GOoS1q0eHG/c8uva5sy5BnA27K/+yKwgan1ZCPy9h4ig/2Y78PAyNxeD/Ry/ay\\\n",
       "YABxnFZvx8tKWMQSlr++9P64P8fTvo7L0WXmoPUvh7sPOBiORN96KC9bHpUBdiSu0+7v9eHVDQma\\\n",
       "mtsoju45rQlIlB7cb199rW9XW4r1nfeqcqKZAdZhwUZCJEq9UV49l9/VlqIjkaSttY1UTkHGGVi6\\\n",
       "DT2X29WWoiOexMVld4chx4KUDWHbkAJaLItYyjvrCNvghrvOwDqAjVaYRGnuHqO2Nta20EAH7bjE\\\n",
       "jetfdsPyOuM4FkkDdSmbWifCmKKwX5eWpIuFhQkb2hMuSVySnes3lk3CMiSMF2xbk959n5Ttkkgk\\\n",
       "ae98ksRxvLO0NsANO3SEbX/b9VbXjlCCaLejpyXpbY8IFqmcCA0dLnWpOMbqDEgL/1KgC8QNZDs2\\\n",
       "u41FrRNhQJbN+toErUnX355x13ReijQ0uTbNrnfpEAfiSe+sLm4Myc4zp86TSP++YdwF41iELTCO\\\n",
       "Tcq2aMBmQ8pmU1sbBdkRUrY34MVbl6HdWBjXu3zshr0zsA4LUjkhmqIOayNhmqKJfu/3qxsSbNzV\\\n",
       "TEc4uef2aneJ4JDK8ebvSHjzdOCtL70/7s/xtK/j8r2WncyeMHqf5fTH4e4DDpTugR3D9uf0uudI\\\n",
       "o96sjyUpzrYzQuGj6mt9u9pSLK9NUNueojXpXUqL2JkhVtvhsqIuwdqGBDlhO2PZdZ2jApPJJI0p\\\n",
       "h2jIu8yW9sqOOMt3xf3ldrWlWBfzAqOu3RB3XRo6DLZlcCyLuGuobXeJu97AivSIuO71qm132dyS\\\n",
       "YmieQ1nUYXVDgp+vbeGtXR1sb3VpjLt09HiEJn2ZzBhIGcPONpeEa/iwzfXr0hh3aehwO0fzecul\\\n",
       "7xF1pLzwiHeOUGxKuN59q5QhaSz//lL6kl17ypDlWOxOGDY3JRmaF8qoa3p0Z1q6DuDdj/ygOcX6\\\n",
       "xiQdKa8u8c6BHJ0nQ53t8H5CNmxpcdnSnKQ+3rU9U4bO+2re761Jrx0J1/vxRkt6v1t4IW+6tdnt\\\n",
       "tt3SwWlb0NBhqGlO4RpoSnZdOmxLeutJl29ZhqRr+Z9dXYdLe9Lw0vYOsp3M/aS77vv96oYEP1/T\\\n",
       "7I8+zdxe3ofUmvQ+x13tqYx9t67dzdgf+3M89ee4XFPfzuABeQd8XB7uPuBgOBYvIepB5v1U155i\\\n",
       "YU3mjmvh3djuHh0GWFjTdsAPNPa1voocm3cbEp1Dtz31HYb8sHffKS2RMizbFWdVQ8IfKdeW7kB6\\\n",
       "FJrupNLzrIslWNeYpDXp0pZ0Wd/oDaWu6zCkjEtbks57Gd7lvJak6RzK7nWYbUnIcrxBJcluQ9HW\\\n",
       "xRL854ZWqhu9f1fVx9nZ5tKU8AZypMPEP6uga3BGwoXmhMvbdQmaEl5wpIyhJeHS0hlejtV1Dyjd\\\n",
       "wSdcL0zjKUimYHcCEqbr/lfS9e4FhTvbs6vNJZEyrGtM8vSGFr+u67o/9W15gzDSQQPeKMStLSla\\\n",
       "kt5glHR4pQdzGNNVv7jrBUdzwmVri0tLojMEE97gmLDt1Sm9PV3jhVjchUQK/z6hS9fAjfRP99fx\\\n",
       "zuXbk4amhLeNWpIWrjHeaEBjMFj+4BKDF5gJ1/uME67x9qPaBPGUYX1jkraku9f9vroxwdMbWvwv\\\n",
       "SWn5kfQgI2+plIFtLanOenWNfCnOtv31dC93bw8O9+u4NNYBH5eHuw+QvukMrNP+jEIMW3jPAtF1\\\n",
       "s3bmoOw9buqeNyiLyqIDu4TQ1/ouHBIlYlu8U5+gPeV1CONLwtx7RiHTK7L8gQaOZTE4x2ZIfpiS\\\n",
       "bO95rqtH5jC+JMyOthR17S7JZJJTSqP83Um5/qCNkG3hAIVZDiXZDhHbYmZFFtkhGwvDrjaXooiN\\\n",
       "bcG4ojD5WTaDchyaEi4hy8JuR0muAAASd0lEQVTgPYN1TkUWc0fmkHDxb+SPyHe4emSONxDDsdjS\\\n",
       "nGJ3wnjhZQyODXlhiIZsBmZ7941SpmtQwqAch6tGRinLdqjv8J7xKsqyyQ/b5IS8Dj/97X1kvkOy\\\n",
       "MzQMnSP/IhZFYRvXuOR2jpAsyrKpyLEpiHjDxAsiNtGQ9xzYNSO66vpBU5JY3PgDZO4eX8CoghCr\\\n",
       "G5K0Jg2OZTM4x/a2U+eozJANA7K9+oQs77VlQbbtPQeWHpjhWJ3Pz+U4TCyNMLLAu+bW1vmsV8j2\\\n",
       "6h91LCpyHf9MzO5Mq5xQ5/NzdAVlxIbyHJvSbG/QgYN3JhqxwLJtJpaEOaMsi4KwRSzhfRlwLG8g\\\n",
       "y6SyCMMLQlTkeI8rDMp1SBnv8yvJdva6359WEiHHsahpTnU+p+gN4Ln7tHxGFYR4tyFBW9Kre2Vh\\\n",
       "mFNLIgzK8T7PkwpDDM8PcW5FFi3dxkjs7Xjq73HZ1tbGpaOKDui4PNx9wMFyLJ6BKcA67c+HOyQv\\\n",
       "RMSGmubUHqOuirNtqhuTnHcQH2Dsa32nFIfJDdmsqk8ypijk/yWO9Gi5LS0pCiI2t1blMb4knLH8\\\n",
       "kLwQRRGbne0u0VQbN51czOTyrIw2XDk8mrHceYOziXSOtju9LEJtu8vsE7MZVuCNTouGvBDd1e4y\\\n",
       "oiDE6WURrh2Vw8UnRhmaF2JLc5KCiO0/xJxuW0m2zc42l5IsmxH5IQoiFnlhh8+MzWVAlkNxlkVx\\\n",
       "loMBBkQcbjs5j3vGF1AUsWmMu+SHbUYXhrlhdA62ZZHTOVrvhtE5jCwMc1pxmPq4YUSB98BsRY7D\\\n",
       "6WURJma30GCyGTcgzJ2n5hN3vSHd14/KwbK8EPtkt7/Eka7r5pYUJ+TY/gjFU4rDRB3v+bjKwhBf\\\n",
       "PqOQEQUhNjSmGDsgTFm2Q8S2ue/MQkYXhVhVn2TcgBA3Vuayo83lk2NyuXBINmtjKYbmhZg0MIs7\\\n",
       "T83ntOIwDXFDeY5Nfti7d3dmWRZzRkSpbXf52Iiodykw4VJZFGZ8SYQR+SEGZNnYNuSGvL/qMbU8\\\n",
       "wtUjo1iWxdC8EGOKQmxt7mDO8FyqisPMq8zlzLIIu9q95/BGFoQ4a2AWN4/JZXpFFltbU8ysyCYn\\\n",
       "bDGpLELIsfq13w/JC1Gald5ejj/69JRi78vAmoYEYwrDfGlCPuNLwtR2uMw+MUpbynDeoCwuPjG6\\\n",
       "X8dTf47LU7OauajywEchHu4+4GA4FgNMDzJ3+ig3OOvaU30+VHkoHlzsq9zqxgTFWfYe09KXLtLv\\\n",
       "97Z8XXuKjRs3cmZV5R7v97Vc+nV1Y4LKwrD/uvv7xZ3Pk/Vcrud7Pael1Xe4ftnd3wPvG3tvy6Xr\\\n",
       "0HP5nnXyy9u8EQYO97dd9/r1p649p/X8HLqvM10f8P4W4siCUMY27Dl/923fvf3p8rtv+427k/7Z\\\n",
       "Ws9t1b287vX+r2XVXHVG5R6fc3odPevQ/fPd3/2+v9urr/L393jaWz3qN288qAMZDncfcCCOxUEc\\\n",
       "CrBOx+KH21/Ha9uP13bD8dv247XdcGy2XYM4REQkkBRgIiISSAowEREJJAWYiIgEkgJMREQCSQEm\\\n",
       "IiKBpAATEZFAUoCJiEggKcBERCSQFGAiIhJICjAREQkkBZiIiASSAkxERAJJASYiIoGkABMRkUBS\\\n",
       "gImISCApwEREJJAUYCIiEkgKMBERCSQFmIiIBJICTEREAkkBJiIigaQAExGRQFKAiYhIICnAREQk\\\n",
       "kBRgIiISSAowEREJJAWYiIgEkgJMREQCSQEmIiKBpAATEZFAUoCJiEggKcBERCSQFGAiIhJICjAR\\\n",
       "EQkkKxaLmSNdiZ6qq6uPdBVEROQgqKysPGRlH5UBdiRUV1cf0g19NDte2368thuO37Yfr+2GY7Pt\\\n",
       "uoQoIiKBpAATEZFAUoCJiEggKcBERCSQFGAiIhJICjAREQkkBZiIiASSAkxERAJJASYiIoGkABMR\\\n",
       "kUBSgImISCApwEREJJAUYCIiEkgKMBERCSQFmIiIBJICTEREAkkBJiIigaQAExGRQFKAiYhIICnA\\\n",
       "REQkkBRgIiISSAowEREJJAWYiIgEkgJMREQCSQEmIiKBpAATEZFAUoCJiEggKcBERCSQFGAiIhJI\\\n",
       "CjAREQkkBZiIiASSAkxERAJJASYiIoGkABMRkUBSgImISCApwEREJJAUYCIiEkgKMBERCSQFmIiI\\\n",
       "BJICTEREAsmKxWLmSFeip+rq6iNdBREROQgqKysPWdlHZYAdCdXV1Yd0Qx/Njte2H6/thuO37cdr\\\n",
       "u+HYbLsuIYqISCApwEREJJAUYCIiEkgKMBERCSQFmIiIBJICTEREAkkBJiIigaQAExGRQFKAiYhI\\\n",
       "ICnAREQkkBRgIiISSAowEREJJAWYiIgEkgJMREQCSQEmIiKBpAATEZFAUoCJiEggKcBERCSQFGAi\\\n",
       "IhJICjAREQkkBZiIiASSAkxERAJJASYiIoGkABMRkUBSgImISCApwEREJJAUYCIiEkgKMBERCSQF\\\n",
       "mIiIBJIVi8XMka6EiIjI/tIZmIiIBJICTEREAkkBJiIigaQAExGRQApkgNXX1zN//nxOO+00ysrK\\\n",
       "GDFiBLNnz2bFihU0NTWxYMECzj33XEaNGsUJJ5zAxIkTWbBgAbW1tRnl7Ny5k9tvv53Ro0czcOBA\\\n",
       "Jk+ezEMPPbTH+hYtWsQll1xCRUUFQ4cO5aqrruLtt9/OmCeRSPDtb3+b8ePHU1ZWRlVVFfPnz6ep\\\n",
       "qemwtLu7pqYmJkyYQFFREUVFRfzsZz8LdLv72/bVq1fzqU99itGjR1NWVsZJJ53E9ddfT0tLS2Db\\\n",
       "vq92b9y4kVtuuYWTTz6ZgQMHMnLkSC655BKee+65jHKC1O6amhp/3+3t57bbbtuvemzcuJGbbrqJ\\\n",
       "4cOHU15ezowZM/jNb36zx3qfffZZZsyYwQknnMDw4cO56aab2LhxY8Y86f6lqqqKsrIyxo8fz7e+\\\n",
       "9S0SicRha/ux3Mftt1gsZoL0s3HjRjNixAgDGMdxTGVlpamqqjJ5eXnm8ccfNytWrMiYVl5ebgAD\\\n",
       "mJNPPtnU19ebWCxmtm7daiorKw1gotGoGTVqlD/fF7/4RX99zz77rHEcxwBm0KBBpqSkxAAmJyfH\\\n",
       "vPLKK/581157rQGMbdumsrLShMNhA5izzz7bX+ehbHf3ea+//nq/LYD57ne/608LWrv72/YXXnjB\\\n",
       "5OTk+HU8+eSTTWVlpQmFQmbDhg2BbPu+2l1fX2+GDh1qABOJRMxpp51mioqK/Da98MILgWz32rVr\\\n",
       "zaRJkzJ+xo0b59f57rvv7nc91q5da8rKygxgCgoKzLBhw/xy7r//fn+d999/v//+sGHDTEFBgQFM\\\n",
       "WVmZWbdunYnFYqa+vt6cffbZBjDhcNhUVlYa27YNYK677rqDsq/3p+3Hah/3UX4CF2Cf/vSn/Q29\\\n",
       "bNky//26ujqzbds2s27dOvOv//qvpqamxsRiMVNbW2suv/xy/4NbvHixicVi5hvf+IYBjGVZ5uWX\\\n",
       "XzaxWMzcfvvt/s65fv16E4vFTFVVlQHMmWeeaWpra83mzZvNiSeeaABzySWXmFgsZhYtWrRHWDz5\\\n",
       "5JP+e0888cQhb3f69aOPPmoA8/GPf7zXAAtau/vT9oaGBjN27FgDmHPPPdf/7GOxmNm2bZt/cAWt\\\n",
       "7ftqd7ojA8xXvvIVE4vFzJ/+9Cf/vZ///OeBbHdvP1/60pf8+q5atarf9bjlllsMYPLz882aNWtM\\\n",
       "LBYzc+bMMYApKSkxO3fuNDt37vQ77Tlz5phYLGbWrFlj8vPzDWBuueUWE4vFzBNPPOGX/9RTT5lY\\\n",
       "LGa+853v+O8tWrTosLT9WO3jPspPoC4hGmP8SyPDhg3j7//+7xk8eDCTJ0/mscceIxqNUl5ezp13\\\n",
       "3klhYSEAoVCIyZMn+2VkZWUB8L//+78AjBo1ilNOOQWAOXPmAN6p8ksvvcS2bdtYvXo1ALNnzyYU\\\n",
       "CpGfn895550HwOLFi0mlUn5Z3cu4+OKLyc7OBuDFF1885O0G2LJlC3fddRcTJkzg3nvv7bWsILW7\\\n",
       "v21ftWoVa9euBaCgoICZM2cyZMgQLrroIpYtW4Zt24Fre3/aPWjQIIYNGwbAt7/9bWbMmMG1116L\\\n",
       "4zjMnTuXK664InDt7k1rayuPPPIIANdccw1Dhgzpdz3S85155plUVFQA+Nulrq6Ot99+m7feeou6\\\n",
       "urqMsioqKpg0aVKvZUWjUS666KKM+bvPdzD11vZjsY/7qAIVYLW1tTQ0NADw2muvsXnzZkpKSli3\\\n",
       "bh333HMPDz/88B7LNDU18eSTTwIwbdo0xo4dC8DWrVsBKCsr8+cdOHCg//uWLVv8eQBKS0v939PL\\\n",
       "tLW1UVdXlzFfeppt25SUlPhlHYj+tNt1XW699VaSySSPPPIIoVCo17KC1G7oX9vfe+89f/7nn38e\\\n",
       "gHA4zBtvvMFVV13l3y8KUtv70+5wOMwf/vAHxo8fTzwe55133iEWi1FYWMhpp51GJBIJXLt788QT\\\n",
       "T1BfX49lWdx5550A/a5Her7ubdpb27tvo/TvPcsqLi72vxT1LOtg663tPR0LfdxHFagASyaT/u/F\\\n",
       "xcUsX76c5cuXc9ZZZwHsEWDbtm3jsssuY/Xq1YwdO5ZHH33Un2aM2aP8nu/1Nk9v+pqvv8vvS3/a\\\n",
       "/eCDD/LKK6/wrW99i9GjR+9XXY/WdkP/2t59nlmzZrF8+XKWLl1Kbm4uiUSCxx57rM96Ha1t70+7\\\n",
       "XdflC1/4AitWrOAzn/kMW7du5de//jX19fV8+ctf5umnn+6zTkdru3tKpVL85Cc/Abxv/OPGjTvg\\\n",
       "ehzMth+qdkPfbe/uWOnjPqpABVhpaan/rXL06NHk5+fjOA7jx48H4IMPPvDnffvttzn//PN55513\\\n",
       "mDJlCn/84x8pLy/3pw8ZMgSAXbt2+e91/33w4MH+PEDG6J70fNFolJKSkoz50tNc16W+vt4v61C3\\\n",
       "e9WqVQAsWLCAwYMHM3XqVH/5e++917/kEaR2Q//anr40BDBhwgQsy6K0tNS/vJbeL4LU9v60e/Hi\\\n",
       "xfzpT38CYN68eeTm5nLppZf635AXLVoUuHb39F//9V/+53fXXXf57/e3Hul/e2tTenpvZXX/PV1G\\\n",
       "er66ujpc1+21rIOpr7anHUt93EcVqAALh8NMnz4dgPfee4/m5mZc12XlypWAd60XYOHChVx66aVs\\\n",
       "376duXPn8rvf/Y7i4uKMss4//3wANmzY4Hf+6ctPoVCImTNnMmjQIKqqqgD47//+b5LJJE1NTfz1\\\n",
       "r38FYObMmTiOwwUXXOCXmy7jhRdeoL29PWNdh7rdAC0tLbS0tNDa2uq/F4/H/ddBand/237GGWdQ\\\n",
       "UFAAwDvvvAN4w8/TB396+wSp7f1p9+7du/35ly1bBsCmTZv8S4+5ubmBa3dP999/PwBTpkxhypQp\\\n",
       "/vv9rUf636VLl7J9+3bA6x/AO7OdOHEip59+ut8/pMvavn07b775Zq9ltbe3+18c0vN3n36w9NX2\\\n",
       "dBuOpT7uIzsSI0cO5OfFF180WVlZ/hDX9GgZwDz++ONmzZo1xrIsf5hpzyGp6ZFCW7Zs8YeVRqNR\\\n",
       "M3r0aL+ce+65x1/fM8884w+V7T7ENBqNmiVLlvjzXXPNNf4Q0zFjxvhDTKdOnXpQhpjuq9095+8+\\\n",
       "Qq37KMSgtbu/be8+GmzEiBGmuLjYgDd0+u233w5k2/fV7o0bN/rD5i3LMlVVVf7IOcdx/GH0QWt3\\\n",
       "+ufZZ5/16/nkk0/uMb0/9Vi9erXfjp7D6H/0ox/5Zf3whz/03+8+jL6kpMQfvVhXV2emTp3qj+Ib\\\n",
       "M2aMv73mzp17UPu5vbX9WO3jPsqPM3/+/PsOIP8Ou4qKCs4991w++OADampqSCaTnHHGGfz4xz/m\\\n",
       "4osvpr6+ngcffBDwrs9u27Yt4+fqq69m2LBhRCIRrrzySurq6vjggw/YuXMno0aN4p/+6Z+45557\\\n",
       "sCwL8L7pTpo0iZqaGjZt2oQxhmnTpvGzn/2MCRMm+PWaPXs2lmXxwQcf+Dfcb7zxRh544AF/pM6h\\\n",
       "bHdPjY2N/gOLF154IWeccQZA4Nrd37ZPmjSJYcOGUVNTQ01NDfn5+VxwwQU8/vjjDB8+PJBt31e7\\\n",
       "o9Eos2fPZvfu3TQ2NrJlyxby8/OZMmUK999/v38ZOWjtTrvrrruoqanhpJNO4tvf/rZfz/2pR35+\\\n",
       "Ppdddhnbt2+npqaGxsZGqqqq+MY3vsG8efP8siZMmMDIkSPZtGkTNTU1hEIhLrzwQn7+85/7l6Jt\\\n",
       "22bOnDm0trayefNmtm3bxuDBg7nlllv45je/ieM4h6Xtx2of91Hov1MREZFACtQ9MBERkTQFmIiI\\\n",
       "BJICTEREAkkBJiIigaQAExGRQPr/aT8DEP+E1+IAAAAASUVORK5CYII=\\\n",
       "\"\n",
       "  frames[8] = \"data:image/png;base64,iVBORw0KGgoAAAANSUhEUgAAAbAAAAEgCAYAAADVKCZpAAAABHNCSVQICAgIfAhkiAAAAAlwSFlz\\\n",
       "AAALEgAACxIB0t1+/AAAADl0RVh0U29mdHdhcmUAbWF0cGxvdGxpYiB2ZXJzaW9uIDMuMC4zLCBo\\\n",
       "dHRwOi8vbWF0cGxvdGxpYi5vcmcvnQurowAAIABJREFUeJzt3XmcFOWB//FPVXX3TM/NHBwDyHAM\\\n",
       "x6ACEUWEBcUDQcVoRN2Qw41RVt24GiXBX0yim7wUN5tk1WR1Y1yPaBJjjIkm2WBW5fCIcokSREaB\\\n",
       "4T5mhh7mnj6e3x81XdM9DDBcQsH3/XrNi+muqqeep7q6vv089fRgRSIRg4iIiM/Yx7oCIiIih0IB\\\n",
       "JiIivqQAExERX1KAiYiILynARETElxRgIiLiSwowERHxJQWYiIj4kgJMRER8SQEmIiK+pAATERFf\\\n",
       "UoCJiIgvKcBERMSXFGAiR8FNN91EQUEBBQUFnHbaace6OiInpMCxroCInHg++ugjfvvb37Jy5UpW\\\n",
       "rlzJjh07vGX/+I//yCOPPLLXNvF4nL/85S+8+eabLF26lG3btrFr1y4sy6Jv375MnDiRm266iWHD\\\n",
       "hnW5z9dff51f/OIXLF++nB07dtDW1kZOTg6DBg3ivPPOY/bs2fTq1euotVk+fQowETniXn31VX7w\\\n",
       "gx8c1DaRSIRZs2Z1uezjjz/m448/5tlnn+Wxxx7js5/9bNryefPmMW/evL22q6urY8WKFaxYsYIn\\\n",
       "n3ySv/zlLwwdOvSg6iXHLw0hishRkZeXx4QJE7j55psPartAIMCUKVO48847ufPOO9OGYKPRKF/7\\\n",
       "2teoq6vzntu5c2daWObl5fHP//zPfOtb32LChAne87W1tTz44IOH0SI53ijATnKLFy/27tUUFBSw\\\n",
       "ePFiXnzxRS688EJKS0s55ZRTuOaaa1i7du0h72Pz5s3MmTOHcePGUVpaSklJCeXl5UycOJFbbrmF\\\n",
       "P/zhD2nrv/zyy9x4442MHz+eIUOG0LNnT3r37s1pp53Gl770JV5//fUDtmPRokX8z//8D+PHj6dX\\\n",
       "r16cdtpp3H///cRiMQCeeOIJzjnnHHr16sXw4cOZM2cO9fX1aWVWVVWllfnss8+ycOFCLrvsMk45\\\n",
       "5RT69u3LJZdcwsKFCw/6mMRiMZ555hmuuOIKysvLKSkpoaysjEsvvZRnn32WRCKx1zZr1qzh5ptv\\\n",
       "ZsyYMfTu3ZuePXsybNgwzjvvPL7+9a8fUj2Oln/6p3+iqqqKP/3pT9x3333d2sZxHGbPns2qVav4\\\n",
       "3e9+x913383dd9/NwoUL+Yd/+Advvfr6et5++23v8caNG4nH497jOXPmMG/ePObMmcNLL71EXl6e\\\n",
       "t6y6uvoItE6OFxpClDT33Xdf2sUBYP78+Sxbtox33nmHoqKigyqvurqaKVOmsHPnzrTnd+3axa5d\\\n",
       "u1i1ahUbNmzg8ssv95Y9//zzvPTSS3uVtWnTJjZt2sRLL73Ed7/7XW6//fZ97veee+5h+fLlads+\\\n",
       "8MADbNmyhXA4zGOPPeYt2759O4899hhr167dK0xT/eY3v2HRokUYY7zn3nzzTa644gp+9rOfcdVV\\\n",
       "V+3/YLSLRCLMnDmTJUuW7PX8G2+8wRtvvMELL7zAL3/5SzIzMwH3ntL5559PY2Nj2jY7duxgx44d\\\n",
       "rFixgubmZiZPntytOtx///088MAD3Vo3aeXKlQwYMKBb64bD4YMqG6CgoKDLOtm2zWWXXcbixYu9\\\n",
       "51pbW73fBw0aRCgUoq2tDYAFCxZw5ZVXUlxczF//+lcaGhq8dS+44IKDrpccvxRgkubtt99mzJgx\\\n",
       "nH/++bzxxhv87W9/A9wg+sUvfsFtt912UOX94Q9/8MIrMzOTWbNm0bdvX2pra9m8eTNvvPHGXtvk\\\n",
       "5+dz7rnnMnToUAoKCsjKyqKuro5FixaxbNkywL0AX3vttfTp06fL/S5fvpzJkyczbtw4nn/+edav\\\n",
       "Xw/AM888A8DYsWOZMmUKf/zjH1m9ejUACxcuZNmyZZxxxhldlrlw4UIqKiqYPn06W7du5bnnniMe\\\n",
       "j5NIJLjtttuYPHkyJSUlBzwms2fP9sIrGAxyxRVXMHToUNavX89vfvMbotEor732Gt/+9re9obFf\\\n",
       "/vKXXnjl5+cza9YsiouL2bVrF1VVVV0exxNJZWWl97tt24wZM8Z7XFhYyPe+9z3uuusuEokEr776\\\n",
       "KiNHjkzbPjc3l5tuuonrr7/+U6uzHH0KMEkzZswY5s+f732iraio8IZdkuFxMFI/KU+YMIEf/vCH\\\n",
       "acuNMVRVVaU99/DDDxOPx1mxYgVr165lz549OI7DtGnTvDq0tbWxaNEirrnmmi73O2nSJH7/+99j\\\n",
       "WRZnnnkmM2fO9JYNHz6cP//5z4RCIT772c9yzjnneMuWLl26zwAbPHgwr732mtcrGjVqFN/85jcB\\\n",
       "aGho4Ne//jVf+9rX9ns8Vq9ezfz5873HDz74IJ///Oe9x8OGDeM73/kOAE8++STf+ta3KCgoSDuO\\\n",
       "V1555V7DcrFYjG3btu1336mmTJlCTk5Ot9cH6NGjx0Gtf6QsWrSIJ5980ns8a9YsTjnllLR1Zs+e\\\n",
       "zdChQ/nqV79KTU3NXmWMHz+eqVOnYtu6a3IiUYBJmi9/+cuEQiEAQqEQZWVlXoBFIpGDLu+cc87B\\\n",
       "tm3vk/FZZ51FRUUFgwYNoqKigkmTJlFWVpa2zYsvvsjcuXPTpl53ZevWrftcdvXVV2NZFsBew16X\\\n",
       "X36518by8vK0Zftr48yZM73wAvdCmgww6F7AJ3u0STfffPM+JzlEo1GWLl3KBRdcwMSJE3n00UcB\\\n",
       "9/7d0qVLGT58OAMHDuTUU09l0qRJ9O/f/4D7Txo3bhzjxo3r9vrHyosvvsjNN99MNBoF4LzzzuM/\\\n",
       "/uM/9lrv8ccfZ+7cuUSjUTIzM7nmmmsoLS3ljTfeYPHixbzyyiu8/vrrPPHEE1x66aWfdjPkKFGA\\\n",
       "SZrOn2yTF3qgy4kFBzJ69Gh+9KMfce+997J7927Wrl2bNiHEcRxuvfVWvvvd7wLw/vvvc/3113dr\\\n",
       "Xy0tLftc1rdvX+/3jIyMtGWlpaXe78FgMG3Z/vbb+TtEOTk55OTkePdYuhPwtbW1B1wnVfLDw6WX\\\n",
       "XsrcuXN5+OGHaWxs5IMPPuCDDz7w1svMzOR73/seN9xwQ7fKfeedd3j33XcPqi5f/vKX0yZEHG0P\\\n",
       "PPAA8+bN8+45XnHFFTz66KN7vZ6rV69mzpw53mv3gx/8gC9+8YsAfPOb32T69Om89dZbRKNR5s6d\\\n",
       "qwA7gSjAJE3nC3qyF3M4rrvuOmbNmsXy5ctZvXo169ev59133+Vvf/sb8XicH//4x5x//vlMnDiR\\\n",
       "3//+996FyLIsHnnkEaZPn05eXh5NTU1p4bM/gcC+T+39Ldufzj3CxsbGtAkCBQUFByyj8zDcv/zL\\\n",
       "v+z3y7WjRo3yfp87dy7/+q//ypIlS1izZg3r169n8eLFrFq1ipaWFubOncuFF164V4+2K6+99tpB\\\n",
       "T+KYMWPGpxJgLS0t3HLLLbzwwgvec3feeSff+ta3ujwfFy5cmPbB48wzz0xbPnbsWN566y3AnRFb\\\n",
       "U1Nz0JOR5PikAJOjavv27QD07t07bdjKGMOAAQPYs2cPACtWrGDixIlp9y9yc3OZOXMmjuMA8Nxz\\\n",
       "z33KtU/329/+lttvv93rASQnhCTt695ZqrPPPjvtcTAY7PK+2c6dO3nnnXcYMWIEABs2bPCm80+a\\\n",
       "NIlJkyYBsHv3bgYOHAi4f8li5cqV3Qqw49WOHTuYNWsWS5cuBdze809+8pO0e5idpU6hB1iyZAnD\\\n",
       "hw/3HifLAvdDUecenPiXAkyOqnfeeYfrrruOM888kxEjRtCrVy+CwSBvvfWWF17Q0TNJvSe1Z88e\\\n",
       "Pve5zzFhwgTWrFnDiy+++KnXP9XHH3/MlClTmD59Olu2bEkL1Ozs7H1OKEk1cuRILrzwQv76178C\\\n",
       "8OMf/5ilS5cybtw4wuEw27dv57333mPZsmWMHz+eyy67DHC/G3fvvfcyfvx4ysvL6dWrF8YYr5yk\\\n",
       "7k60uOuuu7jrrru62/SDtmLFirQeVKr33nuPu+++G3Dre8cddwDuEOz555/P5s2bvXWnTp3K9u3b\\\n",
       "efjhh9PKOOuss7wPQ8kwT5ozZw7Lli2jtLSUxYsXe70vcO/JHuzkFTl+KcDkqDPG8O677+7znsvg\\\n",
       "wYO974F94Qtf4NFHH/UuYgsWLGDBggWAO2ni2Wef/VTq3JWpU6fy17/+lb///e9pz9u2zY9+9CN6\\\n",
       "9uzZrXL++7//m6uuusr7ntrixYvTvuO0L7FYbL/rnn322Wl/eeJYWr16NT/5yU+6XPbhhx/y4Ycf\\\n",
       "AtC/f38vwOrq6tLCC+Cll17q8juB3/zmN70AO/3007njjju8Ga4tLS1psxaTSkpK9poFK/6mAJOj\\\n",
       "6qyzzuKee+7h3XffZe3atezatYuGhgays7MZNGgQF154Ibfccgu5ubmAex/pL3/5C/fccw+vvvoq\\\n",
       "TU1NlJWV8cUvfpGbb775mAbYjBkzuPXWW/nBD37AsmXLiMfjjB49mm984xuce+653S6nsLCQV155\\\n",
       "hV//+te8+OKLfPDBB+zevZvs7Gz69OnD0KFDueiii5g6daq3zbRp02hqamLJkiV88skn1NTU0NjY\\\n",
       "SF5eHkOHDuWSSy7hhhtu8IZbTzbf/va3mTRpEs8884z3h4Cj0Sg5OTkMHjyYCy64gNmzZ+ve1wnG\\\n",
       "ikQi5sCriZx8qqqq0iZR/PSnP93nH5sVkU+fvtUnIiK+pAATERFf0j0wOWj33nsvf/zjHw+43g03\\\n",
       "3MCNN974KdRIRE5GCjA5aNu3b0/746r70tXfpPOTAQMGHNKfzxKRT4cmcYiIiC/pHpiIiPiSAkxE\\\n",
       "RHxJAdauO/d0TlQna9tP1nbDydv2k7XdcGK2XQEmIiK+pAATERFfUoCJiIgvKcBERMSXFGAiIuJL\\\n",
       "CjAREfElBZiIiPiSAkxERHxJASYiIr6kABMREV9SgImIiC8pwERExJcUYCIi4ksKMBER8SUFmIiI\\\n",
       "+JICTEREfEkBJiIivqQAExERX1KAiYiILynARETElxRgIiLiSwowERHxJQWYiIj4kgJMRER8SQEm\\\n",
       "IiK+pAATERFfUoCJiIgvKcBERMSXrEgkYo51JTqrrKw81lUQEZEjoLy8/KiVfVwG2LFQWVl5VA/0\\\n",
       "8exkbfvJ2m44edt+srYbTsy2awhRRER8SQEmIiK+pAATERFfUoCJiIgvKcBERMSXFGAiIuJLCjAR\\\n",
       "EfElBZiIiPiSAkxERHxJASYiIr6kABMREV9SgImIiC8pwERExJcUYCIi4ksKMBER8SUFmIiI+JIC\\\n",
       "TEREfEkBJiIivqQAExERX1KAiYiILynARETElxRgIiLiSwowERHxJQWYiIj4kgJMRER8SQEmIiK+\\\n",
       "pAATERFfUoCJiIgvKcBERMSXFGAiIuJLCjAREfElBZiIiPiSAkxERHxJASYiIr6kABMREV9SgImI\\\n",
       "iC8pwERExJcUYCIi4ksKMBER8SUFmIiI+JICTEREfMmKRCLmWFeis8rKymNdBREROQLKy8uPWtnH\\\n",
       "ZYAdC5WVlUf1QB/PTta2n6zthpO37Sdru+HEbLuGEEVExJcUYCIi4ksKMBER8SUFmIiI+JICTERE\\\n",
       "fEkBJiIivqQAExERX1KAiYiILynARETElxRgIiLiSwowERHxJQWYiIj4kgJMRER8SQEmIiK+pAAT\\\n",
       "ERFfUoCJiIgvKcBERMSXFGAiIuJLCjAREfElBZiIiPiSAkxERHxJASYiIr6kABMREV9SgImIiC8p\\\n",
       "wERExJcUYCIi4ksKMBER8SUFmIiI+JICTEREfEkBJiIivqQAExERX1KAiYiILynARETElxRgIiLi\\\n",
       "S4FjXQE/q2mJA1CU6XTr+aO1r9rWBIUZ9gHrUdMS73KdSDR9Wep2lXVRCjO6/pyT3G/q4/L8YNo2\\\n",
       "yTJSn+9cnyU7WxmUF9irbGCv8qvqY1zQL+xtm2x/8vnkPtbtiTEoL+DVcd2eGAXtZRVm2NS2JohE\\\n",
       "4XfrGjmtKER5fpCaljjr9sQ4s2cG/7e5mTHFob2Oyb6OQbKdqeVX1ccYUxxi3Z4YmxpiTC7NpCjT\\\n",
       "4amP6rl0QBa1rQk+qGljcmmmW5/WBAUZtlffM3tmeMcmeTwirQmvfhf0C7NkZyuAt06kNcGgvAAr\\\n",
       "qtsYkBvw6lKeH0w7zh/sgcL2NqUeq1TJbQHv+HSWej7t6/xKPTdSn08tO3X7zuV0fv5gl3euy5G0\\\n",
       "v30dyfe/dE0Bdoje2dHKM5VNZDgWXxmeTUUP9024eneU/1nTQGscvlCexbheGUdwX/CV4Tlp+7p/\\\n",
       "+R4+3B1leI8g/+8zeZ3q0Uhr3PCF8iwAFmxr5bIBYW+dd3a08vy6Zj7eGaJ/7R5uGplDfVuC59c1\\\n",
       "A4bCDJv5m1rJDkLvrADReIK2BGQHLWpaEmxrjFMSduiRYVMfdS+enykOsrw6SkGGTXl+gB4ZNn/b\\\n",
       "0cbg/ADv10QpzXL42qk55IZsXq5qpqo+xqtbWukdtumfE8ACalrjbGtyL26lWQ6FGRa1rYbVu6O0\\\n",
       "xOG80gZGFWdQluPwx6pm3t7eRmMcziyupy4KTdEEu9sS9ArbtCQAA9WtcUK2RaZjkRO0AItdjRns\\\n",
       "jkYoyLC4+dQcFm1tZU0kRt8sm7V74pTlOPxwfAG5IZtH/t5ApDUOWLQlDCEbalsNta0JRvQIMiQv\\\n",
       "wO83NNEah5JMi8o9MZpjUJxpU92SIJaAET0CZAVgeXWMe5fuIQHUR6FHCAK2TX1bguygTY8Miz1R\\\n",
       "w4h8hw/r4uQFLZpihsZoAsuy6ZNlsakxQVl2HesbEiSMoU+WQ0PU0BQ3ZNpQFzWEHRiQG8C2LIoz\\\n",
       "LD7YHaNn2CZhYOOeDAZtqcGxDOvrE/TIsIgbaIoZjIFwwKJHhkVtiyEzANcOzmZrU4xNDXFCNgQd\\\n",
       "m+yA5Z3jq3dHebmqmXP7ZHjnfPK8/WSP+7rdfnoulw0Ie+ft+zVtZAZsZldkM7JHkAXbWqnoEWT1\\\n",
       "7qhXTrLckkybXS0JynIcNjTEvfM4ubwsJ8CGhpi3Xup5nnw/vFzVzOC4TflhvyM73ped31Op+0o9\\\n",
       "FnJ0WJFIxBzrShwPKisrKS/v3qn9zo5Wnq5sYsOeGADDewS5fng2AI9/2MCauhgYGJjr8MWh2Yd1\\\n",
       "Er+zo5VfrG1kfX0cLBieH+D6ETkA3Ld8D+/ubKUlbsh0bM7qGeL/fSbPrceaRtbsdnsEOQEozgrQ\\\n",
       "L9vBAmaUhalvS/DcJ00s2dnGrsY2eueG6BV2yApY7GxOsLM5Tk1LggQQTRhsIOhYWEA04T5nAAw4\\\n",
       "NhgDARvaEhCyAMsi7IBlWQQs2N2WIMO2yA7aDMyxGZAX5JO6NlbWxoglIGEgaINjuWXE289Kx3J/\\\n",
       "WuPgxof7uCzXwbJgU32c1gSY5DIgvR+R/thq/3GfN94jB3f/cQNR446tB23on+MwOC/AjuY4Wxvj\\\n",
       "RBMGC4towhAzYFsQsCxixhBPQMy4P4cjtR225dYpWdNk0XYX7UxdTsp6yXZZ7dskDNgYEljesTAp\\\n",
       "26YeIwsIOu5rmpdhE00YonEI2Bal2Tan9gjyD30yWV8f87afUuqe779Y28hbO9qobkkQDkBpdoCZ\\\n",
       "g8K8tb2Nt3e0Uh81BCwozLSp6BGkX7bD2roYQ/MDlIQdBuU6rK+Ps6kxzoY9MbKDFo0xw7D8AD3D\\\n",
       "DiMLg/y9NsrO5jgfRWLkBKAhBmV5AfpnO8wo6wi5lzY0Y4DamlquOq3PYQfLOztaeW1rq3eMutpX\\\n",
       "8lgcLyF2MNc4v1CAtevui1vTEuehVfUs2xXFpBy5okx3eKomeTUFLAvGloT42qk5hzScUNMS5+FV\\\n",
       "DSzd1daxLwuKMmzaEoYPaqLURxPegtyQxWk9goQct4cEbtBsb07QJ8sNuKyATXMsQVV9nG1Nbk8n\\\n",
       "Go1iBwK0xg2ZjkWmAztbDK1xQ6L9ymaSV0fLvQCmXiwNHRfc5IUvaEEMt4sfp/1mqwXZAUhgkR+0\\\n",
       "qG0ztMWMd8FPvYgeiNVe5uENCnUEWFec9h1lByArYNMYTdCagETCbauhI0g6B8zxb/9tT2Wl/ARt\\\n",
       "t70ZjkVuEHKDNgUZHecWQEs8QXMMlu5q5eO6uLevoO3+1hY3tKWkrzGQE7Ioy3HcMix3+HJ3a4IR\\\n",
       "BQE+jMRoixu2N8XpneUQdCxveWGGTU1LwjvPe4dtQo7FmOIg2QF3FKCyriNca2tqKS4u5KvDsw95\\\n",
       "iK+mJc7P1zS6742UY9R5X+B+ADmcfR1JJ2KAaQjxIBVlOlwzOJuGto6eFuAFRqphBUGuHpx1yCdv\\\n",
       "UabD1YOzqI8arzeF6dhXSdj2hn3CASjJtKmPtnch2gUdizNKQhSGLO8CEw7YFGUaqlsTFGVa7Ii5\\\n",
       "vZqSTJvGmHtxyQqAMRZxY4gbd3nMQDzh/p4aYgGrPVAsMAk3uI3lfmqPGzfMEu09tLiBrIBFYaZN\\\n",
       "VsCwqTGO095rMQk3kPYVAmm9AtstM2GOTmgk25YXgN5ZDo0xQ3bQJpQwtMQNsfbelkk5DsdreNns\\\n",
       "HbYHI9nrTb5+Qds9PxzLPadG9gh655YFXDPYHY2IG2iKtrC1yd1r8rNWak8vYLefjxkd5ycGalsS\\\n",
       "DCsIUJjpMDQf1tbFOKMkxM7mhLccOt4LQcfijOIgu1oSDM0PkBWwMbjbpbXFMlw2IHxYgVKU6XDZ\\\n",
       "gHBaT6vLfcFh70v2z5k7d+49x7oSx4Pa2lqKioq6tW5J2KF/ToBN9TGqW/cOLugYVkwdGz8U7r4c\\\n",
       "NjXGqe4Uksl7OmHHojDDITt5AUhqH3L8l1Nz+UxJiLWRjjdYdtAm7Lj3WkwsSl5miPyQTcCG5pjB\\\n",
       "saz2XqVFoL37ZLcP57UXjW1ByGkf+msf/ssJWm6PzEpenNzP7uEAGNyLVO8sm+yATVbAZkCuQ33M\\\n",
       "0H5bCtMpkCzcgMxw3P3Z7T0ix3brk1w/OezWuU9hs/fQW/o6ez9ycEM4L+gOR+WHHIK2e++sIJTs\\\n",
       "JbghlnxFUo9LoL2e3Q0Kp337/fWJkvUK2JBhd7/HF2h/HZLX0OQwrfsBZN89MLu9TsljHnLccrIC\\\n",
       "FpkBi5BtUZzpMKY4SEnY8eqYHEpLnrfVrYZIa5z6aErZlnt8bcvtwU3oHWJoQdAdvWg3rCDglZsT\\\n",
       "tJl2SphE+725vT4sWjAsP8CA3ADTTgnTtI8xXAs4O6uBcwaWHOCoHVhJ2KEw0057T3XeV/JYHC8O\\\n",
       "5hrnF8dlD6yysvK4328QGITD+qhDJJp+ISgIGgaZOMHqXVRWH369gsAg47A+tve+egQNQ7MMu9os\\\n",
       "Is1d1IM4wWq3ErnNDhuaOkLOATKiFn0yAZqJNFvuhSvhlpNtDAEHGrHYHbfaTxZDi7G8T+VB7yaK\\\n",
       "IWhDoP2+UJtxr8hBk3Av6u09lUzAjhqao279BocMzSGLba02sbhFjPShQbu9niEMQce98IYsaI4D\\\n",
       "xvKWJ3sYyZ5Q8n5Z8kIcNR3rOBa0eT2njoudlboNUBAw2NFWmqPucfaOeQBa2mxagKhxD4BlOr6T\\\n",
       "YgO5AUNDDFqNtd+QsXDvUbYl2ntIZu9eaDK8QjY4liHbgUgC4lh73QdLFWjfzgZybEOjAduyvA8K\\\n",
       "cWP2Gv5M7ovkth03DLFsyLET3uMetOE0NVHb5D5VlpUgWB33znnvvA041GDTFO84PwOWOxGmyIlT\\\n",
       "HG+FJvdcjEQtCoIGp8mklTu8Lc7GZoeaJpuMmJX2Pkiun0vHeqnneVJZVoIhJeaIXV+C7P2eSt1X\\\n",
       "6rE4XhyLa+vRHLY8LgPsWIzTHuz48OrdUdbtaqA1GCPc6Si2AuusINHiw++BefuqbqQ1EN1rX7tj\\\n",
       "hq1NhnDAIiucHmCtFqwjQLTYnfRR39BMYbhj+a7mOK3RGLX1zWRmZpIVtmiMJYjH3YtUo2VRFzfu\\\n",
       "hA0recGzMO0XwET7EJptAZZFzECmbdHSfnPAsSBq2W54WIaosWjBIhF0e2CtwCdxWN8WcydF4F5Q\\\n",
       "Uy/KCdwLehsWLXH3Ihu2wLR3vxLx9PtgqUN5ho5JC4mU8pL3LkynPo9JXQeIxCwKsgJkB2x2xwwG\\\n",
       "dwJHc8zQTJw2jHcsjNVRrtW+bXLyxf4Y3IkHltUxcaXzNslAbk2AbVvE4hDtYr3OUvsGDQnLm5yS\\\n",
       "MBA1bttTj1Xy3+SHCOiY/BFy3DY2JGwc2+3978YhntXRA6sHosXhtJmw66ob2RproZUEjtNR45hx\\\n",
       "z5eauE21E6JHhk1r1H0vtQLxrEBauWtCQerDUeLEaW1Lf8+1Wu769WHHWy/1PE+qBz5u3Mm00UMO\\\n",
       "cOS6Z/Xu6F7vqdR9pR6L48GJeA9MkzjaHcyLu3p3NG224b4ciWHE1bujaTMKUzXGEmxvSnj3wPpk\\\n",
       "dT2M2DPsUBiyKA53jMXvao7zUV2MxmiCHQ1tBAIBsgPuLC+AtoShMUqX98BsKzUE3GVW+76S98Cs\\\n",
       "9uHG5LbJe2COhTeM2BJz74ElDuMeWOyw7oHte9Au2RvLC3bcA0vOvux8Dwz2nhF4POn6Hlj3J3Ek\\\n",
       "e62p98BygvsfRgR3Juyb2zrugSXFjTuTtfM9sOJO94qSw4i7muOsrXOnyO9s3seRtqBn+xT65CzG\\\n",
       "ruyureG6z/Q77GDpPNtwH1U6roYRT8QA01/iOEg1LXGe+6SRjzqFV1Gm7d4zSrkmfBSJ8ptPmg75\\\n",
       "C5Q1LXF+80kTH0VSwsty95UbstjVnKAp5l4cmmOwqyVBbtDyZkQCROOGZbvaWLU72r4uNMcS7syt\\\n",
       "uKGmxbQPJ7nbJ4w7VNUUc0Ms2j7rrq393656CrH23ljynlDcuENqbQn332jCvdBH2yeANMcNtS0J\\\n",
       "NjcliMbbp8gfILyS+0v2qtoSR28CR3JfFlAfg61NcaIJaIwmqI8aWmNuWzrPxuxeHHz6kvFxoOO7\\\n",
       "Lwb3NW2LuxeMaMI9P+LG0BRL8PeUc8sAz33SyJMfNbKiujUlvCyCtkXATp+6H01AXWuCnS0Jrwws\\\n",
       "d2r92roYtS1ueLW1n8fR9oNemGljWR2zf6Nxw7LqKG1xw9q6GE0xd+h6aH4g7XUxxuLlqubD+lJz\\\n",
       "TUucl6vSw6vLfcFh70v2T5M42nX3BmdWwCbLsahqiBNpv+k8vEeQW0/LZWKfjLSJHQNzHT43KIvy\\\n",
       "gkP7BJYVcCdabKyPEWm/aTPqr/jVAAASfElEQVQ8P8Ctp+UyuTSTj+ti7GiOu0N3js3YkhB3n5Hv\\\n",
       "1qN90odjWfTNsumXG6Qo0/0e2OcGZTGqyJ2xVduSoCkap1d2gKH5QcpyA1iWe5GJJ9q/+2W5oZYV\\\n",
       "dCeMBGz3OcfumGDhWLjDOhaEHQg47lT5cNAmL2jRZgxZjkVO0GF4vsOo4gxClmFXa8Lr7WQ47mQD\\\n",
       "716U5X7az7A7wio5SWJQnnsTvSlqvEC16BgTt1J+Ol9o0id2uJccB3c/Fu3fv8Ld94Bch9OLQlgW\\\n",
       "tMQNjgWZjuVNcAg6tB+Tjk+Dh9sbS21HcnJHR01dyV5V5+06s3Ffu+Q9S6t9pWR/ae9JLenHyMYd\\\n",
       "Pgw7UBy2CTru994yHIveWQ5jikJ8tizL67kDXNQvk4oeQbY1xqlpTdAUc8+NfjkBbhiRjWNZ7GyO\\\n",
       "05ZwX8uSsM3oohDDCoLUtiYYlh+gLDfAuX0yaE2AZVnUtxlKsx3iuBM2BrZP2AB3YsfuVkPfLJu4\\\n",
       "sSjLC1Cc6X4PbHJpZtpki+bmZqYPLjjk9yS478ughfvdTDp6Wp33BXBeacZh7etIOhEncSjA2h3M\\\n",
       "i9svJ0Bxhs2mRvd7KclhwuTsxM0NMfJC9mF/iTm5r6LM5L5srh+R4+1reI8g6/fEaY4ZRhWHvL/E\\\n",
       "kZwBtrkxTl7IZnZFDqOKglQ1xL0hjX45AQpCNnVRgx1tobwoiztH53F6YZCdLQnKch0m9M6gusXQ\\\n",
       "P8cNnL5ZNr2yHIb3cP9EkQMMyQ8yokeQ4rAbthf1y6AlDgPzAozvncG4XiEaY4aJ7Rej8vwAd47O\\\n",
       "Y0L7495ZDtuaEgzMdRhdHGJgboCCDAvbssgP2QwrCDKyR4CiTIeGqPtNswv6hpjSL8z0/pnEjaGm\\\n",
       "OYHBYnzPIHkZDrkBN2DLch1yQzaFIZsEhryg+/2h0mzbHa6Kx2hN2BRmWHx9dC5xQ/sXZR32xAyD\\\n",
       "8wI8OKEHF/UPs7EhTnGmzSk5QXpnuV9uLshwCDkWZ/XK4OL+YbY1x8kK2JTnOTTGEhgDvcI2rXG3\\\n",
       "l1vRI0BZrs2O5gQ9Qm5gRxNQlAF5IRtjDD0ybPpl2wQcizOLAzTFoTTLJitg4ViGrIDN4Dz3L4wM\\\n",
       "z3NojrcHbY5DyLZwbCgIuvffcoPuMFyvLIeRPQI0xAwD8xxKwjbN0RgjemTQN9umJQ6l2Tb5IZsM\\\n",
       "xyIr4Pbiy3Ld2ZdFmTZfHZFLryx35ujAXIeBeUH6ZQf44tBspp4SpjDTprIuxnntX9xNnreRNtM+\\\n",
       "7d7m66fn8oXybIb3CFJVH6cpmqAo0/3LLJeXhaluTTDtlDDNccN5pRleuTua44wtCZGfYTO5TwYx\\\n",
       "4wbGxN4ZFGbabGmKM7lPJuGg+yEuaFtpQ3fJGYOVdTFOy2jgovLDn4XYLydAyCbtPdV5X+cdR19i\\\n",
       "hhMzwHQPrN2hjA+fKH8Lcd26dQwaNOjk+1uIWzawKbP0pPxbiAv/vo7JIwcBJ9ffQqzdtO6I3gfy\\\n",
       "099CPBHvgSnA2p2IL253naxtP1nbDSdv20/WdsOJ2XZN4hAREV9SgImIiC8pwERExJcUYCIi4ksK\\\n",
       "MBER8SUFmIiI+JICTEREfEkBJiIivqQAExERX1KAiYiILynARETElxRgIiLiSwowERHxJQWYiIj4\\\n",
       "kgJMRER8SQEmIiK+pAATERFfUoCJiIgvKcBERMSXFGAiIuJLCjAREfElBZiIiPiSAkxERHxJASYi\\\n",
       "Ir6kABMREV9SgImIiC8pwERExJcUYCIi4ksKMBER8SUFmIiI+JICTEREfEkBJiIivqQAExERX1KA\\\n",
       "iYiILynARETEl6xIJGKOdSU6q6ysPNZVEBGRI6C8vPyolX1cBtixUFlZeVQP9PHsZG37ydpuOHnb\\\n",
       "frK2G07MtmsIUUREfEkBJiIivqQAExERX1KAiYiILynARETElxRgIiLiSwowERHxJQWYiIj4kgJM\\\n",
       "RER8SQEmIiK+pAATERFfUoCJiIgvKcBERMSXFGAiIuJLCjAREfElBZiIiPiSAkxERHxJASYiIr6k\\\n",
       "ABMREV9SgImIiC8pwERExJcUYCIi4ksKMBER8SUFmIiI+JICTEREfEkBJiIivqQAExERX1KAiYiI\\\n",
       "LynARETElxRgIiLiSwowERHxJQWYiIj4kgJMRER8SQEmIiK+pAATERFfUoCJiIgvKcBERMSXFGAi\\\n",
       "IuJLCjAREfElBZiIiPiSFYlEzLGuRGeVlZXHugoiInIElJeXH7Wyj8sAOxYqKyuP6oE+np2sbT9Z\\\n",
       "2w0nb9tP1nbDidl2DSGKiIgvKcBERMSXFGAiIuJLCjAREfElBZiIiPiSAkxERHxJASYiIr6kABMR\\\n",
       "EV9SgImIiC8pwERExJcUYCIi4ksKMBER8SUFmIiI+JICTEREfEkBJiIivqQAExERX1KAiYiILynA\\\n",
       "RETElxRgIiLiSwowERHxJQWYiIj4kgJMRER8SQEmIiK+pAATERFfUoCJiIgvKcBERMSXFGAiIuJL\\\n",
       "CjAREfElBZiIiPiSFYlEzLGuhIiIyMFSD0xERHxJASYiIr6kABMREV9SgImIiC/5MsBqa2uZO3cu\\\n",
       "p59+OiUlJQwcOJBp06axcuVK6uvrueuuuzj33HMZPHgwvXv3ZsyYMdx1111UV1enlbNz505uueUW\\\n",
       "hgwZQs+ePRk3bhyPPvroXvtbsGABF198MX369KF///5ceeWVvPfee2nrRKNR5s2bx6hRoygpKaGi\\\n",
       "ooK5c+dSX1//qbQ7VX19PaNHj6agoICCggJ+9rOf+brd3W376tWrue666xgyZAglJSUMGzaMa6+9\\\n",
       "lsbGRt+2/UDtXrduHTfeeCMjR46kZ8+eDBo0iIsvvpgXX3wxrRw/tbuqqso7d7v6uemmmw6qHuvW\\\n",
       "reNLX/oSZWVl9OrVi0mTJvHb3/52r/2+8MILTJo0id69e1NWVsaXvvQl1q1bl7ZO8vpSUVFBSUkJ\\\n",
       "o0aN4v777ycajX5qbT+Rr3EHLRKJGD/9rFu3zgwcONAAxnEcU15ebioqKkxOTo556qmnzMqVK9OW\\\n",
       "9erVywAGMCNHjjS1tbUmEomYLVu2mPLycgOYcDhsBg8e7K03Z84cb38vvPCCcRzHAKa0tNQUFRUZ\\\n",
       "wGRlZZk333zTW+/qq682gLFt25SXl5tgMGgAM2HCBG+fR7Pdqetee+21XlsA8+///u/eMr+1u7tt\\\n",
       "nz9/vsnKyvLqOHLkSFNeXm4CgYD55JNPfNn2A7W7trbW9O/f3wAmFAqZ008/3RQUFHhtmj9/vi/b\\\n",
       "vWbNGjN27Ni0nxEjRnh1vv3227tdjzVr1piSkhIDmLy8PDNgwACvnIceesjb50MPPeQ9P2DAAJOX\\\n",
       "l2cAU1JSYj766CMTiURMbW2tmTBhggFMMBg05eXlxrZtA5hrrrnmiJzr3Wn7iXqNO5Qf3wXYV77y\\\n",
       "Fe9AL1u2zHu+pqbGbN261Xz00Ufm3/7t30xVVZWJRCKmurraXHrppd4Lt3DhQhOJRMz3v/99AxjL\\\n",
       "sswbb7xhIpGIueWWW7yTc+3atSYSiZiKigoDmDPPPNNUV1ebTZs2mVNOOcUA5uKLLzaRSMQsWLBg\\\n",
       "r7D41a9+5T339NNPH/V2Jx8/8cQTBjBXXHFFlwHmt3Z3p+27d+82w4cPN4A599xzvdc+EomYrVu3\\\n",
       "em8uv7X9QO1OXsgA853vfMdEIhHzyiuveM89/vjjvmx3Vz/f+MY3vPquWrWq2/W48cYbDWByc3PN\\\n",
       "hx9+aCKRiJkxY4YBTFFRkdm5c6fZuXOnd9GeMWOGiUQi5sMPPzS5ubkGMDfeeKOJRCLm6aef9sr/\\\n",
       "9a9/bSKRiHnggQe85xYsWPCptP1EvcYdyo+vhhCNMd7QyIABA/jqV79K3759GTduHE8++SThcJhe\\\n",
       "vXpx6623kp+fD0AgEGDcuHFeGRkZGQD83//9HwCDBw/m1FNPBWDGjBmA21VetGgRW7duZfXq1QBM\\\n",
       "mzaNQCBAbm4u5513HgALFy4kHo97ZaWWMXXqVDIzMwF47bXXjnq7ATZv3sxtt93G6NGjufvuu7ss\\\n",
       "y0/t7m7bV61axZo1awDIy8tj8uTJ9OvXj4suuohly5Zh27bv2t6ddpeWljJgwAAA5s2bx6RJk7j6\\\n",
       "6qtxHIeZM2dy2WWX+a7dXWlqauLnP/85AFdddRX9+vXrdj2S65155pn06dMHwDsuNTU1vPfeeyxf\\\n",
       "vpyampq0svr06cPYsWO7LCscDnPRRRelrZ+63pHUVdtPxGvcofJVgFVXV7N7924A3n77bTZt2kRR\\\n",
       "UREfffQRd9xxB4899the29TX1/OrX/0KgHPOOYfhw4cDsGXLFgBKSkq8dXv27On9vnnzZm8dgOLi\\\n",
       "Yu/35DbNzc3U1NSkrZdcZts2RUVFXlmHozvtTiQSzJ49m1gsxs9//nMCgUCXZfmp3dC9tn/88cfe\\\n",
       "+i+99BIAwWCQd999lyuvvNK7X+Sntnen3cFgkD/96U+MGjWKtrY23n//fSKRCPn5+Zx++umEQiHf\\\n",
       "tbsrTz/9NLW1tViWxa233grQ7Xok10tt0/7annqMkr93LquwsND7UNS5rCOtq7Z3diJc4w6VrwIs\\\n",
       "Fot5vxcWFrJixQpWrFjBWWedBbBXgG3dupVLLrmE1atXM3z4cJ544glvmTFmr/I7P9fVOl3Z13rd\\\n",
       "3f5AutPuRx55hDfffJP777+fIUOGHFRdj9d2Q/fanrrOlClTWLFiBUuWLCE7O5toNMqTTz65z3od\\\n",
       "r23vTrsTiQRf//rXWblyJddffz1btmzhl7/8JbW1tXz729/mueee22edjtd2dxaPx/mv//ovwP3E\\\n",
       "P2LEiMOux5Fs+9FqN+y77alOlGvcofJVgBUXF3ufKocMGUJubi6O4zBq1CgANm7c6K373nvvcf75\\\n",
       "5/P+++9z9tln8+c//5levXp5y/v16wfArl27vOdSf+/bt6+3DpA2uye5XjgcpqioKG295LJEIkFt\\\n",
       "ba1X1tFu96pVqwC466676Nu3L+PHj/e2v/vuu70hDz+1G7rX9uTQEMDo0aOxLIvi4mJveC15Xvip\\\n",
       "7d1p98KFC3nllVcAmDVrFtnZ2UyfPt37hLxgwQLftbuz3/3ud97rd9ttt3nPd7ceyX+7alNyeVdl\\\n",
       "pf6eLCO5Xk1NDYlEosuyjqR9tT3pRLrGHSpfBVgwGGTixIkAfPzxxzQ0NJBIJPjggw8Ad6wX4OWX\\\n",
       "X2b69Ols27aNmTNn8oc//IHCwsK0ss4//3wAPvnkE+/inxx+CgQCTJ48mdLSUioqKgD43//9X2Kx\\\n",
       "GPX19bz++usATJ48GcdxuOCCC7xyk2XMnz+flpaWtH0d7XYDNDY20tjYSFNTk/dcW1ub99hP7e5u\\\n",
       "28844wzy8vIAeP/99wF3+nnyzZ88Pn5qe3favWfPHm/9ZcuWAbBhwwZv6DE7O9t37e7soYceAuDs\\\n",
       "s8/m7LPP9p7vbj2S/y5ZsoRt27YB7vUB3J7tmDFj+MxnPuNdH5Jlbdu2jaVLl3ZZVktLi/fBIbl+\\\n",
       "6vIjZV9tT7bhRLrGHbJjMXPkcH5ee+01k5GR4U1xTc6WAcxTTz1lPvzwQ2NZljfNtPOU1ORMoc2b\\\n",
       "N3vTSsPhsBkyZIhXzh133OHt7/nnn/emyqZOMQ2Hw2bx4sXeeldddZU3xXTo0KHeFNPx48cfkSmm\\\n",
       "B2p35/VTZ6ilzkL0W7u72/bU2WADBw40hYWFBtyp0++9954v236gdq9bt86bNm9ZlqmoqPBmzjmO\\\n",
       "402j91u7kz8vvPCCV89f/epXey3vTj1Wr17ttaPzNPoHH3zQK+s///M/vedTp9EXFRV5sxdramrM\\\n",
       "+PHjvVl8Q4cO9Y7XzJkzj+h1bn9tP1GvcYfy48ydO/eew8i/T12fPn0499xz2bhxI1VVVcRiMc44\\\n",
       "4wx++tOfMnXqVGpra3nkkUcAd3x269ataT+f+9znGDBgAKFQiMsvv5yamho2btzIzp07GTx4MHfe\\\n",
       "eSd33HEHlmUB7ifdsWPHUlVVxYYNGzDGcM455/Czn/2M0aNHe/WaNm0almWxceNG74b75z//eR5+\\\n",
       "+GFvps7RbHdndXV13hcWL7zwQs444wwA37W7u20fO3YsAwYMoKqqiqqqKnJzc7ngggt46qmnKCsr\\\n",
       "82XbD9TucDjMtGnT2LNnD3V1dWzevJnc3FzOPvtsHnroIW8Y2W/tTrrtttuoqqpi2LBhzJs3z6vn\\\n",
       "wdQjNzeXSy65hG3btlFVVUVdXR0VFRV8//vfZ9asWV5Zo0ePZtCgQWzYsIGqqioCgQAXXnghjz/+\\\n",
       "uDcUbds2M2bMoKmpiU2bNrF161b69u3LjTfeyH333YfjOJ9K20/Ua9yh0H+nIiIivuSre2AiIiJJ\\\n",
       "CjAREfElBZiIiPiSAkxERHxJASYiIr70/wEuo23ctwFirgAAAABJRU5ErkJggg==\\\n",
       "\"\n",
       "\n",
       "\n",
       "    /* set a timeout to make sure all the above elements are created before\n",
       "       the object is initialized. */\n",
       "    setTimeout(function() {\n",
       "        animbcb80efa16ec473680fe484578536fbe = new Animation(frames, img_id, slider_id, 500.0,\n",
       "                                 loop_select_id);\n",
       "    }, 0);\n",
       "  })()\n",
       "</script>\n"
      ],
      "text/plain": [
       "<IPython.core.display.HTML object>"
      ]
     },
     "execution_count": 63,
     "metadata": {},
     "output_type": "execute_result"
    }
   ],
   "source": [
    "#: display animation\n",
    "HTML(anim.to_jshtml())"
   ]
  },
  {
   "cell_type": "markdown",
   "metadata": {
    "slideshow": {
     "slide_type": "slide"
    }
   },
   "source": [
    "## Visualize the distribution\n",
    "\n",
    "- We can plot the distribution of the sample median with a histogram.\n",
    "- This is an approximation using 128 samples.\n",
    "- Sample median is usually in the range [62,000, 70,000]."
   ]
  },
  {
   "cell_type": "code",
   "execution_count": 64,
   "metadata": {},
   "outputs": [
    {
     "data": {
      "image/png": "[encoded data removed]",
      "text/plain": [
       "<Figure size 432x288 with 1 Axes>"
      ]
     },
     "metadata": {},
     "output_type": "display_data"
    }
   ],
   "source": [
    "#: plot a histogram\n",
    "Table().with_column('Sample Medians', sample_medians).hist(bins=15, unit='$')\n",
    "\n",
    "# show each sample median as an 'x'\n",
    "plt.scatter(sample_medians, np.zeros_like(sample_medians), marker='x', s=80, alpha=.5).set_zorder(2)"
   ]
  },
  {
   "cell_type": "markdown",
   "metadata": {
    "slideshow": {
     "slide_type": "slide"
    }
   },
   "source": [
    "## The problem\n",
    "\n",
    "- Drawing new samples like this is costly (why not just do a census?)\n",
    "- Often, we can't ask for new samples from the population.\n",
    "- The bootstrap:\n",
    "    - the sample itself looks like the population.\n",
    "    - so re-sampling from the sample is like drawing from the population."
   ]
  },
  {
   "cell_type": "code",
   "execution_count": 66,
   "metadata": {},
   "outputs": [],
   "source": [
    "#: a trick to plot the sample and the distribution side-by-side\n",
    "bins=np.arange(10_000, 300_000, 10_000)\n",
    "labels = ['Population']*population.num_rows + ['Sample']*sample_500.num_rows\n",
    "together = population.append(sample_500).with_column('Label', labels)"
   ]
  },
  {
   "cell_type": "code",
   "execution_count": 67,
   "metadata": {
    "scrolled": true
   },
   "outputs": [
    {
     "data": {
      "image/png": "[encoded data removed]",
      "text/plain": [
       "<Figure size 432x288 with 1 Axes>"
      ]
     },
     "metadata": {},
     "output_type": "display_data"
    }
   ],
   "source": [
    "#: plot\n",
    "together.hist('Total Pay', group='Label', bins=bins)"
   ]
  },
  {
   "cell_type": "markdown",
   "metadata": {
    "slideshow": {
     "slide_type": "slide"
    }
   },
   "source": [
    "## The bootstrap\n",
    "\n",
    "- We have a sample of 500 salaries, we want another.\n",
    "- Can't draw from the population.\n",
    "- But the original sample looks like the population.\n",
    "- So we re-sample the sample."
   ]
  },
  {
   "cell_type": "code",
   "execution_count": 68,
   "metadata": {},
   "outputs": [
    {
     "data": {
      "text/html": [
       "<table border=\"1\" class=\"dataframe\">\n",
       "    <thead>\n",
       "        <tr>\n",
       "            <th>Employee Name</th> <th>Job Title</th> <th>Base Pay</th> <th>Overtime Pay</th> <th>Other Pay</th> <th>Benefits</th> <th>Total Pay</th> <th>Total Pay & Benefits</th> <th>Year</th> <th>Notes</th> <th>Agency</th> <th>Status</th>\n",
       "        </tr>\n",
       "    </thead>\n",
       "    <tbody>\n",
       "        <tr>\n",
       "            <td>Darlene  Walker-Langford</td> <td>Payroll Spec 2          </td> <td>41050   </td> <td>0           </td> <td>10761    </td> <td>2502    </td> <td>51811    </td> <td>54313               </td> <td>2017</td> <td>nan  </td> <td>San Diego</td> <td>FT    </td>\n",
       "        </tr>\n",
       "        <tr>\n",
       "            <td>Brittany M Mitchell     </td> <td>Rec Aide                </td> <td>13456   </td> <td>9           </td> <td>25       </td> <td>808     </td> <td>13490    </td> <td>14298               </td> <td>2017</td> <td>nan  </td> <td>San Diego</td> <td>PT    </td>\n",
       "        </tr>\n",
       "        <tr>\n",
       "            <td>Dominic J Orban         </td> <td>Police Officer          </td> <td>58887   </td> <td>22692       </td> <td>11707    </td> <td>5391    </td> <td>93286    </td> <td>98677               </td> <td>2017</td> <td>nan  </td> <td>San Diego</td> <td>FT    </td>\n",
       "        </tr>\n",
       "        <tr>\n",
       "            <td>D'andre  Knight         </td> <td>Motor Sweeper Oper      </td> <td>44029   </td> <td>13939       </td> <td>4907     </td> <td>16372   </td> <td>62875    </td> <td>79247               </td> <td>2017</td> <td>nan  </td> <td>San Diego</td> <td>FT    </td>\n",
       "        </tr>\n",
       "        <tr>\n",
       "            <td>Brian S Taylor          </td> <td>Wstwtr Pretrmt Inspctr 2</td> <td>66216   </td> <td>0           </td> <td>10786    </td> <td>4024    </td> <td>77002    </td> <td>81026               </td> <td>2017</td> <td>nan  </td> <td>San Diego</td> <td>FT    </td>\n",
       "        </tr>\n",
       "        <tr>\n",
       "            <td>William J Carter        </td> <td>Police Officer          </td> <td>116813  </td> <td>0           </td> <td>38348    </td> <td>95      </td> <td>155161   </td> <td>155256              </td> <td>2017</td> <td>nan  </td> <td>San Diego</td> <td>FT    </td>\n",
       "        </tr>\n",
       "        <tr>\n",
       "            <td>Allison M Palmer        </td> <td>Park Ranger             </td> <td>49639   </td> <td>192         </td> <td>6685     </td> <td>6449    </td> <td>56516    </td> <td>62965               </td> <td>2017</td> <td>nan  </td> <td>San Diego</td> <td>FT    </td>\n",
       "        </tr>\n",
       "        <tr>\n",
       "            <td>Hong Khanh T Le         </td> <td>Asst Eng-Civil          </td> <td>56768   </td> <td>0           </td> <td>2729     </td> <td>10055   </td> <td>59497    </td> <td>69552               </td> <td>2017</td> <td>nan  </td> <td>San Diego</td> <td>FT    </td>\n",
       "        </tr>\n",
       "        <tr>\n",
       "            <td>Remedios A Villacruz    </td> <td>Library Assistant       </td> <td>24378   </td> <td>472         </td> <td>10547    </td> <td>2096    </td> <td>35397    </td> <td>37493               </td> <td>2017</td> <td>nan  </td> <td>San Diego</td> <td>PT    </td>\n",
       "        </tr>\n",
       "        <tr>\n",
       "            <td>Riter J Flores          </td> <td>Police Officer          </td> <td>75941   </td> <td>15992       </td> <td>31470    </td> <td>1637    </td> <td>123403   </td> <td>125040              </td> <td>2017</td> <td>nan  </td> <td>San Diego</td> <td>FT    </td>\n",
       "        </tr>\n",
       "    </tbody>\n",
       "</table>\n",
       "<p>... (490 rows omitted)</p>"
      ],
      "text/plain": [
       "Employee Name            | Job Title                | Base Pay | Overtime Pay | Other Pay | Benefits | Total Pay | Total Pay & Benefits | Year | Notes | Agency    | Status\n",
       "Darlene  Walker-Langford | Payroll Spec 2           | 41050    | 0            | 10761     | 2502     | 51811     | 54313                | 2017 | nan   | San Diego | FT\n",
       "Brittany M Mitchell      | Rec Aide                 | 13456    | 9            | 25        | 808      | 13490     | 14298                | 2017 | nan   | San Diego | PT\n",
       "Dominic J Orban          | Police Officer           | 58887    | 22692        | 11707     | 5391     | 93286     | 98677                | 2017 | nan   | San Diego | FT\n",
       "D'andre  Knight          | Motor Sweeper Oper       | 44029    | 13939        | 4907      | 16372    | 62875     | 79247                | 2017 | nan   | San Diego | FT\n",
       "Brian S Taylor           | Wstwtr Pretrmt Inspctr 2 | 66216    | 0            | 10786     | 4024     | 77002     | 81026                | 2017 | nan   | San Diego | FT\n",
       "William J Carter         | Police Officer           | 116813   | 0            | 38348     | 95       | 155161    | 155256               | 2017 | nan   | San Diego | FT\n",
       "Allison M Palmer         | Park Ranger              | 49639    | 192          | 6685      | 6449     | 56516     | 62965                | 2017 | nan   | San Diego | FT\n",
       "Hong Khanh T Le          | Asst Eng-Civil           | 56768    | 0            | 2729      | 10055    | 59497     | 69552                | 2017 | nan   | San Diego | FT\n",
       "Remedios A Villacruz     | Library Assistant        | 24378    | 472          | 10547     | 2096     | 35397     | 37493                | 2017 | nan   | San Diego | PT\n",
       "Riter J Flores           | Police Officer           | 75941    | 15992        | 31470     | 1637     | 123403    | 125040               | 2017 | nan   | San Diego | FT\n",
       "... (490 rows omitted)"
      ]
     },
     "execution_count": 68,
     "metadata": {},
     "output_type": "execute_result"
    }
   ],
   "source": [
    "sample_500"
   ]
  },
  {
   "cell_type": "markdown",
   "metadata": {
    "slideshow": {
     "slide_type": "slide"
    }
   },
   "source": [
    "## Discussion question\n",
    "\n",
    "Which of these effectively resamples the sample, simulating the drawing of a new sample of 500 people?\n",
    "\n",
    "- A) `np.random.choice(sample_500, 500, replace=True)`\n",
    "- B) `np.random.choice(sample_500, 500, replace=False)`\n",
    "- C) `sample_500.sample(with_replacement=True)`\n",
    "- D) `sample_500.sample(with_replacement=False)`"
   ]
  },
  {
   "cell_type": "markdown",
   "metadata": {
    "slideshow": {
     "slide_type": "slide"
    }
   },
   "source": [
    "## Answer\n",
    "\n",
    "- If we sample without replacement, we're just shuffling.\n",
    "- So we sample *with* replacement to get something new."
   ]
  },
  {
   "cell_type": "markdown",
   "metadata": {
    "slideshow": {
     "slide_type": "slide"
    }
   },
   "source": [
    "## Running the bootstrap\n",
    "\n",
    "- Now we can simulate new samples by bootstrapping\n",
    "- I.e., we sample with replacement from our original sample"
   ]
  },
  {
   "cell_type": "code",
   "execution_count": 69,
   "metadata": {},
   "outputs": [],
   "source": [
    "n_resamples = 5000\n",
    "\n",
    "boot_medians = make_array()\n",
    "for i in range(n_resamples):\n",
    "    # perform bootstrap resampling\n",
    "    resample = sample_500.sample(500, with_replacement=True)\n",
    "    \n",
    "    # compute the median\n",
    "    median = np.median(resample.column('Total Pay'))\n",
    "    \n",
    "    # tack it on to our list of medians\n",
    "    boot_medians = np.append(boot_medians, median)"
   ]
  },
  {
   "cell_type": "markdown",
   "metadata": {
    "slideshow": {
     "slide_type": "slide"
    }
   },
   "source": [
    "## Bootstrap distribution of the sample median\n",
    "\n",
    "- Most of the time, the sample median is in the range [60,000, 70,000].\n",
    "- Similar to what we found before.\n",
    "- The population median (red dot) is near the middle."
   ]
  },
  {
   "cell_type": "code",
   "execution_count": 70,
   "metadata": {
    "scrolled": true
   },
   "outputs": [
    {
     "data": {
      "image/png": "[encoded data removed]",
      "text/plain": [
       "<Figure size 432x288 with 1 Axes>"
      ]
     },
     "metadata": {},
     "output_type": "display_data"
    }
   ],
   "source": [
    "#: visualize\n",
    "Table().with_column('Bootstrap Medians', boot_medians).hist(unit='$')\n",
    "plt.scatter(population_median, 0, color='red', s=80).set_zorder(2)"
   ]
  },
  {
   "cell_type": "markdown",
   "metadata": {
    "slideshow": {
     "slide_type": "slide"
    }
   },
   "source": [
    "## Bootstrap rules of thumb\n",
    "\n",
    "- The bootstrap is an awesome tool:\n",
    "    - We used just one sample to get the (approximate) distribution of the sample median.\n",
    "- But it has limitations:\n",
    "    - Requires sample to be good approximation of population.\n",
    "            - A large random sample will look like the population, by the Law of Averages/Large Numbers.\n",
    "    - Not good for sensitive parameters, like maximum.\n",
    "            - Don't want the parameter to be influenced by rare values in the population.\n",
    "    - Works best when probability distribution of the statistic is roughly bell-shaped.\n",
    "    - Can be slow (recommend 10,000+ bootstrap samples)"
   ]
  },
  {
   "cell_type": "markdown",
   "metadata": {
    "slideshow": {
     "slide_type": "slide"
    }
   },
   "source": [
    "## Example: bootstrapping in the German plane problem, version 1\n",
    "\n",
    "- Suppose the population consists of 400 planes $\\leftarrow$ **parameter**\n",
    "- We observe a random sample of 30 planes\n",
    "- Our estimator will be the *twice the sample mean* $\\leftarrow$ **statistic**"
   ]
  },
  {
   "cell_type": "code",
   "execution_count": 71,
   "metadata": {},
   "outputs": [],
   "source": [
    "#: 400 planes\n",
    "tank_population = Table().with_column('Serial Number', np.arange(400)+1)"
   ]
  },
  {
   "cell_type": "code",
   "execution_count": 72,
   "metadata": {},
   "outputs": [],
   "source": [
    "#: sample 30 planes\n",
    "np.random.seed(48)\n",
    "tank_sample = tank_population.sample(30, with_replacement=False) #original sample"
   ]
  },
  {
   "cell_type": "code",
   "execution_count": 73,
   "metadata": {
    "scrolled": true
   },
   "outputs": [
    {
     "data": {
      "text/plain": [
       "415.1333333333333"
      ]
     },
     "execution_count": 73,
     "metadata": {},
     "output_type": "execute_result"
    }
   ],
   "source": [
    "2*tank_sample.column('Serial Number').mean()"
   ]
  },
  {
   "cell_type": "markdown",
   "metadata": {
    "slideshow": {
     "slide_type": "slide"
    }
   },
   "source": [
    "## Running the bootstrap"
   ]
  },
  {
   "cell_type": "code",
   "execution_count": 74,
   "metadata": {},
   "outputs": [],
   "source": [
    "n_resamples = 5000\n",
    "\n",
    "boot_doubled_means = make_array()\n",
    "for i in range(n_resamples):\n",
    "    # resample\n",
    "    resample = tank_sample.sample(with_replacement=True)\n",
    "    \n",
    "    # compute doubled mean\n",
    "    boot_doubled_mean = 2*resample.column('Serial Number').mean()\n",
    "    \n",
    "    boot_doubled_means = np.append(boot_doubled_means, boot_doubled_mean)"
   ]
  },
  {
   "cell_type": "markdown",
   "metadata": {
    "slideshow": {
     "slide_type": "slide"
    }
   },
   "source": [
    "## Visualize\n",
    "\n",
    "- The bootstrap distribution surrounds the true parameter, 400."
   ]
  },
  {
   "cell_type": "code",
   "execution_count": 75,
   "metadata": {},
   "outputs": [
    {
     "data": {
      "text/plain": [
       "<matplotlib.collections.PathCollection at 0x21db80840f0>"
      ]
     },
     "execution_count": 75,
     "metadata": {},
     "output_type": "execute_result"
    },
    {
     "data": {
      "image/png": "[encoded data removed]",
      "text/plain": [
       "<Figure size 432x288 with 1 Axes>"
      ]
     },
     "metadata": {},
     "output_type": "display_data"
    }
   ],
   "source": [
    "Table().with_column('Bootstrap Doubled Means', boot_doubled_means).hist(bins=np.arange(250, 550, 10))\n",
    "plt.scatter(400, 0, color='red')"
   ]
  },
  {
   "cell_type": "markdown",
   "metadata": {
    "slideshow": {
     "slide_type": "slide"
    }
   },
   "source": [
    "## Example: bootstrapping in the German plane problem, version 2\n",
    "\n",
    "- Suppose the population consists of 400 planes $\\leftarrow$ **parameter**\n",
    "- We observe a random sample of 30 planes\n",
    "- Our estimator will be the *maximum in the sample* $\\leftarrow$ **statistic**"
   ]
  },
  {
   "cell_type": "code",
   "execution_count": 76,
   "metadata": {},
   "outputs": [],
   "source": [
    "#: 400 planes\n",
    "tank_population = Table().with_column('Serial Number', np.arange(400)+1)"
   ]
  },
  {
   "cell_type": "code",
   "execution_count": 77,
   "metadata": {},
   "outputs": [],
   "source": [
    "#: sample 30 planes\n",
    "np.random.seed(48)\n",
    "tank_sample = tank_population.sample(30, with_replacement=False)"
   ]
  },
  {
   "cell_type": "code",
   "execution_count": 78,
   "metadata": {
    "scrolled": true
   },
   "outputs": [
    {
     "data": {
      "text/plain": [
       "array([ 35,  62,  85,  86,  92,  95,  99, 114, 132, 151, 168, 173, 183,\n",
       "       192, 199, 200, 207, 223, 231, 244, 261, 277, 281, 314, 325, 331,\n",
       "       344, 353, 384, 386])"
      ]
     },
     "execution_count": 78,
     "metadata": {},
     "output_type": "execute_result"
    }
   ],
   "source": [
    "np.sort(tank_sample.column('Serial Number'))#.max()"
   ]
  },
  {
   "cell_type": "markdown",
   "metadata": {
    "slideshow": {
     "slide_type": "slide"
    }
   },
   "source": [
    "## Running the bootstrap"
   ]
  },
  {
   "cell_type": "code",
   "execution_count": 79,
   "metadata": {},
   "outputs": [],
   "source": [
    "n_resamples = 5000\n",
    "\n",
    "boot_maxes = make_array()\n",
    "for i in range(n_resamples):\n",
    "    # resample\n",
    "    resample = tank_sample.sample(with_replacement=True)\n",
    "    \n",
    "    # compute max\n",
    "    boot_max = resample.column('Serial Number').max()\n",
    "    \n",
    "    boot_maxes = np.append(boot_maxes, boot_max)"
   ]
  },
  {
   "cell_type": "markdown",
   "metadata": {},
   "source": [
    "What is the shape of the histogram of boot_maxes going to be?   \n",
    "A. left-skewed (long tail on left side)  \n",
    "B. right-skewed (long tail on right side)  \n",
    "C. symmetric"
   ]
  },
  {
   "cell_type": "markdown",
   "metadata": {
    "slideshow": {
     "slide_type": "slide"
    }
   },
   "source": [
    "## Visualize\n",
    "\n",
    "- The bootstrap distribution doesn't surround the true parameter, 400. Why?"
   ]
  },
  {
   "cell_type": "code",
   "execution_count": 80,
   "metadata": {},
   "outputs": [
    {
     "data": {
      "text/plain": [
       "<matplotlib.collections.PathCollection at 0x21dbafd8cf8>"
      ]
     },
     "execution_count": 80,
     "metadata": {},
     "output_type": "execute_result"
    },
    {
     "data": {
      "image/png": "[encoded data removed]",
      "text/plain": [
       "<Figure size 432x288 with 1 Axes>"
      ]
     },
     "metadata": {},
     "output_type": "display_data"
    }
   ],
   "source": [
    "Table().with_column('Bootstrap Max', boot_maxes).hist(bins=np.arange(300, 405, 5))\n",
    "plt.scatter(400, 0, color='red')"
   ]
  },
  {
   "cell_type": "markdown",
   "metadata": {
    "slideshow": {
     "slide_type": "slide"
    }
   },
   "source": [
    "# Confidence Intervals"
   ]
  },
  {
   "cell_type": "markdown",
   "metadata": {},
   "source": [
    "## Confidence intervals\n",
    "\n",
    "- Bootstrapping approximates the distribution of an estimate\n",
    "- The true parameter typically lies in the bulk of the distribution\n",
    "- We can give an interval that we are confident that the correct value lies within"
   ]
  },
  {
   "cell_type": "markdown",
   "metadata": {
    "slideshow": {
     "slide_type": "slide"
    }
   },
   "source": [
    "## A 95% confidence interval for median salary\n",
    "\n",
    "- Recall our bootstrap distribution of the sample median\n",
    "- Suppose by \"bulk\", we mean containing the middle 95% of the area."
   ]
  },
  {
   "cell_type": "code",
   "execution_count": 81,
   "metadata": {},
   "outputs": [
    {
     "data": {
      "image/png": "[encoded data removed]",
      "text/plain": [
       "<Figure size 432x288 with 1 Axes>"
      ]
     },
     "metadata": {},
     "output_type": "display_data"
    }
   ],
   "source": [
    "#: visualize\n",
    "Table().with_column('Bootstrap Medians', boot_medians).hist()"
   ]
  },
  {
   "cell_type": "markdown",
   "metadata": {
    "slideshow": {
     "slide_type": "slide"
    }
   },
   "source": [
    "## Finding the endpoints\n",
    "\n",
    "- We want to find two points, $x$ and $y$, such that the area:\n",
    "    - to the left of $x$ is about 2.5%\n",
    "    - to the right of $y$ is about 2.5%\n",
    "- Then the interval $[x,y]$ will have about 95% of the total area\n",
    "- I.e., we want the 2.5th percentile and 97.5th percentile."
   ]
  },
  {
   "cell_type": "markdown",
   "metadata": {
    "slideshow": {
     "slide_type": "slide"
    }
   },
   "source": [
    "## Computing percentiles\n",
    "\n",
    "- Use `percentile()` function:\n",
    "    - First argument: percentile to find, a number in [0, 100]\n",
    "    - Second argument: array of values"
   ]
  },
  {
   "cell_type": "code",
   "execution_count": 82,
   "metadata": {},
   "outputs": [
    {
     "data": {
      "text/plain": [
       "60844.5"
      ]
     },
     "execution_count": 82,
     "metadata": {},
     "output_type": "execute_result"
    }
   ],
   "source": [
    "left = percentile(2.5, boot_medians)\n",
    "left"
   ]
  },
  {
   "cell_type": "code",
   "execution_count": 83,
   "metadata": {},
   "outputs": [
    {
     "data": {
      "text/plain": [
       "67642.0"
      ]
     },
     "execution_count": 83,
     "metadata": {},
     "output_type": "execute_result"
    }
   ],
   "source": [
    "right = percentile(97.5, boot_medians)\n",
    "right"
   ]
  },
  {
   "cell_type": "code",
   "execution_count": 84,
   "metadata": {},
   "outputs": [
    {
     "data": {
      "text/plain": [
       "6797.5"
      ]
     },
     "execution_count": 84,
     "metadata": {},
     "output_type": "execute_result"
    }
   ],
   "source": [
    "right-left #about seven thousand wide"
   ]
  },
  {
   "cell_type": "code",
   "execution_count": 85,
   "metadata": {},
   "outputs": [
    {
     "data": {
      "text/plain": [
       "[60844.5, 67642.0]"
      ]
     },
     "execution_count": 85,
     "metadata": {},
     "output_type": "execute_result"
    }
   ],
   "source": [
    "#: our interval is\n",
    "[left, right]"
   ]
  },
  {
   "cell_type": "markdown",
   "metadata": {
    "slideshow": {
     "slide_type": "slide"
    }
   },
   "source": [
    "## Visualizing our 95% confidence interval\n",
    "\n",
    "- Let's draw the interval on the histogram.\n",
    "- 95% of the bootstrap medians fell into this interval."
   ]
  },
  {
   "cell_type": "code",
   "execution_count": 86,
   "metadata": {},
   "outputs": [
    {
     "data": {
      "text/plain": [
       "[<matplotlib.lines.Line2D at 0x21dbb327ba8>]"
      ]
     },
     "execution_count": 86,
     "metadata": {},
     "output_type": "execute_result"
    },
    {
     "data": {
      "image/png": "[encoded data removed]",
      "text/plain": [
       "<Figure size 432x288 with 1 Axes>"
      ]
     },
     "metadata": {},
     "output_type": "display_data"
    }
   ],
   "source": [
    "#: visualize\n",
    "Table().with_column('Bootstrap Medians', boot_medians).hist()\n",
    "plt.plot([left, right], [0, 0], color='lime', linewidth=10)"
   ]
  },
  {
   "cell_type": "markdown",
   "metadata": {
    "slideshow": {
     "slide_type": "slide"
    }
   },
   "source": [
    "## Discussion question\n",
    "\n",
    "Would an 80% confidence interval be bigger, smaller, or the same size?\n",
    "\n",
    "- A) Bigger\n",
    "- B) Smaller\n",
    "- C) The same size"
   ]
  },
  {
   "cell_type": "markdown",
   "metadata": {
    "slideshow": {
     "slide_type": "slide"
    }
   },
   "source": [
    "## Discussion Question\n",
    "\n",
    "Suppose you had the true probability distribution of the sample median and used it to compute a 100% confidence interval. And suppose you compute a 100% confidence interval using the bootstrap. Which is bigger?\n",
    "\n",
    "- A) The first confidence interval (from the true probability distribution).\n",
    "- B) The second confidence interval (from the boostrap).\n",
    "- C) They're the same size."
   ]
  },
  {
   "cell_type": "markdown",
   "metadata": {
    "slideshow": {
     "slide_type": "slide"
    }
   },
   "source": [
    "## Interpreting confidence intervals\n",
    "\n",
    "- 95% of our bootstrap medians fell within this interval\n",
    "- We're pretty confident that the true median does, too.\n",
    "- How confident should we be about this?"
   ]
  },
  {
   "cell_type": "markdown",
   "metadata": {
    "slideshow": {
     "slide_type": "slide"
    }
   },
   "source": [
    "## Capturing the correct value\n",
    "\n",
    "- If we run the bootstrap again, we get a different distribution.\n",
    "- And so we get a different 95% confidence interval.\n",
    "- 95% of the time, the interval will capture the correct median."
   ]
  },
  {
   "cell_type": "markdown",
   "metadata": {
    "slideshow": {
     "slide_type": "slide"
    }
   },
   "source": [
    "## Interpreting confidence intervals\n",
    "\n",
    "- Doesn't have to be for the same experiment!\n",
    "- Suppose you only ever make 95% confidence intervals.\n",
    "- Then roughly 95% of the CIs you make in your life will contain the true value of the thing being estimated."
   ]
  },
  {
   "cell_type": "markdown",
   "metadata": {
    "slideshow": {
     "slide_type": "slide"
    }
   },
   "source": [
    "## Misinterpreting confidence intervals\n",
    "\n",
    "- A 95% confidence interval has a 95% chance of containing the true value of the thing being estimated.\n",
    "- The interval is random, not the thing being estimated!"
   ]
  },
  {
   "cell_type": "markdown",
   "metadata": {
    "slideshow": {
     "slide_type": "slide"
    }
   },
   "source": [
    "## Misinterpreting confidence intervals\n",
    "\n",
    "- Our 95% confidence interval for the median salary was:"
   ]
  },
  {
   "cell_type": "code",
   "execution_count": 88,
   "metadata": {},
   "outputs": [
    {
     "data": {
      "text/plain": [
       "[60844.5, 67642.0]"
      ]
     },
     "execution_count": 88,
     "metadata": {},
     "output_type": "execute_result"
    }
   ],
   "source": [
    "#: remember...\n",
    "[left, right]"
   ]
  },
  {
   "cell_type": "markdown",
   "metadata": {},
   "source": [
    "- This does not mean that 95% of salaries are in this range!"
   ]
  },
  {
   "cell_type": "markdown",
   "metadata": {
    "slideshow": {
     "slide_type": "slide"
    }
   },
   "source": [
    "## The Big Simulation"
   ]
  },
  {
   "cell_type": "code",
   "execution_count": 87,
   "metadata": {},
   "outputs": [
    {
     "name": "stdout",
     "output_type": "stream",
     "text": [
      "Iteration: 0\n",
      "Iteration: 1\n",
      "Iteration: 2\n",
      "Iteration: 3\n",
      "Iteration: 4\n",
      "Iteration: 5\n",
      "Iteration: 6\n",
      "Iteration: 7\n",
      "Iteration: 8\n",
      "Iteration: 9\n",
      "Iteration: 10\n",
      "Iteration: 11\n",
      "Iteration: 12\n",
      "Iteration: 13\n",
      "Iteration: 14\n",
      "Iteration: 15\n",
      "Iteration: 16\n",
      "Iteration: 17\n",
      "Iteration: 18\n",
      "Iteration: 19\n",
      "Iteration: 20\n",
      "Iteration: 21\n",
      "Iteration: 22\n",
      "Iteration: 23\n",
      "Iteration: 24\n",
      "Iteration: 25\n",
      "Iteration: 26\n",
      "Iteration: 27\n",
      "Iteration: 28\n",
      "Iteration: 29\n",
      "Iteration: 30\n",
      "Iteration: 31\n",
      "Iteration: 32\n",
      "Iteration: 33\n",
      "Iteration: 34\n",
      "Iteration: 35\n",
      "Iteration: 36\n",
      "Iteration: 37\n",
      "Iteration: 38\n",
      "Iteration: 39\n",
      "Iteration: 40\n",
      "Iteration: 41\n",
      "Iteration: 42\n",
      "Iteration: 43\n",
      "Iteration: 44\n",
      "Iteration: 45\n",
      "Iteration: 46\n",
      "Iteration: 47\n",
      "Iteration: 48\n",
      "Iteration: 49\n",
      "Iteration: 50\n",
      "Iteration: 51\n",
      "Iteration: 52\n",
      "Iteration: 53\n",
      "Iteration: 54\n",
      "Iteration: 55\n",
      "Iteration: 56\n",
      "Iteration: 57\n",
      "Iteration: 58\n",
      "Iteration: 59\n",
      "Iteration: 60\n",
      "Iteration: 61\n",
      "Iteration: 62\n",
      "Iteration: 63\n",
      "Iteration: 64\n",
      "Iteration: 65\n",
      "Iteration: 66\n",
      "Iteration: 67\n",
      "Iteration: 68\n",
      "Iteration: 69\n",
      "Iteration: 70\n",
      "Iteration: 71\n",
      "Iteration: 72\n",
      "Iteration: 73\n",
      "Iteration: 74\n",
      "Iteration: 75\n",
      "Iteration: 76\n",
      "Iteration: 77\n",
      "Iteration: 78\n",
      "Iteration: 79\n",
      "Iteration: 80\n",
      "Iteration: 81\n",
      "Iteration: 82\n",
      "Iteration: 83\n",
      "Iteration: 84\n",
      "Iteration: 85\n",
      "Iteration: 86\n",
      "Iteration: 87\n",
      "Iteration: 88\n",
      "Iteration: 89\n",
      "Iteration: 90\n",
      "Iteration: 91\n",
      "Iteration: 92\n",
      "Iteration: 93\n",
      "Iteration: 94\n",
      "Iteration: 95\n",
      "Iteration: 96\n",
      "Iteration: 97\n",
      "Iteration: 98\n",
      "Iteration: 99\n"
     ]
    }
   ],
   "source": [
    "def bootstrap_median(sample_from_population, label, repetitions):\n",
    "    resampled_medians = []\n",
    "    for i in np.arange(repetitions):\n",
    "        resample = sample_from_population.sample()\n",
    "        median = np.median(resample.column(label))\n",
    "        resampled_medians.append(median)\n",
    "    return resampled_medians\n",
    "\n",
    "left_ends = make_array()\n",
    "right_ends = make_array()\n",
    "\n",
    "all_salaries = population.select('Total Pay')\n",
    "for i in np.arange(100):\n",
    "    sample_from_pop = all_salaries.sample(200, with_replacement=False)\n",
    "    medians = bootstrap_median(sample_from_pop, 'Total Pay', 5000)\n",
    "    left_ends = np.append(left_ends, percentile(2.5, medians))\n",
    "    right_ends = np.append(right_ends, percentile(97.5, medians))\n",
    "    print('Iteration:', i)\n",
    "\n",
    "intervals = Table().with_columns(\n",
    "    'Left', left_ends,\n",
    "    'Right', right_ends\n",
    ")"
   ]
  },
  {
   "cell_type": "code",
   "execution_count": 89,
   "metadata": {},
   "outputs": [
    {
     "data": {
      "text/html": [
       "<table border=\"1\" class=\"dataframe\">\n",
       "    <thead>\n",
       "        <tr>\n",
       "            <th>Left</th> <th>Right</th>\n",
       "        </tr>\n",
       "    </thead>\n",
       "    <tbody>\n",
       "        <tr>\n",
       "            <td>64322</td> <td>75252  </td>\n",
       "        </tr>\n",
       "        <tr>\n",
       "            <td>64320</td> <td>78902  </td>\n",
       "        </tr>\n",
       "        <tr>\n",
       "            <td>64179</td> <td>75515.5</td>\n",
       "        </tr>\n",
       "    </tbody>\n",
       "</table>\n",
       "<p>... (97 rows omitted)</p>"
      ],
      "text/plain": [
       "<IPython.core.display.HTML object>"
      ]
     },
     "metadata": {},
     "output_type": "display_data"
    }
   ],
   "source": [
    "intervals.show(3)"
   ]
  },
  {
   "cell_type": "code",
   "execution_count": 90,
   "metadata": {},
   "outputs": [
    {
     "data": {
      "text/plain": [
       "96"
      ]
     },
     "execution_count": 90,
     "metadata": {},
     "output_type": "execute_result"
    }
   ],
   "source": [
    "(intervals\n",
    " .where('Left', are.below(population_median))\n",
    " .where('Right', are.above(population_median))\n",
    " .num_rows)\n",
    "#How many intervals contained the median? "
   ]
  },
  {
   "cell_type": "code",
   "execution_count": 91,
   "metadata": {},
   "outputs": [
    {
     "data": {
      "image/png": "[encoded data removed]",
      "text/plain": [
       "<Figure size 576x576 with 1 Axes>"
      ]
     },
     "metadata": {},
     "output_type": "display_data"
    }
   ],
   "source": [
    "replication_number = np.ndarray.astype(np.arange(1, 101), str)\n",
    "\n",
    "intervals2 = Table(replication_number).with_rows(make_array(left_ends, right_ends))\n",
    "\n",
    "plt.figure(figsize=(8,8))\n",
    "n=100\n",
    "for i in np.arange(n):\n",
    "    ends = intervals2.column(i)\n",
    "    plt.plot(ends, make_array(i+1, i+1), color='gold')\n",
    "plt.plot(make_array(population_median, population_median), make_array(0, n), color='red', lw=2)\n",
    "plt.xlabel('Median (dollars)')\n",
    "plt.ylabel('Replication')\n",
    "plt.title('Population Median and Intervals of Estimates');"
   ]
  },
  {
   "cell_type": "markdown",
   "metadata": {
    "slideshow": {
     "slide_type": "slide"
    }
   },
   "source": [
    "## Average Age of Moms"
   ]
  },
  {
   "cell_type": "code",
   "execution_count": 92,
   "metadata": {
    "slideshow": {
     "slide_type": "-"
    }
   },
   "outputs": [
    {
     "data": {
      "text/html": [
       "<table border=\"1\" class=\"dataframe\">\n",
       "    <thead>\n",
       "        <tr>\n",
       "            <th>Birth Weight</th> <th>Gestational Days</th> <th>Maternal Age</th> <th>Maternal Height</th> <th>Maternal Pregnancy Weight</th> <th>Maternal Smoker</th>\n",
       "        </tr>\n",
       "    </thead>\n",
       "    <tbody>\n",
       "        <tr>\n",
       "            <td>120         </td> <td>284             </td> <td>27          </td> <td>62             </td> <td>100                      </td> <td>False          </td>\n",
       "        </tr>\n",
       "        <tr>\n",
       "            <td>113         </td> <td>282             </td> <td>33          </td> <td>64             </td> <td>135                      </td> <td>False          </td>\n",
       "        </tr>\n",
       "        <tr>\n",
       "            <td>128         </td> <td>279             </td> <td>28          </td> <td>64             </td> <td>115                      </td> <td>True           </td>\n",
       "        </tr>\n",
       "        <tr>\n",
       "            <td>108         </td> <td>282             </td> <td>23          </td> <td>67             </td> <td>125                      </td> <td>True           </td>\n",
       "        </tr>\n",
       "        <tr>\n",
       "            <td>136         </td> <td>286             </td> <td>25          </td> <td>62             </td> <td>93                       </td> <td>False          </td>\n",
       "        </tr>\n",
       "        <tr>\n",
       "            <td>138         </td> <td>244             </td> <td>33          </td> <td>62             </td> <td>178                      </td> <td>False          </td>\n",
       "        </tr>\n",
       "        <tr>\n",
       "            <td>132         </td> <td>245             </td> <td>23          </td> <td>65             </td> <td>140                      </td> <td>False          </td>\n",
       "        </tr>\n",
       "        <tr>\n",
       "            <td>120         </td> <td>289             </td> <td>25          </td> <td>62             </td> <td>125                      </td> <td>False          </td>\n",
       "        </tr>\n",
       "        <tr>\n",
       "            <td>143         </td> <td>299             </td> <td>30          </td> <td>66             </td> <td>136                      </td> <td>True           </td>\n",
       "        </tr>\n",
       "        <tr>\n",
       "            <td>140         </td> <td>351             </td> <td>27          </td> <td>68             </td> <td>120                      </td> <td>False          </td>\n",
       "        </tr>\n",
       "    </tbody>\n",
       "</table>\n",
       "<p>... (1164 rows omitted)</p>"
      ],
      "text/plain": [
       "Birth Weight | Gestational Days | Maternal Age | Maternal Height | Maternal Pregnancy Weight | Maternal Smoker\n",
       "120          | 284              | 27           | 62              | 100                       | False\n",
       "113          | 282              | 33           | 64              | 135                       | False\n",
       "128          | 279              | 28           | 64              | 115                       | True\n",
       "108          | 282              | 23           | 67              | 125                       | True\n",
       "136          | 286              | 25           | 62              | 93                        | False\n",
       "138          | 244              | 33           | 62              | 178                       | False\n",
       "132          | 245              | 23           | 65              | 140                       | False\n",
       "120          | 289              | 25           | 62              | 125                       | False\n",
       "143          | 299              | 30           | 66              | 136                       | True\n",
       "140          | 351              | 27           | 68              | 120                       | False\n",
       "... (1164 rows omitted)"
      ]
     },
     "execution_count": 92,
     "metadata": {},
     "output_type": "execute_result"
    }
   ],
   "source": [
    "births = Table.read_table('baby.csv')\n",
    "births"
   ]
  },
  {
   "cell_type": "code",
   "execution_count": 93,
   "metadata": {},
   "outputs": [
    {
     "data": {
      "text/html": [
       "<table border=\"1\" class=\"dataframe\">\n",
       "    <thead>\n",
       "        <tr>\n",
       "            <th>Maternal Age</th>\n",
       "        </tr>\n",
       "    </thead>\n",
       "    <tbody>\n",
       "        <tr>\n",
       "            <td>27          </td>\n",
       "        </tr>\n",
       "        <tr>\n",
       "            <td>33          </td>\n",
       "        </tr>\n",
       "        <tr>\n",
       "            <td>28          </td>\n",
       "        </tr>\n",
       "        <tr>\n",
       "            <td>23          </td>\n",
       "        </tr>\n",
       "        <tr>\n",
       "            <td>25          </td>\n",
       "        </tr>\n",
       "        <tr>\n",
       "            <td>33          </td>\n",
       "        </tr>\n",
       "        <tr>\n",
       "            <td>23          </td>\n",
       "        </tr>\n",
       "        <tr>\n",
       "            <td>25          </td>\n",
       "        </tr>\n",
       "        <tr>\n",
       "            <td>30          </td>\n",
       "        </tr>\n",
       "        <tr>\n",
       "            <td>27          </td>\n",
       "        </tr>\n",
       "    </tbody>\n",
       "</table>\n",
       "<p>... (1164 rows omitted)</p>"
      ],
      "text/plain": [
       "Maternal Age\n",
       "27\n",
       "33\n",
       "28\n",
       "23\n",
       "25\n",
       "33\n",
       "23\n",
       "25\n",
       "30\n",
       "27\n",
       "... (1164 rows omitted)"
      ]
     },
     "execution_count": 93,
     "metadata": {},
     "output_type": "execute_result"
    }
   ],
   "source": [
    "ages = births.select('Maternal Age')\n",
    "ages#.hist()"
   ]
  },
  {
   "cell_type": "markdown",
   "metadata": {
    "slideshow": {
     "slide_type": "slide"
    }
   },
   "source": [
    "## Bootstrapping the Mean"
   ]
  },
  {
   "cell_type": "code",
   "execution_count": 94,
   "metadata": {},
   "outputs": [],
   "source": [
    "sample_size = ages.num_rows\n",
    "n_resamples = 5000\n",
    "\n",
    "boot_means = make_array()\n",
    "for i in np.arange(n_resamples):\n",
    "    # perform bootstrap resampling\n",
    "    resample = ages.sample(sample_size, with_replacement=True)\n",
    "    \n",
    "    # compute the mean\n",
    "    mean = np.mean(resample.column('Maternal Age'))\n",
    "    \n",
    "    # append to our array of means\n",
    "    boot_means = np.append(boot_means, mean)"
   ]
  },
  {
   "cell_type": "code",
   "execution_count": 95,
   "metadata": {},
   "outputs": [
    {
     "data": {
      "text/plain": [
       "(26.9, 27.6)"
      ]
     },
     "execution_count": 95,
     "metadata": {},
     "output_type": "execute_result"
    }
   ],
   "source": [
    "left = percentile(2.5, boot_means)\n",
    "right = percentile(97.5, boot_means)\n",
    "np.round(left, 1), np.round(right, 1)"
   ]
  },
  {
   "cell_type": "markdown",
   "metadata": {
    "slideshow": {
     "slide_type": "slide"
    }
   },
   "source": [
    "## Visualization"
   ]
  },
  {
   "cell_type": "code",
   "execution_count": 96,
   "metadata": {},
   "outputs": [
    {
     "data": {
      "text/plain": [
       "[<matplotlib.lines.Line2D at 0x21dbb5c3da0>]"
      ]
     },
     "execution_count": 96,
     "metadata": {},
     "output_type": "execute_result"
    },
    {
     "data": {
      "image/png": "[encoded data removed]",
      "text/plain": [
       "<Figure size 432x288 with 1 Axes>"
      ]
     },
     "metadata": {},
     "output_type": "display_data"
    }
   ],
   "source": [
    "Table().with_column('Bootstrap Mean', boot_means).hist()\n",
    "plt.plot([left, right], [0, 0], color='lime', linewidth=10)"
   ]
  },
  {
   "cell_type": "markdown",
   "metadata": {
    "slideshow": {
     "slide_type": "slide"
    }
   },
   "source": [
    "## Discussion Question\n",
    "\n",
    "Our confidence interval is (26.9, 27.6)\n",
    "\n",
    "**True or False?**  \n",
    "About 95 percent of the mothers in the population were between 26.9 and 27.6 years old.\n",
    "\n",
    "A. True  \n",
    "B. False"
   ]
  },
  {
   "cell_type": "code",
   "execution_count": 97,
   "metadata": {},
   "outputs": [
    {
     "data": {
      "image/png": "[encoded data removed]",
      "text/plain": [
       "<Figure size 432x288 with 1 Axes>"
      ]
     },
     "metadata": {},
     "output_type": "display_data"
    }
   ],
   "source": [
    "ages.hist()"
   ]
  }
 ],
 "metadata": {
  "celltoolbar": "Slideshow",
  "kernelspec": {
   "display_name": "Python 3",
   "language": "python",
   "name": "python3"
  },
  "language_info": {
   "codemirror_mode": {
    "name": "ipython",
    "version": 3
   },
   "file_extension": ".py",
   "mimetype": "text/x-python",
   "name": "python",
   "nbconvert_exporter": "python",
   "pygments_lexer": "ipython3",
   "version": "3.6.8"
  },
  "livereveal": {
   "scroll": true,
   "transition": "none"
  }
 },
 "nbformat": 4,
 "nbformat_minor": 2
}
