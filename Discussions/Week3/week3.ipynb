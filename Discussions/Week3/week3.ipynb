{
 "cells": [
  {
   "cell_type": "code",
   "execution_count": 47,
   "metadata": {
    "slideshow": {
     "slide_type": "skip"
    }
   },
   "outputs": [
    {
     "data": {
      "text/plain": [
       "{'width': '90%', 'height': '70%', 'scroll': True}"
      ]
     },
     "execution_count": 47,
     "metadata": {},
     "output_type": "execute_result"
    }
   ],
   "source": [
    "from datascience import *\n",
    "import numpy as np\n",
    "from notebook.services.config import ConfigManager\n",
    "import seaborn as sns\n",
    "import matplotlib.pyplot as plt\n",
    "%matplotlib inline\n",
    "\n",
    "cm = ConfigManager()\n",
    "cm.update(\n",
    "    \"livereveal\", {\n",
    "        \"width\": \"90%\",\n",
    "        \"height\": \"70%\",\n",
    "        \"scroll\": True,\n",
    "})"
   ]
  },
  {
   "cell_type": "markdown",
   "metadata": {
    "slideshow": {
     "slide_type": "slide"
    }
   },
   "source": [
    "# DSC 10 Discussion Week 3\n",
    "---\n",
    "Kyle Vigil"
   ]
  },
  {
   "cell_type": "markdown",
   "metadata": {
    "slideshow": {
     "slide_type": "slide"
    }
   },
   "source": [
    "# What have we learned so far?\n",
    "---\n",
    "\n",
    "1. Python\n",
    "  - Assigning variables\n",
    "  - Working with data types\n",
    "  - Calling functions\n",
    "  - Defining functions\n",
    "  - If... elif... else...\n",
    "2. Arrays\n",
    "  - Creating arrays (same type!)\n",
    "  - Operations between arrays (add, mult)\n",
    "  - Adding elements to arrays (using np.append)\n",
    "3. Tables\n",
    "  - Reading tables\n",
    "  - Creating new tables\n",
    "  - Grabbing data from columns\n",
    "  - Creating a copy with additional columns\n",
    "  - Creating a copy with only certain columns\n",
    "  - Creating a copy with only certain rows\n",
    "  - Creating a copy with rows grouped on a column and a collection function\n",
    "4. Plots\n",
    "  - Creating bar charts from 'category' and 'y' columns\n",
    "  - Creating scatter plots and line plots from 'x' and 'y' columns\n",
    "  - Creating histograms to count occurrences/density"
   ]
  },
  {
   "cell_type": "markdown",
   "metadata": {
    "slideshow": {
     "slide_type": "subslide"
    }
   },
   "source": [
    "# Any questions about recent things in class?\n",
    "---\n",
    "\n",
    "We don't necessarily need to get through this entire notebook, you can treat it more as a practice test that we're doing together.\n",
    "\n",
    "What's most important is that we're all solid on the information covered in lecture, that way we can figure out how to apply it to various datasets and find answers to questions!\n",
    "\n",
    "Anything and everything that you're unclear about, ask about it now!  No need to be shy, there are definitely others worried about the same thing."
   ]
  },
  {
   "cell_type": "markdown",
   "metadata": {
    "slideshow": {
     "slide_type": "subslide"
    }
   },
   "source": [
    "# Ultimate Halloween Candy Showdown\n",
    "---\n",
    "269,000 user submitted winners of head to head candy matchups"
   ]
  },
  {
   "cell_type": "code",
   "execution_count": 48,
   "metadata": {
    "slideshow": {
     "slide_type": "fragment"
    }
   },
   "outputs": [
    {
     "data": {
      "text/html": [
       "<table border=\"1\" class=\"dataframe\">\n",
       "    <thead>\n",
       "        <tr>\n",
       "            <th>competitorname</th> <th>chocolate</th> <th>fruity</th> <th>caramel</th> <th>peanutyalmondy</th> <th>nougat</th> <th>crispedricewafer</th> <th>hard</th> <th>bar</th> <th>pluribus</th> <th>sugarpercent</th> <th>pricepercent</th> <th>winpercent</th>\n",
       "        </tr>\n",
       "    </thead>\n",
       "    <tbody>\n",
       "        <tr>\n",
       "            <td>100 Grand         </td> <td>True     </td> <td>False </td> <td>True   </td> <td>False         </td> <td>False </td> <td>True            </td> <td>False</td> <td>True </td> <td>False   </td> <td>0.732       </td> <td>0.86        </td> <td>66.9717   </td>\n",
       "        </tr>\n",
       "        <tr>\n",
       "            <td>3 Musketeers      </td> <td>True     </td> <td>False </td> <td>False  </td> <td>False         </td> <td>True  </td> <td>False           </td> <td>False</td> <td>True </td> <td>False   </td> <td>0.604       </td> <td>0.511       </td> <td>67.6029   </td>\n",
       "        </tr>\n",
       "        <tr>\n",
       "            <td>One dime          </td> <td>False    </td> <td>False </td> <td>False  </td> <td>False         </td> <td>False </td> <td>False           </td> <td>False</td> <td>False</td> <td>False   </td> <td>0.011       </td> <td>0.116       </td> <td>32.2611   </td>\n",
       "        </tr>\n",
       "        <tr>\n",
       "            <td>One quarter       </td> <td>False    </td> <td>False </td> <td>False  </td> <td>False         </td> <td>False </td> <td>False           </td> <td>False</td> <td>False</td> <td>False   </td> <td>0.011       </td> <td>0.511       </td> <td>46.1165   </td>\n",
       "        </tr>\n",
       "        <tr>\n",
       "            <td>Air Heads         </td> <td>False    </td> <td>True  </td> <td>False  </td> <td>False         </td> <td>False </td> <td>False           </td> <td>False</td> <td>False</td> <td>False   </td> <td>0.906       </td> <td>0.511       </td> <td>52.3415   </td>\n",
       "        </tr>\n",
       "        <tr>\n",
       "            <td>Almond Joy        </td> <td>True     </td> <td>False </td> <td>False  </td> <td>True          </td> <td>False </td> <td>False           </td> <td>False</td> <td>True </td> <td>False   </td> <td>0.465       </td> <td>0.767       </td> <td>50.3475   </td>\n",
       "        </tr>\n",
       "        <tr>\n",
       "            <td>Baby Ruth         </td> <td>True     </td> <td>False </td> <td>True   </td> <td>True          </td> <td>True  </td> <td>False           </td> <td>False</td> <td>True </td> <td>False   </td> <td>0.604       </td> <td>0.767       </td> <td>56.9145   </td>\n",
       "        </tr>\n",
       "        <tr>\n",
       "            <td>Boston Baked Beans</td> <td>False    </td> <td>False </td> <td>False  </td> <td>True          </td> <td>False </td> <td>False           </td> <td>False</td> <td>False</td> <td>True    </td> <td>0.313       </td> <td>0.511       </td> <td>23.4178   </td>\n",
       "        </tr>\n",
       "        <tr>\n",
       "            <td>Candy Corn        </td> <td>False    </td> <td>False </td> <td>False  </td> <td>False         </td> <td>False </td> <td>False           </td> <td>False</td> <td>False</td> <td>True    </td> <td>0.906       </td> <td>0.325       </td> <td>38.011    </td>\n",
       "        </tr>\n",
       "        <tr>\n",
       "            <td>Caramel Apple Pops</td> <td>False    </td> <td>True  </td> <td>True   </td> <td>False         </td> <td>False </td> <td>False           </td> <td>False</td> <td>False</td> <td>False   </td> <td>0.604       </td> <td>0.325       </td> <td>34.5177   </td>\n",
       "        </tr>\n",
       "    </tbody>\n",
       "</table>\n",
       "<p>... (75 rows omitted)</p>"
      ],
      "text/plain": [
       "competitorname     | chocolate | fruity | caramel | peanutyalmondy | nougat | crispedricewafer | hard  | bar   | pluribus | sugarpercent | pricepercent | winpercent\n",
       "100 Grand          | True      | False  | True    | False          | False  | True             | False | True  | False    | 0.732        | 0.86         | 66.9717\n",
       "3 Musketeers       | True      | False  | False   | False          | True   | False            | False | True  | False    | 0.604        | 0.511        | 67.6029\n",
       "One dime           | False     | False  | False   | False          | False  | False            | False | False | False    | 0.011        | 0.116        | 32.2611\n",
       "One quarter        | False     | False  | False   | False          | False  | False            | False | False | False    | 0.011        | 0.511        | 46.1165\n",
       "Air Heads          | False     | True   | False   | False          | False  | False            | False | False | False    | 0.906        | 0.511        | 52.3415\n",
       "Almond Joy         | True      | False  | False   | True           | False  | False            | False | True  | False    | 0.465        | 0.767        | 50.3475\n",
       "Baby Ruth          | True      | False  | True    | True           | True   | False            | False | True  | False    | 0.604        | 0.767        | 56.9145\n",
       "Boston Baked Beans | False     | False  | False   | True           | False  | False            | False | False | True     | 0.313        | 0.511        | 23.4178\n",
       "Candy Corn         | False     | False  | False   | False          | False  | False            | False | False | True     | 0.906        | 0.325        | 38.011\n",
       "Caramel Apple Pops | False     | True   | True    | False          | False  | False            | False | False | False    | 0.604        | 0.325        | 34.5177\n",
       "... (75 rows omitted)"
      ]
     },
     "execution_count": 48,
     "metadata": {},
     "output_type": "execute_result"
    }
   ],
   "source": [
    "candy = Table.read_table(\"data/candy.csv\")\n",
    "for col in [\"chocolate\", \"fruity\", \"caramel\", \"peanutyalmondy\", \"nougat\", \"crispedricewafer\", \"hard\", \"bar\", \"pluribus\"]:\n",
    "    candy = candy.with_column(col, candy.column(col).astype(bool))\n",
    "candy"
   ]
  },
  {
   "cell_type": "code",
   "execution_count": 49,
   "metadata": {
    "scrolled": false,
    "slideshow": {
     "slide_type": "subslide"
    }
   },
   "outputs": [
    {
     "data": {
      "image/png": "[encoded data removed]",
      "text/plain": [
       "<Figure size 1440x576 with 1 Axes>"
      ]
     },
     "metadata": {
      "needs_background": "light"
     },
     "output_type": "display_data"
    }
   ],
   "source": [
    "candy = candy.sort(\"winpercent\", descending=True)\n",
    "plt.figure(figsize=(20,8))\n",
    "sns.barplot(candy.column(\"competitorname\"), candy.column(\"winpercent\"))\n",
    "plt.xticks(rotation=\"vertical\");"
   ]
  },
  {
   "cell_type": "markdown",
   "metadata": {
    "slideshow": {
     "slide_type": "subslide"
    }
   },
   "source": [
    "## Lets use group and plotting to analyze the data\n",
    "\n",
    "* Group will show us aggregated data about groups of the data (ex. average score of chocolate candy vs. non chocolate candy)\n",
    "* Plotting will give us visual insights to the data"
   ]
  },
  {
   "cell_type": "markdown",
   "metadata": {
    "slideshow": {
     "slide_type": "subslide"
    }
   },
   "source": [
    "### Grouping"
   ]
  },
  {
   "cell_type": "code",
   "execution_count": 50,
   "metadata": {
    "slideshow": {
     "slide_type": "fragment"
    }
   },
   "outputs": [
    {
     "data": {
      "text/html": [
       "<table border=\"1\" class=\"dataframe\">\n",
       "    <thead>\n",
       "        <tr>\n",
       "            <th>chocolate</th> <th>count</th>\n",
       "        </tr>\n",
       "    </thead>\n",
       "    <tbody>\n",
       "        <tr>\n",
       "            <td>False    </td> <td>48   </td>\n",
       "        </tr>\n",
       "        <tr>\n",
       "            <td>True     </td> <td>37   </td>\n",
       "        </tr>\n",
       "    </tbody>\n",
       "</table>"
      ],
      "text/plain": [
       "chocolate | count\n",
       "False     | 48\n",
       "True      | 37"
      ]
     },
     "execution_count": 50,
     "metadata": {},
     "output_type": "execute_result"
    }
   ],
   "source": [
    "# Interpret the meaning of the output generated from:\n",
    "candy.group(\"chocolate\")"
   ]
  },
  {
   "cell_type": "code",
   "execution_count": 51,
   "metadata": {
    "scrolled": true,
    "slideshow": {
     "slide_type": "fragment"
    }
   },
   "outputs": [
    {
     "data": {
      "text/html": [
       "<table border=\"1\" class=\"dataframe\">\n",
       "    <thead>\n",
       "        <tr>\n",
       "            <th>chocolate</th> <th>competitorname mean</th> <th>fruity mean</th> <th>caramel mean</th> <th>peanutyalmondy mean</th> <th>nougat mean</th> <th>crispedricewafer mean</th> <th>hard mean</th> <th>bar mean</th> <th>pluribus mean</th> <th>sugarpercent mean</th> <th>pricepercent mean</th> <th>winpercent mean</th>\n",
       "        </tr>\n",
       "    </thead>\n",
       "    <tbody>\n",
       "        <tr>\n",
       "            <td>False    </td> <td>                   </td> <td>0.770833   </td> <td>0.0833333   </td> <td>0.0416667          </td> <td>0.0208333  </td> <td>0                    </td> <td>0.291667 </td> <td>0.0208333</td> <td>0.666667     </td> <td>0.452937         </td> <td>0.343021         </td> <td>42.1423        </td>\n",
       "        </tr>\n",
       "        <tr>\n",
       "            <td>True     </td> <td>                   </td> <td>0.027027   </td> <td>0.27027     </td> <td>0.324324           </td> <td>0.162162   </td> <td>0.189189             </td> <td>0.027027 </td> <td>0.540541 </td> <td>0.324324     </td> <td>0.512            </td> <td>0.632162         </td> <td>60.9215        </td>\n",
       "        </tr>\n",
       "    </tbody>\n",
       "</table>"
      ],
      "text/plain": [
       "chocolate | competitorname mean | fruity mean | caramel mean | peanutyalmondy mean | nougat mean | crispedricewafer mean | hard mean | bar mean  | pluribus mean | sugarpercent mean | pricepercent mean | winpercent mean\n",
       "False     |                     | 0.770833    | 0.0833333    | 0.0416667           | 0.0208333   | 0                     | 0.291667  | 0.0208333 | 0.666667      | 0.452937          | 0.343021          | 42.1423\n",
       "True      |                     | 0.027027    | 0.27027      | 0.324324            | 0.162162    | 0.189189              | 0.027027  | 0.540541  | 0.324324      | 0.512             | 0.632162          | 60.9215"
      ]
     },
     "execution_count": 51,
     "metadata": {},
     "output_type": "execute_result"
    }
   ],
   "source": [
    "# Interpret the meaning of the output generated from:\n",
    "candy.group(\"chocolate\", np.mean)"
   ]
  },
  {
   "cell_type": "code",
   "execution_count": 52,
   "metadata": {
    "slideshow": {
     "slide_type": "fragment"
    }
   },
   "outputs": [
    {
     "data": {
      "text/html": [
       "<table border=\"1\" class=\"dataframe\">\n",
       "    <thead>\n",
       "        <tr>\n",
       "            <th>chocolate</th> <th>competitorname max</th> <th>fruity max</th> <th>caramel max</th> <th>peanutyalmondy max</th> <th>nougat max</th> <th>crispedricewafer max</th> <th>hard max</th> <th>bar max</th> <th>pluribus max</th> <th>sugarpercent max</th> <th>pricepercent max</th> <th>winpercent max</th>\n",
       "        </tr>\n",
       "    </thead>\n",
       "    <tbody>\n",
       "        <tr>\n",
       "            <td>False    </td> <td>WertherÕs Original Caramel</td> <td>True      </td> <td>True       </td> <td>True              </td> <td>True      </td> <td>False               </td> <td>True    </td> <td>True   </td> <td>True        </td> <td>0.965           </td> <td>0.976           </td> <td>67.0376       </td>\n",
       "        </tr>\n",
       "        <tr>\n",
       "            <td>True     </td> <td>Whoppers                  </td> <td>True      </td> <td>True       </td> <td>True              </td> <td>True      </td> <td>True                </td> <td>True    </td> <td>True   </td> <td>True        </td> <td>0.988           </td> <td>0.976           </td> <td>84.1803       </td>\n",
       "        </tr>\n",
       "    </tbody>\n",
       "</table>"
      ],
      "text/plain": [
       "chocolate | competitorname max         | fruity max | caramel max | peanutyalmondy max | nougat max | crispedricewafer max | hard max | bar max | pluribus max | sugarpercent max | pricepercent max | winpercent max\n",
       "False     | WertherÕs Original Caramel | True       | True        | True               | True       | False                | True     | True    | True         | 0.965            | 0.976            | 67.0376\n",
       "True      | Whoppers                   | True       | True        | True               | True       | True                 | True     | True    | True         | 0.988            | 0.976            | 84.1803"
      ]
     },
     "execution_count": 52,
     "metadata": {},
     "output_type": "execute_result"
    }
   ],
   "source": [
    "# How does that compare to this output? What changes?\n",
    "candy.group(\"chocolate\", max)"
   ]
  },
  {
   "cell_type": "code",
   "execution_count": 55,
   "metadata": {
    "slideshow": {
     "slide_type": "subslide"
    }
   },
   "outputs": [
    {
     "data": {
      "text/html": [
       "<table border=\"1\" class=\"dataframe\">\n",
       "    <thead>\n",
       "        <tr>\n",
       "            <th>chocolate</th> <th>caramel</th> <th>competitorname mean</th> <th>fruity mean</th> <th>peanutyalmondy mean</th> <th>nougat mean</th> <th>crispedricewafer mean</th> <th>hard mean</th> <th>bar mean</th> <th>pluribus mean</th> <th>sugarpercent mean</th> <th>pricepercent mean</th> <th>winpercent mean</th>\n",
       "        </tr>\n",
       "    </thead>\n",
       "    <tbody>\n",
       "        <tr>\n",
       "            <td>False    </td> <td>False  </td> <td>                   </td> <td>0.818182   </td> <td>0.0454545          </td> <td>0.0227273  </td> <td>0                    </td> <td>0.295455 </td> <td>0.0227273</td> <td>0.704545     </td> <td>0.444727         </td> <td>0.335932         </td> <td>42.744         </td>\n",
       "        </tr>\n",
       "        <tr>\n",
       "            <td>False    </td> <td>True   </td> <td>                   </td> <td>0.25       </td> <td>0                  </td> <td>0          </td> <td>0                    </td> <td>0.25     </td> <td>0        </td> <td>0.25         </td> <td>0.54325          </td> <td>0.421            </td> <td>35.5226        </td>\n",
       "        </tr>\n",
       "        <tr>\n",
       "            <td>True     </td> <td>False  </td> <td>                   </td> <td>0.037037   </td> <td>0.333333           </td> <td>0.0740741  </td> <td>0.148148             </td> <td>0.037037 </td> <td>0.444444 </td> <td>0.37037      </td> <td>0.461074         </td> <td>0.601185         </td> <td>59.0122        </td>\n",
       "        </tr>\n",
       "        <tr>\n",
       "            <td>True     </td> <td>True   </td> <td>                   </td> <td>0          </td> <td>0.3                </td> <td>0.4        </td> <td>0.3                  </td> <td>0        </td> <td>0.8      </td> <td>0.2          </td> <td>0.6495           </td> <td>0.7158           </td> <td>66.0766        </td>\n",
       "        </tr>\n",
       "    </tbody>\n",
       "</table>"
      ],
      "text/plain": [
       "chocolate | caramel | competitorname mean | fruity mean | peanutyalmondy mean | nougat mean | crispedricewafer mean | hard mean | bar mean  | pluribus mean | sugarpercent mean | pricepercent mean | winpercent mean\n",
       "False     | False   |                     | 0.818182    | 0.0454545           | 0.0227273   | 0                     | 0.295455  | 0.0227273 | 0.704545      | 0.444727          | 0.335932          | 42.744\n",
       "False     | True    |                     | 0.25        | 0                   | 0           | 0                     | 0.25      | 0         | 0.25          | 0.54325           | 0.421             | 35.5226\n",
       "True      | False   |                     | 0.037037    | 0.333333            | 0.0740741   | 0.148148              | 0.037037  | 0.444444  | 0.37037       | 0.461074          | 0.601185          | 59.0122\n",
       "True      | True    |                     | 0           | 0.3                 | 0.4         | 0.3                   | 0         | 0.8       | 0.2           | 0.6495            | 0.7158            | 66.0766"
      ]
     },
     "execution_count": 55,
     "metadata": {},
     "output_type": "execute_result"
    }
   ],
   "source": [
    "# What is different about this statement? How many rows do you expect?\n",
    "candy.group([\"chocolate\", \"caramel\"], np.mean)"
   ]
  },
  {
   "cell_type": "markdown",
   "metadata": {
    "slideshow": {
     "slide_type": "subslide"
    }
   },
   "source": [
    "### Plotting"
   ]
  },
  {
   "cell_type": "code",
   "execution_count": 56,
   "metadata": {
    "slideshow": {
     "slide_type": "fragment"
    }
   },
   "outputs": [
    {
     "data": {
      "image/png": "[encoded data removed]",
      "text/plain": [
       "<Figure size 432x288 with 1 Axes>"
      ]
     },
     "metadata": {
      "needs_background": "light"
     },
     "output_type": "display_data"
    }
   ],
   "source": [
    "# Create a histogram of the winpercentages\n",
    "candy.hist(\"winpercent\")"
   ]
  },
  {
   "cell_type": "code",
   "execution_count": 57,
   "metadata": {
    "slideshow": {
     "slide_type": "fragment"
    }
   },
   "outputs": [
    {
     "data": {
      "image/png": "[encoded data removed]",
      "text/plain": [
       "<Figure size 360x360 with 1 Axes>"
      ]
     },
     "metadata": {
      "needs_background": "light"
     },
     "output_type": "display_data"
    }
   ],
   "source": [
    "# See if price percentage has an effect on win percentage. What type of graph can we use for this?\n",
    "candy.scatter(\"pricepercent\", \"winpercent\")"
   ]
  },
  {
   "cell_type": "code",
   "execution_count": 63,
   "metadata": {
    "slideshow": {
     "slide_type": "subslide"
    }
   },
   "outputs": [
    {
     "data": {
      "image/png": "[encoded data removed]",
      "text/plain": [
       "<Figure size 432x288 with 1 Axes>"
      ]
     },
     "metadata": {
      "needs_background": "light"
     },
     "output_type": "display_data"
    }
   ],
   "source": [
    "# What type of graph should we use for plotting fruity vs non fruity average win percentage?\n",
    "candy.group(\"fruity\", np.mean).select(\"fruity\", \"winpercent mean\").barh(\"fruity\", \"winpercent mean\")"
   ]
  },
  {
   "cell_type": "markdown",
   "metadata": {
    "slideshow": {
     "slide_type": "slide"
    }
   },
   "source": [
    "# Functions and Apply\n",
    "---\n",
    "\n",
    "Review: How do you make a function return a string that is lowercased and then add \" <- this is now lowercase\" to the end? "
   ]
  },
  {
   "cell_type": "code",
   "execution_count": 73,
   "metadata": {
    "slideshow": {
     "slide_type": "fragment"
    }
   },
   "outputs": [
    {
     "data": {
      "text/plain": [
       "'string <- this is now lowercase'"
      ]
     },
     "execution_count": 73,
     "metadata": {},
     "output_type": "execute_result"
    }
   ],
   "source": [
    "def lowercase(string):\n",
    "    return string.lower() + \" <- this is now lowercase\"\n",
    "\n",
    "lowercase(\"sTrInG\")"
   ]
  },
  {
   "cell_type": "markdown",
   "metadata": {
    "slideshow": {
     "slide_type": "subslide"
    }
   },
   "source": [
    "We can use functions to clean up messy data. A good example of messy data comes from a column of user inputted data"
   ]
  },
  {
   "cell_type": "code",
   "execution_count": 74,
   "metadata": {
    "slideshow": {
     "slide_type": "subslide"
    }
   },
   "outputs": [
    {
     "data": {
      "text/html": [
       "<table border=\"1\" class=\"dataframe\">\n",
       "    <thead>\n",
       "        <tr>\n",
       "            <th>name</th> <th>fav_food</th> <th>phone</th>\n",
       "        </tr>\n",
       "    </thead>\n",
       "    <tbody>\n",
       "        <tr>\n",
       "            <td>Kyle  </td> <td>Pizza          </td> <td>123-456-7890  </td>\n",
       "        </tr>\n",
       "        <tr>\n",
       "            <td>Meghan</td> <td>pizza          </td> <td>(123) 456-7890</td>\n",
       "        </tr>\n",
       "        <tr>\n",
       "            <td>Taylor</td> <td>turkey sandwich</td> <td>1234567890    </td>\n",
       "        </tr>\n",
       "        <tr>\n",
       "            <td>Tyler </td> <td>pepperoni pizza</td> <td>(123)4567890  </td>\n",
       "        </tr>\n",
       "        <tr>\n",
       "            <td>Josh  </td> <td>Pepperoni Pizza</td> <td>123 456 7890  </td>\n",
       "        </tr>\n",
       "        <tr>\n",
       "            <td> Chad </td> <td>ham sandwich   </td> <td>(123)456-7890 </td>\n",
       "        </tr>\n",
       "    </tbody>\n",
       "</table>"
      ],
      "text/plain": [
       "name   | fav_food        | phone\n",
       "Kyle   | Pizza           | 123-456-7890\n",
       "Meghan | pizza           | (123) 456-7890\n",
       "Taylor | turkey sandwich | 1234567890\n",
       "Tyler  | pepperoni pizza | (123)4567890\n",
       "Josh   | Pepperoni Pizza | 123 456 7890\n",
       " Chad  | ham sandwich    | (123)456-7890"
      ]
     },
     "execution_count": 74,
     "metadata": {},
     "output_type": "execute_result"
    }
   ],
   "source": [
    "survey_responses = Table().with_columns({\n",
    "    \"name\": [\"Kyle\", \"Meghan\", \"Taylor\", \"Tyler\", \"Josh\", \" Chad\"],\n",
    "    \"fav_food\": [\"Pizza\", \"pizza\", \"turkey sandwich\", \"pepperoni pizza\", \"Pepperoni Pizza\", \"ham sandwich\"], \n",
    "    \"phone\": [\"123-456-7890\", \"(123) 456-7890\", \"1234567890\", \"(123)4567890\", \"123 456 7890\", \"(123)456-7890\"]\n",
    "})\n",
    "survey_responses"
   ]
  },
  {
   "cell_type": "markdown",
   "metadata": {
    "slideshow": {
     "slide_type": "fragment"
    }
   },
   "source": [
    "This table has difficult to access and analyze data. We can use our own functions and apply to clean it up.\n",
    "\n",
    "1. clean up fav_food by making it lowercase and only the last word of the input\n",
    "\n",
    "2. clean up the phone number by making it a string with only 10 digits in it (what about storing it as an int?)"
   ]
  },
  {
   "cell_type": "code",
   "execution_count": 75,
   "metadata": {
    "slideshow": {
     "slide_type": "subslide"
    }
   },
   "outputs": [
    {
     "data": {
      "text/plain": [
       "'test'"
      ]
     },
     "execution_count": 75,
     "metadata": {},
     "output_type": "execute_result"
    }
   ],
   "source": [
    "# Make a function to clean up one entry of fav_food (lowercase and only last word)\n",
    "def clean_fav_food(string):\n",
    "    return string.lower().split(\" \")[-1]\n",
    "    \n",
    "clean_fav_food(\"this is a test\")"
   ]
  },
  {
   "cell_type": "code",
   "execution_count": 76,
   "metadata": {},
   "outputs": [
    {
     "data": {
      "text/html": [
       "<table border=\"1\" class=\"dataframe\">\n",
       "    <thead>\n",
       "        <tr>\n",
       "            <th>name</th> <th>fav_food</th> <th>phone</th>\n",
       "        </tr>\n",
       "    </thead>\n",
       "    <tbody>\n",
       "        <tr>\n",
       "            <td>Kyle  </td> <td>Pizza          </td> <td>123-456-7890  </td>\n",
       "        </tr>\n",
       "        <tr>\n",
       "            <td>Meghan</td> <td>pizza          </td> <td>(123) 456-7890</td>\n",
       "        </tr>\n",
       "        <tr>\n",
       "            <td>Taylor</td> <td>turkey sandwich</td> <td>1234567890    </td>\n",
       "        </tr>\n",
       "        <tr>\n",
       "            <td>Tyler </td> <td>pepperoni pizza</td> <td>(123)4567890  </td>\n",
       "        </tr>\n",
       "        <tr>\n",
       "            <td>Josh  </td> <td>Pepperoni Pizza</td> <td>123 456 7890  </td>\n",
       "        </tr>\n",
       "        <tr>\n",
       "            <td> Chad </td> <td>ham sandwich   </td> <td>(123)456-7890 </td>\n",
       "        </tr>\n",
       "    </tbody>\n",
       "</table>"
      ],
      "text/plain": [
       "name   | fav_food        | phone\n",
       "Kyle   | Pizza           | 123-456-7890\n",
       "Meghan | pizza           | (123) 456-7890\n",
       "Taylor | turkey sandwich | 1234567890\n",
       "Tyler  | pepperoni pizza | (123)4567890\n",
       "Josh   | Pepperoni Pizza | 123 456 7890\n",
       " Chad  | ham sandwich    | (123)456-7890"
      ]
     },
     "execution_count": 76,
     "metadata": {},
     "output_type": "execute_result"
    }
   ],
   "source": [
    "survey_responses"
   ]
  },
  {
   "cell_type": "code",
   "execution_count": 77,
   "metadata": {
    "slideshow": {
     "slide_type": "fragment"
    }
   },
   "outputs": [
    {
     "data": {
      "text/html": [
       "<table border=\"1\" class=\"dataframe\">\n",
       "    <thead>\n",
       "        <tr>\n",
       "            <th>name</th> <th>fav_food</th> <th>phone</th>\n",
       "        </tr>\n",
       "    </thead>\n",
       "    <tbody>\n",
       "        <tr>\n",
       "            <td>Kyle  </td> <td>pizza   </td> <td>123-456-7890  </td>\n",
       "        </tr>\n",
       "        <tr>\n",
       "            <td>Meghan</td> <td>pizza   </td> <td>(123) 456-7890</td>\n",
       "        </tr>\n",
       "        <tr>\n",
       "            <td>Taylor</td> <td>sandwich</td> <td>1234567890    </td>\n",
       "        </tr>\n",
       "        <tr>\n",
       "            <td>Tyler </td> <td>pizza   </td> <td>(123)4567890  </td>\n",
       "        </tr>\n",
       "        <tr>\n",
       "            <td>Josh  </td> <td>pizza   </td> <td>123 456 7890  </td>\n",
       "        </tr>\n",
       "        <tr>\n",
       "            <td> Chad </td> <td>sandwich</td> <td>(123)456-7890 </td>\n",
       "        </tr>\n",
       "    </tbody>\n",
       "</table>"
      ],
      "text/plain": [
       "name   | fav_food | phone\n",
       "Kyle   | pizza    | 123-456-7890\n",
       "Meghan | pizza    | (123) 456-7890\n",
       "Taylor | sandwich | 1234567890\n",
       "Tyler  | pizza    | (123)4567890\n",
       "Josh   | pizza    | 123 456 7890\n",
       " Chad  | sandwich | (123)456-7890"
      ]
     },
     "execution_count": 77,
     "metadata": {},
     "output_type": "execute_result"
    }
   ],
   "source": [
    "# apply this function to the fav_food column\n",
    "survey_responses = survey_responses.with_column(\"fav_food\", survey_responses.apply(clean_fav_food, 'fav_food'))\n",
    "survey_responses"
   ]
  },
  {
   "cell_type": "code",
   "execution_count": null,
   "metadata": {
    "slideshow": {
     "slide_type": "notes"
    }
   },
   "outputs": [],
   "source": [
    "# apply this function to the fav_food column\n",
    "survey_responses = survey_responses.with_column(\"fav_food\", survey_responses.apply(clean_fav_food, \"fav_food\"))\n",
    "survey_responses"
   ]
  },
  {
   "cell_type": "code",
   "execution_count": 78,
   "metadata": {
    "slideshow": {
     "slide_type": "subslide"
    }
   },
   "outputs": [
    {
     "data": {
      "text/plain": [
       "'1234567890'"
      ]
     },
     "execution_count": 78,
     "metadata": {},
     "output_type": "execute_result"
    }
   ],
   "source": [
    "# Make a function to clean up one entry of phone (10 digit string)\n",
    "def clean_phone(phone):\n",
    "    return phone.replace(\"(\",\"\").replace(\")\",\"\").replace(\"-\",\"\").replace(\" \", \"\")\n",
    "    \n",
    "clean_phone(\"(123)456-7890\")"
   ]
  },
  {
   "cell_type": "code",
   "execution_count": 79,
   "metadata": {
    "slideshow": {
     "slide_type": "fragment"
    }
   },
   "outputs": [
    {
     "data": {
      "text/html": [
       "<table border=\"1\" class=\"dataframe\">\n",
       "    <thead>\n",
       "        <tr>\n",
       "            <th>name</th> <th>fav_food</th> <th>phone</th>\n",
       "        </tr>\n",
       "    </thead>\n",
       "    <tbody>\n",
       "        <tr>\n",
       "            <td>Kyle  </td> <td>pizza   </td> <td>1234567890</td>\n",
       "        </tr>\n",
       "        <tr>\n",
       "            <td>Meghan</td> <td>pizza   </td> <td>1234567890</td>\n",
       "        </tr>\n",
       "        <tr>\n",
       "            <td>Taylor</td> <td>sandwich</td> <td>1234567890</td>\n",
       "        </tr>\n",
       "        <tr>\n",
       "            <td>Tyler </td> <td>pizza   </td> <td>1234567890</td>\n",
       "        </tr>\n",
       "        <tr>\n",
       "            <td>Josh  </td> <td>pizza   </td> <td>1234567890</td>\n",
       "        </tr>\n",
       "        <tr>\n",
       "            <td> Chad </td> <td>sandwich</td> <td>1234567890</td>\n",
       "        </tr>\n",
       "    </tbody>\n",
       "</table>"
      ],
      "text/plain": [
       "name   | fav_food | phone\n",
       "Kyle   | pizza    | 1234567890\n",
       "Meghan | pizza    | 1234567890\n",
       "Taylor | sandwich | 1234567890\n",
       "Tyler  | pizza    | 1234567890\n",
       "Josh   | pizza    | 1234567890\n",
       " Chad  | sandwich | 1234567890"
      ]
     },
     "execution_count": 79,
     "metadata": {},
     "output_type": "execute_result"
    }
   ],
   "source": [
    "# apply this function to the phone column\n",
    "survey_responses = survey_responses.with_column(\"phone\", survey_responses.apply(clean_phone, \"phone\"))\n",
    "survey_responses"
   ]
  },
  {
   "cell_type": "markdown",
   "metadata": {
    "slideshow": {
     "slide_type": "fragment"
    }
   },
   "source": [
    "## Our dataset is now clean and ready for analysis!"
   ]
  },
  {
   "cell_type": "markdown",
   "metadata": {
    "slideshow": {
     "slide_type": "slide"
    }
   },
   "source": [
    "# More Practice! Today's Dataset:\n",
    "---\n",
    "\n",
    "From kaggle user Randi H Griffin:\n",
    ">This is a historical dataset on the modern Olympic Games, including all the Games from Athens 1896 to Rio 2016. I scraped this data from www.sports-reference.com in May 2018. The R code I used to scrape and wrangle the data is on GitHub. I recommend checking my kernel before starting your own analysis.\n",
    ">\n",
    ">Note that the Winter and Summer Games were held in the same year up until 1992. After that, they staggered them such that Winter Games occur on a four year cycle starting with 1994, then Summer in 1996, then Winter in 1998, and so on. A common mistake people make when analyzing this data is to assume that the Summer and Winter Games have always been staggered.\n",
    ">\n",
    ">The file athlete_events.csv contains 271116 rows and 15 columns. Each row corresponds to an individual athlete competing in an individual Olympic event (athlete-events). The columns are:\n",
    ">\n",
    ">1. ID - Unique number for each athlete  \n",
    ">2. Name - Athlete's name  \n",
    ">3. Sex - M or F  \n",
    ">4. Age - Integer  \n",
    ">5. Height - In centimeters  \n",
    ">6. Weight - In kilograms  \n",
    ">7. Team - Team name  \n",
    ">8. NOC - National Olympic Committee 3-letter code  \n",
    ">9. Games - Year and season  \n",
    ">10. Year - Integer  \n",
    ">11. Season - Summer or Winter  \n",
    ">12. City - Host city  \n",
    ">13. Sport - Sport  \n",
    ">14. Event - Event  \n",
    ">15. Medal - Gold, Silver, Bronze, or NA  \n"
   ]
  },
  {
   "cell_type": "code",
   "execution_count": 80,
   "metadata": {
    "scrolled": true,
    "slideshow": {
     "slide_type": "subslide"
    }
   },
   "outputs": [
    {
     "data": {
      "text/html": [
       "<table border=\"1\" class=\"dataframe\">\n",
       "    <thead>\n",
       "        <tr>\n",
       "            <th>ID</th> <th>Name</th> <th>Sex</th> <th>Age</th> <th>Height</th> <th>Weight</th> <th>Team</th> <th>NOC</th> <th>Games</th> <th>Year</th> <th>Season</th> <th>City</th> <th>Sport</th> <th>Event</th> <th>Medal</th>\n",
       "        </tr>\n",
       "    </thead>\n",
       "    <tbody>\n",
       "        <tr>\n",
       "            <td>1   </td> <td>A Dijiang               </td> <td>M   </td> <td>24  </td> <td>180   </td> <td>80    </td> <td>China         </td> <td>CHN </td> <td>1992 Summer</td> <td>1992</td> <td>Summer</td> <td>Barcelona  </td> <td>Basketball   </td> <td>Basketball Men's Basketball       </td> <td>nan  </td>\n",
       "        </tr>\n",
       "        <tr>\n",
       "            <td>2   </td> <td>A Lamusi                </td> <td>M   </td> <td>23  </td> <td>170   </td> <td>60    </td> <td>China         </td> <td>CHN </td> <td>2012 Summer</td> <td>2012</td> <td>Summer</td> <td>London     </td> <td>Judo         </td> <td>Judo Men's Extra-Lightweight      </td> <td>nan  </td>\n",
       "        </tr>\n",
       "        <tr>\n",
       "            <td>3   </td> <td>Gunnar Nielsen Aaby     </td> <td>M   </td> <td>24  </td> <td>nan   </td> <td>nan   </td> <td>Denmark       </td> <td>DEN </td> <td>1920 Summer</td> <td>1920</td> <td>Summer</td> <td>Antwerpen  </td> <td>Football     </td> <td>Football Men's Football           </td> <td>nan  </td>\n",
       "        </tr>\n",
       "        <tr>\n",
       "            <td>4   </td> <td>Edgar Lindenau Aabye    </td> <td>M   </td> <td>34  </td> <td>nan   </td> <td>nan   </td> <td>Denmark/Sweden</td> <td>DEN </td> <td>1900 Summer</td> <td>1900</td> <td>Summer</td> <td>Paris      </td> <td>Tug-Of-War   </td> <td>Tug-Of-War Men's Tug-Of-War       </td> <td>Gold </td>\n",
       "        </tr>\n",
       "        <tr>\n",
       "            <td>5   </td> <td>Christine Jacoba Aaftink</td> <td>F   </td> <td>21  </td> <td>185   </td> <td>82    </td> <td>Netherlands   </td> <td>NED </td> <td>1988 Winter</td> <td>1988</td> <td>Winter</td> <td>Calgary    </td> <td>Speed Skating</td> <td>Speed Skating Women's 500 metres  </td> <td>nan  </td>\n",
       "        </tr>\n",
       "        <tr>\n",
       "            <td>5   </td> <td>Christine Jacoba Aaftink</td> <td>F   </td> <td>21  </td> <td>185   </td> <td>82    </td> <td>Netherlands   </td> <td>NED </td> <td>1988 Winter</td> <td>1988</td> <td>Winter</td> <td>Calgary    </td> <td>Speed Skating</td> <td>Speed Skating Women's 1,000 metres</td> <td>nan  </td>\n",
       "        </tr>\n",
       "        <tr>\n",
       "            <td>5   </td> <td>Christine Jacoba Aaftink</td> <td>F   </td> <td>25  </td> <td>185   </td> <td>82    </td> <td>Netherlands   </td> <td>NED </td> <td>1992 Winter</td> <td>1992</td> <td>Winter</td> <td>Albertville</td> <td>Speed Skating</td> <td>Speed Skating Women's 500 metres  </td> <td>nan  </td>\n",
       "        </tr>\n",
       "        <tr>\n",
       "            <td>5   </td> <td>Christine Jacoba Aaftink</td> <td>F   </td> <td>25  </td> <td>185   </td> <td>82    </td> <td>Netherlands   </td> <td>NED </td> <td>1992 Winter</td> <td>1992</td> <td>Winter</td> <td>Albertville</td> <td>Speed Skating</td> <td>Speed Skating Women's 1,000 metres</td> <td>nan  </td>\n",
       "        </tr>\n",
       "        <tr>\n",
       "            <td>5   </td> <td>Christine Jacoba Aaftink</td> <td>F   </td> <td>27  </td> <td>185   </td> <td>82    </td> <td>Netherlands   </td> <td>NED </td> <td>1994 Winter</td> <td>1994</td> <td>Winter</td> <td>Lillehammer</td> <td>Speed Skating</td> <td>Speed Skating Women's 500 metres  </td> <td>nan  </td>\n",
       "        </tr>\n",
       "        <tr>\n",
       "            <td>5   </td> <td>Christine Jacoba Aaftink</td> <td>F   </td> <td>27  </td> <td>185   </td> <td>82    </td> <td>Netherlands   </td> <td>NED </td> <td>1994 Winter</td> <td>1994</td> <td>Winter</td> <td>Lillehammer</td> <td>Speed Skating</td> <td>Speed Skating Women's 1,000 metres</td> <td>nan  </td>\n",
       "        </tr>\n",
       "    </tbody>\n",
       "</table>\n",
       "<p>... (271106 rows omitted)</p>"
      ],
      "text/plain": [
       "ID   | Name                     | Sex  | Age  | Height | Weight | Team           | NOC  | Games       | Year | Season | City        | Sport         | Event                              | Medal\n",
       "1    | A Dijiang                | M    | 24   | 180    | 80     | China          | CHN  | 1992 Summer | 1992 | Summer | Barcelona   | Basketball    | Basketball Men's Basketball        | nan\n",
       "2    | A Lamusi                 | M    | 23   | 170    | 60     | China          | CHN  | 2012 Summer | 2012 | Summer | London      | Judo          | Judo Men's Extra-Lightweight       | nan\n",
       "3    | Gunnar Nielsen Aaby      | M    | 24   | nan    | nan    | Denmark        | DEN  | 1920 Summer | 1920 | Summer | Antwerpen   | Football      | Football Men's Football            | nan\n",
       "4    | Edgar Lindenau Aabye     | M    | 34   | nan    | nan    | Denmark/Sweden | DEN  | 1900 Summer | 1900 | Summer | Paris       | Tug-Of-War    | Tug-Of-War Men's Tug-Of-War        | Gold\n",
       "5    | Christine Jacoba Aaftink | F    | 21   | 185    | 82     | Netherlands    | NED  | 1988 Winter | 1988 | Winter | Calgary     | Speed Skating | Speed Skating Women's 500 metres   | nan\n",
       "5    | Christine Jacoba Aaftink | F    | 21   | 185    | 82     | Netherlands    | NED  | 1988 Winter | 1988 | Winter | Calgary     | Speed Skating | Speed Skating Women's 1,000 metres | nan\n",
       "5    | Christine Jacoba Aaftink | F    | 25   | 185    | 82     | Netherlands    | NED  | 1992 Winter | 1992 | Winter | Albertville | Speed Skating | Speed Skating Women's 500 metres   | nan\n",
       "5    | Christine Jacoba Aaftink | F    | 25   | 185    | 82     | Netherlands    | NED  | 1992 Winter | 1992 | Winter | Albertville | Speed Skating | Speed Skating Women's 1,000 metres | nan\n",
       "5    | Christine Jacoba Aaftink | F    | 27   | 185    | 82     | Netherlands    | NED  | 1994 Winter | 1994 | Winter | Lillehammer | Speed Skating | Speed Skating Women's 500 metres   | nan\n",
       "5    | Christine Jacoba Aaftink | F    | 27   | 185    | 82     | Netherlands    | NED  | 1994 Winter | 1994 | Winter | Lillehammer | Speed Skating | Speed Skating Women's 1,000 metres | nan\n",
       "... (271106 rows omitted)"
      ]
     },
     "execution_count": 80,
     "metadata": {},
     "output_type": "execute_result"
    }
   ],
   "source": [
    "data = Table.read_table(\"data/athlete_events.csv\")\n",
    "data"
   ]
  },
  {
   "cell_type": "markdown",
   "metadata": {
    "slideshow": {
     "slide_type": "subslide"
    }
   },
   "source": [
    "Since the olympics didn't stagger the winter and summer games until 1992, let's look at only years after 1992."
   ]
  },
  {
   "cell_type": "code",
   "execution_count": 81,
   "metadata": {
    "slideshow": {
     "slide_type": "fragment"
    }
   },
   "outputs": [
    {
     "data": {
      "text/html": [
       "<table border=\"1\" class=\"dataframe\">\n",
       "    <thead>\n",
       "        <tr>\n",
       "            <th>ID</th> <th>Name</th> <th>Sex</th> <th>Age</th> <th>Height</th> <th>Weight</th> <th>Team</th> <th>NOC</th> <th>Games</th> <th>Year</th> <th>Season</th> <th>City</th> <th>Sport</th> <th>Event</th> <th>Medal</th>\n",
       "        </tr>\n",
       "    </thead>\n",
       "    <tbody>\n",
       "        <tr>\n",
       "            <td>2   </td> <td>A Lamusi                </td> <td>M   </td> <td>23  </td> <td>170   </td> <td>60    </td> <td>China        </td> <td>CHN </td> <td>2012 Summer</td> <td>2012</td> <td>Summer</td> <td>London     </td> <td>Judo                </td> <td>Judo Men's Extra-Lightweight                       </td> <td>nan  </td>\n",
       "        </tr>\n",
       "        <tr>\n",
       "            <td>5   </td> <td>Christine Jacoba Aaftink</td> <td>F   </td> <td>27  </td> <td>185   </td> <td>82    </td> <td>Netherlands  </td> <td>NED </td> <td>1994 Winter</td> <td>1994</td> <td>Winter</td> <td>Lillehammer</td> <td>Speed Skating       </td> <td>Speed Skating Women's 500 metres                   </td> <td>nan  </td>\n",
       "        </tr>\n",
       "        <tr>\n",
       "            <td>5   </td> <td>Christine Jacoba Aaftink</td> <td>F   </td> <td>27  </td> <td>185   </td> <td>82    </td> <td>Netherlands  </td> <td>NED </td> <td>1994 Winter</td> <td>1994</td> <td>Winter</td> <td>Lillehammer</td> <td>Speed Skating       </td> <td>Speed Skating Women's 1,000 metres                 </td> <td>nan  </td>\n",
       "        </tr>\n",
       "        <tr>\n",
       "            <td>6   </td> <td>Per Knut Aaland         </td> <td>M   </td> <td>33  </td> <td>188   </td> <td>75    </td> <td>United States</td> <td>USA </td> <td>1994 Winter</td> <td>1994</td> <td>Winter</td> <td>Lillehammer</td> <td>Cross Country Skiing</td> <td>Cross Country Skiing Men's 10 kilometres           </td> <td>nan  </td>\n",
       "        </tr>\n",
       "        <tr>\n",
       "            <td>6   </td> <td>Per Knut Aaland         </td> <td>M   </td> <td>33  </td> <td>188   </td> <td>75    </td> <td>United States</td> <td>USA </td> <td>1994 Winter</td> <td>1994</td> <td>Winter</td> <td>Lillehammer</td> <td>Cross Country Skiing</td> <td>Cross Country Skiing Men's 30 kilometres           </td> <td>nan  </td>\n",
       "        </tr>\n",
       "        <tr>\n",
       "            <td>6   </td> <td>Per Knut Aaland         </td> <td>M   </td> <td>33  </td> <td>188   </td> <td>75    </td> <td>United States</td> <td>USA </td> <td>1994 Winter</td> <td>1994</td> <td>Winter</td> <td>Lillehammer</td> <td>Cross Country Skiing</td> <td>Cross Country Skiing Men's 10/15 kilometres Pursuit</td> <td>nan  </td>\n",
       "        </tr>\n",
       "        <tr>\n",
       "            <td>6   </td> <td>Per Knut Aaland         </td> <td>M   </td> <td>33  </td> <td>188   </td> <td>75    </td> <td>United States</td> <td>USA </td> <td>1994 Winter</td> <td>1994</td> <td>Winter</td> <td>Lillehammer</td> <td>Cross Country Skiing</td> <td>Cross Country Skiing Men's 4 x 10 kilometres Relay </td> <td>nan  </td>\n",
       "        </tr>\n",
       "        <tr>\n",
       "            <td>7   </td> <td>John Aalberg            </td> <td>M   </td> <td>33  </td> <td>183   </td> <td>72    </td> <td>United States</td> <td>USA </td> <td>1994 Winter</td> <td>1994</td> <td>Winter</td> <td>Lillehammer</td> <td>Cross Country Skiing</td> <td>Cross Country Skiing Men's 10 kilometres           </td> <td>nan  </td>\n",
       "        </tr>\n",
       "        <tr>\n",
       "            <td>7   </td> <td>John Aalberg            </td> <td>M   </td> <td>33  </td> <td>183   </td> <td>72    </td> <td>United States</td> <td>USA </td> <td>1994 Winter</td> <td>1994</td> <td>Winter</td> <td>Lillehammer</td> <td>Cross Country Skiing</td> <td>Cross Country Skiing Men's 30 kilometres           </td> <td>nan  </td>\n",
       "        </tr>\n",
       "        <tr>\n",
       "            <td>7   </td> <td>John Aalberg            </td> <td>M   </td> <td>33  </td> <td>183   </td> <td>72    </td> <td>United States</td> <td>USA </td> <td>1994 Winter</td> <td>1994</td> <td>Winter</td> <td>Lillehammer</td> <td>Cross Country Skiing</td> <td>Cross Country Skiing Men's 10/15 kilometres Pursuit</td> <td>nan  </td>\n",
       "        </tr>\n",
       "    </tbody>\n",
       "</table>\n",
       "<p>... (105793 rows omitted)</p>"
      ],
      "text/plain": [
       "ID   | Name                     | Sex  | Age  | Height | Weight | Team          | NOC  | Games       | Year | Season | City        | Sport                | Event                                               | Medal\n",
       "2    | A Lamusi                 | M    | 23   | 170    | 60     | China         | CHN  | 2012 Summer | 2012 | Summer | London      | Judo                 | Judo Men's Extra-Lightweight                        | nan\n",
       "5    | Christine Jacoba Aaftink | F    | 27   | 185    | 82     | Netherlands   | NED  | 1994 Winter | 1994 | Winter | Lillehammer | Speed Skating        | Speed Skating Women's 500 metres                    | nan\n",
       "5    | Christine Jacoba Aaftink | F    | 27   | 185    | 82     | Netherlands   | NED  | 1994 Winter | 1994 | Winter | Lillehammer | Speed Skating        | Speed Skating Women's 1,000 metres                  | nan\n",
       "6    | Per Knut Aaland          | M    | 33   | 188    | 75     | United States | USA  | 1994 Winter | 1994 | Winter | Lillehammer | Cross Country Skiing | Cross Country Skiing Men's 10 kilometres            | nan\n",
       "6    | Per Knut Aaland          | M    | 33   | 188    | 75     | United States | USA  | 1994 Winter | 1994 | Winter | Lillehammer | Cross Country Skiing | Cross Country Skiing Men's 30 kilometres            | nan\n",
       "6    | Per Knut Aaland          | M    | 33   | 188    | 75     | United States | USA  | 1994 Winter | 1994 | Winter | Lillehammer | Cross Country Skiing | Cross Country Skiing Men's 10/15 kilometres Pursuit | nan\n",
       "6    | Per Knut Aaland          | M    | 33   | 188    | 75     | United States | USA  | 1994 Winter | 1994 | Winter | Lillehammer | Cross Country Skiing | Cross Country Skiing Men's 4 x 10 kilometres Relay  | nan\n",
       "7    | John Aalberg             | M    | 33   | 183    | 72     | United States | USA  | 1994 Winter | 1994 | Winter | Lillehammer | Cross Country Skiing | Cross Country Skiing Men's 10 kilometres            | nan\n",
       "7    | John Aalberg             | M    | 33   | 183    | 72     | United States | USA  | 1994 Winter | 1994 | Winter | Lillehammer | Cross Country Skiing | Cross Country Skiing Men's 30 kilometres            | nan\n",
       "7    | John Aalberg             | M    | 33   | 183    | 72     | United States | USA  | 1994 Winter | 1994 | Winter | Lillehammer | Cross Country Skiing | Cross Country Skiing Men's 10/15 kilometres Pursuit | nan\n",
       "... (105793 rows omitted)"
      ]
     },
     "execution_count": 81,
     "metadata": {},
     "output_type": "execute_result"
    }
   ],
   "source": [
    "data = data.where(\"Year\", are.above(1992))\n",
    "data"
   ]
  },
  {
   "cell_type": "markdown",
   "metadata": {
    "slideshow": {
     "slide_type": "subslide"
    }
   },
   "source": [
    "Alright.  We got rid of a lot data (and notice that we got rid of many of Christine Jacoba Aaftink's games), but it should be more manageable now.\n",
    "\n",
    "Also, while we're at it, let's ignore rows with \"mismatched\" values.  You don't *need* to know how this next code block works, but feel free to follow along."
   ]
  },
  {
   "cell_type": "code",
   "execution_count": 82,
   "metadata": {
    "slideshow": {
     "slide_type": "fragment"
    }
   },
   "outputs": [
    {
     "data": {
      "text/html": [
       "<table border=\"1\" class=\"dataframe\">\n",
       "    <thead>\n",
       "        <tr>\n",
       "            <th>ID</th> <th>Name</th> <th>Sex</th> <th>Age</th> <th>Height</th> <th>Weight</th> <th>Team</th> <th>NOC</th> <th>Games</th> <th>Year</th> <th>Season</th> <th>City</th> <th>Sport</th> <th>Event</th> <th>Medal</th>\n",
       "        </tr>\n",
       "    </thead>\n",
       "    <tbody>\n",
       "        <tr>\n",
       "            <td>[21]</td> <td>['Ragnhild Margrethe Aamodt']</td> <td>['F']</td> <td>[27.]</td> <td>[163.]</td> <td>[nan] </td> <td>['Norway'] </td> <td>['NOR']</td> <td>['2008 Summer']</td> <td>[2008]</td> <td>['Summer']</td> <td>['Beijing']</td> <td>['Handball']</td> <td>[\"Handball Women's Handball\"]      </td> <td>['Gold']</td>\n",
       "        </tr>\n",
       "        <tr>\n",
       "            <td>[48]</td> <td>['Abdelhak Aatakni']         </td> <td>['M']</td> <td>[24.]</td> <td>[nan] </td> <td>[64.] </td> <td>['Morocco']</td> <td>['MAR']</td> <td>['2012 Summer']</td> <td>[2012]</td> <td>['Summer']</td> <td>['London'] </td> <td>['Boxing']  </td> <td>[\"Boxing Men's Light-Welterweight\"]</td> <td>['nan'] </td>\n",
       "        </tr>\n",
       "        <tr>\n",
       "            <td>[78]</td> <td>['Salim Abanoz']             </td> <td>['M']</td> <td>[26.]</td> <td>[nan] </td> <td>[nan] </td> <td>['Turkey'] </td> <td>['TUR']</td> <td>['1996 Summer']</td> <td>[1996]</td> <td>['Summer']</td> <td>['Atlanta']</td> <td>['Judo']    </td> <td>[\"Judo Men's Lightweight\"]         </td> <td>['nan'] </td>\n",
       "        </tr>\n",
       "    </tbody>\n",
       "</table>"
      ],
      "text/plain": [
       "<IPython.core.display.HTML object>"
      ]
     },
     "metadata": {},
     "output_type": "display_data"
    },
    {
     "name": "stdout",
     "output_type": "stream",
     "text": [
      "We're getting rid of rows like these!\n"
     ]
    }
   ],
   "source": [
    "nans = np.argwhere(np.isnan(data.column(\"Age\")) | np.isnan(data.column(\"Height\")) | np.isnan(data.column(\"Weight\")))\n",
    "data.take(nans[:3]).show() # This line is just to show us what these mismatched rows look like\n",
    "print(\"We're getting rid of rows like these!\")\n",
    "data = data.exclude(nans.flatten())"
   ]
  },
  {
   "cell_type": "markdown",
   "metadata": {
    "slideshow": {
     "slide_type": "slide"
    }
   },
   "source": [
    "# Interesting Analysis\n",
    "---\n",
    "1. Average age of medal winners.\n",
    "    - Does this change for males and females?\n",
    "    - min/max age of medal winners?\n",
    "        - find their entries\n",
    "2. Sports with the tallest/heaviest/oldest participants?\n",
    "3. Count of sport season by team country.\n",
    "4. Plot age by year, possibly split by sex."
   ]
  },
  {
   "cell_type": "code",
   "execution_count": 85,
   "metadata": {
    "slideshow": {
     "slide_type": "fragment"
    }
   },
   "outputs": [
    {
     "data": {
      "text/html": [
       "<table border=\"1\" class=\"dataframe\">\n",
       "    <thead>\n",
       "        <tr>\n",
       "            <th>Sport</th> <th>ID mean</th> <th>Name mean</th> <th>Sex mean</th> <th>Age mean</th> <th>Height mean</th> <th>Weight mean</th> <th>Team mean</th> <th>NOC mean</th> <th>Games mean</th> <th>Year mean</th> <th>Season mean</th> <th>City mean</th> <th>Event mean</th> <th>Medal mean</th>\n",
       "        </tr>\n",
       "    </thead>\n",
       "    <tbody>\n",
       "        <tr>\n",
       "            <td>Equestrianism   </td> <td>67700.6</td> <td>         </td> <td>        </td> <td>36.41   </td> <td>174.816    </td> <td>67.996     </td> <td>         </td> <td>        </td> <td>          </td> <td>2006.34  </td> <td>           </td> <td>         </td> <td>          </td> <td>          </td>\n",
       "        </tr>\n",
       "        <tr>\n",
       "            <td>Shooting        </td> <td>65196.4</td> <td>         </td> <td>        </td> <td>31.5359 </td> <td>172.985    </td> <td>73.6622    </td> <td>         </td> <td>        </td> <td>          </td> <td>2005.95  </td> <td>           </td> <td>         </td> <td>          </td> <td>          </td>\n",
       "        </tr>\n",
       "        <tr>\n",
       "            <td>Curling         </td> <td>72902.3</td> <td>         </td> <td>        </td> <td>31.1366 </td> <td>174.168    </td> <td>72.1317    </td> <td>         </td> <td>        </td> <td>          </td> <td>2005.42  </td> <td>           </td> <td>         </td> <td>          </td> <td>          </td>\n",
       "        </tr>\n",
       "        <tr>\n",
       "            <td>Golf            </td> <td>70397.8</td> <td>         </td> <td>        </td> <td>29.5833 </td> <td>174.046    </td> <td>71.1944    </td> <td>         </td> <td>        </td> <td>          </td> <td>2016     </td> <td>           </td> <td>         </td> <td>          </td> <td>          </td>\n",
       "        </tr>\n",
       "        <tr>\n",
       "            <td>Beach Volleyball</td> <td>68750.5</td> <td>         </td> <td>        </td> <td>29.1357 </td> <td>186.203    </td> <td>79.0892    </td> <td>         </td> <td>        </td> <td>          </td> <td>2006.68  </td> <td>           </td> <td>         </td> <td>          </td> <td>          </td>\n",
       "        </tr>\n",
       "        <tr>\n",
       "            <td>Skeleton        </td> <td>71618.2</td> <td>         </td> <td>        </td> <td>28.9653 </td> <td>176.098    </td> <td>74.0867    </td> <td>         </td> <td>        </td> <td>          </td> <td>2008.34  </td> <td>           </td> <td>         </td> <td>          </td> <td>          </td>\n",
       "        </tr>\n",
       "        <tr>\n",
       "            <td>Bobsleigh       </td> <td>71039.8</td> <td>         </td> <td>        </td> <td>28.8417 </td> <td>182.745    </td> <td>92.3825    </td> <td>         </td> <td>        </td> <td>          </td> <td>2004.19  </td> <td>           </td> <td>         </td> <td>          </td> <td>          </td>\n",
       "        </tr>\n",
       "        <tr>\n",
       "            <td>Sailing         </td> <td>66794.4</td> <td>         </td> <td>        </td> <td>28.4518 </td> <td>177.522    </td> <td>74.0316    </td> <td>         </td> <td>        </td> <td>          </td> <td>2005.98  </td> <td>           </td> <td>         </td> <td>          </td> <td>          </td>\n",
       "        </tr>\n",
       "        <tr>\n",
       "            <td>Triathlon       </td> <td>69368.9</td> <td>         </td> <td>        </td> <td>27.8935 </td> <td>173.641    </td> <td>61.8175    </td> <td>         </td> <td>        </td> <td>          </td> <td>2008.23  </td> <td>           </td> <td>         </td> <td>          </td> <td>          </td>\n",
       "        </tr>\n",
       "        <tr>\n",
       "            <td>Handball        </td> <td>66785.5</td> <td>         </td> <td>        </td> <td>27.3387 </td> <td>183.8      </td> <td>82.0386    </td> <td>         </td> <td>        </td> <td>          </td> <td>2006.62  </td> <td>           </td> <td>         </td> <td>          </td> <td>          </td>\n",
       "        </tr>\n",
       "    </tbody>\n",
       "</table>\n",
       "<p>... (41 rows omitted)</p>"
      ],
      "text/plain": [
       "Sport            | ID mean | Name mean | Sex mean | Age mean | Height mean | Weight mean | Team mean | NOC mean | Games mean | Year mean | Season mean | City mean | Event mean | Medal mean\n",
       "Equestrianism    | 67700.6 |           |          | 36.41    | 174.816     | 67.996      |           |          |            | 2006.34   |             |           |            |\n",
       "Shooting         | 65196.4 |           |          | 31.5359  | 172.985     | 73.6622     |           |          |            | 2005.95   |             |           |            |\n",
       "Curling          | 72902.3 |           |          | 31.1366  | 174.168     | 72.1317     |           |          |            | 2005.42   |             |           |            |\n",
       "Golf             | 70397.8 |           |          | 29.5833  | 174.046     | 71.1944     |           |          |            | 2016      |             |           |            |\n",
       "Beach Volleyball | 68750.5 |           |          | 29.1357  | 186.203     | 79.0892     |           |          |            | 2006.68   |             |           |            |\n",
       "Skeleton         | 71618.2 |           |          | 28.9653  | 176.098     | 74.0867     |           |          |            | 2008.34   |             |           |            |\n",
       "Bobsleigh        | 71039.8 |           |          | 28.8417  | 182.745     | 92.3825     |           |          |            | 2004.19   |             |           |            |\n",
       "Sailing          | 66794.4 |           |          | 28.4518  | 177.522     | 74.0316     |           |          |            | 2005.98   |             |           |            |\n",
       "Triathlon        | 69368.9 |           |          | 27.8935  | 173.641     | 61.8175     |           |          |            | 2008.23   |             |           |            |\n",
       "Handball         | 66785.5 |           |          | 27.3387  | 183.8       | 82.0386     |           |          |            | 2006.62   |             |           |            |\n",
       "... (41 rows omitted)"
      ]
     },
     "execution_count": 85,
     "metadata": {},
     "output_type": "execute_result"
    }
   ],
   "source": [
    "# Warmup: Find the sports with the heaviest average competitor weight. \n",
    "# Extra credit: can you guess what events these would be before we find them?\n",
    "data.group(\"Sport\", np.mean).sort(\"Age mean\", descending=True)"
   ]
  },
  {
   "cell_type": "markdown",
   "metadata": {
    "slideshow": {
     "slide_type": "subslide"
    }
   },
   "source": [
    "# Repeat Participants vs One-Timers\n",
    "---\n",
    "\n",
    "Who showed up multiple times?  Who only showed up once?\n",
    "\n",
    "Can we get a table of just those people and their data?"
   ]
  },
  {
   "cell_type": "code",
   "execution_count": 100,
   "metadata": {
    "slideshow": {
     "slide_type": "subslide"
    }
   },
   "outputs": [
    {
     "data": {
      "text/html": [
       "<table border=\"1\" class=\"dataframe\">\n",
       "    <thead>\n",
       "        <tr>\n",
       "            <th>Name</th> <th>count</th>\n",
       "        </tr>\n",
       "    </thead>\n",
       "    <tbody>\n",
       "        <tr>\n",
       "            <td> Th Anh                                </td> <td>1    </td>\n",
       "        </tr>\n",
       "        <tr>\n",
       "            <td> Th Ngn Thng                           </td> <td>2    </td>\n",
       "        </tr>\n",
       "        <tr>\n",
       "            <td>A Lamusi                               </td> <td>1    </td>\n",
       "        </tr>\n",
       "        <tr>\n",
       "            <td>A. J. Tyronne Benildus \"Benny\" Fernando</td> <td>1    </td>\n",
       "        </tr>\n",
       "        <tr>\n",
       "            <td>A. Joshua \"Josh\" West                  </td> <td>2    </td>\n",
       "        </tr>\n",
       "        <tr>\n",
       "            <td>Aadam Ismaeel Khamis                   </td> <td>1    </td>\n",
       "        </tr>\n",
       "        <tr>\n",
       "            <td>Aagje Vanwalleghem                     </td> <td>1    </td>\n",
       "        </tr>\n",
       "        <tr>\n",
       "            <td>Aarik Wilson                           </td> <td>1    </td>\n",
       "        </tr>\n",
       "        <tr>\n",
       "            <td>Aarn Galindo Rubio                     </td> <td>1    </td>\n",
       "        </tr>\n",
       "        <tr>\n",
       "            <td>Aarn Sarmiento Padilla                 </td> <td>2    </td>\n",
       "        </tr>\n",
       "    </tbody>\n",
       "</table>\n",
       "<p>... (51329 rows omitted)</p>"
      ],
      "text/plain": [
       "Name                                    | count\n",
       " Th Anh                                 | 1\n",
       " Th Ngn Thng                            | 2\n",
       "A Lamusi                                | 1\n",
       "A. J. Tyronne Benildus \"Benny\" Fernando | 1\n",
       "A. Joshua \"Josh\" West                   | 2\n",
       "Aadam Ismaeel Khamis                    | 1\n",
       "Aagje Vanwalleghem                      | 1\n",
       "Aarik Wilson                            | 1\n",
       "Aarn Galindo Rubio                      | 1\n",
       "Aarn Sarmiento Padilla                  | 2\n",
       "... (51329 rows omitted)"
      ]
     },
     "execution_count": 100,
     "metadata": {},
     "output_type": "execute_result"
    }
   ],
   "source": [
    "# Let's get how many times each person was in the dataset\n",
    "counts = data.group([\"Name\",\"Year\"]).group(\"Name\")\n",
    "counts"
   ]
  },
  {
   "cell_type": "code",
   "execution_count": 93,
   "metadata": {
    "slideshow": {
     "slide_type": "fragment"
    }
   },
   "outputs": [
    {
     "data": {
      "text/plain": [
       "array([' Th Ngn Thng', 'A. Joshua \"Josh\" West', 'Aarn Sarmiento Padilla',\n",
       "       ..., 'verton dos Santos Lopes', 'zlem Kaya', 'zzet nce'],\n",
       "      dtype='<U70')"
      ]
     },
     "execution_count": 93,
     "metadata": {},
     "output_type": "execute_result"
    }
   ],
   "source": [
    "# How to get just the names that have count > 1?\n",
    "repeat_names = counts.where(\"count\", are.above(1)).column(\"Name\")\n",
    "repeat_names"
   ]
  },
  {
   "cell_type": "markdown",
   "metadata": {
    "slideshow": {
     "slide_type": "subslide"
    }
   },
   "source": [
    "And now we want just the data of people who were repeat participants."
   ]
  },
  {
   "cell_type": "code",
   "execution_count": 94,
   "metadata": {
    "slideshow": {
     "slide_type": "fragment"
    }
   },
   "outputs": [
    {
     "data": {
      "text/html": [
       "<table border=\"1\" class=\"dataframe\">\n",
       "    <thead>\n",
       "        <tr>\n",
       "            <th>ID</th> <th>Name</th> <th>Sex</th> <th>Age</th> <th>Height</th> <th>Weight</th> <th>Team</th> <th>NOC</th> <th>Games</th> <th>Year</th> <th>Season</th> <th>City</th> <th>Sport</th> <th>Event</th> <th>Medal</th>\n",
       "        </tr>\n",
       "    </thead>\n",
       "    <tbody>\n",
       "        <tr>\n",
       "            <td>13  </td> <td>Minna Maarit Aalto</td> <td>F   </td> <td>30  </td> <td>159   </td> <td>55.5  </td> <td>Finland</td> <td>FIN </td> <td>1996 Summer</td> <td>1996</td> <td>Summer</td> <td>Atlanta    </td> <td>Sailing      </td> <td>Sailing Women's Windsurfer      </td> <td>nan   </td>\n",
       "        </tr>\n",
       "        <tr>\n",
       "            <td>13  </td> <td>Minna Maarit Aalto</td> <td>F   </td> <td>34  </td> <td>159   </td> <td>55.5  </td> <td>Finland</td> <td>FIN </td> <td>2000 Summer</td> <td>2000</td> <td>Summer</td> <td>Sydney     </td> <td>Sailing      </td> <td>Sailing Women's Windsurfer      </td> <td>nan   </td>\n",
       "        </tr>\n",
       "        <tr>\n",
       "            <td>20  </td> <td>Kjetil Andr Aamodt</td> <td>M   </td> <td>22  </td> <td>176   </td> <td>85    </td> <td>Norway </td> <td>NOR </td> <td>1994 Winter</td> <td>1994</td> <td>Winter</td> <td>Lillehammer</td> <td>Alpine Skiing</td> <td>Alpine Skiing Men's Downhill    </td> <td>Silver</td>\n",
       "        </tr>\n",
       "        <tr>\n",
       "            <td>20  </td> <td>Kjetil Andr Aamodt</td> <td>M   </td> <td>22  </td> <td>176   </td> <td>85    </td> <td>Norway </td> <td>NOR </td> <td>1994 Winter</td> <td>1994</td> <td>Winter</td> <td>Lillehammer</td> <td>Alpine Skiing</td> <td>Alpine Skiing Men's Super G     </td> <td>Bronze</td>\n",
       "        </tr>\n",
       "        <tr>\n",
       "            <td>20  </td> <td>Kjetil Andr Aamodt</td> <td>M   </td> <td>22  </td> <td>176   </td> <td>85    </td> <td>Norway </td> <td>NOR </td> <td>1994 Winter</td> <td>1994</td> <td>Winter</td> <td>Lillehammer</td> <td>Alpine Skiing</td> <td>Alpine Skiing Men's Giant Slalom</td> <td>nan   </td>\n",
       "        </tr>\n",
       "        <tr>\n",
       "            <td>20  </td> <td>Kjetil Andr Aamodt</td> <td>M   </td> <td>22  </td> <td>176   </td> <td>85    </td> <td>Norway </td> <td>NOR </td> <td>1994 Winter</td> <td>1994</td> <td>Winter</td> <td>Lillehammer</td> <td>Alpine Skiing</td> <td>Alpine Skiing Men's Slalom      </td> <td>nan   </td>\n",
       "        </tr>\n",
       "        <tr>\n",
       "            <td>20  </td> <td>Kjetil Andr Aamodt</td> <td>M   </td> <td>22  </td> <td>176   </td> <td>85    </td> <td>Norway </td> <td>NOR </td> <td>1994 Winter</td> <td>1994</td> <td>Winter</td> <td>Lillehammer</td> <td>Alpine Skiing</td> <td>Alpine Skiing Men's Combined    </td> <td>Silver</td>\n",
       "        </tr>\n",
       "        <tr>\n",
       "            <td>20  </td> <td>Kjetil Andr Aamodt</td> <td>M   </td> <td>26  </td> <td>176   </td> <td>85    </td> <td>Norway </td> <td>NOR </td> <td>1998 Winter</td> <td>1998</td> <td>Winter</td> <td>Nagano     </td> <td>Alpine Skiing</td> <td>Alpine Skiing Men's Downhill    </td> <td>nan   </td>\n",
       "        </tr>\n",
       "        <tr>\n",
       "            <td>20  </td> <td>Kjetil Andr Aamodt</td> <td>M   </td> <td>26  </td> <td>176   </td> <td>85    </td> <td>Norway </td> <td>NOR </td> <td>1998 Winter</td> <td>1998</td> <td>Winter</td> <td>Nagano     </td> <td>Alpine Skiing</td> <td>Alpine Skiing Men's Super G     </td> <td>nan   </td>\n",
       "        </tr>\n",
       "        <tr>\n",
       "            <td>20  </td> <td>Kjetil Andr Aamodt</td> <td>M   </td> <td>26  </td> <td>176   </td> <td>85    </td> <td>Norway </td> <td>NOR </td> <td>1998 Winter</td> <td>1998</td> <td>Winter</td> <td>Nagano     </td> <td>Alpine Skiing</td> <td>Alpine Skiing Men's Giant Slalom</td> <td>nan   </td>\n",
       "        </tr>\n",
       "    </tbody>\n",
       "</table>\n",
       "<p>... (59193 rows omitted)</p>"
      ],
      "text/plain": [
       "ID   | Name               | Sex  | Age  | Height | Weight | Team    | NOC  | Games       | Year | Season | City        | Sport         | Event                            | Medal\n",
       "13   | Minna Maarit Aalto | F    | 30   | 159    | 55.5   | Finland | FIN  | 1996 Summer | 1996 | Summer | Atlanta     | Sailing       | Sailing Women's Windsurfer       | nan\n",
       "13   | Minna Maarit Aalto | F    | 34   | 159    | 55.5   | Finland | FIN  | 2000 Summer | 2000 | Summer | Sydney      | Sailing       | Sailing Women's Windsurfer       | nan\n",
       "20   | Kjetil Andr Aamodt | M    | 22   | 176    | 85     | Norway  | NOR  | 1994 Winter | 1994 | Winter | Lillehammer | Alpine Skiing | Alpine Skiing Men's Downhill     | Silver\n",
       "20   | Kjetil Andr Aamodt | M    | 22   | 176    | 85     | Norway  | NOR  | 1994 Winter | 1994 | Winter | Lillehammer | Alpine Skiing | Alpine Skiing Men's Super G      | Bronze\n",
       "20   | Kjetil Andr Aamodt | M    | 22   | 176    | 85     | Norway  | NOR  | 1994 Winter | 1994 | Winter | Lillehammer | Alpine Skiing | Alpine Skiing Men's Giant Slalom | nan\n",
       "20   | Kjetil Andr Aamodt | M    | 22   | 176    | 85     | Norway  | NOR  | 1994 Winter | 1994 | Winter | Lillehammer | Alpine Skiing | Alpine Skiing Men's Slalom       | nan\n",
       "20   | Kjetil Andr Aamodt | M    | 22   | 176    | 85     | Norway  | NOR  | 1994 Winter | 1994 | Winter | Lillehammer | Alpine Skiing | Alpine Skiing Men's Combined     | Silver\n",
       "20   | Kjetil Andr Aamodt | M    | 26   | 176    | 85     | Norway  | NOR  | 1998 Winter | 1998 | Winter | Nagano      | Alpine Skiing | Alpine Skiing Men's Downhill     | nan\n",
       "20   | Kjetil Andr Aamodt | M    | 26   | 176    | 85     | Norway  | NOR  | 1998 Winter | 1998 | Winter | Nagano      | Alpine Skiing | Alpine Skiing Men's Super G      | nan\n",
       "20   | Kjetil Andr Aamodt | M    | 26   | 176    | 85     | Norway  | NOR  | 1998 Winter | 1998 | Winter | Nagano      | Alpine Skiing | Alpine Skiing Men's Giant Slalom | nan\n",
       "... (59193 rows omitted)"
      ]
     },
     "execution_count": 94,
     "metadata": {},
     "output_type": "execute_result"
    }
   ],
   "source": [
    "# Now as simple as using a .where() statement\n",
    "repeats = data.where(\"Name\", are.contained_in(repeat_names))\n",
    "repeats"
   ]
  },
  {
   "cell_type": "markdown",
   "metadata": {
    "slideshow": {
     "slide_type": "subslide"
    }
   },
   "source": [
    "# Beginning Age --> Repeat or One-Timer?\n",
    "---\n",
    "\n",
    "Can we tell if you'll participate in the Olympics again based on your age?"
   ]
  },
  {
   "cell_type": "code",
   "execution_count": 96,
   "metadata": {
    "slideshow": {
     "slide_type": "fragment"
    }
   },
   "outputs": [],
   "source": [
    "# If someone showed up multiple times they were probability pretty young at their first olympics, right?\n",
    "# Let's find the avg min age of these repeat participants, and compare it to avg age of one-time participants\n",
    "onetimes = data.where(\"Name\", are.not_contained_in(repeat_names))"
   ]
  },
  {
   "cell_type": "code",
   "execution_count": 97,
   "metadata": {
    "slideshow": {
     "slide_type": "fragment"
    }
   },
   "outputs": [
    {
     "data": {
      "text/html": [
       "<table border=\"1\" class=\"dataframe\">\n",
       "    <thead>\n",
       "        <tr>\n",
       "            <th>Name</th> <th>Age min</th>\n",
       "        </tr>\n",
       "    </thead>\n",
       "    <tbody>\n",
       "        <tr>\n",
       "            <td> Th Ngn Thng          </td> <td>19     </td>\n",
       "        </tr>\n",
       "        <tr>\n",
       "            <td>A. Joshua \"Josh\" West </td> <td>27     </td>\n",
       "        </tr>\n",
       "        <tr>\n",
       "            <td>Aarn Sarmiento Padilla</td> <td>21     </td>\n",
       "        </tr>\n",
       "        <tr>\n",
       "            <td>Aaron Arthur Cook     </td> <td>17     </td>\n",
       "        </tr>\n",
       "        <tr>\n",
       "            <td>Aaron Brown           </td> <td>20     </td>\n",
       "        </tr>\n",
       "        <tr>\n",
       "            <td>Aaron Gate            </td> <td>21     </td>\n",
       "        </tr>\n",
       "        <tr>\n",
       "            <td>Aaron J. \"AJ\" Bear    </td> <td>25     </td>\n",
       "        </tr>\n",
       "        <tr>\n",
       "            <td>Aaron John McIntosh   </td> <td>24     </td>\n",
       "        </tr>\n",
       "        <tr>\n",
       "            <td>Aaron March           </td> <td>23     </td>\n",
       "        </tr>\n",
       "        <tr>\n",
       "            <td>Aaron Wells Peirsol   </td> <td>17     </td>\n",
       "        </tr>\n",
       "    </tbody>\n",
       "</table>\n",
       "<p>... (17063 rows omitted)</p>"
      ],
      "text/plain": [
       "Name                   | Age min\n",
       " Th Ngn Thng           | 19\n",
       "A. Joshua \"Josh\" West  | 27\n",
       "Aarn Sarmiento Padilla | 21\n",
       "Aaron Arthur Cook      | 17\n",
       "Aaron Brown            | 20\n",
       "Aaron Gate             | 21\n",
       "Aaron J. \"AJ\" Bear     | 25\n",
       "Aaron John McIntosh    | 24\n",
       "Aaron March            | 23\n",
       "Aaron Wells Peirsol    | 17\n",
       "... (17063 rows omitted)"
      ]
     },
     "execution_count": 97,
     "metadata": {},
     "output_type": "execute_result"
    }
   ],
   "source": [
    "# How will we take avg of min ages for all participants?\n",
    "# Well, by grouping of course!\n",
    "# Let's only select the columns we need\n",
    "min_ages_repeats = repeats.select(\"Name\", \"Age\").group(\"Name\", min)\n",
    "\n",
    "# Why don't we need to do any of that here?\n",
    "ages_onetimes = onetimes.select(\"Name\", \"Age\")\n",
    "\n",
    "min_ages_repeats"
   ]
  },
  {
   "cell_type": "code",
   "execution_count": 98,
   "metadata": {
    "slideshow": {
     "slide_type": "fragment"
    }
   },
   "outputs": [
    {
     "name": "stdout",
     "output_type": "stream",
     "text": [
      "Average Beginning Age of Repeat Participants: 23.45873601593159\n",
      "Average Age of One-Time Participants: 24.73526132404181\n"
     ]
    }
   ],
   "source": [
    "# Now as simple as comparing the means of the Age columns in the two tables\n",
    "avg_min_age_repeats = np.mean(min_ages_repeats.column(\"Age min\"))\n",
    "avg_ages_onetimes = np.mean(ages_onetimes.column(\"Age\"))\n",
    "\n",
    "print(\"Average Beginning Age of Repeat Participants:\", avg_min_age_repeats)\n",
    "print(\"Average Age of One-Time Participants:\", avg_ages_onetimes)"
   ]
  },
  {
   "cell_type": "markdown",
   "metadata": {
    "slideshow": {
     "slide_type": "slide"
    }
   },
   "source": [
    "# Age distributions\n",
    "---"
   ]
  },
  {
   "cell_type": "code",
   "execution_count": 99,
   "metadata": {
    "slideshow": {
     "slide_type": "subslide"
    }
   },
   "outputs": [
    {
     "data": {
      "image/png": "[encoded data removed]",
      "text/plain": [
       "<Figure size 432x288 with 1 Axes>"
      ]
     },
     "metadata": {
      "needs_background": "light"
     },
     "output_type": "display_data"
    }
   ],
   "source": [
    "# Hmm... not as different as I would have expected.\n",
    "\n",
    "# Let's plot the ditributions to look into this further\n",
    "\n",
    "min_ages_repeats.hist(\"Age min\")"
   ]
  },
  {
   "cell_type": "code",
   "execution_count": 101,
   "metadata": {
    "slideshow": {
     "slide_type": "subslide"
    }
   },
   "outputs": [
    {
     "data": {
      "image/png": "[encoded data removed]",
      "text/plain": [
       "<Figure size 432x288 with 1 Axes>"
      ]
     },
     "metadata": {
      "needs_background": "light"
     },
     "output_type": "display_data"
    }
   ],
   "source": [
    "ages_onetimes.hist(\"Age\")"
   ]
  },
  {
   "cell_type": "code",
   "execution_count": 104,
   "metadata": {
    "slideshow": {
     "slide_type": "fragment"
    }
   },
   "outputs": [
    {
     "data": {
      "image/png": "[encoded data removed]",
      "text/plain": [
       "<Figure size 432x288 with 1 Axes>"
      ]
     },
     "metadata": {
      "needs_background": "light"
     },
     "output_type": "display_data"
    }
   ],
   "source": [
    "# Don't worry about these next code blocks, just focus on the histograms they create\n",
    "import matplotlib.pyplot as plt\n",
    "plt.hist(\n",
    "    [min_ages_repeats.column(\"Age min\"), ages_onetimes.column(\"Age\")],\n",
    "    bins=np.arange(10, 70, 5),\n",
    "    density=True,\n",
    "    histtype=\"stepfilled\", alpha=0.6\n",
    ")\n",
    "plt.legend([\"one time\",\"repeat\"]);"
   ]
  },
  {
   "cell_type": "markdown",
   "metadata": {
    "slideshow": {
     "slide_type": "subslide"
    }
   },
   "source": [
    "What percent of repeats/one-timers are 20-25?\n",
    "\n",
    "Let's recall the axis label *\"percent per unit\"*\n",
    "\n",
    "**Unit = Bin Size**\n",
    "\n",
    "Then, there's some math\n",
    "$$\"percent\\ per\\ unit\"=\\frac{percent}{bin\\_size}$$\n",
    "\n",
    "$$\"percent\\ per\\ unit\" *\\ bin\\_size=percent$$"
   ]
  },
  {
   "cell_type": "code",
   "execution_count": 105,
   "metadata": {
    "slideshow": {
     "slide_type": "subslide"
    }
   },
   "outputs": [
    {
     "data": {
      "text/plain": [
       "50.0"
      ]
     },
     "execution_count": 105,
     "metadata": {},
     "output_type": "execute_result"
    }
   ],
   "source": [
    "# So, the percent of repeats that were 20-25 at their first game is:\n",
    "0.1 * 5 * 100"
   ]
  },
  {
   "cell_type": "code",
   "execution_count": 106,
   "metadata": {
    "slideshow": {
     "slide_type": "fragment"
    }
   },
   "outputs": [
    {
     "data": {
      "text/plain": [
       "40.0"
      ]
     },
     "execution_count": 106,
     "metadata": {},
     "output_type": "execute_result"
    }
   ],
   "source": [
    "# And the percent of one-timers that were 20-25 is:\n",
    "0.08 * 5 * 100"
   ]
  },
  {
   "cell_type": "markdown",
   "metadata": {
    "slideshow": {
     "slide_type": "subslide"
    }
   },
   "source": [
    "But what are those percents out of?"
   ]
  },
  {
   "cell_type": "code",
   "execution_count": 107,
   "metadata": {
    "slideshow": {
     "slide_type": "fragment"
    }
   },
   "outputs": [
    {
     "data": {
      "text/plain": [
       "'\\ntotal number of one-time olympians\\n'"
      ]
     },
     "execution_count": 107,
     "metadata": {},
     "output_type": "execute_result"
    }
   ],
   "source": [
    "# The percent of repeats is out of:\n",
    "\"\"\"\n",
    "total number of repeat olympians\n",
    "\"\"\"\n",
    "\n",
    "# The percent of one-timers is out of:\n",
    "\"\"\"\n",
    "total number of one-time olympians\n",
    "\"\"\""
   ]
  },
  {
   "cell_type": "markdown",
   "metadata": {
    "slideshow": {
     "slide_type": "subslide"
    }
   },
   "source": [
    "So how would we find the *number* of repeats between 20-25 at their first game versus the *number* of one-timers between 20-25?"
   ]
  },
  {
   "cell_type": "code",
   "execution_count": null,
   "metadata": {
    "slideshow": {
     "slide_type": "fragment"
    }
   },
   "outputs": [],
   "source": [
    "# To turn percent into a count we:\n",
    "\"\"\"\n",
    "multiply by the population size\n",
    "\"\"\""
   ]
  },
  {
   "cell_type": "code",
   "execution_count": 108,
   "metadata": {
    "slideshow": {
     "slide_type": "fragment"
    }
   },
   "outputs": [
    {
     "name": "stdout",
     "output_type": "stream",
     "text": [
      "8536.5 17220.0\n"
     ]
    }
   ],
   "source": [
    "# Some code to get the \"population sizes\" of `min_ages_repeats` and `ages_onetimes`\n",
    "# and multiply by the proportion\n",
    "num_repeats_2025 = min_ages_repeats.num_rows * .5\n",
    "num_onetimes_2025 = ages_onetimes.num_rows * .4\n",
    "\n",
    "print(num_repeats_2025, num_onetimes_2025)"
   ]
  },
  {
   "cell_type": "markdown",
   "metadata": {
    "slideshow": {
     "slide_type": "subslide"
    }
   },
   "source": [
    "Let's instead take a look at the count histogram."
   ]
  },
  {
   "cell_type": "code",
   "execution_count": 109,
   "metadata": {
    "slideshow": {
     "slide_type": "fragment"
    }
   },
   "outputs": [
    {
     "data": {
      "image/png": "[encoded data removed]",
      "text/plain": [
       "<Figure size 432x288 with 1 Axes>"
      ]
     },
     "metadata": {
      "needs_background": "light"
     },
     "output_type": "display_data"
    }
   ],
   "source": [
    "plt.hist(\n",
    "    [min_ages_repeats.column(\"Age min\"), ages_onetimes.column(\"Age\")],\n",
    "    bins=np.arange(10, 70, 5),\n",
    "    density=False,\n",
    "    histtype=\"stepfilled\", alpha=0.6\n",
    ")\n",
    "plt.legend([\"one time\",\"repeat\"]);"
   ]
  },
  {
   "cell_type": "markdown",
   "metadata": {
    "slideshow": {
     "slide_type": "subslide"
    }
   },
   "source": [
    "So, if you're 20-25, are you more likely to be a repeat or a one-timer?\n",
    "\n",
    "How do you know this, and why might it be the case?"
   ]
  },
  {
   "cell_type": "code",
   "execution_count": 110,
   "metadata": {
    "slideshow": {
     "slide_type": "fragment"
    }
   },
   "outputs": [
    {
     "data": {
      "text/plain": [
       "'\\nOne-timer because the number of olympians aged 20-25 for their first olympics was more for one-timers than repeat olympians.\\n\\nThis is likely because it is much harder to be a repeat olympian and therefore more people are one-time olympians\\n'"
      ]
     },
     "execution_count": 110,
     "metadata": {},
     "output_type": "execute_result"
    }
   ],
   "source": [
    "# Our answer goes here\n",
    "\"\"\"\n",
    "One-timer because the number of olympians aged 20-25 for their first olympics was more for one-timers than repeat olympians.\n",
    "\n",
    "This is likely because it is much harder to be a repeat olympian and therefore more people are one-time olympians\n",
    "\"\"\""
   ]
  }
 ],
 "metadata": {
  "celltoolbar": "Slideshow",
  "kernelspec": {
   "display_name": "Python 3",
   "language": "python",
   "name": "python3"
  },
  "language_info": {
   "codemirror_mode": {
    "name": "ipython",
    "version": 3
   },
   "file_extension": ".py",
   "mimetype": "text/x-python",
   "name": "python",
   "nbconvert_exporter": "python",
   "pygments_lexer": "ipython3",
   "version": "3.6.7"
  }
 },
 "nbformat": 4,
 "nbformat_minor": 2
}
