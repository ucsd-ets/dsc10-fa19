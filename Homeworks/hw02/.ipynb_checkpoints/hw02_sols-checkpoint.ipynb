{
 "cells": [
  {
   "cell_type": "markdown",
   "metadata": {},
   "source": [
    "# Homework 2: Tables and Charts, Due Monday, October 14, at 11:59pm"
   ]
  },
  {
   "cell_type": "markdown",
   "metadata": {},
   "source": [
    "**Reading**: Textbook chapters [6](https://www.inferentialthinking.com/chapters/06/Tables.html) and [7](https://www.inferentialthinking.com/chapters/07/Visualization.html).\n",
    "\n",
    "Directly sharing answers is not okay, but discussing problems with the course staff or with other students is encouraged. \n",
    "\n",
    "You should start early so that you have time to get help if you're stuck."
   ]
  },
  {
   "cell_type": "markdown",
   "metadata": {},
   "source": [
    "Please complete this notebook by filling in the cells provided. Before you begin, execute the following cell to load the provided tests. Each time you start your server, you will need to execute this cell again to load the tests."
   ]
  },
  {
   "cell_type": "code",
   "execution_count": 1,
   "metadata": {
    "scrolled": true
   },
   "outputs": [
    {
     "name": "stdout",
     "output_type": "stream",
     "text": [
      "=====================================================================\n",
      "Assignment: Homework 1: Causality and Expressions\n",
      "OK, version v1.13.11\n",
      "=====================================================================\n",
      "\n"
     ]
    }
   ],
   "source": [
    "# Don't change this cell; just run it. \n",
    "\n",
    "import numpy as np\n",
    "from datascience import *\n",
    "\n",
    "%matplotlib inline\n",
    "import matplotlib.pyplot as plt\n",
    "plt.style.use('fivethirtyeight')\n",
    "\n",
    "from client.api.notebook import Notebook\n",
    "ok = Notebook('hw02.ok')\n",
    "#_ = ok.auth(inline=True, force=True)"
   ]
  },
  {
   "cell_type": "markdown",
   "metadata": {},
   "source": [
    "**Important**: The `ok` tests don't always tell you that your answer is correct. More often, they help catch careless mistakes. It's up to you to ensure that your answer is correct. If you're not sure, ask someone (not for the answer, but for some guidance about your approach)."
   ]
  },
  {
   "cell_type": "markdown",
   "metadata": {},
   "source": [
    "Once you're finished, you must do two things:\n",
    "\n",
    "### a. Turn into OK\n",
    "Select \"Save and Checkpoint\" in the File menu and then execute the `submit` cell below. The result will contain a link that you can use to check that your assignment has been submitted successfully. If you submit more than once before the deadline, we will only grade your final submission."
   ]
  },
  {
   "cell_type": "code",
   "execution_count": 2,
   "metadata": {},
   "outputs": [],
   "source": [
    "#_ = ok.submit()"
   ]
  },
  {
   "cell_type": "markdown",
   "metadata": {},
   "source": [
    "### b. Turn PDF into Gradescope\n",
    "Select File > Download As > PDF via LaTeX in the File menu. Turn in this PDF file into the respective assignment at https://gradescope.com/.\n",
    "\n",
    "If this doesn't work: try File > Download As > HTML, then print to PDF and upload to Gradescope. \n",
    "\n",
    "<br>\n",
    "If you submit more than once before the deadline, we will only grade your final submission"
   ]
  },
  {
   "cell_type": "markdown",
   "metadata": {},
   "source": [
    "## 1. Shark Attacks"
   ]
  },
  {
   "cell_type": "markdown",
   "metadata": {},
   "source": [
    "**Question 1.** The first line assigns `sharks` to an array containing the number of shark attacks between 1930 and 2017. What's the smallest and largest number of shark attacks in a given year? What is the average number of attacks between 1930 and 2017 `(round to an integer)`. What is the total number of shark attacks between 1930 and 2017?"
   ]
  },
  {
   "cell_type": "code",
   "execution_count": 3,
   "metadata": {},
   "outputs": [
    {
     "name": "stderr",
     "output_type": "stream",
     "text": [
      "C:\\Users\\Yang Li\\Anaconda3\\lib\\site-packages\\datascience\\tables.py:132: FutureWarning: read_table is deprecated, use read_csv instead.\n",
      "  df = pandas.read_table(filepath_or_buffer, *args, **vargs)\n"
     ]
    },
    {
     "data": {
      "text/plain": [
       "(16, 143, 57, 5001)"
      ]
     },
     "execution_count": 3,
     "metadata": {},
     "output_type": "execute_result"
    }
   ],
   "source": [
    "sharks = Table.read_table('./sharks.csv').column('Attacks')\n",
    "\n",
    "smallest = min(sharks)\n",
    "largest = max(sharks)\n",
    "average = int(round(np.mean(sharks)))\n",
    "total = sum(sharks)\n",
    "\n",
    "smallest,largest,average,total"
   ]
  },
  {
   "cell_type": "code",
   "execution_count": 4,
   "metadata": {},
   "outputs": [
    {
     "data": {
      "text/plain": [
       "True"
      ]
     },
     "execution_count": 4,
     "metadata": {},
     "output_type": "execute_result"
    }
   ],
   "source": [
    "(isinstance(smallest, np.int32) or isinstance(smallest, int),isinstance(largest, np.int32) or isinstance(largest, int),\\\n",
    " isinstance(average, np.int32)or isinstance(average, int),isinstance(total, np.int32) or isinstance(total, int))== (True,True,True,True)"
   ]
  },
  {
   "cell_type": "code",
   "execution_count": 5,
   "metadata": {},
   "outputs": [
    {
     "name": "stdout",
     "output_type": "stream",
     "text": [
      "~~~~~~~~~~~~~~~~~~~~~~~~~~~~~~~~~~~~~~~~~~~~~~~~~~~~~~~~~~~~~~~~~~~~~\n",
      "Running tests\n",
      "\n",
      "---------------------------------------------------------------------\n",
      "Test summary\n",
      "    Passed: 1\n",
      "    Failed: 0\n",
      "[ooooooooook] 100.0% passed\n",
      "\n"
     ]
    }
   ],
   "source": [
    "_ = ok.grade('q1_1')"
   ]
  },
  {
   "cell_type": "markdown",
   "metadata": {},
   "source": [
    "**Question 2.** What is the largest decrease in attacks experienced between consecutive years? \n",
    "\n",
    "*Hint*: You'll need an array arithmetic function [mentioned in the textbook](https://ucsd-dsc10.gitbooks.io/textbook/content/chapters/04/4/arrays.html#Functions-on-Arrays)."
   ]
  },
  {
   "cell_type": "code",
   "execution_count": 6,
   "metadata": {},
   "outputs": [
    {
     "data": {
      "text/plain": [
       "-25"
      ]
     },
     "execution_count": 6,
     "metadata": {},
     "output_type": "execute_result"
    }
   ],
   "source": [
    "biggest_decrease = min(np.diff(sharks))\n",
    "biggest_decrease"
   ]
  },
  {
   "cell_type": "code",
   "execution_count": 7,
   "metadata": {},
   "outputs": [
    {
     "data": {
      "text/plain": [
       "True"
      ]
     },
     "execution_count": 7,
     "metadata": {},
     "output_type": "execute_result"
    }
   ],
   "source": [
    "isinstance(biggest_decrease, np.int32) or isinstance(biggest_decrease, int)"
   ]
  },
  {
   "cell_type": "code",
   "execution_count": 8,
   "metadata": {},
   "outputs": [
    {
     "name": "stdout",
     "output_type": "stream",
     "text": [
      "~~~~~~~~~~~~~~~~~~~~~~~~~~~~~~~~~~~~~~~~~~~~~~~~~~~~~~~~~~~~~~~~~~~~~\n",
      "Running tests\n",
      "\n",
      "---------------------------------------------------------------------\n",
      "Test summary\n",
      "    Passed: 1\n",
      "    Failed: 0\n",
      "[ooooooooook] 100.0% passed\n",
      "\n"
     ]
    }
   ],
   "source": [
    "_ = ok.grade('q1_2')"
   ]
  },
  {
   "cell_type": "markdown",
   "metadata": {},
   "source": [
    "**Question 3.** What percentage of shark attacks, during the 88 years recorded in the array, occured in the last 44 years?\n",
    "\n",
    "*Hint*: Look up Python array slicing on Google."
   ]
  },
  {
   "cell_type": "code",
   "execution_count": 9,
   "metadata": {},
   "outputs": [
    {
     "data": {
      "text/plain": [
       "64.58708258348331"
      ]
     },
     "execution_count": 9,
     "metadata": {},
     "output_type": "execute_result"
    }
   ],
   "source": [
    "pct_in_last_44_years = sum(sharks[44:]) / total *100\n",
    "pct_in_last_44_years"
   ]
  },
  {
   "cell_type": "code",
   "execution_count": 10,
   "metadata": {},
   "outputs": [
    {
     "data": {
      "text/plain": [
       "True"
      ]
     },
     "execution_count": 10,
     "metadata": {},
     "output_type": "execute_result"
    }
   ],
   "source": [
    "isinstance(pct_in_last_44_years, float)"
   ]
  },
  {
   "cell_type": "code",
   "execution_count": 11,
   "metadata": {},
   "outputs": [
    {
     "name": "stdout",
     "output_type": "stream",
     "text": [
      "~~~~~~~~~~~~~~~~~~~~~~~~~~~~~~~~~~~~~~~~~~~~~~~~~~~~~~~~~~~~~~~~~~~~~\n",
      "Running tests\n",
      "\n",
      "---------------------------------------------------------------------\n",
      "Test summary\n",
      "    Passed: 1\n",
      "    Failed: 0\n",
      "[ooooooooook] 100.0% passed\n",
      "\n"
     ]
    }
   ],
   "source": [
    "_ = ok.grade('q1_3')"
   ]
  },
  {
   "cell_type": "markdown",
   "metadata": {},
   "source": [
    "**Question 4.** Suppose there were 30,000 beachgoers in 1930 and the number of beachgoers increased by 10% year-after-year. Create an array called `beachgoers` that contains the number of beachgoers in each year between 1930 and 2017. If any beachgoer is equally likely to be attacked by a shark, how dangerous was the *least* dangerous year for shark attacks? Assign the *percent* (**between 0 and 100**) chance of being attacked by a shark to the variable `danger`.\n"
   ]
  },
  {
   "cell_type": "code",
   "execution_count": 12,
   "metadata": {},
   "outputs": [
    {
     "data": {
      "text/plain": [
       "0.00011356749457852553"
      ]
     },
     "execution_count": 12,
     "metadata": {},
     "output_type": "execute_result"
    }
   ],
   "source": [
    "beachgoers = 30000 * (1.10 ** np.arange(88))\n",
    "danger = min(sharks / beachgoers) * 100\n",
    "danger"
   ]
  },
  {
   "cell_type": "code",
   "execution_count": 13,
   "metadata": {},
   "outputs": [
    {
     "data": {
      "text/plain": [
       "True"
      ]
     },
     "execution_count": 13,
     "metadata": {},
     "output_type": "execute_result"
    }
   ],
   "source": [
    "isinstance(danger, float)"
   ]
  },
  {
   "cell_type": "code",
   "execution_count": 14,
   "metadata": {},
   "outputs": [
    {
     "name": "stdout",
     "output_type": "stream",
     "text": [
      "~~~~~~~~~~~~~~~~~~~~~~~~~~~~~~~~~~~~~~~~~~~~~~~~~~~~~~~~~~~~~~~~~~~~~\n",
      "Running tests\n",
      "\n",
      "---------------------------------------------------------------------\n",
      "Test summary\n",
      "    Passed: 1\n",
      "    Failed: 0\n",
      "[ooooooooook] 100.0% passed\n",
      "\n"
     ]
    }
   ],
   "source": [
    "_ = ok.grade('q1_4')"
   ]
  },
  {
   "cell_type": "markdown",
   "metadata": {},
   "source": [
    "## 2. Tables\n"
   ]
  },
  {
   "cell_type": "markdown",
   "metadata": {},
   "source": [
    "**Question 1.** Suppose you have 13 quarters, 20 dimes, 15 nickels, and 3 pennies in your pocket. Create a table, named `coins`, with two columns: `Coin Type` and `Quantity` that contains the inventory of your pocket."
   ]
  },
  {
   "cell_type": "code",
   "execution_count": 15,
   "metadata": {},
   "outputs": [
    {
     "data": {
      "text/html": [
       "<table border=\"1\" class=\"dataframe\">\n",
       "    <thead>\n",
       "        <tr>\n",
       "            <th>Coin Type</th> <th>Quantity</th>\n",
       "        </tr>\n",
       "    </thead>\n",
       "    <tbody>\n",
       "        <tr>\n",
       "            <td>Quarter  </td> <td>13      </td>\n",
       "        </tr>\n",
       "        <tr>\n",
       "            <td>Dime     </td> <td>20      </td>\n",
       "        </tr>\n",
       "        <tr>\n",
       "            <td>Nickel   </td> <td>15      </td>\n",
       "        </tr>\n",
       "        <tr>\n",
       "            <td>Penny    </td> <td>3       </td>\n",
       "        </tr>\n",
       "    </tbody>\n",
       "</table>"
      ],
      "text/plain": [
       "Coin Type | Quantity\n",
       "Quarter   | 13\n",
       "Dime      | 20\n",
       "Nickel    | 15\n",
       "Penny     | 3"
      ]
     },
     "execution_count": 15,
     "metadata": {},
     "output_type": "execute_result"
    }
   ],
   "source": [
    "coins = Table().with_columns(\n",
    "    'Coin Type', make_array('Quarter', 'Dime', 'Nickel', 'Penny'),\n",
    "    'Quantity', make_array(13, 20, 15, 3)\n",
    ")\n",
    "coins"
   ]
  },
  {
   "cell_type": "code",
   "execution_count": 16,
   "metadata": {},
   "outputs": [
    {
     "data": {
      "text/plain": [
       "True"
      ]
     },
     "execution_count": 16,
     "metadata": {},
     "output_type": "execute_result"
    }
   ],
   "source": [
    "isinstance(coins, Table)"
   ]
  },
  {
   "cell_type": "code",
   "execution_count": 17,
   "metadata": {},
   "outputs": [
    {
     "name": "stdout",
     "output_type": "stream",
     "text": [
      "~~~~~~~~~~~~~~~~~~~~~~~~~~~~~~~~~~~~~~~~~~~~~~~~~~~~~~~~~~~~~~~~~~~~~\n",
      "Running tests\n",
      "\n",
      "---------------------------------------------------------------------\n",
      "Test summary\n",
      "    Passed: 1\n",
      "    Failed: 0\n",
      "[ooooooooook] 100.0% passed\n",
      "\n"
     ]
    }
   ],
   "source": [
    "_ = ok.grade('q2_1')"
   ]
  },
  {
   "cell_type": "markdown",
   "metadata": {},
   "source": [
    "**Question 2.** The file `inventory.csv` contains information about the inventory at the snack bar at the end of the day.  Each row represents the contents of one box of snacks. Load it as a table named `inventory`."
   ]
  },
  {
   "cell_type": "code",
   "execution_count": 18,
   "metadata": {},
   "outputs": [
    {
     "data": {
      "text/html": [
       "<table border=\"1\" class=\"dataframe\">\n",
       "    <thead>\n",
       "        <tr>\n",
       "            <th>snack ID</th> <th>snack name</th> <th>price per item ($)</th> <th>start count</th> <th>sold count</th>\n",
       "        </tr>\n",
       "    </thead>\n",
       "    <tbody>\n",
       "        <tr>\n",
       "            <td>53686   </td> <td>fruit snacks </td> <td>1                 </td> <td>120        </td> <td>40        </td>\n",
       "        </tr>\n",
       "        <tr>\n",
       "            <td>57181   </td> <td>ginger chews </td> <td>5                 </td> <td>10         </td> <td>8         </td>\n",
       "        </tr>\n",
       "        <tr>\n",
       "            <td>25274   </td> <td>doritos      </td> <td>2.5               </td> <td>56         </td> <td>20        </td>\n",
       "        </tr>\n",
       "        <tr>\n",
       "            <td>48800   </td> <td>takis        </td> <td>2                 </td> <td>50         </td> <td>10        </td>\n",
       "        </tr>\n",
       "        <tr>\n",
       "            <td>26187   </td> <td>fruit snacks </td> <td>1                 </td> <td>55         </td> <td>25        </td>\n",
       "        </tr>\n",
       "        <tr>\n",
       "            <td>57930   </td> <td>oreos        </td> <td>0.5               </td> <td>35         </td> <td>35        </td>\n",
       "        </tr>\n",
       "        <tr>\n",
       "            <td>52357   </td> <td>string cheese</td> <td>1.75              </td> <td>15         </td> <td>0         </td>\n",
       "        </tr>\n",
       "        <tr>\n",
       "            <td>43566   </td> <td>twix bars    </td> <td>4.5               </td> <td>40         </td> <td>20        </td>\n",
       "        </tr>\n",
       "        <tr>\n",
       "            <td>23434   </td> <td>m&ms         </td> <td>3                 </td> <td>100        </td> <td>30        </td>\n",
       "        </tr>\n",
       "        <tr>\n",
       "            <td>23334   </td> <td>goldfish     </td> <td>5                 </td> <td>120        </td> <td>100       </td>\n",
       "        </tr>\n",
       "        <tr>\n",
       "            <td>23432   </td> <td>fruit snacks </td> <td>1                 </td> <td>60         </td> <td>20        </td>\n",
       "        </tr>\n",
       "    </tbody>\n",
       "</table>"
      ],
      "text/plain": [
       "<IPython.core.display.HTML object>"
      ]
     },
     "metadata": {},
     "output_type": "display_data"
    }
   ],
   "source": [
    "inventory = Table.read_table('inventory.csv')\n",
    "inventory.show()"
   ]
  },
  {
   "cell_type": "code",
   "execution_count": 19,
   "metadata": {},
   "outputs": [
    {
     "data": {
      "text/plain": [
       "True"
      ]
     },
     "execution_count": 19,
     "metadata": {},
     "output_type": "execute_result"
    }
   ],
   "source": [
    "isinstance(inventory, Table)"
   ]
  },
  {
   "cell_type": "code",
   "execution_count": 20,
   "metadata": {},
   "outputs": [
    {
     "name": "stdout",
     "output_type": "stream",
     "text": [
      "~~~~~~~~~~~~~~~~~~~~~~~~~~~~~~~~~~~~~~~~~~~~~~~~~~~~~~~~~~~~~~~~~~~~~\n",
      "Running tests\n",
      "\n",
      "---------------------------------------------------------------------\n",
      "Test summary\n",
      "    Passed: 1\n",
      "    Failed: 0\n",
      "[ooooooooook] 100.0% passed\n",
      "\n"
     ]
    }
   ],
   "source": [
    "_ = ok.grade('q2_2')"
   ]
  },
  {
   "cell_type": "markdown",
   "metadata": {},
   "source": [
    "**Question 3.** Does each box at the snack bar contain a different snack?"
   ]
  },
  {
   "cell_type": "code",
   "execution_count": 21,
   "metadata": {},
   "outputs": [
    {
     "data": {
      "text/plain": [
       "'No'"
      ]
     },
     "execution_count": 21,
     "metadata": {},
     "output_type": "execute_result"
    }
   ],
   "source": [
    "# Set all_different to \"Yes\" if each box contains a different snack or to \"No\" if multiple boxes contain the same snack\n",
    "all_different = 'No'\n",
    "all_different"
   ]
  },
  {
   "cell_type": "code",
   "execution_count": 22,
   "metadata": {},
   "outputs": [
    {
     "data": {
      "text/plain": [
       "True"
      ]
     },
     "execution_count": 22,
     "metadata": {},
     "output_type": "execute_result"
    }
   ],
   "source": [
    "all_different in ['No','no','Yes','yes']"
   ]
  },
  {
   "cell_type": "code",
   "execution_count": 23,
   "metadata": {},
   "outputs": [
    {
     "name": "stdout",
     "output_type": "stream",
     "text": [
      "~~~~~~~~~~~~~~~~~~~~~~~~~~~~~~~~~~~~~~~~~~~~~~~~~~~~~~~~~~~~~~~~~~~~~\n",
      "Running tests\n",
      "\n",
      "---------------------------------------------------------------------\n",
      "Test summary\n",
      "    Passed: 1\n",
      "    Failed: 0\n",
      "[ooooooooook] 100.0% passed\n",
      "\n"
     ]
    }
   ],
   "source": [
    "_ = ok.grade('q2_3')"
   ]
  },
  {
   "cell_type": "markdown",
   "metadata": {},
   "source": [
    "**Question 4.** How many snacks did the store sell in total that day **NOT** including fruit snacks? "
   ]
  },
  {
   "cell_type": "code",
   "execution_count": 24,
   "metadata": {},
   "outputs": [
    {
     "data": {
      "text/plain": [
       "223"
      ]
     },
     "execution_count": 24,
     "metadata": {},
     "output_type": "execute_result"
    }
   ],
   "source": [
    "total_fruit_sold = sum(inventory.column('sold count')) - sum(inventory.where(\"snack name\", \"fruit snacks\").column(\"sold count\"))\n",
    "\n",
    "#also possible to do it where you get a table where snack name is not fruit snack and sum count that way\n",
    "total_fruit_sold"
   ]
  },
  {
   "cell_type": "code",
   "execution_count": 25,
   "metadata": {},
   "outputs": [
    {
     "data": {
      "text/plain": [
       "True"
      ]
     },
     "execution_count": 25,
     "metadata": {},
     "output_type": "execute_result"
    }
   ],
   "source": [
    "isinstance(total_fruit_sold,np.int32) or isinstance(total_fruit_sold,int)"
   ]
  },
  {
   "cell_type": "code",
   "execution_count": 26,
   "metadata": {},
   "outputs": [
    {
     "name": "stdout",
     "output_type": "stream",
     "text": [
      "~~~~~~~~~~~~~~~~~~~~~~~~~~~~~~~~~~~~~~~~~~~~~~~~~~~~~~~~~~~~~~~~~~~~~\n",
      "Running tests\n",
      "\n",
      "---------------------------------------------------------------------\n",
      "Test summary\n",
      "    Passed: 1\n",
      "    Failed: 0\n",
      "[ooooooooook] 100.0% passed\n",
      "\n"
     ]
    }
   ],
   "source": [
    "_ = ok.grade('q2_4')"
   ]
  },
  {
   "cell_type": "markdown",
   "metadata": {},
   "source": [
    "**Question 5.** What was the store's total revenue (the total price of all snacks sold) on that day?"
   ]
  },
  {
   "cell_type": "code",
   "execution_count": 27,
   "metadata": {},
   "outputs": [
    {
     "data": {
      "text/plain": [
       "892.5"
      ]
     },
     "execution_count": 27,
     "metadata": {},
     "output_type": "execute_result"
    }
   ],
   "source": [
    "total_revenue = sum(inventory.column(2) * inventory.column(4))\n",
    "total_revenue"
   ]
  },
  {
   "cell_type": "code",
   "execution_count": 28,
   "metadata": {},
   "outputs": [
    {
     "data": {
      "text/plain": [
       "True"
      ]
     },
     "execution_count": 28,
     "metadata": {},
     "output_type": "execute_result"
    }
   ],
   "source": [
    "isinstance(total_revenue, float)"
   ]
  },
  {
   "cell_type": "code",
   "execution_count": 29,
   "metadata": {},
   "outputs": [
    {
     "name": "stdout",
     "output_type": "stream",
     "text": [
      "~~~~~~~~~~~~~~~~~~~~~~~~~~~~~~~~~~~~~~~~~~~~~~~~~~~~~~~~~~~~~~~~~~~~~\n",
      "Running tests\n",
      "\n",
      "---------------------------------------------------------------------\n",
      "Test summary\n",
      "    Passed: 1\n",
      "    Failed: 0\n",
      "[ooooooooook] 100.0% passed\n",
      "\n"
     ]
    }
   ],
   "source": [
    "_ = ok.grade('q2_5')"
   ]
  },
  {
   "cell_type": "markdown",
   "metadata": {},
   "source": [
    "**Question 6.** What was the stores's total revenue from fruit snacks sales that day?"
   ]
  },
  {
   "cell_type": "code",
   "execution_count": 30,
   "metadata": {},
   "outputs": [
    {
     "data": {
      "text/plain": [
       "85.0"
      ]
     },
     "execution_count": 30,
     "metadata": {},
     "output_type": "execute_result"
    }
   ],
   "source": [
    "snacks = inventory.where('snack name', 'fruit snacks')\n",
    "revenue_from_fruit_snacks = sum(snacks.column(2) * snacks.column(4))\n",
    "revenue_from_fruit_snacks"
   ]
  },
  {
   "cell_type": "code",
   "execution_count": 31,
   "metadata": {},
   "outputs": [
    {
     "data": {
      "text/plain": [
       "True"
      ]
     },
     "execution_count": 31,
     "metadata": {},
     "output_type": "execute_result"
    }
   ],
   "source": [
    "isinstance(revenue_from_fruit_snacks, float) or isinstance(revenue_from_fruit_snacks, int) or isinstance(revenue_from_fruit_snacks, np.int32)"
   ]
  },
  {
   "cell_type": "code",
   "execution_count": 32,
   "metadata": {},
   "outputs": [
    {
     "name": "stdout",
     "output_type": "stream",
     "text": [
      "~~~~~~~~~~~~~~~~~~~~~~~~~~~~~~~~~~~~~~~~~~~~~~~~~~~~~~~~~~~~~~~~~~~~~\n",
      "Running tests\n",
      "\n",
      "---------------------------------------------------------------------\n",
      "Test summary\n",
      "    Passed: 1\n",
      "    Failed: 0\n",
      "[ooooooooook] 100.0% passed\n",
      "\n"
     ]
    }
   ],
   "source": [
    "_ = ok.grade('q2_6')"
   ]
  },
  {
   "cell_type": "markdown",
   "metadata": {},
   "source": [
    "**Question 7.** Which of the following snacks made the most revenue for the snack stand that day? Return a number 1 - 5 which corresponds with the snack.\n",
    "\n",
    "1. ginger chews\n",
    "2. takis\n",
    "3. twix bars\n",
    "4. doritos\n",
    "5. goldfish\n"
   ]
  },
  {
   "cell_type": "code",
   "execution_count": 33,
   "metadata": {},
   "outputs": [
    {
     "data": {
      "text/plain": [
       "5"
      ]
     },
     "execution_count": 33,
     "metadata": {},
     "output_type": "execute_result"
    }
   ],
   "source": [
    "best_product = 5\n",
    "best_product"
   ]
  },
  {
   "cell_type": "code",
   "execution_count": 34,
   "metadata": {},
   "outputs": [
    {
     "data": {
      "text/plain": [
       "True"
      ]
     },
     "execution_count": 34,
     "metadata": {},
     "output_type": "execute_result"
    }
   ],
   "source": [
    "best_product in [1,2,3,4,5]"
   ]
  },
  {
   "cell_type": "code",
   "execution_count": 35,
   "metadata": {},
   "outputs": [
    {
     "name": "stdout",
     "output_type": "stream",
     "text": [
      "~~~~~~~~~~~~~~~~~~~~~~~~~~~~~~~~~~~~~~~~~~~~~~~~~~~~~~~~~~~~~~~~~~~~~\n",
      "Running tests\n",
      "\n",
      "---------------------------------------------------------------------\n",
      "Test summary\n",
      "    Passed: 1\n",
      "    Failed: 0\n",
      "[ooooooooook] 100.0% passed\n",
      "\n"
     ]
    }
   ],
   "source": [
    "_ = ok.grade('q2_7')"
   ]
  },
  {
   "cell_type": "markdown",
   "metadata": {},
   "source": [
    "**Question 8.** Create a table with a new column, called `remaining ($)` that indicates the total remaining value of the snacks still in each box at the end of the day. Assign this table the name `with_remaining`."
   ]
  },
  {
   "cell_type": "code",
   "execution_count": 36,
   "metadata": {},
   "outputs": [
    {
     "data": {
      "text/html": [
       "<table border=\"1\" class=\"dataframe\">\n",
       "    <thead>\n",
       "        <tr>\n",
       "            <th>snack ID</th> <th>snack name</th> <th>price per item ($)</th> <th>start count</th> <th>sold count</th> <th>remaining ($)</th>\n",
       "        </tr>\n",
       "    </thead>\n",
       "    <tbody>\n",
       "        <tr>\n",
       "            <td>53686   </td> <td>fruit snacks </td> <td>1                 </td> <td>120        </td> <td>40        </td> <td>80           </td>\n",
       "        </tr>\n",
       "        <tr>\n",
       "            <td>57181   </td> <td>ginger chews </td> <td>5                 </td> <td>10         </td> <td>8         </td> <td>10           </td>\n",
       "        </tr>\n",
       "        <tr>\n",
       "            <td>25274   </td> <td>doritos      </td> <td>2.5               </td> <td>56         </td> <td>20        </td> <td>90           </td>\n",
       "        </tr>\n",
       "        <tr>\n",
       "            <td>48800   </td> <td>takis        </td> <td>2                 </td> <td>50         </td> <td>10        </td> <td>80           </td>\n",
       "        </tr>\n",
       "        <tr>\n",
       "            <td>26187   </td> <td>fruit snacks </td> <td>1                 </td> <td>55         </td> <td>25        </td> <td>30           </td>\n",
       "        </tr>\n",
       "        <tr>\n",
       "            <td>57930   </td> <td>oreos        </td> <td>0.5               </td> <td>35         </td> <td>35        </td> <td>0            </td>\n",
       "        </tr>\n",
       "        <tr>\n",
       "            <td>52357   </td> <td>string cheese</td> <td>1.75              </td> <td>15         </td> <td>0         </td> <td>26.25        </td>\n",
       "        </tr>\n",
       "        <tr>\n",
       "            <td>43566   </td> <td>twix bars    </td> <td>4.5               </td> <td>40         </td> <td>20        </td> <td>90           </td>\n",
       "        </tr>\n",
       "        <tr>\n",
       "            <td>23434   </td> <td>m&ms         </td> <td>3                 </td> <td>100        </td> <td>30        </td> <td>210          </td>\n",
       "        </tr>\n",
       "        <tr>\n",
       "            <td>23334   </td> <td>goldfish     </td> <td>5                 </td> <td>120        </td> <td>100       </td> <td>100          </td>\n",
       "        </tr>\n",
       "    </tbody>\n",
       "</table>\n",
       "<p>... (1 rows omitted)</p>"
      ],
      "text/plain": [
       "snack ID | snack name    | price per item ($) | start count | sold count | remaining ($)\n",
       "53686    | fruit snacks  | 1                  | 120         | 40         | 80\n",
       "57181    | ginger chews  | 5                  | 10          | 8          | 10\n",
       "25274    | doritos       | 2.5                | 56          | 20         | 90\n",
       "48800    | takis         | 2                  | 50          | 10         | 80\n",
       "26187    | fruit snacks  | 1                  | 55          | 25         | 30\n",
       "57930    | oreos         | 0.5                | 35          | 35         | 0\n",
       "52357    | string cheese | 1.75               | 15          | 0          | 26.25\n",
       "43566    | twix bars     | 4.5                | 40          | 20         | 90\n",
       "23434    | m&ms          | 3                  | 100         | 30         | 210\n",
       "23334    | goldfish      | 5                  | 120         | 100        | 100\n",
       "... (1 rows omitted)"
      ]
     },
     "execution_count": 36,
     "metadata": {},
     "output_type": "execute_result"
    }
   ],
   "source": [
    "with_remaining = inventory.with_column('remaining ($)', inventory.column(2) * (inventory.column(3) - inventory.column(4)))\n",
    "with_remaining"
   ]
  },
  {
   "cell_type": "code",
   "execution_count": 37,
   "metadata": {},
   "outputs": [
    {
     "data": {
      "text/plain": [
       "True"
      ]
     },
     "execution_count": 37,
     "metadata": {},
     "output_type": "execute_result"
    }
   ],
   "source": [
    "isinstance(with_remaining, Table)"
   ]
  },
  {
   "cell_type": "code",
   "execution_count": 38,
   "metadata": {},
   "outputs": [
    {
     "name": "stdout",
     "output_type": "stream",
     "text": [
      "~~~~~~~~~~~~~~~~~~~~~~~~~~~~~~~~~~~~~~~~~~~~~~~~~~~~~~~~~~~~~~~~~~~~~\n",
      "Running tests\n",
      "\n",
      "---------------------------------------------------------------------\n",
      "Test summary\n",
      "    Passed: 1\n",
      "    Failed: 0\n",
      "[ooooooooook] 100.0% passed\n",
      "\n"
     ]
    }
   ],
   "source": [
    "_ = ok.grade('q2_8')"
   ]
  },
  {
   "cell_type": "markdown",
   "metadata": {},
   "source": [
    "**Question 9.** Create a table with a new column, called `favorites` that indicates whether a snack is one of the most favorite kinds by `True` or `False`. If the total remaining value of the snacks still in each box at the end of the day is **less then 50 dollars**, then this snack in a particular box is one of the most favorite. Assign this table the name `with_favorites`."
   ]
  },
  {
   "cell_type": "code",
   "execution_count": 39,
   "metadata": {
    "scrolled": true
   },
   "outputs": [
    {
     "data": {
      "text/html": [
       "<table border=\"1\" class=\"dataframe\">\n",
       "    <thead>\n",
       "        <tr>\n",
       "            <th>snack ID</th> <th>snack name</th> <th>price per item ($)</th> <th>start count</th> <th>sold count</th> <th>favorites</th>\n",
       "        </tr>\n",
       "    </thead>\n",
       "    <tbody>\n",
       "        <tr>\n",
       "            <td>53686   </td> <td>fruit snacks </td> <td>1                 </td> <td>120        </td> <td>40        </td> <td>False    </td>\n",
       "        </tr>\n",
       "        <tr>\n",
       "            <td>57181   </td> <td>ginger chews </td> <td>5                 </td> <td>10         </td> <td>8         </td> <td>True     </td>\n",
       "        </tr>\n",
       "        <tr>\n",
       "            <td>25274   </td> <td>doritos      </td> <td>2.5               </td> <td>56         </td> <td>20        </td> <td>False    </td>\n",
       "        </tr>\n",
       "        <tr>\n",
       "            <td>48800   </td> <td>takis        </td> <td>2                 </td> <td>50         </td> <td>10        </td> <td>False    </td>\n",
       "        </tr>\n",
       "        <tr>\n",
       "            <td>26187   </td> <td>fruit snacks </td> <td>1                 </td> <td>55         </td> <td>25        </td> <td>True     </td>\n",
       "        </tr>\n",
       "        <tr>\n",
       "            <td>57930   </td> <td>oreos        </td> <td>0.5               </td> <td>35         </td> <td>35        </td> <td>True     </td>\n",
       "        </tr>\n",
       "        <tr>\n",
       "            <td>52357   </td> <td>string cheese</td> <td>1.75              </td> <td>15         </td> <td>0         </td> <td>True     </td>\n",
       "        </tr>\n",
       "        <tr>\n",
       "            <td>43566   </td> <td>twix bars    </td> <td>4.5               </td> <td>40         </td> <td>20        </td> <td>False    </td>\n",
       "        </tr>\n",
       "        <tr>\n",
       "            <td>23434   </td> <td>m&ms         </td> <td>3                 </td> <td>100        </td> <td>30        </td> <td>False    </td>\n",
       "        </tr>\n",
       "        <tr>\n",
       "            <td>23334   </td> <td>goldfish     </td> <td>5                 </td> <td>120        </td> <td>100       </td> <td>False    </td>\n",
       "        </tr>\n",
       "    </tbody>\n",
       "</table>\n",
       "<p>... (1 rows omitted)</p>"
      ],
      "text/plain": [
       "snack ID | snack name    | price per item ($) | start count | sold count | favorites\n",
       "53686    | fruit snacks  | 1                  | 120         | 40         | False\n",
       "57181    | ginger chews  | 5                  | 10          | 8          | True\n",
       "25274    | doritos       | 2.5                | 56          | 20         | False\n",
       "48800    | takis         | 2                  | 50          | 10         | False\n",
       "26187    | fruit snacks  | 1                  | 55          | 25         | True\n",
       "57930    | oreos         | 0.5                | 35          | 35         | True\n",
       "52357    | string cheese | 1.75               | 15          | 0          | True\n",
       "43566    | twix bars     | 4.5                | 40          | 20         | False\n",
       "23434    | m&ms          | 3                  | 100         | 30         | False\n",
       "23334    | goldfish      | 5                  | 120         | 100        | False\n",
       "... (1 rows omitted)"
      ]
     },
     "execution_count": 39,
     "metadata": {},
     "output_type": "execute_result"
    }
   ],
   "source": [
    "favorites = with_remaining[5] < 50\n",
    "with_favorites = inventory.with_column('favorites', favorites)\n",
    "with_favorites"
   ]
  },
  {
   "cell_type": "code",
   "execution_count": 40,
   "metadata": {},
   "outputs": [
    {
     "data": {
      "text/plain": [
       "True"
      ]
     },
     "execution_count": 40,
     "metadata": {},
     "output_type": "execute_result"
    }
   ],
   "source": [
    "isinstance(with_favorites, Table)"
   ]
  },
  {
   "cell_type": "code",
   "execution_count": 41,
   "metadata": {},
   "outputs": [
    {
     "name": "stdout",
     "output_type": "stream",
     "text": [
      "~~~~~~~~~~~~~~~~~~~~~~~~~~~~~~~~~~~~~~~~~~~~~~~~~~~~~~~~~~~~~~~~~~~~~\n",
      "Running tests\n",
      "\n",
      "---------------------------------------------------------------------\n",
      "Test summary\n",
      "    Passed: 1\n",
      "    Failed: 0\n",
      "[ooooooooook] 100.0% passed\n",
      "\n"
     ]
    }
   ],
   "source": [
    "_ = ok.grade('q2_9')"
   ]
  },
  {
   "cell_type": "markdown",
   "metadata": {},
   "source": [
    "## 3. Avocadopocalypse"
   ]
  },
  {
   "cell_type": "markdown",
   "metadata": {},
   "source": [
    "In early 2017, reduced harvests and labor strikes caused avocado production in Mexico, Peru, and California to  dramatically decrease. In this problem we will investigate how and where prices fluctuated in response to the \"avocadopocalypse\".\n",
    "\n",
    "The source of the avocado price data is [here](http://www.hassavocadoboard.com/retail/volume-and-price-data). We will use a subset of the data. The data has the following columns:\n",
    "\n",
    "|Column|Description|\n",
    "|------|-----------|\n",
    "|Date|The date on which a price was recorded in YEAR-MONTH format|\n",
    "|Type|The type of avocado. Either \"conventional\" or \"organic\".|\n",
    "|Region|Where the price was recorded.|\n",
    "|Price|The average avocado price for that time period/location.|\n",
    "|Volume|The number of avocados sold (in thousands).|"
   ]
  },
  {
   "cell_type": "markdown",
   "metadata": {},
   "source": [
    "**Question 1.** The data are in a CSV called `avocado.csv`. Read this file into a table named `avocado`."
   ]
  },
  {
   "cell_type": "code",
   "execution_count": 42,
   "metadata": {},
   "outputs": [
    {
     "data": {
      "text/html": [
       "<table border=\"1\" class=\"dataframe\">\n",
       "    <thead>\n",
       "        <tr>\n",
       "            <th>Date</th> <th>Region</th> <th>Type</th> <th>Price</th> <th>Volume</th>\n",
       "        </tr>\n",
       "    </thead>\n",
       "    <tbody>\n",
       "        <tr>\n",
       "            <td>2015-01</td> <td>Boise       </td> <td>conventional</td> <td>1.075 </td> <td>66.5824</td>\n",
       "        </tr>\n",
       "        <tr>\n",
       "            <td>2016-06</td> <td>Sacramento  </td> <td>conventional</td> <td>1.1925</td> <td>498.763</td>\n",
       "        </tr>\n",
       "        <tr>\n",
       "            <td>2016-10</td> <td>Indianapolis</td> <td>organic     </td> <td>1.708 </td> <td>3.40316</td>\n",
       "        </tr>\n",
       "        <tr>\n",
       "            <td>2017-03</td> <td>Indianapolis</td> <td>organic     </td> <td>1.1975</td> <td>6.27621</td>\n",
       "        </tr>\n",
       "        <tr>\n",
       "            <td>2017-09</td> <td>StLouis     </td> <td>organic     </td> <td>2.675 </td> <td>4.36867</td>\n",
       "        </tr>\n",
       "        <tr>\n",
       "            <td>2017-06</td> <td>Tampa       </td> <td>organic     </td> <td>2.0025</td> <td>5.70813</td>\n",
       "        </tr>\n",
       "        <tr>\n",
       "            <td>2017-12</td> <td>Boise       </td> <td>organic     </td> <td>1.696 </td> <td>2.18204</td>\n",
       "        </tr>\n",
       "        <tr>\n",
       "            <td>2017-04</td> <td>Columbus    </td> <td>conventional</td> <td>1.146 </td> <td>202.021</td>\n",
       "        </tr>\n",
       "        <tr>\n",
       "            <td>2017-07</td> <td>Detroit     </td> <td>conventional</td> <td>1.246 </td> <td>377.672</td>\n",
       "        </tr>\n",
       "        <tr>\n",
       "            <td>2016-05</td> <td>Portland    </td> <td>organic     </td> <td>1.298 </td> <td>41.0414</td>\n",
       "        </tr>\n",
       "    </tbody>\n",
       "</table>\n",
       "<p>... (4124 rows omitted)</p>"
      ],
      "text/plain": [
       "Date    | Region       | Type         | Price  | Volume\n",
       "2015-01 | Boise        | conventional | 1.075  | 66.5824\n",
       "2016-06 | Sacramento   | conventional | 1.1925 | 498.763\n",
       "2016-10 | Indianapolis | organic      | 1.708  | 3.40316\n",
       "2017-03 | Indianapolis | organic      | 1.1975 | 6.27621\n",
       "2017-09 | StLouis      | organic      | 2.675  | 4.36867\n",
       "2017-06 | Tampa        | organic      | 2.0025 | 5.70813\n",
       "2017-12 | Boise        | organic      | 1.696  | 2.18204\n",
       "2017-04 | Columbus     | conventional | 1.146  | 202.021\n",
       "2017-07 | Detroit      | conventional | 1.246  | 377.672\n",
       "2016-05 | Portland     | organic      | 1.298  | 41.0414\n",
       "... (4124 rows omitted)"
      ]
     },
     "execution_count": 42,
     "metadata": {},
     "output_type": "execute_result"
    }
   ],
   "source": [
    "avocado = Table.read_table('avocado.csv')\n",
    "avocado"
   ]
  },
  {
   "cell_type": "code",
   "execution_count": 43,
   "metadata": {},
   "outputs": [
    {
     "data": {
      "text/plain": [
       "True"
      ]
     },
     "execution_count": 43,
     "metadata": {},
     "output_type": "execute_result"
    }
   ],
   "source": [
    "isinstance(avocado, Table)"
   ]
  },
  {
   "cell_type": "code",
   "execution_count": 44,
   "metadata": {},
   "outputs": [
    {
     "name": "stdout",
     "output_type": "stream",
     "text": [
      "~~~~~~~~~~~~~~~~~~~~~~~~~~~~~~~~~~~~~~~~~~~~~~~~~~~~~~~~~~~~~~~~~~~~~\n",
      "Running tests\n",
      "\n",
      "---------------------------------------------------------------------\n",
      "Test summary\n",
      "    Passed: 1\n",
      "    Failed: 0\n",
      "[ooooooooook] 100.0% passed\n",
      "\n"
     ]
    }
   ],
   "source": [
    "_ = ok.grade('q3_1')"
   ]
  },
  {
   "cell_type": "markdown",
   "metadata": {},
   "source": [
    "**Question 2.** Assign `cheapest` to the name of the region which had the cheapest avocados (of any type, and any date), and similarly assign `most_expensive` to the name of the region with the most expensive avocados (of any type, and any date)."
   ]
  },
  {
   "cell_type": "code",
   "execution_count": 45,
   "metadata": {},
   "outputs": [
    {
     "name": "stdout",
     "output_type": "stream",
     "text": [
      "CincinnatiDayton SanFrancisco\n"
     ]
    }
   ],
   "source": [
    "cheapest = avocado.sort('Price').column('Region').item(0)\n",
    "most_expensive = avocado.sort('Price', descending=True).column('Region').item(0)\n",
    "print(cheapest, most_expensive)"
   ]
  },
  {
   "cell_type": "code",
   "execution_count": 46,
   "metadata": {},
   "outputs": [
    {
     "data": {
      "text/plain": [
       "True"
      ]
     },
     "execution_count": 46,
     "metadata": {},
     "output_type": "execute_result"
    }
   ],
   "source": [
    "isinstance(cheapest, str) and isinstance(most_expensive, str)"
   ]
  },
  {
   "cell_type": "code",
   "execution_count": 47,
   "metadata": {},
   "outputs": [
    {
     "name": "stdout",
     "output_type": "stream",
     "text": [
      "~~~~~~~~~~~~~~~~~~~~~~~~~~~~~~~~~~~~~~~~~~~~~~~~~~~~~~~~~~~~~~~~~~~~~\n",
      "Running tests\n",
      "\n",
      "---------------------------------------------------------------------\n",
      "Test summary\n",
      "    Passed: 1\n",
      "    Failed: 0\n",
      "[ooooooooook] 100.0% passed\n",
      "\n"
     ]
    }
   ],
   "source": [
    "_ = ok.grade('q3_2')"
   ]
  },
  {
   "cell_type": "markdown",
   "metadata": {},
   "source": [
    "**Question 3.** Avocados are sold in two types: organic and conventional. Make a table named `organic` containing the data for organic avocados, and a table named `conventional` for conventional avocados."
   ]
  },
  {
   "cell_type": "code",
   "execution_count": 48,
   "metadata": {},
   "outputs": [],
   "source": [
    "organic = avocado.where('Type', 'organic')\n",
    "conventional = avocado.where('Type', 'conventional')"
   ]
  },
  {
   "cell_type": "code",
   "execution_count": 49,
   "metadata": {},
   "outputs": [
    {
     "data": {
      "text/plain": [
       "True"
      ]
     },
     "execution_count": 49,
     "metadata": {},
     "output_type": "execute_result"
    }
   ],
   "source": [
    "isinstance(organic, Table) and isinstance(conventional, Table)"
   ]
  },
  {
   "cell_type": "code",
   "execution_count": 50,
   "metadata": {},
   "outputs": [
    {
     "name": "stdout",
     "output_type": "stream",
     "text": [
      "~~~~~~~~~~~~~~~~~~~~~~~~~~~~~~~~~~~~~~~~~~~~~~~~~~~~~~~~~~~~~~~~~~~~~\n",
      "Running tests\n",
      "\n",
      "---------------------------------------------------------------------\n",
      "Test summary\n",
      "    Passed: 1\n",
      "    Failed: 0\n",
      "[ooooooooook] 100.0% passed\n",
      "\n"
     ]
    }
   ],
   "source": [
    "_ = ok.grade('q3_3')"
   ]
  },
  {
   "cell_type": "markdown",
   "metadata": {},
   "source": [
    "**Question 4**: Create a table named `sf_total` containing two columns: `Date` and `Total Volume`. The `Total Volume` column should be equal to the total volume of avocados (organic + conventional) sold in San Francisco for each date. <br>\n",
    "\n",
    "*Hint: By default, the `.group()` method asks for a column name whose values will be used to group the rows into categories. It creates a `count` column which contains the size of each group. But you can also provide `.group()` with a second argument: a function which will be applied to each group. You can use a built-in function or imported function, such as one from numpy (np).*"
   ]
  },
  {
   "cell_type": "code",
   "execution_count": 51,
   "metadata": {},
   "outputs": [
    {
     "data": {
      "text/html": [
       "<table border=\"1\" class=\"dataframe\">\n",
       "    <thead>\n",
       "        <tr>\n",
       "            <th>Date</th> <th>Total Volume</th>\n",
       "        </tr>\n",
       "    </thead>\n",
       "    <tbody>\n",
       "        <tr>\n",
       "            <td>2015-01</td> <td>853.113     </td>\n",
       "        </tr>\n",
       "        <tr>\n",
       "            <td>2015-02</td> <td>975.321     </td>\n",
       "        </tr>\n",
       "        <tr>\n",
       "            <td>2015-03</td> <td>874.978     </td>\n",
       "        </tr>\n",
       "        <tr>\n",
       "            <td>2015-04</td> <td>771.943     </td>\n",
       "        </tr>\n",
       "        <tr>\n",
       "            <td>2015-05</td> <td>873.352     </td>\n",
       "        </tr>\n",
       "        <tr>\n",
       "            <td>2015-06</td> <td>716.492     </td>\n",
       "        </tr>\n",
       "        <tr>\n",
       "            <td>2015-07</td> <td>694.041     </td>\n",
       "        </tr>\n",
       "        <tr>\n",
       "            <td>2015-08</td> <td>640.496     </td>\n",
       "        </tr>\n",
       "        <tr>\n",
       "            <td>2015-09</td> <td>634.54      </td>\n",
       "        </tr>\n",
       "        <tr>\n",
       "            <td>2015-10</td> <td>634.018     </td>\n",
       "        </tr>\n",
       "    </tbody>\n",
       "</table>\n",
       "<p>... (29 rows omitted)</p>"
      ],
      "text/plain": [
       "Date    | Total Volume\n",
       "2015-01 | 853.113\n",
       "2015-02 | 975.321\n",
       "2015-03 | 874.978\n",
       "2015-04 | 771.943\n",
       "2015-05 | 873.352\n",
       "2015-06 | 716.492\n",
       "2015-07 | 694.041\n",
       "2015-08 | 640.496\n",
       "2015-09 | 634.54\n",
       "2015-10 | 634.018\n",
       "... (29 rows omitted)"
      ]
     },
     "execution_count": 51,
     "metadata": {},
     "output_type": "execute_result"
    }
   ],
   "source": [
    "# Remember: you can always use intermediate variables and more than one line of code\n",
    "sf_total = avocado.where('Region', 'SanFrancisco').select('Date', 'Volume').group('Date', sum).relabel('Volume sum', 'Total Volume')\n",
    "sf_total"
   ]
  },
  {
   "cell_type": "code",
   "execution_count": 52,
   "metadata": {},
   "outputs": [
    {
     "data": {
      "text/plain": [
       "True"
      ]
     },
     "execution_count": 52,
     "metadata": {},
     "output_type": "execute_result"
    }
   ],
   "source": [
    "isinstance(sf_total, Table)"
   ]
  },
  {
   "cell_type": "code",
   "execution_count": 53,
   "metadata": {},
   "outputs": [
    {
     "name": "stdout",
     "output_type": "stream",
     "text": [
      "~~~~~~~~~~~~~~~~~~~~~~~~~~~~~~~~~~~~~~~~~~~~~~~~~~~~~~~~~~~~~~~~~~~~~\n",
      "Running tests\n",
      "\n",
      "---------------------------------------------------------------------\n",
      "Test summary\n",
      "    Passed: 1\n",
      "    Failed: 0\n",
      "[ooooooooook] 100.0% passed\n",
      "\n"
     ]
    }
   ],
   "source": [
    "_ = ok.grade('q3_4')"
   ]
  },
  {
   "cell_type": "markdown",
   "metadata": {},
   "source": [
    "**Question 5.** Compute the median price of **conventional** avocados in the entire US. Create a table named `median_price` containing two columns: <br>\n",
    "1. The date.\n",
    "2. The median price of conventional avocados sold for that date.\n",
    "\n",
    "*Hint: You may want to apply some function as the second argument of group().*"
   ]
  },
  {
   "cell_type": "code",
   "execution_count": 54,
   "metadata": {},
   "outputs": [
    {
     "data": {
      "text/html": [
       "<table border=\"1\" class=\"dataframe\">\n",
       "    <thead>\n",
       "        <tr>\n",
       "            <th>Date</th> <th>Price median</th>\n",
       "        </tr>\n",
       "    </thead>\n",
       "    <tbody>\n",
       "        <tr>\n",
       "            <td>2015-01</td> <td>1.685       </td>\n",
       "        </tr>\n",
       "        <tr>\n",
       "            <td>2015-02</td> <td>1.6375      </td>\n",
       "        </tr>\n",
       "        <tr>\n",
       "            <td>2015-03</td> <td>1.65        </td>\n",
       "        </tr>\n",
       "        <tr>\n",
       "            <td>2015-04</td> <td>1.6325      </td>\n",
       "        </tr>\n",
       "        <tr>\n",
       "            <td>2015-05</td> <td>1.628       </td>\n",
       "        </tr>\n",
       "        <tr>\n",
       "            <td>2015-06</td> <td>1.74        </td>\n",
       "        </tr>\n",
       "        <tr>\n",
       "            <td>2015-07</td> <td>1.78        </td>\n",
       "        </tr>\n",
       "        <tr>\n",
       "            <td>2015-08</td> <td>1.76        </td>\n",
       "        </tr>\n",
       "        <tr>\n",
       "            <td>2015-09</td> <td>1.87        </td>\n",
       "        </tr>\n",
       "        <tr>\n",
       "            <td>2015-10</td> <td>1.6925      </td>\n",
       "        </tr>\n",
       "    </tbody>\n",
       "</table>\n",
       "<p>... (29 rows omitted)</p>"
      ],
      "text/plain": [
       "Date    | Price median\n",
       "2015-01 | 1.685\n",
       "2015-02 | 1.6375\n",
       "2015-03 | 1.65\n",
       "2015-04 | 1.6325\n",
       "2015-05 | 1.628\n",
       "2015-06 | 1.74\n",
       "2015-07 | 1.78\n",
       "2015-08 | 1.76\n",
       "2015-09 | 1.87\n",
       "2015-10 | 1.6925\n",
       "... (29 rows omitted)"
      ]
     },
     "execution_count": 54,
     "metadata": {},
     "output_type": "execute_result"
    }
   ],
   "source": [
    "median_price = organic.select('Date', 'Price').group('Date', np.median)\n",
    "median_price"
   ]
  },
  {
   "cell_type": "code",
   "execution_count": 55,
   "metadata": {},
   "outputs": [
    {
     "data": {
      "text/plain": [
       "True"
      ]
     },
     "execution_count": 55,
     "metadata": {},
     "output_type": "execute_result"
    }
   ],
   "source": [
    "isinstance(median_price, Table)"
   ]
  },
  {
   "cell_type": "code",
   "execution_count": 56,
   "metadata": {},
   "outputs": [
    {
     "name": "stdout",
     "output_type": "stream",
     "text": [
      "~~~~~~~~~~~~~~~~~~~~~~~~~~~~~~~~~~~~~~~~~~~~~~~~~~~~~~~~~~~~~~~~~~~~~\n",
      "Running tests\n",
      "\n",
      "---------------------------------------------------------------------\n",
      "Test summary\n",
      "    Passed: 1\n",
      "    Failed: 0\n",
      "[ooooooooook] 100.0% passed\n",
      "\n"
     ]
    }
   ],
   "source": [
    "_ = ok.grade('q3_5')"
   ]
  },
  {
   "cell_type": "markdown",
   "metadata": {},
   "source": [
    "**Question 6.** Plot the median price of conventional avocados in the entire US as a function of date. Does the data support the \"avocadopocalypse\"; that is, were prices higher in 2017? Describe how you could use the given data to investigate the *reason* that prices were higher."
   ]
  },
  {
   "cell_type": "code",
   "execution_count": 57,
   "metadata": {},
   "outputs": [
    {
     "data": {
      "image/png": "[encoded data removed]",
      "text/plain": [
       "<Figure size 432x288 with 1 Axes>"
      ]
     },
     "metadata": {},
     "output_type": "display_data"
    }
   ],
   "source": [
    "# Make your plot here\n",
    "median_price.bar('Date')"
   ]
  },
  {
   "cell_type": "markdown",
   "metadata": {},
   "source": [
    "<hr style=\"color:Maroon;background-color:Maroon;border:0 none; height: 3px;\">\n",
    "\n",
    "The data does support the idea that avocado prices increased. One could plot the volume of avocado sales -- if sales were low, it might have been due to a shortage, which would cause prices to increase.\n",
    "\n",
    "<hr style=\"color:Maroon;background-color:Maroon;border:0 none; height: 3px;\">"
   ]
  },
  {
   "cell_type": "markdown",
   "metadata": {},
   "source": [
    "## 4. Google Play Store"
   ]
  },
  {
   "cell_type": "markdown",
   "metadata": {},
   "source": [
    "In this problem, we will explore the [Google Play Store Apps Dataset](https://www.kaggle.com/lava18/google-play-store-apps), scraped from the Google Play Store."
   ]
  },
  {
   "cell_type": "code",
   "execution_count": 58,
   "metadata": {},
   "outputs": [
    {
     "data": {
      "text/html": [
       "<table border=\"1\" class=\"dataframe\">\n",
       "    <thead>\n",
       "        <tr>\n",
       "            <th>App</th> <th>Category</th> <th>Rating</th> <th>Reviews</th> <th>Size</th> <th>Installs</th> <th>Type</th> <th>Price</th> <th>Content Rating</th> <th>Genres</th>\n",
       "        </tr>\n",
       "    </thead>\n",
       "    <tbody>\n",
       "        <tr>\n",
       "            <td>Photo Editor & Candy Camera & Grid & ScrapBook    </td> <td>ART_AND_DESIGN</td> <td>4.1   </td> <td>159    </td> <td>19M </td> <td>10000   </td> <td>Free</td> <td>0    </td> <td>Everyone      </td> <td>Art & Design             </td>\n",
       "        </tr>\n",
       "        <tr>\n",
       "            <td>Coloring book moana                               </td> <td>ART_AND_DESIGN</td> <td>3.9   </td> <td>967    </td> <td>14M </td> <td>500000  </td> <td>Free</td> <td>0    </td> <td>Everyone      </td> <td>Art & Design;Pretend Play</td>\n",
       "        </tr>\n",
       "        <tr>\n",
       "            <td>U Launcher Lite – FREE Live Cool Themes, Hide Apps</td> <td>ART_AND_DESIGN</td> <td>4.7   </td> <td>87510  </td> <td>8.7M</td> <td>5e+06   </td> <td>Free</td> <td>0    </td> <td>Everyone      </td> <td>Art & Design             </td>\n",
       "        </tr>\n",
       "        <tr>\n",
       "            <td>Sketch - Draw & Paint                             </td> <td>ART_AND_DESIGN</td> <td>4.5   </td> <td>215644 </td> <td>25M </td> <td>5e+07   </td> <td>Free</td> <td>0    </td> <td>Teen          </td> <td>Art & Design             </td>\n",
       "        </tr>\n",
       "        <tr>\n",
       "            <td>Pixel Draw - Number Art Coloring Book             </td> <td>ART_AND_DESIGN</td> <td>4.3   </td> <td>967    </td> <td>2.8M</td> <td>100000  </td> <td>Free</td> <td>0    </td> <td>Everyone      </td> <td>Art & Design;Creativity  </td>\n",
       "        </tr>\n",
       "        <tr>\n",
       "            <td>Paper flowers instructions                        </td> <td>ART_AND_DESIGN</td> <td>4.4   </td> <td>167    </td> <td>5.6M</td> <td>50000   </td> <td>Free</td> <td>0    </td> <td>Everyone      </td> <td>Art & Design             </td>\n",
       "        </tr>\n",
       "        <tr>\n",
       "            <td>Smoke Effect Photo Maker - Smoke Editor           </td> <td>ART_AND_DESIGN</td> <td>3.8   </td> <td>178    </td> <td>19M </td> <td>50000   </td> <td>Free</td> <td>0    </td> <td>Everyone      </td> <td>Art & Design             </td>\n",
       "        </tr>\n",
       "        <tr>\n",
       "            <td>Infinite Painter                                  </td> <td>ART_AND_DESIGN</td> <td>4.1   </td> <td>36815  </td> <td>29M </td> <td>1e+06   </td> <td>Free</td> <td>0    </td> <td>Everyone      </td> <td>Art & Design             </td>\n",
       "        </tr>\n",
       "        <tr>\n",
       "            <td>Garden Coloring Book                              </td> <td>ART_AND_DESIGN</td> <td>4.4   </td> <td>13791  </td> <td>33M </td> <td>1e+06   </td> <td>Free</td> <td>0    </td> <td>Everyone      </td> <td>Art & Design             </td>\n",
       "        </tr>\n",
       "        <tr>\n",
       "            <td>Kids Paint Free - Drawing Fun                     </td> <td>ART_AND_DESIGN</td> <td>4.7   </td> <td>121    </td> <td>3.1M</td> <td>10000   </td> <td>Free</td> <td>0    </td> <td>Everyone      </td> <td>Art & Design;Creativity  </td>\n",
       "        </tr>\n",
       "    </tbody>\n",
       "</table>\n",
       "<p>... (10815 rows omitted)</p>"
      ],
      "text/plain": [
       "App                                                | Category       | Rating | Reviews | Size | Installs | Type | Price | Content Rating | Genres\n",
       "Photo Editor & Candy Camera & Grid & ScrapBook     | ART_AND_DESIGN | 4.1    | 159     | 19M  | 10000    | Free | 0     | Everyone       | Art & Design\n",
       "Coloring book moana                                | ART_AND_DESIGN | 3.9    | 967     | 14M  | 500000   | Free | 0     | Everyone       | Art & Design;Pretend Play\n",
       "U Launcher Lite – FREE Live Cool Themes, Hide Apps | ART_AND_DESIGN | 4.7    | 87510   | 8.7M | 5e+06    | Free | 0     | Everyone       | Art & Design\n",
       "Sketch - Draw & Paint                              | ART_AND_DESIGN | 4.5    | 215644  | 25M  | 5e+07    | Free | 0     | Teen           | Art & Design\n",
       "Pixel Draw - Number Art Coloring Book              | ART_AND_DESIGN | 4.3    | 967     | 2.8M | 100000   | Free | 0     | Everyone       | Art & Design;Creativity\n",
       "Paper flowers instructions                         | ART_AND_DESIGN | 4.4    | 167     | 5.6M | 50000    | Free | 0     | Everyone       | Art & Design\n",
       "Smoke Effect Photo Maker - Smoke Editor            | ART_AND_DESIGN | 3.8    | 178     | 19M  | 50000    | Free | 0     | Everyone       | Art & Design\n",
       "Infinite Painter                                   | ART_AND_DESIGN | 4.1    | 36815   | 29M  | 1e+06    | Free | 0     | Everyone       | Art & Design\n",
       "Garden Coloring Book                               | ART_AND_DESIGN | 4.4    | 13791   | 33M  | 1e+06    | Free | 0     | Everyone       | Art & Design\n",
       "Kids Paint Free - Drawing Fun                      | ART_AND_DESIGN | 4.7    | 121     | 3.1M | 10000    | Free | 0     | Everyone       | Art & Design;Creativity\n",
       "... (10815 rows omitted)"
      ]
     },
     "execution_count": 58,
     "metadata": {},
     "output_type": "execute_result"
    }
   ],
   "source": [
    "# run this cell to load the data\n",
    "apps = Table.read_table('googleplaystore.csv')\n",
    "apps"
   ]
  },
  {
   "cell_type": "markdown",
   "metadata": {},
   "source": [
    "Each row in the table is an app. Here are descriptions of some of the columns.\n",
    "- **Category** Category the app belongs to\n",
    "- **Rating** Overall user rating of the app (as when scraped)\n",
    "- **Reviews** Number of user reviews for the app (as when scraped) \n",
    "- **Installs** Number of user downloads/installs for the app (as when scraped)"
   ]
  },
  {
   "cell_type": "markdown",
   "metadata": {},
   "source": [
    "**Question 1.** Assign `by_category` to a table which counts the number of apps per category. List the categories alphabetically."
   ]
  },
  {
   "cell_type": "code",
   "execution_count": 59,
   "metadata": {},
   "outputs": [
    {
     "data": {
      "text/html": [
       "<table border=\"1\" class=\"dataframe\">\n",
       "    <thead>\n",
       "        <tr>\n",
       "            <th>Content Rating</th> <th>count</th>\n",
       "        </tr>\n",
       "    </thead>\n",
       "    <tbody>\n",
       "        <tr>\n",
       "            <td>Adults only 18+</td> <td>3    </td>\n",
       "        </tr>\n",
       "        <tr>\n",
       "            <td>Everyone       </td> <td>8702 </td>\n",
       "        </tr>\n",
       "        <tr>\n",
       "            <td>Everyone 10+   </td> <td>413  </td>\n",
       "        </tr>\n",
       "        <tr>\n",
       "            <td>Mature 17+     </td> <td>499  </td>\n",
       "        </tr>\n",
       "        <tr>\n",
       "            <td>Teen           </td> <td>1206 </td>\n",
       "        </tr>\n",
       "        <tr>\n",
       "            <td>Unrated        </td> <td>2    </td>\n",
       "        </tr>\n",
       "    </tbody>\n",
       "</table>"
      ],
      "text/plain": [
       "Content Rating  | count\n",
       "Adults only 18+ | 3\n",
       "Everyone        | 8702\n",
       "Everyone 10+    | 413\n",
       "Mature 17+      | 499\n",
       "Teen            | 1206\n",
       "Unrated         | 2"
      ]
     },
     "execution_count": 59,
     "metadata": {},
     "output_type": "execute_result"
    }
   ],
   "source": [
    "by_content = apps.group('Content Rating').sort('Content Rating')\n",
    "by_content"
   ]
  },
  {
   "cell_type": "code",
   "execution_count": 60,
   "metadata": {},
   "outputs": [
    {
     "data": {
      "text/plain": [
       "True"
      ]
     },
     "execution_count": 60,
     "metadata": {},
     "output_type": "execute_result"
    }
   ],
   "source": [
    "isinstance(by_content, Table)"
   ]
  },
  {
   "cell_type": "code",
   "execution_count": 61,
   "metadata": {},
   "outputs": [
    {
     "name": "stdout",
     "output_type": "stream",
     "text": [
      "~~~~~~~~~~~~~~~~~~~~~~~~~~~~~~~~~~~~~~~~~~~~~~~~~~~~~~~~~~~~~~~~~~~~~\n",
      "Running tests\n",
      "\n",
      "---------------------------------------------------------------------\n",
      "Test summary\n",
      "    Passed: 1\n",
      "    Failed: 0\n",
      "[ooooooooook] 100.0% passed\n",
      "\n"
     ]
    }
   ],
   "source": [
    "_ = ok.grade('q4_1')"
   ]
  },
  {
   "cell_type": "markdown",
   "metadata": {},
   "source": [
    "**Question 2.** Compute the number of apps in the dataset that have 1.5 stars or lower, and save the result in `bad_apps` and compute the number of apps in the dataset that have 4 stars or higher, and save the results in `good_apps`."
   ]
  },
  {
   "cell_type": "code",
   "execution_count": 62,
   "metadata": {},
   "outputs": [
    {
     "data": {
      "text/plain": [
       "(23, 7368)"
      ]
     },
     "execution_count": 62,
     "metadata": {},
     "output_type": "execute_result"
    }
   ],
   "source": [
    "bad_apps = apps.where('Rating', are.below_or_equal_to(1.5)).num_rows\n",
    "good_apps = apps.where('Rating', are.above_or_equal_to(4.0)).num_rows\n",
    "bad_apps, good_apps"
   ]
  },
  {
   "cell_type": "code",
   "execution_count": 63,
   "metadata": {},
   "outputs": [
    {
     "data": {
      "text/plain": [
       "True"
      ]
     },
     "execution_count": 63,
     "metadata": {},
     "output_type": "execute_result"
    }
   ],
   "source": [
    "(isinstance(bad_apps, int) or isinstance(bad_apps, np.int32))  and (isinstance(good_apps, int) or isinstance(good_apps, np.int32))"
   ]
  },
  {
   "cell_type": "code",
   "execution_count": 64,
   "metadata": {},
   "outputs": [
    {
     "name": "stdout",
     "output_type": "stream",
     "text": [
      "~~~~~~~~~~~~~~~~~~~~~~~~~~~~~~~~~~~~~~~~~~~~~~~~~~~~~~~~~~~~~~~~~~~~~\n",
      "Running tests\n",
      "\n",
      "---------------------------------------------------------------------\n",
      "Test summary\n",
      "    Passed: 1\n",
      "    Failed: 0\n",
      "[ooooooooook] 100.0% passed\n",
      "\n"
     ]
    }
   ],
   "source": [
    "_ = ok.grade('q4_2')"
   ]
  },
  {
   "cell_type": "markdown",
   "metadata": {},
   "source": [
    "**Question 3.** How many apps listed have the word \"Google\" in the App name? Save the number as `google_apps`.\n",
    "\n",
    "note: each row is a separate App and should be counted as such (even if the names are the same)."
   ]
  },
  {
   "cell_type": "code",
   "execution_count": 65,
   "metadata": {},
   "outputs": [
    {
     "data": {
      "text/plain": [
       "94"
      ]
     },
     "execution_count": 65,
     "metadata": {},
     "output_type": "execute_result"
    }
   ],
   "source": [
    "google_apps = apps.where(\"App\", are.containing(\"Google\")).num_rows\n",
    "google_apps"
   ]
  },
  {
   "cell_type": "code",
   "execution_count": 66,
   "metadata": {},
   "outputs": [
    {
     "data": {
      "text/plain": [
       "True"
      ]
     },
     "execution_count": 66,
     "metadata": {},
     "output_type": "execute_result"
    }
   ],
   "source": [
    "isinstance(google_apps, int) or isinstance(google_apps, np.int32)"
   ]
  },
  {
   "cell_type": "code",
   "execution_count": 67,
   "metadata": {},
   "outputs": [
    {
     "name": "stdout",
     "output_type": "stream",
     "text": [
      "~~~~~~~~~~~~~~~~~~~~~~~~~~~~~~~~~~~~~~~~~~~~~~~~~~~~~~~~~~~~~~~~~~~~~\n",
      "Running tests\n",
      "\n",
      "---------------------------------------------------------------------\n",
      "Test summary\n",
      "    Passed: 1\n",
      "    Failed: 0\n",
      "[ooooooooook] 100.0% passed\n",
      "\n"
     ]
    }
   ],
   "source": [
    "_ = ok.grade('q4_3')"
   ]
  },
  {
   "cell_type": "markdown",
   "metadata": {},
   "source": [
    "**Question 4:** Of the apps under the Category `COMMUNICATION`, get the `Content Rating` count for apps where the Rating is between or equal to 4 and 5 (inclusive). Return this as a table sorted by `count` (with greatest count at the top of the table) called `top_communication_apps`.\n",
    "\n",
    "Hint: creating two tables may help. Even though it is possible to do this in one line, sometimes it's better to break up the tasks to make the overall process clearer. We will only check the final `top_communication_apps` table though."
   ]
  },
  {
   "cell_type": "code",
   "execution_count": 68,
   "metadata": {},
   "outputs": [
    {
     "data": {
      "text/html": [
       "<table border=\"1\" class=\"dataframe\">\n",
       "    <thead>\n",
       "        <tr>\n",
       "            <th>Content Rating</th> <th>count</th>\n",
       "        </tr>\n",
       "    </thead>\n",
       "    <tbody>\n",
       "        <tr>\n",
       "            <td>Everyone      </td> <td>136  </td>\n",
       "        </tr>\n",
       "        <tr>\n",
       "            <td>Teen          </td> <td>15   </td>\n",
       "        </tr>\n",
       "        <tr>\n",
       "            <td>Mature 17+    </td> <td>2    </td>\n",
       "        </tr>\n",
       "    </tbody>\n",
       "</table>"
      ],
      "text/plain": [
       "Content Rating | count\n",
       "Everyone       | 136\n",
       "Teen           | 15\n",
       "Mature 17+     | 2"
      ]
     },
     "execution_count": 68,
     "metadata": {},
     "output_type": "execute_result"
    }
   ],
   "source": [
    "#first get the apps which are under the Category COMMUNICATION\n",
    "communication_apps = apps.where(\"Category\", are.containing(\"COMMUNICATION\"))\n",
    "\n",
    "#then use the above table and get apps with ratings between 4 and 5 (then get count and sort correctly)\n",
    "top_communication_apps = communication_apps.where(\"Rating\", are.not_strictly_between(4,5)).group(\"Content Rating\").sort(\"count\",descending = True)\n",
    "\n",
    "top_communication_apps"
   ]
  },
  {
   "cell_type": "code",
   "execution_count": 69,
   "metadata": {},
   "outputs": [
    {
     "data": {
      "text/plain": [
       "True"
      ]
     },
     "execution_count": 69,
     "metadata": {},
     "output_type": "execute_result"
    }
   ],
   "source": [
    "isinstance(top_communication_apps, Table)"
   ]
  },
  {
   "cell_type": "code",
   "execution_count": 70,
   "metadata": {},
   "outputs": [
    {
     "name": "stdout",
     "output_type": "stream",
     "text": [
      "~~~~~~~~~~~~~~~~~~~~~~~~~~~~~~~~~~~~~~~~~~~~~~~~~~~~~~~~~~~~~~~~~~~~~\n",
      "Running tests\n",
      "\n",
      "---------------------------------------------------------------------\n",
      "Test summary\n",
      "    Passed: 1\n",
      "    Failed: 0\n",
      "[ooooooooook] 100.0% passed\n",
      "\n"
     ]
    }
   ],
   "source": [
    "_ = ok.grade('q4_4')"
   ]
  },
  {
   "cell_type": "markdown",
   "metadata": {},
   "source": [
    "**Question 5.** Create a table named `install_stats` which has two columns: the column `Content Rating`, and a column `Mean Installs` which contains the mean number of install of apps in each type of content rating.\n",
    "\n",
    "*Hint*: You can use the 2-argument form of `.group()` ."
   ]
  },
  {
   "cell_type": "code",
   "execution_count": 71,
   "metadata": {},
   "outputs": [
    {
     "data": {
      "text/html": [
       "<table border=\"1\" class=\"dataframe\">\n",
       "    <thead>\n",
       "        <tr>\n",
       "            <th>Content Rating</th> <th>Mean Installs</th>\n",
       "        </tr>\n",
       "    </thead>\n",
       "    <tbody>\n",
       "        <tr>\n",
       "            <td>Adults only 18+</td> <td>666667       </td>\n",
       "        </tr>\n",
       "        <tr>\n",
       "            <td>Everyone       </td> <td>1.31184e+07  </td>\n",
       "        </tr>\n",
       "        <tr>\n",
       "            <td>Everyone 10+   </td> <td>3.20433e+07  </td>\n",
       "        </tr>\n",
       "        <tr>\n",
       "            <td>Mature 17+     </td> <td>1.10711e+07  </td>\n",
       "        </tr>\n",
       "        <tr>\n",
       "            <td>Teen           </td> <td>2.87864e+07  </td>\n",
       "        </tr>\n",
       "        <tr>\n",
       "            <td>Unrated        </td> <td>25250        </td>\n",
       "        </tr>\n",
       "    </tbody>\n",
       "</table>"
      ],
      "text/plain": [
       "Content Rating  | Mean Installs\n",
       "Adults only 18+ | 666667\n",
       "Everyone        | 1.31184e+07\n",
       "Everyone 10+    | 3.20433e+07\n",
       "Mature 17+      | 1.10711e+07\n",
       "Teen            | 2.87864e+07\n",
       "Unrated         | 25250"
      ]
     },
     "execution_count": 71,
     "metadata": {},
     "output_type": "execute_result"
    }
   ],
   "source": [
    "install_stats = apps.select('Installs', 'Content Rating').group('Content Rating', np.mean).relabeled('Installs mean', 'Mean Installs')\n",
    "install_stats"
   ]
  },
  {
   "cell_type": "code",
   "execution_count": 72,
   "metadata": {},
   "outputs": [
    {
     "data": {
      "text/plain": [
       "True"
      ]
     },
     "execution_count": 72,
     "metadata": {},
     "output_type": "execute_result"
    }
   ],
   "source": [
    "isinstance(install_stats, Table)"
   ]
  },
  {
   "cell_type": "code",
   "execution_count": 73,
   "metadata": {},
   "outputs": [
    {
     "name": "stdout",
     "output_type": "stream",
     "text": [
      "~~~~~~~~~~~~~~~~~~~~~~~~~~~~~~~~~~~~~~~~~~~~~~~~~~~~~~~~~~~~~~~~~~~~~\n",
      "Running tests\n",
      "\n",
      "---------------------------------------------------------------------\n",
      "Test summary\n",
      "    Passed: 1\n",
      "    Failed: 0\n",
      "[ooooooooook] 100.0% passed\n",
      "\n"
     ]
    }
   ],
   "source": [
    "_ = ok.grade('q4_5')"
   ]
  },
  {
   "cell_type": "markdown",
   "metadata": {},
   "source": [
    "**Question 6.** Suppose a good app is one with at least one million installs and a rating of at least 4.0. Create a variable called `best_category` containing the name of the category with the most good apps. "
   ]
  },
  {
   "cell_type": "code",
   "execution_count": 74,
   "metadata": {},
   "outputs": [
    {
     "data": {
      "text/plain": [
       "'GAME'"
      ]
     },
     "execution_count": 74,
     "metadata": {},
     "output_type": "execute_result"
    }
   ],
   "source": [
    "best_category = apps.where('Rating', are.not_below(4.0)).where('Installs', are.not_below(1000000)).group('Category').sort('count', descending=True).column('Category').item(0)\n",
    "best_category"
   ]
  },
  {
   "cell_type": "code",
   "execution_count": 75,
   "metadata": {},
   "outputs": [
    {
     "data": {
      "text/plain": [
       "True"
      ]
     },
     "execution_count": 75,
     "metadata": {},
     "output_type": "execute_result"
    }
   ],
   "source": [
    "isinstance(best_category, str)"
   ]
  },
  {
   "cell_type": "code",
   "execution_count": 76,
   "metadata": {},
   "outputs": [
    {
     "name": "stdout",
     "output_type": "stream",
     "text": [
      "~~~~~~~~~~~~~~~~~~~~~~~~~~~~~~~~~~~~~~~~~~~~~~~~~~~~~~~~~~~~~~~~~~~~~\n",
      "Running tests\n",
      "\n",
      "---------------------------------------------------------------------\n",
      "Test summary\n",
      "    Passed: 1\n",
      "    Failed: 0\n",
      "[ooooooooook] 100.0% passed\n",
      "\n"
     ]
    }
   ],
   "source": [
    "_ = ok.grade('q4_6')"
   ]
  },
  {
   "cell_type": "markdown",
   "metadata": {},
   "source": [
    "## 5. Power Outages\n"
   ]
  },
  {
   "cell_type": "markdown",
   "metadata": {},
   "source": [
    "The dataset below contains information about power outages that occurred in North America between 2000 to 2014. The data is a subset of the data available [here](https://www.kaggle.com/autunno/15-years-of-power-outages).  Run the next cell to load the data."
   ]
  },
  {
   "cell_type": "code",
   "execution_count": 77,
   "metadata": {},
   "outputs": [
    {
     "data": {
      "text/html": [
       "<table border=\"1\" class=\"dataframe\">\n",
       "    <thead>\n",
       "        <tr>\n",
       "            <th>Event Description</th> <th>Year</th> <th>Time Event Began</th> <th>Date of Restoration</th> <th>Time of Restoration</th> <th>Respondent</th> <th>Geographic Areas</th> <th>NERC Region</th> <th>Number of Customers Affected</th> <th>Tags</th>\n",
       "        </tr>\n",
       "    </thead>\n",
       "    <tbody>\n",
       "        <tr>\n",
       "            <td>Severe Weather - Thunderstorms</td> <td>2014</td> <td>8:00 PM         </td> <td>7/2/2014           </td> <td>6:30 PM            </td> <td>Exelon Corporation/ComEd                               </td> <td>Illinois               </td> <td>RFC        </td> <td>420,000                     </td> <td>severe weather, thunderstorm</td>\n",
       "        </tr>\n",
       "        <tr>\n",
       "            <td>Severe Weather - Thunderstorms</td> <td>2014</td> <td>11:20 PM        </td> <td>7/1/2014           </td> <td>5:00 PM            </td> <td>Northern Indiana Public Service Company                </td> <td>North Central Indiana  </td> <td>RFC        </td> <td>127,000                     </td> <td>severe weather, thunderstorm</td>\n",
       "        </tr>\n",
       "        <tr>\n",
       "            <td>Severe Weather - Thunderstorms</td> <td>2014</td> <td>5:55 PM         </td> <td>7/1/2014           </td> <td>2:53 AM            </td> <td>We Energies                                            </td> <td>Southeast  Wisconsin   </td> <td>MRO        </td> <td>120,000                     </td> <td>severe weather, thunderstorm</td>\n",
       "        </tr>\n",
       "        <tr>\n",
       "            <td>Fuel Supply Emergency - Coal  </td> <td>2014</td> <td>1:21 PM         </td> <td>Unknown            </td> <td>Unknown            </td> <td>We Energies                                            </td> <td>Wisconsin              </td> <td>MRO        </td> <td>Unknown                     </td> <td>fuel supply emergency, coal </td>\n",
       "        </tr>\n",
       "        <tr>\n",
       "            <td>Physical Attack - Vandalism   </td> <td>2014</td> <td>2:54 PM         </td> <td>6/24/2014          </td> <td>2:55 PM            </td> <td>Tennessee Valley Authority                             </td> <td>Nashville, Tennessee   </td> <td>SERC       </td> <td>Unknown                     </td> <td>vandalism, physical         </td>\n",
       "        </tr>\n",
       "        <tr>\n",
       "            <td>Physical Attack - Vandalism   </td> <td>2014</td> <td>8:47 AM         </td> <td>6/19/2014          </td> <td>8:48 AM            </td> <td>Tennessee Valley Authority                             </td> <td>Nashville, Tennessee   </td> <td>SERC       </td> <td>Unknown                     </td> <td>vandalism, physical         </td>\n",
       "        </tr>\n",
       "        <tr>\n",
       "            <td>Physical Attack - Vandalism   </td> <td>2014</td> <td>9:52 AM         </td> <td>6/18/2014          </td> <td>7:00 PM            </td> <td>Public Utility District No.1 of Snohomish County (SNPD)</td> <td>Washington             </td> <td>WECC       </td> <td>Unknown                     </td> <td>vandalism, physical         </td>\n",
       "        </tr>\n",
       "        <tr>\n",
       "            <td>Severe Weather - Thunderstorms</td> <td>2014</td> <td>5:00 PM         </td> <td>6/20/2014          </td> <td>3:00 PM            </td> <td>Detroit Edison Co                                      </td> <td>Southeast Michigan     </td> <td>RFC        </td> <td>138,802                     </td> <td>severe weather, thunderstorm</td>\n",
       "        </tr>\n",
       "        <tr>\n",
       "            <td>Severe Weather - Thunderstorms</td> <td>2014</td> <td>12:00 AM        </td> <td>6/15/2014          </td> <td>1:00 AM            </td> <td>Xcel Energy                                            </td> <td>Central Minnesota      </td> <td>MRO        </td> <td>55,951                      </td> <td>severe weather, thunderstorm</td>\n",
       "        </tr>\n",
       "        <tr>\n",
       "            <td>Suspected Physical Attack     </td> <td>2014</td> <td>9:10 AM         </td> <td>6/12/2014          </td> <td>9:11 AM            </td> <td>Luminant Energy Company, LLC                           </td> <td>Somervell County, Texas</td> <td>ERCOT      </td> <td>Unknown                     </td> <td>vandalism, physical         </td>\n",
       "        </tr>\n",
       "    </tbody>\n",
       "</table>\n",
       "<p>... (1642 rows omitted)</p>"
      ],
      "text/plain": [
       "Event Description              | Year | Time Event Began | Date of Restoration | Time of Restoration | Respondent                                              | Geographic Areas        | NERC Region | Number of Customers Affected | Tags\n",
       "Severe Weather - Thunderstorms | 2014 | 8:00 PM          | 7/2/2014            | 6:30 PM             | Exelon Corporation/ComEd                                | Illinois                | RFC         | 420,000                      | severe weather, thunderstorm\n",
       "Severe Weather - Thunderstorms | 2014 | 11:20 PM         | 7/1/2014            | 5:00 PM             | Northern Indiana Public Service Company                 | North Central Indiana   | RFC         | 127,000                      | severe weather, thunderstorm\n",
       "Severe Weather - Thunderstorms | 2014 | 5:55 PM          | 7/1/2014            | 2:53 AM             | We Energies                                             | Southeast  Wisconsin    | MRO         | 120,000                      | severe weather, thunderstorm\n",
       "Fuel Supply Emergency - Coal   | 2014 | 1:21 PM          | Unknown             | Unknown             | We Energies                                             | Wisconsin               | MRO         | Unknown                      | fuel supply emergency, coal\n",
       "Physical Attack - Vandalism    | 2014 | 2:54 PM          | 6/24/2014           | 2:55 PM             | Tennessee Valley Authority                              | Nashville, Tennessee    | SERC        | Unknown                      | vandalism, physical\n",
       "Physical Attack - Vandalism    | 2014 | 8:47 AM          | 6/19/2014           | 8:48 AM             | Tennessee Valley Authority                              | Nashville, Tennessee    | SERC        | Unknown                      | vandalism, physical\n",
       "Physical Attack - Vandalism    | 2014 | 9:52 AM          | 6/18/2014           | 7:00 PM             | Public Utility District No.1 of Snohomish County (SNPD) | Washington              | WECC        | Unknown                      | vandalism, physical\n",
       "Severe Weather - Thunderstorms | 2014 | 5:00 PM          | 6/20/2014           | 3:00 PM             | Detroit Edison Co                                       | Southeast Michigan      | RFC         | 138,802                      | severe weather, thunderstorm\n",
       "Severe Weather - Thunderstorms | 2014 | 12:00 AM         | 6/15/2014           | 1:00 AM             | Xcel Energy                                             | Central Minnesota       | MRO         | 55,951                       | severe weather, thunderstorm\n",
       "Suspected Physical Attack      | 2014 | 9:10 AM          | 6/12/2014           | 9:11 AM             | Luminant Energy Company, LLC                            | Somervell County, Texas | ERCOT       | Unknown                      | vandalism, physical\n",
       "... (1642 rows omitted)"
      ]
     },
     "execution_count": 77,
     "metadata": {},
     "output_type": "execute_result"
    }
   ],
   "source": [
    "# just run this cell\n",
    "power = Table.read_table(\"powerdata.csv\")\n",
    "power"
   ]
  },
  {
   "cell_type": "markdown",
   "metadata": {},
   "source": [
    "**Question 1.** Find the proportion of all power outages that occured in the year 2008. Save your answer to the variable `outage_2008`."
   ]
  },
  {
   "cell_type": "code",
   "execution_count": 78,
   "metadata": {},
   "outputs": [
    {
     "data": {
      "text/plain": [
       "0.09019370460048426"
      ]
     },
     "execution_count": 78,
     "metadata": {},
     "output_type": "execute_result"
    }
   ],
   "source": [
    "outage_2008 = power.where('Year', 2008).num_rows / power.num_rows\n",
    "outage_2008"
   ]
  },
  {
   "cell_type": "code",
   "execution_count": 79,
   "metadata": {},
   "outputs": [
    {
     "data": {
      "text/plain": [
       "True"
      ]
     },
     "execution_count": 79,
     "metadata": {},
     "output_type": "execute_result"
    }
   ],
   "source": [
    "isinstance(outage_2008, float)"
   ]
  },
  {
   "cell_type": "code",
   "execution_count": 80,
   "metadata": {},
   "outputs": [
    {
     "name": "stdout",
     "output_type": "stream",
     "text": [
      "~~~~~~~~~~~~~~~~~~~~~~~~~~~~~~~~~~~~~~~~~~~~~~~~~~~~~~~~~~~~~~~~~~~~~\n",
      "Running tests\n",
      "\n",
      "---------------------------------------------------------------------\n",
      "Test summary\n",
      "    Passed: 1\n",
      "    Failed: 0\n",
      "[ooooooooook] 100.0% passed\n",
      "\n"
     ]
    }
   ],
   "source": [
    "_ = ok.grade('q5_1')"
   ]
  },
  {
   "cell_type": "markdown",
   "metadata": {},
   "source": [
    "**Question 2.** Make a bar chart showing the number of outages per NERC Region. Make sure that the bars are sorted from longest to shortest. You can learn more about what a NERC region is [here](https://www.nerc.com/Pages/default.aspx)."
   ]
  },
  {
   "cell_type": "code",
   "execution_count": 81,
   "metadata": {},
   "outputs": [
    {
     "data": {
      "image/png": "[encoded data removed]",
      "text/plain": [
       "<Figure size 432x828 with 1 Axes>"
      ]
     },
     "metadata": {},
     "output_type": "display_data"
    }
   ],
   "source": [
    "power_region = power.group('NERC Region').sort('count', descending=True)\n",
    "power_region.barh('NERC Region')"
   ]
  },
  {
   "cell_type": "markdown",
   "metadata": {},
   "source": [
    "**Question 3.** Draw a line plot of the count of power outages by year."
   ]
  },
  {
   "cell_type": "code",
   "execution_count": 82,
   "metadata": {},
   "outputs": [
    {
     "data": {
      "image/png": "[encoded data removed]",
      "text/plain": [
       "<Figure size 432x288 with 1 Axes>"
      ]
     },
     "metadata": {},
     "output_type": "display_data"
    }
   ],
   "source": [
    "power.group('Year').plot(\"Year\")"
   ]
  },
  {
   "cell_type": "markdown",
   "metadata": {},
   "source": [
    "**Question 4.** We notice that there is a spike in power outages in the year 2011. Let's explore some of the data of the outages in the year 2011. Create a table named `power_2011` which has two columns: `Event Description`, and `count`, which is a count of the number of times that `Event Description` occured in 2011."
   ]
  },
  {
   "cell_type": "code",
   "execution_count": 83,
   "metadata": {},
   "outputs": [
    {
     "data": {
      "text/html": [
       "<table border=\"1\" class=\"dataframe\">\n",
       "    <thead>\n",
       "        <tr>\n",
       "            <th>Event Description</th> <th>count</th>\n",
       "        </tr>\n",
       "    </thead>\n",
       "    <tbody>\n",
       "        <tr>\n",
       "            <td>Severe Weather                           </td> <td>103  </td>\n",
       "        </tr>\n",
       "        <tr>\n",
       "            <td>Vandalism                                </td> <td>79   </td>\n",
       "        </tr>\n",
       "        <tr>\n",
       "            <td>Suspected Physical Attack                </td> <td>30   </td>\n",
       "        </tr>\n",
       "        <tr>\n",
       "            <td>Public Appeal to Reduce Electricity Usage</td> <td>18   </td>\n",
       "        </tr>\n",
       "        <tr>\n",
       "            <td>Severe Thunderstorms                     </td> <td>13   </td>\n",
       "        </tr>\n",
       "        <tr>\n",
       "            <td>Winter Storm                             </td> <td>10   </td>\n",
       "        </tr>\n",
       "        <tr>\n",
       "            <td>Suspected Cyber Attack                   </td> <td>6    </td>\n",
       "        </tr>\n",
       "        <tr>\n",
       "            <td>Major Storm                              </td> <td>6    </td>\n",
       "        </tr>\n",
       "        <tr>\n",
       "            <td>Generation Inadequacy/Load Shed          </td> <td>5    </td>\n",
       "        </tr>\n",
       "        <tr>\n",
       "            <td>Fuel Supply Deficiency (Coal)            </td> <td>5    </td>\n",
       "        </tr>\n",
       "    </tbody>\n",
       "</table>\n",
       "<p>... (23 rows omitted)</p>"
      ],
      "text/plain": [
       "Event Description                         | count\n",
       "Severe Weather                            | 103\n",
       "Vandalism                                 | 79\n",
       "Suspected Physical Attack                 | 30\n",
       "Public Appeal to Reduce Electricity Usage | 18\n",
       "Severe Thunderstorms                      | 13\n",
       "Winter Storm                              | 10\n",
       "Suspected Cyber Attack                    | 6\n",
       "Major Storm                               | 6\n",
       "Generation Inadequacy/Load Shed           | 5\n",
       "Fuel Supply Deficiency (Coal)             | 5\n",
       "... (23 rows omitted)"
      ]
     },
     "execution_count": 83,
     "metadata": {},
     "output_type": "execute_result"
    }
   ],
   "source": [
    "power_2011 = power.where(\"Year\", 2011).group(\"Event Description\").sort('count', descending = True)\n",
    "power_2011"
   ]
  },
  {
   "cell_type": "code",
   "execution_count": 84,
   "metadata": {},
   "outputs": [
    {
     "data": {
      "text/plain": [
       "True"
      ]
     },
     "execution_count": 84,
     "metadata": {},
     "output_type": "execute_result"
    }
   ],
   "source": [
    "isinstance(power_2011, Table)"
   ]
  },
  {
   "cell_type": "code",
   "execution_count": 85,
   "metadata": {},
   "outputs": [
    {
     "name": "stdout",
     "output_type": "stream",
     "text": [
      "~~~~~~~~~~~~~~~~~~~~~~~~~~~~~~~~~~~~~~~~~~~~~~~~~~~~~~~~~~~~~~~~~~~~~\n",
      "Running tests\n",
      "\n",
      "---------------------------------------------------------------------\n",
      "Test summary\n",
      "    Passed: 1\n",
      "    Failed: 0\n",
      "[ooooooooook] 100.0% passed\n",
      "\n"
     ]
    }
   ],
   "source": [
    "_ = ok.grade('q5_4')"
   ]
  },
  {
   "cell_type": "markdown",
   "metadata": {},
   "source": [
    "**Question 5.** Let's say we want to find the proportion of each event and add it to `power_2011`. Create a new table called `proportion_2011` that adds a new column called `Proportions`."
   ]
  },
  {
   "cell_type": "code",
   "execution_count": 86,
   "metadata": {},
   "outputs": [
    {
     "data": {
      "text/html": [
       "<table border=\"1\" class=\"dataframe\">\n",
       "    <thead>\n",
       "        <tr>\n",
       "            <th>Event Description</th> <th>count</th> <th>Proportions</th>\n",
       "        </tr>\n",
       "    </thead>\n",
       "    <tbody>\n",
       "        <tr>\n",
       "            <td>Severe Weather                           </td> <td>103  </td> <td>0.335505   </td>\n",
       "        </tr>\n",
       "        <tr>\n",
       "            <td>Vandalism                                </td> <td>79   </td> <td>0.257329   </td>\n",
       "        </tr>\n",
       "        <tr>\n",
       "            <td>Suspected Physical Attack                </td> <td>30   </td> <td>0.0977199  </td>\n",
       "        </tr>\n",
       "        <tr>\n",
       "            <td>Public Appeal to Reduce Electricity Usage</td> <td>18   </td> <td>0.0586319  </td>\n",
       "        </tr>\n",
       "        <tr>\n",
       "            <td>Severe Thunderstorms                     </td> <td>13   </td> <td>0.0423453  </td>\n",
       "        </tr>\n",
       "        <tr>\n",
       "            <td>Winter Storm                             </td> <td>10   </td> <td>0.0325733  </td>\n",
       "        </tr>\n",
       "        <tr>\n",
       "            <td>Suspected Cyber Attack                   </td> <td>6    </td> <td>0.019544   </td>\n",
       "        </tr>\n",
       "        <tr>\n",
       "            <td>Major Storm                              </td> <td>6    </td> <td>0.019544   </td>\n",
       "        </tr>\n",
       "        <tr>\n",
       "            <td>Generation Inadequacy/Load Shed          </td> <td>5    </td> <td>0.0162866  </td>\n",
       "        </tr>\n",
       "        <tr>\n",
       "            <td>Fuel Supply Deficiency (Coal)            </td> <td>5    </td> <td>0.0162866  </td>\n",
       "        </tr>\n",
       "    </tbody>\n",
       "</table>\n",
       "<p>... (23 rows omitted)</p>"
      ],
      "text/plain": [
       "Event Description                         | count | Proportions\n",
       "Severe Weather                            | 103   | 0.335505\n",
       "Vandalism                                 | 79    | 0.257329\n",
       "Suspected Physical Attack                 | 30    | 0.0977199\n",
       "Public Appeal to Reduce Electricity Usage | 18    | 0.0586319\n",
       "Severe Thunderstorms                      | 13    | 0.0423453\n",
       "Winter Storm                              | 10    | 0.0325733\n",
       "Suspected Cyber Attack                    | 6     | 0.019544\n",
       "Major Storm                               | 6     | 0.019544\n",
       "Generation Inadequacy/Load Shed           | 5     | 0.0162866\n",
       "Fuel Supply Deficiency (Coal)             | 5     | 0.0162866\n",
       "... (23 rows omitted)"
      ]
     },
     "execution_count": 86,
     "metadata": {},
     "output_type": "execute_result"
    }
   ],
   "source": [
    "counts = power_2011.where('count').column(\"count\")\n",
    "proportions_2011 = power_2011.with_column(\"Proportions\", counts / counts.sum())\n",
    "proportions_2011"
   ]
  },
  {
   "cell_type": "code",
   "execution_count": 87,
   "metadata": {},
   "outputs": [
    {
     "data": {
      "text/plain": [
       "True"
      ]
     },
     "execution_count": 87,
     "metadata": {},
     "output_type": "execute_result"
    }
   ],
   "source": [
    "isinstance(proportions_2011, Table)"
   ]
  },
  {
   "cell_type": "code",
   "execution_count": 88,
   "metadata": {},
   "outputs": [
    {
     "name": "stdout",
     "output_type": "stream",
     "text": [
      "~~~~~~~~~~~~~~~~~~~~~~~~~~~~~~~~~~~~~~~~~~~~~~~~~~~~~~~~~~~~~~~~~~~~~\n",
      "Running tests\n",
      "\n",
      "---------------------------------------------------------------------\n",
      "Test summary\n",
      "    Passed: 1\n",
      "    Failed: 0\n",
      "[ooooooooook] 100.0% passed\n",
      "\n"
     ]
    }
   ],
   "source": [
    "_ = ok.grade('q5_5')"
   ]
  },
  {
   "cell_type": "markdown",
   "metadata": {},
   "source": [
    "## Don't forget to submit to **both** OK *and* Gradescope!"
   ]
  },
  {
   "cell_type": "code",
   "execution_count": 89,
   "metadata": {},
   "outputs": [],
   "source": [
    "#_ = ok.submit()"
   ]
  },
  {
   "cell_type": "code",
   "execution_count": 90,
   "metadata": {},
   "outputs": [
    {
     "name": "stdout",
     "output_type": "stream",
     "text": [
      "~~~~~~~~~~~~~~~~~~~~~~~~~~~~~~~~~~~~~~~~~~~~~~~~~~~~~~~~~~~~~~~~~~~~~\n",
      "Running tests\n",
      "\n",
      "---------------------------------------------------------------------\n",
      "Test summary\n",
      "    Passed: 1\n",
      "    Failed: 0\n",
      "[ooooooooook] 100.0% passed\n",
      "\n",
      "~~~~~~~~~~~~~~~~~~~~~~~~~~~~~~~~~~~~~~~~~~~~~~~~~~~~~~~~~~~~~~~~~~~~~\n",
      "Running tests\n",
      "\n",
      "---------------------------------------------------------------------\n",
      "Test summary\n",
      "    Passed: 1\n",
      "    Failed: 0\n",
      "[ooooooooook] 100.0% passed\n",
      "\n",
      "~~~~~~~~~~~~~~~~~~~~~~~~~~~~~~~~~~~~~~~~~~~~~~~~~~~~~~~~~~~~~~~~~~~~~\n",
      "Running tests\n",
      "\n",
      "---------------------------------------------------------------------\n",
      "Test summary\n",
      "    Passed: 1\n",
      "    Failed: 0\n",
      "[ooooooooook] 100.0% passed\n",
      "\n",
      "~~~~~~~~~~~~~~~~~~~~~~~~~~~~~~~~~~~~~~~~~~~~~~~~~~~~~~~~~~~~~~~~~~~~~\n",
      "Running tests\n",
      "\n",
      "---------------------------------------------------------------------\n",
      "Test summary\n",
      "    Passed: 1\n",
      "    Failed: 0\n",
      "[ooooooooook] 100.0% passed\n",
      "\n",
      "~~~~~~~~~~~~~~~~~~~~~~~~~~~~~~~~~~~~~~~~~~~~~~~~~~~~~~~~~~~~~~~~~~~~~\n",
      "Running tests\n",
      "\n",
      "---------------------------------------------------------------------\n",
      "Test summary\n",
      "    Passed: 1\n",
      "    Failed: 0\n",
      "[ooooooooook] 100.0% passed\n",
      "\n",
      "~~~~~~~~~~~~~~~~~~~~~~~~~~~~~~~~~~~~~~~~~~~~~~~~~~~~~~~~~~~~~~~~~~~~~\n",
      "Running tests\n",
      "\n",
      "---------------------------------------------------------------------\n",
      "Test summary\n",
      "    Passed: 1\n",
      "    Failed: 0\n",
      "[ooooooooook] 100.0% passed\n",
      "\n",
      "~~~~~~~~~~~~~~~~~~~~~~~~~~~~~~~~~~~~~~~~~~~~~~~~~~~~~~~~~~~~~~~~~~~~~\n",
      "Running tests\n",
      "\n",
      "---------------------------------------------------------------------\n",
      "Test summary\n",
      "    Passed: 1\n",
      "    Failed: 0\n",
      "[ooooooooook] 100.0% passed\n",
      "\n",
      "~~~~~~~~~~~~~~~~~~~~~~~~~~~~~~~~~~~~~~~~~~~~~~~~~~~~~~~~~~~~~~~~~~~~~\n",
      "Running tests\n",
      "\n",
      "---------------------------------------------------------------------\n",
      "Test summary\n",
      "    Passed: 1\n",
      "    Failed: 0\n",
      "[ooooooooook] 100.0% passed\n",
      "\n",
      "~~~~~~~~~~~~~~~~~~~~~~~~~~~~~~~~~~~~~~~~~~~~~~~~~~~~~~~~~~~~~~~~~~~~~\n",
      "Running tests\n",
      "\n",
      "---------------------------------------------------------------------\n",
      "Test summary\n",
      "    Passed: 1\n",
      "    Failed: 0\n",
      "[ooooooooook] 100.0% passed\n",
      "\n",
      "~~~~~~~~~~~~~~~~~~~~~~~~~~~~~~~~~~~~~~~~~~~~~~~~~~~~~~~~~~~~~~~~~~~~~\n",
      "Running tests\n",
      "\n",
      "---------------------------------------------------------------------\n",
      "Test summary\n",
      "    Passed: 1\n",
      "    Failed: 0\n",
      "[ooooooooook] 100.0% passed\n",
      "\n",
      "~~~~~~~~~~~~~~~~~~~~~~~~~~~~~~~~~~~~~~~~~~~~~~~~~~~~~~~~~~~~~~~~~~~~~\n",
      "Running tests\n",
      "\n",
      "---------------------------------------------------------------------\n",
      "Test summary\n",
      "    Passed: 1\n",
      "    Failed: 0\n",
      "[ooooooooook] 100.0% passed\n",
      "\n",
      "~~~~~~~~~~~~~~~~~~~~~~~~~~~~~~~~~~~~~~~~~~~~~~~~~~~~~~~~~~~~~~~~~~~~~\n",
      "Running tests\n",
      "\n",
      "---------------------------------------------------------------------\n",
      "Test summary\n",
      "    Passed: 1\n",
      "    Failed: 0\n",
      "[ooooooooook] 100.0% passed\n",
      "\n",
      "~~~~~~~~~~~~~~~~~~~~~~~~~~~~~~~~~~~~~~~~~~~~~~~~~~~~~~~~~~~~~~~~~~~~~\n",
      "Running tests\n",
      "\n",
      "---------------------------------------------------------------------\n",
      "Test summary\n",
      "    Passed: 1\n",
      "    Failed: 0\n",
      "[ooooooooook] 100.0% passed\n",
      "\n",
      "~~~~~~~~~~~~~~~~~~~~~~~~~~~~~~~~~~~~~~~~~~~~~~~~~~~~~~~~~~~~~~~~~~~~~\n",
      "Running tests\n",
      "\n",
      "---------------------------------------------------------------------\n",
      "Test summary\n",
      "    Passed: 1\n",
      "    Failed: 0\n",
      "[ooooooooook] 100.0% passed\n",
      "\n",
      "~~~~~~~~~~~~~~~~~~~~~~~~~~~~~~~~~~~~~~~~~~~~~~~~~~~~~~~~~~~~~~~~~~~~~\n",
      "Running tests\n",
      "\n",
      "---------------------------------------------------------------------\n",
      "Test summary\n",
      "    Passed: 1\n",
      "    Failed: 0\n",
      "[ooooooooook] 100.0% passed\n",
      "\n",
      "~~~~~~~~~~~~~~~~~~~~~~~~~~~~~~~~~~~~~~~~~~~~~~~~~~~~~~~~~~~~~~~~~~~~~\n",
      "Running tests\n",
      "\n",
      "---------------------------------------------------------------------\n",
      "Test summary\n",
      "    Passed: 1\n",
      "    Failed: 0\n",
      "[ooooooooook] 100.0% passed\n",
      "\n",
      "~~~~~~~~~~~~~~~~~~~~~~~~~~~~~~~~~~~~~~~~~~~~~~~~~~~~~~~~~~~~~~~~~~~~~\n",
      "Running tests\n",
      "\n",
      "---------------------------------------------------------------------\n",
      "Test summary\n",
      "    Passed: 1\n",
      "    Failed: 0\n",
      "[ooooooooook] 100.0% passed\n",
      "\n",
      "~~~~~~~~~~~~~~~~~~~~~~~~~~~~~~~~~~~~~~~~~~~~~~~~~~~~~~~~~~~~~~~~~~~~~\n",
      "Running tests\n",
      "\n",
      "---------------------------------------------------------------------\n",
      "Test summary\n",
      "    Passed: 1\n",
      "    Failed: 0\n",
      "[ooooooooook] 100.0% passed\n",
      "\n",
      "~~~~~~~~~~~~~~~~~~~~~~~~~~~~~~~~~~~~~~~~~~~~~~~~~~~~~~~~~~~~~~~~~~~~~\n",
      "Running tests\n",
      "\n",
      "---------------------------------------------------------------------\n",
      "Test summary\n",
      "    Passed: 1\n",
      "    Failed: 0\n",
      "[ooooooooook] 100.0% passed\n",
      "\n",
      "~~~~~~~~~~~~~~~~~~~~~~~~~~~~~~~~~~~~~~~~~~~~~~~~~~~~~~~~~~~~~~~~~~~~~\n",
      "Running tests\n",
      "\n",
      "---------------------------------------------------------------------\n",
      "Test summary\n",
      "    Passed: 1\n",
      "    Failed: 0\n",
      "[ooooooooook] 100.0% passed\n",
      "\n",
      "~~~~~~~~~~~~~~~~~~~~~~~~~~~~~~~~~~~~~~~~~~~~~~~~~~~~~~~~~~~~~~~~~~~~~\n",
      "Running tests\n",
      "\n",
      "---------------------------------------------------------------------\n",
      "Test summary\n",
      "    Passed: 1\n",
      "    Failed: 0\n",
      "[ooooooooook] 100.0% passed\n",
      "\n",
      "~~~~~~~~~~~~~~~~~~~~~~~~~~~~~~~~~~~~~~~~~~~~~~~~~~~~~~~~~~~~~~~~~~~~~\n",
      "Running tests\n",
      "\n",
      "---------------------------------------------------------------------\n",
      "Test summary\n",
      "    Passed: 1\n",
      "    Failed: 0\n",
      "[ooooooooook] 100.0% passed\n",
      "\n",
      "~~~~~~~~~~~~~~~~~~~~~~~~~~~~~~~~~~~~~~~~~~~~~~~~~~~~~~~~~~~~~~~~~~~~~\n",
      "Running tests\n",
      "\n",
      "---------------------------------------------------------------------\n",
      "Test summary\n",
      "    Passed: 1\n",
      "    Failed: 0\n",
      "[ooooooooook] 100.0% passed\n",
      "\n",
      "~~~~~~~~~~~~~~~~~~~~~~~~~~~~~~~~~~~~~~~~~~~~~~~~~~~~~~~~~~~~~~~~~~~~~\n",
      "Running tests\n",
      "\n",
      "---------------------------------------------------------------------\n",
      "Test summary\n",
      "    Passed: 1\n",
      "    Failed: 0\n",
      "[ooooooooook] 100.0% passed\n",
      "\n",
      "~~~~~~~~~~~~~~~~~~~~~~~~~~~~~~~~~~~~~~~~~~~~~~~~~~~~~~~~~~~~~~~~~~~~~\n",
      "Running tests\n",
      "\n",
      "---------------------------------------------------------------------\n",
      "Test summary\n",
      "    Passed: 1\n",
      "    Failed: 0\n",
      "[ooooooooook] 100.0% passed\n",
      "\n",
      "~~~~~~~~~~~~~~~~~~~~~~~~~~~~~~~~~~~~~~~~~~~~~~~~~~~~~~~~~~~~~~~~~~~~~\n",
      "Running tests\n",
      "\n",
      "---------------------------------------------------------------------\n",
      "Test summary\n",
      "    Passed: 1\n",
      "    Failed: 0\n",
      "[ooooooooook] 100.0% passed\n",
      "\n",
      "~~~~~~~~~~~~~~~~~~~~~~~~~~~~~~~~~~~~~~~~~~~~~~~~~~~~~~~~~~~~~~~~~~~~~\n",
      "Running tests\n",
      "\n",
      "---------------------------------------------------------------------\n",
      "Test summary\n",
      "    Passed: 1\n",
      "    Failed: 0\n",
      "[ooooooooook] 100.0% passed\n",
      "\n"
     ]
    }
   ],
   "source": [
    "# For your convenience, you can run this cell to run all the tests at once!\n",
    "import os\n",
    "_ = [ok.grade(q[:-3]) for q in os.listdir(\"tests\") if q.startswith('q')]"
   ]
  }
 ],
 "metadata": {
  "kernelspec": {
   "display_name": "Python 3",
   "language": "python",
   "name": "python3"
  },
  "language_info": {
   "codemirror_mode": {
    "name": "ipython",
    "version": 3
   },
   "file_extension": ".py",
   "mimetype": "text/x-python",
   "name": "python",
   "nbconvert_exporter": "python",
   "pygments_lexer": "ipython3",
   "version": "3.7.1"
  }
 },
 "nbformat": 4,
 "nbformat_minor": 1
}
