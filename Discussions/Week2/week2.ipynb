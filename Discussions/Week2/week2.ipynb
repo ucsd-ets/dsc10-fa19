{
 "cells": [
  {
   "cell_type": "code",
   "execution_count": null,
   "metadata": {
    "slideshow": {
     "slide_type": "skip"
    }
   },
   "outputs": [],
   "source": [
    "from datascience import *\n",
    "import numpy as np\n",
    "from notebook.services.config import ConfigManager\n",
    "cm = ConfigManager()\n",
    "cm.update(\n",
    "    \"livereveal\", {\n",
    "        \"width\": \"90%\",\n",
    "        \"height\": \"90%\",\n",
    "        \"scroll\": True,\n",
    "})"
   ]
  },
  {
   "cell_type": "markdown",
   "metadata": {
    "slideshow": {
     "slide_type": "slide"
    }
   },
   "source": [
    "# DSC 10 Discussion Week 2\n",
    "---\n",
    "Kyle Vigil"
   ]
  },
  {
   "cell_type": "markdown",
   "metadata": {
    "slideshow": {
     "slide_type": "slide"
    }
   },
   "source": [
    "# Some Work With Tables\n",
    "---\n",
    "\n",
    "Tables are a handy way to store a bunch of related data.\n",
    "\n",
    "Let's create our own table using the *datascience package* and play around with it a bit."
   ]
  },
  {
   "cell_type": "markdown",
   "metadata": {
    "slideshow": {
     "slide_type": "subslide"
    }
   },
   "source": [
    "As we saw before, we can create a new, empty table by calling Table(). "
   ]
  },
  {
   "cell_type": "code",
   "execution_count": 276,
   "metadata": {
    "slideshow": {
     "slide_type": "fragment"
    }
   },
   "outputs": [
    {
     "data": {
      "text/html": [
       "<table border=\"1\" class=\"dataframe\">\n",
       "    <thead>\n",
       "        <tr>\n",
       "            \n",
       "        </tr>\n",
       "    </thead>\n",
       "    <tbody>\n",
       "    </tbody>\n",
       "</table>"
      ],
      "text/plain": []
     },
     "execution_count": 276,
     "metadata": {},
     "output_type": "execute_result"
    }
   ],
   "source": [
    "tbl = Table()\n",
    "tbl"
   ]
  },
  {
   "cell_type": "markdown",
   "metadata": {
    "slideshow": {
     "slide_type": "fragment"
    }
   },
   "source": [
    "## We should probably assign this to a variable if we want to do anything interesting with it!"
   ]
  },
  {
   "cell_type": "markdown",
   "metadata": {
    "slideshow": {
     "slide_type": "subslide"
    }
   },
   "source": [
    "There are many ways to fill in a table, such as by adding rows or importing from a csv.\n",
    "\n",
    "Adding columns is a simple way, so let's do that!"
   ]
  },
  {
   "cell_type": "markdown",
   "metadata": {
    "slideshow": {
     "slide_type": "subslide"
    }
   },
   "source": [
    "We can call the function `with_column` on a Table object.  \n",
    "Then pass in the parameters: `column_name, [data]`\n",
    "\n",
    "The values in a column of a table should have **the same type**, so it makes sense to use np.array where possible!"
   ]
  },
  {
   "cell_type": "code",
   "execution_count": 175,
   "metadata": {
    "slideshow": {
     "slide_type": "fragment"
    }
   },
   "outputs": [
    {
     "data": {
      "text/html": [
       "<table border=\"1\" class=\"dataframe\">\n",
       "    <thead>\n",
       "        <tr>\n",
       "            <th>interesting numbers</th>\n",
       "        </tr>\n",
       "    </thead>\n",
       "    <tbody>\n",
       "        <tr>\n",
       "            <td>0                  </td>\n",
       "        </tr>\n",
       "        <tr>\n",
       "            <td>1                  </td>\n",
       "        </tr>\n",
       "        <tr>\n",
       "            <td>2                  </td>\n",
       "        </tr>\n",
       "        <tr>\n",
       "            <td>3                  </td>\n",
       "        </tr>\n",
       "        <tr>\n",
       "            <td>4                  </td>\n",
       "        </tr>\n",
       "    </tbody>\n",
       "</table>"
      ],
      "text/plain": [
       "interesting numbers\n",
       "0\n",
       "1\n",
       "2\n",
       "3\n",
       "4"
      ]
     },
     "execution_count": 175,
     "metadata": {},
     "output_type": "execute_result"
    }
   ],
   "source": [
    "tbl.with_column(\"interesting numbers\", np.arange(5))"
   ]
  },
  {
   "cell_type": "code",
   "execution_count": 176,
   "metadata": {
    "slideshow": {
     "slide_type": "fragment"
    }
   },
   "outputs": [
    {
     "data": {
      "text/html": [
       "<table border=\"1\" class=\"dataframe\">\n",
       "    <thead>\n",
       "        <tr>\n",
       "            \n",
       "        </tr>\n",
       "    </thead>\n",
       "    <tbody>\n",
       "    </tbody>\n",
       "</table>"
      ],
      "text/plain": []
     },
     "execution_count": 176,
     "metadata": {},
     "output_type": "execute_result"
    }
   ],
   "source": [
    "tbl"
   ]
  },
  {
   "cell_type": "markdown",
   "metadata": {
    "slideshow": {
     "slide_type": "subslide"
    }
   },
   "source": [
    "Don't forget to reassign to the variable, or your changes will **not** be saved!"
   ]
  },
  {
   "cell_type": "code",
   "execution_count": 278,
   "metadata": {
    "slideshow": {
     "slide_type": "subslide"
    }
   },
   "outputs": [
    {
     "data": {
      "text/html": [
       "<table border=\"1\" class=\"dataframe\">\n",
       "    <thead>\n",
       "        <tr>\n",
       "            <th>interesting numbers</th> <th>more numbers</th> <th>strings</th> <th>boolz rulez</th> <th>lists</th>\n",
       "        </tr>\n",
       "    </thead>\n",
       "    <tbody>\n",
       "        <tr>\n",
       "            <td>2                  </td> <td>0           </td> <td>this   </td> <td>False      </td> <td>[14 24]</td>\n",
       "        </tr>\n",
       "        <tr>\n",
       "            <td>3                  </td> <td>1           </td> <td>is     </td> <td>False      </td> <td>[33 42]</td>\n",
       "        </tr>\n",
       "        <tr>\n",
       "            <td>4                  </td> <td>2           </td> <td>a      </td> <td>True       </td> <td>[5 6]  </td>\n",
       "        </tr>\n",
       "        <tr>\n",
       "            <td>1                  </td> <td>3           </td> <td>string </td> <td>True       </td> <td>[7 8]  </td>\n",
       "        </tr>\n",
       "        <tr>\n",
       "            <td>5                  </td> <td>4           </td> <td>column </td> <td>False      </td> <td>[ 9 10]</td>\n",
       "        </tr>\n",
       "    </tbody>\n",
       "</table>"
      ],
      "text/plain": [
       "interesting numbers | more numbers | strings | boolz rulez | lists\n",
       "2                   | 0            | this    | False       | [14 24]\n",
       "3                   | 1            | is      | False       | [33 42]\n",
       "4                   | 2            | a       | True        | [5 6]\n",
       "1                   | 3            | string  | True        | [7 8]\n",
       "5                   | 4            | column  | False       | [ 9 10]"
      ]
     },
     "execution_count": 278,
     "metadata": {},
     "output_type": "execute_result"
    }
   ],
   "source": [
    "tbl = Table()\n",
    "\n",
    "tbl = tbl.with_column(\"interesting numbers\", make_array(2,3,4,1,5))\n",
    "# Let's add some more columns together.\n",
    "tbl = tbl.with_column(\"more numbers\", np.arange(5)).with_column(\"strings\", make_array(\"this\",\"is\",\"a\",\"string\",\"column\"))\n",
    "tbl = tbl.with_column(\"boolz rulez\", make_array(False, False, True, True, False))\n",
    "tbl = tbl.with_column(\"lists\", make_array([14,24],[33,42],[5,6],[7,8],[9,10]))\n",
    "tbl"
   ]
  },
  {
   "cell_type": "markdown",
   "metadata": {
    "slideshow": {
     "slide_type": "subslide"
    }
   },
   "source": [
    "We can now do any table operations that we want to this table.\n",
    "\n",
    "For example we can sort the columns.\n",
    "\n",
    "What columns can we use to sort by? Are we restricted at all?"
   ]
  },
  {
   "cell_type": "code",
   "execution_count": 279,
   "metadata": {
    "slideshow": {
     "slide_type": "fragment"
    }
   },
   "outputs": [
    {
     "data": {
      "text/html": [
       "<table border=\"1\" class=\"dataframe\">\n",
       "    <thead>\n",
       "        <tr>\n",
       "            <th>interesting numbers</th> <th>more numbers</th> <th>strings</th> <th>boolz rulez</th> <th>lists</th>\n",
       "        </tr>\n",
       "    </thead>\n",
       "    <tbody>\n",
       "        <tr>\n",
       "            <td>2                  </td> <td>0           </td> <td>this   </td> <td>False      </td> <td>[14 24]</td>\n",
       "        </tr>\n",
       "        <tr>\n",
       "            <td>3                  </td> <td>1           </td> <td>is     </td> <td>False      </td> <td>[33 42]</td>\n",
       "        </tr>\n",
       "        <tr>\n",
       "            <td>5                  </td> <td>4           </td> <td>column </td> <td>False      </td> <td>[ 9 10]</td>\n",
       "        </tr>\n",
       "        <tr>\n",
       "            <td>4                  </td> <td>2           </td> <td>a      </td> <td>True       </td> <td>[5 6]  </td>\n",
       "        </tr>\n",
       "        <tr>\n",
       "            <td>1                  </td> <td>3           </td> <td>string </td> <td>True       </td> <td>[7 8]  </td>\n",
       "        </tr>\n",
       "    </tbody>\n",
       "</table>"
      ],
      "text/plain": [
       "interesting numbers | more numbers | strings | boolz rulez | lists\n",
       "2                   | 0            | this    | False       | [14 24]\n",
       "3                   | 1            | is      | False       | [33 42]\n",
       "5                   | 4            | column  | False       | [ 9 10]\n",
       "4                   | 2            | a       | True        | [5 6]\n",
       "1                   | 3            | string  | True        | [7 8]"
      ]
     },
     "execution_count": 279,
     "metadata": {},
     "output_type": "execute_result"
    }
   ],
   "source": [
    "tbl.sort(\"boolz rulez\")"
   ]
  },
  {
   "cell_type": "markdown",
   "metadata": {
    "slideshow": {
     "slide_type": "subslide"
    }
   },
   "source": [
    "We can get a column of data by calling `column` on the table object.  \n",
    "Then pass in the argument `column_name`; the name of the column you want."
   ]
  },
  {
   "cell_type": "code",
   "execution_count": 186,
   "metadata": {
    "slideshow": {
     "slide_type": "subslide"
    }
   },
   "outputs": [
    {
     "name": "stdout",
     "output_type": "stream",
     "text": [
      "Help on function column in module datascience.tables:\n",
      "\n",
      "column(self, index_or_label)\n",
      "    Return the values of a column as an array.\n",
      "    \n",
      "    table.column(label) is equivalent to table[label].\n",
      "    \n",
      "    >>> tiles = Table().with_columns(\n",
      "    ...     'letter', make_array('c', 'd'),\n",
      "    ...     'count',  make_array(2, 4),\n",
      "    ... )\n",
      "    \n",
      "    >>> list(tiles.column('letter'))\n",
      "    ['c', 'd']\n",
      "    >>> tiles.column(1)\n",
      "    array([2, 4])\n",
      "    \n",
      "    Args:\n",
      "        label (int or str): The index or label of a column\n",
      "    \n",
      "    Returns:\n",
      "        An instance of ``numpy.array``.\n",
      "    \n",
      "    Raises:\n",
      "        ``ValueError``: When the ``index_or_label`` is not in the table.\n",
      "\n"
     ]
    }
   ],
   "source": [
    "help(Table.column)"
   ]
  },
  {
   "cell_type": "code",
   "execution_count": 187,
   "metadata": {
    "slideshow": {
     "slide_type": "fragment"
    }
   },
   "outputs": [
    {
     "data": {
      "text/plain": [
       "array([2, 3, 4, 1, 5])"
      ]
     },
     "execution_count": 187,
     "metadata": {},
     "output_type": "execute_result"
    }
   ],
   "source": [
    "tbl.column(\"interesting numbers\")"
   ]
  },
  {
   "cell_type": "markdown",
   "metadata": {
    "slideshow": {
     "slide_type": "fragment"
    }
   },
   "source": [
    "Notice the data type that is returned!"
   ]
  },
  {
   "cell_type": "markdown",
   "metadata": {
    "slideshow": {
     "slide_type": "subslide"
    }
   },
   "source": [
    "This means it's easy for us to do calculations immediately after grabbing the columns."
   ]
  },
  {
   "cell_type": "code",
   "execution_count": 188,
   "metadata": {
    "slideshow": {
     "slide_type": "fragment"
    }
   },
   "outputs": [
    {
     "data": {
      "text/plain": [
       "array([ 4,  6,  8,  2, 10])"
      ]
     },
     "execution_count": 188,
     "metadata": {},
     "output_type": "execute_result"
    }
   ],
   "source": [
    "tbl.column(\"interesting numbers\") * 2"
   ]
  },
  {
   "cell_type": "markdown",
   "metadata": {
    "slideshow": {
     "slide_type": "fragment"
    }
   },
   "source": [
    "But what will happen when we get the column `\"interesting numbers\"` with the .select method?"
   ]
  },
  {
   "cell_type": "code",
   "execution_count": 195,
   "metadata": {
    "slideshow": {
     "slide_type": "fragment"
    }
   },
   "outputs": [
    {
     "ename": "TypeError",
     "evalue": "unsupported operand type(s) for *: 'Table' and 'int'",
     "output_type": "error",
     "traceback": [
      "\u001b[1;31m---------------------------------------------------------------------------\u001b[0m",
      "\u001b[1;31mTypeError\u001b[0m                                 Traceback (most recent call last)",
      "\u001b[1;32m<ipython-input-195-fd264eff2ea6>\u001b[0m in \u001b[0;36m<module>\u001b[1;34m\u001b[0m\n\u001b[1;32m----> 1\u001b[1;33m \u001b[0mtbl\u001b[0m\u001b[1;33m.\u001b[0m\u001b[0mselect\u001b[0m\u001b[1;33m(\u001b[0m\u001b[1;34m\"interesting numbers\"\u001b[0m\u001b[1;33m)\u001b[0m \u001b[1;33m*\u001b[0m \u001b[1;36m2\u001b[0m\u001b[1;33m\u001b[0m\u001b[1;33m\u001b[0m\u001b[0m\n\u001b[0m",
      "\u001b[1;31mTypeError\u001b[0m: unsupported operand type(s) for *: 'Table' and 'int'"
     ]
    }
   ],
   "source": [
    "tbl.select(\"interesting numbers\") * 2"
   ]
  },
  {
   "cell_type": "markdown",
   "metadata": {
    "slideshow": {
     "slide_type": "slide"
    }
   },
   "source": [
    "Questions? Let's try them right now!"
   ]
  },
  {
   "cell_type": "markdown",
   "metadata": {
    "slideshow": {
     "slide_type": "slide"
    }
   },
   "source": [
    "# Using `.where()`\n",
    "--- \n",
    "Let's start using some real world data"
   ]
  },
  {
   "cell_type": "markdown",
   "metadata": {
    "slideshow": {
     "slide_type": "subslide"
    }
   },
   "source": [
    "# Ultimate Halloween Candy Showdown\n",
    "---\n",
    "269,000 user submitted winners of head to head candy matchups"
   ]
  },
  {
   "cell_type": "code",
   "execution_count": 196,
   "metadata": {
    "slideshow": {
     "slide_type": "fragment"
    }
   },
   "outputs": [
    {
     "data": {
      "text/html": [
       "<table border=\"1\" class=\"dataframe\">\n",
       "    <thead>\n",
       "        <tr>\n",
       "            <th>competitorname</th> <th>chocolate</th> <th>fruity</th> <th>caramel</th> <th>peanutyalmondy</th> <th>nougat</th> <th>crispedricewafer</th> <th>hard</th> <th>bar</th> <th>pluribus</th> <th>sugarpercent</th> <th>pricepercent</th> <th>winpercent</th>\n",
       "        </tr>\n",
       "    </thead>\n",
       "    <tbody>\n",
       "        <tr>\n",
       "            <td>100 Grand         </td> <td>1        </td> <td>0     </td> <td>1      </td> <td>0             </td> <td>0     </td> <td>1               </td> <td>0   </td> <td>1   </td> <td>0       </td> <td>0.732       </td> <td>0.86        </td> <td>66.9717   </td>\n",
       "        </tr>\n",
       "        <tr>\n",
       "            <td>3 Musketeers      </td> <td>1        </td> <td>0     </td> <td>0      </td> <td>0             </td> <td>1     </td> <td>0               </td> <td>0   </td> <td>1   </td> <td>0       </td> <td>0.604       </td> <td>0.511       </td> <td>67.6029   </td>\n",
       "        </tr>\n",
       "        <tr>\n",
       "            <td>One dime          </td> <td>0        </td> <td>0     </td> <td>0      </td> <td>0             </td> <td>0     </td> <td>0               </td> <td>0   </td> <td>0   </td> <td>0       </td> <td>0.011       </td> <td>0.116       </td> <td>32.2611   </td>\n",
       "        </tr>\n",
       "        <tr>\n",
       "            <td>One quarter       </td> <td>0        </td> <td>0     </td> <td>0      </td> <td>0             </td> <td>0     </td> <td>0               </td> <td>0   </td> <td>0   </td> <td>0       </td> <td>0.011       </td> <td>0.511       </td> <td>46.1165   </td>\n",
       "        </tr>\n",
       "        <tr>\n",
       "            <td>Air Heads         </td> <td>0        </td> <td>1     </td> <td>0      </td> <td>0             </td> <td>0     </td> <td>0               </td> <td>0   </td> <td>0   </td> <td>0       </td> <td>0.906       </td> <td>0.511       </td> <td>52.3415   </td>\n",
       "        </tr>\n",
       "        <tr>\n",
       "            <td>Almond Joy        </td> <td>1        </td> <td>0     </td> <td>0      </td> <td>1             </td> <td>0     </td> <td>0               </td> <td>0   </td> <td>1   </td> <td>0       </td> <td>0.465       </td> <td>0.767       </td> <td>50.3475   </td>\n",
       "        </tr>\n",
       "        <tr>\n",
       "            <td>Baby Ruth         </td> <td>1        </td> <td>0     </td> <td>1      </td> <td>1             </td> <td>1     </td> <td>0               </td> <td>0   </td> <td>1   </td> <td>0       </td> <td>0.604       </td> <td>0.767       </td> <td>56.9145   </td>\n",
       "        </tr>\n",
       "        <tr>\n",
       "            <td>Boston Baked Beans</td> <td>0        </td> <td>0     </td> <td>0      </td> <td>1             </td> <td>0     </td> <td>0               </td> <td>0   </td> <td>0   </td> <td>1       </td> <td>0.313       </td> <td>0.511       </td> <td>23.4178   </td>\n",
       "        </tr>\n",
       "        <tr>\n",
       "            <td>Candy Corn        </td> <td>0        </td> <td>0     </td> <td>0      </td> <td>0             </td> <td>0     </td> <td>0               </td> <td>0   </td> <td>0   </td> <td>1       </td> <td>0.906       </td> <td>0.325       </td> <td>38.011    </td>\n",
       "        </tr>\n",
       "        <tr>\n",
       "            <td>Caramel Apple Pops</td> <td>0        </td> <td>1     </td> <td>1      </td> <td>0             </td> <td>0     </td> <td>0               </td> <td>0   </td> <td>0   </td> <td>0       </td> <td>0.604       </td> <td>0.325       </td> <td>34.5177   </td>\n",
       "        </tr>\n",
       "    </tbody>\n",
       "</table>\n",
       "<p>... (75 rows omitted)</p>"
      ],
      "text/plain": [
       "competitorname     | chocolate | fruity | caramel | peanutyalmondy | nougat | crispedricewafer | hard | bar  | pluribus | sugarpercent | pricepercent | winpercent\n",
       "100 Grand          | 1         | 0      | 1       | 0              | 0      | 1                | 0    | 1    | 0        | 0.732        | 0.86         | 66.9717\n",
       "3 Musketeers       | 1         | 0      | 0       | 0              | 1      | 0                | 0    | 1    | 0        | 0.604        | 0.511        | 67.6029\n",
       "One dime           | 0         | 0      | 0       | 0              | 0      | 0                | 0    | 0    | 0        | 0.011        | 0.116        | 32.2611\n",
       "One quarter        | 0         | 0      | 0       | 0              | 0      | 0                | 0    | 0    | 0        | 0.011        | 0.511        | 46.1165\n",
       "Air Heads          | 0         | 1      | 0       | 0              | 0      | 0                | 0    | 0    | 0        | 0.906        | 0.511        | 52.3415\n",
       "Almond Joy         | 1         | 0      | 0       | 1              | 0      | 0                | 0    | 1    | 0        | 0.465        | 0.767        | 50.3475\n",
       "Baby Ruth          | 1         | 0      | 1       | 1              | 1      | 0                | 0    | 1    | 0        | 0.604        | 0.767        | 56.9145\n",
       "Boston Baked Beans | 0         | 0      | 0       | 1              | 0      | 0                | 0    | 0    | 1        | 0.313        | 0.511        | 23.4178\n",
       "Candy Corn         | 0         | 0      | 0       | 0              | 0      | 0                | 0    | 0    | 1        | 0.906        | 0.325        | 38.011\n",
       "Caramel Apple Pops | 0         | 1      | 1       | 0              | 0      | 0                | 0    | 0    | 0        | 0.604        | 0.325        | 34.5177\n",
       "... (75 rows omitted)"
      ]
     },
     "execution_count": 196,
     "metadata": {},
     "output_type": "execute_result"
    }
   ],
   "source": [
    "candy = Table.read_table(\"data/candy.csv\")\n",
    "candy"
   ]
  },
  {
   "cell_type": "code",
   "execution_count": 197,
   "metadata": {
    "scrolled": false,
    "slideshow": {
     "slide_type": "subslide"
    }
   },
   "outputs": [
    {
     "data": {
      "image/png": "[encoded data removed]",
      "text/plain": [
       "<Figure size 1440x576 with 1 Axes>"
      ]
     },
     "metadata": {
      "needs_background": "light"
     },
     "output_type": "display_data"
    }
   ],
   "source": [
    "import seaborn as sns\n",
    "import matplotlib.pyplot as plt\n",
    "%matplotlib inline\n",
    "candy = candy.sort(\"winpercent\", descending=True)\n",
    "plt.figure(figsize=(20,8))\n",
    "sns.barplot(candy.column(\"competitorname\"), candy.column(\"winpercent\"))\n",
    "plt.xticks(rotation=\"vertical\");"
   ]
  },
  {
   "cell_type": "markdown",
   "metadata": {
    "slideshow": {
     "slide_type": "subslide"
    }
   },
   "source": [
    "# Let's go over some basics of `where`, `group`, columns on this dataset\n",
    "---\n",
    "\n",
    "By getting familiar with our dataset, it should be easier for us to answer questions we have a bit later."
   ]
  },
  {
   "cell_type": "markdown",
   "metadata": {
    "slideshow": {
     "slide_type": "fragment"
    }
   },
   "source": [
    "Recall the syntax of the following functions:\n",
    "\n",
    "`[table_name].where( column_label, are.predicate( value ) ) => copy of table with only rows satisfying condition`\n",
    "\n",
    "`[table_name].group( column_label, method ) => copy of table with only unique rows from column_label and values calculated by the method, default is count`\n",
    "\n",
    "`[table_name].column( column_label ) => an array of the column specified`\n",
    "\n",
    "`[table_name].with_column( column_label, array_values ) => copy of table with a new column named column_label and values from the array_values`"
   ]
  },
  {
   "cell_type": "code",
   "execution_count": null,
   "metadata": {
    "slideshow": {
     "slide_type": "subslide"
    }
   },
   "outputs": [],
   "source": [
    "# If we need any more information, we can always use help"
   ]
  },
  {
   "cell_type": "code",
   "execution_count": 198,
   "metadata": {
    "slideshow": {
     "slide_type": "fragment"
    }
   },
   "outputs": [
    {
     "name": "stdout",
     "output_type": "stream",
     "text": [
      "Help on function where in module datascience.tables:\n",
      "\n",
      "where(self, column_or_label, value_or_predicate=None, other=None)\n",
      "    Return a new ``Table`` containing rows where ``value_or_predicate``\n",
      "    returns True for values in ``column_or_label``.\n",
      "    \n",
      "    Args:\n",
      "        ``column_or_label``: A column of the ``Table`` either as a label\n",
      "        (``str``) or an index (``int``). Can also be an array of booleans;\n",
      "        only the rows where the array value is ``True`` are kept.\n",
      "    \n",
      "        ``value_or_predicate``: If a function, it is applied to every value\n",
      "        in ``column_or_label``. Only the rows where ``value_or_predicate``\n",
      "        returns True are kept. If a single value, only the rows where the\n",
      "        values in ``column_or_label`` are equal to ``value_or_predicate``\n",
      "        are kept.\n",
      "    \n",
      "        ``other``: Optional additional column label for\n",
      "        ``value_or_predicate`` to make pairwise comparisons. See the\n",
      "        examples below for usage. When ``other`` is supplied,\n",
      "        ``value_or_predicate`` must be a callable function.\n",
      "    \n",
      "    Returns:\n",
      "        If ``value_or_predicate`` is a function, returns a new ``Table``\n",
      "        containing only the rows where ``value_or_predicate(val)`` is True\n",
      "        for the ``val``s in ``column_or_label``.\n",
      "    \n",
      "        If ``value_or_predicate`` is a value, returns a new ``Table``\n",
      "        containing only the rows where the values in ``column_or_label``\n",
      "        are equal to ``value_or_predicate``.\n",
      "    \n",
      "        If ``column_or_label`` is an array of booleans, returns a new\n",
      "        ``Table`` containing only the rows where ``column_or_label`` is\n",
      "        ``True``.\n",
      "    \n",
      "    >>> marbles = Table().with_columns(\n",
      "    ...    \"Color\", make_array(\"Red\", \"Green\", \"Blue\",\n",
      "    ...                        \"Red\", \"Green\", \"Green\"),\n",
      "    ...    \"Shape\", make_array(\"Round\", \"Rectangular\", \"Rectangular\",\n",
      "    ...                        \"Round\", \"Rectangular\", \"Round\"),\n",
      "    ...    \"Amount\", make_array(4, 6, 12, 7, 9, 2),\n",
      "    ...    \"Price\", make_array(1.30, 1.20, 2.00, 1.75, 0, 3.00))\n",
      "    \n",
      "    >>> marbles\n",
      "    Color | Shape       | Amount | Price\n",
      "    Red   | Round       | 4      | 1.3\n",
      "    Green | Rectangular | 6      | 1.2\n",
      "    Blue  | Rectangular | 12     | 2\n",
      "    Red   | Round       | 7      | 1.75\n",
      "    Green | Rectangular | 9      | 0\n",
      "    Green | Round       | 2      | 3\n",
      "    \n",
      "    Use a value to select matching rows\n",
      "    \n",
      "    >>> marbles.where(\"Price\", 1.3)\n",
      "    Color | Shape | Amount | Price\n",
      "    Red   | Round | 4      | 1.3\n",
      "    \n",
      "    In general, a higher order predicate function such as the functions in\n",
      "    ``datascience.predicates.are`` can be used.\n",
      "    \n",
      "    >>> from datascience.predicates import are\n",
      "    >>> # equivalent to previous example\n",
      "    >>> marbles.where(\"Price\", are.equal_to(1.3))\n",
      "    Color | Shape | Amount | Price\n",
      "    Red   | Round | 4      | 1.3\n",
      "    \n",
      "    >>> marbles.where(\"Price\", are.above(1.5))\n",
      "    Color | Shape       | Amount | Price\n",
      "    Blue  | Rectangular | 12     | 2\n",
      "    Red   | Round       | 7      | 1.75\n",
      "    Green | Round       | 2      | 3\n",
      "    \n",
      "    Use the optional argument ``other`` to apply predicates to compare\n",
      "    columns.\n",
      "    \n",
      "    >>> marbles.where(\"Price\", are.above, \"Amount\")\n",
      "    Color | Shape | Amount | Price\n",
      "    Green | Round | 2      | 3\n",
      "    \n",
      "    >>> marbles.where(\"Price\", are.equal_to, \"Amount\") # empty table\n",
      "    Color | Shape | Amount | Price\n",
      "\n"
     ]
    }
   ],
   "source": [
    "help(Table.where)"
   ]
  },
  {
   "cell_type": "markdown",
   "metadata": {
    "slideshow": {
     "slide_type": "subslide"
    }
   },
   "source": [
    "|Predicate|Description|\n",
    "|---------|-----------|\n",
    "|`are.above(y)`|Greater than y|\n",
    "|`are.above_or_equal_to(y)`|Greater than or equal to y|\n",
    "|`are.below(y)`|Less than y|\n",
    "|`are.below_or_equal_to(y)`|Less than or equal to y|\n",
    "|`are.between(y, z)`|Greater than or equal to y and less than z|\n",
    "|`are.between_or_equal_to(y, z)`|Greater than or equal to y and less than or equal to z|\n",
    "|`are.contained_in(superstring)`|A string that is part of the given superstring|\n",
    "|`are.containing(substring)`|A string that contains within it the given substring|\n",
    "|`are.equal_to(y)`|Equal to y|\n",
    "|`are.not_above(y)`|Is not above |\n",
    "|`are.not_above_or_equal_to(y)`|Is neither above y nor equal to |\n",
    "|`are.not_below(y)`|Is not below |\n",
    "|`are.not_below_or_equal_to(y)`|Is neither below y nor equal to |\n",
    "|`are.not_between(y, z)`|Is equal to y or less than y or greater than |\n",
    "|`are.not_between_or_equal_to(y, z)`|Is less than y or greater than |\n",
    "|`are.not_contained_in(superstring)`|A string that is not contained within the superstrin|\n",
    "|`are.not_containing(substring)`|A string that does not contain substrin|\n",
    "|`are.not_equal_to(y)`|Is not equal to |\n",
    "|`are.not_strictly_between(y, z)`|Is equal to y or equal to z or less than y or greater than |\n",
    "|`are.strictly_between(y, z)`|Greater than y and less than z|"
   ]
  },
  {
   "cell_type": "markdown",
   "metadata": {
    "slideshow": {
     "slide_type": "fragment"
    }
   },
   "source": [
    "Let's play my favorite game: try to use the fewest .where statements to find any one specific candy (without using `competitorname` you cheater)\n",
    "\n",
    "ex. try to find \"tootsie pops\" (I can find it with two .where statements)\n",
    "\n",
    "Columns: `chocolate, fruity, caramel, peanutyalmondy, nougat, crispedricewafer, hard, bar, pluribus, sugarpercent, pricepercent`"
   ]
  },
  {
   "cell_type": "code",
   "execution_count": 251,
   "metadata": {
    "slideshow": {
     "slide_type": "fragment"
    }
   },
   "outputs": [
    {
     "data": {
      "text/html": [
       "<table border=\"1\" class=\"dataframe\">\n",
       "    <thead>\n",
       "        <tr>\n",
       "            <th>competitorname</th> <th>chocolate</th> <th>fruity</th> <th>caramel</th> <th>peanutyalmondy</th> <th>nougat</th> <th>crispedricewafer</th> <th>hard</th> <th>bar</th> <th>pluribus</th> <th>sugarpercent</th> <th>pricepercent</th> <th>winpercent</th>\n",
       "        </tr>\n",
       "    </thead>\n",
       "    <tbody>\n",
       "        <tr>\n",
       "            <td>Super Bubble  </td> <td>0        </td> <td>1     </td> <td>0      </td> <td>0             </td> <td>0     </td> <td>0               </td> <td>0   </td> <td>0   </td> <td>0       </td> <td>0.162       </td> <td>0.116       </td> <td>27.3039   </td>\n",
       "        </tr>\n",
       "    </tbody>\n",
       "</table>"
      ],
      "text/plain": [
       "competitorname | chocolate | fruity | caramel | peanutyalmondy | nougat | crispedricewafer | hard | bar  | pluribus | sugarpercent | pricepercent | winpercent\n",
       "Super Bubble   | 0         | 1      | 0       | 0              | 0      | 0                | 0    | 0    | 0        | 0.162        | 0.116        | 27.3039"
      ]
     },
     "execution_count": 251,
     "metadata": {},
     "output_type": "execute_result"
    }
   ],
   "source": [
    "candy.where(\"winpercent\", are.between_or_equal_to(27.3, 27.4))"
   ]
  },
  {
   "cell_type": "code",
   "execution_count": 246,
   "metadata": {
    "slideshow": {
     "slide_type": "fragment"
    }
   },
   "outputs": [
    {
     "data": {
      "text/plain": [
       "'Super Bubble'"
      ]
     },
     "execution_count": 246,
     "metadata": {},
     "output_type": "execute_result"
    }
   ],
   "source": [
    "import random\n",
    "candy.column(\"competitorname\").item(random.randint(0,candy.num_rows-1))"
   ]
  },
  {
   "cell_type": "markdown",
   "metadata": {
    "slideshow": {
     "slide_type": "slide"
    }
   },
   "source": [
    "# More Data Examples!\n",
    "---\n",
    "\n",
    "This data was compiled from a number of queries from the NOAA (National Oceanic and Atmospheric Administration) website. Contains average monthly temperature for 9 different regions from 2000 to 2018.\n",
    "\n",
    "NOAA National Centers for Environmental information, Climate at a Glance: Regional Time Series, published October 2018, retrieved on October 18, 2018 from https://www.ncdc.noaa.gov/cag/"
   ]
  },
  {
   "cell_type": "code",
   "execution_count": 252,
   "metadata": {
    "slideshow": {
     "slide_type": "fragment"
    }
   },
   "outputs": [
    {
     "data": {
      "text/html": [
       "<table border=\"1\" class=\"dataframe\">\n",
       "    <thead>\n",
       "        <tr>\n",
       "            <th>Year</th> <th>Month</th> <th>Region</th> <th>Average Temperature</th>\n",
       "        </tr>\n",
       "    </thead>\n",
       "    <tbody>\n",
       "        <tr>\n",
       "            <td>2000</td> <td>1    </td> <td>Northeast Climate Region</td> <td>21.4               </td>\n",
       "        </tr>\n",
       "        <tr>\n",
       "            <td>2000</td> <td>2    </td> <td>Northeast Climate Region</td> <td>27.2               </td>\n",
       "        </tr>\n",
       "        <tr>\n",
       "            <td>2000</td> <td>3    </td> <td>Northeast Climate Region</td> <td>39.1               </td>\n",
       "        </tr>\n",
       "        <tr>\n",
       "            <td>2000</td> <td>4    </td> <td>Northeast Climate Region</td> <td>44.2               </td>\n",
       "        </tr>\n",
       "        <tr>\n",
       "            <td>2000</td> <td>5    </td> <td>Northeast Climate Region</td> <td>56.6               </td>\n",
       "        </tr>\n",
       "        <tr>\n",
       "            <td>2000</td> <td>6    </td> <td>Northeast Climate Region</td> <td>64.5               </td>\n",
       "        </tr>\n",
       "        <tr>\n",
       "            <td>2000</td> <td>7    </td> <td>Northeast Climate Region</td> <td>65.8               </td>\n",
       "        </tr>\n",
       "        <tr>\n",
       "            <td>2000</td> <td>8    </td> <td>Northeast Climate Region</td> <td>66.2               </td>\n",
       "        </tr>\n",
       "        <tr>\n",
       "            <td>2000</td> <td>9    </td> <td>Northeast Climate Region</td> <td>58.9               </td>\n",
       "        </tr>\n",
       "        <tr>\n",
       "            <td>2000</td> <td>10   </td> <td>Northeast Climate Region</td> <td>49.5               </td>\n",
       "        </tr>\n",
       "    </tbody>\n",
       "</table>\n",
       "<p>... (2015 rows omitted)</p>"
      ],
      "text/plain": [
       "Year | Month | Region                   | Average Temperature\n",
       "2000 | 1     | Northeast Climate Region | 21.4\n",
       "2000 | 2     | Northeast Climate Region | 27.2\n",
       "2000 | 3     | Northeast Climate Region | 39.1\n",
       "2000 | 4     | Northeast Climate Region | 44.2\n",
       "2000 | 5     | Northeast Climate Region | 56.6\n",
       "2000 | 6     | Northeast Climate Region | 64.5\n",
       "2000 | 7     | Northeast Climate Region | 65.8\n",
       "2000 | 8     | Northeast Climate Region | 66.2\n",
       "2000 | 9     | Northeast Climate Region | 58.9\n",
       "2000 | 10    | Northeast Climate Region | 49.5\n",
       "... (2015 rows omitted)"
      ]
     },
     "execution_count": 252,
     "metadata": {},
     "output_type": "execute_result"
    }
   ],
   "source": [
    "temps = Table.read_table(\"data/temperatures.csv\")\n",
    "temps"
   ]
  },
  {
   "cell_type": "markdown",
   "metadata": {
    "slideshow": {
     "slide_type": "fragment"
    }
   },
   "source": [
    "It contains a `Year` (2000 to 2018), `Month` (1 to 12), `Region` (a climate region), and `Average Temperature` (the average temperature for that year/month/region in degrees Farenheit)."
   ]
  },
  {
   "cell_type": "code",
   "execution_count": 256,
   "metadata": {
    "slideshow": {
     "slide_type": "subslide"
    }
   },
   "outputs": [
    {
     "data": {
      "text/plain": [
       "array(['Northeast Climate Region',\n",
       "       'Northern Rockies and Plains Climate Region',\n",
       "       'Northwest Climate Region', 'Ohio Valley Climate Region',\n",
       "       'South Climate Region', 'Southeast Climate Region',\n",
       "       'Southwest Climate Region', 'Upper Midwest Climate Region',\n",
       "       'West Climate Region'], dtype='<U42')"
      ]
     },
     "execution_count": 256,
     "metadata": {},
     "output_type": "execute_result"
    }
   ],
   "source": [
    "# As a helping hand to get started, let's find out what regions we have\n",
    "\n",
    "np.unique(temps.column(\"Region\"))"
   ]
  },
  {
   "cell_type": "code",
   "execution_count": 254,
   "metadata": {
    "slideshow": {
     "slide_type": "fragment"
    }
   },
   "outputs": [
    {
     "name": "stdout",
     "output_type": "stream",
     "text": [
      "Northeast Climate Region\n",
      "Northern Rockies and Plains Climate Region\n",
      "Northwest Climate Region\n",
      "Ohio Valley Climate Region\n",
      "South Climate Region\n",
      "Southeast Climate Region\n",
      "Southwest Climate Region\n",
      "Upper Midwest Climate Region\n",
      "West Climate Region\n"
     ]
    }
   ],
   "source": [
    "region_names = np.unique(temps.column(\"Region\"))\n",
    "for region in region_names:\n",
    "    print(region)"
   ]
  },
  {
   "cell_type": "markdown",
   "metadata": {
    "slideshow": {
     "slide_type": "slide"
    }
   },
   "source": [
    "# Play around with the dataset using `where`, `group`, etc\n",
    "---"
   ]
  },
  {
   "cell_type": "code",
   "execution_count": 257,
   "metadata": {
    "slideshow": {
     "slide_type": "fragment"
    }
   },
   "outputs": [
    {
     "data": {
      "text/html": [
       "<table border=\"1\" class=\"dataframe\">\n",
       "    <thead>\n",
       "        <tr>\n",
       "            <th>Year</th> <th>Month</th> <th>Region</th> <th>Average Temperature</th>\n",
       "        </tr>\n",
       "    </thead>\n",
       "    <tbody>\n",
       "        <tr>\n",
       "            <td>2000</td> <td>1    </td> <td>Ohio Valley Climate Region</td> <td>30.8               </td>\n",
       "        </tr>\n",
       "        <tr>\n",
       "            <td>2000</td> <td>2    </td> <td>Ohio Valley Climate Region</td> <td>40.1               </td>\n",
       "        </tr>\n",
       "        <tr>\n",
       "            <td>2000</td> <td>3    </td> <td>Ohio Valley Climate Region</td> <td>47.7               </td>\n",
       "        </tr>\n",
       "        <tr>\n",
       "            <td>2000</td> <td>4    </td> <td>Ohio Valley Climate Region</td> <td>52.6               </td>\n",
       "        </tr>\n",
       "        <tr>\n",
       "            <td>2000</td> <td>5    </td> <td>Ohio Valley Climate Region</td> <td>65.8               </td>\n",
       "        </tr>\n",
       "        <tr>\n",
       "            <td>2000</td> <td>6    </td> <td>Ohio Valley Climate Region</td> <td>71.3               </td>\n",
       "        </tr>\n",
       "        <tr>\n",
       "            <td>2000</td> <td>7    </td> <td>Ohio Valley Climate Region</td> <td>73.6               </td>\n",
       "        </tr>\n",
       "        <tr>\n",
       "            <td>2000</td> <td>8    </td> <td>Ohio Valley Climate Region</td> <td>74.7               </td>\n",
       "        </tr>\n",
       "        <tr>\n",
       "            <td>2000</td> <td>9    </td> <td>Ohio Valley Climate Region</td> <td>66.6               </td>\n",
       "        </tr>\n",
       "        <tr>\n",
       "            <td>2000</td> <td>10   </td> <td>Ohio Valley Climate Region</td> <td>58.5               </td>\n",
       "        </tr>\n",
       "    </tbody>\n",
       "</table>\n",
       "<p>... (215 rows omitted)</p>"
      ],
      "text/plain": [
       "Year | Month | Region                     | Average Temperature\n",
       "2000 | 1     | Ohio Valley Climate Region | 30.8\n",
       "2000 | 2     | Ohio Valley Climate Region | 40.1\n",
       "2000 | 3     | Ohio Valley Climate Region | 47.7\n",
       "2000 | 4     | Ohio Valley Climate Region | 52.6\n",
       "2000 | 5     | Ohio Valley Climate Region | 65.8\n",
       "2000 | 6     | Ohio Valley Climate Region | 71.3\n",
       "2000 | 7     | Ohio Valley Climate Region | 73.6\n",
       "2000 | 8     | Ohio Valley Climate Region | 74.7\n",
       "2000 | 9     | Ohio Valley Climate Region | 66.6\n",
       "2000 | 10    | Ohio Valley Climate Region | 58.5\n",
       "... (215 rows omitted)"
      ]
     },
     "execution_count": 257,
     "metadata": {},
     "output_type": "execute_result"
    }
   ],
   "source": [
    "# find the data for just one region\n",
    "temps.where(\"Region\", are.containing(\"Ohio\"))"
   ]
  },
  {
   "cell_type": "code",
   "execution_count": 266,
   "metadata": {
    "slideshow": {
     "slide_type": "fragment"
    }
   },
   "outputs": [
    {
     "data": {
      "text/html": [
       "<table border=\"1\" class=\"dataframe\">\n",
       "    <thead>\n",
       "        <tr>\n",
       "            <th>Region</th> <th>Average Temperature max</th>\n",
       "        </tr>\n",
       "    </thead>\n",
       "    <tbody>\n",
       "        <tr>\n",
       "            <td>Northeast Climate Region                  </td> <td>72.4                   </td>\n",
       "        </tr>\n",
       "        <tr>\n",
       "            <td>Northern Rockies and Plains Climate Region</td> <td>73.9                   </td>\n",
       "        </tr>\n",
       "        <tr>\n",
       "            <td>Northwest Climate Region                  </td> <td>70                     </td>\n",
       "        </tr>\n",
       "        <tr>\n",
       "            <td>Ohio Valley Climate Region                </td> <td>80.6                   </td>\n",
       "        </tr>\n",
       "        <tr>\n",
       "            <td>South Climate Region                      </td> <td>86.1                   </td>\n",
       "        </tr>\n",
       "        <tr>\n",
       "            <td>Southeast Climate Region                  </td> <td>82.4                   </td>\n",
       "        </tr>\n",
       "        <tr>\n",
       "            <td>Southwest Climate Region                  </td> <td>77.7                   </td>\n",
       "        </tr>\n",
       "        <tr>\n",
       "            <td>Upper Midwest Climate Region              </td> <td>75.4                   </td>\n",
       "        </tr>\n",
       "        <tr>\n",
       "            <td>West Climate Region                       </td> <td>78.6                   </td>\n",
       "        </tr>\n",
       "    </tbody>\n",
       "</table>"
      ],
      "text/plain": [
       "Region                                     | Average Temperature max\n",
       "Northeast Climate Region                   | 72.4\n",
       "Northern Rockies and Plains Climate Region | 73.9\n",
       "Northwest Climate Region                   | 70\n",
       "Ohio Valley Climate Region                 | 80.6\n",
       "South Climate Region                       | 86.1\n",
       "Southeast Climate Region                   | 82.4\n",
       "Southwest Climate Region                   | 77.7\n",
       "Upper Midwest Climate Region               | 75.4\n",
       "West Climate Region                        | 78.6"
      ]
     },
     "execution_count": 266,
     "metadata": {},
     "output_type": "execute_result"
    }
   ],
   "source": [
    "# find the average temperature for each region\n",
    "temps.group(\"Region\", max).select(\"Region\", \"Average Temperature max\")"
   ]
  },
  {
   "cell_type": "code",
   "execution_count": 273,
   "metadata": {
    "slideshow": {
     "slide_type": "subslide"
    }
   },
   "outputs": [
    {
     "data": {
      "text/html": [
       "<table border=\"1\" class=\"dataframe\">\n",
       "    <thead>\n",
       "        <tr>\n",
       "            <th>Year</th> <th>Average Temperature mean</th>\n",
       "        </tr>\n",
       "    </thead>\n",
       "    <tbody>\n",
       "        <tr>\n",
       "            <td>2000</td> <td>52.2444                 </td>\n",
       "        </tr>\n",
       "        <tr>\n",
       "            <td>2001</td> <td>52.8194                 </td>\n",
       "        </tr>\n",
       "        <tr>\n",
       "            <td>2002</td> <td>52.4222                 </td>\n",
       "        </tr>\n",
       "        <tr>\n",
       "            <td>2003</td> <td>52.2963                 </td>\n",
       "        </tr>\n",
       "        <tr>\n",
       "            <td>2004</td> <td>52.1954                 </td>\n",
       "        </tr>\n",
       "        <tr>\n",
       "            <td>2005</td> <td>52.6954                 </td>\n",
       "        </tr>\n",
       "        <tr>\n",
       "            <td>2006</td> <td>53.3278                 </td>\n",
       "        </tr>\n",
       "        <tr>\n",
       "            <td>2007</td> <td>52.7694                 </td>\n",
       "        </tr>\n",
       "        <tr>\n",
       "            <td>2008</td> <td>51.4296                 </td>\n",
       "        </tr>\n",
       "        <tr>\n",
       "            <td>2009</td> <td>51.4954                 </td>\n",
       "        </tr>\n",
       "    </tbody>\n",
       "</table>\n",
       "<p>... (9 rows omitted)</p>"
      ],
      "text/plain": [
       "Year | Average Temperature mean\n",
       "2000 | 52.2444\n",
       "2001 | 52.8194\n",
       "2002 | 52.4222\n",
       "2003 | 52.2963\n",
       "2004 | 52.1954\n",
       "2005 | 52.6954\n",
       "2006 | 53.3278\n",
       "2007 | 52.7694\n",
       "2008 | 51.4296\n",
       "2009 | 51.4954\n",
       "... (9 rows omitted)"
      ]
     },
     "execution_count": 273,
     "metadata": {},
     "output_type": "execute_result"
    }
   ],
   "source": [
    "# find the average temperature for each year\n",
    "temps.group(\"Year\", np.mean).select(\"Year\",\"Average Temperature mean\")"
   ]
  },
  {
   "cell_type": "code",
   "execution_count": 274,
   "metadata": {
    "slideshow": {
     "slide_type": "fragment"
    }
   },
   "outputs": [
    {
     "data": {
      "text/html": [
       "<table border=\"1\" class=\"dataframe\">\n",
       "    <thead>\n",
       "        <tr>\n",
       "            <th>Year</th> <th>Region</th> <th>Average Temperature mean</th>\n",
       "        </tr>\n",
       "    </thead>\n",
       "    <tbody>\n",
       "        <tr>\n",
       "            <td>2000</td> <td>Northeast Climate Region                  </td> <td>46.0333                 </td>\n",
       "        </tr>\n",
       "        <tr>\n",
       "            <td>2000</td> <td>Northern Rockies and Plains Climate Region</td> <td>44.0417                 </td>\n",
       "        </tr>\n",
       "        <tr>\n",
       "            <td>2000</td> <td>Northwest Climate Region                  </td> <td>45.9333                 </td>\n",
       "        </tr>\n",
       "        <tr>\n",
       "            <td>2000</td> <td>Ohio Valley Climate Region                </td> <td>53.8083                 </td>\n",
       "        </tr>\n",
       "        <tr>\n",
       "            <td>2000</td> <td>South Climate Region                      </td> <td>63.4667                 </td>\n",
       "        </tr>\n",
       "        <tr>\n",
       "            <td>2000</td> <td>Southeast Climate Region                  </td> <td>62.6667                 </td>\n",
       "        </tr>\n",
       "        <tr>\n",
       "            <td>2000</td> <td>Southwest Climate Region                  </td> <td>53.9667                 </td>\n",
       "        </tr>\n",
       "        <tr>\n",
       "            <td>2000</td> <td>Upper Midwest Climate Region              </td> <td>44.5167                 </td>\n",
       "        </tr>\n",
       "        <tr>\n",
       "            <td>2000</td> <td>West Climate Region                       </td> <td>55.7667                 </td>\n",
       "        </tr>\n",
       "        <tr>\n",
       "            <td>2001</td> <td>Northeast Climate Region                  </td> <td>47.7167                 </td>\n",
       "        </tr>\n",
       "    </tbody>\n",
       "</table>\n",
       "<p>... (161 rows omitted)</p>"
      ],
      "text/plain": [
       "Year | Region                                     | Average Temperature mean\n",
       "2000 | Northeast Climate Region                   | 46.0333\n",
       "2000 | Northern Rockies and Plains Climate Region | 44.0417\n",
       "2000 | Northwest Climate Region                   | 45.9333\n",
       "2000 | Ohio Valley Climate Region                 | 53.8083\n",
       "2000 | South Climate Region                       | 63.4667\n",
       "2000 | Southeast Climate Region                   | 62.6667\n",
       "2000 | Southwest Climate Region                   | 53.9667\n",
       "2000 | Upper Midwest Climate Region               | 44.5167\n",
       "2000 | West Climate Region                        | 55.7667\n",
       "2001 | Northeast Climate Region                   | 47.7167\n",
       "... (161 rows omitted)"
      ]
     },
     "execution_count": 274,
     "metadata": {},
     "output_type": "execute_result"
    }
   ],
   "source": [
    "# find the average temperature for each year for just one region\n",
    "\n",
    "temps.group([\"Year\",\"Region\"], np.mean).select(\"Year\",\"Region\",\"Average Temperature mean\")"
   ]
  },
  {
   "cell_type": "code",
   "execution_count": 275,
   "metadata": {
    "slideshow": {
     "slide_type": "fragment"
    }
   },
   "outputs": [
    {
     "data": {
      "text/html": [
       "<table border=\"1\" class=\"dataframe\">\n",
       "    <thead>\n",
       "        <tr>\n",
       "            <th>Month</th> <th>Average Temperature mean</th>\n",
       "        </tr>\n",
       "    </thead>\n",
       "    <tbody>\n",
       "        <tr>\n",
       "            <td>1    </td> <td>31.5234                 </td>\n",
       "        </tr>\n",
       "        <tr>\n",
       "            <td>2    </td> <td>34.2871                 </td>\n",
       "        </tr>\n",
       "        <tr>\n",
       "            <td>3    </td> <td>42.7468                 </td>\n",
       "        </tr>\n",
       "        <tr>\n",
       "            <td>4    </td> <td>51.252                  </td>\n",
       "        </tr>\n",
       "        <tr>\n",
       "            <td>5    </td> <td>60.4427                 </td>\n",
       "        </tr>\n",
       "        <tr>\n",
       "            <td>6    </td> <td>68.9632                 </td>\n",
       "        </tr>\n",
       "        <tr>\n",
       "            <td>7    </td> <td>73.9251                 </td>\n",
       "        </tr>\n",
       "        <tr>\n",
       "            <td>8    </td> <td>72.3836                 </td>\n",
       "        </tr>\n",
       "        <tr>\n",
       "            <td>9    </td> <td>65.5117                 </td>\n",
       "        </tr>\n",
       "        <tr>\n",
       "            <td>10   </td> <td>54.1611                 </td>\n",
       "        </tr>\n",
       "    </tbody>\n",
       "</table>\n",
       "<p>... (2 rows omitted)</p>"
      ],
      "text/plain": [
       "Month | Average Temperature mean\n",
       "1     | 31.5234\n",
       "2     | 34.2871\n",
       "3     | 42.7468\n",
       "4     | 51.252\n",
       "5     | 60.4427\n",
       "6     | 68.9632\n",
       "7     | 73.9251\n",
       "8     | 72.3836\n",
       "9     | 65.5117\n",
       "10    | 54.1611\n",
       "... (2 rows omitted)"
      ]
     },
     "execution_count": 275,
     "metadata": {},
     "output_type": "execute_result"
    }
   ],
   "source": [
    "# find the average temperature for each month\n",
    "\n",
    "temps.group(\"Month\", np.mean).select(\"Month\",\"Average Temperature mean\")"
   ]
  }
 ],
 "metadata": {
  "celltoolbar": "Slideshow",
  "kernelspec": {
   "display_name": "Python 3",
   "language": "python",
   "name": "python3"
  },
  "language_info": {
   "codemirror_mode": {
    "name": "ipython",
    "version": 3
   },
   "file_extension": ".py",
   "mimetype": "text/x-python",
   "name": "python",
   "nbconvert_exporter": "python",
   "pygments_lexer": "ipython3",
   "version": "3.6.7"
  }
 },
 "nbformat": 4,
 "nbformat_minor": 2
}
