{
 "cells": [
  {
   "cell_type": "markdown",
   "metadata": {
    "slideshow": {
     "slide_type": "slide"
    }
   },
   "source": [
    "# Lecture 5\n",
    "## Tables and Charts"
   ]
  },
  {
   "cell_type": "markdown",
   "metadata": {
    "slideshow": {
     "slide_type": "slide"
    }
   },
   "source": [
    "# Announcements\n",
    "\n",
    "* Programming Basics session is tonight: materials posted on Piazza\n",
    "* Lab due Friday, HW due Monday"
   ]
  },
  {
   "cell_type": "code",
   "execution_count": null,
   "metadata": {},
   "outputs": [],
   "source": [
    "from datascience import *\n",
    "import numpy as np\n",
    "\n",
    "nba = Table.read_table('nba_salaries.csv') \n",
    "nba"
   ]
  },
  {
   "cell_type": "markdown",
   "metadata": {
    "slideshow": {
     "slide_type": "slide"
    }
   },
   "source": [
    "# Filtering or Querying\n",
    "\n",
    "We want to reduce table to only the rows that satisy a certain condition.\n",
    " * Keep entries for which it is True.\n",
    " * Discard those for which it is False.  \n",
    " \n",
    "The table function `.where()` takes one argument,\n",
    " * an array of True/False values,  \n",
    " \n",
    "and keeps only the True rows."
   ]
  },
  {
   "cell_type": "markdown",
   "metadata": {
    "slideshow": {
     "slide_type": "slide"
    }
   },
   "source": [
    "## Example\n",
    "\n",
    "Get LeBron's row."
   ]
  },
  {
   "cell_type": "code",
   "execution_count": null,
   "metadata": {},
   "outputs": [],
   "source": []
  },
  {
   "cell_type": "code",
   "execution_count": null,
   "metadata": {},
   "outputs": [],
   "source": []
  },
  {
   "cell_type": "markdown",
   "metadata": {
    "slideshow": {
     "slide_type": "slide"
    }
   },
   "source": [
    "## Filtering with Predicates\n",
    "\n",
    "- A predicate is a function that returns `True` or `False`.\n",
    "- Apply a predicate to each item in a column.\n",
    "- Another way of using the `.where()` command is with two arguments:\n",
    "    * column name\n",
    "    * predicate\n",
    "- Applies the predicate to the column and keeps ony `True` rows.\n",
    "- Many predicates are provided.\n"
   ]
  },
  {
   "cell_type": "code",
   "execution_count": null,
   "metadata": {},
   "outputs": [],
   "source": [
    "nba.where(\"'15-'16 SALARY\", are.between(10, 20))"
   ]
  },
  {
   "cell_type": "markdown",
   "metadata": {
    "slideshow": {
     "slide_type": "slide"
    }
   },
   "source": [
    "## Provided predicates\n",
    "\n",
    "|Predicate|Description|\n",
    "|---------|-----------|\n",
    "|`are.above(y)`|Greater than y|\n",
    "|`are.above_or_equal_to(y)`|Greater than or equal to y|\n",
    "|`are.below(y)`|Less than y|\n",
    "|`are.below_or_equal_to(y)`|Less than or equal to y|\n",
    "|`are.between(y, z)`|Greater than or equal to y and less than z|\n",
    "|`are.between_or_equal_to(y, z)`|Greater than or equal to y and less than or equal to z|\n",
    "|`are.contained_in(list)`|Equal to one of the elements in the given list|\n",
    "|`are.contained_in(superstring)`|A string that is part of the given superstring|\n",
    "|`are.containing(substring)`|A string that contains within it the given substring|\n",
    "|`are.equal_to(y)`|Equal to y|\n",
    "|`are.not_above(y)`|Is not above |\n",
    "|`are.not_above_or_equal_to(y)`|Is neither above y nor equal to |\n",
    "|`are.not_below(y)`|Is not below |\n",
    "|`are.not_below_or_equal_to(y)`|Is neither below y nor equal to |\n",
    "|`are.not_between(y, z)`|Is equal to y or less than y or greater than |\n",
    "|`are.not_between_or_equal_to(y, z)`|Is less than y or greater than |\n",
    "|`are.not_contained_in(list)`|Not equal to any of the elements in the given list|\n",
    "|`are.not_contained_in(superstring)`|A string that is not contained within the superstring|\n",
    "|`are.not_containing(substring)`|A string that does not contain substring|\n",
    "|`are.not_equal_to(y)`|Is not equal to |\n",
    "|`are.not_strictly_between(y, z)`|Is equal to y or equal to z or less than y or greater than |\n",
    "|`are.strictly_between(y, z)`|Greater than y and less than z|"
   ]
  },
  {
   "cell_type": "markdown",
   "metadata": {
    "slideshow": {
     "slide_type": "slide"
    }
   },
   "source": [
    "## Example\n",
    "\n",
    "Get LeBron's row."
   ]
  },
  {
   "cell_type": "code",
   "execution_count": null,
   "metadata": {},
   "outputs": [],
   "source": []
  },
  {
   "cell_type": "markdown",
   "metadata": {
    "slideshow": {
     "slide_type": "fragment"
    }
   },
   "source": [
    "`are.equal_to` is the default behavior:"
   ]
  },
  {
   "cell_type": "code",
   "execution_count": null,
   "metadata": {},
   "outputs": [],
   "source": []
  },
  {
   "cell_type": "markdown",
   "metadata": {
    "slideshow": {
     "slide_type": "slide"
    }
   },
   "source": [
    "## Example\n",
    "\n",
    "Grab all of the players from Los Angeles ."
   ]
  },
  {
   "cell_type": "code",
   "execution_count": null,
   "metadata": {},
   "outputs": [],
   "source": []
  },
  {
   "cell_type": "markdown",
   "metadata": {
    "slideshow": {
     "slide_type": "slide"
    }
   },
   "source": [
    "## Example\n",
    "\n",
    "Find all teammates of LeBron James."
   ]
  },
  {
   "cell_type": "code",
   "execution_count": null,
   "metadata": {},
   "outputs": [],
   "source": [
    "lebron # make table with just LeBron's row\n",
    "team # extract his team name\n",
    "# make table with just his teammates"
   ]
  },
  {
   "cell_type": "markdown",
   "metadata": {
    "slideshow": {
     "slide_type": "slide"
    }
   },
   "source": [
    "## Example\n",
    "\n",
    "Find all point guards (PG) or centers (C) who made more than 15 million dollars.\n"
   ]
  },
  {
   "cell_type": "code",
   "execution_count": null,
   "metadata": {},
   "outputs": [],
   "source": []
  },
  {
   "cell_type": "markdown",
   "metadata": {
    "slideshow": {
     "slide_type": "slide"
    }
   },
   "source": [
    "## Predicates are functions!"
   ]
  },
  {
   "cell_type": "code",
   "execution_count": null,
   "metadata": {},
   "outputs": [],
   "source": [
    "# this creates a new function, f\n",
    "f = are.above(30)"
   ]
  },
  {
   "cell_type": "code",
   "execution_count": null,
   "metadata": {},
   "outputs": [],
   "source": [
    "f(31)"
   ]
  },
  {
   "cell_type": "code",
   "execution_count": null,
   "metadata": {},
   "outputs": [],
   "source": [
    "f(29)"
   ]
  },
  {
   "cell_type": "markdown",
   "metadata": {
    "slideshow": {
     "slide_type": "slide"
    }
   },
   "source": [
    "## Looking ahead: creating own predicates"
   ]
  },
  {
   "cell_type": "markdown",
   "metadata": {},
   "source": [
    "In Python, as in most languages, you can create your own functions."
   ]
  },
  {
   "cell_type": "code",
   "execution_count": null,
   "metadata": {},
   "outputs": [],
   "source": [
    "#: we can define our own predicates...\n",
    "def name_is_20_or_more_letters(name):\n",
    "    return len(name) >= 20"
   ]
  },
  {
   "cell_type": "code",
   "execution_count": null,
   "metadata": {},
   "outputs": [],
   "source": [
    "nba.where('PLAYER', name_is_20_or_more_letters)"
   ]
  },
  {
   "cell_type": "markdown",
   "metadata": {
    "slideshow": {
     "slide_type": "slide"
    }
   },
   "source": [
    "<center><img src=\"summary2.png\"  width=\"800\"/></center>"
   ]
  },
  {
   "cell_type": "markdown",
   "metadata": {
    "slideshow": {
     "slide_type": "slide"
    }
   },
   "source": [
    "# Practice: Census data\n",
    "\n",
    "- Every ten years, the U.S. Census Bureau counts the number of people in the U.S.\n",
    "- On other years, the bureau *estimates* the population\n",
    "- Data is published online"
   ]
  },
  {
   "cell_type": "code",
   "execution_count": null,
   "metadata": {},
   "outputs": [],
   "source": [
    "census = Table.read_table('census.csv')\n",
    "census"
   ]
  },
  {
   "cell_type": "markdown",
   "metadata": {
    "slideshow": {
     "slide_type": "slide"
    }
   },
   "source": [
    "## Aggregates"
   ]
  },
  {
   "cell_type": "code",
   "execution_count": null,
   "metadata": {
    "scrolled": true
   },
   "outputs": [],
   "source": [
    "census.where('AGE', 999)"
   ]
  },
  {
   "cell_type": "markdown",
   "metadata": {
    "slideshow": {
     "slide_type": "-"
    }
   },
   "source": [
    "- It looks like `999` means *all ages together*."
   ]
  },
  {
   "cell_type": "markdown",
   "metadata": {},
   "source": [
    "## Discussion Question\n",
    "\n",
    "Based on the output below, what do you think are the meaning of the values in the Sex column?\n",
    "\n",
    "A.    0 = M, 1 = F, 2= M and F together  \n",
    "B.    0 = F, 1 = M, 2= M and F together  \n",
    "C.    0 = M and F together, 1 = M, 2 = F  \n",
    "D.    0 = M and F together, 1 = F, 2 = M"
   ]
  },
  {
   "cell_type": "code",
   "execution_count": null,
   "metadata": {},
   "outputs": [],
   "source": [
    "census.where('AGE', 85)"
   ]
  },
  {
   "cell_type": "markdown",
   "metadata": {
    "slideshow": {
     "slide_type": "slide"
    }
   },
   "source": [
    "## Analyzing population trends\n",
    "\n",
    "Let's look at how the population changed between 2010 and 2015."
   ]
  },
  {
   "cell_type": "code",
   "execution_count": null,
   "metadata": {},
   "outputs": [],
   "source": [
    "# we only need a few columns\n",
    "us_pop = census.select('SEX', 'AGE', 'POPESTIMATE2010', 'POPESTIMATE2015')"
   ]
  },
  {
   "cell_type": "code",
   "execution_count": null,
   "metadata": {},
   "outputs": [],
   "source": [
    "# we don't like to type POPESTIMATE2010. Relabel to something shorter...\n",
    "us_pop = us_pop.relabeled('POPESTIMATE2010', '2010').relabeled('POPESTIMATE2015', '2015')\n",
    "us_pop"
   ]
  },
  {
   "cell_type": "markdown",
   "metadata": {
    "slideshow": {
     "slide_type": "slide"
    }
   },
   "source": [
    "## Population changes\n",
    "\n",
    "Compute absolute and percentage changes."
   ]
  },
  {
   "cell_type": "code",
   "execution_count": null,
   "metadata": {},
   "outputs": [],
   "source": [
    "us_pop = us_pop.with_column(\n",
    "    'CHANGE',\n",
    "    us_pop.column('2015') - us_pop.column('2010')\n",
    ")"
   ]
  },
  {
   "cell_type": "code",
   "execution_count": null,
   "metadata": {},
   "outputs": [],
   "source": [
    "us_pop = us_pop.with_column(\n",
    "    'PCT CHANGE',\n",
    "    us_pop.column('CHANGE') / us_pop.column('2010')\n",
    "    )\n",
    "us_pop"
   ]
  },
  {
   "cell_type": "markdown",
   "metadata": {
    "slideshow": {
     "slide_type": "slide"
    }
   },
   "source": [
    "## Display percentages nicely"
   ]
  },
  {
   "cell_type": "code",
   "execution_count": null,
   "metadata": {},
   "outputs": [],
   "source": [
    "us_pop.set_format('PCT CHANGE', PercentFormatter)"
   ]
  },
  {
   "cell_type": "markdown",
   "metadata": {
    "slideshow": {
     "slide_type": "slide"
    }
   },
   "source": [
    "## What age group(s) grew the most in size?"
   ]
  },
  {
   "cell_type": "code",
   "execution_count": null,
   "metadata": {
    "slideshow": {
     "slide_type": "-"
    }
   },
   "outputs": [],
   "source": [
    "us_pop.sort('CHANGE', descending=True)"
   ]
  },
  {
   "cell_type": "markdown",
   "metadata": {
    "slideshow": {
     "slide_type": "slide"
    }
   },
   "source": [
    "## Why?"
   ]
  },
  {
   "cell_type": "code",
   "execution_count": null,
   "metadata": {},
   "outputs": [],
   "source": [
    "2010 - 68"
   ]
  },
  {
   "cell_type": "code",
   "execution_count": null,
   "metadata": {},
   "outputs": [],
   "source": [
    "2015 - 68"
   ]
  },
  {
   "cell_type": "markdown",
   "metadata": {
    "slideshow": {
     "slide_type": "fragment"
    }
   },
   "source": [
    "The post-WWII baby boom."
   ]
  },
  {
   "cell_type": "markdown",
   "metadata": {
    "slideshow": {
     "slide_type": "slide"
    }
   },
   "source": [
    "## How does female:male ratio change with age?\n",
    "\n",
    "General approach:  \n",
    "1. Keep data for only one year (say, 2015).\n",
    "2. Make a table of females and a table of males.\n",
    "3. Divide # of females at each age by # of males at that age."
   ]
  },
  {
   "cell_type": "markdown",
   "metadata": {
    "slideshow": {
     "slide_type": "slide"
    }
   },
   "source": [
    "## 1. Keep data for only 2015"
   ]
  },
  {
   "cell_type": "code",
   "execution_count": null,
   "metadata": {},
   "outputs": [],
   "source": [
    "us_pop_2015 = us_pop.select('SEX', 'AGE', '2015')\n",
    "us_pop_2015"
   ]
  },
  {
   "cell_type": "markdown",
   "metadata": {
    "slideshow": {
     "slide_type": "slide"
    }
   },
   "source": [
    "## 2. Make a table of females and a table of males"
   ]
  },
  {
   "cell_type": "code",
   "execution_count": null,
   "metadata": {},
   "outputs": [],
   "source": [
    "females = us_pop_2015.where('SEX', 2).where('AGE', are.not_equal_to(999))\n",
    "females"
   ]
  },
  {
   "cell_type": "code",
   "execution_count": null,
   "metadata": {},
   "outputs": [],
   "source": [
    "males = us_pop_2015.where('SEX', 1).where('AGE', are.not_equal_to(999))\n",
    "males"
   ]
  },
  {
   "cell_type": "markdown",
   "metadata": {
    "slideshow": {
     "slide_type": "slide"
    }
   },
   "source": [
    "## 3. Divide # of females at each age by # of males at that age"
   ]
  },
  {
   "cell_type": "code",
   "execution_count": null,
   "metadata": {},
   "outputs": [],
   "source": [
    "# we should \"align\" the data first to make sure rows are in the same order\n",
    "females = females.sort('AGE')\n",
    "males = males.sort('AGE')"
   ]
  },
  {
   "cell_type": "code",
   "execution_count": null,
   "metadata": {
    "scrolled": true
   },
   "outputs": [],
   "source": [
    "ratios = Table().with_columns(\n",
    "    'AGE', females.column('AGE'),\n",
    "    'F:M RATIO', females.column('2015') / males.column('2015')\n",
    ")\n",
    "ratios"
   ]
  },
  {
   "cell_type": "code",
   "execution_count": null,
   "metadata": {
    "slideshow": {
     "slide_type": "slide"
    }
   },
   "outputs": [],
   "source": [
    "ratios.sort('AGE')"
   ]
  },
  {
   "cell_type": "code",
   "execution_count": null,
   "metadata": {},
   "outputs": [],
   "source": [
    "ratios.sort('AGE', descending=True)"
   ]
  },
  {
   "cell_type": "markdown",
   "metadata": {
    "slideshow": {
     "slide_type": "slide"
    }
   },
   "source": [
    "## Visualize"
   ]
  },
  {
   "cell_type": "code",
   "execution_count": null,
   "metadata": {},
   "outputs": [],
   "source": [
    "#: a few new imports for displaying nice plots\n",
    "%matplotlib inline\n",
    "import matplotlib.pyplot as plt\n",
    "plt.style.use('fivethirtyeight')\n",
    "import warnings; warnings.simplefilter('ignore') # just for the slides!"
   ]
  },
  {
   "cell_type": "code",
   "execution_count": null,
   "metadata": {},
   "outputs": [],
   "source": [
    "ratios.plot('AGE')"
   ]
  },
  {
   "cell_type": "markdown",
   "metadata": {
    "slideshow": {
     "slide_type": "slide"
    }
   },
   "source": [
    "## We've discovered some interesting trends and now can ask why. "
   ]
  },
  {
   "cell_type": "markdown",
   "metadata": {},
   "source": [
    "[Why do women live longer than men?](https://ourworldindata.org/why-do-women-live-longer-than-men)"
   ]
  },
  {
   "cell_type": "markdown",
   "metadata": {},
   "source": [
    "[Why are there more baby boys than baby girls?](https://www.pewresearch.org/fact-tank/2013/09/24/the-odds-that-you-will-give-birth-to-a-boy-or-girl-depend-on-where-in-the-world-you-live/)"
   ]
  },
  {
   "cell_type": "markdown",
   "metadata": {
    "slideshow": {
     "slide_type": "slide"
    }
   },
   "source": [
    "## Why visualize?\n",
    "\n",
    "- Tables can be hard to interpret.\n",
    "- We hope to spot trends through visualization.\n",
    "- Many types: scatter plots, line graphs, bar charts, etc.\n",
    "- The right choice depends on the type of data."
   ]
  },
  {
   "cell_type": "markdown",
   "metadata": {
    "slideshow": {
     "slide_type": "slide"
    }
   },
   "source": [
    "## Some terminology...\n",
    "\n",
    "- **Individual**: Person/place/thing for which data is recorded.\n",
    "- **Variable**: Something that is recorded for each individual, a.k.a. a \"feature\".\n",
    "\n",
    "Variables can be of different kinds, including:\n",
    "\n",
    "- **Numerical**: It makes sense to do arithmetic with the values.\n",
    "- **Categorical**: Values fall into categories."
   ]
  },
  {
   "cell_type": "markdown",
   "metadata": {
    "slideshow": {
     "slide_type": "slide"
    }
   },
   "source": [
    "## Examples of numerical variables\n",
    "\n",
    "- Individual is an NBA player, variable is salary\n",
    "- Individual is a baby, variable is weight in kilograms\n",
    "- Individual is a place, variable is number of survivors on Napoleon's march"
   ]
  },
  {
   "cell_type": "markdown",
   "metadata": {
    "slideshow": {
     "slide_type": "slide"
    }
   },
   "source": [
    "## Examples of categorical variables\n",
    "\n",
    "- Individual is an NBA player, variable is team name\n",
    "- Individual is a person in the census, variable is `SEX`\n",
    "    - Even though represented as 0, 1, 2\n",
    "- Individual is a Titanic passenger, variable is whether or not they survived"
   ]
  },
  {
   "cell_type": "markdown",
   "metadata": {
    "slideshow": {
     "slide_type": "slide"
    }
   },
   "source": [
    "# Scatter plots"
   ]
  },
  {
   "cell_type": "markdown",
   "metadata": {
    "slideshow": {
     "slide_type": "slide"
    }
   },
   "source": [
    "## A new dataset: `actors.csv`"
   ]
  },
  {
   "cell_type": "markdown",
   "metadata": {
    "slideshow": {
     "slide_type": "-"
    }
   },
   "source": [
    "|Column |Contents|\n",
    "|----------|------------|\n",
    "Actor|Name of actor\n",
    "Total Gross|\tTotal gross domestic box office receipt, in millions of dollars, of all of the actor’s movies\n",
    "Number of Movies|\tThe number of movies the actor has been in\n",
    "Average per Movie|\tTotal gross divided by number of movies\n",
    "#1 Movie|\tThe highest grossing movie the actor has been in\n",
    "Gross|\tGross domestic box office receipt, in millions of dollars, of the actor’s #1 Movie"
   ]
  },
  {
   "cell_type": "code",
   "execution_count": null,
   "metadata": {
    "slideshow": {
     "slide_type": "slide"
    }
   },
   "outputs": [],
   "source": [
    "actors = Table.read_table('actors.csv')\n",
    "actors"
   ]
  },
  {
   "cell_type": "markdown",
   "metadata": {
    "slideshow": {
     "slide_type": "slide"
    }
   },
   "source": [
    "## Scatter plots\n",
    "\n",
    "- Visualize relationship between two numerical variables\n",
    "- `.scatter()` method:\n",
    "    - First argument: column for horizontal axis variable\n",
    "    - Second argument: column for vertical axis variable\n",
    "    - Makes one point for each row of the table"
   ]
  },
  {
   "cell_type": "markdown",
   "metadata": {
    "slideshow": {
     "slide_type": "slide"
    }
   },
   "source": [
    "## Scatter plots\n",
    "\n",
    "What is the relationship between `Number of Movies` and `Total Gross`?"
   ]
  },
  {
   "cell_type": "code",
   "execution_count": null,
   "metadata": {},
   "outputs": [],
   "source": [
    "actors.scatter('Number of Movies', 'Total Gross')"
   ]
  },
  {
   "cell_type": "markdown",
   "metadata": {
    "slideshow": {
     "slide_type": "slide"
    }
   },
   "source": [
    "## Scatter plots\n",
    "\n",
    "What is the relationship between `Number of Movies` and `Average per Movie`?"
   ]
  },
  {
   "cell_type": "code",
   "execution_count": null,
   "metadata": {},
   "outputs": [],
   "source": [
    "actors.scatter('Number of Movies', 'Average per Movie')"
   ]
  },
  {
   "attachments": {
    "average_per_movie.png": {
     "image/png": "[encoded data removed]"
    }
   },
   "cell_type": "markdown",
   "metadata": {
    "slideshow": {
     "slide_type": "slide"
    }
   },
   "source": [
    "## Two interesting things...\n",
    "\n",
    "- A *negative* association.\n",
    "- An outlier.\n",
    "\n",
    "![average_per_movie.png](attachment:average_per_movie.png)\n"
   ]
  },
  {
   "cell_type": "markdown",
   "metadata": {
    "slideshow": {
     "slide_type": "slide"
    }
   },
   "source": [
    "## \"Zoom in\" to exclude the outlier..."
   ]
  },
  {
   "cell_type": "code",
   "execution_count": null,
   "metadata": {},
   "outputs": [],
   "source": [
    "no_outlier = actors.where('Number of Movies', are.above(10))\n",
    "no_outlier.scatter('Number of Movies', 'Average per Movie')"
   ]
  },
  {
   "cell_type": "markdown",
   "metadata": {
    "slideshow": {
     "slide_type": "slide"
    }
   },
   "source": [
    "## Who are these people?"
   ]
  },
  {
   "cell_type": "code",
   "execution_count": null,
   "metadata": {},
   "outputs": [],
   "source": [
    "actors.where('Number of Movies', are.above(60))"
   ]
  },
  {
   "cell_type": "markdown",
   "metadata": {
    "slideshow": {
     "slide_type": "slide"
    }
   },
   "source": [
    "## Who is the outlier?\n",
    "\n",
    "- Made very few, high grossing movies."
   ]
  },
  {
   "cell_type": "code",
   "execution_count": null,
   "metadata": {},
   "outputs": [],
   "source": [
    "actors.where('Number of Movies', are.below(10))"
   ]
  },
  {
   "attachments": {
    "c3po.png": {
     "image/png": "[encoded data removed]"
    }
   },
   "cell_type": "markdown",
   "metadata": {
    "slideshow": {
     "slide_type": "slide"
    }
   },
   "source": [
    "![c3po.png](attachment:c3po.png)"
   ]
  },
  {
   "cell_type": "markdown",
   "metadata": {
    "slideshow": {
     "slide_type": "slide"
    }
   },
   "source": [
    "# Line graphs"
   ]
  },
  {
   "cell_type": "markdown",
   "metadata": {
    "slideshow": {
     "slide_type": "slide"
    }
   },
   "source": [
    "## More new data: `movies_by_year.csv`"
   ]
  },
  {
   "cell_type": "markdown",
   "metadata": {
    "slideshow": {
     "slide_type": "-"
    }
   },
   "source": [
    "|Column|\tContent|\n",
    "|------|-----------|\n",
    "Year|\tYear\n",
    "Total Gross|\tTotal domestic box office gross, in millions of dollars, of all movies released\n",
    "Number of Movies|\tNumber of movies released\n",
    "#1 Movie|\tHighest grossing movie"
   ]
  },
  {
   "cell_type": "code",
   "execution_count": null,
   "metadata": {
    "slideshow": {
     "slide_type": "slide"
    }
   },
   "outputs": [],
   "source": [
    "by_year = Table.read_table('movies_by_year.csv')\n",
    "by_year"
   ]
  },
  {
   "cell_type": "markdown",
   "metadata": {
    "slideshow": {
     "slide_type": "slide"
    }
   },
   "source": [
    "## Line graphs\n",
    "\n",
    "- Visualize trend (often over time).\n",
    "- `.plot()` method:\n",
    "    - First argument: column for horizontal axis.\n",
    "    - Second argument: column for vertical axis."
   ]
  },
  {
   "cell_type": "markdown",
   "metadata": {
    "slideshow": {
     "slide_type": "slide"
    }
   },
   "source": [
    "## Line graphs"
   ]
  },
  {
   "cell_type": "code",
   "execution_count": null,
   "metadata": {},
   "outputs": [],
   "source": [
    "# how has # of movies changed over time?\n",
    "by_year.plot('Year', 'Number of Movies')"
   ]
  },
  {
   "cell_type": "markdown",
   "metadata": {
    "slideshow": {
     "slide_type": "slide"
    }
   },
   "source": [
    "## Line graphs"
   ]
  },
  {
   "cell_type": "code",
   "execution_count": null,
   "metadata": {},
   "outputs": [],
   "source": [
    "# let's focus on recent years (2000+)\n",
    "recent = by_year.where('Year', are.above(2000))\n",
    "recent.plot('Year', 'Number of Movies')"
   ]
  },
  {
   "cell_type": "markdown",
   "metadata": {},
   "source": [
    "What happened in 2009/2010?"
   ]
  },
  {
   "cell_type": "markdown",
   "metadata": {
    "slideshow": {
     "slide_type": "slide"
    }
   },
   "source": [
    "## How did this affect total gross?"
   ]
  },
  {
   "cell_type": "code",
   "execution_count": null,
   "metadata": {},
   "outputs": [],
   "source": [
    "recent.plot('Year', 'Total Gross')"
   ]
  },
  {
   "cell_type": "markdown",
   "metadata": {
    "slideshow": {
     "slide_type": "slide"
    }
   },
   "source": [
    "## Trivia: What was the top movie of 2009?"
   ]
  },
  {
   "cell_type": "code",
   "execution_count": null,
   "metadata": {},
   "outputs": [],
   "source": [
    "recent.where('Year', 2009)"
   ]
  },
  {
   "cell_type": "markdown",
   "metadata": {
    "slideshow": {
     "slide_type": "slide"
    }
   },
   "source": [
    "# Visualizing categorical distributions"
   ]
  },
  {
   "cell_type": "markdown",
   "metadata": {},
   "source": [
    "Suppose we have a record of ice cream cones sold:"
   ]
  },
  {
   "cell_type": "markdown",
   "metadata": {},
   "source": [
    "|Flavor|\n",
    "|------|\n",
    "|Vanilla|\n",
    "Chocolate\n",
    "Chocolate\n",
    "Vanilla\n",
    "Strawberry\n",
    "Chocolate\n",
    "Chocolate"
   ]
  },
  {
   "cell_type": "markdown",
   "metadata": {},
   "source": [
    "We want to visualize the *frequency* of each flavor."
   ]
  },
  {
   "cell_type": "markdown",
   "metadata": {
    "slideshow": {
     "slide_type": "slide"
    }
   },
   "source": [
    "## Categorical *distributions*\n",
    "\n",
    "We write down the frequency of each flavor in a table:"
   ]
  },
  {
   "cell_type": "code",
   "execution_count": null,
   "metadata": {},
   "outputs": [],
   "source": [
    "flavors = Table().with_columns( 'Flavor', make_array('Vanilla', 'Chocolate', 'Strawberry'), 'Count', make_array(2, 4, 1))\n",
    "flavors"
   ]
  },
  {
   "cell_type": "markdown",
   "metadata": {
    "slideshow": {
     "slide_type": "slide"
    }
   },
   "source": [
    "## Bar charts"
   ]
  },
  {
   "cell_type": "code",
   "execution_count": null,
   "metadata": {},
   "outputs": [],
   "source": [
    "# draw a bar graph\n",
    "flavors.barh('Flavor')"
   ]
  },
  {
   "cell_type": "markdown",
   "metadata": {
    "slideshow": {
     "slide_type": "slide"
    }
   },
   "source": [
    "## Bar charts\n",
    "\n",
    "- Unlike scatter/line graphs:\n",
    "    - Height (vertical size) and spacing of bars is arbitrary.\n",
    "    - Only one numerical variable (horizontal axis)\n",
    "    - Order of vertical labels doesn't matter"
   ]
  },
  {
   "cell_type": "markdown",
   "metadata": {
    "slideshow": {
     "slide_type": "slide"
    }
   },
   "source": [
    "## A (slightly) nicer visualization..."
   ]
  },
  {
   "cell_type": "code",
   "execution_count": null,
   "metadata": {
    "scrolled": true
   },
   "outputs": [],
   "source": [
    "# sort the columns before plotting\n",
    "flavors.sort('Count', descending=True).barh('Flavor') "
   ]
  },
  {
   "cell_type": "markdown",
   "metadata": {
    "slideshow": {
     "slide_type": "slide"
    }
   },
   "source": [
    "## Yet another new data set: `top_movies.csv`"
   ]
  },
  {
   "cell_type": "code",
   "execution_count": null,
   "metadata": {},
   "outputs": [],
   "source": [
    "#: read in the csv\n",
    "top_movies = Table.read_table('top_movies.csv')\n",
    "top_movies"
   ]
  },
  {
   "cell_type": "markdown",
   "metadata": {
    "slideshow": {
     "slide_type": "slide"
    }
   },
   "source": [
    "## What is the distribution of studios?\n",
    "\n",
    "- That is, what is the count of each?\n",
    "- `.group()` method:\n",
    "    - First argument: column to group by\n",
    "    - Counts members in group by default"
   ]
  },
  {
   "cell_type": "markdown",
   "metadata": {
    "slideshow": {
     "slide_type": "slide"
    }
   },
   "source": [
    "## Counting movies by studio"
   ]
  },
  {
   "cell_type": "code",
   "execution_count": null,
   "metadata": {},
   "outputs": [],
   "source": [
    "by_studio = top_movies.group('Studio')\n",
    "by_studio"
   ]
  },
  {
   "cell_type": "markdown",
   "metadata": {
    "slideshow": {
     "slide_type": "slide"
    }
   },
   "source": [
    "## Visualize with a bar chart"
   ]
  },
  {
   "cell_type": "code",
   "execution_count": null,
   "metadata": {},
   "outputs": [],
   "source": [
    "by_studio.sort('count', descending=True).barh('Studio')"
   ]
  },
  {
   "cell_type": "markdown",
   "metadata": {
    "slideshow": {
     "slide_type": "slide"
    }
   },
   "source": [
    "## Discussion question"
   ]
  },
  {
   "cell_type": "markdown",
   "metadata": {},
   "source": [
    "Suppose we run the code below. What do we get?\n",
    "\n",
    "\n",
    "- A) A bar for each movie. Its length is the age of the movie.\n",
    "- B) A bar for each age. Its length is the number of movies of that age.\n",
    "- C) A bar for each year. Its length is the age of movies made that year."
   ]
  },
  {
   "cell_type": "code",
   "execution_count": null,
   "metadata": {},
   "outputs": [],
   "source": [
    "aged = top_movies.with_column(\"Age\", 2019 - top_movies.column('Year'))\n",
    "aged.group('Age').barh('Age')"
   ]
  },
  {
   "cell_type": "markdown",
   "metadata": {
    "slideshow": {
     "slide_type": "slide"
    }
   },
   "source": [
    "## By the way...\n",
    "\n",
    "- Used for more than just categorical distributions\n",
    "- Example: how much did each movie make?"
   ]
  },
  {
   "cell_type": "code",
   "execution_count": null,
   "metadata": {},
   "outputs": [],
   "source": [
    "top_movies.take(np.arange(5)).barh('Title', 'Gross')"
   ]
  },
  {
   "cell_type": "markdown",
   "metadata": {
    "slideshow": {
     "slide_type": "slide"
    }
   },
   "source": [
    "## Distribution of top movies by year\n",
    "\n",
    "Some years have multiple top movies:"
   ]
  },
  {
   "cell_type": "code",
   "execution_count": null,
   "metadata": {},
   "outputs": [],
   "source": [
    "top_movies.where('Year', 2010)"
   ]
  },
  {
   "cell_type": "markdown",
   "metadata": {
    "slideshow": {
     "slide_type": "slide"
    }
   },
   "source": [
    "## Count of top movies by year"
   ]
  },
  {
   "cell_type": "code",
   "execution_count": null,
   "metadata": {},
   "outputs": [],
   "source": [
    "top_movies.group('Year')#.barh('Year')"
   ]
  },
  {
   "cell_type": "markdown",
   "metadata": {
    "slideshow": {
     "slide_type": "slide"
    }
   },
   "source": [
    "## Observations...\n",
    "\n",
    "- The bar chart doesn't \"space\" the years. It treats years as categories.\n",
    "    - For example, there is no gap between 1921 and 1937.\n",
    "- It doesn't make sense for us to sort by the length of the bars. We want years in chronological order."
   ]
  },
  {
   "cell_type": "code",
   "execution_count": null,
   "metadata": {},
   "outputs": [],
   "source": [
    "#: top movies before 1945\n",
    "top_movies.where('Year', are.below(1945)).group('Year').barh('Year')"
   ]
  },
  {
   "cell_type": "markdown",
   "metadata": {
    "slideshow": {
     "slide_type": "slide"
    }
   },
   "source": [
    "## Is `Year` a categorical or numerical variable?\n",
    "\n",
    "- Categorical: we can group by it.\n",
    "- Numerical: we sometimes do arithmetic, and there's a natural order."
   ]
  },
  {
   "cell_type": "markdown",
   "metadata": {
    "slideshow": {
     "slide_type": "slide"
    }
   },
   "source": [
    "# Overlaying plots"
   ]
  },
  {
   "cell_type": "markdown",
   "metadata": {
    "slideshow": {
     "slide_type": "slide"
    }
   },
   "source": [
    "### Recall the female:male plot from the census\n",
    "* There are *many* more women than men in old-age!"
   ]
  },
  {
   "cell_type": "code",
   "execution_count": null,
   "metadata": {},
   "outputs": [],
   "source": [
    "ratios.plot('AGE')"
   ]
  },
  {
   "cell_type": "markdown",
   "metadata": {
    "slideshow": {
     "slide_type": "slide"
    }
   },
   "source": [
    "### What about absolute numbers?\n",
    "* Make a new table with columns: `age`, `male population`, `female population`"
   ]
  },
  {
   "cell_type": "code",
   "execution_count": null,
   "metadata": {},
   "outputs": [],
   "source": [
    "Table().with_columns(\n",
    "    ('age', males.column('AGE')),\n",
    "    ('male', males.column('2015')),\n",
    "    ('female', females.column('2015'))\n",
    ")#.plot('age')"
   ]
  },
  {
   "cell_type": "markdown",
   "metadata": {
    "slideshow": {
     "slide_type": "slide"
    }
   },
   "source": [
    "### To plot multiple line graphs at once:\n",
    "* Drop all extraneous columns from your table.\n",
    "* Specify the column for the x-axis in the `.plot(col)` method.\n",
    "* `plot` will plot **all** other columns on a shared y-axis."
   ]
  },
  {
   "cell_type": "markdown",
   "metadata": {
    "slideshow": {
     "slide_type": "slide"
    }
   },
   "source": [
    "### Plot the overall population by age for both 2010 and 2015\n",
    "* Use both sexes\n",
    "* Don't forget `AGE=999`!"
   ]
  },
  {
   "cell_type": "code",
   "execution_count": null,
   "metadata": {
    "slideshow": {
     "slide_type": "-"
    }
   },
   "outputs": [],
   "source": [
    "# plot overall population by age for both 2010 and 2015\n",
    "census = (\n",
    "    Table\n",
    "    .read_table('./census.csv')\n",
    "    .relabeled('POPESTIMATE2010', '2010')\n",
    "    .relabeled('POPESTIMATE2015', '2015')\n",
    "    .select('SEX', 'AGE', '2010', '2015')\n",
    ")\n",
    "census.where('SEX', 0).drop('SEX').where('AGE', are.below(100)).plot('AGE')"
   ]
  },
  {
   "cell_type": "markdown",
   "metadata": {
    "slideshow": {
     "slide_type": "slide"
    }
   },
   "source": [
    "## Bar graphs work similarly\n",
    "\n",
    "* Drop all extraneous columns from your table.\n",
    "* Specify the column for the categories in the `.barh(col)` method.\n",
    "* `barh` will plot bars for each column."
   ]
  },
  {
   "cell_type": "code",
   "execution_count": null,
   "metadata": {},
   "outputs": [],
   "source": [
    "# plot 2010/2015 totals by SEX\n",
    "census.where('AGE', 999).drop('AGE').barh('SEX')"
   ]
  },
  {
   "cell_type": "code",
   "execution_count": null,
   "metadata": {},
   "outputs": [],
   "source": []
  }
 ],
 "metadata": {
  "celltoolbar": "Slideshow",
  "kernelspec": {
   "display_name": "Python 3",
   "language": "python",
   "name": "python3"
  },
  "language_info": {
   "codemirror_mode": {
    "name": "ipython",
    "version": 3
   },
   "file_extension": ".py",
   "mimetype": "text/x-python",
   "name": "python",
   "nbconvert_exporter": "python",
   "pygments_lexer": "ipython3",
   "version": "3.6.8"
  },
  "livereveal": {
   "scroll": true,
   "transition": "none"
  }
 },
 "nbformat": 4,
 "nbformat_minor": 2
}
