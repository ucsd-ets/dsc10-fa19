{
 "cells": [
  {
   "cell_type": "markdown",
   "metadata": {},
   "source": [
    "# Programming basis week 3"
   ]
  },
  {
   "cell_type": "markdown",
   "metadata": {},
   "source": [
    "## Python Visualizer\n",
    "[http://pythontutor.com/visualize.html#mode=edit](http://pythontutor.com/visualize.html#mode=edit)\n",
    "\n",
    "Check out this tool if you want to visualize how Python executes your code line by line."
   ]
  },
  {
   "cell_type": "code",
   "execution_count": null,
   "metadata": {},
   "outputs": [],
   "source": [
    "# run this cell!\n",
    "from datascience import *\n",
    "import numpy as np\n",
    "import math"
   ]
  },
  {
   "cell_type": "markdown",
   "metadata": {},
   "source": [
    "For the past few weeks, you’ve been using datascience, numpy, some math and Python’s built-in functions. But now you’re able to write your own! Here are a few things to keep in mind when you are defining your own functions."
   ]
  },
  {
   "cell_type": "markdown",
   "metadata": {},
   "source": [
    "https://docs.google.com/document/d/1x4a17gVqcuDYNWy3RyXcLcKeWiw7odqs8GFRaW_Wf5c/edit?usp=sharing"
   ]
  },
  {
   "cell_type": "markdown",
   "metadata": {},
   "source": [
    "Name: \n",
    "\n",
    "\n",
    "    User-defined functions in Python begin with the keyword “def”. The name of your function comes right after “def”. You’ll call this function by typing the name with the inputs/parameters separated by commas between parentheses. If there are no parameters, you still need to type the parentheses “()” after the function name.\n"
   ]
  },
  {
   "cell_type": "markdown",
   "metadata": {},
   "source": [
    "Parameters:\n",
    "    \n",
    "    When defining your function, the argument names will be references to the values passed into the function when it is called. These names are used only for the duration of the function.\n",
    "    \n",
    "    Your function might not need any arguments.\n"
   ]
  },
  {
   "cell_type": "markdown",
   "metadata": {},
   "source": [
    "Body: \n",
    "    \n",
    "    After defining the name and arguments, the next line marks the beginning of the body of the function. Every line in the body must be indented.\n",
    "    \n",
    "    Variables:\n",
    "    If you pass in a variable that you defined outside of the function as an argument, it can be changed by the function.\n",
    "    Variables defined inside the function exist only for the duration of the function. So you cannot use those variables outside of the function.\n"
   ]
  },
  {
   "cell_type": "markdown",
   "metadata": {},
   "source": [
    "Return: \n",
    "    \n",
    "    Not all functions return a value. Some functions just perform an action.\n",
    "    Functions that return a value must include a return statement, indicated by keyword return.\n",
    "    Once the return statement is encountered, the function ends even if there are more lines of code after in the body.\n",
    "    To assign the output of a function to a variable, simply call the function and set it equal to a variable. For example:\n"
   ]
  },
  {
   "cell_type": "markdown",
   "metadata": {},
   "source": [
    "    my_values = make_array(3, 6, 1, 9, 4)\n",
    "    my_spread = spread(my_values)\n",
    "\n",
    "    Now “my_spread” is a variable that equals 6.\n",
    "    Make sure you don’t later set the name of the function to another value. You’ll lose the function you defined! For example, don’t do this\n",
    "\n",
    "    my_values = make_array(3, 6, 1, 9, 4)\n",
    "    spread = spread(my_values)\n",
    "\n",
    "\tNow “spread” is a variable that equals 6, and it’s no longer a function.\n"
   ]
  },
  {
   "cell_type": "markdown",
   "metadata": {},
   "source": [
    "Print vs return:"
   ]
  },
  {
   "cell_type": "markdown",
   "metadata": {},
   "source": [
    "    “return” is different from “print()”!!! The print function just displays the string representation of its input. You cannot do anything with that displayed output. However, “return” gives you an actual value that can be used in later calculations.\n"
   ]
  },
  {
   "cell_type": "code",
   "execution_count": null,
   "metadata": {},
   "outputs": [],
   "source": [
    "def print_something():\n",
    "    print(\"Hello world!\")\n",
    "\n",
    "print_something()\n"
   ]
  },
  {
   "cell_type": "markdown",
   "metadata": {},
   "source": [
    "The function above does not have any parameters, and it will not return anything. Calling print_something() will only print the string “Hello world!”; \n"
   ]
  },
  {
   "cell_type": "code",
   "execution_count": null,
   "metadata": {},
   "outputs": [],
   "source": [
    "a = print_something()\n"
   ]
  },
  {
   "cell_type": "markdown",
   "metadata": {},
   "source": [
    "When you assign the output of print_something() to a, you are calling the function print_something. Therefore, python will print “Hello world!” when it executing the command inside of the function. However, because the return statement is missing, the variable “a” will not be set to any value.\n",
    "\n",
    "Note that when you call the function print_something, even though there is no parameter, you must include the parentheses (). Otherwise:\n"
   ]
  },
  {
   "cell_type": "code",
   "execution_count": null,
   "metadata": {},
   "outputs": [],
   "source": [
    "print_something()"
   ]
  },
  {
   "cell_type": "code",
   "execution_count": null,
   "metadata": {},
   "outputs": [],
   "source": [
    "print_something"
   ]
  },
  {
   "cell_type": "markdown",
   "metadata": {},
   "source": [
    "Python executes its code in the function line by line until it sees a return statement. So in the example below, nothing would be printed.\n"
   ]
  },
  {
   "cell_type": "code",
   "execution_count": null,
   "metadata": {},
   "outputs": [],
   "source": [
    "def return_and_print():\n",
    "    return 5\n",
    "    print(\"Hello world!\")\n",
    "\n",
    "return_and_print()\n"
   ]
  },
  {
   "cell_type": "markdown",
   "metadata": {},
   "source": [
    "Because the function ends when you return 5, when you call this function, nothing will be printed. \n"
   ]
  },
  {
   "cell_type": "markdown",
   "metadata": {},
   "source": [
    "You can also define a function that calls another function:\n"
   ]
  },
  {
   "cell_type": "code",
   "execution_count": null,
   "metadata": {},
   "outputs": [],
   "source": [
    "def add_one(x):\n",
    "    return x + 1\n",
    "def add_two(x):\n",
    "    return add_one(add_one(x))"
   ]
  },
  {
   "cell_type": "markdown",
   "metadata": {},
   "source": [
    "Scopes:\n",
    "    Variables defined inside a function cannot be accessed outside of the function. Think of the function as a black box. Once you used the function to perform certain calculations and have an output, you have no idea what is still inside of that black box.\n"
   ]
  },
  {
   "cell_type": "code",
   "execution_count": null,
   "metadata": {},
   "outputs": [],
   "source": [
    "def func(x):\n",
    "    a = 10\n",
    "    return x + a\n"
   ]
  },
  {
   "cell_type": "code",
   "execution_count": null,
   "metadata": {},
   "outputs": [],
   "source": [
    "func(5)"
   ]
  },
  {
   "cell_type": "markdown",
   "metadata": {},
   "source": [
    "# Practice problems"
   ]
  },
  {
   "cell_type": "markdown",
   "metadata": {},
   "source": [
    "1. Write a function 'max_of_two' that returns the maximum of two numbers."
   ]
  },
  {
   "cell_type": "code",
   "execution_count": null,
   "metadata": {},
   "outputs": [],
   "source": []
  },
  {
   "cell_type": "markdown",
   "metadata": {},
   "source": [
    "    How many arguments should your function take?\n",
    "    Does your function work for ints or floats or both?\n"
   ]
  },
  {
   "cell_type": "code",
   "execution_count": null,
   "metadata": {},
   "outputs": [],
   "source": []
  },
  {
   "cell_type": "markdown",
   "metadata": {},
   "source": [
    "2. Write a function multiples_of_five that returns an array of all the numbers between 0 and the input value ( inclusive) that are multiples of five. You can assume that the input is an integer greater than 5."
   ]
  },
  {
   "cell_type": "code",
   "execution_count": null,
   "metadata": {},
   "outputs": [],
   "source": []
  },
  {
   "cell_type": "markdown",
   "metadata": {},
   "source": [
    "3. Think about why the following function definitions and calls will produce errors, and how to fix them.\n"
   ]
  },
  {
   "cell_type": "code",
   "execution_count": null,
   "metadata": {},
   "outputs": [],
   "source": [
    "def add_two:\n",
    "    x = x + 2\n",
    "    return x\n",
    "add_two(2)"
   ]
  },
  {
   "cell_type": "code",
   "execution_count": null,
   "metadata": {},
   "outputs": [],
   "source": [
    "def multiply(a, b):\n",
    "    a * b\n",
    "a = 3\n",
    "b = 5\n",
    "product = multiply(a, b)\n",
    "#does product equals to 15?"
   ]
  },
  {
   "cell_type": "code",
   "execution_count": null,
   "metadata": {},
   "outputs": [],
   "source": [
    "def first_item(a):\n",
    "    return a[0]\n",
    "first_item(1, 2, 3, 4, 5)"
   ]
  },
  {
   "cell_type": "code",
   "execution_count": null,
   "metadata": {},
   "outputs": [],
   "source": [
    "def find_sum(a, b):\n",
    "    return a+b\n",
    "def find_product(c, d):\n",
    "    return c*d\n",
    "find_sum(find_product(3, 4))"
   ]
  },
  {
   "cell_type": "markdown",
   "metadata": {},
   "source": [
    "4. What do the following functions do? Does the code produce an error, and if so, what is the problem? "
   ]
  },
  {
   "cell_type": "markdown",
   "metadata": {},
   "source": [
    "(I recommmend you to think first before running these cells)"
   ]
  },
  {
   "cell_type": "code",
   "execution_count": null,
   "metadata": {},
   "outputs": [],
   "source": [
    "x = 5\n",
    "def f():\n",
    "    print (x)\n",
    "f()\n"
   ]
  },
  {
   "cell_type": "code",
   "execution_count": null,
   "metadata": {},
   "outputs": [],
   "source": [
    "x = 10\n",
    "def f(x):\n",
    "    print (x)\n",
    "f(8)\n"
   ]
  },
  {
   "cell_type": "code",
   "execution_count": null,
   "metadata": {},
   "outputs": [],
   "source": [
    "x = 5\n",
    "def f():\n",
    "    x = 3\n",
    "    print (x)\n",
    "f()"
   ]
  },
  {
   "cell_type": "code",
   "execution_count": null,
   "metadata": {},
   "outputs": [],
   "source": [
    "x = 10\n",
    "def f(x):\n",
    "    x = x + 1\n",
    "    print (x)\n",
    "f(x)"
   ]
  },
  {
   "cell_type": "code",
   "execution_count": null,
   "metadata": {},
   "outputs": [],
   "source": [
    "x = 5\n",
    "def f():\n",
    "    x = x + 1\n",
    "    print (x)\n",
    "f()"
   ]
  },
  {
   "cell_type": "markdown",
   "metadata": {},
   "source": [
    "5. Write a function grade_report that takes a student’s name and three integers for their exam scores. The function doesn’t return anything and should print a grade report in the format shown in the examples below:\n",
    "\n",
    "“Student name: John; Midterm 1 grade: 85; Midterm 2 grade: 92; Midterm 3 grade: 79; The rounded average is 86.”\n",
    "\n",
    "“Student name: Mary; Midterm 1 grade: 90; Midterm 2 grade: 80; Midterm 3 grade: 89; The rounded average is 88.”\n"
   ]
  },
  {
   "cell_type": "code",
   "execution_count": null,
   "metadata": {},
   "outputs": [],
   "source": []
  },
  {
   "cell_type": "markdown",
   "metadata": {},
   "source": [
    "6. Write a function stats_report that takes an integer array and returns a string in the format shown in the example below: (you may look up how to use numpy to find standard deviation)\n",
    "\n",
    "\\>>> a = make_array(1, 2, 3, 4, 5, 6, 7)\n",
    "\n",
    "\\>>> report = stats_report(a)\n",
    "\n",
    "\\>>> print(report)\n",
    "\n",
    "The average of this dataset is 4, the median is 4, the range is 6, and the standard deviation is 2.0\n"
   ]
  },
  {
   "cell_type": "code",
   "execution_count": null,
   "metadata": {},
   "outputs": [],
   "source": []
  },
  {
   "cell_type": "markdown",
   "metadata": {},
   "source": [
    "7. Given an integer array and, optionally, a value n, write a function that returns the n-th largest value in the array. If no value n is given, return the largest value in the array.\n",
    "The function np.sort will be useful here. It takes as input an array and returns the array in ascending order. (Assume that the array does not havve repeated value)\n"
   ]
  },
  {
   "cell_type": "code",
   "execution_count": null,
   "metadata": {},
   "outputs": [],
   "source": []
  },
  {
   "cell_type": "markdown",
   "metadata": {},
   "source": [
    "8. Given that the side length of the square below is n, write a function to calculate the area of the square and write another function to calculate the area of the circle with input n.\n"
   ]
  },
  {
   "cell_type": "markdown",
   "metadata": {},
   "source": [
    "<img src=\"circle.jpg\"/>"
   ]
  },
  {
   "cell_type": "code",
   "execution_count": null,
   "metadata": {},
   "outputs": [],
   "source": []
  }
 ],
 "metadata": {
  "kernelspec": {
   "display_name": "Python 3",
   "language": "python",
   "name": "python3"
  },
  "language_info": {
   "codemirror_mode": {
    "name": "ipython",
    "version": 3
   },
   "file_extension": ".py",
   "mimetype": "text/x-python",
   "name": "python",
   "nbconvert_exporter": "python",
   "pygments_lexer": "ipython3",
   "version": "3.7.3"
  }
 },
 "nbformat": 4,
 "nbformat_minor": 2
}
