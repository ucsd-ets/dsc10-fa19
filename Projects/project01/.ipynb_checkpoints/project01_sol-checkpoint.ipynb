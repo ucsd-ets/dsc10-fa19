{
 "cells": [
  {
   "cell_type": "markdown",
   "metadata": {},
   "source": [
    "# Project 1: Music and Spotify - Due Monday, November 4th, 2019 at 11:59PM"
   ]
  },
  {
   "cell_type": "code",
   "execution_count": 10,
   "metadata": {
    "scrolled": true
   },
   "outputs": [
    {
     "name": "stdout",
     "output_type": "stream",
     "text": [
      "=====================================================================\n",
      "Assignment: Project 1: Music and Spotify\n",
      "OK, version v1.13.9\n",
      "=====================================================================\n",
      "\n",
      "\n",
      "Open the following URL:\n",
      "\n",
      "https://okpy.org/client/login/\n",
      "\n",
      "After logging in, copy the code from the web page and paste it into the box.\n",
      "Then press the \"Enter\" key on your keyboard.\n",
      "\n",
      "Paste your code here: 94gDSQhku7ZCocLqvQtsALZEzHxlvJ\n",
      "Successfully logged in as jlobue@ucsd.edu\n"
     ]
    }
   ],
   "source": [
    "# Don't change this cell. These are all your imports necessary for this project.\n",
    "from datascience import *\n",
    "import numpy as np\n",
    "import matplotlib.pyplot as plots\n",
    "%matplotlib inline\n",
    "plots.style.use('fivethirtyeight')\n",
    "import warnings\n",
    "warnings.filterwarnings(\"ignore\", category = FutureWarning)\n",
    "\n",
    "from client.api.notebook import Notebook\n",
    "ok = Notebook('project01_sol.ok')\n",
    "_ = ok.auth(inline=True,force=True)"
   ]
  },
  {
   "cell_type": "markdown",
   "metadata": {},
   "source": [
    "## Announcements\n",
    "\n",
    "This assignment is due **Monday, Nov 4 at 11:59pm**. \n",
    "\n",
    "Directly sharing answers is not okay, but discussing problems with the course staff or with other students is encouraged. \n",
    "\n",
    "The project is more challenging than the homeworks. You are encouraged to find a partner and use pair programming.\n",
    "\n",
    "Definitely start early so that you have time to get help if you're stuck. A calendar with lab hour times and locations appears on [https://www.dsc10.com/calendar](https://www.dsc10.com/calendar)."
   ]
  },
  {
   "cell_type": "markdown",
   "metadata": {},
   "source": [
    "## Part 1: Introduction"
   ]
  },
  {
   "cell_type": "markdown",
   "metadata": {},
   "source": [
    "[Spotify](https://www.spotify.com/us/) is a large digital music service that allows users to access its vast library of music. The data we are working with comes from the Spotify API, an interface for working with data from Spotify. \n",
    "\n",
    "Run the cell below to load this data into `tracks`."
   ]
  },
  {
   "cell_type": "code",
   "execution_count": 11,
   "metadata": {
    "scrolled": false
   },
   "outputs": [
    {
     "data": {
      "text/html": [
       "<table border=\"1\" class=\"dataframe\">\n",
       "    <thead>\n",
       "        <tr>\n",
       "            <th>artist_name</th> <th>track_name</th> <th>key</th> <th>popularity</th> <th>acousticness</th> <th>danceability</th> <th>energy</th> <th>valence</th> <th>tempo</th> <th>duration_ms</th>\n",
       "        </tr>\n",
       "    </thead>\n",
       "    <tbody>\n",
       "        <tr>\n",
       "            <td>Henri Salvador     </td> <td>C'est beau de faire un Show                                 </td> <td>C#  </td> <td>0         </td> <td>0.611       </td> <td>0.389       </td> <td>0.91  </td> <td>0.814  </td> <td>166.969</td> <td>99373      </td>\n",
       "        </tr>\n",
       "        <tr>\n",
       "            <td>Martin & les fées  </td> <td>Perdu d'avance (par Gad Elmaleh)                            </td> <td>F#  </td> <td>1         </td> <td>0.246       </td> <td>0.59        </td> <td>0.737 </td> <td>0.816  </td> <td>174.003</td> <td>137373     </td>\n",
       "        </tr>\n",
       "        <tr>\n",
       "            <td>Joseph Williams    </td> <td>Don't Let Me Be Lonely Tonight                              </td> <td>C   </td> <td>3         </td> <td>0.952       </td> <td>0.663       </td> <td>0.131 </td> <td>0.368  </td> <td>99.488 </td> <td>170267     </td>\n",
       "        </tr>\n",
       "        <tr>\n",
       "            <td>Henri Salvador     </td> <td>Dis-moi Monsieur Gordon Cooper                              </td> <td>C#  </td> <td>0         </td> <td>0.703       </td> <td>0.24        </td> <td>0.326 </td> <td>0.227  </td> <td>171.758</td> <td>152427     </td>\n",
       "        </tr>\n",
       "        <tr>\n",
       "            <td>Fabien Nataf       </td> <td>Ouverture                                                   </td> <td>F   </td> <td>4         </td> <td>0.95        </td> <td>0.331       </td> <td>0.225 </td> <td>0.39   </td> <td>140.576</td> <td>82625      </td>\n",
       "        </tr>\n",
       "        <tr>\n",
       "            <td>Henri Salvador     </td> <td>Le petit souper aux chandelles                              </td> <td>C#  </td> <td>0         </td> <td>0.749       </td> <td>0.578       </td> <td>0.0948</td> <td>0.358  </td> <td>87.479 </td> <td>160627     </td>\n",
       "        </tr>\n",
       "        <tr>\n",
       "            <td>Martin & les fées  </td> <td>Premières recherches (par Paul Ventimila, Lorie Pester,  ...</td> <td>C#  </td> <td>2         </td> <td>0.344       </td> <td>0.703       </td> <td>0.27  </td> <td>0.533  </td> <td>82.873 </td> <td>212293     </td>\n",
       "        </tr>\n",
       "        <tr>\n",
       "            <td>Laura Mayne        </td> <td>Let Me Let Go                                               </td> <td>F#  </td> <td>15        </td> <td>0.939       </td> <td>0.416       </td> <td>0.269 </td> <td>0.274  </td> <td>96.827 </td> <td>240067     </td>\n",
       "        </tr>\n",
       "        <tr>\n",
       "            <td>Chorus             </td> <td>Helka                                                       </td> <td>C   </td> <td>0         </td> <td>0.00104     </td> <td>0.734       </td> <td>0.481 </td> <td>0.765  </td> <td>125.08 </td> <td>226200     </td>\n",
       "        </tr>\n",
       "        <tr>\n",
       "            <td>Le Club des Juniors</td> <td>Les bisous des bisounours                                   </td> <td>G   </td> <td>10        </td> <td>0.319       </td> <td>0.598       </td> <td>0.705 </td> <td>0.718  </td> <td>137.496</td> <td>152694     </td>\n",
       "        </tr>\n",
       "    </tbody>\n",
       "</table>\n",
       "<p>... (176504 rows omitted)</p>"
      ],
      "text/plain": [
       "artist_name         | track_name                                                   | key  | popularity | acousticness | danceability | energy | valence | tempo   | duration_ms\n",
       "Henri Salvador      | C'est beau de faire un Show                                  | C#   | 0          | 0.611        | 0.389        | 0.91   | 0.814   | 166.969 | 99373\n",
       "Martin & les fées   | Perdu d'avance (par Gad Elmaleh)                             | F#   | 1          | 0.246        | 0.59         | 0.737  | 0.816   | 174.003 | 137373\n",
       "Joseph Williams     | Don't Let Me Be Lonely Tonight                               | C    | 3          | 0.952        | 0.663        | 0.131  | 0.368   | 99.488  | 170267\n",
       "Henri Salvador      | Dis-moi Monsieur Gordon Cooper                               | C#   | 0          | 0.703        | 0.24         | 0.326  | 0.227   | 171.758 | 152427\n",
       "Fabien Nataf        | Ouverture                                                    | F    | 4          | 0.95         | 0.331        | 0.225  | 0.39    | 140.576 | 82625\n",
       "Henri Salvador      | Le petit souper aux chandelles                               | C#   | 0          | 0.749        | 0.578        | 0.0948 | 0.358   | 87.479  | 160627\n",
       "Martin & les fées   | Premières recherches (par Paul Ventimila, Lorie Pester,  ... | C#   | 2          | 0.344        | 0.703        | 0.27   | 0.533   | 82.873  | 212293\n",
       "Laura Mayne         | Let Me Let Go                                                | F#   | 15         | 0.939        | 0.416        | 0.269  | 0.274   | 96.827  | 240067\n",
       "Chorus              | Helka                                                        | C    | 0          | 0.00104      | 0.734        | 0.481  | 0.765   | 125.08  | 226200\n",
       "Le Club des Juniors | Les bisous des bisounours                                    | G    | 10         | 0.319        | 0.598        | 0.705  | 0.718   | 137.496 | 152694\n",
       "... (176504 rows omitted)"
      ]
     },
     "execution_count": 11,
     "metadata": {},
     "output_type": "execute_result"
    }
   ],
   "source": [
    "tracks = Table.read_table('spotify.csv')\n",
    "tracks"
   ]
  },
  {
   "cell_type": "markdown",
   "metadata": {},
   "source": [
    "This data set is from [Kaggle](https://www.kaggle.com/zaheenhamidani/ultimate-spotify-tracks-db), originally from the Spotify API. The data has been cleaned and slightly modified for the purposes of this project. The individuals in the table are songs (tracks) on Spotify, and the ten features recorded about each song are:\n",
    "\n",
    "1. `artist_name`: Name of the artist.\n",
    "2. `track_name`: Name of the track (song).\n",
    "3. `key`: Estimated key of the track.\n",
    "4. `popularity`: Describes the popularity of the song on a scale of 0-100.\n",
    "5. `acousticness`: Describes the confidence of how acoustic the song is, on a scale of 0-1.\n",
    "6. `danceability`: Describes how suitable a song is for dancing, on a scale of 0-1.\n",
    "7. `energy`: Measures the level of intensity and activity of a song, on a scale of 0-1.\n",
    "8. `valence`: Describes the overall positiveness or happiness of the track, on a scale of 0-1.\n",
    "9. `tempo`: Measures the overall number of beats per minute (BPM) of the track.\n",
    "10. `duration_ms`: Describes how long the song is in milliseconds (thousandths of a second).\n",
    "\n",
    "More information on the columns of the track can be found on the Spotify Developers API page [here](https://developer.spotify.com/documentation/web-api/reference/tracks/get-audio-features/). Let's familiarize ourselves with the intricacies of the data set and practice extracting information from the table.\n"
   ]
  },
  {
   "cell_type": "markdown",
   "metadata": {},
   "source": [
    "**Question 1.** First, let's make `duration_ms` more readable by changing the unit from milliseconds to minutes. Add a new column called `duration_min` that contains the duration of the track in minutes, without rounding, then delete the column `duration_ms`. Resave this new table as `tracks`."
   ]
  },
  {
   "cell_type": "markdown",
   "metadata": {},
   "source": [
    "tracks = ...\n",
    "tracks"
   ]
  },
  {
   "cell_type": "code",
   "execution_count": 12,
   "metadata": {},
   "outputs": [
    {
     "data": {
      "text/html": [
       "<table border=\"1\" class=\"dataframe\">\n",
       "    <thead>\n",
       "        <tr>\n",
       "            <th>artist_name</th> <th>track_name</th> <th>key</th> <th>popularity</th> <th>acousticness</th> <th>danceability</th> <th>energy</th> <th>valence</th> <th>tempo</th> <th>duration_min</th>\n",
       "        </tr>\n",
       "    </thead>\n",
       "    <tbody>\n",
       "        <tr>\n",
       "            <td>Henri Salvador     </td> <td>C'est beau de faire un Show                                 </td> <td>C#  </td> <td>0         </td> <td>0.611       </td> <td>0.389       </td> <td>0.91  </td> <td>0.814  </td> <td>166.969</td> <td>1.65622     </td>\n",
       "        </tr>\n",
       "        <tr>\n",
       "            <td>Martin & les fées  </td> <td>Perdu d'avance (par Gad Elmaleh)                            </td> <td>F#  </td> <td>1         </td> <td>0.246       </td> <td>0.59        </td> <td>0.737 </td> <td>0.816  </td> <td>174.003</td> <td>2.28955     </td>\n",
       "        </tr>\n",
       "        <tr>\n",
       "            <td>Joseph Williams    </td> <td>Don't Let Me Be Lonely Tonight                              </td> <td>C   </td> <td>3         </td> <td>0.952       </td> <td>0.663       </td> <td>0.131 </td> <td>0.368  </td> <td>99.488 </td> <td>2.83778     </td>\n",
       "        </tr>\n",
       "        <tr>\n",
       "            <td>Henri Salvador     </td> <td>Dis-moi Monsieur Gordon Cooper                              </td> <td>C#  </td> <td>0         </td> <td>0.703       </td> <td>0.24        </td> <td>0.326 </td> <td>0.227  </td> <td>171.758</td> <td>2.54045     </td>\n",
       "        </tr>\n",
       "        <tr>\n",
       "            <td>Fabien Nataf       </td> <td>Ouverture                                                   </td> <td>F   </td> <td>4         </td> <td>0.95        </td> <td>0.331       </td> <td>0.225 </td> <td>0.39   </td> <td>140.576</td> <td>1.37708     </td>\n",
       "        </tr>\n",
       "        <tr>\n",
       "            <td>Henri Salvador     </td> <td>Le petit souper aux chandelles                              </td> <td>C#  </td> <td>0         </td> <td>0.749       </td> <td>0.578       </td> <td>0.0948</td> <td>0.358  </td> <td>87.479 </td> <td>2.67712     </td>\n",
       "        </tr>\n",
       "        <tr>\n",
       "            <td>Martin & les fées  </td> <td>Premières recherches (par Paul Ventimila, Lorie Pester,  ...</td> <td>C#  </td> <td>2         </td> <td>0.344       </td> <td>0.703       </td> <td>0.27  </td> <td>0.533  </td> <td>82.873 </td> <td>3.53822     </td>\n",
       "        </tr>\n",
       "        <tr>\n",
       "            <td>Laura Mayne        </td> <td>Let Me Let Go                                               </td> <td>F#  </td> <td>15        </td> <td>0.939       </td> <td>0.416       </td> <td>0.269 </td> <td>0.274  </td> <td>96.827 </td> <td>4.00112     </td>\n",
       "        </tr>\n",
       "        <tr>\n",
       "            <td>Chorus             </td> <td>Helka                                                       </td> <td>C   </td> <td>0         </td> <td>0.00104     </td> <td>0.734       </td> <td>0.481 </td> <td>0.765  </td> <td>125.08 </td> <td>3.77        </td>\n",
       "        </tr>\n",
       "        <tr>\n",
       "            <td>Le Club des Juniors</td> <td>Les bisous des bisounours                                   </td> <td>G   </td> <td>10        </td> <td>0.319       </td> <td>0.598       </td> <td>0.705 </td> <td>0.718  </td> <td>137.496</td> <td>2.5449      </td>\n",
       "        </tr>\n",
       "    </tbody>\n",
       "</table>\n",
       "<p>... (176504 rows omitted)</p>"
      ],
      "text/plain": [
       "artist_name         | track_name                                                   | key  | popularity | acousticness | danceability | energy | valence | tempo   | duration_min\n",
       "Henri Salvador      | C'est beau de faire un Show                                  | C#   | 0          | 0.611        | 0.389        | 0.91   | 0.814   | 166.969 | 1.65622\n",
       "Martin & les fées   | Perdu d'avance (par Gad Elmaleh)                             | F#   | 1          | 0.246        | 0.59         | 0.737  | 0.816   | 174.003 | 2.28955\n",
       "Joseph Williams     | Don't Let Me Be Lonely Tonight                               | C    | 3          | 0.952        | 0.663        | 0.131  | 0.368   | 99.488  | 2.83778\n",
       "Henri Salvador      | Dis-moi Monsieur Gordon Cooper                               | C#   | 0          | 0.703        | 0.24         | 0.326  | 0.227   | 171.758 | 2.54045\n",
       "Fabien Nataf        | Ouverture                                                    | F    | 4          | 0.95         | 0.331        | 0.225  | 0.39    | 140.576 | 1.37708\n",
       "Henri Salvador      | Le petit souper aux chandelles                               | C#   | 0          | 0.749        | 0.578        | 0.0948 | 0.358   | 87.479  | 2.67712\n",
       "Martin & les fées   | Premières recherches (par Paul Ventimila, Lorie Pester,  ... | C#   | 2          | 0.344        | 0.703        | 0.27   | 0.533   | 82.873  | 3.53822\n",
       "Laura Mayne         | Let Me Let Go                                                | F#   | 15         | 0.939        | 0.416        | 0.269  | 0.274   | 96.827  | 4.00112\n",
       "Chorus              | Helka                                                        | C    | 0          | 0.00104      | 0.734        | 0.481  | 0.765   | 125.08  | 3.77\n",
       "Le Club des Juniors | Les bisous des bisounours                                    | G    | 10         | 0.319        | 0.598        | 0.705  | 0.718   | 137.496 | 2.5449\n",
       "... (176504 rows omitted)"
      ]
     },
     "execution_count": 12,
     "metadata": {},
     "output_type": "execute_result"
    }
   ],
   "source": [
    "minutes = (tracks.column('duration_ms')/1000)/60\n",
    "tracks = tracks.with_column('duration_min', minutes).drop('duration_ms')\n",
    "tracks"
   ]
  },
  {
   "cell_type": "code",
   "execution_count": 13,
   "metadata": {},
   "outputs": [
    {
     "data": {
      "text/plain": [
       "True"
      ]
     },
     "execution_count": 13,
     "metadata": {},
     "output_type": "execute_result"
    }
   ],
   "source": [
    "test = ['artist_name','track_name','key','popularity','acousticness','danceability','energy','valence','tempo','duration_min']\n",
    "labels = list(tracks.labels)\n",
    "np.array([True if i in labels else False for i in test]).all()"
   ]
  },
  {
   "cell_type": "code",
   "execution_count": 14,
   "metadata": {},
   "outputs": [
    {
     "name": "stdout",
     "output_type": "stream",
     "text": [
      "~~~~~~~~~~~~~~~~~~~~~~~~~~~~~~~~~~~~~~~~~~~~~~~~~~~~~~~~~~~~~~~~~~~~~\n",
      "Running tests\n",
      "\n",
      "---------------------------------------------------------------------\n",
      "Test summary\n",
      "    Passed: 1\n",
      "    Failed: 0\n",
      "[ooooooooook] 100.0% passed\n",
      "\n"
     ]
    }
   ],
   "source": [
    "_ = ok.grade('q1_1')"
   ]
  },
  {
   "cell_type": "markdown",
   "metadata": {},
   "source": [
    "**Question 2.** Find the length of the longest song in the data set in *minutes* and save it to `longest_duration`."
   ]
  },
  {
   "cell_type": "markdown",
   "metadata": {},
   "source": [
    "longest_duration = ...\n",
    "longest_duration"
   ]
  },
  {
   "cell_type": "code",
   "execution_count": 15,
   "metadata": {
    "scrolled": true
   },
   "outputs": [
    {
     "data": {
      "text/plain": [
       "92.54861666666667"
      ]
     },
     "execution_count": 15,
     "metadata": {},
     "output_type": "execute_result"
    }
   ],
   "source": [
    "longest_duration = tracks.column('duration_min').max()\n",
    "longest_duration"
   ]
  },
  {
   "cell_type": "code",
   "execution_count": 16,
   "metadata": {},
   "outputs": [
    {
     "name": "stdout",
     "output_type": "stream",
     "text": [
      "~~~~~~~~~~~~~~~~~~~~~~~~~~~~~~~~~~~~~~~~~~~~~~~~~~~~~~~~~~~~~~~~~~~~~\n",
      "Running tests\n",
      "\n",
      "---------------------------------------------------------------------\n",
      "Test summary\n",
      "    Passed: 1\n",
      "    Failed: 0\n",
      "[ooooooooook] 100.0% passed\n",
      "\n"
     ]
    }
   ],
   "source": [
    "_ = ok.grade('q1_2')"
   ]
  },
  {
   "cell_type": "markdown",
   "metadata": {},
   "source": [
    "**Question 3.** A [musical key](https://www.studybass.com/lessons/harmony/keys-in-music/) describes a certain set of pitches, and usually a song is played in a certain key. Create an array of all the unique keys in the data set. Label it as `unique_keys`."
   ]
  },
  {
   "cell_type": "markdown",
   "metadata": {},
   "source": [
    "unique_keys = ...\n",
    "unique_keys"
   ]
  },
  {
   "cell_type": "code",
   "execution_count": 17,
   "metadata": {},
   "outputs": [
    {
     "data": {
      "text/plain": [
       "array(['A', 'A#', 'B', 'C', 'C#', 'D', 'D#', 'E', 'F', 'F#', 'G', 'G#'],\n",
       "      dtype='<U2')"
      ]
     },
     "execution_count": 17,
     "metadata": {},
     "output_type": "execute_result"
    }
   ],
   "source": [
    "unique_keys = np.unique(tracks.column('key'))\n",
    "unique_keys"
   ]
  },
  {
   "cell_type": "code",
   "execution_count": 18,
   "metadata": {},
   "outputs": [
    {
     "name": "stdout",
     "output_type": "stream",
     "text": [
      "~~~~~~~~~~~~~~~~~~~~~~~~~~~~~~~~~~~~~~~~~~~~~~~~~~~~~~~~~~~~~~~~~~~~~\n",
      "Running tests\n",
      "\n",
      "---------------------------------------------------------------------\n",
      "Test summary\n",
      "    Passed: 1\n",
      "    Failed: 0\n",
      "[ooooooooook] 100.0% passed\n",
      "\n"
     ]
    }
   ],
   "source": [
    "_ = ok.grade('q1_3')"
   ]
  },
  {
   "cell_type": "markdown",
   "metadata": {},
   "source": [
    "**Question 4.** Make a visualization that allows you to easily compare the amount of times a unique key is used among the songs in the Spotify data set."
   ]
  },
  {
   "cell_type": "code",
   "execution_count": null,
   "metadata": {},
   "outputs": [],
   "source": []
  },
  {
   "cell_type": "code",
   "execution_count": 19,
   "metadata": {},
   "outputs": [
    {
     "data": {
      "image/png": "[encoded data removed]",
      "text/plain": [
       "<Figure size 432x432 with 1 Axes>"
      ]
     },
     "metadata": {},
     "output_type": "display_data"
    }
   ],
   "source": [
    "tracks.group('key').sort('count', True).barh('key')"
   ]
  },
  {
   "cell_type": "markdown",
   "metadata": {},
   "source": [
    "**Question 5.** Lets say you're a big fan of keys with sharp in it (i.e. tracks that have a # in `key`), and have somehow managed to listen to every track with a sharp key above 60 popularity. Find how many total tracks fit this criteria, and save it as `popular_sharp_tracks`."
   ]
  },
  {
   "cell_type": "markdown",
   "metadata": {},
   "source": [
    "popular_sharp_tracks = ...\n",
    "popular_sharp_tracks"
   ]
  },
  {
   "cell_type": "code",
   "execution_count": 20,
   "metadata": {},
   "outputs": [
    {
     "data": {
      "text/plain": [
       "4956"
      ]
     },
     "execution_count": 20,
     "metadata": {},
     "output_type": "execute_result"
    }
   ],
   "source": [
    "popular_sharp_tracks = tracks.where('popularity', are.above(60)).where('key', are.containing('#')).num_rows\n",
    "popular_sharp_tracks"
   ]
  },
  {
   "cell_type": "code",
   "execution_count": 21,
   "metadata": {},
   "outputs": [
    {
     "name": "stdout",
     "output_type": "stream",
     "text": [
      "~~~~~~~~~~~~~~~~~~~~~~~~~~~~~~~~~~~~~~~~~~~~~~~~~~~~~~~~~~~~~~~~~~~~~\n",
      "Running tests\n",
      "\n",
      "---------------------------------------------------------------------\n",
      "Test summary\n",
      "    Passed: 1\n",
      "    Failed: 0\n",
      "[ooooooooook] 100.0% passed\n",
      "\n"
     ]
    }
   ],
   "source": [
    "_ = ok.grade('q1_5')"
   ]
  },
  {
   "cell_type": "markdown",
   "metadata": {},
   "source": [
    "**Question 6.** The `tempo` of a song meaures the number of beats per minute of the song, which generally describes how slow or fast a song is. From the table `tracks`, find the name of the song with the greatest *number* of total beats. Save the answer into `most_beats`."
   ]
  },
  {
   "cell_type": "markdown",
   "metadata": {},
   "source": [
    "most_beats = ...\n",
    "most_beats"
   ]
  },
  {
   "cell_type": "code",
   "execution_count": 22,
   "metadata": {},
   "outputs": [
    {
     "data": {
      "text/plain": [
       "'Lost Lands 2017 Mix'"
      ]
     },
     "execution_count": 22,
     "metadata": {},
     "output_type": "execute_result"
    }
   ],
   "source": [
    "beat_total = tracks.column('duration_min') * tracks.column('tempo')\n",
    "most_beats = tracks.with_column('beats', beat_total).sort('beats', descending = True).column('track_name').item(0)\n",
    "most_beats"
   ]
  },
  {
   "cell_type": "code",
   "execution_count": 23,
   "metadata": {},
   "outputs": [
    {
     "name": "stdout",
     "output_type": "stream",
     "text": [
      "~~~~~~~~~~~~~~~~~~~~~~~~~~~~~~~~~~~~~~~~~~~~~~~~~~~~~~~~~~~~~~~~~~~~~\n",
      "Running tests\n",
      "\n",
      "---------------------------------------------------------------------\n",
      "Test summary\n",
      "    Passed: 1\n",
      "    Failed: 0\n",
      "[ooooooooook] 100.0% passed\n",
      "\n"
     ]
    }
   ],
   "source": [
    "_ = ok.grade('q1_6')"
   ]
  },
  {
   "cell_type": "markdown",
   "metadata": {},
   "source": [
    "**Question 7.** Some artists consistently produce hit songs, and other artists produce one-hit-wonders. Create a table named `popular_table`with two columns: `artist_name` and `proportion_top_songs`, in which `proportion_top_songs` describes the proportion of songs from the artist that are above 90 popularity.\n",
    "\n",
    "*Note*: Artists with no songs above 90 popularity should not be included in the table."
   ]
  },
  {
   "cell_type": "markdown",
   "metadata": {},
   "source": [
    "popular_table = ...\n",
    "popular_table"
   ]
  },
  {
   "cell_type": "code",
   "execution_count": 24,
   "metadata": {},
   "outputs": [
    {
     "data": {
      "text/html": [
       "<table border=\"1\" class=\"dataframe\">\n",
       "    <thead>\n",
       "        <tr>\n",
       "            <th>artist_name</th> <th>count</th>\n",
       "        </tr>\n",
       "    </thead>\n",
       "    <tbody>\n",
       "        <tr>\n",
       "            <td>21 Savage             </td> <td>1    </td>\n",
       "        </tr>\n",
       "        <tr>\n",
       "            <td>A Boogie Wit da Hoodie</td> <td>2    </td>\n",
       "        </tr>\n",
       "    </tbody>\n",
       "</table>\n",
       "<p>... (39 rows omitted)</p>"
      ],
      "text/plain": [
       "<IPython.core.display.HTML object>"
      ]
     },
     "metadata": {},
     "output_type": "display_data"
    }
   ],
   "source": [
    "most_popular = tracks.where('popularity', are.above(90)).group('artist_name')\n",
    "most_popular.show(2)"
   ]
  },
  {
   "cell_type": "code",
   "execution_count": 25,
   "metadata": {},
   "outputs": [
    {
     "data": {
      "text/html": [
       "<table border=\"1\" class=\"dataframe\">\n",
       "    <thead>\n",
       "        <tr>\n",
       "            <th>artist_name</th> <th>count</th> <th>count_2</th>\n",
       "        </tr>\n",
       "    </thead>\n",
       "    <tbody>\n",
       "        <tr>\n",
       "            <td>21 Savage             </td> <td>45   </td> <td>1      </td>\n",
       "        </tr>\n",
       "        <tr>\n",
       "            <td>A Boogie Wit da Hoodie</td> <td>60   </td> <td>2      </td>\n",
       "        </tr>\n",
       "    </tbody>\n",
       "</table>\n",
       "<p>... (39 rows omitted)</p>"
      ],
      "text/plain": [
       "<IPython.core.display.HTML object>"
      ]
     },
     "metadata": {},
     "output_type": "display_data"
    }
   ],
   "source": [
    "total_table = tracks.group('artist_name').join('artist_name', most_popular, 'artist_name')\n",
    "total_table.show(2)"
   ]
  },
  {
   "cell_type": "code",
   "execution_count": 26,
   "metadata": {
    "scrolled": true
   },
   "outputs": [
    {
     "data": {
      "text/html": [
       "<table border=\"1\" class=\"dataframe\">\n",
       "    <thead>\n",
       "        <tr>\n",
       "            <th>artist_name</th> <th>proportion_top_songs</th>\n",
       "        </tr>\n",
       "    </thead>\n",
       "    <tbody>\n",
       "        <tr>\n",
       "            <td>21 Savage             </td> <td>0.0222222           </td>\n",
       "        </tr>\n",
       "        <tr>\n",
       "            <td>A Boogie Wit da Hoodie</td> <td>0.0333333           </td>\n",
       "        </tr>\n",
       "    </tbody>\n",
       "</table>\n",
       "<p>... (39 rows omitted)</p>"
      ],
      "text/plain": [
       "<IPython.core.display.HTML object>"
      ]
     },
     "metadata": {},
     "output_type": "display_data"
    }
   ],
   "source": [
    "popular_table = total_table.with_column('proportion_top_songs', total_table.column('count_2')/total_table.column('count')\n",
    "                                       ).drop(['count', 'count_2'])\n",
    "popular_table.show(2)"
   ]
  },
  {
   "cell_type": "code",
   "execution_count": 27,
   "metadata": {},
   "outputs": [
    {
     "name": "stdout",
     "output_type": "stream",
     "text": [
      "~~~~~~~~~~~~~~~~~~~~~~~~~~~~~~~~~~~~~~~~~~~~~~~~~~~~~~~~~~~~~~~~~~~~~\n",
      "Running tests\n",
      "\n",
      "---------------------------------------------------------------------\n",
      "Test summary\n",
      "    Passed: 1\n",
      "    Failed: 0\n",
      "[ooooooooook] 100.0% passed\n",
      "\n"
     ]
    }
   ],
   "source": [
    "_ = ok.grade('q1_7')"
   ]
  },
  {
   "cell_type": "markdown",
   "metadata": {},
   "source": [
    "## Part 2: Tempo Markings"
   ]
  },
  {
   "cell_type": "markdown",
   "metadata": {},
   "source": [
    "In music, there are Italian words that describe the tempo, or pacing of the song. In this part, we want to analyze the relationship between a song's tempo and it's other characteristics: acousticness, danceability, and valence. But before we do that, we want to convert the tempo of the song into its respective description. These descriptions are approximations of what tempo adheres to its respective Italian tempo marking.\n",
    "\n",
    "- Lento - [0, 60) bpm\n",
    "- Adagio - [60, 90) bpm\n",
    "- Adante - [90, 110) bpm\n",
    "- Moderato - [110, 120) bpm\n",
    "- Allegro - [120, 160) bpm\n",
    "- Vivace - [160, 180) bpm\n",
    "- Presto - 180+ bpm\n",
    "\n"
   ]
  },
  {
   "cell_type": "markdown",
   "metadata": {},
   "source": [
    "**Question 1.** Create a new column in the table `tracks` called `tempo_name` that contains the Italian tempo name for the song."
   ]
  },
  {
   "cell_type": "markdown",
   "metadata": {},
   "source": [
    "tracks = ...\n",
    "tracks"
   ]
  },
  {
   "cell_type": "code",
   "execution_count": 28,
   "metadata": {
    "scrolled": false
   },
   "outputs": [
    {
     "data": {
      "text/html": [
       "<table border=\"1\" class=\"dataframe\">\n",
       "    <thead>\n",
       "        <tr>\n",
       "            <th>artist_name</th> <th>track_name</th> <th>key</th> <th>popularity</th> <th>acousticness</th> <th>danceability</th> <th>energy</th> <th>valence</th> <th>tempo</th> <th>duration_min</th> <th>tempo_name</th>\n",
       "        </tr>\n",
       "    </thead>\n",
       "    <tbody>\n",
       "        <tr>\n",
       "            <td>Henri Salvador     </td> <td>C'est beau de faire un Show                                 </td> <td>C#  </td> <td>0         </td> <td>0.611       </td> <td>0.389       </td> <td>0.91  </td> <td>0.814  </td> <td>166.969</td> <td>1.65622     </td> <td>Vivace    </td>\n",
       "        </tr>\n",
       "        <tr>\n",
       "            <td>Martin & les fées  </td> <td>Perdu d'avance (par Gad Elmaleh)                            </td> <td>F#  </td> <td>1         </td> <td>0.246       </td> <td>0.59        </td> <td>0.737 </td> <td>0.816  </td> <td>174.003</td> <td>2.28955     </td> <td>Vivace    </td>\n",
       "        </tr>\n",
       "        <tr>\n",
       "            <td>Joseph Williams    </td> <td>Don't Let Me Be Lonely Tonight                              </td> <td>C   </td> <td>3         </td> <td>0.952       </td> <td>0.663       </td> <td>0.131 </td> <td>0.368  </td> <td>99.488 </td> <td>2.83778     </td> <td>Adante    </td>\n",
       "        </tr>\n",
       "        <tr>\n",
       "            <td>Henri Salvador     </td> <td>Dis-moi Monsieur Gordon Cooper                              </td> <td>C#  </td> <td>0         </td> <td>0.703       </td> <td>0.24        </td> <td>0.326 </td> <td>0.227  </td> <td>171.758</td> <td>2.54045     </td> <td>Vivace    </td>\n",
       "        </tr>\n",
       "        <tr>\n",
       "            <td>Fabien Nataf       </td> <td>Ouverture                                                   </td> <td>F   </td> <td>4         </td> <td>0.95        </td> <td>0.331       </td> <td>0.225 </td> <td>0.39   </td> <td>140.576</td> <td>1.37708     </td> <td>Allegro   </td>\n",
       "        </tr>\n",
       "        <tr>\n",
       "            <td>Henri Salvador     </td> <td>Le petit souper aux chandelles                              </td> <td>C#  </td> <td>0         </td> <td>0.749       </td> <td>0.578       </td> <td>0.0948</td> <td>0.358  </td> <td>87.479 </td> <td>2.67712     </td> <td>Adagio    </td>\n",
       "        </tr>\n",
       "        <tr>\n",
       "            <td>Martin & les fées  </td> <td>Premières recherches (par Paul Ventimila, Lorie Pester,  ...</td> <td>C#  </td> <td>2         </td> <td>0.344       </td> <td>0.703       </td> <td>0.27  </td> <td>0.533  </td> <td>82.873 </td> <td>3.53822     </td> <td>Adagio    </td>\n",
       "        </tr>\n",
       "        <tr>\n",
       "            <td>Laura Mayne        </td> <td>Let Me Let Go                                               </td> <td>F#  </td> <td>15        </td> <td>0.939       </td> <td>0.416       </td> <td>0.269 </td> <td>0.274  </td> <td>96.827 </td> <td>4.00112     </td> <td>Adante    </td>\n",
       "        </tr>\n",
       "        <tr>\n",
       "            <td>Chorus             </td> <td>Helka                                                       </td> <td>C   </td> <td>0         </td> <td>0.00104     </td> <td>0.734       </td> <td>0.481 </td> <td>0.765  </td> <td>125.08 </td> <td>3.77        </td> <td>Allegro   </td>\n",
       "        </tr>\n",
       "        <tr>\n",
       "            <td>Le Club des Juniors</td> <td>Les bisous des bisounours                                   </td> <td>G   </td> <td>10        </td> <td>0.319       </td> <td>0.598       </td> <td>0.705 </td> <td>0.718  </td> <td>137.496</td> <td>2.5449      </td> <td>Allegro   </td>\n",
       "        </tr>\n",
       "    </tbody>\n",
       "</table>\n",
       "<p>... (176504 rows omitted)</p>"
      ],
      "text/plain": [
       "artist_name         | track_name                                                   | key  | popularity | acousticness | danceability | energy | valence | tempo   | duration_min | tempo_name\n",
       "Henri Salvador      | C'est beau de faire un Show                                  | C#   | 0          | 0.611        | 0.389        | 0.91   | 0.814   | 166.969 | 1.65622      | Vivace\n",
       "Martin & les fées   | Perdu d'avance (par Gad Elmaleh)                             | F#   | 1          | 0.246        | 0.59         | 0.737  | 0.816   | 174.003 | 2.28955      | Vivace\n",
       "Joseph Williams     | Don't Let Me Be Lonely Tonight                               | C    | 3          | 0.952        | 0.663        | 0.131  | 0.368   | 99.488  | 2.83778      | Adante\n",
       "Henri Salvador      | Dis-moi Monsieur Gordon Cooper                               | C#   | 0          | 0.703        | 0.24         | 0.326  | 0.227   | 171.758 | 2.54045      | Vivace\n",
       "Fabien Nataf        | Ouverture                                                    | F    | 4          | 0.95         | 0.331        | 0.225  | 0.39    | 140.576 | 1.37708      | Allegro\n",
       "Henri Salvador      | Le petit souper aux chandelles                               | C#   | 0          | 0.749        | 0.578        | 0.0948 | 0.358   | 87.479  | 2.67712      | Adagio\n",
       "Martin & les fées   | Premières recherches (par Paul Ventimila, Lorie Pester,  ... | C#   | 2          | 0.344        | 0.703        | 0.27   | 0.533   | 82.873  | 3.53822      | Adagio\n",
       "Laura Mayne         | Let Me Let Go                                                | F#   | 15         | 0.939        | 0.416        | 0.269  | 0.274   | 96.827  | 4.00112      | Adante\n",
       "Chorus              | Helka                                                        | C    | 0          | 0.00104      | 0.734        | 0.481  | 0.765   | 125.08  | 3.77         | Allegro\n",
       "Le Club des Juniors | Les bisous des bisounours                                    | G    | 10         | 0.319        | 0.598        | 0.705  | 0.718   | 137.496 | 2.5449       | Allegro\n",
       "... (176504 rows omitted)"
      ]
     },
     "execution_count": 28,
     "metadata": {},
     "output_type": "execute_result"
    }
   ],
   "source": [
    "def tempo_marking(data):\n",
    "    if data < 60:\n",
    "        return \"Lento\"\n",
    "    elif data < 90:\n",
    "        return \"Adagio\"\n",
    "    elif data < 110:\n",
    "        return \"Adante\"\n",
    "    elif data < 120:\n",
    "        return \"Moderato\"\n",
    "    elif data < 160:\n",
    "        return \"Allegro\"\n",
    "    elif data < 180:\n",
    "        return \"Vivace\"\n",
    "    else:\n",
    "        return \"Presto\"\n",
    "    \n",
    "tempo = tracks.apply(tempo_marking, 'tempo')\n",
    "tracks = tracks.with_column('tempo_name', tempo)\n",
    "tracks"
   ]
  },
  {
   "cell_type": "code",
   "execution_count": 29,
   "metadata": {},
   "outputs": [
    {
     "name": "stdout",
     "output_type": "stream",
     "text": [
      "~~~~~~~~~~~~~~~~~~~~~~~~~~~~~~~~~~~~~~~~~~~~~~~~~~~~~~~~~~~~~~~~~~~~~\n",
      "Running tests\n",
      "\n",
      "---------------------------------------------------------------------\n",
      "Test summary\n",
      "    Passed: 1\n",
      "    Failed: 0\n",
      "[ooooooooook] 100.0% passed\n",
      "\n"
     ]
    }
   ],
   "source": [
    "_ = ok.grade('q2_1')"
   ]
  },
  {
   "cell_type": "markdown",
   "metadata": {},
   "source": [
    "**Question 2.** Find the most common `tempo_name` and `key` combination among all the songs in `tracks`. Save the answer into an array labeled `most_common_combination`. For example, the answer can look like: `array(['Vivace', 'D#'])`."
   ]
  },
  {
   "cell_type": "markdown",
   "metadata": {},
   "source": [
    "most_common_combination = ...\n",
    "most_common_combination"
   ]
  },
  {
   "cell_type": "code",
   "execution_count": 30,
   "metadata": {
    "scrolled": true
   },
   "outputs": [
    {
     "data": {
      "text/plain": [
       "array(['Allegro', 'C'], dtype='<U7')"
      ]
     },
     "execution_count": 30,
     "metadata": {},
     "output_type": "execute_result"
    }
   ],
   "source": [
    "answer = tracks.group(['tempo_name', 'key']).sort('count', descending = True).item(0)\n",
    "most_common_combination = make_array(answer.column('tempo_name').item(0), answer.column('key').item(0))\n",
    "most_common_combination"
   ]
  },
  {
   "cell_type": "code",
   "execution_count": 31,
   "metadata": {},
   "outputs": [
    {
     "name": "stdout",
     "output_type": "stream",
     "text": [
      "~~~~~~~~~~~~~~~~~~~~~~~~~~~~~~~~~~~~~~~~~~~~~~~~~~~~~~~~~~~~~~~~~~~~~\n",
      "Running tests\n",
      "\n",
      "---------------------------------------------------------------------\n",
      "Test summary\n",
      "    Passed: 1\n",
      "    Failed: 0\n",
      "[ooooooooook] 100.0% passed\n",
      "\n"
     ]
    }
   ],
   "source": [
    "_ = ok.grade('q2_2')"
   ]
  },
  {
   "cell_type": "code",
   "execution_count": 32,
   "metadata": {
    "scrolled": true
   },
   "outputs": [
    {
     "data": {
      "text/plain": [
       "numpy.ndarray"
      ]
     },
     "execution_count": 32,
     "metadata": {},
     "output_type": "execute_result"
    }
   ],
   "source": [
    "type(most_common_combination) #make sure it's an array"
   ]
  },
  {
   "cell_type": "code",
   "execution_count": 33,
   "metadata": {
    "scrolled": true
   },
   "outputs": [
    {
     "data": {
      "text/plain": [
       "True"
      ]
     },
     "execution_count": 33,
     "metadata": {},
     "output_type": "execute_result"
    }
   ],
   "source": [
    "most_common_combination.size == 2 #make sure length is 2"
   ]
  },
  {
   "cell_type": "code",
   "execution_count": 34,
   "metadata": {},
   "outputs": [
    {
     "data": {
      "text/plain": [
       "True"
      ]
     },
     "execution_count": 34,
     "metadata": {},
     "output_type": "execute_result"
    }
   ],
   "source": [
    "most_common_combination.item(0) in [\"Lento\", \"Adagio\", \"Adante\", \"Moderato\", \"Allegro\", \"Vivace\", \"Presto\"] \n",
    "#make sure they have correct order"
   ]
  },
  {
   "cell_type": "markdown",
   "metadata": {},
   "source": [
    "**Question 3.** Now we want to categorize the songs by their Italian tempo names, and find the mean of each numerical variable according to its `tempo_name`. Non-numerical columns should be dropped. Save this new table as `track_means`. "
   ]
  },
  {
   "cell_type": "markdown",
   "metadata": {},
   "source": [
    "track_means = ...\n",
    "track_means"
   ]
  },
  {
   "cell_type": "code",
   "execution_count": 35,
   "metadata": {
    "scrolled": false
   },
   "outputs": [
    {
     "data": {
      "text/html": [
       "<table border=\"1\" class=\"dataframe\">\n",
       "    <thead>\n",
       "        <tr>\n",
       "            <th>tempo_name</th> <th>popularity mean</th> <th>acousticness mean</th> <th>danceability mean</th> <th>energy mean</th> <th>valence mean</th> <th>tempo mean</th> <th>duration_min mean</th>\n",
       "        </tr>\n",
       "    </thead>\n",
       "    <tbody>\n",
       "        <tr>\n",
       "            <td>Adagio    </td> <td>32.7304        </td> <td>0.589995         </td> <td>0.455737         </td> <td>0.425411   </td> <td>0.353333    </td> <td>79.4836   </td> <td>4.06819          </td>\n",
       "        </tr>\n",
       "        <tr>\n",
       "            <td>Adante    </td> <td>36.989         </td> <td>0.379392         </td> <td>0.588283         </td> <td>0.584246   </td> <td>0.490421    </td> <td>99.2129   </td> <td>3.87376          </td>\n",
       "        </tr>\n",
       "        <tr>\n",
       "            <td>Allegro   </td> <td>38.0516        </td> <td>0.327065         </td> <td>0.571533         </td> <td>0.598513   </td> <td>0.464551    </td> <td>136.324   </td> <td>3.98551          </td>\n",
       "        </tr>\n",
       "        <tr>\n",
       "            <td>Lento     </td> <td>26.4456        </td> <td>0.789977         </td> <td>0.387938         </td> <td>0.368545   </td> <td>0.275085    </td> <td>53.1267   </td> <td>3.6718           </td>\n",
       "        </tr>\n",
       "        <tr>\n",
       "            <td>Moderato  </td> <td>36.7044        </td> <td>0.403548         </td> <td>0.598579         </td> <td>0.553463   </td> <td>0.470975    </td> <td>115.204   </td> <td>3.89385          </td>\n",
       "        </tr>\n",
       "        <tr>\n",
       "            <td>Presto    </td> <td>35.3892        </td> <td>0.27883          </td> <td>0.44753          </td> <td>0.669189   </td> <td>0.544308    </td> <td>190.16    </td> <td>3.53465          </td>\n",
       "        </tr>\n",
       "        <tr>\n",
       "            <td>Vivace    </td> <td>36.7566        </td> <td>0.308038         </td> <td>0.486399         </td> <td>0.640696   </td> <td>0.508252    </td> <td>170.205   </td> <td>3.77276          </td>\n",
       "        </tr>\n",
       "    </tbody>\n",
       "</table>"
      ],
      "text/plain": [
       "tempo_name | popularity mean | acousticness mean | danceability mean | energy mean | valence mean | tempo mean | duration_min mean\n",
       "Adagio     | 32.7304         | 0.589995          | 0.455737          | 0.425411    | 0.353333     | 79.4836    | 4.06819\n",
       "Adante     | 36.989          | 0.379392          | 0.588283          | 0.584246    | 0.490421     | 99.2129    | 3.87376\n",
       "Allegro    | 38.0516         | 0.327065          | 0.571533          | 0.598513    | 0.464551     | 136.324    | 3.98551\n",
       "Lento      | 26.4456         | 0.789977          | 0.387938          | 0.368545    | 0.275085     | 53.1267    | 3.6718\n",
       "Moderato   | 36.7044         | 0.403548          | 0.598579          | 0.553463    | 0.470975     | 115.204    | 3.89385\n",
       "Presto     | 35.3892         | 0.27883           | 0.44753           | 0.669189    | 0.544308     | 190.16     | 3.53465\n",
       "Vivace     | 36.7566         | 0.308038          | 0.486399          | 0.640696    | 0.508252     | 170.205    | 3.77276"
      ]
     },
     "execution_count": 35,
     "metadata": {},
     "output_type": "execute_result"
    }
   ],
   "source": [
    "track_means = tracks.group('tempo_name', np.mean).drop(['artist_name mean','track_name mean', 'key mean'])\n",
    "track_means"
   ]
  },
  {
   "cell_type": "code",
   "execution_count": 36,
   "metadata": {},
   "outputs": [
    {
     "name": "stdout",
     "output_type": "stream",
     "text": [
      "~~~~~~~~~~~~~~~~~~~~~~~~~~~~~~~~~~~~~~~~~~~~~~~~~~~~~~~~~~~~~~~~~~~~~\n",
      "Running tests\n",
      "\n",
      "---------------------------------------------------------------------\n",
      "Test summary\n",
      "    Passed: 1\n",
      "    Failed: 0\n",
      "[ooooooooook] 100.0% passed\n",
      "\n"
     ]
    }
   ],
   "source": [
    "_ = ok.grade('q2_3')"
   ]
  },
  {
   "cell_type": "code",
   "execution_count": 37,
   "metadata": {
    "scrolled": true
   },
   "outputs": [
    {
     "data": {
      "text/plain": [
       "True"
      ]
     },
     "execution_count": 37,
     "metadata": {},
     "output_type": "execute_result"
    }
   ],
   "source": [
    "track_means.labels == ('tempo_name','popularity mean','acousticness mean','danceability mean','energy mean','valence mean','tempo mean','duration_min mean') #the table should have these columns in this order"
   ]
  },
  {
   "cell_type": "markdown",
   "metadata": {},
   "source": [
    "**Question 4.** Create a single plot that portrays how the `acousticness mean`, `danceability mean`, `energy mean`, and `valence mean` change according to the `tempo mean`. \n",
    "\n",
    "*Hint*: Check out documention for .plot [here](http://data8.org/datascience/_autosummary/datascience.tables.Table.plot.html)"
   ]
  },
  {
   "cell_type": "code",
   "execution_count": null,
   "metadata": {},
   "outputs": [],
   "source": []
  },
  {
   "cell_type": "code",
   "execution_count": 38,
   "metadata": {
    "scrolled": true
   },
   "outputs": [
    {
     "data": {
      "image/png": "[encoded data removed]",
      "text/plain": [
       "<Figure size 432x288 with 1 Axes>"
      ]
     },
     "metadata": {},
     "output_type": "display_data"
    }
   ],
   "source": [
    "track_means.plot('tempo mean', select = ['acousticness mean', 'danceability mean', 'energy mean', 'valence mean'], overlay = True)"
   ]
  },
  {
   "cell_type": "code",
   "execution_count": 39,
   "metadata": {},
   "outputs": [
    {
     "data": {
      "image/png": "[encoded data removed]",
      "text/plain": [
       "<Figure size 432x288 with 1 Axes>"
      ]
     },
     "metadata": {},
     "output_type": "display_data"
    }
   ],
   "source": [
    "# alternate solution\n",
    "track_means.drop(['tempo_name','popularity mean','duration_min mean']).plot('tempo mean', overlay = True)"
   ]
  },
  {
   "cell_type": "markdown",
   "metadata": {},
   "source": [
    "**Question 5**: You may have noticed from the plot in the previous question that energy and valence seem to move together. Assuming that there is a strong association between energy and valence, can we use the energy of a song to predict its valence? In addition, does this mean that high energy causes high valence? Answer both questions and explain why below."
   ]
  },
  {
   "cell_type": "markdown",
   "metadata": {},
   "source": [
    "<hr style=\"color:Maroon;background-color:Maroon;border:0 none; height: 3px;\">\n",
    "\n",
    "We can use a song's energy to predict its valence. However we cannot conclude that higher energy values cause higher valence values.\n",
    "\n",
    "<hr style=\"color:Maroon;background-color:Maroon;border:0 none; height: 3px;\">"
   ]
  },
  {
   "cell_type": "markdown",
   "metadata": {},
   "source": [
    "## Part 3: Looking into Artists"
   ]
  },
  {
   "cell_type": "markdown",
   "metadata": {},
   "source": [
    "The file `artists.csv` contains data on musical artists from [last.fm](https://www.last.fm/), which is a service that allows listeners to keep a record of what songs they listen to across various platforms, so that they can get personalized music recommendations. \n",
    "\n",
    "Run the cell below to load this data into `artists`. "
   ]
  },
  {
   "cell_type": "code",
   "execution_count": 40,
   "metadata": {},
   "outputs": [
    {
     "data": {
      "text/html": [
       "<table border=\"1\" class=\"dataframe\">\n",
       "    <thead>\n",
       "        <tr>\n",
       "            <th>artist</th> <th>country</th> <th>artist_tags</th> <th>artist_listeners</th> <th>artist_plays</th>\n",
       "        </tr>\n",
       "    </thead>\n",
       "    <tbody>\n",
       "        <tr>\n",
       "            <td>Coldplay             </td> <td>United Kingdom         </td> <td>rock; alternative; britpop; alternative rock; indie; bri ...</td> <td>5.38157e+06     </td> <td>3.60112e+08 </td>\n",
       "        </tr>\n",
       "        <tr>\n",
       "            <td>Radiohead            </td> <td>United Kingdom         </td> <td>alternative; alternative rock; rock; indie; electronic;  ...</td> <td>4.73253e+06     </td> <td>4.99549e+08 </td>\n",
       "        </tr>\n",
       "        <tr>\n",
       "            <td>Red Hot Chili Peppers</td> <td>United States          </td> <td>rock; alternative rock; alternative; Funk Rock; funk; se ...</td> <td>4.62084e+06     </td> <td>2.93784e+08 </td>\n",
       "        </tr>\n",
       "        <tr>\n",
       "            <td>Rihanna              </td> <td>Barbados; United States</td> <td>pop; rnb; female vocalists; dance; Hip-Hop; Rihanna; r&b ...</td> <td>4.55819e+06     </td> <td>1.99249e+08 </td>\n",
       "        </tr>\n",
       "        <tr>\n",
       "            <td>Eminem               </td> <td>United States          </td> <td>rap; Hip-Hop; Eminem; hip hop; pop; american; detroit; s ...</td> <td>4.518e+06       </td> <td>1.99508e+08 </td>\n",
       "        </tr>\n",
       "        <tr>\n",
       "            <td>Kanye West           </td> <td>United States          </td> <td>Hip-Hop; rap; hip hop; rnb; Kanye West; seen live; Gay F ...</td> <td>4.3905e+06      </td> <td>2.38604e+08 </td>\n",
       "        </tr>\n",
       "        <tr>\n",
       "            <td>Nirvana              </td> <td>United States          </td> <td>Grunge; rock; alternative; alternative rock; 90s; punk;  ...</td> <td>4.27289e+06     </td> <td>2.22304e+08 </td>\n",
       "        </tr>\n",
       "        <tr>\n",
       "            <td>Muse                 </td> <td>United Kingdom         </td> <td>alternative rock; rock; alternative; Progressive rock; s ...</td> <td>4.08961e+06     </td> <td>3.44839e+08 </td>\n",
       "        </tr>\n",
       "        <tr>\n",
       "            <td>Queen                </td> <td>United Kingdom         </td> <td>classic rock; rock; 80s; hard rock; glam rock; british;  ...</td> <td>4.02338e+06     </td> <td>1.91712e+08 </td>\n",
       "        </tr>\n",
       "        <tr>\n",
       "            <td>Foo Fighters         </td> <td>United States          </td> <td>rock; alternative rock; Grunge; alternative; seen live;  ...</td> <td>4.00524e+06     </td> <td>1.94254e+08 </td>\n",
       "        </tr>\n",
       "    </tbody>\n",
       "</table>\n",
       "<p>... (36887 rows omitted)</p>"
      ],
      "text/plain": [
       "artist                | country                 | artist_tags                                                  | artist_listeners | artist_plays\n",
       "Coldplay              | United Kingdom          | rock; alternative; britpop; alternative rock; indie; bri ... | 5.38157e+06      | 3.60112e+08\n",
       "Radiohead             | United Kingdom          | alternative; alternative rock; rock; indie; electronic;  ... | 4.73253e+06      | 4.99549e+08\n",
       "Red Hot Chili Peppers | United States           | rock; alternative rock; alternative; Funk Rock; funk; se ... | 4.62084e+06      | 2.93784e+08\n",
       "Rihanna               | Barbados; United States | pop; rnb; female vocalists; dance; Hip-Hop; Rihanna; r&b ... | 4.55819e+06      | 1.99249e+08\n",
       "Eminem                | United States           | rap; Hip-Hop; Eminem; hip hop; pop; american; detroit; s ... | 4.518e+06        | 1.99508e+08\n",
       "Kanye West            | United States           | Hip-Hop; rap; hip hop; rnb; Kanye West; seen live; Gay F ... | 4.3905e+06       | 2.38604e+08\n",
       "Nirvana               | United States           | Grunge; rock; alternative; alternative rock; 90s; punk;  ... | 4.27289e+06      | 2.22304e+08\n",
       "Muse                  | United Kingdom          | alternative rock; rock; alternative; Progressive rock; s ... | 4.08961e+06      | 3.44839e+08\n",
       "Queen                 | United Kingdom          | classic rock; rock; 80s; hard rock; glam rock; british;  ... | 4.02338e+06      | 1.91712e+08\n",
       "Foo Fighters          | United States           | rock; alternative rock; Grunge; alternative; seen live;  ... | 4.00524e+06      | 1.94254e+08\n",
       "... (36887 rows omitted)"
      ]
     },
     "execution_count": 40,
     "metadata": {},
     "output_type": "execute_result"
    }
   ],
   "source": [
    "artists = Table.read_table('artists.csv')\n",
    "artists"
   ]
  },
  {
   "cell_type": "markdown",
   "metadata": {},
   "source": [
    "This data set is from [Kaggle](https://www.kaggle.com/pieca111/music-artists-popularity), originally scraped from [last.fm](https://www.last.fm/). There are 5 columns in this data set. \n",
    "\n",
    "1. `artist`: artist name according to last.fm\n",
    "2. `country`: country or countries associated with the artist, based on last.fm tags, separated by semicolon (;)\n",
    "3. `artist_tags`: user-generated tags associated with the artist on last.fm, separated by semicolon (;), sorted in decreasing order of frequency\n",
    "4. `artist_listeners`: number of listeners for the artist, among users of last.fm\n",
    "5. `artist_plays`: number of times a song by this artist was played by users of last.fm"
   ]
  },
  {
   "cell_type": "markdown",
   "metadata": {},
   "source": [
    "The table `artists` has a column `artist_tags`, which contains one long string with the artist's tags on [last.fm](https://www.last.fm/), each of which is separated by a semicolon \";\". In order to look at artists with certain tags, first we need to find an easier way to access these tags.\n",
    "\n",
    "**Question 1.** Create a new column in `artists` called `tag_list` that contains a *list* of tags for each artist, from the `artist_tags` column. Drop the old column `artist_tags`. \n",
    "\n",
    "The tags should be listed in order of decreasing frequency, as they are listed in the original `artist_tags` column. Note that some tags are the same, except for different capitalization (\"hip hop' and \"Hip hop\"). Change all tags to all lowercase letters. For example, if an artist has the tags \"rock; alternative; Britpop; Rock\", the value in the `tag_list` column should be [rock, alternative, britpop, rock]. As illustrated, each list may now have repeated tags."
   ]
  },
  {
   "cell_type": "markdown",
   "metadata": {},
   "source": [
    "artists = ...\n",
    "artists"
   ]
  },
  {
   "cell_type": "code",
   "execution_count": 41,
   "metadata": {},
   "outputs": [],
   "source": [
    "# create function that splits the tags, lower case the string, outputs list \n",
    "def to_list(string):\n",
    "    my_lst = string.lower().split('; ')\n",
    "    return my_lst"
   ]
  },
  {
   "cell_type": "code",
   "execution_count": 42,
   "metadata": {},
   "outputs": [
    {
     "data": {
      "text/html": [
       "<table border=\"1\" class=\"dataframe\">\n",
       "    <thead>\n",
       "        <tr>\n",
       "            <th>artist</th> <th>country</th> <th>artist_listeners</th> <th>artist_plays</th> <th>tag_list</th>\n",
       "        </tr>\n",
       "    </thead>\n",
       "    <tbody>\n",
       "        <tr>\n",
       "            <td>Coldplay             </td> <td>United Kingdom         </td> <td>5.38157e+06     </td> <td>3.60112e+08 </td> <td>['rock', 'alternative', 'britpop', 'alternative rock', ' ...</td>\n",
       "        </tr>\n",
       "        <tr>\n",
       "            <td>Radiohead            </td> <td>United Kingdom         </td> <td>4.73253e+06     </td> <td>4.99549e+08 </td> <td>['alternative', 'alternative rock', 'rock', 'indie', 'el ...</td>\n",
       "        </tr>\n",
       "        <tr>\n",
       "            <td>Red Hot Chili Peppers</td> <td>United States          </td> <td>4.62084e+06     </td> <td>2.93784e+08 </td> <td>['rock', 'alternative rock', 'alternative', 'funk rock', ...</td>\n",
       "        </tr>\n",
       "        <tr>\n",
       "            <td>Rihanna              </td> <td>Barbados; United States</td> <td>4.55819e+06     </td> <td>1.99249e+08 </td> <td>['pop', 'rnb', 'female vocalists', 'dance', 'hip-hop', ' ...</td>\n",
       "        </tr>\n",
       "        <tr>\n",
       "            <td>Eminem               </td> <td>United States          </td> <td>4.518e+06       </td> <td>1.99508e+08 </td> <td>['rap', 'hip-hop', 'eminem', 'hip hop', 'pop', 'american ...</td>\n",
       "        </tr>\n",
       "        <tr>\n",
       "            <td>Kanye West           </td> <td>United States          </td> <td>4.3905e+06      </td> <td>2.38604e+08 </td> <td>['hip-hop', 'rap', 'hip hop', 'rnb', 'kanye west', 'seen ...</td>\n",
       "        </tr>\n",
       "        <tr>\n",
       "            <td>Nirvana              </td> <td>United States          </td> <td>4.27289e+06     </td> <td>2.22304e+08 </td> <td>['grunge', 'rock', 'alternative', 'alternative rock', '9 ...</td>\n",
       "        </tr>\n",
       "        <tr>\n",
       "            <td>Muse                 </td> <td>United Kingdom         </td> <td>4.08961e+06     </td> <td>3.44839e+08 </td> <td>['alternative rock', 'rock', 'alternative', 'progressive ...</td>\n",
       "        </tr>\n",
       "        <tr>\n",
       "            <td>Queen                </td> <td>United Kingdom         </td> <td>4.02338e+06     </td> <td>1.91712e+08 </td> <td>['classic rock', 'rock', '80s', 'hard rock', 'glam rock' ...</td>\n",
       "        </tr>\n",
       "        <tr>\n",
       "            <td>Foo Fighters         </td> <td>United States          </td> <td>4.00524e+06     </td> <td>1.94254e+08 </td> <td>['rock', 'alternative rock', 'grunge', 'alternative', 's ...</td>\n",
       "        </tr>\n",
       "    </tbody>\n",
       "</table>\n",
       "<p>... (36887 rows omitted)</p>"
      ],
      "text/plain": [
       "artist                | country                 | artist_listeners | artist_plays | tag_list\n",
       "Coldplay              | United Kingdom          | 5.38157e+06      | 3.60112e+08  | ['rock', 'alternative', 'britpop', 'alternative rock', ' ...\n",
       "Radiohead             | United Kingdom          | 4.73253e+06      | 4.99549e+08  | ['alternative', 'alternative rock', 'rock', 'indie', 'el ...\n",
       "Red Hot Chili Peppers | United States           | 4.62084e+06      | 2.93784e+08  | ['rock', 'alternative rock', 'alternative', 'funk rock', ...\n",
       "Rihanna               | Barbados; United States | 4.55819e+06      | 1.99249e+08  | ['pop', 'rnb', 'female vocalists', 'dance', 'hip-hop', ' ...\n",
       "Eminem                | United States           | 4.518e+06        | 1.99508e+08  | ['rap', 'hip-hop', 'eminem', 'hip hop', 'pop', 'american ...\n",
       "Kanye West            | United States           | 4.3905e+06       | 2.38604e+08  | ['hip-hop', 'rap', 'hip hop', 'rnb', 'kanye west', 'seen ...\n",
       "Nirvana               | United States           | 4.27289e+06      | 2.22304e+08  | ['grunge', 'rock', 'alternative', 'alternative rock', '9 ...\n",
       "Muse                  | United Kingdom          | 4.08961e+06      | 3.44839e+08  | ['alternative rock', 'rock', 'alternative', 'progressive ...\n",
       "Queen                 | United Kingdom          | 4.02338e+06      | 1.91712e+08  | ['classic rock', 'rock', '80s', 'hard rock', 'glam rock' ...\n",
       "Foo Fighters          | United States           | 4.00524e+06      | 1.94254e+08  | ['rock', 'alternative rock', 'grunge', 'alternative', 's ...\n",
       "... (36887 rows omitted)"
      ]
     },
     "execution_count": 42,
     "metadata": {},
     "output_type": "execute_result"
    }
   ],
   "source": [
    "# apply the function\n",
    "tag_list = artists.apply(to_list,'artist_tags')\n",
    "artists = artists.with_column('tag_list', tag_list).drop('artist_tags')\n",
    "artists"
   ]
  },
  {
   "cell_type": "code",
   "execution_count": 43,
   "metadata": {},
   "outputs": [
    {
     "name": "stdout",
     "output_type": "stream",
     "text": [
      "~~~~~~~~~~~~~~~~~~~~~~~~~~~~~~~~~~~~~~~~~~~~~~~~~~~~~~~~~~~~~~~~~~~~~\n",
      "Running tests\n",
      "\n",
      "---------------------------------------------------------------------\n",
      "Test summary\n",
      "    Passed: 1\n",
      "    Failed: 0\n",
      "[ooooooooook] 100.0% passed\n",
      "\n"
     ]
    }
   ],
   "source": [
    "_ = ok.grade('q3_1')"
   ]
  },
  {
   "cell_type": "markdown",
   "metadata": {},
   "source": [
    "**Question 2.** Let's take a closer look at artists who are considered relaxing. Filter the `artists` table to find artists who have the tag `relax`, and save that table into `relax_artists`.\n",
    "\n",
    "*Hint:* The Python keyword `in` can check whether an element belongs to a list. Try it out by running the two cells below."
   ]
  },
  {
   "cell_type": "code",
   "execution_count": 44,
   "metadata": {},
   "outputs": [
    {
     "data": {
      "text/plain": [
       "False"
      ]
     },
     "execution_count": 44,
     "metadata": {},
     "output_type": "execute_result"
    }
   ],
   "source": [
    "5 in [1, 2, 3]"
   ]
  },
  {
   "cell_type": "code",
   "execution_count": 45,
   "metadata": {},
   "outputs": [
    {
     "data": {
      "text/plain": [
       "True"
      ]
     },
     "execution_count": 45,
     "metadata": {},
     "output_type": "execute_result"
    }
   ],
   "source": [
    "2 in [1, 2, 3]"
   ]
  },
  {
   "cell_type": "code",
   "execution_count": 46,
   "metadata": {},
   "outputs": [
    {
     "data": {
      "text/plain": [
       "Ellipsis"
      ]
     },
     "execution_count": 46,
     "metadata": {},
     "output_type": "execute_result"
    }
   ],
   "source": [
    "relax_artists = ...\n",
    "relax_artists"
   ]
  },
  {
   "cell_type": "code",
   "execution_count": 47,
   "metadata": {},
   "outputs": [],
   "source": [
    "# function to check if relax is in tag_list\n",
    "def has_relax(lst):\n",
    "    if 'relax' in lst:\n",
    "        return True\n",
    "    return False"
   ]
  },
  {
   "cell_type": "code",
   "execution_count": 48,
   "metadata": {},
   "outputs": [
    {
     "data": {
      "text/html": [
       "<table border=\"1\" class=\"dataframe\">\n",
       "    <thead>\n",
       "        <tr>\n",
       "            <th>artist</th> <th>country</th> <th>artist_listeners</th> <th>artist_plays</th> <th>tag_list</th>\n",
       "        </tr>\n",
       "    </thead>\n",
       "    <tbody>\n",
       "        <tr>\n",
       "            <td>Coldplay    </td> <td>United Kingdom</td> <td>5.38157e+06     </td> <td>3.60112e+08 </td> <td>['rock', 'alternative', 'britpop', 'alternative rock', ' ...</td>\n",
       "        </tr>\n",
       "        <tr>\n",
       "            <td>Moby        </td> <td>United States </td> <td>2.66328e+06     </td> <td>9.41569e+07 </td> <td>['electronic', 'ambient', 'chillout', 'alternative', 'el ...</td>\n",
       "        </tr>\n",
       "        <tr>\n",
       "            <td>Jack Johnson</td> <td>United States </td> <td>2.5451e+06      </td> <td>1.15358e+08 </td> <td>['acoustic', 'singer-songwriter', 'chill', 'alternative' ...</td>\n",
       "        </tr>\n",
       "    </tbody>\n",
       "</table>\n",
       "<p>... (433 rows omitted)</p>"
      ],
      "text/plain": [
       "<IPython.core.display.HTML object>"
      ]
     },
     "metadata": {},
     "output_type": "display_data"
    }
   ],
   "source": [
    "# only artists with relax tag\n",
    "relaxing = artists.apply(has_relax, 'tag_list')\n",
    "relax_artists = artists.where(relaxing)\n",
    "relax_artists.show(3)"
   ]
  },
  {
   "cell_type": "code",
   "execution_count": 49,
   "metadata": {},
   "outputs": [
    {
     "name": "stdout",
     "output_type": "stream",
     "text": [
      "~~~~~~~~~~~~~~~~~~~~~~~~~~~~~~~~~~~~~~~~~~~~~~~~~~~~~~~~~~~~~~~~~~~~~\n",
      "Running tests\n",
      "\n",
      "---------------------------------------------------------------------\n",
      "Test summary\n",
      "    Passed: 1\n",
      "    Failed: 0\n",
      "[ooooooooook] 100.0% passed\n",
      "\n"
     ]
    }
   ],
   "source": [
    "_ = ok.grade('q3_2')"
   ]
  },
  {
   "cell_type": "markdown",
   "metadata": {},
   "source": [
    "**Question 3.** For artists who have the `relax` tag, what is the average number of listeners? Save that number into `relax_artists_avg_listeners`. "
   ]
  },
  {
   "cell_type": "markdown",
   "metadata": {},
   "source": [
    "relax_artists_avg_listeners = ...\n",
    "relax_artists_avg_listeners"
   ]
  },
  {
   "cell_type": "code",
   "execution_count": 50,
   "metadata": {},
   "outputs": [
    {
     "data": {
      "text/plain": [
       "221631.08256880735"
      ]
     },
     "execution_count": 50,
     "metadata": {},
     "output_type": "execute_result"
    }
   ],
   "source": [
    "# average listeners for relaxing artists\n",
    "relax_artists_avg_listeners = relax_artists.column('artist_listeners').mean()\n",
    "relax_artists_avg_listeners"
   ]
  },
  {
   "cell_type": "code",
   "execution_count": 51,
   "metadata": {},
   "outputs": [
    {
     "name": "stdout",
     "output_type": "stream",
     "text": [
      "~~~~~~~~~~~~~~~~~~~~~~~~~~~~~~~~~~~~~~~~~~~~~~~~~~~~~~~~~~~~~~~~~~~~~\n",
      "Running tests\n",
      "\n",
      "---------------------------------------------------------------------\n",
      "Test summary\n",
      "    Passed: 1\n",
      "    Failed: 0\n",
      "[ooooooooook] 100.0% passed\n",
      "\n"
     ]
    }
   ],
   "source": [
    "_ = ok.grade('q3_3')"
   ]
  },
  {
   "cell_type": "markdown",
   "metadata": {},
   "source": [
    "**Question 4.** Compare `relax_artists_avg_listeners` to the the average number of listeners for artists with the `party` tag and save the difference (party - relax) to `diff`. "
   ]
  },
  {
   "cell_type": "markdown",
   "metadata": {},
   "source": [
    "party_artists = ...\n",
    "party_artists"
   ]
  },
  {
   "cell_type": "code",
   "execution_count": 52,
   "metadata": {},
   "outputs": [],
   "source": [
    "# function to check if rock is in tag_list\n",
    "def has_party(lst):\n",
    "    if 'party' in lst:\n",
    "        return True\n",
    "    return False"
   ]
  },
  {
   "cell_type": "code",
   "execution_count": 53,
   "metadata": {},
   "outputs": [
    {
     "data": {
      "text/html": [
       "<table border=\"1\" class=\"dataframe\">\n",
       "    <thead>\n",
       "        <tr>\n",
       "            <th>artist</th> <th>country</th> <th>artist_listeners</th> <th>artist_plays</th> <th>tag_list</th>\n",
       "        </tr>\n",
       "    </thead>\n",
       "    <tbody>\n",
       "        <tr>\n",
       "            <td>Rihanna  </td> <td>Barbados; United States</td> <td>4.55819e+06     </td> <td>1.99249e+08 </td> <td>['pop', 'rnb', 'female vocalists', 'dance', 'hip-hop', ' ...</td>\n",
       "        </tr>\n",
       "        <tr>\n",
       "            <td>Lady Gaga</td> <td>United States          </td> <td>3.82058e+06     </td> <td>2.8547e+08  </td> <td>['pop', 'dance', 'electronic', 'female vocalists', 'fema ...</td>\n",
       "        </tr>\n",
       "        <tr>\n",
       "            <td>Beyoncé  </td> <td>United States          </td> <td>3.55462e+06     </td> <td>1.53947e+08 </td> <td>['rnb', 'pop', 'female vocalists', 'soul', 'hip-hop', 'b ...</td>\n",
       "        </tr>\n",
       "    </tbody>\n",
       "</table>\n",
       "<p>... (415 rows omitted)</p>"
      ],
      "text/plain": [
       "<IPython.core.display.HTML object>"
      ]
     },
     "metadata": {},
     "output_type": "display_data"
    }
   ],
   "source": [
    "# only artists with party tag\n",
    "partying = artists.apply(has_party, 'tag_list')\n",
    "party_artists = artists.where(partying)\n",
    "party_artists.show(3)"
   ]
  },
  {
   "cell_type": "code",
   "execution_count": 54,
   "metadata": {},
   "outputs": [
    {
     "data": {
      "text/plain": [
       "44315.70212018787"
      ]
     },
     "execution_count": 54,
     "metadata": {},
     "output_type": "execute_result"
    }
   ],
   "source": [
    "diff = np.mean(party_artists.column('artist_listeners')) - relax_artists_avg_listeners\n",
    "diff"
   ]
  },
  {
   "cell_type": "code",
   "execution_count": 55,
   "metadata": {},
   "outputs": [
    {
     "name": "stdout",
     "output_type": "stream",
     "text": [
      "~~~~~~~~~~~~~~~~~~~~~~~~~~~~~~~~~~~~~~~~~~~~~~~~~~~~~~~~~~~~~~~~~~~~~\n",
      "Running tests\n",
      "\n",
      "---------------------------------------------------------------------\n",
      "Test summary\n",
      "    Passed: 1\n",
      "    Failed: 0\n",
      "[ooooooooook] 100.0% passed\n",
      "\n"
     ]
    }
   ],
   "source": [
    "_ = ok.grade('q3_4')"
   ]
  },
  {
   "cell_type": "markdown",
   "metadata": {},
   "source": [
    "The `country` column also has multiple values separated by a \";\". Let's look at the number of countries an artists is affiliated with.\n",
    "\n",
    "**Question 5.** Add a column to the `artists` table called `num_countries` which contains the number of countries listed in the `country` column. Save your result in a new table called `with_num_countries`."
   ]
  },
  {
   "cell_type": "markdown",
   "metadata": {},
   "source": [
    "with_num_countries = ...\n",
    "with_num_countries"
   ]
  },
  {
   "cell_type": "code",
   "execution_count": 56,
   "metadata": {},
   "outputs": [],
   "source": [
    "# function to get number of countries\n",
    "def to_length(string):\n",
    "    my_list = to_list(string)\n",
    "    return len(my_list)"
   ]
  },
  {
   "cell_type": "code",
   "execution_count": 57,
   "metadata": {},
   "outputs": [
    {
     "data": {
      "text/html": [
       "<table border=\"1\" class=\"dataframe\">\n",
       "    <thead>\n",
       "        <tr>\n",
       "            <th>artist</th> <th>country</th> <th>artist_listeners</th> <th>artist_plays</th> <th>tag_list</th> <th>num_countries</th>\n",
       "        </tr>\n",
       "    </thead>\n",
       "    <tbody>\n",
       "        <tr>\n",
       "            <td>Coldplay             </td> <td>United Kingdom         </td> <td>5.38157e+06     </td> <td>3.60112e+08 </td> <td>['rock', 'alternative', 'britpop', 'alternative rock', ' ...</td> <td>1            </td>\n",
       "        </tr>\n",
       "        <tr>\n",
       "            <td>Radiohead            </td> <td>United Kingdom         </td> <td>4.73253e+06     </td> <td>4.99549e+08 </td> <td>['alternative', 'alternative rock', 'rock', 'indie', 'el ...</td> <td>1            </td>\n",
       "        </tr>\n",
       "        <tr>\n",
       "            <td>Red Hot Chili Peppers</td> <td>United States          </td> <td>4.62084e+06     </td> <td>2.93784e+08 </td> <td>['rock', 'alternative rock', 'alternative', 'funk rock', ...</td> <td>1            </td>\n",
       "        </tr>\n",
       "        <tr>\n",
       "            <td>Rihanna              </td> <td>Barbados; United States</td> <td>4.55819e+06     </td> <td>1.99249e+08 </td> <td>['pop', 'rnb', 'female vocalists', 'dance', 'hip-hop', ' ...</td> <td>2            </td>\n",
       "        </tr>\n",
       "        <tr>\n",
       "            <td>Eminem               </td> <td>United States          </td> <td>4.518e+06       </td> <td>1.99508e+08 </td> <td>['rap', 'hip-hop', 'eminem', 'hip hop', 'pop', 'american ...</td> <td>1            </td>\n",
       "        </tr>\n",
       "    </tbody>\n",
       "</table>\n",
       "<p>... (36892 rows omitted)</p>"
      ],
      "text/plain": [
       "<IPython.core.display.HTML object>"
      ]
     },
     "metadata": {},
     "output_type": "display_data"
    }
   ],
   "source": [
    "# add column for num_countries\n",
    "num_countries = artists.apply(to_length,'country')\n",
    "with_num_countries = artists.with_column('num_countries', num_countries)\n",
    "with_num_countries.show(5)"
   ]
  },
  {
   "cell_type": "code",
   "execution_count": 58,
   "metadata": {},
   "outputs": [
    {
     "name": "stdout",
     "output_type": "stream",
     "text": [
      "~~~~~~~~~~~~~~~~~~~~~~~~~~~~~~~~~~~~~~~~~~~~~~~~~~~~~~~~~~~~~~~~~~~~~\n",
      "Running tests\n",
      "\n",
      "---------------------------------------------------------------------\n",
      "Test summary\n",
      "    Passed: 1\n",
      "    Failed: 0\n",
      "[ooooooooook] 100.0% passed\n",
      "\n"
     ]
    }
   ],
   "source": [
    "_ = ok.grade('q3_5')"
   ]
  },
  {
   "cell_type": "markdown",
   "metadata": {},
   "source": [
    "**Question 6.** Let's see if artists who are affliated with more countries have more listeners on average. Save a table `listeners_by_num_countries` which has two columns, `num_countries` and `average_listeners`, which gives the average number of listeners among all artists associated with a given number of countries. "
   ]
  },
  {
   "cell_type": "markdown",
   "metadata": {},
   "source": [
    "listeners_by_num_countries = ...\n",
    "listeners_by_num_countries"
   ]
  },
  {
   "cell_type": "code",
   "execution_count": 59,
   "metadata": {},
   "outputs": [
    {
     "data": {
      "text/html": [
       "<table border=\"1\" class=\"dataframe\">\n",
       "    <thead>\n",
       "        <tr>\n",
       "            <th>num_countries</th> <th>average_listeners</th>\n",
       "        </tr>\n",
       "    </thead>\n",
       "    <tbody>\n",
       "        <tr>\n",
       "            <td>1            </td> <td>82224.2          </td>\n",
       "        </tr>\n",
       "        <tr>\n",
       "            <td>2            </td> <td>83034.8          </td>\n",
       "        </tr>\n",
       "        <tr>\n",
       "            <td>3            </td> <td>74481.2          </td>\n",
       "        </tr>\n",
       "        <tr>\n",
       "            <td>4            </td> <td>45476.2          </td>\n",
       "        </tr>\n",
       "        <tr>\n",
       "            <td>5            </td> <td>53013.9          </td>\n",
       "        </tr>\n",
       "        <tr>\n",
       "            <td>6            </td> <td>53838.1          </td>\n",
       "        </tr>\n",
       "        <tr>\n",
       "            <td>7            </td> <td>52240.4          </td>\n",
       "        </tr>\n",
       "        <tr>\n",
       "            <td>8            </td> <td>15674.4          </td>\n",
       "        </tr>\n",
       "        <tr>\n",
       "            <td>9            </td> <td>14326            </td>\n",
       "        </tr>\n",
       "        <tr>\n",
       "            <td>10           </td> <td>7054.5           </td>\n",
       "        </tr>\n",
       "        <tr>\n",
       "            <td>11           </td> <td>99195            </td>\n",
       "        </tr>\n",
       "    </tbody>\n",
       "</table>"
      ],
      "text/plain": [
       "<IPython.core.display.HTML object>"
      ]
     },
     "metadata": {},
     "output_type": "display_data"
    }
   ],
   "source": [
    "# average listeners for groups of artists with different number of countries\n",
    "listeners_by_num_countries = with_num_countries.select('artist_listeners','num_countries').group('num_countries', np.mean).relabel('artist_listeners mean', 'average_listeners')\n",
    "listeners_by_num_countries.show()"
   ]
  },
  {
   "cell_type": "code",
   "execution_count": 60,
   "metadata": {},
   "outputs": [
    {
     "name": "stdout",
     "output_type": "stream",
     "text": [
      "~~~~~~~~~~~~~~~~~~~~~~~~~~~~~~~~~~~~~~~~~~~~~~~~~~~~~~~~~~~~~~~~~~~~~\n",
      "Running tests\n",
      "\n",
      "---------------------------------------------------------------------\n",
      "Test summary\n",
      "    Passed: 1\n",
      "    Failed: 0\n",
      "[ooooooooook] 100.0% passed\n",
      "\n"
     ]
    }
   ],
   "source": [
    "_ = ok.grade('q3_6')"
   ]
  },
  {
   "cell_type": "markdown",
   "metadata": {},
   "source": [
    "**Question 7.** Plot a graph of `num_countries` versus `average_listeners`. You should find that there is a clear *negative association* between number of countries and average listeners, excpet for a sudden spike in average listeners when the number of countries equals 11. Explore the data some more and see if you can find an explanation for this sudden departure from the downward trend. If you had to use this data to predict the number of listeners for a band associated with 12 countries, what would be your rough prediction (say, to the nearest 20,000 listeners) and why? Feel free to support your answer with additional calculations, visualizations, etc."
   ]
  },
  {
   "cell_type": "code",
   "execution_count": 61,
   "metadata": {
    "scrolled": false
   },
   "outputs": [
    {
     "data": {
      "image/png": "[encoded data removed]",
      "text/plain": [
       "<Figure size 432x288 with 1 Axes>"
      ]
     },
     "metadata": {},
     "output_type": "display_data"
    }
   ],
   "source": [
    "listeners_by_num_countries.plot('num_countries', 'average_listeners')"
   ]
  },
  {
   "cell_type": "markdown",
   "metadata": {},
   "source": [
    "<hr style=\"color:Maroon;background-color:Maroon;border:0 none; height: 3px;\">\n",
    "\n",
    "The vertical axis in the plot above is an average of the number of listeners for all artists associated with a certain number of countries. If we group by `num_countries`, as shown below, we see that there are many more artists associated with a small number of countries than a large number of countries. For large numbers of countries, the average is coming from only a few artists, so there is not enough data to accurately represent a typical number of listeners when the number of countries is large. At around 7 or 8 countries, the number of artists associated with this many countries becomes so small that it is almost meaningless. The average number of listeners for artists associated with 9 countries or 10 countries is based only on two artists, which maybe were just unpopular artists. Similarly, the one artist associated with 11 countries happens to be a fairly popular artist, so this one artist alone is causing a huge spike in the graph above, but this spike is not very meaningful because it is based on only one data point.\n",
    "\n",
    "If I had to predict the number of listeners for an artist with 12 countries, I would predict a small number of listeners, say around 20,000. This matches the overall trend that more countries is associated with fewer listeners, and does not put much emphasis on the one artist with 11 countries that happened to have a large number of listeners. A better visualization to display the association between number of countries and number of listeners is shown below. In this scatterplot, each artist is a single data point, so they are all equally important for making predictions.\n",
    "<hr style=\"color:Maroon;background-color:Maroon;border:0 none; height: 3px;\">"
   ]
  },
  {
   "cell_type": "code",
   "execution_count": 62,
   "metadata": {
    "scrolled": true
   },
   "outputs": [
    {
     "data": {
      "text/html": [
       "<table border=\"1\" class=\"dataframe\">\n",
       "    <thead>\n",
       "        <tr>\n",
       "            <th>num_countries</th> <th>count</th>\n",
       "        </tr>\n",
       "    </thead>\n",
       "    <tbody>\n",
       "        <tr>\n",
       "            <td>1            </td> <td>30002</td>\n",
       "        </tr>\n",
       "        <tr>\n",
       "            <td>2            </td> <td>5172 </td>\n",
       "        </tr>\n",
       "        <tr>\n",
       "            <td>3            </td> <td>1189 </td>\n",
       "        </tr>\n",
       "        <tr>\n",
       "            <td>4            </td> <td>344  </td>\n",
       "        </tr>\n",
       "        <tr>\n",
       "            <td>5            </td> <td>113  </td>\n",
       "        </tr>\n",
       "        <tr>\n",
       "            <td>6            </td> <td>53   </td>\n",
       "        </tr>\n",
       "        <tr>\n",
       "            <td>7            </td> <td>12   </td>\n",
       "        </tr>\n",
       "        <tr>\n",
       "            <td>8            </td> <td>7    </td>\n",
       "        </tr>\n",
       "        <tr>\n",
       "            <td>9            </td> <td>2    </td>\n",
       "        </tr>\n",
       "        <tr>\n",
       "            <td>10           </td> <td>2    </td>\n",
       "        </tr>\n",
       "        <tr>\n",
       "            <td>11           </td> <td>1    </td>\n",
       "        </tr>\n",
       "    </tbody>\n",
       "</table>"
      ],
      "text/plain": [
       "<IPython.core.display.HTML object>"
      ]
     },
     "metadata": {},
     "output_type": "display_data"
    }
   ],
   "source": [
    "with_num_countries.group('num_countries').show()"
   ]
  },
  {
   "cell_type": "code",
   "execution_count": 63,
   "metadata": {},
   "outputs": [
    {
     "data": {
      "image/png": "[encoded data removed]",
      "text/plain": [
       "<Figure size 360x360 with 1 Axes>"
      ]
     },
     "metadata": {},
     "output_type": "display_data"
    }
   ],
   "source": [
    "with_num_countries.scatter('num_countries', 'artist_listeners')"
   ]
  },
  {
   "cell_type": "markdown",
   "metadata": {},
   "source": [
    "## Part 4: Artist Plays and Songs"
   ]
  },
  {
   "cell_type": "markdown",
   "metadata": {},
   "source": [
    "**Question 1.** For artists that appear both in the `artists` and `tracks` table, find the average number of plays per song (`average_plays_per_song`) each artist has based on the number of songs the artist has in the `tracks` table. For example, if an artist has 100,000 plays and has 2 songs in the `tracks` table, the artist's `average_plays_per_song` would be 50,000. Save a table called `average_plays` with three columns: `artist_name`, `tag_list`, and `average_plays_per_song`."
   ]
  },
  {
   "cell_type": "markdown",
   "metadata": {},
   "source": [
    "average_plays = ...\n",
    "average_plays"
   ]
  },
  {
   "cell_type": "code",
   "execution_count": 64,
   "metadata": {
    "scrolled": true
   },
   "outputs": [
    {
     "data": {
      "text/html": [
       "<table border=\"1\" class=\"dataframe\">\n",
       "    <thead>\n",
       "        <tr>\n",
       "            <th>artist_name</th> <th>count</th>\n",
       "        </tr>\n",
       "    </thead>\n",
       "    <tbody>\n",
       "        <tr>\n",
       "            <td>!!!                </td> <td>34   </td>\n",
       "        </tr>\n",
       "        <tr>\n",
       "            <td>\"Weird Al\" Yankovic</td> <td>59   </td>\n",
       "        </tr>\n",
       "        <tr>\n",
       "            <td>$NOT               </td> <td>4    </td>\n",
       "        </tr>\n",
       "    </tbody>\n",
       "</table>\n",
       "<p>... (14561 rows omitted)</p>"
      ],
      "text/plain": [
       "<IPython.core.display.HTML object>"
      ]
     },
     "metadata": {},
     "output_type": "display_data"
    }
   ],
   "source": [
    "# number of songs per artist\n",
    "songs_per_artist = tracks.group('artist_name')\n",
    "songs_per_artist.show(3)"
   ]
  },
  {
   "cell_type": "code",
   "execution_count": 65,
   "metadata": {},
   "outputs": [
    {
     "data": {
      "text/html": [
       "<table border=\"1\" class=\"dataframe\">\n",
       "    <thead>\n",
       "        <tr>\n",
       "            <th>artist_name</th> <th>count</th> <th>country</th> <th>artist_listeners</th> <th>artist_plays</th> <th>tag_list</th>\n",
       "        </tr>\n",
       "    </thead>\n",
       "    <tbody>\n",
       "        <tr>\n",
       "            <td>!!!         </td> <td>34   </td> <td>United States</td> <td>568805          </td> <td>1.00344e+07 </td> <td>['seen live', 'electronic', 'indie', 'dance', 'indie roc ...</td>\n",
       "        </tr>\n",
       "        <tr>\n",
       "            <td>'Til Tuesday</td> <td>1    </td> <td>United States</td> <td>131312          </td> <td>863655      </td> <td>['new wave', '80s', 'female vocalists', 'pop', 'aimee ma ...</td>\n",
       "        </tr>\n",
       "        <tr>\n",
       "            <td>*NSYNC      </td> <td>17   </td> <td>United States</td> <td>949966          </td> <td>1.26844e+07 </td> <td>['pop', 'boybands', '90s', 'dance', 'seen live', 'boy ba ...</td>\n",
       "        </tr>\n",
       "    </tbody>\n",
       "</table>\n",
       "<p>... (4803 rows omitted)</p>"
      ],
      "text/plain": [
       "<IPython.core.display.HTML object>"
      ]
     },
     "metadata": {},
     "output_type": "display_data"
    }
   ],
   "source": [
    "# join grouped tracks with artists\n",
    "joined = songs_per_artist.join('artist_name', artists, 'artist')\n",
    "joined.show(3)"
   ]
  },
  {
   "cell_type": "code",
   "execution_count": 66,
   "metadata": {},
   "outputs": [
    {
     "data": {
      "text/html": [
       "<table border=\"1\" class=\"dataframe\">\n",
       "    <thead>\n",
       "        <tr>\n",
       "            <th>artist_name</th> <th>count</th> <th>country</th> <th>artist_listeners</th> <th>artist_plays</th> <th>tag_list</th> <th>average_plays_per_song</th>\n",
       "        </tr>\n",
       "    </thead>\n",
       "    <tbody>\n",
       "        <tr>\n",
       "            <td>!!!         </td> <td>34   </td> <td>United States</td> <td>568805          </td> <td>1.00344e+07 </td> <td>['seen live', 'electronic', 'indie', 'dance', 'indie roc ...</td> <td>295130                </td>\n",
       "        </tr>\n",
       "        <tr>\n",
       "            <td>'Til Tuesday</td> <td>1    </td> <td>United States</td> <td>131312          </td> <td>863655      </td> <td>['new wave', '80s', 'female vocalists', 'pop', 'aimee ma ...</td> <td>863655                </td>\n",
       "        </tr>\n",
       "        <tr>\n",
       "            <td>*NSYNC      </td> <td>17   </td> <td>United States</td> <td>949966          </td> <td>1.26844e+07 </td> <td>['pop', 'boybands', '90s', 'dance', 'seen live', 'boy ba ...</td> <td>746144                </td>\n",
       "        </tr>\n",
       "    </tbody>\n",
       "</table>\n",
       "<p>... (4803 rows omitted)</p>"
      ],
      "text/plain": [
       "<IPython.core.display.HTML object>"
      ]
     },
     "metadata": {},
     "output_type": "display_data"
    }
   ],
   "source": [
    "# calculate average plays per song\n",
    "joined = joined.with_column('average_plays_per_song', joined.column('artist_plays')/joined.column('count'))\n",
    "joined.show(3)"
   ]
  },
  {
   "cell_type": "code",
   "execution_count": 67,
   "metadata": {},
   "outputs": [
    {
     "data": {
      "text/html": [
       "<table border=\"1\" class=\"dataframe\">\n",
       "    <thead>\n",
       "        <tr>\n",
       "            <th>artist_name</th> <th>tag_list</th> <th>average_plays_per_song</th>\n",
       "        </tr>\n",
       "    </thead>\n",
       "    <tbody>\n",
       "        <tr>\n",
       "            <td>!!!           </td> <td>['seen live', 'electronic', 'indie', 'dance', 'indie roc ...</td> <td>295130                </td>\n",
       "        </tr>\n",
       "        <tr>\n",
       "            <td>'Til Tuesday  </td> <td>['new wave', '80s', 'female vocalists', 'pop', 'aimee ma ...</td> <td>863655                </td>\n",
       "        </tr>\n",
       "        <tr>\n",
       "            <td>*NSYNC        </td> <td>['pop', 'boybands', '90s', 'dance', 'seen live', 'boy ba ...</td> <td>746144                </td>\n",
       "        </tr>\n",
       "        <tr>\n",
       "            <td>10 Years      </td> <td>['alternative rock', 'rock', 'alternative', 'alternative ...</td> <td>1.68389e+06           </td>\n",
       "        </tr>\n",
       "        <tr>\n",
       "            <td>10,000 Maniacs</td> <td>['female vocalists', 'alternative', 'rock', 'pop', '80s' ...</td> <td>2.00936e+06           </td>\n",
       "        </tr>\n",
       "        <tr>\n",
       "            <td>1000mods      </td> <td>['stoner rock', 'desert rock', 'stoner', 'seen live', 'g ...</td> <td>368544                </td>\n",
       "        </tr>\n",
       "        <tr>\n",
       "            <td>10cc          </td> <td>['classic rock', 'rock', '70s', 'pop', 'british', 'soft  ...</td> <td>2.03328e+06           </td>\n",
       "        </tr>\n",
       "        <tr>\n",
       "            <td>112           </td> <td>['rnb', 'soul', 'hip-hop', '112', 'r and b', 'hip hop',  ...</td> <td>244822                </td>\n",
       "        </tr>\n",
       "        <tr>\n",
       "            <td>12 Stones     </td> <td>['alternative rock', 'rock', 'christian rock', 'alternat ...</td> <td>2.12758e+06           </td>\n",
       "        </tr>\n",
       "        <tr>\n",
       "            <td>12th Planet   </td> <td>['dubstep', 'electronic', 'experimental', 'hip-hop', 'se ...</td> <td>14166.8               </td>\n",
       "        </tr>\n",
       "    </tbody>\n",
       "</table>\n",
       "<p>... (4796 rows omitted)</p>"
      ],
      "text/plain": [
       "artist_name    | tag_list                                                     | average_plays_per_song\n",
       "!!!            | ['seen live', 'electronic', 'indie', 'dance', 'indie roc ... | 295130\n",
       "'Til Tuesday   | ['new wave', '80s', 'female vocalists', 'pop', 'aimee ma ... | 863655\n",
       "*NSYNC         | ['pop', 'boybands', '90s', 'dance', 'seen live', 'boy ba ... | 746144\n",
       "10 Years       | ['alternative rock', 'rock', 'alternative', 'alternative ... | 1.68389e+06\n",
       "10,000 Maniacs | ['female vocalists', 'alternative', 'rock', 'pop', '80s' ... | 2.00936e+06\n",
       "1000mods       | ['stoner rock', 'desert rock', 'stoner', 'seen live', 'g ... | 368544\n",
       "10cc           | ['classic rock', 'rock', '70s', 'pop', 'british', 'soft  ... | 2.03328e+06\n",
       "112            | ['rnb', 'soul', 'hip-hop', '112', 'r and b', 'hip hop',  ... | 244822\n",
       "12 Stones      | ['alternative rock', 'rock', 'christian rock', 'alternat ... | 2.12758e+06\n",
       "12th Planet    | ['dubstep', 'electronic', 'experimental', 'hip-hop', 'se ... | 14166.8\n",
       "... (4796 rows omitted)"
      ]
     },
     "execution_count": 67,
     "metadata": {},
     "output_type": "execute_result"
    }
   ],
   "source": [
    "average_plays = joined.select('artist_name','tag_list','average_plays_per_song')\n",
    "average_plays"
   ]
  },
  {
   "cell_type": "code",
   "execution_count": 68,
   "metadata": {},
   "outputs": [
    {
     "name": "stdout",
     "output_type": "stream",
     "text": [
      "~~~~~~~~~~~~~~~~~~~~~~~~~~~~~~~~~~~~~~~~~~~~~~~~~~~~~~~~~~~~~~~~~~~~~\n",
      "Running tests\n",
      "\n",
      "---------------------------------------------------------------------\n",
      "Test summary\n",
      "    Passed: 1\n",
      "    Failed: 0\n",
      "[ooooooooook] 100.0% passed\n",
      "\n"
     ]
    }
   ],
   "source": [
    "_ = ok.grade('q4_1')"
   ]
  },
  {
   "cell_type": "markdown",
   "metadata": {},
   "source": [
    "**Question 2.** The first tag in the `tag_list` is the most popular tag for that artist. What is the most popular tag for the artist with the highest `average_plays_per_song`? Save that tag to `highest_average_tag`."
   ]
  },
  {
   "cell_type": "markdown",
   "metadata": {},
   "source": [
    "highest_average_tag = ...\n",
    "highest_average_tag"
   ]
  },
  {
   "cell_type": "code",
   "execution_count": 69,
   "metadata": {},
   "outputs": [
    {
     "data": {
      "text/plain": [
       "'emo'"
      ]
     },
     "execution_count": 69,
     "metadata": {},
     "output_type": "execute_result"
    }
   ],
   "source": [
    "highest_average_tag = average_plays.sort('average_plays_per_song', descending=True).column('tag_list').item(0)[0]\n",
    "highest_average_tag"
   ]
  },
  {
   "cell_type": "code",
   "execution_count": 70,
   "metadata": {},
   "outputs": [
    {
     "name": "stdout",
     "output_type": "stream",
     "text": [
      "~~~~~~~~~~~~~~~~~~~~~~~~~~~~~~~~~~~~~~~~~~~~~~~~~~~~~~~~~~~~~~~~~~~~~\n",
      "Running tests\n",
      "\n",
      "---------------------------------------------------------------------\n",
      "Test summary\n",
      "    Passed: 1\n",
      "    Failed: 0\n",
      "[ooooooooook] 100.0% passed\n",
      "\n"
     ]
    }
   ],
   "source": [
    "_ = ok.grade('q4_2')"
   ]
  },
  {
   "cell_type": "markdown",
   "metadata": {},
   "source": [
    "**Question 3.** For the top 5 artists with the highest `average_plays_per_song`, rank the frequency of tags associated with each of these artists by giving them a score of 1 to 5. A score of 1 means the tag is associated with only 1 of these top 5 artists, a score of 2 means that the tag is associated with 2 of the top 5 artists, etc. Create a table called `scores` with two columns: `tag` and `score`. Arrange the table so that tags appear in decreasing order of score. "
   ]
  },
  {
   "cell_type": "markdown",
   "metadata": {},
   "source": [
    "scores = ...\n",
    "scores"
   ]
  },
  {
   "cell_type": "code",
   "execution_count": 71,
   "metadata": {
    "scrolled": true
   },
   "outputs": [
    {
     "data": {
      "text/plain": [
       "array([list(['emo', 'rock', 'alternative', 'seen live', 'indie', 'indie rock', 'alternative rock', 'punk', 'brand new', 'pop punk', 'post-hardcore', 'punk rock', 'screamo', 'american', 'favorites', 'amazing', 'love', 'awesome', 'hardcore', 'favorite', 'pop-punk', 'emocore', 'new york', 'acoustic', 'long island', 'experimental', 'progressive rock', 'metal', '00s', 'post hardcore', 'pop', 'favorite bands', 'indie pop', 'post-punk', 'wristslitters', 'classic rock', 'usa', 'pop rock']),\n",
       "       list(['progressive rock', 'progressive metal', 'psychedelic', 'progressive', 'rock', 'seen live', 'psychedelic rock', 'british', 'alternative', 'experimental', 'alternative rock', 'metal', 'ambient', 'space rock', 'prog rock', 'art rock', 'steven wilson', 'porcupine tree', 'prog', 'atmospheric', 'post-rock', 'experimental rock', 'melancholic', 'uk', 'hard rock']),\n",
       "       list(['female vocalists', 'alternative', 'rock', 'singer-songwriter', 'indie', 'alternative rock', 'seen live', 'indie rock', 'british', 'female vocalist', '90s', 'pj harvey', 'experimental', 'female', 'post-punk', 'uk', 'folk', 'punk', 'blues', 'sexy', 'lo-fi', 'grunge', '00s', 'art rock', 'english', 'riot grrrl', 'pop', 'electronic', 'melancholy', 'england', 'favorites', 'female vocals', 'trip-hop', 'female voices', 'electronica', 'experimental rock', 'pj', 'dark', 'britpop', 'love', 'want to see live', 'punk rock', 'garage rock', 'punk blues']),\n",
       "       list(['seen live', 'indie', 'indie rock', 'british', 'alternative', 'rock', 'post-punk', 'alternative rock', 'britpop', 'post-punk revival', 'new wave', 'editors', 'uk', '00s', 'post punk', 'electronic', 'indie pop', 'england', 'birmingham', 'english', 'male vocalists', 'dark', 'melancholy', 'brit rock', 'britrock', 'pop', 'indie-rock']),\n",
       "       list(['alternative rock', 'alternative', 'rock', 'seen live', 'indie', 'britpop', 'british', 'indie rock', 'placebo', 'glam rock', '90s', 'electronic', 'uk', 'melancholic', 'glam', 'male vocalists', 'pop', 'progressive rock', 'emo', 'post-punk', 'punk', 'love', 'favorites', 'new wave', 'britrock', '00s', 'neo-glam', 'english', 'metal', 'psychedelic', 'brit rock', 'electronica', 'grunge'])],\n",
       "      dtype=object)"
      ]
     },
     "execution_count": 71,
     "metadata": {},
     "output_type": "execute_result"
    }
   ],
   "source": [
    "tag_lists = average_plays.sort('average_plays_per_song', descending=True).take(np.arange(5)).column('tag_list')\n",
    "tag_lists"
   ]
  },
  {
   "cell_type": "code",
   "execution_count": 72,
   "metadata": {
    "scrolled": true
   },
   "outputs": [
    {
     "data": {
      "text/plain": [
       "array(['emo', 'rock', 'alternative', 'seen live', 'indie', 'indie rock',\n",
       "       'alternative rock', 'punk', 'brand new', 'pop punk',\n",
       "       'post-hardcore', 'punk rock', 'screamo', 'american', 'favorites',\n",
       "       'amazing', 'love', 'awesome', 'hardcore', 'favorite', 'pop-punk',\n",
       "       'emocore', 'new york', 'acoustic', 'long island', 'experimental',\n",
       "       'progressive rock', 'metal', '00s', 'post hardcore', 'pop',\n",
       "       'favorite bands', 'indie pop', 'post-punk', 'wristslitters',\n",
       "       'classic rock', 'usa', 'pop rock', 'progressive rock',\n",
       "       'progressive metal', 'psychedelic', 'progressive', 'rock',\n",
       "       'seen live', 'psychedelic rock', 'british', 'alternative',\n",
       "       'experimental', 'alternative rock', 'metal', 'ambient',\n",
       "       'space rock', 'prog rock', 'art rock', 'steven wilson',\n",
       "       'porcupine tree', 'prog', 'atmospheric', 'post-rock',\n",
       "       'experimental rock', 'melancholic', 'uk', 'hard rock',\n",
       "       'female vocalists', 'alternative', 'rock', 'singer-songwriter',\n",
       "       'indie', 'alternative rock', 'seen live', 'indie rock', 'british',\n",
       "       'female vocalist', '90s', 'pj harvey', 'experimental', 'female',\n",
       "       'post-punk', 'uk', 'folk', 'punk', 'blues', 'sexy', 'lo-fi',\n",
       "       'grunge', '00s', 'art rock', 'english', 'riot grrrl', 'pop',\n",
       "       'electronic', 'melancholy', 'england', 'favorites',\n",
       "       'female vocals', 'trip-hop', 'female voices', 'electronica',\n",
       "       'experimental rock', 'pj', 'dark', 'britpop', 'love',\n",
       "       'want to see live', 'punk rock', 'garage rock', 'punk blues',\n",
       "       'seen live', 'indie', 'indie rock', 'british', 'alternative',\n",
       "       'rock', 'post-punk', 'alternative rock', 'britpop',\n",
       "       'post-punk revival', 'new wave', 'editors', 'uk', '00s',\n",
       "       'post punk', 'electronic', 'indie pop', 'england', 'birmingham',\n",
       "       'english', 'male vocalists', 'dark', 'melancholy', 'brit rock',\n",
       "       'britrock', 'pop', 'indie-rock', 'alternative rock', 'alternative',\n",
       "       'rock', 'seen live', 'indie', 'britpop', 'british', 'indie rock',\n",
       "       'placebo', 'glam rock', '90s', 'electronic', 'uk', 'melancholic',\n",
       "       'glam', 'male vocalists', 'pop', 'progressive rock', 'emo',\n",
       "       'post-punk', 'punk', 'love', 'favorites', 'new wave', 'britrock',\n",
       "       '00s', 'neo-glam', 'english', 'metal', 'psychedelic', 'brit rock',\n",
       "       'electronica', 'grunge'], dtype='<U32')"
      ]
     },
     "execution_count": 72,
     "metadata": {},
     "output_type": "execute_result"
    }
   ],
   "source": [
    "all_tags = make_array()\n",
    "for i in np.arange(5):\n",
    "    for tag in tag_lists.item(i):\n",
    "        all_tags = np.append(all_tags, tag)\n",
    "        \n",
    "all_tags"
   ]
  },
  {
   "cell_type": "code",
   "execution_count": 73,
   "metadata": {
    "scrolled": true
   },
   "outputs": [
    {
     "data": {
      "text/html": [
       "<table border=\"1\" class=\"dataframe\">\n",
       "    <thead>\n",
       "        <tr>\n",
       "            <th>tag</th> <th>score</th>\n",
       "        </tr>\n",
       "    </thead>\n",
       "    <tbody>\n",
       "        <tr>\n",
       "            <td>seen live        </td> <td>5    </td>\n",
       "        </tr>\n",
       "        <tr>\n",
       "            <td>rock             </td> <td>5    </td>\n",
       "        </tr>\n",
       "        <tr>\n",
       "            <td>alternative rock </td> <td>5    </td>\n",
       "        </tr>\n",
       "        <tr>\n",
       "            <td>alternative      </td> <td>5    </td>\n",
       "        </tr>\n",
       "        <tr>\n",
       "            <td>uk               </td> <td>4    </td>\n",
       "        </tr>\n",
       "        <tr>\n",
       "            <td>post-punk        </td> <td>4    </td>\n",
       "        </tr>\n",
       "        <tr>\n",
       "            <td>pop              </td> <td>4    </td>\n",
       "        </tr>\n",
       "        <tr>\n",
       "            <td>indie rock       </td> <td>4    </td>\n",
       "        </tr>\n",
       "        <tr>\n",
       "            <td>indie            </td> <td>4    </td>\n",
       "        </tr>\n",
       "        <tr>\n",
       "            <td>british          </td> <td>4    </td>\n",
       "        </tr>\n",
       "        <tr>\n",
       "            <td>00s              </td> <td>4    </td>\n",
       "        </tr>\n",
       "        <tr>\n",
       "            <td>punk             </td> <td>3    </td>\n",
       "        </tr>\n",
       "        <tr>\n",
       "            <td>progressive rock </td> <td>3    </td>\n",
       "        </tr>\n",
       "        <tr>\n",
       "            <td>metal            </td> <td>3    </td>\n",
       "        </tr>\n",
       "        <tr>\n",
       "            <td>love             </td> <td>3    </td>\n",
       "        </tr>\n",
       "        <tr>\n",
       "            <td>favorites        </td> <td>3    </td>\n",
       "        </tr>\n",
       "        <tr>\n",
       "            <td>experimental     </td> <td>3    </td>\n",
       "        </tr>\n",
       "        <tr>\n",
       "            <td>english          </td> <td>3    </td>\n",
       "        </tr>\n",
       "        <tr>\n",
       "            <td>electronic       </td> <td>3    </td>\n",
       "        </tr>\n",
       "        <tr>\n",
       "            <td>britpop          </td> <td>3    </td>\n",
       "        </tr>\n",
       "        <tr>\n",
       "            <td>punk rock        </td> <td>2    </td>\n",
       "        </tr>\n",
       "        <tr>\n",
       "            <td>psychedelic      </td> <td>2    </td>\n",
       "        </tr>\n",
       "        <tr>\n",
       "            <td>new wave         </td> <td>2    </td>\n",
       "        </tr>\n",
       "        <tr>\n",
       "            <td>melancholy       </td> <td>2    </td>\n",
       "        </tr>\n",
       "        <tr>\n",
       "            <td>melancholic      </td> <td>2    </td>\n",
       "        </tr>\n",
       "        <tr>\n",
       "            <td>male vocalists   </td> <td>2    </td>\n",
       "        </tr>\n",
       "        <tr>\n",
       "            <td>indie pop        </td> <td>2    </td>\n",
       "        </tr>\n",
       "        <tr>\n",
       "            <td>grunge           </td> <td>2    </td>\n",
       "        </tr>\n",
       "        <tr>\n",
       "            <td>experimental rock</td> <td>2    </td>\n",
       "        </tr>\n",
       "        <tr>\n",
       "            <td>england          </td> <td>2    </td>\n",
       "        </tr>\n",
       "        <tr>\n",
       "            <td>emo              </td> <td>2    </td>\n",
       "        </tr>\n",
       "        <tr>\n",
       "            <td>electronica      </td> <td>2    </td>\n",
       "        </tr>\n",
       "        <tr>\n",
       "            <td>dark             </td> <td>2    </td>\n",
       "        </tr>\n",
       "        <tr>\n",
       "            <td>britrock         </td> <td>2    </td>\n",
       "        </tr>\n",
       "        <tr>\n",
       "            <td>brit rock        </td> <td>2    </td>\n",
       "        </tr>\n",
       "        <tr>\n",
       "            <td>art rock         </td> <td>2    </td>\n",
       "        </tr>\n",
       "        <tr>\n",
       "            <td>90s              </td> <td>2    </td>\n",
       "        </tr>\n",
       "        <tr>\n",
       "            <td>wristslitters    </td> <td>1    </td>\n",
       "        </tr>\n",
       "        <tr>\n",
       "            <td>want to see live </td> <td>1    </td>\n",
       "        </tr>\n",
       "        <tr>\n",
       "            <td>usa              </td> <td>1    </td>\n",
       "        </tr>\n",
       "        <tr>\n",
       "            <td>trip-hop         </td> <td>1    </td>\n",
       "        </tr>\n",
       "        <tr>\n",
       "            <td>steven wilson    </td> <td>1    </td>\n",
       "        </tr>\n",
       "        <tr>\n",
       "            <td>space rock       </td> <td>1    </td>\n",
       "        </tr>\n",
       "        <tr>\n",
       "            <td>singer-songwriter</td> <td>1    </td>\n",
       "        </tr>\n",
       "        <tr>\n",
       "            <td>sexy             </td> <td>1    </td>\n",
       "        </tr>\n",
       "        <tr>\n",
       "            <td>screamo          </td> <td>1    </td>\n",
       "        </tr>\n",
       "        <tr>\n",
       "            <td>riot grrrl       </td> <td>1    </td>\n",
       "        </tr>\n",
       "        <tr>\n",
       "            <td>punk blues       </td> <td>1    </td>\n",
       "        </tr>\n",
       "        <tr>\n",
       "            <td>psychedelic rock </td> <td>1    </td>\n",
       "        </tr>\n",
       "        <tr>\n",
       "            <td>progressive metal</td> <td>1    </td>\n",
       "        </tr>\n",
       "        <tr>\n",
       "            <td>progressive      </td> <td>1    </td>\n",
       "        </tr>\n",
       "        <tr>\n",
       "            <td>prog rock        </td> <td>1    </td>\n",
       "        </tr>\n",
       "        <tr>\n",
       "            <td>prog             </td> <td>1    </td>\n",
       "        </tr>\n",
       "        <tr>\n",
       "            <td>post-rock        </td> <td>1    </td>\n",
       "        </tr>\n",
       "        <tr>\n",
       "            <td>post-punk revival</td> <td>1    </td>\n",
       "        </tr>\n",
       "        <tr>\n",
       "            <td>post-hardcore    </td> <td>1    </td>\n",
       "        </tr>\n",
       "        <tr>\n",
       "            <td>post punk        </td> <td>1    </td>\n",
       "        </tr>\n",
       "        <tr>\n",
       "            <td>post hardcore    </td> <td>1    </td>\n",
       "        </tr>\n",
       "        <tr>\n",
       "            <td>porcupine tree   </td> <td>1    </td>\n",
       "        </tr>\n",
       "        <tr>\n",
       "            <td>pop-punk         </td> <td>1    </td>\n",
       "        </tr>\n",
       "        <tr>\n",
       "            <td>pop rock         </td> <td>1    </td>\n",
       "        </tr>\n",
       "        <tr>\n",
       "            <td>pop punk         </td> <td>1    </td>\n",
       "        </tr>\n",
       "        <tr>\n",
       "            <td>placebo          </td> <td>1    </td>\n",
       "        </tr>\n",
       "        <tr>\n",
       "            <td>pj harvey        </td> <td>1    </td>\n",
       "        </tr>\n",
       "        <tr>\n",
       "            <td>pj               </td> <td>1    </td>\n",
       "        </tr>\n",
       "        <tr>\n",
       "            <td>new york         </td> <td>1    </td>\n",
       "        </tr>\n",
       "        <tr>\n",
       "            <td>neo-glam         </td> <td>1    </td>\n",
       "        </tr>\n",
       "        <tr>\n",
       "            <td>long island      </td> <td>1    </td>\n",
       "        </tr>\n",
       "        <tr>\n",
       "            <td>lo-fi            </td> <td>1    </td>\n",
       "        </tr>\n",
       "        <tr>\n",
       "            <td>indie-rock       </td> <td>1    </td>\n",
       "        </tr>\n",
       "        <tr>\n",
       "            <td>hardcore         </td> <td>1    </td>\n",
       "        </tr>\n",
       "        <tr>\n",
       "            <td>hard rock        </td> <td>1    </td>\n",
       "        </tr>\n",
       "        <tr>\n",
       "            <td>glam rock        </td> <td>1    </td>\n",
       "        </tr>\n",
       "        <tr>\n",
       "            <td>glam             </td> <td>1    </td>\n",
       "        </tr>\n",
       "        <tr>\n",
       "            <td>garage rock      </td> <td>1    </td>\n",
       "        </tr>\n",
       "        <tr>\n",
       "            <td>folk             </td> <td>1    </td>\n",
       "        </tr>\n",
       "        <tr>\n",
       "            <td>female voices    </td> <td>1    </td>\n",
       "        </tr>\n",
       "        <tr>\n",
       "            <td>female vocals    </td> <td>1    </td>\n",
       "        </tr>\n",
       "        <tr>\n",
       "            <td>female vocalists </td> <td>1    </td>\n",
       "        </tr>\n",
       "        <tr>\n",
       "            <td>female vocalist  </td> <td>1    </td>\n",
       "        </tr>\n",
       "        <tr>\n",
       "            <td>female           </td> <td>1    </td>\n",
       "        </tr>\n",
       "        <tr>\n",
       "            <td>favorite bands   </td> <td>1    </td>\n",
       "        </tr>\n",
       "        <tr>\n",
       "            <td>favorite         </td> <td>1    </td>\n",
       "        </tr>\n",
       "        <tr>\n",
       "            <td>emocore          </td> <td>1    </td>\n",
       "        </tr>\n",
       "        <tr>\n",
       "            <td>editors          </td> <td>1    </td>\n",
       "        </tr>\n",
       "        <tr>\n",
       "            <td>classic rock     </td> <td>1    </td>\n",
       "        </tr>\n",
       "        <tr>\n",
       "            <td>brand new        </td> <td>1    </td>\n",
       "        </tr>\n",
       "        <tr>\n",
       "            <td>blues            </td> <td>1    </td>\n",
       "        </tr>\n",
       "        <tr>\n",
       "            <td>birmingham       </td> <td>1    </td>\n",
       "        </tr>\n",
       "        <tr>\n",
       "            <td>awesome          </td> <td>1    </td>\n",
       "        </tr>\n",
       "        <tr>\n",
       "            <td>atmospheric      </td> <td>1    </td>\n",
       "        </tr>\n",
       "        <tr>\n",
       "            <td>american         </td> <td>1    </td>\n",
       "        </tr>\n",
       "        <tr>\n",
       "            <td>ambient          </td> <td>1    </td>\n",
       "        </tr>\n",
       "        <tr>\n",
       "            <td>amazing          </td> <td>1    </td>\n",
       "        </tr>\n",
       "        <tr>\n",
       "            <td>acoustic         </td> <td>1    </td>\n",
       "        </tr>\n",
       "    </tbody>\n",
       "</table>"
      ],
      "text/plain": [
       "<IPython.core.display.HTML object>"
      ]
     },
     "metadata": {},
     "output_type": "display_data"
    }
   ],
   "source": [
    "tag_table = Table().with_column('tag', all_tags)\n",
    "scores = tag_table.group('tag').relabel('count', 'score').sort('score', descending=True)\n",
    "scores.show()"
   ]
  },
  {
   "cell_type": "code",
   "execution_count": 74,
   "metadata": {},
   "outputs": [
    {
     "name": "stdout",
     "output_type": "stream",
     "text": [
      "~~~~~~~~~~~~~~~~~~~~~~~~~~~~~~~~~~~~~~~~~~~~~~~~~~~~~~~~~~~~~~~~~~~~~\n",
      "Running tests\n",
      "\n",
      "---------------------------------------------------------------------\n",
      "Test summary\n",
      "    Passed: 1\n",
      "    Failed: 0\n",
      "[ooooooooook] 100.0% passed\n",
      "\n"
     ]
    }
   ],
   "source": [
    "_ = ok.grade('q4_3')"
   ]
  },
  {
   "cell_type": "markdown",
   "metadata": {},
   "source": [
    "## Part 5: Profile of a Top Hit"
   ]
  },
  {
   "cell_type": "markdown",
   "metadata": {},
   "source": [
    "`billboard.csv`, also from [Kaggle](https://www.kaggle.com/saberianz/billboard-charts), contains songs that were on the Billboard Hot 100 charts from 2015 to 2019. The Billboard Hot 100 is a weekly list of the top 100 current songs, ranked based on a combination of sales, radio time, and streaming activity.  Each week, each song on the Billboard Hot 100 is ranked from 1 to 100, and the popularity of hit songs can be seen by keeping track of features such as how many weeks the song appeared in the Billboard Hot 100, and the best ranking it achieved in that time. \n",
    "\n",
    "Run the cell below to load this data into `billboard`."
   ]
  },
  {
   "cell_type": "code",
   "execution_count": 75,
   "metadata": {
    "scrolled": true
   },
   "outputs": [
    {
     "data": {
      "text/html": [
       "<table border=\"1\" class=\"dataframe\">\n",
       "    <thead>\n",
       "        <tr>\n",
       "            <th>Song</th> <th>Artist</th> <th>Weeks On Chart</th> <th>Peak Rank</th>\n",
       "        </tr>\n",
       "    </thead>\n",
       "    <tbody>\n",
       "        <tr>\n",
       "            <td>Blank Space      </td> <td>Taylor Swift                    </td> <td>36            </td> <td>1        </td>\n",
       "        </tr>\n",
       "        <tr>\n",
       "            <td>Take Me To Church</td> <td>Hozier                          </td> <td>41            </td> <td>2        </td>\n",
       "        </tr>\n",
       "        <tr>\n",
       "            <td>Uptown Funk!     </td> <td>Mark Ronson Featuring Bruno Mars</td> <td>56            </td> <td>1        </td>\n",
       "        </tr>\n",
       "        <tr>\n",
       "            <td>Thinking Out Loud</td> <td>Ed Sheeran                      </td> <td>58            </td> <td>2        </td>\n",
       "        </tr>\n",
       "        <tr>\n",
       "            <td>Lips Are Movin   </td> <td>Meghan Trainor                  </td> <td>29            </td> <td>4        </td>\n",
       "        </tr>\n",
       "    </tbody>\n",
       "</table>\n",
       "<p>... (1946 rows omitted)</p>"
      ],
      "text/plain": [
       "<IPython.core.display.HTML object>"
      ]
     },
     "metadata": {},
     "output_type": "display_data"
    }
   ],
   "source": [
    "billboard = Table.read_table('billboard.csv')\n",
    "billboard.show(5)"
   ]
  },
  {
   "cell_type": "markdown",
   "metadata": {},
   "source": [
    "**Question 1.** Which artists have at least 2 songs that have peaked at #1 before? Save your answer in an array of artist names called `legends`."
   ]
  },
  {
   "cell_type": "markdown",
   "metadata": {},
   "source": [
    "legends = ...\n",
    "legends"
   ]
  },
  {
   "cell_type": "code",
   "execution_count": 76,
   "metadata": {},
   "outputs": [
    {
     "data": {
      "text/plain": [
       "array(['Drake', 'Justin Bieber', 'Taylor Swift', 'The Weeknd'],\n",
       "      dtype='<U71')"
      ]
     },
     "execution_count": 76,
     "metadata": {},
     "output_type": "execute_result"
    }
   ],
   "source": [
    "num_one = billboard.where('Peak Rank', 1).group('Artist').where('count', are.above_or_equal_to(2))\n",
    "legends = num_one.column('Artist')\n",
    "legends"
   ]
  },
  {
   "cell_type": "code",
   "execution_count": 77,
   "metadata": {},
   "outputs": [
    {
     "name": "stdout",
     "output_type": "stream",
     "text": [
      "~~~~~~~~~~~~~~~~~~~~~~~~~~~~~~~~~~~~~~~~~~~~~~~~~~~~~~~~~~~~~~~~~~~~~\n",
      "Running tests\n",
      "\n",
      "---------------------------------------------------------------------\n",
      "Test summary\n",
      "    Passed: 1\n",
      "    Failed: 0\n",
      "[ooooooooook] 100.0% passed\n",
      "\n"
     ]
    }
   ],
   "source": [
    "_ = ok.grade('q5_1')"
   ]
  },
  {
   "cell_type": "markdown",
   "metadata": {},
   "source": [
    "**Question 2.** Join the tables `tracks` and `billboard` based on the song names, into a table called `joined_by_song`."
   ]
  },
  {
   "cell_type": "markdown",
   "metadata": {},
   "source": [
    "joined_by_song = ...\n",
    "joined_by_song"
   ]
  },
  {
   "cell_type": "code",
   "execution_count": 78,
   "metadata": {},
   "outputs": [
    {
     "data": {
      "text/html": [
       "<table border=\"1\" class=\"dataframe\">\n",
       "    <thead>\n",
       "        <tr>\n",
       "            <th>track_name</th> <th>artist_name</th> <th>key</th> <th>popularity</th> <th>acousticness</th> <th>danceability</th> <th>energy</th> <th>valence</th> <th>tempo</th> <th>duration_min</th> <th>tempo_name</th> <th>Artist</th> <th>Weeks On Chart</th> <th>Peak Rank</th>\n",
       "        </tr>\n",
       "    </thead>\n",
       "    <tbody>\n",
       "        <tr>\n",
       "            <td>***Flawless     </td> <td>Beyoncé       </td> <td>C#  </td> <td>64        </td> <td>0.0953      </td> <td>0.476       </td> <td>0.688 </td> <td>0.352  </td> <td>140.553</td> <td>4.18267     </td> <td>Allegro   </td> <td>Beyonce Featuring Nicki Minaj Or Chimamanda Ngozi Adichie</td> <td>20            </td> <td>75       </td>\n",
       "        </tr>\n",
       "        <tr>\n",
       "            <td>...Ready For It?</td> <td>Taylor Swift  </td> <td>D   </td> <td>73        </td> <td>0.0527      </td> <td>0.613       </td> <td>0.764 </td> <td>0.417  </td> <td>160.015</td> <td>3.46978     </td> <td>Vivace    </td> <td>Taylor Swift                                             </td> <td>20            </td> <td>4        </td>\n",
       "        </tr>\n",
       "        <tr>\n",
       "            <td>1 Night         </td> <td>Mura Masa     </td> <td>G#  </td> <td>41        </td> <td>0.275       </td> <td>0.859       </td> <td>0.6   </td> <td>0.631  </td> <td>113.021</td> <td>3.46378     </td> <td>Moderato  </td> <td>Lil Yachty                                               </td> <td>20            </td> <td>49       </td>\n",
       "        </tr>\n",
       "        <tr>\n",
       "            <td>1-800-273-8255  </td> <td>Logic         </td> <td>F   </td> <td>84        </td> <td>0.57        </td> <td>0.62        </td> <td>0.574 </td> <td>0.352  </td> <td>100.021</td> <td>4.16955     </td> <td>Adante    </td> <td>Logic Featuring Alessia Cara & Khalid                    </td> <td>42            </td> <td>3        </td>\n",
       "        </tr>\n",
       "        <tr>\n",
       "            <td>1-800-273-8255  </td> <td>Our Last Night</td> <td>E   </td> <td>61        </td> <td>0.00335     </td> <td>0.593       </td> <td>0.799 </td> <td>0.355  </td> <td>99.975 </td> <td>3.92083     </td> <td>Adante    </td> <td>Logic Featuring Alessia Cara & Khalid                    </td> <td>42            </td> <td>3        </td>\n",
       "        </tr>\n",
       "        <tr>\n",
       "            <td>1.5             </td> <td>21 Savage     </td> <td>C#  </td> <td>77        </td> <td>0.000244    </td> <td>0.885       </td> <td>0.52  </td> <td>0.306  </td> <td>84.022 </td> <td>2.4776      </td> <td>Adagio    </td> <td>21 Savage                                                </td> <td>0             </td> <td>86       </td>\n",
       "        </tr>\n",
       "        <tr>\n",
       "            <td>10 Bands        </td> <td>Drake         </td> <td>G   </td> <td>67        </td> <td>0.23        </td> <td>0.835       </td> <td>0.756 </td> <td>0.87   </td> <td>173    </td> <td>2.96222     </td> <td>Vivace    </td> <td>Drake                                                    </td> <td>13            </td> <td>58       </td>\n",
       "        </tr>\n",
       "        <tr>\n",
       "            <td>100             </td> <td>Jon Hopkins   </td> <td>G#  </td> <td>30        </td> <td>0.0798      </td> <td>0.656       </td> <td>0.87  </td> <td>0.578  </td> <td>128.894</td> <td>6.00067     </td> <td>Allegro   </td> <td>The Game Featuring Drake                                 </td> <td>10            </td> <td>82       </td>\n",
       "        </tr>\n",
       "        <tr>\n",
       "            <td>100             </td> <td>Brandi Carlile</td> <td>C#  </td> <td>41        </td> <td>0.0243      </td> <td>0.742       </td> <td>0.631 </td> <td>0.527  </td> <td>122.011</td> <td>3.35312     </td> <td>Allegro   </td> <td>The Game Featuring Drake                                 </td> <td>10            </td> <td>82       </td>\n",
       "        </tr>\n",
       "        <tr>\n",
       "            <td>100             </td> <td>Katchafire    </td> <td>C#  </td> <td>49        </td> <td>0.286       </td> <td>0.717       </td> <td>0.721 </td> <td>0.696  </td> <td>83.959 </td> <td>3.50475     </td> <td>Adagio    </td> <td>The Game Featuring Drake                                 </td> <td>10            </td> <td>82       </td>\n",
       "        </tr>\n",
       "    </tbody>\n",
       "</table>\n",
       "<p>... (5334 rows omitted)</p>"
      ],
      "text/plain": [
       "track_name       | artist_name    | key  | popularity | acousticness | danceability | energy | valence | tempo   | duration_min | tempo_name | Artist                                                    | Weeks On Chart | Peak Rank\n",
       "***Flawless      | Beyoncé        | C#   | 64         | 0.0953       | 0.476        | 0.688  | 0.352   | 140.553 | 4.18267      | Allegro    | Beyonce Featuring Nicki Minaj Or Chimamanda Ngozi Adichie | 20             | 75\n",
       "...Ready For It? | Taylor Swift   | D    | 73         | 0.0527       | 0.613        | 0.764  | 0.417   | 160.015 | 3.46978      | Vivace     | Taylor Swift                                              | 20             | 4\n",
       "1 Night          | Mura Masa      | G#   | 41         | 0.275        | 0.859        | 0.6    | 0.631   | 113.021 | 3.46378      | Moderato   | Lil Yachty                                                | 20             | 49\n",
       "1-800-273-8255   | Logic          | F    | 84         | 0.57         | 0.62         | 0.574  | 0.352   | 100.021 | 4.16955      | Adante     | Logic Featuring Alessia Cara & Khalid                     | 42             | 3\n",
       "1-800-273-8255   | Our Last Night | E    | 61         | 0.00335      | 0.593        | 0.799  | 0.355   | 99.975  | 3.92083      | Adante     | Logic Featuring Alessia Cara & Khalid                     | 42             | 3\n",
       "1.5              | 21 Savage      | C#   | 77         | 0.000244     | 0.885        | 0.52   | 0.306   | 84.022  | 2.4776       | Adagio     | 21 Savage                                                 | 0              | 86\n",
       "10 Bands         | Drake          | G    | 67         | 0.23         | 0.835        | 0.756  | 0.87    | 173     | 2.96222      | Vivace     | Drake                                                     | 13             | 58\n",
       "100              | Jon Hopkins    | G#   | 30         | 0.0798       | 0.656        | 0.87   | 0.578   | 128.894 | 6.00067      | Allegro    | The Game Featuring Drake                                  | 10             | 82\n",
       "100              | Brandi Carlile | C#   | 41         | 0.0243       | 0.742        | 0.631  | 0.527   | 122.011 | 3.35312      | Allegro    | The Game Featuring Drake                                  | 10             | 82\n",
       "100              | Katchafire     | C#   | 49         | 0.286        | 0.717        | 0.721  | 0.696   | 83.959  | 3.50475      | Adagio     | The Game Featuring Drake                                  | 10             | 82\n",
       "... (5334 rows omitted)"
      ]
     },
     "execution_count": 78,
     "metadata": {},
     "output_type": "execute_result"
    }
   ],
   "source": [
    "joined_by_song = tracks.join('track_name', billboard, 'Song')\n",
    "joined_by_song"
   ]
  },
  {
   "cell_type": "code",
   "execution_count": 79,
   "metadata": {},
   "outputs": [
    {
     "data": {
      "text/plain": [
       "True"
      ]
     },
     "execution_count": 79,
     "metadata": {},
     "output_type": "execute_result"
    }
   ],
   "source": [
    "joined_by_song.labels == ('track_name', 'artist_name','key','popularity','acousticness','danceability','energy','valence','tempo','duration_min','tempo_name','Artist','Weeks On Chart','Peak Rank')"
   ]
  },
  {
   "cell_type": "code",
   "execution_count": 80,
   "metadata": {},
   "outputs": [
    {
     "data": {
      "text/plain": [
       "True"
      ]
     },
     "execution_count": 80,
     "metadata": {},
     "output_type": "execute_result"
    }
   ],
   "source": [
    "isinstance(joined_by_song, Table)"
   ]
  },
  {
   "cell_type": "code",
   "execution_count": 81,
   "metadata": {},
   "outputs": [
    {
     "name": "stdout",
     "output_type": "stream",
     "text": [
      "~~~~~~~~~~~~~~~~~~~~~~~~~~~~~~~~~~~~~~~~~~~~~~~~~~~~~~~~~~~~~~~~~~~~~\n",
      "Running tests\n",
      "\n",
      "---------------------------------------------------------------------\n",
      "Test summary\n",
      "    Passed: 1\n",
      "    Failed: 0\n",
      "[ooooooooook] 100.0% passed\n",
      "\n"
     ]
    }
   ],
   "source": [
    "_ = ok.grade('q5_2')"
   ]
  },
  {
   "cell_type": "markdown",
   "metadata": {},
   "source": [
    "**Question 3.** Take note of the number of rows in `joined_by_song` and the number of rows in `billboard`. Explain why this happens."
   ]
  },
  {
   "cell_type": "code",
   "execution_count": 82,
   "metadata": {},
   "outputs": [
    {
     "name": "stdout",
     "output_type": "stream",
     "text": [
      "5344\n",
      "1951\n"
     ]
    }
   ],
   "source": [
    "print(joined_by_song.num_rows)\n",
    "print(billboard.num_rows)"
   ]
  },
  {
   "cell_type": "markdown",
   "metadata": {},
   "source": [
    "<hr style=\"color:Maroon;background-color:Maroon;border:0 none; height: 3px;\">\n",
    "\n",
    "The number of rows in `joined_by_song` is ___higher___ than the number of rows in billboard. This is because there are several songs in `tracks` that have the same name but different artists. Each such row of `tracks` is being matched to a song in `billboard` even though the artists may be different.\n",
    "\n",
    "<hr style=\"color:Maroon;background-color:Maroon;border:0 none; height: 3px;\">"
   ]
  },
  {
   "cell_type": "markdown",
   "metadata": {},
   "source": [
    "**Question 4.** It is better to join the tables based on two features: song *and* artist. Since the `join` command only allows to join based on one feature, we will create a new feature that is a combination of song and artist. Add a new column to each of the tables `tracks` and `billboard` called `Song; Artist` and then join the two tables by `Song; Artist` into a table called `joined_by_song_artist`. The column `Song; Artist` should contain strings formatted like \"Blank Space; Taylor Swift\", for example."
   ]
  },
  {
   "cell_type": "markdown",
   "metadata": {},
   "source": [
    "joined_by_song_artist = ...\n",
    "joined_by_song_artist"
   ]
  },
  {
   "cell_type": "code",
   "execution_count": 83,
   "metadata": {},
   "outputs": [
    {
     "data": {
      "text/html": [
       "<table border=\"1\" class=\"dataframe\">\n",
       "    <thead>\n",
       "        <tr>\n",
       "            <th>Song</th> <th>Artist</th> <th>Weeks On Chart</th> <th>Peak Rank</th> <th>Song; Artist</th>\n",
       "        </tr>\n",
       "    </thead>\n",
       "    <tbody>\n",
       "        <tr>\n",
       "            <td>Blank Space      </td> <td>Taylor Swift                    </td> <td>36            </td> <td>1        </td> <td>Blank Space; Taylor Swift                     </td>\n",
       "        </tr>\n",
       "        <tr>\n",
       "            <td>Take Me To Church</td> <td>Hozier                          </td> <td>41            </td> <td>2        </td> <td>Take Me To Church; Hozier                     </td>\n",
       "        </tr>\n",
       "        <tr>\n",
       "            <td>Uptown Funk!     </td> <td>Mark Ronson Featuring Bruno Mars</td> <td>56            </td> <td>1        </td> <td>Uptown Funk!; Mark Ronson Featuring Bruno Mars</td>\n",
       "        </tr>\n",
       "    </tbody>\n",
       "</table>\n",
       "<p>... (1948 rows omitted)</p>"
      ],
      "text/plain": [
       "<IPython.core.display.HTML object>"
      ]
     },
     "metadata": {},
     "output_type": "display_data"
    }
   ],
   "source": [
    "def combine_song_artist(song, artist):\n",
    "    return song+\"; \"+artist\n",
    "\n",
    "billboard = billboard.with_column('Song; Artist', billboard.apply(combine_song_artist, 'Song', 'Artist'))\n",
    "billboard.show(3)"
   ]
  },
  {
   "cell_type": "code",
   "execution_count": 84,
   "metadata": {},
   "outputs": [
    {
     "data": {
      "text/html": [
       "<table border=\"1\" class=\"dataframe\">\n",
       "    <thead>\n",
       "        <tr>\n",
       "            <th>artist_name</th> <th>track_name</th> <th>key</th> <th>popularity</th> <th>acousticness</th> <th>danceability</th> <th>energy</th> <th>valence</th> <th>tempo</th> <th>duration_min</th> <th>tempo_name</th> <th>Song; Artist</th>\n",
       "        </tr>\n",
       "    </thead>\n",
       "    <tbody>\n",
       "        <tr>\n",
       "            <td>Henri Salvador   </td> <td>C'est beau de faire un Show     </td> <td>C#  </td> <td>0         </td> <td>0.611       </td> <td>0.389       </td> <td>0.91  </td> <td>0.814  </td> <td>166.969</td> <td>1.65622     </td> <td>Vivace    </td> <td>C'est beau de faire un Show; Henri Salvador        </td>\n",
       "        </tr>\n",
       "        <tr>\n",
       "            <td>Martin & les fées</td> <td>Perdu d'avance (par Gad Elmaleh)</td> <td>F#  </td> <td>1         </td> <td>0.246       </td> <td>0.59        </td> <td>0.737 </td> <td>0.816  </td> <td>174.003</td> <td>2.28955     </td> <td>Vivace    </td> <td>Perdu d'avance (par Gad Elmaleh); Martin & les fées</td>\n",
       "        </tr>\n",
       "        <tr>\n",
       "            <td>Joseph Williams  </td> <td>Don't Let Me Be Lonely Tonight  </td> <td>C   </td> <td>3         </td> <td>0.952       </td> <td>0.663       </td> <td>0.131 </td> <td>0.368  </td> <td>99.488 </td> <td>2.83778     </td> <td>Adante    </td> <td>Don't Let Me Be Lonely Tonight; Joseph Williams    </td>\n",
       "        </tr>\n",
       "    </tbody>\n",
       "</table>\n",
       "<p>... (176511 rows omitted)</p>"
      ],
      "text/plain": [
       "<IPython.core.display.HTML object>"
      ]
     },
     "metadata": {},
     "output_type": "display_data"
    }
   ],
   "source": [
    "tracks = tracks.with_column('Song; Artist', tracks.apply(combine_song_artist, 'track_name', 'artist_name'))\n",
    "tracks.show(3)"
   ]
  },
  {
   "cell_type": "code",
   "execution_count": 85,
   "metadata": {
    "scrolled": true
   },
   "outputs": [
    {
     "data": {
      "text/html": [
       "<table border=\"1\" class=\"dataframe\">\n",
       "    <thead>\n",
       "        <tr>\n",
       "            <th>Song; Artist</th> <th>artist_name</th> <th>track_name</th> <th>key</th> <th>popularity</th> <th>acousticness</th> <th>danceability</th> <th>energy</th> <th>valence</th> <th>tempo</th> <th>duration_min</th> <th>tempo_name</th> <th>Song</th> <th>Artist</th> <th>Weeks On Chart</th> <th>Peak Rank</th>\n",
       "        </tr>\n",
       "    </thead>\n",
       "    <tbody>\n",
       "        <tr>\n",
       "            <td>...Ready For It?; Taylor Swift</td> <td>Taylor Swift</td> <td>...Ready For It?</td> <td>D   </td> <td>73        </td> <td>0.0527      </td> <td>0.613       </td> <td>0.764 </td> <td>0.417  </td> <td>160.015</td> <td>3.46978     </td> <td>Vivace    </td> <td>...Ready For It?</td> <td>Taylor Swift</td> <td>20            </td> <td>4        </td>\n",
       "        </tr>\n",
       "        <tr>\n",
       "            <td>1.5; 21 Savage                </td> <td>21 Savage   </td> <td>1.5             </td> <td>C#  </td> <td>77        </td> <td>0.000244    </td> <td>0.885       </td> <td>0.52  </td> <td>0.306  </td> <td>84.022 </td> <td>2.4776      </td> <td>Adagio    </td> <td>1.5             </td> <td>21 Savage   </td> <td>0             </td> <td>86       </td>\n",
       "        </tr>\n",
       "        <tr>\n",
       "            <td>10 Bands; Drake               </td> <td>Drake       </td> <td>10 Bands        </td> <td>G   </td> <td>67        </td> <td>0.23        </td> <td>0.835       </td> <td>0.756 </td> <td>0.87   </td> <td>173    </td> <td>2.96222     </td> <td>Vivace    </td> <td>10 Bands        </td> <td>Drake       </td> <td>13            </td> <td>58       </td>\n",
       "        </tr>\n",
       "        <tr>\n",
       "            <td>100 Grandkids; Mac Miller     </td> <td>Mac Miller  </td> <td>100 Grandkids   </td> <td>A#  </td> <td>65        </td> <td>0.371       </td> <td>0.735       </td> <td>0.749 </td> <td>0.373  </td> <td>93.718 </td> <td>4.64178     </td> <td>Adante    </td> <td>100 Grandkids   </td> <td>Mac Miller  </td> <td>0             </td> <td>100      </td>\n",
       "        </tr>\n",
       "        <tr>\n",
       "            <td>1942 Flows; Meek Mill         </td> <td>Meek Mill   </td> <td>1942 Flows      </td> <td>D   </td> <td>62        </td> <td>0.0515      </td> <td>0.63        </td> <td>0.628 </td> <td>0.266  </td> <td>121.307</td> <td>4.71112     </td> <td>Allegro   </td> <td>1942 Flows      </td> <td>Meek Mill   </td> <td>0             </td> <td>83       </td>\n",
       "        </tr>\n",
       "        <tr>\n",
       "            <td>2 Phones; Kevin Gates         </td> <td>Kevin Gates </td> <td>2 Phones        </td> <td>G   </td> <td>71        </td> <td>0.157       </td> <td>0.895       </td> <td>0.681 </td> <td>0.554  </td> <td>121.918</td> <td>4           </td> <td>Allegro   </td> <td>2 Phones        </td> <td>Kevin Gates </td> <td>25            </td> <td>17       </td>\n",
       "        </tr>\n",
       "        <tr>\n",
       "            <td>24K Magic; Bruno Mars         </td> <td>Bruno Mars  </td> <td>24K Magic       </td> <td>C#  </td> <td>80        </td> <td>0.034       </td> <td>0.818       </td> <td>0.803 </td> <td>0.632  </td> <td>106.97 </td> <td>3.76638     </td> <td>Adante    </td> <td>24K Magic       </td> <td>Bruno Mars  </td> <td>41            </td> <td>4        </td>\n",
       "        </tr>\n",
       "        <tr>\n",
       "            <td>4 Your Eyez Only; J. Cole     </td> <td>J. Cole     </td> <td>4 Your Eyez Only</td> <td>B   </td> <td>69        </td> <td>0.378       </td> <td>0.704       </td> <td>0.481 </td> <td>0.494  </td> <td>78.628 </td> <td>8.83755     </td> <td>Adagio    </td> <td>4 Your Eyez Only</td> <td>J. Cole     </td> <td>0             </td> <td>29       </td>\n",
       "        </tr>\n",
       "        <tr>\n",
       "            <td>44 More; Logic                </td> <td>Logic       </td> <td>44 More         </td> <td>C#  </td> <td>78        </td> <td>0.0635      </td> <td>0.829       </td> <td>0.589 </td> <td>0.233  </td> <td>139.971</td> <td>3.14333     </td> <td>Allegro   </td> <td>44 More         </td> <td>Logic       </td> <td>5             </td> <td>22       </td>\n",
       "        </tr>\n",
       "        <tr>\n",
       "            <td>444+222; Lil Uzi Vert         </td> <td>Lil Uzi Vert</td> <td>444+222         </td> <td>A#  </td> <td>66        </td> <td>0.0235      </td> <td>0.791       </td> <td>0.513 </td> <td>0.481  </td> <td>76.997 </td> <td>4.12245     </td> <td>Adagio    </td> <td>444+222         </td> <td>Lil Uzi Vert</td> <td>3             </td> <td>60       </td>\n",
       "        </tr>\n",
       "    </tbody>\n",
       "</table>\n",
       "<p>... (879 rows omitted)</p>"
      ],
      "text/plain": [
       "Song; Artist                   | artist_name  | track_name       | key  | popularity | acousticness | danceability | energy | valence | tempo   | duration_min | tempo_name | Song             | Artist       | Weeks On Chart | Peak Rank\n",
       "...Ready For It?; Taylor Swift | Taylor Swift | ...Ready For It? | D    | 73         | 0.0527       | 0.613        | 0.764  | 0.417   | 160.015 | 3.46978      | Vivace     | ...Ready For It? | Taylor Swift | 20             | 4\n",
       "1.5; 21 Savage                 | 21 Savage    | 1.5              | C#   | 77         | 0.000244     | 0.885        | 0.52   | 0.306   | 84.022  | 2.4776       | Adagio     | 1.5              | 21 Savage    | 0              | 86\n",
       "10 Bands; Drake                | Drake        | 10 Bands         | G    | 67         | 0.23         | 0.835        | 0.756  | 0.87    | 173     | 2.96222      | Vivace     | 10 Bands         | Drake        | 13             | 58\n",
       "100 Grandkids; Mac Miller      | Mac Miller   | 100 Grandkids    | A#   | 65         | 0.371        | 0.735        | 0.749  | 0.373   | 93.718  | 4.64178      | Adante     | 100 Grandkids    | Mac Miller   | 0              | 100\n",
       "1942 Flows; Meek Mill          | Meek Mill    | 1942 Flows       | D    | 62         | 0.0515       | 0.63         | 0.628  | 0.266   | 121.307 | 4.71112      | Allegro    | 1942 Flows       | Meek Mill    | 0              | 83\n",
       "2 Phones; Kevin Gates          | Kevin Gates  | 2 Phones         | G    | 71         | 0.157        | 0.895        | 0.681  | 0.554   | 121.918 | 4            | Allegro    | 2 Phones         | Kevin Gates  | 25             | 17\n",
       "24K Magic; Bruno Mars          | Bruno Mars   | 24K Magic        | C#   | 80         | 0.034        | 0.818        | 0.803  | 0.632   | 106.97  | 3.76638      | Adante     | 24K Magic        | Bruno Mars   | 41             | 4\n",
       "4 Your Eyez Only; J. Cole      | J. Cole      | 4 Your Eyez Only | B    | 69         | 0.378        | 0.704        | 0.481  | 0.494   | 78.628  | 8.83755      | Adagio     | 4 Your Eyez Only | J. Cole      | 0              | 29\n",
       "44 More; Logic                 | Logic        | 44 More          | C#   | 78         | 0.0635       | 0.829        | 0.589  | 0.233   | 139.971 | 3.14333      | Allegro    | 44 More          | Logic        | 5              | 22\n",
       "444+222; Lil Uzi Vert          | Lil Uzi Vert | 444+222          | A#   | 66         | 0.0235       | 0.791        | 0.513  | 0.481   | 76.997  | 4.12245      | Adagio     | 444+222          | Lil Uzi Vert | 3              | 60\n",
       "... (879 rows omitted)"
      ]
     },
     "execution_count": 85,
     "metadata": {},
     "output_type": "execute_result"
    }
   ],
   "source": [
    "joined_by_song_artist = tracks.join('Song; Artist', billboard)\n",
    "joined_by_song_artist"
   ]
  },
  {
   "cell_type": "code",
   "execution_count": 86,
   "metadata": {},
   "outputs": [
    {
     "name": "stdout",
     "output_type": "stream",
     "text": [
      "~~~~~~~~~~~~~~~~~~~~~~~~~~~~~~~~~~~~~~~~~~~~~~~~~~~~~~~~~~~~~~~~~~~~~\n",
      "Running tests\n",
      "\n",
      "---------------------------------------------------------------------\n",
      "Test summary\n",
      "    Passed: 1\n",
      "    Failed: 0\n",
      "[ooooooooook] 100.0% passed\n",
      "\n"
     ]
    }
   ],
   "source": [
    "_ = ok.grade('q5_4')"
   ]
  },
  {
   "cell_type": "markdown",
   "metadata": {},
   "source": [
    "**Question 5.** Filter the table `joined_by_song_artist` to find the songs that were \n",
    "* on the charts for at least 10 weeks, and   \n",
    "* made it into the top 10 songs at some point in time.  \n",
    "\n",
    "Call the table with just these songs `top_hits`."
   ]
  },
  {
   "cell_type": "code",
   "execution_count": 87,
   "metadata": {},
   "outputs": [
    {
     "data": {
      "text/html": [
       "<table border=\"1\" class=\"dataframe\">\n",
       "    <thead>\n",
       "        <tr>\n",
       "            <th>Song; Artist</th> <th>artist_name</th> <th>track_name</th> <th>key</th> <th>popularity</th> <th>acousticness</th> <th>danceability</th> <th>energy</th> <th>valence</th> <th>tempo</th> <th>duration_min</th> <th>tempo_name</th> <th>Song</th> <th>Artist</th> <th>Weeks On Chart</th> <th>Peak Rank</th>\n",
       "        </tr>\n",
       "    </thead>\n",
       "    <tbody>\n",
       "        <tr>\n",
       "            <td>...Ready For It?; Taylor Swift               </td> <td>Taylor Swift   </td> <td>...Ready For It?               </td> <td>D   </td> <td>73        </td> <td>0.0527      </td> <td>0.613       </td> <td>0.764 </td> <td>0.417  </td> <td>160.015</td> <td>3.46978     </td> <td>Vivace    </td> <td>...Ready For It?               </td> <td>Taylor Swift   </td> <td>20            </td> <td>4        </td>\n",
       "        </tr>\n",
       "        <tr>\n",
       "            <td>24K Magic; Bruno Mars                        </td> <td>Bruno Mars     </td> <td>24K Magic                      </td> <td>C#  </td> <td>80        </td> <td>0.034       </td> <td>0.818       </td> <td>0.803 </td> <td>0.632  </td> <td>106.97 </td> <td>3.76638     </td> <td>Adante    </td> <td>24K Magic                      </td> <td>Bruno Mars     </td> <td>41            </td> <td>4        </td>\n",
       "        </tr>\n",
       "        <tr>\n",
       "            <td>7 Years; Lukas Graham                        </td> <td>Lukas Graham   </td> <td>7 Years                        </td> <td>A#  </td> <td>80        </td> <td>0.287       </td> <td>0.765       </td> <td>0.473 </td> <td>0.34   </td> <td>119.992</td> <td>3.955       </td> <td>Moderato  </td> <td>7 Years                        </td> <td>Lukas Graham   </td> <td>36            </td> <td>2        </td>\n",
       "        </tr>\n",
       "        <tr>\n",
       "            <td>All About That Bass; Meghan Trainor          </td> <td>Meghan Trainor </td> <td>All About That Bass            </td> <td>A   </td> <td>68        </td> <td>0.0476      </td> <td>0.811       </td> <td>0.879 </td> <td>0.962  </td> <td>134.064</td> <td>3.1459      </td> <td>Allegro   </td> <td>All About That Bass            </td> <td>Meghan Trainor </td> <td>47            </td> <td>5        </td>\n",
       "        </tr>\n",
       "        <tr>\n",
       "            <td>All I Want For Christmas Is You; Mariah Carey</td> <td>Mariah Carey   </td> <td>All I Want For Christmas Is You</td> <td>A   </td> <td>46        </td> <td>0.0819      </td> <td>0.524       </td> <td>0.886 </td> <td>0.506  </td> <td>150.039</td> <td>4.03912     </td> <td>Allegro   </td> <td>All I Want For Christmas Is You</td> <td>Mariah Carey   </td> <td>30            </td> <td>3        </td>\n",
       "        </tr>\n",
       "        <tr>\n",
       "            <td>Animals; Maroon 5                            </td> <td>Maroon 5       </td> <td>Animals                        </td> <td>E   </td> <td>74        </td> <td>0.000185    </td> <td>0.279       </td> <td>0.742 </td> <td>0.328  </td> <td>189.868</td> <td>3.85022     </td> <td>Presto    </td> <td>Animals                        </td> <td>Maroon 5       </td> <td>33            </td> <td>8        </td>\n",
       "        </tr>\n",
       "        <tr>\n",
       "            <td>Attention; The Weeknd                        </td> <td>The Weeknd     </td> <td>Attention                      </td> <td>E   </td> <td>67        </td> <td>0.682       </td> <td>0.671       </td> <td>0.428 </td> <td>0.36   </td> <td>148.041</td> <td>3.29422     </td> <td>Allegro   </td> <td>Attention                      </td> <td>The Weeknd     </td> <td>40            </td> <td>5        </td>\n",
       "        </tr>\n",
       "        <tr>\n",
       "            <td>Bad At Love; Halsey                          </td> <td>Halsey         </td> <td>Bad At Love                    </td> <td>C   </td> <td>81        </td> <td>0.0604      </td> <td>0.675       </td> <td>0.751 </td> <td>0.612  </td> <td>118.384</td> <td>3.02132     </td> <td>Moderato  </td> <td>Bad At Love                    </td> <td>Halsey         </td> <td>33            </td> <td>5        </td>\n",
       "        </tr>\n",
       "        <tr>\n",
       "            <td>Believer; Imagine Dragons                    </td> <td>Imagine Dragons</td> <td>Believer                       </td> <td>A#  </td> <td>89        </td> <td>0.0622      </td> <td>0.776       </td> <td>0.78  </td> <td>0.666  </td> <td>124.949</td> <td>3.40578     </td> <td>Allegro   </td> <td>Believer                       </td> <td>Imagine Dragons</td> <td>52            </td> <td>4        </td>\n",
       "        </tr>\n",
       "        <tr>\n",
       "            <td>Better Now; Post Malone                      </td> <td>Post Malone    </td> <td>Better Now                     </td> <td>A#  </td> <td>93        </td> <td>0.354       </td> <td>0.68        </td> <td>0.563 </td> <td>0.374  </td> <td>145.028</td> <td>3.85445     </td> <td>Allegro   </td> <td>Better Now                     </td> <td>Post Malone    </td> <td>39            </td> <td>3        </td>\n",
       "        </tr>\n",
       "    </tbody>\n",
       "</table>\n",
       "<p>... (80 rows omitted)</p>"
      ],
      "text/plain": [
       "Song; Artist                                  | artist_name     | track_name                      | key  | popularity | acousticness | danceability | energy | valence | tempo   | duration_min | tempo_name | Song                            | Artist          | Weeks On Chart | Peak Rank\n",
       "...Ready For It?; Taylor Swift                | Taylor Swift    | ...Ready For It?                | D    | 73         | 0.0527       | 0.613        | 0.764  | 0.417   | 160.015 | 3.46978      | Vivace     | ...Ready For It?                | Taylor Swift    | 20             | 4\n",
       "24K Magic; Bruno Mars                         | Bruno Mars      | 24K Magic                       | C#   | 80         | 0.034        | 0.818        | 0.803  | 0.632   | 106.97  | 3.76638      | Adante     | 24K Magic                       | Bruno Mars      | 41             | 4\n",
       "7 Years; Lukas Graham                         | Lukas Graham    | 7 Years                         | A#   | 80         | 0.287        | 0.765        | 0.473  | 0.34    | 119.992 | 3.955        | Moderato   | 7 Years                         | Lukas Graham    | 36             | 2\n",
       "All About That Bass; Meghan Trainor           | Meghan Trainor  | All About That Bass             | A    | 68         | 0.0476       | 0.811        | 0.879  | 0.962   | 134.064 | 3.1459       | Allegro    | All About That Bass             | Meghan Trainor  | 47             | 5\n",
       "All I Want For Christmas Is You; Mariah Carey | Mariah Carey    | All I Want For Christmas Is You | A    | 46         | 0.0819       | 0.524        | 0.886  | 0.506   | 150.039 | 4.03912      | Allegro    | All I Want For Christmas Is You | Mariah Carey    | 30             | 3\n",
       "Animals; Maroon 5                             | Maroon 5        | Animals                         | E    | 74         | 0.000185     | 0.279        | 0.742  | 0.328   | 189.868 | 3.85022      | Presto     | Animals                         | Maroon 5        | 33             | 8\n",
       "Attention; The Weeknd                         | The Weeknd      | Attention                       | E    | 67         | 0.682        | 0.671        | 0.428  | 0.36    | 148.041 | 3.29422      | Allegro    | Attention                       | The Weeknd      | 40             | 5\n",
       "Bad At Love; Halsey                           | Halsey          | Bad At Love                     | C    | 81         | 0.0604       | 0.675        | 0.751  | 0.612   | 118.384 | 3.02132      | Moderato   | Bad At Love                     | Halsey          | 33             | 5\n",
       "Believer; Imagine Dragons                     | Imagine Dragons | Believer                        | A#   | 89         | 0.0622       | 0.776        | 0.78   | 0.666   | 124.949 | 3.40578      | Allegro    | Believer                        | Imagine Dragons | 52             | 4\n",
       "Better Now; Post Malone                       | Post Malone     | Better Now                      | A#   | 93         | 0.354        | 0.68         | 0.563  | 0.374   | 145.028 | 3.85445      | Allegro    | Better Now                      | Post Malone     | 39             | 3\n",
       "... (80 rows omitted)"
      ]
     },
     "execution_count": 87,
     "metadata": {},
     "output_type": "execute_result"
    }
   ],
   "source": [
    "top_hits = joined_by_song_artist.where(\"Weeks On Chart\", are.above(9)).where('Peak Rank', are.not_above(10))\n",
    "top_hits"
   ]
  },
  {
   "cell_type": "code",
   "execution_count": 88,
   "metadata": {},
   "outputs": [
    {
     "name": "stdout",
     "output_type": "stream",
     "text": [
      "~~~~~~~~~~~~~~~~~~~~~~~~~~~~~~~~~~~~~~~~~~~~~~~~~~~~~~~~~~~~~~~~~~~~~\n",
      "Running tests\n",
      "\n",
      "---------------------------------------------------------------------\n",
      "Test summary\n",
      "    Passed: 1\n",
      "    Failed: 0\n",
      "[ooooooooook] 100.0% passed\n",
      "\n"
     ]
    }
   ],
   "source": [
    "_ = ok.grade('q5_5')"
   ]
  },
  {
   "cell_type": "markdown",
   "metadata": {},
   "source": [
    "**Question 6.** Let's see if we can determine what top hits have in common. Make a table called `comparison_table` that compares the mean of each of the following attributes among all songs in the `top_hits` table, versus among all songs in the `tracks` table. \n",
    "* acousticness  \n",
    "* danceability  \n",
    "* energy  \n",
    "* valence  \n",
    "* tempo\n",
    "* duration_min \n",
    "\n",
    "Your table should have three columns: `Attribute`, `Mean for Top Hits`, `Mean for All Songs`."
   ]
  },
  {
   "cell_type": "markdown",
   "metadata": {},
   "source": [
    "comparison_table = ...\n",
    "comparison_table"
   ]
  },
  {
   "cell_type": "code",
   "execution_count": 89,
   "metadata": {},
   "outputs": [
    {
     "data": {
      "text/plain": [
       "3.573067592592593"
      ]
     },
     "execution_count": 89,
     "metadata": {},
     "output_type": "execute_result"
    }
   ],
   "source": [
    "top_hits.column('duration_min').mean()"
   ]
  },
  {
   "cell_type": "code",
   "execution_count": 90,
   "metadata": {},
   "outputs": [
    {
     "data": {
      "text/html": [
       "<table border=\"1\" class=\"dataframe\">\n",
       "    <thead>\n",
       "        <tr>\n",
       "            <th>Attribute</th> <th>Mean for Top Hits</th> <th>Mean for All Songs</th>\n",
       "        </tr>\n",
       "    </thead>\n",
       "    <tbody>\n",
       "        <tr>\n",
       "            <td>acousticness</td> <td>0.150982         </td> <td>0.403876          </td>\n",
       "        </tr>\n",
       "        <tr>\n",
       "            <td>danceability</td> <td>0.683367         </td> <td>0.541111          </td>\n",
       "        </tr>\n",
       "        <tr>\n",
       "            <td>energy      </td> <td>0.6378           </td> <td>0.557203          </td>\n",
       "        </tr>\n",
       "        <tr>\n",
       "            <td>valence     </td> <td>0.491942         </td> <td>0.451642          </td>\n",
       "        </tr>\n",
       "        <tr>\n",
       "            <td>tempo       </td> <td>124.109          </td> <td>117.214           </td>\n",
       "        </tr>\n",
       "        <tr>\n",
       "            <td>duration_min</td> <td>3.57307          </td> <td>3.9359            </td>\n",
       "        </tr>\n",
       "    </tbody>\n",
       "</table>"
      ],
      "text/plain": [
       "Attribute    | Mean for Top Hits | Mean for All Songs\n",
       "acousticness | 0.150982          | 0.403876\n",
       "danceability | 0.683367          | 0.541111\n",
       "energy       | 0.6378            | 0.557203\n",
       "valence      | 0.491942          | 0.451642\n",
       "tempo        | 124.109           | 117.214\n",
       "duration_min | 3.57307           | 3.9359"
      ]
     },
     "execution_count": 90,
     "metadata": {},
     "output_type": "execute_result"
    }
   ],
   "source": [
    "attributes = make_array('acousticness', 'danceability','energy', 'valence', 'tempo', 'duration_min')\n",
    "comparison_table = Table().with_column('Attribute', attributes)\n",
    "top_means = make_array(top_hits.column('acousticness').mean(), top_hits.column('danceability').mean(), \\\n",
    "                         top_hits.column('energy').mean(), top_hits.column('valence').mean(), \\\n",
    "                        top_hits.column('tempo').mean(), top_hits.column('duration_min').mean())\n",
    "comparison_table = comparison_table.with_column(\"Mean for Top Hits\", top_means)\n",
    "all_means = make_array(tracks.column('acousticness').mean(), tracks.column('danceability').mean(), \\\n",
    "                         tracks.column('energy').mean(), tracks.column('valence').mean(), \\\n",
    "                        tracks.column('tempo').mean(), tracks.column('duration_min').mean())\n",
    "comparison_table = comparison_table.with_column(\"Mean for All Songs\", all_means)\n",
    "comparison_table"
   ]
  },
  {
   "cell_type": "code",
   "execution_count": 91,
   "metadata": {},
   "outputs": [
    {
     "data": {
      "text/html": [
       "<table border=\"1\" class=\"dataframe\">\n",
       "    <thead>\n",
       "        <tr>\n",
       "            <th>Attribute</th> <th>Mean For Top Hits</th> <th>Mean for All Songs</th>\n",
       "        </tr>\n",
       "    </thead>\n",
       "    <tbody>\n",
       "        <tr>\n",
       "            <td>acousticness</td> <td>0.150982         </td> <td>0.403876          </td>\n",
       "        </tr>\n",
       "        <tr>\n",
       "            <td>danceability</td> <td>0.683367         </td> <td>0.541111          </td>\n",
       "        </tr>\n",
       "        <tr>\n",
       "            <td>energy      </td> <td>0.6378           </td> <td>0.557203          </td>\n",
       "        </tr>\n",
       "        <tr>\n",
       "            <td>valence     </td> <td>0.491942         </td> <td>0.451642          </td>\n",
       "        </tr>\n",
       "        <tr>\n",
       "            <td>tempo       </td> <td>124.109          </td> <td>117.214           </td>\n",
       "        </tr>\n",
       "        <tr>\n",
       "            <td>duration_min</td> <td>3.57307          </td> <td>3.9359            </td>\n",
       "        </tr>\n",
       "    </tbody>\n",
       "</table>"
      ],
      "text/plain": [
       "Attribute    | Mean For Top Hits | Mean for All Songs\n",
       "acousticness | 0.150982          | 0.403876\n",
       "danceability | 0.683367          | 0.541111\n",
       "energy       | 0.6378            | 0.557203\n",
       "valence      | 0.491942          | 0.451642\n",
       "tempo        | 124.109           | 117.214\n",
       "duration_min | 3.57307           | 3.9359"
      ]
     },
     "execution_count": 91,
     "metadata": {},
     "output_type": "execute_result"
    }
   ],
   "source": [
    "# alternate solution\n",
    "attributes = make_array('acousticness', 'danceability','energy', 'valence', 'tempo', 'duration_min')\n",
    "top_means = make_array()\n",
    "all_means = make_array()\n",
    "for a in attributes:\n",
    "    top_means = np.append(top_means,top_hits.column(a).mean())\n",
    "    all_means = np.append(all_means,tracks.column(a).mean())\n",
    "comparison_table = Table().with_columns('Attribute',attributes,'Mean For Top Hits',top_means,'Mean for All Songs',all_means)\n",
    "comparison_table"
   ]
  },
  {
   "cell_type": "code",
   "execution_count": 92,
   "metadata": {},
   "outputs": [
    {
     "data": {
      "text/plain": [
       "True"
      ]
     },
     "execution_count": 92,
     "metadata": {},
     "output_type": "execute_result"
    }
   ],
   "source": [
    "comparison_table.labels == ('Attribute', 'Mean For Top Hits', 'Mean for All Songs')#check column names"
   ]
  },
  {
   "cell_type": "code",
   "execution_count": 93,
   "metadata": {},
   "outputs": [
    {
     "name": "stdout",
     "output_type": "stream",
     "text": [
      "~~~~~~~~~~~~~~~~~~~~~~~~~~~~~~~~~~~~~~~~~~~~~~~~~~~~~~~~~~~~~~~~~~~~~\n",
      "Running tests\n",
      "\n",
      "---------------------------------------------------------------------\n",
      "Test summary\n",
      "    Passed: 1\n",
      "    Failed: 0\n",
      "[ooooooooook] 100.0% passed\n",
      "\n"
     ]
    }
   ],
   "source": [
    "_ = ok.grade('q5_6')"
   ]
  },
  {
   "cell_type": "markdown",
   "metadata": {},
   "source": [
    "**Question 7.** Fill in the blanks in the following code so that it prints a one-sentence summary of what we've learned about top hits. \n",
    "\n",
    "Hint: Use *if* statements based on the values in `comparison_table`.\n",
    "\n",
    "Hint: Make sure you add spaces so the result reads like a sentence."
   ]
  },
  {
   "cell_type": "code",
   "execution_count": 94,
   "metadata": {},
   "outputs": [
    {
     "name": "stdout",
     "output_type": "stream",
     "text": [
      "The analysis shows that top hits have _____acousticness, _____danceability, _____energy, _____valence, _____tempo, and _____duration than typical songs.\n"
     ]
    }
   ],
   "source": [
    "s = \"The analysis shows that top hits have \"\n",
    "for i in np.arange(4):\n",
    "    more_less = \"_____\" #should be either \"more \" or \"less \" depending on values in comparison_table\n",
    "    s = s+more_less+attributes.item(i)+\", \"\n",
    "faster_slower = \"_____\" #should be either \"faster \" or \"slower \" based on values in comparison_table\n",
    "s = s+faster_slower+\"tempo, and \"\n",
    "longer_shorter = \"_____\" #should be either \"longer \" or \"shorter \" based on values in comparison_table\n",
    "s = s+longer_shorter+\"duration than typical songs.\"\n",
    "\n",
    "print(s)"
   ]
  },
  {
   "cell_type": "code",
   "execution_count": 95,
   "metadata": {},
   "outputs": [
    {
     "data": {
      "text/plain": [
       "array([False,  True,  True,  True,  True, False])"
      ]
     },
     "execution_count": 95,
     "metadata": {},
     "output_type": "execute_result"
    }
   ],
   "source": [
    "larger = comparison_table.column('Mean For Top Hits') > comparison_table.column('Mean for All Songs')\n",
    "larger"
   ]
  },
  {
   "cell_type": "code",
   "execution_count": 96,
   "metadata": {
    "scrolled": true
   },
   "outputs": [
    {
     "name": "stdout",
     "output_type": "stream",
     "text": [
      "The analysis shows that top hits have less acousticness, more danceability, more energy, more valence, faster tempo, and shorter duration than typical songs.\n"
     ]
    }
   ],
   "source": [
    "s = \"The analysis shows that top hits have \"\n",
    "for i in np.arange(4):\n",
    "    more_less = \"less \"\n",
    "    if larger.item(i):\n",
    "        more_less = \"more \"\n",
    "    s = s+more_less+attributes.item(i)+\", \"\n",
    "faster_slower = \"slower \"\n",
    "if larger.item(4):\n",
    "    faster_slower = \"faster \"\n",
    "s = s+faster_slower+\"tempo, and \"\n",
    "longer_shorter = \"shorter \"\n",
    "if larger.item(5):\n",
    "    longer_shorter = \"longer \"\n",
    "s = s+longer_shorter+\"duration than typical songs.\"\n",
    "\n",
    "print(s)"
   ]
  },
  {
   "cell_type": "code",
   "execution_count": 97,
   "metadata": {},
   "outputs": [
    {
     "name": "stdout",
     "output_type": "stream",
     "text": [
      "~~~~~~~~~~~~~~~~~~~~~~~~~~~~~~~~~~~~~~~~~~~~~~~~~~~~~~~~~~~~~~~~~~~~~\n",
      "Running tests\n",
      "\n",
      "---------------------------------------------------------------------\n",
      "Test summary\n",
      "    Passed: 1\n",
      "    Failed: 0\n",
      "[ooooooooook] 100.0% passed\n",
      "\n"
     ]
    }
   ],
   "source": [
    "_ = ok.grade('q5_7')"
   ]
  },
  {
   "cell_type": "markdown",
   "metadata": {},
   "source": [
    "## Optional Extra Credit: Independent Data Analysis"
   ]
  },
  {
   "cell_type": "markdown",
   "metadata": {},
   "source": [
    "Perhaps the data you've seen here has raised some interesting questions for you. Feel free to explore those questions here in an independent data analysis. You can do anything you want that relates to this project, such as\n",
    "* explore a particular artist or genre, \n",
    "* analyze your own music listening preferences, or\n",
    "* investigate trends in music over time.\n",
    "\n",
    "Feel free to look for additional data sets that will support your analysis. \n",
    "\n",
    "Extra credit on this project will be given to our **five favorite data analyses**. Your analysis should be done below, and should include code and explanatory text that guides the reader in what you are doing and explains your findings. This part is completely optional and can be left blank."
   ]
  },
  {
   "cell_type": "code",
   "execution_count": null,
   "metadata": {},
   "outputs": [],
   "source": [
    "# do whatever analysis you want here"
   ]
  },
  {
   "cell_type": "markdown",
   "metadata": {},
   "source": [
    "Use Markdown cells to explain what you're doing."
   ]
  },
  {
   "cell_type": "markdown",
   "metadata": {},
   "source": [
    "# Congratulations! You finished the project!"
   ]
  },
  {
   "cell_type": "markdown",
   "metadata": {},
   "source": [
    "## To submit:\n",
    "\n",
    "1. Select `Run All` from the `Cell` menu to ensure that you have executed all cells, including the test cells.\n",
    "2. Read through the notebook to make sure everything is fine.\n",
    "3. Submit using the cell below.\n",
    "4. Save PDF and submit to Gradescope.\n",
    "5. Add your partner (if applicable) on both OKPY and Gradescope."
   ]
  },
  {
   "cell_type": "code",
   "execution_count": 98,
   "metadata": {},
   "outputs": [
    {
     "name": "stdout",
     "output_type": "stream",
     "text": [
      "~~~~~~~~~~~~~~~~~~~~~~~~~~~~~~~~~~~~~~~~~~~~~~~~~~~~~~~~~~~~~~~~~~~~~\n",
      "Running tests\n",
      "\n",
      "---------------------------------------------------------------------\n",
      "Test summary\n",
      "    Passed: 1\n",
      "    Failed: 0\n",
      "[ooooooooook] 100.0% passed\n",
      "\n",
      "~~~~~~~~~~~~~~~~~~~~~~~~~~~~~~~~~~~~~~~~~~~~~~~~~~~~~~~~~~~~~~~~~~~~~\n",
      "Running tests\n",
      "\n",
      "---------------------------------------------------------------------\n",
      "Test summary\n",
      "    Passed: 1\n",
      "    Failed: 0\n",
      "[ooooooooook] 100.0% passed\n",
      "\n",
      "~~~~~~~~~~~~~~~~~~~~~~~~~~~~~~~~~~~~~~~~~~~~~~~~~~~~~~~~~~~~~~~~~~~~~\n",
      "Running tests\n",
      "\n",
      "---------------------------------------------------------------------\n",
      "Test summary\n",
      "    Passed: 1\n",
      "    Failed: 0\n",
      "[ooooooooook] 100.0% passed\n",
      "\n",
      "~~~~~~~~~~~~~~~~~~~~~~~~~~~~~~~~~~~~~~~~~~~~~~~~~~~~~~~~~~~~~~~~~~~~~\n",
      "Running tests\n",
      "\n",
      "---------------------------------------------------------------------\n",
      "Test summary\n",
      "    Passed: 1\n",
      "    Failed: 0\n",
      "[ooooooooook] 100.0% passed\n",
      "\n",
      "~~~~~~~~~~~~~~~~~~~~~~~~~~~~~~~~~~~~~~~~~~~~~~~~~~~~~~~~~~~~~~~~~~~~~\n",
      "Running tests\n",
      "\n",
      "---------------------------------------------------------------------\n",
      "Test summary\n",
      "    Passed: 1\n",
      "    Failed: 0\n",
      "[ooooooooook] 100.0% passed\n",
      "\n",
      "~~~~~~~~~~~~~~~~~~~~~~~~~~~~~~~~~~~~~~~~~~~~~~~~~~~~~~~~~~~~~~~~~~~~~\n",
      "Running tests\n",
      "\n",
      "---------------------------------------------------------------------\n",
      "Test summary\n",
      "    Passed: 1\n",
      "    Failed: 0\n",
      "[ooooooooook] 100.0% passed\n",
      "\n",
      "~~~~~~~~~~~~~~~~~~~~~~~~~~~~~~~~~~~~~~~~~~~~~~~~~~~~~~~~~~~~~~~~~~~~~\n",
      "Running tests\n",
      "\n",
      "---------------------------------------------------------------------\n",
      "Test summary\n",
      "    Passed: 1\n",
      "    Failed: 0\n",
      "[ooooooooook] 100.0% passed\n",
      "\n",
      "~~~~~~~~~~~~~~~~~~~~~~~~~~~~~~~~~~~~~~~~~~~~~~~~~~~~~~~~~~~~~~~~~~~~~\n",
      "Running tests\n",
      "\n",
      "---------------------------------------------------------------------\n",
      "Test summary\n",
      "    Passed: 1\n",
      "    Failed: 0\n",
      "[ooooooooook] 100.0% passed\n",
      "\n",
      "~~~~~~~~~~~~~~~~~~~~~~~~~~~~~~~~~~~~~~~~~~~~~~~~~~~~~~~~~~~~~~~~~~~~~\n",
      "Running tests\n",
      "\n",
      "---------------------------------------------------------------------\n",
      "Test summary\n",
      "    Passed: 1\n",
      "    Failed: 0\n",
      "[ooooooooook] 100.0% passed\n",
      "\n",
      "~~~~~~~~~~~~~~~~~~~~~~~~~~~~~~~~~~~~~~~~~~~~~~~~~~~~~~~~~~~~~~~~~~~~~\n",
      "Running tests\n",
      "\n",
      "---------------------------------------------------------------------\n",
      "Test summary\n",
      "    Passed: 1\n",
      "    Failed: 0\n",
      "[ooooooooook] 100.0% passed\n",
      "\n",
      "~~~~~~~~~~~~~~~~~~~~~~~~~~~~~~~~~~~~~~~~~~~~~~~~~~~~~~~~~~~~~~~~~~~~~\n",
      "Running tests\n",
      "\n",
      "---------------------------------------------------------------------\n",
      "Test summary\n",
      "    Passed: 1\n",
      "    Failed: 0\n",
      "[ooooooooook] 100.0% passed\n",
      "\n",
      "~~~~~~~~~~~~~~~~~~~~~~~~~~~~~~~~~~~~~~~~~~~~~~~~~~~~~~~~~~~~~~~~~~~~~\n",
      "Running tests\n",
      "\n",
      "---------------------------------------------------------------------\n",
      "Test summary\n",
      "    Passed: 1\n",
      "    Failed: 0\n",
      "[ooooooooook] 100.0% passed\n",
      "\n",
      "~~~~~~~~~~~~~~~~~~~~~~~~~~~~~~~~~~~~~~~~~~~~~~~~~~~~~~~~~~~~~~~~~~~~~\n",
      "Running tests\n",
      "\n",
      "---------------------------------------------------------------------\n",
      "Test summary\n",
      "    Passed: 1\n",
      "    Failed: 0\n",
      "[ooooooooook] 100.0% passed\n",
      "\n",
      "~~~~~~~~~~~~~~~~~~~~~~~~~~~~~~~~~~~~~~~~~~~~~~~~~~~~~~~~~~~~~~~~~~~~~\n",
      "Running tests\n",
      "\n",
      "---------------------------------------------------------------------\n",
      "Test summary\n",
      "    Passed: 1\n",
      "    Failed: 0\n",
      "[ooooooooook] 100.0% passed\n",
      "\n",
      "~~~~~~~~~~~~~~~~~~~~~~~~~~~~~~~~~~~~~~~~~~~~~~~~~~~~~~~~~~~~~~~~~~~~~\n",
      "Running tests\n",
      "\n",
      "---------------------------------------------------------------------\n",
      "Test summary\n",
      "    Passed: 1\n",
      "    Failed: 0\n",
      "[ooooooooook] 100.0% passed\n",
      "\n",
      "~~~~~~~~~~~~~~~~~~~~~~~~~~~~~~~~~~~~~~~~~~~~~~~~~~~~~~~~~~~~~~~~~~~~~\n",
      "Running tests\n",
      "\n",
      "---------------------------------------------------------------------\n",
      "Test summary\n",
      "    Passed: 1\n",
      "    Failed: 0\n",
      "[ooooooooook] 100.0% passed\n",
      "\n",
      "~~~~~~~~~~~~~~~~~~~~~~~~~~~~~~~~~~~~~~~~~~~~~~~~~~~~~~~~~~~~~~~~~~~~~\n",
      "Running tests\n",
      "\n",
      "---------------------------------------------------------------------\n",
      "Test summary\n",
      "    Passed: 1\n",
      "    Failed: 0\n",
      "[ooooooooook] 100.0% passed\n",
      "\n",
      "~~~~~~~~~~~~~~~~~~~~~~~~~~~~~~~~~~~~~~~~~~~~~~~~~~~~~~~~~~~~~~~~~~~~~\n",
      "Running tests\n",
      "\n",
      "---------------------------------------------------------------------\n",
      "Test summary\n",
      "    Passed: 1\n",
      "    Failed: 0\n",
      "[ooooooooook] 100.0% passed\n",
      "\n",
      "~~~~~~~~~~~~~~~~~~~~~~~~~~~~~~~~~~~~~~~~~~~~~~~~~~~~~~~~~~~~~~~~~~~~~\n",
      "Running tests\n",
      "\n",
      "---------------------------------------------------------------------\n",
      "Test summary\n",
      "    Passed: 1\n",
      "    Failed: 0\n",
      "[ooooooooook] 100.0% passed\n",
      "\n",
      "~~~~~~~~~~~~~~~~~~~~~~~~~~~~~~~~~~~~~~~~~~~~~~~~~~~~~~~~~~~~~~~~~~~~~\n",
      "Running tests\n",
      "\n",
      "---------------------------------------------------------------------\n",
      "Test summary\n",
      "    Passed: 1\n",
      "    Failed: 0\n",
      "[ooooooooook] 100.0% passed\n",
      "\n",
      "~~~~~~~~~~~~~~~~~~~~~~~~~~~~~~~~~~~~~~~~~~~~~~~~~~~~~~~~~~~~~~~~~~~~~\n",
      "Running tests\n",
      "\n",
      "---------------------------------------------------------------------\n",
      "Test summary\n",
      "    Passed: 1\n",
      "    Failed: 0\n",
      "[ooooooooook] 100.0% passed\n",
      "\n",
      "~~~~~~~~~~~~~~~~~~~~~~~~~~~~~~~~~~~~~~~~~~~~~~~~~~~~~~~~~~~~~~~~~~~~~\n",
      "Running tests\n",
      "\n",
      "---------------------------------------------------------------------\n",
      "Test summary\n",
      "    Passed: 1\n",
      "    Failed: 0\n",
      "[ooooooooook] 100.0% passed\n",
      "\n",
      "~~~~~~~~~~~~~~~~~~~~~~~~~~~~~~~~~~~~~~~~~~~~~~~~~~~~~~~~~~~~~~~~~~~~~\n",
      "Running tests\n",
      "\n",
      "---------------------------------------------------------------------\n",
      "Test summary\n",
      "    Passed: 1\n",
      "    Failed: 0\n",
      "[ooooooooook] 100.0% passed\n",
      "\n",
      "~~~~~~~~~~~~~~~~~~~~~~~~~~~~~~~~~~~~~~~~~~~~~~~~~~~~~~~~~~~~~~~~~~~~~\n",
      "Running tests\n",
      "\n",
      "---------------------------------------------------------------------\n",
      "Test summary\n",
      "    Passed: 1\n",
      "    Failed: 0\n",
      "[ooooooooook] 100.0% passed\n",
      "\n"
     ]
    }
   ],
   "source": [
    "# For your convenience, you can run this cell to run all the tests at once!\n",
    "import os\n",
    "_ = [ok.grade(q[:-3]) for q in os.listdir(\"tests\") if q.startswith('q')]"
   ]
  },
  {
   "cell_type": "code",
   "execution_count": 99,
   "metadata": {},
   "outputs": [
    {
     "data": {
      "application/javascript": [
       "IPython.notebook.save_checkpoint();"
      ],
      "text/plain": [
       "<IPython.core.display.Javascript object>"
      ]
     },
     "metadata": {},
     "output_type": "display_data"
    },
    {
     "data": {
      "application/javascript": [
       "IPython.notebook.save_notebook();"
      ],
      "text/plain": [
       "<IPython.core.display.Javascript object>"
      ]
     },
     "metadata": {},
     "output_type": "display_data"
    },
    {
     "name": "stdout",
     "output_type": "stream",
     "text": [
      "Saving notebook... Could not save your notebook. Make sure your notebook is saved before sending it to OK!\n",
      "Submit... 0.0% complete\n",
      "Could not submit: Assignment does not exist\n",
      "Backup... 0.0% complete\n",
      "Could not backup: Assignment does not exist\n",
      "\n"
     ]
    }
   ],
   "source": [
    "_ = ok.submit()"
   ]
  },
  {
   "cell_type": "markdown",
   "metadata": {},
   "source": [
    "## Don't forget to submit your PDF to Gradescope!\n",
    "If the usual way of getting a PDF does not work for the project, the alternative way would be to use the command Ctrl+P in your jupyter notebook, which will bring up a print preview page, and then change the destination to save it as a PDF."
   ]
  }
 ],
 "metadata": {
  "kernelspec": {
   "display_name": "Python 3",
   "language": "python",
   "name": "python3"
  },
  "language_info": {
   "codemirror_mode": {
    "name": "ipython",
    "version": 3
   },
   "file_extension": ".py",
   "mimetype": "text/x-python",
   "name": "python",
   "nbconvert_exporter": "python",
   "pygments_lexer": "ipython3",
   "version": "3.6.8"
  }
 },
 "nbformat": 4,
 "nbformat_minor": 2
}
