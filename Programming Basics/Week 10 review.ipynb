{
 "cells": [
  {
   "cell_type": "code",
   "execution_count": null,
   "metadata": {},
   "outputs": [],
   "source": [
    "import numpy as np\n",
    "import math\n",
    "from datascience import *"
   ]
  },
  {
   "cell_type": "markdown",
   "metadata": {},
   "source": [
    "# Programming Basics Questions from previous weeks"
   ]
  },
  {
   "cell_type": "markdown",
   "metadata": {},
   "source": [
    "    1.1 What is the value of x after running each of these pieces of code? Does it return an error, and if so, what is the problem?"
   ]
  },
  {
   "cell_type": "code",
   "execution_count": null,
   "metadata": {},
   "outputs": [],
   "source": [
    "x = 2**2**3\n"
   ]
  },
  {
   "cell_type": "code",
   "execution_count": null,
   "metadata": {},
   "outputs": [],
   "source": [
    "x = 3\n",
    "x = (x + 2) * x\n"
   ]
  },
  {
   "cell_type": "code",
   "execution_count": null,
   "metadata": {},
   "outputs": [],
   "source": [
    "a = 11\n",
    "x = a / 2 + a % 2\n"
   ]
  },
  {
   "cell_type": "code",
   "execution_count": null,
   "metadata": {},
   "outputs": [],
   "source": [
    "x = 2 / 0\n"
   ]
  },
  {
   "cell_type": "markdown",
   "metadata": {},
   "source": [
    "    1.2 Fix this code with an error so that x’s value is 3."
   ]
  },
  {
   "cell_type": "code",
   "execution_count": null,
   "metadata": {},
   "outputs": [],
   "source": [
    "x = int(\"1\" + \"2.0\")\n"
   ]
  },
  {
   "cell_type": "markdown",
   "metadata": {},
   "source": [
    "    1.3 What is the data type of the elements in this array? Will this code cause an error?"
   ]
  },
  {
   "cell_type": "code",
   "execution_count": null,
   "metadata": {},
   "outputs": [],
   "source": [
    "a = make_array(5, '2')\n"
   ]
  },
  {
   "cell_type": "markdown",
   "metadata": {},
   "source": [
    "    1.4 Is there an error? "
   ]
  },
  {
   "cell_type": "code",
   "execution_count": null,
   "metadata": {},
   "outputs": [],
   "source": [
    "int(str(math.pi))\n"
   ]
  },
  {
   "cell_type": "code",
   "execution_count": null,
   "metadata": {},
   "outputs": [],
   "source": [
    "\n",
    "str(int(44.5))"
   ]
  },
  {
   "cell_type": "code",
   "execution_count": null,
   "metadata": {},
   "outputs": [],
   "source": [
    "a = make_array(1, '2', 3)\n",
    "max(a)\n"
   ]
  },
  {
   "cell_type": "code",
   "execution_count": null,
   "metadata": {},
   "outputs": [],
   "source": [
    "a = make_array(5, '2')\n",
    "int(a)\n"
   ]
  },
  {
   "cell_type": "markdown",
   "metadata": {},
   "source": [
    "    1.5 What are the values of x and y after the code below is completed?"
   ]
  },
  {
   "cell_type": "code",
   "execution_count": null,
   "metadata": {},
   "outputs": [],
   "source": [
    "x = 3\n",
    "y = x + 4\n",
    "x = y - 2\n",
    "y = y * 2 + x * 3\n",
    "x = x * 2 - y / 2 + 4\n"
   ]
  },
  {
   "cell_type": "markdown",
   "metadata": {},
   "source": [
    "    1.6 Suppose you have already defined two variables x and y, each with different values. How do you switch the values x and y without manually typing the numbers? (Think about the variable boxes discussed above.)"
   ]
  },
  {
   "cell_type": "code",
   "execution_count": null,
   "metadata": {},
   "outputs": [],
   "source": [
    "x = ...\n",
    "y = ... \n",
    "..."
   ]
  },
  {
   "cell_type": "markdown",
   "metadata": {},
   "source": [
    "    1.7 Given this array"
   ]
  },
  {
   "cell_type": "code",
   "execution_count": null,
   "metadata": {},
   "outputs": [],
   "source": [
    "arr = np.arange(1, 2, 3)"
   ]
  },
  {
   "cell_type": "code",
   "execution_count": null,
   "metadata": {},
   "outputs": [],
   "source": []
  },
  {
   "cell_type": "markdown",
   "metadata": {},
   "source": [
    "What is the value of max(arr) - min(arr)?\n",
    "\n",
    "How do you use Python to count the number of elements in arr?"
   ]
  },
  {
   "cell_type": "markdown",
   "metadata": {},
   "source": [
    "    1.8 Suppose you have a variable called my_array, which is an array of integers. Assign x to the last element in my_array."
   ]
  },
  {
   "cell_type": "code",
   "execution_count": null,
   "metadata": {},
   "outputs": [],
   "source": [
    "x = ..."
   ]
  },
  {
   "cell_type": "markdown",
   "metadata": {},
   "source": [
    "    1.9 What are the values of `x` and `y` in the code below?"
   ]
  },
  {
   "cell_type": "code",
   "execution_count": null,
   "metadata": {},
   "outputs": [],
   "source": [
    "arr = np.arange(-2, -17, -3)\n",
    "x = arr.item(2)\n",
    "y = len(arr)\n"
   ]
  },
  {
   "cell_type": "markdown",
   "metadata": {},
   "source": [
    "-------------------------------------------------------"
   ]
  },
  {
   "cell_type": "markdown",
   "metadata": {},
   "source": [
    "    2.1 How would you access the 42nd to last element in an array “a” of length 267?"
   ]
  },
  {
   "cell_type": "code",
   "execution_count": null,
   "metadata": {},
   "outputs": [],
   "source": []
  },
  {
   "cell_type": "markdown",
   "metadata": {},
   "source": [
    "    2.2 How would you access the middle element in an array “a” of arbitrary length"
   ]
  },
  {
   "cell_type": "markdown",
   "metadata": {},
   "source": [
    "        a) if you know in advance that the length of “a” is odd, and therefore has a unique middle element?"
   ]
  },
  {
   "cell_type": "code",
   "execution_count": null,
   "metadata": {},
   "outputs": [],
   "source": []
  },
  {
   "cell_type": "markdown",
   "metadata": {},
   "source": [
    "        b) if you know in advance that the length of “a” is even and therefore has two middle elements?"
   ]
  },
  {
   "cell_type": "code",
   "execution_count": null,
   "metadata": {},
   "outputs": [],
   "source": []
  },
  {
   "cell_type": "markdown",
   "metadata": {},
   "source": [
    "    2.3 Given this array can you make all the even elements 0, and make all the odd elements 1? (Hint: the modulus operator will be useful!)"
   ]
  },
  {
   "cell_type": "code",
   "execution_count": null,
   "metadata": {},
   "outputs": [],
   "source": []
  },
  {
   "cell_type": "markdown",
   "metadata": {},
   "source": [
    "    2.4 Look up the formula to convert degrees Fahrenheit to degrees Celsius. Then convert this array of temperatures in Fahrenheit to Celsius."
   ]
  },
  {
   "cell_type": "code",
   "execution_count": null,
   "metadata": {},
   "outputs": [],
   "source": []
  },
  {
   "cell_type": "markdown",
   "metadata": {},
   "source": [
    "    2.5 If you start with $600 in your bank account, and you earn 2% per year, write a Python expression that represents the amount of money you’ll have in your bank account after 3 years.\n"
   ]
  },
  {
   "cell_type": "code",
   "execution_count": null,
   "metadata": {},
   "outputs": [],
   "source": []
  },
  {
   "cell_type": "markdown",
   "metadata": {},
   "source": [
    "    2.6 If you start with 600 dollars in your bank account, and you earn 2 percent per year, create an array called “century” of the amounts of money you’d have in your bank account after each year in the next century. The first entry of your array should be the amount of money in your account now ($600) and the last entry should be the amount of money in your account 100 years from now."
   ]
  },
  {
   "cell_type": "code",
   "execution_count": null,
   "metadata": {},
   "outputs": [],
   "source": []
  },
  {
   "cell_type": "markdown",
   "metadata": {},
   "source": [
    "    2.7 Use the “century array” to create another array of the same length, but where each entry is either True or False, representing whether or not the amount of money in your bank account exceeds a thousand dollars. \n",
    "\n",
    "Note: Do this without using if statements. It’s easier than you think!\n"
   ]
  },
  {
   "cell_type": "code",
   "execution_count": null,
   "metadata": {},
   "outputs": [],
   "source": []
  },
  {
   "cell_type": "markdown",
   "metadata": {},
   "source": [
    "    2.8 Use np.arange to create an array of all the numbers between -100 and 100, inclusive, that are multiples of five. Come up with at least six different correct answers.\n"
   ]
  },
  {
   "cell_type": "code",
   "execution_count": null,
   "metadata": {},
   "outputs": [],
   "source": []
  },
  {
   "cell_type": "markdown",
   "metadata": {},
   "source": [
    "    2.9 If you are only allowed to use the form of np.arange that takes one argument, how can you create an array of all the numbers between -100 and 100, inclusive, that are multiples of five?\n"
   ]
  },
  {
   "cell_type": "code",
   "execution_count": null,
   "metadata": {},
   "outputs": [],
   "source": []
  },
  {
   "cell_type": "markdown",
   "metadata": {},
   "source": [
    "    2.10 In general, if you are only allowed to use the form of np.arange that takes one argument, how can you use this to create the same output as the command np.arange(a,b,c), where a, b, and c are integers?\n"
   ]
  },
  {
   "cell_type": "code",
   "execution_count": null,
   "metadata": {},
   "outputs": [],
   "source": []
  },
  {
   "cell_type": "markdown",
   "metadata": {},
   "source": [
    "-------------------------------------------------------"
   ]
  },
  {
   "cell_type": "markdown",
   "metadata": {},
   "source": [
    "    3.1 Write a function 'max_of_two' that returns the maximum of two numbers."
   ]
  },
  {
   "cell_type": "code",
   "execution_count": null,
   "metadata": {},
   "outputs": [],
   "source": []
  },
  {
   "cell_type": "markdown",
   "metadata": {},
   "source": [
    "How many arguments should your function take?\n",
    "Does your function work for ints or floats or both?"
   ]
  },
  {
   "cell_type": "markdown",
   "metadata": {},
   "source": [
    "    3.2 Write a function multiples_of_five that returns an array of all the numbers between 0 and the input value ( inclusive) that are multiples of five. You can assume that the input is an integer greater than 5."
   ]
  },
  {
   "cell_type": "code",
   "execution_count": null,
   "metadata": {},
   "outputs": [],
   "source": []
  },
  {
   "cell_type": "markdown",
   "metadata": {},
   "source": [
    "    3.3. Think about why the following function definitions and calls will produce errors, and how to fix them.\n"
   ]
  },
  {
   "cell_type": "code",
   "execution_count": null,
   "metadata": {},
   "outputs": [],
   "source": [
    "def add_two:\n",
    "    x = x + 2\n",
    "    return x\n",
    "add_two(2)"
   ]
  },
  {
   "cell_type": "code",
   "execution_count": null,
   "metadata": {},
   "outputs": [],
   "source": [
    "def multiply(a, b):\n",
    "    a * b\n",
    "a = 3\n",
    "b = 5\n",
    "product = multiply(a, b)\n",
    "#does product equals to 15?"
   ]
  },
  {
   "cell_type": "code",
   "execution_count": null,
   "metadata": {},
   "outputs": [],
   "source": [
    "def first_item(a):\n",
    "    return a[0]\n",
    "first_item(1, 2, 3, 4, 5)"
   ]
  },
  {
   "cell_type": "code",
   "execution_count": null,
   "metadata": {},
   "outputs": [],
   "source": [
    "def find_sum(a, b):\n",
    "    return a+b\n",
    "def find_product(c, d):\n",
    "    return c*d\n",
    "find_sum(find_product(3, 4))"
   ]
  },
  {
   "cell_type": "markdown",
   "metadata": {},
   "source": [
    "    3.4 What do the following functions do? Does the code produce an error, and if so, what is the problem?"
   ]
  },
  {
   "cell_type": "markdown",
   "metadata": {},
   "source": [
    "(We recommmend you to think first before running these cells!)"
   ]
  },
  {
   "cell_type": "code",
   "execution_count": null,
   "metadata": {},
   "outputs": [],
   "source": [
    "x = 5\n",
    "def f():\n",
    "    print (x)\n",
    "f()\n"
   ]
  },
  {
   "cell_type": "code",
   "execution_count": null,
   "metadata": {},
   "outputs": [],
   "source": [
    "x = 10\n",
    "def f(x):\n",
    "    print (x)\n",
    "f(8)\n"
   ]
  },
  {
   "cell_type": "code",
   "execution_count": null,
   "metadata": {},
   "outputs": [],
   "source": [
    "x = 5\n",
    "def f():\n",
    "    x = 3\n",
    "    print (x)\n",
    "f()"
   ]
  },
  {
   "cell_type": "code",
   "execution_count": null,
   "metadata": {},
   "outputs": [],
   "source": [
    "x = 10\n",
    "def f(x):\n",
    "    x = x + 1\n",
    "    print (x)\n",
    "f(x)"
   ]
  },
  {
   "cell_type": "code",
   "execution_count": null,
   "metadata": {},
   "outputs": [],
   "source": [
    "x = 5\n",
    "def f():\n",
    "    x = x + 1\n",
    "    print (x)\n",
    "f()"
   ]
  },
  {
   "cell_type": "markdown",
   "metadata": {},
   "source": [
    "    3.5 Write a function grade_report that takes a student’s name and three integers for their exam scores. The function doesn’t return anything and should print a grade report in the format shown in the examples below:\n"
   ]
  },
  {
   "cell_type": "markdown",
   "metadata": {},
   "source": [
    "\n",
    "“Student name: John; Midterm 1 grade: 85; Midterm 2 grade: 92; Midterm 3 grade: 79; The rounded average is 86.”\n",
    "\n",
    "“Student name: Mary; Midterm 1 grade: 90; Midterm 2 grade: 80; Midterm 3 grade: 89; The rounded average is 88.”\n"
   ]
  },
  {
   "cell_type": "code",
   "execution_count": null,
   "metadata": {},
   "outputs": [],
   "source": []
  },
  {
   "cell_type": "markdown",
   "metadata": {},
   "source": [
    "    3.6 Write a function stats_report that takes an integer array and returns a string in the format shown in the example below: (you may look up how to use numpy to find standard deviation)\n",
    "\n"
   ]
  },
  {
   "cell_type": "markdown",
   "metadata": {},
   "source": [
    "\n",
    "\\>>> a = make_array(1, 2, 3, 4, 5, 6, 7)\n",
    "\n",
    "\\>>> report = stats_report(a)\n",
    "\n",
    "\\>>> print(report)\n",
    "\n",
    "The average of this dataset is 4, the median is 4, the range is 6, and the standard deviation is 2.0"
   ]
  },
  {
   "cell_type": "code",
   "execution_count": null,
   "metadata": {},
   "outputs": [],
   "source": []
  },
  {
   "cell_type": "markdown",
   "metadata": {},
   "source": [
    "    3.7 Given an integer array and, optionally, a value n, write a function that returns the n-th largest value in the array. If no value n is given, return the largest value in the array. \n",
    "    \n",
    "    The function np.sort will be useful here. It takes as input an array and returns the array in ascending order. (Assume that the array does not havve repeated value)\n"
   ]
  },
  {
   "cell_type": "code",
   "execution_count": null,
   "metadata": {},
   "outputs": [],
   "source": []
  },
  {
   "cell_type": "markdown",
   "metadata": {},
   "source": [
    "    3.8 Given that the side length of the square is n, write a function to calculate the area of the square and write another function to calculate the area of the circle with input n. (the circle has the diamter of the side length of the square n)\n"
   ]
  },
  {
   "cell_type": "markdown",
   "metadata": {},
   "source": [
    "![alt text](http://www.algebra.com/cgi-bin/plot-formula.mpl?expression=drawing%28200%2C200%2C-10%2C10%2C-10%2C10%2C%0D%0A%0D%0Arectangle%28-9%2C-9%2C9%2C9%29%2C+circle%280%2C0%2C9%29+%29)"
   ]
  },
  {
   "cell_type": "code",
   "execution_count": null,
   "metadata": {},
   "outputs": [],
   "source": []
  },
  {
   "cell_type": "markdown",
   "metadata": {},
   "source": [
    " "
   ]
  },
  {
   "cell_type": "markdown",
   "metadata": {},
   "source": [
    "-------------------------------------------------------"
   ]
  },
  {
   "cell_type": "markdown",
   "metadata": {},
   "source": [
    "    4.1 The following function is supposed to take an array as input and return the length of the array (the same exact thing that the len function does). \n",
    "\n",
    "    But the function does not work as intended. Correct the code so that it correctly finds the length of an array. You can use the Python visualization tool to help you: http://pythontutor.com/visualize.html#mode=edit\n",
    "\n",
    "\n"
   ]
  },
  {
   "cell_type": "code",
   "execution_count": null,
   "metadata": {},
   "outputs": [],
   "source": [
    "def find_length(input_array):\n",
    "    for i in input_array:\n",
    "        count = 0\n",
    "        count = count + 1\n",
    "    return count\n",
    "\n"
   ]
  },
  {
   "cell_type": "markdown",
   "metadata": {},
   "source": [
    "    4.2 Use a for loop to create an array of all numbers which are divisible by 7, a multiple of 5, and between 150 and 600 (both endpoints included)."
   ]
  },
  {
   "cell_type": "code",
   "execution_count": null,
   "metadata": {},
   "outputs": [],
   "source": []
  },
  {
   "cell_type": "markdown",
   "metadata": {},
   "source": [
    "    4.3 Write a function that takes as input a string with no spaces or special characters, and returns an array that only contains the letters in that string that are consonants.\n",
    "\n",
    "    Hint: you can use  a statement like  “if i in sequence” to check if item ‘i’ is in the given ‘sequence’.\n",
    "    \n",
    "    For example, on input ‘datascienceten’ the function should return an array ('d', 't', 's', 'c', 'n', 'c', 't', 'n').\n",
    " \n"
   ]
  },
  {
   "cell_type": "code",
   "execution_count": null,
   "metadata": {},
   "outputs": [],
   "source": []
  },
  {
   "cell_type": "markdown",
   "metadata": {},
   "source": [
    "    4.4 What does this function do? Try answering without running it. The input  ‘a’ is a string."
   ]
  },
  {
   "cell_type": "code",
   "execution_count": null,
   "metadata": {},
   "outputs": [],
   "source": [
    "def mystery(a):\n",
    "    result = ''\n",
    "    for i in np.arange(len(a) - 1, -1, -1):\n",
    "        result = result + a[i]\n",
    "    return result\n",
    "a = 'ilovedsc10'"
   ]
  },
  {
   "cell_type": "code",
   "execution_count": null,
   "metadata": {},
   "outputs": [],
   "source": []
  },
  {
   "cell_type": "markdown",
   "metadata": {},
   "source": [
    "    4.5 Write a Python function called ‘factorial’ that takes as input a positive integer n and calculates the factorial of n, written n!.  \n",
    "\n",
    "    (The factorial of n is the product of all the integers from 1 to n (including both 1 and n). That is, n! = n* (n-1)* (n-2)*...*3 * 2* 1.)\n",
    "\n"
   ]
  },
  {
   "cell_type": "code",
   "execution_count": null,
   "metadata": {},
   "outputs": [],
   "source": []
  },
  {
   "cell_type": "markdown",
   "metadata": {},
   "source": [
    "    4.6 Find the error in this code. It counts the number of elements in the array that are less than 9."
   ]
  },
  {
   "cell_type": "code",
   "execution_count": null,
   "metadata": {},
   "outputs": [],
   "source": [
    "nums = make_array( 4, 6, 10, 0, 18, 23, 7, 13, 2, 5, 19)\n",
    "for i in nums:\n",
    "    count = 0\n",
    "    if i < 9:\n",
    "        count  = count + 1\n",
    "        "
   ]
  },
  {
   "cell_type": "markdown",
   "metadata": {},
   "source": [
    "    4.7 Write a Python function called ‘divisors’ that takes a positive integer and returns an array of the integer’s divisors. For example, divisors(6) should return an array (1, 2, 3, 6).\n",
    "\n",
    "    Hint: Remember the modulus operator (%).\n"
   ]
  },
  {
   "cell_type": "code",
   "execution_count": null,
   "metadata": {},
   "outputs": [],
   "source": []
  },
  {
   "cell_type": "markdown",
   "metadata": {},
   "source": [
    "    4.8 Use a nested for loop to print the following pattern: \n",
    "\n"
   ]
  },
  {
   "cell_type": "markdown",
   "metadata": {},
   "source": [
    "(You do not have to print the space between each line)\n",
    "\n",
    "A\n",
    "\n",
    "AA\n",
    "\n",
    "AAA\n",
    "\n",
    "AAAA\n",
    "\n",
    "AAAAA\n"
   ]
  },
  {
   "cell_type": "markdown",
   "metadata": {},
   "source": [
    "Hint: You can print a single asterisk without going to the next line using:\n",
    "\n",
    "print ('* ', end=\"\");\n",
    "\n",
    "And you can go to the next line without printing anything using:\n",
    "\n",
    "print('')\n"
   ]
  },
  {
   "cell_type": "code",
   "execution_count": null,
   "metadata": {},
   "outputs": [],
   "source": []
  },
  {
   "cell_type": "markdown",
   "metadata": {},
   "source": [
    "--------------"
   ]
  },
  {
   "cell_type": "markdown",
   "metadata": {},
   "source": [
    "    5.1 Define a function called ‘palindrome’ that determines if an input string is a palindrome. A string is a palindrome if it is the same forwards and backwards. \n",
    "\n"
   ]
  },
  {
   "cell_type": "markdown",
   "metadata": {},
   "source": [
    "   Ex.) “racecar” would return True “truck” would return False"
   ]
  },
  {
   "cell_type": "code",
   "execution_count": null,
   "metadata": {},
   "outputs": [],
   "source": []
  },
  {
   "cell_type": "markdown",
   "metadata": {},
   "source": [
    "    5.2 Define a function called ‘catdog’ that returns True if the number of times that ‘cat’ appears in an input string is equal to the number of times ‘dog’ appears. The function returns False otherwise.\n",
    "\n"
   ]
  },
  {
   "cell_type": "markdown",
   "metadata": {},
   "source": [
    "Ex.) “cats and dogs or dogs and cats?” would return True\n",
    "\n",
    "“doggy dogs and kitty cats” would return False."
   ]
  },
  {
   "cell_type": "code",
   "execution_count": null,
   "metadata": {},
   "outputs": [],
   "source": []
  },
  {
   "cell_type": "markdown",
   "metadata": {},
   "source": [
    "    5.3 What does this function do?"
   ]
  },
  {
   "cell_type": "code",
   "execution_count": null,
   "metadata": {},
   "outputs": [],
   "source": [
    "def mystery (numbers, target) :\n",
    "    for i in np.arange(len(numbers) - 1):\n",
    "        for j in np.arange(1, len(numbers)):\n",
    "            if numbers.item(i) + numbers.item(j) == target:\n",
    "                return make_array(i, j)\n"
   ]
  },
  {
   "cell_type": "code",
   "execution_count": null,
   "metadata": {},
   "outputs": [],
   "source": []
  },
  {
   "cell_type": "markdown",
   "metadata": {},
   "source": [
    "    5.4 Define a function called ‘sum89’ that takes an array of integers and returns the sum of them except for any section of the array that starts with 8 and ends with 9. Assume that if the array has an 8, there will always be a 9 somewhere after. If there are multiple 9’s then only exclude the first 9 from the final sum.\n",
    "\n"
   ]
  },
  {
   "cell_type": "markdown",
   "metadata": {},
   "source": [
    "Ex.) sum89 (make_array (2, 3, 4, 8, 54, 85, 72, 9, 10)) returns 19\n",
    "\n",
    "    sum89 (make_array(1, 2, 3, 8, 9, 9, 9)) returns 24\n"
   ]
  },
  {
   "cell_type": "code",
   "execution_count": null,
   "metadata": {},
   "outputs": [],
   "source": []
  },
  {
   "cell_type": "markdown",
   "metadata": {},
   "source": [
    "    5.5 Define a function called ‘has44’ that takes an array of integers and returns True if anywhere in the array, there is a 4 followed directly by another 4.\n"
   ]
  },
  {
   "cell_type": "markdown",
   "metadata": {},
   "source": [
    "Ex.) has44 (make_array(4, 2, 3, 4)) returns False\n",
    "\n",
    "\thas44 (make_array(1, 2, 5, 4, 4, 4)) returns True\n"
   ]
  },
  {
   "cell_type": "markdown",
   "metadata": {},
   "source": [
    "---------------------------------------------------"
   ]
  },
  {
   "cell_type": "markdown",
   "metadata": {},
   "source": [
    "    6.1 Without using any predefined functions like max(), write a function find_max to find the largest integer in an array. \n",
    "\n"
   ]
  },
  {
   "cell_type": "markdown",
   "metadata": {},
   "source": [
    "for example: \n",
    "\n",
    "    find_max(make_array(1, 5, 4, 6, 7, 8))\n",
    "    8\n",
    "    find_max(make_array(-1, 5, 0))\n",
    "    5\n"
   ]
  },
  {
   "cell_type": "code",
   "execution_count": null,
   "metadata": {},
   "outputs": [],
   "source": []
  },
  {
   "cell_type": "markdown",
   "metadata": {},
   "source": [
    "    6.2 Write a function is_monotonic to check if given array is monotonic. An array is considered monotonic if the elements in the array are always increasing or always decreasing. Note that we do not consider (3, 4, 4, 5) is not monotonic because the array is not increasing from 4 to 4\n",
    "\n"
   ]
  },
  {
   "cell_type": "markdown",
   "metadata": {},
   "source": [
    "for example:\n",
    "\n",
    "    is_monotonic(make_array(1, 2, 3))\n",
    "    true\n",
    "    is_monotonic(make_array(3, 2, 1))\n",
    "    true\n",
    "    is_monotonic(make_array(1, 5, 2))\n",
    "    false"
   ]
  },
  {
   "cell_type": "code",
   "execution_count": null,
   "metadata": {},
   "outputs": [],
   "source": []
  },
  {
   "cell_type": "markdown",
   "metadata": {},
   "source": [
    "    6.3 Without using any predefined functions like np.sort() or list.sort(), write a function to sort an array in ascending order. (Hint: compare the items in a loop) \n"
   ]
  },
  {
   "cell_type": "markdown",
   "metadata": {},
   "source": [
    "for example:\n",
    "\n",
    "    my_sort(make_array(1, 5, 4, 6, 7, 8))\n",
    "    (1, 4, 5, 6, 7, 8)\n",
    "    my_sort(make_array(-1, 5, 0))\n",
    "    (-1, 0, 5)"
   ]
  },
  {
   "cell_type": "markdown",
   "metadata": {},
   "source": [
    "(Note: if you are stuck at coming up with an algorithm, you can google bubble sort or selection sort for python. But try to understand the algorithm!)"
   ]
  },
  {
   "cell_type": "code",
   "execution_count": null,
   "metadata": {},
   "outputs": [],
   "source": []
  },
  {
   "cell_type": "markdown",
   "metadata": {},
   "source": [
    "    6.4 Define a function find_common to find all common values from two arrays and return a list of the common values.\n",
    "\n"
   ]
  },
  {
   "cell_type": "markdown",
   "metadata": {},
   "source": [
    "for example:\n",
    "\n",
    "    find_common(make_array(1, 2, 3, 4), make_array(2, 3, 4, 5))\n",
    "    [2, 3, 4]\n",
    "    find_common(make_array(\"A\", \"C\", \"Z\"), make_array(\"P\", \"C\", \"D\"))\n",
    "    ['C']"
   ]
  },
  {
   "cell_type": "code",
   "execution_count": null,
   "metadata": {},
   "outputs": [],
   "source": []
  },
  {
   "cell_type": "markdown",
   "metadata": {},
   "source": [
    "    6.5 What does the following function do?"
   ]
  },
  {
   "cell_type": "code",
   "execution_count": null,
   "metadata": {},
   "outputs": [],
   "source": [
    "def my_func(lst, a):\n",
    "    new = make_array()\n",
    "    for i in range(len(lst)):\n",
    "        new = np.append(new, lst[i])\n",
    "        if (lst[i] == a):\n",
    "              new = np.append(new, a)\n",
    "    if a not in new:\n",
    "            new = np.append(new, a)\n",
    "    return new\n"
   ]
  },
  {
   "cell_type": "markdown",
   "metadata": {},
   "source": [
    "    6.6 Suppose you have a 2d coordinate system with many data points. A point (3, 1) has a x value of 3 and a y value of 1. Define a function dist_to_origin to find a list of the distance from the origin to each data point.\n"
   ]
  },
  {
   "cell_type": "markdown",
   "metadata": {},
   "source": [
    "for example:\n",
    "\n",
    "    dist_to_origin(make_array([1, 5], [3, 6], [2, 8], [-9, 0]))\n",
    "\n",
    "    [5.0990195135927845, 6.708203932499369, 8.246211251235321, 9.0]"
   ]
  },
  {
   "cell_type": "code",
   "execution_count": null,
   "metadata": {},
   "outputs": [],
   "source": []
  },
  {
   "cell_type": "markdown",
   "metadata": {},
   "source": [
    "-------------------------------"
   ]
  },
  {
   "cell_type": "markdown",
   "metadata": {},
   "source": [
    "    7.1 What does this function do?"
   ]
  },
  {
   "cell_type": "code",
   "execution_count": null,
   "metadata": {},
   "outputs": [],
   "source": [
    "def mystery(n):\n",
    "    if n == 0:\n",
    "        return False\n",
    "    while (n != 1): # while loops iterate until the condition specified is false\n",
    "        if (n % 2 != 0):\n",
    "            return False\n",
    "        n = n // 2\n",
    "    return True\n"
   ]
  },
  {
   "cell_type": "markdown",
   "metadata": {},
   "source": [
    "       7.2 \"Linear search\" is a searching method that checks every element in a sequence until the desired element is found. Define a function called \"linear_search\" that takes in an array of numbers and a number to search for in the array. If the number is found, return the index of the number in the array. Otherwise return -1."
   ]
  },
  {
   "cell_type": "code",
   "execution_count": null,
   "metadata": {},
   "outputs": [],
   "source": []
  },
  {
   "cell_type": "markdown",
   "metadata": {},
   "source": [
    "       7.3 What if we want a more efficient searching method that doesn't have to check every element in a sequence to find a desired element? **Binary search** is a searching method that takes much less time. It takes a sorted sequence and  checks the middle element. \n",
    "   \n",
    "       If the middle element is equal to the desired element then the desired element is found. If the desired element is smaller than the middle element then the elements to the left of the middle element are searched again in the same way. If the desired element is greater than the middle element then the elements to the right of the middle element are searched again. It might be a little challenging but try to define a function called *binary_search* that takes a sorted array of numbers and number to find. If the number is found, return the index of the number in the array. Otherwise return -1. Feel free to look up binary search for a more visual explanation of how the searching method works."
   ]
  },
  {
   "cell_type": "code",
   "execution_count": null,
   "metadata": {},
   "outputs": [],
   "source": []
  },
  {
   "cell_type": "markdown",
   "metadata": {},
   "source": [
    "    7.4 Define a function called \"pascal\" that takes an integer n and prints out the first n rows of Pascal's triangle.\n",
    "    \n",
    "    (hint: give a try on this question by observeing how you can use the previous row to make the following row. If you google this question, you will likely get a answer that is way too complicated)"
   ]
  },
  {
   "cell_type": "markdown",
   "metadata": {},
   "source": [
    "![alt text](https://www.w3resource.com/w3r_images/pascal-traingle.png)"
   ]
  },
  {
   "cell_type": "code",
   "execution_count": null,
   "metadata": {},
   "outputs": [],
   "source": []
  },
  {
   "cell_type": "markdown",
   "metadata": {},
   "source": [
    "    7.5 Define a function called *reverse_num* that takes an integer and returns the integer with the digits in reverse order. Ex.) reverse_num(1765) -> 5671"
   ]
  },
  {
   "cell_type": "code",
   "execution_count": null,
   "metadata": {},
   "outputs": [],
   "source": []
  },
  {
   "cell_type": "markdown",
   "metadata": {},
   "source": [
    "    7.6 Define a function called *geo_progression* that takes an array of numbers and returns True if the sequence of numbers is a geometric progression. A number sequence is a geometric progression if every number after the first is the result of multiplying the previous number and a fixed number called the common ratio. \n",
    "Ex.) \n",
    "\n",
    "> geo_progression(make_array(3,15,75,375,1875)) -> True #geometric progression with common ratio 5\n",
    "> geo_progression(make_array(1,2,3,4)) -> False\n"
   ]
  },
  {
   "cell_type": "code",
   "execution_count": null,
   "metadata": {},
   "outputs": [],
   "source": []
  },
  {
   "cell_type": "markdown",
   "metadata": {},
   "source": [
    "    7.7 Define a functon called *anagram* that takes a two strings and returns True if the two strings are an anagram of each other. An anagram is a word formed by rearranging the letters of another word."
   ]
  },
  {
   "cell_type": "code",
   "execution_count": null,
   "metadata": {},
   "outputs": [],
   "source": []
  },
  {
   "cell_type": "markdown",
   "metadata": {},
   "source": [
    "-------------------------------"
   ]
  }
 ],
 "metadata": {
  "kernelspec": {
   "display_name": "Python 3",
   "language": "python",
   "name": "python3"
  },
  "language_info": {
   "codemirror_mode": {
    "name": "ipython",
    "version": 3
   },
   "file_extension": ".py",
   "mimetype": "text/x-python",
   "name": "python",
   "nbconvert_exporter": "python",
   "pygments_lexer": "ipython3",
   "version": "3.6.7"
  }
 },
 "nbformat": 4,
 "nbformat_minor": 2
}
