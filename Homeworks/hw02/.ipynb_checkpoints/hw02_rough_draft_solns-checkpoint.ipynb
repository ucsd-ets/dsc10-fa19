{
 "cells": [
  {
   "cell_type": "markdown",
   "metadata": {},
   "source": [
    "# Homework 2: Tables and Charts, Due Monday, October 14, at 11:59pm"
   ]
  },
  {
   "cell_type": "markdown",
   "metadata": {},
   "source": [
    "**Reading**: Textbook chapters [6](https://www.inferentialthinking.com/chapters/06/Tables.html) and [7](https://www.inferentialthinking.com/chapters/07/Visualization.html).\n",
    "\n",
    "Directly sharing answers is not okay, but discussing problems with the course staff or with other students is encouraged. \n",
    "\n",
    "You should start early so that you have time to get help if you're stuck."
   ]
  },
  {
   "cell_type": "markdown",
   "metadata": {},
   "source": [
    "Please complete this notebook by filling in the cells provided. Before you begin, execute the following cell to load the provided tests. Each time you start your server, you will need to execute this cell again to load the tests."
   ]
  },
  {
   "cell_type": "code",
   "execution_count": 3,
   "metadata": {
    "scrolled": true
   },
   "outputs": [],
   "source": [
    "# Don't change this cell; just run it. \n",
    "\n",
    "import numpy as np\n",
    "from datascience import *\n",
    "\n",
    "%matplotlib inline\n",
    "import matplotlib.pyplot as plt\n",
    "plt.style.use('fivethirtyeight')\n",
    "\n",
    "#from client.api.notebook import Notebook\n",
    "#ok = Notebook('hw02.ok')\n",
    "#_ = ok.auth(inline=True)"
   ]
  },
  {
   "cell_type": "markdown",
   "metadata": {},
   "source": [
    "**Important**: The `ok` tests don't always tell you that your answer is correct. More often, they help catch careless mistakes. It's up to you to ensure that your answer is correct. If you're not sure, ask someone (not for the answer, but for some guidance about your approach)."
   ]
  },
  {
   "cell_type": "markdown",
   "metadata": {},
   "source": [
    "Once you're finished, you must do two things:\n",
    "\n",
    "### a. Turn into OK\n",
    "Select \"Save and Checkpoint\" in the File menu and then execute the `submit` cell below. The result will contain a link that you can use to check that your assignment has been submitted successfully. If you submit more than once before the deadline, we will only grade your final submission."
   ]
  },
  {
   "cell_type": "code",
   "execution_count": null,
   "metadata": {},
   "outputs": [],
   "source": [
    "_ = ok.submit()"
   ]
  },
  {
   "cell_type": "markdown",
   "metadata": {},
   "source": [
    "### b. Turn PDF into Gradescope\n",
    "Select File > Download As > PDF via LaTeX in the File menu. Turn in this PDF file into the respective assignment at https://gradescope.com/.\n",
    "\n",
    "If this doesn't work: try File > Download As > HTML, then print to PDF and upload to Gradescope. \n",
    "\n",
    "<br>\n",
    "If you submit more than once before the deadline, we will only grade your final submission"
   ]
  },
  {
   "cell_type": "markdown",
   "metadata": {},
   "source": [
    "## 1. Shark Attacks"
   ]
  },
  {
   "cell_type": "markdown",
   "metadata": {},
   "source": [
    "**Question 1.** The first line assigns `sharks` to an array containing the number of shark attacks between 1930 and 2017. What's the smallest and largest number of shark attacks in a given year? What is the average number of attacks between 1930 and 2017 `(round to an integer)`. What is the total number of shark attacks between 1930 and 2017?"
   ]
  },
  {
   "cell_type": "code",
   "execution_count": null,
   "metadata": {},
   "outputs": [],
   "source": [
    "sharks = Table.read_table('./sharks.csv').column('Attacks')\n",
    "\n",
    "smallest = ...\n",
    "largest = ...\n",
    "average = ...\n",
    "total = ..."
   ]
  },
  {
   "cell_type": "code",
   "execution_count": null,
   "metadata": {},
   "outputs": [],
   "source": [
    "_ = ok.grade('q5_1')"
   ]
  },
  {
   "cell_type": "markdown",
   "metadata": {},
   "source": [
    "**Question 2.** What is the largest decrease in attacks experienced between consecutive years? \n",
    "\n",
    "*Hint*: You'll need an array arithmetic function [mentioned in the textbook](https://ucsd-dsc10.gitbooks.io/textbook/content/chapters/04/4/arrays.html#Functions-on-Arrays)."
   ]
  },
  {
   "cell_type": "code",
   "execution_count": null,
   "metadata": {},
   "outputs": [],
   "source": [
    "biggest_decrease = ...\n",
    "biggest_decrease"
   ]
  },
  {
   "cell_type": "code",
   "execution_count": null,
   "metadata": {},
   "outputs": [],
   "source": [
    "_ = ok.grade('q5_2')"
   ]
  },
  {
   "cell_type": "markdown",
   "metadata": {},
   "source": [
    "**Question 3.** What percentage of shark attacks, during the 88 years recorded in the array, occured in the last 44 years?\n",
    "\n",
    "*Hint*: Look up Python array slicing on Google."
   ]
  },
  {
   "cell_type": "code",
   "execution_count": null,
   "metadata": {},
   "outputs": [],
   "source": [
    "pct_in_last_44_years = ...\n",
    "pct_in_last_44_years"
   ]
  },
  {
   "cell_type": "code",
   "execution_count": null,
   "metadata": {},
   "outputs": [],
   "source": [
    "_ = ok.grade('q5_3')"
   ]
  },
  {
   "cell_type": "markdown",
   "metadata": {},
   "source": [
    "**Question 4.** Suppose there were 30,000 beachgoers in 1930 and the number of beachgoers increased by 10% year-after-year. Create an array called `beachgoers` that contains the number of beachgoers in each year between 1930 and 2017. If any beachgoer is equally likely to be attacked by a shark, how dangerous was the *least* dangerous year for shark attacks? Assign the *percent* (**between 0 and 100**) chance of being attacked by a shark to the variable `danger`.\n"
   ]
  },
  {
   "cell_type": "code",
   "execution_count": null,
   "metadata": {},
   "outputs": [],
   "source": [
    "beachgoers = ...\n",
    "danger = ..."
   ]
  },
  {
   "cell_type": "code",
   "execution_count": null,
   "metadata": {},
   "outputs": [],
   "source": [
    "_ = ok.grade('q5_4')"
   ]
  },
  {
   "cell_type": "markdown",
   "metadata": {},
   "source": [
    "## 2. Tables\n"
   ]
  },
  {
   "cell_type": "markdown",
   "metadata": {},
   "source": [
    "**Question 1.** Suppose you have 13 quarters, 20 dimes, 15 nickels, and 3 pennies in your pocket. Create a table, named `coins`, with two columns: `Coin Type` and `Quantity` that contains the inventory of your pocket."
   ]
  },
  {
   "cell_type": "code",
   "execution_count": 4,
   "metadata": {},
   "outputs": [
    {
     "data": {
      "text/html": [
       "<table border=\"1\" class=\"dataframe\">\n",
       "    <thead>\n",
       "        <tr>\n",
       "            <th>Coin Type</th> <th>Quantity</th>\n",
       "        </tr>\n",
       "    </thead>\n",
       "    <tbody>\n",
       "        <tr>\n",
       "            <td>Quarter  </td> <td>13      </td>\n",
       "        </tr>\n",
       "        <tr>\n",
       "            <td>Dime     </td> <td>20      </td>\n",
       "        </tr>\n",
       "        <tr>\n",
       "            <td>Nickel   </td> <td>15      </td>\n",
       "        </tr>\n",
       "        <tr>\n",
       "            <td>Penny    </td> <td>3       </td>\n",
       "        </tr>\n",
       "    </tbody>\n",
       "</table>"
      ],
      "text/plain": [
       "Coin Type | Quantity\n",
       "Quarter   | 13\n",
       "Dime      | 20\n",
       "Nickel    | 15\n",
       "Penny     | 3"
      ]
     },
     "execution_count": 4,
     "metadata": {},
     "output_type": "execute_result"
    }
   ],
   "source": [
    "coins = Table().with_columns(\n",
    "    'Coin Type', make_array('Quarter', 'Dime', 'Nickel', 'Penny'),\n",
    "    'Quantity', make_array(13, 20, 15, 3)\n",
    ")\n",
    "coins"
   ]
  },
  {
   "cell_type": "code",
   "execution_count": null,
   "metadata": {},
   "outputs": [],
   "source": [
    "_ = ok.grade('q6_1')"
   ]
  },
  {
   "cell_type": "markdown",
   "metadata": {},
   "source": [
    "**Question 2.** The file `inventory.csv` contains information about the inventory at the snack bar at the end of the day.  Each row represents the contents of one box of snacks. Load it as a table named `inventory`."
   ]
  },
  {
   "cell_type": "code",
   "execution_count": 8,
   "metadata": {},
   "outputs": [
    {
     "data": {
      "text/html": [
       "<table border=\"1\" class=\"dataframe\">\n",
       "    <thead>\n",
       "        <tr>\n",
       "            <th>snack ID</th> <th>snack name</th> <th>price per item ($)</th> <th>start count</th> <th>sold count</th>\n",
       "        </tr>\n",
       "    </thead>\n",
       "    <tbody>\n",
       "        <tr>\n",
       "            <td>53686   </td> <td>fruit snacks </td> <td>1                 </td> <td>120        </td> <td>40        </td>\n",
       "        </tr>\n",
       "        <tr>\n",
       "            <td>57181   </td> <td>ginger chews </td> <td>5                 </td> <td>10         </td> <td>8         </td>\n",
       "        </tr>\n",
       "        <tr>\n",
       "            <td>25274   </td> <td>doritos      </td> <td>2.5               </td> <td>56         </td> <td>20        </td>\n",
       "        </tr>\n",
       "        <tr>\n",
       "            <td>48800   </td> <td>takis        </td> <td>2                 </td> <td>50         </td> <td>10        </td>\n",
       "        </tr>\n",
       "        <tr>\n",
       "            <td>26187   </td> <td>fruit snacks </td> <td>1                 </td> <td>55         </td> <td>25        </td>\n",
       "        </tr>\n",
       "        <tr>\n",
       "            <td>57930   </td> <td>oreos        </td> <td>0.5               </td> <td>35         </td> <td>35        </td>\n",
       "        </tr>\n",
       "        <tr>\n",
       "            <td>52357   </td> <td>string cheese</td> <td>1.75              </td> <td>15         </td> <td>0         </td>\n",
       "        </tr>\n",
       "        <tr>\n",
       "            <td>43566   </td> <td>twix bars    </td> <td>4.5               </td> <td>40         </td> <td>20        </td>\n",
       "        </tr>\n",
       "        <tr>\n",
       "            <td>23434   </td> <td>m&ms         </td> <td>3                 </td> <td>100        </td> <td>30        </td>\n",
       "        </tr>\n",
       "        <tr>\n",
       "            <td>23334   </td> <td>goldfish     </td> <td>5                 </td> <td>120        </td> <td>100       </td>\n",
       "        </tr>\n",
       "    </tbody>\n",
       "</table>\n",
       "<p>... (1 rows omitted)</p>"
      ],
      "text/plain": [
       "snack ID | snack name    | price per item ($) | start count | sold count\n",
       "53686    | fruit snacks  | 1                  | 120         | 40\n",
       "57181    | ginger chews  | 5                  | 10          | 8\n",
       "25274    | doritos       | 2.5                | 56          | 20\n",
       "48800    | takis         | 2                  | 50          | 10\n",
       "26187    | fruit snacks  | 1                  | 55          | 25\n",
       "57930    | oreos         | 0.5                | 35          | 35\n",
       "52357    | string cheese | 1.75               | 15          | 0\n",
       "43566    | twix bars     | 4.5                | 40          | 20\n",
       "23434    | m&ms          | 3                  | 100         | 30\n",
       "23334    | goldfish      | 5                  | 120         | 100\n",
       "... (1 rows omitted)"
      ]
     },
     "execution_count": 8,
     "metadata": {},
     "output_type": "execute_result"
    }
   ],
   "source": [
    "inventory = Table.read_table('inventory.csv')\n",
    "inventory"
   ]
  },
  {
   "cell_type": "code",
   "execution_count": null,
   "metadata": {},
   "outputs": [],
   "source": [
    "_ = ok.grade('q6_2')"
   ]
  },
  {
   "cell_type": "markdown",
   "metadata": {},
   "source": [
    "**Question 3.** Does each box at the snack stand contain a different snack?"
   ]
  },
  {
   "cell_type": "code",
   "execution_count": null,
   "metadata": {},
   "outputs": [],
   "source": [
    "# Set all_different to \"Yes\" if each box contains a different fruit or to \"No\" if multiple boxes contain the same fruit\n",
    "all_different = 'No'\n",
    "all_different"
   ]
  },
  {
   "cell_type": "code",
   "execution_count": null,
   "metadata": {},
   "outputs": [],
   "source": [
    "_ = ok.grade('q6_3')"
   ]
  },
  {
   "cell_type": "markdown",
   "metadata": {},
   "source": [
    "**Question 4.** How many snacks did the store sell in total that day **NOT** including fruit snacks? "
   ]
  },
  {
   "cell_type": "code",
   "execution_count": 6,
   "metadata": {},
   "outputs": [
    {
     "data": {
      "text/plain": [
       "308"
      ]
     },
     "execution_count": 6,
     "metadata": {},
     "output_type": "execute_result"
    }
   ],
   "source": [
    "total_fruit_sold = sum(inventory.column('sold count')) \n",
    "total_fruit_sold"
   ]
  },
  {
   "cell_type": "code",
   "execution_count": null,
   "metadata": {},
   "outputs": [],
   "source": [
    "_ = ok.grade('q6_4')"
   ]
  },
  {
   "cell_type": "markdown",
   "metadata": {},
   "source": [
    "**Question 5.** What was the store's total revenue (the total price of all snacks sold) on that day?"
   ]
  },
  {
   "cell_type": "code",
   "execution_count": 7,
   "metadata": {},
   "outputs": [
    {
     "data": {
      "text/plain": [
       "892.5"
      ]
     },
     "execution_count": 7,
     "metadata": {},
     "output_type": "execute_result"
    }
   ],
   "source": [
    "total_revenue = sum(inventory.column(2) * inventory.column(4))\n",
    "total_revenue"
   ]
  },
  {
   "cell_type": "code",
   "execution_count": null,
   "metadata": {},
   "outputs": [],
   "source": [
    "_ = ok.grade('q6_5')"
   ]
  },
  {
   "cell_type": "markdown",
   "metadata": {},
   "source": [
    "**Question 6.** What was the stores's total revenue from fruit snacks sales that day?"
   ]
  },
  {
   "cell_type": "code",
   "execution_count": null,
   "metadata": {},
   "outputs": [],
   "source": [
    "strawberries = inventory.where('fruit name', 'strawberry')\n",
    "revenue_from_strawberries = sum(strawberries.column(2) * strawberries.column(4))\n",
    "revenue_from_strawberries"
   ]
  },
  {
   "cell_type": "code",
   "execution_count": null,
   "metadata": {},
   "outputs": [],
   "source": [
    "_ = ok.grade('q6_6')"
   ]
  },
  {
   "cell_type": "markdown",
   "metadata": {},
   "source": [
    "**Question 7.** Which of the following snacks made the most revenue for the snack stand that day?\n",
    "\n",
    "1. ginger chews\n",
    "2. takis\n",
    "3. twix bars\n",
    "4. doritos\n",
    "5. goldfish\n"
   ]
  },
  {
   "cell_type": "code",
   "execution_count": null,
   "metadata": {},
   "outputs": [],
   "source": [
    "best_product = ...\n",
    "best_product"
   ]
  },
  {
   "cell_type": "markdown",
   "metadata": {},
   "source": [
    "**Question 7.** Create a table with a new column, called `remaining ($)` that indicates the total remaining value of the snacks still in each box at the end of the day. Assign this table the name `with_remaining`."
   ]
  },
  {
   "cell_type": "code",
   "execution_count": 9,
   "metadata": {},
   "outputs": [
    {
     "data": {
      "text/html": [
       "<table border=\"1\" class=\"dataframe\">\n",
       "    <thead>\n",
       "        <tr>\n",
       "            <th>snack ID</th> <th>snack name</th> <th>price per item ($)</th> <th>start count</th> <th>sold count</th> <th>remaining ($)</th>\n",
       "        </tr>\n",
       "    </thead>\n",
       "    <tbody>\n",
       "        <tr>\n",
       "            <td>53686   </td> <td>fruit snacks </td> <td>1                 </td> <td>120        </td> <td>40        </td> <td>80           </td>\n",
       "        </tr>\n",
       "        <tr>\n",
       "            <td>57181   </td> <td>ginger chews </td> <td>5                 </td> <td>10         </td> <td>8         </td> <td>10           </td>\n",
       "        </tr>\n",
       "        <tr>\n",
       "            <td>25274   </td> <td>doritos      </td> <td>2.5               </td> <td>56         </td> <td>20        </td> <td>90           </td>\n",
       "        </tr>\n",
       "        <tr>\n",
       "            <td>48800   </td> <td>takis        </td> <td>2                 </td> <td>50         </td> <td>10        </td> <td>80           </td>\n",
       "        </tr>\n",
       "        <tr>\n",
       "            <td>26187   </td> <td>fruit snacks </td> <td>1                 </td> <td>55         </td> <td>25        </td> <td>30           </td>\n",
       "        </tr>\n",
       "        <tr>\n",
       "            <td>57930   </td> <td>oreos        </td> <td>0.5               </td> <td>35         </td> <td>35        </td> <td>0            </td>\n",
       "        </tr>\n",
       "        <tr>\n",
       "            <td>52357   </td> <td>string cheese</td> <td>1.75              </td> <td>15         </td> <td>0         </td> <td>26.25        </td>\n",
       "        </tr>\n",
       "        <tr>\n",
       "            <td>43566   </td> <td>twix bars    </td> <td>4.5               </td> <td>40         </td> <td>20        </td> <td>90           </td>\n",
       "        </tr>\n",
       "        <tr>\n",
       "            <td>23434   </td> <td>m&ms         </td> <td>3                 </td> <td>100        </td> <td>30        </td> <td>210          </td>\n",
       "        </tr>\n",
       "        <tr>\n",
       "            <td>23334   </td> <td>goldfish     </td> <td>5                 </td> <td>120        </td> <td>100       </td> <td>100          </td>\n",
       "        </tr>\n",
       "    </tbody>\n",
       "</table>\n",
       "<p>... (1 rows omitted)</p>"
      ],
      "text/plain": [
       "snack ID | snack name    | price per item ($) | start count | sold count | remaining ($)\n",
       "53686    | fruit snacks  | 1                  | 120         | 40         | 80\n",
       "57181    | ginger chews  | 5                  | 10          | 8          | 10\n",
       "25274    | doritos       | 2.5                | 56          | 20         | 90\n",
       "48800    | takis         | 2                  | 50          | 10         | 80\n",
       "26187    | fruit snacks  | 1                  | 55          | 25         | 30\n",
       "57930    | oreos         | 0.5                | 35          | 35         | 0\n",
       "52357    | string cheese | 1.75               | 15          | 0          | 26.25\n",
       "43566    | twix bars     | 4.5                | 40          | 20         | 90\n",
       "23434    | m&ms          | 3                  | 100         | 30         | 210\n",
       "23334    | goldfish      | 5                  | 120         | 100        | 100\n",
       "... (1 rows omitted)"
      ]
     },
     "execution_count": 9,
     "metadata": {},
     "output_type": "execute_result"
    }
   ],
   "source": [
    "with_remaining = inventory.with_column('remaining ($)', inventory.column(2) * (inventory.column(3) - inventory.column(4)))\n",
    "with_remaining"
   ]
  },
  {
   "cell_type": "code",
   "execution_count": null,
   "metadata": {},
   "outputs": [],
   "source": [
    "_ = ok.grade('q6_7')"
   ]
  },
  {
   "cell_type": "markdown",
   "metadata": {},
   "source": [
    "**Question 8.** Create a table with a new column, called `favorites` that indicates whether a snack is one of the most favorite kinds by `True` or `False`. If the total remaining value of the snacks still in each box at the end of the day is **less then 50 dollars**, then this snack in a particular box is one of the most favorite. Assign this table the name `with_favorites`."
   ]
  },
  {
   "cell_type": "code",
   "execution_count": null,
   "metadata": {},
   "outputs": [],
   "source": [
    "with_favorites = ...\n",
    "with_favorites"
   ]
  },
  {
   "cell_type": "code",
   "execution_count": null,
   "metadata": {},
   "outputs": [],
   "source": [
    "_ = ok.grade('q6_8')"
   ]
  },
  {
   "cell_type": "markdown",
   "metadata": {},
   "source": [
    "## 3. Avocadopocalypse"
   ]
  },
  {
   "cell_type": "markdown",
   "metadata": {},
   "source": [
    "In early 2017, reduced harvests and labor strikes caused avocado production in Mexico, Peru, and California to  dramatically decrease. In this problem we will investigate how and where prices fluctuated in response to the \"avocadopocalypse\".\n",
    "\n",
    "The source of the avocado price data is [here](http://www.hassavocadoboard.com/retail/volume-and-price-data). We will use a subset of the data. The data has the following columns:\n",
    "\n",
    "|Column|Description|\n",
    "|------|-----------|\n",
    "|Date|The date on which a price was recorded in YEAR-MONTH format|\n",
    "|Type|The type of avocado. Either \"conventional\" or \"organic\".|\n",
    "|Region|Where the price was recorded.|\n",
    "|Price|The average avocado price for that time period/location.|\n",
    "|Volume|The number of avocados sold (in thousands).|"
   ]
  },
  {
   "cell_type": "markdown",
   "metadata": {},
   "source": [
    "**Question 1.** The data are in a CSV called `avocado.csv`. Read this file into a table named `avocado`."
   ]
  },
  {
   "cell_type": "code",
   "execution_count": null,
   "metadata": {},
   "outputs": [],
   "source": [
    "avocado = ...\n",
    "avocado"
   ]
  },
  {
   "cell_type": "code",
   "execution_count": null,
   "metadata": {},
   "outputs": [],
   "source": [
    "_ = ok.grade('q1_1')"
   ]
  },
  {
   "cell_type": "markdown",
   "metadata": {},
   "source": [
    "**Question 2.** Assign `cheapest` to the name of the region which had the cheapest avocados (of any type, and any date), and similarly assign `most_expensive` to the name of the region with the most expensive avocados (of any type, and any date)."
   ]
  },
  {
   "cell_type": "code",
   "execution_count": null,
   "metadata": {},
   "outputs": [],
   "source": [
    "cheapest = ...\n",
    "most_expensive = ..."
   ]
  },
  {
   "cell_type": "code",
   "execution_count": null,
   "metadata": {},
   "outputs": [],
   "source": [
    "_ = ok.grade('q1_2')"
   ]
  },
  {
   "cell_type": "markdown",
   "metadata": {},
   "source": [
    "**Question 3.** Avocados are sold in two types: organic and conventional. Make a table named `organic` containing the data for organic avocados, and a table named `conventional` for conventional avocados."
   ]
  },
  {
   "cell_type": "code",
   "execution_count": null,
   "metadata": {},
   "outputs": [],
   "source": [
    "organic = ...\n",
    "conventional = ..."
   ]
  },
  {
   "cell_type": "code",
   "execution_count": null,
   "metadata": {},
   "outputs": [],
   "source": [
    "_ = ok.grade('q1_3')"
   ]
  },
  {
   "cell_type": "markdown",
   "metadata": {},
   "source": [
    "**Question 4**: Create a table named `sf_total` containing two columns: `Date` and `Total Volume`. The `Total Volume` column should be equal to the total volume of avocados (organic + conventional) sold in San Francisco for each date. <br>\n",
    "\n",
    "*Hint: By default, the `.group()` method asks for a column name whose values will be used to group the rows into categories. It creates a `count` column which contains the size of each group. But you can also provide `.group()` with a second argument: a function which will be applied to each group. You can use a built-in function or imported function, such as one from numpy (np).*"
   ]
  },
  {
   "cell_type": "code",
   "execution_count": null,
   "metadata": {},
   "outputs": [],
   "source": [
    "# Remember: you can always use intermediate variables and more than one line of code\n",
    "sf_total = ...\n",
    "sf_total"
   ]
  },
  {
   "cell_type": "code",
   "execution_count": null,
   "metadata": {},
   "outputs": [],
   "source": [
    "_ = ok.grade('q1_4')"
   ]
  },
  {
   "cell_type": "markdown",
   "metadata": {},
   "source": [
    "**Question 5.** Compute the median price of **conventional** avocados in the entire US. Create a table named `median_price` containing two columns: <br>\n",
    "1. The date.\n",
    "2. The median price of conventional avocados sold for that date.\n",
    "\n",
    "*Hint: You may want to apply some function as the second argument of group().*"
   ]
  },
  {
   "cell_type": "markdown",
   "metadata": {},
   "source": [
    "**Question 5.** Compute the median price of **conventional** avocados in the entire US. Create a table named `median_price` containing two columns: <br>\n",
    "1. The date.\n",
    "2. The median price of conventional avocados sold for that date.\n",
    "\n",
    "*Hint: You may want to apply some function as the second argument of group().*"
   ]
  },
  {
   "cell_type": "code",
   "execution_count": null,
   "metadata": {},
   "outputs": [],
   "source": [
    "_ = ok.grade('q1_5')"
   ]
  },
  {
   "cell_type": "markdown",
   "metadata": {},
   "source": [
    "**Question 6.** Plot the median price of conventional avocados in the entire US as a function of date. Does the data support the \"avocadopocalypse\"; that is, were prices higher in 2017? Describe how you could use the given data to investigate the *reason* that prices were higher."
   ]
  },
  {
   "cell_type": "code",
   "execution_count": null,
   "metadata": {},
   "outputs": [],
   "source": [
    "# Make your plot here\n"
   ]
  },
  {
   "cell_type": "markdown",
   "metadata": {},
   "source": [
    "<hr style=\"color:Maroon;background-color:Maroon;border:0 none; height: 3px;\">\n",
    "\n",
    "*Write your answer here.*\n",
    "\n",
    "<hr style=\"color:Maroon;background-color:Maroon;border:0 none; height: 3px;\">"
   ]
  },
  {
   "cell_type": "markdown",
   "metadata": {},
   "source": [
    "## 4. Google Play Store"
   ]
  },
  {
   "cell_type": "markdown",
   "metadata": {},
   "source": [
    "In this problem, we will explore the [Google Play Store Apps Dataset](https://www.kaggle.com/lava18/google-play-store-apps), scraped from the Google Play Store."
   ]
  },
  {
   "cell_type": "code",
   "execution_count": 12,
   "metadata": {},
   "outputs": [
    {
     "data": {
      "text/html": [
       "<table border=\"1\" class=\"dataframe\">\n",
       "    <thead>\n",
       "        <tr>\n",
       "            <th>App</th> <th>Category</th> <th>Rating</th> <th>Reviews</th> <th>Size</th> <th>Installs</th> <th>Type</th> <th>Price</th> <th>Content Rating</th> <th>Genres</th>\n",
       "        </tr>\n",
       "    </thead>\n",
       "    <tbody>\n",
       "        <tr>\n",
       "            <td>Photo Editor & Candy Camera & Grid & ScrapBook    </td> <td>ART_AND_DESIGN</td> <td>4.1   </td> <td>159    </td> <td>19M </td> <td>10000   </td> <td>Free</td> <td>0    </td> <td>Everyone      </td> <td>Art & Design             </td>\n",
       "        </tr>\n",
       "        <tr>\n",
       "            <td>Coloring book moana                               </td> <td>ART_AND_DESIGN</td> <td>3.9   </td> <td>967    </td> <td>14M </td> <td>500000  </td> <td>Free</td> <td>0    </td> <td>Everyone      </td> <td>Art & Design;Pretend Play</td>\n",
       "        </tr>\n",
       "        <tr>\n",
       "            <td>U Launcher Lite – FREE Live Cool Themes, Hide Apps</td> <td>ART_AND_DESIGN</td> <td>4.7   </td> <td>87510  </td> <td>8.7M</td> <td>5e+06   </td> <td>Free</td> <td>0    </td> <td>Everyone      </td> <td>Art & Design             </td>\n",
       "        </tr>\n",
       "        <tr>\n",
       "            <td>Sketch - Draw & Paint                             </td> <td>ART_AND_DESIGN</td> <td>4.5   </td> <td>215644 </td> <td>25M </td> <td>5e+07   </td> <td>Free</td> <td>0    </td> <td>Teen          </td> <td>Art & Design             </td>\n",
       "        </tr>\n",
       "        <tr>\n",
       "            <td>Pixel Draw - Number Art Coloring Book             </td> <td>ART_AND_DESIGN</td> <td>4.3   </td> <td>967    </td> <td>2.8M</td> <td>100000  </td> <td>Free</td> <td>0    </td> <td>Everyone      </td> <td>Art & Design;Creativity  </td>\n",
       "        </tr>\n",
       "        <tr>\n",
       "            <td>Paper flowers instructions                        </td> <td>ART_AND_DESIGN</td> <td>4.4   </td> <td>167    </td> <td>5.6M</td> <td>50000   </td> <td>Free</td> <td>0    </td> <td>Everyone      </td> <td>Art & Design             </td>\n",
       "        </tr>\n",
       "        <tr>\n",
       "            <td>Smoke Effect Photo Maker - Smoke Editor           </td> <td>ART_AND_DESIGN</td> <td>3.8   </td> <td>178    </td> <td>19M </td> <td>50000   </td> <td>Free</td> <td>0    </td> <td>Everyone      </td> <td>Art & Design             </td>\n",
       "        </tr>\n",
       "        <tr>\n",
       "            <td>Infinite Painter                                  </td> <td>ART_AND_DESIGN</td> <td>4.1   </td> <td>36815  </td> <td>29M </td> <td>1e+06   </td> <td>Free</td> <td>0    </td> <td>Everyone      </td> <td>Art & Design             </td>\n",
       "        </tr>\n",
       "        <tr>\n",
       "            <td>Garden Coloring Book                              </td> <td>ART_AND_DESIGN</td> <td>4.4   </td> <td>13791  </td> <td>33M </td> <td>1e+06   </td> <td>Free</td> <td>0    </td> <td>Everyone      </td> <td>Art & Design             </td>\n",
       "        </tr>\n",
       "        <tr>\n",
       "            <td>Kids Paint Free - Drawing Fun                     </td> <td>ART_AND_DESIGN</td> <td>4.7   </td> <td>121    </td> <td>3.1M</td> <td>10000   </td> <td>Free</td> <td>0    </td> <td>Everyone      </td> <td>Art & Design;Creativity  </td>\n",
       "        </tr>\n",
       "    </tbody>\n",
       "</table>\n",
       "<p>... (10815 rows omitted)</p>"
      ],
      "text/plain": [
       "App                                                | Category       | Rating | Reviews | Size | Installs | Type | Price | Content Rating | Genres\n",
       "Photo Editor & Candy Camera & Grid & ScrapBook     | ART_AND_DESIGN | 4.1    | 159     | 19M  | 10000    | Free | 0     | Everyone       | Art & Design\n",
       "Coloring book moana                                | ART_AND_DESIGN | 3.9    | 967     | 14M  | 500000   | Free | 0     | Everyone       | Art & Design;Pretend Play\n",
       "U Launcher Lite – FREE Live Cool Themes, Hide Apps | ART_AND_DESIGN | 4.7    | 87510   | 8.7M | 5e+06    | Free | 0     | Everyone       | Art & Design\n",
       "Sketch - Draw & Paint                              | ART_AND_DESIGN | 4.5    | 215644  | 25M  | 5e+07    | Free | 0     | Teen           | Art & Design\n",
       "Pixel Draw - Number Art Coloring Book              | ART_AND_DESIGN | 4.3    | 967     | 2.8M | 100000   | Free | 0     | Everyone       | Art & Design;Creativity\n",
       "Paper flowers instructions                         | ART_AND_DESIGN | 4.4    | 167     | 5.6M | 50000    | Free | 0     | Everyone       | Art & Design\n",
       "Smoke Effect Photo Maker - Smoke Editor            | ART_AND_DESIGN | 3.8    | 178     | 19M  | 50000    | Free | 0     | Everyone       | Art & Design\n",
       "Infinite Painter                                   | ART_AND_DESIGN | 4.1    | 36815   | 29M  | 1e+06    | Free | 0     | Everyone       | Art & Design\n",
       "Garden Coloring Book                               | ART_AND_DESIGN | 4.4    | 13791   | 33M  | 1e+06    | Free | 0     | Everyone       | Art & Design\n",
       "Kids Paint Free - Drawing Fun                      | ART_AND_DESIGN | 4.7    | 121     | 3.1M | 10000    | Free | 0     | Everyone       | Art & Design;Creativity\n",
       "... (10815 rows omitted)"
      ]
     },
     "execution_count": 12,
     "metadata": {},
     "output_type": "execute_result"
    }
   ],
   "source": [
    "# run this cell to load the data\n",
    "apps = Table.read_table('googleplaystore.csv')\n",
    "apps"
   ]
  },
  {
   "cell_type": "markdown",
   "metadata": {},
   "source": [
    "Each row in the table is an app. Here are descriptions of some of the columns.\n",
    "- **Category** Category the app belongs to\n",
    "- **Rating** Overall user rating of the app (as when scraped)\n",
    "- **Reviews** Number of user reviews for the app (as when scraped) \n",
    "- **Installs** Number of user downloads/installs for the app (as when scraped)"
   ]
  },
  {
   "cell_type": "markdown",
   "metadata": {},
   "source": [
    "**Question 1.** Assign `by_category` to a table which counts the number of apps per category. List the categories alphabetically."
   ]
  },
  {
   "cell_type": "code",
   "execution_count": 44,
   "metadata": {},
   "outputs": [
    {
     "data": {
      "text/html": [
       "<table border=\"1\" class=\"dataframe\">\n",
       "    <thead>\n",
       "        <tr>\n",
       "            <th>Content Rating</th> <th>count</th>\n",
       "        </tr>\n",
       "    </thead>\n",
       "    <tbody>\n",
       "        <tr>\n",
       "            <td>Adults only 18+</td> <td>3    </td>\n",
       "        </tr>\n",
       "        <tr>\n",
       "            <td>Everyone       </td> <td>8702 </td>\n",
       "        </tr>\n",
       "        <tr>\n",
       "            <td>Everyone 10+   </td> <td>413  </td>\n",
       "        </tr>\n",
       "        <tr>\n",
       "            <td>Mature 17+     </td> <td>499  </td>\n",
       "        </tr>\n",
       "        <tr>\n",
       "            <td>Teen           </td> <td>1206 </td>\n",
       "        </tr>\n",
       "        <tr>\n",
       "            <td>Unrated        </td> <td>2    </td>\n",
       "        </tr>\n",
       "    </tbody>\n",
       "</table>"
      ],
      "text/plain": [
       "Content Rating  | count\n",
       "Adults only 18+ | 3\n",
       "Everyone        | 8702\n",
       "Everyone 10+    | 413\n",
       "Mature 17+      | 499\n",
       "Teen            | 1206\n",
       "Unrated         | 2"
      ]
     },
     "execution_count": 44,
     "metadata": {},
     "output_type": "execute_result"
    }
   ],
   "source": [
    "by_category = apps.group('Content Rating').sort('Content Rating')\n",
    "by_category"
   ]
  },
  {
   "cell_type": "code",
   "execution_count": null,
   "metadata": {},
   "outputs": [],
   "source": [
    "_ = ok.grade('q2_1')"
   ]
  },
  {
   "cell_type": "markdown",
   "metadata": {},
   "source": [
    "**Question 2.** Compute the number of apps in the dataset that have 1.5 stars or lower, and save the result in `bad_apps` and compute the number of apps in the dataset that have 4 starts of higher, and save the results in `good_apps`."
   ]
  },
  {
   "cell_type": "code",
   "execution_count": 45,
   "metadata": {},
   "outputs": [
    {
     "data": {
      "text/plain": [
       "(7449, 7368)"
      ]
     },
     "execution_count": 45,
     "metadata": {},
     "output_type": "execute_result"
    }
   ],
   "source": [
    "bad_apps = apps.where('Rating', are.below_or_equal_to(4.5)).num_rows\n",
    "good_apps = apps.where('Rating', are.above_or_equal_to(4.0)).num_rows\n",
    "bad_apps, good_apps"
   ]
  },
  {
   "cell_type": "code",
   "execution_count": null,
   "metadata": {},
   "outputs": [],
   "source": [
    "_ = ok.grade('q2_2')"
   ]
  },
  {
   "cell_type": "markdown",
   "metadata": {},
   "source": [
    "**Question 4.** How many apps listed have the word \"Google\" in the App name?\n",
    "\n",
    "note: each row is a separate App and should be counted as such (even if the names are the same)."
   ]
  },
  {
   "cell_type": "code",
   "execution_count": 33,
   "metadata": {},
   "outputs": [
    {
     "data": {
      "text/plain": [
       "94"
      ]
     },
     "execution_count": 33,
     "metadata": {},
     "output_type": "execute_result"
    }
   ],
   "source": [
    "google_apps = apps.where(\"App\", are.containing(\"Google\")).num_rows\n",
    "google_apps"
   ]
  },
  {
   "cell_type": "markdown",
   "metadata": {},
   "source": [
    "**Question 5:** Of the apps under the Category `COMMUNICATION`, get the `Content Rating` count for apps where the Rating is between or equal to 4 and 5 (inclusive). Return this as a table sorted by `count` (with greatest count at the top of the table).\n",
    "\n",
    "Hint: creating two tables may help. Even though it is possible to do this in one line, sometimes it's better to break up the tasks to make the overall process clearer. "
   ]
  },
  {
   "cell_type": "code",
   "execution_count": 60,
   "metadata": {},
   "outputs": [
    {
     "data": {
      "text/html": [
       "<table border=\"1\" class=\"dataframe\">\n",
       "    <thead>\n",
       "        <tr>\n",
       "            <th>Content Rating</th> <th>count</th>\n",
       "        </tr>\n",
       "    </thead>\n",
       "    <tbody>\n",
       "        <tr>\n",
       "            <td>Everyone      </td> <td>209  </td>\n",
       "        </tr>\n",
       "        <tr>\n",
       "            <td>Teen          </td> <td>17   </td>\n",
       "        </tr>\n",
       "        <tr>\n",
       "            <td>Mature 17+    </td> <td>8    </td>\n",
       "        </tr>\n",
       "    </tbody>\n",
       "</table>"
      ],
      "text/plain": [
       "Content Rating | count\n",
       "Everyone       | 209\n",
       "Teen           | 17\n",
       "Mature 17+     | 8"
      ]
     },
     "execution_count": 60,
     "metadata": {},
     "output_type": "execute_result"
    }
   ],
   "source": [
    "#first get the apps which are under the Category COMMUNICATION\n",
    "communication_apps = apps.where(\"Category\", are.containing(\"COMMUNICATION\"))\n",
    "\n",
    "#then use the above table and get apps with ratings between 4 and 5 (then get count and sort correctly)\n",
    "top_communicaiton_apps = communication_apps.where(\"Rating\", are.not_strictly_between(4,5)).group(\"Content Rating\").sort(\"count\",descending = True)\n",
    "\n",
    "top_communication_apps"
   ]
  },
  {
   "cell_type": "code",
   "execution_count": null,
   "metadata": {},
   "outputs": [],
   "source": [
    "_ = ok.grade('q2_3')"
   ]
  },
  {
   "cell_type": "markdown",
   "metadata": {},
   "source": [
    "**Question 4.** Create a table named `install_stats` which has three columns: the column `Content Rating`, column `Mean Installs`, and column `Median Installs` which contains the mean and median number of install of apps in each type of content rating respectively.\n",
    "\n",
    "*Hint*: You can use the 2-argument form of `.group()` ."
   ]
  },
  {
   "cell_type": "code",
   "execution_count": null,
   "metadata": {},
   "outputs": [],
   "source": [
    "install_stats = ...\n",
    "install_stats"
   ]
  },
  {
   "cell_type": "code",
   "execution_count": null,
   "metadata": {},
   "outputs": [],
   "source": [
    "_ = ok.grade('q2_4')"
   ]
  },
  {
   "cell_type": "markdown",
   "metadata": {},
   "source": [
    "**Question 5.** Suppose a good app is one with at least one million installs and a rating of at least 4.5. Create a variable called `best_category` containing the name of the category with the most good apps. "
   ]
  },
  {
   "cell_type": "code",
   "execution_count": null,
   "metadata": {},
   "outputs": [],
   "source": [
    "best_category = ...\n",
    "best_category"
   ]
  },
  {
   "cell_type": "code",
   "execution_count": null,
   "metadata": {},
   "outputs": [],
   "source": [
    "_ = ok.grade('q2_5')"
   ]
  },
  {
   "cell_type": "markdown",
   "metadata": {},
   "source": [
    "## 5. Power Outages\n"
   ]
  },
  {
   "cell_type": "markdown",
   "metadata": {},
   "source": [
    "The dataset below contains information about power outages that occurred in North America between 2000 to 2014. The data is a subset of the data available [here](https://www.kaggle.com/autunno/15-years-of-power-outages).  Run the next cell to load the data."
   ]
  },
  {
   "cell_type": "code",
   "execution_count": null,
   "metadata": {},
   "outputs": [],
   "source": [
    "# just run this cell\n",
    "power = Table.read_table(\"powerdata.csv\")\n",
    "power"
   ]
  },
  {
   "cell_type": "markdown",
   "metadata": {},
   "source": [
    "**Question 1.** Find the proportion of all power outages that occured in the year 2008. Save your answer to the variable `outage_2008`."
   ]
  },
  {
   "cell_type": "code",
   "execution_count": null,
   "metadata": {},
   "outputs": [],
   "source": [
    "outage_2008 = ...\n",
    "outage_2008"
   ]
  },
  {
   "cell_type": "code",
   "execution_count": null,
   "metadata": {},
   "outputs": [],
   "source": [
    "_ = ok.grade('q3_1')"
   ]
  },
  {
   "cell_type": "markdown",
   "metadata": {},
   "source": [
    "**Question 2.** Make a bar chart showing the number of outages per NERC Region. Make sure that the bars are sorted from longest to shortest. You can learn more about what a NERC region is [here](https://www.nerc.com/Pages/default.aspx)."
   ]
  },
  {
   "cell_type": "code",
   "execution_count": null,
   "metadata": {},
   "outputs": [],
   "source": [
    "# put your line of code here:\n",
    "..."
   ]
  },
  {
   "cell_type": "markdown",
   "metadata": {},
   "source": [
    "**Question 3.** Draw a line plot of the count of power outages by year."
   ]
  },
  {
   "cell_type": "code",
   "execution_count": null,
   "metadata": {},
   "outputs": [],
   "source": [
    "# put your line of code here:\n",
    "..."
   ]
  },
  {
   "cell_type": "markdown",
   "metadata": {},
   "source": [
    "**Question 4.** We notice that there is a spike in power outages in the year 2011. Let's explore some of the data of the outages in the year 2011. Create a table named `power_2011` which has two columns: `Event Description`, and `count`, which is a count of the number of times that `Event Description` occured in 2011."
   ]
  },
  {
   "cell_type": "code",
   "execution_count": null,
   "metadata": {},
   "outputs": [],
   "source": [
    "power_2011 = ...\n",
    "power_2011"
   ]
  },
  {
   "cell_type": "code",
   "execution_count": null,
   "metadata": {},
   "outputs": [],
   "source": [
    "_ = ok.grade('q3_4')"
   ]
  },
  {
   "cell_type": "markdown",
   "metadata": {},
   "source": [
    "**Question 5.** Let's say we want to find the proportion of each event and add it to `power_2011`. Create a new table called `proportion_2011` that adds a new column called `Proportions`."
   ]
  },
  {
   "cell_type": "code",
   "execution_count": null,
   "metadata": {},
   "outputs": [],
   "source": [
    "proportion_2011 = ...\n",
    "proportion_2011"
   ]
  },
  {
   "cell_type": "code",
   "execution_count": null,
   "metadata": {},
   "outputs": [],
   "source": [
    "_ = ok.grade('q3_5')"
   ]
  },
  {
   "cell_type": "markdown",
   "metadata": {},
   "source": [
    "## Don't forget to submit to **both** OK *and* Gradescope!"
   ]
  }
 ],
 "metadata": {
  "kernelspec": {
   "display_name": "Python 3",
   "language": "python",
   "name": "python3"
  },
  "language_info": {
   "codemirror_mode": {
    "name": "ipython",
    "version": 3
   },
   "file_extension": ".py",
   "mimetype": "text/x-python",
   "name": "python",
   "nbconvert_exporter": "python",
   "pygments_lexer": "ipython3",
   "version": "3.7.3"
  }
 },
 "nbformat": 4,
 "nbformat_minor": 1
}
