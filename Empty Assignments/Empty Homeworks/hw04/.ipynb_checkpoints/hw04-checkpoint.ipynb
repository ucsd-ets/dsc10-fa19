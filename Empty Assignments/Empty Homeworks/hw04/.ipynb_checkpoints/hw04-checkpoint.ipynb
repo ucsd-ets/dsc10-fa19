{
 "cells": [
  {
   "cell_type": "markdown",
   "metadata": {},
   "source": [
    "## Homework 4: Group, Join, Conditionals, Iteration, Randomness.\n",
    "\n",
    "Directly sharing answers is not okay, but discussing problems with the course staff or with other students is encouraged. "
   ]
  },
  {
   "cell_type": "code",
   "execution_count": null,
   "metadata": {},
   "outputs": [],
   "source": [
    "# Don't change this cell; just run it. \n",
    "\n",
    "import numpy as np\n",
    "from datascience import *\n",
    "\n",
    "%matplotlib inline\n",
    "import matplotlib.pyplot as plt\n",
    "plt.style.use('fivethirtyeight')\n",
    "\n",
    "from client.api.notebook import Notebook\n",
    "ok = Notebook('hw04.ok')\n",
    "_ = ok.auth(inline=True)"
   ]
  },
  {
   "cell_type": "markdown",
   "metadata": {},
   "source": [
    "**Important**: The `ok` tests don't usually tell you that your answer is correct. More often, they help catch careless mistakes. It's up to you to ensure that your answer is correct. If you're not sure, ask someone (not for the answer, but for some guidance about your approach)."
   ]
  },
  {
   "cell_type": "markdown",
   "metadata": {},
   "source": [
    "## 1. Movie Rating"
   ]
  },
  {
   "cell_type": "markdown",
   "metadata": {},
   "source": [
    "There are a lot of variables that determine the popularity of a movie. The following question asks you to build a simplified model that predicts whether a movie is going to be popular or not."
   ]
  },
  {
   "cell_type": "markdown",
   "metadata": {},
   "source": [
    "**Question 1.** Write a function named `popular_movie` that takes in boolean variables as inputs and returns `True` if we predict the movie is going to be popular and `False` if we predict it's not. The function should obey the following logic:\n",
    "\n",
    "* The movie has low budget → Not popular\n",
    "* It does not have a good director AND does not have a good script → Not popular\n",
    "* It does not have a popular genre AND does not have at least one of the following: a good trailer OR popular actors → Not popular\n",
    "* All other situations → Popular"
   ]
  },
  {
   "cell_type": "code",
   "execution_count": null,
   "metadata": {},
   "outputs": [],
   "source": [
    "def popular_movie(low_budget, good_director, good_script, popular_genre, good_trailer, popular_actors):\n",
    "    ..."
   ]
  },
  {
   "cell_type": "code",
   "execution_count": null,
   "metadata": {},
   "outputs": [],
   "source": [
    "# Test your function. If you'd like, you can write more of your own tests to test your function\n",
    "popular_movie(low_budget=False, good_director=False, good_script=True, \n",
    "              popular_genre=False, good_trailer=True, popular_actors=True) # Should return True"
   ]
  },
  {
   "cell_type": "code",
   "execution_count": null,
   "metadata": {},
   "outputs": [],
   "source": [
    "_ = ok.grade('q1_1')"
   ]
  },
  {
   "cell_type": "markdown",
   "metadata": {},
   "source": [
    "Suppose we have the IMDB ratings for 100 different movies. The code below generates 100 random movie ratings ranging from 1 to 10 and saves them to an array with the name `movie_ratings`. "
   ]
  },
  {
   "cell_type": "code",
   "execution_count": null,
   "metadata": {
    "scrolled": true
   },
   "outputs": [],
   "source": [
    "# Don't change this cell; just run it\n",
    "np.random.seed(0)\n",
    "prob = [0.01, 0.01, 0.02, 0.1, 0.12, 0.3, 0.25, 0.15, 0.03, 0.01]\n",
    "movie_ratings = np.random.choice(np.arange(1, 11), 100, p=prob)\n",
    "print(movie_ratings)"
   ]
  },
  {
   "cell_type": "markdown",
   "metadata": {},
   "source": [
    "###### Let's assign a one-word evaluation to each movie according to its rating. "
   ]
  },
  {
   "cell_type": "markdown",
   "metadata": {},
   "source": [
    "**Question 2.** Use a [for loop](https://ucsd-ets.github.io/dsc10-fa18-textbook/chapters/09/2/Iteration) to iterate through `movie_ratings` from beginning to end. For each rating, append the corresponding evaluation (as a string) to the array `evaluations`, according to the evaluation criteria below:\n",
    "* Greater than or equal to 9, less than or equal to 10: 'Excellent'\n",
    "* Greater than or equal to 7, less than 9: 'Good'\n",
    "* Greater than or equal to 5, less than 7: 'Fair'\n",
    "* Greater than or equal to 3, less than 5: 'Poor'\n",
    "* Less than 3: 'Bad'"
   ]
  },
  {
   "cell_type": "code",
   "execution_count": null,
   "metadata": {},
   "outputs": [],
   "source": [
    "evaluations = make_array()\n",
    "\n",
    "# Write your for loop here\n",
    "        \n",
    "print(evaluations)  # Print the result"
   ]
  },
  {
   "cell_type": "code",
   "execution_count": null,
   "metadata": {},
   "outputs": [],
   "source": [
    "_ = ok.grade('q1_2')"
   ]
  },
  {
   "cell_type": "markdown",
   "metadata": {},
   "source": [
    "## 2. Owners and Pets"
   ]
  },
  {
   "cell_type": "markdown",
   "metadata": {},
   "source": [
    "![](corgi.png)"
   ]
  },
  {
   "cell_type": "markdown",
   "metadata": {},
   "source": [
    "With midterm season upon us, many of you may want to destress by looking at photos of cute pets. We will be manipulating datasets that are created through the join function.\n",
    "\n",
    "The first table is in a CSV file called `Pets.csv`. Each row of the table is a pet with its **PetID**, **Name**, **Kind**, **Gender**, **Age**, and **OwnerID**. Read the data into the table `pets`."
   ]
  },
  {
   "cell_type": "code",
   "execution_count": null,
   "metadata": {},
   "outputs": [],
   "source": [
    "pets = Table().read_table('Pets.csv')\n",
    "pets"
   ]
  },
  {
   "cell_type": "markdown",
   "metadata": {},
   "source": [
    "**Question 1.** `Pets.csv` provides us with an **OwnerID** column, which allows us to find the name of each pet's owner, by matching ID's in the file `owners.csv.` This table has columns **Unnamed: 0**, **OwnerID**, **Name**, **Surname**, **State**, **StateFull**, and **ZipCode**. Join this table with `Pets.csv` and assign your new table to `owners_pets`.\n",
    "\n",
    "*Note*: Make sure that owners is joined onto pets, and not the other way around. This can be confirmed if column `Name_2` references the owner's name."
   ]
  },
  {
   "cell_type": "code",
   "execution_count": null,
   "metadata": {
    "scrolled": true
   },
   "outputs": [],
   "source": [
    "owners = Table.read_table('owners.csv')\n",
    "owners_pets = ...\n",
    "owners_pets"
   ]
  },
  {
   "cell_type": "markdown",
   "metadata": {},
   "source": [
    "**Question 2**. You might notice that there two name columns: **Name** and **Name_2**. This is because both `Pets.csv` and `owners.csv` have a name column, and the table wants to be able to differentiate between the two columns. This is a common problem with joins, and it is important to differentiate between the two. There is also an irrelevant column `Unnamed: 0` that doesn't provide any useful information. Edit `owners_pets` by renaming `Name_2` to `OwnerName`, and by removing the `Unnamed: 0`  column."
   ]
  },
  {
   "cell_type": "code",
   "execution_count": null,
   "metadata": {
    "scrolled": true
   },
   "outputs": [],
   "source": [
    "owners_pets = ...\n",
    "owners_pets"
   ]
  },
  {
   "cell_type": "code",
   "execution_count": null,
   "metadata": {},
   "outputs": [],
   "source": [
    "_ = ok.grade('q2_2')"
   ]
  },
  {
   "cell_type": "markdown",
   "metadata": {},
   "source": [
    "**Question 3.** If you paid close attention, you might have noticed that several pets all have the same owner. This is why `owners.csv` and `Pets.csv` have a different number of rows. What proportion of all owners have more than one pet? Save your answer to `multiple_owners`. \n",
    "\n",
    "*Note*: Since this is a proportion, your answer should be between 0 and 1.\n",
    "\n"
   ]
  },
  {
   "cell_type": "code",
   "execution_count": null,
   "metadata": {},
   "outputs": [],
   "source": [
    "multiple_owners = ...\n",
    "multiple_owners"
   ]
  },
  {
   "cell_type": "code",
   "execution_count": null,
   "metadata": {},
   "outputs": [],
   "source": [
    "_ = ok.grade('q2_3')"
   ]
  },
  {
   "cell_type": "markdown",
   "metadata": {},
   "source": [
    "**Question 4.** You may have noticed that there are several owners who own three pets. Find the first names of the owners who own three pets, and save them in an array called `three_pet_owners`.\n",
    "\n",
    "*Hint*: You may wish to use [np.unique](https://docs.scipy.org/doc/numpy/reference/generated/numpy.unique.html). "
   ]
  },
  {
   "cell_type": "code",
   "execution_count": null,
   "metadata": {},
   "outputs": [],
   "source": [
    "three_pet_owners = ...\n",
    "three_pet_owners"
   ]
  },
  {
   "cell_type": "code",
   "execution_count": null,
   "metadata": {},
   "outputs": [],
   "source": [
    "_ = ok.grade('q2_4')"
   ]
  },
  {
   "cell_type": "markdown",
   "metadata": {},
   "source": [
    "**Question 5.** It's always a good idea to visualize your data! And it makes comparing between groups easier as well. Make an overlayed histogram comparing the age distribution of Cats and the age distribution of Dogs. Use 8 bins of equal size, and make sure the vertical axis of the graph says \"Percent per year.\""
   ]
  },
  {
   "cell_type": "code",
   "execution_count": null,
   "metadata": {},
   "outputs": [],
   "source": [
    "# plot your overlayed histogram here"
   ]
  },
  {
   "cell_type": "markdown",
   "metadata": {},
   "source": [
    "## 3. Choosing A Pet"
   ]
  },
  {
   "cell_type": "markdown",
   "metadata": {},
   "source": [
    "You really want to get a pet, but there are too many great animals to decide upon! Here are a number of factors that will go into your decision of what pet to get. \n",
    "\n",
    "1. Cuteness (1 = not cute at all, 10 = extremely cute)\n",
    "2. Activity Level (1 = barely active, 10 = extremely active)\n",
    "3. Cost (1 = Cheap, 10 = Expensive)\n",
    "\n",
    "You make a list of available pets and their attributes."
   ]
  },
  {
   "cell_type": "code",
   "execution_count": null,
   "metadata": {
    "scrolled": true
   },
   "outputs": [],
   "source": [
    "available_pets = Table.read_table(\"choosingpets.csv\")\n",
    "available_pets"
   ]
  },
  {
   "cell_type": "markdown",
   "metadata": {},
   "source": [
    "Define a function called `choose_pet` that takes five arguments: `table`, `desired_cuteness`, `lower_activity_level`, `upper_activity_level`,and `budget`. Assume that `table` has the same columns as the `available_pets` table shown above. Your function should return a **list** of pets from the input table that meet the following requirements.\n",
    "\n",
    "1. If a pet's cuteness is greater than or equal to `desired_cuteness`, return a list of those pets.\n",
    "2. If your `desired_cuteness` is not met, return a list of pets that have activity levels between `lower_activity_level` and `upper_activity_level` (inclusive).\n",
    "3. If your cuteness and activity level requirements are not met, return a list of pets whose cost is less than or equal to `budget`.\n",
    "4. If none of your requirements are met, return \"There's no match.\"\n",
    "\n",
    "*Hint:* You can convert an array into a list like this: `list(array_name)`."
   ]
  },
  {
   "cell_type": "code",
   "execution_count": null,
   "metadata": {},
   "outputs": [],
   "source": [
    "# Define your function here:\n",
    "def choose_pet(table, desired_cuteness, lower_activity_level, upper_activity_level, budget):\n",
    "    ...\n",
    "    #remember to use the input table"
   ]
  },
  {
   "cell_type": "markdown",
   "metadata": {},
   "source": [
    "Some test cases with sample inputs and desired outputs are provided so you can check that your function works correctly."
   ]
  },
  {
   "cell_type": "code",
   "execution_count": null,
   "metadata": {},
   "outputs": [],
   "source": [
    "choose_pet(available_pets,8,3,7,10)\n",
    "# should return ['Turtle','Tarantula']"
   ]
  },
  {
   "cell_type": "code",
   "execution_count": null,
   "metadata": {},
   "outputs": [],
   "source": [
    "choose_pet(available_pets,9,4,6,3)\n",
    "# should return ['Dog', 'Parrot', 'Rabbit', 'Squirrel', 'Turtle', 'Tarantula', 'Fish']"
   ]
  },
  {
   "cell_type": "code",
   "execution_count": null,
   "metadata": {},
   "outputs": [],
   "source": [
    "choose_pet(available_pets,9,1,2,4)\n",
    "# should return ['Guinea Pig', 'Hamster', 'Tarantula', 'Scorpian']"
   ]
  },
  {
   "cell_type": "code",
   "execution_count": null,
   "metadata": {},
   "outputs": [],
   "source": [
    "choose_pet(available_pets,10,1,1,1)\n",
    "# should return \"There's no match.\""
   ]
  },
  {
   "cell_type": "code",
   "execution_count": null,
   "metadata": {},
   "outputs": [],
   "source": [
    "_ = ok.grade('q3_1')"
   ]
  },
  {
   "cell_type": "markdown",
   "metadata": {},
   "source": [
    "# 4. Netflix and Hulu\n",
    "Netflix and Hulu are two big TV show streaming services. It's clear to see why Netflix may want to have shows that Hulu doesn't to compete with Hulu and vice versa. But, some shows are present in both streaming services and in this question we're going to take a closer look at the shows both streaming services decided are popular enough to add, even though they don't have exclusive rights. \n",
    "\n",
    "In general, being able to combine datasets from different sources is important to include more data and come to better (more informed) conclusions. This question is just the tip of the iceberg, but if you feel motivated, you can try in your spare time to combine different datasets and see what unique questions/answers you can come up with!"
   ]
  },
  {
   "cell_type": "markdown",
   "metadata": {},
   "source": [
    "The table `netflix` contains 496 different Netflix shows with their varying attributes. Notice that some values are missing and stored as nan, which stands for *not a number*. \n",
    "\n",
    "The table `hulu` contains 109 Hulu shows and their attributes."
   ]
  },
  {
   "cell_type": "code",
   "execution_count": null,
   "metadata": {},
   "outputs": [],
   "source": [
    "#Load in the two tables; don't change this cell; just run it. \n",
    "netflix = Table().read_table('netflix.csv', encoding = 'latin-1')\n",
    "hulu = Table().read_table(\"hulu.csv\",  encoding = 'latin-1')"
   ]
  },
  {
   "cell_type": "code",
   "execution_count": null,
   "metadata": {},
   "outputs": [],
   "source": [
    "netflix #explore the netflix table"
   ]
  },
  {
   "cell_type": "code",
   "execution_count": null,
   "metadata": {},
   "outputs": [],
   "source": [
    "hulu #explore the hulu table"
   ]
  },
  {
   "cell_type": "markdown",
   "metadata": {},
   "source": [
    "**Question 1:** Write the function `format_name_netflix` that takes as input the name of a movie and returns a version of the name where the first letter of each word is capitalized. \n",
    "\n",
    "**Hint:** *Check out the string method [.title()](https://www.geeksforgeeks.org/title-in-python/)*\n",
    "\n",
    "**Note:** As you may have noticed, many of the titles in `netflix` are already capitalized. However, we still need to capitalize all the letters in the title to get a more complete match with `hulu` titles. "
   ]
  },
  {
   "cell_type": "code",
   "execution_count": null,
   "metadata": {},
   "outputs": [],
   "source": [
    "def format_name_netflix(name):\n",
    "    return ..."
   ]
  },
  {
   "cell_type": "code",
   "execution_count": null,
   "metadata": {},
   "outputs": [],
   "source": [
    "_ = ok.grade('q4_1')"
   ]
  },
  {
   "cell_type": "markdown",
   "metadata": {},
   "source": [
    "**Question 2:** Write function `format_name_hulu` that takes as input the canonical name of a movie and replaces the dashes (-) with spaces ( ) and capitalizes the first letter of each word in the title. \n"
   ]
  },
  {
   "cell_type": "code",
   "execution_count": null,
   "metadata": {},
   "outputs": [],
   "source": [
    "def format_name_hulu(name):\n",
    "    return ..."
   ]
  },
  {
   "cell_type": "code",
   "execution_count": null,
   "metadata": {},
   "outputs": [],
   "source": [
    "_ = ok.grade('q4_2')"
   ]
  },
  {
   "cell_type": "markdown",
   "metadata": {},
   "source": [
    "**Question 3:** Create a table called `formatted_netflix` that has the same columns as `netflix`, except the title column should have the first letter of each word capitalized\n",
    "\n",
    "Hint: Use one of the functions you wrote above.\n"
   ]
  },
  {
   "cell_type": "code",
   "execution_count": null,
   "metadata": {},
   "outputs": [],
   "source": [
    "formatted_netflix = ...\n",
    "formatted_netflix"
   ]
  },
  {
   "cell_type": "code",
   "execution_count": null,
   "metadata": {},
   "outputs": [],
   "source": [
    "_ = ok.grade('q4_3')"
   ]
  },
  {
   "cell_type": "markdown",
   "metadata": {},
   "source": [
    "**Question 4:** Create a table called `formatted_hulu` that has the same columns as `hulu` plus an additional column called `title` that has the title with spaces and the first letter of each word capitalized."
   ]
  },
  {
   "cell_type": "code",
   "execution_count": null,
   "metadata": {},
   "outputs": [],
   "source": [
    "formatted_hulu = ...\n",
    "formatted_hulu"
   ]
  },
  {
   "cell_type": "code",
   "execution_count": null,
   "metadata": {},
   "outputs": [],
   "source": [
    "_ = ok.grade('q4_4')"
   ]
  },
  {
   "cell_type": "markdown",
   "metadata": {},
   "source": [
    "**Question 5:** Join `formatted_netflix` and `formatted_hulu` and call the results `common_shows`."
   ]
  },
  {
   "cell_type": "code",
   "execution_count": null,
   "metadata": {},
   "outputs": [],
   "source": [
    "common_shows = ...\n",
    "common_shows"
   ]
  },
  {
   "cell_type": "code",
   "execution_count": null,
   "metadata": {},
   "outputs": [],
   "source": [
    "_ = ok.grade('q4_5')"
   ]
  },
  {
   "cell_type": "markdown",
   "metadata": {},
   "source": [
    "**Question 6:** An array of all the common titles from `common_shows` is created below and is called `common_titles`. Loop through this array and for each title, append to the array `show_descriptions` a description (string) of the show formatted:\n",
    "\n",
    "\"The show `title` has a Hulu rating of `show_rating average` and a Netflix rating of `user rating score average`\"\n",
    "\n",
    "The `show_rating average` and `user rating score average` should be rounded to 1 decimal places.\n",
    "\n",
    "*Note:* Some ratings may be nan."
   ]
  },
  {
   "cell_type": "code",
   "execution_count": null,
   "metadata": {},
   "outputs": [],
   "source": [
    "common_titles = common_shows.column(\"title\")\n",
    "common_titles"
   ]
  },
  {
   "cell_type": "code",
   "execution_count": null,
   "metadata": {},
   "outputs": [],
   "source": [
    "show_descriptions = make_array()\n",
    "\n",
    "#insert your for loop here\n",
    "for title in common_titles:\n",
    "    ...\n",
    "    \n",
    "#final output    \n",
    "show_descriptions"
   ]
  },
  {
   "cell_type": "code",
   "execution_count": null,
   "metadata": {},
   "outputs": [],
   "source": [
    "_ = ok.grade('q4_6')"
   ]
  },
  {
   "cell_type": "markdown",
   "metadata": {},
   "source": [
    "## 5.  Powerball"
   ]
  },
  {
   "cell_type": "markdown",
   "metadata": {
    "collapsed": true
   },
   "source": [
    "You go to the nearest supermarket (or the gas station if you prefer) and buy a Powerball lottery ticket. \n",
    "\n",
    "You pick five different numbers, one at a time, from 1 to 69. Then you separately pick a number from 1 to 26. These are your numbers, for example (59, 12, 55, 20,  3, 25). \n",
    "\n",
    "The winning numbers are chosen by somebody drawing five balls, one at a time, from a collection of white balls numbered 1 to 69. Then they draw a red ball (the powerball) from a collection of red balls numbered 1 to 26. \n",
    "\n",
    "We’ll assume for this problem that in order to win the jackpot, all your numbers need to match the winning numbers and be in the exact same order. You can win some money if you have some numbers that match the winning numbers and appear in the same position as the corresponding winning number."
   ]
  },
  {
   "cell_type": "markdown",
   "metadata": {},
   "source": [
    "**Question 1.** What is the probability that you win the jackpot? Assign your answer to `jackpot_chance`.\n",
    "\n",
    "**Hint**: *Since you are choosing five different numbers for the white balls, the denominator should be decreasing. The probability of getting the first number correct is 1/69, the second is 1/68, and so on...*"
   ]
  },
  {
   "cell_type": "code",
   "execution_count": null,
   "metadata": {},
   "outputs": [],
   "source": [
    "jackpot_chance = ...\n",
    "jackpot_chance"
   ]
  },
  {
   "cell_type": "code",
   "execution_count": null,
   "metadata": {},
   "outputs": [],
   "source": [
    "_ = ok.grade('q5_1')"
   ]
  },
  {
   "cell_type": "markdown",
   "metadata": {},
   "source": [
    "**Question 2.** Your chances of winning the jackpot is quite low, but you can still win some money if you have at least one number correct, in the same position as the winning number. What is the probability that you get at least one number correct and win some money? Assign your answer to `non_losing_prob`. "
   ]
  },
  {
   "cell_type": "code",
   "execution_count": null,
   "metadata": {},
   "outputs": [],
   "source": [
    "non_losing_prob = ...\n",
    "non_losing_prob"
   ]
  },
  {
   "cell_type": "code",
   "execution_count": null,
   "metadata": {},
   "outputs": [],
   "source": [
    "_ = ok.grade('q5_2')"
   ]
  },
  {
   "cell_type": "markdown",
   "metadata": {},
   "source": [
    "**Question 3.** Write a function called `simulate_one_ticket`. It should take **no arguments**, and it should return **an array** with 6 random numbers. The first five numbers should all be between 1 and 69 and different from each other. The last number should be between 1 and 26."
   ]
  },
  {
   "cell_type": "code",
   "execution_count": null,
   "metadata": {},
   "outputs": [],
   "source": [
    "# Place your answer here. It may contain several lines of code.\n",
    "\n",
    "def simulate_one_ticket():\n",
    "    \"\"\"Simulate one ticket that you buy.\"\"\"\n",
    "    ...\n",
    "\n",
    "simulate_one_ticket() # a sample function call"
   ]
  },
  {
   "cell_type": "code",
   "execution_count": null,
   "metadata": {},
   "outputs": [],
   "source": [
    "_ = ok.grade('q5_3')"
   ]
  },
  {
   "cell_type": "markdown",
   "metadata": {},
   "source": [
    "**Question 4.** It's draw day, and you checked the lucky numbers posted, which happened to be (19, 50, 36, 53, 68, 12). Suppose you didn't win the jackpot, and you are a bit depressed. You want to remind yourself how unlikely it is to win a jackpot. Call the function `simulate_one_ticket` 100,000 times (this would cost at least $200,000 if you were to buy that many!). How many times did you win the jackpot? Assign your answer to `count_jackpot`.\n",
    "\n",
    "*Hint:* Try it first with only buying 10 tickets. Once you are sure you have that figured out, change it to 100,000 tickets. It will take a little while (about a minute) for Python to perform the calculations when you are buying 100,000 tickets."
   ]
  },
  {
   "cell_type": "code",
   "execution_count": null,
   "metadata": {},
   "outputs": [],
   "source": [
    "count_jackpot = 0\n",
    "\n",
    "#for loop here\n",
    "\n",
    "count_jackpot"
   ]
  },
  {
   "cell_type": "code",
   "execution_count": null,
   "metadata": {
    "scrolled": true
   },
   "outputs": [],
   "source": [
    "_ = ok.grade('q5_4')"
   ]
  },
  {
   "cell_type": "markdown",
   "metadata": {},
   "source": [
    "## 6. Yahtzee "
   ]
  },
  {
   "cell_type": "markdown",
   "metadata": {},
   "source": [
    "In the dice game Yahtzee, players roll and reroll dice, trying to meet certain objectives. A player rolls five dice on the first roll, and after looking at the results, *can choose to* reroll any number of them on the second roll. Similarly, after looking at the results of the second roll, the player can choose to reroll any number of those for the third roll. After the third roll, no more rolling is allowed.\n",
    "\n",
    "One objective in Yahtzee is to roll as many 6's as possible. The standard strategy is as follows:\n",
    "* Roll all five dice.\n",
    "* Keep any that are 6's. Reroll all other dice.\n",
    "* Keep any that are 6's. Reroll all other dice.\n",
    "The number of 6's at the end of this process determines the player's score. \n",
    "\n",
    "Throughout this problem, we’ll represent the results of a Yahtzee roll as an array of five values, each between 1 and 6. For example, we might originally roll (3, 6, 1, 1, 2). Then we’d reroll all but the second die, and the results after our first reroll might be (6, 6, 5, 2, 6). Then we’d reroll one more time and the results might be (6, 6, 4, 1, 6), which means we’d have a score of 3."
   ]
  },
  {
   "cell_type": "markdown",
   "metadata": {},
   "source": [
    "**Question 1.** Create an array called `my_dice` that contains the results of a first Yahtzee roll (that is, five random numbers between 1 and 6)."
   ]
  },
  {
   "cell_type": "code",
   "execution_count": null,
   "metadata": {},
   "outputs": [],
   "source": [
    "my_dice = ...\n",
    "my_dice"
   ]
  },
  {
   "cell_type": "code",
   "execution_count": null,
   "metadata": {},
   "outputs": [],
   "source": [
    "_ = ok.grade('q6_1')"
   ]
  },
  {
   "cell_type": "markdown",
   "metadata": {},
   "source": [
    "**Question 2.** Define a function called `reroll()` that takes one Yahtzee roll, `roll` as its input and returns the updated roll as its ouput. The function should not change the contents of the input `roll`, but, rather, should output a new array representing your dice after one reroll. Your function should implement the standard strategy for rolling 6's, that is, keep all dice that were a 6 and reroll all other dice.\n",
    "\n",
    "*Hint:* Start out by creating a new array of five 0's. Then reset the *i*-th value by assigning a number to updated_dice[i].\n",
    "\n",
    "*Hint:* You can test out your function by repeatedly rerolling. Since you are keeping all the 6's you ever roll, eventually you should get all 6's by repeatedly rerolling."
   ]
  },
  {
   "cell_type": "code",
   "execution_count": null,
   "metadata": {},
   "outputs": [],
   "source": [
    "def reroll(roll):\n",
    "    updated_dice = make_array(0, 0, 0, 0, 0)\n",
    "    # now change the values of updated_dice based on the contents of the input roll\n",
    "    # don't forget a return statment!\n",
    "\n",
    "reroll(make_array(2, 3, 6, 6, 1)) # a sample function call"
   ]
  },
  {
   "cell_type": "markdown",
   "metadata": {},
   "source": [
    "Now, practice taking a complete turn at Yahtzee, and see how many 6's you can get! Copy your answer from question 6.1 to roll new dice. Then use your `reroll()` function twice, and calculate the number of 6's you have at the end of your turn. Assign the number to `number_of_six`."
   ]
  },
  {
   "cell_type": "code",
   "execution_count": null,
   "metadata": {},
   "outputs": [],
   "source": [
    "# Practice taking a turn here. How many 6's did you get?\n",
    "\n",
    "my_dice = ... #replace this with your code from question 6.1\n",
    "second_roll = reroll(my_dice)\n",
    "third_roll = reroll(second_roll)\n",
    "third_roll"
   ]
  },
  {
   "cell_type": "code",
   "execution_count": null,
   "metadata": {},
   "outputs": [],
   "source": [
    "#calculate how many 6's you have\n",
    "number_of_six = ...\n",
    "number_of_six"
   ]
  },
  {
   "cell_type": "code",
   "execution_count": null,
   "metadata": {},
   "outputs": [],
   "source": [
    "_ = ok.grade('q6_2')"
   ]
  },
  {
   "cell_type": "markdown",
   "metadata": {},
   "source": [
    "**Question 3.** Now, use a for loop to help you take 20,000 turns at Yahtzee. On each turn, you should roll the dice, then reroll twice, implementing the strategy above. For each of the 20,000 turns, count the number of sixes (your score) and record your score in an array called `score_array`. \n",
    "\n",
    "*Hint:* Try taking 10 turns with a `for` loop. Once you are sure you have that figured out, change it to 20,000 turns. It will take a little while (about a minute) for Python to perform the calculations when you are doing 20,000 turns."
   ]
  },
  {
   "cell_type": "code",
   "execution_count": null,
   "metadata": {},
   "outputs": [],
   "source": [
    "score_array = make_array()\n",
    "\n",
    "# for loop goes here (start with 10 iterations then change to 20,000)\n",
    "\n",
    "score_array"
   ]
  },
  {
   "cell_type": "code",
   "execution_count": null,
   "metadata": {},
   "outputs": [],
   "source": [
    "_ = ok.grade('q6_3')"
   ]
  },
  {
   "cell_type": "markdown",
   "metadata": {},
   "source": [
    "**Question 4.** Use the data you have collected to approximate your average score using this strategy, and save your answer in `average_score.` \n",
    "\n",
    "Note: Your answer need not be an integer."
   ]
  },
  {
   "cell_type": "code",
   "execution_count": null,
   "metadata": {},
   "outputs": [],
   "source": [
    "average_score = ...\n",
    "average_score"
   ]
  },
  {
   "cell_type": "code",
   "execution_count": null,
   "metadata": {},
   "outputs": [],
   "source": [
    "_ = ok.grade('q6_4')"
   ]
  },
  {
   "cell_type": "markdown",
   "metadata": {},
   "source": [
    "**Question 5.** Use the data you have collected to approximate the most common score using this strategy, and save your answer in `most_common_score.`\n",
    "\n",
    "Note: Your answer should be an integer."
   ]
  },
  {
   "cell_type": "code",
   "execution_count": null,
   "metadata": {},
   "outputs": [],
   "source": [
    "most_common_score = ...\n",
    "most_common_score"
   ]
  },
  {
   "cell_type": "code",
   "execution_count": null,
   "metadata": {},
   "outputs": [],
   "source": [
    "_ = ok.grade('q6_5')"
   ]
  }
 ],
 "metadata": {
  "kernelspec": {
   "display_name": "Python 3",
   "language": "python",
   "name": "python3"
  },
  "language_info": {
   "codemirror_mode": {
    "name": "ipython",
    "version": 3
   },
   "file_extension": ".py",
   "mimetype": "text/x-python",
   "name": "python",
   "nbconvert_exporter": "python",
   "pygments_lexer": "ipython3",
   "version": "3.7.4"
  }
 },
 "nbformat": 4,
 "nbformat_minor": 2
}
