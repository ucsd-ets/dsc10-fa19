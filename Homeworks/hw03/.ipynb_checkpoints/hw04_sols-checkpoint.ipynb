{
 "cells": [
  {
   "cell_type": "markdown",
   "metadata": {},
   "source": [
    "# Homework 4: Functions, Apply, Group, Conditionals, and Iteration\n",
    "### Due Friday, August 23rd, at 11:59 pm\n",
    "Directly sharing answers is not okay, but discussing problems with the course staff or with other students is encouraged. \n",
    "\n",
    "You should start early so that you have time to get help if you're stuck.\n",
    "\n",
    "Please complete this notebook by filling in the cells provided. Before you begin, execute the following cell to load the provided tests. Each time you start your server, you will need to execute this cell again to load the tests."
   ]
  },
  {
   "cell_type": "code",
   "execution_count": 12,
   "metadata": {},
   "outputs": [],
   "source": [
    "# Don't change this cell; just run it\n",
    "\n",
    "import numpy as np\n",
    "from datascience import *\n",
    "\n",
    "import matplotlib.pyplot as plt\n",
    "%matplotlib inline\n",
    "plt.style.use('fivethirtyeight')\n",
    "\n",
    "# from client.api.notebook import Notebook\n",
    "# ok = Notebook('hw04.ok')\n",
    "# _ = ok.auth(inline=True)"
   ]
  },
  {
   "cell_type": "markdown",
   "metadata": {},
   "source": [
    "**Important**: The `ok` tests don't always tell you that your answer is correct. More often, they help catch careless mistakes. It's up to you to ensure that your answer is correct. If you're not sure, ask someone (not for the answer, but for some guidance about your approach).\n",
    "\n",
    "Once you're finished, you must do two things:\n",
    "\n",
    "### a. Turn into OK\n",
    "Select \"Save and Checkpoint\" in the File menu and then execute the `submit` cell below. The result will contain a link that you can use to check that your assignment has been submitted successfully. If you submit more than once before the deadline, we will only grade your final submission."
   ]
  },
  {
   "cell_type": "code",
   "execution_count": 2,
   "metadata": {},
   "outputs": [
    {
     "data": {
      "application/javascript": [
       "IPython.notebook.save_checkpoint();"
      ],
      "text/plain": [
       "<IPython.core.display.Javascript object>"
      ]
     },
     "metadata": {},
     "output_type": "display_data"
    },
    {
     "data": {
      "application/javascript": [
       "IPython.notebook.save_notebook();"
      ],
      "text/plain": [
       "<IPython.core.display.Javascript object>"
      ]
     },
     "metadata": {},
     "output_type": "display_data"
    },
    {
     "name": "stdout",
     "output_type": "stream",
     "text": [
      "Saving notebook... Could not save your notebook. Make sure your notebook is saved before sending it to OK!\n",
      "Submit... 100% complete\n",
      "Submission successful for user: dhl011@ucsd.edu\n",
      "URL: https://okpy.org/ucsd/dsc10/fa18/hw04/submissions/G5J5A8\n",
      "\n"
     ]
    }
   ],
   "source": [
    "#_ = ok.submit()"
   ]
  },
  {
   "cell_type": "markdown",
   "metadata": {},
   "source": [
    "## 1. Olympic Medals"
   ]
  },
  {
   "cell_type": "markdown",
   "metadata": {},
   "source": [
    "In this question, we will analyze data on Olympic athletes who won medals in the Winter Olympic Games from 1896-2014. You can find the data [here](https://www.kaggle.com/the-guardian/olympic-games#dictionary.csv)"
   ]
  },
  {
   "cell_type": "markdown",
   "metadata": {},
   "source": [
    "**Question 1.** The data is in a CSV file called `winter.csv`. Read this file into a table named `winter`."
   ]
  },
  {
   "cell_type": "code",
   "execution_count": 30,
   "metadata": {},
   "outputs": [
    {
     "name": "stderr",
     "output_type": "stream",
     "text": [
      "c:\\users\\joshu\\appdata\\local\\programs\\python\\python36\\lib\\site-packages\\datascience\\tables.py:132: FutureWarning: read_table is deprecated, use read_csv instead.\n",
      "  df = pandas.read_table(filepath_or_buffer, *args, **vargs)\n"
     ]
    },
    {
     "data": {
      "text/html": [
       "<table border=\"1\" class=\"dataframe\">\n",
       "    <thead>\n",
       "        <tr>\n",
       "            <th>Year</th> <th>City</th> <th>Sport</th> <th>Discipline</th> <th>Athlete</th> <th>Country</th> <th>Gender</th> <th>Event</th> <th>Medal</th>\n",
       "        </tr>\n",
       "    </thead>\n",
       "    <tbody>\n",
       "        <tr>\n",
       "            <td>1924</td> <td>Chamonix</td> <td>Biathlon</td> <td>Biathlon  </td> <td>BERTHET, G.         </td> <td>FRA    </td> <td>Men   </td> <td>Military Patrol</td> <td>Bronze</td>\n",
       "        </tr>\n",
       "        <tr>\n",
       "            <td>1924</td> <td>Chamonix</td> <td>Biathlon</td> <td>Biathlon  </td> <td>MANDRILLON, C.      </td> <td>FRA    </td> <td>Men   </td> <td>Military Patrol</td> <td>Bronze</td>\n",
       "        </tr>\n",
       "        <tr>\n",
       "            <td>1924</td> <td>Chamonix</td> <td>Biathlon</td> <td>Biathlon  </td> <td>MANDRILLON, Maurice </td> <td>FRA    </td> <td>Men   </td> <td>Military Patrol</td> <td>Bronze</td>\n",
       "        </tr>\n",
       "        <tr>\n",
       "            <td>1924</td> <td>Chamonix</td> <td>Biathlon</td> <td>Biathlon  </td> <td>VANDELLE, André     </td> <td>FRA    </td> <td>Men   </td> <td>Military Patrol</td> <td>Bronze</td>\n",
       "        </tr>\n",
       "        <tr>\n",
       "            <td>1924</td> <td>Chamonix</td> <td>Biathlon</td> <td>Biathlon  </td> <td>AUFDENBLATTEN, Adolf</td> <td>SUI    </td> <td>Men   </td> <td>Military Patrol</td> <td>Gold  </td>\n",
       "        </tr>\n",
       "        <tr>\n",
       "            <td>1924</td> <td>Chamonix</td> <td>Biathlon</td> <td>Biathlon  </td> <td>JULEN, Alphonse     </td> <td>SUI    </td> <td>Men   </td> <td>Military Patrol</td> <td>Gold  </td>\n",
       "        </tr>\n",
       "        <tr>\n",
       "            <td>1924</td> <td>Chamonix</td> <td>Biathlon</td> <td>Biathlon  </td> <td>JULEN, Ant.         </td> <td>SUI    </td> <td>Men   </td> <td>Military Patrol</td> <td>Gold  </td>\n",
       "        </tr>\n",
       "        <tr>\n",
       "            <td>1924</td> <td>Chamonix</td> <td>Biathlon</td> <td>Biathlon  </td> <td>VAUCHER, D.         </td> <td>SUI    </td> <td>Men   </td> <td>Military Patrol</td> <td>Gold  </td>\n",
       "        </tr>\n",
       "        <tr>\n",
       "            <td>1924</td> <td>Chamonix</td> <td>Biathlon</td> <td>Biathlon  </td> <td>BREMER, V.E.        </td> <td>FIN    </td> <td>Men   </td> <td>Military Patrol</td> <td>Silver</td>\n",
       "        </tr>\n",
       "        <tr>\n",
       "            <td>1924</td> <td>Chamonix</td> <td>Biathlon</td> <td>Biathlon  </td> <td>ESKELINEN, A.       </td> <td>FIN    </td> <td>Men   </td> <td>Military Patrol</td> <td>Silver</td>\n",
       "        </tr>\n",
       "    </tbody>\n",
       "</table>\n",
       "<p>... (5760 rows omitted)</p>"
      ],
      "text/plain": [
       "Year | City     | Sport    | Discipline | Athlete              | Country | Gender | Event           | Medal\n",
       "1924 | Chamonix | Biathlon | Biathlon   | BERTHET, G.          | FRA     | Men    | Military Patrol | Bronze\n",
       "1924 | Chamonix | Biathlon | Biathlon   | MANDRILLON, C.       | FRA     | Men    | Military Patrol | Bronze\n",
       "1924 | Chamonix | Biathlon | Biathlon   | MANDRILLON, Maurice  | FRA     | Men    | Military Patrol | Bronze\n",
       "1924 | Chamonix | Biathlon | Biathlon   | VANDELLE, André      | FRA     | Men    | Military Patrol | Bronze\n",
       "1924 | Chamonix | Biathlon | Biathlon   | AUFDENBLATTEN, Adolf | SUI     | Men    | Military Patrol | Gold\n",
       "1924 | Chamonix | Biathlon | Biathlon   | JULEN, Alphonse      | SUI     | Men    | Military Patrol | Gold\n",
       "1924 | Chamonix | Biathlon | Biathlon   | JULEN, Ant.          | SUI     | Men    | Military Patrol | Gold\n",
       "1924 | Chamonix | Biathlon | Biathlon   | VAUCHER, D.          | SUI     | Men    | Military Patrol | Gold\n",
       "1924 | Chamonix | Biathlon | Biathlon   | BREMER, V.E.         | FIN     | Men    | Military Patrol | Silver\n",
       "1924 | Chamonix | Biathlon | Biathlon   | ESKELINEN, A.        | FIN     | Men    | Military Patrol | Silver\n",
       "... (5760 rows omitted)"
      ]
     },
     "execution_count": 30,
     "metadata": {},
     "output_type": "execute_result"
    }
   ],
   "source": [
    "winter = Table.read_table('winter.csv')\n",
    "winter"
   ]
  },
  {
   "cell_type": "code",
   "execution_count": 31,
   "metadata": {},
   "outputs": [],
   "source": [
    "#_ = ok.grade('q1_1')"
   ]
  },
  {
   "cell_type": "markdown",
   "metadata": {},
   "source": [
    "The `Country` column contains International Olympic Committee (IOC) [country codes](https://olympics.fandom.com/wiki/List_of_IOC_country_codes). We want to convert these country codes into actual country names that everyone can understand.\n",
    "\n",
    "We'll use a Python [dictionary](https://www.tutorialspoint.com/python/python_dictionary.htm) to help us with this conversion. A dictionary is a simple way to map a unique key to a value. For example, the below dictionary maps course codes to course names."
   ]
  },
  {
   "cell_type": "code",
   "execution_count": 32,
   "metadata": {},
   "outputs": [],
   "source": [
    "dsc_courses = {\n",
    "    'DSC 10': 'Principles of Data Science',\n",
    "    'DSC 20': 'Programming and Basic Data Structures for Data Science',\n",
    "    'DSC 30': 'Data Structures and Algorithms for Data Science',\n",
    "    'DSC 40A': 'Theoretical Foundations of Data Science I',\n",
    "    'DSC 40B': 'Theoretical Foundations of Data Science II',\n",
    "    'DSC 80': 'The Practice and Application of Data Science'\n",
    "}"
   ]
  },
  {
   "cell_type": "markdown",
   "metadata": {},
   "source": [
    "We can access the value corresponding to each key using bracket notation."
   ]
  },
  {
   "cell_type": "code",
   "execution_count": 33,
   "metadata": {},
   "outputs": [
    {
     "data": {
      "text/plain": [
       "'Principles of Data Science'"
      ]
     },
     "execution_count": 33,
     "metadata": {},
     "output_type": "execute_result"
    }
   ],
   "source": [
    "dsc10_name = dsc_courses['DSC 10']\n",
    "dsc10_name"
   ]
  },
  {
   "cell_type": "markdown",
   "metadata": {},
   "source": [
    "Here, `DSC 10` is the key and `Principles of Data Science` is the value.\n",
    "\n",
    "Let's use a dictionary to help us with our country code to country name conversion. Below is a dictionary containing country codes as keys and country names as values for each of the countries in our dataset of Winter Olympic medal winners."
   ]
  },
  {
   "cell_type": "code",
   "execution_count": 34,
   "metadata": {},
   "outputs": [],
   "source": [
    "country_codes = {\n",
    " 'USA': 'United States',\n",
    " 'CAN': 'Canada',\n",
    " 'NOR': 'Norway',\n",
    " 'URS': 'Soviet Union',\n",
    " 'FIN': 'Finland',\n",
    " 'SWE': 'Sweden',\n",
    " 'GER': 'Germany',\n",
    " 'SUI': 'Switzerland',\n",
    " 'AUT': 'Austria',\n",
    " 'RUS': 'Russia',\n",
    " 'ITA': 'Italy',\n",
    " 'GDR': 'East Germany',\n",
    " 'TCH': 'Czechoslovakia',\n",
    " 'FRA': 'France',\n",
    " 'NED': 'Netherlands',\n",
    " 'FRG': 'West Germany',\n",
    " 'KOR': 'Korea, South',\n",
    " 'CHN': 'China',\n",
    " 'GBR': 'United Kingdom',\n",
    " 'CZE': 'Czech Republic',\n",
    " 'JPN': 'Japan',\n",
    " 'EUN': 'Unified Team',\n",
    " 'POL': 'Poland',\n",
    " 'EUA': 'United Team of Germany',\n",
    " 'SLO': 'Slovenia',\n",
    " 'AUS': 'Australia',\n",
    " 'BLR': 'Belarus',\n",
    " 'LAT': 'Latvia',\n",
    " 'BEL': 'Belgium',\n",
    " 'HUN': 'Hungary',\n",
    " 'UKR': 'Ukraine',\n",
    " 'CRO': 'Croatia',\n",
    " 'LIE': 'Liechtenstein',\n",
    " 'YUG': 'Yugoslavia',\n",
    " 'EST': 'Estonia',\n",
    " 'KAZ': 'Kazakhstan',\n",
    " 'BUL': 'Bulgaria',\n",
    " 'DEN': 'Denmark',\n",
    " 'SVK': 'Slovakia',\n",
    " 'ROU': 'Romania',\n",
    " 'ESP': 'Spain',\n",
    " 'PRK': 'Korea, North',\n",
    " 'LUX': 'Luxembourg',\n",
    " 'NZL': 'New Zealand',\n",
    " 'UZB': 'Uzbekistan'}"
   ]
  },
  {
   "cell_type": "markdown",
   "metadata": {},
   "source": [
    "**Question 2.** Using `country_codes`, define a function named `code_to_country` that takes as input a country code and returns the corresponding country name."
   ]
  },
  {
   "cell_type": "code",
   "execution_count": 35,
   "metadata": {},
   "outputs": [],
   "source": [
    "def code_to_country(code):\n",
    "    return country_codes[code]"
   ]
  },
  {
   "cell_type": "code",
   "execution_count": 36,
   "metadata": {
    "scrolled": true
   },
   "outputs": [],
   "source": [
    "#_ = ok.grade('q1_2')"
   ]
  },
  {
   "cell_type": "markdown",
   "metadata": {},
   "source": [
    "**Question 3.** Using your `code_to_country` function, use `.apply()` to convert all of the country codes into country names in the `Country` column. Do this without creating an additional column. Check the `.with_columns()` [documentation](http://data8.org/datascience/_autosummary/datascience.tables.Table.with_columns.html) to see how to *replace* values in these two columns without creating additional columns."
   ]
  },
  {
   "cell_type": "code",
   "execution_count": 37,
   "metadata": {},
   "outputs": [
    {
     "data": {
      "text/html": [
       "<table border=\"1\" class=\"dataframe\">\n",
       "    <thead>\n",
       "        <tr>\n",
       "            <th>Year</th> <th>City</th> <th>Sport</th> <th>Discipline</th> <th>Athlete</th> <th>Country</th> <th>Gender</th> <th>Event</th> <th>Medal</th>\n",
       "        </tr>\n",
       "    </thead>\n",
       "    <tbody>\n",
       "        <tr>\n",
       "            <td>1924</td> <td>Chamonix</td> <td>Biathlon</td> <td>Biathlon  </td> <td>BERTHET, G.         </td> <td>France     </td> <td>Men   </td> <td>Military Patrol</td> <td>Bronze</td>\n",
       "        </tr>\n",
       "        <tr>\n",
       "            <td>1924</td> <td>Chamonix</td> <td>Biathlon</td> <td>Biathlon  </td> <td>MANDRILLON, C.      </td> <td>France     </td> <td>Men   </td> <td>Military Patrol</td> <td>Bronze</td>\n",
       "        </tr>\n",
       "        <tr>\n",
       "            <td>1924</td> <td>Chamonix</td> <td>Biathlon</td> <td>Biathlon  </td> <td>MANDRILLON, Maurice </td> <td>France     </td> <td>Men   </td> <td>Military Patrol</td> <td>Bronze</td>\n",
       "        </tr>\n",
       "        <tr>\n",
       "            <td>1924</td> <td>Chamonix</td> <td>Biathlon</td> <td>Biathlon  </td> <td>VANDELLE, André     </td> <td>France     </td> <td>Men   </td> <td>Military Patrol</td> <td>Bronze</td>\n",
       "        </tr>\n",
       "        <tr>\n",
       "            <td>1924</td> <td>Chamonix</td> <td>Biathlon</td> <td>Biathlon  </td> <td>AUFDENBLATTEN, Adolf</td> <td>Switzerland</td> <td>Men   </td> <td>Military Patrol</td> <td>Gold  </td>\n",
       "        </tr>\n",
       "        <tr>\n",
       "            <td>1924</td> <td>Chamonix</td> <td>Biathlon</td> <td>Biathlon  </td> <td>JULEN, Alphonse     </td> <td>Switzerland</td> <td>Men   </td> <td>Military Patrol</td> <td>Gold  </td>\n",
       "        </tr>\n",
       "        <tr>\n",
       "            <td>1924</td> <td>Chamonix</td> <td>Biathlon</td> <td>Biathlon  </td> <td>JULEN, Ant.         </td> <td>Switzerland</td> <td>Men   </td> <td>Military Patrol</td> <td>Gold  </td>\n",
       "        </tr>\n",
       "        <tr>\n",
       "            <td>1924</td> <td>Chamonix</td> <td>Biathlon</td> <td>Biathlon  </td> <td>VAUCHER, D.         </td> <td>Switzerland</td> <td>Men   </td> <td>Military Patrol</td> <td>Gold  </td>\n",
       "        </tr>\n",
       "        <tr>\n",
       "            <td>1924</td> <td>Chamonix</td> <td>Biathlon</td> <td>Biathlon  </td> <td>BREMER, V.E.        </td> <td>Finland    </td> <td>Men   </td> <td>Military Patrol</td> <td>Silver</td>\n",
       "        </tr>\n",
       "        <tr>\n",
       "            <td>1924</td> <td>Chamonix</td> <td>Biathlon</td> <td>Biathlon  </td> <td>ESKELINEN, A.       </td> <td>Finland    </td> <td>Men   </td> <td>Military Patrol</td> <td>Silver</td>\n",
       "        </tr>\n",
       "    </tbody>\n",
       "</table>\n",
       "<p>... (5760 rows omitted)</p>"
      ],
      "text/plain": [
       "Year | City     | Sport    | Discipline | Athlete              | Country     | Gender | Event           | Medal\n",
       "1924 | Chamonix | Biathlon | Biathlon   | BERTHET, G.          | France      | Men    | Military Patrol | Bronze\n",
       "1924 | Chamonix | Biathlon | Biathlon   | MANDRILLON, C.       | France      | Men    | Military Patrol | Bronze\n",
       "1924 | Chamonix | Biathlon | Biathlon   | MANDRILLON, Maurice  | France      | Men    | Military Patrol | Bronze\n",
       "1924 | Chamonix | Biathlon | Biathlon   | VANDELLE, André      | France      | Men    | Military Patrol | Bronze\n",
       "1924 | Chamonix | Biathlon | Biathlon   | AUFDENBLATTEN, Adolf | Switzerland | Men    | Military Patrol | Gold\n",
       "1924 | Chamonix | Biathlon | Biathlon   | JULEN, Alphonse      | Switzerland | Men    | Military Patrol | Gold\n",
       "1924 | Chamonix | Biathlon | Biathlon   | JULEN, Ant.          | Switzerland | Men    | Military Patrol | Gold\n",
       "1924 | Chamonix | Biathlon | Biathlon   | VAUCHER, D.          | Switzerland | Men    | Military Patrol | Gold\n",
       "1924 | Chamonix | Biathlon | Biathlon   | BREMER, V.E.         | Finland     | Men    | Military Patrol | Silver\n",
       "1924 | Chamonix | Biathlon | Biathlon   | ESKELINEN, A.        | Finland     | Men    | Military Patrol | Silver\n",
       "... (5760 rows omitted)"
      ]
     },
     "execution_count": 37,
     "metadata": {},
     "output_type": "execute_result"
    }
   ],
   "source": [
    "winter = winter.with_columns(\n",
    "    'Country' ,\n",
    "    winter.apply(code_to_country, 'Country'))\n",
    "winter"
   ]
  },
  {
   "cell_type": "code",
   "execution_count": 38,
   "metadata": {},
   "outputs": [],
   "source": [
    "#_ = ok.grade('q1_3')"
   ]
  },
  {
   "cell_type": "markdown",
   "metadata": {},
   "source": [
    "**Question 4.** Silver medalists are often more devastated than bronze medalists since they are so close to getting gold. Using `.group()`, assign `saddest_country` to the country has the most number of silver medalists. \n",
    "\n",
    "*Hint:* `.group()` takes in a function as an optional argument."
   ]
  },
  {
   "cell_type": "code",
   "execution_count": 39,
   "metadata": {},
   "outputs": [
    {
     "data": {
      "text/plain": [
       "'United States'"
      ]
     },
     "execution_count": 39,
     "metadata": {},
     "output_type": "execute_result"
    }
   ],
   "source": [
    "saddest_country = winter.where('Medal','Silver').group('Country').sort('count', descending=True).column('Country')[0]\n",
    "saddest_country"
   ]
  },
  {
   "cell_type": "code",
   "execution_count": 40,
   "metadata": {},
   "outputs": [],
   "source": [
    "#_ = ok.grade('q1_4')"
   ]
  },
  {
   "cell_type": "markdown",
   "metadata": {},
   "source": [
    "**Question 5.** \n",
    "Define a function named `lastname_length` that returns a string describing how long a lastname is. It should take as an input the name of the athlete. Notice that the name consists of the 'lastname, firstname' of the athlete.\n",
    "\n",
    "The function should return the following strings based on the length of the lastname:\n",
    "\n",
    "* Lastname length greater than 10: \"very long\"\n",
    "* Lastname length less than or equal to 10, and greater than 5: \"normal\"\n",
    "* Lastname length less than or equal to 5: \"very short\"\n",
    "\n",
    "*Hint:* Use the string function [`.split()`](https://docs.python.org/3/library/stdtypes.html#str.split). This is useful in splitting the name into a lastname and a firstname."
   ]
  },
  {
   "cell_type": "code",
   "execution_count": 41,
   "metadata": {},
   "outputs": [
    {
     "name": "stdout",
     "output_type": "stream",
     "text": [
      "very short\n",
      "normal\n",
      "very long\n"
     ]
    }
   ],
   "source": [
    "def lastname_length(name):\n",
    "    last_name = name.split(', ')[0]\n",
    "    if len(last_name) > 10:\n",
    "        return 'very long'\n",
    "    elif len(last_name) > 5 and len(last_name) <= 10:\n",
    "        return 'normal'\n",
    "    else:\n",
    "        return 'very short'\n",
    "\n",
    "# Test cases for your own reference.\n",
    "print(lastname_length('Quer, Giorgio'))  # Should print \"very short\"\n",
    "print(lastname_length('Twomey, Robert')) # Should print 'normal'\n",
    "print(lastname_length('Tiefenbruck, Janine'))  #Should print 'very long'"
   ]
  },
  {
   "cell_type": "code",
   "execution_count": 42,
   "metadata": {},
   "outputs": [],
   "source": [
    "#_ = ok.grade('q1_5')"
   ]
  },
  {
   "cell_type": "markdown",
   "metadata": {},
   "source": [
    "**Question 6.** Create a new table with only the `Athlete`, `Country`, `Gender`, `Medal` columns of `winter`. Then, using your `lastname_length` function, add a new column named `Long Last Name?` that describes whether the athlete's last name is very short, normal, or very long. Assign this new table to `last_names`."
   ]
  },
  {
   "cell_type": "code",
   "execution_count": 43,
   "metadata": {},
   "outputs": [
    {
     "data": {
      "text/html": [
       "<table border=\"1\" class=\"dataframe\">\n",
       "    <thead>\n",
       "        <tr>\n",
       "            <th>Athlete</th> <th>Country</th> <th>Gender</th> <th>Medal</th> <th>Long Last Name?</th>\n",
       "        </tr>\n",
       "    </thead>\n",
       "    <tbody>\n",
       "        <tr>\n",
       "            <td>BERTHET, G.         </td> <td>France     </td> <td>Men   </td> <td>Bronze</td> <td>normal         </td>\n",
       "        </tr>\n",
       "        <tr>\n",
       "            <td>MANDRILLON, C.      </td> <td>France     </td> <td>Men   </td> <td>Bronze</td> <td>normal         </td>\n",
       "        </tr>\n",
       "        <tr>\n",
       "            <td>MANDRILLON, Maurice </td> <td>France     </td> <td>Men   </td> <td>Bronze</td> <td>normal         </td>\n",
       "        </tr>\n",
       "        <tr>\n",
       "            <td>VANDELLE, André     </td> <td>France     </td> <td>Men   </td> <td>Bronze</td> <td>normal         </td>\n",
       "        </tr>\n",
       "        <tr>\n",
       "            <td>AUFDENBLATTEN, Adolf</td> <td>Switzerland</td> <td>Men   </td> <td>Gold  </td> <td>very long      </td>\n",
       "        </tr>\n",
       "        <tr>\n",
       "            <td>JULEN, Alphonse     </td> <td>Switzerland</td> <td>Men   </td> <td>Gold  </td> <td>very short     </td>\n",
       "        </tr>\n",
       "        <tr>\n",
       "            <td>JULEN, Ant.         </td> <td>Switzerland</td> <td>Men   </td> <td>Gold  </td> <td>very short     </td>\n",
       "        </tr>\n",
       "        <tr>\n",
       "            <td>VAUCHER, D.         </td> <td>Switzerland</td> <td>Men   </td> <td>Gold  </td> <td>normal         </td>\n",
       "        </tr>\n",
       "        <tr>\n",
       "            <td>BREMER, V.E.        </td> <td>Finland    </td> <td>Men   </td> <td>Silver</td> <td>normal         </td>\n",
       "        </tr>\n",
       "        <tr>\n",
       "            <td>ESKELINEN, A.       </td> <td>Finland    </td> <td>Men   </td> <td>Silver</td> <td>normal         </td>\n",
       "        </tr>\n",
       "    </tbody>\n",
       "</table>\n",
       "<p>... (5760 rows omitted)</p>"
      ],
      "text/plain": [
       "Athlete              | Country     | Gender | Medal  | Long Last Name?\n",
       "BERTHET, G.          | France      | Men    | Bronze | normal\n",
       "MANDRILLON, C.       | France      | Men    | Bronze | normal\n",
       "MANDRILLON, Maurice  | France      | Men    | Bronze | normal\n",
       "VANDELLE, André      | France      | Men    | Bronze | normal\n",
       "AUFDENBLATTEN, Adolf | Switzerland | Men    | Gold   | very long\n",
       "JULEN, Alphonse      | Switzerland | Men    | Gold   | very short\n",
       "JULEN, Ant.          | Switzerland | Men    | Gold   | very short\n",
       "VAUCHER, D.          | Switzerland | Men    | Gold   | normal\n",
       "BREMER, V.E.         | Finland     | Men    | Silver | normal\n",
       "ESKELINEN, A.        | Finland     | Men    | Silver | normal\n",
       "... (5760 rows omitted)"
      ]
     },
     "execution_count": 43,
     "metadata": {},
     "output_type": "execute_result"
    }
   ],
   "source": [
    "winter_cut = winter.select('Athlete','Country','Gender','Medal')\n",
    "last_names = winter_cut.with_column('Long Last Name?', winter.apply(lastname_length,'Athlete'))\n",
    "last_names"
   ]
  },
  {
   "cell_type": "code",
   "execution_count": 44,
   "metadata": {},
   "outputs": [
    {
     "data": {
      "text/plain": [
       "1323"
      ]
     },
     "execution_count": 44,
     "metadata": {},
     "output_type": "execute_result"
    }
   ],
   "source": [
    "np.count_nonzero(last_names[4] == \"very short\")"
   ]
  },
  {
   "cell_type": "code",
   "execution_count": 45,
   "metadata": {},
   "outputs": [],
   "source": [
    "#_ = ok.grade('q1_6')"
   ]
  },
  {
   "cell_type": "markdown",
   "metadata": {},
   "source": [
    "**Question 7.** Now we want to look at which countries have some of the shortest last names. Find the top 3 countries with the most number of athletes with very long last names from most long last names, to least long last names. Assign these countries as an array to `shortest_names`.\n",
    "\n",
    "*Hint*: A possible solution involves grouping by 2 columns."
   ]
  },
  {
   "cell_type": "code",
   "execution_count": 46,
   "metadata": {},
   "outputs": [
    {
     "data": {
      "text/plain": [
       "array(['United States', 'Canada', 'Germany'], dtype='<U22')"
      ]
     },
     "execution_count": 46,
     "metadata": {},
     "output_type": "execute_result"
    }
   ],
   "source": [
    "shortest_names = last_names.group(['Country','Long Last Name?']).where('Long Last Name?','very short')\\\n",
    "            .sort('count',descending=True).column('Country')[:3]\n",
    "shortest_names"
   ]
  },
  {
   "cell_type": "code",
   "execution_count": 48,
   "metadata": {},
   "outputs": [
    {
     "data": {
      "text/plain": [
       "True"
      ]
     },
     "execution_count": 48,
     "metadata": {},
     "output_type": "execute_result"
    }
   ],
   "source": [
    "len(shortest_names) == 3"
   ]
  },
  {
   "cell_type": "code",
   "execution_count": null,
   "metadata": {},
   "outputs": [],
   "source": [
    "#_ = ok.grade('q1_7')"
   ]
  },
  {
   "cell_type": "markdown",
   "metadata": {},
   "source": [
    "## 2. Past World Cups\n",
    "Let's now turn to historical World Cup data, from 1930 to 2018. The `Country` column describes the location of the World Cup for that year"
   ]
  },
  {
   "cell_type": "markdown",
   "metadata": {},
   "source": [
    "**Question 1.** The data is in a CSV file called `world_cups.csv`. Read this file into a table named `world_cups`."
   ]
  },
  {
   "cell_type": "code",
   "execution_count": 43,
   "metadata": {},
   "outputs": [
    {
     "data": {
      "text/html": [
       "<table border=\"1\" class=\"dataframe\">\n",
       "    <thead>\n",
       "        <tr>\n",
       "            <th>Year</th> <th>Country</th> <th>First</th> <th>Second</th> <th>Third</th> <th>Fourth</th>\n",
       "        </tr>\n",
       "    </thead>\n",
       "    <tbody>\n",
       "        <tr>\n",
       "            <td>1930</td> <td>Uruguay    </td> <td>Uruguay   </td> <td>Argentina     </td> <td>USA       </td> <td>Yugoslavia  </td>\n",
       "        </tr>\n",
       "        <tr>\n",
       "            <td>1934</td> <td>Italy      </td> <td>Italy     </td> <td>Czechoslovakia</td> <td>Germany   </td> <td>Austria     </td>\n",
       "        </tr>\n",
       "        <tr>\n",
       "            <td>1938</td> <td>France     </td> <td>Italy     </td> <td>Hungary       </td> <td>Brazil    </td> <td>Sweden      </td>\n",
       "        </tr>\n",
       "        <tr>\n",
       "            <td>1950</td> <td>Brazil     </td> <td>Uruguay   </td> <td>Brazil        </td> <td>Sweden    </td> <td>Spain       </td>\n",
       "        </tr>\n",
       "        <tr>\n",
       "            <td>1954</td> <td>Switzerland</td> <td>Germany FR</td> <td>Hungary       </td> <td>Austria   </td> <td>Uruguay     </td>\n",
       "        </tr>\n",
       "        <tr>\n",
       "            <td>1958</td> <td>Sweden     </td> <td>Brazil    </td> <td>Sweden        </td> <td>France    </td> <td>Germany FR  </td>\n",
       "        </tr>\n",
       "        <tr>\n",
       "            <td>1962</td> <td>Chile      </td> <td>Brazil    </td> <td>Czechoslovakia</td> <td>Chile     </td> <td>Yugoslavia  </td>\n",
       "        </tr>\n",
       "        <tr>\n",
       "            <td>1966</td> <td>England    </td> <td>England   </td> <td>Germany FR    </td> <td>Portugal  </td> <td>Soviet Union</td>\n",
       "        </tr>\n",
       "        <tr>\n",
       "            <td>1970</td> <td>Mexico     </td> <td>Brazil    </td> <td>Italy         </td> <td>Germany FR</td> <td>Uruguay     </td>\n",
       "        </tr>\n",
       "        <tr>\n",
       "            <td>1974</td> <td>Germany    </td> <td>Germany FR</td> <td>Netherlands   </td> <td>Poland    </td> <td>Brazil      </td>\n",
       "        </tr>\n",
       "    </tbody>\n",
       "</table>\n",
       "<p>... (11 rows omitted)</p>"
      ],
      "text/plain": [
       "Year | Country     | First      | Second         | Third      | Fourth\n",
       "1930 | Uruguay     | Uruguay    | Argentina      | USA        | Yugoslavia\n",
       "1934 | Italy       | Italy      | Czechoslovakia | Germany    | Austria\n",
       "1938 | France      | Italy      | Hungary        | Brazil     | Sweden\n",
       "1950 | Brazil      | Uruguay    | Brazil         | Sweden     | Spain\n",
       "1954 | Switzerland | Germany FR | Hungary        | Austria    | Uruguay\n",
       "1958 | Sweden      | Brazil     | Sweden         | France     | Germany FR\n",
       "1962 | Chile       | Brazil     | Czechoslovakia | Chile      | Yugoslavia\n",
       "1966 | England     | England    | Germany FR     | Portugal   | Soviet Union\n",
       "1970 | Mexico      | Brazil     | Italy          | Germany FR | Uruguay\n",
       "1974 | Germany     | Germany FR | Netherlands    | Poland     | Brazil\n",
       "... (11 rows omitted)"
      ]
     },
     "execution_count": 43,
     "metadata": {},
     "output_type": "execute_result"
    }
   ],
   "source": [
    "world_cups = Table.read_table('world_cups.csv')\n",
    "world_cups"
   ]
  },
  {
   "cell_type": "code",
   "execution_count": 15,
   "metadata": {},
   "outputs": [
    {
     "name": "stdout",
     "output_type": "stream",
     "text": [
      "~~~~~~~~~~~~~~~~~~~~~~~~~~~~~~~~~~~~~~~~~~~~~~~~~~~~~~~~~~~~~~~~~~~~~\n",
      "Running tests\n",
      "\n",
      "---------------------------------------------------------------------\n",
      "Test summary\n",
      "    Passed: 1\n",
      "    Failed: 0\n",
      "[ooooooooook] 100.0% passed\n",
      "\n"
     ]
    }
   ],
   "source": [
    "#_ = ok.grade('q2_1')"
   ]
  },
  {
   "cell_type": "markdown",
   "metadata": {},
   "source": [
    "**Question 2.** Using `.group()`, identify which country won the most number of World Cups from 1930 to 2018. Assign your answer to `most_wins`."
   ]
  },
  {
   "cell_type": "code",
   "execution_count": 44,
   "metadata": {},
   "outputs": [
    {
     "data": {
      "text/plain": [
       "'Brazil'"
      ]
     },
     "execution_count": 44,
     "metadata": {},
     "output_type": "execute_result"
    }
   ],
   "source": [
    "most_wins = world_cups.group('First').sort('count', descending=True).column('First')[0]\n",
    "most_wins"
   ]
  },
  {
   "cell_type": "code",
   "execution_count": 21,
   "metadata": {},
   "outputs": [
    {
     "name": "stdout",
     "output_type": "stream",
     "text": [
      "~~~~~~~~~~~~~~~~~~~~~~~~~~~~~~~~~~~~~~~~~~~~~~~~~~~~~~~~~~~~~~~~~~~~~\n",
      "Running tests\n",
      "\n",
      "---------------------------------------------------------------------\n",
      "Test summary\n",
      "    Passed: 1\n",
      "    Failed: 0\n",
      "[ooooooooook] 100.0% passed\n",
      "\n"
     ]
    }
   ],
   "source": [
    "#_ = ok.grade('q2_2')"
   ]
  },
  {
   "cell_type": "markdown",
   "metadata": {},
   "source": [
    "The World Cup champions' curse is a historical phenomenon in which the defending champion of one World Cup tends to perform poorly on the next World Cup. For example, after winning the 2014 World Cup, Germany failed to even advance to the knockout stage (top 16 teams) of the 2018 World Cup, losing to Mexico and South Korea in the group stage.\n",
    "\n",
    "We'll explore a simplified version of the World Cup champions' curse in which we'll see whether the defending champion of one World Cup was able to advance to the semifinals (top 4 teams) of the next World Cup."
   ]
  },
  {
   "cell_type": "markdown",
   "metadata": {},
   "source": [
    "**Question 3.** Add a column named `Defending Champion` to `world_cups`, containing the names of the defending champions for each year. We define the defending champion to be the country who won the previous World Cup. For example, since Germany won the 2014 World Cup, Germany was the defending champion for the 2018 World Cup. Since France won the 2018 World Cup, France is the defending champion for the 2022 World Cup (excluded from our data set).\n",
    "\n",
    "Note that the 1930 row will not have a defending champion, since our data set doesn't include the winner of the 1926 World Cup. Simply remove this row after extracting the defending champion for the 1934 World Cup. `world_cups` will contain one less row after this process."
   ]
  },
  {
   "cell_type": "code",
   "execution_count": 33,
   "metadata": {},
   "outputs": [
    {
     "data": {
      "text/html": [
       "<table border=\"1\" class=\"dataframe\">\n",
       "    <thead>\n",
       "        <tr>\n",
       "            <th>Year</th> <th>Country</th> <th>First</th> <th>Second</th> <th>Third</th> <th>Fourth</th> <th>Defending Champion</th>\n",
       "        </tr>\n",
       "    </thead>\n",
       "    <tbody>\n",
       "        <tr>\n",
       "            <td>1934</td> <td>Italy      </td> <td>Italy     </td> <td>Czechoslovakia</td> <td>Germany   </td> <td>Austria     </td> <td>Uruguay           </td>\n",
       "        </tr>\n",
       "        <tr>\n",
       "            <td>1938</td> <td>France     </td> <td>Italy     </td> <td>Hungary       </td> <td>Brazil    </td> <td>Sweden      </td> <td>Italy             </td>\n",
       "        </tr>\n",
       "        <tr>\n",
       "            <td>1950</td> <td>Brazil     </td> <td>Uruguay   </td> <td>Brazil        </td> <td>Sweden    </td> <td>Spain       </td> <td>Italy             </td>\n",
       "        </tr>\n",
       "        <tr>\n",
       "            <td>1954</td> <td>Switzerland</td> <td>Germany FR</td> <td>Hungary       </td> <td>Austria   </td> <td>Uruguay     </td> <td>Uruguay           </td>\n",
       "        </tr>\n",
       "        <tr>\n",
       "            <td>1958</td> <td>Sweden     </td> <td>Brazil    </td> <td>Sweden        </td> <td>France    </td> <td>Germany FR  </td> <td>Germany FR        </td>\n",
       "        </tr>\n",
       "        <tr>\n",
       "            <td>1962</td> <td>Chile      </td> <td>Brazil    </td> <td>Czechoslovakia</td> <td>Chile     </td> <td>Yugoslavia  </td> <td>Brazil            </td>\n",
       "        </tr>\n",
       "        <tr>\n",
       "            <td>1966</td> <td>England    </td> <td>England   </td> <td>Germany FR    </td> <td>Portugal  </td> <td>Soviet Union</td> <td>Brazil            </td>\n",
       "        </tr>\n",
       "        <tr>\n",
       "            <td>1970</td> <td>Mexico     </td> <td>Brazil    </td> <td>Italy         </td> <td>Germany FR</td> <td>Uruguay     </td> <td>England           </td>\n",
       "        </tr>\n",
       "        <tr>\n",
       "            <td>1974</td> <td>Germany    </td> <td>Germany FR</td> <td>Netherlands   </td> <td>Poland    </td> <td>Brazil      </td> <td>Brazil            </td>\n",
       "        </tr>\n",
       "        <tr>\n",
       "            <td>1978</td> <td>Argentina  </td> <td>Argentina </td> <td>Netherlands   </td> <td>Brazil    </td> <td>Italy       </td> <td>Germany FR        </td>\n",
       "        </tr>\n",
       "    </tbody>\n",
       "</table>\n",
       "<p>... (10 rows omitted)</p>"
      ],
      "text/plain": [
       "Year | Country     | First      | Second         | Third      | Fourth       | Defending Champion\n",
       "1934 | Italy       | Italy      | Czechoslovakia | Germany    | Austria      | Uruguay\n",
       "1938 | France      | Italy      | Hungary        | Brazil     | Sweden       | Italy\n",
       "1950 | Brazil      | Uruguay    | Brazil         | Sweden     | Spain        | Italy\n",
       "1954 | Switzerland | Germany FR | Hungary        | Austria    | Uruguay      | Uruguay\n",
       "1958 | Sweden      | Brazil     | Sweden         | France     | Germany FR   | Germany FR\n",
       "1962 | Chile       | Brazil     | Czechoslovakia | Chile      | Yugoslavia   | Brazil\n",
       "1966 | England     | England    | Germany FR     | Portugal   | Soviet Union | Brazil\n",
       "1970 | Mexico      | Brazil     | Italy          | Germany FR | Uruguay      | England\n",
       "1974 | Germany     | Germany FR | Netherlands    | Poland     | Brazil       | Brazil\n",
       "1978 | Argentina   | Argentina  | Netherlands    | Brazil     | Italy        | Germany FR\n",
       "... (10 rows omitted)"
      ]
     },
     "execution_count": 33,
     "metadata": {},
     "output_type": "execute_result"
    }
   ],
   "source": [
    "all_but_last = world_cups.take(np.arange(0, world_cups.num_rows - 1))\n",
    "all_but_first = world_cups.take(np.arange(1, world_cups.num_rows))\n",
    "\n",
    "world_cups = all_but_first.with_column(\n",
    "    'Defending Champion',\n",
    "    all_but_last.column('First')\n",
    ")\n",
    "world_cups"
   ]
  },
  {
   "cell_type": "code",
   "execution_count": 23,
   "metadata": {},
   "outputs": [
    {
     "name": "stdout",
     "output_type": "stream",
     "text": [
      "~~~~~~~~~~~~~~~~~~~~~~~~~~~~~~~~~~~~~~~~~~~~~~~~~~~~~~~~~~~~~~~~~~~~~\n",
      "Running tests\n",
      "\n",
      "---------------------------------------------------------------------\n",
      "Test summary\n",
      "    Passed: 1\n",
      "    Failed: 0\n",
      "[ooooooooook] 100.0% passed\n",
      "\n"
     ]
    }
   ],
   "source": [
    "#_ = ok.grade('q2_3')"
   ]
  },
  {
   "cell_type": "markdown",
   "metadata": {},
   "source": [
    "## Answer offered for wi19"
   ]
  },
  {
   "cell_type": "markdown",
   "metadata": {},
   "source": [
    "**Question 4.** The next step is to check whether the defending champion was able to advance to the semifinals. First, define a function named `final_four` that takes as input four countries (as strings) and returns a single *list* containing the four countries as elements.\n",
    "\n",
    "*Hint:* You can create a list using [ ]. For example, list = ['one', 'two', 'three']. The body of the function should be one line of code."
   ]
  },
  {
   "cell_type": "code",
   "execution_count": 34,
   "metadata": {},
   "outputs": [],
   "source": [
    "def final_four(first, second, third, fourth):\n",
    "    return [first, second, third, fourth]"
   ]
  },
  {
   "cell_type": "code",
   "execution_count": 25,
   "metadata": {},
   "outputs": [
    {
     "name": "stdout",
     "output_type": "stream",
     "text": [
      "~~~~~~~~~~~~~~~~~~~~~~~~~~~~~~~~~~~~~~~~~~~~~~~~~~~~~~~~~~~~~~~~~~~~~\n",
      "Running tests\n",
      "\n",
      "---------------------------------------------------------------------\n",
      "Test summary\n",
      "    Passed: 1\n",
      "    Failed: 0\n",
      "[ooooooooook] 100.0% passed\n",
      "\n"
     ]
    }
   ],
   "source": [
    "#_ = ok.grade('q2_4')"
   ]
  },
  {
   "cell_type": "markdown",
   "metadata": {},
   "source": [
    "**Question 5.** Using your `final_four` function, add a column named `Final Four` to `world_cups`, containing lists of the semifinalists for each World Cup."
   ]
  },
  {
   "cell_type": "code",
   "execution_count": 35,
   "metadata": {},
   "outputs": [
    {
     "data": {
      "text/html": [
       "<table border=\"1\" class=\"dataframe\">\n",
       "    <thead>\n",
       "        <tr>\n",
       "            <th>Year</th> <th>Country</th> <th>First</th> <th>Second</th> <th>Third</th> <th>Fourth</th> <th>Defending Champion</th> <th>Final Four</th>\n",
       "        </tr>\n",
       "    </thead>\n",
       "    <tbody>\n",
       "        <tr>\n",
       "            <td>1934</td> <td>Italy      </td> <td>Italy     </td> <td>Czechoslovakia</td> <td>Germany   </td> <td>Austria     </td> <td>Uruguay           </td> <td>['Italy' 'Czechoslovakia' 'Germany' 'Austria']    </td>\n",
       "        </tr>\n",
       "        <tr>\n",
       "            <td>1938</td> <td>France     </td> <td>Italy     </td> <td>Hungary       </td> <td>Brazil    </td> <td>Sweden      </td> <td>Italy             </td> <td>['Italy' 'Hungary' 'Brazil' 'Sweden']             </td>\n",
       "        </tr>\n",
       "        <tr>\n",
       "            <td>1950</td> <td>Brazil     </td> <td>Uruguay   </td> <td>Brazil        </td> <td>Sweden    </td> <td>Spain       </td> <td>Italy             </td> <td>['Uruguay' 'Brazil' 'Sweden' 'Spain']             </td>\n",
       "        </tr>\n",
       "        <tr>\n",
       "            <td>1954</td> <td>Switzerland</td> <td>Germany FR</td> <td>Hungary       </td> <td>Austria   </td> <td>Uruguay     </td> <td>Uruguay           </td> <td>['Germany FR' 'Hungary' 'Austria' 'Uruguay']      </td>\n",
       "        </tr>\n",
       "        <tr>\n",
       "            <td>1958</td> <td>Sweden     </td> <td>Brazil    </td> <td>Sweden        </td> <td>France    </td> <td>Germany FR  </td> <td>Germany FR        </td> <td>['Brazil' 'Sweden' 'France' 'Germany FR']         </td>\n",
       "        </tr>\n",
       "        <tr>\n",
       "            <td>1962</td> <td>Chile      </td> <td>Brazil    </td> <td>Czechoslovakia</td> <td>Chile     </td> <td>Yugoslavia  </td> <td>Brazil            </td> <td>['Brazil' 'Czechoslovakia' 'Chile' 'Yugoslavia']  </td>\n",
       "        </tr>\n",
       "        <tr>\n",
       "            <td>1966</td> <td>England    </td> <td>England   </td> <td>Germany FR    </td> <td>Portugal  </td> <td>Soviet Union</td> <td>Brazil            </td> <td>['England' 'Germany FR' 'Portugal' 'Soviet Union']</td>\n",
       "        </tr>\n",
       "        <tr>\n",
       "            <td>1970</td> <td>Mexico     </td> <td>Brazil    </td> <td>Italy         </td> <td>Germany FR</td> <td>Uruguay     </td> <td>England           </td> <td>['Brazil' 'Italy' 'Germany FR' 'Uruguay']         </td>\n",
       "        </tr>\n",
       "        <tr>\n",
       "            <td>1974</td> <td>Germany    </td> <td>Germany FR</td> <td>Netherlands   </td> <td>Poland    </td> <td>Brazil      </td> <td>Brazil            </td> <td>['Germany FR' 'Netherlands' 'Poland' 'Brazil']    </td>\n",
       "        </tr>\n",
       "        <tr>\n",
       "            <td>1978</td> <td>Argentina  </td> <td>Argentina </td> <td>Netherlands   </td> <td>Brazil    </td> <td>Italy       </td> <td>Germany FR        </td> <td>['Argentina' 'Netherlands' 'Brazil' 'Italy']      </td>\n",
       "        </tr>\n",
       "    </tbody>\n",
       "</table>\n",
       "<p>... (10 rows omitted)</p>"
      ],
      "text/plain": [
       "Year | Country     | First      | Second         | Third      | Fourth       | Defending Champion | Final Four\n",
       "1934 | Italy       | Italy      | Czechoslovakia | Germany    | Austria      | Uruguay            | ['Italy' 'Czechoslovakia' 'Germany' 'Austria']\n",
       "1938 | France      | Italy      | Hungary        | Brazil     | Sweden       | Italy              | ['Italy' 'Hungary' 'Brazil' 'Sweden']\n",
       "1950 | Brazil      | Uruguay    | Brazil         | Sweden     | Spain        | Italy              | ['Uruguay' 'Brazil' 'Sweden' 'Spain']\n",
       "1954 | Switzerland | Germany FR | Hungary        | Austria    | Uruguay      | Uruguay            | ['Germany FR' 'Hungary' 'Austria' 'Uruguay']\n",
       "1958 | Sweden      | Brazil     | Sweden         | France     | Germany FR   | Germany FR         | ['Brazil' 'Sweden' 'France' 'Germany FR']\n",
       "1962 | Chile       | Brazil     | Czechoslovakia | Chile      | Yugoslavia   | Brazil             | ['Brazil' 'Czechoslovakia' 'Chile' 'Yugoslavia']\n",
       "1966 | England     | England    | Germany FR     | Portugal   | Soviet Union | Brazil             | ['England' 'Germany FR' 'Portugal' 'Soviet Union']\n",
       "1970 | Mexico      | Brazil     | Italy          | Germany FR | Uruguay      | England            | ['Brazil' 'Italy' 'Germany FR' 'Uruguay']\n",
       "1974 | Germany     | Germany FR | Netherlands    | Poland     | Brazil       | Brazil             | ['Germany FR' 'Netherlands' 'Poland' 'Brazil']\n",
       "1978 | Argentina   | Argentina  | Netherlands    | Brazil     | Italy        | Germany FR         | ['Argentina' 'Netherlands' 'Brazil' 'Italy']\n",
       "... (10 rows omitted)"
      ]
     },
     "execution_count": 35,
     "metadata": {},
     "output_type": "execute_result"
    }
   ],
   "source": [
    "world_cups = world_cups.with_column('Final Four', world_cups.apply(final_four, 'First', 'Second', 'Third', 'Fourth'))\n",
    "world_cups"
   ]
  },
  {
   "cell_type": "code",
   "execution_count": 27,
   "metadata": {},
   "outputs": [
    {
     "name": "stdout",
     "output_type": "stream",
     "text": [
      "~~~~~~~~~~~~~~~~~~~~~~~~~~~~~~~~~~~~~~~~~~~~~~~~~~~~~~~~~~~~~~~~~~~~~\n",
      "Running tests\n",
      "\n",
      "---------------------------------------------------------------------\n",
      "Test summary\n",
      "    Passed: 1\n",
      "    Failed: 0\n",
      "[ooooooooook] 100.0% passed\n",
      "\n"
     ]
    }
   ],
   "source": [
    "#_ = ok.grade('q2_5')"
   ]
  },
  {
   "cell_type": "markdown",
   "metadata": {},
   "source": [
    "**Question 6.** Now, define a function named `in_final_four` that takes as input the defending champion and a list of the four semifinalists and returns `True` if the defending champion is included in the set of semifinalists and `False` otherwise.\n",
    "\n",
    "*Hint:* You can use the Python `in` keyword to check if something is in a list. For example, `3 in [1, 2, 3]` evaluates to `True`. The body of your function should be one line of code."
   ]
  },
  {
   "cell_type": "code",
   "execution_count": 39,
   "metadata": {},
   "outputs": [],
   "source": [
    "def in_final_four(defending_champion, final_four):\n",
    "    return defending_champion in final_four"
   ]
  },
  {
   "cell_type": "code",
   "execution_count": 29,
   "metadata": {},
   "outputs": [
    {
     "name": "stdout",
     "output_type": "stream",
     "text": [
      "~~~~~~~~~~~~~~~~~~~~~~~~~~~~~~~~~~~~~~~~~~~~~~~~~~~~~~~~~~~~~~~~~~~~~\n",
      "Running tests\n",
      "\n",
      "---------------------------------------------------------------------\n",
      "Test summary\n",
      "    Passed: 1\n",
      "    Failed: 0\n",
      "[ooooooooook] 100.0% passed\n",
      "\n"
     ]
    }
   ],
   "source": [
    "#_ = ok.grade('q2_6')"
   ]
  },
  {
   "cell_type": "markdown",
   "metadata": {},
   "source": [
    "**Question 7.** Using your `in_final_four` function, add a column named `Defending Champion in Final Four` to `world_cups`, indicating whether a defending champion advanced to the semifinals."
   ]
  },
  {
   "cell_type": "code",
   "execution_count": 40,
   "metadata": {},
   "outputs": [
    {
     "data": {
      "text/html": [
       "<table border=\"1\" class=\"dataframe\">\n",
       "    <thead>\n",
       "        <tr>\n",
       "            <th>Year</th> <th>Country</th> <th>First</th> <th>Second</th> <th>Third</th> <th>Fourth</th> <th>Defending Champion</th> <th>Final Four</th> <th>Defending Champion in Final Four</th>\n",
       "        </tr>\n",
       "    </thead>\n",
       "    <tbody>\n",
       "        <tr>\n",
       "            <td>1934</td> <td>Italy       </td> <td>Italy     </td> <td>Czechoslovakia</td> <td>Germany    </td> <td>Austria       </td> <td>Uruguay           </td> <td>['Italy' 'Czechoslovakia' 'Germany' 'Austria']    </td> <td>False                           </td>\n",
       "        </tr>\n",
       "        <tr>\n",
       "            <td>1938</td> <td>France      </td> <td>Italy     </td> <td>Hungary       </td> <td>Brazil     </td> <td>Sweden        </td> <td>Italy             </td> <td>['Italy' 'Hungary' 'Brazil' 'Sweden']             </td> <td>True                            </td>\n",
       "        </tr>\n",
       "        <tr>\n",
       "            <td>1950</td> <td>Brazil      </td> <td>Uruguay   </td> <td>Brazil        </td> <td>Sweden     </td> <td>Spain         </td> <td>Italy             </td> <td>['Uruguay' 'Brazil' 'Sweden' 'Spain']             </td> <td>False                           </td>\n",
       "        </tr>\n",
       "        <tr>\n",
       "            <td>1954</td> <td>Switzerland </td> <td>Germany FR</td> <td>Hungary       </td> <td>Austria    </td> <td>Uruguay       </td> <td>Uruguay           </td> <td>['Germany FR' 'Hungary' 'Austria' 'Uruguay']      </td> <td>True                            </td>\n",
       "        </tr>\n",
       "        <tr>\n",
       "            <td>1958</td> <td>Sweden      </td> <td>Brazil    </td> <td>Sweden        </td> <td>France     </td> <td>Germany FR    </td> <td>Germany FR        </td> <td>['Brazil' 'Sweden' 'France' 'Germany FR']         </td> <td>True                            </td>\n",
       "        </tr>\n",
       "        <tr>\n",
       "            <td>1962</td> <td>Chile       </td> <td>Brazil    </td> <td>Czechoslovakia</td> <td>Chile      </td> <td>Yugoslavia    </td> <td>Brazil            </td> <td>['Brazil' 'Czechoslovakia' 'Chile' 'Yugoslavia']  </td> <td>True                            </td>\n",
       "        </tr>\n",
       "        <tr>\n",
       "            <td>1966</td> <td>England     </td> <td>England   </td> <td>Germany FR    </td> <td>Portugal   </td> <td>Soviet Union  </td> <td>Brazil            </td> <td>['England' 'Germany FR' 'Portugal' 'Soviet Union']</td> <td>False                           </td>\n",
       "        </tr>\n",
       "        <tr>\n",
       "            <td>1970</td> <td>Mexico      </td> <td>Brazil    </td> <td>Italy         </td> <td>Germany FR </td> <td>Uruguay       </td> <td>England           </td> <td>['Brazil' 'Italy' 'Germany FR' 'Uruguay']         </td> <td>False                           </td>\n",
       "        </tr>\n",
       "        <tr>\n",
       "            <td>1974</td> <td>Germany     </td> <td>Germany FR</td> <td>Netherlands   </td> <td>Poland     </td> <td>Brazil        </td> <td>Brazil            </td> <td>['Germany FR' 'Netherlands' 'Poland' 'Brazil']    </td> <td>True                            </td>\n",
       "        </tr>\n",
       "        <tr>\n",
       "            <td>1978</td> <td>Argentina   </td> <td>Argentina </td> <td>Netherlands   </td> <td>Brazil     </td> <td>Italy         </td> <td>Germany FR        </td> <td>['Argentina' 'Netherlands' 'Brazil' 'Italy']      </td> <td>False                           </td>\n",
       "        </tr>\n",
       "        <tr>\n",
       "            <td>1982</td> <td>Spain       </td> <td>Italy     </td> <td>Germany FR    </td> <td>Poland     </td> <td>France        </td> <td>Argentina         </td> <td>['Italy' 'Germany FR' 'Poland' 'France']          </td> <td>False                           </td>\n",
       "        </tr>\n",
       "        <tr>\n",
       "            <td>1986</td> <td>Mexico      </td> <td>Argentina </td> <td>Germany FR    </td> <td>France     </td> <td>Belgium       </td> <td>Italy             </td> <td>['Argentina' 'Germany FR' 'France' 'Belgium']     </td> <td>False                           </td>\n",
       "        </tr>\n",
       "        <tr>\n",
       "            <td>1990</td> <td>Italy       </td> <td>Germany FR</td> <td>Argentina     </td> <td>Italy      </td> <td>England       </td> <td>Argentina         </td> <td>['Germany FR' 'Argentina' 'Italy' 'England']      </td> <td>True                            </td>\n",
       "        </tr>\n",
       "        <tr>\n",
       "            <td>1994</td> <td>USA         </td> <td>Brazil    </td> <td>Italy         </td> <td>Sweden     </td> <td>Bulgaria      </td> <td>Germany FR        </td> <td>['Brazil' 'Italy' 'Sweden' 'Bulgaria']            </td> <td>False                           </td>\n",
       "        </tr>\n",
       "        <tr>\n",
       "            <td>1998</td> <td>France      </td> <td>France    </td> <td>Brazil        </td> <td>Croatia    </td> <td>Netherlands   </td> <td>Brazil            </td> <td>['France' 'Brazil' 'Croatia' 'Netherlands']       </td> <td>True                            </td>\n",
       "        </tr>\n",
       "        <tr>\n",
       "            <td>2002</td> <td>Korea/Japan </td> <td>Brazil    </td> <td>Germany       </td> <td>Turkey     </td> <td>Korea Republic</td> <td>France            </td> <td>['Brazil' 'Germany' 'Turkey' 'Korea Republic']    </td> <td>False                           </td>\n",
       "        </tr>\n",
       "        <tr>\n",
       "            <td>2006</td> <td>Germany     </td> <td>Italy     </td> <td>France        </td> <td>Germany    </td> <td>Portugal      </td> <td>Brazil            </td> <td>['Italy' 'France' 'Germany' 'Portugal']           </td> <td>False                           </td>\n",
       "        </tr>\n",
       "        <tr>\n",
       "            <td>2010</td> <td>South Africa</td> <td>Spain     </td> <td>Netherlands   </td> <td>Germany    </td> <td>Uruguay       </td> <td>Italy             </td> <td>['Spain' 'Netherlands' 'Germany' 'Uruguay']       </td> <td>False                           </td>\n",
       "        </tr>\n",
       "        <tr>\n",
       "            <td>2014</td> <td>Brazil      </td> <td>Germany   </td> <td>Argentina     </td> <td>Netherlands</td> <td>Brazil        </td> <td>Spain             </td> <td>['Germany' 'Argentina' 'Netherlands' 'Brazil']    </td> <td>False                           </td>\n",
       "        </tr>\n",
       "        <tr>\n",
       "            <td>2018</td> <td>Russia      </td> <td>France    </td> <td>Croatia       </td> <td>Belgium    </td> <td>England       </td> <td>Germany           </td> <td>['France' 'Croatia' 'Belgium' 'England']          </td> <td>False                           </td>\n",
       "        </tr>\n",
       "    </tbody>\n",
       "</table>"
      ],
      "text/plain": [
       "<IPython.core.display.HTML object>"
      ]
     },
     "metadata": {},
     "output_type": "display_data"
    }
   ],
   "source": [
    "world_cups = world_cups.with_column('Defending Champion in Final Four', world_cups.apply(in_final_four, 'Defending Champion', 'Final Four'))\n",
    "world_cups.show(20)"
   ]
  },
  {
   "cell_type": "code",
   "execution_count": 31,
   "metadata": {},
   "outputs": [
    {
     "name": "stdout",
     "output_type": "stream",
     "text": [
      "~~~~~~~~~~~~~~~~~~~~~~~~~~~~~~~~~~~~~~~~~~~~~~~~~~~~~~~~~~~~~~~~~~~~~\n",
      "Running tests\n",
      "\n",
      "---------------------------------------------------------------------\n",
      "Test summary\n",
      "    Passed: 1\n",
      "    Failed: 0\n",
      "[ooooooooook] 100.0% passed\n",
      "\n"
     ]
    }
   ],
   "source": [
    "#_ = ok.grade('q2_7')"
   ]
  },
  {
   "cell_type": "markdown",
   "metadata": {},
   "source": [
    "**Question 8.** How often did the defending champion advance to the semifinals in the World Cups from 1934 to 2018? Assign a proportion, ranging from 0 to 1, to `semifinalist_frequency`"
   ]
  },
  {
   "cell_type": "code",
   "execution_count": 42,
   "metadata": {},
   "outputs": [
    {
     "data": {
      "text/plain": [
       "0.35"
      ]
     },
     "execution_count": 42,
     "metadata": {},
     "output_type": "execute_result"
    }
   ],
   "source": [
    "semfinalist_frequency = world_cups.where('Defending Champion in Final Four', True).num_rows / world_cups.num_rows\n",
    "semfinalist_frequency"
   ]
  },
  {
   "cell_type": "code",
   "execution_count": 33,
   "metadata": {},
   "outputs": [
    {
     "name": "stdout",
     "output_type": "stream",
     "text": [
      "~~~~~~~~~~~~~~~~~~~~~~~~~~~~~~~~~~~~~~~~~~~~~~~~~~~~~~~~~~~~~~~~~~~~~\n",
      "Running tests\n",
      "\n",
      "---------------------------------------------------------------------\n",
      "Test summary\n",
      "    Passed: 1\n",
      "    Failed: 0\n",
      "[ooooooooook] 100.0% passed\n",
      "\n"
     ]
    }
   ],
   "source": [
    "#_ = ok.grade('q2_8')"
   ]
  },
  {
   "cell_type": "markdown",
   "metadata": {},
   "source": [
    "## Question 9 deleted for hw04 wi19"
   ]
  },
  {
   "cell_type": "markdown",
   "metadata": {},
   "source": [
    "**Question 9.** When was the most recent year where the defending champion managed to advance to the semifinals? Assign this year to `most_recent_year`. No code is needed; only the answer."
   ]
  },
  {
   "cell_type": "code",
   "execution_count": 34,
   "metadata": {},
   "outputs": [],
   "source": [
    "most_recent_year = 1998"
   ]
  },
  {
   "cell_type": "code",
   "execution_count": 35,
   "metadata": {},
   "outputs": [
    {
     "name": "stdout",
     "output_type": "stream",
     "text": [
      "~~~~~~~~~~~~~~~~~~~~~~~~~~~~~~~~~~~~~~~~~~~~~~~~~~~~~~~~~~~~~~~~~~~~~\n",
      "Running tests\n",
      "\n",
      "---------------------------------------------------------------------\n",
      "Test summary\n",
      "    Passed: 1\n",
      "    Failed: 0\n",
      "[ooooooooook] 100.0% passed\n",
      "\n"
     ]
    }
   ],
   "source": [
    "#_ = ok.grade('q2_9')"
   ]
  },
  {
   "cell_type": "markdown",
   "metadata": {},
   "source": [
    "## 3. DSC 10 Midterm"
   ]
  },
  {
   "cell_type": "markdown",
   "metadata": {},
   "source": [
    "Level of preparedness can be a decent predictor for how well you perform on an exam, like the midterm you have."
   ]
  },
  {
   "cell_type": "markdown",
   "metadata": {},
   "source": [
    "**Question 1.** Write a function named `pass_midterm` that takes in boolean variables as input and returns `True` if you will pass the midterm and `False` if you will fail. The function should obey the following logic:\n",
    "\n",
    "* Didn't attend class → Fail\n",
    "* Didn't do homeworks and didn't attend tutor hours → Fail\n",
    "* Didn't do labs and didn't attend discussion sessions → Fail\n",
    "* Has questions and didn't go to tutor hours nor review session → Fail\n",
    "* All-nighter before final AND didn't attend review session → Fail\n",
    "* All other situations → Pass"
   ]
  },
  {
   "cell_type": "code",
   "execution_count": 25,
   "metadata": {},
   "outputs": [
    {
     "data": {
      "text/plain": [
       "True"
      ]
     },
     "execution_count": 25,
     "metadata": {},
     "output_type": "execute_result"
    }
   ],
   "source": [
    "def pass_midterm(attend_class, do_hw, do_lab, attend_review, disc_session, has_questions, tutor_hours, all_nighter):\n",
    "    # example\n",
    "    if not attend_class:\n",
    "        return False\n",
    "    if not do_hw and not tutor_hours:\n",
    "        return False\n",
    "    if not do_lab and not disc_session:\n",
    "        return False\n",
    "    if has_questions:\n",
    "        if not tutor_hours or not attend_review:\n",
    "            return False\n",
    "    if all_nighter and not attend_review:\n",
    "        return False\n",
    "    return True\n",
    "\n",
    "\n",
    "# Test your function\n",
    "pass_midterm(True, True, True, False, False, False, True, False) # should return True\n",
    "# If you'd like, you can write more of your own tests to test your function"
   ]
  },
  {
   "cell_type": "code",
   "execution_count": 24,
   "metadata": {},
   "outputs": [
    {
     "data": {
      "text/plain": [
       "False"
      ]
     },
     "execution_count": 24,
     "metadata": {},
     "output_type": "execute_result"
    }
   ],
   "source": [
    "pass_midterm(True, True, False, False, True, True, True, False)"
   ]
  },
  {
   "cell_type": "code",
   "execution_count": 28,
   "metadata": {},
   "outputs": [
    {
     "data": {
      "text/plain": [
       "True"
      ]
     },
     "execution_count": 28,
     "metadata": {},
     "output_type": "execute_result"
    }
   ],
   "source": [
    "pass_midterm(True, False, True, True, False, True, True, True)"
   ]
  },
  {
   "cell_type": "code",
   "execution_count": 56,
   "metadata": {},
   "outputs": [],
   "source": [
    "#_ = ok.grade('q3_1')"
   ]
  },
  {
   "cell_type": "markdown",
   "metadata": {},
   "source": [
    "Assume the midterms have been graded. Let's assign a letter grade to each midterm score. The below code generates 300 random midterm scores ranging from 45 to 100."
   ]
  },
  {
   "cell_type": "code",
   "execution_count": 13,
   "metadata": {},
   "outputs": [
    {
     "name": "stdout",
     "output_type": "stream",
     "text": [
      "[ 89  92  98  45  48  48  84  54  64  66  95  81  68  51  69  69  57  46\n",
      "  83  84  68  91  69  62  82  70  58  53  54  65  96  61  96  50  60  92\n",
      "  45  63  80  69  94  96  74  64  64  59  84  77  46  54  77  76  55  97\n",
      "  68  80  56  95 100  73  79  45  45  81  98  50  83  85  97  62  60  49\n",
      "  86  87  76  46  46  84  86  80  83 100  56  91  63  72  45  59  80  98\n",
      "  57  87  65  56  49  51  49  92  97  48  57  81  97  85  59  60  65  80\n",
      "  68  60  58  98  66  93  94  50  86  80  45  76  50  75  45  94  95  81\n",
      "  79  93  74  48  79  87  58  93  84  66  54  45  55  95  88  68  47  79\n",
      "  80  75  48  63  91  80  65  62  95  72  59  86  46  81  55  67  88  85\n",
      "  56  47  96  61  77  99  45  83  64  91  87  96  85  58  75  69  47  48\n",
      "  75  79  88  58  93  85  53  64  76  53  71  47  97  48  89  59  77  49\n",
      "  48  90  56  67  58  90  56  61  69  74  66  91  70  61  99  98  64  78\n",
      "  85  77  81  51  66  76  58  52  69  60  86  63  85  99  60  56  83  92\n",
      "  74  46  76  99  89  69  69  48  63  92  48  87  57  83  80  67  50  68\n",
      "  88  77  56  85  65  55  99  88  82  73  92  85  47  72  64  70  68  98\n",
      "  96  91  65  98  74  48  80  84  54  54  86  68  48  91  71  95  89  48\n",
      "  76  54  55  72  90  52  84  66  78  89  79  79]\n"
     ]
    }
   ],
   "source": [
    "# Don't change this cell; just run it\n",
    "np.random.seed(0)\n",
    "midterm_scores = np.random.choice(range(45,101), 300)\n",
    "print(midterm_scores)"
   ]
  },
  {
   "cell_type": "markdown",
   "metadata": {},
   "source": [
    "**Question 2.** Use a [for loop](https://ucsd-ets.github.io/dsc10-fa18-textbook/chapters/09/2/Iteration) to iterate through `midterm_scores` from beginning to end. For each score, append a letter grade (as a string) to an array, `grades`, according to the below grading scheme: (Modeled after grade schools in British Columbia)\n",
    "* Greater than or equal to 86, less than or equal to 100: 'A'\n",
    "* Greater than or equal to 73, less than 86: 'B'\n",
    "* Greater than or equal to 67, less than 73: 'C+'\n",
    "* Greater than or equal to 60, less than 67: 'C'\n",
    "* Greater than or equal to 50, less than 60: 'C-'\n",
    "* Less than 50: 'F'"
   ]
  },
  {
   "cell_type": "code",
   "execution_count": 14,
   "metadata": {},
   "outputs": [
    {
     "name": "stdout",
     "output_type": "stream",
     "text": [
      "['A' 'A' 'A' 'F' 'F' 'F' 'B' 'C-' 'C' 'C' 'A' 'B' 'C+' 'C-' 'C+' 'C+' 'C-'\n",
      " 'F' 'B' 'B' 'C+' 'A' 'C+' 'C' 'B' 'C+' 'C-' 'C-' 'C-' 'C' 'A' 'C' 'A'\n",
      " 'C-' 'C' 'A' 'F' 'C' 'B' 'C+' 'A' 'A' 'B' 'C' 'C' 'C-' 'B' 'B' 'F' 'C-'\n",
      " 'B' 'B' 'C-' 'A' 'C+' 'B' 'C-' 'A' 'A' 'B' 'B' 'F' 'F' 'B' 'A' 'C-' 'B'\n",
      " 'B' 'A' 'C' 'C' 'F' 'A' 'A' 'B' 'F' 'F' 'B' 'A' 'B' 'B' 'A' 'C-' 'A' 'C'\n",
      " 'C+' 'F' 'C-' 'B' 'A' 'C-' 'A' 'C' 'C-' 'F' 'C-' 'F' 'A' 'A' 'F' 'C-' 'B'\n",
      " 'A' 'B' 'C-' 'C' 'C' 'B' 'C+' 'C' 'C-' 'A' 'C' 'A' 'A' 'C-' 'A' 'B' 'F'\n",
      " 'B' 'C-' 'B' 'F' 'A' 'A' 'B' 'B' 'A' 'B' 'F' 'B' 'A' 'C-' 'A' 'B' 'C'\n",
      " 'C-' 'F' 'C-' 'A' 'A' 'C+' 'F' 'B' 'B' 'B' 'F' 'C' 'A' 'B' 'C' 'C' 'A'\n",
      " 'C+' 'C-' 'A' 'F' 'B' 'C-' 'C+' 'A' 'B' 'C-' 'F' 'A' 'C' 'B' 'A' 'F' 'B'\n",
      " 'C' 'A' 'A' 'A' 'B' 'C-' 'B' 'C+' 'F' 'F' 'B' 'B' 'A' 'C-' 'A' 'B' 'C-'\n",
      " 'C' 'B' 'C-' 'C+' 'F' 'A' 'F' 'A' 'C-' 'B' 'F' 'F' 'A' 'C-' 'C+' 'C-' 'A'\n",
      " 'C-' 'C' 'C+' 'B' 'C' 'A' 'C+' 'C' 'A' 'A' 'C' 'B' 'B' 'B' 'B' 'C-' 'C'\n",
      " 'B' 'C-' 'C-' 'C+' 'C' 'A' 'C' 'B' 'A' 'C' 'C-' 'B' 'A' 'B' 'F' 'B' 'A'\n",
      " 'A' 'C+' 'C+' 'F' 'C' 'A' 'F' 'A' 'C-' 'B' 'B' 'C+' 'C-' 'C+' 'A' 'B'\n",
      " 'C-' 'B' 'C' 'C-' 'A' 'A' 'B' 'B' 'A' 'B' 'F' 'C+' 'C' 'C+' 'C+' 'A' 'A'\n",
      " 'A' 'C' 'A' 'B' 'F' 'B' 'B' 'C-' 'C-' 'A' 'C+' 'F' 'A' 'C+' 'A' 'A' 'F'\n",
      " 'B' 'C-' 'C-' 'C+' 'A' 'C-' 'B' 'C' 'B' 'A' 'B' 'B']\n"
     ]
    }
   ],
   "source": [
    "grades = make_array()\n",
    "\n",
    "# Write your for loop here\n",
    "for score in midterm_scores:\n",
    "    if score >= 86:\n",
    "        grades = np.append(grades, \"A\")\n",
    "    elif score >= 73 and score < 86:\n",
    "        grades = np.append(grades, \"B\")\n",
    "    elif score >= 67 and score < 73:\n",
    "        grades = np.append(grades, \"C+\")\n",
    "    elif score >= 60 and score < 67:\n",
    "        grades = np.append(grades, \"C\")\n",
    "    elif score >= 50 and score < 60:\n",
    "        grades = np.append(grades, \"C-\")\n",
    "    else:\n",
    "        grades = np.append(grades, \"F\")\n",
    "        \n",
    "print(grades)  # Print the result"
   ]
  },
  {
   "cell_type": "code",
   "execution_count": 18,
   "metadata": {},
   "outputs": [
    {
     "data": {
      "text/plain": [
       "73"
      ]
     },
     "execution_count": 18,
     "metadata": {},
     "output_type": "execute_result"
    }
   ],
   "source": [
    "np.count_nonzero(grades == \"B\")"
   ]
  },
  {
   "cell_type": "code",
   "execution_count": 40,
   "metadata": {},
   "outputs": [
    {
     "name": "stdout",
     "output_type": "stream",
     "text": [
      "~~~~~~~~~~~~~~~~~~~~~~~~~~~~~~~~~~~~~~~~~~~~~~~~~~~~~~~~~~~~~~~~~~~~~\n",
      "Running tests\n",
      "\n",
      "---------------------------------------------------------------------\n",
      "Test summary\n",
      "    Passed: 1\n",
      "    Failed: 0\n",
      "[ooooooooook] 100.0% passed\n",
      "\n"
     ]
    }
   ],
   "source": [
    "#_ = ok.grade('q3_2')"
   ]
  },
  {
   "cell_type": "markdown",
   "metadata": {},
   "source": [
    "## Submit\n",
    "\n",
    "To submit:\n",
    "\n",
    "1. Select `Run All` from the `Cell` menu to ensure that you have executed all cells, including the test cells.\n",
    "3. Read through the notebook to make sure everything is fine.\n",
    "4. Submit using the cell below."
   ]
  },
  {
   "cell_type": "code",
   "execution_count": 41,
   "metadata": {},
   "outputs": [
    {
     "name": "stdout",
     "output_type": "stream",
     "text": [
      "~~~~~~~~~~~~~~~~~~~~~~~~~~~~~~~~~~~~~~~~~~~~~~~~~~~~~~~~~~~~~~~~~~~~~\n",
      "Running tests\n",
      "\n",
      "---------------------------------------------------------------------\n",
      "Test summary\n",
      "    Passed: 1\n",
      "    Failed: 0\n",
      "[ooooooooook] 100.0% passed\n",
      "\n",
      "~~~~~~~~~~~~~~~~~~~~~~~~~~~~~~~~~~~~~~~~~~~~~~~~~~~~~~~~~~~~~~~~~~~~~\n",
      "Running tests\n",
      "\n",
      "---------------------------------------------------------------------\n",
      "Test summary\n",
      "    Passed: 1\n",
      "    Failed: 0\n",
      "[ooooooooook] 100.0% passed\n",
      "\n",
      "~~~~~~~~~~~~~~~~~~~~~~~~~~~~~~~~~~~~~~~~~~~~~~~~~~~~~~~~~~~~~~~~~~~~~\n",
      "Running tests\n",
      "\n",
      "---------------------------------------------------------------------\n",
      "Test summary\n",
      "    Passed: 1\n",
      "    Failed: 0\n",
      "[ooooooooook] 100.0% passed\n",
      "\n",
      "~~~~~~~~~~~~~~~~~~~~~~~~~~~~~~~~~~~~~~~~~~~~~~~~~~~~~~~~~~~~~~~~~~~~~\n",
      "Running tests\n",
      "\n",
      "---------------------------------------------------------------------\n",
      "Test summary\n",
      "    Passed: 1\n",
      "    Failed: 0\n",
      "[ooooooooook] 100.0% passed\n",
      "\n",
      "~~~~~~~~~~~~~~~~~~~~~~~~~~~~~~~~~~~~~~~~~~~~~~~~~~~~~~~~~~~~~~~~~~~~~\n",
      "Running tests\n",
      "\n",
      "---------------------------------------------------------------------\n",
      "Test summary\n",
      "    Passed: 1\n",
      "    Failed: 0\n",
      "[ooooooooook] 100.0% passed\n",
      "\n",
      "~~~~~~~~~~~~~~~~~~~~~~~~~~~~~~~~~~~~~~~~~~~~~~~~~~~~~~~~~~~~~~~~~~~~~\n",
      "Running tests\n",
      "\n",
      "---------------------------------------------------------------------\n",
      "Test summary\n",
      "    Passed: 1\n",
      "    Failed: 0\n",
      "[ooooooooook] 100.0% passed\n",
      "\n",
      "~~~~~~~~~~~~~~~~~~~~~~~~~~~~~~~~~~~~~~~~~~~~~~~~~~~~~~~~~~~~~~~~~~~~~\n",
      "Running tests\n",
      "\n",
      "---------------------------------------------------------------------\n",
      "Test summary\n",
      "    Passed: 1\n",
      "    Failed: 0\n",
      "[ooooooooook] 100.0% passed\n",
      "\n",
      "~~~~~~~~~~~~~~~~~~~~~~~~~~~~~~~~~~~~~~~~~~~~~~~~~~~~~~~~~~~~~~~~~~~~~\n",
      "Running tests\n",
      "\n",
      "---------------------------------------------------------------------\n",
      "Test summary\n",
      "    Passed: 1\n",
      "    Failed: 0\n",
      "[ooooooooook] 100.0% passed\n",
      "\n",
      "~~~~~~~~~~~~~~~~~~~~~~~~~~~~~~~~~~~~~~~~~~~~~~~~~~~~~~~~~~~~~~~~~~~~~\n",
      "Running tests\n",
      "\n",
      "---------------------------------------------------------------------\n",
      "Test summary\n",
      "    Passed: 1\n",
      "    Failed: 0\n",
      "[ooooooooook] 100.0% passed\n",
      "\n",
      "~~~~~~~~~~~~~~~~~~~~~~~~~~~~~~~~~~~~~~~~~~~~~~~~~~~~~~~~~~~~~~~~~~~~~\n",
      "Running tests\n",
      "\n",
      "---------------------------------------------------------------------\n",
      "Test summary\n",
      "    Passed: 1\n",
      "    Failed: 0\n",
      "[ooooooooook] 100.0% passed\n",
      "\n",
      "~~~~~~~~~~~~~~~~~~~~~~~~~~~~~~~~~~~~~~~~~~~~~~~~~~~~~~~~~~~~~~~~~~~~~\n",
      "Running tests\n",
      "\n",
      "---------------------------------------------------------------------\n",
      "Test summary\n",
      "    Passed: 1\n",
      "    Failed: 0\n",
      "[ooooooooook] 100.0% passed\n",
      "\n",
      "~~~~~~~~~~~~~~~~~~~~~~~~~~~~~~~~~~~~~~~~~~~~~~~~~~~~~~~~~~~~~~~~~~~~~\n",
      "Running tests\n",
      "\n",
      "---------------------------------------------------------------------\n",
      "Test summary\n",
      "    Passed: 1\n",
      "    Failed: 0\n",
      "[ooooooooook] 100.0% passed\n",
      "\n",
      "~~~~~~~~~~~~~~~~~~~~~~~~~~~~~~~~~~~~~~~~~~~~~~~~~~~~~~~~~~~~~~~~~~~~~\n",
      "Running tests\n",
      "\n",
      "---------------------------------------------------------------------\n",
      "Test summary\n",
      "    Passed: 1\n",
      "    Failed: 0\n",
      "[ooooooooook] 100.0% passed\n",
      "\n",
      "~~~~~~~~~~~~~~~~~~~~~~~~~~~~~~~~~~~~~~~~~~~~~~~~~~~~~~~~~~~~~~~~~~~~~\n",
      "Running tests\n",
      "\n",
      "---------------------------------------------------------------------\n",
      "Test summary\n",
      "    Passed: 1\n",
      "    Failed: 0\n",
      "[ooooooooook] 100.0% passed\n",
      "\n",
      "~~~~~~~~~~~~~~~~~~~~~~~~~~~~~~~~~~~~~~~~~~~~~~~~~~~~~~~~~~~~~~~~~~~~~\n",
      "Running tests\n",
      "\n",
      "---------------------------------------------------------------------\n",
      "Test summary\n",
      "    Passed: 1\n",
      "    Failed: 0\n",
      "[ooooooooook] 100.0% passed\n",
      "\n",
      "~~~~~~~~~~~~~~~~~~~~~~~~~~~~~~~~~~~~~~~~~~~~~~~~~~~~~~~~~~~~~~~~~~~~~\n",
      "Running tests\n",
      "\n",
      "---------------------------------------------------------------------\n",
      "Test summary\n",
      "    Passed: 1\n",
      "    Failed: 0\n",
      "[ooooooooook] 100.0% passed\n",
      "\n",
      "~~~~~~~~~~~~~~~~~~~~~~~~~~~~~~~~~~~~~~~~~~~~~~~~~~~~~~~~~~~~~~~~~~~~~\n",
      "Running tests\n",
      "\n",
      "---------------------------------------------------------------------\n",
      "Test summary\n",
      "    Passed: 1\n",
      "    Failed: 0\n",
      "[ooooooooook] 100.0% passed\n",
      "\n"
     ]
    }
   ],
   "source": [
    "# For your convenience, you can run this cell to run all the tests at once!\n",
    "import os\n",
    "_ = [ok.grade(q[:-3]) for q in os.listdir('tests') if q.startswith('q')]"
   ]
  },
  {
   "cell_type": "code",
   "execution_count": 42,
   "metadata": {},
   "outputs": [
    {
     "data": {
      "application/javascript": [
       "IPython.notebook.save_checkpoint();"
      ],
      "text/plain": [
       "<IPython.core.display.Javascript object>"
      ]
     },
     "metadata": {},
     "output_type": "display_data"
    },
    {
     "data": {
      "application/javascript": [
       "IPython.notebook.save_notebook();"
      ],
      "text/plain": [
       "<IPython.core.display.Javascript object>"
      ]
     },
     "metadata": {},
     "output_type": "display_data"
    },
    {
     "name": "stdout",
     "output_type": "stream",
     "text": [
      "Saving notebook... Could not save your notebook. Make sure your notebook is saved before sending it to OK!\n",
      "Submit... 100% complete\n",
      "Submission successful for user: dhl011@ucsd.edu\n",
      "URL: https://okpy.org/ucsd/dsc10/fa18/hw04/submissions/JqMq1P\n",
      "\n"
     ]
    }
   ],
   "source": [
    "_ = ok.submit()"
   ]
  }
 ],
 "metadata": {
  "kernelspec": {
   "display_name": "Python 3",
   "language": "python",
   "name": "python3"
  },
  "language_info": {
   "codemirror_mode": {
    "name": "ipython",
    "version": 3
   },
   "file_extension": ".py",
   "mimetype": "text/x-python",
   "name": "python",
   "nbconvert_exporter": "python",
   "pygments_lexer": "ipython3",
   "version": "3.6.2"
  }
 },
 "nbformat": 4,
 "nbformat_minor": 2
}
