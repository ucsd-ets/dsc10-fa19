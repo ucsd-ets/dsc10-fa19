{
 "cells": [
  {
   "cell_type": "code",
   "execution_count": null,
   "metadata": {
    "slideshow": {
     "slide_type": "skip"
    }
   },
   "outputs": [],
   "source": [
    "from datascience import *\n",
    "import numpy as np\n",
    "import matplotlib.pyplot as plt\n",
    "plt.style.use(\"fivethirtyeight\")\n",
    "%matplotlib inline"
   ]
  },
  {
   "cell_type": "markdown",
   "metadata": {
    "slideshow": {
     "slide_type": "slide"
    }
   },
   "source": [
    "# Week 10: I scream, you scream, we all scream for ice cream and shark attacks\n",
    "---\n",
    "\n",
    "Tonight we'll be looking at Ice Cream, Fudge, and Sharks—cool!"
   ]
  },
  {
   "cell_type": "code",
   "execution_count": null,
   "metadata": {
    "slideshow": {
     "slide_type": "subslide"
    }
   },
   "outputs": [],
   "source": [
    "tbl = Table.read_table(\"ice-cream-stats.csv\")\n",
    "tbl"
   ]
  },
  {
   "cell_type": "code",
   "execution_count": null,
   "metadata": {
    "slideshow": {
     "slide_type": "fragment"
    }
   },
   "outputs": [],
   "source": [
    "# Let's set some variables to the columns for easier reference\n",
    "ice, fudge, shark = tbl.column(\"Ice Cream Sales (cones)\"), tbl.column(\"Fudge Sale Volume (g)\"), tbl.column(\"Shark Attacks\") "
   ]
  },
  {
   "cell_type": "markdown",
   "metadata": {
    "slideshow": {
     "slide_type": "slide"
    }
   },
   "source": [
    "# First, let's cement some knowledge\n",
    "---"
   ]
  },
  {
   "cell_type": "markdown",
   "metadata": {
    "slideshow": {
     "slide_type": "fragment"
    }
   },
   "source": [
    "Alrighty, before we get into it, let's make sure we are clear on a few things related to distributions, confidence intervals, hypothesis testing, etc.  Let's draw it all out on the chalkboard:\n",
    "\n",
    "1. **Population**\n",
    "   - Distribution\n",
    "   - Population Parameters\n",
    "     - Mean, SD, others\n",
    "     \n",
    "     \n",
    "2. **Sample**\n",
    "   - How to obtain (without replacement from pop)\n",
    "   - Distribution\n",
    "   - Sample Statistics\n",
    "     - Mean, SD, others\n",
    "     \n",
    "     \n",
    "3. **Distribution of Sample Statistics**\n",
    "   - How to obtain (with replacement from sample, or mathematically)\n",
    "   - Distribution\n",
    "     - What is the statistic?\n",
    "   - Features\n",
    "     - Mean, SD"
   ]
  },
  {
   "cell_type": "markdown",
   "metadata": {
    "slideshow": {
     "slide_type": "subslide"
    }
   },
   "source": [
    "# Let's talk about relationships\n",
    "---\n",
    "\n",
    "Let's consider the following table:"
   ]
  },
  {
   "cell_type": "markdown",
   "metadata": {
    "slideshow": {
     "slide_type": "fragment"
    }
   },
   "source": [
    "|x|y|\n",
    "|---|---|\n",
    "|1|1|\n",
    "|2|4|\n",
    "|4|8|\n",
    "|5|10|"
   ]
  },
  {
   "cell_type": "markdown",
   "metadata": {
    "slideshow": {
     "slide_type": "fragment"
    }
   },
   "source": [
    "If we were to receive an $x=3$, what would we expect the corresponding $y$ to equal? Why?\n",
    "\n",
    "Does this expectation seem like a solid choice?"
   ]
  },
  {
   "cell_type": "markdown",
   "metadata": {
    "slideshow": {
     "slide_type": "subslide"
    }
   },
   "source": [
    "Now, let's consider what we expect the value of $y$ to equal when we receive an $x=6$.\n",
    "\n",
    "Given x := 6, what do we expect y to equal?\n",
    "\n",
    "Does this expectation seem like a solid choice?"
   ]
  },
  {
   "cell_type": "markdown",
   "metadata": {
    "slideshow": {
     "slide_type": "subslide"
    }
   },
   "source": [
    "What about the following graph of `Ice Cream Sales` versus `Fudge Sales Volume`?"
   ]
  },
  {
   "cell_type": "code",
   "execution_count": null,
   "metadata": {
    "slideshow": {
     "slide_type": "fragment"
    }
   },
   "outputs": [],
   "source": [
    "tbl.scatter(\"Ice Cream Sales (cones)\", \"Fudge Sale Volume (g)\")"
   ]
  },
  {
   "cell_type": "markdown",
   "metadata": {
    "slideshow": {
     "slide_type": "subslide"
    }
   },
   "source": [
    "What, roughly, would we expect $Fudge\\ Sales\\ Volume$ to equal provided that $Ice\\ Cream\\ Sales = 100$?"
   ]
  },
  {
   "cell_type": "markdown",
   "metadata": {
    "slideshow": {
     "slide_type": "slide"
    }
   },
   "source": [
    "Let's focus on our justification for coming up with a value for $Fudge$.  We saw a strong *relationship* between $Ice \\ Cream$ and $Fudge$.  What does that mean?\n",
    "\n",
    "If we're speaking statistically, then we consider `relationship == association`.  And an association really boils down to the following claim:  \n",
    "\n",
    "<center>\"When this changes value, then that changes value too.\"</center>"
   ]
  },
  {
   "cell_type": "markdown",
   "metadata": {
    "slideshow": {
     "slide_type": "subslide"
    }
   },
   "source": [
    "# Correlation\n",
    "---\n",
    "\n",
    "What does correlation (or the correlation coefficient) tell us?"
   ]
  },
  {
   "cell_type": "markdown",
   "metadata": {
    "slideshow": {
     "slide_type": "subslide"
    }
   },
   "source": [
    "Correlation can be positive or negative, and it can be perfect, strong, moderate, weak, or zero.  We can also quantify it using the correlation coefficient, $r$.\n",
    "\n",
    "So, going back to our table of $x$ and $y$ above, what correlation do we see?  What about for $Ice\\ Cream$ and $Fudge$?"
   ]
  },
  {
   "cell_type": "code",
   "execution_count": null,
   "metadata": {
    "slideshow": {
     "slide_type": "fragment"
    }
   },
   "outputs": [],
   "source": [
    "# What is the correlation (qualitatively) between x and y?"
   ]
  },
  {
   "cell_type": "code",
   "execution_count": null,
   "metadata": {
    "slideshow": {
     "slide_type": "subslide"
    }
   },
   "outputs": [],
   "source": [
    "# Ice Cream and Fudge are strongly associated.\n",
    "# What is the correlation between Ice Cream and Fudge?  Is it a strong correlation?"
   ]
  },
  {
   "cell_type": "markdown",
   "metadata": {
    "slideshow": {
     "slide_type": "subslide"
    }
   },
   "source": [
    "So, how do we go about measuring the correlation (finding the correlation coefficient)?\n",
    "\n",
    "We must first put our x and y values into *\"standard units\"*.  Recall, to put a point into standard units, what formula is used?"
   ]
  },
  {
   "cell_type": "code",
   "execution_count": null,
   "metadata": {
    "slideshow": {
     "slide_type": "fragment"
    }
   },
   "outputs": [],
   "source": [
    "# First, what does it mean (in words) for something a point to be `n` in standard units?"
   ]
  },
  {
   "cell_type": "markdown",
   "metadata": {
    "slideshow": {
     "slide_type": "subslide"
    }
   },
   "source": [
    "For some data set, $X$, let $x_i = some\\ datapoint\\ in\\ X$\n",
    "\n",
    "Then, $x_{i, SU} =$ ??\n",
    "\n",
    "\n",
    "And, replacing $x_i$ with all of our datapoints, $X$, we can convert the entire data set into standard units."
   ]
  },
  {
   "cell_type": "code",
   "execution_count": null,
   "metadata": {
    "slideshow": {
     "slide_type": "subslide"
    }
   },
   "outputs": [],
   "source": [
    "# Before we convert Ice Cream and Fudge to SU, what do we know about what the scatter plot\n",
    "# will look like after converting both?"
   ]
  },
  {
   "cell_type": "code",
   "execution_count": null,
   "metadata": {
    "slideshow": {
     "slide_type": "fragment"
    }
   },
   "outputs": [],
   "source": [
    "# Let's write a quick standard units function\n",
    "def standard_units(array):\n",
    "    return (array - np.mean(array)) / np.std(array)"
   ]
  },
  {
   "cell_type": "code",
   "execution_count": null,
   "metadata": {
    "slideshow": {
     "slide_type": "subslide"
    }
   },
   "outputs": [],
   "source": [
    "ice_su = standard_units(ice)\n",
    "fudge_su = standard_units(fudge)\n",
    "\n",
    "plt.scatter(ice_su, fudge_su)\n",
    "plt.xlabel(\"Ice Cream Sales (cones) In Standard Units\"); plt.ylabel(\"Fudge Sale Volume (g) In Standard Units\");"
   ]
  },
  {
   "cell_type": "code",
   "execution_count": null,
   "metadata": {
    "slideshow": {
     "slide_type": "fragment"
    }
   },
   "outputs": [],
   "source": [
    "# What changed between the two plots?"
   ]
  },
  {
   "cell_type": "markdown",
   "metadata": {
    "slideshow": {
     "slide_type": "subslide"
    }
   },
   "source": [
    "Out of curiosity, what do you expect the mean and standard deviation of $a_{SU}$ to be?  What about $b_{SU}$?"
   ]
  },
  {
   "cell_type": "code",
   "execution_count": null,
   "metadata": {
    "slideshow": {
     "slide_type": "fragment"
    }
   },
   "outputs": [],
   "source": [
    "np.mean(ice_su).round(5)"
   ]
  },
  {
   "cell_type": "code",
   "execution_count": null,
   "metadata": {
    "slideshow": {
     "slide_type": "fragment"
    }
   },
   "outputs": [],
   "source": [
    "np.std(ice_su)"
   ]
  },
  {
   "cell_type": "markdown",
   "metadata": {
    "slideshow": {
     "slide_type": "subslide"
    }
   },
   "source": [
    "Now, to find our correlation coefficient between two data sets, $X$ and $Y$, there is one more formula.  It's written as?"
   ]
  },
  {
   "cell_type": "code",
   "execution_count": null,
   "metadata": {
    "slideshow": {
     "slide_type": "fragment"
    }
   },
   "outputs": [],
   "source": [
    "# Calculate the correlation coefficient between a and b\n",
    "\n",
    "r = np.mean(ice_su * fudge_su)\n",
    "r"
   ]
  },
  {
   "cell_type": "markdown",
   "metadata": {
    "slideshow": {
     "slide_type": "subslide"
    }
   },
   "source": [
    "Recalling what the correlation between two data sets tells us, what does this really mean?"
   ]
  },
  {
   "cell_type": "code",
   "execution_count": null,
   "metadata": {
    "slideshow": {
     "slide_type": "fragment"
    }
   },
   "outputs": [],
   "source": [
    "# In words, what does our correlation coefficient mean?"
   ]
  },
  {
   "cell_type": "markdown",
   "metadata": {
    "slideshow": {
     "slide_type": "slide"
    }
   },
   "source": [
    "# Onwards, to regression!\n",
    "---\n",
    "\n",
    "So, we have a correlation coefficient now.  What can we do with it?\n",
    "\n",
    "One idea is to plot it somehow.  But how?"
   ]
  },
  {
   "cell_type": "code",
   "execution_count": null,
   "metadata": {
    "slideshow": {
     "slide_type": "subslide"
    }
   },
   "outputs": [],
   "source": [
    "# Let's try incorporating the correlation coefficient into our plot\n",
    "\n",
    "plt.scatter(ice_su, fudge_su)\n",
    "plt.plot(np.linspace(-2, 2, 2), np.linspace(-2, 2, 2)*r, c='red')\n",
    "plt.xlabel(\"Ice Cream Sales (cones) In Standard Units\"); plt.ylabel(\"Fudge Sale Volume (g) In Standard Units\");"
   ]
  },
  {
   "cell_type": "code",
   "execution_count": null,
   "metadata": {
    "slideshow": {
     "slide_type": "subslide"
    }
   },
   "outputs": [],
   "source": [
    "# Now that we've incorporated r into our plot, what does r represent?"
   ]
  },
  {
   "cell_type": "markdown",
   "metadata": {
    "slideshow": {
     "slide_type": "subslide"
    }
   },
   "source": [
    "And that's the premise of linear regression!\n",
    "\n",
    "So, before we go much further, let's figure something out: *What is the purpose of regression?*\n",
    "\n",
    "Well, it's very useful since it can help us **predict** a value when given an input.  Even if we don't have a data point we can still predict what the corresponding value would be.\n",
    "\n",
    "We've been looking just at linear regression—stuff that falls in a line—but the same concepts carry over to higher powers!\n",
    "\n",
    "How about we take a look at some data that's a bit more linear?  Take a look at the plot of $Ice\\ Cream\\ Sales$ vs $Shark\\ Attacks$."
   ]
  },
  {
   "cell_type": "code",
   "execution_count": null,
   "metadata": {
    "slideshow": {
     "slide_type": "subslide"
    }
   },
   "outputs": [],
   "source": [
    "tbl.scatter(\"Ice Cream Sales (cones)\", \"Shark Attacks\")"
   ]
  },
  {
   "cell_type": "markdown",
   "metadata": {
    "slideshow": {
     "slide_type": "subslide"
    }
   },
   "source": [
    "Okay, let's find the correlation coefficient so that we can plot a best fit line."
   ]
  },
  {
   "cell_type": "code",
   "execution_count": null,
   "metadata": {
    "slideshow": {
     "slide_type": "fragment"
    }
   },
   "outputs": [],
   "source": [
    "# Before calculating anything, what do you think the correlation coefficient should be?"
   ]
  },
  {
   "cell_type": "code",
   "execution_count": null,
   "metadata": {
    "slideshow": {
     "slide_type": "subslide"
    }
   },
   "outputs": [],
   "source": [
    "# We can use the standard_units function we created\n",
    "ice_su = standard_units(ice)\n",
    "shark_su = standard_units(shark)\n",
    "\n",
    "r = np.mean(ice_su * shark_su)\n",
    "r"
   ]
  },
  {
   "cell_type": "code",
   "execution_count": null,
   "metadata": {
    "slideshow": {
     "slide_type": "subslide"
    }
   },
   "outputs": [],
   "source": [
    "# Let's plot it!\n",
    "\n",
    "xrange = np.linspace(min(ice), max(ice), 2)\n",
    "\n",
    "plt.scatter(ice, shark)\n",
    "plt.plot(xrange, xrange * r, c='r')\n",
    "plt.xlabel(\"Ice Cream Sales (cones)\"); plt.ylabel(\"Shark Attacks\");"
   ]
  },
  {
   "cell_type": "markdown",
   "metadata": {
    "slideshow": {
     "slide_type": "fragment"
    }
   },
   "source": [
    "Uh-oh.  What's wrong with that plot?"
   ]
  },
  {
   "cell_type": "code",
   "execution_count": null,
   "metadata": {
    "slideshow": {
     "slide_type": "subslide"
    }
   },
   "outputs": [],
   "source": [
    "# Let's fix the plot\n",
    "\n",
    "xrange = np.linspace(min(ice_su), max(ice_su), 2)\n",
    "plt.scatter(ice_su, shark_su)\n",
    "plt.plot(xrange, xrange * r, c='r')\n",
    "plt.xlabel(\"Ice Cream Sales (cones) In Standard Units\"); plt.ylabel(\"Shark Attacks In Standard Units\");"
   ]
  },
  {
   "cell_type": "code",
   "execution_count": null,
   "metadata": {
    "slideshow": {
     "slide_type": "subslide"
    }
   },
   "outputs": [],
   "source": [
    "# What is the equation of the line we plotted?"
   ]
  },
  {
   "cell_type": "markdown",
   "metadata": {
    "slideshow": {
     "slide_type": "slide"
    }
   },
   "source": [
    "Cool.  I'm glad we fixed that plot.  We should be able to plug in values into our best-fit line now.  But I'm not really satisfied with the plot we ended up creating."
   ]
  },
  {
   "cell_type": "code",
   "execution_count": null,
   "metadata": {
    "slideshow": {
     "slide_type": "fragment"
    }
   },
   "outputs": [],
   "source": [
    "# Why am I sad? (no not because of week 10, AKA how can we make the plot more useful?)\n",
    "\n",
    "\n",
    "\n",
    "\n",
    "\n",
    "\n",
    "\n",
    "\n",
    "\n",
    "\n",
    "\n",
    "\n",
    "\n"
   ]
  },
  {
   "cell_type": "markdown",
   "metadata": {
    "slideshow": {
     "slide_type": "subslide"
    }
   },
   "source": [
    "Let's go ahead and solve that problem.\n",
    "\n",
    "In order to come up with an equation for the best-fit line in original units (not standard units), what needs to be done?\n",
    "\n",
    "Well, let's examine what we'd need to change.  For starters, the best-fit line in standard units passes through (0, 0).  Second of all, it has a different slope than what we'd expect.\n",
    "\n",
    "In standard units, we have $y = rx$.  We want to put this back into original units as the form $y=mx+b$.\n",
    "\n",
    "$$m = r\\cdot \\frac{SD_y}{SD_x}$$\n",
    "\n",
    "$$b = mean_y - m\\cdot mean_x$$"
   ]
  },
  {
   "cell_type": "code",
   "execution_count": null,
   "metadata": {
    "slideshow": {
     "slide_type": "fragment"
    }
   },
   "outputs": [],
   "source": [
    "# Let's derive this"
   ]
  },
  {
   "cell_type": "markdown",
   "metadata": {
    "slideshow": {
     "slide_type": "fragment"
    }
   },
   "source": [
    "\n",
    "$$y_{SU} = r\\cdot x_{SU}$$\n",
    "\n",
    "$$\\frac{y - mean_y}{SD_y} = r\\cdot \\frac{x-mean_x}{SD_x}$$\n",
    "\n",
    "$$\\hspace{2.85cm} y-mean_y = r\\cdot \\frac{1}{SD_x} \\cdot (x-mean_x) \\cdot SD_y$$\n",
    "\n",
    "$$\\hspace{1.6cm} y-mean_y = \\frac{r\\cdot SD_y}{SD_x} \\cdot (x-mean_x)$$\n",
    "\n",
    "$$\\hspace{2.45cm} y-mean_y = \\frac{r\\cdot SD_y}{SD_x}x - \\frac{r\\cdot SD_y}{SD_x}mean_x$$\n",
    "\n",
    "$$\\hspace{6.2cm} y = \\frac{r\\cdot SD_y}{SD_x}x - (mean_y - \\frac{r\\cdot SD_y}{SD_x}mean_x)$$\n"
   ]
  },
  {
   "cell_type": "markdown",
   "metadata": {
    "slideshow": {
     "slide_type": "subslide"
    }
   },
   "source": [
    "Great, so let's get our line into original units.  Then, we can start predicting values!"
   ]
  },
  {
   "cell_type": "code",
   "execution_count": null,
   "metadata": {
    "slideshow": {
     "slide_type": "fragment"
    }
   },
   "outputs": [],
   "source": [
    "# Write the euqation of the best-fit line between\n",
    "# Ice Cream and Shark Attacks in original units.\n",
    "\n",
    "slope = r * np.std(shark) / np.std(ice)\n",
    "intercept = np.mean(shark) - slope * np.mean(ice)\n",
    "\n",
    "\"Shark Attacks = {} * Ice Cream Sales (cones) + {}\".format(slope, intercept)"
   ]
  },
  {
   "cell_type": "code",
   "execution_count": null,
   "metadata": {
    "slideshow": {
     "slide_type": "fragment"
    }
   },
   "outputs": [],
   "source": [
    "# And plot it out\n",
    "xrange = np.linspace(min(ice), max(ice), 2)\n",
    "\n",
    "plt.scatter(ice, shark)\n",
    "plt.plot(xrange, slope * xrange + intercept, c='r')\n",
    "plt.xlabel(\"Ice Cream Sales (cones)\"); plt.ylabel(\"Shark Attacks\");"
   ]
  },
  {
   "cell_type": "code",
   "execution_count": null,
   "metadata": {
    "slideshow": {
     "slide_type": "subslide"
    }
   },
   "outputs": [],
   "source": [
    "# Alright, now, given an Ice Cream value of 100,\n",
    "# what do we expect the corresponding y value to be?\n",
    "\n",
    "value = slope * 100 + intercept\n",
    "value"
   ]
  },
  {
   "cell_type": "code",
   "execution_count": null,
   "metadata": {
    "slideshow": {
     "slide_type": "fragment"
    }
   },
   "outputs": [],
   "source": [
    "# What if Ice Cream has a value of 0?\n",
    "\n",
    "value = slope * 0 + intercept\n",
    "value"
   ]
  },
  {
   "cell_type": "markdown",
   "metadata": {
    "slideshow": {
     "slide_type": "fragment"
    }
   },
   "source": [
    "```\n",
    "It's impossible to have negative shark attacks!  Regression doesn't work perfectly on data outside of our data set!\n",
    "```"
   ]
  },
  {
   "cell_type": "code",
   "execution_count": null,
   "metadata": {
    "slideshow": {
     "slide_type": "subslide"
    }
   },
   "outputs": [],
   "source": [
    "# Interpret the best-fit line equation in words"
   ]
  },
  {
   "cell_type": "markdown",
   "metadata": {
    "slideshow": {
     "slide_type": "slide"
    }
   },
   "source": [
    "# And residuals\n",
    "---\n"
   ]
  },
  {
   "cell_type": "markdown",
   "metadata": {
    "slideshow": {
     "slide_type": "fragment"
    }
   },
   "source": [
    "A residual is defined as the actual y value minus the predicted y value.  This is often written as $y-\\hat{y}$\n",
    "\n",
    "Let's take a look at our residuals for $Ice\\ Cream$ and $Shark\\ Attacks$, and then look at our residuals for $Ice\\ Cream$ and $Fudge\\ Sales$."
   ]
  },
  {
   "cell_type": "code",
   "execution_count": null,
   "metadata": {
    "slideshow": {
     "slide_type": "subslide"
    }
   },
   "outputs": [],
   "source": [
    "resids_ice_shark = shark - (slope * ice + intercept)\n",
    "\n",
    "plt.scatter(ice, resids_ice_shark)\n",
    "\n",
    "# Let's draw a handy line at y=0 (spot on prediction!)\n",
    "plt.axhline(0, c='k')\n",
    "plt.xlabel(\"Ice Cream Sales (cones)\"); plt.ylabel(\"Residuals of Shark Attacks\");"
   ]
  },
  {
   "cell_type": "code",
   "execution_count": null,
   "metadata": {
    "slideshow": {
     "slide_type": "subslide"
    }
   },
   "outputs": [],
   "source": [
    "corr_ice_fudge = np.mean(ice_su * fudge_su)\n",
    "slope_ice_fudge = corr_ice_fudge * np.std(fudge) / np.std(ice)\n",
    "int_ice_fudge = np.mean(fudge) - slope_ice_fudge * np.mean(ice)\n",
    "\n",
    "resids_ice_fudge = fudge - (slope_ice_fudge * ice + int_ice_fudge)\n",
    "\n",
    "plt.scatter(ice, resids_ice_fudge)\n",
    "plt.axhline(0, c='k')\n",
    "plt.xlabel(\"Ice Cream Sales (cones)\"); plt.ylabel(\"Residuals of Fudge Sales\");"
   ]
  },
  {
   "cell_type": "markdown",
   "metadata": {
    "slideshow": {
     "slide_type": "fragment"
    }
   },
   "source": [
    "In order for our \"best-fit\" to actually be even a *good* fit, there's a key feature of the residual plot that we should observe."
   ]
  },
  {
   "cell_type": "code",
   "execution_count": null,
   "metadata": {
    "slideshow": {
     "slide_type": "subslide"
    }
   },
   "outputs": [],
   "source": [
    "# What needs to be true about our residual plot for our best-fit to be good?"
   ]
  },
  {
   "cell_type": "markdown",
   "metadata": {
    "slideshow": {
     "slide_type": "subslide"
    }
   },
   "source": [
    "Out of curiosity, what should the mean of the residual points be?"
   ]
  },
  {
   "cell_type": "code",
   "execution_count": null,
   "metadata": {
    "slideshow": {
     "slide_type": "fragment"
    }
   },
   "outputs": [],
   "source": [
    "print(\"Icecream vs Fudge:\\t\\t\", np.round(np.mean(resids_ice_fudge), 10),\n",
    "      \"\\nIcecream vs Shark Attacks:\\t\", np.round(np.mean(resids_ice_shark), 10))"
   ]
  },
  {
   "cell_type": "markdown",
   "metadata": {
    "slideshow": {
     "slide_type": "subslide"
    }
   },
   "source": [
    "What about the standard deviation?  Which do we expect has a higher SD, the residual plot for Ice Cream and Fudge or for Ice Cream and Sharks?"
   ]
  },
  {
   "cell_type": "code",
   "execution_count": null,
   "metadata": {
    "slideshow": {
     "slide_type": "fragment"
    }
   },
   "outputs": [],
   "source": [
    "np.std(resids_ice_fudge), np.std(resids_ice_shark)"
   ]
  },
  {
   "cell_type": "code",
   "execution_count": null,
   "metadata": {
    "slideshow": {
     "slide_type": "fragment"
    }
   },
   "outputs": [],
   "source": [
    "# Why is this the case?"
   ]
  },
  {
   "cell_type": "markdown",
   "metadata": {
    "slideshow": {
     "slide_type": "slide"
    }
   },
   "source": [
    "# Ice Cream &Rightarrow; Shark Attacks?\n",
    "---\n",
    "\n",
    "Well, we've done it!  We've figured out that there's a very strong positive correlation between ice cream sales and shark attacks.  Does this mean that ice cream sales cause increased shark attacks?"
   ]
  },
  {
   "cell_type": "code",
   "execution_count": null,
   "metadata": {
    "slideshow": {
     "slide_type": "subslide"
    }
   },
   "outputs": [],
   "source": [
    "# Does the strong correlation imply that Ice Cream Sales causes increase shark attacks?"
   ]
  },
  {
   "cell_type": "markdown",
   "metadata": {
    "slideshow": {
     "slide_type": "slide"
    }
   },
   "source": [
    "# Bootstrapping For Regression\n",
    "\n",
    "We use bootstrapping in regression for two reasons:\n",
    "1. To determine if a correlation is significant\n",
    "2. To determine what range of values could be predicted given an input"
   ]
  },
  {
   "cell_type": "markdown",
   "metadata": {
    "slideshow": {
     "slide_type": "subslide"
    }
   },
   "source": [
    "## 1. Determine if a Correlation is Significant"
   ]
  },
  {
   "cell_type": "code",
   "execution_count": null,
   "metadata": {
    "slideshow": {
     "slide_type": "subslide"
    }
   },
   "outputs": [],
   "source": [
    "# Ice Cream vs Fudge\n",
    "\n",
    "correlations = make_array()\n",
    "for i in range(10000):\n",
    "    indexes = np.random.choice(len(ice), len(ice))\n",
    "    \n",
    "    bootstrap_ice_su = standard_units(ice[indexes])\n",
    "    bootstrap_fudge_su = standard_units(fudge[indexes])\n",
    "    \n",
    "    correlations = np.append(correlations, np.mean(bootstrap_ice_su * bootstrap_fudge_su))"
   ]
  },
  {
   "cell_type": "code",
   "execution_count": null,
   "metadata": {
    "slideshow": {
     "slide_type": "fragment"
    }
   },
   "outputs": [],
   "source": [
    "percentile(2.5, correlations), percentile(97.5, correlations)"
   ]
  },
  {
   "cell_type": "code",
   "execution_count": null,
   "metadata": {
    "slideshow": {
     "slide_type": "subslide"
    }
   },
   "outputs": [],
   "source": [
    "# Ice Cream vs Shark Attacks\n",
    "\n",
    "correlations = make_array()\n",
    "for i in range(10000):\n",
    "    indexes = np.random.choice(len(ice), len(ice))\n",
    "    \n",
    "    bootstrap_ice_su = standard_units(ice[indexes])\n",
    "    bootstrap_shark_su = standard_units(shark[indexes])\n",
    "    \n",
    "    correlations = np.append(correlations, np.mean(bootstrap_ice_su * bootstrap_shark_su))"
   ]
  },
  {
   "cell_type": "code",
   "execution_count": null,
   "metadata": {
    "slideshow": {
     "slide_type": "fragment"
    }
   },
   "outputs": [],
   "source": [
    "percentile(2.5, correlations), percentile(97.5, correlations)"
   ]
  },
  {
   "cell_type": "markdown",
   "metadata": {
    "slideshow": {
     "slide_type": "subslide"
    }
   },
   "source": [
    "## 2. Determine the range of predictions for an input"
   ]
  },
  {
   "cell_type": "code",
   "execution_count": null,
   "metadata": {
    "slideshow": {
     "slide_type": "subslide"
    }
   },
   "outputs": [],
   "source": [
    "preds = make_array()\n",
    "for i in range(10):\n",
    "    indexes = np.random.choice(len(ice), len(ice))\n",
    "\n",
    "    bootstrap_ice_su = standard_units(ice[indexes])\n",
    "    bootstrap_shark_su = standard_units(shark[indexes])\n",
    "    \n",
    "    r = np.mean(bootstrap_ice_su * bootstrap_shark_su)\n",
    "    slope = r * np.std(shark[indexes]) / np.std(ice[indexes])\n",
    "    intercept = np.mean(shark[indexes]) - slope * np.mean(ice[indexes])\n",
    "\n",
    "    preds = np.append(preds, slope * 100 + intercept)"
   ]
  },
  {
   "cell_type": "code",
   "execution_count": null,
   "metadata": {
    "slideshow": {
     "slide_type": "fragment"
    }
   },
   "outputs": [],
   "source": [
    "percentile(2.5, preds), percentile(97.5, preds)"
   ]
  },
  {
   "cell_type": "markdown",
   "metadata": {
    "slideshow": {
     "slide_type": "slide"
    }
   },
   "source": [
    "# Bonus!\n",
    "---\n",
    "In addition to the correlation coefficient, $r$, there is also a *\"coefficient of determination\"*, $r^2$, which is defined as:\n",
    "> The proportion of the variance in the dependent variable that explained by the best-fit line.\n",
    "\n",
    "Let's interpret it in terms of Ice Cream Sales and Shark Attacks!"
   ]
  },
  {
   "cell_type": "code",
   "execution_count": null,
   "metadata": {
    "slideshow": {
     "slide_type": "fragment"
    }
   },
   "outputs": [],
   "source": [
    "# Interpret (in words) the coefficient of determination\n",
    "\n",
    "r2 = r**2\n",
    "r2"
   ]
  },
  {
   "cell_type": "markdown",
   "metadata": {
    "slideshow": {
     "slide_type": "fragment"
    }
   },
   "source": [
    "```\n",
    "The best-fit line explains 96% of the variation in the number of Shark Attacks.\n",
    "```"
   ]
  },
  {
   "cell_type": "markdown",
   "metadata": {
    "slideshow": {
     "slide_type": "slide"
    }
   },
   "source": [
    "# Thank you for a great quarter!\n",
    "### TA Evaluations are open"
   ]
  }
 ],
 "metadata": {
  "celltoolbar": "Slideshow",
  "kernelspec": {
   "display_name": "Python 3",
   "language": "python",
   "name": "python3"
  },
  "language_info": {
   "codemirror_mode": {
    "name": "ipython",
    "version": 3
   },
   "file_extension": ".py",
   "mimetype": "text/x-python",
   "name": "python",
   "nbconvert_exporter": "python",
   "pygments_lexer": "ipython3",
   "version": "3.6.7"
  }
 },
 "nbformat": 4,
 "nbformat_minor": 2
}
