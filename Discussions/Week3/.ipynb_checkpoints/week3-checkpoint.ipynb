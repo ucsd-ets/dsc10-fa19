{
 "cells": [
  {
   "cell_type": "code",
   "execution_count": null,
   "metadata": {
    "slideshow": {
     "slide_type": "skip"
    }
   },
   "outputs": [],
   "source": [
    "from datascience import *\n",
    "import numpy as np\n",
    "from notebook.services.config import ConfigManager\n",
    "import seaborn as sns\n",
    "import matplotlib.pyplot as plt\n",
    "%matplotlib inline\n",
    "\n",
    "cm = ConfigManager()\n",
    "cm.update(\n",
    "    \"livereveal\", {\n",
    "        \"width\": \"90%\",\n",
    "        \"height\": \"70%\",\n",
    "        \"scroll\": True,\n",
    "})"
   ]
  },
  {
   "cell_type": "markdown",
   "metadata": {
    "slideshow": {
     "slide_type": "slide"
    }
   },
   "source": [
    "# DSC 10 Discussion Week 3\n",
    "---\n",
    "Kyle Vigil"
   ]
  },
  {
   "cell_type": "markdown",
   "metadata": {
    "slideshow": {
     "slide_type": "slide"
    }
   },
   "source": [
    "# What have we learned so far?\n",
    "---\n",
    "\n",
    "1. Python\n",
    "  - Assigning variables\n",
    "  - Working with data types\n",
    "  - Calling functions\n",
    "  - Defining functions\n",
    "  - If... elif... else...\n",
    "  - For i in np.arange...\n",
    "2. Arrays\n",
    "  - Creating arrays (same type!)\n",
    "  - Operations between arrays (add, mult)\n",
    "  - Adding elements to arrays (using np.append)\n",
    "3. Tables\n",
    "  - Reading tables\n",
    "  - Creating new tables\n",
    "  - Grabbing data from columns\n",
    "  - Creating a copy with additional columns\n",
    "  - Creating a copy with only certain columns\n",
    "  - Creating a copy with only certain rows\n",
    "  - Creating a copy with rows grouped on a column and a collection function\n",
    "4. Plots\n",
    "  - Creating bar charts from 'category' and 'y' columns\n",
    "  - Creating scatter plots and line plots from 'x' and 'y' columns\n",
    "  - Creating histograms to count occurrences/density\n",
    "5. Functions\n",
    "  - Calling functions\n",
    "  - Creating our own functions"
   ]
  },
  {
   "cell_type": "markdown",
   "metadata": {
    "slideshow": {
     "slide_type": "subslide"
    }
   },
   "source": [
    "# Any questions about recent things in class?\n",
    "---\n",
    "\n",
    "We don't necessarily need to get through this entire notebook, you can treat it more as a practice test that we're doing together.\n",
    "\n",
    "What's most important is that we're all solid on the information covered in lecture, that way we can figure out how to apply it to various datasets and find answers to questions!\n",
    "\n",
    "Anything and everything that you're unclear about, ask about it now!  No need to be shy, there are definitely others worried about the same thing."
   ]
  },
  {
   "cell_type": "markdown",
   "metadata": {
    "slideshow": {
     "slide_type": "subslide"
    }
   },
   "source": [
    "# Ultimate Halloween Candy Showdown\n",
    "---\n",
    "269,000 user submitted winners of head to head candy matchups"
   ]
  },
  {
   "cell_type": "code",
   "execution_count": null,
   "metadata": {
    "slideshow": {
     "slide_type": "fragment"
    }
   },
   "outputs": [],
   "source": [
    "candy = Table.read_table(\"data/candy.csv\")\n",
    "for col in [\"chocolate\", \"fruity\", \"caramel\", \"peanutyalmondy\", \"nougat\", \"crispedricewafer\", \"hard\", \"bar\", \"pluribus\"]:\n",
    "    candy = candy.with_column(col, candy.column(col).astype(bool))\n",
    "candy"
   ]
  },
  {
   "cell_type": "code",
   "execution_count": null,
   "metadata": {
    "scrolled": false,
    "slideshow": {
     "slide_type": "subslide"
    }
   },
   "outputs": [],
   "source": [
    "candy = candy.sort(\"winpercent\", descending=True)\n",
    "plt.figure(figsize=(20,8))\n",
    "sns.barplot(candy.column(\"competitorname\"), candy.column(\"winpercent\"))\n",
    "plt.xticks(rotation=\"vertical\");"
   ]
  },
  {
   "cell_type": "markdown",
   "metadata": {
    "slideshow": {
     "slide_type": "subslide"
    }
   },
   "source": [
    "## Lets use group and plotting to analyze the data\n",
    "\n",
    "* Group will show us aggregated data about groups of the data (ex. average score of chocolate candy vs. non chocolate candy)\n",
    "* Plotting will give us visual insights to the data"
   ]
  },
  {
   "cell_type": "markdown",
   "metadata": {
    "slideshow": {
     "slide_type": "subslide"
    }
   },
   "source": [
    "### Grouping"
   ]
  },
  {
   "cell_type": "code",
   "execution_count": null,
   "metadata": {
    "slideshow": {
     "slide_type": "fragment"
    }
   },
   "outputs": [],
   "source": [
    "# Interpret the meaning of the output generated from:\n",
    "candy.group(\"chocolate\")"
   ]
  },
  {
   "cell_type": "code",
   "execution_count": null,
   "metadata": {
    "scrolled": true,
    "slideshow": {
     "slide_type": "fragment"
    }
   },
   "outputs": [],
   "source": [
    "# Interpret the meaning of the output generated from:\n",
    "candy.group(\"chocolate\", np.mean)"
   ]
  },
  {
   "cell_type": "code",
   "execution_count": null,
   "metadata": {
    "slideshow": {
     "slide_type": "fragment"
    }
   },
   "outputs": [],
   "source": [
    "# How does that compare to this output? What changes?\n",
    "candy.group(\"chocolate\", max)"
   ]
  },
  {
   "cell_type": "code",
   "execution_count": null,
   "metadata": {
    "slideshow": {
     "slide_type": "subslide"
    }
   },
   "outputs": [],
   "source": [
    "# What is different about this statement? How many rows do you expect?\n",
    "candy.group([\"chocolate\", \"caramel\",\"fruity\",\"nougat\"], np.mean)"
   ]
  },
  {
   "cell_type": "markdown",
   "metadata": {
    "slideshow": {
     "slide_type": "subslide"
    }
   },
   "source": [
    "### Plotting"
   ]
  },
  {
   "cell_type": "code",
   "execution_count": null,
   "metadata": {
    "slideshow": {
     "slide_type": "fragment"
    }
   },
   "outputs": [],
   "source": [
    "# Create a histogram of the winpercentages"
   ]
  },
  {
   "cell_type": "code",
   "execution_count": null,
   "metadata": {
    "slideshow": {
     "slide_type": "fragment"
    }
   },
   "outputs": [],
   "source": [
    "# See if price percentage has an effect on win percentage. What type of graph can we use for this?"
   ]
  },
  {
   "cell_type": "code",
   "execution_count": null,
   "metadata": {
    "slideshow": {
     "slide_type": "subslide"
    }
   },
   "outputs": [],
   "source": [
    "# What type of graph should we use for plotting fruity vs non fruity average win percentage?"
   ]
  },
  {
   "cell_type": "markdown",
   "metadata": {
    "slideshow": {
     "slide_type": "slide"
    }
   },
   "source": [
    "# Functions and Apply\n",
    "---\n",
    "\n",
    "Review: How do you make a function to lowercase a string and then add \" <- this is now lowercase\" to the end? "
   ]
  },
  {
   "cell_type": "code",
   "execution_count": null,
   "metadata": {
    "slideshow": {
     "slide_type": "fragment"
    }
   },
   "outputs": [],
   "source": [
    "def lowercase(string):\n",
    "    pass\n",
    "\n",
    "lowercase(\"sTrInG\")"
   ]
  },
  {
   "cell_type": "markdown",
   "metadata": {
    "slideshow": {
     "slide_type": "subslide"
    }
   },
   "source": [
    "We can use functions to clean up messy data. A good example of messy data comes from a column of user inputted data"
   ]
  },
  {
   "cell_type": "code",
   "execution_count": null,
   "metadata": {
    "slideshow": {
     "slide_type": "subslide"
    }
   },
   "outputs": [],
   "source": [
    "survey_responses = Table().with_columns({\n",
    "    \"name\": [\"Kyle\", \"Meghan\", \"Taylor\", \"Tyler\", \"Josh\", \" Chad\"],\n",
    "    \"fav_food\": [\"Pizza\", \"pizza\", \"turkey sandwich\", \"pepperoni pizza\", \"Pepperoni Pizza\", \"ham sandwich\"], \n",
    "    \"phone\": [\"123-456-7890\", \"(123) 456-7890\", \"1234567890\", \"(123)4567890\", \"123 456 7890\", \"(123)456-7890\"]\n",
    "})\n",
    "survey_responses"
   ]
  },
  {
   "cell_type": "markdown",
   "metadata": {
    "slideshow": {
     "slide_type": "fragment"
    }
   },
   "source": [
    "This table has difficult to access and analyze data. We can use our own functions and apply to clean it up.\n",
    "\n",
    "1. clean up fav_food by making it lowercase and only the last word of the input\n",
    "\n",
    "2. clean up the phone number by making it a string with only 10 digits in it (what about storing it as an int?)"
   ]
  },
  {
   "cell_type": "code",
   "execution_count": null,
   "metadata": {
    "slideshow": {
     "slide_type": "subslide"
    }
   },
   "outputs": [],
   "source": [
    "# Make a function to clean up one entry of fav_food (lowercase and only last word)\n",
    "def clean_fav_food(string):\n",
    "     pass\n",
    "    \n",
    "clean_fav_food(\"this is a test\")"
   ]
  },
  {
   "cell_type": "code",
   "execution_count": null,
   "metadata": {},
   "outputs": [],
   "source": [
    "survey_responses"
   ]
  },
  {
   "cell_type": "code",
   "execution_count": null,
   "metadata": {
    "slideshow": {
     "slide_type": "fragment"
    }
   },
   "outputs": [],
   "source": [
    "# apply this function to the fav_food column\n",
    "survey_responses = survey_responses.with_column(\"fav_food\", survey_responses.apply(clean_fav_food, 'fav_food'))"
   ]
  },
  {
   "cell_type": "code",
   "execution_count": null,
   "metadata": {
    "slideshow": {
     "slide_type": "notes"
    }
   },
   "outputs": [],
   "source": [
    "# apply this function to the fav_food column\n",
    "survey_responses = survey_responses.with_column(\"fav_food\", survey_responses.apply(clean_fav_food, \"fav_food\"))\n",
    "survey_responses"
   ]
  },
  {
   "cell_type": "code",
   "execution_count": null,
   "metadata": {
    "slideshow": {
     "slide_type": "subslide"
    }
   },
   "outputs": [],
   "source": [
    "# Make a function to clean up one entry of phone (10 digit string)\n",
    "def clean_phone(phone):\n",
    "    pass\n",
    "    \n",
    "clean_phone(\"(123)456-7890\")"
   ]
  },
  {
   "cell_type": "code",
   "execution_count": null,
   "metadata": {
    "slideshow": {
     "slide_type": "fragment"
    }
   },
   "outputs": [],
   "source": [
    "# apply this function to the phone column\n",
    "survey_responses = survey_responses.with_column(\"phone\", survey_responses.apply(clean_phone, \"phone\"))\n",
    "survey_responses"
   ]
  },
  {
   "cell_type": "markdown",
   "metadata": {
    "slideshow": {
     "slide_type": "fragment"
    }
   },
   "source": [
    "## Our dataset is now clean and ready for analysis!"
   ]
  },
  {
   "cell_type": "markdown",
   "metadata": {
    "slideshow": {
     "slide_type": "slide"
    }
   },
   "source": [
    "# More Practice! Today's Dataset:\n",
    "---\n",
    "\n",
    "From kaggle user Randi H Griffin:\n",
    ">This is a historical dataset on the modern Olympic Games, including all the Games from Athens 1896 to Rio 2016. I scraped this data from www.sports-reference.com in May 2018. The R code I used to scrape and wrangle the data is on GitHub. I recommend checking my kernel before starting your own analysis.\n",
    ">\n",
    ">Note that the Winter and Summer Games were held in the same year up until 1992. After that, they staggered them such that Winter Games occur on a four year cycle starting with 1994, then Summer in 1996, then Winter in 1998, and so on. A common mistake people make when analyzing this data is to assume that the Summer and Winter Games have always been staggered.\n",
    ">\n",
    ">The file athlete_events.csv contains 271116 rows and 15 columns. Each row corresponds to an individual athlete competing in an individual Olympic event (athlete-events). The columns are:\n",
    ">\n",
    ">1. ID - Unique number for each athlete  \n",
    ">2. Name - Athlete's name  \n",
    ">3. Sex - M or F  \n",
    ">4. Age - Integer  \n",
    ">5. Height - In centimeters  \n",
    ">6. Weight - In kilograms  \n",
    ">7. Team - Team name  \n",
    ">8. NOC - National Olympic Committee 3-letter code  \n",
    ">9. Games - Year and season  \n",
    ">10. Year - Integer  \n",
    ">11. Season - Summer or Winter  \n",
    ">12. City - Host city  \n",
    ">13. Sport - Sport  \n",
    ">14. Event - Event  \n",
    ">15. Medal - Gold, Silver, Bronze, or NA  \n"
   ]
  },
  {
   "cell_type": "code",
   "execution_count": null,
   "metadata": {
    "slideshow": {
     "slide_type": "subslide"
    }
   },
   "outputs": [],
   "source": [
    "data = Table.read_table(\"data/athlete_events.csv\")\n",
    "data"
   ]
  },
  {
   "cell_type": "markdown",
   "metadata": {
    "slideshow": {
     "slide_type": "subslide"
    }
   },
   "source": [
    "Since the olympics didn't stagger the winter and summer games until 1992, let's look at only years after 1992."
   ]
  },
  {
   "cell_type": "code",
   "execution_count": null,
   "metadata": {
    "slideshow": {
     "slide_type": "fragment"
    }
   },
   "outputs": [],
   "source": [
    "data = data.where(\"Year\", are.above(1992))\n",
    "data"
   ]
  },
  {
   "cell_type": "markdown",
   "metadata": {
    "slideshow": {
     "slide_type": "subslide"
    }
   },
   "source": [
    "Alright.  We got rid of a lot data (and notice that we got rid of many of Christine Jacoba Aaftink's games), but it should be more manageable now.\n",
    "\n",
    "Also, while we're at it, let's ignore rows with \"mismatched\" values.  You don't *need* to know how this next code block works, but feel free to follow along."
   ]
  },
  {
   "cell_type": "code",
   "execution_count": null,
   "metadata": {
    "slideshow": {
     "slide_type": "fragment"
    }
   },
   "outputs": [],
   "source": [
    "nans = np.argwhere(np.isnan(data.column(\"Age\")) | np.isnan(data.column(\"Height\")) | np.isnan(data.column(\"Weight\")))\n",
    "data.take(nans[:3]).show() # This line is just to show us what these mismatched rows look like\n",
    "print(\"We're getting rid of rows like these!\")\n",
    "data = data.exclude(nans.flatten())"
   ]
  },
  {
   "cell_type": "markdown",
   "metadata": {
    "slideshow": {
     "slide_type": "slide"
    }
   },
   "source": [
    "# Interesting Analysis\n",
    "---\n",
    "1. Average age of medal winners.\n",
    "    - Does this change for males and females?\n",
    "    - min/max age of medal winners?\n",
    "        - find their entries\n",
    "2. Sports with the tallest/heaviest/oldest participants?\n",
    "3. Count of sport season by team country.\n",
    "4. Plot age by year, possibly split by sex."
   ]
  },
  {
   "cell_type": "code",
   "execution_count": null,
   "metadata": {
    "slideshow": {
     "slide_type": "fragment"
    }
   },
   "outputs": [],
   "source": [
    "# Warmup: Find the events with the heaviest average competitor weight. \n",
    "# Extra credit: can you guess what events these would be before we find them?"
   ]
  },
  {
   "cell_type": "markdown",
   "metadata": {
    "slideshow": {
     "slide_type": "subslide"
    }
   },
   "source": [
    "# Repeat Participants vs One-Timers\n",
    "---\n",
    "\n",
    "Who showed up multiple times?  Who only showed up once?\n",
    "\n",
    "Can we get a table of just those people and their data?"
   ]
  },
  {
   "cell_type": "code",
   "execution_count": null,
   "metadata": {
    "slideshow": {
     "slide_type": "subslide"
    }
   },
   "outputs": [],
   "source": [
    "# Let's get how many times each person was in the dataset\n",
    "counts = ...\n",
    "counts"
   ]
  },
  {
   "cell_type": "code",
   "execution_count": null,
   "metadata": {
    "slideshow": {
     "slide_type": "fragment"
    }
   },
   "outputs": [],
   "source": [
    "# How to get just the names that have count > 1?\n",
    "repeat_names = ..."
   ]
  },
  {
   "cell_type": "markdown",
   "metadata": {
    "slideshow": {
     "slide_type": "subslide"
    }
   },
   "source": [
    "And now we want just the data of people who were repeat participants."
   ]
  },
  {
   "cell_type": "code",
   "execution_count": null,
   "metadata": {
    "slideshow": {
     "slide_type": "fragment"
    }
   },
   "outputs": [],
   "source": [
    "# Now as simple as using a .where() statement\n",
    "repeats = ...\n",
    "repeats"
   ]
  },
  {
   "cell_type": "markdown",
   "metadata": {
    "slideshow": {
     "slide_type": "subslide"
    }
   },
   "source": [
    "# Beginning Age --> Repeat or One-Timer?\n",
    "---\n",
    "\n",
    "Can we tell if you'll participate in the Olympics again based on your age?"
   ]
  },
  {
   "cell_type": "code",
   "execution_count": null,
   "metadata": {
    "slideshow": {
     "slide_type": "fragment"
    }
   },
   "outputs": [],
   "source": [
    "# If someone showed up multiple times they were probability pretty young at their first olympics, right?\n",
    "# Let's find the avg min age of these repeat participants, and compare it to avg age of one-time participants\n",
    "onetimes = data.where(\"Name\", are.not_contained_in(repeat_names))"
   ]
  },
  {
   "cell_type": "code",
   "execution_count": null,
   "metadata": {
    "slideshow": {
     "slide_type": "fragment"
    }
   },
   "outputs": [],
   "source": [
    "# How will we take avg of min ages for all participants?\n",
    "# Well, by grouping of course!\n",
    "# Let's only select the columns we need\n",
    "min_ages_repeats = repeats.select(\"Name\", \"Age\").group(\"Name\", min)\n",
    "\n",
    "# Why don't we need to do any of that here?\n",
    "ages_onetimes = onetimes.select(\"Name\", \"Age\")\n",
    "\n",
    "min_ages_repeats"
   ]
  },
  {
   "cell_type": "code",
   "execution_count": null,
   "metadata": {
    "slideshow": {
     "slide_type": "fragment"
    }
   },
   "outputs": [],
   "source": [
    "# Now as simple as comparing the means of the Age columns in the two tables\n",
    "avg_min_age_repeats = np.mean(min_ages_repeats.column(\"Age min\"))\n",
    "avg_ages_onetimes = np.mean(ages_onetimes.column(\"Age\"))\n",
    "\n",
    "print(\"Average Beginning Age of Repeat Participants:\", avg_min_age_repeats)\n",
    "print(\"Average Age of One-Time Participants:\", avg_ages_onetimes)"
   ]
  },
  {
   "cell_type": "markdown",
   "metadata": {
    "slideshow": {
     "slide_type": "slide"
    }
   },
   "source": [
    "# Age distributions\n",
    "---"
   ]
  },
  {
   "cell_type": "code",
   "execution_count": null,
   "metadata": {
    "slideshow": {
     "slide_type": "subslide"
    }
   },
   "outputs": [],
   "source": [
    "# Hmm... not as different as I would have expected.\n",
    "\n",
    "# Let's plot the ditributions to look into this further\n",
    "\n",
    "min_ages_repeats.hist(\"Age min\")"
   ]
  },
  {
   "cell_type": "code",
   "execution_count": null,
   "metadata": {
    "slideshow": {
     "slide_type": "subslide"
    }
   },
   "outputs": [],
   "source": [
    "ages_onetimes.hist(\"Age\")"
   ]
  },
  {
   "cell_type": "code",
   "execution_count": null,
   "metadata": {
    "slideshow": {
     "slide_type": "subslide"
    }
   },
   "outputs": [],
   "source": [
    "# Don't worry about these next code blocks, just focus on the histograms they create\n",
    "import matplotlib.pyplot as plt"
   ]
  },
  {
   "cell_type": "code",
   "execution_count": null,
   "metadata": {
    "slideshow": {
     "slide_type": "fragment"
    }
   },
   "outputs": [],
   "source": [
    "plt.hist(\n",
    "    [min_ages_repeats.column(\"Age min\"), ages_onetimes.column(\"Age\")],\n",
    "    bins=np.arange(10, 70, 5),\n",
    "    density=True,\n",
    "    histtype=\"stepfilled\", alpha=0.6\n",
    ")\n",
    "plt.legend([\"one time\",\"repeat\"]);"
   ]
  },
  {
   "cell_type": "markdown",
   "metadata": {
    "slideshow": {
     "slide_type": "subslide"
    }
   },
   "source": [
    "What percent of repeats/one-timers are 20-25?\n",
    "\n",
    "Let's recall the axis label *\"percent per unit\"*\n",
    "\n",
    "**Unit = Bin Size**\n",
    "\n",
    "Then, there's some math\n",
    "$$\"percent\\ per\\ unit\"=\\frac{percent}{bin\\_size}$$\n",
    "\n",
    "$$\"percent\\ per\\ unit\" *\\ bin\\_size=percent$$"
   ]
  },
  {
   "cell_type": "code",
   "execution_count": null,
   "metadata": {
    "slideshow": {
     "slide_type": "fragment"
    }
   },
   "outputs": [],
   "source": [
    "# So, the percent of repeats that were 20-25 at their first game is:\n",
    "\n"
   ]
  },
  {
   "cell_type": "code",
   "execution_count": null,
   "metadata": {
    "slideshow": {
     "slide_type": "fragment"
    }
   },
   "outputs": [],
   "source": [
    "# And the percent of one-timers that were 20-25 is:\n",
    "\n"
   ]
  },
  {
   "cell_type": "markdown",
   "metadata": {
    "slideshow": {
     "slide_type": "subslide"
    }
   },
   "source": [
    "But what are those percents out of?"
   ]
  },
  {
   "cell_type": "code",
   "execution_count": null,
   "metadata": {
    "slideshow": {
     "slide_type": "fragment"
    }
   },
   "outputs": [],
   "source": [
    "# The percent of repeats is out of:\n",
    "\"\"\"\n",
    "\n",
    "\"\"\"\n",
    "\n",
    "# The percent of one-timers is out of:\n",
    "\"\"\"\n",
    "\n",
    "\"\"\""
   ]
  },
  {
   "cell_type": "markdown",
   "metadata": {
    "slideshow": {
     "slide_type": "subslide"
    }
   },
   "source": [
    "So how would we find the *number* of repeats between 20-25 at their first game versus the *number* of one-timers between 20-25?"
   ]
  },
  {
   "cell_type": "code",
   "execution_count": null,
   "metadata": {
    "slideshow": {
     "slide_type": "fragment"
    }
   },
   "outputs": [],
   "source": [
    "# To turn percent into a count we:\n",
    "\"\"\"\n",
    "\n",
    "\"\"\""
   ]
  },
  {
   "cell_type": "code",
   "execution_count": null,
   "metadata": {
    "slideshow": {
     "slide_type": "fragment"
    }
   },
   "outputs": [],
   "source": [
    "# Some code to get the \"population sizes\" of `min_ages_repeats` and `ages_onetimes`\n",
    "# and multiply by the proportion\n",
    "num_repeats_2025 = min_ages_repeats.num_rows *\n",
    "num_onetimes_2025 = ages_onetimes.num_rows *\n",
    "\n",
    "print(num_repeats_2025, num_onetimes_2025)"
   ]
  },
  {
   "cell_type": "markdown",
   "metadata": {
    "slideshow": {
     "slide_type": "subslide"
    }
   },
   "source": [
    "Let's instead take a look at the count histogram."
   ]
  },
  {
   "cell_type": "code",
   "execution_count": null,
   "metadata": {
    "slideshow": {
     "slide_type": "fragment"
    }
   },
   "outputs": [],
   "source": [
    "plt.hist(\n",
    "    [min_ages_repeats.column(\"Age min\"), ages_onetimes.column(\"Age\")],\n",
    "    bins=np.arange(10, 70, 5),\n",
    "    density=False,\n",
    "    histtype=\"stepfilled\", alpha=0.6\n",
    ");"
   ]
  },
  {
   "cell_type": "markdown",
   "metadata": {
    "slideshow": {
     "slide_type": "subslide"
    }
   },
   "source": [
    "So, if you're 20-25, are you more likely to be a repeat or a one-timer?\n",
    "\n",
    "How do you know this, and why might it be the case?"
   ]
  },
  {
   "cell_type": "code",
   "execution_count": null,
   "metadata": {
    "slideshow": {
     "slide_type": "fragment"
    }
   },
   "outputs": [],
   "source": [
    "# Our answer goes here\n",
    "\"\"\"\n",
    "\n",
    "\"\"\""
   ]
  }
 ],
 "metadata": {
  "celltoolbar": "Slideshow",
  "kernelspec": {
   "display_name": "Python 3",
   "language": "python",
   "name": "python3"
  },
  "language_info": {
   "codemirror_mode": {
    "name": "ipython",
    "version": 3
   },
   "file_extension": ".py",
   "mimetype": "text/x-python",
   "name": "python",
   "nbconvert_exporter": "python",
   "pygments_lexer": "ipython3",
   "version": "3.6.7"
  }
 },
 "nbformat": 4,
 "nbformat_minor": 2
}
