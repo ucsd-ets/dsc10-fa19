{
 "cells": [
  {
   "cell_type": "markdown",
   "metadata": {},
   "source": [
    "# Programming basics week 5"
   ]
  },
  {
   "cell_type": "markdown",
   "metadata": {},
   "source": [
    " ## Python Visualizer\n",
    "[http://pythontutor.com/visualize.html#mode=edit](http://pythontutor.com/visualize.html#mode=edit)\n",
    "\n",
    "Check out this tool if you want to visualize how Python executes your code line by line."
   ]
  },
  {
   "cell_type": "code",
   "execution_count": null,
   "metadata": {},
   "outputs": [],
   "source": [
    "# run this cell!\n",
    "from datascience import *\n",
    "import numpy as np"
   ]
  },
  {
   "cell_type": "markdown",
   "metadata": {},
   "source": [
    "This week we’ll review what we have learned for the past 4 weeks. These problems will be a bit more challenging."
   ]
  },
  {
   "cell_type": "markdown",
   "metadata": {},
   "source": [
    "    1. Define a function called ‘palindrome’ that determines if an input string is a palindrome. A string is a palindrome if it is the same forwards and backwards. \n"
   ]
  },
  {
   "cell_type": "markdown",
   "metadata": {},
   "source": [
    "Ex.) “racecar” would return True\n",
    "“truck” would return False\n"
   ]
  },
  {
   "cell_type": "code",
   "execution_count": null,
   "metadata": {},
   "outputs": [],
   "source": []
  },
  {
   "cell_type": "markdown",
   "metadata": {},
   "source": [
    "    2. Define a function called ‘catdog’ that returns True if the number of times that ‘cat’ appears in an input string is equal to the number of times ‘dog’ appears. The function returns False otherwise.\n"
   ]
  },
  {
   "cell_type": "markdown",
   "metadata": {},
   "source": [
    "Ex.) “cats and dogs or dogs and cats?” would return True\n",
    "\n",
    "“doggy dogs and kitty cats” would return False.\n"
   ]
  },
  {
   "cell_type": "code",
   "execution_count": null,
   "metadata": {},
   "outputs": [],
   "source": []
  },
  {
   "cell_type": "markdown",
   "metadata": {},
   "source": [
    "3. What does this function do?"
   ]
  },
  {
   "cell_type": "code",
   "execution_count": null,
   "metadata": {},
   "outputs": [],
   "source": [
    "def mystery (numbers, target) :\n",
    "    for i in np.arange(len(numbers) - 1):\n",
    "        for j in np.arange(1, len(numbers)):\n",
    "            if numbers.item(i) + numbers.item(j) == target:\n",
    "                return make_array(i, j)\n"
   ]
  },
  {
   "cell_type": "markdown",
   "metadata": {},
   "source": [
    "    4. Define a function called ‘sum89’ that takes an array of integers and returns the sum of them except for any section of the array that starts with 8 and ends with 9. Assume that if the array has an 8, there will always be a 9 somewhere after. If there are multiple 9’s then only exclude the first 9 from the final sum.\n"
   ]
  },
  {
   "cell_type": "markdown",
   "metadata": {},
   "source": [
    "Ex.) sum89 (make_array (2, 3, 4, 8, 54, 85, 72, 9, 10)) returns 19\n",
    "\n",
    "\tsum89 (make_array(1, 2, 3, 8, 9, 9, 9)) returns 24\n"
   ]
  },
  {
   "cell_type": "code",
   "execution_count": null,
   "metadata": {},
   "outputs": [],
   "source": []
  },
  {
   "cell_type": "markdown",
   "metadata": {},
   "source": [
    "    5. Define a function called ‘has44’ that takes an array of integers and returns True if anywhere in the array, there is a 4 followed directly by another 4.\n"
   ]
  },
  {
   "cell_type": "markdown",
   "metadata": {},
   "source": [
    "Ex.) has44 (make_array(4, 2, 3, 4)) returns False\n",
    "\thas44 (make_array(1, 2, 5, 4, 4, 4)) returns True\n"
   ]
  },
  {
   "cell_type": "code",
   "execution_count": null,
   "metadata": {},
   "outputs": [],
   "source": []
  }
 ],
 "metadata": {
  "kernelspec": {
   "display_name": "Python 3",
   "language": "python",
   "name": "python3"
  },
  "language_info": {
   "codemirror_mode": {
    "name": "ipython",
    "version": 3
   },
   "file_extension": ".py",
   "mimetype": "text/x-python",
   "name": "python",
   "nbconvert_exporter": "python",
   "pygments_lexer": "ipython3",
   "version": "3.6.7"
  }
 },
 "nbformat": 4,
 "nbformat_minor": 2
}
